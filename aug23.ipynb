{
 "cells": [
  {
   "cell_type": "code",
   "execution_count": 1,
   "metadata": {},
   "outputs": [],
   "source": [
    "import matplotlib.pyplot as plt\n",
    "import matplotlib as mpl\n",
    "import matplotlib.patches as mpatches\n",
    "import numpy as np\n",
    "import pandas as pd\n",
    "import cvxpy as cp\n",
    "from scipy.stats import poisson, uniform, expon, pareto\n",
    "from scipy.optimize import minimize, fsolve\n",
    "from tqdm import tqdm\n",
    "from mdptoolbox import mdp, util\n",
    "import itertools\n",
    "from scipy.sparse import csr_matrix, lil_matrix\n",
    "from matplotlib.patches import Patch\n",
    "import math\n",
    "import random\n",
    "import sympy as sp\n",
    "from sympy.printing.latex import print_latex"
   ]
  },
  {
   "cell_type": "markdown",
   "metadata": {},
   "source": [
    "# tullock alpha < 1"
   ]
  },
  {
   "cell_type": "code",
   "execution_count": 151,
   "metadata": {},
   "outputs": [
    {
     "data": {
      "text/latex": [
       "$\\displaystyle \\frac{b_{2}^{0.5} v_{2}}{b_{1}^{0.5} + b_{2}^{0.5}} - b_{2}$"
      ],
      "text/plain": [
       "b_2**0.5*v_2/(b_1**0.5 + b_2**0.5) - b_2"
      ]
     },
     "execution_count": 151,
     "metadata": {},
     "output_type": "execute_result"
    }
   ],
   "source": [
    "b1, b2, v1, v2 = sp.symbols('b_1 b_2 v_1 v_2')\n",
    "\n",
    "a = 1/2\n",
    "\n",
    "x1 = b1**a / (b1**a + b2**a)\n",
    "x2 = b2**a / (b1**a + b2**a)\n",
    "\n",
    "u1 = v1 * x1 - b1\n",
    "u2 = v2 * x2 - b2\n",
    "u2"
   ]
  },
  {
   "cell_type": "code",
   "execution_count": 152,
   "metadata": {},
   "outputs": [
    {
     "data": {
      "text/latex": [
       "$\\displaystyle \\frac{0.5 b_{1}^{0.5} v_{2}}{b_{2}^{0.5} \\left(b_{1}^{0.5} + b_{2}^{0.5}\\right)^{2}} - 1$"
      ],
      "text/plain": [
       "0.5*b_1**0.5*v_2/(b_2**0.5*(b_1**0.5 + b_2**0.5)**2) - 1"
      ]
     },
     "execution_count": 152,
     "metadata": {},
     "output_type": "execute_result"
    }
   ],
   "source": [
    "part1 = sp.simplify(sp.diff(u1, b1))\n",
    "part2 = sp.simplify(sp.diff(u2, b2))\n",
    "part2"
   ]
  },
  {
   "cell_type": "code",
   "execution_count": 177,
   "metadata": {},
   "outputs": [],
   "source": [
    "func1 = sp.lambdify([b1, b2], part1.evalf(subs={v1:11.}))\n",
    "func2 = sp.lambdify([b1, b2], part2.evalf(subs={v2:1.}))"
   ]
  },
  {
   "cell_type": "code",
   "execution_count": 178,
   "metadata": {},
   "outputs": [
    {
     "data": {
      "text/plain": [
       "(array([0.97897236, 0.08899749]), 10.99999999989627, 1.0679698490599445)"
      ]
     },
     "execution_count": 178,
     "metadata": {},
     "output_type": "execute_result"
    }
   ],
   "source": [
    "def eqs(p):\n",
    "    b1, b2 = p\n",
    "    return [func1(b1, b2), func2(b1, b2)]\n",
    "\n",
    "sol = fsolve(eqs, (0.49, 0.12))\n",
    "sol, sol[0]/sol[1], sum(sol)"
   ]
  },
  {
   "cell_type": "markdown",
   "metadata": {},
   "source": [
    "# monotonicity \n",
    " \n",
    "- we noticed that in the gamma-k construction, there was some monotonicity\n",
    "  - payments monotone decreasing in k\n",
    "  - welfare cost monotone increasing in k\n",
    "- intuitively it feels like neither of these hold more generally, would be good to show that."
   ]
  },
  {
   "cell_type": "code",
   "execution_count": null,
   "metadata": {},
   "outputs": [],
   "source": [
    "# payments. there must be a new player that has a \"high enough\" true cost to make us pay more"
   ]
  },
  {
   "cell_type": "code",
   "execution_count": 2,
   "metadata": {},
   "outputs": [],
   "source": [
    "def getEquilBids(cs, a, guess=None):\n",
    "    n = len(cs)\n",
    "    bs = [sp.Symbol('b{}'.format(i)) for i in range(n)]\n",
    "    \n",
    "    denom = sum([bi**(-a) for bi in bs])\n",
    "    xs    = [bi**(-a)/denom for bi in bs]\n",
    "    us    = [(bs[i] - cs[i])*xs[i] for i in range(n)]\n",
    "    diffs = [sp.diff(us[i], bs[i]) for i in range(n)]\n",
    "    funcs = [sp.lambdify(bs, diffs[i]) for i in range(n)]\n",
    "    \n",
    "    def eqs(bs):\n",
    "        return [f(*bs) for f in funcs]\n",
    "    \n",
    "    initial_guess = cs\n",
    "    if guess != None:\n",
    "        initial_guess = guess\n",
    "    \n",
    "    return fsolve(eqs, initial_guess)\n",
    "\n",
    "def getAllos(bids, a):\n",
    "    denom = sum([b**(-a) for b in bids])\n",
    "    return np.array(bids**(-a)) / denom"
   ]
  },
  {
   "cell_type": "code",
   "execution_count": 233,
   "metadata": {},
   "outputs": [
    {
     "data": {
      "text/plain": [
       "(array([9.66287915, 8.8109329 ]),\n",
       " array([0.43121518, 0.56878482]),\n",
       " 9.178305051291098)"
      ]
     },
     "execution_count": 233,
     "metadata": {},
     "output_type": "execute_result"
    }
   ],
   "source": [
    "bids  = getEquilBids([4,2], a=3)\n",
    "allos = getAllos(bids, 3)\n",
    "bids, allos, np.dot(bids, allos)"
   ]
  },
  {
   "cell_type": "code",
   "execution_count": 274,
   "metadata": {},
   "outputs": [
    {
     "data": {
      "text/plain": [
       "(array([ 9.44715449,  8.56976702, 30.19759448]),\n",
       " array([0.42189055, 0.56519173, 0.01291772]),\n",
       " 9.219310678501467)"
      ]
     },
     "execution_count": 274,
     "metadata": {},
     "output_type": "execute_result"
    }
   ],
   "source": [
    "bids = getEquilBids([4,2,20], a=3, guess=[9,8,30])\n",
    "allos = getAllos(bids, 3)\n",
    "bids, allos, np.dot(bids, allos)"
   ]
  },
  {
   "cell_type": "code",
   "execution_count": 285,
   "metadata": {},
   "outputs": [],
   "source": [
    "# welfare. there may be a situation where adding a second \"low cost\" bidder actually improves welfare loss"
   ]
  },
  {
   "cell_type": "code",
   "execution_count": 282,
   "metadata": {},
   "outputs": [
    {
     "data": {
      "text/plain": [
       "(array([9.66287915, 8.8109329 ]),\n",
       " array([0.43121518, 0.56878482]),\n",
       " 2.862430353259135)"
      ]
     },
     "execution_count": 282,
     "metadata": {},
     "output_type": "execute_result"
    }
   ],
   "source": [
    "costs = [4,2]\n",
    "bids  = getEquilBids(costs, a=3)\n",
    "allos = getAllos(bids, 3)\n",
    "bids, allos, np.dot(costs, allos)"
   ]
  },
  {
   "cell_type": "code",
   "execution_count": 305,
   "metadata": {},
   "outputs": [
    {
     "data": {
      "text/plain": [
       "(array([6.60620491, 4.73000037, 4.73000037]),\n",
       " array([0.15506709, 0.42246646, 0.42246646]),\n",
       " 2.3101341775411135)"
      ]
     },
     "execution_count": 305,
     "metadata": {},
     "output_type": "execute_result"
    }
   ],
   "source": [
    "costs = [4,2,2]\n",
    "bids  = getEquilBids(costs, a=3)\n",
    "allos = getAllos(bids, 3)\n",
    "bids, allos, np.dot(costs, allos)"
   ]
  },
  {
   "cell_type": "markdown",
   "metadata": {},
   "source": [
    "# welfare degredation in n\n",
    "\n",
    "- we want to make statements like, given an alpha, the welfare degrades slowly in n even in the worst case\n",
    "- consider the setting where c_1=1 and we add more players. the welfare decreases as you allocate to more people. \n",
    "- the best case is that the welfare loss is ... because you allocate 1-1/a to c_1=1 and 1/a to a player with value C. then your welfare is 1-1/a+C/a = (c+a-1)/a"
   ]
  },
  {
   "cell_type": "code",
   "execution_count": 19,
   "metadata": {},
   "outputs": [
    {
     "data": {
      "text/plain": [
       "75000.75"
      ]
     },
     "execution_count": 19,
     "metadata": {},
     "output_type": "execute_result"
    }
   ],
   "source": [
    "(300000+4-1)/4"
   ]
  },
  {
   "cell_type": "code",
   "execution_count": 16,
   "metadata": {},
   "outputs": [
    {
     "data": {
      "text/plain": [
       "(array([341926.55853692, 450000.21932736]),\n",
       " array([0.74999927, 0.25000073]),\n",
       " 75000.9693499513,\n",
       " 75000.75,\n",
       " 2.92462821741219e-06)"
      ]
     },
     "execution_count": 16,
     "metadata": {},
     "output_type": "execute_result"
    }
   ],
   "source": [
    "a     = 4\n",
    "costs = [1,300000]\n",
    "bids  = getEquilBids(costs, a=a, guess=[10, 30])\n",
    "allos = getAllos(bids, a=a)\n",
    "loss  = np.dot(costs, allos)\n",
    "lossB = np.dot(costs, [1-1/a, 1/a])\n",
    "bids, allos, loss, lossB, (loss-lossB)/loss"
   ]
  },
  {
   "cell_type": "code",
   "execution_count": null,
   "metadata": {},
   "outputs": [],
   "source": [
    "# alpha = 3, show welfare loss as fn of N for various c"
   ]
  },
  {
   "cell_type": "code",
   "execution_count": 77,
   "metadata": {},
   "outputs": [
    {
     "name": "stderr",
     "output_type": "stream",
     "text": [
      "100%|██████████| 23/23 [00:04<00:00,  4.97it/s]\n"
     ]
    },
    {
     "data": {
      "text/plain": [
       "(23,)"
      ]
     },
     "execution_count": 77,
     "metadata": {},
     "output_type": "execute_result"
    }
   ],
   "source": [
    "a     = 3\n",
    "ns    = np.arange(2, 25)\n",
    "\n",
    "a3c2res  = []\n",
    "for n in tqdm(ns):\n",
    "    costs = [1]\n",
    "    costs.extend([2]*n)\n",
    "    guess = [1]\n",
    "    guess.extend([3]*n)\n",
    "    bids  = getEquilBids(costs, a=a, guess=guess)\n",
    "    allos = getAllos(bids, a=a)\n",
    "    a3c2res.append(np.dot(costs, allos))\n",
    "a3c2res = np.array(a3c2res)\n",
    "a3c2res.shape"
   ]
  },
  {
   "cell_type": "code",
   "execution_count": 80,
   "metadata": {},
   "outputs": [
    {
     "name": "stderr",
     "output_type": "stream",
     "text": [
      "100%|██████████| 23/23 [00:05<00:00,  4.57it/s]\n"
     ]
    },
    {
     "data": {
      "text/plain": [
       "(23,)"
      ]
     },
     "execution_count": 80,
     "metadata": {},
     "output_type": "execute_result"
    }
   ],
   "source": [
    "a3c16res  = []\n",
    "for n in tqdm(ns):\n",
    "    costs = [1]\n",
    "    costs.extend([16]*n)\n",
    "    guess = [1]\n",
    "    guess.extend([13]*n)\n",
    "    bids  = getEquilBids(costs, a=a, guess=guess)\n",
    "    allos = getAllos(bids, a=a)\n",
    "#     print(bids, allos)\n",
    "#     print(costs, guess)\n",
    "#     break\n",
    "    a3c16res.append(np.dot(costs, allos))\n",
    "a3c16res = np.array(a3c16res)\n",
    "a3c16res.shape"
   ]
  },
  {
   "cell_type": "code",
   "execution_count": 102,
   "metadata": {},
   "outputs": [
    {
     "name": "stderr",
     "output_type": "stream",
     "text": [
      "100%|██████████| 23/23 [00:04<00:00,  4.71it/s]\n"
     ]
    },
    {
     "data": {
      "text/plain": [
       "(23,)"
      ]
     },
     "execution_count": 102,
     "metadata": {},
     "output_type": "execute_result"
    }
   ],
   "source": [
    "a3c128res  = []\n",
    "for n in tqdm(ns):\n",
    "    costs = [1]\n",
    "    costs.extend([128]*n)\n",
    "    guess = [200]\n",
    "    guess.extend([500]*n)\n",
    "    bids  = getEquilBids(costs, a=a, guess=guess)\n",
    "    allos = getAllos(bids, a=a)\n",
    "#     print(bids, allos)\n",
    "#     print(costs, guess)\n",
    "#     break\n",
    "    a3c128res.append(np.dot(costs, allos))\n",
    "a3c128res = np.array(a3c128res)\n",
    "a3c128res.shape"
   ]
  },
  {
   "cell_type": "code",
   "execution_count": 145,
   "metadata": {},
   "outputs": [
    {
     "name": "stderr",
     "output_type": "stream",
     "text": [
      "100%|██████████| 23/23 [00:00<00:00, 2446.84it/s]\n"
     ]
    },
    {
     "data": {
      "text/plain": [
       "(23,)"
      ]
     },
     "execution_count": 145,
     "metadata": {},
     "output_type": "execute_result"
    }
   ],
   "source": [
    "a3c2res_honest  = []\n",
    "a3c16res_honest  = []\n",
    "a3c128res_honest  = []\n",
    "for n in tqdm(ns):\n",
    "    costs = [1.]\n",
    "    costs.extend([2.]*n)\n",
    "    allos = getAllos(np.array(costs), a=a)\n",
    "    a3c2res_honest.append(np.dot(costs, allos))\n",
    "    costs = [1.]\n",
    "    costs.extend([16.]*n)\n",
    "    allos = getAllos(np.array(costs), a=a)\n",
    "    a3c16res_honest.append(np.dot(costs, allos))\n",
    "    costs = [1.]\n",
    "    costs.extend([128.]*n)\n",
    "    allos = getAllos(np.array(costs), a=a)\n",
    "    a3c128res_honest.append(np.dot(costs, allos))\n",
    "a3c2res_honest = np.array(a3c2res_honest)\n",
    "a3c16res_honest = np.array(a3c16res_honest)\n",
    "a3c128res_honest = np.array(a3c128res_honest)\n",
    "a3c2res_honest.shape"
   ]
  },
  {
   "cell_type": "code",
   "execution_count": 118,
   "metadata": {},
   "outputs": [
    {
     "data": {
      "text/plain": [
       "array([0.72889764, 0.87005104, 0.975692  , 1.06231362, 1.13674689,\n",
       "       1.20257152, 1.26192913, 1.31621615, 1.36640024, 1.41318304,\n",
       "       1.45709154, 1.49853289, 1.53782897, 1.57523928, 1.61097631,\n",
       "       1.64521663, 1.67810873, 1.70977883, 1.74033518, 1.76987147,\n",
       "       1.79846936, 1.8262005 , 1.8531282 ])"
      ]
     },
     "execution_count": 118,
     "metadata": {},
     "output_type": "execute_result"
    }
   ],
   "source": [
    "a3c2pdiff = 100*(a3c2res-((2+a-1)/a))/((2+a-1)/a)\n",
    "a3c16pdiff = 100*(a3c16res-((16+a-1)/a))/((16+a-1)/a)\n",
    "a3c128pdiff = 100*(a3c128res-((128+a-1)/a))/((128+a-1)/a)\n",
    "a3c128pdiff"
   ]
  },
  {
   "cell_type": "code",
   "execution_count": 157,
   "metadata": {},
   "outputs": [
    {
     "data": {
      "image/png": "[encoded data removed]",
      "text/plain": [
       "<Figure size 1008x288 with 6 Axes>"
      ]
     },
     "metadata": {
      "needs_background": "light"
     },
     "output_type": "display_data"
    }
   ],
   "source": [
    "f, axarr = plt.subplots(ncols=3, figsize=(14, 4))\n",
    "\n",
    "data = [\n",
    "    (a3c2res, a3c2pdiff, a3c2res_honest, 'darkturquoise', (2+a-1)/a, r'$C=2$'),\n",
    "    (a3c16res, a3c16pdiff, a3c16res_honest, 'darkmagenta', (16+a-1)/a, r'$C=16$'),\n",
    "    (a3c128res, a3c128pdiff, a3c128res_honest, 'darkred', (128+a-1)/a, r'$C=128$')\n",
    "]\n",
    "\n",
    "for i, (res, pdiff, honest, color, hline_value, title) in enumerate(data):\n",
    "    line1, = axarr[i].plot(ns, res, color=color, linewidth=0.5, label='loss (left)',\n",
    "                           linestyle='dotted', marker='o', fillstyle='none')\n",
    "    line2 = axarr[i].axhline(hline_value, color=color, label='bound (left)', alpha=0.6, linewidth=2)\n",
    "    \n",
    "    twinx = axarr[i].twinx()\n",
    "    line3, = twinx.plot(ns, pdiff, color=color, linewidth=0.5, label='% change (right)',\n",
    "                        linestyle='dotted', marker='s', fillstyle='full')\n",
    "#     line4, = axarr[i].plot(ns, honest, color=color, linewidth=0.5, label='honest loss (left axis)',\n",
    "#                            linestyle='-.', marker='*', fillstyle='none')\n",
    "\n",
    "    lines = [line1, line3, line2]\n",
    "    labels = [line.get_label() for line in lines]\n",
    "    axarr[i].legend(lines, labels)\n",
    "    axarr[i].set_title(title, size=17)\n",
    "\n",
    "for ax in axarr:\n",
    "    ax.set_xlabel('k', size=14)\n",
    "    ax.grid(alpha=0.2)\n",
    "\n",
    "axarr[0].set_ylabel('welfare loss', size=14)\n",
    "twinx.set_ylabel('percent change', size=14)\n",
    "\n",
    "f.subplots_adjust(wspace=0.3)\n",
    "# plt.savefig('out.png', dpi=150, bbox_inches='tight', facecolor='white')\n",
    "plt.show()"
   ]
  },
  {
   "cell_type": "markdown",
   "metadata": {},
   "source": [
    "# counter example for adding a max-coster maximally degrading welfare \n",
    "\n",
    "- not finding one, interesting"
   ]
  },
  {
   "cell_type": "code",
   "execution_count": 201,
   "metadata": {},
   "outputs": [
    {
     "name": "stdout",
     "output_type": "stream",
     "text": [
      "costs=[1, 128]\n",
      "bids=[204.19102779 256.63306468]\n",
      "allos=[0.66502617 0.33497383]\n",
      "w. loss=43.54167586667451\n",
      "\n",
      "costs=[1, 128]; w. loss=43.54167586667451\n"
     ]
    }
   ],
   "source": [
    "costs = [1]\n",
    "guess = [200]\n",
    "\n",
    "costs.extend([128]*1)\n",
    "guess.extend([500]*1)\n",
    "\n",
    "bids  = getEquilBids(costs, a=a, guess=guess)\n",
    "allos = getAllos(bids, a=a)\n",
    "\n",
    "print(\"costs={}\\nbids={}\\nallos={}\\nw. loss={}\".format(costs, bids, allos, np.dot(costs, allos)))\n",
    "print()\n",
    "print(\"costs={}; w. loss={}\".format(costs, np.dot(costs, allos)))"
   ]
  },
  {
   "cell_type": "code",
   "execution_count": 202,
   "metadata": {},
   "outputs": [
    {
     "name": "stdout",
     "output_type": "stream",
     "text": [
      "costs=[1, 128, 128]\n",
      "bids=[135.02747054 213.54609094 213.54609094]\n",
      "allos=[0.66417961 0.16791019 0.16791019]\n",
      "w. loss=43.64918897930342\n",
      "\n",
      "costs=[1, 128, 128]; w. loss=43.64918897930342\n"
     ]
    }
   ],
   "source": [
    "costs = [1]\n",
    "guess = [200]\n",
    "\n",
    "costs.extend([128]*1)\n",
    "guess.extend([500]*1)\n",
    "\n",
    "costs.append(128)\n",
    "guess.append(500)\n",
    "\n",
    "bids  = getEquilBids(costs, a=a, guess=guess)\n",
    "allos = getAllos(bids, a=a)\n",
    "print(\"costs={}\\nbids={}\\nallos={}\\nw. loss={}\".format(costs, bids, allos, np.dot(costs, allos)))\n",
    "print()\n",
    "print(\"costs={}; w. loss={}\".format(costs, np.dot(costs, allos)))"
   ]
  },
  {
   "cell_type": "code",
   "execution_count": 204,
   "metadata": {},
   "outputs": [
    {
     "name": "stdout",
     "output_type": "stream",
     "text": [
      "costs=[1, 128, 80]\n",
      "bids=[103.38458282 201.87396796 143.6156503 ]\n",
      "allos=[0.66341097 0.08910643 0.24748261]\n",
      "w. loss=31.867641994840255\n",
      "\n",
      "costs=[1, 128, 80]; w. loss=31.867641994840255\n"
     ]
    }
   ],
   "source": [
    "costs = [1]\n",
    "guess = [170]\n",
    "\n",
    "costs.extend([128]*1)\n",
    "guess.extend([200]*1)\n",
    "\n",
    "costs.append(80)\n",
    "guess.append(100)\n",
    "\n",
    "bids  = getEquilBids(costs, a=a, guess=guess)\n",
    "allos = getAllos(bids, a=a)\n",
    "print(\"costs={}\\nbids={}\\nallos={}\\nw. loss={}\".format(costs, bids, allos, np.dot(costs, allos)))\n",
    "print()\n",
    "print(\"costs={}; w. loss={}\".format(costs, np.dot(costs, allos)))"
   ]
  },
  {
   "cell_type": "code",
   "execution_count": 220,
   "metadata": {},
   "outputs": [
    {
     "data": {
      "text/plain": [
       "array([  1,   8,  15,  22,  29,  36,  43,  50,  57,  64,  71,  78,  85,\n",
       "        92,  99, 106, 113, 120, 127])"
      ]
     },
     "execution_count": 220,
     "metadata": {},
     "output_type": "execute_result"
    }
   ],
   "source": [
    "otherCosts"
   ]
  },
  {
   "cell_type": "code",
   "execution_count": 237,
   "metadata": {},
   "outputs": [
    {
     "data": {
      "text/plain": [
       "43"
      ]
     },
     "execution_count": 237,
     "metadata": {},
     "output_type": "execute_result"
    }
   ],
   "source": [
    "otherCosts = np.arange(1, 129, 3)\n",
    "wWOther   = []\n",
    "for oc in otherCosts:\n",
    "    costs = [1]\n",
    "    guess = [oc]\n",
    "\n",
    "    costs.extend([128]*1)\n",
    "    guess.extend([oc*2]*1)\n",
    "\n",
    "    costs.append(oc)\n",
    "    guess.append(oc*1.5)\n",
    "    bids  = getEquilBids(costs, a=a, guess=guess)\n",
    "    allos = getAllos(bids, a=a)\n",
    "    wWOther.append(np.dot(costs, allos))\n",
    "len(wWOther)"
   ]
  },
  {
   "cell_type": "code",
   "execution_count": 236,
   "metadata": {},
   "outputs": [
    {
     "data": {
      "text/plain": [
       "43"
      ]
     },
     "execution_count": 236,
     "metadata": {},
     "output_type": "execute_result"
    }
   ],
   "source": [
    "otherCosts = np.arange(1, 129, 3)\n",
    "wWOther_512   = []\n",
    "for oc in otherCosts:\n",
    "    costs = [1]\n",
    "    guess = [oc]\n",
    "\n",
    "    costs.extend([512]*1)\n",
    "    guess.extend([oc*4]*1)\n",
    "\n",
    "    costs.append(oc)\n",
    "    guess.append(oc*1.5)\n",
    "    bids  = getEquilBids(costs, a=a, guess=guess)\n",
    "    allos = getAllos(bids, a=a)\n",
    "    wWOther_512.append(np.dot(costs, allos))\n",
    "len(wWOther_512)"
   ]
  },
  {
   "cell_type": "code",
   "execution_count": 245,
   "metadata": {},
   "outputs": [
    {
     "data": {
      "text/plain": [
       "43"
      ]
     },
     "execution_count": 245,
     "metadata": {},
     "output_type": "execute_result"
    }
   ],
   "source": [
    "otherCosts = np.arange(1, 129, 3)\n",
    "wWOther_64   = []\n",
    "for oc in otherCosts:\n",
    "    costs = [1]\n",
    "    guess = [oc]\n",
    "\n",
    "    costs.extend([64]*1)\n",
    "    guess.extend([oc*1.5]*1)\n",
    "\n",
    "    costs.append(oc)\n",
    "    guess.append(oc*1.5)\n",
    "    bids  = getEquilBids(costs, a=a, guess=guess)\n",
    "    allos = getAllos(bids, a=a)\n",
    "    wWOther_64.append(np.dot(costs, allos))\n",
    "len(wWOther_64)"
   ]
  },
  {
   "cell_type": "code",
   "execution_count": 246,
   "metadata": {},
   "outputs": [
    {
     "data": {
      "text/plain": [
       "43"
      ]
     },
     "execution_count": 246,
     "metadata": {},
     "output_type": "execute_result"
    }
   ],
   "source": [
    "otherCosts = np.arange(1, 129, 3)\n",
    "wWOther_32   = []\n",
    "for oc in otherCosts:\n",
    "    costs = [1]\n",
    "    guess = [oc]\n",
    "\n",
    "    costs.extend([32]*1)\n",
    "    guess.extend([oc*1.3]*1)\n",
    "\n",
    "    costs.append(oc)\n",
    "    guess.append(oc*1.4)\n",
    "    bids  = getEquilBids(costs, a=a, guess=guess)\n",
    "    allos = getAllos(bids, a=a)\n",
    "    wWOther_32.append(np.dot(costs, allos))\n",
    "len(wWOther_32)"
   ]
  },
  {
   "cell_type": "code",
   "execution_count": 253,
   "metadata": {},
   "outputs": [
    {
     "data": {
      "image/png": "[encoded data removed]",
      "text/plain": [
       "<Figure size 648x432 with 1 Axes>"
      ]
     },
     "metadata": {
      "needs_background": "light"
     },
     "output_type": "display_data"
    }
   ],
   "source": [
    "f, ax = plt.subplots(figsize=(9,6))\n",
    "\n",
    "ax.plot(otherCosts, wWOther_32, color='maroon', linewidth=1, \n",
    "        linestyle='dotted', marker='o', fillstyle='none', label=r'$c_1=1,c_2=32$')\n",
    "ax.plot(otherCosts, wWOther_64, color='darkmagenta', linewidth=1, \n",
    "        linestyle='dotted', marker='o', fillstyle='none', label=r'$c_1=1,c_2=64$')\n",
    "ax.plot(otherCosts, wWOther, color='darkturquoise', linewidth=1, \n",
    "        linestyle='dotted', marker='o', fillstyle='none', label=r'$c_1=1,c_2=128$')\n",
    "ax.plot(otherCosts, wWOther_512, color='darkgoldenrod', linewidth=1, \n",
    "        linestyle='dotted', marker='o', fillstyle='none', label=r'$c_1=1,c_2=512$')\n",
    "\n",
    "\n",
    "ax.set_xlabel('third player cost', size=14)\n",
    "ax.set_ylabel('welfare loss', size=14)\n",
    "ax.legend()\n",
    "ax.grid(alpha=0.2)\n",
    "plt.savefig('out.png', dpi=150, bbox_inches='tight', facecolor='white')\n",
    "plt.show()"
   ]
  },
  {
   "cell_type": "code",
   "execution_count": 254,
   "metadata": {},
   "outputs": [
    {
     "name": "stdout",
     "output_type": "stream",
     "text": [
      "costs=[1, 1024]\n",
      "bids=[1626.49913864 2048.63034814]\n",
      "allos=[0.6664616 0.3335384]\n",
      "w. loss=342.2097817140307\n",
      "\n",
      "costs=[1, 1024]; w. loss=342.2097817140307\n"
     ]
    }
   ],
   "source": [
    "# higher cost\n",
    "costs = [1]\n",
    "guess = [200]\n",
    "\n",
    "costs.extend([1024]*1)\n",
    "guess.extend([500]*1)\n",
    "\n",
    "bids  = getEquilBids(costs, a=a, guess=guess)\n",
    "allos = getAllos(bids, a=a)\n",
    "\n",
    "print(\"costs={}\\nbids={}\\nallos={}\\nw. loss={}\".format(costs, bids, allos, np.dot(costs, allos)))\n",
    "print()\n",
    "print(\"costs={}; w. loss={}\".format(costs, np.dot(costs, allos)))"
   ]
  },
  {
   "cell_type": "code",
   "execution_count": 274,
   "metadata": {},
   "outputs": [
    {
     "name": "stdout",
     "output_type": "stream",
     "text": [
      "costs=[1, 1024, 400]\n",
      "bids=[ 584.21583915 1564.1207904   762.84037349]\n",
      "allos=[0.66609512 0.03470926 0.29919562]\n",
      "w. loss=155.88662491746624\n",
      "\n",
      "costs=[1, 1024, 400]; w. loss=155.88662491746624\n"
     ]
    }
   ],
   "source": [
    "costs = [1]\n",
    "guess = [700]\n",
    "\n",
    "costs.extend([1024]*1)\n",
    "guess.extend([1200]*1)\n",
    "\n",
    "costs.append(400)\n",
    "guess.append(1000)\n",
    "\n",
    "bids  = getEquilBids(costs, a=a, guess=guess)\n",
    "allos = getAllos(bids, a=a)\n",
    "print(\"costs={}\\nbids={}\\nallos={}\\nw. loss={}\".format(costs, bids, allos, np.dot(costs, allos)))\n",
    "print()\n",
    "print(\"costs={}; w. loss={}\".format(costs, np.dot(costs, allos)))"
   ]
  },
  {
   "cell_type": "code",
   "execution_count": 268,
   "metadata": {},
   "outputs": [
    {
     "name": "stdout",
     "output_type": "stream",
     "text": [
      "costs=[1, 1024, 1024]\n",
      "bids=[1075.76628198 1706.87845797 1706.87845797]\n",
      "allos=[0.66635652 0.16682174 0.16682174]\n",
      "w. loss=342.3172782823776\n",
      "\n",
      "costs=[1, 1024, 1024]; w. loss=342.3172782823776\n"
     ]
    }
   ],
   "source": [
    "costs = [1]\n",
    "guess = [600]\n",
    "\n",
    "costs.extend([1024]*1)\n",
    "guess.extend([1200]*1)\n",
    "\n",
    "costs.append(1024)\n",
    "guess.append(1200)\n",
    "\n",
    "bids  = getEquilBids(costs, a=a, guess=guess)\n",
    "allos = getAllos(bids, a=a)\n",
    "print(\"costs={}\\nbids={}\\nallos={}\\nw. loss={}\".format(costs, bids, allos, np.dot(costs, allos)))\n",
    "print()\n",
    "print(\"costs={}; w. loss={}\".format(costs, np.dot(costs, allos)))"
   ]
  },
  {
   "cell_type": "markdown",
   "metadata": {},
   "source": [
    "# different alphas welfare degredation"
   ]
  },
  {
   "cell_type": "code",
   "execution_count": null,
   "metadata": {},
   "outputs": [],
   "source": [
    "# alpha = 3, show welfare loss as fn of N for various c"
   ]
  },
  {
   "cell_type": "code",
   "execution_count": 398,
   "metadata": {},
   "outputs": [
    {
     "name": "stdout",
     "output_type": "stream",
     "text": [
      "0 3\n"
     ]
    },
    {
     "name": "stderr",
     "output_type": "stream",
     "text": [
      "100%|██████████| 23/23 [00:06<00:00,  3.38it/s]\n"
     ]
    },
    {
     "name": "stdout",
     "output_type": "stream",
     "text": [
      "1 4\n"
     ]
    },
    {
     "name": "stderr",
     "output_type": "stream",
     "text": [
      "100%|██████████| 23/23 [00:06<00:00,  3.50it/s]\n"
     ]
    },
    {
     "name": "stdout",
     "output_type": "stream",
     "text": [
      "2 5\n"
     ]
    },
    {
     "name": "stderr",
     "output_type": "stream",
     "text": [
      "100%|██████████| 23/23 [00:06<00:00,  3.47it/s]\n"
     ]
    },
    {
     "name": "stdout",
     "output_type": "stream",
     "text": [
      "3 6\n"
     ]
    },
    {
     "name": "stderr",
     "output_type": "stream",
     "text": [
      "100%|██████████| 23/23 [00:06<00:00,  3.36it/s]\n"
     ]
    },
    {
     "name": "stdout",
     "output_type": "stream",
     "text": [
      "4 7\n"
     ]
    },
    {
     "name": "stderr",
     "output_type": "stream",
     "text": [
      "100%|██████████| 23/23 [00:06<00:00,  3.46it/s]\n"
     ]
    },
    {
     "name": "stdout",
     "output_type": "stream",
     "text": [
      "5 8\n"
     ]
    },
    {
     "name": "stderr",
     "output_type": "stream",
     "text": [
      "100%|██████████| 23/23 [00:06<00:00,  3.48it/s]\n"
     ]
    },
    {
     "name": "stdout",
     "output_type": "stream",
     "text": [
      "6 9\n"
     ]
    },
    {
     "name": "stderr",
     "output_type": "stream",
     "text": [
      "100%|██████████| 23/23 [00:06<00:00,  3.52it/s]\n"
     ]
    },
    {
     "name": "stdout",
     "output_type": "stream",
     "text": [
      "7 10\n"
     ]
    },
    {
     "name": "stderr",
     "output_type": "stream",
     "text": [
      "100%|██████████| 23/23 [00:07<00:00,  3.21it/s]\n"
     ]
    },
    {
     "data": {
      "text/plain": [
       "(8, 23)"
      ]
     },
     "execution_count": 398,
     "metadata": {},
     "output_type": "execute_result"
    }
   ],
   "source": [
    "alphas = [3,4,5,6,7,8,9,10]\n",
    "loAnz  = [2.0, 2.0, 2.0, 1.7, 1.7, 1.7, 1.8, 1.8]\n",
    "hiAnz  = [3.0, 3.0, 3.0, 3.0, 3.0, 3.0, 3.0, 3.0]\n",
    "ns     = np.arange(2, 25)\n",
    "\n",
    "c2res  = []\n",
    "for i,a in enumerate(alphas):\n",
    "    temp = []\n",
    "    print(i, a)\n",
    "    for n in tqdm(ns):\n",
    "        costs = [1]\n",
    "        guess = [loAnz[i]]\n",
    "        \n",
    "        costs.extend([2]*n)\n",
    "        guess.extend([hiAnz[i]]*n)\n",
    "\n",
    "        bids  = getEquilBids(costs, a=a, guess=guess)\n",
    "        allos = getAllos(bids, a=a)\n",
    "\n",
    "        temp.append(np.dot(costs, allos))\n",
    "    c2res.append(temp)\n",
    "c2res = np.array(c2res)\n",
    "c2res.shape"
   ]
  },
  {
   "cell_type": "code",
   "execution_count": 452,
   "metadata": {},
   "outputs": [
    {
     "name": "stdout",
     "output_type": "stream",
     "text": [
      "0 3\n"
     ]
    },
    {
     "name": "stderr",
     "output_type": "stream",
     "text": [
      "100%|██████████| 23/23 [00:07<00:00,  3.11it/s]\n"
     ]
    },
    {
     "name": "stdout",
     "output_type": "stream",
     "text": [
      "1 4\n"
     ]
    },
    {
     "name": "stderr",
     "output_type": "stream",
     "text": [
      "100%|██████████| 23/23 [00:04<00:00,  4.65it/s]\n"
     ]
    },
    {
     "name": "stdout",
     "output_type": "stream",
     "text": [
      "2 5\n"
     ]
    },
    {
     "name": "stderr",
     "output_type": "stream",
     "text": [
      "100%|██████████| 23/23 [00:04<00:00,  4.77it/s]\n"
     ]
    },
    {
     "name": "stdout",
     "output_type": "stream",
     "text": [
      "3 6\n"
     ]
    },
    {
     "name": "stderr",
     "output_type": "stream",
     "text": [
      "100%|██████████| 23/23 [00:06<00:00,  3.37it/s]\n"
     ]
    },
    {
     "name": "stdout",
     "output_type": "stream",
     "text": [
      "4 7\n"
     ]
    },
    {
     "name": "stderr",
     "output_type": "stream",
     "text": [
      "100%|██████████| 23/23 [00:06<00:00,  3.41it/s]\n"
     ]
    },
    {
     "name": "stdout",
     "output_type": "stream",
     "text": [
      "5 8\n"
     ]
    },
    {
     "name": "stderr",
     "output_type": "stream",
     "text": [
      "100%|██████████| 23/23 [00:06<00:00,  3.35it/s]\n"
     ]
    },
    {
     "name": "stdout",
     "output_type": "stream",
     "text": [
      "6 9\n"
     ]
    },
    {
     "name": "stderr",
     "output_type": "stream",
     "text": [
      "100%|██████████| 23/23 [00:07<00:00,  3.23it/s]\n"
     ]
    },
    {
     "name": "stdout",
     "output_type": "stream",
     "text": [
      "7 10\n"
     ]
    },
    {
     "name": "stderr",
     "output_type": "stream",
     "text": [
      "100%|██████████| 23/23 [00:07<00:00,  3.11it/s]\n"
     ]
    },
    {
     "data": {
      "text/plain": [
       "(8, 23)"
      ]
     },
     "execution_count": 452,
     "metadata": {},
     "output_type": "execute_result"
    }
   ],
   "source": [
    "alphas = [3,4,5,6,7,8,9,10]\n",
    "loAnz  = [2.0, 8.0, 8.0, 1.7, 1.7, 1.7, 1.8, 1.8]\n",
    "hiAnz  = [16., 17., 17., 3.0, 3.0, 3.0, 3.0, 3.0]\n",
    "ns     = np.arange(2, 25)\n",
    "\n",
    "c16res  = []\n",
    "for i,a in enumerate(alphas):\n",
    "    temp = []\n",
    "    print(i, a)\n",
    "    for n in tqdm(ns):\n",
    "        costs = [1]\n",
    "        guess = [loAnz[i]]\n",
    "        \n",
    "        costs.extend([16]*n)\n",
    "        guess.extend([hiAnz[i]]*n)\n",
    "\n",
    "        bids  = getEquilBids(costs, a=a, guess=guess)\n",
    "        allos = getAllos(bids, a=a)\n",
    "\n",
    "        temp.append(np.dot(costs, allos))\n",
    "    c16res.append(temp)\n",
    "c16res = np.array(c16res)\n",
    "c16res.shape"
   ]
  },
  {
   "cell_type": "code",
   "execution_count": 490,
   "metadata": {},
   "outputs": [
    {
     "name": "stdout",
     "output_type": "stream",
     "text": [
      "0 3\n"
     ]
    },
    {
     "name": "stderr",
     "output_type": "stream",
     "text": [
      "100%|██████████| 23/23 [00:07<00:00,  3.28it/s]\n"
     ]
    },
    {
     "name": "stdout",
     "output_type": "stream",
     "text": [
      "1 4\n"
     ]
    },
    {
     "name": "stderr",
     "output_type": "stream",
     "text": [
      "100%|██████████| 23/23 [00:07<00:00,  3.19it/s]\n"
     ]
    },
    {
     "name": "stdout",
     "output_type": "stream",
     "text": [
      "2 5\n"
     ]
    },
    {
     "name": "stderr",
     "output_type": "stream",
     "text": [
      "100%|██████████| 23/23 [00:07<00:00,  3.06it/s]\n"
     ]
    },
    {
     "name": "stdout",
     "output_type": "stream",
     "text": [
      "3 6\n"
     ]
    },
    {
     "name": "stderr",
     "output_type": "stream",
     "text": [
      "100%|██████████| 23/23 [00:12<00:00,  1.89it/s]\n"
     ]
    },
    {
     "name": "stdout",
     "output_type": "stream",
     "text": [
      "4 7\n"
     ]
    },
    {
     "name": "stderr",
     "output_type": "stream",
     "text": [
      "100%|██████████| 23/23 [00:07<00:00,  2.99it/s]\n"
     ]
    },
    {
     "name": "stdout",
     "output_type": "stream",
     "text": [
      "5 8\n"
     ]
    },
    {
     "name": "stderr",
     "output_type": "stream",
     "text": [
      "100%|██████████| 23/23 [00:07<00:00,  3.08it/s]\n"
     ]
    },
    {
     "name": "stdout",
     "output_type": "stream",
     "text": [
      "6 9\n"
     ]
    },
    {
     "name": "stderr",
     "output_type": "stream",
     "text": [
      "100%|██████████| 23/23 [00:07<00:00,  3.25it/s]\n"
     ]
    },
    {
     "name": "stdout",
     "output_type": "stream",
     "text": [
      "7 10\n"
     ]
    },
    {
     "name": "stderr",
     "output_type": "stream",
     "text": [
      "100%|██████████| 23/23 [00:07<00:00,  3.20it/s]\n"
     ]
    },
    {
     "data": {
      "text/plain": [
       "(8, 23)"
      ]
     },
     "execution_count": 490,
     "metadata": {},
     "output_type": "execute_result"
    }
   ],
   "source": [
    "alphas = [3,4,5,6,7,8,9,10]\n",
    "loAnz  = [40.0, 40.0, 60.0, 60.0, 80.0, 80.0, 80.0, 80.0]\n",
    "hiAnz  = [150., 150., 150., 150., 150., 150., 150., 150.]\n",
    "ns     = np.arange(2, 25)\n",
    "\n",
    "c128res  = []\n",
    "for i,a in enumerate(alphas):\n",
    "    temp = []\n",
    "    print(i, a)\n",
    "    for n in tqdm(ns):\n",
    "        costs = [1]\n",
    "        guess = [loAnz[i]]\n",
    "        \n",
    "        costs.extend([128]*n)\n",
    "        guess.extend([hiAnz[i]]*n)\n",
    "\n",
    "        bids  = getEquilBids(costs, a=a, guess=guess)\n",
    "        allos = getAllos(bids, a=a)\n",
    "\n",
    "        temp.append(np.dot(costs, allos))\n",
    "    c128res.append(temp)\n",
    "c128res = np.array(c128res)\n",
    "c128res.shape"
   ]
  },
  {
   "cell_type": "code",
   "execution_count": 488,
   "metadata": {},
   "outputs": [
    {
     "name": "stderr",
     "output_type": "stream",
     "text": [
      " 17%|█▋        | 4/23 [00:00<00:01, 14.60it/s]"
     ]
    },
    {
     "name": "stdout",
     "output_type": "stream",
     "text": [
      "[106.7382437  145.07743378 145.07743378] [0.88783808 0.05608096 0.05608096]\n",
      "[101.77864287 144.70285817 144.70285817 144.70285817] [0.88778636 0.03740455 0.03740455 0.03740455]\n",
      "[ 98.45741182 144.52159762 144.52159762 144.52159762 144.52159762] [0.88774879 0.0280628  0.0280628  0.0280628  0.0280628 ]\n",
      "[ 95.97843318 144.4146879  144.41468782 144.41468786 144.41468787\n",
      " 144.41468786] [0.88771903 0.02245619 0.02245619 0.02245619 0.02245619 0.02245619]\n"
     ]
    },
    {
     "name": "stderr",
     "output_type": "stream",
     "text": [
      "\r",
      " 26%|██▌       | 6/23 [00:00<00:01, 10.65it/s]"
     ]
    },
    {
     "name": "stdout",
     "output_type": "stream",
     "text": [
      "[ 94.01033221 144.34416434 144.34416434 144.34416435 144.34416434\n",
      " 144.34416434 144.34416434] [0.88769428 0.01871762 0.01871762 0.01871762 0.01871762 0.01871762\n",
      " 0.01871762]\n",
      "[ 92.38401686 144.294151   144.29415099 144.29415099 144.29415098\n",
      " 144.29415099 144.29415099 144.29415099] [0.88767302 0.01604671 0.01604671 0.01604671 0.01604671 0.01604671\n",
      " 0.01604671 0.01604671]\n"
     ]
    },
    {
     "name": "stderr",
     "output_type": "stream",
     "text": [
      "\r",
      " 35%|███▍      | 8/23 [00:00<00:01,  8.33it/s]"
     ]
    },
    {
     "name": "stdout",
     "output_type": "stream",
     "text": [
      "[ 91.00180393 144.25683536 144.25683536 144.25683536 144.25683536\n",
      " 144.25683536 144.25683536 144.25683537 144.25683536] [0.88765435 0.01404321 0.01404321 0.01404321 0.01404321 0.01404321\n",
      " 0.01404321 0.01404321 0.01404321]\n",
      "[ 89.80229053 144.22792594 144.22792595 144.22792595 144.22792595\n",
      " 144.22792595 144.22792595 144.22792595 144.22792595 144.22792595] [0.88763767 0.0124847  0.0124847  0.0124847  0.0124847  0.0124847\n",
      " 0.0124847  0.0124847  0.0124847  0.0124847 ]\n"
     ]
    },
    {
     "name": "stderr",
     "output_type": "stream",
     "text": [
      "\r",
      " 39%|███▉      | 9/23 [00:01<00:01,  7.37it/s]"
     ]
    },
    {
     "name": "stdout",
     "output_type": "stream",
     "text": [
      "[ 88.74443193 144.20486941 144.20486941 144.20486941 144.2048694\n",
      " 144.2048694  144.2048694  144.2048694  144.2048694  144.2048694\n",
      " 144.2048694 ] [0.88762259 0.01123774 0.01123774 0.01123774 0.01123774 0.01123774\n",
      " 0.01123774 0.01123774 0.01123774 0.01123774 0.01123774]\n"
     ]
    },
    {
     "name": "stderr",
     "output_type": "stream",
     "text": [
      "\r",
      " 43%|████▎     | 10/23 [00:01<00:02,  6.48it/s]"
     ]
    },
    {
     "name": "stdout",
     "output_type": "stream",
     "text": [
      "[ 87.79947489 144.18605146 144.18605147 144.18605145 144.18605146\n",
      " 144.18605146 144.18605145 144.18605146 144.18605145 144.18605145\n",
      " 144.18605145 144.18605144] [0.8876088  0.01021738 0.01021738 0.01021738 0.01021738 0.01021738\n",
      " 0.01021738 0.01021738 0.01021738 0.01021738 0.01021738 0.01021738]\n"
     ]
    },
    {
     "name": "stderr",
     "output_type": "stream",
     "text": [
      "\r",
      " 48%|████▊     | 11/23 [00:01<00:02,  5.55it/s]"
     ]
    },
    {
     "name": "stdout",
     "output_type": "stream",
     "text": [
      "[ 86.94651785 144.17040119 144.17040155 144.1704016  144.17040162\n",
      " 144.17040165 144.17040152 144.17040151 144.17040152 144.17040154\n",
      " 144.17040152 144.17040151 144.17040152] [0.8875961  0.00936699 0.00936699 0.00936699 0.00936699 0.00936699\n",
      " 0.00936699 0.00936699 0.00936699 0.00936699 0.00936699 0.00936699\n",
      " 0.00936699]\n"
     ]
    },
    {
     "name": "stderr",
     "output_type": "stream",
     "text": [
      "\r",
      " 52%|█████▏    | 12/23 [00:01<00:02,  4.91it/s]"
     ]
    },
    {
     "name": "stdout",
     "output_type": "stream",
     "text": [
      "[ 86.16990485 144.15718164 144.15718156 144.15718159 144.15718161\n",
      " 144.15718162 144.15718162 144.1571816  144.15718162 144.1571816\n",
      " 144.1571816  144.1571816  144.1571816  144.1571816 ] [0.88758431 0.00864736 0.00864736 0.00864736 0.00864736 0.00864736\n",
      " 0.00864736 0.00864736 0.00864736 0.00864736 0.00864736 0.00864736\n",
      " 0.00864736 0.00864736]\n"
     ]
    },
    {
     "name": "stderr",
     "output_type": "stream",
     "text": [
      "\r",
      " 57%|█████▋    | 13/23 [00:02<00:02,  4.26it/s]"
     ]
    },
    {
     "name": "stdout",
     "output_type": "stream",
     "text": [
      "[ 85.45761502 144.14586641 144.14586641 144.14586641 144.14586641\n",
      " 144.14586641 144.14586641 144.14586641 144.14586641 144.14586641\n",
      " 144.14586641 144.14586641 144.14586641 144.14586641 144.14586641] [0.8875733  0.00803048 0.00803048 0.00803048 0.00803048 0.00803048\n",
      " 0.00803048 0.00803048 0.00803048 0.00803048 0.00803048 0.00803048\n",
      " 0.00803048 0.00803048 0.00803048]\n"
     ]
    },
    {
     "name": "stderr",
     "output_type": "stream",
     "text": [
      "\r",
      " 61%|██████    | 14/23 [00:02<00:02,  3.81it/s]"
     ]
    },
    {
     "name": "stdout",
     "output_type": "stream",
     "text": [
      "[ 84.8002243  144.13607188 144.13607188 144.13607188 144.13607189\n",
      " 144.13607188 144.13607188 144.13607188 144.13607188 144.13607188\n",
      " 144.13607188 144.13607188 144.13607188 144.13607188 144.13607188\n",
      " 144.13607188] [0.88756298 0.0074958  0.0074958  0.0074958  0.0074958  0.0074958\n",
      " 0.0074958  0.0074958  0.0074958  0.0074958  0.0074958  0.0074958\n",
      " 0.0074958  0.0074958  0.0074958  0.0074958 ]\n"
     ]
    },
    {
     "name": "stderr",
     "output_type": "stream",
     "text": [
      "\r",
      " 65%|██████▌   | 15/23 [00:02<00:02,  3.36it/s]"
     ]
    },
    {
     "name": "stdout",
     "output_type": "stream",
     "text": [
      "[ 84.19021201 144.12751073 144.12751073 144.12751073 144.12751073\n",
      " 144.12751073 144.12751073 144.12751073 144.12751073 144.12751073\n",
      " 144.12751073 144.12751073 144.12751073 144.12751073 144.12751073\n",
      " 144.12751073 144.12751073] [0.88755326 0.00702792 0.00702792 0.00702792 0.00702792 0.00702792\n",
      " 0.00702792 0.00702792 0.00702792 0.00702792 0.00702792 0.00702792\n",
      " 0.00702792 0.00702792 0.00702792 0.00702792 0.00702792]\n"
     ]
    },
    {
     "name": "stderr",
     "output_type": "stream",
     "text": [
      "\r",
      " 70%|██████▉   | 16/23 [00:03<00:02,  3.02it/s]"
     ]
    },
    {
     "name": "stdout",
     "output_type": "stream",
     "text": [
      "[ 83.6214837  144.11996375 144.11996375 144.11996375 144.11996375\n",
      " 144.11996375 144.11996375 144.11996375 144.11996375 144.11996375\n",
      " 144.11996375 144.11996375 144.11996375 144.11996375 144.11996375\n",
      " 144.11996375 144.11996375 144.11996375] [0.88754407 0.00661505 0.00661505 0.00661505 0.00661505 0.00661505\n",
      " 0.00661505 0.00661505 0.00661505 0.00661505 0.00661505 0.00661505\n",
      " 0.00661505 0.00661505 0.00661505 0.00661505 0.00661505 0.00661505]\n"
     ]
    },
    {
     "name": "stderr",
     "output_type": "stream",
     "text": [
      "\r",
      " 74%|███████▍  | 17/23 [00:03<00:02,  2.64it/s]"
     ]
    },
    {
     "name": "stdout",
     "output_type": "stream",
     "text": [
      "[ 83.08903415 144.11326074 144.11326074 144.11326074 144.11326074\n",
      " 144.11326074 144.11326074 144.11326074 144.11326074 144.11326074\n",
      " 144.11326074 144.11326074 144.11326074 144.11326074 144.11326074\n",
      " 144.11326074 144.11326074 144.11326074 144.11326074] [0.88753534 0.00624804 0.00624804 0.00624804 0.00624804 0.00624804\n",
      " 0.00624804 0.00624804 0.00624804 0.00624804 0.00624804 0.00624804\n",
      " 0.00624804 0.00624804 0.00624804 0.00624804 0.00624804 0.00624804\n",
      " 0.00624804]\n"
     ]
    },
    {
     "name": "stderr",
     "output_type": "stream",
     "text": [
      "\r",
      " 78%|███████▊  | 18/23 [00:04<00:02,  2.35it/s]"
     ]
    },
    {
     "name": "stdout",
     "output_type": "stream",
     "text": [
      "[ 82.58870412 144.10726768 144.10726768 144.10726768 144.10726768\n",
      " 144.10726768 144.10726768 144.10726768 144.10726768 144.10726768\n",
      " 144.10726768 144.10726768 144.10726768 144.10726768 144.10726768\n",
      " 144.10726768 144.10726768 144.10726768 144.10726768 144.10726768] [0.88752704 0.00591963 0.00591963 0.00591963 0.00591963 0.00591963\n",
      " 0.00591963 0.00591963 0.00591963 0.00591963 0.00591963 0.00591963\n",
      " 0.00591963 0.00591963 0.00591963 0.00591963 0.00591963 0.00591963\n",
      " 0.00591963 0.00591963]\n"
     ]
    },
    {
     "name": "stderr",
     "output_type": "stream",
     "text": [
      "\r",
      " 83%|████████▎ | 19/23 [00:04<00:01,  2.17it/s]"
     ]
    },
    {
     "name": "stdout",
     "output_type": "stream",
     "text": [
      "[ 82.11700095 144.10187737 144.10187737 144.10187737 144.10187737\n",
      " 144.10187737 144.10187737 144.10187737 144.10187737 144.10187737\n",
      " 144.10187737 144.10187737 144.10187737 144.10187737 144.10187737\n",
      " 144.10187737 144.10187737 144.10187737 144.10187737 144.10187737\n",
      " 144.10187737] [0.88751913 0.00562404 0.00562404 0.00562404 0.00562404 0.00562404\n",
      " 0.00562404 0.00562404 0.00562404 0.00562404 0.00562404 0.00562404\n",
      " 0.00562404 0.00562404 0.00562404 0.00562404 0.00562404 0.00562404\n",
      " 0.00562404 0.00562404 0.00562404]\n"
     ]
    },
    {
     "name": "stderr",
     "output_type": "stream",
     "text": [
      "\r",
      " 87%|████████▋ | 20/23 [00:05<00:01,  2.05it/s]"
     ]
    },
    {
     "name": "stdout",
     "output_type": "stream",
     "text": [
      "[ 81.67096443 144.09700323 144.09700323 144.09700323 144.09700323\n",
      " 144.09700323 144.09700323 144.09700323 144.09700323 144.09700323\n",
      " 144.09700323 144.09700323 144.09700323 144.09700323 144.09700323\n",
      " 144.09700323 144.09700323 144.09700323 144.09700323 144.09700323\n",
      " 144.09700323 144.09700323] [0.88751155 0.00535659 0.00535659 0.00535659 0.00535659 0.00535659\n",
      " 0.00535659 0.00535659 0.00535659 0.00535659 0.00535659 0.00535659\n",
      " 0.00535659 0.00535659 0.00535659 0.00535659 0.00535659 0.00535659\n",
      " 0.00535659 0.00535659 0.00535659 0.00535659]\n"
     ]
    },
    {
     "name": "stderr",
     "output_type": "stream",
     "text": [
      "\r",
      " 91%|█████████▏| 21/23 [00:05<00:01,  1.91it/s]"
     ]
    },
    {
     "name": "stdout",
     "output_type": "stream",
     "text": [
      "[ 81.24806444 144.09257449 144.09257449 144.09257449 144.09257449\n",
      " 144.09257449 144.09257449 144.09257449 144.09257449 144.09257449\n",
      " 144.09257449 144.09257449 144.09257449 144.09257449 144.09257449\n",
      " 144.09257449 144.09257449 144.09257449 144.09257449 144.09257449\n",
      " 144.09257449 144.09257449 144.09257449] [0.88750429 0.00511344 0.00511344 0.00511344 0.00511344 0.00511344\n",
      " 0.00511344 0.00511344 0.00511344 0.00511344 0.00511344 0.00511344\n",
      " 0.00511344 0.00511344 0.00511344 0.00511344 0.00511344 0.00511344\n",
      " 0.00511344 0.00511344 0.00511344 0.00511344 0.00511344]\n"
     ]
    },
    {
     "name": "stderr",
     "output_type": "stream",
     "text": [
      "\r",
      " 96%|█████████▌| 22/23 [00:06<00:00,  1.77it/s]"
     ]
    },
    {
     "name": "stdout",
     "output_type": "stream",
     "text": [
      "[ 80.84612209 144.08853276 144.08853276 144.08853276 144.08853276\n",
      " 144.08853276 144.08853276 144.08853276 144.08853276 144.08853276\n",
      " 144.08853276 144.08853276 144.08853276 144.08853276 144.08853276\n",
      " 144.08853276 144.08853276 144.08853276 144.08853276 144.08853276\n",
      " 144.08853276 144.08853276 144.08853276 144.08853276] [0.88749732 0.00489142 0.00489142 0.00489142 0.00489142 0.00489142\n",
      " 0.00489142 0.00489142 0.00489142 0.00489142 0.00489142 0.00489142\n",
      " 0.00489142 0.00489142 0.00489142 0.00489142 0.00489142 0.00489142\n",
      " 0.00489142 0.00489142 0.00489142 0.00489142 0.00489142 0.00489142]\n"
     ]
    },
    {
     "name": "stderr",
     "output_type": "stream",
     "text": [
      "100%|██████████| 23/23 [00:07<00:00,  3.14it/s]"
     ]
    },
    {
     "name": "stdout",
     "output_type": "stream",
     "text": [
      "[ 80.463248   144.08482942 144.08482942 144.08482942 144.08482942\n",
      " 144.08482942 144.08482942 144.08482942 144.08482942 144.08482942\n",
      " 144.08482942 144.08482942 144.08482942 144.08482942 144.08482942\n",
      " 144.08482942 144.08482942 144.08482942 144.08482942 144.08482942\n",
      " 144.08482942 144.08482942 144.08482942 144.08482942 144.08482942] [0.88749062 0.00468789 0.00468789 0.00468789 0.00468789 0.00468789\n",
      " 0.00468789 0.00468789 0.00468789 0.00468789 0.00468789 0.00468789\n",
      " 0.00468789 0.00468789 0.00468789 0.00468789 0.00468789 0.00468789\n",
      " 0.00468789 0.00468789 0.00468789 0.00468789 0.00468789 0.00468789\n",
      " 0.00468789]\n"
     ]
    },
    {
     "name": "stderr",
     "output_type": "stream",
     "text": [
      "\n"
     ]
    },
    {
     "data": {
      "text/plain": [
       "(23,)"
      ]
     },
     "execution_count": 488,
     "metadata": {},
     "output_type": "execute_result"
    }
   ],
   "source": [
    "alpha    = 9\n",
    "customHi = 150.\n",
    "customLo = 80.\n",
    "ns       = np.arange(2, 25)\n",
    "custom   = []\n",
    "for n in tqdm(ns):\n",
    "    costs = [1]\n",
    "    guess = [customLo]\n",
    "\n",
    "    costs.extend([128]*n)\n",
    "    guess.extend([customHi]*n)\n",
    "\n",
    "    bids  = getEquilBids(costs, a=alpha, guess=guess)\n",
    "    allos = getAllos(bids, a=alpha)\n",
    "    print(bids, allos)\n",
    "#     break\n",
    "\n",
    "    custom.append(np.dot(costs, allos))\n",
    "custom = np.array(custom)\n",
    "custom.shape"
   ]
  },
  {
   "cell_type": "code",
   "execution_count": 489,
   "metadata": {},
   "outputs": [
    {
     "data": {
      "text/plain": [
       "[<matplotlib.lines.Line2D at 0x128b36400>]"
      ]
     },
     "execution_count": 489,
     "metadata": {},
     "output_type": "execute_result"
    },
    {
     "data": {
      "image/png": "[encoded data removed]",
      "text/plain": [
       "<Figure size 432x288 with 1 Axes>"
      ]
     },
     "metadata": {
      "needs_background": "light"
     },
     "output_type": "display_data"
    }
   ],
   "source": [
    "plt.plot(custom)\n",
    "plt.plot(c128res[6])"
   ]
  },
  {
   "cell_type": "code",
   "execution_count": 494,
   "metadata": {},
   "outputs": [
    {
     "data": {
      "image/png": "[encoded data removed]",
      "text/plain": [
       "<Figure size 1008x288 with 3 Axes>"
      ]
     },
     "metadata": {
      "needs_background": "light"
     },
     "output_type": "display_data"
    }
   ],
   "source": [
    "f, axarr = plt.subplots(ncols=3, figsize=(14, 4))\n",
    "\n",
    "c = np.arange(1, len(alphas)+1)\n",
    "norm = mpl.colors.Normalize(vmin=c.min(), vmax=c.max())\n",
    "cmap = mpl.cm.ScalarMappable(norm=norm, cmap=mpl.cm.coolwarm)\n",
    "cmap.set_array([])\n",
    "\n",
    "plot_handles = []\n",
    "hline_handles = []\n",
    "for i,a in enumerate(alphas):\n",
    "    color = cmap.to_rgba(i+1)\n",
    "    line, = axarr[0].plot(ns, c2res[i], linewidth=0.5, label=r'$\\alpha=${:d}'.format(a), color=color,\n",
    "                  linestyle='dotted', marker='o', fillstyle='full')\n",
    "    hline = axarr[0].axhline((2+a-1)/a, alpha=0.4, color=color, linewidth=3,\n",
    "                             label=r'$\\alpha=${:d} lb'.format(a))\n",
    "    plot_handles.append(line)\n",
    "    hline_handles.append(hline)\n",
    "    \n",
    "    \n",
    "    axarr[1].plot(ns, c16res[i], linewidth=0.5, color=color, linestyle='dotted', marker='o', fillstyle='full')\n",
    "    axarr[1].axhline((16+a-1)/a, alpha=0.4, color=color, linewidth=3)\n",
    "\n",
    "    if i != 4:\n",
    "        axarr[2].plot(ns, c128res[i], linewidth=0.5, color=color, linestyle='dotted', marker='o', fillstyle='full')\n",
    "        axarr[2].axhline((128+a-1)/a, alpha=0.4, color=color, linewidth=3)\n",
    "    \n",
    "    \n",
    "handles = plot_handles + hline_handles\n",
    "labels = [h.get_label() for h in handles]\n",
    "\n",
    "for ax in axarr:\n",
    "    ax.set_xlabel('k', size=14)\n",
    "    ax.grid(alpha=0.2)\n",
    "\n",
    "axarr[-1].legend(handles, labels, bbox_to_anchor=(1.37, 0.8), loc='upper center', ncol=2)\n",
    "\n",
    "axarr[0].set_ylabel('welfare loss', size=14)\n",
    "axarr[0].set_title(r'$C=2$', size=17)\n",
    "axarr[1].set_title(r'$C=16$', size=17)\n",
    "axarr[2].set_title(r'$C=128$', size=17)\n",
    "\n",
    "plt.savefig('out.png', dpi=150, bbox_inches='tight', facecolor='white')\n",
    "plt.show()"
   ]
  },
  {
   "cell_type": "code",
   "execution_count": null,
   "metadata": {},
   "outputs": [],
   "source": []
  },
  {
   "cell_type": "code",
   "execution_count": null,
   "metadata": {},
   "outputs": [],
   "source": []
  },
  {
   "cell_type": "code",
   "execution_count": null,
   "metadata": {},
   "outputs": [],
   "source": []
  },
  {
   "cell_type": "code",
   "execution_count": null,
   "metadata": {},
   "outputs": [],
   "source": []
  },
  {
   "cell_type": "code",
   "execution_count": null,
   "metadata": {},
   "outputs": [],
   "source": []
  },
  {
   "cell_type": "code",
   "execution_count": null,
   "metadata": {},
   "outputs": [],
   "source": []
  },
  {
   "cell_type": "code",
   "execution_count": null,
   "metadata": {},
   "outputs": [],
   "source": []
  },
  {
   "cell_type": "code",
   "execution_count": null,
   "metadata": {},
   "outputs": [],
   "source": []
  },
  {
   "cell_type": "code",
   "execution_count": null,
   "metadata": {},
   "outputs": [],
   "source": []
  },
  {
   "cell_type": "code",
   "execution_count": null,
   "metadata": {},
   "outputs": [],
   "source": []
  },
  {
   "cell_type": "code",
   "execution_count": null,
   "metadata": {},
   "outputs": [],
   "source": []
  },
  {
   "cell_type": "code",
   "execution_count": null,
   "metadata": {},
   "outputs": [],
   "source": []
  },
  {
   "cell_type": "code",
   "execution_count": null,
   "metadata": {},
   "outputs": [],
   "source": []
  },
  {
   "cell_type": "code",
   "execution_count": null,
   "metadata": {},
   "outputs": [],
   "source": []
  },
  {
   "cell_type": "code",
   "execution_count": 42,
   "metadata": {},
   "outputs": [
    {
     "data": {
      "text/plain": [
       "array([43.54167587,  1.02180144,  1.00484542,  1.00311307,  1.00273902,\n",
       "        1.00609571,  1.0071116 ,  1.00812748,  1.00914334,  1.01015919,\n",
       "        1.01117502,  1.01219083,  1.01320663,  1.01422241,  1.01523817,\n",
       "        1.01625392,  1.01726965,  1.01828537,  1.01930107,  1.02031675,\n",
       "        1.02133242,  1.02234807,  1.0233637 ,  1.02437932])"
      ]
     },
     "execution_count": 42,
     "metadata": {},
     "output_type": "execute_result"
    }
   ],
   "source": [
    "a3res[2]"
   ]
  },
  {
   "cell_type": "code",
   "execution_count": 41,
   "metadata": {},
   "outputs": [
    {
     "data": {
      "text/plain": [
       "[<matplotlib.lines.Line2D at 0x1260933a0>]"
      ]
     },
     "execution_count": 41,
     "metadata": {},
     "output_type": "execute_result"
    },
    {
     "data": {
      "image/png": "[encoded data removed]",
      "text/plain": [
       "<Figure size 432x288 with 1 Axes>"
      ]
     },
     "metadata": {
      "needs_background": "light"
     },
     "output_type": "display_data"
    }
   ],
   "source": [
    "plt.plot(ns, a3res[0])\n",
    "plt.plot(ns, a3res[1])\n",
    "plt.plot(ns, a3res[2])"
   ]
  },
  {
   "cell_type": "code",
   "execution_count": null,
   "metadata": {},
   "outputs": [],
   "source": [
    "a     = 3\n",
    "Cs    = [2, 16, 128]\n",
    "ns    = np.arange(1, 25)\n",
    "\n",
    "a3res     = []\n",
    "lbs       = []\n",
    "initials  = [8, 16, 50]\n",
    "for i,C in enumerate(Cs):\n",
    "    temp = []\n",
    "    lbs.append((C+a-1)/a)\n",
    "    for n in tqdm(ns):\n",
    "        costs = [1]\n",
    "        costs.extend([C]*n)\n",
    "        guess = [1]\n",
    "        guess.extend([initials[i]]*n)\n",
    "        bids  = getEquilBids(costs, a=a, guess=guess)\n",
    "        allos = getAllos(bids, a=a)\n",
    "        temp.append(np.dot(costs, allos))\n",
    "    a3res.append(temp)\n",
    "a3res = np.array(a3res)\n",
    "a3res.shape"
   ]
  }
 ],
 "metadata": {
  "kernelspec": {
   "display_name": "Python 3",
   "language": "python",
   "name": "python3"
  },
  "language_info": {
   "codemirror_mode": {
    "name": "ipython",
    "version": 3
   },
   "file_extension": ".py",
   "mimetype": "text/x-python",
   "name": "python",
   "nbconvert_exporter": "python",
   "pygments_lexer": "ipython3",
   "version": "3.8.16"
  }
 },
 "nbformat": 4,
 "nbformat_minor": 4
}
