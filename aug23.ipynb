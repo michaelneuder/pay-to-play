{
 "cells": [
  {
   "cell_type": "code",
   "execution_count": 1,
   "metadata": {},
   "outputs": [],
   "source": [
    "import matplotlib.pyplot as plt\n",
    "import matplotlib as mpl\n",
    "import matplotlib.patches as mpatches\n",
    "import numpy as np\n",
    "import pandas as pd\n",
    "import cvxpy as cp\n",
    "from scipy.stats import poisson, uniform, expon, pareto\n",
    "from scipy.optimize import minimize, fsolve\n",
    "from tqdm import tqdm\n",
    "from mdptoolbox import mdp, util\n",
    "import itertools\n",
    "from scipy.sparse import csr_matrix, lil_matrix\n",
    "from matplotlib.patches import Patch\n",
    "import math\n",
    "import random\n",
    "import sympy as sp\n",
    "from sympy.printing.latex import print_latex"
   ]
  },
  {
   "cell_type": "markdown",
   "metadata": {},
   "source": [
    "# tullock alpha < 1"
   ]
  },
  {
   "cell_type": "code",
   "execution_count": 151,
   "metadata": {},
   "outputs": [
    {
     "data": {
      "text/latex": [
       "$\\displaystyle \\frac{b_{2}^{0.5} v_{2}}{b_{1}^{0.5} + b_{2}^{0.5}} - b_{2}$"
      ],
      "text/plain": [
       "b_2**0.5*v_2/(b_1**0.5 + b_2**0.5) - b_2"
      ]
     },
     "execution_count": 151,
     "metadata": {},
     "output_type": "execute_result"
    }
   ],
   "source": [
    "b1, b2, v1, v2 = sp.symbols('b_1 b_2 v_1 v_2')\n",
    "\n",
    "a = 1/2\n",
    "\n",
    "x1 = b1**a / (b1**a + b2**a)\n",
    "x2 = b2**a / (b1**a + b2**a)\n",
    "\n",
    "u1 = v1 * x1 - b1\n",
    "u2 = v2 * x2 - b2\n",
    "u2"
   ]
  },
  {
   "cell_type": "code",
   "execution_count": 152,
   "metadata": {},
   "outputs": [
    {
     "data": {
      "text/latex": [
       "$\\displaystyle \\frac{0.5 b_{1}^{0.5} v_{2}}{b_{2}^{0.5} \\left(b_{1}^{0.5} + b_{2}^{0.5}\\right)^{2}} - 1$"
      ],
      "text/plain": [
       "0.5*b_1**0.5*v_2/(b_2**0.5*(b_1**0.5 + b_2**0.5)**2) - 1"
      ]
     },
     "execution_count": 152,
     "metadata": {},
     "output_type": "execute_result"
    }
   ],
   "source": [
    "part1 = sp.simplify(sp.diff(u1, b1))\n",
    "part2 = sp.simplify(sp.diff(u2, b2))\n",
    "part2"
   ]
  },
  {
   "cell_type": "code",
   "execution_count": 177,
   "metadata": {},
   "outputs": [],
   "source": [
    "func1 = sp.lambdify([b1, b2], part1.evalf(subs={v1:11.}))\n",
    "func2 = sp.lambdify([b1, b2], part2.evalf(subs={v2:1.}))"
   ]
  },
  {
   "cell_type": "code",
   "execution_count": 178,
   "metadata": {},
   "outputs": [
    {
     "data": {
      "text/plain": [
       "(array([0.97897236, 0.08899749]), 10.99999999989627, 1.0679698490599445)"
      ]
     },
     "execution_count": 178,
     "metadata": {},
     "output_type": "execute_result"
    }
   ],
   "source": [
    "def eqs(p):\n",
    "    b1, b2 = p\n",
    "    return [func1(b1, b2), func2(b1, b2)]\n",
    "\n",
    "sol = fsolve(eqs, (0.49, 0.12))\n",
    "sol, sol[0]/sol[1], sum(sol)"
   ]
  },
  {
   "cell_type": "markdown",
   "metadata": {},
   "source": [
    "# monotonicity \n",
    " \n",
    "- we noticed that in the gamma-k construction, there was some monotonicity\n",
    "  - payments monotone decreasing in k\n",
    "  - welfare cost monotone increasing in k\n",
    "- intuitively it feels like neither of these hold more generally, would be good to show that."
   ]
  },
  {
   "cell_type": "code",
   "execution_count": null,
   "metadata": {},
   "outputs": [],
   "source": [
    "# payments. there must be a new player that has a \"high enough\" true cost to make us pay more"
   ]
  },
  {
   "cell_type": "code",
   "execution_count": 2,
   "metadata": {},
   "outputs": [],
   "source": [
    "def getEquilBids(cs, a, guess=None):\n",
    "    n = len(cs)\n",
    "    bs = [sp.Symbol('b{}'.format(i)) for i in range(n)]\n",
    "    \n",
    "    denom = sum([bi**(-a) for bi in bs])\n",
    "    xs    = [bi**(-a)/denom for bi in bs]\n",
    "    us    = [(bs[i] - cs[i])*xs[i] for i in range(n)]\n",
    "    diffs = [sp.diff(us[i], bs[i]) for i in range(n)]\n",
    "    funcs = [sp.lambdify(bs, diffs[i]) for i in range(n)]\n",
    "    \n",
    "    def eqs(bs):\n",
    "        return [f(*bs) for f in funcs]\n",
    "    \n",
    "    initial_guess = cs\n",
    "    if guess != None:\n",
    "        initial_guess = guess\n",
    "    \n",
    "    return fsolve(eqs, initial_guess)\n",
    "\n",
    "def getAllos(bids, a):\n",
    "    denom = sum([b**(-a) for b in bids])\n",
    "    return np.array(bids**(-a)) / denom"
   ]
  },
  {
   "cell_type": "code",
   "execution_count": 233,
   "metadata": {},
   "outputs": [
    {
     "data": {
      "text/plain": [
       "(array([9.66287915, 8.8109329 ]),\n",
       " array([0.43121518, 0.56878482]),\n",
       " 9.178305051291098)"
      ]
     },
     "execution_count": 233,
     "metadata": {},
     "output_type": "execute_result"
    }
   ],
   "source": [
    "bids  = getEquilBids([4,2], a=3)\n",
    "allos = getAllos(bids, 3)\n",
    "bids, allos, np.dot(bids, allos)"
   ]
  },
  {
   "cell_type": "code",
   "execution_count": 274,
   "metadata": {},
   "outputs": [
    {
     "data": {
      "text/plain": [
       "(array([ 9.44715449,  8.56976702, 30.19759448]),\n",
       " array([0.42189055, 0.56519173, 0.01291772]),\n",
       " 9.219310678501467)"
      ]
     },
     "execution_count": 274,
     "metadata": {},
     "output_type": "execute_result"
    }
   ],
   "source": [
    "bids = getEquilBids([4,2,20], a=3, guess=[9,8,30])\n",
    "allos = getAllos(bids, 3)\n",
    "bids, allos, np.dot(bids, allos)"
   ]
  },
  {
   "cell_type": "code",
   "execution_count": 285,
   "metadata": {},
   "outputs": [],
   "source": [
    "# welfare. there may be a situation where adding a second \"low cost\" bidder actually improves welfare loss"
   ]
  },
  {
   "cell_type": "code",
   "execution_count": 282,
   "metadata": {},
   "outputs": [
    {
     "data": {
      "text/plain": [
       "(array([9.66287915, 8.8109329 ]),\n",
       " array([0.43121518, 0.56878482]),\n",
       " 2.862430353259135)"
      ]
     },
     "execution_count": 282,
     "metadata": {},
     "output_type": "execute_result"
    }
   ],
   "source": [
    "costs = [4,2]\n",
    "bids  = getEquilBids(costs, a=3)\n",
    "allos = getAllos(bids, 3)\n",
    "bids, allos, np.dot(costs, allos)"
   ]
  },
  {
   "cell_type": "code",
   "execution_count": 305,
   "metadata": {},
   "outputs": [
    {
     "data": {
      "text/plain": [
       "(array([6.60620491, 4.73000037, 4.73000037]),\n",
       " array([0.15506709, 0.42246646, 0.42246646]),\n",
       " 2.3101341775411135)"
      ]
     },
     "execution_count": 305,
     "metadata": {},
     "output_type": "execute_result"
    }
   ],
   "source": [
    "costs = [4,2,2]\n",
    "bids  = getEquilBids(costs, a=3)\n",
    "allos = getAllos(bids, 3)\n",
    "bids, allos, np.dot(costs, allos)"
   ]
  },
  {
   "cell_type": "markdown",
   "metadata": {},
   "source": [
    "# welfare degredation in n\n",
    "\n",
    "- we want to make statements like, given an alpha, the welfare degrades slowly in n even in the worst case\n",
    "- consider the setting where c_1=1 and we add more players. the welfare decreases as you allocate to more people. \n",
    "- the best case is that the welfare loss is ... because you allocate 1-1/a to c_1=1 and 1/a to a player with value C. then your welfare is 1-1/a+C/a = (c+a-1)/a"
   ]
  },
  {
   "cell_type": "code",
   "execution_count": 19,
   "metadata": {},
   "outputs": [
    {
     "data": {
      "text/plain": [
       "75000.75"
      ]
     },
     "execution_count": 19,
     "metadata": {},
     "output_type": "execute_result"
    }
   ],
   "source": [
    "(300000+4-1)/4"
   ]
  },
  {
   "cell_type": "code",
   "execution_count": 16,
   "metadata": {},
   "outputs": [
    {
     "data": {
      "text/plain": [
       "(array([341926.55853692, 450000.21932736]),\n",
       " array([0.74999927, 0.25000073]),\n",
       " 75000.9693499513,\n",
       " 75000.75,\n",
       " 2.92462821741219e-06)"
      ]
     },
     "execution_count": 16,
     "metadata": {},
     "output_type": "execute_result"
    }
   ],
   "source": [
    "a     = 4\n",
    "costs = [1,300000]\n",
    "bids  = getEquilBids(costs, a=a, guess=[10, 30])\n",
    "allos = getAllos(bids, a=a)\n",
    "loss  = np.dot(costs, allos)\n",
    "lossB = np.dot(costs, [1-1/a, 1/a])\n",
    "bids, allos, loss, lossB, (loss-lossB)/loss"
   ]
  },
  {
   "cell_type": "code",
   "execution_count": null,
   "metadata": {},
   "outputs": [],
   "source": [
    "# alpha = 3, show welfare loss as fn of N for various c"
   ]
  },
  {
   "cell_type": "code",
   "execution_count": 77,
   "metadata": {},
   "outputs": [
    {
     "name": "stderr",
     "output_type": "stream",
     "text": [
      "100%|██████████| 23/23 [00:04<00:00,  4.97it/s]\n"
     ]
    },
    {
     "data": {
      "text/plain": [
       "(23,)"
      ]
     },
     "execution_count": 77,
     "metadata": {},
     "output_type": "execute_result"
    }
   ],
   "source": [
    "a     = 3\n",
    "ns    = np.arange(2, 25)\n",
    "\n",
    "a3c2res  = []\n",
    "for n in tqdm(ns):\n",
    "    costs = [1]\n",
    "    costs.extend([2]*n)\n",
    "    guess = [1]\n",
    "    guess.extend([3]*n)\n",
    "    bids  = getEquilBids(costs, a=a, guess=guess)\n",
    "    allos = getAllos(bids, a=a)\n",
    "    a3c2res.append(np.dot(costs, allos))\n",
    "a3c2res = np.array(a3c2res)\n",
    "a3c2res.shape"
   ]
  },
  {
   "cell_type": "code",
   "execution_count": 80,
   "metadata": {},
   "outputs": [
    {
     "name": "stderr",
     "output_type": "stream",
     "text": [
      "100%|██████████| 23/23 [00:05<00:00,  4.57it/s]\n"
     ]
    },
    {
     "data": {
      "text/plain": [
       "(23,)"
      ]
     },
     "execution_count": 80,
     "metadata": {},
     "output_type": "execute_result"
    }
   ],
   "source": [
    "a3c16res  = []\n",
    "for n in tqdm(ns):\n",
    "    costs = [1]\n",
    "    costs.extend([16]*n)\n",
    "    guess = [1]\n",
    "    guess.extend([13]*n)\n",
    "    bids  = getEquilBids(costs, a=a, guess=guess)\n",
    "    allos = getAllos(bids, a=a)\n",
    "#     print(bids, allos)\n",
    "#     print(costs, guess)\n",
    "#     break\n",
    "    a3c16res.append(np.dot(costs, allos))\n",
    "a3c16res = np.array(a3c16res)\n",
    "a3c16res.shape"
   ]
  },
  {
   "cell_type": "code",
   "execution_count": 102,
   "metadata": {},
   "outputs": [
    {
     "name": "stderr",
     "output_type": "stream",
     "text": [
      "100%|██████████| 23/23 [00:04<00:00,  4.71it/s]\n"
     ]
    },
    {
     "data": {
      "text/plain": [
       "(23,)"
      ]
     },
     "execution_count": 102,
     "metadata": {},
     "output_type": "execute_result"
    }
   ],
   "source": [
    "a3c128res  = []\n",
    "for n in tqdm(ns):\n",
    "    costs = [1]\n",
    "    costs.extend([128]*n)\n",
    "    guess = [200]\n",
    "    guess.extend([500]*n)\n",
    "    bids  = getEquilBids(costs, a=a, guess=guess)\n",
    "    allos = getAllos(bids, a=a)\n",
    "#     print(bids, allos)\n",
    "#     print(costs, guess)\n",
    "#     break\n",
    "    a3c128res.append(np.dot(costs, allos))\n",
    "a3c128res = np.array(a3c128res)\n",
    "a3c128res.shape"
   ]
  },
  {
   "cell_type": "code",
   "execution_count": 145,
   "metadata": {},
   "outputs": [
    {
     "name": "stderr",
     "output_type": "stream",
     "text": [
      "100%|██████████| 23/23 [00:00<00:00, 2446.84it/s]\n"
     ]
    },
    {
     "data": {
      "text/plain": [
       "(23,)"
      ]
     },
     "execution_count": 145,
     "metadata": {},
     "output_type": "execute_result"
    }
   ],
   "source": [
    "a3c2res_honest  = []\n",
    "a3c16res_honest  = []\n",
    "a3c128res_honest  = []\n",
    "for n in tqdm(ns):\n",
    "    costs = [1.]\n",
    "    costs.extend([2.]*n)\n",
    "    allos = getAllos(np.array(costs), a=a)\n",
    "    a3c2res_honest.append(np.dot(costs, allos))\n",
    "    costs = [1.]\n",
    "    costs.extend([16.]*n)\n",
    "    allos = getAllos(np.array(costs), a=a)\n",
    "    a3c16res_honest.append(np.dot(costs, allos))\n",
    "    costs = [1.]\n",
    "    costs.extend([128.]*n)\n",
    "    allos = getAllos(np.array(costs), a=a)\n",
    "    a3c128res_honest.append(np.dot(costs, allos))\n",
    "a3c2res_honest = np.array(a3c2res_honest)\n",
    "a3c16res_honest = np.array(a3c16res_honest)\n",
    "a3c128res_honest = np.array(a3c128res_honest)\n",
    "a3c2res_honest.shape"
   ]
  },
  {
   "cell_type": "code",
   "execution_count": 118,
   "metadata": {},
   "outputs": [
    {
     "data": {
      "text/plain": [
       "array([0.72889764, 0.87005104, 0.975692  , 1.06231362, 1.13674689,\n",
       "       1.20257152, 1.26192913, 1.31621615, 1.36640024, 1.41318304,\n",
       "       1.45709154, 1.49853289, 1.53782897, 1.57523928, 1.61097631,\n",
       "       1.64521663, 1.67810873, 1.70977883, 1.74033518, 1.76987147,\n",
       "       1.79846936, 1.8262005 , 1.8531282 ])"
      ]
     },
     "execution_count": 118,
     "metadata": {},
     "output_type": "execute_result"
    }
   ],
   "source": [
    "a3c2pdiff = 100*(a3c2res-((2+a-1)/a))/((2+a-1)/a)\n",
    "a3c16pdiff = 100*(a3c16res-((16+a-1)/a))/((16+a-1)/a)\n",
    "a3c128pdiff = 100*(a3c128res-((128+a-1)/a))/((128+a-1)/a)\n",
    "a3c128pdiff"
   ]
  },
  {
   "cell_type": "code",
   "execution_count": 157,
   "metadata": {},
   "outputs": [
    {
     "data": {
      "image/png": "[encoded data removed]",
      "text/plain": [
       "<Figure size 1008x288 with 6 Axes>"
      ]
     },
     "metadata": {
      "needs_background": "light"
     },
     "output_type": "display_data"
    }
   ],
   "source": [
    "f, axarr = plt.subplots(ncols=3, figsize=(14, 4))\n",
    "\n",
    "data = [\n",
    "    (a3c2res, a3c2pdiff, a3c2res_honest, 'darkturquoise', (2+a-1)/a, r'$C=2$'),\n",
    "    (a3c16res, a3c16pdiff, a3c16res_honest, 'darkmagenta', (16+a-1)/a, r'$C=16$'),\n",
    "    (a3c128res, a3c128pdiff, a3c128res_honest, 'darkred', (128+a-1)/a, r'$C=128$')\n",
    "]\n",
    "\n",
    "for i, (res, pdiff, honest, color, hline_value, title) in enumerate(data):\n",
    "    line1, = axarr[i].plot(ns, res, color=color, linewidth=0.5, label='loss (left)',\n",
    "                           linestyle='dotted', marker='o', fillstyle='none')\n",
    "    line2 = axarr[i].axhline(hline_value, color=color, label='bound (left)', alpha=0.6, linewidth=2)\n",
    "    \n",
    "    twinx = axarr[i].twinx()\n",
    "    line3, = twinx.plot(ns, pdiff, color=color, linewidth=0.5, label='% change (right)',\n",
    "                        linestyle='dotted', marker='s', fillstyle='full')\n",
    "#     line4, = axarr[i].plot(ns, honest, color=color, linewidth=0.5, label='honest loss (left axis)',\n",
    "#                            linestyle='-.', marker='*', fillstyle='none')\n",
    "\n",
    "    lines = [line1, line3, line2]\n",
    "    labels = [line.get_label() for line in lines]\n",
    "    axarr[i].legend(lines, labels)\n",
    "    axarr[i].set_title(title, size=17)\n",
    "\n",
    "for ax in axarr:\n",
    "    ax.set_xlabel('k', size=14)\n",
    "    ax.grid(alpha=0.2)\n",
    "\n",
    "axarr[0].set_ylabel('welfare loss', size=14)\n",
    "twinx.set_ylabel('percent change', size=14)\n",
    "\n",
    "f.subplots_adjust(wspace=0.3)\n",
    "# plt.savefig('out.png', dpi=150, bbox_inches='tight', facecolor='white')\n",
    "plt.show()"
   ]
  },
  {
   "cell_type": "markdown",
   "metadata": {},
   "source": [
    "# counter example for adding a max-coster maximally degrading welfare "
   ]
  },
  {
   "cell_type": "code",
   "execution_count": 201,
   "metadata": {},
   "outputs": [
    {
     "name": "stdout",
     "output_type": "stream",
     "text": [
      "costs=[1, 128]\n",
      "bids=[204.19102779 256.63306468]\n",
      "allos=[0.66502617 0.33497383]\n",
      "w. loss=43.54167586667451\n",
      "\n",
      "costs=[1, 128]; w. loss=43.54167586667451\n"
     ]
    }
   ],
   "source": [
    "costs = [1]\n",
    "guess = [200]\n",
    "\n",
    "costs.extend([128]*1)\n",
    "guess.extend([500]*1)\n",
    "\n",
    "bids  = getEquilBids(costs, a=a, guess=guess)\n",
    "allos = getAllos(bids, a=a)\n",
    "\n",
    "print(\"costs={}\\nbids={}\\nallos={}\\nw. loss={}\".format(costs, bids, allos, np.dot(costs, allos)))\n",
    "print()\n",
    "print(\"costs={}; w. loss={}\".format(costs, np.dot(costs, allos)))"
   ]
  },
  {
   "cell_type": "code",
   "execution_count": 202,
   "metadata": {},
   "outputs": [
    {
     "name": "stdout",
     "output_type": "stream",
     "text": [
      "costs=[1, 128, 128]\n",
      "bids=[135.02747054 213.54609094 213.54609094]\n",
      "allos=[0.66417961 0.16791019 0.16791019]\n",
      "w. loss=43.64918897930342\n",
      "\n",
      "costs=[1, 128, 128]; w. loss=43.64918897930342\n"
     ]
    }
   ],
   "source": [
    "costs = [1]\n",
    "guess = [200]\n",
    "\n",
    "costs.extend([128]*1)\n",
    "guess.extend([500]*1)\n",
    "\n",
    "costs.append(128)\n",
    "guess.append(500)\n",
    "\n",
    "bids  = getEquilBids(costs, a=a, guess=guess)\n",
    "allos = getAllos(bids, a=a)\n",
    "print(\"costs={}\\nbids={}\\nallos={}\\nw. loss={}\".format(costs, bids, allos, np.dot(costs, allos)))\n",
    "print()\n",
    "print(\"costs={}; w. loss={}\".format(costs, np.dot(costs, allos)))"
   ]
  },
  {
   "cell_type": "code",
   "execution_count": 204,
   "metadata": {},
   "outputs": [
    {
     "name": "stdout",
     "output_type": "stream",
     "text": [
      "costs=[1, 128, 80]\n",
      "bids=[103.38458282 201.87396796 143.6156503 ]\n",
      "allos=[0.66341097 0.08910643 0.24748261]\n",
      "w. loss=31.867641994840255\n",
      "\n",
      "costs=[1, 128, 80]; w. loss=31.867641994840255\n"
     ]
    }
   ],
   "source": [
    "costs = [1]\n",
    "guess = [170]\n",
    "\n",
    "costs.extend([128]*1)\n",
    "guess.extend([200]*1)\n",
    "\n",
    "costs.append(80)\n",
    "guess.append(100)\n",
    "\n",
    "bids  = getEquilBids(costs, a=a, guess=guess)\n",
    "allos = getAllos(bids, a=a)\n",
    "print(\"costs={}\\nbids={}\\nallos={}\\nw. loss={}\".format(costs, bids, allos, np.dot(costs, allos)))\n",
    "print()\n",
    "print(\"costs={}; w. loss={}\".format(costs, np.dot(costs, allos)))"
   ]
  },
  {
   "cell_type": "code",
   "execution_count": 220,
   "metadata": {},
   "outputs": [
    {
     "data": {
      "text/plain": [
       "array([  1,   8,  15,  22,  29,  36,  43,  50,  57,  64,  71,  78,  85,\n",
       "        92,  99, 106, 113, 120, 127])"
      ]
     },
     "execution_count": 220,
     "metadata": {},
     "output_type": "execute_result"
    }
   ],
   "source": [
    "otherCosts"
   ]
  },
  {
   "cell_type": "code",
   "execution_count": 237,
   "metadata": {},
   "outputs": [
    {
     "data": {
      "text/plain": [
       "43"
      ]
     },
     "execution_count": 237,
     "metadata": {},
     "output_type": "execute_result"
    }
   ],
   "source": [
    "otherCosts = np.arange(1, 129, 3)\n",
    "wWOther   = []\n",
    "for oc in otherCosts:\n",
    "    costs = [1]\n",
    "    guess = [oc]\n",
    "\n",
    "    costs.extend([128]*1)\n",
    "    guess.extend([oc*2]*1)\n",
    "\n",
    "    costs.append(oc)\n",
    "    guess.append(oc*1.5)\n",
    "    bids  = getEquilBids(costs, a=a, guess=guess)\n",
    "    allos = getAllos(bids, a=a)\n",
    "    wWOther.append(np.dot(costs, allos))\n",
    "len(wWOther)"
   ]
  },
  {
   "cell_type": "code",
   "execution_count": 236,
   "metadata": {},
   "outputs": [
    {
     "data": {
      "text/plain": [
       "43"
      ]
     },
     "execution_count": 236,
     "metadata": {},
     "output_type": "execute_result"
    }
   ],
   "source": [
    "otherCosts = np.arange(1, 129, 3)\n",
    "wWOther_512   = []\n",
    "for oc in otherCosts:\n",
    "    costs = [1]\n",
    "    guess = [oc]\n",
    "\n",
    "    costs.extend([512]*1)\n",
    "    guess.extend([oc*4]*1)\n",
    "\n",
    "    costs.append(oc)\n",
    "    guess.append(oc*1.5)\n",
    "    bids  = getEquilBids(costs, a=a, guess=guess)\n",
    "    allos = getAllos(bids, a=a)\n",
    "    wWOther_512.append(np.dot(costs, allos))\n",
    "len(wWOther_512)"
   ]
  },
  {
   "cell_type": "code",
   "execution_count": 245,
   "metadata": {},
   "outputs": [
    {
     "data": {
      "text/plain": [
       "43"
      ]
     },
     "execution_count": 245,
     "metadata": {},
     "output_type": "execute_result"
    }
   ],
   "source": [
    "otherCosts = np.arange(1, 129, 3)\n",
    "wWOther_64   = []\n",
    "for oc in otherCosts:\n",
    "    costs = [1]\n",
    "    guess = [oc]\n",
    "\n",
    "    costs.extend([64]*1)\n",
    "    guess.extend([oc*1.5]*1)\n",
    "\n",
    "    costs.append(oc)\n",
    "    guess.append(oc*1.5)\n",
    "    bids  = getEquilBids(costs, a=a, guess=guess)\n",
    "    allos = getAllos(bids, a=a)\n",
    "    wWOther_64.append(np.dot(costs, allos))\n",
    "len(wWOther_64)"
   ]
  },
  {
   "cell_type": "code",
   "execution_count": 246,
   "metadata": {},
   "outputs": [
    {
     "data": {
      "text/plain": [
       "43"
      ]
     },
     "execution_count": 246,
     "metadata": {},
     "output_type": "execute_result"
    }
   ],
   "source": [
    "otherCosts = np.arange(1, 129, 3)\n",
    "wWOther_32   = []\n",
    "for oc in otherCosts:\n",
    "    costs = [1]\n",
    "    guess = [oc]\n",
    "\n",
    "    costs.extend([32]*1)\n",
    "    guess.extend([oc*1.3]*1)\n",
    "\n",
    "    costs.append(oc)\n",
    "    guess.append(oc*1.4)\n",
    "    bids  = getEquilBids(costs, a=a, guess=guess)\n",
    "    allos = getAllos(bids, a=a)\n",
    "    wWOther_32.append(np.dot(costs, allos))\n",
    "len(wWOther_32)"
   ]
  },
  {
   "cell_type": "code",
   "execution_count": 248,
   "metadata": {},
   "outputs": [
    {
     "data": {
      "text/plain": [
       "[1.00378025987167,\n",
       " 2.219149171330619,\n",
       " 3.4225835597303034,\n",
       " 4.708153689279579,\n",
       " 6.005400881195193,\n",
       " 7.236565967605406,\n",
       " 8.352517384199883,\n",
       " 9.332202182918556,\n",
       " 10.172900782160205,\n",
       " 10.882004543932931,\n",
       " 11.471737314023457,\n",
       " 11.956063746027601,\n",
       " 12.34897633431242,\n",
       " 12.663610036168418,\n",
       " 12.911840641235795,\n",
       " 13.104157411027947,\n",
       " 13.249684312453464,\n",
       " 13.356275510331944,\n",
       " 13.430642475141527,\n",
       " 13.478489005566882,\n",
       " 13.504641749339502,\n",
       " 13.513170349624096,\n",
       " 13.507494941915414,\n",
       " 13.490480742540484,\n",
       " 13.464520396967366,\n",
       " 13.43160519294968,\n",
       " 13.39338637670219,\n",
       " 13.3512277779549,\n",
       " 13.306250869416079,\n",
       " 13.259373255056119,\n",
       " 13.211341485030669,\n",
       " 13.162758971652599,\n",
       " 13.114109683840852,\n",
       " 13.06577821101338,\n",
       " 13.018066724777428,\n",
       " 12.971209262124187,\n",
       " 12.925383743745462,\n",
       " 12.880722051707364,\n",
       " 12.837318462743164,\n",
       " 12.795236681353067,\n",
       " 12.754515703443108,\n",
       " 12.715174677438814,\n",
       " 12.677216935441487]"
      ]
     },
     "execution_count": 248,
     "metadata": {},
     "output_type": "execute_result"
    }
   ],
   "source": [
    "wWOther_32"
   ]
  },
  {
   "cell_type": "code",
   "execution_count": 253,
   "metadata": {},
   "outputs": [
    {
     "data": {
      "image/png": "[encoded data removed]",
      "text/plain": [
       "<Figure size 648x432 with 1 Axes>"
      ]
     },
     "metadata": {
      "needs_background": "light"
     },
     "output_type": "display_data"
    }
   ],
   "source": [
    "f, ax = plt.subplots(figsize=(9,6))\n",
    "\n",
    "ax.plot(otherCosts, wWOther_32, color='maroon', linewidth=1, \n",
    "        linestyle='dotted', marker='o', fillstyle='none', label=r'$c_1=1,c_2=32$')\n",
    "ax.plot(otherCosts, wWOther_64, color='darkmagenta', linewidth=1, \n",
    "        linestyle='dotted', marker='o', fillstyle='none', label=r'$c_1=1,c_2=64$')\n",
    "ax.plot(otherCosts, wWOther, color='darkturquoise', linewidth=1, \n",
    "        linestyle='dotted', marker='o', fillstyle='none', label=r'$c_1=1,c_2=128$')\n",
    "ax.plot(otherCosts, wWOther_512, color='darkgoldenrod', linewidth=1, \n",
    "        linestyle='dotted', marker='o', fillstyle='none', label=r'$c_1=1,c_2=512$')\n",
    "\n",
    "\n",
    "ax.set_xlabel('third player cost', size=14)\n",
    "ax.set_ylabel('welfare loss', size=14)\n",
    "ax.legend()\n",
    "ax.grid(alpha=0.2)\n",
    "plt.savefig('out.png', dpi=150, bbox_inches='tight', facecolor='white')\n",
    "plt.show()"
   ]
  },
  {
   "cell_type": "code",
   "execution_count": null,
   "metadata": {},
   "outputs": [],
   "source": []
  },
  {
   "cell_type": "code",
   "execution_count": null,
   "metadata": {},
   "outputs": [],
   "source": []
  },
  {
   "cell_type": "code",
   "execution_count": null,
   "metadata": {},
   "outputs": [],
   "source": []
  },
  {
   "cell_type": "code",
   "execution_count": null,
   "metadata": {},
   "outputs": [],
   "source": []
  },
  {
   "cell_type": "code",
   "execution_count": null,
   "metadata": {},
   "outputs": [],
   "source": []
  },
  {
   "cell_type": "code",
   "execution_count": null,
   "metadata": {},
   "outputs": [],
   "source": []
  },
  {
   "cell_type": "code",
   "execution_count": null,
   "metadata": {},
   "outputs": [],
   "source": []
  },
  {
   "cell_type": "code",
   "execution_count": null,
   "metadata": {},
   "outputs": [],
   "source": []
  },
  {
   "cell_type": "code",
   "execution_count": 42,
   "metadata": {},
   "outputs": [
    {
     "data": {
      "text/plain": [
       "array([43.54167587,  1.02180144,  1.00484542,  1.00311307,  1.00273902,\n",
       "        1.00609571,  1.0071116 ,  1.00812748,  1.00914334,  1.01015919,\n",
       "        1.01117502,  1.01219083,  1.01320663,  1.01422241,  1.01523817,\n",
       "        1.01625392,  1.01726965,  1.01828537,  1.01930107,  1.02031675,\n",
       "        1.02133242,  1.02234807,  1.0233637 ,  1.02437932])"
      ]
     },
     "execution_count": 42,
     "metadata": {},
     "output_type": "execute_result"
    }
   ],
   "source": [
    "a3res[2]"
   ]
  },
  {
   "cell_type": "code",
   "execution_count": 41,
   "metadata": {},
   "outputs": [
    {
     "data": {
      "text/plain": [
       "[<matplotlib.lines.Line2D at 0x1260933a0>]"
      ]
     },
     "execution_count": 41,
     "metadata": {},
     "output_type": "execute_result"
    },
    {
     "data": {
      "image/png": "[encoded data removed]",
      "text/plain": [
       "<Figure size 432x288 with 1 Axes>"
      ]
     },
     "metadata": {
      "needs_background": "light"
     },
     "output_type": "display_data"
    }
   ],
   "source": [
    "plt.plot(ns, a3res[0])\n",
    "plt.plot(ns, a3res[1])\n",
    "plt.plot(ns, a3res[2])"
   ]
  },
  {
   "cell_type": "code",
   "execution_count": null,
   "metadata": {},
   "outputs": [],
   "source": [
    "a     = 3\n",
    "Cs    = [2, 16, 128]\n",
    "ns    = np.arange(1, 25)\n",
    "\n",
    "a3res     = []\n",
    "lbs       = []\n",
    "initials  = [8, 16, 50]\n",
    "for i,C in enumerate(Cs):\n",
    "    temp = []\n",
    "    lbs.append((C+a-1)/a)\n",
    "    for n in tqdm(ns):\n",
    "        costs = [1]\n",
    "        costs.extend([C]*n)\n",
    "        guess = [1]\n",
    "        guess.extend([initials[i]]*n)\n",
    "        bids  = getEquilBids(costs, a=a, guess=guess)\n",
    "        allos = getAllos(bids, a=a)\n",
    "        temp.append(np.dot(costs, allos))\n",
    "    a3res.append(temp)\n",
    "a3res = np.array(a3res)\n",
    "a3res.shape"
   ]
  }
 ],
 "metadata": {
  "kernelspec": {
   "display_name": "Python 3",
   "language": "python",
   "name": "python3"
  },
  "language_info": {
   "codemirror_mode": {
    "name": "ipython",
    "version": 3
   },
   "file_extension": ".py",
   "mimetype": "text/x-python",
   "name": "python",
   "nbconvert_exporter": "python",
   "pygments_lexer": "ipython3",
   "version": "3.8.16"
  }
 },
 "nbformat": 4,
 "nbformat_minor": 4
}
