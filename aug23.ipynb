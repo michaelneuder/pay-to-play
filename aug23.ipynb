{
 "cells": [
  {
   "cell_type": "code",
   "execution_count": 1,
   "metadata": {},
   "outputs": [],
   "source": [
    "import matplotlib.pyplot as plt\n",
    "import matplotlib as mpl\n",
    "import matplotlib.patches as mpatches\n",
    "import numpy as np\n",
    "import pandas as pd\n",
    "import cvxpy as cp\n",
    "from scipy.stats import poisson, uniform, expon, pareto\n",
    "from scipy.optimize import minimize, fsolve\n",
    "from tqdm import tqdm\n",
    "from mdptoolbox import mdp, util\n",
    "import itertools\n",
    "from scipy.sparse import csr_matrix, lil_matrix\n",
    "from matplotlib.patches import Patch\n",
    "import math\n",
    "import random\n",
    "import sympy as sp\n",
    "from sympy.printing.latex import print_latex"
   ]
  },
  {
   "cell_type": "markdown",
   "metadata": {},
   "source": [
    "# tullock alpha < 1"
   ]
  },
  {
   "cell_type": "code",
   "execution_count": 151,
   "metadata": {},
   "outputs": [
    {
     "data": {
      "text/latex": [
       "$\\displaystyle \\frac{b_{2}^{0.5} v_{2}}{b_{1}^{0.5} + b_{2}^{0.5}} - b_{2}$"
      ],
      "text/plain": [
       "b_2**0.5*v_2/(b_1**0.5 + b_2**0.5) - b_2"
      ]
     },
     "execution_count": 151,
     "metadata": {},
     "output_type": "execute_result"
    }
   ],
   "source": [
    "b1, b2, v1, v2 = sp.symbols('b_1 b_2 v_1 v_2')\n",
    "\n",
    "a = 1/2\n",
    "\n",
    "x1 = b1**a / (b1**a + b2**a)\n",
    "x2 = b2**a / (b1**a + b2**a)\n",
    "\n",
    "u1 = v1 * x1 - b1\n",
    "u2 = v2 * x2 - b2\n",
    "u2"
   ]
  },
  {
   "cell_type": "code",
   "execution_count": 152,
   "metadata": {},
   "outputs": [
    {
     "data": {
      "text/latex": [
       "$\\displaystyle \\frac{0.5 b_{1}^{0.5} v_{2}}{b_{2}^{0.5} \\left(b_{1}^{0.5} + b_{2}^{0.5}\\right)^{2}} - 1$"
      ],
      "text/plain": [
       "0.5*b_1**0.5*v_2/(b_2**0.5*(b_1**0.5 + b_2**0.5)**2) - 1"
      ]
     },
     "execution_count": 152,
     "metadata": {},
     "output_type": "execute_result"
    }
   ],
   "source": [
    "part1 = sp.simplify(sp.diff(u1, b1))\n",
    "part2 = sp.simplify(sp.diff(u2, b2))\n",
    "part2"
   ]
  },
  {
   "cell_type": "code",
   "execution_count": 177,
   "metadata": {},
   "outputs": [],
   "source": [
    "func1 = sp.lambdify([b1, b2], part1.evalf(subs={v1:11.}))\n",
    "func2 = sp.lambdify([b1, b2], part2.evalf(subs={v2:1.}))"
   ]
  },
  {
   "cell_type": "code",
   "execution_count": 178,
   "metadata": {},
   "outputs": [
    {
     "data": {
      "text/plain": [
       "(array([0.97897236, 0.08899749]), 10.99999999989627, 1.0679698490599445)"
      ]
     },
     "execution_count": 178,
     "metadata": {},
     "output_type": "execute_result"
    }
   ],
   "source": [
    "def eqs(p):\n",
    "    b1, b2 = p\n",
    "    return [func1(b1, b2), func2(b1, b2)]\n",
    "\n",
    "sol = fsolve(eqs, (0.49, 0.12))\n",
    "sol, sol[0]/sol[1], sum(sol)"
   ]
  },
  {
   "cell_type": "markdown",
   "metadata": {},
   "source": [
    "# monotonicity \n",
    " \n",
    "- we noticed that in the gamma-k construction, there was some monotonicity\n",
    "  - payments monotone decreasing in k\n",
    "  - welfare cost monotone increasing in k\n",
    "- intuitively it feels like neither of these hold more generally, would be good to show that."
   ]
  },
  {
   "cell_type": "code",
   "execution_count": null,
   "metadata": {},
   "outputs": [],
   "source": [
    "# payments. there must be a new player that has a \"high enough\" true cost to make us pay more"
   ]
  },
  {
   "cell_type": "code",
   "execution_count": 202,
   "metadata": {},
   "outputs": [],
   "source": [
    "def getEquilBids(cs, a, guess=None):\n",
    "    n = len(cs)\n",
    "    bs = [sp.Symbol('b{}'.format(i)) for i in range(n)]\n",
    "    \n",
    "    denom = sum([bi**(-a) for bi in bs])\n",
    "    xs    = [bi**(-a)/denom for bi in bs]\n",
    "    us    = [(bs[i] - cs[i])*xs[i] for i in range(n)]\n",
    "    diffs = [sp.diff(us[i], bs[i]) for i in range(n)]\n",
    "    funcs = [sp.lambdify(bs, diffs[i]) for i in range(n)]\n",
    "    \n",
    "    def eqs(bs):\n",
    "        return [f(*bs) for f in funcs]\n",
    "    \n",
    "    initial_guess = cs\n",
    "    if guess != None:\n",
    "        initial_guess = guess\n",
    "    \n",
    "    return fsolve(eqs, initial_guess)\n",
    "\n",
    "def getAllos(bids, a):\n",
    "    denom = sum([b**(-a) for b in bids])\n",
    "    return np.array(bids**(-a)) / denom"
   ]
  },
  {
   "cell_type": "code",
   "execution_count": 233,
   "metadata": {},
   "outputs": [
    {
     "data": {
      "text/plain": [
       "(array([9.66287915, 8.8109329 ]),\n",
       " array([0.43121518, 0.56878482]),\n",
       " 9.178305051291098)"
      ]
     },
     "execution_count": 233,
     "metadata": {},
     "output_type": "execute_result"
    }
   ],
   "source": [
    "bids  = getEquilBids([4,2], a=3)\n",
    "allos = getAllos(bids, 3)\n",
    "bids, allos, np.dot(bids, allos)"
   ]
  },
  {
   "cell_type": "code",
   "execution_count": 274,
   "metadata": {},
   "outputs": [
    {
     "data": {
      "text/plain": [
       "(array([ 9.44715449,  8.56976702, 30.19759448]),\n",
       " array([0.42189055, 0.56519173, 0.01291772]),\n",
       " 9.219310678501467)"
      ]
     },
     "execution_count": 274,
     "metadata": {},
     "output_type": "execute_result"
    }
   ],
   "source": [
    "bids = getEquilBids([4,2,20], a=3, guess=[9,8,30])\n",
    "allos = getAllos(bids, 3)\n",
    "bids, allos, np.dot(bids, allos)"
   ]
  },
  {
   "cell_type": "code",
   "execution_count": 285,
   "metadata": {},
   "outputs": [],
   "source": [
    "# welfare. there may be a situation where adding a second \"low cost\" bidder actually improves welfare loss"
   ]
  },
  {
   "cell_type": "code",
   "execution_count": 282,
   "metadata": {},
   "outputs": [
    {
     "data": {
      "text/plain": [
       "(array([9.66287915, 8.8109329 ]),\n",
       " array([0.43121518, 0.56878482]),\n",
       " 2.862430353259135)"
      ]
     },
     "execution_count": 282,
     "metadata": {},
     "output_type": "execute_result"
    }
   ],
   "source": [
    "costs = [4,2]\n",
    "bids  = getEquilBids(costs, a=3)\n",
    "allos = getAllos(bids, 3)\n",
    "bids, allos, np.dot(costs, allos)"
   ]
  },
  {
   "cell_type": "code",
   "execution_count": 305,
   "metadata": {},
   "outputs": [
    {
     "data": {
      "text/plain": [
       "(array([6.60620491, 4.73000037, 4.73000037]),\n",
       " array([0.15506709, 0.42246646, 0.42246646]),\n",
       " 2.3101341775411135)"
      ]
     },
     "execution_count": 305,
     "metadata": {},
     "output_type": "execute_result"
    }
   ],
   "source": [
    "costs = [4,2,2]\n",
    "bids  = getEquilBids(costs, a=3)\n",
    "allos = getAllos(bids, 3)\n",
    "bids, allos, np.dot(costs, allos)"
   ]
  },
  {
   "cell_type": "markdown",
   "metadata": {},
   "source": [
    "# welfare degredation in n\n",
    "\n",
    "- we want to make statements like, given an alpha, the welfare degrades slowly in n even in the worst case\n",
    "- consider the setting where c_1=1 and we add more players. the welfare decreases as you allocate to more people. \n",
    "- the best case is that the welfare loss is C/alpha, because you allocate 1-1/a to c_1=1 and 1/a to a player with value C. then your welfare is 1-1/a+C/a = (c+a-1)/a"
   ]
  },
  {
   "cell_type": "code",
   "execution_count": 317,
   "metadata": {},
   "outputs": [
    {
     "data": {
      "text/plain": [
       "14.0"
      ]
     },
     "execution_count": 317,
     "metadata": {},
     "output_type": "execute_result"
    }
   ],
   "source": [
    "(40+3-1)/3"
   ]
  },
  {
   "cell_type": "code",
   "execution_count": 352,
   "metadata": {},
   "outputs": [
    {
     "data": {
      "text/plain": [
       "(array([4.40546645, 4.83143957]),\n",
       " array([0.56878482, 0.43121518]),\n",
       " 1.4312151766295673,\n",
       " 1.3333333333333333,\n",
       " 0.0683907248152164)"
      ]
     },
     "execution_count": 352,
     "metadata": {},
     "output_type": "execute_result"
    }
   ],
   "source": [
    "costs = [1,2]\n",
    "bids  = getEquilBids(costs, a=3)\n",
    "allos = getAllos(bids, 3)\n",
    "loss  = np.dot(costs, allos)\n",
    "lossB = np.dot(costs, [2/3, 1/3])\n",
    "bids, allos, loss, lossB, (loss-lossB)/loss"
   ]
  }
 ],
 "metadata": {
  "kernelspec": {
   "display_name": "Python 3",
   "language": "python",
   "name": "python3"
  },
  "language_info": {
   "codemirror_mode": {
    "name": "ipython",
    "version": 3
   },
   "file_extension": ".py",
   "mimetype": "text/x-python",
   "name": "python",
   "nbconvert_exporter": "python",
   "pygments_lexer": "ipython3",
   "version": "3.8.16"
  }
 },
 "nbformat": 4,
 "nbformat_minor": 4
}
