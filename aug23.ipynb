{
 "cells": [
  {
   "cell_type": "code",
   "execution_count": 1,
   "metadata": {},
   "outputs": [],
   "source": [
    "import matplotlib.pyplot as plt\n",
    "import matplotlib as mpl\n",
    "import matplotlib.patches as mpatches\n",
    "import numpy as np\n",
    "import pandas as pd\n",
    "import cvxpy as cp\n",
    "from scipy.stats import poisson, uniform, expon, pareto\n",
    "from scipy.optimize import minimize, fsolve\n",
    "from tqdm import tqdm\n",
    "from mdptoolbox import mdp, util\n",
    "import itertools\n",
    "from scipy.sparse import csr_matrix, lil_matrix\n",
    "from matplotlib.patches import Patch\n",
    "import math\n",
    "import random\n",
    "import sympy as sp\n",
    "from sympy.printing.latex import print_latex"
   ]
  },
  {
   "cell_type": "markdown",
   "metadata": {},
   "source": [
    "# tullock alpha < 1"
   ]
  },
  {
   "cell_type": "code",
   "execution_count": 151,
   "metadata": {},
   "outputs": [
    {
     "data": {
      "text/latex": [
       "$\\displaystyle \\frac{b_{2}^{0.5} v_{2}}{b_{1}^{0.5} + b_{2}^{0.5}} - b_{2}$"
      ],
      "text/plain": [
       "b_2**0.5*v_2/(b_1**0.5 + b_2**0.5) - b_2"
      ]
     },
     "execution_count": 151,
     "metadata": {},
     "output_type": "execute_result"
    }
   ],
   "source": [
    "b1, b2, v1, v2 = sp.symbols('b_1 b_2 v_1 v_2')\n",
    "\n",
    "a = 1/2\n",
    "\n",
    "x1 = b1**a / (b1**a + b2**a)\n",
    "x2 = b2**a / (b1**a + b2**a)\n",
    "\n",
    "u1 = v1 * x1 - b1\n",
    "u2 = v2 * x2 - b2\n",
    "u2"
   ]
  },
  {
   "cell_type": "code",
   "execution_count": 152,
   "metadata": {},
   "outputs": [
    {
     "data": {
      "text/latex": [
       "$\\displaystyle \\frac{0.5 b_{1}^{0.5} v_{2}}{b_{2}^{0.5} \\left(b_{1}^{0.5} + b_{2}^{0.5}\\right)^{2}} - 1$"
      ],
      "text/plain": [
       "0.5*b_1**0.5*v_2/(b_2**0.5*(b_1**0.5 + b_2**0.5)**2) - 1"
      ]
     },
     "execution_count": 152,
     "metadata": {},
     "output_type": "execute_result"
    }
   ],
   "source": [
    "part1 = sp.simplify(sp.diff(u1, b1))\n",
    "part2 = sp.simplify(sp.diff(u2, b2))\n",
    "part2"
   ]
  },
  {
   "cell_type": "code",
   "execution_count": 166,
   "metadata": {},
   "outputs": [],
   "source": [
    "func1 = sp.lambdify([b1, b2], part1.evalf(subs={v1:200.}))\n",
    "func2 = sp.lambdify([b1, b2], part2.evalf(subs={v2:1.}))"
   ]
  },
  {
   "cell_type": "code",
   "execution_count": 167,
   "metadata": {},
   "outputs": [
    {
     "name": "stderr",
     "output_type": "stream",
     "text": [
      "<lambdifygenerated-79>:2: RuntimeWarning: invalid value encountered in sqrt\n",
      "  return 100.0*b_1**(-0.5)*sqrt(b_2)/(sqrt(b_1) + sqrt(b_2))**2 - 1.0\n",
      "<lambdifygenerated-80>:2: RuntimeWarning: invalid value encountered in double_scalars\n",
      "  return 0.5*sqrt(b_1)*b_2**(-0.5)/(sqrt(b_1) + sqrt(b_2))**2 - 1.0\n",
      "<lambdifygenerated-80>:2: RuntimeWarning: invalid value encountered in sqrt\n",
      "  return 0.5*sqrt(b_1)*b_2**(-0.5)/(sqrt(b_1) + sqrt(b_2))**2 - 1.0\n"
     ]
    },
    {
     "data": {
      "text/plain": [
       "(array([3.13932985, 0.03938495]), 79.70886000804566)"
      ]
     },
     "execution_count": 167,
     "metadata": {},
     "output_type": "execute_result"
    }
   ],
   "source": [
    "def eqs(p):\n",
    "    b1, b2 = p\n",
    "    return [func1(b1, b2), func2(b1, b2)]\n",
    "\n",
    "sol = fsolve(eqs, (0.49, 0.12))\n",
    "sol, sol[0]/sol[1]"
   ]
  }
 ],
 "metadata": {
  "kernelspec": {
   "display_name": "Python 3",
   "language": "python",
   "name": "python3"
  },
  "language_info": {
   "codemirror_mode": {
    "name": "ipython",
    "version": 3
   },
   "file_extension": ".py",
   "mimetype": "text/x-python",
   "name": "python",
   "nbconvert_exporter": "python",
   "pygments_lexer": "ipython3",
   "version": "3.8.16"
  }
 },
 "nbformat": 4,
 "nbformat_minor": 4
}
