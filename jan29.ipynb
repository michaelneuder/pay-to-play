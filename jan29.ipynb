{
 "cells": [
  {
   "cell_type": "code",
   "execution_count": 1,
   "metadata": {},
   "outputs": [],
   "source": [
    "import matplotlib.pyplot as plt\n",
    "import matplotlib as mpl\n",
    "import matplotlib.patches as mpatches\n",
    "import numpy as np\n",
    "import pandas as pd\n",
    "import cvxpy as cp\n",
    "from scipy.stats import poisson, uniform, expon, pareto\n",
    "from scipy.optimize import minimize, fsolve\n",
    "from tqdm import tqdm\n",
    "from mdptoolbox import mdp, util\n",
    "import itertools\n",
    "from scipy.sparse import csr_matrix, lil_matrix\n",
    "from matplotlib.patches import Patch\n",
    "import math\n",
    "import random\n",
    "import sympy as sp\n",
    "from sympy.printing.latex import print_latex\n",
    "from scipy.optimize import least_squares"
   ]
  },
  {
   "cell_type": "markdown",
   "metadata": {},
   "source": [
    "- want to calculate the equilibrium underwhich there is a reserve bid that is less than the value that the high cost bidders would've bid. \n",
    "- i solve the equil bids in the unconstrained case using a numerical system of equations solver.\n",
    "- i dont think that works in the same way with a bounded case."
   ]
  },
  {
   "cell_type": "code",
   "execution_count": 3,
   "metadata": {},
   "outputs": [],
   "source": [
    "def getEquilBids(cs, a, guess=None):\n",
    "    n = len(cs)\n",
    "    bs = [sp.Symbol('b{}'.format(i)) for i in range(n)]\n",
    "    \n",
    "    denom = sum([bi**(-a) for bi in bs])\n",
    "    xs    = [bi**(-a)/denom for bi in bs]\n",
    "    us    = [(bs[i] - cs[i])*xs[i] for i in range(n)]\n",
    "    diffs = [sp.diff(us[i], bs[i]) for i in range(n)]\n",
    "    funcs = [sp.lambdify(bs, diffs[i]) for i in range(n)]\n",
    "    \n",
    "    def eqs(bs):\n",
    "        return [f(*bs) for f in funcs]\n",
    "    \n",
    "    initial_guess = cs\n",
    "    if guess != None:\n",
    "        initial_guess = guess\n",
    "    \n",
    "    return fsolve(eqs, initial_guess)\n",
    "\n",
    "def getAllos(bids, a):\n",
    "    denom = sum([b**(-a) for b in bids])\n",
    "    return np.array(bids**(-a)) / denom"
   ]
  },
  {
   "cell_type": "markdown",
   "metadata": {},
   "source": [
    "- this is what i do for the non-bounded case. below is an example. let's start with two player"
   ]
  },
  {
   "cell_type": "code",
   "execution_count": 4,
   "metadata": {},
   "outputs": [
    {
     "data": {
      "text/plain": [
       "array([ 9.03191683, 10.71104368])"
      ]
     },
     "execution_count": 4,
     "metadata": {},
     "output_type": "execute_result"
    }
   ],
   "source": [
    "# EXAMPLE\n",
    "R_     = 5\n",
    "alpha_ = 3\n",
    "costs   = [1, R_]\n",
    "guesses   = [3, 5]\n",
    "bids= getEquilBids(costs, a=alpha_, guess=guesses)\n",
    "bids"
   ]
  },
  {
   "cell_type": "code",
   "execution_count": 6,
   "metadata": {},
   "outputs": [
    {
     "data": {
      "text/plain": [
       "(array([0.62516557, 0.37483443]), [1, 5], 2.499337708338014)"
      ]
     },
     "execution_count": 6,
     "metadata": {},
     "output_type": "execute_result"
    }
   ],
   "source": [
    "xTilde  = getAllos(bids, a=alpha_)\n",
    "xTilde, costs, np.dot(costs, xTilde)"
   ]
  },
  {
   "cell_type": "markdown",
   "metadata": {},
   "source": [
    "- for the bounded case if we set the reserve bid at say, 10. \n",
    "- i tried a \"bounding box\" thing, but that didn't work. what if i just use the function itself and implement the cap in as a min in the lambdify..."
   ]
  },
  {
   "cell_type": "code",
   "execution_count": 20,
   "metadata": {},
   "outputs": [
    {
     "data": {
      "text/latex": [
       "$\\displaystyle \\frac{1}{\\left(\\frac{1}{\\min\\left(10, b_{1}\\right)^{3}} + \\frac{1}{\\min\\left(10, b_{0}\\right)^{3}}\\right) \\min\\left(10, b_{0}\\right)^{3}}$"
      ],
      "text/plain": [
       "1/((Min(10, b1)**(-3) + Min(10, b0)**(-3))*Min(10, b0)**3)"
      ]
     },
     "execution_count": 20,
     "metadata": {},
     "output_type": "execute_result"
    }
   ],
   "source": [
    "n       = 2\n",
    "reserve = 10\n",
    "alpha_  = 3\n",
    "bs = [sp.Symbol('b{}'.format(i)) for i in range(n)]\n",
    "cs = [1, R_]\n",
    "\n",
    "denom = sum([sp.Min(bi, reserve)**(-alpha_) for bi in bs])\n",
    "xs    = [sp.Min(bi, reserve)**(-alpha_)/denom for bi in bs]\n",
    "xs[0]"
   ]
  },
  {
   "cell_type": "code",
   "execution_count": 27,
   "metadata": {},
   "outputs": [
    {
     "data": {
      "text/latex": [
       "$\\displaystyle \\frac{\\min\\left(10, b_{1}\\right) - 5}{\\left(\\frac{1}{\\min\\left(10, b_{1}\\right)^{3}} + \\frac{1}{\\min\\left(10, b_{0}\\right)^{3}}\\right) \\min\\left(10, b_{1}\\right)^{3}}$"
      ],
      "text/plain": [
       "(Min(10, b1) - 5)/((Min(10, b1)**(-3) + Min(10, b0)**(-3))*Min(10, b1)**3)"
      ]
     },
     "execution_count": 27,
     "metadata": {},
     "output_type": "execute_result"
    }
   ],
   "source": [
    "us    = [(sp.Min(bs[i], reserve) - cs[i])*xs[i] for i in range(n)]\n",
    "us[1]"
   ]
  },
  {
   "cell_type": "code",
   "execution_count": 24,
   "metadata": {},
   "outputs": [
    {
     "data": {
      "text/latex": [
       "$\\displaystyle - \\frac{3 \\left(\\min\\left(10, b_{0}\\right) - 1\\right) \\theta\\left(10 - b_{0}\\right)}{\\left(\\frac{1}{\\min\\left(10, b_{1}\\right)^{3}} + \\frac{1}{\\min\\left(10, b_{0}\\right)^{3}}\\right) \\min\\left(10, b_{0}\\right)^{4}} + \\frac{3 \\left(\\min\\left(10, b_{0}\\right) - 1\\right) \\theta\\left(10 - b_{0}\\right)}{\\left(\\frac{1}{\\min\\left(10, b_{1}\\right)^{3}} + \\frac{1}{\\min\\left(10, b_{0}\\right)^{3}}\\right)^{2} \\min\\left(10, b_{0}\\right)^{7}} + \\frac{\\theta\\left(10 - b_{0}\\right)}{\\left(\\frac{1}{\\min\\left(10, b_{1}\\right)^{3}} + \\frac{1}{\\min\\left(10, b_{0}\\right)^{3}}\\right) \\min\\left(10, b_{0}\\right)^{3}}$"
      ],
      "text/plain": [
       "-3*(Min(10, b0) - 1)*Heaviside(10 - b0)/((Min(10, b1)**(-3) + Min(10, b0)**(-3))*Min(10, b0)**4) + 3*(Min(10, b0) - 1)*Heaviside(10 - b0)/((Min(10, b1)**(-3) + Min(10, b0)**(-3))**2*Min(10, b0)**7) + Heaviside(10 - b0)/((Min(10, b1)**(-3) + Min(10, b0)**(-3))*Min(10, b0)**3)"
      ]
     },
     "execution_count": 24,
     "metadata": {},
     "output_type": "execute_result"
    }
   ],
   "source": [
    "diffs = [sp.diff(us[i], bs[i]) for i in range(n)]\n",
    "diffs[0]"
   ]
  },
  {
   "cell_type": "code",
   "execution_count": 25,
   "metadata": {},
   "outputs": [],
   "source": [
    "funcs = [sp.lambdify(bs, diffs[i]) for i in range(n)]"
   ]
  },
  {
   "cell_type": "code",
   "execution_count": 35,
   "metadata": {},
   "outputs": [
    {
     "data": {
      "text/plain": [
       "(array([ 8.46982049, 10.01608372]),\n",
       " array([ 8.46982049, 10.02293035]),\n",
       " array([ 8.46982049, 10.29314493]),\n",
       " array([ 8.46982049, 10.02293035]))"
      ]
     },
     "execution_count": 35,
     "metadata": {},
     "output_type": "execute_result"
    }
   ],
   "source": [
    "def eqs(bs):\n",
    "    return [f(*bs) for f in funcs]\n",
    "    \n",
    "fsolve(eqs, [1,1]),fsolve(eqs, [5,5]),fsolve(eqs, [8,8]),fsolve(eqs, [5,5])"
   ]
  },
  {
   "cell_type": "markdown",
   "metadata": {},
   "source": [
    "- these all have the same value of b_0, lets check if it solves the eq."
   ]
  },
  {
   "cell_type": "code",
   "execution_count": 37,
   "metadata": {},
   "outputs": [
    {
     "data": {
      "text/latex": [
       "$\\displaystyle \\frac{R^{\\alpha} \\left(R^{\\alpha} \\alpha \\left(b_{0} - 1\\right) - \\alpha \\left(R^{\\alpha} + b_{0}^{\\alpha}\\right) \\left(b_{0} - 1\\right) + b_{0} \\left(R^{\\alpha} + b_{0}^{\\alpha}\\right)\\right)}{b_{0} \\left(R^{\\alpha} + b_{0}^{\\alpha}\\right)^{2}} = 0$"
      ],
      "text/plain": [
       "Eq(R**alpha*(R**alpha*alpha*(b0 - 1) - alpha*(R**alpha + b0**alpha)*(b0 - 1) + b0*(R**alpha + b0**alpha))/(b0*(R**alpha + b0**alpha)**2), 0)"
      ]
     },
     "execution_count": 37,
     "metadata": {},
     "output_type": "execute_result"
    }
   ],
   "source": [
    "b0 = sp.Symbol('b0', positive=True)\n",
    "R = sp.Symbol('R', positive=True)\n",
    "alpha = sp.Symbol('alpha', positive=True)\n",
    "N = sp.Symbol('N', positive=True)\n",
    "\n",
    "u0 = ( (b0 - 1)*b0**(-alpha) ) / ( b0**(-alpha) + R**(-alpha) )\n",
    "foc = sp.Eq(sp.simplify(sp.diff(u0, b0)),0)\n",
    "foc"
   ]
  },
  {
   "cell_type": "code",
   "execution_count": 72,
   "metadata": {},
   "outputs": [
    {
     "data": {
      "text/latex": [
       "$\\displaystyle \\frac{b_{0}^{- \\alpha} \\left(b_{0} - 1\\right)}{b_{0}^{- \\alpha} + R^{- \\alpha}}$"
      ],
      "text/plain": [
       "(b0 - 1)/(b0**alpha*(b0**(-alpha) + R**(-alpha)))"
      ]
     },
     "execution_count": 72,
     "metadata": {},
     "output_type": "execute_result"
    }
   ],
   "source": [
    "u0"
   ]
  },
  {
   "cell_type": "code",
   "execution_count": 42,
   "metadata": {},
   "outputs": [
    {
     "data": {
      "text/latex": [
       "$\\displaystyle 8.46982048740422$"
      ],
      "text/plain": [
       "8.46982048740422"
      ]
     },
     "execution_count": 42,
     "metadata": {},
     "output_type": "execute_result"
    }
   ],
   "source": [
    "sp.nsolve(foc.evalf(subs={R:reserve, alpha:3}), reserve)"
   ]
  },
  {
   "cell_type": "markdown",
   "metadata": {},
   "source": [
    "- yup that is what it reduces too. \n",
    "- let's check on the best response too..."
   ]
  },
  {
   "cell_type": "code",
   "execution_count": 66,
   "metadata": {},
   "outputs": [
    {
     "name": "stderr",
     "output_type": "stream",
     "text": [
      "100%|██████████| 30/30 [00:03<00:00,  9.73it/s]\n"
     ]
    }
   ],
   "source": [
    "c1, c2 = 1, 5\n",
    "curr1, curr2 = 4, 4\n",
    "a = 3\n",
    "\n",
    "b1 = sp.Symbol('b1', positive=True)\n",
    "b2 = sp.Symbol('b2', positive=True)\n",
    "\n",
    "p1Bids, p2Bids = [curr1], [curr2]\n",
    "turn = 0\n",
    "for turn in tqdm(range(30)):\n",
    "    if turn % 2 == 0:\n",
    "        x1 = b1**(-a) / (b1**(-a) + b2**(-a))\n",
    "        u1 = (b1-c1)*x1\n",
    "        partial = sp.diff(u1, b1)\n",
    "        best = sp.Eq(partial, 0).evalf(subs={b2:curr2})\n",
    "        sol = sp.solve(best)[0]\n",
    "        curr1 = sol\n",
    "        p1Bids.append(curr1)\n",
    "    else:\n",
    "        x2 = b2**(-a) / (b1**(-a) + b2**(-a))\n",
    "        u2 = (b2-c2)*x2\n",
    "        partial = sp.diff(u2, b2)\n",
    "        best = sp.Eq(partial, 0).evalf(subs={b1:curr1})\n",
    "        sol = sp.solve(best)[0]\n",
    "        curr2 = sol\n",
    "        p2Bids.append(curr2)"
   ]
  },
  {
   "cell_type": "code",
   "execution_count": 67,
   "metadata": {},
   "outputs": [
    {
     "data": {
      "text/plain": [
       "(9.03143923021108, 10.7107252268931)"
      ]
     },
     "execution_count": 67,
     "metadata": {},
     "output_type": "execute_result"
    }
   ],
   "source": [
    "# matches unbounded\n",
    "p1Bids[-1],p2Bids[-1]"
   ]
  },
  {
   "cell_type": "code",
   "execution_count": 87,
   "metadata": {},
   "outputs": [
    {
     "name": "stderr",
     "output_type": "stream",
     "text": [
      "100%|██████████| 30/30 [00:00<00:00, 49.54it/s]\n"
     ]
    }
   ],
   "source": [
    "c1, c2 = 1, 6\n",
    "curr1, curr2 = 4, 4\n",
    "a = 3\n",
    "\n",
    "b1 = sp.Symbol('b1', positive=True)\n",
    "b2 = sp.Symbol('b2', positive=True)\n",
    "\n",
    "p1Bids, p2Bids = [curr1], [curr2]\n",
    "turn = 0\n",
    "for turn in tqdm(range(30)):\n",
    "    if turn % 2 == 0:\n",
    "        x1 = sp.Min(b1,10)**(-a) / (sp.Min(b1,10)**(-a) + sp.Min(b2,10)**(-a))\n",
    "        u1 = (sp.Min(b1,10)-c1)*x1\n",
    "        partial = sp.diff(u1, b1)\n",
    "        best = sp.Eq(partial, 0).evalf(subs={b2:curr2})\n",
    "        sol = sp.nsolve(best, b1, curr1)\n",
    "        curr1 = sol\n",
    "        p1Bids.append(curr1)\n",
    "    else:\n",
    "        x2 = sp.Min(b2,10)**(-a) / (sp.Min(b1,10)**(-a) + sp.Min(b2,10)**(-a))\n",
    "        u2 = (sp.Min(b2,10)-c2)*x2\n",
    "        partial = sp.diff(u2, b2)\n",
    "        best = sp.Eq(partial, 0).evalf(subs={b1:curr1})\n",
    "        sol = sp.nsolve(best, b2, curr2)\n",
    "        curr2 = sol\n",
    "        p2Bids.append(curr2)"
   ]
  },
  {
   "cell_type": "code",
   "execution_count": 89,
   "metadata": {},
   "outputs": [
    {
     "data": {
      "text/plain": [
       "(8.46982048740422, 10.5958035515675)"
      ]
     },
     "execution_count": 89,
     "metadata": {},
     "output_type": "execute_result"
    }
   ],
   "source": [
    "# matches unbounded\n",
    "p1Bids[-1],p2Bids[-1]"
   ]
  },
  {
   "cell_type": "code",
   "execution_count": 90,
   "metadata": {},
   "outputs": [
    {
     "data": {
      "image/png": "[encoded data removed]",
      "text/plain": [
       "<Figure size 504x288 with 1 Axes>"
      ]
     },
     "metadata": {
      "needs_background": "light"
     },
     "output_type": "display_data"
    }
   ],
   "source": [
    "f, ax = plt.subplots(figsize=(7,4))\n",
    "\n",
    "\n",
    "ax.plot(np.arange(0,31,2), p1Bids, marker='o', fillstyle='none',\n",
    "              linewidth=0.5, color='green', label='player 1')\n",
    "ax.plot(np.arange(1,32,2), p2Bids, marker='s', fillstyle='none', \n",
    "              linewidth=0.5, color='brown', label='player 2')\n",
    "\n",
    "plt.show()"
   ]
  },
  {
   "cell_type": "markdown",
   "metadata": {},
   "source": [
    "# revised figure"
   ]
  },
  {
   "cell_type": "code",
   "execution_count": 139,
   "metadata": {},
   "outputs": [],
   "source": [
    "def getBoundedEquilBids(cs, a, reserve, guess=None):\n",
    "    n = len(cs)\n",
    "    bs = [sp.Symbol('b{}'.format(i)) for i in range(n)]\n",
    "    \n",
    "    denom = sum([sp.Min(bi,reserve)**(-a) for bi in bs])\n",
    "    xs    = [sp.Min(bi,reserve)**(-a)/denom for bi in bs]\n",
    "    us    = [(sp.Min(bs[i],reserve) - cs[i])*xs[i] for i in range(n)]\n",
    "    diffs = [sp.diff(us[i], bs[i]) for i in range(n)]\n",
    "    funcs = [sp.lambdify(bs, diffs[i]) for i in range(n)]\n",
    "    \n",
    "    def eqs(bs):\n",
    "        return [f(*bs) for f in funcs]\n",
    "    \n",
    "    initial_guess = cs\n",
    "    if guess != None:\n",
    "        initial_guess = guess\n",
    "    \n",
    "    return fsolve(eqs, initial_guess)\n",
    "\n",
    "def getBoundedAllos(bids, a, reserve):\n",
    "    bids = np.array([np.min([b, reserve]) for b in bids])\n",
    "    denom = sum([b**(-a) for b in bids])\n",
    "    return np.array(bids**(-a)) / denom"
   ]
  },
  {
   "cell_type": "code",
   "execution_count": 154,
   "metadata": {},
   "outputs": [],
   "source": [
    "c1s     = np.arange(1, 18.01, 0.1)\n",
    "guesses = c1s\n",
    "reserve = 20\n",
    "alpha_  = 3"
   ]
  },
  {
   "cell_type": "code",
   "execution_count": 155,
   "metadata": {},
   "outputs": [
    {
     "data": {
      "text/plain": [
       "array([16.3900899 , 20.41598278])"
      ]
     },
     "execution_count": 155,
     "metadata": {},
     "output_type": "execute_result"
    }
   ],
   "source": [
    "getBoundedEquilBids([1, 18], alpha_, reserve, guess=[4,4])"
   ]
  },
  {
   "cell_type": "code",
   "execution_count": 156,
   "metadata": {},
   "outputs": [
    {
     "data": {
      "text/plain": [
       "((171, 2), (171, 2), (171,))"
      ]
     },
     "execution_count": 156,
     "metadata": {},
     "output_type": "execute_result"
    }
   ],
   "source": [
    "bb          = []\n",
    "xTildes_bb  = []\n",
    "welfares_bb = []\n",
    "for i, c1 in enumerate(c1s):\n",
    "    costs  = [1, c1]\n",
    "    bids   = getBoundedEquilBids(costs, a=alpha_, reserve=reserve, guess=[5, 5])\n",
    "    bids   = np.array([np.min([b, reserve]) for b in bids])\n",
    "    xTilde = getBoundedAllos(bids, a=alpha_, reserve=reserve)\n",
    "    bb.append(bids)\n",
    "    xTildes_bb.append(xTilde)\n",
    "    welfares_bb.append(np.dot(costs, xTilde))\n",
    "bb          = np.asarray(bb)\n",
    "xTildes_bb  = np.asarray(xTildes_bb)\n",
    "welfares_bb = np.asarray(welfares_bb)\n",
    "bb.shape, xTildes_bb.shape, welfares_bb.shape"
   ]
  },
  {
   "cell_type": "code",
   "execution_count": 157,
   "metadata": {},
   "outputs": [
    {
     "data": {
      "image/png": "[encoded data removed]",
      "text/plain": [
       "<Figure size 1008x288 with 3 Axes>"
      ]
     },
     "metadata": {
      "needs_background": "light"
     },
     "output_type": "display_data"
    }
   ],
   "source": [
    "f, axarr = plt.subplots(ncols=3, figsize=(14,4))\n",
    "\n",
    "colors = ['darkorange', 'seagreen', 'darkslateblue']\n",
    "  \n",
    "axarr[0].plot(c1s, bb[:,0], color='darkorange', linewidth=3, alpha=0.7, label=r'$b_0$')\n",
    "axarr[0].plot(c1s, bb[:,1], color='seagreen', linewidth=3, alpha=0.7, label=r'$b_1$')\n",
    "axarr[0].set_title(r'bids: $R={},\\alpha={}$'.format(reserve,alpha_), size=15)\n",
    "\n",
    "axarr[1].plot(c1s, xTildes_bb[:,0], color='darkorange', linewidth=3, alpha=0.7, label=r'$x_0$')\n",
    "axarr[1].plot(c1s, xTildes_bb[:,1], color='seagreen', linewidth=3, alpha=0.7, label=r'$x_1$')\n",
    "axarr[1].set_title(r'allos: $R={},\\alpha={}$'.format(reserve,alpha_), size=15)\n",
    "\n",
    "axarr[2].plot(c1s, welfares_bb, color='darkslateblue', linewidth=3, alpha=0.7, label=r'$c_0x_0+c_1x_1$')\n",
    "axarr[2].set_title(r'social cost: $R={},\\alpha={}$'.format(reserve,alpha_), size=15)\n",
    "\n",
    "\n",
    "for i, ax in enumerate(axarr):\n",
    "    ax.legend()\n",
    "    ax.grid(alpha=0.3)\n",
    "    ax.set_xlabel(r'$c_1$', size=14)\n",
    "\n",
    "plt.savefig('out.png', dpi=400, bbox_inches='tight', facecolor='white')\n",
    "plt.show()"
   ]
  },
  {
   "cell_type": "code",
   "execution_count": 163,
   "metadata": {},
   "outputs": [
    {
     "name": "stderr",
     "output_type": "stream",
     "text": [
      "100%|██████████| 30/30 [00:01<00:00, 28.92it/s]\n"
     ]
    }
   ],
   "source": [
    "c1, c2 = 1, 10\n",
    "curr1, curr2 = 5, 5\n",
    "a = 3\n",
    "reserve = 20\n",
    "\n",
    "b1 = sp.Symbol('b1', positive=True)\n",
    "b2 = sp.Symbol('b2', positive=True)\n",
    "\n",
    "p1Bids, p2Bids = [curr1], [curr2]\n",
    "turn = 0\n",
    "for turn in tqdm(range(30)):\n",
    "    if turn % 2 == 0:\n",
    "        x1 = sp.Min(b1,reserve)**(-a) / (sp.Min(b1,reserve)**(-a) + sp.Min(b2,reserve)**(-a))\n",
    "        u1 = (sp.Min(b1,reserve)-c1)*x1\n",
    "        partial = sp.diff(u1, b1)\n",
    "        best = sp.Eq(partial, 0).evalf(subs={b2:curr2})\n",
    "        sol = sp.nsolve(best, b1, curr1)\n",
    "        curr1 = sol\n",
    "        p1Bids.append(curr1)\n",
    "    else:\n",
    "        x2 = sp.Min(b2,reserve)**(-a) / (sp.Min(b1,reserve)**(-a) + sp.Min(b2,reserve)**(-a))\n",
    "        u2 = (sp.Min(b2,reserve)-c2)*x2\n",
    "        partial = sp.diff(u2, b2)\n",
    "        best = sp.Eq(partial, 0).evalf(subs={b1:curr1})\n",
    "        sol = sp.nsolve(best, b2, curr2)\n",
    "        curr2 = sol\n",
    "        p2Bids.append(curr2)"
   ]
  },
  {
   "cell_type": "code",
   "execution_count": 164,
   "metadata": {},
   "outputs": [
    {
     "data": {
      "text/plain": [
       "(16.3900899012162, 20.0071262586321)"
      ]
     },
     "execution_count": 164,
     "metadata": {},
     "output_type": "execute_result"
    }
   ],
   "source": [
    "# matches unbounded\n",
    "p1Bids[-1],p2Bids[-1]"
   ]
  },
  {
   "cell_type": "code",
   "execution_count": 166,
   "metadata": {},
   "outputs": [
    {
     "data": {
      "text/plain": [
       "(16.39008990121622, 20.0)"
      ]
     },
     "execution_count": 166,
     "metadata": {},
     "output_type": "execute_result"
    }
   ],
   "source": [
    "bb[:,0][-1], bb[:,1][-1]"
   ]
  },
  {
   "cell_type": "code",
   "execution_count": 165,
   "metadata": {},
   "outputs": [
    {
     "data": {
      "image/png": "[encoded data removed]",
      "text/plain": [
       "<Figure size 504x288 with 1 Axes>"
      ]
     },
     "metadata": {
      "needs_background": "light"
     },
     "output_type": "display_data"
    }
   ],
   "source": [
    "f, ax = plt.subplots(figsize=(7,4))\n",
    "\n",
    "\n",
    "ax.plot(np.arange(0,31,2), p1Bids, marker='o', fillstyle='none',\n",
    "              linewidth=0.5, color='green', label='player 1')\n",
    "ax.plot(np.arange(1,32,2), p2Bids, marker='s', fillstyle='none', \n",
    "              linewidth=0.5, color='brown', label='player 2')\n",
    "\n",
    "plt.show()"
   ]
  },
  {
   "cell_type": "markdown",
   "metadata": {},
   "source": [
    "# Three player, bounded strategic"
   ]
  },
  {
   "cell_type": "code",
   "execution_count": 177,
   "metadata": {},
   "outputs": [],
   "source": [
    "def getBoundedEquilBids(cs, a, reserve, guess=None):\n",
    "    n = len(cs)\n",
    "    bs = [sp.Symbol('b{}'.format(i)) for i in range(n)]\n",
    "    \n",
    "    denom = sum([sp.Min(bi,reserve)**(-a) for bi in bs])\n",
    "    xs    = [sp.Min(bi,reserve)**(-a)/denom for bi in bs]\n",
    "    us    = [(sp.Min(bs[i],reserve) - cs[i])*xs[i] for i in range(n)]\n",
    "    diffs = [sp.diff(us[i], bs[i]) for i in range(n)]\n",
    "    funcs = [sp.lambdify(bs, diffs[i]) for i in range(n)]\n",
    "    \n",
    "    def eqs(bs):\n",
    "        return [f(*bs) for f in funcs]\n",
    "    \n",
    "    initial_guess = cs\n",
    "    if guess != None:\n",
    "        initial_guess = guess\n",
    "    \n",
    "    return fsolve(eqs, initial_guess)\n",
    "\n",
    "def getBoundedAllos(bids, a, reserve):\n",
    "    bids = np.array([np.min([b, reserve]) for b in bids])\n",
    "    denom = sum([b**(-a) for b in bids])\n",
    "    return np.array(bids**(-a)) / denom"
   ]
  },
  {
   "cell_type": "code",
   "execution_count": 178,
   "metadata": {},
   "outputs": [
    {
     "data": {
      "text/plain": [
       "array([10.92091376, 14.61991401, 20.00000177])"
      ]
     },
     "execution_count": 178,
     "metadata": {},
     "output_type": "execute_result"
    }
   ],
   "source": [
    "reserve = 20\n",
    "alpha_  = 3\n",
    "\n",
    "getBoundedEquilBids([1, 8, 15], alpha_, reserve, guess=[4,7,20])"
   ]
  },
  {
   "cell_type": "code",
   "execution_count": 180,
   "metadata": {},
   "outputs": [
    {
     "data": {
      "text/plain": [
       "array([0.63306109, 0.26386884, 0.10307007])"
      ]
     },
     "execution_count": 180,
     "metadata": {},
     "output_type": "execute_result"
    }
   ],
   "source": [
    "getBoundedAllos(getBoundedEquilBids([1, 8, 15], alpha_, reserve, guess=[4,7,20]), alpha_, reserve)"
   ]
  },
  {
   "cell_type": "code",
   "execution_count": 237,
   "metadata": {},
   "outputs": [
    {
     "data": {
      "text/plain": [
       "(array([14.90117667, 24.55843789, 24.55843789, 31.17645936]),\n",
       " array([0.64268788, 0.14356864, 0.14356864, 0.07017484]),\n",
       " 6.353243859968037)"
      ]
     },
     "execution_count": 237,
     "metadata": {},
     "output_type": "execute_result"
    }
   ],
   "source": [
    "# checking\n",
    "alpha = 3.\n",
    "costs = [1,15,15,20]\n",
    "bids = getEquilBids(costs, alpha_, guess=[2,5,5,5])\n",
    "allos = getAllos(bids, alpha_)\n",
    "poa = np.dot(costs, allos)\n",
    "bids, allos, poa"
   ]
  },
  {
   "cell_type": "code",
   "execution_count": 239,
   "metadata": {},
   "outputs": [
    {
     "data": {
      "text/plain": [
       "(array([18.20236033, 32.14115687, 32.14115687, 32.14115687]),\n",
       " array([0.64728948, 0.11757017, 0.11757017, 0.11757017]),\n",
       " 7.701499864757562)"
      ]
     },
     "execution_count": 239,
     "metadata": {},
     "output_type": "execute_result"
    }
   ],
   "source": [
    "# checking\n",
    "alpha = 3.\n",
    "costs = [1,20,20,20]\n",
    "bids = getEquilBids(costs, alpha_, guess=[2,5,5,5])\n",
    "allos = getAllos(bids, alpha_)\n",
    "poa = np.dot(costs, allos)\n",
    "bids, allos, poa"
   ]
  },
  {
   "cell_type": "code",
   "execution_count": 197,
   "metadata": {},
   "outputs": [],
   "source": [
    "c1s     = np.arange(8, 18.01, 0.1)\n",
    "guesses = c1s\n",
    "reserve = 20\n",
    "alpha_  = 3"
   ]
  },
  {
   "cell_type": "code",
   "execution_count": 198,
   "metadata": {},
   "outputs": [
    {
     "data": {
      "text/plain": [
       "((101, 3), (101, 3), (101,))"
      ]
     },
     "execution_count": 198,
     "metadata": {},
     "output_type": "execute_result"
    }
   ],
   "source": [
    "bb          = []\n",
    "xTildes_bb  = []\n",
    "welfares_bb = []\n",
    "for i, c1 in enumerate(c1s):\n",
    "    costs  = [1, 8, c1]\n",
    "    bids   = getBoundedEquilBids(costs, a=alpha_, reserve=reserve, guess=[5, 5, 5])\n",
    "    bids   = np.array([np.min([b, reserve]) for b in bids])\n",
    "    xTilde = getBoundedAllos(bids, a=alpha_, reserve=reserve)\n",
    "    bb.append(bids)\n",
    "    xTildes_bb.append(xTilde)\n",
    "    welfares_bb.append(np.dot(costs, xTilde))\n",
    "bb          = np.asarray(bb)\n",
    "xTildes_bb  = np.asarray(xTildes_bb)\n",
    "welfares_bb = np.asarray(welfares_bb)\n",
    "bb.shape, xTildes_bb.shape, welfares_bb.shape"
   ]
  },
  {
   "cell_type": "code",
   "execution_count": 202,
   "metadata": {},
   "outputs": [
    {
     "data": {
      "text/plain": [
       "((101, 3), (101, 3), (101,))"
      ]
     },
     "execution_count": 202,
     "metadata": {},
     "output_type": "execute_result"
    }
   ],
   "source": [
    "ubb          = []\n",
    "xTildes_ubb  = []\n",
    "welfares_ubb = []\n",
    "for i, c1 in enumerate(c1s):\n",
    "    costs  = [1, 8, c1]\n",
    "    bids   = getEquilBids(costs, a=alpha_, guess=[5, 5, 5])\n",
    "    xTilde = getAllos(bids, a=alpha_)\n",
    "    ubb.append(bids)\n",
    "    xTildes_ubb.append(xTilde)\n",
    "    welfares_ubb.append(np.dot(costs, xTilde))\n",
    "ubb          = np.asarray(ubb)\n",
    "xTildes_ubb  = np.asarray(xTildes_ubb)\n",
    "welfares_ubb = np.asarray(welfares_ubb)\n",
    "ubb.shape, xTildes_ubb.shape, welfares_ubb.shape"
   ]
  },
  {
   "cell_type": "code",
   "execution_count": 216,
   "metadata": {},
   "outputs": [
    {
     "data": {
      "image/png": "[encoded data removed]",
      "text/plain": [
       "<Figure size 1008x288 with 3 Axes>"
      ]
     },
     "metadata": {
      "needs_background": "light"
     },
     "output_type": "display_data"
    }
   ],
   "source": [
    "f, axarr = plt.subplots(ncols=3, figsize=(14,4))\n",
    "\n",
    "colors = ['darkorange', 'seagreen', 'darkslateblue']\n",
    "  \n",
    "axarr[0].plot(c1s, bb[:,0], color='darkorange', linewidth=3, alpha=0.7, label=r'$b_0$ (w/ reserve)')\n",
    "axarr[0].plot(c1s, bb[:,1], color='seagreen', linewidth=3, alpha=0.7, label=r'$b_1$ (w/ reserve)')\n",
    "axarr[0].plot(c1s, bb[:,2], color='orchid', linewidth=3, alpha=0.7, label=r'$b_2$ (w/ reserve)')\n",
    "axarr[0].set_title(r'bids: $R={}, c_0=1, c_1=8, \\alpha={}$'.format(reserve,alpha_), size=15)\n",
    "axarr[0].plot(c1s, ubb[:,0], color='darkorange', linewidth=3, alpha=0.7, label=r'$b_0$ (w/o reserve)',\n",
    "              linestyle='--')\n",
    "axarr[0].plot(c1s, ubb[:,1], color='seagreen', linewidth=3, alpha=0.7, label=r'$b_1$ (w/o reserve)',\n",
    "              linestyle='--')\n",
    "axarr[0].plot(c1s, ubb[:,2], color='orchid', linewidth=3, alpha=0.7, label=r'$b_2$ (w/o reserve)',\n",
    "              linestyle='--')\n",
    "axarr[0].set_title(r'bids: $R={}, c_0=1, c_1=8, \\alpha={}$'.format(reserve,alpha_), size=15)\n",
    "\n",
    "\n",
    "axarr[1].plot(c1s, xTildes_bb[:,0], color='darkorange', linewidth=3, alpha=0.7, label=r'$x_0 (w/ reserve)$')\n",
    "axarr[1].plot(c1s, xTildes_bb[:,1], color='seagreen', linewidth=3, alpha=0.7, label=r'$x_1 (w/ reserve)$')\n",
    "axarr[1].plot(c1s, xTildes_bb[:,2], color='orchid', linewidth=3, alpha=0.7, label=r'$x_2 (w/ reserve)$')\n",
    "axarr[1].plot(c1s, xTildes_ubb[:,0], color='darkorange', linewidth=3, alpha=0.7, label=r'$x_0 (w/o reserve)$',\n",
    "              linestyle='--')\n",
    "axarr[1].plot(c1s, xTildes_ubb[:,1], color='seagreen', linewidth=3, alpha=0.7, label=r'$x_1$ (w/o reserve)',\n",
    "              linestyle='--')\n",
    "axarr[1].plot(c1s, xTildes_ubb[:,2], color='orchid', linewidth=3, alpha=0.7, label=r'$x_2$ (w/o reserve)',\n",
    "              linestyle='--')\n",
    "axarr[1].set_title(r'allos: $R={}, c_0=1, c_1=8, \\alpha={}$'.format(reserve,alpha_), size=15)\n",
    "\n",
    "\n",
    "axarr[2].plot(c1s, welfares_bb, color='darkslateblue', linewidth=3, alpha=0.7, label=r'$\\sum_i c_i x_i$ (w/ reserve)')\n",
    "axarr[2].plot(c1s, welfares_ubb, color='darkslateblue', linewidth=3, alpha=0.7, label=r'$\\sum_i c_i x_i$ (w/o reserve)',\n",
    "              linestyle='--')\n",
    "axarr[2].set_title(r'social cost: $R={},c_0=1, c_1=8,\\alpha={}$'.format(reserve,alpha_), size=15)\n",
    "\n",
    "\n",
    "for i, ax in enumerate(axarr):\n",
    "    ax.grid(alpha=0.3)\n",
    "    ax.set_xlabel(r'$c_2$', size=14)\n",
    "    \n",
    "handles, labels = axarr[0].get_legend_handles_labels()\n",
    "f.legend(handles, labels, loc='lower center', bbox_to_anchor=(0.4, -0.25), ncol=2, fontsize=12)\n",
    "axarr[2].legend()\n",
    "\n",
    "\n",
    "plt.savefig('out.png', dpi=400, bbox_inches='tight', facecolor='white')\n",
    "plt.show()"
   ]
  },
  {
   "cell_type": "markdown",
   "metadata": {},
   "source": [
    "# POA maximization problem"
   ]
  },
  {
   "cell_type": "code",
   "execution_count": 327,
   "metadata": {},
   "outputs": [],
   "source": [
    "import copy"
   ]
  },
  {
   "cell_type": "code",
   "execution_count": 337,
   "metadata": {},
   "outputs": [],
   "source": [
    "def objective_function(costs, alpha):\n",
    "    guess = [2*c for c in costs]\n",
    "    bids = getEquilBids(costs, alpha, guess)\n",
    "    allos = getAllos(bids, alpha)\n",
    "    min_cost = np.min(costs)\n",
    "    poa = np.dot(costs, allos) / min_cost\n",
    "    return -poa  # Negative for maximization"
   ]
  },
  {
   "cell_type": "code",
   "execution_count": 338,
   "metadata": {},
   "outputs": [],
   "source": [
    "MAX_COST = 20\n",
    "alpha    = 3\n",
    "initial_costs = np.array([1, 2, 2, 4, 4])"
   ]
  },
  {
   "cell_type": "code",
   "execution_count": 339,
   "metadata": {},
   "outputs": [
    {
     "name": "stderr",
     "output_type": "stream",
     "text": [
      "<lambdifygenerated-22943>:2: RuntimeWarning: overflow encountered in double_scalars\n",
      "  return 1/(b4**3*(b4**(-3.0) + b3**(-3.0) + b2**(-3.0) + b1**(-3.0) + b0**(-3.0))) - 3*(b4 - 4.01050704607408)/(b4**4*(b4**(-3.0) + b3**(-3.0) + b2**(-3.0) + b1**(-3.0) + b0**(-3.0))) + 3*(b4 - 4.01050704607408)/(b4**7*(b4**(-3.0) + b3**(-3.0) + b2**(-3.0) + b1**(-3.0) + b0**(-3.0))**2)\n",
      "<lambdifygenerated-22940>:2: RuntimeWarning: overflow encountered in double_scalars\n",
      "  return 1/(b1**3*(b4**(-3.0) + b3**(-3.0) + b2**(-3.0) + b1**(-3.0) + b0**(-3.0))) - 3*(b1 - 2.01229561898657)/(b1**4*(b4**(-3.0) + b3**(-3.0) + b2**(-3.0) + b1**(-3.0) + b0**(-3.0))) + 3*(b1 - 2.01229561898657)/(b1**7*(b4**(-3.0) + b3**(-3.0) + b2**(-3.0) + b1**(-3.0) + b0**(-3.0))**2)\n",
      "<lambdifygenerated-22941>:2: RuntimeWarning: overflow encountered in double_scalars\n",
      "  return 1/(b2**3*(b4**(-3.0) + b3**(-3.0) + b2**(-3.0) + b1**(-3.0) + b0**(-3.0))) - 3*(b2 - 2.01229543018073)/(b2**4*(b4**(-3.0) + b3**(-3.0) + b2**(-3.0) + b1**(-3.0) + b0**(-3.0))) + 3*(b2 - 2.01229543018073)/(b2**7*(b4**(-3.0) + b3**(-3.0) + b2**(-3.0) + b1**(-3.0) + b0**(-3.0))**2)\n",
      "<lambdifygenerated-22953>:2: RuntimeWarning: overflow encountered in double_scalars\n",
      "  return 1/(b4**3*(b4**(-3.0) + b3**(-3.0) + b2**(-3.0) + b1**(-3.0) + b0**(-3.0))) - 3*(b4 - 4.01050704607408)/(b4**4*(b4**(-3.0) + b3**(-3.0) + b2**(-3.0) + b1**(-3.0) + b0**(-3.0))) + 3*(b4 - 4.01050704607408)/(b4**7*(b4**(-3.0) + b3**(-3.0) + b2**(-3.0) + b1**(-3.0) + b0**(-3.0))**2)\n",
      "<lambdifygenerated-22950>:2: RuntimeWarning: overflow encountered in double_scalars\n",
      "  return 1/(b1**3*(b4**(-3.0) + b3**(-3.0) + b2**(-3.0) + b1**(-3.0) + b0**(-3.0))) - 3*(b1 - 2.01229562898657)/(b1**4*(b4**(-3.0) + b3**(-3.0) + b2**(-3.0) + b1**(-3.0) + b0**(-3.0))) + 3*(b1 - 2.01229562898657)/(b1**7*(b4**(-3.0) + b3**(-3.0) + b2**(-3.0) + b1**(-3.0) + b0**(-3.0))**2)\n",
      "<lambdifygenerated-22951>:2: RuntimeWarning: overflow encountered in double_scalars\n",
      "  return 1/(b2**3*(b4**(-3.0) + b3**(-3.0) + b2**(-3.0) + b1**(-3.0) + b0**(-3.0))) - 3*(b2 - 2.01229543018073)/(b2**4*(b4**(-3.0) + b3**(-3.0) + b2**(-3.0) + b1**(-3.0) + b0**(-3.0))) + 3*(b2 - 2.01229543018073)/(b2**7*(b4**(-3.0) + b3**(-3.0) + b2**(-3.0) + b1**(-3.0) + b0**(-3.0))**2)\n",
      "<lambdifygenerated-22968>:2: RuntimeWarning: overflow encountered in double_scalars\n",
      "  return 1/(b4**3*(b4**(-3.0) + b3**(-3.0) + b2**(-3.0) + b1**(-3.0) + b0**(-3.0))) - 3*(b4 - 4.01050705607408)/(b4**4*(b4**(-3.0) + b3**(-3.0) + b2**(-3.0) + b1**(-3.0) + b0**(-3.0))) + 3*(b4 - 4.01050705607408)/(b4**7*(b4**(-3.0) + b3**(-3.0) + b2**(-3.0) + b1**(-3.0) + b0**(-3.0))**2)\n",
      "<lambdifygenerated-22965>:2: RuntimeWarning: overflow encountered in double_scalars\n",
      "  return 1/(b1**3*(b4**(-3.0) + b3**(-3.0) + b2**(-3.0) + b1**(-3.0) + b0**(-3.0))) - 3*(b1 - 2.01229561898657)/(b1**4*(b4**(-3.0) + b3**(-3.0) + b2**(-3.0) + b1**(-3.0) + b0**(-3.0))) + 3*(b1 - 2.01229561898657)/(b1**7*(b4**(-3.0) + b3**(-3.0) + b2**(-3.0) + b1**(-3.0) + b0**(-3.0))**2)\n",
      "<lambdifygenerated-22966>:2: RuntimeWarning: overflow encountered in double_scalars\n",
      "  return 1/(b2**3*(b4**(-3.0) + b3**(-3.0) + b2**(-3.0) + b1**(-3.0) + b0**(-3.0))) - 3*(b2 - 2.01229543018073)/(b2**4*(b4**(-3.0) + b3**(-3.0) + b2**(-3.0) + b1**(-3.0) + b0**(-3.0))) + 3*(b2 - 2.01229543018073)/(b2**7*(b4**(-3.0) + b3**(-3.0) + b2**(-3.0) + b1**(-3.0) + b0**(-3.0))**2)\n"
     ]
    }
   ],
   "source": [
    "bounds = [(1, MAX_COST) for _ in initial_costs]\n",
    "result = minimize(\n",
    "    objective_function,\n",
    "    initial_costs,\n",
    "    args=(alpha),\n",
    "    method='L-BFGS-B',\n",
    "    bounds=bounds,\n",
    "    options={'disp': True}\n",
    ")"
   ]
  },
  {
   "cell_type": "code",
   "execution_count": 340,
   "metadata": {},
   "outputs": [
    {
     "data": {
      "text/plain": [
       "      fun: -2.255049417232918\n",
       " hess_inv: <5x5 LbfgsInvHessProduct with dtype=float64>\n",
       "      jac: array([ 1.40548054e+00, -8.88178425e-08, -8.88178425e-08,  5.56475266e+07,\n",
       "       -1.75720151e-01])\n",
       "  message: b'ABNORMAL_TERMINATION_IN_LNSRCH'\n",
       "     nfev: 174\n",
       "      nit: 1\n",
       "     njev: 29\n",
       "   status: 2\n",
       "  success: False\n",
       "        x: array([1.        , 2.01229561, 2.01229542, 3.99947254, 3.99936856])"
      ]
     },
     "execution_count": 340,
     "metadata": {},
     "output_type": "execute_result"
    }
   ],
   "source": [
    "result"
   ]
  },
  {
   "cell_type": "code",
   "execution_count": 313,
   "metadata": {},
   "outputs": [
    {
     "data": {
      "text/plain": [
       "(array([14.99941884, 31.20000372, 31.20000372, 31.20000372, 31.20000372,\n",
       "        31.20000372]),\n",
       " array([0.64285615, 0.07142877, 0.07142877, 0.07142877, 0.07142877,\n",
       "        0.07142877]),\n",
       " 7.78573306535354)"
      ]
     },
     "execution_count": 313,
     "metadata": {},
     "output_type": "execute_result"
    }
   ],
   "source": [
    "# checking\n",
    "alpha = 3.\n",
    "costs = [1,20,20,20,20,20]\n",
    "bids = getEquilBids(costs, alpha_, guess=[2,5,5,5,5,5])\n",
    "allos = getAllos(bids, alpha_)\n",
    "poa = np.dot(costs, allos)\n",
    "bids, allos, poa"
   ]
  }
 ],
 "metadata": {
  "kernelspec": {
   "display_name": "Python 3",
   "language": "python",
   "name": "python3"
  },
  "language_info": {
   "codemirror_mode": {
    "name": "ipython",
    "version": 3
   },
   "file_extension": ".py",
   "mimetype": "text/x-python",
   "name": "python",
   "nbconvert_exporter": "python",
   "pygments_lexer": "ipython3",
   "version": "3.8.16"
  }
 },
 "nbformat": 4,
 "nbformat_minor": 4
}
