{
 "cells": [
  {
   "cell_type": "code",
   "execution_count": 1,
   "metadata": {},
   "outputs": [],
   "source": [
    "import sympy as sp"
   ]
  },
  {
   "cell_type": "code",
   "execution_count": 2,
   "metadata": {},
   "outputs": [
    {
     "data": {
      "text/plain": [
       "[{b1: 8.0*D*c1*c2*c3*(c1*c2 + c1*c3 - c2*c3)/(c1*c2 + c1*c3 + c2*c3)**2,\n",
       "  b2: 8.0*D*c1*c2*c3*(c1*c2 - c1*c3 + c2*c3)/(c1*c2 + c1*c3 + c2*c3)**2,\n",
       "  b3: 8.0*D*c1*c2*c3*(-c1*c2 + c1*c3 + c2*c3)/(c1*c2 + c1*c3 + c2*c3)**2}]"
      ]
     },
     "execution_count": 2,
     "metadata": {},
     "output_type": "execute_result"
    }
   ],
   "source": [
    "# Define the symbols\n",
    "D = sp.symbols('D')\n",
    "b1, b2, b3 = sp.symbols('b1 b2 b3')\n",
    "c1, c2, c3 = sp.symbols('c1 c2 c3')\n",
    "\n",
    "# Define the equations\n",
    "eq1 = sp.Eq(-1/2+2*D*c1*(b2+b3)/((b1+b2+b3)**2), 0)\n",
    "eq2 = sp.Eq(-1/2+2*D*c2*(b1+b3)/((b1+b2+b3)**2), 0)\n",
    "eq3 = sp.Eq(-1/2+2*D*c3*(b1+b2)/((b1+b2+b3)**2), 0)\n",
    "\n",
    "# Solve the system of equations\n",
    "sol = sp.solve((eq1, eq2, eq3), (b1, b2, b3), dict=True)\n",
    "sol"
   ]
  },
  {
   "cell_type": "markdown",
   "metadata": {},
   "source": [
    "\\begin{align}\n",
    "\\frac{\\partial U_1}{\\partial b_1} &= \\frac{-a b_1^{a-1}}{2} + \\frac{2a Dc_1 b_1^{a-1}(b_2^a+b_3^a)}{(b_1^a+b_2^a+b_3^a)^2} \\\\\n",
    "\\frac{\\partial U_2}{\\partial b_2} &= \\frac{-a b_2^{a-1}}{2} + \\frac{2a Dc_2 b_2^{a-1}(b_1^a+b_3^a)}{(b_1^a+b_2^a+b_3^a)^2} \\\\\n",
    "\\frac{\\partial U_3}{\\partial b_3} &= \\frac{-a b_1^{a-1}}{2} + \\frac{2a Dc_3 b_3^{a-1}(b_1^a+b_2^a)}{(b_1^a+b_2^a+b_3^a)^2} \\\\\n",
    "\\end{align}"
   ]
  },
  {
   "cell_type": "code",
   "execution_count": 5,
   "metadata": {},
   "outputs": [
    {
     "data": {
      "text/plain": [
       "[]"
      ]
     },
     "execution_count": 5,
     "metadata": {},
     "output_type": "execute_result"
    }
   ],
   "source": [
    "# Define the symbols\n",
    "D = sp.symbols('D')\n",
    "a = sp.symbols('a')\n",
    "b1, b2, b3 = sp.symbols('b1 b2 b3')\n",
    "c1, c2, c3 = sp.symbols('c1 c2 c3')\n",
    "\n",
    "# Define the equations\n",
    "eq1 = sp.Eq(-a*(b1**(a-1))/2+2*a*D*c1*(b1**(a-1))*((b2**a)+(b3**a))/(((b1**a)+(b2**a)+(b3**a))**2), 0)\n",
    "eq2 = sp.Eq(-a*(b2**(a-1))/2+2*a*D*c2*(b2**(a-1))*((b1**a)+(b3**a))/(((b1**a)+(b2**a)+(b3**a))**2), 0)\n",
    "eq3 = sp.Eq(-a*(b3**(a-1))/2+2*a*D*c3*(b3**(a-1))*((b1**a)+(b2**a))/(((b1**a)+(b2**a)+(b3**a))**2), 0)\n",
    "\n",
    "# Solve the system of equations\n",
    "sol = sp.solve((eq1, eq2, eq3), (b1, b2, b3), dict=True)\n",
    "sol"
   ]
  },
  {
   "cell_type": "markdown",
   "metadata": {},
   "source": [
    "Simple concave cost."
   ]
  },
  {
   "cell_type": "code",
   "execution_count": 6,
   "metadata": {},
   "outputs": [
    {
     "ename": "NotImplementedError",
     "evalue": "could not solve 4*D**b*b*c1*(b2 + b3)*((-2*b1/(b1 + b2 + b3) + 1)**b - 1) - (b1 + b2 + b3)**2",
     "output_type": "error",
     "traceback": [
      "\u001b[0;31m---------------------------------------------------------------------------\u001b[0m",
      "\u001b[0;31mNotImplementedError\u001b[0m                       Traceback (most recent call last)",
      "\u001b[0;32m<ipython-input-6-923ca70cf5c5>\u001b[0m in \u001b[0;36m<module>\u001b[0;34m\u001b[0m\n\u001b[1;32m     11\u001b[0m \u001b[0;34m\u001b[0m\u001b[0m\n\u001b[1;32m     12\u001b[0m \u001b[0;31m# Solve the system of equations\u001b[0m\u001b[0;34m\u001b[0m\u001b[0;34m\u001b[0m\u001b[0;34m\u001b[0m\u001b[0m\n\u001b[0;32m---> 13\u001b[0;31m \u001b[0msol\u001b[0m \u001b[0;34m=\u001b[0m \u001b[0msp\u001b[0m\u001b[0;34m.\u001b[0m\u001b[0msolve\u001b[0m\u001b[0;34m(\u001b[0m\u001b[0;34m(\u001b[0m\u001b[0meq1\u001b[0m\u001b[0;34m,\u001b[0m \u001b[0meq2\u001b[0m\u001b[0;34m,\u001b[0m \u001b[0meq3\u001b[0m\u001b[0;34m)\u001b[0m\u001b[0;34m,\u001b[0m \u001b[0;34m(\u001b[0m\u001b[0mb1\u001b[0m\u001b[0;34m,\u001b[0m \u001b[0mb2\u001b[0m\u001b[0;34m,\u001b[0m \u001b[0mb3\u001b[0m\u001b[0;34m)\u001b[0m\u001b[0;34m,\u001b[0m \u001b[0mdict\u001b[0m\u001b[0;34m=\u001b[0m\u001b[0;32mTrue\u001b[0m\u001b[0;34m)\u001b[0m\u001b[0;34m\u001b[0m\u001b[0;34m\u001b[0m\u001b[0m\n\u001b[0m\u001b[1;32m     14\u001b[0m \u001b[0msol\u001b[0m\u001b[0;34m\u001b[0m\u001b[0;34m\u001b[0m\u001b[0m\n",
      "\u001b[0;32m/usr/local/lib/python3.8/site-packages/sympy/solvers/solvers.py\u001b[0m in \u001b[0;36msolve\u001b[0;34m(f, *symbols, **flags)\u001b[0m\n\u001b[1;32m   1145\u001b[0m             \u001b[0msolution\u001b[0m \u001b[0;34m=\u001b[0m \u001b[0m_solve\u001b[0m\u001b[0;34m(\u001b[0m\u001b[0mf\u001b[0m\u001b[0;34m[\u001b[0m\u001b[0;36m0\u001b[0m\u001b[0;34m]\u001b[0m\u001b[0;34m,\u001b[0m \u001b[0;34m*\u001b[0m\u001b[0msymbols\u001b[0m\u001b[0;34m,\u001b[0m \u001b[0;34m**\u001b[0m\u001b[0mflags\u001b[0m\u001b[0;34m)\u001b[0m\u001b[0;34m\u001b[0m\u001b[0;34m\u001b[0m\u001b[0m\n\u001b[1;32m   1146\u001b[0m     \u001b[0;32melse\u001b[0m\u001b[0;34m:\u001b[0m\u001b[0;34m\u001b[0m\u001b[0;34m\u001b[0m\u001b[0m\n\u001b[0;32m-> 1147\u001b[0;31m         \u001b[0mlinear\u001b[0m\u001b[0;34m,\u001b[0m \u001b[0msolution\u001b[0m \u001b[0;34m=\u001b[0m \u001b[0m_solve_system\u001b[0m\u001b[0;34m(\u001b[0m\u001b[0mf\u001b[0m\u001b[0;34m,\u001b[0m \u001b[0msymbols\u001b[0m\u001b[0;34m,\u001b[0m \u001b[0;34m**\u001b[0m\u001b[0mflags\u001b[0m\u001b[0;34m)\u001b[0m\u001b[0;34m\u001b[0m\u001b[0;34m\u001b[0m\u001b[0m\n\u001b[0m\u001b[1;32m   1148\u001b[0m     \u001b[0;32massert\u001b[0m \u001b[0mtype\u001b[0m\u001b[0;34m(\u001b[0m\u001b[0msolution\u001b[0m\u001b[0;34m)\u001b[0m \u001b[0;32mis\u001b[0m \u001b[0mlist\u001b[0m\u001b[0;34m\u001b[0m\u001b[0;34m\u001b[0m\u001b[0m\n\u001b[1;32m   1149\u001b[0m     \u001b[0;32massert\u001b[0m \u001b[0;32mnot\u001b[0m \u001b[0msolution\u001b[0m \u001b[0;32mor\u001b[0m \u001b[0mtype\u001b[0m\u001b[0;34m(\u001b[0m\u001b[0msolution\u001b[0m\u001b[0;34m[\u001b[0m\u001b[0;36m0\u001b[0m\u001b[0;34m]\u001b[0m\u001b[0;34m)\u001b[0m \u001b[0;32mis\u001b[0m \u001b[0mdict\u001b[0m\u001b[0;34m,\u001b[0m \u001b[0msolution\u001b[0m\u001b[0;34m\u001b[0m\u001b[0;34m\u001b[0m\u001b[0m\n",
      "\u001b[0;32m/usr/local/lib/python3.8/site-packages/sympy/solvers/solvers.py\u001b[0m in \u001b[0;36m_solve_system\u001b[0;34m(exprs, symbols, **flags)\u001b[0m\n\u001b[1;32m   1960\u001b[0m                     \u001b[0mgot_s\u001b[0m\u001b[0;34m.\u001b[0m\u001b[0madd\u001b[0m\u001b[0;34m(\u001b[0m\u001b[0ms\u001b[0m\u001b[0;34m)\u001b[0m\u001b[0;34m\u001b[0m\u001b[0;34m\u001b[0m\u001b[0m\n\u001b[1;32m   1961\u001b[0m                 \u001b[0;32mif\u001b[0m \u001b[0;32mnot\u001b[0m \u001b[0mhit\u001b[0m\u001b[0;34m:\u001b[0m\u001b[0;34m\u001b[0m\u001b[0;34m\u001b[0m\u001b[0m\n\u001b[0;32m-> 1962\u001b[0;31m                     \u001b[0;32mraise\u001b[0m \u001b[0mNotImplementedError\u001b[0m\u001b[0;34m(\u001b[0m\u001b[0;34m'could not solve %s'\u001b[0m \u001b[0;34m%\u001b[0m \u001b[0meq2\u001b[0m\u001b[0;34m)\u001b[0m\u001b[0;34m\u001b[0m\u001b[0;34m\u001b[0m\u001b[0m\n\u001b[0m\u001b[1;32m   1963\u001b[0m             \u001b[0;32melse\u001b[0m\u001b[0;34m:\u001b[0m\u001b[0;34m\u001b[0m\u001b[0;34m\u001b[0m\u001b[0m\n\u001b[1;32m   1964\u001b[0m                 \u001b[0mresult\u001b[0m \u001b[0;34m=\u001b[0m \u001b[0mnewresult\u001b[0m\u001b[0;34m\u001b[0m\u001b[0;34m\u001b[0m\u001b[0m\n",
      "\u001b[0;31mNotImplementedError\u001b[0m: could not solve 4*D**b*b*c1*(b2 + b3)*((-2*b1/(b1 + b2 + b3) + 1)**b - 1) - (b1 + b2 + b3)**2"
     ]
    }
   ],
   "source": [
    "# Define the symbols\n",
    "D = sp.symbols('D')\n",
    "b = sp.symbols('b') \n",
    "b1, b2, b3 = sp.symbols('b1 b2 b3')\n",
    "c1, c2, c3 = sp.symbols('c1 c2 c3')\n",
    "\n",
    "# Define the equations\n",
    "eq1 = sp.Eq(-1/2+2*(D**b)*b*c1*(b2+b3)/((b1+b2+b3)**2)*((1-2*b1/(b1+b2+b3))**b-1), 0)\n",
    "eq2 = sp.Eq(-1/2+2*(D**b)*b*c2*(b1+b3)/((b1+b2+b3)**2)*((1-2*b2/(b1+b2+b3))**b-1), 0)\n",
    "eq3 = sp.Eq(-1/2+2*(D**b)*b*c3*(b1+b2)/((b1+b2+b3)**2)*((1-2*b3/(b1+b2+b3))**b-1), 0)\n",
    "\n",
    "# Solve the system of equations\n",
    "sol = sp.solve((eq1, eq2, eq3), (b1, b2, b3), dict=True)\n",
    "sol"
   ]
  }
 ],
 "metadata": {
  "kernelspec": {
   "display_name": "Python 3",
   "language": "python",
   "name": "python3"
  },
  "language_info": {
   "codemirror_mode": {
    "name": "ipython",
    "version": 3
   },
   "file_extension": ".py",
   "mimetype": "text/x-python",
   "name": "python",
   "nbconvert_exporter": "python",
   "pygments_lexer": "ipython3",
   "version": "3.8.16"
  }
 },
 "nbformat": 4,
 "nbformat_minor": 4
}
