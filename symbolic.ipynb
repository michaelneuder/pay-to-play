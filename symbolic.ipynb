{
 "cells": [
  {
   "cell_type": "code",
   "execution_count": 1,
   "metadata": {},
   "outputs": [],
   "source": [
    "import sympy as sp"
   ]
  },
  {
   "cell_type": "code",
   "execution_count": 2,
   "metadata": {},
   "outputs": [
    {
     "data": {
      "text/plain": [
       "[{b1: 8.0*D*c1*c2*c3*(c1*c2 + c1*c3 - c2*c3)/(c1*c2 + c1*c3 + c2*c3)**2,\n",
       "  b2: 8.0*D*c1*c2*c3*(c1*c2 - c1*c3 + c2*c3)/(c1*c2 + c1*c3 + c2*c3)**2,\n",
       "  b3: 8.0*D*c1*c2*c3*(-c1*c2 + c1*c3 + c2*c3)/(c1*c2 + c1*c3 + c2*c3)**2}]"
      ]
     },
     "execution_count": 2,
     "metadata": {},
     "output_type": "execute_result"
    }
   ],
   "source": [
    "# Define the symbols\n",
    "D = sp.symbols('D')\n",
    "b1, b2, b3 = sp.symbols('b1 b2 b3')\n",
    "c1, c2, c3 = sp.symbols('c1 c2 c3')\n",
    "\n",
    "# Define the equations\n",
    "eq1 = sp.Eq(-1/2+2*D*c1*(b2+b3)/((b1+b2+b3)**2), 0)\n",
    "eq2 = sp.Eq(-1/2+2*D*c2*(b1+b3)/((b1+b2+b3)**2), 0)\n",
    "eq3 = sp.Eq(-1/2+2*D*c3*(b1+b2)/((b1+b2+b3)**2), 0)\n",
    "\n",
    "# Solve the system of equations\n",
    "sol = sp.solve((eq1, eq2, eq3), (b1, b2, b3), dict=True)\n",
    "sol"
   ]
  },
  {
   "cell_type": "markdown",
   "metadata": {},
   "source": [
    "\\begin{align}\n",
    "\\frac{\\partial U_1}{\\partial b_1} &= \\frac{-a b_1^{a-1}}{2} + \\frac{2a Dc_1 b_1^{a-1}(b_2^a+b_3^a)}{(b_1^a+b_2^a+b_3^a)^2} \\\\\n",
    "\\frac{\\partial U_2}{\\partial b_2} &= \\frac{-a b_2^{a-1}}{2} + \\frac{2a Dc_2 b_2^{a-1}(b_1^a+b_3^a)}{(b_1^a+b_2^a+b_3^a)^2} \\\\\n",
    "\\frac{\\partial U_3}{\\partial b_3} &= \\frac{-a b_1^{a-1}}{2} + \\frac{2a Dc_3 b_3^{a-1}(b_1^a+b_2^a)}{(b_1^a+b_2^a+b_3^a)^2} \\\\\n",
    "\\end{align}"
   ]
  },
  {
   "cell_type": "code",
   "execution_count": 5,
   "metadata": {},
   "outputs": [
    {
     "data": {
      "text/plain": [
       "[]"
      ]
     },
     "execution_count": 5,
     "metadata": {},
     "output_type": "execute_result"
    }
   ],
   "source": [
    "# Define the symbols\n",
    "D = sp.symbols('D')\n",
    "a = sp.symbols('a')\n",
    "b1, b2, b3 = sp.symbols('b1 b2 b3')\n",
    "c1, c2, c3 = sp.symbols('c1 c2 c3')\n",
    "\n",
    "# Define the equations\n",
    "eq1 = sp.Eq(-a*(b1**(a-1))/2+2*a*D*c1*(b1**(a-1))*((b2**a)+(b3**a))/(((b1**a)+(b2**a)+(b3**a))**2), 0)\n",
    "eq2 = sp.Eq(-a*(b2**(a-1))/2+2*a*D*c2*(b2**(a-1))*((b1**a)+(b3**a))/(((b1**a)+(b2**a)+(b3**a))**2), 0)\n",
    "eq3 = sp.Eq(-a*(b3**(a-1))/2+2*a*D*c3*(b3**(a-1))*((b1**a)+(b2**a))/(((b1**a)+(b2**a)+(b3**a))**2), 0)\n",
    "\n",
    "# Solve the system of equations\n",
    "sol = sp.solve((eq1, eq2, eq3), (b1, b2, b3), dict=True)\n",
    "sol"
   ]
  },
  {
   "cell_type": "markdown",
   "metadata": {},
   "source": [
    "Simple concave cost."
   ]
  },
  {
   "cell_type": "code",
   "execution_count": 6,
   "metadata": {},
   "outputs": [
    {
     "ename": "NotImplementedError",
     "evalue": "could not solve 4*D**b*b*c1*(b2 + b3)*((-2*b1/(b1 + b2 + b3) + 1)**b - 1) - (b1 + b2 + b3)**2",
     "output_type": "error",
     "traceback": [
      "\u001b[0;31m---------------------------------------------------------------------------\u001b[0m",
      "\u001b[0;31mNotImplementedError\u001b[0m                       Traceback (most recent call last)",
      "\u001b[0;32m<ipython-input-6-923ca70cf5c5>\u001b[0m in \u001b[0;36m<module>\u001b[0;34m\u001b[0m\n\u001b[1;32m     11\u001b[0m \u001b[0;34m\u001b[0m\u001b[0m\n\u001b[1;32m     12\u001b[0m \u001b[0;31m# Solve the system of equations\u001b[0m\u001b[0;34m\u001b[0m\u001b[0;34m\u001b[0m\u001b[0;34m\u001b[0m\u001b[0m\n\u001b[0;32m---> 13\u001b[0;31m \u001b[0msol\u001b[0m \u001b[0;34m=\u001b[0m \u001b[0msp\u001b[0m\u001b[0;34m.\u001b[0m\u001b[0msolve\u001b[0m\u001b[0;34m(\u001b[0m\u001b[0;34m(\u001b[0m\u001b[0meq1\u001b[0m\u001b[0;34m,\u001b[0m \u001b[0meq2\u001b[0m\u001b[0;34m,\u001b[0m \u001b[0meq3\u001b[0m\u001b[0;34m)\u001b[0m\u001b[0;34m,\u001b[0m \u001b[0;34m(\u001b[0m\u001b[0mb1\u001b[0m\u001b[0;34m,\u001b[0m \u001b[0mb2\u001b[0m\u001b[0;34m,\u001b[0m \u001b[0mb3\u001b[0m\u001b[0;34m)\u001b[0m\u001b[0;34m,\u001b[0m \u001b[0mdict\u001b[0m\u001b[0;34m=\u001b[0m\u001b[0;32mTrue\u001b[0m\u001b[0;34m)\u001b[0m\u001b[0;34m\u001b[0m\u001b[0;34m\u001b[0m\u001b[0m\n\u001b[0m\u001b[1;32m     14\u001b[0m \u001b[0msol\u001b[0m\u001b[0;34m\u001b[0m\u001b[0;34m\u001b[0m\u001b[0m\n",
      "\u001b[0;32m/usr/local/lib/python3.8/site-packages/sympy/solvers/solvers.py\u001b[0m in \u001b[0;36msolve\u001b[0;34m(f, *symbols, **flags)\u001b[0m\n\u001b[1;32m   1145\u001b[0m             \u001b[0msolution\u001b[0m \u001b[0;34m=\u001b[0m \u001b[0m_solve\u001b[0m\u001b[0;34m(\u001b[0m\u001b[0mf\u001b[0m\u001b[0;34m[\u001b[0m\u001b[0;36m0\u001b[0m\u001b[0;34m]\u001b[0m\u001b[0;34m,\u001b[0m \u001b[0;34m*\u001b[0m\u001b[0msymbols\u001b[0m\u001b[0;34m,\u001b[0m \u001b[0;34m**\u001b[0m\u001b[0mflags\u001b[0m\u001b[0;34m)\u001b[0m\u001b[0;34m\u001b[0m\u001b[0;34m\u001b[0m\u001b[0m\n\u001b[1;32m   1146\u001b[0m     \u001b[0;32melse\u001b[0m\u001b[0;34m:\u001b[0m\u001b[0;34m\u001b[0m\u001b[0;34m\u001b[0m\u001b[0m\n\u001b[0;32m-> 1147\u001b[0;31m         \u001b[0mlinear\u001b[0m\u001b[0;34m,\u001b[0m \u001b[0msolution\u001b[0m \u001b[0;34m=\u001b[0m \u001b[0m_solve_system\u001b[0m\u001b[0;34m(\u001b[0m\u001b[0mf\u001b[0m\u001b[0;34m,\u001b[0m \u001b[0msymbols\u001b[0m\u001b[0;34m,\u001b[0m \u001b[0;34m**\u001b[0m\u001b[0mflags\u001b[0m\u001b[0;34m)\u001b[0m\u001b[0;34m\u001b[0m\u001b[0;34m\u001b[0m\u001b[0m\n\u001b[0m\u001b[1;32m   1148\u001b[0m     \u001b[0;32massert\u001b[0m \u001b[0mtype\u001b[0m\u001b[0;34m(\u001b[0m\u001b[0msolution\u001b[0m\u001b[0;34m)\u001b[0m \u001b[0;32mis\u001b[0m \u001b[0mlist\u001b[0m\u001b[0;34m\u001b[0m\u001b[0;34m\u001b[0m\u001b[0m\n\u001b[1;32m   1149\u001b[0m     \u001b[0;32massert\u001b[0m \u001b[0;32mnot\u001b[0m \u001b[0msolution\u001b[0m \u001b[0;32mor\u001b[0m \u001b[0mtype\u001b[0m\u001b[0;34m(\u001b[0m\u001b[0msolution\u001b[0m\u001b[0;34m[\u001b[0m\u001b[0;36m0\u001b[0m\u001b[0;34m]\u001b[0m\u001b[0;34m)\u001b[0m \u001b[0;32mis\u001b[0m \u001b[0mdict\u001b[0m\u001b[0;34m,\u001b[0m \u001b[0msolution\u001b[0m\u001b[0;34m\u001b[0m\u001b[0;34m\u001b[0m\u001b[0m\n",
      "\u001b[0;32m/usr/local/lib/python3.8/site-packages/sympy/solvers/solvers.py\u001b[0m in \u001b[0;36m_solve_system\u001b[0;34m(exprs, symbols, **flags)\u001b[0m\n\u001b[1;32m   1960\u001b[0m                     \u001b[0mgot_s\u001b[0m\u001b[0;34m.\u001b[0m\u001b[0madd\u001b[0m\u001b[0;34m(\u001b[0m\u001b[0ms\u001b[0m\u001b[0;34m)\u001b[0m\u001b[0;34m\u001b[0m\u001b[0;34m\u001b[0m\u001b[0m\n\u001b[1;32m   1961\u001b[0m                 \u001b[0;32mif\u001b[0m \u001b[0;32mnot\u001b[0m \u001b[0mhit\u001b[0m\u001b[0;34m:\u001b[0m\u001b[0;34m\u001b[0m\u001b[0;34m\u001b[0m\u001b[0m\n\u001b[0;32m-> 1962\u001b[0;31m                     \u001b[0;32mraise\u001b[0m \u001b[0mNotImplementedError\u001b[0m\u001b[0;34m(\u001b[0m\u001b[0;34m'could not solve %s'\u001b[0m \u001b[0;34m%\u001b[0m \u001b[0meq2\u001b[0m\u001b[0;34m)\u001b[0m\u001b[0;34m\u001b[0m\u001b[0;34m\u001b[0m\u001b[0m\n\u001b[0m\u001b[1;32m   1963\u001b[0m             \u001b[0;32melse\u001b[0m\u001b[0;34m:\u001b[0m\u001b[0;34m\u001b[0m\u001b[0;34m\u001b[0m\u001b[0m\n\u001b[1;32m   1964\u001b[0m                 \u001b[0mresult\u001b[0m \u001b[0;34m=\u001b[0m \u001b[0mnewresult\u001b[0m\u001b[0;34m\u001b[0m\u001b[0;34m\u001b[0m\u001b[0m\n",
      "\u001b[0;31mNotImplementedError\u001b[0m: could not solve 4*D**b*b*c1*(b2 + b3)*((-2*b1/(b1 + b2 + b3) + 1)**b - 1) - (b1 + b2 + b3)**2"
     ]
    }
   ],
   "source": [
    "# Define the symbols\n",
    "D = sp.symbols('D')\n",
    "b = sp.symbols('b') \n",
    "b1, b2, b3 = sp.symbols('b1 b2 b3')\n",
    "c1, c2, c3 = sp.symbols('c1 c2 c3')\n",
    "\n",
    "# Define the equations\n",
    "eq1 = sp.Eq(-1/2+2*(D**b)*b*c1*(b2+b3)/((b1+b2+b3)**2)*((1-2*b1/(b1+b2+b3))**b-1), 0)\n",
    "eq2 = sp.Eq(-1/2+2*(D**b)*b*c2*(b1+b3)/((b1+b2+b3)**2)*((1-2*b2/(b1+b2+b3))**b-1), 0)\n",
    "eq3 = sp.Eq(-1/2+2*(D**b)*b*c3*(b1+b2)/((b1+b2+b3)**2)*((1-2*b3/(b1+b2+b3))**b-1), 0)\n",
    "\n",
    "# Solve the system of equations\n",
    "sol = sp.solve((eq1, eq2, eq3), (b1, b2, b3), dict=True)\n",
    "sol"
   ]
  },
  {
   "cell_type": "code",
   "execution_count": null,
   "metadata": {},
   "outputs": [],
   "source": []
  },
  {
   "cell_type": "code",
   "execution_count": 15,
   "metadata": {},
   "outputs": [
    {
     "data": {
      "text/latex": [
       "$\\displaystyle - b_{2} \\log{\\left(b_{2} + x \\right)} + x$"
      ],
      "text/plain": [
       "-b2*log(b2 + x) + x"
      ]
     },
     "execution_count": 15,
     "metadata": {},
     "output_type": "execute_result"
    }
   ],
   "source": [
    "b1, b2 = sp.symbols('b1 b2')\n",
    "x = sp.symbols('x')\n",
    "\n",
    "expr1 = x / (x+b2)\n",
    "sp.integrate(expr1, (x))"
   ]
  },
  {
   "cell_type": "code",
   "execution_count": 16,
   "metadata": {},
   "outputs": [
    {
     "data": {
      "text/latex": [
       "$\\displaystyle b_{1} + b_{2} \\log{\\left(b_{2} \\right)} - b_{2} \\log{\\left(b_{1} + b_{2} \\right)}$"
      ],
      "text/plain": [
       "b1 + b2*log(b2) - b2*log(b1 + b2)"
      ]
     },
     "execution_count": 16,
     "metadata": {},
     "output_type": "execute_result"
    }
   ],
   "source": [
    "sp.integrate(expr1, (x, 0, b1))"
   ]
  },
  {
   "cell_type": "code",
   "execution_count": 2,
   "metadata": {},
   "outputs": [],
   "source": [
    "# prop allo\n",
    "b1, b2 = sp.symbols('b1 b2')\n",
    "v1, v2 = sp.symbols('v1 v2')\n",
    "x1, x2 = sp.symbols('x1 x2')\n",
    "\n",
    "expr1 = x1 / (x1+b2)\n",
    "payment1 = b1*(b1/(b1+b2)) - sp.integrate(expr1, (x1, 0, b1))\n",
    "utility1 = sp.simplify(v1*(b1/(b1+b2)) - payment1)\n",
    "\n",
    "expr2 = x2 / (x2+b1)\n",
    "payment2 = b2*(b2/(b1+b2)) - sp.integrate(expr2, (x2, 0, b2))\n",
    "utility2 = sp.simplify(v2*(b2/(b1+b2)) - payment2)"
   ]
  },
  {
   "cell_type": "code",
   "execution_count": 3,
   "metadata": {},
   "outputs": [
    {
     "data": {
      "text/latex": [
       "$\\displaystyle \\frac{- b_{1}^{2} + b_{1} v_{1} + \\left(b_{1} + b_{2}\\right) \\left(b_{1} + b_{2} \\log{\\left(b_{2} \\right)} - b_{2} \\log{\\left(b_{1} + b_{2} \\right)}\\right)}{b_{1} + b_{2}}$"
      ],
      "text/plain": [
       "(-b1**2 + b1*v1 + (b1 + b2)*(b1 + b2*log(b2) - b2*log(b1 + b2)))/(b1 + b2)"
      ]
     },
     "execution_count": 3,
     "metadata": {},
     "output_type": "execute_result"
    }
   ],
   "source": [
    "utility1"
   ]
  },
  {
   "cell_type": "code",
   "execution_count": 4,
   "metadata": {},
   "outputs": [
    {
     "data": {
      "text/latex": [
       "$\\displaystyle \\frac{- b_{2}^{2} + b_{2} v_{2} + \\left(b_{1} + b_{2}\\right) \\left(b_{1} \\log{\\left(b_{1} \\right)} - b_{1} \\log{\\left(b_{1} + b_{2} \\right)} + b_{2}\\right)}{b_{1} + b_{2}}$"
      ],
      "text/plain": [
       "(-b2**2 + b2*v2 + (b1 + b2)*(b1*log(b1) - b1*log(b1 + b2) + b2))/(b1 + b2)"
      ]
     },
     "execution_count": 4,
     "metadata": {},
     "output_type": "execute_result"
    }
   ],
   "source": [
    "utility2"
   ]
  },
  {
   "cell_type": "code",
   "execution_count": 5,
   "metadata": {},
   "outputs": [
    {
     "data": {
      "text/plain": [
       "[{b1: v1, b2: v2}]"
      ]
     },
     "execution_count": 5,
     "metadata": {},
     "output_type": "execute_result"
    }
   ],
   "source": [
    "foc1 = sp.Eq(sp.diff(utility1, b1), 0)\n",
    "foc2 = sp.Eq(sp.diff(utility2, b2), 0)\n",
    "sol = sp.solve((foc1, foc2), (b1, b2), dict=True)\n",
    "sol"
   ]
  },
  {
   "cell_type": "code",
   "execution_count": 6,
   "metadata": {},
   "outputs": [
    {
     "data": {
      "text/latex": [
       "$\\displaystyle v_{1} + v_{2} \\log{\\left(v_{2} \\right)} - v_{2} \\log{\\left(v_{1} + v_{2} \\right)}$"
      ],
      "text/plain": [
       "v1 + v2*log(v2) - v2*log(v1 + v2)"
      ]
     },
     "execution_count": 6,
     "metadata": {},
     "output_type": "execute_result"
    }
   ],
   "source": [
    "utility1.evalf(subs={b1:v1, b2:v2})"
   ]
  },
  {
   "cell_type": "code",
   "execution_count": 7,
   "metadata": {},
   "outputs": [
    {
     "data": {
      "text/latex": [
       "$\\displaystyle v_{1} \\log{\\left(v_{1} \\right)} - v_{1} \\log{\\left(v_{1} + v_{2} \\right)} + v_{2}$"
      ],
      "text/plain": [
       "v1*log(v1) - v1*log(v1 + v2) + v2"
      ]
     },
     "execution_count": 7,
     "metadata": {},
     "output_type": "execute_result"
    }
   ],
   "source": [
    "utility2.evalf(subs={b1:v1, b2:v2})"
   ]
  },
  {
   "cell_type": "code",
   "execution_count": 44,
   "metadata": {},
   "outputs": [
    {
     "data": {
      "text/latex": [
       "$\\displaystyle \\frac{x_{1}^{0.5}}{b_{2}^{0.5} + x_{1}^{0.5}}$"
      ],
      "text/plain": [
       "x1**0.5/(b2**0.5 + x1**0.5)"
      ]
     },
     "execution_count": 44,
     "metadata": {},
     "output_type": "execute_result"
    }
   ],
   "source": [
    "expr1.evalf(subs={a:1/2})"
   ]
  },
  {
   "cell_type": "code",
   "execution_count": 45,
   "metadata": {},
   "outputs": [
    {
     "data": {
      "text/latex": [
       "$\\displaystyle - 2.0 b_{1}^{0.5} b_{2}^{0.5} + 1.0 b_{1}^{1.0} + 2.0 b_{2}^{1.0} \\log{\\left(\\frac{b_{1}^{0.5}}{b_{2}^{0.5}} + 1 \\right)}$"
      ],
      "text/plain": [
       "-2.0*b1**0.5*b2**0.5 + 1.0*b1**1.0 + 2.0*b2**1.0*log(b1**0.5/b2**0.5 + 1)"
      ]
     },
     "execution_count": 45,
     "metadata": {},
     "output_type": "execute_result"
    }
   ],
   "source": [
    "sp.integrate(expr1.evalf(subs={a:1/2}), (x1, 0, b1))"
   ]
  },
  {
   "cell_type": "code",
   "execution_count": 64,
   "metadata": {},
   "outputs": [],
   "source": [
    "# alpha-prop allo\n",
    "b1, b2 = sp.symbols('b1 b2')\n",
    "v1, v2 = sp.symbols('v1 v2')\n",
    "x1, x2 = sp.symbols('x1 x2')\n",
    "a      = sp.symbols('a')\n",
    "a_     = 3\n",
    "\n",
    "expr1 = x1**a / (x1**a+b2**a)\n",
    "payment1 = b1*(b1**a/(b1**a+b2**a)) - sp.integrate(expr1.evalf(subs={a:a_}), (x1, 0, b1))\n",
    "utility1 = sp.simplify(v1*(b1**a/(b1**a+b2**a)) - payment1).evalf(subs={a:a_})\n",
    "\n",
    "expr2 = x2**a / (x2**a+b1**a)\n",
    "payment2 = b2*(b2**a/(b1**a+b2**a)) - sp.integrate(expr2.evalf(subs={a:a_}), (x2, 0, b2))\n",
    "utility2 = sp.simplify(v2*(b2**a/(b1**a+b2**a)) - payment2).evalf(subs={a:a_})"
   ]
  },
  {
   "cell_type": "code",
   "execution_count": 65,
   "metadata": {},
   "outputs": [
    {
     "data": {
      "text/latex": [
       "$\\displaystyle \\frac{- b_{1}^{4} + b_{1}^{3} v_{1} + 0.166666666666667 \\left(b_{1}^{3} + b_{2}^{3}\\right) \\left(6.0 b_{1} - b_{2} \\left(- 2.0 \\log{\\left(b_{2} \\right)} + \\left(1.0 - 1.73205080756888 i\\right) \\log{\\left(\\frac{b_{2} \\left(-1 + \\sqrt{3} i\\right)}{2} \\right)} + \\left(1.0 + 1.73205080756888 i\\right) \\log{\\left(- \\frac{b_{2} \\cdot \\left(1 + \\sqrt{3} i\\right)}{2} \\right)}\\right) + b_{2} \\left(- 2.0 \\log{\\left(b_{1} + b_{2} \\right)} + \\left(1.0 - 1.73205080756888 i\\right) \\log{\\left(b_{1} - \\frac{b_{2} \\cdot \\left(1 - \\sqrt{3} i\\right)}{2} \\right)} + \\left(1.0 + 1.73205080756888 i\\right) \\log{\\left(b_{1} - \\frac{b_{2} \\cdot \\left(1 + \\sqrt{3} i\\right)}{2} \\right)}\\right)\\right)}{b_{1}^{3} + b_{2}^{3}}$"
      ],
      "text/plain": [
       "(-b1**4 + b1**3*v1 + 0.166666666666667*(b1**3 + b2**3)*(6.0*b1 - b2*(-2.0*log(b2) + (1.0 - 1.73205080756888*I)*log(b2*(-1 + sqrt(3)*I)/2) + (1.0 + 1.73205080756888*I)*log(-b2*(1 + sqrt(3)*I)/2)) + b2*(-2.0*log(b1 + b2) + (1.0 - 1.73205080756888*I)*log(b1 - b2*(1 - sqrt(3)*I)/2) + (1.0 + 1.73205080756888*I)*log(b1 - b2*(1 + sqrt(3)*I)/2))))/(b1**3 + b2**3)"
      ]
     },
     "execution_count": 65,
     "metadata": {},
     "output_type": "execute_result"
    }
   ],
   "source": [
    "utility1"
   ]
  },
  {
   "cell_type": "code",
   "execution_count": 66,
   "metadata": {},
   "outputs": [
    {
     "data": {
      "text/latex": [
       "$\\displaystyle \\frac{- b_{2}^{4} + b_{2}^{3} v_{2} + 0.166666666666667 \\left(b_{1}^{3} + b_{2}^{3}\\right) \\left(- b_{1} \\left(- 2.0 \\log{\\left(b_{1} \\right)} + \\left(1.0 - 1.73205080756888 i\\right) \\log{\\left(\\frac{b_{1} \\left(-1 + \\sqrt{3} i\\right)}{2} \\right)} + \\left(1.0 + 1.73205080756888 i\\right) \\log{\\left(- \\frac{b_{1} \\cdot \\left(1 + \\sqrt{3} i\\right)}{2} \\right)}\\right) + b_{1} \\left(- 2.0 \\log{\\left(b_{1} + b_{2} \\right)} + \\left(1.0 - 1.73205080756888 i\\right) \\log{\\left(- \\frac{b_{1} \\cdot \\left(1 - \\sqrt{3} i\\right)}{2} + b_{2} \\right)} + \\left(1.0 + 1.73205080756888 i\\right) \\log{\\left(- \\frac{b_{1} \\cdot \\left(1 + \\sqrt{3} i\\right)}{2} + b_{2} \\right)}\\right) + 6.0 b_{2}\\right)}{b_{1}^{3} + b_{2}^{3}}$"
      ],
      "text/plain": [
       "(-b2**4 + b2**3*v2 + 0.166666666666667*(b1**3 + b2**3)*(-b1*(-2.0*log(b1) + (1.0 - 1.73205080756888*I)*log(b1*(-1 + sqrt(3)*I)/2) + (1.0 + 1.73205080756888*I)*log(-b1*(1 + sqrt(3)*I)/2)) + b1*(-2.0*log(b1 + b2) + (1.0 - 1.73205080756888*I)*log(-b1*(1 - sqrt(3)*I)/2 + b2) + (1.0 + 1.73205080756888*I)*log(-b1*(1 + sqrt(3)*I)/2 + b2)) + 6.0*b2))/(b1**3 + b2**3)"
      ]
     },
     "execution_count": 66,
     "metadata": {},
     "output_type": "execute_result"
    }
   ],
   "source": [
    "utility2"
   ]
  },
  {
   "cell_type": "code",
   "execution_count": 55,
   "metadata": {},
   "outputs": [
    {
     "data": {
      "text/plain": [
       "[{b1: v1, b2: v2}]"
      ]
     },
     "execution_count": 55,
     "metadata": {},
     "output_type": "execute_result"
    }
   ],
   "source": [
    "foc1 = sp.Eq(sp.diff(utility1, b1), 0)\n",
    "foc2 = sp.Eq(sp.diff(utility2, b2), 0)\n",
    "sol = sp.solve((foc1, foc2), (b1, b2), dict=True)\n",
    "sol"
   ]
  },
  {
   "cell_type": "code",
   "execution_count": 56,
   "metadata": {},
   "outputs": [
    {
     "data": {
      "text/latex": [
       "$\\displaystyle v_{1} + v_{2} \\log{\\left(v_{2} \\right)} - v_{2} \\log{\\left(v_{1} + v_{2} \\right)}$"
      ],
      "text/plain": [
       "v1 + v2*log(v2) - v2*log(v1 + v2)"
      ]
     },
     "execution_count": 56,
     "metadata": {},
     "output_type": "execute_result"
    }
   ],
   "source": [
    "utility1.evalf(subs={b1:v1, b2:v2})"
   ]
  },
  {
   "cell_type": "code",
   "execution_count": 57,
   "metadata": {},
   "outputs": [
    {
     "data": {
      "text/latex": [
       "$\\displaystyle v_{1} \\log{\\left(v_{1} \\right)} - v_{1} \\log{\\left(v_{1} + v_{2} \\right)} + v_{2}$"
      ],
      "text/plain": [
       "v1*log(v1) - v1*log(v1 + v2) + v2"
      ]
     },
     "execution_count": 57,
     "metadata": {},
     "output_type": "execute_result"
    }
   ],
   "source": [
    "utility2.evalf(subs={b1:v1, b2:v2})"
   ]
  },
  {
   "cell_type": "code",
   "execution_count": 51,
   "metadata": {},
   "outputs": [
    {
     "data": {
      "text/plain": [
       "(1.86864009858579, 0.621545724424183)"
      ]
     },
     "execution_count": 51,
     "metadata": {},
     "output_type": "execute_result"
    }
   ],
   "source": [
    "utility1.evalf(subs={b1:4, b2:2, v1:4, v2:2}), utility2.evalf(subs={b1:4, b2:2, v1:4, v2:2})"
   ]
  },
  {
   "cell_type": "code",
   "execution_count": 59,
   "metadata": {},
   "outputs": [
    {
     "data": {
      "text/plain": [
       "(1.80277542266378, 0.378139567567342)"
      ]
     },
     "execution_count": 59,
     "metadata": {},
     "output_type": "execute_result"
    }
   ],
   "source": [
    "utility1.evalf(subs={b1:4, b2:2, v1:4, v2:2}), utility2.evalf(subs={b1:4, b2:2, v1:4, v2:2})"
   ]
  },
  {
   "cell_type": "code",
   "execution_count": 63,
   "metadata": {},
   "outputs": [
    {
     "data": {
      "text/plain": [
       "(1.78570256441182 + 2.70833898429455e-34*I,\n",
       " 0.145409563996776 + 9.14816723583937e-34*I)"
      ]
     },
     "execution_count": 63,
     "metadata": {},
     "output_type": "execute_result"
    }
   ],
   "source": [
    "utility1.evalf(subs={b1:4, b2:2, v1:4, v2:2}), utility2.evalf(subs={b1:4, b2:2, v1:4, v2:2})"
   ]
  },
  {
   "cell_type": "code",
   "execution_count": 67,
   "metadata": {},
   "outputs": [
    {
     "data": {
      "text/plain": [
       "(1.81999653954308 + 7.70371977754894e-34*I,\n",
       " 0.0583922313984484 + 7.70371977754894e-34*I)"
      ]
     },
     "execution_count": 67,
     "metadata": {},
     "output_type": "execute_result"
    }
   ],
   "source": [
    "utility1.evalf(subs={b1:4, b2:2, v1:4, v2:2}), utility2.evalf(subs={b1:4, b2:2, v1:4, v2:2})"
   ]
  },
  {
   "cell_type": "code",
   "execution_count": null,
   "metadata": {},
   "outputs": [],
   "source": [
    "# take away, alpha=1/2 increases both of our utilities"
   ]
  },
  {
   "cell_type": "code",
   "execution_count": null,
   "metadata": {},
   "outputs": [],
   "source": [
    "# from mysersons, for all alpha are implementable (b/c they are monotone) and truthful is DSIC, so we have\n",
    "\n",
    "v1^al / (v1^al + v2^al) as the allocations, \n",
    "\n",
    "then v1^al / (v1^al + v2^al) - v1/(v1+v2) / (v1/(v1+v2)) > 0 forall alpha > 1"
   ]
  },
  {
   "cell_type": "code",
   "execution_count": 106,
   "metadata": {},
   "outputs": [],
   "source": [
    "v1, v2 = sp.symbols('v1 v2')\n",
    "a      = sp.symbols('a')"
   ]
  },
  {
   "cell_type": "code",
   "execution_count": 107,
   "metadata": {},
   "outputs": [
    {
     "data": {
      "text/latex": [
       "$\\displaystyle \\frac{\\left(v_{1} + v_{2}\\right) \\left(- \\frac{v_{2}}{v_{1} + v_{2}} + \\frac{v_{2}^{a}}{v_{1}^{a} + v_{2}^{a}}\\right)}{v_{2}} + \\frac{\\left(v_{1} + v_{2}\\right) \\left(- \\frac{v_{1}}{v_{1} + v_{2}} + \\frac{v_{1}^{a}}{v_{1}^{a} + v_{2}^{a}}\\right)}{v_{1}}$"
      ],
      "text/plain": [
       "(v1 + v2)*(-v2/(v1 + v2) + v2**a/(v1**a + v2**a))/v2 + (v1 + v2)*(-v1/(v1 + v2) + v1**a/(v1**a + v2**a))/v1"
      ]
     },
     "execution_count": 107,
     "metadata": {},
     "output_type": "execute_result"
    }
   ],
   "source": [
    "expr1 = (v1**a / (v1**a + v2**a) - v1/(v1+v2)) / (v1/(v1+v2))\n",
    "expr2 = (v2**a / (v1**a + v2**a) - v2/(v1+v2)) / (v2/(v1+v2))\n",
    "expr = expr1 + expr2\n",
    "expr"
   ]
  },
  {
   "cell_type": "code",
   "execution_count": 108,
   "metadata": {},
   "outputs": [
    {
     "data": {
      "text/latex": [
       "$\\displaystyle \\frac{v_{1}^{2} v_{2}^{a} - v_{1} v_{2}^{a + 1} + v_{1}^{a} v_{2}^{2} - v_{1}^{a + 1} v_{2}}{v_{1} v_{2} \\left(v_{1}^{a} + v_{2}^{a}\\right)}$"
      ],
      "text/plain": [
       "(v1**2*v2**a - v1*v2**(a + 1) + v1**a*v2**2 - v1**(a + 1)*v2)/(v1*v2*(v1**a + v2**a))"
      ]
     },
     "execution_count": 108,
     "metadata": {},
     "output_type": "execute_result"
    }
   ],
   "source": [
    "sp.simplify(sp.simplify(expr))"
   ]
  },
  {
   "cell_type": "code",
   "execution_count": 109,
   "metadata": {},
   "outputs": [
    {
     "data": {
      "text/latex": [
       "$\\displaystyle 0.0124611797498107$"
      ],
      "text/plain": [
       "0.0124611797498107"
      ]
     },
     "execution_count": 109,
     "metadata": {},
     "output_type": "execute_result"
    }
   ],
   "source": [
    "expr.evalf(subs={a:1/2}).evalf(subs={v1:0.5, v2:0.4})"
   ]
  },
  {
   "cell_type": "code",
   "execution_count": 110,
   "metadata": {},
   "outputs": [],
   "source": [
    "v1, v2 = sp.symbols('v1 v2')\n",
    "f, g   = sp.symbols('f g')"
   ]
  },
  {
   "cell_type": "code",
   "execution_count": 111,
   "metadata": {},
   "outputs": [
    {
     "data": {
      "text/latex": [
       "$\\displaystyle \\frac{\\left(v_{1} + v_{2}\\right) \\left(\\frac{g}{f + g} - \\frac{v_{2}}{v_{1} + v_{2}}\\right)}{v_{2}} + \\frac{\\left(v_{1} + v_{2}\\right) \\left(\\frac{f}{f + g} - \\frac{v_{1}}{v_{1} + v_{2}}\\right)}{v_{1}}$"
      ],
      "text/plain": [
       "(v1 + v2)*(g/(f + g) - v2/(v1 + v2))/v2 + (v1 + v2)*(f/(f + g) - v1/(v1 + v2))/v1"
      ]
     },
     "execution_count": 111,
     "metadata": {},
     "output_type": "execute_result"
    }
   ],
   "source": [
    "expr1 = (f / (f+g) - v1/(v1+v2)) / (v1/(v1+v2))\n",
    "expr2 = (g/ (f+g) - v2/(v1+v2)) / (v2/(v1+v2))\n",
    "expr = expr1 + expr2\n",
    "expr"
   ]
  },
  {
   "cell_type": "code",
   "execution_count": 112,
   "metadata": {},
   "outputs": [
    {
     "data": {
      "text/latex": [
       "$\\displaystyle \\frac{- f v_{1} v_{2} + f v_{2}^{2} + g v_{1}^{2} - g v_{1} v_{2}}{v_{1} v_{2} \\left(f + g\\right)}$"
      ],
      "text/plain": [
       "(-f*v1*v2 + f*v2**2 + g*v1**2 - g*v1*v2)/(v1*v2*(f + g))"
      ]
     },
     "execution_count": 112,
     "metadata": {},
     "output_type": "execute_result"
    }
   ],
   "source": [
    "sp.simplify(sp.simplify(expr))"
   ]
  },
  {
   "cell_type": "code",
   "execution_count": 92,
   "metadata": {},
   "outputs": [
    {
     "data": {
      "text/latex": [
       "$\\displaystyle 0.0124611797498107$"
      ],
      "text/plain": [
       "0.0124611797498107"
      ]
     },
     "execution_count": 92,
     "metadata": {},
     "output_type": "execute_result"
    }
   ],
   "source": [
    "expr.evalf(subs={a:1/2}).evalf(subs={v1:0.5, v2:0.4})"
   ]
  },
  {
   "cell_type": "code",
   "execution_count": null,
   "metadata": {},
   "outputs": [],
   "source": []
  }
 ],
 "metadata": {
  "kernelspec": {
   "display_name": "Python 3",
   "language": "python",
   "name": "python3"
  },
  "language_info": {
   "codemirror_mode": {
    "name": "ipython",
    "version": 3
   },
   "file_extension": ".py",
   "mimetype": "text/x-python",
   "name": "python",
   "nbconvert_exporter": "python",
   "pygments_lexer": "ipython3",
   "version": "3.8.16"
  }
 },
 "nbformat": 4,
 "nbformat_minor": 4
}
