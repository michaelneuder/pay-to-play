{
 "cells": [
  {
   "cell_type": "code",
   "execution_count": 1,
   "metadata": {},
   "outputs": [],
   "source": [
    "import sympy as sp"
   ]
  },
  {
   "cell_type": "code",
   "execution_count": 2,
   "metadata": {},
   "outputs": [
    {
     "data": {
      "text/plain": [
       "[{b1: 8.0*D*c1*c2*c3*(c1*c2 + c1*c3 - c2*c3)/(c1*c2 + c1*c3 + c2*c3)**2,\n",
       "  b2: 8.0*D*c1*c2*c3*(c1*c2 - c1*c3 + c2*c3)/(c1*c2 + c1*c3 + c2*c3)**2,\n",
       "  b3: 8.0*D*c1*c2*c3*(-c1*c2 + c1*c3 + c2*c3)/(c1*c2 + c1*c3 + c2*c3)**2}]"
      ]
     },
     "execution_count": 2,
     "metadata": {},
     "output_type": "execute_result"
    }
   ],
   "source": [
    "# Define the symbols\n",
    "D = sp.symbols('D')\n",
    "b1, b2, b3 = sp.symbols('b1 b2 b3')\n",
    "c1, c2, c3 = sp.symbols('c1 c2 c3')\n",
    "\n",
    "# Define the equations\n",
    "eq1 = sp.Eq(-1/2+2*D*c1*(b2+b3)/((b1+b2+b3)**2), 0)\n",
    "eq2 = sp.Eq(-1/2+2*D*c2*(b1+b3)/((b1+b2+b3)**2), 0)\n",
    "eq3 = sp.Eq(-1/2+2*D*c3*(b1+b2)/((b1+b2+b3)**2), 0)\n",
    "\n",
    "# Solve the system of equations\n",
    "sol = sp.solve((eq1, eq2, eq3), (b1, b2, b3), dict=True)\n",
    "sol"
   ]
  },
  {
   "cell_type": "markdown",
   "metadata": {},
   "source": [
    "\\begin{align}\n",
    "\\frac{\\partial U_1}{\\partial b_1} &= \\frac{-a b_1^{a-1}}{2} + \\frac{2a Dc_1 b_1^{a-1}(b_2^a+b_3^a)}{(b_1^a+b_2^a+b_3^a)^2} \\\\\n",
    "\\frac{\\partial U_2}{\\partial b_2} &= \\frac{-a b_2^{a-1}}{2} + \\frac{2a Dc_2 b_2^{a-1}(b_1^a+b_3^a)}{(b_1^a+b_2^a+b_3^a)^2} \\\\\n",
    "\\frac{\\partial U_3}{\\partial b_3} &= \\frac{-a b_1^{a-1}}{2} + \\frac{2a Dc_3 b_3^{a-1}(b_1^a+b_2^a)}{(b_1^a+b_2^a+b_3^a)^2} \\\\\n",
    "\\end{align}"
   ]
  },
  {
   "cell_type": "code",
   "execution_count": null,
   "metadata": {},
   "outputs": [],
   "source": [
    "# Define the symbols\n",
    "D = sp.symbols('D')\n",
    "a = sp.symbols('a')\n",
    "b1, b2, b3 = sp.symbols('b1 b2 b3')\n",
    "c1, c2, c3 = sp.symbols('c1 c2 c3')\n",
    "\n",
    "# Define the equations\n",
    "eq1 = sp.Eq(-a*(b1**(a-1))/2+2*a*D*c1*(b1**(a-1))*((b2**a)+(b3**a))/(((b1**a)+(b2**a)+(b3**a))**2), 0)\n",
    "eq2 = sp.Eq(-a*(b2**(a-1))/2+2*a*D*c2*(b2**(a-1))*((b1**a)+(b3**a))/(((b1**a)+(b2**a)+(b3**a))**2), 0)\n",
    "eq3 = sp.Eq(-a*(b3**(a-1))/2+2*a*D*c3*(b3**(a-1))*((b1**a)+(b2**a))/(((b1**a)+(b2**a)+(b3**a))**2), 0)\n",
    "\n",
    "# Solve the system of equations\n",
    "sol = sp.solve((eq1, eq2, eq3), (b1, b2, b3), dict=True)\n",
    "sol"
   ]
  }
 ],
 "metadata": {
  "kernelspec": {
   "display_name": "Python 3",
   "language": "python",
   "name": "python3"
  },
  "language_info": {
   "codemirror_mode": {
    "name": "ipython",
    "version": 3
   },
   "file_extension": ".py",
   "mimetype": "text/x-python",
   "name": "python",
   "nbconvert_exporter": "python",
   "pygments_lexer": "ipython3",
   "version": "3.8.16"
  }
 },
 "nbformat": 4,
 "nbformat_minor": 4
}
