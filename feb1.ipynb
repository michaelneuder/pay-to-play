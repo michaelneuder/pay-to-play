{
 "cells": [
  {
   "cell_type": "code",
   "execution_count": 1,
   "metadata": {},
   "outputs": [],
   "source": [
    "import matplotlib.pyplot as plt\n",
    "import matplotlib as mpl\n",
    "import matplotlib.patches as mpatches\n",
    "import numpy as np\n",
    "import pandas as pd\n",
    "import cvxpy as cp\n",
    "from scipy.stats import poisson, uniform, expon, pareto\n",
    "from scipy.optimize import minimize, fsolve\n",
    "from tqdm import tqdm\n",
    "from mdptoolbox import mdp, util\n",
    "import itertools\n",
    "from scipy.sparse import csr_matrix, lil_matrix\n",
    "from matplotlib.patches import Patch\n",
    "import math\n",
    "import random\n",
    "import sympy as sp\n",
    "from sympy.printing.latex import print_latex\n",
    "from scipy.optimize import least_squares"
   ]
  },
  {
   "cell_type": "markdown",
   "metadata": {},
   "source": [
    "# sympy for regularizers\n",
    "\n",
    "- start with two player"
   ]
  },
  {
   "cell_type": "code",
   "execution_count": 2,
   "metadata": {},
   "outputs": [],
   "source": [
    "a = sp.symbols('a', positive=True, real=True)\n",
    "lambda_ = sp.symbols('lambda')"
   ]
  },
  {
   "cell_type": "code",
   "execution_count": 3,
   "metadata": {},
   "outputs": [],
   "source": [
    "c = sp.symbols('c1 c2', positive=True, real=True)\n",
    "x = sp.symbols('x1 x2', positive=True, real=True)"
   ]
  },
  {
   "cell_type": "code",
   "execution_count": 4,
   "metadata": {},
   "outputs": [
    {
     "data": {
      "text/latex": [
       "$\\displaystyle c_{1} x_{1}^{1 + \\frac{1}{a}} + c_{2} x_{2}^{1 + \\frac{1}{a}} - \\lambda \\left(x_{1} + x_{2} - 1\\right)$"
      ],
      "text/plain": [
       "c1*x1**(1 + 1/a) + c2*x2**(1 + 1/a) - lambda*(x1 + x2 - 1)"
      ]
     },
     "execution_count": 4,
     "metadata": {},
     "output_type": "execute_result"
    }
   ],
   "source": [
    "L = sum([c[i] * x[i]**(1 + 1/a) for i in range(2)]) - lambda_ * (sum(x[i] for i in range(2)) - 1)\n",
    "L"
   ]
  },
  {
   "cell_type": "code",
   "execution_count": 5,
   "metadata": {},
   "outputs": [
    {
     "data": {
      "text/latex": [
       "$\\displaystyle \\frac{c_{2} x_{2}^{1 + \\frac{1}{a}} \\left(1 + \\frac{1}{a}\\right)}{x_{2}} - \\lambda$"
      ],
      "text/plain": [
       "c2*x2**(1 + 1/a)*(1 + 1/a)/x2 - lambda"
      ]
     },
     "execution_count": 5,
     "metadata": {},
     "output_type": "execute_result"
    }
   ],
   "source": [
    "derivatives = [sp.diff(L, x[i]) for i in range(2)] + [sp.diff(L, lambda_)]\n",
    "derivatives[1]"
   ]
  },
  {
   "cell_type": "code",
   "execution_count": 6,
   "metadata": {},
   "outputs": [
    {
     "data": {
      "text/latex": [
       "$\\displaystyle \\frac{c_{2} x_{2}^{1 + \\frac{1}{a}} \\left(1 + \\frac{1}{a}\\right)}{x_{2}} - \\lambda = 0$"
      ],
      "text/plain": [
       "Eq(c2*x2**(1 + 1/a)*(1 + 1/a)/x2 - lambda, 0)"
      ]
     },
     "execution_count": 6,
     "metadata": {},
     "output_type": "execute_result"
    }
   ],
   "source": [
    "equations = [sp.Eq(derivatives[i], 0) for i in range(3)]\n",
    "equations[1]"
   ]
  },
  {
   "cell_type": "code",
   "execution_count": 7,
   "metadata": {},
   "outputs": [
    {
     "data": {
      "text/plain": [
       "[{lambda: c1*c2*(a + 1)/(a*(c1**a + c2**a)**(1/a)),\n",
       "  x1: c2**a/(c1**a + c2**a),\n",
       "  x2: c1**a/(c1**a + c2**a)}]"
      ]
     },
     "execution_count": 7,
     "metadata": {},
     "output_type": "execute_result"
    }
   ],
   "source": [
    "solutions = sp.solve(equations, x + (lambda_,), dict=True)\n",
    "solutions"
   ]
  },
  {
   "cell_type": "code",
   "execution_count": 8,
   "metadata": {},
   "outputs": [
    {
     "data": {
      "text/latex": [
       "$\\displaystyle \\frac{c_{2}^{a}}{c_{1}^{a} + c_{2}^{a}}$"
      ],
      "text/plain": [
       "c2**a/(c1**a + c2**a)"
      ]
     },
     "execution_count": 8,
     "metadata": {},
     "output_type": "execute_result"
    }
   ],
   "source": [
    "sp.simplify(c[0]**(-a) / (c[0]**(-a)+c[1]**(-a)))"
   ]
  },
  {
   "cell_type": "markdown",
   "metadata": {},
   "source": [
    "# a x log c + x log x"
   ]
  },
  {
   "cell_type": "code",
   "execution_count": 10,
   "metadata": {},
   "outputs": [],
   "source": [
    "a = sp.symbols('a', positive=True, real=True)\n",
    "lambda_ = sp.symbols('lambda')"
   ]
  },
  {
   "cell_type": "code",
   "execution_count": 11,
   "metadata": {},
   "outputs": [],
   "source": [
    "c = sp.symbols('c1 c2', positive=True, real=True)\n",
    "x = sp.symbols('x1 x2', positive=True, real=True)"
   ]
  },
  {
   "cell_type": "code",
   "execution_count": 12,
   "metadata": {},
   "outputs": [
    {
     "data": {
      "text/latex": [
       "$\\displaystyle a x_{1} \\log{\\left(c_{1} \\right)} + a x_{2} \\log{\\left(c_{2} \\right)} - \\lambda \\left(x_{1} + x_{2} - 1\\right) + x_{1} \\log{\\left(x_{1} \\right)} + x_{2} \\log{\\left(x_{2} \\right)}$"
      ],
      "text/plain": [
       "a*x1*log(c1) + a*x2*log(c2) - lambda*(x1 + x2 - 1) + x1*log(x1) + x2*log(x2)"
      ]
     },
     "execution_count": 12,
     "metadata": {},
     "output_type": "execute_result"
    }
   ],
   "source": [
    "L = sum([a*x[i] * sp.log(c[i]) + x[i] * sp.log(x[i]) for i in range(2)]) - lambda_ * (sum(x[i] for i in range(2)) - 1)\n",
    "L"
   ]
  },
  {
   "cell_type": "code",
   "execution_count": 13,
   "metadata": {},
   "outputs": [
    {
     "data": {
      "text/latex": [
       "$\\displaystyle a \\log{\\left(c_{2} \\right)} - \\lambda + \\log{\\left(x_{2} \\right)} + 1$"
      ],
      "text/plain": [
       "a*log(c2) - lambda + log(x2) + 1"
      ]
     },
     "execution_count": 13,
     "metadata": {},
     "output_type": "execute_result"
    }
   ],
   "source": [
    "derivatives = [sp.diff(L, x[i]) for i in range(2)] + [sp.diff(L, lambda_)]\n",
    "derivatives[1]"
   ]
  },
  {
   "cell_type": "code",
   "execution_count": 14,
   "metadata": {},
   "outputs": [
    {
     "data": {
      "text/latex": [
       "$\\displaystyle a \\log{\\left(c_{2} \\right)} - \\lambda + \\log{\\left(x_{2} \\right)} + 1 = 0$"
      ],
      "text/plain": [
       "Eq(a*log(c2) - lambda + log(x2) + 1, 0)"
      ]
     },
     "execution_count": 14,
     "metadata": {},
     "output_type": "execute_result"
    }
   ],
   "source": [
    "equations = [sp.Eq(derivatives[i], 0) for i in range(3)]\n",
    "equations[1]"
   ]
  },
  {
   "cell_type": "code",
   "execution_count": 15,
   "metadata": {},
   "outputs": [
    {
     "data": {
      "text/plain": [
       "[{lambda: log(c1**a*c2**a/(c1**a + c2**a)) + 1,\n",
       "  x1: c2**a/(c1**a + c2**a),\n",
       "  x2: c1**a/(c1**a + c2**a)}]"
      ]
     },
     "execution_count": 15,
     "metadata": {},
     "output_type": "execute_result"
    }
   ],
   "source": [
    "solutions = sp.solve(equations, x + (lambda_,), dict=True)\n",
    "solutions"
   ]
  },
  {
   "cell_type": "markdown",
   "metadata": {},
   "source": [
    "# x log c + a^-1 xlogx"
   ]
  },
  {
   "cell_type": "code",
   "execution_count": 22,
   "metadata": {},
   "outputs": [],
   "source": [
    "a = sp.symbols('a', positive=True, real=True)\n",
    "lambda_ = sp.symbols('lambda')"
   ]
  },
  {
   "cell_type": "code",
   "execution_count": 23,
   "metadata": {},
   "outputs": [],
   "source": [
    "c = sp.symbols('c1 c2', positive=True, real=True)\n",
    "x = sp.symbols('x1 x2', positive=True, real=True)"
   ]
  },
  {
   "cell_type": "code",
   "execution_count": 25,
   "metadata": {},
   "outputs": [
    {
     "data": {
      "text/latex": [
       "$\\displaystyle - \\lambda \\left(x_{1} + x_{2} - 1\\right) + x_{1} \\log{\\left(c_{1} \\right)} + x_{2} \\log{\\left(c_{2} \\right)} + \\frac{x_{1} \\log{\\left(x_{1} \\right)}}{a} + \\frac{x_{2} \\log{\\left(x_{2} \\right)}}{a}$"
      ],
      "text/plain": [
       "-lambda*(x1 + x2 - 1) + x1*log(c1) + x2*log(c2) + x1*log(x1)/a + x2*log(x2)/a"
      ]
     },
     "execution_count": 25,
     "metadata": {},
     "output_type": "execute_result"
    }
   ],
   "source": [
    "L = sum([x[i] * sp.log(c[i]) + a**(-1) * x[i] * sp.log(x[i]) for i in range(2)]) - lambda_ * (sum(x[i] for i in range(2)) - 1)\n",
    "L"
   ]
  },
  {
   "cell_type": "code",
   "execution_count": 26,
   "metadata": {},
   "outputs": [
    {
     "data": {
      "text/latex": [
       "$\\displaystyle - \\lambda + \\log{\\left(c_{2} \\right)} + \\frac{\\log{\\left(x_{2} \\right)}}{a} + \\frac{1}{a}$"
      ],
      "text/plain": [
       "-lambda + log(c2) + log(x2)/a + 1/a"
      ]
     },
     "execution_count": 26,
     "metadata": {},
     "output_type": "execute_result"
    }
   ],
   "source": [
    "derivatives = [sp.diff(L, x[i]) for i in range(2)] + [sp.diff(L, lambda_)]\n",
    "derivatives[1]"
   ]
  },
  {
   "cell_type": "code",
   "execution_count": 27,
   "metadata": {},
   "outputs": [
    {
     "data": {
      "text/latex": [
       "$\\displaystyle - \\lambda + \\log{\\left(c_{2} \\right)} + \\frac{\\log{\\left(x_{2} \\right)}}{a} + \\frac{1}{a} = 0$"
      ],
      "text/plain": [
       "Eq(-lambda + log(c2) + log(x2)/a + 1/a, 0)"
      ]
     },
     "execution_count": 27,
     "metadata": {},
     "output_type": "execute_result"
    }
   ],
   "source": [
    "equations = [sp.Eq(derivatives[i], 0) for i in range(3)]\n",
    "equations[1]"
   ]
  },
  {
   "cell_type": "code",
   "execution_count": 28,
   "metadata": {},
   "outputs": [
    {
     "data": {
      "text/plain": [
       "[{lambda: (log(c1**a*c2**a/(c1**a + c2**a)) + 1)/a,\n",
       "  x1: c2**a/(c1**a + c2**a),\n",
       "  x2: c1**a/(c1**a + c2**a)}]"
      ]
     },
     "execution_count": 28,
     "metadata": {},
     "output_type": "execute_result"
    }
   ],
   "source": [
    "solutions = sp.solve(equations, x + (lambda_,), dict=True)\n",
    "solutions"
   ]
  },
  {
   "cell_type": "markdown",
   "metadata": {},
   "source": [
    "#  log xc + a^-1 xlogx"
   ]
  },
  {
   "cell_type": "code",
   "execution_count": 29,
   "metadata": {},
   "outputs": [],
   "source": [
    "a = sp.symbols('a', positive=True, real=True)\n",
    "lambda_ = sp.symbols('lambda')"
   ]
  },
  {
   "cell_type": "code",
   "execution_count": 30,
   "metadata": {},
   "outputs": [],
   "source": [
    "c = sp.symbols('c1 c2', positive=True, real=True)\n",
    "x = sp.symbols('x1 x2', positive=True, real=True)"
   ]
  },
  {
   "cell_type": "code",
   "execution_count": 31,
   "metadata": {},
   "outputs": [
    {
     "data": {
      "text/latex": [
       "$\\displaystyle - \\lambda \\left(x_{1} + x_{2} - 1\\right) + \\log{\\left(c_{1} x_{1} \\right)} + \\log{\\left(c_{2} x_{2} \\right)} + \\frac{x_{1} \\log{\\left(x_{1} \\right)}}{a} + \\frac{x_{2} \\log{\\left(x_{2} \\right)}}{a}$"
      ],
      "text/plain": [
       "-lambda*(x1 + x2 - 1) + log(c1*x1) + log(c2*x2) + x1*log(x1)/a + x2*log(x2)/a"
      ]
     },
     "execution_count": 31,
     "metadata": {},
     "output_type": "execute_result"
    }
   ],
   "source": [
    "L = sum([ sp.log(x[i]*c[i]) + a**(-1) * x[i] * sp.log(x[i]) for i in range(2)]) - lambda_ * (sum(x[i] for i in range(2)) - 1)\n",
    "L"
   ]
  },
  {
   "cell_type": "code",
   "execution_count": 32,
   "metadata": {},
   "outputs": [
    {
     "data": {
      "text/latex": [
       "$\\displaystyle - \\lambda + \\frac{1}{x_{2}} + \\frac{\\log{\\left(x_{2} \\right)}}{a} + \\frac{1}{a}$"
      ],
      "text/plain": [
       "-lambda + 1/x2 + log(x2)/a + 1/a"
      ]
     },
     "execution_count": 32,
     "metadata": {},
     "output_type": "execute_result"
    }
   ],
   "source": [
    "derivatives = [sp.diff(L, x[i]) for i in range(2)] + [sp.diff(L, lambda_)]\n",
    "derivatives[1]"
   ]
  },
  {
   "cell_type": "code",
   "execution_count": 33,
   "metadata": {},
   "outputs": [
    {
     "data": {
      "text/latex": [
       "$\\displaystyle - \\lambda + \\frac{1}{x_{2}} + \\frac{\\log{\\left(x_{2} \\right)}}{a} + \\frac{1}{a} = 0$"
      ],
      "text/plain": [
       "Eq(-lambda + 1/x2 + log(x2)/a + 1/a, 0)"
      ]
     },
     "execution_count": 33,
     "metadata": {},
     "output_type": "execute_result"
    }
   ],
   "source": [
    "equations = [sp.Eq(derivatives[i], 0) for i in range(3)]\n",
    "equations[1]"
   ]
  },
  {
   "cell_type": "code",
   "execution_count": 34,
   "metadata": {},
   "outputs": [
    {
     "ename": "NotImplementedError",
     "evalue": "could not solve a + x2*(log(x2) + 1) - x2*(-a + x2*log(1 - x2) + x2 - log(1 - x2) - 1)/(x2 - 1)",
     "output_type": "error",
     "traceback": [
      "\u001b[0;31m---------------------------------------------------------------------------\u001b[0m",
      "\u001b[0;31mNotImplementedError\u001b[0m                       Traceback (most recent call last)",
      "\u001b[0;32m<ipython-input-34-c0f30cf798cd>\u001b[0m in \u001b[0;36m<module>\u001b[0;34m\u001b[0m\n\u001b[0;32m----> 1\u001b[0;31m \u001b[0msolutions\u001b[0m \u001b[0;34m=\u001b[0m \u001b[0msp\u001b[0m\u001b[0;34m.\u001b[0m\u001b[0msolve\u001b[0m\u001b[0;34m(\u001b[0m\u001b[0mequations\u001b[0m\u001b[0;34m,\u001b[0m \u001b[0mx\u001b[0m \u001b[0;34m+\u001b[0m \u001b[0;34m(\u001b[0m\u001b[0mlambda_\u001b[0m\u001b[0;34m,\u001b[0m\u001b[0;34m)\u001b[0m\u001b[0;34m,\u001b[0m \u001b[0mdict\u001b[0m\u001b[0;34m=\u001b[0m\u001b[0;32mTrue\u001b[0m\u001b[0;34m)\u001b[0m\u001b[0;34m\u001b[0m\u001b[0;34m\u001b[0m\u001b[0m\n\u001b[0m\u001b[1;32m      2\u001b[0m \u001b[0msolutions\u001b[0m\u001b[0;34m\u001b[0m\u001b[0;34m\u001b[0m\u001b[0m\n",
      "\u001b[0;32m/usr/local/lib/python3.8/site-packages/sympy/solvers/solvers.py\u001b[0m in \u001b[0;36msolve\u001b[0;34m(f, *symbols, **flags)\u001b[0m\n\u001b[1;32m   1145\u001b[0m             \u001b[0msolution\u001b[0m \u001b[0;34m=\u001b[0m \u001b[0m_solve\u001b[0m\u001b[0;34m(\u001b[0m\u001b[0mf\u001b[0m\u001b[0;34m[\u001b[0m\u001b[0;36m0\u001b[0m\u001b[0;34m]\u001b[0m\u001b[0;34m,\u001b[0m \u001b[0;34m*\u001b[0m\u001b[0msymbols\u001b[0m\u001b[0;34m,\u001b[0m \u001b[0;34m**\u001b[0m\u001b[0mflags\u001b[0m\u001b[0;34m)\u001b[0m\u001b[0;34m\u001b[0m\u001b[0;34m\u001b[0m\u001b[0m\n\u001b[1;32m   1146\u001b[0m     \u001b[0;32melse\u001b[0m\u001b[0;34m:\u001b[0m\u001b[0;34m\u001b[0m\u001b[0;34m\u001b[0m\u001b[0m\n\u001b[0;32m-> 1147\u001b[0;31m         \u001b[0mlinear\u001b[0m\u001b[0;34m,\u001b[0m \u001b[0msolution\u001b[0m \u001b[0;34m=\u001b[0m \u001b[0m_solve_system\u001b[0m\u001b[0;34m(\u001b[0m\u001b[0mf\u001b[0m\u001b[0;34m,\u001b[0m \u001b[0msymbols\u001b[0m\u001b[0;34m,\u001b[0m \u001b[0;34m**\u001b[0m\u001b[0mflags\u001b[0m\u001b[0;34m)\u001b[0m\u001b[0;34m\u001b[0m\u001b[0;34m\u001b[0m\u001b[0m\n\u001b[0m\u001b[1;32m   1148\u001b[0m     \u001b[0;32massert\u001b[0m \u001b[0mtype\u001b[0m\u001b[0;34m(\u001b[0m\u001b[0msolution\u001b[0m\u001b[0;34m)\u001b[0m \u001b[0;32mis\u001b[0m \u001b[0mlist\u001b[0m\u001b[0;34m\u001b[0m\u001b[0;34m\u001b[0m\u001b[0m\n\u001b[1;32m   1149\u001b[0m     \u001b[0;32massert\u001b[0m \u001b[0;32mnot\u001b[0m \u001b[0msolution\u001b[0m \u001b[0;32mor\u001b[0m \u001b[0mtype\u001b[0m\u001b[0;34m(\u001b[0m\u001b[0msolution\u001b[0m\u001b[0;34m[\u001b[0m\u001b[0;36m0\u001b[0m\u001b[0;34m]\u001b[0m\u001b[0;34m)\u001b[0m \u001b[0;32mis\u001b[0m \u001b[0mdict\u001b[0m\u001b[0;34m,\u001b[0m \u001b[0msolution\u001b[0m\u001b[0;34m\u001b[0m\u001b[0;34m\u001b[0m\u001b[0m\n",
      "\u001b[0;32m/usr/local/lib/python3.8/site-packages/sympy/solvers/solvers.py\u001b[0m in \u001b[0;36m_solve_system\u001b[0;34m(exprs, symbols, **flags)\u001b[0m\n\u001b[1;32m   1960\u001b[0m                     \u001b[0mgot_s\u001b[0m\u001b[0;34m.\u001b[0m\u001b[0madd\u001b[0m\u001b[0;34m(\u001b[0m\u001b[0ms\u001b[0m\u001b[0;34m)\u001b[0m\u001b[0;34m\u001b[0m\u001b[0;34m\u001b[0m\u001b[0m\n\u001b[1;32m   1961\u001b[0m                 \u001b[0;32mif\u001b[0m \u001b[0;32mnot\u001b[0m \u001b[0mhit\u001b[0m\u001b[0;34m:\u001b[0m\u001b[0;34m\u001b[0m\u001b[0;34m\u001b[0m\u001b[0m\n\u001b[0;32m-> 1962\u001b[0;31m                     \u001b[0;32mraise\u001b[0m \u001b[0mNotImplementedError\u001b[0m\u001b[0;34m(\u001b[0m\u001b[0;34m'could not solve %s'\u001b[0m \u001b[0;34m%\u001b[0m \u001b[0meq2\u001b[0m\u001b[0;34m)\u001b[0m\u001b[0;34m\u001b[0m\u001b[0;34m\u001b[0m\u001b[0m\n\u001b[0m\u001b[1;32m   1963\u001b[0m             \u001b[0;32melse\u001b[0m\u001b[0;34m:\u001b[0m\u001b[0;34m\u001b[0m\u001b[0;34m\u001b[0m\u001b[0m\n\u001b[1;32m   1964\u001b[0m                 \u001b[0mresult\u001b[0m \u001b[0;34m=\u001b[0m \u001b[0mnewresult\u001b[0m\u001b[0;34m\u001b[0m\u001b[0;34m\u001b[0m\u001b[0m\n",
      "\u001b[0;31mNotImplementedError\u001b[0m: could not solve a + x2*(log(x2) + 1) - x2*(-a + x2*log(1 - x2) + x2 - log(1 - x2) - 1)/(x2 - 1)"
     ]
    }
   ],
   "source": [
    "solutions = sp.solve(equations, x + (lambda_,), dict=True)\n",
    "solutions"
   ]
  },
  {
   "cell_type": "code",
   "execution_count": null,
   "metadata": {},
   "outputs": [],
   "source": []
  }
 ],
 "metadata": {
  "kernelspec": {
   "display_name": "Python 3",
   "language": "python",
   "name": "python3"
  },
  "language_info": {
   "codemirror_mode": {
    "name": "ipython",
    "version": 3
   },
   "file_extension": ".py",
   "mimetype": "text/x-python",
   "name": "python",
   "nbconvert_exporter": "python",
   "pygments_lexer": "ipython3",
   "version": "3.8.16"
  }
 },
 "nbformat": 4,
 "nbformat_minor": 4
}
