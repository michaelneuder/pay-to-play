{
 "cells": [
  {
   "cell_type": "code",
   "execution_count": 1,
   "metadata": {},
   "outputs": [],
   "source": [
    "import matplotlib.pyplot as plt\n",
    "import matplotlib as mpl\n",
    "import matplotlib.patches as mpatches\n",
    "import numpy as np\n",
    "import pandas as pd\n",
    "import cvxpy as cp\n",
    "from scipy.stats import poisson, uniform, expon, pareto\n",
    "from scipy.optimize import minimize\n",
    "from tqdm import tqdm\n",
    "from mdptoolbox import mdp, util\n",
    "import itertools\n",
    "from scipy.sparse import csr_matrix, lil_matrix\n",
    "from matplotlib.patches import Patch\n",
    "import math\n",
    "import random\n",
    "import sympy as sp\n",
    "from sympy.printing.latex import print_latex"
   ]
  },
  {
   "cell_type": "markdown",
   "metadata": {},
   "source": [
    "# Symbolic for derivatives"
   ]
  },
  {
   "cell_type": "code",
   "execution_count": 2,
   "metadata": {},
   "outputs": [
    {
     "data": {
      "text/latex": [
       "$\\displaystyle \\frac{b_{i}^{0.5} v_{i}}{b_{i}^{0.5} + o} - b_{i}$"
      ],
      "text/plain": [
       "b_i**0.5*v_i/(b_i**0.5 + o) - b_i"
      ]
     },
     "execution_count": 2,
     "metadata": {},
     "output_type": "execute_result"
    }
   ],
   "source": [
    "# 1/2 case.\n",
    "vi, bi, o = sp.symbols('v_i b_i o')\n",
    "\n",
    "Q = bi**(1/2)*vi/(bi**(1/2) + o) - bi\n",
    "Q"
   ]
  },
  {
   "cell_type": "code",
   "execution_count": 4,
   "metadata": {},
   "outputs": [
    {
     "data": {
      "text/latex": [
       "$\\displaystyle \\frac{0.5 v_{i}}{b_{i}^{0.5} \\left(b_{i}^{0.5} + o\\right)} - \\frac{0.5 v_{i}}{\\left(b_{i}^{0.5} + o\\right)^{2}} - 1$"
      ],
      "text/plain": [
       "0.5*v_i/(b_i**0.5*(b_i**0.5 + o)) - 0.5*v_i/(b_i**0.5 + o)**2 - 1"
      ]
     },
     "execution_count": 4,
     "metadata": {},
     "output_type": "execute_result"
    }
   ],
   "source": [
    "sp.diff(Q, bi)"
   ]
  },
  {
   "cell_type": "code",
   "execution_count": 6,
   "metadata": {},
   "outputs": [
    {
     "data": {
      "text/latex": [
       "$\\displaystyle - \\frac{0.5}{x_{i}^{2}}$"
      ],
      "text/plain": [
       "-0.5/x_i**2"
      ]
     },
     "execution_count": 6,
     "metadata": {},
     "output_type": "execute_result"
    }
   ],
   "source": [
    "xi = sp.symbols('x_i')\n",
    "expr = 1/2 *(-1 + 1/xi)\n",
    "sp.diff(expr, xi)"
   ]
  },
  {
   "cell_type": "code",
   "execution_count": 7,
   "metadata": {},
   "outputs": [],
   "source": [
    "# alpha > 1\n",
    "vi, xi = sp.symbols('v_i x_i')\n",
    "a      = sp.symbols('a')\n",
    "y      = sp.symbols('y')\n",
    "\n",
    "\n",
    "t1 = vi*xi*a * (xi**(1-1/a) - xi**(2-1/a))\n",
    "t2 = sp.integrate(vi*y*((a-1)*y**(-1/a)-(2*a-1)*y**(1-1/a)), (y, 0, xi))\n",
    "uhat = t1 - t2"
   ]
  },
  {
   "cell_type": "code",
   "execution_count": 18,
   "metadata": {},
   "outputs": [
    {
     "data": {
      "text/latex": [
       "$\\displaystyle v_{i} \\left(1.000000009998 x_{i}^{1.000099990001} - 0.500025001249813 x_{i}^{2.000099990001}\\right)$"
      ],
      "text/plain": [
       "v_i*(1.000000009998*x_i**1.000099990001 - 0.500025001249813*x_i**2.000099990001)"
      ]
     },
     "execution_count": 18,
     "metadata": {},
     "output_type": "execute_result"
    }
   ],
   "source": [
    "sp.simplify(uhat.evalf(subs={a:1.0001}))"
   ]
  },
  {
   "cell_type": "code",
   "execution_count": 19,
   "metadata": {},
   "outputs": [
    {
     "data": {
      "text/latex": [
       "$\\displaystyle v_{i} \\left(1.33333333333333 x_{i}^{1.5} - 0.8 x_{i}^{2.5}\\right)$"
      ],
      "text/plain": [
       "v_i*(1.33333333333333*x_i**1.5 - 0.8*x_i**2.5)"
      ]
     },
     "execution_count": 19,
     "metadata": {},
     "output_type": "execute_result"
    }
   ],
   "source": [
    "sp.simplify(uhat.evalf(subs={a:2}))"
   ]
  },
  {
   "cell_type": "code",
   "execution_count": 17,
   "metadata": {},
   "outputs": [
    {
     "data": {
      "text/latex": [
       "$\\displaystyle v_{i} \\left(1.33333333333333 x_{i}^{0.5} - 0.444444444444445 x_{i}^{1.5}\\right)$"
      ],
      "text/plain": [
       "v_i*(1.33333333333333*x_i**0.5 - 0.444444444444445*x_i**1.5)"
      ]
     },
     "execution_count": 17,
     "metadata": {},
     "output_type": "execute_result"
    }
   ],
   "source": [
    "sp.simplify(uhat.evalf(subs={a:2/3}))"
   ]
  },
  {
   "cell_type": "code",
   "execution_count": 103,
   "metadata": {},
   "outputs": [
    {
     "data": {
      "text/latex": [
       "$\\displaystyle 2.0 v_{i} \\left(x_{i}^{0.5} - x_{i}^{1.5}\\right)$"
      ],
      "text/plain": [
       "2.0*v_i*(x_i**0.5 - x_i**1.5)"
      ]
     },
     "execution_count": 103,
     "metadata": {},
     "output_type": "execute_result"
    }
   ],
   "source": [
    "# uhat prime\n",
    "uhatprime = sp.diff(uhat, xi)\n",
    "sp.simplify(uhatprime.evalf(subs={a:2}))"
   ]
  },
  {
   "cell_type": "code",
   "execution_count": null,
   "metadata": {},
   "outputs": [],
   "source": []
  },
  {
   "cell_type": "code",
   "execution_count": 104,
   "metadata": {},
   "outputs": [
    {
     "data": {
      "text/latex": [
       "$\\displaystyle \\frac{b_{1}^{2} v_{1}}{b_{1}^{2} + b_{2}^{2}} - b_{1}$"
      ],
      "text/plain": [
       "b_1**2*v_1/(b_1**2 + b_2**2) - b_1"
      ]
     },
     "execution_count": 104,
     "metadata": {},
     "output_type": "execute_result"
    }
   ],
   "source": [
    "# derive normal way\n",
    "v1, v2, b1, b2 = sp.symbols('v_1 v_2 b_1 b_2')\n",
    "\n",
    "u1 = v1*b1**2 / (b1**2 + b2**2) - b1\n",
    "u2 = v2*b2**2 / (b1**2 + b2**2) - b2\n",
    "u1"
   ]
  },
  {
   "cell_type": "code",
   "execution_count": 105,
   "metadata": {},
   "outputs": [
    {
     "data": {
      "text/latex": [
       "$\\displaystyle \\frac{2 b_{1} b_{2}^{2} v_{1}}{\\left(b_{1}^{2} + b_{2}^{2}\\right)^{2}} - 1$"
      ],
      "text/plain": [
       "2*b_1*b_2**2*v_1/(b_1**2 + b_2**2)**2 - 1"
      ]
     },
     "execution_count": 105,
     "metadata": {},
     "output_type": "execute_result"
    }
   ],
   "source": [
    "part1 = sp.simplify(sp.diff(u1, b1))\n",
    "part2 = sp.simplify(sp.diff(u2, b2))\n",
    "part1"
   ]
  },
  {
   "cell_type": "code",
   "execution_count": 106,
   "metadata": {},
   "outputs": [
    {
     "data": {
      "text/latex": [
       "$\\displaystyle \\frac{2 b_{1} b_{2}^{2} v_{1}}{\\left(b_{1}^{2} + b_{2}^{2}\\right)^{2}} - 1 = 0$"
      ],
      "text/plain": [
       "Eq(2*b_1*b_2**2*v_1/(b_1**2 + b_2**2)**2 - 1, 0)"
      ]
     },
     "execution_count": 106,
     "metadata": {},
     "output_type": "execute_result"
    }
   ],
   "source": [
    "foc1 = sp.Eq(part1, 0)\n",
    "foc2 = sp.Eq(part2, 0)\n",
    "foc1"
   ]
  },
  {
   "cell_type": "code",
   "execution_count": 139,
   "metadata": {},
   "outputs": [
    {
     "data": {
      "text/plain": [
       "[{b_1: 1.73205080756888, b_2: 1.73205080756888}]"
      ]
     },
     "execution_count": 139,
     "metadata": {},
     "output_type": "execute_result"
    }
   ],
   "source": [
    "sol = sp.solve((foc1.evalf(subs={v1:2*(3**(1/2))}), foc2.evalf(subs={v2:2*(3**(1/2))})), (b1, b2), dict=True)\n",
    "sol"
   ]
  },
  {
   "cell_type": "code",
   "execution_count": 132,
   "metadata": {},
   "outputs": [
    {
     "data": {
      "text/latex": [
       "$\\displaystyle -0.0864878831351132$"
      ],
      "text/plain": [
       "-0.0864878831351132"
      ]
     },
     "execution_count": 132,
     "metadata": {},
     "output_type": "execute_result"
    }
   ],
   "source": [
    "sp.simplify(sp.diff(part2, b2)).evalf(subs={v2:2, b1:sol[0][b1], b2: sol[0][b2]})"
   ]
  },
  {
   "cell_type": "code",
   "execution_count": 119,
   "metadata": {},
   "outputs": [
    {
     "data": {
      "text/latex": [
       "$\\displaystyle \\frac{2.37037037037037 b_{2}}{\\left(0.592592592592593 b_{2}^{2} + 1.0\\right)^{2}} - 1.0$"
      ],
      "text/plain": [
       "2.37037037037037*b_2/(0.592592592592593*b_2**2 + 1.0)**2 - 1.0"
      ]
     },
     "execution_count": 119,
     "metadata": {},
     "output_type": "execute_result"
    }
   ],
   "source": [
    "part2.evalf(subs={v2:2, b1:sol[0][b1]})"
   ]
  },
  {
   "cell_type": "code",
   "execution_count": 97,
   "metadata": {},
   "outputs": [
    {
     "data": {
      "text/latex": [
       "$\\displaystyle \\frac{3.2768 b_{1}}{\\left(b_{1}^{2} + 0.4096\\right)^{2}} - 1.0$"
      ],
      "text/plain": [
       "3.2768*b_1/(b_1**2 + 0.4096)**2 - 1.0"
      ]
     },
     "execution_count": 97,
     "metadata": {},
     "output_type": "execute_result"
    }
   ],
   "source": [
    "part1.evalf(subs={v1:4, b2:16/25})"
   ]
  },
  {
   "cell_type": "code",
   "execution_count": 137,
   "metadata": {},
   "outputs": [
    {
     "data": {
      "text/latex": [
       "$\\displaystyle \\frac{b_{2}^{2} v_{2}}{b_{1}^{2} + b_{2}^{2}} - b_{2}$"
      ],
      "text/plain": [
       "b_2**2*v_2/(b_1**2 + b_2**2) - b_2"
      ]
     },
     "execution_count": 137,
     "metadata": {},
     "output_type": "execute_result"
    }
   ],
   "source": [
    "u2"
   ]
  },
  {
   "cell_type": "code",
   "execution_count": 142,
   "metadata": {},
   "outputs": [
    {
     "data": {
      "text/latex": [
       "$\\displaystyle \\frac{3.46410161513775 b_{2}^{2}}{b_{2}^{2} + 3.0} - b_{2}$"
      ],
      "text/plain": [
       "3.46410161513775*b_2**2/(b_2**2 + 3.0) - b_2"
      ]
     },
     "execution_count": 142,
     "metadata": {},
     "output_type": "execute_result"
    }
   ],
   "source": [
    "u1.evalf(subs={v1:2*(3**(1/2)), b2:sol[0][b2]})\n",
    "u2.evalf(subs={v2:2*(3**(1/2)), b1:sol[0][b1]})"
   ]
  },
  {
   "cell_type": "code",
   "execution_count": 68,
   "metadata": {},
   "outputs": [
    {
     "data": {
      "text/latex": [
       "$\\displaystyle -1.71875$"
      ],
      "text/plain": [
       "-1.71875000000000"
      ]
     },
     "execution_count": 68,
     "metadata": {},
     "output_type": "execute_result"
    }
   ],
   "source": [
    "sp.simplify(sp.diff(part2, b2)).evalf(subs={v2:2, b1:1.28, b2:0.64})\n",
    "sp.simplify(sp.diff(part1, b1)).evalf(subs={v1:4, b1:1.28, b2:0.64})"
   ]
  },
  {
   "cell_type": "markdown",
   "metadata": {},
   "source": [
    "# procurements, n=2, alpha=3"
   ]
  },
  {
   "cell_type": "code",
   "execution_count": 161,
   "metadata": {},
   "outputs": [
    {
     "data": {
      "text/latex": [
       "$\\displaystyle \\frac{c_{1} - v_{1}}{c_{1}^{3} \\left(\\frac{1}{c_{2}^{3}} + \\frac{1}{c_{1}^{3}}\\right)}$"
      ],
      "text/plain": [
       "(c_1 - v_1)/(c_1**3*(c_2**(-3) + c_1**(-3)))"
      ]
     },
     "execution_count": 161,
     "metadata": {},
     "output_type": "execute_result"
    }
   ],
   "source": [
    "# derive normal way\n",
    "c1, c2, v1, v2 = sp.symbols('c_1 c_2 v_1 v_2')\n",
    "\n",
    "u1 = (c1-v1) * (1/c1)**3 / ((1/c1)**3 + (1/c2)**3)\n",
    "u2 = (c2-v2) * (1/c2)**3 / ((1/c1)**3 + (1/c2)**3)\n",
    "u1"
   ]
  },
  {
   "cell_type": "code",
   "execution_count": 167,
   "metadata": {},
   "outputs": [
    {
     "data": {
      "text/latex": [
       "$\\displaystyle \\frac{1}{c_{2}^{3} \\left(\\frac{1}{c_{2}^{3}} + \\frac{1}{c_{1}^{3}}\\right)} - \\frac{3 \\left(c_{2} - v_{2}\\right)}{c_{2}^{4} \\left(\\frac{1}{c_{2}^{3}} + \\frac{1}{c_{1}^{3}}\\right)} + \\frac{3 \\left(c_{2} - v_{2}\\right)}{c_{2}^{7} \\left(\\frac{1}{c_{2}^{3}} + \\frac{1}{c_{1}^{3}}\\right)^{2}}$"
      ],
      "text/plain": [
       "1/(c_2**3*(c_2**(-3) + c_1**(-3))) - 3*(c_2 - v_2)/(c_2**4*(c_2**(-3) + c_1**(-3))) + 3*(c_2 - v_2)/(c_2**7*(c_2**(-3) + c_1**(-3))**2)"
      ]
     },
     "execution_count": 167,
     "metadata": {},
     "output_type": "execute_result"
    }
   ],
   "source": [
    "sp.simplify(sp.diff(u1, c1))\n",
    "sp.diff(u2, c2)"
   ]
  },
  {
   "cell_type": "code",
   "execution_count": 168,
   "metadata": {},
   "outputs": [
    {
     "data": {
      "text/latex": [
       "$\\displaystyle \\frac{1}{c_{1}^{3} \\left(\\frac{1}{c_{2}^{3}} + \\frac{1}{c_{1}^{3}}\\right)} - \\frac{3 \\left(c_{1} - v_{1}\\right)}{c_{1}^{4} \\left(\\frac{1}{c_{2}^{3}} + \\frac{1}{c_{1}^{3}}\\right)} + \\frac{3 \\left(c_{1} - v_{1}\\right)}{c_{1}^{7} \\left(\\frac{1}{c_{2}^{3}} + \\frac{1}{c_{1}^{3}}\\right)^{2}} = 0$"
      ],
      "text/plain": [
       "Eq(1/(c_1**3*(c_2**(-3) + c_1**(-3))) - 3*(c_1 - v_1)/(c_1**4*(c_2**(-3) + c_1**(-3))) + 3*(c_1 - v_1)/(c_1**7*(c_2**(-3) + c_1**(-3))**2), 0)"
      ]
     },
     "execution_count": 168,
     "metadata": {},
     "output_type": "execute_result"
    }
   ],
   "source": [
    "part1 = sp.diff(u1, c1)\n",
    "part2 = sp.diff(u2, c2)\n",
    "foc1 = sp.Eq(part1, 0)\n",
    "foc2 = sp.Eq(part2, 0)\n",
    "foc1"
   ]
  },
  {
   "cell_type": "code",
   "execution_count": 184,
   "metadata": {},
   "outputs": [
    {
     "name": "stdout",
     "output_type": "stream",
     "text": [
      "-0.0893367120363459\n",
      "-0.129079190932006\n"
     ]
    }
   ],
   "source": [
    "dpart1 = sp.diff(part1, c1)\n",
    "dpart2 = sp.diff(part2, c2)\n",
    "print(sp.simplify(dpart1).evalf(subs={c1:9.66, c2:8.81, v1:4}))\n",
    "print(sp.simplify(dpart2).evalf(subs={c1:9.66, c2:8.81, v2:2}))"
   ]
  },
  {
   "cell_type": "code",
   "execution_count": 189,
   "metadata": {},
   "outputs": [
    {
     "data": {
      "text/plain": [
       "(-2.59570971620503e-7, 4.59836952919681e-7)"
      ]
     },
     "execution_count": 189,
     "metadata": {},
     "output_type": "execute_result"
    }
   ],
   "source": [
    "part1.evalf(subs={c1:9.66288, c2:8.81093, v1:4}), part2.evalf(subs={c1:9.66288, c2:8.81093, v2:2})"
   ]
  },
  {
   "cell_type": "code",
   "execution_count": 185,
   "metadata": {},
   "outputs": [
    {
     "name": "stdout",
     "output_type": "stream",
     "text": [
      "\\frac{y^{3} \\left(- 2.0 x^{3} + 12.0 x^{2} + 1.0 y^{3}\\right)}{1.0 x^{6} + 2.0 x^{3} y^{3} + 1.0 y^{6}} = 0\n",
      "\\frac{x^{3} \\cdot \\left(1.0 x^{3} - 2.0 y^{3} + 6.0 y^{2}\\right)}{1.0 x^{6} + 2.0 x^{3} y^{3} + 1.0 y^{6}} = 0\n"
     ]
    },
    {
     "data": {
      "text/latex": [
       "$\\displaystyle \\frac{y^{3} \\left(- 2.0 x^{3} + 12.0 x^{2} + 1.0 y^{3}\\right)}{1.0 x^{6} + 2.0 x^{3} y^{3} + 1.0 y^{6}} = 0$"
      ],
      "text/plain": [
       "Eq(y**3*(-2.0*x**3 + 12.0*x**2 + 1.0*y**3)/(1.0*x**6 + 2.0*x**3*y**3 + 1.0*y**6), 0)"
      ]
     },
     "execution_count": 185,
     "metadata": {},
     "output_type": "execute_result"
    }
   ],
   "source": [
    "x, y = sp.symbols('x y')\n",
    "print_latex(sp.simplify(foc1.evalf(subs={v1:4})).evalf(subs={c1:x, c2:y}))\n",
    "print_latex(sp.simplify(foc2.evalf(subs={v2:2})).evalf(subs={c1:x, c2:y}))\n",
    "sp.simplify(foc1.evalf(subs={v1:4})).evalf(subs={c1:x, c2:y})"
   ]
  },
  {
   "cell_type": "code",
   "execution_count": null,
   "metadata": {},
   "outputs": [],
   "source": [
    "\\frac{x^{3} \\cdot \\left(1.0 x^{3} - 2.0 y^{3} + 6.0 y^{2}\\right)}{1.0 x^{6} + 2.0 x^{3} y^{3} + 1.0 y^{6}} = 0"
   ]
  },
  {
   "cell_type": "code",
   "execution_count": 172,
   "metadata": {},
   "outputs": [
    {
     "data": {
      "text/latex": [
       "$\\displaystyle \\frac{c_{1}^{3} \\cdot \\left(1.0 c_{1}^{3} - 2.0 c_{2}^{3} + 6.0 c_{2}^{2}\\right)}{1.0 c_{1}^{6} + 2.0 c_{1}^{3} c_{2}^{3} + 1.0 c_{2}^{6}} = 0$"
      ],
      "text/plain": [
       "Eq(c_1**3*(1.0*c_1**3 - 2.0*c_2**3 + 6.0*c_2**2)/(1.0*c_1**6 + 2.0*c_1**3*c_2**3 + 1.0*c_2**6), 0)"
      ]
     },
     "execution_count": 172,
     "metadata": {},
     "output_type": "execute_result"
    }
   ],
   "source": [
    "sp.simplify(foc2.evalf(subs={v2:2}))"
   ]
  },
  {
   "cell_type": "code",
   "execution_count": 190,
   "metadata": {},
   "outputs": [
    {
     "data": {
      "text/latex": [
       "$\\displaystyle \\frac{c_{2}^{3} \\left(- 2.0 c_{1}^{3} + 12.0 c_{1}^{2} + 1.0 c_{2}^{3}\\right)}{1.0 c_{1}^{6} + 2.0 c_{1}^{3} c_{2}^{3} + 1.0 c_{2}^{6}} = 0$"
      ],
      "text/plain": [
       "Eq(c_2**3*(-2.0*c_1**3 + 12.0*c_1**2 + 1.0*c_2**3)/(1.0*c_1**6 + 2.0*c_1**3*c_2**3 + 1.0*c_2**6), 0)"
      ]
     },
     "execution_count": 190,
     "metadata": {},
     "output_type": "execute_result"
    }
   ],
   "source": [
    "sp.simplify(foc1.evalf(subs={v1:4}))"
   ]
  },
  {
   "cell_type": "code",
   "execution_count": 192,
   "metadata": {},
   "outputs": [
    {
     "data": {
      "text/latex": [
       "$\\displaystyle \\frac{c_{1}^{3} \\cdot \\left(1.0 c_{1}^{3} - 2.0 c_{2}^{3} + 6.0 c_{2}^{2}\\right)}{1.0 c_{1}^{6} + 2.0 c_{1}^{3} c_{2}^{3} + 1.0 c_{2}^{6}} = 0$"
      ],
      "text/plain": [
       "Eq(c_1**3*(1.0*c_1**3 - 2.0*c_2**3 + 6.0*c_2**2)/(1.0*c_1**6 + 2.0*c_1**3*c_2**3 + 1.0*c_2**6), 0)"
      ]
     },
     "execution_count": 192,
     "metadata": {},
     "output_type": "execute_result"
    }
   ],
   "source": [
    "sp.simplify(foc2.evalf(subs={v2:2}))"
   ]
  },
  {
   "cell_type": "code",
   "execution_count": 193,
   "metadata": {},
   "outputs": [
    {
     "data": {
      "text/plain": [
       "[]"
      ]
     },
     "execution_count": 193,
     "metadata": {},
     "output_type": "execute_result"
    }
   ],
   "source": [
    "sol = sp.solve(\n",
    "    (sp.simplify(foc1.evalf(subs={v1:4})), sp.simplify(foc2.evalf(subs={v2:2}))), \n",
    "    (c1, c2),\n",
    "    dict=True)\n",
    "sol"
   ]
  },
  {
   "cell_type": "code",
   "execution_count": 212,
   "metadata": {},
   "outputs": [
    {
     "name": "stderr",
     "output_type": "stream",
     "text": [
      "100%|██████████| 200/200 [00:38<00:00,  5.15it/s]\n"
     ]
    }
   ],
   "source": [
    "# true values\n",
    "v1, v2 = 4, 2\n",
    "\n",
    "# init conditions\n",
    "curr1, curr2 = 1, 1\n",
    "a = 3\n",
    "\n",
    "# symbols\n",
    "c1 = sp.Symbol('c1', positive=True)\n",
    "c2 = sp.Symbol('c2', positive=True)\n",
    "\n",
    "p1Bids24, p2Bids24 = [curr1], [curr2]\n",
    "turn = 0\n",
    "for turn in tqdm(range(200)):\n",
    "    if turn % 2 == 0:\n",
    "        x1 = 1/(c1**a) / (1/(c1**a) + 1/(c2**a))\n",
    "        u1 = (c1-v1)*x1\n",
    "        partial = sp.diff(u1, c1)\n",
    "        best = sp.Eq(partial, 0).evalf(subs={c2:curr2})\n",
    "        sol = sp.solve(best)[0]\n",
    "        curr1 = sol\n",
    "        p1Bids24.append(curr1)\n",
    "    else:\n",
    "        x2 = 1/(c2**a) / (1/(c1**a) + 1/(c2**a))\n",
    "        u2 = (c2-v2)*x2\n",
    "        partial = sp.diff(u2, c2)\n",
    "        best = sp.Eq(partial, 0).evalf(subs={c1:curr1})\n",
    "        sol = sp.solve(best)[0]\n",
    "        curr2 = sol\n",
    "        p2Bids24.append(curr2)"
   ]
  },
  {
   "cell_type": "code",
   "execution_count": 213,
   "metadata": {},
   "outputs": [
    {
     "data": {
      "text/plain": [
       "(9.66287914802542, 8.81093289882157)"
      ]
     },
     "execution_count": 213,
     "metadata": {},
     "output_type": "execute_result"
    }
   ],
   "source": [
    "p1Bids24[-1], p2Bids24[-1]"
   ]
  },
  {
   "cell_type": "code",
   "execution_count": 214,
   "metadata": {},
   "outputs": [
    {
     "data": {
      "text/plain": [
       "0.43121517662414144"
      ]
     },
     "execution_count": 214,
     "metadata": {},
     "output_type": "execute_result"
    }
   ],
   "source": [
    "1/(9.66287914802542**3) / (1/(9.66287914802542**3)+1/(8.81093289882157**3))"
   ]
  },
  {
   "cell_type": "code",
   "execution_count": 216,
   "metadata": {},
   "outputs": [
    {
     "data": {
      "text/plain": [
       "0.5687848233758587"
      ]
     },
     "execution_count": 216,
     "metadata": {},
     "output_type": "execute_result"
    }
   ],
   "source": [
    "1/(8.81093289882157**3) / (1/(9.66287914802542**3)+1/(8.81093289882157**3))"
   ]
  },
  {
   "cell_type": "code",
   "execution_count": 281,
   "metadata": {},
   "outputs": [
    {
     "name": "stderr",
     "output_type": "stream",
     "text": [
      "  8%|▊         | 15/200 [00:08<01:40,  1.84it/s]\n"
     ]
    },
    {
     "ename": "KeyboardInterrupt",
     "evalue": "",
     "output_type": "error",
     "traceback": [
      "\u001b[0;31m---------------------------------------------------------------------------\u001b[0m",
      "\u001b[0;31mKeyboardInterrupt\u001b[0m                         Traceback (most recent call last)",
      "\u001b[0;32m<ipython-input-281-ad7d74629f8e>\u001b[0m in \u001b[0;36m<module>\u001b[0;34m\u001b[0m\n\u001b[1;32m     26\u001b[0m         \u001b[0mpartial\u001b[0m \u001b[0;34m=\u001b[0m \u001b[0msp\u001b[0m\u001b[0;34m.\u001b[0m\u001b[0mdiff\u001b[0m\u001b[0;34m(\u001b[0m\u001b[0mu2\u001b[0m\u001b[0;34m,\u001b[0m \u001b[0mc2\u001b[0m\u001b[0;34m)\u001b[0m\u001b[0;34m\u001b[0m\u001b[0;34m\u001b[0m\u001b[0m\n\u001b[1;32m     27\u001b[0m         \u001b[0mbest\u001b[0m \u001b[0;34m=\u001b[0m \u001b[0msp\u001b[0m\u001b[0;34m.\u001b[0m\u001b[0mEq\u001b[0m\u001b[0;34m(\u001b[0m\u001b[0mpartial\u001b[0m\u001b[0;34m,\u001b[0m \u001b[0;36m0\u001b[0m\u001b[0;34m)\u001b[0m\u001b[0;34m.\u001b[0m\u001b[0mevalf\u001b[0m\u001b[0;34m(\u001b[0m\u001b[0msubs\u001b[0m\u001b[0;34m=\u001b[0m\u001b[0;34m{\u001b[0m\u001b[0mc1\u001b[0m\u001b[0;34m:\u001b[0m\u001b[0mcurr1\u001b[0m\u001b[0;34m}\u001b[0m\u001b[0;34m)\u001b[0m\u001b[0;34m\u001b[0m\u001b[0;34m\u001b[0m\u001b[0m\n\u001b[0;32m---> 28\u001b[0;31m         \u001b[0msol\u001b[0m \u001b[0;34m=\u001b[0m \u001b[0msp\u001b[0m\u001b[0;34m.\u001b[0m\u001b[0msolve\u001b[0m\u001b[0;34m(\u001b[0m\u001b[0mbest\u001b[0m\u001b[0;34m)\u001b[0m\u001b[0;34m[\u001b[0m\u001b[0;36m0\u001b[0m\u001b[0;34m]\u001b[0m\u001b[0;34m\u001b[0m\u001b[0;34m\u001b[0m\u001b[0m\n\u001b[0m\u001b[1;32m     29\u001b[0m         \u001b[0mcurr2\u001b[0m \u001b[0;34m=\u001b[0m \u001b[0msol\u001b[0m\u001b[0;34m\u001b[0m\u001b[0;34m\u001b[0m\u001b[0m\n\u001b[1;32m     30\u001b[0m         \u001b[0mp2Bids24\u001b[0m\u001b[0;34m.\u001b[0m\u001b[0mappend\u001b[0m\u001b[0;34m(\u001b[0m\u001b[0mcurr2\u001b[0m\u001b[0;34m)\u001b[0m\u001b[0;34m\u001b[0m\u001b[0;34m\u001b[0m\u001b[0m\n",
      "\u001b[0;32m/usr/local/lib/python3.8/site-packages/sympy/solvers/solvers.py\u001b[0m in \u001b[0;36msolve\u001b[0;34m(f, *symbols, **flags)\u001b[0m\n\u001b[1;32m   1143\u001b[0m             \u001b[0msolution\u001b[0m \u001b[0;34m=\u001b[0m \u001b[0m_solve_undetermined\u001b[0m\u001b[0;34m(\u001b[0m\u001b[0mf\u001b[0m\u001b[0;34m[\u001b[0m\u001b[0;36m0\u001b[0m\u001b[0;34m]\u001b[0m\u001b[0;34m,\u001b[0m \u001b[0msymbols\u001b[0m\u001b[0;34m,\u001b[0m \u001b[0mflags\u001b[0m\u001b[0;34m)\u001b[0m\u001b[0;34m\u001b[0m\u001b[0;34m\u001b[0m\u001b[0m\n\u001b[1;32m   1144\u001b[0m         \u001b[0;32mif\u001b[0m \u001b[0;32mnot\u001b[0m \u001b[0msolution\u001b[0m\u001b[0;34m:\u001b[0m\u001b[0;34m\u001b[0m\u001b[0;34m\u001b[0m\u001b[0m\n\u001b[0;32m-> 1145\u001b[0;31m             \u001b[0msolution\u001b[0m \u001b[0;34m=\u001b[0m \u001b[0m_solve\u001b[0m\u001b[0;34m(\u001b[0m\u001b[0mf\u001b[0m\u001b[0;34m[\u001b[0m\u001b[0;36m0\u001b[0m\u001b[0;34m]\u001b[0m\u001b[0;34m,\u001b[0m \u001b[0;34m*\u001b[0m\u001b[0msymbols\u001b[0m\u001b[0;34m,\u001b[0m \u001b[0;34m**\u001b[0m\u001b[0mflags\u001b[0m\u001b[0;34m)\u001b[0m\u001b[0;34m\u001b[0m\u001b[0;34m\u001b[0m\u001b[0m\n\u001b[0m\u001b[1;32m   1146\u001b[0m     \u001b[0;32melse\u001b[0m\u001b[0;34m:\u001b[0m\u001b[0;34m\u001b[0m\u001b[0;34m\u001b[0m\u001b[0m\n\u001b[1;32m   1147\u001b[0m         \u001b[0mlinear\u001b[0m\u001b[0;34m,\u001b[0m \u001b[0msolution\u001b[0m \u001b[0;34m=\u001b[0m \u001b[0m_solve_system\u001b[0m\u001b[0;34m(\u001b[0m\u001b[0mf\u001b[0m\u001b[0;34m,\u001b[0m \u001b[0msymbols\u001b[0m\u001b[0;34m,\u001b[0m \u001b[0;34m**\u001b[0m\u001b[0mflags\u001b[0m\u001b[0;34m)\u001b[0m\u001b[0;34m\u001b[0m\u001b[0;34m\u001b[0m\u001b[0m\n",
      "\u001b[0;32m/usr/local/lib/python3.8/site-packages/sympy/solvers/solvers.py\u001b[0m in \u001b[0;36m_solve\u001b[0;34m(f, *symbols, **flags)\u001b[0m\n\u001b[1;32m   1707\u001b[0m         \u001b[0;31m# if in doubt, keep it\u001b[0m\u001b[0;34m\u001b[0m\u001b[0;34m\u001b[0m\u001b[0;34m\u001b[0m\u001b[0m\n\u001b[1;32m   1708\u001b[0m         \u001b[0mdens\u001b[0m \u001b[0;34m=\u001b[0m \u001b[0m_simple_dens\u001b[0m\u001b[0;34m(\u001b[0m\u001b[0mf\u001b[0m\u001b[0;34m,\u001b[0m \u001b[0msymbols\u001b[0m\u001b[0;34m)\u001b[0m\u001b[0;34m\u001b[0m\u001b[0;34m\u001b[0m\u001b[0m\n\u001b[0;32m-> 1709\u001b[0;31m         result = [r for r in result if\n\u001b[0m\u001b[1;32m   1710\u001b[0m                   not any(checksol(d, r, **flags)\n\u001b[1;32m   1711\u001b[0m                           for d in dens)]\n",
      "\u001b[0;32m/usr/local/lib/python3.8/site-packages/sympy/solvers/solvers.py\u001b[0m in \u001b[0;36m<listcomp>\u001b[0;34m(.0)\u001b[0m\n\u001b[1;32m   1708\u001b[0m         \u001b[0mdens\u001b[0m \u001b[0;34m=\u001b[0m \u001b[0m_simple_dens\u001b[0m\u001b[0;34m(\u001b[0m\u001b[0mf\u001b[0m\u001b[0;34m,\u001b[0m \u001b[0msymbols\u001b[0m\u001b[0;34m)\u001b[0m\u001b[0;34m\u001b[0m\u001b[0;34m\u001b[0m\u001b[0m\n\u001b[1;32m   1709\u001b[0m         result = [r for r in result if\n\u001b[0;32m-> 1710\u001b[0;31m                   not any(checksol(d, r, **flags)\n\u001b[0m\u001b[1;32m   1711\u001b[0m                           for d in dens)]\n\u001b[1;32m   1712\u001b[0m     \u001b[0;32mif\u001b[0m \u001b[0mcheck\u001b[0m\u001b[0;34m:\u001b[0m\u001b[0;34m\u001b[0m\u001b[0;34m\u001b[0m\u001b[0m\n",
      "\u001b[0;32m/usr/local/lib/python3.8/site-packages/sympy/solvers/solvers.py\u001b[0m in \u001b[0;36m<genexpr>\u001b[0;34m(.0)\u001b[0m\n\u001b[1;32m   1708\u001b[0m         \u001b[0mdens\u001b[0m \u001b[0;34m=\u001b[0m \u001b[0m_simple_dens\u001b[0m\u001b[0;34m(\u001b[0m\u001b[0mf\u001b[0m\u001b[0;34m,\u001b[0m \u001b[0msymbols\u001b[0m\u001b[0;34m)\u001b[0m\u001b[0;34m\u001b[0m\u001b[0;34m\u001b[0m\u001b[0m\n\u001b[1;32m   1709\u001b[0m         result = [r for r in result if\n\u001b[0;32m-> 1710\u001b[0;31m                   not any(checksol(d, r, **flags)\n\u001b[0m\u001b[1;32m   1711\u001b[0m                           for d in dens)]\n\u001b[1;32m   1712\u001b[0m     \u001b[0;32mif\u001b[0m \u001b[0mcheck\u001b[0m\u001b[0;34m:\u001b[0m\u001b[0;34m\u001b[0m\u001b[0;34m\u001b[0m\u001b[0m\n",
      "\u001b[0;32m/usr/local/lib/python3.8/site-packages/sympy/solvers/solvers.py\u001b[0m in \u001b[0;36mchecksol\u001b[0;34m(f, symbol, sol, **flags)\u001b[0m\n\u001b[1;32m    358\u001b[0m             \u001b[0;32mreturn\u001b[0m \u001b[0mval\u001b[0m \u001b[0;34m==\u001b[0m \u001b[0;36m0\u001b[0m\u001b[0;34m\u001b[0m\u001b[0;34m\u001b[0m\u001b[0m\n\u001b[1;32m    359\u001b[0m         \u001b[0;32mif\u001b[0m \u001b[0mnumerical\u001b[0m \u001b[0;32mand\u001b[0m \u001b[0mval\u001b[0m\u001b[0;34m.\u001b[0m\u001b[0mis_number\u001b[0m\u001b[0;34m:\u001b[0m\u001b[0;34m\u001b[0m\u001b[0;34m\u001b[0m\u001b[0m\n\u001b[0;32m--> 360\u001b[0;31m             \u001b[0;32mreturn\u001b[0m \u001b[0;34m(\u001b[0m\u001b[0mabs\u001b[0m\u001b[0;34m(\u001b[0m\u001b[0mval\u001b[0m\u001b[0;34m.\u001b[0m\u001b[0mn\u001b[0m\u001b[0;34m(\u001b[0m\u001b[0;36m18\u001b[0m\u001b[0;34m)\u001b[0m\u001b[0;34m.\u001b[0m\u001b[0mn\u001b[0m\u001b[0;34m(\u001b[0m\u001b[0;36m12\u001b[0m\u001b[0;34m,\u001b[0m \u001b[0mchop\u001b[0m\u001b[0;34m=\u001b[0m\u001b[0;32mTrue\u001b[0m\u001b[0;34m)\u001b[0m\u001b[0;34m)\u001b[0m \u001b[0;34m<\u001b[0m \u001b[0;36m1e-9\u001b[0m\u001b[0;34m)\u001b[0m \u001b[0;32mis\u001b[0m \u001b[0mS\u001b[0m\u001b[0;34m.\u001b[0m\u001b[0mtrue\u001b[0m\u001b[0;34m\u001b[0m\u001b[0;34m\u001b[0m\u001b[0m\n\u001b[0m\u001b[1;32m    361\u001b[0m \u001b[0;34m\u001b[0m\u001b[0m\n\u001b[1;32m    362\u001b[0m     \u001b[0;32mif\u001b[0m \u001b[0mflags\u001b[0m\u001b[0;34m.\u001b[0m\u001b[0mget\u001b[0m\u001b[0;34m(\u001b[0m\u001b[0;34m'warn'\u001b[0m\u001b[0;34m,\u001b[0m \u001b[0;32mFalse\u001b[0m\u001b[0;34m)\u001b[0m\u001b[0;34m:\u001b[0m\u001b[0;34m\u001b[0m\u001b[0;34m\u001b[0m\u001b[0m\n",
      "\u001b[0;32m/usr/local/lib/python3.8/site-packages/sympy/core/evalf.py\u001b[0m in \u001b[0;36mevalf\u001b[0;34m(self, n, subs, maxn, chop, strict, quad, verbose)\u001b[0m\n\u001b[1;32m   1645\u001b[0m             \u001b[0moptions\u001b[0m\u001b[0;34m[\u001b[0m\u001b[0;34m'quad'\u001b[0m\u001b[0;34m]\u001b[0m \u001b[0;34m=\u001b[0m \u001b[0mquad\u001b[0m\u001b[0;34m\u001b[0m\u001b[0;34m\u001b[0m\u001b[0m\n\u001b[1;32m   1646\u001b[0m         \u001b[0;32mtry\u001b[0m\u001b[0;34m:\u001b[0m\u001b[0;34m\u001b[0m\u001b[0;34m\u001b[0m\u001b[0m\n\u001b[0;32m-> 1647\u001b[0;31m             \u001b[0mresult\u001b[0m \u001b[0;34m=\u001b[0m \u001b[0mevalf\u001b[0m\u001b[0;34m(\u001b[0m\u001b[0mself\u001b[0m\u001b[0;34m,\u001b[0m \u001b[0mprec\u001b[0m \u001b[0;34m+\u001b[0m \u001b[0;36m4\u001b[0m\u001b[0;34m,\u001b[0m \u001b[0moptions\u001b[0m\u001b[0;34m)\u001b[0m\u001b[0;34m\u001b[0m\u001b[0;34m\u001b[0m\u001b[0m\n\u001b[0m\u001b[1;32m   1648\u001b[0m         \u001b[0;32mexcept\u001b[0m \u001b[0mNotImplementedError\u001b[0m\u001b[0;34m:\u001b[0m\u001b[0;34m\u001b[0m\u001b[0;34m\u001b[0m\u001b[0m\n\u001b[1;32m   1649\u001b[0m             \u001b[0;31m# Fall back to the ordinary evalf\u001b[0m\u001b[0;34m\u001b[0m\u001b[0;34m\u001b[0m\u001b[0;34m\u001b[0m\u001b[0m\n",
      "\u001b[0;32m/usr/local/lib/python3.8/site-packages/sympy/core/evalf.py\u001b[0m in \u001b[0;36mevalf\u001b[0;34m(x, prec, options)\u001b[0m\n\u001b[1;32m   1480\u001b[0m     \u001b[0;32mtry\u001b[0m\u001b[0;34m:\u001b[0m\u001b[0;34m\u001b[0m\u001b[0;34m\u001b[0m\u001b[0m\n\u001b[1;32m   1481\u001b[0m         \u001b[0mrf\u001b[0m \u001b[0;34m=\u001b[0m \u001b[0mevalf_table\u001b[0m\u001b[0;34m[\u001b[0m\u001b[0mtype\u001b[0m\u001b[0;34m(\u001b[0m\u001b[0mx\u001b[0m\u001b[0;34m)\u001b[0m\u001b[0;34m]\u001b[0m\u001b[0;34m\u001b[0m\u001b[0;34m\u001b[0m\u001b[0m\n\u001b[0;32m-> 1482\u001b[0;31m         \u001b[0mr\u001b[0m \u001b[0;34m=\u001b[0m \u001b[0mrf\u001b[0m\u001b[0;34m(\u001b[0m\u001b[0mx\u001b[0m\u001b[0;34m,\u001b[0m \u001b[0mprec\u001b[0m\u001b[0;34m,\u001b[0m \u001b[0moptions\u001b[0m\u001b[0;34m)\u001b[0m\u001b[0;34m\u001b[0m\u001b[0;34m\u001b[0m\u001b[0m\n\u001b[0m\u001b[1;32m   1483\u001b[0m     \u001b[0;32mexcept\u001b[0m \u001b[0mKeyError\u001b[0m\u001b[0;34m:\u001b[0m\u001b[0;34m\u001b[0m\u001b[0;34m\u001b[0m\u001b[0m\n\u001b[1;32m   1484\u001b[0m         \u001b[0;31m# Fall back to ordinary evalf if possible\u001b[0m\u001b[0;34m\u001b[0m\u001b[0;34m\u001b[0m\u001b[0;34m\u001b[0m\u001b[0m\n",
      "\u001b[0;32m/usr/local/lib/python3.8/site-packages/sympy/core/evalf.py\u001b[0m in \u001b[0;36mevalf_add\u001b[0;34m(v, prec, options)\u001b[0m\n\u001b[1;32m    598\u001b[0m         \u001b[0moptions\u001b[0m\u001b[0;34m[\u001b[0m\u001b[0;34m'maxprec'\u001b[0m\u001b[0;34m]\u001b[0m \u001b[0;34m=\u001b[0m \u001b[0mmin\u001b[0m\u001b[0;34m(\u001b[0m\u001b[0moldmaxprec\u001b[0m\u001b[0;34m,\u001b[0m \u001b[0;36m2\u001b[0m\u001b[0;34m*\u001b[0m\u001b[0mprec\u001b[0m\u001b[0;34m)\u001b[0m\u001b[0;34m\u001b[0m\u001b[0;34m\u001b[0m\u001b[0m\n\u001b[1;32m    599\u001b[0m \u001b[0;34m\u001b[0m\u001b[0m\n\u001b[0;32m--> 600\u001b[0;31m         \u001b[0mterms\u001b[0m \u001b[0;34m=\u001b[0m \u001b[0;34m[\u001b[0m\u001b[0mevalf\u001b[0m\u001b[0;34m(\u001b[0m\u001b[0marg\u001b[0m\u001b[0;34m,\u001b[0m \u001b[0mprec\u001b[0m \u001b[0;34m+\u001b[0m \u001b[0;36m10\u001b[0m\u001b[0;34m,\u001b[0m \u001b[0moptions\u001b[0m\u001b[0;34m)\u001b[0m \u001b[0;32mfor\u001b[0m \u001b[0marg\u001b[0m \u001b[0;32min\u001b[0m \u001b[0mv\u001b[0m\u001b[0;34m.\u001b[0m\u001b[0margs\u001b[0m\u001b[0;34m]\u001b[0m\u001b[0;34m\u001b[0m\u001b[0;34m\u001b[0m\u001b[0m\n\u001b[0m\u001b[1;32m    601\u001b[0m         \u001b[0mn\u001b[0m \u001b[0;34m=\u001b[0m \u001b[0mterms\u001b[0m\u001b[0;34m.\u001b[0m\u001b[0mcount\u001b[0m\u001b[0;34m(\u001b[0m\u001b[0mS\u001b[0m\u001b[0;34m.\u001b[0m\u001b[0mComplexInfinity\u001b[0m\u001b[0;34m)\u001b[0m\u001b[0;34m\u001b[0m\u001b[0;34m\u001b[0m\u001b[0m\n\u001b[1;32m    602\u001b[0m         \u001b[0;32mif\u001b[0m \u001b[0mn\u001b[0m \u001b[0;34m>=\u001b[0m \u001b[0;36m2\u001b[0m\u001b[0;34m:\u001b[0m\u001b[0;34m\u001b[0m\u001b[0;34m\u001b[0m\u001b[0m\n",
      "\u001b[0;32m/usr/local/lib/python3.8/site-packages/sympy/core/evalf.py\u001b[0m in \u001b[0;36m<listcomp>\u001b[0;34m(.0)\u001b[0m\n\u001b[1;32m    598\u001b[0m         \u001b[0moptions\u001b[0m\u001b[0;34m[\u001b[0m\u001b[0;34m'maxprec'\u001b[0m\u001b[0;34m]\u001b[0m \u001b[0;34m=\u001b[0m \u001b[0mmin\u001b[0m\u001b[0;34m(\u001b[0m\u001b[0moldmaxprec\u001b[0m\u001b[0;34m,\u001b[0m \u001b[0;36m2\u001b[0m\u001b[0;34m*\u001b[0m\u001b[0mprec\u001b[0m\u001b[0;34m)\u001b[0m\u001b[0;34m\u001b[0m\u001b[0;34m\u001b[0m\u001b[0m\n\u001b[1;32m    599\u001b[0m \u001b[0;34m\u001b[0m\u001b[0m\n\u001b[0;32m--> 600\u001b[0;31m         \u001b[0mterms\u001b[0m \u001b[0;34m=\u001b[0m \u001b[0;34m[\u001b[0m\u001b[0mevalf\u001b[0m\u001b[0;34m(\u001b[0m\u001b[0marg\u001b[0m\u001b[0;34m,\u001b[0m \u001b[0mprec\u001b[0m \u001b[0;34m+\u001b[0m \u001b[0;36m10\u001b[0m\u001b[0;34m,\u001b[0m \u001b[0moptions\u001b[0m\u001b[0;34m)\u001b[0m \u001b[0;32mfor\u001b[0m \u001b[0marg\u001b[0m \u001b[0;32min\u001b[0m \u001b[0mv\u001b[0m\u001b[0;34m.\u001b[0m\u001b[0margs\u001b[0m\u001b[0;34m]\u001b[0m\u001b[0;34m\u001b[0m\u001b[0;34m\u001b[0m\u001b[0m\n\u001b[0m\u001b[1;32m    601\u001b[0m         \u001b[0mn\u001b[0m \u001b[0;34m=\u001b[0m \u001b[0mterms\u001b[0m\u001b[0;34m.\u001b[0m\u001b[0mcount\u001b[0m\u001b[0;34m(\u001b[0m\u001b[0mS\u001b[0m\u001b[0;34m.\u001b[0m\u001b[0mComplexInfinity\u001b[0m\u001b[0;34m)\u001b[0m\u001b[0;34m\u001b[0m\u001b[0;34m\u001b[0m\u001b[0m\n\u001b[1;32m    602\u001b[0m         \u001b[0;32mif\u001b[0m \u001b[0mn\u001b[0m \u001b[0;34m>=\u001b[0m \u001b[0;36m2\u001b[0m\u001b[0;34m:\u001b[0m\u001b[0;34m\u001b[0m\u001b[0;34m\u001b[0m\u001b[0m\n",
      "\u001b[0;32m/usr/local/lib/python3.8/site-packages/sympy/core/evalf.py\u001b[0m in \u001b[0;36mevalf\u001b[0;34m(x, prec, options)\u001b[0m\n\u001b[1;32m   1480\u001b[0m     \u001b[0;32mtry\u001b[0m\u001b[0;34m:\u001b[0m\u001b[0;34m\u001b[0m\u001b[0;34m\u001b[0m\u001b[0m\n\u001b[1;32m   1481\u001b[0m         \u001b[0mrf\u001b[0m \u001b[0;34m=\u001b[0m \u001b[0mevalf_table\u001b[0m\u001b[0;34m[\u001b[0m\u001b[0mtype\u001b[0m\u001b[0;34m(\u001b[0m\u001b[0mx\u001b[0m\u001b[0;34m)\u001b[0m\u001b[0;34m]\u001b[0m\u001b[0;34m\u001b[0m\u001b[0;34m\u001b[0m\u001b[0m\n\u001b[0;32m-> 1482\u001b[0;31m         \u001b[0mr\u001b[0m \u001b[0;34m=\u001b[0m \u001b[0mrf\u001b[0m\u001b[0;34m(\u001b[0m\u001b[0mx\u001b[0m\u001b[0;34m,\u001b[0m \u001b[0mprec\u001b[0m\u001b[0;34m,\u001b[0m \u001b[0moptions\u001b[0m\u001b[0;34m)\u001b[0m\u001b[0;34m\u001b[0m\u001b[0;34m\u001b[0m\u001b[0m\n\u001b[0m\u001b[1;32m   1483\u001b[0m     \u001b[0;32mexcept\u001b[0m \u001b[0mKeyError\u001b[0m\u001b[0;34m:\u001b[0m\u001b[0;34m\u001b[0m\u001b[0;34m\u001b[0m\u001b[0m\n\u001b[1;32m   1484\u001b[0m         \u001b[0;31m# Fall back to ordinary evalf if possible\u001b[0m\u001b[0;34m\u001b[0m\u001b[0;34m\u001b[0m\u001b[0;34m\u001b[0m\u001b[0m\n",
      "\u001b[0;32m/usr/local/lib/python3.8/site-packages/sympy/core/evalf.py\u001b[0m in \u001b[0;36mevalf_mul\u001b[0;34m(v, prec, options)\u001b[0m\n\u001b[1;32m    646\u001b[0m     \u001b[0;32mfrom\u001b[0m \u001b[0;34m.\u001b[0m\u001b[0mnumbers\u001b[0m \u001b[0;32mimport\u001b[0m \u001b[0mFloat\u001b[0m\u001b[0;34m\u001b[0m\u001b[0;34m\u001b[0m\u001b[0m\n\u001b[1;32m    647\u001b[0m     \u001b[0;32mfor\u001b[0m \u001b[0marg\u001b[0m \u001b[0;32min\u001b[0m \u001b[0margs\u001b[0m\u001b[0;34m:\u001b[0m\u001b[0;34m\u001b[0m\u001b[0;34m\u001b[0m\u001b[0m\n\u001b[0;32m--> 648\u001b[0;31m         \u001b[0mresult\u001b[0m \u001b[0;34m=\u001b[0m \u001b[0mevalf\u001b[0m\u001b[0;34m(\u001b[0m\u001b[0marg\u001b[0m\u001b[0;34m,\u001b[0m \u001b[0mprec\u001b[0m\u001b[0;34m,\u001b[0m \u001b[0moptions\u001b[0m\u001b[0;34m)\u001b[0m\u001b[0;34m\u001b[0m\u001b[0;34m\u001b[0m\u001b[0m\n\u001b[0m\u001b[1;32m    649\u001b[0m         \u001b[0;32mif\u001b[0m \u001b[0mresult\u001b[0m \u001b[0;32mis\u001b[0m \u001b[0mS\u001b[0m\u001b[0;34m.\u001b[0m\u001b[0mComplexInfinity\u001b[0m\u001b[0;34m:\u001b[0m\u001b[0;34m\u001b[0m\u001b[0;34m\u001b[0m\u001b[0m\n\u001b[1;32m    650\u001b[0m             \u001b[0mspecial\u001b[0m\u001b[0;34m.\u001b[0m\u001b[0mappend\u001b[0m\u001b[0;34m(\u001b[0m\u001b[0mresult\u001b[0m\u001b[0;34m)\u001b[0m\u001b[0;34m\u001b[0m\u001b[0;34m\u001b[0m\u001b[0m\n",
      "\u001b[0;32m/usr/local/lib/python3.8/site-packages/sympy/core/evalf.py\u001b[0m in \u001b[0;36mevalf\u001b[0;34m(x, prec, options)\u001b[0m\n\u001b[1;32m   1480\u001b[0m     \u001b[0;32mtry\u001b[0m\u001b[0;34m:\u001b[0m\u001b[0;34m\u001b[0m\u001b[0;34m\u001b[0m\u001b[0m\n\u001b[1;32m   1481\u001b[0m         \u001b[0mrf\u001b[0m \u001b[0;34m=\u001b[0m \u001b[0mevalf_table\u001b[0m\u001b[0;34m[\u001b[0m\u001b[0mtype\u001b[0m\u001b[0;34m(\u001b[0m\u001b[0mx\u001b[0m\u001b[0;34m)\u001b[0m\u001b[0;34m]\u001b[0m\u001b[0;34m\u001b[0m\u001b[0;34m\u001b[0m\u001b[0m\n\u001b[0;32m-> 1482\u001b[0;31m         \u001b[0mr\u001b[0m \u001b[0;34m=\u001b[0m \u001b[0mrf\u001b[0m\u001b[0;34m(\u001b[0m\u001b[0mx\u001b[0m\u001b[0;34m,\u001b[0m \u001b[0mprec\u001b[0m\u001b[0;34m,\u001b[0m \u001b[0moptions\u001b[0m\u001b[0;34m)\u001b[0m\u001b[0;34m\u001b[0m\u001b[0;34m\u001b[0m\u001b[0m\n\u001b[0m\u001b[1;32m   1483\u001b[0m     \u001b[0;32mexcept\u001b[0m \u001b[0mKeyError\u001b[0m\u001b[0;34m:\u001b[0m\u001b[0;34m\u001b[0m\u001b[0;34m\u001b[0m\u001b[0m\n\u001b[1;32m   1484\u001b[0m         \u001b[0;31m# Fall back to ordinary evalf if possible\u001b[0m\u001b[0;34m\u001b[0m\u001b[0;34m\u001b[0m\u001b[0;34m\u001b[0m\u001b[0m\n",
      "\u001b[0;32m/usr/local/lib/python3.8/site-packages/sympy/core/evalf.py\u001b[0m in \u001b[0;36mevalf_pow\u001b[0;34m(v, prec, options)\u001b[0m\n\u001b[1;32m    805\u001b[0m         \u001b[0;32mreturn\u001b[0m \u001b[0mfinalize_complex\u001b[0m\u001b[0;34m(\u001b[0m\u001b[0mre\u001b[0m\u001b[0;34m,\u001b[0m \u001b[0mim\u001b[0m\u001b[0;34m,\u001b[0m \u001b[0mtarget_prec\u001b[0m\u001b[0;34m)\u001b[0m\u001b[0;34m\u001b[0m\u001b[0;34m\u001b[0m\u001b[0m\n\u001b[1;32m    806\u001b[0m \u001b[0;34m\u001b[0m\u001b[0m\n\u001b[0;32m--> 807\u001b[0;31m     \u001b[0mresult\u001b[0m \u001b[0;34m=\u001b[0m \u001b[0mevalf\u001b[0m\u001b[0;34m(\u001b[0m\u001b[0mbase\u001b[0m\u001b[0;34m,\u001b[0m \u001b[0mprec\u001b[0m \u001b[0;34m+\u001b[0m \u001b[0;36m5\u001b[0m\u001b[0;34m,\u001b[0m \u001b[0moptions\u001b[0m\u001b[0;34m)\u001b[0m\u001b[0;34m\u001b[0m\u001b[0;34m\u001b[0m\u001b[0m\n\u001b[0m\u001b[1;32m    808\u001b[0m     \u001b[0;32mif\u001b[0m \u001b[0mresult\u001b[0m \u001b[0;32mis\u001b[0m \u001b[0mS\u001b[0m\u001b[0;34m.\u001b[0m\u001b[0mComplexInfinity\u001b[0m\u001b[0;34m:\u001b[0m\u001b[0;34m\u001b[0m\u001b[0;34m\u001b[0m\u001b[0m\n\u001b[1;32m    809\u001b[0m         \u001b[0;32mif\u001b[0m \u001b[0mexp\u001b[0m\u001b[0;34m.\u001b[0m\u001b[0mis_Rational\u001b[0m\u001b[0;34m:\u001b[0m\u001b[0;34m\u001b[0m\u001b[0;34m\u001b[0m\u001b[0m\n",
      "\u001b[0;32m/usr/local/lib/python3.8/site-packages/sympy/core/evalf.py\u001b[0m in \u001b[0;36mevalf\u001b[0;34m(x, prec, options)\u001b[0m\n\u001b[1;32m   1480\u001b[0m     \u001b[0;32mtry\u001b[0m\u001b[0;34m:\u001b[0m\u001b[0;34m\u001b[0m\u001b[0;34m\u001b[0m\u001b[0m\n\u001b[1;32m   1481\u001b[0m         \u001b[0mrf\u001b[0m \u001b[0;34m=\u001b[0m \u001b[0mevalf_table\u001b[0m\u001b[0;34m[\u001b[0m\u001b[0mtype\u001b[0m\u001b[0;34m(\u001b[0m\u001b[0mx\u001b[0m\u001b[0;34m)\u001b[0m\u001b[0;34m]\u001b[0m\u001b[0;34m\u001b[0m\u001b[0;34m\u001b[0m\u001b[0m\n\u001b[0;32m-> 1482\u001b[0;31m         \u001b[0mr\u001b[0m \u001b[0;34m=\u001b[0m \u001b[0mrf\u001b[0m\u001b[0;34m(\u001b[0m\u001b[0mx\u001b[0m\u001b[0;34m,\u001b[0m \u001b[0mprec\u001b[0m\u001b[0;34m,\u001b[0m \u001b[0moptions\u001b[0m\u001b[0;34m)\u001b[0m\u001b[0;34m\u001b[0m\u001b[0;34m\u001b[0m\u001b[0m\n\u001b[0m\u001b[1;32m   1483\u001b[0m     \u001b[0;32mexcept\u001b[0m \u001b[0mKeyError\u001b[0m\u001b[0;34m:\u001b[0m\u001b[0;34m\u001b[0m\u001b[0;34m\u001b[0m\u001b[0m\n\u001b[1;32m   1484\u001b[0m         \u001b[0;31m# Fall back to ordinary evalf if possible\u001b[0m\u001b[0;34m\u001b[0m\u001b[0;34m\u001b[0m\u001b[0;34m\u001b[0m\u001b[0m\n",
      "\u001b[0;32m/usr/local/lib/python3.8/site-packages/sympy/core/evalf.py\u001b[0m in \u001b[0;36mevalf_add\u001b[0;34m(v, prec, options)\u001b[0m\n\u001b[1;32m    598\u001b[0m         \u001b[0moptions\u001b[0m\u001b[0;34m[\u001b[0m\u001b[0;34m'maxprec'\u001b[0m\u001b[0;34m]\u001b[0m \u001b[0;34m=\u001b[0m \u001b[0mmin\u001b[0m\u001b[0;34m(\u001b[0m\u001b[0moldmaxprec\u001b[0m\u001b[0;34m,\u001b[0m \u001b[0;36m2\u001b[0m\u001b[0;34m*\u001b[0m\u001b[0mprec\u001b[0m\u001b[0;34m)\u001b[0m\u001b[0;34m\u001b[0m\u001b[0;34m\u001b[0m\u001b[0m\n\u001b[1;32m    599\u001b[0m \u001b[0;34m\u001b[0m\u001b[0m\n\u001b[0;32m--> 600\u001b[0;31m         \u001b[0mterms\u001b[0m \u001b[0;34m=\u001b[0m \u001b[0;34m[\u001b[0m\u001b[0mevalf\u001b[0m\u001b[0;34m(\u001b[0m\u001b[0marg\u001b[0m\u001b[0;34m,\u001b[0m \u001b[0mprec\u001b[0m \u001b[0;34m+\u001b[0m \u001b[0;36m10\u001b[0m\u001b[0;34m,\u001b[0m \u001b[0moptions\u001b[0m\u001b[0;34m)\u001b[0m \u001b[0;32mfor\u001b[0m \u001b[0marg\u001b[0m \u001b[0;32min\u001b[0m \u001b[0mv\u001b[0m\u001b[0;34m.\u001b[0m\u001b[0margs\u001b[0m\u001b[0;34m]\u001b[0m\u001b[0;34m\u001b[0m\u001b[0;34m\u001b[0m\u001b[0m\n\u001b[0m\u001b[1;32m    601\u001b[0m         \u001b[0mn\u001b[0m \u001b[0;34m=\u001b[0m \u001b[0mterms\u001b[0m\u001b[0;34m.\u001b[0m\u001b[0mcount\u001b[0m\u001b[0;34m(\u001b[0m\u001b[0mS\u001b[0m\u001b[0;34m.\u001b[0m\u001b[0mComplexInfinity\u001b[0m\u001b[0;34m)\u001b[0m\u001b[0;34m\u001b[0m\u001b[0;34m\u001b[0m\u001b[0m\n\u001b[1;32m    602\u001b[0m         \u001b[0;32mif\u001b[0m \u001b[0mn\u001b[0m \u001b[0;34m>=\u001b[0m \u001b[0;36m2\u001b[0m\u001b[0;34m:\u001b[0m\u001b[0;34m\u001b[0m\u001b[0;34m\u001b[0m\u001b[0m\n",
      "\u001b[0;32m/usr/local/lib/python3.8/site-packages/sympy/core/evalf.py\u001b[0m in \u001b[0;36m<listcomp>\u001b[0;34m(.0)\u001b[0m\n\u001b[1;32m    598\u001b[0m         \u001b[0moptions\u001b[0m\u001b[0;34m[\u001b[0m\u001b[0;34m'maxprec'\u001b[0m\u001b[0;34m]\u001b[0m \u001b[0;34m=\u001b[0m \u001b[0mmin\u001b[0m\u001b[0;34m(\u001b[0m\u001b[0moldmaxprec\u001b[0m\u001b[0;34m,\u001b[0m \u001b[0;36m2\u001b[0m\u001b[0;34m*\u001b[0m\u001b[0mprec\u001b[0m\u001b[0;34m)\u001b[0m\u001b[0;34m\u001b[0m\u001b[0;34m\u001b[0m\u001b[0m\n\u001b[1;32m    599\u001b[0m \u001b[0;34m\u001b[0m\u001b[0m\n\u001b[0;32m--> 600\u001b[0;31m         \u001b[0mterms\u001b[0m \u001b[0;34m=\u001b[0m \u001b[0;34m[\u001b[0m\u001b[0mevalf\u001b[0m\u001b[0;34m(\u001b[0m\u001b[0marg\u001b[0m\u001b[0;34m,\u001b[0m \u001b[0mprec\u001b[0m \u001b[0;34m+\u001b[0m \u001b[0;36m10\u001b[0m\u001b[0;34m,\u001b[0m \u001b[0moptions\u001b[0m\u001b[0;34m)\u001b[0m \u001b[0;32mfor\u001b[0m \u001b[0marg\u001b[0m \u001b[0;32min\u001b[0m \u001b[0mv\u001b[0m\u001b[0;34m.\u001b[0m\u001b[0margs\u001b[0m\u001b[0;34m]\u001b[0m\u001b[0;34m\u001b[0m\u001b[0;34m\u001b[0m\u001b[0m\n\u001b[0m\u001b[1;32m    601\u001b[0m         \u001b[0mn\u001b[0m \u001b[0;34m=\u001b[0m \u001b[0mterms\u001b[0m\u001b[0;34m.\u001b[0m\u001b[0mcount\u001b[0m\u001b[0;34m(\u001b[0m\u001b[0mS\u001b[0m\u001b[0;34m.\u001b[0m\u001b[0mComplexInfinity\u001b[0m\u001b[0;34m)\u001b[0m\u001b[0;34m\u001b[0m\u001b[0;34m\u001b[0m\u001b[0m\n\u001b[1;32m    602\u001b[0m         \u001b[0;32mif\u001b[0m \u001b[0mn\u001b[0m \u001b[0;34m>=\u001b[0m \u001b[0;36m2\u001b[0m\u001b[0;34m:\u001b[0m\u001b[0;34m\u001b[0m\u001b[0;34m\u001b[0m\u001b[0m\n",
      "\u001b[0;32m/usr/local/lib/python3.8/site-packages/sympy/core/evalf.py\u001b[0m in \u001b[0;36mevalf\u001b[0;34m(x, prec, options)\u001b[0m\n\u001b[1;32m   1480\u001b[0m     \u001b[0;32mtry\u001b[0m\u001b[0;34m:\u001b[0m\u001b[0;34m\u001b[0m\u001b[0;34m\u001b[0m\u001b[0m\n\u001b[1;32m   1481\u001b[0m         \u001b[0mrf\u001b[0m \u001b[0;34m=\u001b[0m \u001b[0mevalf_table\u001b[0m\u001b[0;34m[\u001b[0m\u001b[0mtype\u001b[0m\u001b[0;34m(\u001b[0m\u001b[0mx\u001b[0m\u001b[0;34m)\u001b[0m\u001b[0;34m]\u001b[0m\u001b[0;34m\u001b[0m\u001b[0;34m\u001b[0m\u001b[0m\n\u001b[0;32m-> 1482\u001b[0;31m         \u001b[0mr\u001b[0m \u001b[0;34m=\u001b[0m \u001b[0mrf\u001b[0m\u001b[0;34m(\u001b[0m\u001b[0mx\u001b[0m\u001b[0;34m,\u001b[0m \u001b[0mprec\u001b[0m\u001b[0;34m,\u001b[0m \u001b[0moptions\u001b[0m\u001b[0;34m)\u001b[0m\u001b[0;34m\u001b[0m\u001b[0;34m\u001b[0m\u001b[0m\n\u001b[0m\u001b[1;32m   1483\u001b[0m     \u001b[0;32mexcept\u001b[0m \u001b[0mKeyError\u001b[0m\u001b[0;34m:\u001b[0m\u001b[0;34m\u001b[0m\u001b[0;34m\u001b[0m\u001b[0m\n\u001b[1;32m   1484\u001b[0m         \u001b[0;31m# Fall back to ordinary evalf if possible\u001b[0m\u001b[0;34m\u001b[0m\u001b[0;34m\u001b[0m\u001b[0;34m\u001b[0m\u001b[0m\n",
      "\u001b[0;32m/usr/local/lib/python3.8/site-packages/sympy/core/evalf.py\u001b[0m in \u001b[0;36mevalf_mul\u001b[0;34m(v, prec, options)\u001b[0m\n\u001b[1;32m    646\u001b[0m     \u001b[0;32mfrom\u001b[0m \u001b[0;34m.\u001b[0m\u001b[0mnumbers\u001b[0m \u001b[0;32mimport\u001b[0m \u001b[0mFloat\u001b[0m\u001b[0;34m\u001b[0m\u001b[0;34m\u001b[0m\u001b[0m\n\u001b[1;32m    647\u001b[0m     \u001b[0;32mfor\u001b[0m \u001b[0marg\u001b[0m \u001b[0;32min\u001b[0m \u001b[0margs\u001b[0m\u001b[0;34m:\u001b[0m\u001b[0;34m\u001b[0m\u001b[0;34m\u001b[0m\u001b[0m\n\u001b[0;32m--> 648\u001b[0;31m         \u001b[0mresult\u001b[0m \u001b[0;34m=\u001b[0m \u001b[0mevalf\u001b[0m\u001b[0;34m(\u001b[0m\u001b[0marg\u001b[0m\u001b[0;34m,\u001b[0m \u001b[0mprec\u001b[0m\u001b[0;34m,\u001b[0m \u001b[0moptions\u001b[0m\u001b[0;34m)\u001b[0m\u001b[0;34m\u001b[0m\u001b[0;34m\u001b[0m\u001b[0m\n\u001b[0m\u001b[1;32m    649\u001b[0m         \u001b[0;32mif\u001b[0m \u001b[0mresult\u001b[0m \u001b[0;32mis\u001b[0m \u001b[0mS\u001b[0m\u001b[0;34m.\u001b[0m\u001b[0mComplexInfinity\u001b[0m\u001b[0;34m:\u001b[0m\u001b[0;34m\u001b[0m\u001b[0;34m\u001b[0m\u001b[0m\n\u001b[1;32m    650\u001b[0m             \u001b[0mspecial\u001b[0m\u001b[0;34m.\u001b[0m\u001b[0mappend\u001b[0m\u001b[0;34m(\u001b[0m\u001b[0mresult\u001b[0m\u001b[0;34m)\u001b[0m\u001b[0;34m\u001b[0m\u001b[0;34m\u001b[0m\u001b[0m\n",
      "\u001b[0;32m/usr/local/lib/python3.8/site-packages/sympy/core/evalf.py\u001b[0m in \u001b[0;36mevalf\u001b[0;34m(x, prec, options)\u001b[0m\n\u001b[1;32m   1480\u001b[0m     \u001b[0;32mtry\u001b[0m\u001b[0;34m:\u001b[0m\u001b[0;34m\u001b[0m\u001b[0;34m\u001b[0m\u001b[0m\n\u001b[1;32m   1481\u001b[0m         \u001b[0mrf\u001b[0m \u001b[0;34m=\u001b[0m \u001b[0mevalf_table\u001b[0m\u001b[0;34m[\u001b[0m\u001b[0mtype\u001b[0m\u001b[0;34m(\u001b[0m\u001b[0mx\u001b[0m\u001b[0;34m)\u001b[0m\u001b[0;34m]\u001b[0m\u001b[0;34m\u001b[0m\u001b[0;34m\u001b[0m\u001b[0m\n\u001b[0;32m-> 1482\u001b[0;31m         \u001b[0mr\u001b[0m \u001b[0;34m=\u001b[0m \u001b[0mrf\u001b[0m\u001b[0;34m(\u001b[0m\u001b[0mx\u001b[0m\u001b[0;34m,\u001b[0m \u001b[0mprec\u001b[0m\u001b[0;34m,\u001b[0m \u001b[0moptions\u001b[0m\u001b[0;34m)\u001b[0m\u001b[0;34m\u001b[0m\u001b[0;34m\u001b[0m\u001b[0m\n\u001b[0m\u001b[1;32m   1483\u001b[0m     \u001b[0;32mexcept\u001b[0m \u001b[0mKeyError\u001b[0m\u001b[0;34m:\u001b[0m\u001b[0;34m\u001b[0m\u001b[0;34m\u001b[0m\u001b[0m\n\u001b[1;32m   1484\u001b[0m         \u001b[0;31m# Fall back to ordinary evalf if possible\u001b[0m\u001b[0;34m\u001b[0m\u001b[0;34m\u001b[0m\u001b[0;34m\u001b[0m\u001b[0m\n",
      "\u001b[0;32m/usr/local/lib/python3.8/site-packages/sympy/core/evalf.py\u001b[0m in \u001b[0;36mevalf_pow\u001b[0;34m(v, prec, options)\u001b[0m\n\u001b[1;32m    805\u001b[0m         \u001b[0;32mreturn\u001b[0m \u001b[0mfinalize_complex\u001b[0m\u001b[0;34m(\u001b[0m\u001b[0mre\u001b[0m\u001b[0;34m,\u001b[0m \u001b[0mim\u001b[0m\u001b[0;34m,\u001b[0m \u001b[0mtarget_prec\u001b[0m\u001b[0;34m)\u001b[0m\u001b[0;34m\u001b[0m\u001b[0;34m\u001b[0m\u001b[0m\n\u001b[1;32m    806\u001b[0m \u001b[0;34m\u001b[0m\u001b[0m\n\u001b[0;32m--> 807\u001b[0;31m     \u001b[0mresult\u001b[0m \u001b[0;34m=\u001b[0m \u001b[0mevalf\u001b[0m\u001b[0;34m(\u001b[0m\u001b[0mbase\u001b[0m\u001b[0;34m,\u001b[0m \u001b[0mprec\u001b[0m \u001b[0;34m+\u001b[0m \u001b[0;36m5\u001b[0m\u001b[0;34m,\u001b[0m \u001b[0moptions\u001b[0m\u001b[0;34m)\u001b[0m\u001b[0;34m\u001b[0m\u001b[0;34m\u001b[0m\u001b[0m\n\u001b[0m\u001b[1;32m    808\u001b[0m     \u001b[0;32mif\u001b[0m \u001b[0mresult\u001b[0m \u001b[0;32mis\u001b[0m \u001b[0mS\u001b[0m\u001b[0;34m.\u001b[0m\u001b[0mComplexInfinity\u001b[0m\u001b[0;34m:\u001b[0m\u001b[0;34m\u001b[0m\u001b[0;34m\u001b[0m\u001b[0m\n\u001b[1;32m    809\u001b[0m         \u001b[0;32mif\u001b[0m \u001b[0mexp\u001b[0m\u001b[0;34m.\u001b[0m\u001b[0mis_Rational\u001b[0m\u001b[0;34m:\u001b[0m\u001b[0;34m\u001b[0m\u001b[0;34m\u001b[0m\u001b[0m\n",
      "\u001b[0;32m/usr/local/lib/python3.8/site-packages/sympy/core/evalf.py\u001b[0m in \u001b[0;36mevalf\u001b[0;34m(x, prec, options)\u001b[0m\n\u001b[1;32m   1480\u001b[0m     \u001b[0;32mtry\u001b[0m\u001b[0;34m:\u001b[0m\u001b[0;34m\u001b[0m\u001b[0;34m\u001b[0m\u001b[0m\n\u001b[1;32m   1481\u001b[0m         \u001b[0mrf\u001b[0m \u001b[0;34m=\u001b[0m \u001b[0mevalf_table\u001b[0m\u001b[0;34m[\u001b[0m\u001b[0mtype\u001b[0m\u001b[0;34m(\u001b[0m\u001b[0mx\u001b[0m\u001b[0;34m)\u001b[0m\u001b[0;34m]\u001b[0m\u001b[0;34m\u001b[0m\u001b[0;34m\u001b[0m\u001b[0m\n\u001b[0;32m-> 1482\u001b[0;31m         \u001b[0mr\u001b[0m \u001b[0;34m=\u001b[0m \u001b[0mrf\u001b[0m\u001b[0;34m(\u001b[0m\u001b[0mx\u001b[0m\u001b[0;34m,\u001b[0m \u001b[0mprec\u001b[0m\u001b[0;34m,\u001b[0m \u001b[0moptions\u001b[0m\u001b[0;34m)\u001b[0m\u001b[0;34m\u001b[0m\u001b[0;34m\u001b[0m\u001b[0m\n\u001b[0m\u001b[1;32m   1483\u001b[0m     \u001b[0;32mexcept\u001b[0m \u001b[0mKeyError\u001b[0m\u001b[0;34m:\u001b[0m\u001b[0;34m\u001b[0m\u001b[0;34m\u001b[0m\u001b[0m\n\u001b[1;32m   1484\u001b[0m         \u001b[0;31m# Fall back to ordinary evalf if possible\u001b[0m\u001b[0;34m\u001b[0m\u001b[0;34m\u001b[0m\u001b[0;34m\u001b[0m\u001b[0m\n",
      "\u001b[0;32m/usr/local/lib/python3.8/site-packages/sympy/core/evalf.py\u001b[0m in \u001b[0;36mevalf_add\u001b[0;34m(v, prec, options)\u001b[0m\n\u001b[1;32m    598\u001b[0m         \u001b[0moptions\u001b[0m\u001b[0;34m[\u001b[0m\u001b[0;34m'maxprec'\u001b[0m\u001b[0;34m]\u001b[0m \u001b[0;34m=\u001b[0m \u001b[0mmin\u001b[0m\u001b[0;34m(\u001b[0m\u001b[0moldmaxprec\u001b[0m\u001b[0;34m,\u001b[0m \u001b[0;36m2\u001b[0m\u001b[0;34m*\u001b[0m\u001b[0mprec\u001b[0m\u001b[0;34m)\u001b[0m\u001b[0;34m\u001b[0m\u001b[0;34m\u001b[0m\u001b[0m\n\u001b[1;32m    599\u001b[0m \u001b[0;34m\u001b[0m\u001b[0m\n\u001b[0;32m--> 600\u001b[0;31m         \u001b[0mterms\u001b[0m \u001b[0;34m=\u001b[0m \u001b[0;34m[\u001b[0m\u001b[0mevalf\u001b[0m\u001b[0;34m(\u001b[0m\u001b[0marg\u001b[0m\u001b[0;34m,\u001b[0m \u001b[0mprec\u001b[0m \u001b[0;34m+\u001b[0m \u001b[0;36m10\u001b[0m\u001b[0;34m,\u001b[0m \u001b[0moptions\u001b[0m\u001b[0;34m)\u001b[0m \u001b[0;32mfor\u001b[0m \u001b[0marg\u001b[0m \u001b[0;32min\u001b[0m \u001b[0mv\u001b[0m\u001b[0;34m.\u001b[0m\u001b[0margs\u001b[0m\u001b[0;34m]\u001b[0m\u001b[0;34m\u001b[0m\u001b[0;34m\u001b[0m\u001b[0m\n\u001b[0m\u001b[1;32m    601\u001b[0m         \u001b[0mn\u001b[0m \u001b[0;34m=\u001b[0m \u001b[0mterms\u001b[0m\u001b[0;34m.\u001b[0m\u001b[0mcount\u001b[0m\u001b[0;34m(\u001b[0m\u001b[0mS\u001b[0m\u001b[0;34m.\u001b[0m\u001b[0mComplexInfinity\u001b[0m\u001b[0;34m)\u001b[0m\u001b[0;34m\u001b[0m\u001b[0;34m\u001b[0m\u001b[0m\n\u001b[1;32m    602\u001b[0m         \u001b[0;32mif\u001b[0m \u001b[0mn\u001b[0m \u001b[0;34m>=\u001b[0m \u001b[0;36m2\u001b[0m\u001b[0;34m:\u001b[0m\u001b[0;34m\u001b[0m\u001b[0;34m\u001b[0m\u001b[0m\n",
      "\u001b[0;32m/usr/local/lib/python3.8/site-packages/sympy/core/evalf.py\u001b[0m in \u001b[0;36m<listcomp>\u001b[0;34m(.0)\u001b[0m\n\u001b[1;32m    598\u001b[0m         \u001b[0moptions\u001b[0m\u001b[0;34m[\u001b[0m\u001b[0;34m'maxprec'\u001b[0m\u001b[0;34m]\u001b[0m \u001b[0;34m=\u001b[0m \u001b[0mmin\u001b[0m\u001b[0;34m(\u001b[0m\u001b[0moldmaxprec\u001b[0m\u001b[0;34m,\u001b[0m \u001b[0;36m2\u001b[0m\u001b[0;34m*\u001b[0m\u001b[0mprec\u001b[0m\u001b[0;34m)\u001b[0m\u001b[0;34m\u001b[0m\u001b[0;34m\u001b[0m\u001b[0m\n\u001b[1;32m    599\u001b[0m \u001b[0;34m\u001b[0m\u001b[0m\n\u001b[0;32m--> 600\u001b[0;31m         \u001b[0mterms\u001b[0m \u001b[0;34m=\u001b[0m \u001b[0;34m[\u001b[0m\u001b[0mevalf\u001b[0m\u001b[0;34m(\u001b[0m\u001b[0marg\u001b[0m\u001b[0;34m,\u001b[0m \u001b[0mprec\u001b[0m \u001b[0;34m+\u001b[0m \u001b[0;36m10\u001b[0m\u001b[0;34m,\u001b[0m \u001b[0moptions\u001b[0m\u001b[0;34m)\u001b[0m \u001b[0;32mfor\u001b[0m \u001b[0marg\u001b[0m \u001b[0;32min\u001b[0m \u001b[0mv\u001b[0m\u001b[0;34m.\u001b[0m\u001b[0margs\u001b[0m\u001b[0;34m]\u001b[0m\u001b[0;34m\u001b[0m\u001b[0;34m\u001b[0m\u001b[0m\n\u001b[0m\u001b[1;32m    601\u001b[0m         \u001b[0mn\u001b[0m \u001b[0;34m=\u001b[0m \u001b[0mterms\u001b[0m\u001b[0;34m.\u001b[0m\u001b[0mcount\u001b[0m\u001b[0;34m(\u001b[0m\u001b[0mS\u001b[0m\u001b[0;34m.\u001b[0m\u001b[0mComplexInfinity\u001b[0m\u001b[0;34m)\u001b[0m\u001b[0;34m\u001b[0m\u001b[0;34m\u001b[0m\u001b[0m\n\u001b[1;32m    602\u001b[0m         \u001b[0;32mif\u001b[0m \u001b[0mn\u001b[0m \u001b[0;34m>=\u001b[0m \u001b[0;36m2\u001b[0m\u001b[0;34m:\u001b[0m\u001b[0;34m\u001b[0m\u001b[0;34m\u001b[0m\u001b[0m\n",
      "\u001b[0;32m/usr/local/lib/python3.8/site-packages/sympy/core/evalf.py\u001b[0m in \u001b[0;36mevalf\u001b[0;34m(x, prec, options)\u001b[0m\n\u001b[1;32m   1480\u001b[0m     \u001b[0;32mtry\u001b[0m\u001b[0;34m:\u001b[0m\u001b[0;34m\u001b[0m\u001b[0;34m\u001b[0m\u001b[0m\n\u001b[1;32m   1481\u001b[0m         \u001b[0mrf\u001b[0m \u001b[0;34m=\u001b[0m \u001b[0mevalf_table\u001b[0m\u001b[0;34m[\u001b[0m\u001b[0mtype\u001b[0m\u001b[0;34m(\u001b[0m\u001b[0mx\u001b[0m\u001b[0;34m)\u001b[0m\u001b[0;34m]\u001b[0m\u001b[0;34m\u001b[0m\u001b[0;34m\u001b[0m\u001b[0m\n\u001b[0;32m-> 1482\u001b[0;31m         \u001b[0mr\u001b[0m \u001b[0;34m=\u001b[0m \u001b[0mrf\u001b[0m\u001b[0;34m(\u001b[0m\u001b[0mx\u001b[0m\u001b[0;34m,\u001b[0m \u001b[0mprec\u001b[0m\u001b[0;34m,\u001b[0m \u001b[0moptions\u001b[0m\u001b[0;34m)\u001b[0m\u001b[0;34m\u001b[0m\u001b[0;34m\u001b[0m\u001b[0m\n\u001b[0m\u001b[1;32m   1483\u001b[0m     \u001b[0;32mexcept\u001b[0m \u001b[0mKeyError\u001b[0m\u001b[0;34m:\u001b[0m\u001b[0;34m\u001b[0m\u001b[0;34m\u001b[0m\u001b[0m\n\u001b[1;32m   1484\u001b[0m         \u001b[0;31m# Fall back to ordinary evalf if possible\u001b[0m\u001b[0;34m\u001b[0m\u001b[0;34m\u001b[0m\u001b[0;34m\u001b[0m\u001b[0m\n",
      "\u001b[0;32m/usr/local/lib/python3.8/site-packages/sympy/core/evalf.py\u001b[0m in \u001b[0;36mevalf_mul\u001b[0;34m(v, prec, options)\u001b[0m\n\u001b[1;32m    646\u001b[0m     \u001b[0;32mfrom\u001b[0m \u001b[0;34m.\u001b[0m\u001b[0mnumbers\u001b[0m \u001b[0;32mimport\u001b[0m \u001b[0mFloat\u001b[0m\u001b[0;34m\u001b[0m\u001b[0;34m\u001b[0m\u001b[0m\n\u001b[1;32m    647\u001b[0m     \u001b[0;32mfor\u001b[0m \u001b[0marg\u001b[0m \u001b[0;32min\u001b[0m \u001b[0margs\u001b[0m\u001b[0;34m:\u001b[0m\u001b[0;34m\u001b[0m\u001b[0;34m\u001b[0m\u001b[0m\n\u001b[0;32m--> 648\u001b[0;31m         \u001b[0mresult\u001b[0m \u001b[0;34m=\u001b[0m \u001b[0mevalf\u001b[0m\u001b[0;34m(\u001b[0m\u001b[0marg\u001b[0m\u001b[0;34m,\u001b[0m \u001b[0mprec\u001b[0m\u001b[0;34m,\u001b[0m \u001b[0moptions\u001b[0m\u001b[0;34m)\u001b[0m\u001b[0;34m\u001b[0m\u001b[0;34m\u001b[0m\u001b[0m\n\u001b[0m\u001b[1;32m    649\u001b[0m         \u001b[0;32mif\u001b[0m \u001b[0mresult\u001b[0m \u001b[0;32mis\u001b[0m \u001b[0mS\u001b[0m\u001b[0;34m.\u001b[0m\u001b[0mComplexInfinity\u001b[0m\u001b[0;34m:\u001b[0m\u001b[0;34m\u001b[0m\u001b[0;34m\u001b[0m\u001b[0m\n\u001b[1;32m    650\u001b[0m             \u001b[0mspecial\u001b[0m\u001b[0;34m.\u001b[0m\u001b[0mappend\u001b[0m\u001b[0;34m(\u001b[0m\u001b[0mresult\u001b[0m\u001b[0;34m)\u001b[0m\u001b[0;34m\u001b[0m\u001b[0;34m\u001b[0m\u001b[0m\n",
      "\u001b[0;32m/usr/local/lib/python3.8/site-packages/sympy/core/evalf.py\u001b[0m in \u001b[0;36mevalf\u001b[0;34m(x, prec, options)\u001b[0m\n\u001b[1;32m   1480\u001b[0m     \u001b[0;32mtry\u001b[0m\u001b[0;34m:\u001b[0m\u001b[0;34m\u001b[0m\u001b[0;34m\u001b[0m\u001b[0m\n\u001b[1;32m   1481\u001b[0m         \u001b[0mrf\u001b[0m \u001b[0;34m=\u001b[0m \u001b[0mevalf_table\u001b[0m\u001b[0;34m[\u001b[0m\u001b[0mtype\u001b[0m\u001b[0;34m(\u001b[0m\u001b[0mx\u001b[0m\u001b[0;34m)\u001b[0m\u001b[0;34m]\u001b[0m\u001b[0;34m\u001b[0m\u001b[0;34m\u001b[0m\u001b[0m\n\u001b[0;32m-> 1482\u001b[0;31m         \u001b[0mr\u001b[0m \u001b[0;34m=\u001b[0m \u001b[0mrf\u001b[0m\u001b[0;34m(\u001b[0m\u001b[0mx\u001b[0m\u001b[0;34m,\u001b[0m \u001b[0mprec\u001b[0m\u001b[0;34m,\u001b[0m \u001b[0moptions\u001b[0m\u001b[0;34m)\u001b[0m\u001b[0;34m\u001b[0m\u001b[0;34m\u001b[0m\u001b[0m\n\u001b[0m\u001b[1;32m   1483\u001b[0m     \u001b[0;32mexcept\u001b[0m \u001b[0mKeyError\u001b[0m\u001b[0;34m:\u001b[0m\u001b[0;34m\u001b[0m\u001b[0;34m\u001b[0m\u001b[0m\n\u001b[1;32m   1484\u001b[0m         \u001b[0;31m# Fall back to ordinary evalf if possible\u001b[0m\u001b[0;34m\u001b[0m\u001b[0;34m\u001b[0m\u001b[0;34m\u001b[0m\u001b[0m\n",
      "\u001b[0;32m/usr/local/lib/python3.8/site-packages/sympy/core/evalf.py\u001b[0m in \u001b[0;36mevalf_pow\u001b[0;34m(v, prec, options)\u001b[0m\n\u001b[1;32m    853\u001b[0m         \u001b[0;32mreturn\u001b[0m \u001b[0mmpf_exp\u001b[0m\u001b[0;34m(\u001b[0m\u001b[0myre\u001b[0m\u001b[0;34m,\u001b[0m \u001b[0mtarget_prec\u001b[0m\u001b[0;34m)\u001b[0m\u001b[0;34m,\u001b[0m \u001b[0;32mNone\u001b[0m\u001b[0;34m,\u001b[0m \u001b[0mtarget_prec\u001b[0m\u001b[0;34m,\u001b[0m \u001b[0;32mNone\u001b[0m\u001b[0;34m\u001b[0m\u001b[0;34m\u001b[0m\u001b[0m\n\u001b[1;32m    854\u001b[0m \u001b[0;34m\u001b[0m\u001b[0m\n\u001b[0;32m--> 855\u001b[0;31m     \u001b[0mxre\u001b[0m\u001b[0;34m,\u001b[0m \u001b[0mxim\u001b[0m\u001b[0;34m,\u001b[0m \u001b[0m_\u001b[0m\u001b[0;34m,\u001b[0m \u001b[0m_\u001b[0m \u001b[0;34m=\u001b[0m \u001b[0mevalf\u001b[0m\u001b[0;34m(\u001b[0m\u001b[0mbase\u001b[0m\u001b[0;34m,\u001b[0m \u001b[0mprec\u001b[0m \u001b[0;34m+\u001b[0m \u001b[0;36m5\u001b[0m\u001b[0;34m,\u001b[0m \u001b[0moptions\u001b[0m\u001b[0;34m)\u001b[0m\u001b[0;34m\u001b[0m\u001b[0;34m\u001b[0m\u001b[0m\n\u001b[0m\u001b[1;32m    856\u001b[0m     \u001b[0;31m# 0**y\u001b[0m\u001b[0;34m\u001b[0m\u001b[0;34m\u001b[0m\u001b[0;34m\u001b[0m\u001b[0m\n\u001b[1;32m    857\u001b[0m     \u001b[0;32mif\u001b[0m \u001b[0;32mnot\u001b[0m \u001b[0;34m(\u001b[0m\u001b[0mxre\u001b[0m \u001b[0;32mor\u001b[0m \u001b[0mxim\u001b[0m\u001b[0;34m)\u001b[0m\u001b[0;34m:\u001b[0m\u001b[0;34m\u001b[0m\u001b[0;34m\u001b[0m\u001b[0m\n",
      "\u001b[0;32m/usr/local/lib/python3.8/site-packages/sympy/core/evalf.py\u001b[0m in \u001b[0;36mevalf\u001b[0;34m(x, prec, options)\u001b[0m\n\u001b[1;32m   1480\u001b[0m     \u001b[0;32mtry\u001b[0m\u001b[0;34m:\u001b[0m\u001b[0;34m\u001b[0m\u001b[0;34m\u001b[0m\u001b[0m\n\u001b[1;32m   1481\u001b[0m         \u001b[0mrf\u001b[0m \u001b[0;34m=\u001b[0m \u001b[0mevalf_table\u001b[0m\u001b[0;34m[\u001b[0m\u001b[0mtype\u001b[0m\u001b[0;34m(\u001b[0m\u001b[0mx\u001b[0m\u001b[0;34m)\u001b[0m\u001b[0;34m]\u001b[0m\u001b[0;34m\u001b[0m\u001b[0;34m\u001b[0m\u001b[0m\n\u001b[0;32m-> 1482\u001b[0;31m         \u001b[0mr\u001b[0m \u001b[0;34m=\u001b[0m \u001b[0mrf\u001b[0m\u001b[0;34m(\u001b[0m\u001b[0mx\u001b[0m\u001b[0;34m,\u001b[0m \u001b[0mprec\u001b[0m\u001b[0;34m,\u001b[0m \u001b[0moptions\u001b[0m\u001b[0;34m)\u001b[0m\u001b[0;34m\u001b[0m\u001b[0;34m\u001b[0m\u001b[0m\n\u001b[0m\u001b[1;32m   1483\u001b[0m     \u001b[0;32mexcept\u001b[0m \u001b[0mKeyError\u001b[0m\u001b[0;34m:\u001b[0m\u001b[0;34m\u001b[0m\u001b[0;34m\u001b[0m\u001b[0m\n\u001b[1;32m   1484\u001b[0m         \u001b[0;31m# Fall back to ordinary evalf if possible\u001b[0m\u001b[0;34m\u001b[0m\u001b[0;34m\u001b[0m\u001b[0;34m\u001b[0m\u001b[0m\n",
      "\u001b[0;32m/usr/local/lib/python3.8/site-packages/sympy/core/evalf.py\u001b[0m in \u001b[0;36mevalf_add\u001b[0;34m(v, prec, options)\u001b[0m\n\u001b[1;32m    598\u001b[0m         \u001b[0moptions\u001b[0m\u001b[0;34m[\u001b[0m\u001b[0;34m'maxprec'\u001b[0m\u001b[0;34m]\u001b[0m \u001b[0;34m=\u001b[0m \u001b[0mmin\u001b[0m\u001b[0;34m(\u001b[0m\u001b[0moldmaxprec\u001b[0m\u001b[0;34m,\u001b[0m \u001b[0;36m2\u001b[0m\u001b[0;34m*\u001b[0m\u001b[0mprec\u001b[0m\u001b[0;34m)\u001b[0m\u001b[0;34m\u001b[0m\u001b[0;34m\u001b[0m\u001b[0m\n\u001b[1;32m    599\u001b[0m \u001b[0;34m\u001b[0m\u001b[0m\n\u001b[0;32m--> 600\u001b[0;31m         \u001b[0mterms\u001b[0m \u001b[0;34m=\u001b[0m \u001b[0;34m[\u001b[0m\u001b[0mevalf\u001b[0m\u001b[0;34m(\u001b[0m\u001b[0marg\u001b[0m\u001b[0;34m,\u001b[0m \u001b[0mprec\u001b[0m \u001b[0;34m+\u001b[0m \u001b[0;36m10\u001b[0m\u001b[0;34m,\u001b[0m \u001b[0moptions\u001b[0m\u001b[0;34m)\u001b[0m \u001b[0;32mfor\u001b[0m \u001b[0marg\u001b[0m \u001b[0;32min\u001b[0m \u001b[0mv\u001b[0m\u001b[0;34m.\u001b[0m\u001b[0margs\u001b[0m\u001b[0;34m]\u001b[0m\u001b[0;34m\u001b[0m\u001b[0;34m\u001b[0m\u001b[0m\n\u001b[0m\u001b[1;32m    601\u001b[0m         \u001b[0mn\u001b[0m \u001b[0;34m=\u001b[0m \u001b[0mterms\u001b[0m\u001b[0;34m.\u001b[0m\u001b[0mcount\u001b[0m\u001b[0;34m(\u001b[0m\u001b[0mS\u001b[0m\u001b[0;34m.\u001b[0m\u001b[0mComplexInfinity\u001b[0m\u001b[0;34m)\u001b[0m\u001b[0;34m\u001b[0m\u001b[0;34m\u001b[0m\u001b[0m\n\u001b[1;32m    602\u001b[0m         \u001b[0;32mif\u001b[0m \u001b[0mn\u001b[0m \u001b[0;34m>=\u001b[0m \u001b[0;36m2\u001b[0m\u001b[0;34m:\u001b[0m\u001b[0;34m\u001b[0m\u001b[0;34m\u001b[0m\u001b[0m\n",
      "\u001b[0;32m/usr/local/lib/python3.8/site-packages/sympy/core/evalf.py\u001b[0m in \u001b[0;36m<listcomp>\u001b[0;34m(.0)\u001b[0m\n\u001b[1;32m    598\u001b[0m         \u001b[0moptions\u001b[0m\u001b[0;34m[\u001b[0m\u001b[0;34m'maxprec'\u001b[0m\u001b[0;34m]\u001b[0m \u001b[0;34m=\u001b[0m \u001b[0mmin\u001b[0m\u001b[0;34m(\u001b[0m\u001b[0moldmaxprec\u001b[0m\u001b[0;34m,\u001b[0m \u001b[0;36m2\u001b[0m\u001b[0;34m*\u001b[0m\u001b[0mprec\u001b[0m\u001b[0;34m)\u001b[0m\u001b[0;34m\u001b[0m\u001b[0;34m\u001b[0m\u001b[0m\n\u001b[1;32m    599\u001b[0m \u001b[0;34m\u001b[0m\u001b[0m\n\u001b[0;32m--> 600\u001b[0;31m         \u001b[0mterms\u001b[0m \u001b[0;34m=\u001b[0m \u001b[0;34m[\u001b[0m\u001b[0mevalf\u001b[0m\u001b[0;34m(\u001b[0m\u001b[0marg\u001b[0m\u001b[0;34m,\u001b[0m \u001b[0mprec\u001b[0m \u001b[0;34m+\u001b[0m \u001b[0;36m10\u001b[0m\u001b[0;34m,\u001b[0m \u001b[0moptions\u001b[0m\u001b[0;34m)\u001b[0m \u001b[0;32mfor\u001b[0m \u001b[0marg\u001b[0m \u001b[0;32min\u001b[0m \u001b[0mv\u001b[0m\u001b[0;34m.\u001b[0m\u001b[0margs\u001b[0m\u001b[0;34m]\u001b[0m\u001b[0;34m\u001b[0m\u001b[0;34m\u001b[0m\u001b[0m\n\u001b[0m\u001b[1;32m    601\u001b[0m         \u001b[0mn\u001b[0m \u001b[0;34m=\u001b[0m \u001b[0mterms\u001b[0m\u001b[0;34m.\u001b[0m\u001b[0mcount\u001b[0m\u001b[0;34m(\u001b[0m\u001b[0mS\u001b[0m\u001b[0;34m.\u001b[0m\u001b[0mComplexInfinity\u001b[0m\u001b[0;34m)\u001b[0m\u001b[0;34m\u001b[0m\u001b[0;34m\u001b[0m\u001b[0m\n\u001b[1;32m    602\u001b[0m         \u001b[0;32mif\u001b[0m \u001b[0mn\u001b[0m \u001b[0;34m>=\u001b[0m \u001b[0;36m2\u001b[0m\u001b[0;34m:\u001b[0m\u001b[0;34m\u001b[0m\u001b[0;34m\u001b[0m\u001b[0m\n",
      "\u001b[0;32m/usr/local/lib/python3.8/site-packages/sympy/core/evalf.py\u001b[0m in \u001b[0;36mevalf\u001b[0;34m(x, prec, options)\u001b[0m\n\u001b[1;32m   1480\u001b[0m     \u001b[0;32mtry\u001b[0m\u001b[0;34m:\u001b[0m\u001b[0;34m\u001b[0m\u001b[0;34m\u001b[0m\u001b[0m\n\u001b[1;32m   1481\u001b[0m         \u001b[0mrf\u001b[0m \u001b[0;34m=\u001b[0m \u001b[0mevalf_table\u001b[0m\u001b[0;34m[\u001b[0m\u001b[0mtype\u001b[0m\u001b[0;34m(\u001b[0m\u001b[0mx\u001b[0m\u001b[0;34m)\u001b[0m\u001b[0;34m]\u001b[0m\u001b[0;34m\u001b[0m\u001b[0;34m\u001b[0m\u001b[0m\n\u001b[0;32m-> 1482\u001b[0;31m         \u001b[0mr\u001b[0m \u001b[0;34m=\u001b[0m \u001b[0mrf\u001b[0m\u001b[0;34m(\u001b[0m\u001b[0mx\u001b[0m\u001b[0;34m,\u001b[0m \u001b[0mprec\u001b[0m\u001b[0;34m,\u001b[0m \u001b[0moptions\u001b[0m\u001b[0;34m)\u001b[0m\u001b[0;34m\u001b[0m\u001b[0;34m\u001b[0m\u001b[0m\n\u001b[0m\u001b[1;32m   1483\u001b[0m     \u001b[0;32mexcept\u001b[0m \u001b[0mKeyError\u001b[0m\u001b[0;34m:\u001b[0m\u001b[0;34m\u001b[0m\u001b[0;34m\u001b[0m\u001b[0m\n\u001b[1;32m   1484\u001b[0m         \u001b[0;31m# Fall back to ordinary evalf if possible\u001b[0m\u001b[0;34m\u001b[0m\u001b[0;34m\u001b[0m\u001b[0;34m\u001b[0m\u001b[0m\n",
      "\u001b[0;32m/usr/local/lib/python3.8/site-packages/sympy/core/evalf.py\u001b[0m in \u001b[0;36mevalf_mul\u001b[0;34m(v, prec, options)\u001b[0m\n\u001b[1;32m    694\u001b[0m         \u001b[0;32melif\u001b[0m \u001b[0mi\u001b[0m \u001b[0;34m==\u001b[0m \u001b[0mlast\u001b[0m \u001b[0;32mand\u001b[0m \u001b[0marg\u001b[0m \u001b[0;32mis\u001b[0m \u001b[0mS\u001b[0m\u001b[0;34m.\u001b[0m\u001b[0mOne\u001b[0m\u001b[0;34m:\u001b[0m\u001b[0;34m\u001b[0m\u001b[0;34m\u001b[0m\u001b[0m\n\u001b[1;32m    695\u001b[0m             \u001b[0;32mcontinue\u001b[0m\u001b[0;34m\u001b[0m\u001b[0;34m\u001b[0m\u001b[0m\n\u001b[0;32m--> 696\u001b[0;31m         \u001b[0mre\u001b[0m\u001b[0;34m,\u001b[0m \u001b[0mim\u001b[0m\u001b[0;34m,\u001b[0m \u001b[0mre_acc\u001b[0m\u001b[0;34m,\u001b[0m \u001b[0mim_acc\u001b[0m \u001b[0;34m=\u001b[0m \u001b[0mevalf\u001b[0m\u001b[0;34m(\u001b[0m\u001b[0marg\u001b[0m\u001b[0;34m,\u001b[0m \u001b[0mworking_prec\u001b[0m\u001b[0;34m,\u001b[0m \u001b[0moptions\u001b[0m\u001b[0;34m)\u001b[0m\u001b[0;34m\u001b[0m\u001b[0;34m\u001b[0m\u001b[0m\n\u001b[0m\u001b[1;32m    697\u001b[0m         \u001b[0;32mif\u001b[0m \u001b[0mre\u001b[0m \u001b[0;32mand\u001b[0m \u001b[0mim\u001b[0m\u001b[0;34m:\u001b[0m\u001b[0;34m\u001b[0m\u001b[0;34m\u001b[0m\u001b[0m\n\u001b[1;32m    698\u001b[0m             \u001b[0mcomplex_factors\u001b[0m\u001b[0;34m.\u001b[0m\u001b[0mappend\u001b[0m\u001b[0;34m(\u001b[0m\u001b[0;34m(\u001b[0m\u001b[0mre\u001b[0m\u001b[0;34m,\u001b[0m \u001b[0mim\u001b[0m\u001b[0;34m,\u001b[0m \u001b[0mre_acc\u001b[0m\u001b[0;34m,\u001b[0m \u001b[0mim_acc\u001b[0m\u001b[0;34m)\u001b[0m\u001b[0;34m)\u001b[0m\u001b[0;34m\u001b[0m\u001b[0;34m\u001b[0m\u001b[0m\n",
      "\u001b[0;32m/usr/local/lib/python3.8/site-packages/sympy/core/evalf.py\u001b[0m in \u001b[0;36mevalf\u001b[0;34m(x, prec, options)\u001b[0m\n\u001b[1;32m   1480\u001b[0m     \u001b[0;32mtry\u001b[0m\u001b[0;34m:\u001b[0m\u001b[0;34m\u001b[0m\u001b[0;34m\u001b[0m\u001b[0m\n\u001b[1;32m   1481\u001b[0m         \u001b[0mrf\u001b[0m \u001b[0;34m=\u001b[0m \u001b[0mevalf_table\u001b[0m\u001b[0;34m[\u001b[0m\u001b[0mtype\u001b[0m\u001b[0;34m(\u001b[0m\u001b[0mx\u001b[0m\u001b[0;34m)\u001b[0m\u001b[0;34m]\u001b[0m\u001b[0;34m\u001b[0m\u001b[0;34m\u001b[0m\u001b[0m\n\u001b[0;32m-> 1482\u001b[0;31m         \u001b[0mr\u001b[0m \u001b[0;34m=\u001b[0m \u001b[0mrf\u001b[0m\u001b[0;34m(\u001b[0m\u001b[0mx\u001b[0m\u001b[0;34m,\u001b[0m \u001b[0mprec\u001b[0m\u001b[0;34m,\u001b[0m \u001b[0moptions\u001b[0m\u001b[0;34m)\u001b[0m\u001b[0;34m\u001b[0m\u001b[0;34m\u001b[0m\u001b[0m\n\u001b[0m\u001b[1;32m   1483\u001b[0m     \u001b[0;32mexcept\u001b[0m \u001b[0mKeyError\u001b[0m\u001b[0;34m:\u001b[0m\u001b[0;34m\u001b[0m\u001b[0;34m\u001b[0m\u001b[0m\n\u001b[1;32m   1484\u001b[0m         \u001b[0;31m# Fall back to ordinary evalf if possible\u001b[0m\u001b[0;34m\u001b[0m\u001b[0;34m\u001b[0m\u001b[0;34m\u001b[0m\u001b[0m\n",
      "\u001b[0;32m/usr/local/lib/python3.8/site-packages/sympy/core/evalf.py\u001b[0m in \u001b[0;36mevalf_pow\u001b[0;34m(v, prec, options)\u001b[0m\n\u001b[1;32m    826\u001b[0m             \u001b[0;32mreturn\u001b[0m \u001b[0;32mNone\u001b[0m\u001b[0;34m,\u001b[0m \u001b[0mmpf_sqrt\u001b[0m\u001b[0;34m(\u001b[0m\u001b[0mmpf_neg\u001b[0m\u001b[0;34m(\u001b[0m\u001b[0mxre\u001b[0m\u001b[0;34m)\u001b[0m\u001b[0;34m,\u001b[0m \u001b[0mprec\u001b[0m\u001b[0;34m)\u001b[0m\u001b[0;34m,\u001b[0m \u001b[0;32mNone\u001b[0m\u001b[0;34m,\u001b[0m \u001b[0mprec\u001b[0m\u001b[0;34m\u001b[0m\u001b[0;34m\u001b[0m\u001b[0m\n\u001b[1;32m    827\u001b[0m         \u001b[0;31m# Positive square root\u001b[0m\u001b[0;34m\u001b[0m\u001b[0;34m\u001b[0m\u001b[0;34m\u001b[0m\u001b[0m\n\u001b[0;32m--> 828\u001b[0;31m         \u001b[0;32mreturn\u001b[0m \u001b[0mmpf_sqrt\u001b[0m\u001b[0;34m(\u001b[0m\u001b[0mxre\u001b[0m\u001b[0;34m,\u001b[0m \u001b[0mprec\u001b[0m\u001b[0;34m)\u001b[0m\u001b[0;34m,\u001b[0m \u001b[0;32mNone\u001b[0m\u001b[0;34m,\u001b[0m \u001b[0mprec\u001b[0m\u001b[0;34m,\u001b[0m \u001b[0;32mNone\u001b[0m\u001b[0;34m\u001b[0m\u001b[0;34m\u001b[0m\u001b[0m\n\u001b[0m\u001b[1;32m    829\u001b[0m \u001b[0;34m\u001b[0m\u001b[0m\n\u001b[1;32m    830\u001b[0m     \u001b[0;31m# We first evaluate the exponent to find its magnitude\u001b[0m\u001b[0;34m\u001b[0m\u001b[0;34m\u001b[0m\u001b[0;34m\u001b[0m\u001b[0m\n",
      "\u001b[0;32m/usr/local/lib/python3.8/site-packages/mpmath/libmp/libmpf.py\u001b[0m in \u001b[0;36mmpf_sqrt\u001b[0;34m(s, prec, rnd)\u001b[0m\n\u001b[1;32m   1385\u001b[0m     \u001b[0mshift\u001b[0m \u001b[0;34m+=\u001b[0m \u001b[0mshift\u001b[0m \u001b[0;34m&\u001b[0m \u001b[0;36m1\u001b[0m\u001b[0;34m\u001b[0m\u001b[0;34m\u001b[0m\u001b[0m\n\u001b[1;32m   1386\u001b[0m     \u001b[0;32mif\u001b[0m \u001b[0mrnd\u001b[0m \u001b[0;32min\u001b[0m \u001b[0;34m'fd'\u001b[0m\u001b[0;34m:\u001b[0m\u001b[0;34m\u001b[0m\u001b[0;34m\u001b[0m\u001b[0m\n\u001b[0;32m-> 1387\u001b[0;31m         \u001b[0mman\u001b[0m \u001b[0;34m=\u001b[0m \u001b[0misqrt\u001b[0m\u001b[0;34m(\u001b[0m\u001b[0mman\u001b[0m\u001b[0;34m<<\u001b[0m\u001b[0mshift\u001b[0m\u001b[0;34m)\u001b[0m\u001b[0;34m\u001b[0m\u001b[0;34m\u001b[0m\u001b[0m\n\u001b[0m\u001b[1;32m   1388\u001b[0m     \u001b[0;32melse\u001b[0m\u001b[0;34m:\u001b[0m\u001b[0;34m\u001b[0m\u001b[0;34m\u001b[0m\u001b[0m\n\u001b[1;32m   1389\u001b[0m         \u001b[0mman\u001b[0m\u001b[0;34m,\u001b[0m \u001b[0mrem\u001b[0m \u001b[0;34m=\u001b[0m \u001b[0msqrtrem\u001b[0m\u001b[0;34m(\u001b[0m\u001b[0mman\u001b[0m\u001b[0;34m<<\u001b[0m\u001b[0mshift\u001b[0m\u001b[0;34m)\u001b[0m\u001b[0;34m\u001b[0m\u001b[0;34m\u001b[0m\u001b[0m\n",
      "\u001b[0;32m/usr/local/lib/python3.8/site-packages/mpmath/libmp/libintmath.py\u001b[0m in \u001b[0;36misqrt_python\u001b[0;34m(x)\u001b[0m\n\u001b[1;32m    299\u001b[0m \u001b[0;32mdef\u001b[0m \u001b[0misqrt_python\u001b[0m\u001b[0;34m(\u001b[0m\u001b[0mx\u001b[0m\u001b[0;34m)\u001b[0m\u001b[0;34m:\u001b[0m\u001b[0;34m\u001b[0m\u001b[0;34m\u001b[0m\u001b[0m\n\u001b[1;32m    300\u001b[0m     \u001b[0;34m\"\"\"Integer square root with correct (floor) rounding.\"\"\"\u001b[0m\u001b[0;34m\u001b[0m\u001b[0;34m\u001b[0m\u001b[0m\n\u001b[0;32m--> 301\u001b[0;31m     \u001b[0;32mreturn\u001b[0m \u001b[0msqrtrem_python\u001b[0m\u001b[0;34m(\u001b[0m\u001b[0mx\u001b[0m\u001b[0;34m)\u001b[0m\u001b[0;34m[\u001b[0m\u001b[0;36m0\u001b[0m\u001b[0;34m]\u001b[0m\u001b[0;34m\u001b[0m\u001b[0;34m\u001b[0m\u001b[0m\n\u001b[0m\u001b[1;32m    302\u001b[0m \u001b[0;34m\u001b[0m\u001b[0m\n\u001b[1;32m    303\u001b[0m \u001b[0;32mdef\u001b[0m \u001b[0msqrt_fixed\u001b[0m\u001b[0;34m(\u001b[0m\u001b[0mx\u001b[0m\u001b[0;34m,\u001b[0m \u001b[0mprec\u001b[0m\u001b[0;34m)\u001b[0m\u001b[0;34m:\u001b[0m\u001b[0;34m\u001b[0m\u001b[0;34m\u001b[0m\u001b[0m\n",
      "\u001b[0;32m/usr/local/lib/python3.8/site-packages/mpmath/libmp/libintmath.py\u001b[0m in \u001b[0;36msqrtrem_python\u001b[0;34m(x)\u001b[0m\n\u001b[1;32m    282\u001b[0m     \u001b[0;31m# plot(lambda x: timing(isqrt, 2**int(x)), [0,2000])\u001b[0m\u001b[0;34m\u001b[0m\u001b[0;34m\u001b[0m\u001b[0;34m\u001b[0m\u001b[0m\n\u001b[1;32m    283\u001b[0m     \u001b[0;32mif\u001b[0m \u001b[0mx\u001b[0m \u001b[0;34m<\u001b[0m \u001b[0m_1_600\u001b[0m\u001b[0;34m:\u001b[0m\u001b[0;34m\u001b[0m\u001b[0;34m\u001b[0m\u001b[0m\n\u001b[0;32m--> 284\u001b[0;31m         \u001b[0my\u001b[0m \u001b[0;34m=\u001b[0m \u001b[0misqrt_small_python\u001b[0m\u001b[0;34m(\u001b[0m\u001b[0mx\u001b[0m\u001b[0;34m)\u001b[0m\u001b[0;34m\u001b[0m\u001b[0;34m\u001b[0m\u001b[0m\n\u001b[0m\u001b[1;32m    285\u001b[0m         \u001b[0;32mreturn\u001b[0m \u001b[0my\u001b[0m\u001b[0;34m,\u001b[0m \u001b[0mx\u001b[0m \u001b[0;34m-\u001b[0m \u001b[0my\u001b[0m\u001b[0;34m*\u001b[0m\u001b[0my\u001b[0m\u001b[0;34m\u001b[0m\u001b[0;34m\u001b[0m\u001b[0m\n\u001b[1;32m    286\u001b[0m     \u001b[0my\u001b[0m \u001b[0;34m=\u001b[0m \u001b[0misqrt_fast_python\u001b[0m\u001b[0;34m(\u001b[0m\u001b[0mx\u001b[0m\u001b[0;34m)\u001b[0m \u001b[0;34m+\u001b[0m \u001b[0;36m1\u001b[0m\u001b[0;34m\u001b[0m\u001b[0;34m\u001b[0m\u001b[0m\n",
      "\u001b[0;32m/usr/local/lib/python3.8/site-packages/mpmath/libmp/libintmath.py\u001b[0m in \u001b[0;36misqrt_small_python\u001b[0;34m(x)\u001b[0m\n\u001b[1;32m    215\u001b[0m             \u001b[0;32mreturn\u001b[0m \u001b[0mint\u001b[0m\u001b[0;34m(\u001b[0m\u001b[0mx\u001b[0m\u001b[0;34m**\u001b[0m\u001b[0;36m0.5\u001b[0m\u001b[0;34m)\u001b[0m\u001b[0;34m\u001b[0m\u001b[0;34m\u001b[0m\u001b[0m\n\u001b[1;32m    216\u001b[0m         \u001b[0;31m# Initial estimate can be any integer >= the true root; round up\u001b[0m\u001b[0;34m\u001b[0m\u001b[0;34m\u001b[0m\u001b[0;34m\u001b[0m\u001b[0m\n\u001b[0;32m--> 217\u001b[0;31m         \u001b[0mr\u001b[0m \u001b[0;34m=\u001b[0m \u001b[0mint\u001b[0m\u001b[0;34m(\u001b[0m\u001b[0mx\u001b[0m\u001b[0;34m**\u001b[0m\u001b[0;36m0.5\u001b[0m \u001b[0;34m*\u001b[0m \u001b[0;36m1.00000000000001\u001b[0m\u001b[0;34m)\u001b[0m \u001b[0;34m+\u001b[0m \u001b[0;36m1\u001b[0m\u001b[0;34m\u001b[0m\u001b[0;34m\u001b[0m\u001b[0m\n\u001b[0m\u001b[1;32m    218\u001b[0m     \u001b[0;32melse\u001b[0m\u001b[0;34m:\u001b[0m\u001b[0;34m\u001b[0m\u001b[0;34m\u001b[0m\u001b[0m\n\u001b[1;32m    219\u001b[0m         \u001b[0mbc\u001b[0m \u001b[0;34m=\u001b[0m \u001b[0mbitcount\u001b[0m\u001b[0;34m(\u001b[0m\u001b[0mx\u001b[0m\u001b[0;34m)\u001b[0m\u001b[0;34m\u001b[0m\u001b[0;34m\u001b[0m\u001b[0m\n",
      "\u001b[0;31mKeyboardInterrupt\u001b[0m: "
     ]
    }
   ],
   "source": [
    "# true values\n",
    "v1, v2 = 4, 2\n",
    "\n",
    "# init conditions\n",
    "curr1, curr2 = 1, 1\n",
    "a = 4\n",
    "\n",
    "# symbols\n",
    "c1 = sp.Symbol('c1', positive=True)\n",
    "c2 = sp.Symbol('c2', positive=True)\n",
    "\n",
    "p1Bids24, p2Bids24 = [curr1], [curr2]\n",
    "turn = 0\n",
    "for turn in tqdm(range(200)):\n",
    "    if turn % 2 == 0:\n",
    "        x1 = 1/(c1**a) / (1/(c1**a) + 1/(c2**a))\n",
    "        u1 = (c1-v1)*x1\n",
    "        partial = sp.diff(u1, c1)\n",
    "        best = sp.Eq(partial, 0).evalf(subs={c2:curr2})\n",
    "        sol = sp.solve(best)[0]\n",
    "        curr1 = sol\n",
    "        p1Bids24.append(curr1)\n",
    "    else:\n",
    "        x2 = 1/(c2**a) / (1/(c1**a) + 1/(c2**a))\n",
    "        u2 = (c2-v2)*x2\n",
    "        partial = sp.diff(u2, c2)\n",
    "        best = sp.Eq(partial, 0).evalf(subs={c1:curr1})\n",
    "        sol = sp.solve(best)[0]\n",
    "        curr2 = sol\n",
    "        p2Bids24.append(curr2)"
   ]
  },
  {
   "cell_type": "code",
   "execution_count": 213,
   "metadata": {},
   "outputs": [
    {
     "data": {
      "text/plain": [
       "(9.66287914802542, 8.81093289882157)"
      ]
     },
     "execution_count": 213,
     "metadata": {},
     "output_type": "execute_result"
    }
   ],
   "source": [
    "p1Bids24[-1], p2Bids24[-1]"
   ]
  },
  {
   "cell_type": "code",
   "execution_count": 214,
   "metadata": {},
   "outputs": [
    {
     "data": {
      "text/plain": [
       "0.43121517662414144"
      ]
     },
     "execution_count": 214,
     "metadata": {},
     "output_type": "execute_result"
    }
   ],
   "source": [
    "1/(9.66287914802542**3) / (1/(9.66287914802542**3)+1/(8.81093289882157**3))"
   ]
  },
  {
   "cell_type": "code",
   "execution_count": 216,
   "metadata": {},
   "outputs": [
    {
     "data": {
      "text/plain": [
       "0.5687848233758587"
      ]
     },
     "execution_count": 216,
     "metadata": {},
     "output_type": "execute_result"
    }
   ],
   "source": [
    "1/(8.81093289882157**3) / (1/(9.66287914802542**3)+1/(8.81093289882157**3))"
   ]
  },
  {
   "cell_type": "code",
   "execution_count": null,
   "metadata": {},
   "outputs": [],
   "source": []
  },
  {
   "cell_type": "code",
   "execution_count": null,
   "metadata": {},
   "outputs": [],
   "source": []
  },
  {
   "cell_type": "code",
   "execution_count": 154,
   "metadata": {},
   "outputs": [
    {
     "data": {
      "text/latex": [
       "$\\displaystyle \\frac{c_{i} - v_{i}}{c_{i}^{3} \\left(o + \\frac{1}{c_{i}^{3}}\\right)}$"
      ],
      "text/plain": [
       "(c_i - v_i)/(c_i**3*(o + c_i**(-3)))"
      ]
     },
     "execution_count": 154,
     "metadata": {},
     "output_type": "execute_result"
    }
   ],
   "source": [
    "# derive normal way\n",
    "ci, vi, o= sp.symbols('c_i v_i o')\n",
    "\n",
    "q = (ci-vi)*(1/ci**3) / (1/ci**3 + o)\n",
    "q"
   ]
  },
  {
   "cell_type": "code",
   "execution_count": 158,
   "metadata": {},
   "outputs": [
    {
     "name": "stdout",
     "output_type": "stream",
     "text": [
      "\\frac{1}{c_{i}^{3} \\left(o + \\frac{1}{c_{i}^{3}}\\right)} - \\frac{3 \\left(c_{i} - v_{i}\\right)}{c_{i}^{4} \\left(o + \\frac{1}{c_{i}^{3}}\\right)} + \\frac{3 \\left(c_{i} - v_{i}\\right)}{c_{i}^{7} \\left(o + \\frac{1}{c_{i}^{3}}\\right)^{2}}\n"
     ]
    },
    {
     "data": {
      "text/latex": [
       "$\\displaystyle \\frac{1}{c_{i}^{3} \\left(o + \\frac{1}{c_{i}^{3}}\\right)} - \\frac{3 \\left(c_{i} - v_{i}\\right)}{c_{i}^{4} \\left(o + \\frac{1}{c_{i}^{3}}\\right)} + \\frac{3 \\left(c_{i} - v_{i}\\right)}{c_{i}^{7} \\left(o + \\frac{1}{c_{i}^{3}}\\right)^{2}}$"
      ],
      "text/plain": [
       "1/(c_i**3*(o + c_i**(-3))) - 3*(c_i - v_i)/(c_i**4*(o + c_i**(-3))) + 3*(c_i - v_i)/(c_i**7*(o + c_i**(-3))**2)"
      ]
     },
     "execution_count": 158,
     "metadata": {},
     "output_type": "execute_result"
    }
   ],
   "source": [
    "print_latex(sp.diff(q, ci))\n",
    "sp.diff(q, ci)"
   ]
  },
  {
   "cell_type": "code",
   "execution_count": null,
   "metadata": {},
   "outputs": [],
   "source": [
    "t1 = -vi*xi*a * (xi**(1-1/a) - xi**(2-1/a))\n",
    "t2 = sp.integrate(vi*y*((a-1)*y**(-1/a)-(2*a-1)*y**(1-1/a)), (y, 0, xi))\n",
    "uhat = t1 - t2"
   ]
  },
  {
   "cell_type": "code",
   "execution_count": null,
   "metadata": {},
   "outputs": [],
   "source": []
  },
  {
   "cell_type": "markdown",
   "metadata": {},
   "source": [
    "# procurements "
   ]
  },
  {
   "cell_type": "code",
   "execution_count": 290,
   "metadata": {},
   "outputs": [
    {
     "data": {
      "text/latex": [
       "$\\displaystyle \\frac{a y^{\\frac{1}{a}} \\left(1 - y\\right)}{- a y + a - 1}$"
      ],
      "text/plain": [
       "a*y**(1/a)*(1 - y)/(-a*y + a - 1)"
      ]
     },
     "execution_count": 290,
     "metadata": {},
     "output_type": "execute_result"
    }
   ],
   "source": [
    "# derive normal way\n",
    "a, xi = sp.symbols('a x_i')\n",
    "y     = sp.symbols('y')\n",
    "\n",
    "expr = a*y**(1/a)*(1-y) / (a-a*y-1)\n",
    "expr"
   ]
  },
  {
   "cell_type": "code",
   "execution_count": 291,
   "metadata": {},
   "outputs": [
    {
     "name": "stdout",
     "output_type": "stream",
     "text": [
      "\\frac{a^{2} y^{\\frac{1}{a}} \\left(1 - y\\right)}{\\left(- a y + a - 1\\right)^{2}} - \\frac{a y^{\\frac{1}{a}}}{- a y + a - 1} + \\frac{y^{\\frac{1}{a}} \\left(1 - y\\right)}{y \\left(- a y + a - 1\\right)}\n"
     ]
    },
    {
     "data": {
      "text/latex": [
       "$\\displaystyle \\frac{a^{2} y^{\\frac{a + 1}{a}} \\left(1 - y\\right) + a y^{\\frac{a + 1}{a}} \\left(a y - a + 1\\right) + y^{\\frac{1}{a}} \\left(y - 1\\right) \\left(a y - a + 1\\right)}{y \\left(a y - a + 1\\right)^{2}}$"
      ],
      "text/plain": [
       "(a**2*y**((a + 1)/a)*(1 - y) + a*y**((a + 1)/a)*(a*y - a + 1) + y**(1/a)*(y - 1)*(a*y - a + 1))/(y*(a*y - a + 1)**2)"
      ]
     },
     "execution_count": 291,
     "metadata": {},
     "output_type": "execute_result"
    }
   ],
   "source": [
    "print_latex(sp.diff(expr, y))\n",
    "integrand = sp.diff(expr, y)\n",
    "integrand\n",
    "sp.simplify(integrand)"
   ]
  },
  {
   "cell_type": "code",
   "execution_count": 292,
   "metadata": {},
   "outputs": [
    {
     "data": {
      "text/latex": [
       "$\\displaystyle - v_{i} \\left(\\int\\limits_{0}^{x_{i}} \\left(- \\frac{y^{\\frac{1}{a}}}{a^{2} y^{2} - 2 a^{2} y + a^{2} + 2 a y - 2 a + 1}\\right)\\, dy + \\int\\limits_{0}^{x_{i}} \\frac{a y^{\\frac{1}{a}}}{a^{2} y^{2} - 2 a^{2} y + a^{2} + 2 a y - 2 a + 1}\\, dy + \\int\\limits_{0}^{x_{i}} \\frac{a y^{1 + \\frac{1}{a}}}{a^{2} y^{2} - 2 a^{2} y + a^{2} + 2 a y - 2 a + 1}\\, dy + \\int\\limits_{0}^{x_{i}} \\frac{y y^{\\frac{1}{a}}}{a^{2} y^{2} - 2 a^{2} y + a^{2} + 2 a y - 2 a + 1}\\, dy + \\int\\limits_{0}^{x_{i}} \\left(- \\frac{2 a y y^{\\frac{1}{a}}}{a^{2} y^{2} - 2 a^{2} y + a^{2} + 2 a y - 2 a + 1}\\right)\\, dy + \\int\\limits_{0}^{x_{i}} \\frac{a y^{2} y^{\\frac{1}{a}}}{a^{2} y^{2} - 2 a^{2} y + a^{2} + 2 a y - 2 a + 1}\\, dy\\right)$"
      ],
      "text/plain": [
       "-v_i*(Integral(-y**(1/a)/(a**2*y**2 - 2*a**2*y + a**2 + 2*a*y - 2*a + 1), (y, 0, x_i)) + Integral(a*y**(1/a)/(a**2*y**2 - 2*a**2*y + a**2 + 2*a*y - 2*a + 1), (y, 0, x_i)) + Integral(a*y**(1 + 1/a)/(a**2*y**2 - 2*a**2*y + a**2 + 2*a*y - 2*a + 1), (y, 0, x_i)) + Integral(y*y**(1/a)/(a**2*y**2 - 2*a**2*y + a**2 + 2*a*y - 2*a + 1), (y, 0, x_i)) + Integral(-2*a*y*y**(1/a)/(a**2*y**2 - 2*a**2*y + a**2 + 2*a*y - 2*a + 1), (y, 0, x_i)) + Integral(a*y**2*y**(1/a)/(a**2*y**2 - 2*a**2*y + a**2 + 2*a*y - 2*a + 1), (y, 0, x_i)))"
      ]
     },
     "execution_count": 292,
     "metadata": {},
     "output_type": "execute_result"
    }
   ],
   "source": [
    "t1 = -vi*xi*a*(xi**(1/a) *(1-xi)) / (a-a*xi-1)\n",
    "t2 = sp.integrate(-vi*y*(sp.simplify(integrand)), (y, 0, xi))\n",
    "t2"
   ]
  },
  {
   "cell_type": "code",
   "execution_count": 294,
   "metadata": {},
   "outputs": [
    {
     "data": {
      "text/latex": [
       "$\\displaystyle - \\frac{a v_{i} x_{i} x_{i}^{\\frac{1}{a}} \\left(1 - x_{i}\\right)}{- a x_{i} + a - 1} + v_{i} \\left(\\int\\limits_{0}^{x_{i}} \\left(- \\frac{y^{\\frac{1}{a}}}{a^{2} y^{2} - 2 a^{2} y + a^{2} + 2 a y - 2 a + 1}\\right)\\, dy + \\int\\limits_{0}^{x_{i}} \\frac{a y^{\\frac{1}{a}}}{a^{2} y^{2} - 2 a^{2} y + a^{2} + 2 a y - 2 a + 1}\\, dy + \\int\\limits_{0}^{x_{i}} \\frac{a y^{1 + \\frac{1}{a}}}{a^{2} y^{2} - 2 a^{2} y + a^{2} + 2 a y - 2 a + 1}\\, dy + \\int\\limits_{0}^{x_{i}} \\frac{y y^{\\frac{1}{a}}}{a^{2} y^{2} - 2 a^{2} y + a^{2} + 2 a y - 2 a + 1}\\, dy + \\int\\limits_{0}^{x_{i}} \\left(- \\frac{2 a y y^{\\frac{1}{a}}}{a^{2} y^{2} - 2 a^{2} y + a^{2} + 2 a y - 2 a + 1}\\right)\\, dy + \\int\\limits_{0}^{x_{i}} \\frac{a y^{2} y^{\\frac{1}{a}}}{a^{2} y^{2} - 2 a^{2} y + a^{2} + 2 a y - 2 a + 1}\\, dy\\right)$"
      ],
      "text/plain": [
       "-a*v_i*x_i*x_i**(1/a)*(1 - x_i)/(-a*x_i + a - 1) + v_i*(Integral(-y**(1/a)/(a**2*y**2 - 2*a**2*y + a**2 + 2*a*y - 2*a + 1), (y, 0, x_i)) + Integral(a*y**(1/a)/(a**2*y**2 - 2*a**2*y + a**2 + 2*a*y - 2*a + 1), (y, 0, x_i)) + Integral(a*y**(1 + 1/a)/(a**2*y**2 - 2*a**2*y + a**2 + 2*a*y - 2*a + 1), (y, 0, x_i)) + Integral(y*y**(1/a)/(a**2*y**2 - 2*a**2*y + a**2 + 2*a*y - 2*a + 1), (y, 0, x_i)) + Integral(-2*a*y*y**(1/a)/(a**2*y**2 - 2*a**2*y + a**2 + 2*a*y - 2*a + 1), (y, 0, x_i)) + Integral(a*y**2*y**(1/a)/(a**2*y**2 - 2*a**2*y + a**2 + 2*a*y - 2*a + 1), (y, 0, x_i)))"
      ]
     },
     "execution_count": 294,
     "metadata": {},
     "output_type": "execute_result"
    }
   ],
   "source": [
    "uhat = t1 - t2\n",
    "uhat"
   ]
  },
  {
   "cell_type": "code",
   "execution_count": 305,
   "metadata": {},
   "outputs": [
    {
     "data": {
      "text/latex": [
       "$\\displaystyle \\frac{v_{i} \\left(- 2.999999999 x_{i}^{1.33333333344444} \\left(x_{i} - 1.0\\right) + \\left(2.999999999 x_{i} - 1.999999999\\right) \\left(0.166666666722222 \\int\\limits_{0}^{x_{i}} \\frac{y^{0.333333333444444}}{0.750000000125 y^{2} - 1.0 y + 0.333333333277778}\\, dy - 0.166666666722222 \\int\\limits_{0}^{x_{i}} \\frac{y^{1.33333333344444}}{0.750000000125 y^{2} - 1.0 y + 0.333333333277778}\\, dy + 0.250000000125 \\int\\limits_{0}^{x_{i}} \\frac{y^{2.33333333344444}}{0.750000000125 y^{2} - 1.0 y + 0.333333333277778}\\, dy\\right)\\right)}{2.999999999 x_{i} - 1.999999999}$"
      ],
      "text/plain": [
       "v_i*(-2.999999999*x_i**1.33333333344444*(x_i - 1.0) + (2.999999999*x_i - 1.999999999)*(0.166666666722222*Integral(y**0.333333333444444/(0.750000000125*y**2 - 1.0*y + 0.333333333277778), (y, 0, x_i)) - 0.166666666722222*Integral(y**1.33333333344444/(0.750000000125*y**2 - 1.0*y + 0.333333333277778), (y, 0, x_i)) + 0.250000000125*Integral(y**2.33333333344444/(0.750000000125*y**2 - 1.0*y + 0.333333333277778), (y, 0, x_i))))/(2.999999999*x_i - 1.999999999)"
      ]
     },
     "execution_count": 305,
     "metadata": {},
     "output_type": "execute_result"
    }
   ],
   "source": [
    "sp.simplify(uhat.evalf(subs={a:2.999999999}))"
   ]
  },
  {
   "cell_type": "code",
   "execution_count": 344,
   "metadata": {},
   "outputs": [
    {
     "data": {
      "text/latex": [
       "$\\displaystyle - \\frac{6.0 x_{i}^{1.33333333333333} \\cdot \\left(1.0 - x_{i}\\right)}{2.0 - 3.0 x_{i}} + 2.0 \\int\\limits_{0}^{x_{i}} \\left(- \\frac{y^{0.333333333333333}}{9.0 y^{2} - 12.0 y + 4.0}\\right)\\, dy + 2.0 \\int\\limits_{0}^{x_{i}} \\frac{3.0 y^{0.333333333333333}}{9.0 y^{2} - 12.0 y + 4.0}\\, dy + 2.0 \\int\\limits_{0}^{x_{i}} \\left(- \\frac{6.0 y^{1.33333333333333}}{9.0 y^{2} - 12.0 y + 4.0}\\right)\\, dy + 2.0 \\int\\limits_{0}^{x_{i}} \\frac{y^{1.33333333333333}}{9.0 y^{2} - 12.0 y + 4.0}\\, dy + 2.0 \\int\\limits_{0}^{x_{i}} \\frac{3.0 y^{1.33333333333333}}{9.0 y^{2} - 12.0 y + 4.0}\\, dy + 2.0 \\int\\limits_{0}^{x_{i}} \\frac{3.0 y^{2.33333333333333}}{9.0 y^{2} - 12.0 y + 4.0}\\, dy$"
      ],
      "text/plain": [
       "-6.0*x_i**1.33333333333333*(1.0 - x_i)/(2.0 - 3.0*x_i) + 2.0*Integral(-y**0.333333333333333/(9.0*y**2 - 12.0*y + 4.0), (y, 0, x_i)) + 2.0*Integral(3.0*y**0.333333333333333/(9.0*y**2 - 12.0*y + 4.0), (y, 0, x_i)) + 2.0*Integral(-6.0*y**1.33333333333333/(9.0*y**2 - 12.0*y + 4.0), (y, 0, x_i)) + 2.0*Integral(y**1.33333333333333/(9.0*y**2 - 12.0*y + 4.0), (y, 0, x_i)) + 2.0*Integral(3.0*y**1.33333333333333/(9.0*y**2 - 12.0*y + 4.0), (y, 0, x_i)) + 2.0*Integral(3.0*y**2.33333333333333/(9.0*y**2 - 12.0*y + 4.0), (y, 0, x_i))"
      ]
     },
     "execution_count": 344,
     "metadata": {},
     "output_type": "execute_result"
    }
   ],
   "source": [
    "# two player, v1=4, v2=2, a=3\n",
    "uhat1 = uhat.evalf(subs={a:2.9999999999999999, vi:4})\n",
    "uhat2 = uhat.evalf(subs={a:2.9999999999999999, vi:2})\n",
    "uhat2"
   ]
  },
  {
   "cell_type": "code",
   "execution_count": 345,
   "metadata": {},
   "outputs": [
    {
     "data": {
      "text/latex": [
       "$\\displaystyle -3.41183194590359$"
      ],
      "text/plain": [
       "-3.41183194590359"
      ]
     },
     "execution_count": 345,
     "metadata": {},
     "output_type": "execute_result"
    }
   ],
   "source": [
    "testX = 0.43\n",
    "sumhats = uhat1.evalf(subs={xi:testX}) + uhat2.evalf(subs={xi:1-testX})\n",
    "sumhats"
   ]
  },
  {
   "cell_type": "code",
   "execution_count": 351,
   "metadata": {},
   "outputs": [
    {
     "name": "stderr",
     "output_type": "stream",
     "text": [
      "100%|██████████| 21/21 [01:09<00:00,  3.30s/it]\n"
     ]
    }
   ],
   "source": [
    "res = []\n",
    "candidates = np.arange(0.43, 0.432, 0.0001)\n",
    "for testX in tqdm(candidates):\n",
    "    res.append(uhat1.evalf(subs={xi:testX}) + uhat2.evalf(subs={xi:1-testX}))\n",
    "res = np.array(res)"
   ]
  },
  {
   "cell_type": "code",
   "execution_count": 347,
   "metadata": {},
   "outputs": [
    {
     "data": {
      "text/plain": [
       "(array([-3.46106416126206, -3.46036919871258, -3.45968026498791,\n",
       "        -3.45899733001306, -3.45832036399166, -3.45764933740268,\n",
       "        -3.45698422099724, -3.45632498579546, -3.45567160308326,\n",
       "        -3.45502404440938, -3.45438228158225, -3.45374628666709,\n",
       "        -3.45311603198292, -3.45249149009965, -3.45187263383525,\n",
       "        -3.45125943625290, -3.45065187065825, -3.45004991059663,\n",
       "        -3.44945352985042, -3.44886270243631, -3.44827740260275,\n",
       "        -3.44769760482730, -3.44712328381414, -3.44655441449151,\n",
       "        -3.44599097200926, -3.44543293173641, -3.44488026925869,\n",
       "        -3.44433296037625, -3.44379098110124, -3.44325430765555,\n",
       "        -3.44272291646850, -3.44219678417463, -3.44167588761143,\n",
       "        -3.44116020381720, -3.44064971002891, -3.44014438368000,\n",
       "        -3.43964420239837, -3.43914914400424, -3.43865918650815,\n",
       "        -3.43817430810896, -3.43769448719181, -3.43721970232622,\n",
       "        -3.43674993226411, -3.43628515593793, -3.43582535245875,\n",
       "        -3.43537050111444, -3.43492058136779, -3.43447557285473,\n",
       "        -3.43403545538257, -3.43360020892817, -3.43316981363629,\n",
       "        -3.43274424981780, -3.43232349794805, -3.43190753866515,\n",
       "        -3.43149635276835, -3.43108992121640, -3.43068822512597,\n",
       "        -3.43029124577002, -3.42989896457628, -3.42951136312568,\n",
       "        -3.42912842315083, -3.42875012653453, -3.42837645530825,\n",
       "        -3.42800739165072, -3.42764291788641, -3.42728301648415,\n",
       "        -3.42692767005571, -3.42657686135440, -3.42623057327368,\n",
       "        -3.42588878884582, -3.42555149124057, -3.42521866376380,\n",
       "        -3.42489028985620, -3.42456635309201, -3.42424683717773,\n",
       "        -3.42393172595083, -3.42362100337857, -3.42331465355670,\n",
       "        -3.42301266070829, -3.42271500918252, -3.42242168345349,\n",
       "        -3.42213266811903, -3.42184794789959, -3.42156750763706,\n",
       "        -3.42129133229366, -3.42101940695079, -3.42075171680799,\n",
       "        -3.42048824718180, -3.42022898350471, -3.41997391132406,\n",
       "        -3.41972301630106, -3.41947628420970, -3.41923370093572,\n",
       "        -3.41899525247562, -3.41876092493569, -3.41853070453093,\n",
       "        -3.41830457758416, -3.41808253052503, -3.41786454988904,\n",
       "        -3.41765062231662], dtype=object),\n",
       " 0.41979999999999784)"
      ]
     },
     "execution_count": 347,
     "metadata": {},
     "output_type": "execute_result"
    }
   ],
   "source": [
    "res, candidates[np.argmax(res)]"
   ]
  },
  {
   "cell_type": "code",
   "execution_count": 349,
   "metadata": {},
   "outputs": [
    {
     "data": {
      "text/plain": [
       "[<matplotlib.lines.Line2D at 0x134ac0eb0>]"
      ]
     },
     "execution_count": 349,
     "metadata": {},
     "output_type": "execute_result"
    },
    {
     "data": {
      "image/png": "[encoded data removed]",
      "text/plain": [
       "<Figure size 432x288 with 1 Axes>"
      ]
     },
     "metadata": {
      "needs_background": "light"
     },
     "output_type": "display_data"
    }
   ],
   "source": [
    "plt.plot(candidates, res)"
   ]
  },
  {
   "cell_type": "code",
   "execution_count": 269,
   "metadata": {},
   "outputs": [
    {
     "data": {
      "text/latex": [
       "$\\displaystyle \\frac{a y^{\\frac{1}{a}} \\left(1 - y\\right)}{- a y + a - 1}$"
      ],
      "text/plain": [
       "a*y**(1/a)*(1 - y)/(-a*y + a - 1)"
      ]
     },
     "execution_count": 269,
     "metadata": {},
     "output_type": "execute_result"
    }
   ],
   "source": [
    "# derive normal way\n",
    "a, xi = sp.symbols('a x_i')\n",
    "y     = sp.symbols('y')\n",
    "\n",
    "expr = a*y**(1/a)*(1-y) / (a-a*y-1)\n",
    "expr"
   ]
  },
  {
   "cell_type": "code",
   "execution_count": 270,
   "metadata": {},
   "outputs": [
    {
     "name": "stdout",
     "output_type": "stream",
     "text": [
      "\\frac{a^{2} y^{\\frac{1}{a}} \\left(1 - y\\right)}{\\left(- a y + a - 1\\right)^{2}} - \\frac{a y^{\\frac{1}{a}}}{- a y + a - 1} + \\frac{y^{\\frac{1}{a}} \\left(1 - y\\right)}{y \\left(- a y + a - 1\\right)}\n"
     ]
    },
    {
     "data": {
      "text/latex": [
       "$\\displaystyle \\frac{a^{2} y^{\\frac{a + 1}{a}} \\left(1 - y\\right) + a y^{\\frac{a + 1}{a}} \\left(a y - a + 1\\right) + y^{\\frac{1}{a}} \\left(y - 1\\right) \\left(a y - a + 1\\right)}{y \\left(a y - a + 1\\right)^{2}}$"
      ],
      "text/plain": [
       "(a**2*y**((a + 1)/a)*(1 - y) + a*y**((a + 1)/a)*(a*y - a + 1) + y**(1/a)*(y - 1)*(a*y - a + 1))/(y*(a*y - a + 1)**2)"
      ]
     },
     "execution_count": 270,
     "metadata": {},
     "output_type": "execute_result"
    }
   ],
   "source": [
    "print_latex(sp.diff(expr, y))\n",
    "integrand = sp.diff(expr, y)\n",
    "integrand\n",
    "sp.simplify(integrand)"
   ]
  },
  {
   "cell_type": "code",
   "execution_count": 271,
   "metadata": {},
   "outputs": [
    {
     "data": {
      "text/latex": [
       "$\\displaystyle v_{i} \\left(\\int\\limits_{0}^{x_{i}} \\left(- \\frac{y^{\\frac{1}{a}}}{a^{2} y^{2} - 2 a^{2} y + a^{2} + 2 a y - 2 a + 1}\\right)\\, dy + \\int\\limits_{0}^{x_{i}} \\frac{a y^{\\frac{1}{a}}}{a^{2} y^{2} - 2 a^{2} y + a^{2} + 2 a y - 2 a + 1}\\, dy + \\int\\limits_{0}^{x_{i}} \\frac{a y^{1 + \\frac{1}{a}}}{a^{2} y^{2} - 2 a^{2} y + a^{2} + 2 a y - 2 a + 1}\\, dy + \\int\\limits_{0}^{x_{i}} \\frac{y y^{\\frac{1}{a}}}{a^{2} y^{2} - 2 a^{2} y + a^{2} + 2 a y - 2 a + 1}\\, dy + \\int\\limits_{0}^{x_{i}} \\left(- \\frac{2 a y y^{\\frac{1}{a}}}{a^{2} y^{2} - 2 a^{2} y + a^{2} + 2 a y - 2 a + 1}\\right)\\, dy + \\int\\limits_{0}^{x_{i}} \\frac{a y^{2} y^{\\frac{1}{a}}}{a^{2} y^{2} - 2 a^{2} y + a^{2} + 2 a y - 2 a + 1}\\, dy\\right)$"
      ],
      "text/plain": [
       "v_i*(Integral(-y**(1/a)/(a**2*y**2 - 2*a**2*y + a**2 + 2*a*y - 2*a + 1), (y, 0, x_i)) + Integral(a*y**(1/a)/(a**2*y**2 - 2*a**2*y + a**2 + 2*a*y - 2*a + 1), (y, 0, x_i)) + Integral(a*y**(1 + 1/a)/(a**2*y**2 - 2*a**2*y + a**2 + 2*a*y - 2*a + 1), (y, 0, x_i)) + Integral(y*y**(1/a)/(a**2*y**2 - 2*a**2*y + a**2 + 2*a*y - 2*a + 1), (y, 0, x_i)) + Integral(-2*a*y*y**(1/a)/(a**2*y**2 - 2*a**2*y + a**2 + 2*a*y - 2*a + 1), (y, 0, x_i)) + Integral(a*y**2*y**(1/a)/(a**2*y**2 - 2*a**2*y + a**2 + 2*a*y - 2*a + 1), (y, 0, x_i)))"
      ]
     },
     "execution_count": 271,
     "metadata": {},
     "output_type": "execute_result"
    }
   ],
   "source": [
    "t1 = vi*xi*a*(xi**(1/a) *(1-xi)) / (a-a*xi-1)\n",
    "t2 = sp.integrate(vi*y*(sp.simplify(integrand)), (y, 0, xi))\n",
    "t2"
   ]
  },
  {
   "cell_type": "code",
   "execution_count": 272,
   "metadata": {},
   "outputs": [
    {
     "data": {
      "text/latex": [
       "$\\displaystyle \\frac{a v_{i} x_{i} x_{i}^{\\frac{1}{a}} \\left(1 - x_{i}\\right)}{- a x_{i} + a - 1} - v_{i} \\left(\\int\\limits_{0}^{x_{i}} \\left(- \\frac{y^{\\frac{1}{a}}}{a^{2} y^{2} - 2 a^{2} y + a^{2} + 2 a y - 2 a + 1}\\right)\\, dy + \\int\\limits_{0}^{x_{i}} \\frac{a y^{\\frac{1}{a}}}{a^{2} y^{2} - 2 a^{2} y + a^{2} + 2 a y - 2 a + 1}\\, dy + \\int\\limits_{0}^{x_{i}} \\frac{a y^{1 + \\frac{1}{a}}}{a^{2} y^{2} - 2 a^{2} y + a^{2} + 2 a y - 2 a + 1}\\, dy + \\int\\limits_{0}^{x_{i}} \\frac{y y^{\\frac{1}{a}}}{a^{2} y^{2} - 2 a^{2} y + a^{2} + 2 a y - 2 a + 1}\\, dy + \\int\\limits_{0}^{x_{i}} \\left(- \\frac{2 a y y^{\\frac{1}{a}}}{a^{2} y^{2} - 2 a^{2} y + a^{2} + 2 a y - 2 a + 1}\\right)\\, dy + \\int\\limits_{0}^{x_{i}} \\frac{a y^{2} y^{\\frac{1}{a}}}{a^{2} y^{2} - 2 a^{2} y + a^{2} + 2 a y - 2 a + 1}\\, dy\\right)$"
      ],
      "text/plain": [
       "a*v_i*x_i*x_i**(1/a)*(1 - x_i)/(-a*x_i + a - 1) - v_i*(Integral(-y**(1/a)/(a**2*y**2 - 2*a**2*y + a**2 + 2*a*y - 2*a + 1), (y, 0, x_i)) + Integral(a*y**(1/a)/(a**2*y**2 - 2*a**2*y + a**2 + 2*a*y - 2*a + 1), (y, 0, x_i)) + Integral(a*y**(1 + 1/a)/(a**2*y**2 - 2*a**2*y + a**2 + 2*a*y - 2*a + 1), (y, 0, x_i)) + Integral(y*y**(1/a)/(a**2*y**2 - 2*a**2*y + a**2 + 2*a*y - 2*a + 1), (y, 0, x_i)) + Integral(-2*a*y*y**(1/a)/(a**2*y**2 - 2*a**2*y + a**2 + 2*a*y - 2*a + 1), (y, 0, x_i)) + Integral(a*y**2*y**(1/a)/(a**2*y**2 - 2*a**2*y + a**2 + 2*a*y - 2*a + 1), (y, 0, x_i)))"
      ]
     },
     "execution_count": 272,
     "metadata": {},
     "output_type": "execute_result"
    }
   ],
   "source": [
    "uhat = t1 - t2\n",
    "uhat"
   ]
  },
  {
   "cell_type": "code",
   "execution_count": 273,
   "metadata": {},
   "outputs": [
    {
     "data": {
      "text/latex": [
       "$\\displaystyle 1.0 v_{i} \\left(\\frac{x_{i}^{2}}{2} - x_{i}\\right)$"
      ],
      "text/plain": [
       "1.0*v_i*(x_i**2/2 - x_i)"
      ]
     },
     "execution_count": 273,
     "metadata": {},
     "output_type": "execute_result"
    }
   ],
   "source": [
    "sp.simplify(uhat.evalf(subs={a:1}))"
   ]
  },
  {
   "cell_type": "code",
   "execution_count": 274,
   "metadata": {},
   "outputs": [
    {
     "data": {
      "text/latex": [
       "$\\displaystyle \\frac{5.0 x_{i}^{1.4} \\cdot \\left(1.0 - x_{i}\\right)}{1.5 - 2.5 x_{i}} - 2.0 \\int\\limits_{0}^{x_{i}} \\left(- \\frac{y^{0.4}}{6.25 y^{2} - 7.5 y + 2.25}\\right)\\, dy - 2.0 \\int\\limits_{0}^{x_{i}} \\frac{2.5 y^{0.4}}{6.25 y^{2} - 7.5 y + 2.25}\\, dy - 2.0 \\int\\limits_{0}^{x_{i}} \\left(- \\frac{5.0 y^{1.4}}{6.25 y^{2} - 7.5 y + 2.25}\\right)\\, dy - 2.0 \\int\\limits_{0}^{x_{i}} \\frac{y^{1.4}}{6.25 y^{2} - 7.5 y + 2.25}\\, dy - 2.0 \\int\\limits_{0}^{x_{i}} \\frac{2.5 y^{1.4}}{6.25 y^{2} - 7.5 y + 2.25}\\, dy - 2.0 \\int\\limits_{0}^{x_{i}} \\frac{2.5 y^{2.4}}{6.25 y^{2} - 7.5 y + 2.25}\\, dy$"
      ],
      "text/plain": [
       "5.0*x_i**1.4*(1.0 - x_i)/(1.5 - 2.5*x_i) - 2.0*Integral(-y**0.4/(6.25*y**2 - 7.5*y + 2.25), (y, 0, x_i)) - 2.0*Integral(2.5*y**0.4/(6.25*y**2 - 7.5*y + 2.25), (y, 0, x_i)) - 2.0*Integral(-5.0*y**1.4/(6.25*y**2 - 7.5*y + 2.25), (y, 0, x_i)) - 2.0*Integral(y**1.4/(6.25*y**2 - 7.5*y + 2.25), (y, 0, x_i)) - 2.0*Integral(2.5*y**1.4/(6.25*y**2 - 7.5*y + 2.25), (y, 0, x_i)) - 2.0*Integral(2.5*y**2.4/(6.25*y**2 - 7.5*y + 2.25), (y, 0, x_i))"
      ]
     },
     "execution_count": 274,
     "metadata": {},
     "output_type": "execute_result"
    }
   ],
   "source": [
    "# two player, v1=4, v2=2, a=2.5\n",
    "uhat1 = uhat.evalf(subs={a:2.5, vi:4})\n",
    "uhat2 = uhat.evalf(subs={a:2.5, vi:2})\n",
    "uhat2"
   ]
  },
  {
   "cell_type": "code",
   "execution_count": 275,
   "metadata": {},
   "outputs": [
    {
     "data": {
      "text/latex": [
       "$\\displaystyle 4.13010937117973$"
      ],
      "text/plain": [
       "4.13010937117973"
      ]
     },
     "execution_count": 275,
     "metadata": {},
     "output_type": "execute_result"
    }
   ],
   "source": [
    "testX = 0.45\n",
    "sumhats = uhat1.evalf(subs={xi:testX}) + uhat2.evalf(subs={xi:1-testX})\n",
    "sumhats"
   ]
  },
  {
   "cell_type": "code",
   "execution_count": 276,
   "metadata": {},
   "outputs": [
    {
     "name": "stderr",
     "output_type": "stream",
     "text": [
      "100%|██████████| 40/40 [01:51<00:00,  2.78s/it]\n"
     ]
    }
   ],
   "source": [
    "res = []\n",
    "for testX in tqdm(np.arange(0.44, 0.48, 0.001)):\n",
    "    res.append(uhat1.evalf(subs={xi:testX}) + uhat2.evalf(subs={xi:1-testX}))\n",
    "res = np.array(res)"
   ]
  },
  {
   "cell_type": "code",
   "execution_count": 277,
   "metadata": {},
   "outputs": [
    {
     "data": {
      "text/plain": [
       "array([4.18335669265438, 4.17622007724929, 4.16952771063106,\n",
       "       4.16326197988870, 4.15740654456487, 4.15194622370708,\n",
       "       4.14686689537999, 4.14215540703224, 4.13779949534804,\n",
       "       4.13378771441180, 4.13010937117973, 4.12675446739196,\n",
       "       4.12371364717673, 4.12097814969796, 4.11853976628256,\n",
       "       4.11639080153642, 4.11452403802000, 4.11293270410766,\n",
       "       4.11161044470096, 4.11055129450544, 4.10974965361500,\n",
       "       4.10920026517749, 4.10889819494122, 4.10883881250443,\n",
       "       4.10901777410989, 4.10943100684355, 4.11007469411205,\n",
       "       4.11094526228660, 4.11203936841298, 4.11335388889773,\n",
       "       4.11488590908981, 4.11663271368514, 4.11859177788899,\n",
       "       4.12076075927738, 4.12313749030466, 4.12571997140960,\n",
       "       4.12850636467695, 4.13149498801560, 4.13468430981844,\n",
       "       4.13807294407198], dtype=object)"
      ]
     },
     "execution_count": 277,
     "metadata": {},
     "output_type": "execute_result"
    }
   ],
   "source": [
    "res"
   ]
  },
  {
   "cell_type": "code",
   "execution_count": 278,
   "metadata": {},
   "outputs": [
    {
     "data": {
      "text/plain": [
       "[<matplotlib.lines.Line2D at 0x130a80340>]"
      ]
     },
     "execution_count": 278,
     "metadata": {},
     "output_type": "execute_result"
    },
    {
     "data": {
      "image/png": "[encoded data removed]",
      "text/plain": [
       "<Figure size 432x288 with 1 Axes>"
      ]
     },
     "metadata": {
      "needs_background": "light"
     },
     "output_type": "display_data"
    }
   ],
   "source": [
    "plt.plot(np.arange(0.44, 0.48, 0.001), res)"
   ]
  },
  {
   "cell_type": "code",
   "execution_count": 221,
   "metadata": {},
   "outputs": [
    {
     "data": {
      "text/latex": [
       "$\\displaystyle \\frac{a y^{\\frac{1}{a}} \\left(1 - y\\right)}{- a y + a - 1}$"
      ],
      "text/plain": [
       "a*y**(1/a)*(1 - y)/(-a*y + a - 1)"
      ]
     },
     "execution_count": 221,
     "metadata": {},
     "output_type": "execute_result"
    }
   ],
   "source": [
    "# derive normal way\n",
    "a, xi = sp.symbols('a x_i')\n",
    "y     = sp.symbols('y')\n",
    "\n",
    "expr = a*y**(1/a)*(1-y) / (a-a*y-1)\n",
    "expr"
   ]
  },
  {
   "cell_type": "code",
   "execution_count": 226,
   "metadata": {},
   "outputs": [
    {
     "name": "stdout",
     "output_type": "stream",
     "text": [
      "\\frac{a^{2} y^{\\frac{1}{a}} \\left(1 - y\\right)}{\\left(- a y + a - 1\\right)^{2}} - \\frac{a y^{\\frac{1}{a}}}{- a y + a - 1} + \\frac{y^{\\frac{1}{a}} \\left(1 - y\\right)}{y \\left(- a y + a - 1\\right)}\n"
     ]
    },
    {
     "data": {
      "text/latex": [
       "$\\displaystyle \\frac{a^{2} y^{\\frac{a + 1}{a}} \\left(1 - y\\right) + a y^{\\frac{a + 1}{a}} \\left(a y - a + 1\\right) + y^{\\frac{1}{a}} \\left(y - 1\\right) \\left(a y - a + 1\\right)}{y \\left(a y - a + 1\\right)^{2}}$"
      ],
      "text/plain": [
       "(a**2*y**((a + 1)/a)*(1 - y) + a*y**((a + 1)/a)*(a*y - a + 1) + y**(1/a)*(y - 1)*(a*y - a + 1))/(y*(a*y - a + 1)**2)"
      ]
     },
     "execution_count": 226,
     "metadata": {},
     "output_type": "execute_result"
    }
   ],
   "source": [
    "print_latex(sp.diff(expr, y))\n",
    "integrand = sp.diff(expr, y)\n",
    "integrand\n",
    "sp.simplify(integrand)"
   ]
  },
  {
   "cell_type": "code",
   "execution_count": 227,
   "metadata": {},
   "outputs": [
    {
     "data": {
      "text/latex": [
       "$\\displaystyle - v_{i} \\left(\\int\\limits_{0}^{x_{i}} \\left(- \\frac{y^{\\frac{1}{a}}}{a^{2} y^{2} - 2 a^{2} y + a^{2} + 2 a y - 2 a + 1}\\right)\\, dy + \\int\\limits_{0}^{x_{i}} \\frac{a y^{\\frac{1}{a}}}{a^{2} y^{2} - 2 a^{2} y + a^{2} + 2 a y - 2 a + 1}\\, dy + \\int\\limits_{0}^{x_{i}} \\frac{a y^{1 + \\frac{1}{a}}}{a^{2} y^{2} - 2 a^{2} y + a^{2} + 2 a y - 2 a + 1}\\, dy + \\int\\limits_{0}^{x_{i}} \\frac{y y^{\\frac{1}{a}}}{a^{2} y^{2} - 2 a^{2} y + a^{2} + 2 a y - 2 a + 1}\\, dy + \\int\\limits_{0}^{x_{i}} \\left(- \\frac{2 a y y^{\\frac{1}{a}}}{a^{2} y^{2} - 2 a^{2} y + a^{2} + 2 a y - 2 a + 1}\\right)\\, dy + \\int\\limits_{0}^{x_{i}} \\frac{a y^{2} y^{\\frac{1}{a}}}{a^{2} y^{2} - 2 a^{2} y + a^{2} + 2 a y - 2 a + 1}\\, dy\\right)$"
      ],
      "text/plain": [
       "-v_i*(Integral(-y**(1/a)/(a**2*y**2 - 2*a**2*y + a**2 + 2*a*y - 2*a + 1), (y, 0, x_i)) + Integral(a*y**(1/a)/(a**2*y**2 - 2*a**2*y + a**2 + 2*a*y - 2*a + 1), (y, 0, x_i)) + Integral(a*y**(1 + 1/a)/(a**2*y**2 - 2*a**2*y + a**2 + 2*a*y - 2*a + 1), (y, 0, x_i)) + Integral(y*y**(1/a)/(a**2*y**2 - 2*a**2*y + a**2 + 2*a*y - 2*a + 1), (y, 0, x_i)) + Integral(-2*a*y*y**(1/a)/(a**2*y**2 - 2*a**2*y + a**2 + 2*a*y - 2*a + 1), (y, 0, x_i)) + Integral(a*y**2*y**(1/a)/(a**2*y**2 - 2*a**2*y + a**2 + 2*a*y - 2*a + 1), (y, 0, x_i)))"
      ]
     },
     "execution_count": 227,
     "metadata": {},
     "output_type": "execute_result"
    }
   ],
   "source": [
    "t1 = -vi*xi*a*(xi**(1/a) *(1-xi)) / (a-a*xi-1)\n",
    "t2 = sp.integrate(-vi*y*(sp.simplify(integrand)), (y, 0, xi))\n",
    "t2"
   ]
  },
  {
   "cell_type": "code",
   "execution_count": 233,
   "metadata": {},
   "outputs": [
    {
     "data": {
      "text/latex": [
       "$\\displaystyle - \\frac{a v_{i} x_{i} x_{i}^{\\frac{1}{a}} \\left(1 - x_{i}\\right)}{- a x_{i} + a - 1} + v_{i} \\left(\\int\\limits_{0}^{x_{i}} \\left(- \\frac{y^{\\frac{1}{a}}}{a^{2} y^{2} - 2 a^{2} y + a^{2} + 2 a y - 2 a + 1}\\right)\\, dy + \\int\\limits_{0}^{x_{i}} \\frac{a y^{\\frac{1}{a}}}{a^{2} y^{2} - 2 a^{2} y + a^{2} + 2 a y - 2 a + 1}\\, dy + \\int\\limits_{0}^{x_{i}} \\frac{a y^{1 + \\frac{1}{a}}}{a^{2} y^{2} - 2 a^{2} y + a^{2} + 2 a y - 2 a + 1}\\, dy + \\int\\limits_{0}^{x_{i}} \\frac{y y^{\\frac{1}{a}}}{a^{2} y^{2} - 2 a^{2} y + a^{2} + 2 a y - 2 a + 1}\\, dy + \\int\\limits_{0}^{x_{i}} \\left(- \\frac{2 a y y^{\\frac{1}{a}}}{a^{2} y^{2} - 2 a^{2} y + a^{2} + 2 a y - 2 a + 1}\\right)\\, dy + \\int\\limits_{0}^{x_{i}} \\frac{a y^{2} y^{\\frac{1}{a}}}{a^{2} y^{2} - 2 a^{2} y + a^{2} + 2 a y - 2 a + 1}\\, dy\\right)$"
      ],
      "text/plain": [
       "-a*v_i*x_i*x_i**(1/a)*(1 - x_i)/(-a*x_i + a - 1) + v_i*(Integral(-y**(1/a)/(a**2*y**2 - 2*a**2*y + a**2 + 2*a*y - 2*a + 1), (y, 0, x_i)) + Integral(a*y**(1/a)/(a**2*y**2 - 2*a**2*y + a**2 + 2*a*y - 2*a + 1), (y, 0, x_i)) + Integral(a*y**(1 + 1/a)/(a**2*y**2 - 2*a**2*y + a**2 + 2*a*y - 2*a + 1), (y, 0, x_i)) + Integral(y*y**(1/a)/(a**2*y**2 - 2*a**2*y + a**2 + 2*a*y - 2*a + 1), (y, 0, x_i)) + Integral(-2*a*y*y**(1/a)/(a**2*y**2 - 2*a**2*y + a**2 + 2*a*y - 2*a + 1), (y, 0, x_i)) + Integral(a*y**2*y**(1/a)/(a**2*y**2 - 2*a**2*y + a**2 + 2*a*y - 2*a + 1), (y, 0, x_i)))"
      ]
     },
     "execution_count": 233,
     "metadata": {},
     "output_type": "execute_result"
    }
   ],
   "source": [
    "uhat = t1 - t2\n",
    "uhat"
   ]
  },
  {
   "cell_type": "code",
   "execution_count": 232,
   "metadata": {},
   "outputs": [
    {
     "data": {
      "text/latex": [
       "$\\displaystyle 1.0 v_{i} \\left(- \\frac{x_{i}^{2}}{2} + x_{i}\\right)$"
      ],
      "text/plain": [
       "1.0*v_i*(-x_i**2/2 + x_i)"
      ]
     },
     "execution_count": 232,
     "metadata": {},
     "output_type": "execute_result"
    }
   ],
   "source": [
    "sp.simplify(uhat.evalf(subs={a:1}))"
   ]
  },
  {
   "cell_type": "code",
   "execution_count": 245,
   "metadata": {},
   "outputs": [
    {
     "data": {
      "text/latex": [
       "$\\displaystyle - \\frac{5.0 x_{i}^{1.4} \\cdot \\left(1.0 - x_{i}\\right)}{1.5 - 2.5 x_{i}} + 2.0 \\int\\limits_{0}^{x_{i}} \\left(- \\frac{y^{0.4}}{6.25 y^{2} - 7.5 y + 2.25}\\right)\\, dy + 2.0 \\int\\limits_{0}^{x_{i}} \\frac{2.5 y^{0.4}}{6.25 y^{2} - 7.5 y + 2.25}\\, dy + 2.0 \\int\\limits_{0}^{x_{i}} \\left(- \\frac{5.0 y^{1.4}}{6.25 y^{2} - 7.5 y + 2.25}\\right)\\, dy + 2.0 \\int\\limits_{0}^{x_{i}} \\frac{y^{1.4}}{6.25 y^{2} - 7.5 y + 2.25}\\, dy + 2.0 \\int\\limits_{0}^{x_{i}} \\frac{2.5 y^{1.4}}{6.25 y^{2} - 7.5 y + 2.25}\\, dy + 2.0 \\int\\limits_{0}^{x_{i}} \\frac{2.5 y^{2.4}}{6.25 y^{2} - 7.5 y + 2.25}\\, dy$"
      ],
      "text/plain": [
       "-5.0*x_i**1.4*(1.0 - x_i)/(1.5 - 2.5*x_i) + 2.0*Integral(-y**0.4/(6.25*y**2 - 7.5*y + 2.25), (y, 0, x_i)) + 2.0*Integral(2.5*y**0.4/(6.25*y**2 - 7.5*y + 2.25), (y, 0, x_i)) + 2.0*Integral(-5.0*y**1.4/(6.25*y**2 - 7.5*y + 2.25), (y, 0, x_i)) + 2.0*Integral(y**1.4/(6.25*y**2 - 7.5*y + 2.25), (y, 0, x_i)) + 2.0*Integral(2.5*y**1.4/(6.25*y**2 - 7.5*y + 2.25), (y, 0, x_i)) + 2.0*Integral(2.5*y**2.4/(6.25*y**2 - 7.5*y + 2.25), (y, 0, x_i))"
      ]
     },
     "execution_count": 245,
     "metadata": {},
     "output_type": "execute_result"
    }
   ],
   "source": [
    "# two player, v1=4, v2=2, a=2.5\n",
    "uhat1 = uhat.evalf(subs={a:2.5, vi:4})\n",
    "uhat2 = uhat.evalf(subs={a:2.5, vi:2})\n",
    "uhat2"
   ]
  },
  {
   "cell_type": "code",
   "execution_count": 263,
   "metadata": {},
   "outputs": [
    {
     "data": {
      "text/latex": [
       "$\\displaystyle -4.13010937117973$"
      ],
      "text/plain": [
       "-4.13010937117973"
      ]
     },
     "execution_count": 263,
     "metadata": {},
     "output_type": "execute_result"
    }
   ],
   "source": [
    "testX = 0.45\n",
    "sumhats = uhat1.evalf(subs={xi:testX}) + uhat2.evalf(subs={xi:1-testX})\n",
    "sumhats"
   ]
  },
  {
   "cell_type": "code",
   "execution_count": 265,
   "metadata": {},
   "outputs": [
    {
     "name": "stderr",
     "output_type": "stream",
     "text": [
      "100%|██████████| 40/40 [01:51<00:00,  2.79s/it]\n"
     ]
    }
   ],
   "source": [
    "res = []\n",
    "for testX in tqdm(np.arange(0.44, 0.48, 0.001)):\n",
    "    res.append(uhat1.evalf(subs={xi:testX}) + uhat2.evalf(subs={xi:1-testX}))\n",
    "res = np.array(res)"
   ]
  },
  {
   "cell_type": "code",
   "execution_count": 266,
   "metadata": {},
   "outputs": [
    {
     "data": {
      "text/plain": [
       "array([-4.18335669265438, -4.17622007724929, -4.16952771063106,\n",
       "       -4.16326197988870, -4.15740654456487, -4.15194622370708,\n",
       "       -4.14686689537999, -4.14215540703224, -4.13779949534804,\n",
       "       -4.13378771441180, -4.13010937117973, -4.12675446739196,\n",
       "       -4.12371364717673, -4.12097814969796, -4.11853976628256,\n",
       "       -4.11639080153642, -4.11452403802000, -4.11293270410766,\n",
       "       -4.11161044470096, -4.11055129450544, -4.10974965361500,\n",
       "       -4.10920026517749, -4.10889819494122, -4.10883881250443,\n",
       "       -4.10901777410989, -4.10943100684355, -4.11007469411205,\n",
       "       -4.11094526228660, -4.11203936841298, -4.11335388889773,\n",
       "       -4.11488590908981, -4.11663271368514, -4.11859177788899,\n",
       "       -4.12076075927738, -4.12313749030466, -4.12571997140960,\n",
       "       -4.12850636467695, -4.13149498801560, -4.13468430981844,\n",
       "       -4.13807294407198], dtype=object)"
      ]
     },
     "execution_count": 266,
     "metadata": {},
     "output_type": "execute_result"
    }
   ],
   "source": [
    "res"
   ]
  },
  {
   "cell_type": "code",
   "execution_count": 268,
   "metadata": {},
   "outputs": [
    {
     "data": {
      "text/plain": [
       "[<matplotlib.lines.Line2D at 0x1309dbbe0>]"
      ]
     },
     "execution_count": 268,
     "metadata": {},
     "output_type": "execute_result"
    },
    {
     "data": {
      "image/png": "[encoded data removed]",
      "text/plain": [
       "<Figure size 432x288 with 1 Axes>"
      ]
     },
     "metadata": {
      "needs_background": "light"
     },
     "output_type": "display_data"
    }
   ],
   "source": [
    "plt.plot(np.arange(0.44, 0.48, 0.001), res)"
   ]
  },
  {
   "cell_type": "code",
   "execution_count": null,
   "metadata": {},
   "outputs": [],
   "source": []
  },
  {
   "cell_type": "code",
   "execution_count": null,
   "metadata": {},
   "outputs": [],
   "source": [
    "t1 = vi*xi*a * (xi**(1-1/a) - xi**(2-1/a))\n",
    "t2 = sp.integrate(vi*y*((a-1)*y**(-1/a)-(2*a-1)*y**(1-1/a)), (y, 0, xi))\n",
    "uhat = t1 - t2"
   ]
  },
  {
   "cell_type": "code",
   "execution_count": null,
   "metadata": {},
   "outputs": [],
   "source": []
  },
  {
   "cell_type": "code",
   "execution_count": null,
   "metadata": {},
   "outputs": [],
   "source": []
  },
  {
   "cell_type": "code",
   "execution_count": null,
   "metadata": {},
   "outputs": [],
   "source": []
  },
  {
   "cell_type": "code",
   "execution_count": 6,
   "metadata": {},
   "outputs": [],
   "source": [
    "# 1/2 case.\n",
    "vi, xi = sp.symbols('v_i x_i')\n",
    "y      = sp.symbols('y')\n",
    "\n",
    "\n",
    "t1 = vi*xi*a * (xi**(1-1/a) - xi**(2-1/a))\n",
    "t2 = sp.integrate(vi*y*((a-1)*y**(-1/a)-(2*a-1)*y**(1-1/a)), (y, 0, xi))\n",
    "uhat = t1 - t2"
   ]
  },
  {
   "cell_type": "code",
   "execution_count": 9,
   "metadata": {},
   "outputs": [
    {
     "data": {
      "text/latex": [
       "$\\displaystyle a v_{i} x_{i} \\left(x_{i}^{1 - \\frac{1}{a}} - x_{i}^{2 - \\frac{1}{a}}\\right) - \\begin{cases} v_{i} \\left(\\frac{\\log{\\left(x_{i} \\right)}}{3} + \\frac{2}{3 x_{i}}\\right) - \\infty \\operatorname{sign}{\\left(v_{i} \\right)} & \\text{for}\\: a = \\frac{1}{3} \\\\- \\frac{v_{i} \\log{\\left(x_{i} \\right)}}{2} - \\infty \\operatorname{sign}{\\left(v_{i} \\right)} & \\text{for}\\: a = \\frac{1}{2} \\\\v_{i} \\left(- \\frac{4 a^{3} x_{i}^{2} x_{i}^{\\frac{1}{a}} x_{i}^{1 - \\frac{1}{a}}}{6 a^{2} x_{i}^{\\frac{1}{a}} - 5 a x_{i}^{\\frac{1}{a}} + x_{i}^{\\frac{1}{a}}} + \\frac{3 a^{3} x_{i}^{2}}{6 a^{2} x_{i}^{\\frac{1}{a}} - 5 a x_{i}^{\\frac{1}{a}} + x_{i}^{\\frac{1}{a}}} + \\frac{4 a^{2} x_{i}^{2} x_{i}^{\\frac{1}{a}} x_{i}^{1 - \\frac{1}{a}}}{6 a^{2} x_{i}^{\\frac{1}{a}} - 5 a x_{i}^{\\frac{1}{a}} + x_{i}^{\\frac{1}{a}}} - \\frac{4 a^{2} x_{i}^{2}}{6 a^{2} x_{i}^{\\frac{1}{a}} - 5 a x_{i}^{\\frac{1}{a}} + x_{i}^{\\frac{1}{a}}} - \\frac{a x_{i}^{2} x_{i}^{\\frac{1}{a}} x_{i}^{1 - \\frac{1}{a}}}{6 a^{2} x_{i}^{\\frac{1}{a}} - 5 a x_{i}^{\\frac{1}{a}} + x_{i}^{\\frac{1}{a}}} + \\frac{a x_{i}^{2}}{6 a^{2} x_{i}^{\\frac{1}{a}} - 5 a x_{i}^{\\frac{1}{a}} + x_{i}^{\\frac{1}{a}}}\\right) & \\text{otherwise} \\end{cases}$"
      ],
      "text/plain": [
       "a*v_i*x_i*(x_i**(1 - 1/a) - x_i**(2 - 1/a)) - Piecewise((v_i*(log(x_i)/3 + 2/(3*x_i)) - oo*sign(v_i), Eq(a, 1/3)), (-v_i*log(x_i)/2 - oo*sign(v_i), Eq(a, 1/2)), (v_i*(-4*a**3*x_i**2*x_i**(1/a)*x_i**(1 - 1/a)/(6*a**2*x_i**(1/a) - 5*a*x_i**(1/a) + x_i**(1/a)) + 3*a**3*x_i**2/(6*a**2*x_i**(1/a) - 5*a*x_i**(1/a) + x_i**(1/a)) + 4*a**2*x_i**2*x_i**(1/a)*x_i**(1 - 1/a)/(6*a**2*x_i**(1/a) - 5*a*x_i**(1/a) + x_i**(1/a)) - 4*a**2*x_i**2/(6*a**2*x_i**(1/a) - 5*a*x_i**(1/a) + x_i**(1/a)) - a*x_i**2*x_i**(1/a)*x_i**(1 - 1/a)/(6*a**2*x_i**(1/a) - 5*a*x_i**(1/a) + x_i**(1/a)) + a*x_i**2/(6*a**2*x_i**(1/a) - 5*a*x_i**(1/a) + x_i**(1/a))), True))"
      ]
     },
     "execution_count": 9,
     "metadata": {},
     "output_type": "execute_result"
    }
   ],
   "source": [
    "uhat.evalf(subs={a:1/2+0.1})\n",
    "uhat"
   ]
  },
  {
   "cell_type": "code",
   "execution_count": null,
   "metadata": {},
   "outputs": [],
   "source": []
  }
 ],
 "metadata": {
  "kernelspec": {
   "display_name": "Python 3",
   "language": "python",
   "name": "python3"
  },
  "language_info": {
   "codemirror_mode": {
    "name": "ipython",
    "version": 3
   },
   "file_extension": ".py",
   "mimetype": "text/x-python",
   "name": "python",
   "nbconvert_exporter": "python",
   "pygments_lexer": "ipython3",
   "version": "3.8.16"
  }
 },
 "nbformat": 4,
 "nbformat_minor": 4
}
