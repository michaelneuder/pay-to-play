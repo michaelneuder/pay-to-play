{
 "cells": [
  {
   "cell_type": "code",
   "execution_count": 1,
   "metadata": {},
   "outputs": [],
   "source": [
    "import matplotlib.pyplot as plt\n",
    "import matplotlib as mpl\n",
    "import matplotlib.patches as mpatches\n",
    "import numpy as np\n",
    "import pandas as pd\n",
    "import cvxpy as cp\n",
    "from scipy.stats import poisson, uniform, expon, pareto\n",
    "from scipy.optimize import minimize\n",
    "from tqdm import tqdm\n",
    "from mdptoolbox import mdp, util\n",
    "import itertools\n",
    "from scipy.sparse import csr_matrix, lil_matrix\n",
    "from matplotlib.patches import Patch\n",
    "import math\n",
    "import random\n",
    "import sympy as sp\n",
    "from sympy.printing.latex import print_latex"
   ]
  },
  {
   "cell_type": "markdown",
   "metadata": {},
   "source": [
    "# Symbolic for derivatives"
   ]
  },
  {
   "cell_type": "code",
   "execution_count": 2,
   "metadata": {},
   "outputs": [
    {
     "data": {
      "text/latex": [
       "$\\displaystyle \\frac{b_{i}^{0.5} v_{i}}{b_{i}^{0.5} + o} - b_{i}$"
      ],
      "text/plain": [
       "b_i**0.5*v_i/(b_i**0.5 + o) - b_i"
      ]
     },
     "execution_count": 2,
     "metadata": {},
     "output_type": "execute_result"
    }
   ],
   "source": [
    "# 1/2 case.\n",
    "vi, bi, o = sp.symbols('v_i b_i o')\n",
    "\n",
    "Q = bi**(1/2)*vi/(bi**(1/2) + o) - bi\n",
    "Q"
   ]
  },
  {
   "cell_type": "code",
   "execution_count": 4,
   "metadata": {},
   "outputs": [
    {
     "data": {
      "text/latex": [
       "$\\displaystyle \\frac{0.5 v_{i}}{b_{i}^{0.5} \\left(b_{i}^{0.5} + o\\right)} - \\frac{0.5 v_{i}}{\\left(b_{i}^{0.5} + o\\right)^{2}} - 1$"
      ],
      "text/plain": [
       "0.5*v_i/(b_i**0.5*(b_i**0.5 + o)) - 0.5*v_i/(b_i**0.5 + o)**2 - 1"
      ]
     },
     "execution_count": 4,
     "metadata": {},
     "output_type": "execute_result"
    }
   ],
   "source": [
    "sp.diff(Q, bi)"
   ]
  },
  {
   "cell_type": "code",
   "execution_count": 6,
   "metadata": {},
   "outputs": [
    {
     "data": {
      "text/latex": [
       "$\\displaystyle - \\frac{0.5}{x_{i}^{2}}$"
      ],
      "text/plain": [
       "-0.5/x_i**2"
      ]
     },
     "execution_count": 6,
     "metadata": {},
     "output_type": "execute_result"
    }
   ],
   "source": [
    "xi = sp.symbols('x_i')\n",
    "expr = 1/2 *(-1 + 1/xi)\n",
    "sp.diff(expr, xi)"
   ]
  },
  {
   "cell_type": "code",
   "execution_count": 7,
   "metadata": {},
   "outputs": [],
   "source": [
    "# alpha > 1\n",
    "vi, xi = sp.symbols('v_i x_i')\n",
    "a      = sp.symbols('a')\n",
    "y      = sp.symbols('y')\n",
    "\n",
    "\n",
    "t1 = vi*xi*a * (xi**(1-1/a) - xi**(2-1/a))\n",
    "t2 = sp.integrate(vi*y*((a-1)*y**(-1/a)-(2*a-1)*y**(1-1/a)), (y, 0, xi))\n",
    "uhat = t1 - t2"
   ]
  },
  {
   "cell_type": "code",
   "execution_count": 18,
   "metadata": {},
   "outputs": [
    {
     "data": {
      "text/latex": [
       "$\\displaystyle v_{i} \\left(1.000000009998 x_{i}^{1.000099990001} - 0.500025001249813 x_{i}^{2.000099990001}\\right)$"
      ],
      "text/plain": [
       "v_i*(1.000000009998*x_i**1.000099990001 - 0.500025001249813*x_i**2.000099990001)"
      ]
     },
     "execution_count": 18,
     "metadata": {},
     "output_type": "execute_result"
    }
   ],
   "source": [
    "sp.simplify(uhat.evalf(subs={a:1.0001}))"
   ]
  },
  {
   "cell_type": "code",
   "execution_count": 19,
   "metadata": {},
   "outputs": [
    {
     "data": {
      "text/latex": [
       "$\\displaystyle v_{i} \\left(1.33333333333333 x_{i}^{1.5} - 0.8 x_{i}^{2.5}\\right)$"
      ],
      "text/plain": [
       "v_i*(1.33333333333333*x_i**1.5 - 0.8*x_i**2.5)"
      ]
     },
     "execution_count": 19,
     "metadata": {},
     "output_type": "execute_result"
    }
   ],
   "source": [
    "sp.simplify(uhat.evalf(subs={a:2}))"
   ]
  },
  {
   "cell_type": "code",
   "execution_count": 17,
   "metadata": {},
   "outputs": [
    {
     "data": {
      "text/latex": [
       "$\\displaystyle v_{i} \\left(1.33333333333333 x_{i}^{0.5} - 0.444444444444445 x_{i}^{1.5}\\right)$"
      ],
      "text/plain": [
       "v_i*(1.33333333333333*x_i**0.5 - 0.444444444444445*x_i**1.5)"
      ]
     },
     "execution_count": 17,
     "metadata": {},
     "output_type": "execute_result"
    }
   ],
   "source": [
    "sp.simplify(uhat.evalf(subs={a:2/3}))"
   ]
  },
  {
   "cell_type": "code",
   "execution_count": 103,
   "metadata": {},
   "outputs": [
    {
     "data": {
      "text/latex": [
       "$\\displaystyle 2.0 v_{i} \\left(x_{i}^{0.5} - x_{i}^{1.5}\\right)$"
      ],
      "text/plain": [
       "2.0*v_i*(x_i**0.5 - x_i**1.5)"
      ]
     },
     "execution_count": 103,
     "metadata": {},
     "output_type": "execute_result"
    }
   ],
   "source": [
    "# uhat prime\n",
    "uhatprime = sp.diff(uhat, xi)\n",
    "sp.simplify(uhatprime.evalf(subs={a:2}))"
   ]
  },
  {
   "cell_type": "code",
   "execution_count": null,
   "metadata": {},
   "outputs": [],
   "source": []
  },
  {
   "cell_type": "code",
   "execution_count": 104,
   "metadata": {},
   "outputs": [
    {
     "data": {
      "text/latex": [
       "$\\displaystyle \\frac{b_{1}^{2} v_{1}}{b_{1}^{2} + b_{2}^{2}} - b_{1}$"
      ],
      "text/plain": [
       "b_1**2*v_1/(b_1**2 + b_2**2) - b_1"
      ]
     },
     "execution_count": 104,
     "metadata": {},
     "output_type": "execute_result"
    }
   ],
   "source": [
    "# derive normal way\n",
    "v1, v2, b1, b2 = sp.symbols('v_1 v_2 b_1 b_2')\n",
    "\n",
    "u1 = v1*b1**2 / (b1**2 + b2**2) - b1\n",
    "u2 = v2*b2**2 / (b1**2 + b2**2) - b2\n",
    "u1"
   ]
  },
  {
   "cell_type": "code",
   "execution_count": 105,
   "metadata": {},
   "outputs": [
    {
     "data": {
      "text/latex": [
       "$\\displaystyle \\frac{2 b_{1} b_{2}^{2} v_{1}}{\\left(b_{1}^{2} + b_{2}^{2}\\right)^{2}} - 1$"
      ],
      "text/plain": [
       "2*b_1*b_2**2*v_1/(b_1**2 + b_2**2)**2 - 1"
      ]
     },
     "execution_count": 105,
     "metadata": {},
     "output_type": "execute_result"
    }
   ],
   "source": [
    "part1 = sp.simplify(sp.diff(u1, b1))\n",
    "part2 = sp.simplify(sp.diff(u2, b2))\n",
    "part1"
   ]
  },
  {
   "cell_type": "code",
   "execution_count": 106,
   "metadata": {},
   "outputs": [
    {
     "data": {
      "text/latex": [
       "$\\displaystyle \\frac{2 b_{1} b_{2}^{2} v_{1}}{\\left(b_{1}^{2} + b_{2}^{2}\\right)^{2}} - 1 = 0$"
      ],
      "text/plain": [
       "Eq(2*b_1*b_2**2*v_1/(b_1**2 + b_2**2)**2 - 1, 0)"
      ]
     },
     "execution_count": 106,
     "metadata": {},
     "output_type": "execute_result"
    }
   ],
   "source": [
    "foc1 = sp.Eq(part1, 0)\n",
    "foc2 = sp.Eq(part2, 0)\n",
    "foc1"
   ]
  },
  {
   "cell_type": "code",
   "execution_count": 139,
   "metadata": {},
   "outputs": [
    {
     "data": {
      "text/plain": [
       "[{b_1: 1.73205080756888, b_2: 1.73205080756888}]"
      ]
     },
     "execution_count": 139,
     "metadata": {},
     "output_type": "execute_result"
    }
   ],
   "source": [
    "sol = sp.solve((foc1.evalf(subs={v1:2*(3**(1/2))}), foc2.evalf(subs={v2:2*(3**(1/2))})), (b1, b2), dict=True)\n",
    "sol"
   ]
  },
  {
   "cell_type": "code",
   "execution_count": 132,
   "metadata": {},
   "outputs": [
    {
     "data": {
      "text/latex": [
       "$\\displaystyle -0.0864878831351132$"
      ],
      "text/plain": [
       "-0.0864878831351132"
      ]
     },
     "execution_count": 132,
     "metadata": {},
     "output_type": "execute_result"
    }
   ],
   "source": [
    "sp.simplify(sp.diff(part2, b2)).evalf(subs={v2:2, b1:sol[0][b1], b2: sol[0][b2]})"
   ]
  },
  {
   "cell_type": "code",
   "execution_count": 119,
   "metadata": {},
   "outputs": [
    {
     "data": {
      "text/latex": [
       "$\\displaystyle \\frac{2.37037037037037 b_{2}}{\\left(0.592592592592593 b_{2}^{2} + 1.0\\right)^{2}} - 1.0$"
      ],
      "text/plain": [
       "2.37037037037037*b_2/(0.592592592592593*b_2**2 + 1.0)**2 - 1.0"
      ]
     },
     "execution_count": 119,
     "metadata": {},
     "output_type": "execute_result"
    }
   ],
   "source": [
    "part2.evalf(subs={v2:2, b1:sol[0][b1]})"
   ]
  },
  {
   "cell_type": "code",
   "execution_count": 97,
   "metadata": {},
   "outputs": [
    {
     "data": {
      "text/latex": [
       "$\\displaystyle \\frac{3.2768 b_{1}}{\\left(b_{1}^{2} + 0.4096\\right)^{2}} - 1.0$"
      ],
      "text/plain": [
       "3.2768*b_1/(b_1**2 + 0.4096)**2 - 1.0"
      ]
     },
     "execution_count": 97,
     "metadata": {},
     "output_type": "execute_result"
    }
   ],
   "source": [
    "part1.evalf(subs={v1:4, b2:16/25})"
   ]
  },
  {
   "cell_type": "code",
   "execution_count": 137,
   "metadata": {},
   "outputs": [
    {
     "data": {
      "text/latex": [
       "$\\displaystyle \\frac{b_{2}^{2} v_{2}}{b_{1}^{2} + b_{2}^{2}} - b_{2}$"
      ],
      "text/plain": [
       "b_2**2*v_2/(b_1**2 + b_2**2) - b_2"
      ]
     },
     "execution_count": 137,
     "metadata": {},
     "output_type": "execute_result"
    }
   ],
   "source": [
    "u2"
   ]
  },
  {
   "cell_type": "code",
   "execution_count": 142,
   "metadata": {},
   "outputs": [
    {
     "data": {
      "text/latex": [
       "$\\displaystyle \\frac{3.46410161513775 b_{2}^{2}}{b_{2}^{2} + 3.0} - b_{2}$"
      ],
      "text/plain": [
       "3.46410161513775*b_2**2/(b_2**2 + 3.0) - b_2"
      ]
     },
     "execution_count": 142,
     "metadata": {},
     "output_type": "execute_result"
    }
   ],
   "source": [
    "u1.evalf(subs={v1:2*(3**(1/2)), b2:sol[0][b2]})\n",
    "u2.evalf(subs={v2:2*(3**(1/2)), b1:sol[0][b1]})"
   ]
  },
  {
   "cell_type": "code",
   "execution_count": 68,
   "metadata": {},
   "outputs": [
    {
     "data": {
      "text/latex": [
       "$\\displaystyle -1.71875$"
      ],
      "text/plain": [
       "-1.71875000000000"
      ]
     },
     "execution_count": 68,
     "metadata": {},
     "output_type": "execute_result"
    }
   ],
   "source": [
    "sp.simplify(sp.diff(part2, b2)).evalf(subs={v2:2, b1:1.28, b2:0.64})\n",
    "sp.simplify(sp.diff(part1, b1)).evalf(subs={v1:4, b1:1.28, b2:0.64})"
   ]
  },
  {
   "cell_type": "markdown",
   "metadata": {},
   "source": [
    "# procurements, n=2, alpha=3"
   ]
  },
  {
   "cell_type": "code",
   "execution_count": 2,
   "metadata": {},
   "outputs": [
    {
     "data": {
      "text/latex": [
       "$\\displaystyle \\frac{c_{1} - v_{1}}{c_{1}^{3} \\left(\\frac{1}{c_{2}^{3}} + \\frac{1}{c_{1}^{3}}\\right)}$"
      ],
      "text/plain": [
       "(c_1 - v_1)/(c_1**3*(c_2**(-3) + c_1**(-3)))"
      ]
     },
     "execution_count": 2,
     "metadata": {},
     "output_type": "execute_result"
    }
   ],
   "source": [
    "# derive normal way\n",
    "c1, c2, v1, v2 = sp.symbols('c_1 c_2 v_1 v_2')\n",
    "\n",
    "u1 = (c1-v1) * (1/c1)**3 / ((1/c1)**3 + (1/c2)**3)\n",
    "u2 = (c2-v2) * (1/c2)**3 / ((1/c1)**3 + (1/c2)**3)\n",
    "u1"
   ]
  },
  {
   "cell_type": "code",
   "execution_count": 3,
   "metadata": {},
   "outputs": [
    {
     "data": {
      "text/latex": [
       "$\\displaystyle \\frac{1}{c_{2}^{3} \\left(\\frac{1}{c_{2}^{3}} + \\frac{1}{c_{1}^{3}}\\right)} - \\frac{3 \\left(c_{2} - v_{2}\\right)}{c_{2}^{4} \\left(\\frac{1}{c_{2}^{3}} + \\frac{1}{c_{1}^{3}}\\right)} + \\frac{3 \\left(c_{2} - v_{2}\\right)}{c_{2}^{7} \\left(\\frac{1}{c_{2}^{3}} + \\frac{1}{c_{1}^{3}}\\right)^{2}}$"
      ],
      "text/plain": [
       "1/(c_2**3*(c_2**(-3) + c_1**(-3))) - 3*(c_2 - v_2)/(c_2**4*(c_2**(-3) + c_1**(-3))) + 3*(c_2 - v_2)/(c_2**7*(c_2**(-3) + c_1**(-3))**2)"
      ]
     },
     "execution_count": 3,
     "metadata": {},
     "output_type": "execute_result"
    }
   ],
   "source": [
    "sp.simplify(sp.diff(u1, c1))\n",
    "sp.diff(u2, c2)"
   ]
  },
  {
   "cell_type": "code",
   "execution_count": 4,
   "metadata": {},
   "outputs": [
    {
     "data": {
      "text/latex": [
       "$\\displaystyle \\frac{1}{c_{1}^{3} \\left(\\frac{1}{c_{2}^{3}} + \\frac{1}{c_{1}^{3}}\\right)} - \\frac{3 \\left(c_{1} - v_{1}\\right)}{c_{1}^{4} \\left(\\frac{1}{c_{2}^{3}} + \\frac{1}{c_{1}^{3}}\\right)} + \\frac{3 \\left(c_{1} - v_{1}\\right)}{c_{1}^{7} \\left(\\frac{1}{c_{2}^{3}} + \\frac{1}{c_{1}^{3}}\\right)^{2}} = 0$"
      ],
      "text/plain": [
       "Eq(1/(c_1**3*(c_2**(-3) + c_1**(-3))) - 3*(c_1 - v_1)/(c_1**4*(c_2**(-3) + c_1**(-3))) + 3*(c_1 - v_1)/(c_1**7*(c_2**(-3) + c_1**(-3))**2), 0)"
      ]
     },
     "execution_count": 4,
     "metadata": {},
     "output_type": "execute_result"
    }
   ],
   "source": [
    "part1 = sp.diff(u1, c1)\n",
    "part2 = sp.diff(u2, c2)\n",
    "foc1 = sp.Eq(part1, 0)\n",
    "foc2 = sp.Eq(part2, 0)\n",
    "foc1"
   ]
  },
  {
   "cell_type": "code",
   "execution_count": 5,
   "metadata": {},
   "outputs": [
    {
     "name": "stdout",
     "output_type": "stream",
     "text": [
      "-0.0893367120363459\n",
      "-0.129079190932006\n"
     ]
    }
   ],
   "source": [
    "dpart1 = sp.diff(part1, c1)\n",
    "dpart2 = sp.diff(part2, c2)\n",
    "print(sp.simplify(dpart1).evalf(subs={c1:9.66, c2:8.81, v1:4}))\n",
    "print(sp.simplify(dpart2).evalf(subs={c1:9.66, c2:8.81, v2:2}))"
   ]
  },
  {
   "cell_type": "code",
   "execution_count": 6,
   "metadata": {},
   "outputs": [
    {
     "data": {
      "text/plain": [
       "(-2.59570971620503e-7, 4.59836952919681e-7)"
      ]
     },
     "execution_count": 6,
     "metadata": {},
     "output_type": "execute_result"
    }
   ],
   "source": [
    "part1.evalf(subs={c1:9.66288, c2:8.81093, v1:4}), part2.evalf(subs={c1:9.66288, c2:8.81093, v2:2})"
   ]
  },
  {
   "cell_type": "code",
   "execution_count": 7,
   "metadata": {},
   "outputs": [
    {
     "name": "stdout",
     "output_type": "stream",
     "text": [
      "\\frac{y^{3} \\left(- 2.0 x^{3} + 12.0 x^{2} + 1.0 y^{3}\\right)}{1.0 x^{6} + 2.0 x^{3} y^{3} + 1.0 y^{6}} = 0\n",
      "\\frac{x^{3} \\cdot \\left(1.0 x^{3} - 2.0 y^{3} + 6.0 y^{2}\\right)}{1.0 x^{6} + 2.0 x^{3} y^{3} + 1.0 y^{6}} = 0\n"
     ]
    },
    {
     "data": {
      "text/latex": [
       "$\\displaystyle \\frac{y^{3} \\left(- 2.0 x^{3} + 12.0 x^{2} + 1.0 y^{3}\\right)}{1.0 x^{6} + 2.0 x^{3} y^{3} + 1.0 y^{6}} = 0$"
      ],
      "text/plain": [
       "Eq(y**3*(-2.0*x**3 + 12.0*x**2 + 1.0*y**3)/(1.0*x**6 + 2.0*x**3*y**3 + 1.0*y**6), 0)"
      ]
     },
     "execution_count": 7,
     "metadata": {},
     "output_type": "execute_result"
    }
   ],
   "source": [
    "x, y = sp.symbols('x y')\n",
    "print_latex(sp.simplify(foc1.evalf(subs={v1:4})).evalf(subs={c1:x, c2:y}))\n",
    "print_latex(sp.simplify(foc2.evalf(subs={v2:2})).evalf(subs={c1:x, c2:y}))\n",
    "sp.simplify(foc1.evalf(subs={v1:4})).evalf(subs={c1:x, c2:y})"
   ]
  },
  {
   "cell_type": "code",
   "execution_count": 8,
   "metadata": {},
   "outputs": [
    {
     "data": {
      "text/latex": [
       "$\\displaystyle \\frac{c_{1}^{3} \\cdot \\left(1.0 c_{1}^{3} - 2.0 c_{2}^{3} + 6.0 c_{2}^{2}\\right)}{1.0 c_{1}^{6} + 2.0 c_{1}^{3} c_{2}^{3} + 1.0 c_{2}^{6}} = 0$"
      ],
      "text/plain": [
       "Eq(c_1**3*(1.0*c_1**3 - 2.0*c_2**3 + 6.0*c_2**2)/(1.0*c_1**6 + 2.0*c_1**3*c_2**3 + 1.0*c_2**6), 0)"
      ]
     },
     "execution_count": 8,
     "metadata": {},
     "output_type": "execute_result"
    }
   ],
   "source": [
    "sp.simplify(foc2.evalf(subs={v2:2}))"
   ]
  },
  {
   "cell_type": "code",
   "execution_count": 9,
   "metadata": {},
   "outputs": [
    {
     "data": {
      "text/latex": [
       "$\\displaystyle \\frac{c_{2}^{3} \\left(- 2.0 c_{1}^{3} + 12.0 c_{1}^{2} + 1.0 c_{2}^{3}\\right)}{1.0 c_{1}^{6} + 2.0 c_{1}^{3} c_{2}^{3} + 1.0 c_{2}^{6}} = 0$"
      ],
      "text/plain": [
       "Eq(c_2**3*(-2.0*c_1**3 + 12.0*c_1**2 + 1.0*c_2**3)/(1.0*c_1**6 + 2.0*c_1**3*c_2**3 + 1.0*c_2**6), 0)"
      ]
     },
     "execution_count": 9,
     "metadata": {},
     "output_type": "execute_result"
    }
   ],
   "source": [
    "sp.simplify(foc1.evalf(subs={v1:4}))"
   ]
  },
  {
   "cell_type": "code",
   "execution_count": 10,
   "metadata": {},
   "outputs": [
    {
     "data": {
      "text/plain": [
       "[]"
      ]
     },
     "execution_count": 10,
     "metadata": {},
     "output_type": "execute_result"
    }
   ],
   "source": [
    "sol = sp.solve(\n",
    "    (sp.simplify(foc1.evalf(subs={v1:4})), sp.simplify(foc2.evalf(subs={v2:2}))), \n",
    "    (c1, c2),\n",
    "    dict=True)\n",
    "sol"
   ]
  },
  {
   "cell_type": "code",
   "execution_count": 11,
   "metadata": {},
   "outputs": [
    {
     "name": "stderr",
     "output_type": "stream",
     "text": [
      "100%|██████████| 200/200 [00:38<00:00,  5.23it/s]\n"
     ]
    }
   ],
   "source": [
    "# true values\n",
    "v1, v2 = 4, 2\n",
    "\n",
    "# init conditions\n",
    "curr1, curr2 = 1, 1\n",
    "a = 3\n",
    "\n",
    "# symbols\n",
    "c1 = sp.Symbol('c1', positive=True)\n",
    "c2 = sp.Symbol('c2', positive=True)\n",
    "\n",
    "p1Bids24, p2Bids24 = [curr1], [curr2]\n",
    "turn = 0\n",
    "for turn in tqdm(range(200)):\n",
    "    if turn % 2 == 0:\n",
    "        x1 = 1/(c1**a) / (1/(c1**a) + 1/(c2**a))\n",
    "        u1 = (c1-v1)*x1\n",
    "        partial = sp.diff(u1, c1)\n",
    "        best = sp.Eq(partial, 0).evalf(subs={c2:curr2})\n",
    "        sol = sp.solve(best)[0]\n",
    "        curr1 = sol\n",
    "        p1Bids24.append(curr1)\n",
    "    else:\n",
    "        x2 = 1/(c2**a) / (1/(c1**a) + 1/(c2**a))\n",
    "        u2 = (c2-v2)*x2\n",
    "        partial = sp.diff(u2, c2)\n",
    "        best = sp.Eq(partial, 0).evalf(subs={c1:curr1})\n",
    "        sol = sp.solve(best)[0]\n",
    "        curr2 = sol\n",
    "        p2Bids24.append(curr2)"
   ]
  },
  {
   "cell_type": "code",
   "execution_count": 12,
   "metadata": {},
   "outputs": [
    {
     "data": {
      "text/plain": [
       "(9.66287914802542, 8.81093289882157)"
      ]
     },
     "execution_count": 12,
     "metadata": {},
     "output_type": "execute_result"
    }
   ],
   "source": [
    "p1Bids24[-1], p2Bids24[-1]"
   ]
  },
  {
   "cell_type": "code",
   "execution_count": 13,
   "metadata": {},
   "outputs": [
    {
     "data": {
      "text/plain": [
       "0.43121517662414144"
      ]
     },
     "execution_count": 13,
     "metadata": {},
     "output_type": "execute_result"
    }
   ],
   "source": [
    "1/(9.66287914802542**3) / (1/(9.66287914802542**3)+1/(8.81093289882157**3))"
   ]
  },
  {
   "cell_type": "code",
   "execution_count": 14,
   "metadata": {},
   "outputs": [
    {
     "data": {
      "text/plain": [
       "0.5687848233758587"
      ]
     },
     "execution_count": 14,
     "metadata": {},
     "output_type": "execute_result"
    }
   ],
   "source": [
    "1/(8.81093289882157**3) / (1/(9.66287914802542**3)+1/(8.81093289882157**3))"
   ]
  },
  {
   "cell_type": "code",
   "execution_count": null,
   "metadata": {},
   "outputs": [],
   "source": []
  },
  {
   "cell_type": "code",
   "execution_count": null,
   "metadata": {},
   "outputs": [],
   "source": []
  },
  {
   "cell_type": "markdown",
   "metadata": {},
   "source": [
    "# procurements "
   ]
  },
  {
   "cell_type": "code",
   "execution_count": 17,
   "metadata": {},
   "outputs": [
    {
     "data": {
      "text/latex": [
       "$\\displaystyle \\frac{a y^{\\frac{1}{a}} \\left(1 - y\\right)}{- a y + a - 1}$"
      ],
      "text/plain": [
       "a*y**(1/a)*(1 - y)/(-a*y + a - 1)"
      ]
     },
     "execution_count": 17,
     "metadata": {},
     "output_type": "execute_result"
    }
   ],
   "source": [
    "a, xi = sp.symbols('a x_i')\n",
    "y     = sp.symbols('y')\n",
    "\n",
    "expr = a*y**(1/a)*(1-y) / (a-a*y-1)\n",
    "expr"
   ]
  },
  {
   "cell_type": "code",
   "execution_count": 18,
   "metadata": {},
   "outputs": [
    {
     "name": "stdout",
     "output_type": "stream",
     "text": [
      "\\frac{a^{2} y^{\\frac{1}{a}} \\left(1 - y\\right)}{\\left(- a y + a - 1\\right)^{2}} - \\frac{a y^{\\frac{1}{a}}}{- a y + a - 1} + \\frac{y^{\\frac{1}{a}} \\left(1 - y\\right)}{y \\left(- a y + a - 1\\right)}\n"
     ]
    },
    {
     "data": {
      "text/latex": [
       "$\\displaystyle \\frac{a^{2} y^{\\frac{a + 1}{a}} \\left(1 - y\\right) + a y^{\\frac{a + 1}{a}} \\left(a y - a + 1\\right) + y^{\\frac{1}{a}} \\left(y - 1\\right) \\left(a y - a + 1\\right)}{y \\left(a y - a + 1\\right)^{2}}$"
      ],
      "text/plain": [
       "(a**2*y**((a + 1)/a)*(1 - y) + a*y**((a + 1)/a)*(a*y - a + 1) + y**(1/a)*(y - 1)*(a*y - a + 1))/(y*(a*y - a + 1)**2)"
      ]
     },
     "execution_count": 18,
     "metadata": {},
     "output_type": "execute_result"
    }
   ],
   "source": [
    "print_latex(sp.diff(expr, y))\n",
    "integrand = sp.diff(expr, y)\n",
    "integrand\n",
    "sp.simplify(integrand)"
   ]
  },
  {
   "cell_type": "code",
   "execution_count": 19,
   "metadata": {},
   "outputs": [
    {
     "data": {
      "text/latex": [
       "$\\displaystyle - v_{i} \\left(\\int\\limits_{0}^{x_{i}} \\left(- \\frac{y^{\\frac{1}{a}}}{a^{2} y^{2} - 2 a^{2} y + a^{2} + 2 a y - 2 a + 1}\\right)\\, dy + \\int\\limits_{0}^{x_{i}} \\frac{a y^{\\frac{1}{a}}}{a^{2} y^{2} - 2 a^{2} y + a^{2} + 2 a y - 2 a + 1}\\, dy + \\int\\limits_{0}^{x_{i}} \\frac{a y^{1 + \\frac{1}{a}}}{a^{2} y^{2} - 2 a^{2} y + a^{2} + 2 a y - 2 a + 1}\\, dy + \\int\\limits_{0}^{x_{i}} \\frac{y y^{\\frac{1}{a}}}{a^{2} y^{2} - 2 a^{2} y + a^{2} + 2 a y - 2 a + 1}\\, dy + \\int\\limits_{0}^{x_{i}} \\left(- \\frac{2 a y y^{\\frac{1}{a}}}{a^{2} y^{2} - 2 a^{2} y + a^{2} + 2 a y - 2 a + 1}\\right)\\, dy + \\int\\limits_{0}^{x_{i}} \\frac{a y^{2} y^{\\frac{1}{a}}}{a^{2} y^{2} - 2 a^{2} y + a^{2} + 2 a y - 2 a + 1}\\, dy\\right)$"
      ],
      "text/plain": [
       "-v_i*(Integral(-y**(1/a)/(a**2*y**2 - 2*a**2*y + a**2 + 2*a*y - 2*a + 1), (y, 0, x_i)) + Integral(a*y**(1/a)/(a**2*y**2 - 2*a**2*y + a**2 + 2*a*y - 2*a + 1), (y, 0, x_i)) + Integral(a*y**(1 + 1/a)/(a**2*y**2 - 2*a**2*y + a**2 + 2*a*y - 2*a + 1), (y, 0, x_i)) + Integral(y*y**(1/a)/(a**2*y**2 - 2*a**2*y + a**2 + 2*a*y - 2*a + 1), (y, 0, x_i)) + Integral(-2*a*y*y**(1/a)/(a**2*y**2 - 2*a**2*y + a**2 + 2*a*y - 2*a + 1), (y, 0, x_i)) + Integral(a*y**2*y**(1/a)/(a**2*y**2 - 2*a**2*y + a**2 + 2*a*y - 2*a + 1), (y, 0, x_i)))"
      ]
     },
     "execution_count": 19,
     "metadata": {},
     "output_type": "execute_result"
    }
   ],
   "source": [
    "t1 = -vi*xi*a*(xi**(1/a) *(1-xi)) / (a-a*xi-1)\n",
    "t2 = sp.integrate(-vi*y*(sp.simplify(integrand)), (y, 0, xi))\n",
    "t2"
   ]
  },
  {
   "cell_type": "code",
   "execution_count": 20,
   "metadata": {},
   "outputs": [
    {
     "data": {
      "text/latex": [
       "$\\displaystyle - \\frac{a v_{i} x_{i} x_{i}^{\\frac{1}{a}} \\left(1 - x_{i}\\right)}{- a x_{i} + a - 1} + v_{i} \\left(\\int\\limits_{0}^{x_{i}} \\left(- \\frac{y^{\\frac{1}{a}}}{a^{2} y^{2} - 2 a^{2} y + a^{2} + 2 a y - 2 a + 1}\\right)\\, dy + \\int\\limits_{0}^{x_{i}} \\frac{a y^{\\frac{1}{a}}}{a^{2} y^{2} - 2 a^{2} y + a^{2} + 2 a y - 2 a + 1}\\, dy + \\int\\limits_{0}^{x_{i}} \\frac{a y^{1 + \\frac{1}{a}}}{a^{2} y^{2} - 2 a^{2} y + a^{2} + 2 a y - 2 a + 1}\\, dy + \\int\\limits_{0}^{x_{i}} \\frac{y y^{\\frac{1}{a}}}{a^{2} y^{2} - 2 a^{2} y + a^{2} + 2 a y - 2 a + 1}\\, dy + \\int\\limits_{0}^{x_{i}} \\left(- \\frac{2 a y y^{\\frac{1}{a}}}{a^{2} y^{2} - 2 a^{2} y + a^{2} + 2 a y - 2 a + 1}\\right)\\, dy + \\int\\limits_{0}^{x_{i}} \\frac{a y^{2} y^{\\frac{1}{a}}}{a^{2} y^{2} - 2 a^{2} y + a^{2} + 2 a y - 2 a + 1}\\, dy\\right)$"
      ],
      "text/plain": [
       "-a*v_i*x_i*x_i**(1/a)*(1 - x_i)/(-a*x_i + a - 1) + v_i*(Integral(-y**(1/a)/(a**2*y**2 - 2*a**2*y + a**2 + 2*a*y - 2*a + 1), (y, 0, x_i)) + Integral(a*y**(1/a)/(a**2*y**2 - 2*a**2*y + a**2 + 2*a*y - 2*a + 1), (y, 0, x_i)) + Integral(a*y**(1 + 1/a)/(a**2*y**2 - 2*a**2*y + a**2 + 2*a*y - 2*a + 1), (y, 0, x_i)) + Integral(y*y**(1/a)/(a**2*y**2 - 2*a**2*y + a**2 + 2*a*y - 2*a + 1), (y, 0, x_i)) + Integral(-2*a*y*y**(1/a)/(a**2*y**2 - 2*a**2*y + a**2 + 2*a*y - 2*a + 1), (y, 0, x_i)) + Integral(a*y**2*y**(1/a)/(a**2*y**2 - 2*a**2*y + a**2 + 2*a*y - 2*a + 1), (y, 0, x_i)))"
      ]
     },
     "execution_count": 20,
     "metadata": {},
     "output_type": "execute_result"
    }
   ],
   "source": [
    "uhat = t1 - t2\n",
    "uhat"
   ]
  },
  {
   "cell_type": "code",
   "execution_count": 21,
   "metadata": {},
   "outputs": [
    {
     "data": {
      "text/latex": [
       "$\\displaystyle - \\frac{6.0 x_{i}^{1.33333333333333} \\cdot \\left(1.0 - x_{i}\\right)}{2.0 - 3.0 x_{i}} + 2.0 \\int\\limits_{0}^{x_{i}} \\left(- \\frac{y^{0.333333333333333}}{9.0 y^{2} - 12.0 y + 4.0}\\right)\\, dy + 2.0 \\int\\limits_{0}^{x_{i}} \\frac{3.0 y^{0.333333333333333}}{9.0 y^{2} - 12.0 y + 4.0}\\, dy + 2.0 \\int\\limits_{0}^{x_{i}} \\left(- \\frac{6.0 y^{1.33333333333333}}{9.0 y^{2} - 12.0 y + 4.0}\\right)\\, dy + 2.0 \\int\\limits_{0}^{x_{i}} \\frac{y^{1.33333333333333}}{9.0 y^{2} - 12.0 y + 4.0}\\, dy + 2.0 \\int\\limits_{0}^{x_{i}} \\frac{3.0 y^{1.33333333333333}}{9.0 y^{2} - 12.0 y + 4.0}\\, dy + 2.0 \\int\\limits_{0}^{x_{i}} \\frac{3.0 y^{2.33333333333333}}{9.0 y^{2} - 12.0 y + 4.0}\\, dy$"
      ],
      "text/plain": [
       "-6.0*x_i**1.33333333333333*(1.0 - x_i)/(2.0 - 3.0*x_i) + 2.0*Integral(-y**0.333333333333333/(9.0*y**2 - 12.0*y + 4.0), (y, 0, x_i)) + 2.0*Integral(3.0*y**0.333333333333333/(9.0*y**2 - 12.0*y + 4.0), (y, 0, x_i)) + 2.0*Integral(-6.0*y**1.33333333333333/(9.0*y**2 - 12.0*y + 4.0), (y, 0, x_i)) + 2.0*Integral(y**1.33333333333333/(9.0*y**2 - 12.0*y + 4.0), (y, 0, x_i)) + 2.0*Integral(3.0*y**1.33333333333333/(9.0*y**2 - 12.0*y + 4.0), (y, 0, x_i)) + 2.0*Integral(3.0*y**2.33333333333333/(9.0*y**2 - 12.0*y + 4.0), (y, 0, x_i))"
      ]
     },
     "execution_count": 21,
     "metadata": {},
     "output_type": "execute_result"
    }
   ],
   "source": [
    "# two player, v1=4, v2=2, a=3\n",
    "uhat1 = uhat.evalf(subs={a:2.9999999999999999, vi:4})\n",
    "uhat2 = uhat.evalf(subs={a:2.9999999999999999, vi:2})\n",
    "uhat2"
   ]
  },
  {
   "cell_type": "code",
   "execution_count": 22,
   "metadata": {},
   "outputs": [
    {
     "data": {
      "text/latex": [
       "$\\displaystyle -3.41183194590359$"
      ],
      "text/plain": [
       "-3.41183194590359"
      ]
     },
     "execution_count": 22,
     "metadata": {},
     "output_type": "execute_result"
    }
   ],
   "source": [
    "testX = 0.43\n",
    "sumhats = uhat1.evalf(subs={xi:testX}) + uhat2.evalf(subs={xi:1-testX})\n",
    "sumhats"
   ]
  },
  {
   "cell_type": "code",
   "execution_count": 23,
   "metadata": {},
   "outputs": [
    {
     "name": "stderr",
     "output_type": "stream",
     "text": [
      "100%|██████████| 21/21 [00:54<00:00,  2.60s/it]\n"
     ]
    }
   ],
   "source": [
    "res = []\n",
    "candidates = np.arange(0.43, 0.432, 0.0001)\n",
    "for testX in tqdm(candidates):\n",
    "    res.append(uhat1.evalf(subs={xi:testX}) + uhat2.evalf(subs={xi:1-testX}))\n",
    "res = np.array(res)"
   ]
  },
  {
   "cell_type": "code",
   "execution_count": 24,
   "metadata": {},
   "outputs": [
    {
     "data": {
      "text/plain": [
       "(array([-3.41183194590359, -3.41182188158227, -3.41181268686075,\n",
       "        -3.41180436062831, -3.41179690177839, -3.41179030920866,\n",
       "        -3.41178458182091, -3.41177971852111, -3.41177571821933,\n",
       "        -3.41177257982977, -3.41177030227075, -3.41176888446464,\n",
       "        -3.41176832533790, -3.41176862382105, -3.41176977884862,\n",
       "        -3.41177178935919, -3.41177465429535, -3.41177837260366,\n",
       "        -3.41178294323468, -3.41178836514293, -3.41179463728688],\n",
       "       dtype=object),\n",
       " 0.43119999999999986)"
      ]
     },
     "execution_count": 24,
     "metadata": {},
     "output_type": "execute_result"
    }
   ],
   "source": [
    "res, candidates[np.argmax(res)]"
   ]
  },
  {
   "cell_type": "code",
   "execution_count": 25,
   "metadata": {},
   "outputs": [
    {
     "data": {
      "text/plain": [
       "[<matplotlib.lines.Line2D at 0x124e54250>]"
      ]
     },
     "execution_count": 25,
     "metadata": {},
     "output_type": "execute_result"
    },
    {
     "data": {
      "image/png": "[encoded data removed]",
      "text/plain": [
       "<Figure size 432x288 with 1 Axes>"
      ]
     },
     "metadata": {
      "needs_background": "light"
     },
     "output_type": "display_data"
    }
   ],
   "source": [
    "plt.plot(candidates, res)"
   ]
  },
  {
   "cell_type": "code",
   "execution_count": 221,
   "metadata": {},
   "outputs": [
    {
     "data": {
      "text/latex": [
       "$\\displaystyle \\frac{a y^{\\frac{1}{a}} \\left(1 - y\\right)}{- a y + a - 1}$"
      ],
      "text/plain": [
       "a*y**(1/a)*(1 - y)/(-a*y + a - 1)"
      ]
     },
     "execution_count": 221,
     "metadata": {},
     "output_type": "execute_result"
    }
   ],
   "source": [
    "# derive normal way\n",
    "a, xi = sp.symbols('a x_i')\n",
    "y     = sp.symbols('y')\n",
    "\n",
    "expr = a*y**(1/a)*(1-y) / (a-a*y-1)\n",
    "expr"
   ]
  },
  {
   "cell_type": "code",
   "execution_count": 226,
   "metadata": {},
   "outputs": [
    {
     "name": "stdout",
     "output_type": "stream",
     "text": [
      "\\frac{a^{2} y^{\\frac{1}{a}} \\left(1 - y\\right)}{\\left(- a y + a - 1\\right)^{2}} - \\frac{a y^{\\frac{1}{a}}}{- a y + a - 1} + \\frac{y^{\\frac{1}{a}} \\left(1 - y\\right)}{y \\left(- a y + a - 1\\right)}\n"
     ]
    },
    {
     "data": {
      "text/latex": [
       "$\\displaystyle \\frac{a^{2} y^{\\frac{a + 1}{a}} \\left(1 - y\\right) + a y^{\\frac{a + 1}{a}} \\left(a y - a + 1\\right) + y^{\\frac{1}{a}} \\left(y - 1\\right) \\left(a y - a + 1\\right)}{y \\left(a y - a + 1\\right)^{2}}$"
      ],
      "text/plain": [
       "(a**2*y**((a + 1)/a)*(1 - y) + a*y**((a + 1)/a)*(a*y - a + 1) + y**(1/a)*(y - 1)*(a*y - a + 1))/(y*(a*y - a + 1)**2)"
      ]
     },
     "execution_count": 226,
     "metadata": {},
     "output_type": "execute_result"
    }
   ],
   "source": [
    "print_latex(sp.diff(expr, y))\n",
    "integrand = sp.diff(expr, y)\n",
    "integrand\n",
    "sp.simplify(integrand)"
   ]
  },
  {
   "cell_type": "code",
   "execution_count": 227,
   "metadata": {},
   "outputs": [
    {
     "data": {
      "text/latex": [
       "$\\displaystyle - v_{i} \\left(\\int\\limits_{0}^{x_{i}} \\left(- \\frac{y^{\\frac{1}{a}}}{a^{2} y^{2} - 2 a^{2} y + a^{2} + 2 a y - 2 a + 1}\\right)\\, dy + \\int\\limits_{0}^{x_{i}} \\frac{a y^{\\frac{1}{a}}}{a^{2} y^{2} - 2 a^{2} y + a^{2} + 2 a y - 2 a + 1}\\, dy + \\int\\limits_{0}^{x_{i}} \\frac{a y^{1 + \\frac{1}{a}}}{a^{2} y^{2} - 2 a^{2} y + a^{2} + 2 a y - 2 a + 1}\\, dy + \\int\\limits_{0}^{x_{i}} \\frac{y y^{\\frac{1}{a}}}{a^{2} y^{2} - 2 a^{2} y + a^{2} + 2 a y - 2 a + 1}\\, dy + \\int\\limits_{0}^{x_{i}} \\left(- \\frac{2 a y y^{\\frac{1}{a}}}{a^{2} y^{2} - 2 a^{2} y + a^{2} + 2 a y - 2 a + 1}\\right)\\, dy + \\int\\limits_{0}^{x_{i}} \\frac{a y^{2} y^{\\frac{1}{a}}}{a^{2} y^{2} - 2 a^{2} y + a^{2} + 2 a y - 2 a + 1}\\, dy\\right)$"
      ],
      "text/plain": [
       "-v_i*(Integral(-y**(1/a)/(a**2*y**2 - 2*a**2*y + a**2 + 2*a*y - 2*a + 1), (y, 0, x_i)) + Integral(a*y**(1/a)/(a**2*y**2 - 2*a**2*y + a**2 + 2*a*y - 2*a + 1), (y, 0, x_i)) + Integral(a*y**(1 + 1/a)/(a**2*y**2 - 2*a**2*y + a**2 + 2*a*y - 2*a + 1), (y, 0, x_i)) + Integral(y*y**(1/a)/(a**2*y**2 - 2*a**2*y + a**2 + 2*a*y - 2*a + 1), (y, 0, x_i)) + Integral(-2*a*y*y**(1/a)/(a**2*y**2 - 2*a**2*y + a**2 + 2*a*y - 2*a + 1), (y, 0, x_i)) + Integral(a*y**2*y**(1/a)/(a**2*y**2 - 2*a**2*y + a**2 + 2*a*y - 2*a + 1), (y, 0, x_i)))"
      ]
     },
     "execution_count": 227,
     "metadata": {},
     "output_type": "execute_result"
    }
   ],
   "source": [
    "t1 = -vi*xi*a*(xi**(1/a) *(1-xi)) / (a-a*xi-1)\n",
    "t2 = sp.integrate(-vi*y*(sp.simplify(integrand)), (y, 0, xi))\n",
    "t2"
   ]
  },
  {
   "cell_type": "code",
   "execution_count": 233,
   "metadata": {},
   "outputs": [
    {
     "data": {
      "text/latex": [
       "$\\displaystyle - \\frac{a v_{i} x_{i} x_{i}^{\\frac{1}{a}} \\left(1 - x_{i}\\right)}{- a x_{i} + a - 1} + v_{i} \\left(\\int\\limits_{0}^{x_{i}} \\left(- \\frac{y^{\\frac{1}{a}}}{a^{2} y^{2} - 2 a^{2} y + a^{2} + 2 a y - 2 a + 1}\\right)\\, dy + \\int\\limits_{0}^{x_{i}} \\frac{a y^{\\frac{1}{a}}}{a^{2} y^{2} - 2 a^{2} y + a^{2} + 2 a y - 2 a + 1}\\, dy + \\int\\limits_{0}^{x_{i}} \\frac{a y^{1 + \\frac{1}{a}}}{a^{2} y^{2} - 2 a^{2} y + a^{2} + 2 a y - 2 a + 1}\\, dy + \\int\\limits_{0}^{x_{i}} \\frac{y y^{\\frac{1}{a}}}{a^{2} y^{2} - 2 a^{2} y + a^{2} + 2 a y - 2 a + 1}\\, dy + \\int\\limits_{0}^{x_{i}} \\left(- \\frac{2 a y y^{\\frac{1}{a}}}{a^{2} y^{2} - 2 a^{2} y + a^{2} + 2 a y - 2 a + 1}\\right)\\, dy + \\int\\limits_{0}^{x_{i}} \\frac{a y^{2} y^{\\frac{1}{a}}}{a^{2} y^{2} - 2 a^{2} y + a^{2} + 2 a y - 2 a + 1}\\, dy\\right)$"
      ],
      "text/plain": [
       "-a*v_i*x_i*x_i**(1/a)*(1 - x_i)/(-a*x_i + a - 1) + v_i*(Integral(-y**(1/a)/(a**2*y**2 - 2*a**2*y + a**2 + 2*a*y - 2*a + 1), (y, 0, x_i)) + Integral(a*y**(1/a)/(a**2*y**2 - 2*a**2*y + a**2 + 2*a*y - 2*a + 1), (y, 0, x_i)) + Integral(a*y**(1 + 1/a)/(a**2*y**2 - 2*a**2*y + a**2 + 2*a*y - 2*a + 1), (y, 0, x_i)) + Integral(y*y**(1/a)/(a**2*y**2 - 2*a**2*y + a**2 + 2*a*y - 2*a + 1), (y, 0, x_i)) + Integral(-2*a*y*y**(1/a)/(a**2*y**2 - 2*a**2*y + a**2 + 2*a*y - 2*a + 1), (y, 0, x_i)) + Integral(a*y**2*y**(1/a)/(a**2*y**2 - 2*a**2*y + a**2 + 2*a*y - 2*a + 1), (y, 0, x_i)))"
      ]
     },
     "execution_count": 233,
     "metadata": {},
     "output_type": "execute_result"
    }
   ],
   "source": [
    "uhat = t1 - t2\n",
    "uhat"
   ]
  },
  {
   "cell_type": "code",
   "execution_count": 232,
   "metadata": {},
   "outputs": [
    {
     "data": {
      "text/latex": [
       "$\\displaystyle 1.0 v_{i} \\left(- \\frac{x_{i}^{2}}{2} + x_{i}\\right)$"
      ],
      "text/plain": [
       "1.0*v_i*(-x_i**2/2 + x_i)"
      ]
     },
     "execution_count": 232,
     "metadata": {},
     "output_type": "execute_result"
    }
   ],
   "source": [
    "sp.simplify(uhat.evalf(subs={a:1}))"
   ]
  },
  {
   "cell_type": "code",
   "execution_count": 245,
   "metadata": {},
   "outputs": [
    {
     "data": {
      "text/latex": [
       "$\\displaystyle - \\frac{5.0 x_{i}^{1.4} \\cdot \\left(1.0 - x_{i}\\right)}{1.5 - 2.5 x_{i}} + 2.0 \\int\\limits_{0}^{x_{i}} \\left(- \\frac{y^{0.4}}{6.25 y^{2} - 7.5 y + 2.25}\\right)\\, dy + 2.0 \\int\\limits_{0}^{x_{i}} \\frac{2.5 y^{0.4}}{6.25 y^{2} - 7.5 y + 2.25}\\, dy + 2.0 \\int\\limits_{0}^{x_{i}} \\left(- \\frac{5.0 y^{1.4}}{6.25 y^{2} - 7.5 y + 2.25}\\right)\\, dy + 2.0 \\int\\limits_{0}^{x_{i}} \\frac{y^{1.4}}{6.25 y^{2} - 7.5 y + 2.25}\\, dy + 2.0 \\int\\limits_{0}^{x_{i}} \\frac{2.5 y^{1.4}}{6.25 y^{2} - 7.5 y + 2.25}\\, dy + 2.0 \\int\\limits_{0}^{x_{i}} \\frac{2.5 y^{2.4}}{6.25 y^{2} - 7.5 y + 2.25}\\, dy$"
      ],
      "text/plain": [
       "-5.0*x_i**1.4*(1.0 - x_i)/(1.5 - 2.5*x_i) + 2.0*Integral(-y**0.4/(6.25*y**2 - 7.5*y + 2.25), (y, 0, x_i)) + 2.0*Integral(2.5*y**0.4/(6.25*y**2 - 7.5*y + 2.25), (y, 0, x_i)) + 2.0*Integral(-5.0*y**1.4/(6.25*y**2 - 7.5*y + 2.25), (y, 0, x_i)) + 2.0*Integral(y**1.4/(6.25*y**2 - 7.5*y + 2.25), (y, 0, x_i)) + 2.0*Integral(2.5*y**1.4/(6.25*y**2 - 7.5*y + 2.25), (y, 0, x_i)) + 2.0*Integral(2.5*y**2.4/(6.25*y**2 - 7.5*y + 2.25), (y, 0, x_i))"
      ]
     },
     "execution_count": 245,
     "metadata": {},
     "output_type": "execute_result"
    }
   ],
   "source": [
    "# two player, v1=4, v2=2, a=2.5\n",
    "uhat1 = uhat.evalf(subs={a:2.5, vi:4})\n",
    "uhat2 = uhat.evalf(subs={a:2.5, vi:2})\n",
    "uhat2"
   ]
  },
  {
   "cell_type": "code",
   "execution_count": 263,
   "metadata": {},
   "outputs": [
    {
     "data": {
      "text/latex": [
       "$\\displaystyle -4.13010937117973$"
      ],
      "text/plain": [
       "-4.13010937117973"
      ]
     },
     "execution_count": 263,
     "metadata": {},
     "output_type": "execute_result"
    }
   ],
   "source": [
    "testX = 0.45\n",
    "sumhats = uhat1.evalf(subs={xi:testX}) + uhat2.evalf(subs={xi:1-testX})\n",
    "sumhats"
   ]
  },
  {
   "cell_type": "code",
   "execution_count": 265,
   "metadata": {},
   "outputs": [
    {
     "name": "stderr",
     "output_type": "stream",
     "text": [
      "100%|██████████| 40/40 [01:51<00:00,  2.79s/it]\n"
     ]
    }
   ],
   "source": [
    "res = []\n",
    "for testX in tqdm(np.arange(0.44, 0.48, 0.001)):\n",
    "    res.append(uhat1.evalf(subs={xi:testX}) + uhat2.evalf(subs={xi:1-testX}))\n",
    "res = np.array(res)"
   ]
  },
  {
   "cell_type": "code",
   "execution_count": 266,
   "metadata": {},
   "outputs": [
    {
     "data": {
      "text/plain": [
       "array([-4.18335669265438, -4.17622007724929, -4.16952771063106,\n",
       "       -4.16326197988870, -4.15740654456487, -4.15194622370708,\n",
       "       -4.14686689537999, -4.14215540703224, -4.13779949534804,\n",
       "       -4.13378771441180, -4.13010937117973, -4.12675446739196,\n",
       "       -4.12371364717673, -4.12097814969796, -4.11853976628256,\n",
       "       -4.11639080153642, -4.11452403802000, -4.11293270410766,\n",
       "       -4.11161044470096, -4.11055129450544, -4.10974965361500,\n",
       "       -4.10920026517749, -4.10889819494122, -4.10883881250443,\n",
       "       -4.10901777410989, -4.10943100684355, -4.11007469411205,\n",
       "       -4.11094526228660, -4.11203936841298, -4.11335388889773,\n",
       "       -4.11488590908981, -4.11663271368514, -4.11859177788899,\n",
       "       -4.12076075927738, -4.12313749030466, -4.12571997140960,\n",
       "       -4.12850636467695, -4.13149498801560, -4.13468430981844,\n",
       "       -4.13807294407198], dtype=object)"
      ]
     },
     "execution_count": 266,
     "metadata": {},
     "output_type": "execute_result"
    }
   ],
   "source": [
    "res"
   ]
  },
  {
   "cell_type": "code",
   "execution_count": 268,
   "metadata": {},
   "outputs": [
    {
     "data": {
      "text/plain": [
       "[<matplotlib.lines.Line2D at 0x1309dbbe0>]"
      ]
     },
     "execution_count": 268,
     "metadata": {},
     "output_type": "execute_result"
    },
    {
     "data": {
      "image/png": "[encoded data removed]",
      "text/plain": [
       "<Figure size 432x288 with 1 Axes>"
      ]
     },
     "metadata": {
      "needs_background": "light"
     },
     "output_type": "display_data"
    }
   ],
   "source": [
    "plt.plot(np.arange(0.44, 0.48, 0.001), res)"
   ]
  },
  {
   "cell_type": "code",
   "execution_count": null,
   "metadata": {},
   "outputs": [],
   "source": []
  },
  {
   "cell_type": "code",
   "execution_count": 48,
   "metadata": {},
   "outputs": [],
   "source": [
    "# 1/2 case.\n",
    "vi, xi = sp.symbols('v_i x_i')\n",
    "y      = sp.symbols('y')\n",
    "xi=0.5\n",
    "\n",
    "t1 = vi*xi*a * (xi**(1-1/a) - xi**(2-1/a))\n",
    "t2 = sp.integrate(vi*y*((a-1)*y**(-1/a)-(2*a-1)*y**(1-1/a)), (y, 0, xi))\n",
    "uhat = t1 - t2"
   ]
  },
  {
   "cell_type": "code",
   "execution_count": 52,
   "metadata": {},
   "outputs": [
    {
     "data": {
      "text/latex": [
       "$\\displaystyle 0.785674201318386 v_{i}$"
      ],
      "text/plain": [
       "0.785674201318386*v_i"
      ]
     },
     "execution_count": 52,
     "metadata": {},
     "output_type": "execute_result"
    }
   ],
   "source": [
    "uhat.evalf(subs={a:2/3})"
   ]
  },
  {
   "cell_type": "code",
   "execution_count": 47,
   "metadata": {},
   "outputs": [
    {
     "data": {
      "text/latex": [
       "$\\displaystyle a v_{i} x_{i} \\left(x_{i}^{1 - \\frac{1}{a}} - x_{i}^{2 - \\frac{1}{a}}\\right) - \\begin{cases} v_{i} \\left(\\frac{\\log{\\left(x_{i} \\right)}}{3} + \\frac{2}{3 x_{i}}\\right) - \\infty \\operatorname{sign}{\\left(v_{i} \\right)} & \\text{for}\\: a = \\frac{1}{3} \\\\- \\frac{v_{i} \\log{\\left(x_{i} \\right)}}{2} - \\infty \\operatorname{sign}{\\left(v_{i} \\right)} & \\text{for}\\: a = \\frac{1}{2} \\\\v_{i} \\left(- \\frac{4 a^{3} x_{i}^{2} x_{i}^{\\frac{1}{a}} x_{i}^{1 - \\frac{1}{a}}}{6 a^{2} x_{i}^{\\frac{1}{a}} - 5 a x_{i}^{\\frac{1}{a}} + x_{i}^{\\frac{1}{a}}} + \\frac{3 a^{3} x_{i}^{2}}{6 a^{2} x_{i}^{\\frac{1}{a}} - 5 a x_{i}^{\\frac{1}{a}} + x_{i}^{\\frac{1}{a}}} + \\frac{4 a^{2} x_{i}^{2} x_{i}^{\\frac{1}{a}} x_{i}^{1 - \\frac{1}{a}}}{6 a^{2} x_{i}^{\\frac{1}{a}} - 5 a x_{i}^{\\frac{1}{a}} + x_{i}^{\\frac{1}{a}}} - \\frac{4 a^{2} x_{i}^{2}}{6 a^{2} x_{i}^{\\frac{1}{a}} - 5 a x_{i}^{\\frac{1}{a}} + x_{i}^{\\frac{1}{a}}} - \\frac{a x_{i}^{2} x_{i}^{\\frac{1}{a}} x_{i}^{1 - \\frac{1}{a}}}{6 a^{2} x_{i}^{\\frac{1}{a}} - 5 a x_{i}^{\\frac{1}{a}} + x_{i}^{\\frac{1}{a}}} + \\frac{a x_{i}^{2}}{6 a^{2} x_{i}^{\\frac{1}{a}} - 5 a x_{i}^{\\frac{1}{a}} + x_{i}^{\\frac{1}{a}}}\\right) & \\text{otherwise} \\end{cases}$"
      ],
      "text/plain": [
       "a*v_i*x_i*(x_i**(1 - 1/a) - x_i**(2 - 1/a)) - Piecewise((v_i*(log(x_i)/3 + 2/(3*x_i)) - oo*sign(v_i), Eq(a, 1/3)), (-v_i*log(x_i)/2 - oo*sign(v_i), Eq(a, 1/2)), (v_i*(-4*a**3*x_i**2*x_i**(1/a)*x_i**(1 - 1/a)/(6*a**2*x_i**(1/a) - 5*a*x_i**(1/a) + x_i**(1/a)) + 3*a**3*x_i**2/(6*a**2*x_i**(1/a) - 5*a*x_i**(1/a) + x_i**(1/a)) + 4*a**2*x_i**2*x_i**(1/a)*x_i**(1 - 1/a)/(6*a**2*x_i**(1/a) - 5*a*x_i**(1/a) + x_i**(1/a)) - 4*a**2*x_i**2/(6*a**2*x_i**(1/a) - 5*a*x_i**(1/a) + x_i**(1/a)) - a*x_i**2*x_i**(1/a)*x_i**(1 - 1/a)/(6*a**2*x_i**(1/a) - 5*a*x_i**(1/a) + x_i**(1/a)) + a*x_i**2/(6*a**2*x_i**(1/a) - 5*a*x_i**(1/a) + x_i**(1/a))), True))"
      ]
     },
     "execution_count": 47,
     "metadata": {},
     "output_type": "execute_result"
    }
   ],
   "source": [
    "uhat"
   ]
  },
  {
   "cell_type": "code",
   "execution_count": 35,
   "metadata": {},
   "outputs": [
    {
     "data": {
      "text/latex": [
       "$\\displaystyle 3.0 a \\left(0.5^{1.0 - \\frac{1}{a}} - 0.5^{2.0 - \\frac{1}{a}}\\right) - \\begin{cases} -\\infty & \\text{for}\\: a = \\frac{1}{3} \\vee a = \\frac{1}{2} \\\\- \\frac{4.0 \\cdot 0.5^{\\frac{1}{a}} 0.5^{1.0 - \\frac{1}{a}} a^{3}}{6.0 \\cdot 0.5^{\\frac{1}{a}} a^{2} - 5.0 \\cdot 0.5^{\\frac{1}{a}} a + 0.5^{\\frac{1}{a}}} + \\frac{4.0 \\cdot 0.5^{\\frac{1}{a}} 0.5^{1.0 - \\frac{1}{a}} a^{2}}{6.0 \\cdot 0.5^{\\frac{1}{a}} a^{2} - 5.0 \\cdot 0.5^{\\frac{1}{a}} a + 0.5^{\\frac{1}{a}}} - \\frac{1.0 \\cdot 0.5^{\\frac{1}{a}} 0.5^{1.0 - \\frac{1}{a}} a}{6.0 \\cdot 0.5^{\\frac{1}{a}} a^{2} - 5.0 \\cdot 0.5^{\\frac{1}{a}} a + 0.5^{\\frac{1}{a}}} + \\frac{3.0 a^{3}}{6.0 \\cdot 0.5^{\\frac{1}{a}} a^{2} - 5.0 \\cdot 0.5^{\\frac{1}{a}} a + 0.5^{\\frac{1}{a}}} - \\frac{4.0 a^{2}}{6.0 \\cdot 0.5^{\\frac{1}{a}} a^{2} - 5.0 \\cdot 0.5^{\\frac{1}{a}} a + 0.5^{\\frac{1}{a}}} + \\frac{1.0 a}{6.0 \\cdot 0.5^{\\frac{1}{a}} a^{2} - 5.0 \\cdot 0.5^{\\frac{1}{a}} a + 0.5^{\\frac{1}{a}}} & \\text{otherwise} \\end{cases} - \\begin{cases} -\\infty & \\text{for}\\: a = \\frac{1}{3} \\vee a = \\frac{1}{2} \\\\- \\frac{2.0 \\cdot 0.5^{\\frac{1}{a}} 0.5^{1.0 - \\frac{1}{a}} a^{3}}{6.0 \\cdot 0.5^{\\frac{1}{a}} a^{2} - 5.0 \\cdot 0.5^{\\frac{1}{a}} a + 0.5^{\\frac{1}{a}}} + \\frac{2.0 \\cdot 0.5^{\\frac{1}{a}} 0.5^{1.0 - \\frac{1}{a}} a^{2}}{6.0 \\cdot 0.5^{\\frac{1}{a}} a^{2} - 5.0 \\cdot 0.5^{\\frac{1}{a}} a + 0.5^{\\frac{1}{a}}} - \\frac{0.5 \\cdot 0.5^{\\frac{1}{a}} 0.5^{1.0 - \\frac{1}{a}} a}{6.0 \\cdot 0.5^{\\frac{1}{a}} a^{2} - 5.0 \\cdot 0.5^{\\frac{1}{a}} a + 0.5^{\\frac{1}{a}}} + \\frac{1.5 a^{3}}{6.0 \\cdot 0.5^{\\frac{1}{a}} a^{2} - 5.0 \\cdot 0.5^{\\frac{1}{a}} a + 0.5^{\\frac{1}{a}}} - \\frac{2.0 a^{2}}{6.0 \\cdot 0.5^{\\frac{1}{a}} a^{2} - 5.0 \\cdot 0.5^{\\frac{1}{a}} a + 0.5^{\\frac{1}{a}}} + \\frac{0.5 a}{6.0 \\cdot 0.5^{\\frac{1}{a}} a^{2} - 5.0 \\cdot 0.5^{\\frac{1}{a}} a + 0.5^{\\frac{1}{a}}} & \\text{otherwise} \\end{cases}$"
      ],
      "text/plain": [
       "3.0*a*(0.5**(1.0 - 1/a) - 0.5**(2.0 - 1/a)) - Piecewise((-oo, Eq(a, 1/3) | Eq(a, 1/2)), (-4.0*0.5**(1/a)*0.5**(1.0 - 1/a)*a**3/(6.0*0.5**(1/a)*a**2 - 5.0*0.5**(1/a)*a + 0.5**(1/a)) + 4.0*0.5**(1/a)*0.5**(1.0 - 1/a)*a**2/(6.0*0.5**(1/a)*a**2 - 5.0*0.5**(1/a)*a + 0.5**(1/a)) - 1.0*0.5**(1/a)*0.5**(1.0 - 1/a)*a/(6.0*0.5**(1/a)*a**2 - 5.0*0.5**(1/a)*a + 0.5**(1/a)) + 3.0*a**3/(6.0*0.5**(1/a)*a**2 - 5.0*0.5**(1/a)*a + 0.5**(1/a)) - 4.0*a**2/(6.0*0.5**(1/a)*a**2 - 5.0*0.5**(1/a)*a + 0.5**(1/a)) + 1.0*a/(6.0*0.5**(1/a)*a**2 - 5.0*0.5**(1/a)*a + 0.5**(1/a)), True)) - Piecewise((-oo, Eq(a, 1/3) | Eq(a, 1/2)), (-2.0*0.5**(1/a)*0.5**(1.0 - 1/a)*a**3/(6.0*0.5**(1/a)*a**2 - 5.0*0.5**(1/a)*a + 0.5**(1/a)) + 2.0*0.5**(1/a)*0.5**(1.0 - 1/a)*a**2/(6.0*0.5**(1/a)*a**2 - 5.0*0.5**(1/a)*a + 0.5**(1/a)) - 0.5*0.5**(1/a)*0.5**(1.0 - 1/a)*a/(6.0*0.5**(1/a)*a**2 - 5.0*0.5**(1/a)*a + 0.5**(1/a)) + 1.5*a**3/(6.0*0.5**(1/a)*a**2 - 5.0*0.5**(1/a)*a + 0.5**(1/a)) - 2.0*a**2/(6.0*0.5**(1/a)*a**2 - 5.0*0.5**(1/a)*a + 0.5**(1/a)) + 0.5*a/(6.0*0.5**(1/a)*a**2 - 5.0*0.5**(1/a)*a + 0.5**(1/a)), True))"
      ]
     },
     "execution_count": 35,
     "metadata": {},
     "output_type": "execute_result"
    }
   ],
   "source": [
    "(uhat.evalf(subs={vi:4}) + uhat.evalf(subs={vi:2})).evalf(subs={xi:0.5})"
   ]
  },
  {
   "cell_type": "code",
   "execution_count": 37,
   "metadata": {},
   "outputs": [
    {
     "data": {
      "text/latex": [
       "$\\displaystyle \\frac{b_{1}^{0.5} v_{2}}{b_{1}^{0.5} + b_{2}^{0.5}} - b_{2}$"
      ],
      "text/plain": [
       "b_1**0.5*v_2/(b_1**0.5 + b_2**0.5) - b_2"
      ]
     },
     "execution_count": 37,
     "metadata": {},
     "output_type": "execute_result"
    }
   ],
   "source": [
    "# 1/2 case.\n",
    "v1, v2, b1, b2 = sp.symbols('v_1 v_2 b_1 b_2')\n",
    "\n",
    "x1 = b1**(1/2)/(b1**(1/2)+b2**(1/2))\n",
    "x2 = b1**(1/2)/(b1**(1/2)+b2**(1/2))\n",
    "u1 = x1*v1-b1\n",
    "u2 = x2*v2-b2\n",
    "u2"
   ]
  },
  {
   "cell_type": "code",
   "execution_count": 42,
   "metadata": {},
   "outputs": [
    {
     "data": {
      "text/latex": [
       "$\\displaystyle \\frac{0.5 b_{2}^{0.5} v_{1}}{b_{1}^{0.5} \\left(b_{1}^{0.5} + b_{2}^{0.5}\\right)^{2}} - 1$"
      ],
      "text/plain": [
       "0.5*b_2**0.5*v_1/(b_1**0.5*(b_1**0.5 + b_2**0.5)**2) - 1"
      ]
     },
     "execution_count": 42,
     "metadata": {},
     "output_type": "execute_result"
    }
   ],
   "source": [
    "part1 = sp.simplify(sp.diff(u1, b1))\n",
    "part2 = sp.simplify(sp.diff(u1, b1))\n",
    "part1"
   ]
  },
  {
   "cell_type": "code",
   "execution_count": 44,
   "metadata": {},
   "outputs": [
    {
     "data": {
      "text/latex": [
       "$\\displaystyle \\frac{0.5 b_{2}^{0.5} v_{1}}{b_{1}^{0.5} \\left(b_{1}^{0.5} + b_{2}^{0.5}\\right)^{2}} - 1 = 0$"
      ],
      "text/plain": [
       "Eq(0.5*b_2**0.5*v_1/(b_1**0.5*(b_1**0.5 + b_2**0.5)**2) - 1, 0)"
      ]
     },
     "execution_count": 44,
     "metadata": {},
     "output_type": "execute_result"
    }
   ],
   "source": [
    "foc1 = sp.Eq(part1, 0)\n",
    "foc2 = sp.Eq(part2, 0)\n",
    "foc1"
   ]
  },
  {
   "cell_type": "code",
   "execution_count": 50,
   "metadata": {},
   "outputs": [
    {
     "data": {
      "text/latex": [
       "$\\displaystyle \\frac{b_{1}^{0.333333333333333} v_{2}}{b_{1}^{0.333333333333333} + b_{2}^{0.333333333333333}} - b_{2}$"
      ],
      "text/plain": [
       "b_1**0.333333333333333*v_2/(b_1**0.333333333333333 + b_2**0.333333333333333) - b_2"
      ]
     },
     "execution_count": 50,
     "metadata": {},
     "output_type": "execute_result"
    }
   ],
   "source": [
    "# 1/3 case.\n",
    "v1, v2, b1, b2 = sp.symbols('v_1 v_2 b_1 b_2')\n",
    "\n",
    "x1 = b1**(1/3)/(b1**(1/3)+b2**(1/3))\n",
    "x2 = b1**(1/3)/(b1**(1/3)+b2**(1/3))\n",
    "u1 = x1*v1-b1\n",
    "u2 = x2*v2-b2\n",
    "u2"
   ]
  },
  {
   "cell_type": "code",
   "execution_count": 51,
   "metadata": {},
   "outputs": [
    {
     "data": {
      "text/latex": [
       "$\\displaystyle \\frac{0.333333333333333 b_{2}^{0.333333333333333} v_{1}}{b_{1}^{0.666666666666667} \\left(b_{1}^{0.333333333333333} + b_{2}^{0.333333333333333}\\right)^{2}} - 1$"
      ],
      "text/plain": [
       "0.333333333333333*b_2**0.333333333333333*v_1/(b_1**0.666666666666667*(b_1**0.333333333333333 + b_2**0.333333333333333)**2) - 1"
      ]
     },
     "execution_count": 51,
     "metadata": {},
     "output_type": "execute_result"
    }
   ],
   "source": [
    "part1 = sp.simplify(sp.diff(u1, b1))\n",
    "part2 = sp.simplify(sp.diff(u1, b1))\n",
    "part1"
   ]
  },
  {
   "cell_type": "code",
   "execution_count": 44,
   "metadata": {},
   "outputs": [
    {
     "data": {
      "text/latex": [
       "$\\displaystyle \\frac{0.5 b_{2}^{0.5} v_{1}}{b_{1}^{0.5} \\left(b_{1}^{0.5} + b_{2}^{0.5}\\right)^{2}} - 1 = 0$"
      ],
      "text/plain": [
       "Eq(0.5*b_2**0.5*v_1/(b_1**0.5*(b_1**0.5 + b_2**0.5)**2) - 1, 0)"
      ]
     },
     "execution_count": 44,
     "metadata": {},
     "output_type": "execute_result"
    }
   ],
   "source": [
    "foc1 = sp.Eq(part1, 0)\n",
    "foc2 = sp.Eq(part2, 0)\n",
    "foc1"
   ]
  },
  {
   "cell_type": "code",
   "execution_count": null,
   "metadata": {},
   "outputs": [],
   "source": []
  }
 ],
 "metadata": {
  "kernelspec": {
   "display_name": "Python 3",
   "language": "python",
   "name": "python3"
  },
  "language_info": {
   "codemirror_mode": {
    "name": "ipython",
    "version": 3
   },
   "file_extension": ".py",
   "mimetype": "text/x-python",
   "name": "python",
   "nbconvert_exporter": "python",
   "pygments_lexer": "ipython3",
   "version": "3.8.16"
  }
 },
 "nbformat": 4,
 "nbformat_minor": 4
}
