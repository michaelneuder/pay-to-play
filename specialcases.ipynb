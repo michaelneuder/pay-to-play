{
 "cells": [
  {
   "cell_type": "code",
   "execution_count": 1,
   "metadata": {},
   "outputs": [],
   "source": [
    "import matplotlib.pyplot as plt\n",
    "import matplotlib as mpl\n",
    "import matplotlib.patches as mpatches\n",
    "import numpy as np\n",
    "import pandas as pd\n",
    "import cvxpy as cp\n",
    "from scipy.stats import poisson, uniform, expon, pareto\n",
    "from scipy.optimize import minimize\n",
    "from tqdm import tqdm\n",
    "from mdptoolbox import mdp, util\n",
    "import itertools\n",
    "from scipy.sparse import csr_matrix, lil_matrix\n",
    "from matplotlib.patches import Patch\n",
    "import math\n",
    "import random\n",
    "import sympy as sp\n",
    "from sympy.printing.latex import print_latex"
   ]
  },
  {
   "cell_type": "markdown",
   "metadata": {},
   "source": [
    "# Symbolic for derivatives"
   ]
  },
  {
   "cell_type": "code",
   "execution_count": 2,
   "metadata": {},
   "outputs": [
    {
     "data": {
      "text/latex": [
       "$\\displaystyle \\frac{b_{i}^{0.5} v_{i}}{b_{i}^{0.5} + o} - b_{i}$"
      ],
      "text/plain": [
       "b_i**0.5*v_i/(b_i**0.5 + o) - b_i"
      ]
     },
     "execution_count": 2,
     "metadata": {},
     "output_type": "execute_result"
    }
   ],
   "source": [
    "# 1/2 case.\n",
    "vi, bi, o = sp.symbols('v_i b_i o')\n",
    "\n",
    "Q = bi**(1/2)*vi/(bi**(1/2) + o) - bi\n",
    "Q"
   ]
  },
  {
   "cell_type": "code",
   "execution_count": 4,
   "metadata": {},
   "outputs": [
    {
     "data": {
      "text/latex": [
       "$\\displaystyle \\frac{0.5 v_{i}}{b_{i}^{0.5} \\left(b_{i}^{0.5} + o\\right)} - \\frac{0.5 v_{i}}{\\left(b_{i}^{0.5} + o\\right)^{2}} - 1$"
      ],
      "text/plain": [
       "0.5*v_i/(b_i**0.5*(b_i**0.5 + o)) - 0.5*v_i/(b_i**0.5 + o)**2 - 1"
      ]
     },
     "execution_count": 4,
     "metadata": {},
     "output_type": "execute_result"
    }
   ],
   "source": [
    "sp.diff(Q, bi)"
   ]
  },
  {
   "cell_type": "code",
   "execution_count": 6,
   "metadata": {},
   "outputs": [
    {
     "data": {
      "text/latex": [
       "$\\displaystyle - \\frac{0.5}{x_{i}^{2}}$"
      ],
      "text/plain": [
       "-0.5/x_i**2"
      ]
     },
     "execution_count": 6,
     "metadata": {},
     "output_type": "execute_result"
    }
   ],
   "source": [
    "xi = sp.symbols('x_i')\n",
    "expr = 1/2 *(-1 + 1/xi)\n",
    "sp.diff(expr, xi)"
   ]
  },
  {
   "cell_type": "code",
   "execution_count": 7,
   "metadata": {},
   "outputs": [],
   "source": [
    "# alpha > 1\n",
    "vi, xi = sp.symbols('v_i x_i')\n",
    "a      = sp.symbols('a')\n",
    "y      = sp.symbols('y')\n",
    "\n",
    "\n",
    "t1 = vi*xi*a * (xi**(1-1/a) - xi**(2-1/a))\n",
    "t2 = sp.integrate(vi*y*((a-1)*y**(-1/a)-(2*a-1)*y**(1-1/a)), (y, 0, xi))\n",
    "uhat = t1 - t2"
   ]
  },
  {
   "cell_type": "code",
   "execution_count": 18,
   "metadata": {},
   "outputs": [
    {
     "data": {
      "text/latex": [
       "$\\displaystyle v_{i} \\left(1.000000009998 x_{i}^{1.000099990001} - 0.500025001249813 x_{i}^{2.000099990001}\\right)$"
      ],
      "text/plain": [
       "v_i*(1.000000009998*x_i**1.000099990001 - 0.500025001249813*x_i**2.000099990001)"
      ]
     },
     "execution_count": 18,
     "metadata": {},
     "output_type": "execute_result"
    }
   ],
   "source": [
    "sp.simplify( uhat.evalf(subs={a:1.0001}))"
   ]
  },
  {
   "cell_type": "code",
   "execution_count": 19,
   "metadata": {},
   "outputs": [
    {
     "data": {
      "text/latex": [
       "$\\displaystyle v_{i} \\left(1.33333333333333 x_{i}^{1.5} - 0.8 x_{i}^{2.5}\\right)$"
      ],
      "text/plain": [
       "v_i*(1.33333333333333*x_i**1.5 - 0.8*x_i**2.5)"
      ]
     },
     "execution_count": 19,
     "metadata": {},
     "output_type": "execute_result"
    }
   ],
   "source": [
    "sp.simplify( uhat.evalf(subs={a:2}))"
   ]
  },
  {
   "cell_type": "code",
   "execution_count": 17,
   "metadata": {},
   "outputs": [
    {
     "data": {
      "text/latex": [
       "$\\displaystyle v_{i} \\left(1.33333333333333 x_{i}^{0.5} - 0.444444444444445 x_{i}^{1.5}\\right)$"
      ],
      "text/plain": [
       "v_i*(1.33333333333333*x_i**0.5 - 0.444444444444445*x_i**1.5)"
      ]
     },
     "execution_count": 17,
     "metadata": {},
     "output_type": "execute_result"
    }
   ],
   "source": [
    "sp.simplify( uhat.evalf(subs={a:2/3}))"
   ]
  },
  {
   "cell_type": "code",
   "execution_count": 44,
   "metadata": {},
   "outputs": [
    {
     "data": {
      "text/latex": [
       "$\\displaystyle \\frac{b_{1}^{2} v_{1}}{b_{1}^{2} + b_{2}^{2}} - b_{1}$"
      ],
      "text/plain": [
       "b_1**2*v_1/(b_1**2 + b_2**2) - b_1"
      ]
     },
     "execution_count": 44,
     "metadata": {},
     "output_type": "execute_result"
    }
   ],
   "source": [
    "# derive normal way\n",
    "v1, v2, b1, b2 = sp.symbols('v_1 v_2 b_1 b_2')\n",
    "\n",
    "u1 = v1*b1**2 / (b1**2 + b2**2) - b1\n",
    "u2 = v2*b2**2 / (b1**2 + b2**2) - b2\n",
    "u1"
   ]
  },
  {
   "cell_type": "code",
   "execution_count": 45,
   "metadata": {},
   "outputs": [
    {
     "data": {
      "text/latex": [
       "$\\displaystyle \\frac{2 b_{1} b_{2}^{2} v_{1}}{\\left(b_{1}^{2} + b_{2}^{2}\\right)^{2}} - 1$"
      ],
      "text/plain": [
       "2*b_1*b_2**2*v_1/(b_1**2 + b_2**2)**2 - 1"
      ]
     },
     "execution_count": 45,
     "metadata": {},
     "output_type": "execute_result"
    }
   ],
   "source": [
    "part1 = sp.simplify(sp.diff(u1, b1))\n",
    "part2 = sp.simplify(sp.diff(u2, b2))\n",
    "part1"
   ]
  },
  {
   "cell_type": "code",
   "execution_count": 48,
   "metadata": {},
   "outputs": [
    {
     "data": {
      "text/latex": [
       "$\\displaystyle \\frac{2 b_{1} b_{2}^{2} v_{1}}{\\left(b_{1}^{2} + b_{2}^{2}\\right)^{2}} - 1 = 0$"
      ],
      "text/plain": [
       "Eq(2*b_1*b_2**2*v_1/(b_1**2 + b_2**2)**2 - 1, 0)"
      ]
     },
     "execution_count": 48,
     "metadata": {},
     "output_type": "execute_result"
    }
   ],
   "source": [
    "foc1 = sp.Eq(part1, 0)\n",
    "foc2 = sp.Eq(part2, 0)\n",
    "foc1"
   ]
  },
  {
   "cell_type": "code",
   "execution_count": 65,
   "metadata": {},
   "outputs": [
    {
     "data": {
      "text/plain": [
       "[{b_1: 1.28000000000000, b_2: 0.640000000000000}]"
      ]
     },
     "execution_count": 65,
     "metadata": {},
     "output_type": "execute_result"
    }
   ],
   "source": [
    "sol = sp.solve((foc1.evalf(subs={v1:4}), foc2.evalf(subs={v2:2})), (b1, b2), dict=True)\n",
    "sol"
   ]
  },
  {
   "cell_type": "code",
   "execution_count": 80,
   "metadata": {},
   "outputs": [
    {
     "data": {
      "text/latex": [
       "$\\displaystyle 0.3125$"
      ],
      "text/plain": [
       "0.312500000000000"
      ]
     },
     "execution_count": 80,
     "metadata": {},
     "output_type": "execute_result"
    }
   ],
   "source": [
    "sp.simplify(sp.diff(part2, b2)).evalf(subs={v2:2, b1:32/25, b2: 16/25})"
   ]
  },
  {
   "cell_type": "code",
   "execution_count": 84,
   "metadata": {},
   "outputs": [
    {
     "data": {
      "text/latex": [
       "$\\displaystyle \\frac{2.0 b_{2}^{2}}{b_{2}^{2} + 1.6384} - b_{2}$"
      ],
      "text/plain": [
       "2.0*b_2**2/(b_2**2 + 1.6384) - b_2"
      ]
     },
     "execution_count": 84,
     "metadata": {},
     "output_type": "execute_result"
    }
   ],
   "source": [
    "u2.evalf(subs={v2:2, b1:32/25})"
   ]
  },
  {
   "cell_type": "code",
   "execution_count": 86,
   "metadata": {},
   "outputs": [
    {
     "data": {
      "text/latex": [
       "$\\displaystyle \\frac{4.0 b_{1}^{2}}{b_{1}^{2} + 0.4096} - b_{1}$"
      ],
      "text/plain": [
       "4.0*b_1**2/(b_1**2 + 0.4096) - b_1"
      ]
     },
     "execution_count": 86,
     "metadata": {},
     "output_type": "execute_result"
    }
   ],
   "source": [
    "u1.evalf(subs={v1:4, b2:16/25})"
   ]
  },
  {
   "cell_type": "code",
   "execution_count": 68,
   "metadata": {},
   "outputs": [
    {
     "data": {
      "text/latex": [
       "$\\displaystyle -1.71875$"
      ],
      "text/plain": [
       "-1.71875000000000"
      ]
     },
     "execution_count": 68,
     "metadata": {},
     "output_type": "execute_result"
    }
   ],
   "source": [
    ".evalf(subs={v2:2, b1:1.28, b2:0.64})sp.simplify(sp.diff(part2, b2))\n",
    "sp.simplify(sp.diff(part1, b1)).evalf(subs={v1:4, b1:1.28, b2:0.64})"
   ]
  },
  {
   "cell_type": "code",
   "execution_count": null,
   "metadata": {},
   "outputs": [],
   "source": []
  },
  {
   "cell_type": "code",
   "execution_count": null,
   "metadata": {},
   "outputs": [],
   "source": []
  },
  {
   "cell_type": "code",
   "execution_count": null,
   "metadata": {},
   "outputs": [],
   "source": []
  },
  {
   "cell_type": "code",
   "execution_count": null,
   "metadata": {},
   "outputs": [],
   "source": []
  },
  {
   "cell_type": "code",
   "execution_count": null,
   "metadata": {},
   "outputs": [],
   "source": []
  },
  {
   "cell_type": "code",
   "execution_count": 6,
   "metadata": {},
   "outputs": [],
   "source": [
    "# 1/2 case.\n",
    "vi, xi = sp.symbols('v_i x_i')\n",
    "y      = sp.symbols('y')\n",
    "\n",
    "\n",
    "t1 = vi*xi*a * (xi**(1-1/a) - xi**(2-1/a))\n",
    "t2 = sp.integrate(vi*y*((a-1)*y**(-1/a)-(2*a-1)*y**(1-1/a)), (y, 0, xi))\n",
    "uhat = t1 - t2"
   ]
  },
  {
   "cell_type": "code",
   "execution_count": 9,
   "metadata": {},
   "outputs": [
    {
     "data": {
      "text/latex": [
       "$\\displaystyle a v_{i} x_{i} \\left(x_{i}^{1 - \\frac{1}{a}} - x_{i}^{2 - \\frac{1}{a}}\\right) - \\begin{cases} v_{i} \\left(\\frac{\\log{\\left(x_{i} \\right)}}{3} + \\frac{2}{3 x_{i}}\\right) - \\infty \\operatorname{sign}{\\left(v_{i} \\right)} & \\text{for}\\: a = \\frac{1}{3} \\\\- \\frac{v_{i} \\log{\\left(x_{i} \\right)}}{2} - \\infty \\operatorname{sign}{\\left(v_{i} \\right)} & \\text{for}\\: a = \\frac{1}{2} \\\\v_{i} \\left(- \\frac{4 a^{3} x_{i}^{2} x_{i}^{\\frac{1}{a}} x_{i}^{1 - \\frac{1}{a}}}{6 a^{2} x_{i}^{\\frac{1}{a}} - 5 a x_{i}^{\\frac{1}{a}} + x_{i}^{\\frac{1}{a}}} + \\frac{3 a^{3} x_{i}^{2}}{6 a^{2} x_{i}^{\\frac{1}{a}} - 5 a x_{i}^{\\frac{1}{a}} + x_{i}^{\\frac{1}{a}}} + \\frac{4 a^{2} x_{i}^{2} x_{i}^{\\frac{1}{a}} x_{i}^{1 - \\frac{1}{a}}}{6 a^{2} x_{i}^{\\frac{1}{a}} - 5 a x_{i}^{\\frac{1}{a}} + x_{i}^{\\frac{1}{a}}} - \\frac{4 a^{2} x_{i}^{2}}{6 a^{2} x_{i}^{\\frac{1}{a}} - 5 a x_{i}^{\\frac{1}{a}} + x_{i}^{\\frac{1}{a}}} - \\frac{a x_{i}^{2} x_{i}^{\\frac{1}{a}} x_{i}^{1 - \\frac{1}{a}}}{6 a^{2} x_{i}^{\\frac{1}{a}} - 5 a x_{i}^{\\frac{1}{a}} + x_{i}^{\\frac{1}{a}}} + \\frac{a x_{i}^{2}}{6 a^{2} x_{i}^{\\frac{1}{a}} - 5 a x_{i}^{\\frac{1}{a}} + x_{i}^{\\frac{1}{a}}}\\right) & \\text{otherwise} \\end{cases}$"
      ],
      "text/plain": [
       "a*v_i*x_i*(x_i**(1 - 1/a) - x_i**(2 - 1/a)) - Piecewise((v_i*(log(x_i)/3 + 2/(3*x_i)) - oo*sign(v_i), Eq(a, 1/3)), (-v_i*log(x_i)/2 - oo*sign(v_i), Eq(a, 1/2)), (v_i*(-4*a**3*x_i**2*x_i**(1/a)*x_i**(1 - 1/a)/(6*a**2*x_i**(1/a) - 5*a*x_i**(1/a) + x_i**(1/a)) + 3*a**3*x_i**2/(6*a**2*x_i**(1/a) - 5*a*x_i**(1/a) + x_i**(1/a)) + 4*a**2*x_i**2*x_i**(1/a)*x_i**(1 - 1/a)/(6*a**2*x_i**(1/a) - 5*a*x_i**(1/a) + x_i**(1/a)) - 4*a**2*x_i**2/(6*a**2*x_i**(1/a) - 5*a*x_i**(1/a) + x_i**(1/a)) - a*x_i**2*x_i**(1/a)*x_i**(1 - 1/a)/(6*a**2*x_i**(1/a) - 5*a*x_i**(1/a) + x_i**(1/a)) + a*x_i**2/(6*a**2*x_i**(1/a) - 5*a*x_i**(1/a) + x_i**(1/a))), True))"
      ]
     },
     "execution_count": 9,
     "metadata": {},
     "output_type": "execute_result"
    }
   ],
   "source": [
    "uhat.evalf(subs={a:1/2+0.1})\n",
    "uhat"
   ]
  },
  {
   "cell_type": "code",
   "execution_count": null,
   "metadata": {},
   "outputs": [],
   "source": []
  }
 ],
 "metadata": {
  "kernelspec": {
   "display_name": "Python 3",
   "language": "python",
   "name": "python3"
  },
  "language_info": {
   "codemirror_mode": {
    "name": "ipython",
    "version": 3
   },
   "file_extension": ".py",
   "mimetype": "text/x-python",
   "name": "python",
   "nbconvert_exporter": "python",
   "pygments_lexer": "ipython3",
   "version": "3.8.16"
  }
 },
 "nbformat": 4,
 "nbformat_minor": 4
}
