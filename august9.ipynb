{
 "cells": [
  {
   "cell_type": "code",
   "execution_count": 1,
   "metadata": {},
   "outputs": [],
   "source": [
    "import matplotlib.pyplot as plt\n",
    "import matplotlib as mpl\n",
    "import matplotlib.patches as mpatches\n",
    "import numpy as np\n",
    "import pandas as pd\n",
    "import cvxpy as cp\n",
    "from scipy.stats import poisson, uniform, expon, pareto\n",
    "from scipy.optimize import minimize, fsolve\n",
    "from tqdm import tqdm\n",
    "from mdptoolbox import mdp, util\n",
    "import itertools\n",
    "from scipy.sparse import csr_matrix, lil_matrix\n",
    "from matplotlib.patches import Patch\n",
    "import math\n",
    "import random\n",
    "import sympy as sp\n",
    "from sympy.printing.latex import print_latex"
   ]
  },
  {
   "cell_type": "code",
   "execution_count": 16,
   "metadata": {},
   "outputs": [
    {
     "data": {
      "text/latex": [
       "$\\displaystyle \\frac{c_{M} c_{M}^{- a} \\left(n - 1\\right)}{c_{m}^{- a} + c_{M}^{- a} \\left(n - 1\\right)} + \\frac{c_{m} c_{m}^{- a}}{c_{m}^{- a} + c_{M}^{- a} \\left(n - 1\\right)}$"
      ],
      "text/plain": [
       "c_M*(n - 1)/(c_M**a*(c_m**(-a) + (n - 1)/c_M**a)) + c_m/(c_m**a*(c_m**(-a) + (n - 1)/c_M**a))"
      ]
     },
     "execution_count": 16,
     "metadata": {},
     "output_type": "execute_result"
    }
   ],
   "source": [
    "x1, xi, cm, cM = sp.symbols('x_1 x_i c_m c_M')\n",
    "a, n           = sp.symbols('a n')\n",
    "\n",
    "x1 = cm**(-a) / (cm**(-a) + (n-1)*cM**(-a))\n",
    "xi = cM**(-a) / (cm**(-a) + (n-1)*cM**(-a))\n",
    "\n",
    "C = x1 * cm + xi * (n-1) * cM\n",
    "C"
   ]
  },
  {
   "cell_type": "code",
   "execution_count": 20,
   "metadata": {},
   "outputs": [
    {
     "data": {
      "text/latex": [
       "$\\displaystyle \\frac{c_{m} c_{m}^{- a}}{c_{m}^{- a} + c_{M}^{- a} \\left(n - 1\\right)}$"
      ],
      "text/plain": [
       "c_m/(c_m**a*(c_m**(-a) + (n - 1)/c_M**a))"
      ]
     },
     "execution_count": 20,
     "metadata": {},
     "output_type": "execute_result"
    }
   ],
   "source": [
    "x1 * cm"
   ]
  },
  {
   "cell_type": "code",
   "execution_count": 19,
   "metadata": {},
   "outputs": [
    {
     "data": {
      "text/latex": [
       "$\\displaystyle \\frac{c_{M}^{a} c_{m}}{c_{M}^{a} + c_{m}^{a} \\left(n - 1\\right)}$"
      ],
      "text/plain": [
       "c_M**a*c_m/(c_M**a + c_m**a*(n - 1))"
      ]
     },
     "execution_count": 19,
     "metadata": {},
     "output_type": "execute_result"
    }
   ],
   "source": [
    "sp.simplify(x1 * cm)"
   ]
  },
  {
   "cell_type": "code",
   "execution_count": 21,
   "metadata": {},
   "outputs": [
    {
     "data": {
      "text/latex": [
       "$\\displaystyle \\frac{c_{M} c_{M}^{- a}}{c_{m}^{- a} + c_{M}^{- a} \\left(n - 1\\right)}$"
      ],
      "text/plain": [
       "c_M/(c_M**a*(c_m**(-a) + (n - 1)/c_M**a))"
      ]
     },
     "execution_count": 21,
     "metadata": {},
     "output_type": "execute_result"
    }
   ],
   "source": [
    "xi * cM"
   ]
  },
  {
   "cell_type": "code",
   "execution_count": 26,
   "metadata": {},
   "outputs": [
    {
     "data": {
      "text/latex": [
       "$\\displaystyle \\frac{c_{M} c_{m}^{a} \\left(n - 1\\right)}{c_{M}^{a} + c_{m}^{a} \\left(n - 1\\right)}$"
      ],
      "text/plain": [
       "c_M*c_m**a*(n - 1)/(c_M**a + c_m**a*(n - 1))"
      ]
     },
     "execution_count": 26,
     "metadata": {},
     "output_type": "execute_result"
    }
   ],
   "source": [
    "sp.simplify(xi * cM * (n-1))"
   ]
  },
  {
   "cell_type": "code",
   "execution_count": 28,
   "metadata": {},
   "outputs": [
    {
     "data": {
      "text/latex": [
       "$\\displaystyle \\frac{c_{M} c_{m}^{a} \\left(n - 1\\right) + c_{M}^{a} c_{m}}{c_{M}^{a} + c_{m}^{a} \\left(n - 1\\right)}$"
      ],
      "text/plain": [
       "(c_M*c_m**a*(n - 1) + c_M**a*c_m)/(c_M**a + c_m**a*(n - 1))"
      ]
     },
     "execution_count": 28,
     "metadata": {},
     "output_type": "execute_result"
    }
   ],
   "source": [
    "sp.simplify(sp.simplify(x1 * cm)+ sp.simplify((n-1)*xi * cM))"
   ]
  },
  {
   "cell_type": "code",
   "execution_count": 29,
   "metadata": {},
   "outputs": [
    {
     "data": {
      "text/latex": [
       "$\\displaystyle \\frac{c_{M} c_{m}^{a} \\left(n - 1\\right) + c_{M}^{a} c_{m}}{c_{M}^{a} + c_{m}^{a} \\left(n - 1\\right)}$"
      ],
      "text/plain": [
       "(c_M*c_m**a*(n - 1) + c_M**a*c_m)/(c_M**a + c_m**a*(n - 1))"
      ]
     },
     "execution_count": 29,
     "metadata": {},
     "output_type": "execute_result"
    }
   ],
   "source": [
    "sp.simplify(C)"
   ]
  },
  {
   "cell_type": "code",
   "execution_count": 35,
   "metadata": {},
   "outputs": [
    {
     "data": {
      "text/latex": [
       "$\\displaystyle c_{M} c_{m}^{a} \\left(n - 1\\right) + c_{M}^{a} c_{m}$"
      ],
      "text/plain": [
       "c_M*c_m**a*(n - 1) + c_M**a*c_m"
      ]
     },
     "execution_count": 35,
     "metadata": {},
     "output_type": "execute_result"
    }
   ],
   "source": [
    "num, den = sp.fraction(sp.simplify(C))\n",
    "num"
   ]
  },
  {
   "cell_type": "code",
   "execution_count": 37,
   "metadata": {},
   "outputs": [
    {
     "data": {
      "text/latex": [
       "$\\displaystyle c_{M} n - c_{M} + c_{M}^{a} c_{m} c_{m}^{- a}$"
      ],
      "text/plain": [
       "c_M*n - c_M + c_M**a*c_m/c_m**a"
      ]
     },
     "execution_count": 37,
     "metadata": {},
     "output_type": "execute_result"
    }
   ],
   "source": [
    "sp.simplify(num / (cm**a))"
   ]
  },
  {
   "cell_type": "code",
   "execution_count": 39,
   "metadata": {},
   "outputs": [
    {
     "data": {
      "text/latex": [
       "$\\displaystyle c_{M}^{a} c_{m}^{- a} + n - 1$"
      ],
      "text/plain": [
       "c_M**a/c_m**a + n - 1"
      ]
     },
     "execution_count": 39,
     "metadata": {},
     "output_type": "execute_result"
    }
   ],
   "source": [
    "sp.simplify(den / (cm**a))"
   ]
  },
  {
   "cell_type": "markdown",
   "metadata": {},
   "source": [
    "# total cost"
   ]
  },
  {
   "cell_type": "code",
   "execution_count": 64,
   "metadata": {},
   "outputs": [
    {
     "data": {
      "text/latex": [
       "$\\displaystyle \\frac{R \\left(R^{a - 1} + n - 1\\right)}{R^{a} + n - 1}$"
      ],
      "text/plain": [
       "R*(R**(a - 1) + n - 1)/(R**a + n - 1)"
      ]
     },
     "execution_count": 64,
     "metadata": {},
     "output_type": "execute_result"
    }
   ],
   "source": [
    "R, n, a = sp.symbols('R n a')\n",
    "\n",
    "C = R * (R**(a-1) + n - 1) / (R**a + n - 1)\n",
    "\n",
    "C"
   ]
  },
  {
   "cell_type": "code",
   "execution_count": 65,
   "metadata": {},
   "outputs": [
    {
     "data": {
      "text/latex": [
       "$\\displaystyle R$"
      ],
      "text/plain": [
       "R"
      ]
     },
     "execution_count": 65,
     "metadata": {},
     "output_type": "execute_result"
    }
   ],
   "source": [
    "sp.limit(C, n, sp.oo)"
   ]
  },
  {
   "cell_type": "markdown",
   "metadata": {},
   "source": [
    "# sanity check"
   ]
  },
  {
   "cell_type": "code",
   "execution_count": 42,
   "metadata": {},
   "outputs": [
    {
     "data": {
      "text/latex": [
       "$\\displaystyle \\frac{c_{M} c_{M}^{- a} \\left(n - 1\\right)}{c_{m}^{- a} + c_{M}^{- a} \\left(n - 1\\right)} + \\frac{c_{m} c_{m}^{- a}}{c_{m}^{- a} + c_{M}^{- a} \\left(n - 1\\right)}$"
      ],
      "text/plain": [
       "c_M*(n - 1)/(c_M**a*(c_m**(-a) + (n - 1)/c_M**a)) + c_m/(c_m**a*(c_m**(-a) + (n - 1)/c_M**a))"
      ]
     },
     "execution_count": 42,
     "metadata": {},
     "output_type": "execute_result"
    }
   ],
   "source": [
    "x1, xi, cm, cM = sp.symbols('x_1 x_i c_m c_M')\n",
    "a, n           = sp.symbols('a n')\n",
    "\n",
    "x1 = cm**(-a) / (cm**(-a) + (n-1)*cM**(-a))\n",
    "xi = cM**(-a) / (cm**(-a) + (n-1)*cM**(-a))\n",
    "\n",
    "C = x1 * cm + xi * (n-1) * cM\n",
    "C"
   ]
  },
  {
   "cell_type": "code",
   "execution_count": 44,
   "metadata": {},
   "outputs": [
    {
     "data": {
      "text/plain": [
       "<function _lambdifygenerated(c_m, c_M, a, n)>"
      ]
     },
     "execution_count": 44,
     "metadata": {},
     "output_type": "execute_result"
    }
   ],
   "source": [
    "cFast = sp.lambdify((cm, cM, a, n), C)\n",
    "cFast"
   ]
  },
  {
   "cell_type": "code",
   "execution_count": 86,
   "metadata": {},
   "outputs": [
    {
     "data": {
      "text/plain": [
       "1.0000000081"
      ]
     },
     "execution_count": 86,
     "metadata": {},
     "output_type": "execute_result"
    }
   ],
   "source": [
    "cFast(1, 10, 10, 10)"
   ]
  },
  {
   "cell_type": "markdown",
   "metadata": {},
   "source": [
    "# all bid max"
   ]
  },
  {
   "cell_type": "code",
   "execution_count": 88,
   "metadata": {},
   "outputs": [
    {
     "data": {
      "text/latex": [
       "$\\displaystyle c_{M}$"
      ],
      "text/plain": [
       "c_M"
      ]
     },
     "execution_count": 88,
     "metadata": {},
     "output_type": "execute_result"
    }
   ],
   "source": [
    "xi, cM = sp.symbols('x_i c_M')\n",
    "a, n   = sp.symbols('a n')\n",
    "\n",
    "xi = cM**(-a) / (n*cM**(-a))\n",
    "\n",
    "C = n* xi * cM\n",
    "C"
   ]
  },
  {
   "cell_type": "markdown",
   "metadata": {},
   "source": [
    "# system solver for multiple players"
   ]
  },
  {
   "cell_type": "code",
   "execution_count": 514,
   "metadata": {},
   "outputs": [
    {
     "data": {
      "text/latex": [
       "$\\displaystyle \\frac{c_{1} - v_{1}}{c_{1}^{3} \\left(\\frac{1}{c_{2}^{3}} + \\frac{1}{c_{1}^{3}}\\right)}$"
      ],
      "text/plain": [
       "(c_1 - v_1)/(c_1**3*(c_2**(-3) + c_1**(-3)))"
      ]
     },
     "execution_count": 514,
     "metadata": {},
     "output_type": "execute_result"
    }
   ],
   "source": [
    "# two player\n",
    "c1, c2, v1, v2 = sp.symbols('c_1 c_2 v_1 v_2')\n",
    "a = 3\n",
    "\n",
    "u1 = (c1-v1) * (1/c1)**a / ((1/c1)**a + (1/c2)**a)\n",
    "u2 = (c2-v2) * (1/c2)**a / ((1/c1)**a + (1/c2)**a)\n",
    "u1"
   ]
  },
  {
   "cell_type": "code",
   "execution_count": 515,
   "metadata": {},
   "outputs": [
    {
     "data": {
      "text/latex": [
       "$\\displaystyle \\frac{1}{c_{2}^{3} \\left(\\frac{1}{c_{2}^{3}} + \\frac{1}{c_{1}^{3}}\\right)} - \\frac{3 \\left(c_{2} - v_{2}\\right)}{c_{2}^{4} \\left(\\frac{1}{c_{2}^{3}} + \\frac{1}{c_{1}^{3}}\\right)} + \\frac{3 \\left(c_{2} - v_{2}\\right)}{c_{2}^{7} \\left(\\frac{1}{c_{2}^{3}} + \\frac{1}{c_{1}^{3}}\\right)^{2}} = 0$"
      ],
      "text/plain": [
       "Eq(1/(c_2**3*(c_2**(-3) + c_1**(-3))) - 3*(c_2 - v_2)/(c_2**4*(c_2**(-3) + c_1**(-3))) + 3*(c_2 - v_2)/(c_2**7*(c_2**(-3) + c_1**(-3))**2), 0)"
      ]
     },
     "execution_count": 515,
     "metadata": {},
     "output_type": "execute_result"
    }
   ],
   "source": [
    "part1 = sp.diff(u1, c1)\n",
    "part2 = sp.diff(u2, c2)\n",
    "foc1 = sp.Eq(part1, 0)\n",
    "foc2 = sp.Eq(part2, 0)\n",
    "foc2"
   ]
  },
  {
   "cell_type": "code",
   "execution_count": 517,
   "metadata": {},
   "outputs": [
    {
     "data": {
      "text/plain": [
       "array([3., 3.])"
      ]
     },
     "execution_count": 517,
     "metadata": {},
     "output_type": "execute_result"
    }
   ],
   "source": [
    "foc1sc = sp.lambdify((c1, c2), part1.evalf(subs={v1:1}))\n",
    "foc2sc = sp.lambdify((c1, c2), part2.evalf(subs={v2:1}))\n",
    "\n",
    "def eqs(cs):\n",
    "    c1, c2 = cs\n",
    "    return [foc1sc(c1,c2), foc2sc(c1,c2)]\n",
    "\n",
    "initial_guess = [0.4, 0.2]\n",
    "solution = fsolve(eqs, initial_guess)\n",
    "solution"
   ]
  },
  {
   "cell_type": "code",
   "execution_count": 98,
   "metadata": {},
   "outputs": [
    {
     "data": {
      "text/plain": [
       "(0.4312151766251178, 0.5687848233748822)"
      ]
     },
     "execution_count": 98,
     "metadata": {},
     "output_type": "execute_result"
    }
   ],
   "source": [
    "x1 = (1/solution[0])**(3) / ((1/solution[0])**(3) + (1/solution[1])**(3))\n",
    "x2 = (1/solution[1])**(3) / ((1/solution[0])**(3) + (1/solution[1])**(3))\n",
    "x1, x2"
   ]
  },
  {
   "cell_type": "code",
   "execution_count": 159,
   "metadata": {},
   "outputs": [
    {
     "data": {
      "text/latex": [
       "$\\displaystyle \\frac{c_{1} - v_{1}}{c_{1}^{9} \\left(\\frac{1}{c_{3}^{9}} + \\frac{1}{c_{2}^{9}} + \\frac{1}{c_{1}^{9}}\\right)}$"
      ],
      "text/plain": [
       "(c_1 - v_1)/(c_1**9*(c_3**(-9) + c_2**(-9) + c_1**(-9)))"
      ]
     },
     "execution_count": 159,
     "metadata": {},
     "output_type": "execute_result"
    }
   ],
   "source": [
    "# three player\n",
    "c1, c2, c3, v1, v2, v3 = sp.symbols('c_1 c_2 c_3 v_1 v_2 v_3')\n",
    "a = 9\n",
    "\n",
    "u1 = (c1-v1) * (1/c1)**a / ((1/c1)**a + (1/c2)**a + (1/c3)**a)\n",
    "u2 = (c2-v2) * (1/c2)**a / ((1/c1)**a + (1/c2)**a + (1/c3)**a)\n",
    "u3 = (c3-v3) * (1/c3)**a / ((1/c1)**a + (1/c2)**a + (1/c3)**a)\n",
    "u1"
   ]
  },
  {
   "cell_type": "code",
   "execution_count": 160,
   "metadata": {},
   "outputs": [
    {
     "data": {
      "text/latex": [
       "$\\displaystyle \\frac{1}{c_{2}^{9} \\left(\\frac{1}{c_{3}^{9}} + \\frac{1}{c_{2}^{9}} + \\frac{1}{c_{1}^{9}}\\right)} - \\frac{9 \\left(c_{2} - v_{2}\\right)}{c_{2}^{10} \\left(\\frac{1}{c_{3}^{9}} + \\frac{1}{c_{2}^{9}} + \\frac{1}{c_{1}^{9}}\\right)} + \\frac{9 \\left(c_{2} - v_{2}\\right)}{c_{2}^{19} \\left(\\frac{1}{c_{3}^{9}} + \\frac{1}{c_{2}^{9}} + \\frac{1}{c_{1}^{9}}\\right)^{2}} = 0$"
      ],
      "text/plain": [
       "Eq(1/(c_2**9*(c_3**(-9) + c_2**(-9) + c_1**(-9))) - 9*(c_2 - v_2)/(c_2**10*(c_3**(-9) + c_2**(-9) + c_1**(-9))) + 9*(c_2 - v_2)/(c_2**19*(c_3**(-9) + c_2**(-9) + c_1**(-9))**2), 0)"
      ]
     },
     "execution_count": 160,
     "metadata": {},
     "output_type": "execute_result"
    }
   ],
   "source": [
    "part1 = sp.diff(u1, c1)\n",
    "part2 = sp.diff(u2, c2)\n",
    "part3 = sp.diff(u3, c3)\n",
    "foc1 = sp.Eq(part1, 0)\n",
    "foc2 = sp.Eq(part2, 0)\n",
    "foc3 = sp.Eq(part3, 0)\n",
    "foc2"
   ]
  },
  {
   "cell_type": "code",
   "execution_count": 161,
   "metadata": {},
   "outputs": [
    {
     "data": {
      "text/plain": [
       "array([2.02462415, 2.33171154, 4.50033163])"
      ]
     },
     "execution_count": 161,
     "metadata": {},
     "output_type": "execute_result"
    }
   ],
   "source": [
    "foc1sc = sp.lambdify((c1, c2, c3), part1.evalf(subs={v1:1}))\n",
    "foc2sc = sp.lambdify((c1, c2, c3), part2.evalf(subs={v2:2}))\n",
    "foc3sc = sp.lambdify((c1, c2, c3), part3.evalf(subs={v3:4}))\n",
    "\n",
    "def eqs(cs):\n",
    "    c1, c2, c3 = cs\n",
    "    return [foc1sc(c1,c2,c3), foc2sc(c1,c2,c3), foc3sc(c1,c2,c3)]\n",
    "\n",
    "initial_guess = [1, 1, 1]\n",
    "solution = fsolve(eqs, initial_guess)\n",
    "solution"
   ]
  },
  {
   "cell_type": "code",
   "execution_count": 162,
   "metadata": {},
   "outputs": [
    {
     "data": {
      "text/plain": [
       "(0.7804480416310342, 0.2189627850780753, 0.0005891732908904957, 1.0)"
      ]
     },
     "execution_count": 162,
     "metadata": {},
     "output_type": "execute_result"
    }
   ],
   "source": [
    "x1 = (1/solution[0])**(a) / ((1/solution[0])**(a) + (1/solution[1])**(a) + (1/solution[2])**(a))\n",
    "x2 = (1/solution[1])**(a) / ((1/solution[0])**(a) + (1/solution[1])**(a) + (1/solution[2])**(a))\n",
    "x3 = (1/solution[2])**(a) / ((1/solution[0])**(a) + (1/solution[1])**(a) + (1/solution[2])**(a))\n",
    "x1, x2, x3, x1+x2+x3"
   ]
  },
  {
   "cell_type": "code",
   "execution_count": 335,
   "metadata": {},
   "outputs": [
    {
     "data": {
      "text/latex": [
       "$\\displaystyle \\frac{c_{1} - v_{1}}{c_{1}^{3} \\left(\\frac{1}{c_{5}^{3}} + \\frac{1}{c_{4}^{3}} + \\frac{1}{c_{3}^{3}} + \\frac{1}{c_{2}^{3}} + \\frac{1}{c_{1}^{3}}\\right)}$"
      ],
      "text/plain": [
       "(c_1 - v_1)/(c_1**3*(c_5**(-3) + c_4**(-3) + c_3**(-3) + c_2**(-3) + c_1**(-3)))"
      ]
     },
     "execution_count": 335,
     "metadata": {},
     "output_type": "execute_result"
    }
   ],
   "source": [
    "# n-player\n",
    "n = 5\n",
    "a = 3\n",
    "cs, vs, us = [], [], []\n",
    "for i in range(1,n+1):\n",
    "    c_i = sp.symbols('c_{}'.format(i))\n",
    "    v_i = sp.symbols('v_{}'.format(i))\n",
    "    cs.append(c_i)\n",
    "    vs.append(v_i)\n",
    "denom = sum([(1/c)**a for c in cs])\n",
    "for i in range(1,n+1):\n",
    "    u_i = (cs[i-1] - vs[i-1]) * (1/cs[i-1])**a / denom\n",
    "    us.append(u_i)\n",
    "us[0]"
   ]
  },
  {
   "cell_type": "code",
   "execution_count": 339,
   "metadata": {},
   "outputs": [
    {
     "data": {
      "text/plain": [
       "<function _lambdifygenerated(c_1, c_2, c_3, c_4, c_5)>"
      ]
     },
     "execution_count": 339,
     "metadata": {},
     "output_type": "execute_result"
    }
   ],
   "source": [
    "focs = []\n",
    "vals = np.arange(1.,n+1)**2\n",
    "for i in range(n):\n",
    "    parti = sp.diff(us[i], cs[i])\n",
    "    vi = vs[i]\n",
    "    focs.append(sp.lambdify(cs, parti.evalf(subs={vi: vals[i]})))\n",
    "focs[-1]"
   ]
  },
  {
   "cell_type": "code",
   "execution_count": 342,
   "metadata": {},
   "outputs": [
    {
     "data": {
      "text/plain": [
       "array([ 1.,  4.,  9., 16., 25.])"
      ]
     },
     "execution_count": 342,
     "metadata": {},
     "output_type": "execute_result"
    }
   ],
   "source": [
    "vals"
   ]
  },
  {
   "cell_type": "code",
   "execution_count": 343,
   "metadata": {},
   "outputs": [
    {
     "data": {
      "text/plain": [
       "array([ 7.46801654e+00,  8.73152668e+00,  2.08400439e+06,  1.52874658e+06,\n",
       "       -1.46985588e+07])"
      ]
     },
     "execution_count": 343,
     "metadata": {},
     "output_type": "execute_result"
    }
   ],
   "source": [
    "def eqs(cs):\n",
    "    return [f(*cs) for f in focs]\n",
    "\n",
    "initial_guess = vals\n",
    "solution = fsolve(eqs, initial_guess)\n",
    "solution"
   ]
  },
  {
   "cell_type": "code",
   "execution_count": 344,
   "metadata": {},
   "outputs": [
    {
     "data": {
      "text/plain": [
       "[0.6151310326499437,\n",
       " 0.38486896735005616,\n",
       " 2.83065905033675e-17,\n",
       " 7.17095428995606e-17,\n",
       " -8.06787557215077e-20]"
      ]
     },
     "execution_count": 344,
     "metadata": {},
     "output_type": "execute_result"
    }
   ],
   "source": [
    "allodenom = sum([1/(s**a) for s in solution])\n",
    "allocs = [1/(s**a) / allodenom for s in solution]\n",
    "allocs"
   ]
  },
  {
   "cell_type": "code",
   "execution_count": 345,
   "metadata": {},
   "outputs": [
    {
     "data": {
      "text/plain": [
       "7.954302385239493"
      ]
     },
     "execution_count": 345,
     "metadata": {},
     "output_type": "execute_result"
    }
   ],
   "source": [
    "np.dot(allocs, solution)"
   ]
  },
  {
   "cell_type": "code",
   "execution_count": 494,
   "metadata": {},
   "outputs": [],
   "source": [
    "# verify this one with empirics"
   ]
  },
  {
   "cell_type": "code",
   "execution_count": 576,
   "metadata": {},
   "outputs": [],
   "source": [
    "init = vals\n",
    "a    = 3\n",
    "n    = 5\n",
    "vals = [1.,4.,9.,16.,25.]\n",
    "\n",
    "cs = [sp.Symbol('c_{}'.format(i), positive=True) for i in range(1, n+1)]\n",
    "bids = [[init[i]] for i in range(n)]\n",
    "for turn in range(int(1000)):\n",
    "    i = turn % n\n",
    "    den = sum([1/(ci**a) for ci in cs])\n",
    "    xi = 1/(cs[i]**a) / den\n",
    "    ui = (cs[i]-vals[i])*xi\n",
    "    subs = {}\n",
    "    for j in range(n):\n",
    "        if j != i:\n",
    "            subs[cs[j]] = bids[j][-1]\n",
    "    funci = sp.lambdify([cs[i]], -ui.evalf(subs=subs))\n",
    "    bounds = ((0, 1000),)\n",
    "    sol = minimize(funci, (1.1), method='SLSQP', bounds=bounds).x[0]\n",
    "    curri = sol\n",
    "    bids[i].append(curri)"
   ]
  },
  {
   "cell_type": "code",
   "execution_count": 577,
   "metadata": {},
   "outputs": [
    {
     "data": {
      "text/plain": [
       "[<matplotlib.lines.Line2D at 0x12bb92dc0>]"
      ]
     },
     "execution_count": 577,
     "metadata": {},
     "output_type": "execute_result"
    },
    {
     "data": {
      "image/png": "[encoded data removed]",
      "text/plain": [
       "<Figure size 432x288 with 1 Axes>"
      ]
     },
     "metadata": {
      "needs_background": "light"
     },
     "output_type": "display_data"
    }
   ],
   "source": [
    "plt.plot(bids[0], marker='x', linestyle='none')\n",
    "plt.plot(bids[1], marker='x', linestyle='none')\n",
    "plt.plot(bids[2], marker='x', linestyle='none')\n",
    "plt.plot(bids[3], marker='x', linestyle='none')\n",
    "plt.plot(bids[4], marker='x', linestyle='none')"
   ]
  },
  {
   "cell_type": "code",
   "execution_count": 578,
   "metadata": {},
   "outputs": [
    {
     "data": {
      "text/plain": [
       "(6.386416442200648,\n",
       " 7.873363006311625,\n",
       " 13.930090079545378,\n",
       " 24.1296761037661,\n",
       " 37.50600098985183)"
      ]
     },
     "execution_count": 578,
     "metadata": {},
     "output_type": "execute_result"
    }
   ],
   "source": [
    "bids[0][-1],bids[1][-1],bids[2][-1],bids[3][-1],bids[4][-1]"
   ]
  },
  {
   "cell_type": "code",
   "execution_count": 579,
   "metadata": {},
   "outputs": [
    {
     "data": {
      "text/plain": [
       "[1.0, 4.0, 9.0, 16.0, 25.0]"
      ]
     },
     "execution_count": 579,
     "metadata": {},
     "output_type": "execute_result"
    }
   ],
   "source": [
    "vals"
   ]
  },
  {
   "cell_type": "code",
   "execution_count": 580,
   "metadata": {},
   "outputs": [
    {
     "data": {
      "text/latex": [
       "$\\displaystyle \\frac{c_{5} - v_{5}}{c_{5}^{3} \\left(\\frac{1}{c_{5}^{3}} + \\frac{1}{c_{4}^{3}} + \\frac{1}{c_{3}^{3}} + \\frac{1}{c_{2}^{3}} + \\frac{1}{c_{1}^{3}}\\right)}$"
      ],
      "text/plain": [
       "(c_5 - v_5)/(c_5**3*(c_5**(-3) + c_4**(-3) + c_3**(-3) + c_2**(-3) + c_1**(-3)))"
      ]
     },
     "execution_count": 580,
     "metadata": {},
     "output_type": "execute_result"
    }
   ],
   "source": [
    "cs, vs, us = [], [], []\n",
    "for i in range(1,n+1):\n",
    "    c_i = sp.symbols('c_{}'.format(i))\n",
    "    v_i = sp.symbols('v_{}'.format(i))\n",
    "    cs.append(c_i)\n",
    "    vs.append(v_i)\n",
    "denom = sum([(1/c)**a for c in cs])\n",
    "for i in range(1,n+1):\n",
    "    u_i = (cs[i-1] - vs[i-1]) * (1/cs[i-1])**a / denom\n",
    "    us.append(u_i)\n",
    "us[-1]"
   ]
  },
  {
   "cell_type": "code",
   "execution_count": 581,
   "metadata": {},
   "outputs": [
    {
     "data": {
      "text/plain": [
       "<function _lambdifygenerated(c_1, c_2, c_3, c_4, c_5)>"
      ]
     },
     "execution_count": 581,
     "metadata": {},
     "output_type": "execute_result"
    }
   ],
   "source": [
    "focs = []\n",
    "for i in range(n):\n",
    "    parti = sp.diff(us[i], cs[i])\n",
    "    vi = vs[i]\n",
    "    focs.append(sp.lambdify(cs, parti.evalf(subs={vi: vals[i]})))\n",
    "focs[-1]"
   ]
  },
  {
   "cell_type": "code",
   "execution_count": 582,
   "metadata": {},
   "outputs": [
    {
     "data": {
      "text/latex": [
       "$\\displaystyle \\frac{1}{c_{5}^{3} \\left(\\frac{1}{c_{5}^{3}} + \\frac{1}{c_{4}^{3}} + \\frac{1}{c_{3}^{3}} + \\frac{1}{c_{2}^{3}} + \\frac{1}{c_{1}^{3}}\\right)} - \\frac{3.0 \\left(c_{5} - 25.0\\right)}{c_{5}^{4} \\left(\\frac{1}{c_{5}^{3}} + \\frac{1}{c_{4}^{3}} + \\frac{1}{c_{3}^{3}} + \\frac{1}{c_{2}^{3}} + \\frac{1}{c_{1}^{3}}\\right)} + \\frac{3.0 \\left(c_{5} - 25.0\\right)}{c_{5}^{7} \\left(\\frac{1}{c_{5}^{3}} + \\frac{1}{c_{4}^{3}} + \\frac{1}{c_{3}^{3}} + \\frac{1}{c_{2}^{3}} + \\frac{1}{c_{1}^{3}}\\right)^{2}}$"
      ],
      "text/plain": [
       "1/(c_5**3*(c_5**(-3) + c_4**(-3) + c_3**(-3) + c_2**(-3) + c_1**(-3))) - 3.0*(c_5 - 25.0)/(c_5**4*(c_5**(-3) + c_4**(-3) + c_3**(-3) + c_2**(-3) + c_1**(-3))) + 3.0*(c_5 - 25.0)/(c_5**7*(c_5**(-3) + c_4**(-3) + c_3**(-3) + c_2**(-3) + c_1**(-3))**2)"
      ]
     },
     "execution_count": 582,
     "metadata": {},
     "output_type": "execute_result"
    }
   ],
   "source": [
    "parti.evalf(subs={vi: vals[i]})"
   ]
  },
  {
   "cell_type": "code",
   "execution_count": 605,
   "metadata": {},
   "outputs": [
    {
     "data": {
      "text/plain": [
       "(array([ 6.38821323,  7.87627169, 13.93135   , 24.13685419, 37.5560592 ]),\n",
       " array([ 7.46801654e+00,  8.73152668e+00,  2.08400439e+06,  1.52874658e+06,\n",
       "        -1.46985588e+07]))"
      ]
     },
     "execution_count": 605,
     "metadata": {},
     "output_type": "execute_result"
    }
   ],
   "source": [
    "def eqs(cs):\n",
    "    return [f(*cs) for f in focs]\n",
    "fsolve(eqs, [6., 7., 13., 24., 27.]), fsolve(eqs, vals)"
   ]
  },
  {
   "cell_type": "code",
   "execution_count": 608,
   "metadata": {},
   "outputs": [
    {
     "data": {
      "text/plain": [
       "-2.566491214928135e-05"
      ]
     },
     "execution_count": 608,
     "metadata": {},
     "output_type": "execute_result"
    }
   ],
   "source": [
    "focs[0](\n",
    "    6.38641653292105,\n",
    "    7.873363006311625,\n",
    "    13.93008972601651,\n",
    "    24.12967651253459,\n",
    "    37.50600131187707\n",
    ")"
   ]
  },
  {
   "cell_type": "markdown",
   "metadata": {},
   "source": [
    "# WELFARE"
   ]
  },
  {
   "cell_type": "code",
   "execution_count": 242,
   "metadata": {},
   "outputs": [
    {
     "data": {
      "text/plain": [
       "[v_1, v_2, v_3, v_4, v_5]"
      ]
     },
     "execution_count": 242,
     "metadata": {},
     "output_type": "execute_result"
    }
   ],
   "source": [
    "# two player\n",
    "a  = sp.symbols('a')\n",
    "vs = []\n",
    "n  = 5\n",
    "for i in range(1,n+1):\n",
    "    v_i = sp.symbols('v_{}'.format(i), positive=True)\n",
    "    vs.append(v_i)\n",
    "vs"
   ]
  },
  {
   "cell_type": "code",
   "execution_count": 247,
   "metadata": {},
   "outputs": [
    {
     "data": {
      "text/latex": [
       "$\\displaystyle - \\frac{v_{1}^{1 - a} + v_{2}^{1 - a} + v_{3}^{1 - a} + v_{4}^{1 - a} + v_{5}^{1 - a}}{v_{5}^{- a} + v_{4}^{- a} + v_{3}^{- a} + v_{2}^{- a} + v_{1}^{- a}}$"
      ],
      "text/plain": [
       "-(v_1**(1 - a) + v_2**(1 - a) + v_3**(1 - a) + v_4**(1 - a) + v_5**(1 - a))/(v_5**(-a) + v_4**(-a) + v_3**(-a) + v_2**(-a) + v_1**(-a))"
      ]
     },
     "execution_count": 247,
     "metadata": {},
     "output_type": "execute_result"
    }
   ],
   "source": [
    "W = - sum([(v)**(1-a) for v in vs]) / sum([(v)**(-a) for v in vs])\n",
    "W = sp.simplify(W)\n",
    "W"
   ]
  },
  {
   "cell_type": "code",
   "execution_count": 351,
   "metadata": {},
   "outputs": [
    {
     "data": {
      "text/plain": [
       "[array([1., 1., 1., 1., 1.]),\n",
       " array([1., 2., 3., 4., 5.]),\n",
       " array([1.        , 1.41421356, 1.73205081, 2.        , 2.23606798]),\n",
       " array([1., 1., 1., 1., 5.]),\n",
       " array([1., 5., 5., 5., 5.]),\n",
       " array([ 1.,  4.,  9., 16., 25.])]"
      ]
     },
     "execution_count": 351,
     "metadata": {},
     "output_type": "execute_result"
    }
   ],
   "source": [
    "n = 5\n",
    "a = 3\n",
    "cand1 = np.ones(n)\n",
    "cand2 = np.arange(1,n+1, dtype=np.float)\n",
    "cand3 = np.arange(1,n+1, dtype=np.float)**(1/2)\n",
    "cand4 = np.ones(n)\n",
    "cand4[-1] = n\n",
    "cand5 = np.ones(n) * n\n",
    "cand5[0] = 1\n",
    "cand6 = np.power(np.arange(1.,n+1), 2)\n",
    "cands = [cand1, cand2, cand3, cand4, cand5, cand6]\n",
    "cands"
   ]
  },
  {
   "cell_type": "code",
   "execution_count": 352,
   "metadata": {},
   "outputs": [],
   "source": [
    "def calcTruthfulCost(cand, a):\n",
    "    v1 = np.min(cand)\n",
    "    num = sum([np.power(vi,1-a)/v1 for vi in cand])\n",
    "    den = sum([np.power(vi,-a) for vi in cand])\n",
    "    return num/den"
   ]
  },
  {
   "cell_type": "code",
   "execution_count": 613,
   "metadata": {},
   "outputs": [],
   "source": [
    "def calcEquilBids(cand, n, a, guess=None):\n",
    "    cs, vs, us = [], [], []\n",
    "    for i in range(1,n+1):\n",
    "        c_i = sp.symbols('c_{}'.format(i))\n",
    "        v_i = sp.symbols('v_{}'.format(i))\n",
    "        cs.append(c_i)\n",
    "        vs.append(v_i)\n",
    "    denom = sum([(1/c)**a for c in cs])\n",
    "    for i in range(1,n+1):\n",
    "        u_i = (cs[i-1] - vs[i-1]) * (1/cs[i-1])**a / denom\n",
    "        us.append(u_i)\n",
    "\n",
    "    focs = []\n",
    "    for i in range(n):\n",
    "        parti = sp.diff(us[i], cs[i])\n",
    "        vi = vs[i]\n",
    "        focs.append(sp.lambdify(cs, parti.evalf(subs={vi: cand[i]})))\n",
    "\n",
    "    def eqs(cs):\n",
    "        return [f(*cs) for f in focs]\n",
    "\n",
    "    initial_guess = cand\n",
    "    if guess:\n",
    "        initial_guess = guess\n",
    "    return fsolve(eqs, initial_guess)\n",
    "\n",
    "def calcEquilCost(cand, bids, a):\n",
    "    v1 = np.min(cand)\n",
    "    num = 0\n",
    "    den = 0\n",
    "    for i in range(len(cand)):\n",
    "        ci, vi = bids[i], cand[i]\n",
    "        num += (vi*np.power(ci,-a)/v1)\n",
    "        den += (np.power(ci,-a))\n",
    "    return num / den"
   ]
  },
  {
   "cell_type": "code",
   "execution_count": 615,
   "metadata": {},
   "outputs": [
    {
     "data": {
      "image/png": "[encoded data removed]",
      "text/plain": [
       "<Figure size 936x504 with 6 Axes>"
      ]
     },
     "metadata": {
      "needs_background": "light"
     },
     "output_type": "display_data"
    }
   ],
   "source": [
    "f, axarr = plt.subplots(nrows=2, ncols=3, figsize=(13,7))\n",
    "\n",
    "candNames = ['ones', 'linear', 'sqrt', 'one-high', 'one-low', 'square']\n",
    "for i, c in enumerate(cands):\n",
    "    row, col = i // 3, i % 3\n",
    "    \n",
    "    truthCost = calcTruthfulCost(c, a=3)\n",
    "    if i == 5: # requires hand crafted init guess\n",
    "        bids = calcEquilBids(c, n=5, a=3, guess=[6., 7., 13., 24., 27.])\n",
    "    else:\n",
    "        bids = calcEquilBids(c, n=5, a=3)\n",
    "    for j in range(len(bids)):\n",
    "        if np.abs(bids[j]) > float(1e5):\n",
    "            bids[j] = 0\n",
    "    equilCost = calcEquilCost(c, bids, a=3)\n",
    "    \n",
    "    axarr[row,col].plot(np.arange(n), c, color='mediumvioletred', alpha=1, \n",
    "                        label=r'true bids: $W_t/W_m$={:0.3f}'.format(truthCost), marker='o', fillstyle='full', \n",
    "                        linestyle='--', markersize=5)\n",
    "    axarr[row,col].plot(np.arange(n), bids, color='coral', alpha=1, \n",
    "                        label='equil bids: $W_e/W_m$={:0.3f}'.format(equilCost), marker='o', fillstyle='full', \n",
    "                        linestyle='-', markersize=5)\n",
    "\n",
    "    axarr[row,col].set_title(candNames[i], size=14)\n",
    "    axarr[row,col].legend()\n",
    "    axarr[row,col].grid(alpha=0.2)\n",
    "\n",
    "\n",
    "    \n",
    "axarr[0,0].set_ylabel('bid value', size=13)\n",
    "axarr[1,0].set_ylabel('bid value', size=13)\n",
    "axarr[1,0].set_xlabel('player', size=13)\n",
    "axarr[1,1].set_xlabel('player', size=13)\n",
    "axarr[1,2].set_xlabel('player', size=13)\n",
    "\n",
    "axarr[1,2].set_ylim(0, 50)\n",
    "\n",
    "\n",
    "plt.subplots_adjust(hspace=0.3)\n",
    "plt.savefig('out.png', dpi=400, bbox_inches='tight', facecolor='white')\n",
    "plt.show()"
   ]
  },
  {
   "cell_type": "markdown",
   "metadata": {},
   "source": [
    "# payments"
   ]
  },
  {
   "cell_type": "code",
   "execution_count": 616,
   "metadata": {},
   "outputs": [
    {
     "data": {
      "text/plain": [
       "[array([1., 1., 1., 1., 1.]),\n",
       " array([1., 2., 3., 4., 5.]),\n",
       " array([1.        , 1.41421356, 1.73205081, 2.        , 2.23606798]),\n",
       " array([1., 1., 1., 1., 5.]),\n",
       " array([1., 5., 5., 5., 5.]),\n",
       " array([ 1.,  4.,  9., 16., 25.])]"
      ]
     },
     "execution_count": 616,
     "metadata": {},
     "output_type": "execute_result"
    }
   ],
   "source": [
    "n = 5\n",
    "a = 3\n",
    "cand1 = np.ones(n)\n",
    "cand2 = np.arange(1,n+1, dtype=np.float)\n",
    "cand3 = np.arange(1,n+1, dtype=np.float)**(1/2)\n",
    "cand4 = np.ones(n)\n",
    "cand4[-1] = n\n",
    "cand5 = np.ones(n) * n\n",
    "cand5[0] = 1\n",
    "cand6 = np.power(np.arange(1.,n+1), 2)\n",
    "cands = [cand1, cand2, cand3, cand4, cand5, cand6]\n",
    "cands"
   ]
  },
  {
   "cell_type": "code",
   "execution_count": 623,
   "metadata": {},
   "outputs": [],
   "source": [
    "def calcTruthfulPayment(cand, a): # SAME AS TRUTHFUL WELFARE\n",
    "    v1 = np.min(cand)\n",
    "    num = sum([np.power(vi,1-a)/v1 for vi in cand])\n",
    "    den = sum([np.power(vi,-a) for vi in cand])\n",
    "    return num/den"
   ]
  },
  {
   "cell_type": "code",
   "execution_count": 629,
   "metadata": {},
   "outputs": [],
   "source": [
    "def calcEquilPayment(cand, bids, a):\n",
    "    v1 = np.min(cand)\n",
    "    num = 0\n",
    "    den = 0\n",
    "    for i in range(len(cand)):\n",
    "        ci, vi = bids[i], cand[i]\n",
    "        num += (np.power(ci,1-a)/v1) # MAYBE V2 instead of V1?!\n",
    "        den += (np.power(ci,-a))\n",
    "    return num / den"
   ]
  },
  {
   "cell_type": "code",
   "execution_count": 630,
   "metadata": {},
   "outputs": [
    {
     "data": {
      "text/plain": [
       "(array([ 1.,  4.,  9., 16., 25.]),\n",
       " array([ 6.38821323,  7.87627169, 13.93135   , 24.13685419, 37.5560592 ]))"
      ]
     },
     "execution_count": 630,
     "metadata": {},
     "output_type": "execute_result"
    }
   ],
   "source": [
    "bids = calcEquilBids(cands[-1], n=5, a=3, guess=[6., 7., 13., 24., 27.])\n",
    "cands[-1], bids"
   ]
  },
  {
   "cell_type": "code",
   "execution_count": 631,
   "metadata": {},
   "outputs": [
    {
     "data": {
      "text/plain": [
       "7.600053122618369"
      ]
     },
     "execution_count": 631,
     "metadata": {},
     "output_type": "execute_result"
    }
   ],
   "source": [
    "calcEquilPayment(cands[-1], bids, a)"
   ]
  },
  {
   "cell_type": "code",
   "execution_count": 632,
   "metadata": {},
   "outputs": [
    {
     "data": {
      "image/png": "[encoded data removed]",
      "text/plain": [
       "<Figure size 936x504 with 6 Axes>"
      ]
     },
     "metadata": {
      "needs_background": "light"
     },
     "output_type": "display_data"
    }
   ],
   "source": [
    "f, axarr = plt.subplots(nrows=2, ncols=3, figsize=(13,7))\n",
    "\n",
    "candNames = ['ones', 'linear', 'sqrt', 'one-high', 'one-low', 'square']\n",
    "for i, c in enumerate(cands):\n",
    "    row, col = i // 3, i % 3\n",
    "    \n",
    "    truthCost = calcTruthfulPayment(c, a=3)\n",
    "    if i == 5: # requires hand crafted init guess\n",
    "        bids = calcEquilBids(c, n=5, a=3, guess=[6., 7., 13., 24., 27.])\n",
    "    else:\n",
    "        bids = calcEquilBids(c, n=5, a=3)\n",
    "    for j in range(len(bids)):\n",
    "        if np.abs(bids[j]) > float(1e5):\n",
    "            bids[j] = 0\n",
    "    equilCost = calcEquilPayment(c, bids, a=3)\n",
    "    \n",
    "    axarr[row,col].plot(np.arange(n), c, color='mediumvioletred', alpha=1, \n",
    "                        label=r'true bids: $P_t/P_m$={:0.3f}'.format(truthCost), marker='o', fillstyle='full', \n",
    "                        linestyle='--', markersize=5)\n",
    "    axarr[row,col].plot(np.arange(n), bids, color='coral', alpha=1, \n",
    "                        label='equil bids: $P_e/P_m$={:0.3f}'.format(equilCost), marker='o', fillstyle='full', \n",
    "                        linestyle='-', markersize=5)\n",
    "\n",
    "    axarr[row,col].set_title(candNames[i], size=14)\n",
    "    axarr[row,col].legend()\n",
    "    axarr[row,col].grid(alpha=0.2)\n",
    "\n",
    "\n",
    "    \n",
    "axarr[0,0].set_ylabel('bid value', size=13)\n",
    "axarr[1,0].set_ylabel('bid value', size=13)\n",
    "axarr[1,0].set_xlabel('player', size=13)\n",
    "axarr[1,1].set_xlabel('player', size=13)\n",
    "axarr[1,2].set_xlabel('player', size=13)\n",
    "\n",
    "axarr[1,2].set_ylim(0, 50)\n",
    "\n",
    "\n",
    "plt.subplots_adjust(hspace=0.3)\n",
    "plt.savefig('out.png', dpi=400, bbox_inches='tight', facecolor='white')\n",
    "plt.show()"
   ]
  },
  {
   "cell_type": "markdown",
   "metadata": {},
   "source": [
    "# SYBIL proofness"
   ]
  },
  {
   "cell_type": "code",
   "execution_count": 635,
   "metadata": {},
   "outputs": [],
   "source": [
    "def getAllocs(bids, alpha=3):\n",
    "    denom = sum([1/(b**a) for b in bids])\n",
    "    return np.array(1/(bids**a)) / denom"
   ]
  },
  {
   "cell_type": "code",
   "execution_count": 634,
   "metadata": {},
   "outputs": [
    {
     "data": {
      "text/plain": [
       "array([9.66287915, 8.8109329 ])"
      ]
     },
     "execution_count": 634,
     "metadata": {},
     "output_type": "execute_result"
    }
   ],
   "source": [
    "bids = calcEquilBids([4, 2], n=2, a=3, guess=[4,2])\n",
    "bids"
   ]
  },
  {
   "cell_type": "code",
   "execution_count": 636,
   "metadata": {},
   "outputs": [
    {
     "data": {
      "text/plain": [
       "array([0.43121518, 0.56878482])"
      ]
     },
     "execution_count": 636,
     "metadata": {},
     "output_type": "execute_result"
    }
   ],
   "source": [
    "getAllocs(bids)"
   ]
  },
  {
   "cell_type": "code",
   "execution_count": 638,
   "metadata": {},
   "outputs": [
    {
     "data": {
      "text/plain": [
       "array([2.44191943, 3.87395527])"
      ]
     },
     "execution_count": 638,
     "metadata": {},
     "output_type": "execute_result"
    }
   ],
   "source": [
    "(bids-np.array([4,2]))*getAllocs(bids)"
   ]
  },
  {
   "cell_type": "code",
   "execution_count": 659,
   "metadata": {},
   "outputs": [
    {
     "data": {
      "text/plain": [
       "array([17.14797398, 17.14797398, 11.90077619])"
      ]
     },
     "execution_count": 659,
     "metadata": {},
     "output_type": "execute_result"
    }
   ],
   "source": [
    "bids = calcEquilBids([10, 10, 2], n=3, a=3, guess=[4,4,2])\n",
    "bids"
   ]
  },
  {
   "cell_type": "code",
   "execution_count": 660,
   "metadata": {},
   "outputs": [
    {
     "data": {
      "text/plain": [
       "array([0.20033406, 0.20033406, 0.59933188])"
      ]
     },
     "execution_count": 660,
     "metadata": {},
     "output_type": "execute_result"
    }
   ],
   "source": [
    "getAllocs(bids)"
   ]
  },
  {
   "cell_type": "code",
   "execution_count": 663,
   "metadata": {},
   "outputs": [
    {
     "data": {
      "text/plain": [
       "array([1.43198265, 1.43198265, 5.93385079])"
      ]
     },
     "execution_count": 663,
     "metadata": {},
     "output_type": "execute_result"
    }
   ],
   "source": [
    "out = (bids-np.array([10,10,2]))*getAllocs(bids)\n",
    "out"
   ]
  },
  {
   "cell_type": "code",
   "execution_count": 664,
   "metadata": {},
   "outputs": [
    {
     "data": {
      "text/plain": [
       "2.8639653066137463"
      ]
     },
     "execution_count": 664,
     "metadata": {},
     "output_type": "execute_result"
    }
   ],
   "source": [
    "out[0]*2"
   ]
  },
  {
   "cell_type": "code",
   "execution_count": null,
   "metadata": {},
   "outputs": [],
   "source": []
  }
 ],
 "metadata": {
  "kernelspec": {
   "display_name": "Python 3",
   "language": "python",
   "name": "python3"
  },
  "language_info": {
   "codemirror_mode": {
    "name": "ipython",
    "version": 3
   },
   "file_extension": ".py",
   "mimetype": "text/x-python",
   "name": "python",
   "nbconvert_exporter": "python",
   "pygments_lexer": "ipython3",
   "version": "3.8.16"
  }
 },
 "nbformat": 4,
 "nbformat_minor": 4
}
