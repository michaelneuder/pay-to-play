{
 "cells": [
  {
   "cell_type": "code",
   "execution_count": 1,
   "metadata": {},
   "outputs": [],
   "source": [
    "import matplotlib.pyplot as plt\n",
    "import matplotlib as mpl\n",
    "import matplotlib.patches as mpatches\n",
    "import numpy as np\n",
    "import pandas as pd\n",
    "import cvxpy as cp\n",
    "from scipy.stats import poisson, uniform, expon, pareto\n",
    "from scipy.optimize import minimize, fsolve\n",
    "from tqdm import tqdm\n",
    "from mdptoolbox import mdp, util\n",
    "import itertools\n",
    "from scipy.sparse import csr_matrix, lil_matrix\n",
    "from matplotlib.patches import Patch\n",
    "import math\n",
    "import random\n",
    "import sympy as sp\n",
    "from sympy.printing.latex import print_latex"
   ]
  },
  {
   "cell_type": "code",
   "execution_count": 16,
   "metadata": {},
   "outputs": [
    {
     "data": {
      "text/latex": [
       "$\\displaystyle \\frac{c_{M} c_{M}^{- a} \\left(n - 1\\right)}{c_{m}^{- a} + c_{M}^{- a} \\left(n - 1\\right)} + \\frac{c_{m} c_{m}^{- a}}{c_{m}^{- a} + c_{M}^{- a} \\left(n - 1\\right)}$"
      ],
      "text/plain": [
       "c_M*(n - 1)/(c_M**a*(c_m**(-a) + (n - 1)/c_M**a)) + c_m/(c_m**a*(c_m**(-a) + (n - 1)/c_M**a))"
      ]
     },
     "execution_count": 16,
     "metadata": {},
     "output_type": "execute_result"
    }
   ],
   "source": [
    "x1, xi, cm, cM = sp.symbols('x_1 x_i c_m c_M')\n",
    "a, n           = sp.symbols('a n')\n",
    "\n",
    "x1 = cm**(-a) / (cm**(-a) + (n-1)*cM**(-a))\n",
    "xi = cM**(-a) / (cm**(-a) + (n-1)*cM**(-a))\n",
    "\n",
    "C = x1 * cm + xi * (n-1) * cM\n",
    "C"
   ]
  },
  {
   "cell_type": "code",
   "execution_count": 20,
   "metadata": {},
   "outputs": [
    {
     "data": {
      "text/latex": [
       "$\\displaystyle \\frac{c_{m} c_{m}^{- a}}{c_{m}^{- a} + c_{M}^{- a} \\left(n - 1\\right)}$"
      ],
      "text/plain": [
       "c_m/(c_m**a*(c_m**(-a) + (n - 1)/c_M**a))"
      ]
     },
     "execution_count": 20,
     "metadata": {},
     "output_type": "execute_result"
    }
   ],
   "source": [
    "x1 * cm"
   ]
  },
  {
   "cell_type": "code",
   "execution_count": 19,
   "metadata": {},
   "outputs": [
    {
     "data": {
      "text/latex": [
       "$\\displaystyle \\frac{c_{M}^{a} c_{m}}{c_{M}^{a} + c_{m}^{a} \\left(n - 1\\right)}$"
      ],
      "text/plain": [
       "c_M**a*c_m/(c_M**a + c_m**a*(n - 1))"
      ]
     },
     "execution_count": 19,
     "metadata": {},
     "output_type": "execute_result"
    }
   ],
   "source": [
    "sp.simplify(x1 * cm)"
   ]
  },
  {
   "cell_type": "code",
   "execution_count": 21,
   "metadata": {},
   "outputs": [
    {
     "data": {
      "text/latex": [
       "$\\displaystyle \\frac{c_{M} c_{M}^{- a}}{c_{m}^{- a} + c_{M}^{- a} \\left(n - 1\\right)}$"
      ],
      "text/plain": [
       "c_M/(c_M**a*(c_m**(-a) + (n - 1)/c_M**a))"
      ]
     },
     "execution_count": 21,
     "metadata": {},
     "output_type": "execute_result"
    }
   ],
   "source": [
    "xi * cM"
   ]
  },
  {
   "cell_type": "code",
   "execution_count": 26,
   "metadata": {},
   "outputs": [
    {
     "data": {
      "text/latex": [
       "$\\displaystyle \\frac{c_{M} c_{m}^{a} \\left(n - 1\\right)}{c_{M}^{a} + c_{m}^{a} \\left(n - 1\\right)}$"
      ],
      "text/plain": [
       "c_M*c_m**a*(n - 1)/(c_M**a + c_m**a*(n - 1))"
      ]
     },
     "execution_count": 26,
     "metadata": {},
     "output_type": "execute_result"
    }
   ],
   "source": [
    "sp.simplify(xi * cM * (n-1))"
   ]
  },
  {
   "cell_type": "code",
   "execution_count": 28,
   "metadata": {},
   "outputs": [
    {
     "data": {
      "text/latex": [
       "$\\displaystyle \\frac{c_{M} c_{m}^{a} \\left(n - 1\\right) + c_{M}^{a} c_{m}}{c_{M}^{a} + c_{m}^{a} \\left(n - 1\\right)}$"
      ],
      "text/plain": [
       "(c_M*c_m**a*(n - 1) + c_M**a*c_m)/(c_M**a + c_m**a*(n - 1))"
      ]
     },
     "execution_count": 28,
     "metadata": {},
     "output_type": "execute_result"
    }
   ],
   "source": [
    "sp.simplify(sp.simplify(x1 * cm)+ sp.simplify((n-1)*xi * cM))"
   ]
  },
  {
   "cell_type": "code",
   "execution_count": 29,
   "metadata": {},
   "outputs": [
    {
     "data": {
      "text/latex": [
       "$\\displaystyle \\frac{c_{M} c_{m}^{a} \\left(n - 1\\right) + c_{M}^{a} c_{m}}{c_{M}^{a} + c_{m}^{a} \\left(n - 1\\right)}$"
      ],
      "text/plain": [
       "(c_M*c_m**a*(n - 1) + c_M**a*c_m)/(c_M**a + c_m**a*(n - 1))"
      ]
     },
     "execution_count": 29,
     "metadata": {},
     "output_type": "execute_result"
    }
   ],
   "source": [
    "sp.simplify(C)"
   ]
  },
  {
   "cell_type": "code",
   "execution_count": 35,
   "metadata": {},
   "outputs": [
    {
     "data": {
      "text/latex": [
       "$\\displaystyle c_{M} c_{m}^{a} \\left(n - 1\\right) + c_{M}^{a} c_{m}$"
      ],
      "text/plain": [
       "c_M*c_m**a*(n - 1) + c_M**a*c_m"
      ]
     },
     "execution_count": 35,
     "metadata": {},
     "output_type": "execute_result"
    }
   ],
   "source": [
    "num, den = sp.fraction(sp.simplify(C))\n",
    "num"
   ]
  },
  {
   "cell_type": "code",
   "execution_count": 37,
   "metadata": {},
   "outputs": [
    {
     "data": {
      "text/latex": [
       "$\\displaystyle c_{M} n - c_{M} + c_{M}^{a} c_{m} c_{m}^{- a}$"
      ],
      "text/plain": [
       "c_M*n - c_M + c_M**a*c_m/c_m**a"
      ]
     },
     "execution_count": 37,
     "metadata": {},
     "output_type": "execute_result"
    }
   ],
   "source": [
    "sp.simplify(num / (cm**a))"
   ]
  },
  {
   "cell_type": "code",
   "execution_count": 39,
   "metadata": {},
   "outputs": [
    {
     "data": {
      "text/latex": [
       "$\\displaystyle c_{M}^{a} c_{m}^{- a} + n - 1$"
      ],
      "text/plain": [
       "c_M**a/c_m**a + n - 1"
      ]
     },
     "execution_count": 39,
     "metadata": {},
     "output_type": "execute_result"
    }
   ],
   "source": [
    "sp.simplify(den / (cm**a))"
   ]
  },
  {
   "cell_type": "markdown",
   "metadata": {},
   "source": [
    "# total cost"
   ]
  },
  {
   "cell_type": "code",
   "execution_count": 64,
   "metadata": {},
   "outputs": [
    {
     "data": {
      "text/latex": [
       "$\\displaystyle \\frac{R \\left(R^{a - 1} + n - 1\\right)}{R^{a} + n - 1}$"
      ],
      "text/plain": [
       "R*(R**(a - 1) + n - 1)/(R**a + n - 1)"
      ]
     },
     "execution_count": 64,
     "metadata": {},
     "output_type": "execute_result"
    }
   ],
   "source": [
    "R, n, a = sp.symbols('R n a')\n",
    "\n",
    "C = R * (R**(a-1) + n - 1) / (R**a + n - 1)\n",
    "\n",
    "C"
   ]
  },
  {
   "cell_type": "code",
   "execution_count": 65,
   "metadata": {},
   "outputs": [
    {
     "data": {
      "text/latex": [
       "$\\displaystyle R$"
      ],
      "text/plain": [
       "R"
      ]
     },
     "execution_count": 65,
     "metadata": {},
     "output_type": "execute_result"
    }
   ],
   "source": [
    "sp.limit(C, n, sp.oo)"
   ]
  },
  {
   "cell_type": "markdown",
   "metadata": {},
   "source": [
    "# sanity check"
   ]
  },
  {
   "cell_type": "code",
   "execution_count": 42,
   "metadata": {},
   "outputs": [
    {
     "data": {
      "text/latex": [
       "$\\displaystyle \\frac{c_{M} c_{M}^{- a} \\left(n - 1\\right)}{c_{m}^{- a} + c_{M}^{- a} \\left(n - 1\\right)} + \\frac{c_{m} c_{m}^{- a}}{c_{m}^{- a} + c_{M}^{- a} \\left(n - 1\\right)}$"
      ],
      "text/plain": [
       "c_M*(n - 1)/(c_M**a*(c_m**(-a) + (n - 1)/c_M**a)) + c_m/(c_m**a*(c_m**(-a) + (n - 1)/c_M**a))"
      ]
     },
     "execution_count": 42,
     "metadata": {},
     "output_type": "execute_result"
    }
   ],
   "source": [
    "x1, xi, cm, cM = sp.symbols('x_1 x_i c_m c_M')\n",
    "a, n           = sp.symbols('a n')\n",
    "\n",
    "x1 = cm**(-a) / (cm**(-a) + (n-1)*cM**(-a))\n",
    "xi = cM**(-a) / (cm**(-a) + (n-1)*cM**(-a))\n",
    "\n",
    "C = x1 * cm + xi * (n-1) * cM\n",
    "C"
   ]
  },
  {
   "cell_type": "code",
   "execution_count": 44,
   "metadata": {},
   "outputs": [
    {
     "data": {
      "text/plain": [
       "<function _lambdifygenerated(c_m, c_M, a, n)>"
      ]
     },
     "execution_count": 44,
     "metadata": {},
     "output_type": "execute_result"
    }
   ],
   "source": [
    "cFast = sp.lambdify((cm, cM, a, n), C)\n",
    "cFast"
   ]
  },
  {
   "cell_type": "code",
   "execution_count": 86,
   "metadata": {},
   "outputs": [
    {
     "data": {
      "text/plain": [
       "1.0000000081"
      ]
     },
     "execution_count": 86,
     "metadata": {},
     "output_type": "execute_result"
    }
   ],
   "source": [
    "cFast(1, 10, 10, 10)"
   ]
  },
  {
   "cell_type": "markdown",
   "metadata": {},
   "source": [
    "# all bid max"
   ]
  },
  {
   "cell_type": "code",
   "execution_count": 88,
   "metadata": {},
   "outputs": [
    {
     "data": {
      "text/latex": [
       "$\\displaystyle c_{M}$"
      ],
      "text/plain": [
       "c_M"
      ]
     },
     "execution_count": 88,
     "metadata": {},
     "output_type": "execute_result"
    }
   ],
   "source": [
    "xi, cM = sp.symbols('x_i c_M')\n",
    "a, n   = sp.symbols('a n')\n",
    "\n",
    "xi = cM**(-a) / (n*cM**(-a))\n",
    "\n",
    "C = n* xi * cM\n",
    "C"
   ]
  },
  {
   "cell_type": "markdown",
   "metadata": {},
   "source": [
    "# system solver for multiple players"
   ]
  },
  {
   "cell_type": "code",
   "execution_count": 514,
   "metadata": {},
   "outputs": [
    {
     "data": {
      "text/latex": [
       "$\\displaystyle \\frac{c_{1} - v_{1}}{c_{1}^{3} \\left(\\frac{1}{c_{2}^{3}} + \\frac{1}{c_{1}^{3}}\\right)}$"
      ],
      "text/plain": [
       "(c_1 - v_1)/(c_1**3*(c_2**(-3) + c_1**(-3)))"
      ]
     },
     "execution_count": 514,
     "metadata": {},
     "output_type": "execute_result"
    }
   ],
   "source": [
    "# two player\n",
    "c1, c2, v1, v2 = sp.symbols('c_1 c_2 v_1 v_2')\n",
    "a = 3\n",
    "\n",
    "u1 = (c1-v1) * (1/c1)**a / ((1/c1)**a + (1/c2)**a)\n",
    "u2 = (c2-v2) * (1/c2)**a / ((1/c1)**a + (1/c2)**a)\n",
    "u1"
   ]
  },
  {
   "cell_type": "code",
   "execution_count": 515,
   "metadata": {},
   "outputs": [
    {
     "data": {
      "text/latex": [
       "$\\displaystyle \\frac{1}{c_{2}^{3} \\left(\\frac{1}{c_{2}^{3}} + \\frac{1}{c_{1}^{3}}\\right)} - \\frac{3 \\left(c_{2} - v_{2}\\right)}{c_{2}^{4} \\left(\\frac{1}{c_{2}^{3}} + \\frac{1}{c_{1}^{3}}\\right)} + \\frac{3 \\left(c_{2} - v_{2}\\right)}{c_{2}^{7} \\left(\\frac{1}{c_{2}^{3}} + \\frac{1}{c_{1}^{3}}\\right)^{2}} = 0$"
      ],
      "text/plain": [
       "Eq(1/(c_2**3*(c_2**(-3) + c_1**(-3))) - 3*(c_2 - v_2)/(c_2**4*(c_2**(-3) + c_1**(-3))) + 3*(c_2 - v_2)/(c_2**7*(c_2**(-3) + c_1**(-3))**2), 0)"
      ]
     },
     "execution_count": 515,
     "metadata": {},
     "output_type": "execute_result"
    }
   ],
   "source": [
    "part1 = sp.diff(u1, c1)\n",
    "part2 = sp.diff(u2, c2)\n",
    "foc1 = sp.Eq(part1, 0)\n",
    "foc2 = sp.Eq(part2, 0)\n",
    "foc2"
   ]
  },
  {
   "cell_type": "code",
   "execution_count": 517,
   "metadata": {},
   "outputs": [
    {
     "data": {
      "text/plain": [
       "array([3., 3.])"
      ]
     },
     "execution_count": 517,
     "metadata": {},
     "output_type": "execute_result"
    }
   ],
   "source": [
    "foc1sc = sp.lambdify((c1, c2), part1.evalf(subs={v1:1}))\n",
    "foc2sc = sp.lambdify((c1, c2), part2.evalf(subs={v2:1}))\n",
    "\n",
    "def eqs(cs):\n",
    "    c1, c2 = cs\n",
    "    return [foc1sc(c1,c2), foc2sc(c1,c2)]\n",
    "\n",
    "initial_guess = [0.4, 0.2]\n",
    "solution = fsolve(eqs, initial_guess)\n",
    "solution"
   ]
  },
  {
   "cell_type": "code",
   "execution_count": 98,
   "metadata": {},
   "outputs": [
    {
     "data": {
      "text/plain": [
       "(0.4312151766251178, 0.5687848233748822)"
      ]
     },
     "execution_count": 98,
     "metadata": {},
     "output_type": "execute_result"
    }
   ],
   "source": [
    "x1 = (1/solution[0])**(3) / ((1/solution[0])**(3) + (1/solution[1])**(3))\n",
    "x2 = (1/solution[1])**(3) / ((1/solution[0])**(3) + (1/solution[1])**(3))\n",
    "x1, x2"
   ]
  },
  {
   "cell_type": "code",
   "execution_count": 159,
   "metadata": {},
   "outputs": [
    {
     "data": {
      "text/latex": [
       "$\\displaystyle \\frac{c_{1} - v_{1}}{c_{1}^{9} \\left(\\frac{1}{c_{3}^{9}} + \\frac{1}{c_{2}^{9}} + \\frac{1}{c_{1}^{9}}\\right)}$"
      ],
      "text/plain": [
       "(c_1 - v_1)/(c_1**9*(c_3**(-9) + c_2**(-9) + c_1**(-9)))"
      ]
     },
     "execution_count": 159,
     "metadata": {},
     "output_type": "execute_result"
    }
   ],
   "source": [
    "# three player\n",
    "c1, c2, c3, v1, v2, v3 = sp.symbols('c_1 c_2 c_3 v_1 v_2 v_3')\n",
    "a = 9\n",
    "\n",
    "u1 = (c1-v1) * (1/c1)**a / ((1/c1)**a + (1/c2)**a + (1/c3)**a)\n",
    "u2 = (c2-v2) * (1/c2)**a / ((1/c1)**a + (1/c2)**a + (1/c3)**a)\n",
    "u3 = (c3-v3) * (1/c3)**a / ((1/c1)**a + (1/c2)**a + (1/c3)**a)\n",
    "u1"
   ]
  },
  {
   "cell_type": "code",
   "execution_count": 160,
   "metadata": {},
   "outputs": [
    {
     "data": {
      "text/latex": [
       "$\\displaystyle \\frac{1}{c_{2}^{9} \\left(\\frac{1}{c_{3}^{9}} + \\frac{1}{c_{2}^{9}} + \\frac{1}{c_{1}^{9}}\\right)} - \\frac{9 \\left(c_{2} - v_{2}\\right)}{c_{2}^{10} \\left(\\frac{1}{c_{3}^{9}} + \\frac{1}{c_{2}^{9}} + \\frac{1}{c_{1}^{9}}\\right)} + \\frac{9 \\left(c_{2} - v_{2}\\right)}{c_{2}^{19} \\left(\\frac{1}{c_{3}^{9}} + \\frac{1}{c_{2}^{9}} + \\frac{1}{c_{1}^{9}}\\right)^{2}} = 0$"
      ],
      "text/plain": [
       "Eq(1/(c_2**9*(c_3**(-9) + c_2**(-9) + c_1**(-9))) - 9*(c_2 - v_2)/(c_2**10*(c_3**(-9) + c_2**(-9) + c_1**(-9))) + 9*(c_2 - v_2)/(c_2**19*(c_3**(-9) + c_2**(-9) + c_1**(-9))**2), 0)"
      ]
     },
     "execution_count": 160,
     "metadata": {},
     "output_type": "execute_result"
    }
   ],
   "source": [
    "part1 = sp.diff(u1, c1)\n",
    "part2 = sp.diff(u2, c2)\n",
    "part3 = sp.diff(u3, c3)\n",
    "foc1 = sp.Eq(part1, 0)\n",
    "foc2 = sp.Eq(part2, 0)\n",
    "foc3 = sp.Eq(part3, 0)\n",
    "foc2"
   ]
  },
  {
   "cell_type": "code",
   "execution_count": 161,
   "metadata": {},
   "outputs": [
    {
     "data": {
      "text/plain": [
       "array([2.02462415, 2.33171154, 4.50033163])"
      ]
     },
     "execution_count": 161,
     "metadata": {},
     "output_type": "execute_result"
    }
   ],
   "source": [
    "foc1sc = sp.lambdify((c1, c2, c3), part1.evalf(subs={v1:1}))\n",
    "foc2sc = sp.lambdify((c1, c2, c3), part2.evalf(subs={v2:2}))\n",
    "foc3sc = sp.lambdify((c1, c2, c3), part3.evalf(subs={v3:4}))\n",
    "\n",
    "def eqs(cs):\n",
    "    c1, c2, c3 = cs\n",
    "    return [foc1sc(c1,c2,c3), foc2sc(c1,c2,c3), foc3sc(c1,c2,c3)]\n",
    "\n",
    "initial_guess = [1, 1, 1]\n",
    "solution = fsolve(eqs, initial_guess)\n",
    "solution"
   ]
  },
  {
   "cell_type": "code",
   "execution_count": 162,
   "metadata": {},
   "outputs": [
    {
     "data": {
      "text/plain": [
       "(0.7804480416310342, 0.2189627850780753, 0.0005891732908904957, 1.0)"
      ]
     },
     "execution_count": 162,
     "metadata": {},
     "output_type": "execute_result"
    }
   ],
   "source": [
    "x1 = (1/solution[0])**(a) / ((1/solution[0])**(a) + (1/solution[1])**(a) + (1/solution[2])**(a))\n",
    "x2 = (1/solution[1])**(a) / ((1/solution[0])**(a) + (1/solution[1])**(a) + (1/solution[2])**(a))\n",
    "x3 = (1/solution[2])**(a) / ((1/solution[0])**(a) + (1/solution[1])**(a) + (1/solution[2])**(a))\n",
    "x1, x2, x3, x1+x2+x3"
   ]
  },
  {
   "cell_type": "code",
   "execution_count": 335,
   "metadata": {},
   "outputs": [
    {
     "data": {
      "text/latex": [
       "$\\displaystyle \\frac{c_{1} - v_{1}}{c_{1}^{3} \\left(\\frac{1}{c_{5}^{3}} + \\frac{1}{c_{4}^{3}} + \\frac{1}{c_{3}^{3}} + \\frac{1}{c_{2}^{3}} + \\frac{1}{c_{1}^{3}}\\right)}$"
      ],
      "text/plain": [
       "(c_1 - v_1)/(c_1**3*(c_5**(-3) + c_4**(-3) + c_3**(-3) + c_2**(-3) + c_1**(-3)))"
      ]
     },
     "execution_count": 335,
     "metadata": {},
     "output_type": "execute_result"
    }
   ],
   "source": [
    "# n-player\n",
    "n = 5\n",
    "a = 3\n",
    "cs, vs, us = [], [], []\n",
    "for i in range(1,n+1):\n",
    "    c_i = sp.symbols('c_{}'.format(i))\n",
    "    v_i = sp.symbols('v_{}'.format(i))\n",
    "    cs.append(c_i)\n",
    "    vs.append(v_i)\n",
    "denom = sum([(1/c)**a for c in cs])\n",
    "for i in range(1,n+1):\n",
    "    u_i = (cs[i-1] - vs[i-1]) * (1/cs[i-1])**a / denom\n",
    "    us.append(u_i)\n",
    "us[0]"
   ]
  },
  {
   "cell_type": "code",
   "execution_count": 339,
   "metadata": {},
   "outputs": [
    {
     "data": {
      "text/plain": [
       "<function _lambdifygenerated(c_1, c_2, c_3, c_4, c_5)>"
      ]
     },
     "execution_count": 339,
     "metadata": {},
     "output_type": "execute_result"
    }
   ],
   "source": [
    "focs = []\n",
    "vals = np.arange(1.,n+1)**2\n",
    "for i in range(n):\n",
    "    parti = sp.diff(us[i], cs[i])\n",
    "    vi = vs[i]\n",
    "    focs.append(sp.lambdify(cs, parti.evalf(subs={vi: vals[i]})))\n",
    "focs[-1]"
   ]
  },
  {
   "cell_type": "code",
   "execution_count": 342,
   "metadata": {},
   "outputs": [
    {
     "data": {
      "text/plain": [
       "array([ 1.,  4.,  9., 16., 25.])"
      ]
     },
     "execution_count": 342,
     "metadata": {},
     "output_type": "execute_result"
    }
   ],
   "source": [
    "vals"
   ]
  },
  {
   "cell_type": "code",
   "execution_count": 343,
   "metadata": {},
   "outputs": [
    {
     "data": {
      "text/plain": [
       "array([ 7.46801654e+00,  8.73152668e+00,  2.08400439e+06,  1.52874658e+06,\n",
       "       -1.46985588e+07])"
      ]
     },
     "execution_count": 343,
     "metadata": {},
     "output_type": "execute_result"
    }
   ],
   "source": [
    "def eqs(cs):\n",
    "    return [f(*cs) for f in focs]\n",
    "\n",
    "initial_guess = vals\n",
    "solution = fsolve(eqs, initial_guess)\n",
    "solution"
   ]
  },
  {
   "cell_type": "code",
   "execution_count": 344,
   "metadata": {},
   "outputs": [
    {
     "data": {
      "text/plain": [
       "[0.6151310326499437,\n",
       " 0.38486896735005616,\n",
       " 2.83065905033675e-17,\n",
       " 7.17095428995606e-17,\n",
       " -8.06787557215077e-20]"
      ]
     },
     "execution_count": 344,
     "metadata": {},
     "output_type": "execute_result"
    }
   ],
   "source": [
    "allodenom = sum([1/(s**a) for s in solution])\n",
    "allocs = [1/(s**a) / allodenom for s in solution]\n",
    "allocs"
   ]
  },
  {
   "cell_type": "code",
   "execution_count": 345,
   "metadata": {},
   "outputs": [
    {
     "data": {
      "text/plain": [
       "7.954302385239493"
      ]
     },
     "execution_count": 345,
     "metadata": {},
     "output_type": "execute_result"
    }
   ],
   "source": [
    "np.dot(allocs, solution)"
   ]
  },
  {
   "cell_type": "code",
   "execution_count": 494,
   "metadata": {},
   "outputs": [],
   "source": [
    "# verify this one with empirics"
   ]
  },
  {
   "cell_type": "code",
   "execution_count": 20,
   "metadata": {},
   "outputs": [
    {
     "data": {
      "text/plain": [
       "[100, 100, 100, 100, 100, 100, 100, 1]"
      ]
     },
     "execution_count": 20,
     "metadata": {},
     "output_type": "execute_result"
    }
   ],
   "source": [
    "a    = 3\n",
    "n    = 8\n",
    "vals = [1.,4.,9.,16.,25.]\n",
    "vals = np.exp(np.arange(5))\n",
    "vals = [100,100,100,100,100,100,100,1]\n",
    "init = vals\n",
    "vals"
   ]
  },
  {
   "cell_type": "code",
   "execution_count": null,
   "metadata": {},
   "outputs": [],
   "source": [
    "cs = [sp.Symbol('c_{}'.format(i), positive=True) for i in range(1, n+1)]\n",
    "bids = [[init[i]] for i in range(n)]\n",
    "for turn in range(int(1000)):\n",
    "    i = turn % n\n",
    "    den = sum([1/(ci**a) for ci in cs])\n",
    "    xi = 1/(cs[i]**a) / den\n",
    "    ui = (cs[i]-vals[i])*xi\n",
    "    subs = {}\n",
    "    for j in range(n):\n",
    "        if j != i:\n",
    "            subs[cs[j]] = bids[j][-1]\n",
    "    funci = sp.lambdify([cs[i]], -ui.evalf(subs=subs))\n",
    "    bounds = ((0, 1000),)\n",
    "    sol = minimize(funci, (1.1), method='SLSQP', bounds=bounds).x[0]\n",
    "    curri = sol\n",
    "    bids[i].append(curri)"
   ]
  },
  {
   "cell_type": "code",
   "execution_count": 23,
   "metadata": {},
   "outputs": [
    {
     "data": {
      "text/plain": [
       "[<matplotlib.lines.Line2D at 0x1212abca0>]"
      ]
     },
     "execution_count": 23,
     "metadata": {},
     "output_type": "execute_result"
    },
    {
     "data": {
      "image/png": "[encoded data removed]",
      "text/plain": [
       "<Figure size 432x288 with 1 Axes>"
      ]
     },
     "metadata": {
      "needs_background": "light"
     },
     "output_type": "display_data"
    }
   ],
   "source": [
    "plt.plot(bids[0], marker='x', linestyle='none')\n",
    "plt.plot(bids[1], marker='x', linestyle='none')\n",
    "plt.plot(bids[2], marker='x', linestyle='none')\n",
    "plt.plot(bids[3], marker='x', linestyle='none')\n",
    "plt.plot(bids[4], marker='x', linestyle='none')\n",
    "plt.plot(bids[7], marker='x', linestyle='none')"
   ]
  },
  {
   "cell_type": "code",
   "execution_count": 24,
   "metadata": {},
   "outputs": [
    {
     "data": {
      "text/plain": [
       "(153.92385689689854,\n",
       " 153.92387113838546,\n",
       " 153.92391400035015,\n",
       " 153.923846554351,\n",
       " 153.92382299086603,\n",
       " 64.36926548325944)"
      ]
     },
     "execution_count": 24,
     "metadata": {},
     "output_type": "execute_result"
    }
   ],
   "source": [
    "bids[0][-1],bids[1][-1],bids[2][-1],bids[3][-1],bids[4][-1], bids[-1][-1]"
   ]
  },
  {
   "cell_type": "code",
   "execution_count": 579,
   "metadata": {},
   "outputs": [
    {
     "data": {
      "text/plain": [
       "[1.0, 4.0, 9.0, 16.0, 25.0]"
      ]
     },
     "execution_count": 579,
     "metadata": {},
     "output_type": "execute_result"
    }
   ],
   "source": [
    "vals"
   ]
  },
  {
   "cell_type": "code",
   "execution_count": 580,
   "metadata": {},
   "outputs": [
    {
     "data": {
      "text/latex": [
       "$\\displaystyle \\frac{c_{5} - v_{5}}{c_{5}^{3} \\left(\\frac{1}{c_{5}^{3}} + \\frac{1}{c_{4}^{3}} + \\frac{1}{c_{3}^{3}} + \\frac{1}{c_{2}^{3}} + \\frac{1}{c_{1}^{3}}\\right)}$"
      ],
      "text/plain": [
       "(c_5 - v_5)/(c_5**3*(c_5**(-3) + c_4**(-3) + c_3**(-3) + c_2**(-3) + c_1**(-3)))"
      ]
     },
     "execution_count": 580,
     "metadata": {},
     "output_type": "execute_result"
    }
   ],
   "source": [
    "cs, vs, us = [], [], []\n",
    "for i in range(1,n+1):\n",
    "    c_i = sp.symbols('c_{}'.format(i))\n",
    "    v_i = sp.symbols('v_{}'.format(i))\n",
    "    cs.append(c_i)\n",
    "    vs.append(v_i)\n",
    "denom = sum([(1/c)**a for c in cs])\n",
    "for i in range(1,n+1):\n",
    "    u_i = (cs[i-1] - vs[i-1]) * (1/cs[i-1])**a / denom\n",
    "    us.append(u_i)\n",
    "us[-1]"
   ]
  },
  {
   "cell_type": "code",
   "execution_count": 581,
   "metadata": {},
   "outputs": [
    {
     "data": {
      "text/plain": [
       "<function _lambdifygenerated(c_1, c_2, c_3, c_4, c_5)>"
      ]
     },
     "execution_count": 581,
     "metadata": {},
     "output_type": "execute_result"
    }
   ],
   "source": [
    "focs = []\n",
    "for i in range(n):\n",
    "    parti = sp.diff(us[i], cs[i])\n",
    "    vi = vs[i]\n",
    "    focs.append(sp.lambdify(cs, parti.evalf(subs={vi: vals[i]})))\n",
    "focs[-1]"
   ]
  },
  {
   "cell_type": "code",
   "execution_count": 582,
   "metadata": {},
   "outputs": [
    {
     "data": {
      "text/latex": [
       "$\\displaystyle \\frac{1}{c_{5}^{3} \\left(\\frac{1}{c_{5}^{3}} + \\frac{1}{c_{4}^{3}} + \\frac{1}{c_{3}^{3}} + \\frac{1}{c_{2}^{3}} + \\frac{1}{c_{1}^{3}}\\right)} - \\frac{3.0 \\left(c_{5} - 25.0\\right)}{c_{5}^{4} \\left(\\frac{1}{c_{5}^{3}} + \\frac{1}{c_{4}^{3}} + \\frac{1}{c_{3}^{3}} + \\frac{1}{c_{2}^{3}} + \\frac{1}{c_{1}^{3}}\\right)} + \\frac{3.0 \\left(c_{5} - 25.0\\right)}{c_{5}^{7} \\left(\\frac{1}{c_{5}^{3}} + \\frac{1}{c_{4}^{3}} + \\frac{1}{c_{3}^{3}} + \\frac{1}{c_{2}^{3}} + \\frac{1}{c_{1}^{3}}\\right)^{2}}$"
      ],
      "text/plain": [
       "1/(c_5**3*(c_5**(-3) + c_4**(-3) + c_3**(-3) + c_2**(-3) + c_1**(-3))) - 3.0*(c_5 - 25.0)/(c_5**4*(c_5**(-3) + c_4**(-3) + c_3**(-3) + c_2**(-3) + c_1**(-3))) + 3.0*(c_5 - 25.0)/(c_5**7*(c_5**(-3) + c_4**(-3) + c_3**(-3) + c_2**(-3) + c_1**(-3))**2)"
      ]
     },
     "execution_count": 582,
     "metadata": {},
     "output_type": "execute_result"
    }
   ],
   "source": [
    "parti.evalf(subs={vi: vals[i]})"
   ]
  },
  {
   "cell_type": "code",
   "execution_count": 605,
   "metadata": {},
   "outputs": [
    {
     "data": {
      "text/plain": [
       "(array([ 6.38821323,  7.87627169, 13.93135   , 24.13685419, 37.5560592 ]),\n",
       " array([ 7.46801654e+00,  8.73152668e+00,  2.08400439e+06,  1.52874658e+06,\n",
       "        -1.46985588e+07]))"
      ]
     },
     "execution_count": 605,
     "metadata": {},
     "output_type": "execute_result"
    }
   ],
   "source": [
    "def eqs(cs):\n",
    "    return [f(*cs) for f in focs]\n",
    "fsolve(eqs, [6., 7., 13., 24., 27.]), fsolve(eqs, vals)"
   ]
  },
  {
   "cell_type": "code",
   "execution_count": 608,
   "metadata": {},
   "outputs": [
    {
     "data": {
      "text/plain": [
       "-2.566491214928135e-05"
      ]
     },
     "execution_count": 608,
     "metadata": {},
     "output_type": "execute_result"
    }
   ],
   "source": [
    "focs[0](\n",
    "    6.38641653292105,\n",
    "    7.873363006311625,\n",
    "    13.93008972601651,\n",
    "    24.12967651253459,\n",
    "    37.50600131187707\n",
    ")"
   ]
  },
  {
   "cell_type": "markdown",
   "metadata": {},
   "source": [
    "# WELFARE"
   ]
  },
  {
   "cell_type": "code",
   "execution_count": 242,
   "metadata": {},
   "outputs": [
    {
     "data": {
      "text/plain": [
       "[v_1, v_2, v_3, v_4, v_5]"
      ]
     },
     "execution_count": 242,
     "metadata": {},
     "output_type": "execute_result"
    }
   ],
   "source": [
    "# two player\n",
    "a  = sp.symbols('a')\n",
    "vs = []\n",
    "n  = 5\n",
    "for i in range(1,n+1):\n",
    "    v_i = sp.symbols('v_{}'.format(i), positive=True)\n",
    "    vs.append(v_i)\n",
    "vs"
   ]
  },
  {
   "cell_type": "code",
   "execution_count": 247,
   "metadata": {},
   "outputs": [
    {
     "data": {
      "text/latex": [
       "$\\displaystyle - \\frac{v_{1}^{1 - a} + v_{2}^{1 - a} + v_{3}^{1 - a} + v_{4}^{1 - a} + v_{5}^{1 - a}}{v_{5}^{- a} + v_{4}^{- a} + v_{3}^{- a} + v_{2}^{- a} + v_{1}^{- a}}$"
      ],
      "text/plain": [
       "-(v_1**(1 - a) + v_2**(1 - a) + v_3**(1 - a) + v_4**(1 - a) + v_5**(1 - a))/(v_5**(-a) + v_4**(-a) + v_3**(-a) + v_2**(-a) + v_1**(-a))"
      ]
     },
     "execution_count": 247,
     "metadata": {},
     "output_type": "execute_result"
    }
   ],
   "source": [
    "W = - sum([(v)**(1-a) for v in vs]) / sum([(v)**(-a) for v in vs])\n",
    "W = sp.simplify(W)\n",
    "W"
   ]
  },
  {
   "cell_type": "code",
   "execution_count": 351,
   "metadata": {},
   "outputs": [
    {
     "data": {
      "text/plain": [
       "[array([1., 1., 1., 1., 1.]),\n",
       " array([1., 2., 3., 4., 5.]),\n",
       " array([1.        , 1.41421356, 1.73205081, 2.        , 2.23606798]),\n",
       " array([1., 1., 1., 1., 5.]),\n",
       " array([1., 5., 5., 5., 5.]),\n",
       " array([ 1.,  4.,  9., 16., 25.])]"
      ]
     },
     "execution_count": 351,
     "metadata": {},
     "output_type": "execute_result"
    }
   ],
   "source": [
    "n = 5\n",
    "a = 3\n",
    "cand1 = np.ones(n)\n",
    "cand2 = np.arange(1,n+1, dtype=np.float)\n",
    "cand3 = np.arange(1,n+1, dtype=np.float)**(1/2)\n",
    "cand4 = np.ones(n)\n",
    "cand4[-1] = n\n",
    "cand5 = np.ones(n) * n\n",
    "cand5[0] = 1\n",
    "cand6 = np.power(np.arange(1.,n+1), 2)\n",
    "cands = [cand1, cand2, cand3, cand4, cand5, cand6]\n",
    "cands"
   ]
  },
  {
   "cell_type": "code",
   "execution_count": 352,
   "metadata": {},
   "outputs": [],
   "source": [
    "def calcTruthfulCost(cand, a):\n",
    "    v1 = np.min(cand)\n",
    "    num = sum([np.power(vi,1-a)/v1 for vi in cand])\n",
    "    den = sum([np.power(vi,-a) for vi in cand])\n",
    "    return num/den"
   ]
  },
  {
   "cell_type": "code",
   "execution_count": 34,
   "metadata": {},
   "outputs": [],
   "source": [
    "def calcEquilBids(cand, n, a, guess=None):\n",
    "    cs, vs, us = [], [], []\n",
    "    for i in range(1,n+1):\n",
    "        c_i = sp.symbols('c_{}'.format(i))\n",
    "        v_i = sp.symbols('v_{}'.format(i))\n",
    "        cs.append(c_i)\n",
    "        vs.append(v_i)\n",
    "    denom = sum([(1/c)**a for c in cs])\n",
    "    for i in range(1,n+1):\n",
    "        u_i = (cs[i-1] - vs[i-1]) * (1/cs[i-1])**a / denom\n",
    "        us.append(u_i)\n",
    "\n",
    "    focs = []\n",
    "    for i in range(n):\n",
    "        parti = sp.diff(us[i], cs[i])\n",
    "        vi = vs[i]\n",
    "        focs.append(sp.lambdify(cs, parti.evalf(subs={vi: cand[i]})))\n",
    "\n",
    "    def eqs(cs):\n",
    "        return [f(*cs) for f in focs]\n",
    "\n",
    "    initial_guess = cand\n",
    "    if guess != None:\n",
    "        initial_guess = guess\n",
    "    return fsolve(eqs, initial_guess)\n",
    "\n",
    "def calcEquilCost(cand, bids, a):\n",
    "    v1 = np.min(cand)\n",
    "    num = 0\n",
    "    den = 0\n",
    "    for i in range(len(cand)):\n",
    "        ci, vi = bids[i], cand[i]\n",
    "        num += (vi*np.power(ci,-a)/v1)\n",
    "        den += (np.power(ci,-a))\n",
    "    return num / den"
   ]
  },
  {
   "cell_type": "code",
   "execution_count": 615,
   "metadata": {},
   "outputs": [
    {
     "data": {
      "image/png": "[encoded data removed]",
      "text/plain": [
       "<Figure size 936x504 with 6 Axes>"
      ]
     },
     "metadata": {
      "needs_background": "light"
     },
     "output_type": "display_data"
    }
   ],
   "source": [
    "f, axarr = plt.subplots(nrows=2, ncols=3, figsize=(13,7))\n",
    "\n",
    "candNames = ['ones', 'linear', 'sqrt', 'one-high', 'one-low', 'square']\n",
    "for i, c in enumerate(cands):\n",
    "    row, col = i // 3, i % 3\n",
    "    \n",
    "    truthCost = calcTruthfulCost(c, a=3)\n",
    "    if i == 5: # requires hand crafted init guess\n",
    "        bids = calcEquilBids(c, n=5, a=3, guess=[6., 7., 13., 24., 27.])\n",
    "    else:\n",
    "        bids = calcEquilBids(c, n=5, a=3)\n",
    "    for j in range(len(bids)):\n",
    "        if np.abs(bids[j]) > float(1e5):\n",
    "            bids[j] = 0\n",
    "    equilCost = calcEquilCost(c, bids, a=3)\n",
    "    \n",
    "    axarr[row,col].plot(np.arange(n), c, color='mediumvioletred', alpha=1, \n",
    "                        label=r'true bids: $W_t/W_m$={:0.3f}'.format(truthCost), marker='o', fillstyle='full', \n",
    "                        linestyle='--', markersize=5)\n",
    "    axarr[row,col].plot(np.arange(n), bids, color='coral', alpha=1, \n",
    "                        label='equil bids: $W_e/W_m$={:0.3f}'.format(equilCost), marker='o', fillstyle='full', \n",
    "                        linestyle='-', markersize=5)\n",
    "\n",
    "    axarr[row,col].set_title(candNames[i], size=14)\n",
    "    axarr[row,col].legend()\n",
    "    axarr[row,col].grid(alpha=0.2)\n",
    "\n",
    "\n",
    "    \n",
    "axarr[0,0].set_ylabel('bid value', size=13)\n",
    "axarr[1,0].set_ylabel('bid value', size=13)\n",
    "axarr[1,0].set_xlabel('player', size=13)\n",
    "axarr[1,1].set_xlabel('player', size=13)\n",
    "axarr[1,2].set_xlabel('player', size=13)\n",
    "\n",
    "axarr[1,2].set_ylim(0, 50)\n",
    "\n",
    "\n",
    "plt.subplots_adjust(hspace=0.3)\n",
    "plt.savefig('out.png', dpi=400, bbox_inches='tight', facecolor='white')\n",
    "plt.show()"
   ]
  },
  {
   "cell_type": "markdown",
   "metadata": {},
   "source": [
    "# payments"
   ]
  },
  {
   "cell_type": "code",
   "execution_count": 616,
   "metadata": {},
   "outputs": [
    {
     "data": {
      "text/plain": [
       "[array([1., 1., 1., 1., 1.]),\n",
       " array([1., 2., 3., 4., 5.]),\n",
       " array([1.        , 1.41421356, 1.73205081, 2.        , 2.23606798]),\n",
       " array([1., 1., 1., 1., 5.]),\n",
       " array([1., 5., 5., 5., 5.]),\n",
       " array([ 1.,  4.,  9., 16., 25.])]"
      ]
     },
     "execution_count": 616,
     "metadata": {},
     "output_type": "execute_result"
    }
   ],
   "source": [
    "n = 5\n",
    "a = 3\n",
    "cand1 = np.ones(n)\n",
    "cand2 = np.arange(1,n+1, dtype=np.float)\n",
    "cand3 = np.arange(1,n+1, dtype=np.float)**(1/2)\n",
    "cand4 = np.ones(n)\n",
    "cand4[-1] = n\n",
    "cand5 = np.ones(n) * n\n",
    "cand5[0] = 1\n",
    "cand6 = np.power(np.arange(1.,n+1), 2)\n",
    "cands = [cand1, cand2, cand3, cand4, cand5, cand6]\n",
    "cands"
   ]
  },
  {
   "cell_type": "code",
   "execution_count": 623,
   "metadata": {},
   "outputs": [],
   "source": [
    "def calcTruthfulPayment(cand, a): # SAME AS TRUTHFUL WELFARE\n",
    "    v1 = np.min(cand)\n",
    "    num = sum([np.power(vi,1-a)/v1 for vi in cand])\n",
    "    den = sum([np.power(vi,-a) for vi in cand])\n",
    "    return num/den"
   ]
  },
  {
   "cell_type": "code",
   "execution_count": 629,
   "metadata": {},
   "outputs": [],
   "source": [
    "def calcEquilPayment(cand, bids, a):\n",
    "    v1 = np.min(cand)\n",
    "    num = 0\n",
    "    den = 0\n",
    "    for i in range(len(cand)):\n",
    "        ci, vi = bids[i], cand[i]\n",
    "        num += (np.power(ci,1-a)/v1) # MAYBE V2 instead of V1?!\n",
    "        den += (np.power(ci,-a))\n",
    "    return num / den"
   ]
  },
  {
   "cell_type": "code",
   "execution_count": 630,
   "metadata": {},
   "outputs": [
    {
     "data": {
      "text/plain": [
       "(array([ 1.,  4.,  9., 16., 25.]),\n",
       " array([ 6.38821323,  7.87627169, 13.93135   , 24.13685419, 37.5560592 ]))"
      ]
     },
     "execution_count": 630,
     "metadata": {},
     "output_type": "execute_result"
    }
   ],
   "source": [
    "bids = calcEquilBids(cands[-1], n=5, a=3, guess=[6., 7., 13., 24., 27.])\n",
    "cands[-1], bids"
   ]
  },
  {
   "cell_type": "code",
   "execution_count": 631,
   "metadata": {},
   "outputs": [
    {
     "data": {
      "text/plain": [
       "7.600053122618369"
      ]
     },
     "execution_count": 631,
     "metadata": {},
     "output_type": "execute_result"
    }
   ],
   "source": [
    "calcEquilPayment(cands[-1], bids, a)"
   ]
  },
  {
   "cell_type": "code",
   "execution_count": 632,
   "metadata": {},
   "outputs": [
    {
     "data": {
      "image/png": "[encoded data removed]",
      "text/plain": [
       "<Figure size 936x504 with 6 Axes>"
      ]
     },
     "metadata": {
      "needs_background": "light"
     },
     "output_type": "display_data"
    }
   ],
   "source": [
    "f, axarr = plt.subplots(nrows=2, ncols=3, figsize=(13,7))\n",
    "\n",
    "candNames = ['ones', 'linear', 'sqrt', 'one-high', 'one-low', 'square']\n",
    "for i, c in enumerate(cands):\n",
    "    row, col = i // 3, i % 3\n",
    "    \n",
    "    truthCost = calcTruthfulPayment(c, a=3)\n",
    "    if i == 5: # requires hand crafted init guess\n",
    "        bids = calcEquilBids(c, n=5, a=3, guess=[6., 7., 13., 24., 27.])\n",
    "    else:\n",
    "        bids = calcEquilBids(c, n=5, a=3)\n",
    "    for j in range(len(bids)):\n",
    "        if np.abs(bids[j]) > float(1e5):\n",
    "            bids[j] = 0\n",
    "    equilCost = calcEquilPayment(c, bids, a=3)\n",
    "    \n",
    "    axarr[row,col].plot(np.arange(n), c, color='mediumvioletred', alpha=1, \n",
    "                        label=r'true bids: $P_t/P_m$={:0.3f}'.format(truthCost), marker='o', fillstyle='full', \n",
    "                        linestyle='--', markersize=5)\n",
    "    axarr[row,col].plot(np.arange(n), bids, color='coral', alpha=1, \n",
    "                        label='equil bids: $P_e/P_m$={:0.3f}'.format(equilCost), marker='o', fillstyle='full', \n",
    "                        linestyle='-', markersize=5)\n",
    "\n",
    "    axarr[row,col].set_title(candNames[i], size=14)\n",
    "    axarr[row,col].legend()\n",
    "    axarr[row,col].grid(alpha=0.2)\n",
    "\n",
    "\n",
    "    \n",
    "axarr[0,0].set_ylabel('bid value', size=13)\n",
    "axarr[1,0].set_ylabel('bid value', size=13)\n",
    "axarr[1,0].set_xlabel('player', size=13)\n",
    "axarr[1,1].set_xlabel('player', size=13)\n",
    "axarr[1,2].set_xlabel('player', size=13)\n",
    "\n",
    "axarr[1,2].set_ylim(0, 50)\n",
    "\n",
    "\n",
    "plt.subplots_adjust(hspace=0.3)\n",
    "plt.savefig('out.png', dpi=400, bbox_inches='tight', facecolor='white')\n",
    "plt.show()"
   ]
  },
  {
   "cell_type": "markdown",
   "metadata": {},
   "source": [
    "# SYBIL proofness"
   ]
  },
  {
   "cell_type": "code",
   "execution_count": 10,
   "metadata": {},
   "outputs": [],
   "source": [
    "def getAllocs(bids, a=3):\n",
    "    denom = sum([1/(b**a) for b in bids])\n",
    "    return np.array(1/(bids**a)) / denom"
   ]
  },
  {
   "cell_type": "code",
   "execution_count": 11,
   "metadata": {},
   "outputs": [
    {
     "data": {
      "text/plain": [
       "array([9.66287915, 8.8109329 ])"
      ]
     },
     "execution_count": 11,
     "metadata": {},
     "output_type": "execute_result"
    }
   ],
   "source": [
    "bids = calcEquilBids([4, 2], n=2, a=3, guess=[4,2])\n",
    "bids"
   ]
  },
  {
   "cell_type": "code",
   "execution_count": 12,
   "metadata": {},
   "outputs": [
    {
     "data": {
      "text/plain": [
       "array([0.43121518, 0.56878482])"
      ]
     },
     "execution_count": 12,
     "metadata": {},
     "output_type": "execute_result"
    }
   ],
   "source": [
    "getAllocs(bids)"
   ]
  },
  {
   "cell_type": "code",
   "execution_count": 13,
   "metadata": {},
   "outputs": [
    {
     "data": {
      "text/plain": [
       "array([2.44191943, 3.87395527])"
      ]
     },
     "execution_count": 13,
     "metadata": {},
     "output_type": "execute_result"
    }
   ],
   "source": [
    "(bids-np.array([4,2]))*getAllocs(bids)"
   ]
  },
  {
   "cell_type": "code",
   "execution_count": 14,
   "metadata": {},
   "outputs": [
    {
     "data": {
      "text/plain": [
       "array([17.14797398, 17.14797398, 11.90077619])"
      ]
     },
     "execution_count": 14,
     "metadata": {},
     "output_type": "execute_result"
    }
   ],
   "source": [
    "bids = calcEquilBids([10, 10, 2], n=3, a=3, guess=[4,4,2])\n",
    "bids"
   ]
  },
  {
   "cell_type": "code",
   "execution_count": 15,
   "metadata": {},
   "outputs": [
    {
     "data": {
      "text/plain": [
       "array([0.20033406, 0.20033406, 0.59933188])"
      ]
     },
     "execution_count": 15,
     "metadata": {},
     "output_type": "execute_result"
    }
   ],
   "source": [
    "getAllocs(bids)"
   ]
  },
  {
   "cell_type": "code",
   "execution_count": 16,
   "metadata": {},
   "outputs": [
    {
     "data": {
      "text/plain": [
       "array([1.43198265, 1.43198265, 5.93385079])"
      ]
     },
     "execution_count": 16,
     "metadata": {},
     "output_type": "execute_result"
    }
   ],
   "source": [
    "out = (bids-np.array([10,10,2]))*getAllocs(bids)\n",
    "out"
   ]
  },
  {
   "cell_type": "code",
   "execution_count": 17,
   "metadata": {},
   "outputs": [
    {
     "data": {
      "text/plain": [
       "2.8639653066137463"
      ]
     },
     "execution_count": 17,
     "metadata": {},
     "output_type": "execute_result"
    }
   ],
   "source": [
    "out[0]*2"
   ]
  },
  {
   "cell_type": "code",
   "execution_count": 18,
   "metadata": {},
   "outputs": [],
   "source": [
    "# multiple copies of same bid"
   ]
  },
  {
   "cell_type": "code",
   "execution_count": 59,
   "metadata": {},
   "outputs": [
    {
     "data": {
      "text/plain": [
       "array([0.02855503, 0.02855503, 0.02855503, 0.02855503, 0.02855503,\n",
       "       0.02855503, 0.02855503, 0.02855503, 0.02855503, 0.02855503,\n",
       "       0.02855503, 0.02855503, 0.02855503, 0.02855503, 0.02855503,\n",
       "       0.02855503, 0.02855503, 0.02855503, 0.02855503, 0.02855503,\n",
       "       0.02855503, 0.02855503, 0.02855503, 0.02855503, 0.02855503,\n",
       "       0.02855503, 0.02855503, 0.02855503, 0.02855503, 0.171904  ])"
      ]
     },
     "execution_count": 59,
     "metadata": {},
     "output_type": "execute_result"
    }
   ],
   "source": [
    "n     = 30\n",
    "v     = [4]*n\n",
    "v[-1] = 2\n",
    "a     = 3\n",
    "\n",
    "vals = np.array(v)\n",
    "bids = calcEquilBids(vals, n=n, a=a, guess=v)\n",
    "allocs = getAllocs(bids)\n",
    "allocs"
   ]
  },
  {
   "cell_type": "code",
   "execution_count": 55,
   "metadata": {},
   "outputs": [
    {
     "data": {
      "text/plain": [
       "0.6121108012572647"
      ]
     },
     "execution_count": 55,
     "metadata": {},
     "output_type": "execute_result"
    }
   ],
   "source": [
    "sum(allocs[:-1])"
   ]
  },
  {
   "cell_type": "code",
   "execution_count": 64,
   "metadata": {},
   "outputs": [
    {
     "name": "stderr",
     "output_type": "stream",
     "text": [
      "100%|██████████| 48/48 [00:54<00:00,  1.13s/it]\n"
     ]
    },
    {
     "data": {
      "text/plain": [
       "array([0.43121518, 0.50848905, 0.55300005, 0.58578644, 0.6121108 ,\n",
       "       0.63419923, 0.6532406 , 0.66996007, 0.68483958, 0.69821917,\n",
       "       0.71034961, 0.72142214, 0.73158653, 0.74096262, 0.74964799,\n",
       "       0.75772333, 0.76525615, 0.77230356, 0.77891436, 0.78513056,\n",
       "       0.79098862, 0.79652035, 0.80175371, 0.80671339, 0.81142127,\n",
       "       0.81589688, 0.82015767, 0.82421933, 0.828096  , 0.83180044,\n",
       "       0.83534425, 0.83873797, 0.84199119, 0.84511271, 0.84811055,\n",
       "       0.85099212, 0.85376419, 0.85643303, 0.85900442, 0.8614837 ,\n",
       "       0.86387584, 0.86618543, 0.86841675, 0.87057378, 0.87266022,\n",
       "       0.87467954, 0.87663497, 0.87852954])"
      ]
     },
     "execution_count": 64,
     "metadata": {},
     "output_type": "execute_result"
    }
   ],
   "source": [
    "allocs1, allocs2 = [], []\n",
    "for i in tqdm(range(2,50)):\n",
    "    n     = i\n",
    "    v     = [4]*n\n",
    "    v[-1] = 2\n",
    "    a     = 3\n",
    "\n",
    "    vals = np.array(v)\n",
    "    bids = calcEquilBids(vals, n=n, a=a, guess=v)\n",
    "    allocs = getAllocs(bids)\n",
    "    allocs1.append(sum(allocs[:-1]))\n",
    "    allocs2.append(allocs[-1])\n",
    "allocs1 = np.array(allocs1)\n",
    "allocs2 = np.array(allocs2)\n",
    "allocs1"
   ]
  },
  {
   "cell_type": "code",
   "execution_count": 79,
   "metadata": {},
   "outputs": [
    {
     "name": "stderr",
     "output_type": "stream",
     "text": [
      "100%|██████████| 48/48 [01:09<00:00,  1.45s/it]\n"
     ]
    },
    {
     "data": {
      "text/plain": [
       "array([0.40770643, 0.49700594, 0.55000874, 0.58816019, 0.61795782,\n",
       "       0.6423377 , 0.6628997 , 0.68061924, 0.69613787, 0.70990138,\n",
       "       0.7222327 , 0.73337357, 0.74350981, 0.75278742, 0.76132323,\n",
       "       0.76921218, 0.77653252, 0.78334945, 0.7897179 , 0.79568456,\n",
       "       0.80128941, 0.80656701, 0.81154736, 0.8162567 , 0.8207181 ,\n",
       "       0.82495192, 0.82897625, 0.83280721, 0.83645923, 0.83994527,\n",
       "       0.843277  , 0.84646498, 0.84951878, 0.85244712, 0.85525793,\n",
       "       0.85795846, 0.86055536, 0.86305475, 0.86546222, 0.86778297,\n",
       "       0.87002177, 0.87218304, 0.8742709 , 0.87628915, 0.87824133,\n",
       "       0.88013074, 0.88196046, 0.88373335])"
      ]
     },
     "execution_count": 79,
     "metadata": {},
     "output_type": "execute_result"
    }
   ],
   "source": [
    "allocs1a4, allocs2a4 = [], []\n",
    "for i in tqdm(range(2,50)):\n",
    "    n     = i\n",
    "    v     = [4]*n\n",
    "    v[-1] = 2\n",
    "    a     = 4\n",
    "\n",
    "    vals = np.array(v)\n",
    "    bids = calcEquilBids(vals, n=n, a=a, guess=v)\n",
    "    allocs = getAllocs(bids)\n",
    "    allocs1a4.append(sum(allocs[:-1]))\n",
    "    allocs2a4.append(allocs[-1])\n",
    "allocs1a4 = np.array(allocs1a4)\n",
    "allocs2a4 = np.array(allocs2a4)\n",
    "allocs1a4"
   ]
  },
  {
   "cell_type": "code",
   "execution_count": 81,
   "metadata": {},
   "outputs": [
    {
     "name": "stderr",
     "output_type": "stream",
     "text": [
      "100%|██████████| 48/48 [01:41<00:00,  2.12s/it]\n"
     ]
    },
    {
     "data": {
      "text/plain": [
       "array([0.5446675 , 0.47434939, 0.43603821, 0.40740615, 0.38390519,\n",
       "       0.36378544, 0.34614494, 0.33043654, 0.31629311, 0.30345132,\n",
       "       0.29171321, 0.28092476, 0.27096298, 0.26172765, 0.25313574,\n",
       "       0.24511755, 0.23761388, 0.230574  , 0.22395405, 0.21771588,\n",
       "       0.21182604, 0.20625507, 0.20097689, 0.19596829, 0.19120855,\n",
       "       0.18667909, 0.18236319, 0.17824575, 0.17431311, 0.17055285,\n",
       "       0.16695369, 0.1635053 , 0.16019826, 0.15702392, 0.15397434,\n",
       "       0.15104221, 0.14822078, 0.14550383, 0.1428856 , 0.14036074,\n",
       "       0.13792429, 0.13557165, 0.13329853, 0.13110092, 0.1289751 ,\n",
       "       0.12691757, 0.12492507, 0.12299455])"
      ]
     },
     "execution_count": 81,
     "metadata": {},
     "output_type": "execute_result"
    }
   ],
   "source": [
    "allocs1a25, allocs2a25 = [], []\n",
    "for i in tqdm(range(2,50)):\n",
    "    n     = i\n",
    "    v     = [4]*n\n",
    "    v[-1] = 2\n",
    "    a     = 2.5\n",
    "\n",
    "    vals = np.array(v)\n",
    "    bids = calcEquilBids(vals, n=n, a=a, guess=v)\n",
    "    allocs = getAllocs(bids)\n",
    "    allocs1a25.append(sum(allocs[:-1]))\n",
    "    allocs2a25.append(allocs[-1])\n",
    "allocs1a25 = np.array(allocs1a25)\n",
    "allocs2a25 = np.array(allocs2a25)\n",
    "allocs2a25"
   ]
  },
  {
   "cell_type": "code",
   "execution_count": 83,
   "metadata": {},
   "outputs": [
    {
     "data": {
      "image/png": "[encoded data removed]",
      "text/plain": [
       "<Figure size 648x432 with 1 Axes>"
      ]
     },
     "metadata": {
      "needs_background": "light"
     },
     "output_type": "display_data"
    }
   ],
   "source": [
    "f, ax = plt.subplots(figsize=(9,6))\n",
    "\n",
    "ax.plot(np.arange(1,49), allocs1a25, color='darkturquoise', linewidth=2, label=r'Player 1 allo. ($\\alpha=2.5$)',\n",
    "        linestyle='dotted')\n",
    "ax.plot(np.arange(1,49), allocs1, color='darkturquoise', linewidth=2, label=r'Player 1 allo. ($\\alpha=3$)')\n",
    "ax.plot(np.arange(1,49), allocs1a4, color='darkturquoise', linewidth=2, label=r'Player 1 allo. ($\\alpha=4$)',\n",
    "        linestyle='dashed')\n",
    "\n",
    "ax.plot(np.arange(1,49), allocs2a25, color='darkred', linewidth=2, label=r'Player 2 allo. ($\\alpha=2.5$)',\n",
    "        linestyle='dotted')\n",
    "ax.plot(np.arange(1,49), allocs2, color='darkred', linewidth=2, label=r'Player 2 allo. ($\\alpha=3$)')\n",
    "ax.plot(np.arange(1,49), allocs2a4, color='darkred', linewidth=2, label=r'Player 2 allo. ($\\alpha=4$)',\n",
    "        linestyle='dashed')\n",
    "\n",
    "\n",
    "ax.set_xlabel('number of sybils', size=14)\n",
    "ax.set_ylabel('allocation proportion', size=14)\n",
    "ax.legend()\n",
    "ax.grid(alpha=0.2)\n",
    "plt.savefig('out.png', dpi=400, bbox_inches='tight', facecolor='white')\n",
    "plt.show()"
   ]
  },
  {
   "cell_type": "code",
   "execution_count": 63,
   "metadata": {},
   "outputs": [
    {
     "data": {
      "text/plain": [
       "[<matplotlib.lines.Line2D at 0x12e78f310>]"
      ]
     },
     "execution_count": 63,
     "metadata": {},
     "output_type": "execute_result"
    },
    {
     "data": {
      "image/png": "[encoded data removed]",
      "text/plain": [
       "<Figure size 432x288 with 1 Axes>"
      ]
     },
     "metadata": {
      "needs_background": "light"
     },
     "output_type": "display_data"
    }
   ],
   "source": [
    "plt.plot(allocs1)\n",
    "plt.plot(allocs2)"
   ]
  },
  {
   "cell_type": "code",
   "execution_count": 636,
   "metadata": {},
   "outputs": [
    {
     "data": {
      "text/plain": [
       "array([0.43121518, 0.56878482])"
      ]
     },
     "execution_count": 636,
     "metadata": {},
     "output_type": "execute_result"
    }
   ],
   "source": []
  },
  {
   "cell_type": "code",
   "execution_count": 638,
   "metadata": {},
   "outputs": [
    {
     "data": {
      "text/plain": [
       "array([2.44191943, 3.87395527])"
      ]
     },
     "execution_count": 638,
     "metadata": {},
     "output_type": "execute_result"
    }
   ],
   "source": [
    "(bids-np.array([4,2]))*getAllocs(bids)"
   ]
  },
  {
   "cell_type": "code",
   "execution_count": 659,
   "metadata": {},
   "outputs": [
    {
     "data": {
      "text/plain": [
       "array([17.14797398, 17.14797398, 11.90077619])"
      ]
     },
     "execution_count": 659,
     "metadata": {},
     "output_type": "execute_result"
    }
   ],
   "source": [
    "bids = calcEquilBids([10, 10, 2], n=3, a=3, guess=[4,4,2])\n",
    "bids"
   ]
  },
  {
   "cell_type": "code",
   "execution_count": 660,
   "metadata": {},
   "outputs": [
    {
     "data": {
      "text/plain": [
       "array([0.20033406, 0.20033406, 0.59933188])"
      ]
     },
     "execution_count": 660,
     "metadata": {},
     "output_type": "execute_result"
    }
   ],
   "source": [
    "getAllocs(bids)"
   ]
  },
  {
   "cell_type": "code",
   "execution_count": 663,
   "metadata": {},
   "outputs": [
    {
     "data": {
      "text/plain": [
       "array([1.43198265, 1.43198265, 5.93385079])"
      ]
     },
     "execution_count": 663,
     "metadata": {},
     "output_type": "execute_result"
    }
   ],
   "source": [
    "out = (bids-np.array([10,10,2]))*getAllocs(bids)\n",
    "out"
   ]
  },
  {
   "cell_type": "markdown",
   "metadata": {},
   "source": [
    "# gamma k"
   ]
  },
  {
   "cell_type": "code",
   "execution_count": 41,
   "metadata": {},
   "outputs": [],
   "source": [
    "def calcTruthfulPayment(values, a): # SAME AS TRUTHFUL WELFARE\n",
    "    v1 = np.min(values)\n",
    "    num = sum([np.power(vi,1-a)/v1 for vi in values])\n",
    "    den = sum([np.power(vi,-a) for vi in values])\n",
    "    return num/den"
   ]
  },
  {
   "cell_type": "code",
   "execution_count": 46,
   "metadata": {},
   "outputs": [],
   "source": [
    "def calcEquilBids(values, a, guess=None):\n",
    "    cs, vs, us = [], [], []\n",
    "    n = len(values)\n",
    "    for i in range(1,n+1):\n",
    "        c_i = sp.symbols('c_{}'.format(i))\n",
    "        v_i = sp.symbols('v_{}'.format(i))\n",
    "        cs.append(c_i)\n",
    "        vs.append(v_i)\n",
    "    denom = sum([(1/c)**a for c in cs])\n",
    "    for i in range(n):\n",
    "        u_i = (cs[i] - vs[i]) * (1/cs[i])**a / denom\n",
    "        us.append(u_i)\n",
    "\n",
    "    focs = []\n",
    "    for i in range(n):\n",
    "        parti = sp.diff(us[i], cs[i])\n",
    "        vi = vs[i]\n",
    "        focs.append(sp.lambdify(cs, parti.evalf(subs={vi: values[i]})))\n",
    "\n",
    "    def eqs(cs):\n",
    "        return [f(*cs) for f in focs]\n",
    "\n",
    "    initial_guess = values\n",
    "    if guess != None:\n",
    "        initial_guess = guess\n",
    "    return fsolve(eqs, initial_guess)"
   ]
  },
  {
   "cell_type": "code",
   "execution_count": 47,
   "metadata": {},
   "outputs": [],
   "source": [
    "def calcEquilWelfare(values, bids, a):\n",
    "    v1 = np.min(values)\n",
    "    num = 0\n",
    "    den = 0\n",
    "    for i in range(len(values)):\n",
    "        ci, vi = bids[i], values[i]\n",
    "        num += (vi*np.power(ci,-a)/v1)\n",
    "        den += (np.power(ci,-a))\n",
    "    return num / den"
   ]
  },
  {
   "cell_type": "code",
   "execution_count": 48,
   "metadata": {},
   "outputs": [],
   "source": [
    "def calcEquilPayment(values, bids, a):\n",
    "    v1 = np.min(values)\n",
    "    num = 0\n",
    "    den = 0\n",
    "    for i in range(len(values)):\n",
    "        ci, vi = bids[i], values[i]\n",
    "        num += (np.power(ci,1-a)/v1) # MAYBE V2 instead of V1?!\n",
    "        den += (np.power(ci,-a))\n",
    "    return num / den"
   ]
  },
  {
   "cell_type": "code",
   "execution_count": 73,
   "metadata": {},
   "outputs": [],
   "source": [
    "def getAllocs(bids, a):\n",
    "    denom = sum([1/(b**a) for b in bids])\n",
    "    return np.array(1/(bids**a)) / denom"
   ]
  },
  {
   "cell_type": "code",
   "execution_count": 85,
   "metadata": {},
   "outputs": [
    {
     "data": {
      "text/plain": [
       "([1.0, 2.0, 2.0, 2.0, 2.0, 2.0],\n",
       " array([2.19569683, 3.22493963, 3.22493963, 3.22493963, 3.22493963,\n",
       "        3.22493963]))"
      ]
     },
     "execution_count": 85,
     "metadata": {},
     "output_type": "execute_result"
    }
   ],
   "source": [
    "a     = 3\n",
    "k     = 5\n",
    "gamma = 0.5\n",
    "\n",
    "valuations = [1.]\n",
    "valuations.extend([1/gamma]*k)\n",
    "\n",
    "bids = calcEquilBids(valuations, a)\n",
    "valuations, bids"
   ]
  },
  {
   "cell_type": "code",
   "execution_count": 86,
   "metadata": {},
   "outputs": [
    {
     "data": {
      "text/plain": [
       "array([0.3878892 , 0.12242216, 0.12242216, 0.12242216, 0.12242216,\n",
       "       0.12242216])"
      ]
     },
     "execution_count": 86,
     "metadata": {},
     "output_type": "execute_result"
    }
   ],
   "source": [
    "getAllocs(bids, a)"
   ]
  },
  {
   "cell_type": "code",
   "execution_count": 96,
   "metadata": {},
   "outputs": [
    {
     "data": {
      "text/plain": [
       "(array([-1., -2., -2., -2., -2., -2.]),\n",
       " array([0.61538462, 0.07692308, 0.07692308, 0.07692308, 0.07692308,\n",
       "        0.07692308]),\n",
       " -1.3846153846153846,\n",
       " 1.3846153846153846)"
      ]
     },
     "execution_count": 96,
     "metadata": {},
     "output_type": "execute_result"
    }
   ],
   "source": [
    "(\n",
    "    -np.array(valuations), getAllocs(np.array(valuations), a),\n",
    "    np.dot(-np.array(valuations), getAllocs(np.array(valuations), a)),\n",
    "    calcTruthfulPayment(valuations, a)\n",
    ")"
   ]
  },
  {
   "cell_type": "code",
   "execution_count": 92,
   "metadata": {},
   "outputs": [
    {
     "data": {
      "text/plain": [
       "(1.625, 0.6153846153846154, 0.07692307692307693)"
      ]
     },
     "execution_count": 92,
     "metadata": {},
     "output_type": "execute_result"
    }
   ],
   "source": [
    "1/1 + 5*(1/2**3), 1/(1/1 + 5*(1/2**3)), (1/2**3)/(1/1 + 5*(1/2**3))"
   ]
  },
  {
   "cell_type": "code",
   "execution_count": 77,
   "metadata": {},
   "outputs": [
    {
     "data": {
      "text/plain": [
       "(1.3846153846153846, 1.6121108012572647, 2.825707465783111)"
      ]
     },
     "execution_count": 77,
     "metadata": {},
     "output_type": "execute_result"
    }
   ],
   "source": [
    "(\n",
    "    calcTruthfulPayment(valuations, a), \n",
    "    calcEquilWelfare(valuations, bids, a),\n",
    "    calcEquilPayment(valuations, bids, a),\n",
    ")"
   ]
  },
  {
   "cell_type": "code",
   "execution_count": 99,
   "metadata": {},
   "outputs": [
    {
     "data": {
      "text/plain": [
       "([1.0, 2.0], array([4.40546645, 4.83143957]))"
      ]
     },
     "execution_count": 99,
     "metadata": {},
     "output_type": "execute_result"
    }
   ],
   "source": [
    "a     = 3\n",
    "k     = 1\n",
    "gamma = 0.5\n",
    "\n",
    "valuations = [1.]\n",
    "valuations.extend([1/gamma]*k)\n",
    "\n",
    "bids = calcEquilBids(valuations, a)\n",
    "valuations, bids"
   ]
  },
  {
   "cell_type": "code",
   "execution_count": 100,
   "metadata": {},
   "outputs": [
    {
     "data": {
      "text/plain": [
       "(1.1111111111111112, 1.4312151766295675, 4.589152525645548)"
      ]
     },
     "execution_count": 100,
     "metadata": {},
     "output_type": "execute_result"
    }
   ],
   "source": [
    "(\n",
    "    calcTruthfulPayment(valuations, a), \n",
    "    calcEquilWelfare(valuations, bids, a),\n",
    "    calcEquilPayment(valuations, bids, a),\n",
    ")"
   ]
  },
  {
   "cell_type": "markdown",
   "metadata": {},
   "source": [
    "## \"multiple k\" plot"
   ]
  },
  {
   "cell_type": "code",
   "execution_count": 124,
   "metadata": {},
   "outputs": [
    {
     "name": "stderr",
     "output_type": "stream",
     "text": [
      "100%|██████████| 20/20 [00:03<00:00,  5.22it/s]\n",
      "100%|██████████| 20/20 [00:03<00:00,  5.34it/s]\n",
      "100%|██████████| 20/20 [00:03<00:00,  5.05it/s]\n"
     ]
    }
   ],
   "source": [
    "a = 3\n",
    "kTs, kEWs, kEPs = [], [], []\n",
    "for gamma in [1/2., 1/3., 1/4.]:\n",
    "    temp1, temp2, temp3 = [], [], []\n",
    "    for k in tqdm(range(1,21)):\n",
    "        valuations = [1.]\n",
    "        valuations.extend([1./gamma]*k)\n",
    "        bids = calcEquilBids(valuations, a, guess=valuations)\n",
    "        temp1.append(calcTruthfulPayment(valuations, a))\n",
    "        temp2.append(calcEquilWelfare(valuations, bids, a))\n",
    "        temp3.append(calcEquilPayment(valuations, bids, a))\n",
    "    kTs.append(temp1)\n",
    "    kEWs.append(temp2)\n",
    "    kEPs.append(temp3)\n",
    "kTs = np.asarray(kTs)\n",
    "kEWs = np.asarray(kEWs)\n",
    "kEPs = np.asarray(kEPs)"
   ]
  },
  {
   "cell_type": "code",
   "execution_count": 125,
   "metadata": {},
   "outputs": [
    {
     "data": {
      "text/plain": [
       "((3, 20), (3, 20), (3, 20))"
      ]
     },
     "execution_count": 125,
     "metadata": {},
     "output_type": "execute_result"
    }
   ],
   "source": [
    "kTs.shape, kEWs.shape, kEPs.shape"
   ]
  },
  {
   "cell_type": "code",
   "execution_count": 132,
   "metadata": {},
   "outputs": [
    {
     "data": {
      "image/png": "[encoded data removed]",
      "text/plain": [
       "<Figure size 1008x288 with 3 Axes>"
      ]
     },
     "metadata": {
      "needs_background": "light"
     },
     "output_type": "display_data"
    }
   ],
   "source": [
    "f, axarr = plt.subplots(ncols=3, figsize=(14,4))\n",
    "\n",
    "for i in range(3):\n",
    "    axarr[i].plot(np.arange(1,21), kEPs[i], label='Equil. Payments', marker='x', color='sienna', linewidth=0.4)\n",
    "    axarr[i].plot(np.arange(1,21), kEWs[i], label='Equil. Welfare Cost', marker='x', color='deepskyblue', linewidth=0.4)\n",
    "    axarr[i].plot(np.arange(1,21), kTs[i], label='Truthful Welfare Cost/Payments', marker='x', color='darkolivegreen', linewidth=0.4)\n",
    "    \n",
    "\n",
    "for ax in axarr:\n",
    "    ax.grid(alpha=0.3)\n",
    "    ax.legend()\n",
    "    ax.set_xlabel(r'$k$', size=15)\n",
    "    ax.set_ylim(1, 8)\n",
    "    \n",
    "axarr[0].set_ylabel('cost', size=15)\n",
    "axarr[0].set_title(r'$\\gamma=1/2$', size=18)\n",
    "axarr[1].set_title(r'$\\gamma=1/3$', size=18)\n",
    "axarr[2].set_title(r'$\\gamma=1/4$', size=18)\n",
    "\n",
    "plt.savefig('out.png', dpi=400, bbox_inches='tight', facecolor='white')\n",
    "plt.show()"
   ]
  },
  {
   "cell_type": "markdown",
   "metadata": {},
   "source": [
    "## \"multiple gamma\" plot"
   ]
  },
  {
   "cell_type": "code",
   "execution_count": 178,
   "metadata": {},
   "outputs": [
    {
     "name": "stderr",
     "output_type": "stream",
     "text": [
      "100%|██████████| 17/17 [00:00<00:00, 27.14it/s]\n",
      "100%|██████████| 17/17 [00:02<00:00,  8.21it/s]\n",
      "100%|██████████| 17/17 [00:18<00:00,  1.09s/it]\n"
     ]
    }
   ],
   "source": [
    "a = 3\n",
    "kTs, kEWs, kEPs = [], [], []\n",
    "gammas = np.arange(0.2, 1.01, 0.05)\n",
    "for k in [2, 8, 32]:\n",
    "    temp1, temp2, temp3 = [], [], []\n",
    "    for gamma in tqdm(gammas):\n",
    "        valuations = [1.]\n",
    "        valuations.extend([1./gamma]*k)\n",
    "        bids = calcEquilBids(valuations, a, guess=valuations)\n",
    "        temp1.append(calcTruthfulPayment(valuations, a))\n",
    "        temp2.append(calcEquilWelfare(valuations, bids, a))\n",
    "        temp3.append(calcEquilPayment(valuations, bids, a))\n",
    "    kTs.append(temp1)\n",
    "    kEWs.append(temp2)\n",
    "    kEPs.append(temp3)\n",
    "kTs = np.asarray(kTs)\n",
    "kEWs = np.asarray(kEWs)\n",
    "kEPs = np.asarray(kEPs)"
   ]
  },
  {
   "cell_type": "code",
   "execution_count": 173,
   "metadata": {},
   "outputs": [
    {
     "data": {
      "text/plain": [
       "((3, 17), (3, 17), (3, 17))"
      ]
     },
     "execution_count": 173,
     "metadata": {},
     "output_type": "execute_result"
    }
   ],
   "source": [
    "kTs.shape, kEWs.shape, kEPs.shape"
   ]
  },
  {
   "cell_type": "code",
   "execution_count": 185,
   "metadata": {},
   "outputs": [
    {
     "data": {
      "image/png": "[encoded data removed]",
      "text/plain": [
       "<Figure size 1008x288 with 3 Axes>"
      ]
     },
     "metadata": {
      "needs_background": "light"
     },
     "output_type": "display_data"
    }
   ],
   "source": [
    "f, axarr = plt.subplots(ncols=3, figsize=(14,4))\n",
    "\n",
    "for i in range(3):\n",
    "    axarr[i].plot(gammas, kEPs[i], label='Equil. Payments', marker='x', \n",
    "                  color='sienna', linewidth=0.4)\n",
    "    axarr[i].plot(gammas, kEWs[i], label='Equil. Welfare Cost', marker='x', \n",
    "                  color='deepskyblue', linewidth=0.4)\n",
    "    axarr[i].plot(gammas, kTs[i], label='Truthful Welfare Cost/Payments', \n",
    "                  marker='x', color='darkolivegreen', linewidth=0.4)\n",
    "    \n",
    "for ax in axarr:\n",
    "    ax.grid(alpha=0.3)\n",
    "    ax.legend()\n",
    "    ax.set_xlabel(r'$\\gamma$', size=15)\n",
    "    ax.set_ylim(1, 7.2)\n",
    "    \n",
    "axarr[0].set_ylabel('cost', size=15)\n",
    "axarr[0].set_title(r'$k=2$', size=18)\n",
    "axarr[1].set_title(r'$k=8$', size=18)\n",
    "axarr[2].set_title(r'$k=32$', size=18)\n",
    "\n",
    "plt.savefig('out.png', dpi=400, bbox_inches='tight', facecolor='white')\n",
    "plt.show()"
   ]
  },
  {
   "cell_type": "markdown",
   "metadata": {},
   "source": [
    "# 3d plot"
   ]
  },
  {
   "cell_type": "code",
   "execution_count": 197,
   "metadata": {},
   "outputs": [
    {
     "data": {
      "text/plain": [
       "(array([0.2 , 0.25, 0.3 , 0.35, 0.4 , 0.45, 0.5 , 0.55, 0.6 , 0.65, 0.7 ,\n",
       "        0.75, 0.8 , 0.85, 0.9 , 0.95, 1.  ]),\n",
       " array([ 1,  2,  3,  4,  5,  6,  7,  8,  9, 10, 11, 12, 13, 14, 15, 16, 17,\n",
       "        18, 19, 20]))"
      ]
     },
     "execution_count": 197,
     "metadata": {},
     "output_type": "execute_result"
    }
   ],
   "source": [
    "gammas = np.arange(0.2, 1.01, 0.05)\n",
    "ks     = np.arange(1,21)\n",
    "gammas, ks"
   ]
  },
  {
   "cell_type": "code",
   "execution_count": 200,
   "metadata": {},
   "outputs": [
    {
     "name": "stderr",
     "output_type": "stream",
     "text": [
      "100%|██████████| 20/20 [00:03<00:00,  5.01it/s]\n",
      "100%|██████████| 20/20 [00:03<00:00,  5.11it/s]\n",
      "100%|██████████| 20/20 [00:03<00:00,  5.15it/s]\n",
      "100%|██████████| 20/20 [00:03<00:00,  5.16it/s]\n",
      "100%|██████████| 20/20 [00:04<00:00,  4.70it/s]\n",
      "100%|██████████| 20/20 [00:03<00:00,  5.12it/s]\n",
      "100%|██████████| 20/20 [00:03<00:00,  5.17it/s]\n",
      "100%|██████████| 20/20 [00:03<00:00,  5.15it/s]\n",
      "100%|██████████| 20/20 [00:03<00:00,  5.10it/s]\n",
      "100%|██████████| 20/20 [00:03<00:00,  5.16it/s]\n",
      "100%|██████████| 20/20 [00:03<00:00,  5.19it/s]\n",
      "100%|██████████| 20/20 [00:04<00:00,  4.94it/s]\n",
      "100%|██████████| 20/20 [00:03<00:00,  5.16it/s]\n",
      "100%|██████████| 20/20 [00:03<00:00,  5.11it/s]\n",
      "100%|██████████| 20/20 [00:03<00:00,  5.17it/s]\n",
      "100%|██████████| 20/20 [00:03<00:00,  5.18it/s]\n",
      "100%|██████████| 20/20 [00:03<00:00,  5.12it/s]\n"
     ]
    },
    {
     "data": {
      "text/plain": [
       "(17, 20)"
      ]
     },
     "execution_count": 200,
     "metadata": {},
     "output_type": "execute_result"
    }
   ],
   "source": [
    "a = 3\n",
    "kTs, kEWs, kEPs = [], [], []\n",
    "for gamma in gammas:\n",
    "    temp1, temp2, temp3 = [], [], []\n",
    "    for k in tqdm(ks):\n",
    "        valuations = [1.]\n",
    "        valuations.extend([1./gamma]*k)\n",
    "        bids = calcEquilBids(valuations, a, guess=valuations)\n",
    "        temp1.append(calcTruthfulPayment(valuations, a))\n",
    "        temp2.append(calcEquilWelfare(valuations, bids, a))\n",
    "        temp3.append(calcEquilPayment(valuations, bids, a))\n",
    "    kTs.append(temp1)\n",
    "    kEWs.append(temp2)\n",
    "    kEPs.append(temp3)\n",
    "kTs = np.asarray(kTs)\n",
    "kEWs = np.asarray(kEWs)\n",
    "kEPs = np.asarray(kEPs)\n",
    "kTs.shape"
   ]
  },
  {
   "cell_type": "code",
   "execution_count": 201,
   "metadata": {},
   "outputs": [
    {
     "data": {
      "text/plain": [
       "((20, 17), (20, 17))"
      ]
     },
     "execution_count": 201,
     "metadata": {},
     "output_type": "execute_result"
    }
   ],
   "source": [
    "gammas, ks = np.meshgrid(gammas, ks)\n",
    "gammas.shape, ks.shape"
   ]
  },
  {
   "cell_type": "code",
   "execution_count": 205,
   "metadata": {},
   "outputs": [
    {
     "data": {
      "text/plain": [
       "(20, 17)"
      ]
     },
     "execution_count": 205,
     "metadata": {},
     "output_type": "execute_result"
    }
   ],
   "source": [
    "np.swapaxes(kTs,0,1).shape"
   ]
  },
  {
   "cell_type": "code",
   "execution_count": 233,
   "metadata": {},
   "outputs": [
    {
     "data": {
      "image/png": "[encoded data removed]",
      "text/plain": [
       "<Figure size 1008x360 with 3 Axes>"
      ]
     },
     "metadata": {
      "needs_background": "light"
     },
     "output_type": "display_data"
    }
   ],
   "source": [
    "f, axarr = plt.subplots(ncols=3, figsize=(14,5), subplot_kw={\"projection\": \"3d\"})\n",
    "\n",
    "axarr[0].plot_surface(gammas, ks, np.swapaxes(kTs,0,1), cmap=mpl.cm.coolwarm)\n",
    "axarr[1].plot_surface(gammas, ks, np.swapaxes(kEWs,0,1), cmap=mpl.cm.coolwarm)\n",
    "axarr[2].plot_surface(gammas, ks, np.swapaxes(kEPs,0,1), cmap=mpl.cm.coolwarm)\n",
    "    \n",
    "for ax in axarr:\n",
    "    ax.set_xlabel(r'$\\gamma$', size=15)\n",
    "    ax.set_ylabel(r'$k$', size=15)\n",
    "    \n",
    "axarr[0].set_title(r'Truthful Welfare Cost', size=16)\n",
    "axarr[1].set_title(r'Equilibrium Welfare Cost', size=16)\n",
    "axarr[2].set_title(r'Equilibrium Payments', size=16)\n",
    "\n",
    "plt.savefig('out.png', dpi=400, bbox_inches='tight', facecolor='white')\n",
    "plt.show()"
   ]
  },
  {
   "cell_type": "markdown",
   "metadata": {},
   "source": [
    "### sanity check some of these values"
   ]
  },
  {
   "cell_type": "code",
   "execution_count": 133,
   "metadata": {},
   "outputs": [
    {
     "data": {
      "text/plain": [
       "([1.0, 4.0, 4.0, 4.0, 4.0, 4.0, 4.0, 4.0, 4.0, 4.0, 4.0],\n",
       " array([2.89659143, 6.16535304, 6.16535304, 6.16535304, 6.16535304,\n",
       "        6.16535304, 6.16535304, 6.16535304, 6.16535304, 6.16535304,\n",
       "        6.16535304]))"
      ]
     },
     "execution_count": 133,
     "metadata": {},
     "output_type": "execute_result"
    }
   ],
   "source": [
    "# k = 10, gamma = 1/4\n",
    "\n",
    "a     = 3\n",
    "k     = 10\n",
    "gamma = 1/4\n",
    "\n",
    "valuations = [1.]\n",
    "valuations.extend([1./gamma]*k)\n",
    "bids = calcEquilBids(valuations, a)\n",
    "valuations, bids"
   ]
  },
  {
   "cell_type": "code",
   "execution_count": 135,
   "metadata": {},
   "outputs": [
    {
     "data": {
      "text/plain": [
       "[1.0, 4.0, 4.0, 4.0, 4.0, 4.0, 4.0, 4.0, 4.0, 4.0, 4.0]"
      ]
     },
     "execution_count": 135,
     "metadata": {},
     "output_type": "execute_result"
    }
   ],
   "source": [
    "# confirm bids with empirics\n",
    "a    = 3\n",
    "n    = 11\n",
    "vals = valuations\n",
    "init = vals\n",
    "vals"
   ]
  },
  {
   "cell_type": "code",
   "execution_count": 136,
   "metadata": {},
   "outputs": [],
   "source": [
    "cs = [sp.Symbol('c_{}'.format(i), positive=True) for i in range(1, n+1)]\n",
    "bids = [[init[i]] for i in range(n)]\n",
    "for turn in range(int(1000)):\n",
    "    i = turn % n\n",
    "    den = sum([1/(ci**a) for ci in cs])\n",
    "    xi = 1/(cs[i]**a) / den\n",
    "    ui = (cs[i]-vals[i])*xi\n",
    "    subs = {}\n",
    "    for j in range(n):\n",
    "        if j != i:\n",
    "            subs[cs[j]] = bids[j][-1]\n",
    "    funci = sp.lambdify([cs[i]], -ui.evalf(subs=subs))\n",
    "    bounds = ((0, 1000),)\n",
    "    sol = minimize(funci, (1.1), method='SLSQP', bounds=bounds).x[0]\n",
    "    curri = sol\n",
    "    bids[i].append(curri)"
   ]
  },
  {
   "cell_type": "code",
   "execution_count": 137,
   "metadata": {},
   "outputs": [
    {
     "data": {
      "text/plain": [
       "(2.8958922378466414, 6.163853886207302)"
      ]
     },
     "execution_count": 137,
     "metadata": {},
     "output_type": "execute_result"
    }
   ],
   "source": [
    "bids[0][-1], bids[-1][-1]"
   ]
  },
  {
   "cell_type": "markdown",
   "metadata": {},
   "source": [
    "NICE"
   ]
  },
  {
   "cell_type": "code",
   "execution_count": 145,
   "metadata": {},
   "outputs": [
    {
     "data": {
      "text/plain": [
       "(array([1., 4., 4., 4., 4., 4., 4., 4., 4., 4., 4.]),\n",
       " array([2.89659143, 6.16535304, 6.16535304, 6.16535304, 6.16535304,\n",
       "        6.16535304, 6.16535304, 6.16535304, 6.16535304, 6.16535304,\n",
       "        6.16535304]))"
      ]
     },
     "execution_count": 145,
     "metadata": {},
     "output_type": "execute_result"
    }
   ],
   "source": [
    "# lets check the values now\n",
    "bids = calcEquilBids(valuations, a)\n",
    "valuations = np.array(valuations)\n",
    "valuations, bids"
   ]
  },
  {
   "cell_type": "code",
   "execution_count": 146,
   "metadata": {},
   "outputs": [
    {
     "data": {
      "text/plain": [
       "array([0.86486486, 0.01351351, 0.01351351, 0.01351351, 0.01351351,\n",
       "       0.01351351, 0.01351351, 0.01351351, 0.01351351, 0.01351351,\n",
       "       0.01351351])"
      ]
     },
     "execution_count": 146,
     "metadata": {},
     "output_type": "execute_result"
    }
   ],
   "source": [
    "getAllocs(valuations, a=3)"
   ]
  },
  {
   "cell_type": "code",
   "execution_count": 151,
   "metadata": {},
   "outputs": [
    {
     "data": {
      "text/plain": [
       "(-1.4054054054054048, 1.4054054054054055)"
      ]
     },
     "execution_count": 151,
     "metadata": {},
     "output_type": "execute_result"
    }
   ],
   "source": [
    "# truthful case = alloc depends on valuations\n",
    "np.dot(-valuations, getAllocs(valuations, a=3)), kTs[2][9]"
   ]
  },
  {
   "cell_type": "markdown",
   "metadata": {},
   "source": [
    "looks good"
   ]
  },
  {
   "cell_type": "code",
   "execution_count": 154,
   "metadata": {},
   "outputs": [
    {
     "data": {
      "text/plain": [
       "array([0.49091277, 0.05090872, 0.05090872, 0.05090872, 0.05090872,\n",
       "       0.05090872, 0.05090872, 0.05090872, 0.05090872, 0.05090872,\n",
       "       0.05090872])"
      ]
     },
     "execution_count": 154,
     "metadata": {},
     "output_type": "execute_result"
    }
   ],
   "source": [
    "getAllocs(bids, a=3)"
   ]
  },
  {
   "cell_type": "code",
   "execution_count": 152,
   "metadata": {},
   "outputs": [
    {
     "data": {
      "text/plain": [
       "(4.5606762200406035, 4.560676220040603)"
      ]
     },
     "execution_count": 152,
     "metadata": {},
     "output_type": "execute_result"
    }
   ],
   "source": [
    "# payments case = alloc depends on bids\n",
    "np.dot(bids, getAllocs(bids, a=3)), kEPs[2][9]"
   ]
  },
  {
   "cell_type": "code",
   "execution_count": 153,
   "metadata": {},
   "outputs": [
    {
     "data": {
      "text/plain": [
       "(2.5272616892294932, 2.5272616892294937)"
      ]
     },
     "execution_count": 153,
     "metadata": {},
     "output_type": "execute_result"
    }
   ],
   "source": [
    "# welfare case = alloc depends on bids\n",
    "np.dot(valuations, getAllocs(bids, a=3)), kEWs[2][9]"
   ]
  },
  {
   "cell_type": "markdown",
   "metadata": {},
   "source": [
    "# fairness"
   ]
  },
  {
   "cell_type": "code",
   "execution_count": 9,
   "metadata": {},
   "outputs": [
    {
     "data": {
      "text/latex": [
       "$\\displaystyle \\frac{v_{2}^{- \\alpha}}{v_{2}^{- \\alpha} + v_{1}^{- \\alpha}}$"
      ],
      "text/plain": [
       "1/(v_2**alpha*(v_2**(-alpha) + v_1**(-alpha)))"
      ]
     },
     "execution_count": 9,
     "metadata": {},
     "output_type": "execute_result"
    }
   ],
   "source": [
    "v1, v2, a, e = sp.symbols('v_1 v_2 alpha epsilon')\n",
    "\n",
    "y1 = v1**(-(a+e)) / (v1**(-(a+e)) + v2**(-(a+e)))\n",
    "x1 = v1**(-a) / (v1**(-a) + v2**(-a))\n",
    "\n",
    "y2 = v2**(-(a+e)) / (v1**(-(a+e)) + v2**(-(a+e)))\n",
    "x2 = v2**(-a) / (v1**(-a) + v2**(-a))\n",
    "x2"
   ]
  },
  {
   "cell_type": "code",
   "execution_count": 12,
   "metadata": {},
   "outputs": [
    {
     "data": {
      "text/latex": [
       "$\\displaystyle v_{1}^{\\alpha} \\left(v_{2}^{- \\alpha} + v_{1}^{- \\alpha}\\right) \\left(\\frac{v_{1}^{- \\alpha - \\epsilon}}{v_{1}^{- \\alpha - \\epsilon} + v_{2}^{- \\alpha - \\epsilon}} - \\frac{v_{1}^{- \\alpha}}{v_{2}^{- \\alpha} + v_{1}^{- \\alpha}}\\right)$"
      ],
      "text/plain": [
       "v_1**alpha*(v_2**(-alpha) + v_1**(-alpha))*(v_1**(-alpha - epsilon)/(v_1**(-alpha - epsilon) + v_2**(-alpha - epsilon)) - 1/(v_1**alpha*(v_2**(-alpha) + v_1**(-alpha))))"
      ]
     },
     "execution_count": 12,
     "metadata": {},
     "output_type": "execute_result"
    }
   ],
   "source": [
    "(y1-x1)/x1"
   ]
  },
  {
   "cell_type": "code",
   "execution_count": 11,
   "metadata": {},
   "outputs": [
    {
     "data": {
      "text/latex": [
       "$\\displaystyle \\frac{v_{2}^{- \\alpha} \\left(v_{1}^{- \\alpha - \\epsilon} \\left(v_{1}^{\\alpha} + v_{2}^{\\alpha}\\right) - v_{2}^{\\alpha} \\left(v_{1}^{- \\alpha - \\epsilon} + v_{2}^{- \\alpha - \\epsilon}\\right)\\right)}{v_{1}^{- \\alpha - \\epsilon} + v_{2}^{- \\alpha - \\epsilon}}$"
      ],
      "text/plain": [
       "(v_1**(-alpha - epsilon)*(v_1**alpha + v_2**alpha) - v_2**alpha*(v_1**(-alpha - epsilon) + v_2**(-alpha - epsilon)))/(v_2**alpha*(v_1**(-alpha - epsilon) + v_2**(-alpha - epsilon)))"
      ]
     },
     "execution_count": 11,
     "metadata": {},
     "output_type": "execute_result"
    }
   ],
   "source": [
    "sp.simplify((y1-x1)/x1)"
   ]
  },
  {
   "cell_type": "code",
   "execution_count": 13,
   "metadata": {},
   "outputs": [
    {
     "data": {
      "text/latex": [
       "$\\displaystyle \\frac{v_{1}^{- \\alpha} \\left(- v_{1}^{\\alpha} \\left(v_{1}^{- \\alpha - \\epsilon} + v_{2}^{- \\alpha - \\epsilon}\\right) + v_{2}^{- \\alpha - \\epsilon} \\left(v_{1}^{\\alpha} + v_{2}^{\\alpha}\\right)\\right)}{v_{1}^{- \\alpha - \\epsilon} + v_{2}^{- \\alpha - \\epsilon}}$"
      ],
      "text/plain": [
       "(-v_1**alpha*(v_1**(-alpha - epsilon) + v_2**(-alpha - epsilon)) + v_2**(-alpha - epsilon)*(v_1**alpha + v_2**alpha))/(v_1**alpha*(v_1**(-alpha - epsilon) + v_2**(-alpha - epsilon)))"
      ]
     },
     "execution_count": 13,
     "metadata": {},
     "output_type": "execute_result"
    }
   ],
   "source": [
    "sp.simplify((y2-x2)/x2)"
   ]
  },
  {
   "cell_type": "code",
   "execution_count": 16,
   "metadata": {},
   "outputs": [
    {
     "data": {
      "text/latex": [
       "$\\displaystyle \\frac{v_{1}^{- \\alpha} v_{2}^{- \\alpha} \\left(v_{1}^{\\alpha} \\left(v_{1}^{- \\alpha - \\epsilon} \\left(v_{1}^{\\alpha} + v_{2}^{\\alpha}\\right) - v_{2}^{\\alpha} \\left(v_{1}^{- \\alpha - \\epsilon} + v_{2}^{- \\alpha - \\epsilon}\\right)\\right) + v_{2}^{\\alpha} \\left(- v_{1}^{\\alpha} \\left(v_{1}^{- \\alpha - \\epsilon} + v_{2}^{- \\alpha - \\epsilon}\\right) + v_{2}^{- \\alpha - \\epsilon} \\left(v_{1}^{\\alpha} + v_{2}^{\\alpha}\\right)\\right)\\right)}{v_{1}^{- \\alpha - \\epsilon} + v_{2}^{- \\alpha - \\epsilon}}$"
      ],
      "text/plain": [
       "(v_1**alpha*(v_1**(-alpha - epsilon)*(v_1**alpha + v_2**alpha) - v_2**alpha*(v_1**(-alpha - epsilon) + v_2**(-alpha - epsilon))) + v_2**alpha*(-v_1**alpha*(v_1**(-alpha - epsilon) + v_2**(-alpha - epsilon)) + v_2**(-alpha - epsilon)*(v_1**alpha + v_2**alpha)))/(v_1**alpha*v_2**alpha*(v_1**(-alpha - epsilon) + v_2**(-alpha - epsilon)))"
      ]
     },
     "execution_count": 16,
     "metadata": {},
     "output_type": "execute_result"
    }
   ],
   "source": [
    "sp.simplify(sp.simplify((y1-x1)/x1)+sp.simplify((y2-x2)/x2))"
   ]
  },
  {
   "cell_type": "code",
   "execution_count": 33,
   "metadata": {},
   "outputs": [
    {
     "data": {
      "text/latex": [
       "$\\displaystyle -0.00415023629300472$"
      ],
      "text/plain": [
       "-0.00415023629300472"
      ]
     },
     "execution_count": 33,
     "metadata": {},
     "output_type": "execute_result"
    }
   ],
   "source": [
    "out = sp.simplify(sp.simplify((y1-x1)/x1)+sp.simplify((y2-x2)/x2))\n",
    "out.evalf(subs={a:2, e:0.01, v1:4, v2:2})"
   ]
  },
  {
   "cell_type": "code",
   "execution_count": 34,
   "metadata": {},
   "outputs": [
    {
     "name": "stdout",
     "output_type": "stream",
     "text": [
      "\\frac{v_{1}^{- \\alpha} v_{2}^{- \\alpha} \\left(v_{1}^{\\alpha} \\left(v_{1}^{- \\alpha - \\epsilon} \\left(v_{1}^{\\alpha} + v_{2}^{\\alpha}\\right) - v_{2}^{\\alpha} \\left(v_{1}^{- \\alpha - \\epsilon} + v_{2}^{- \\alpha - \\epsilon}\\right)\\right) + v_{2}^{\\alpha} \\left(- v_{1}^{\\alpha} \\left(v_{1}^{- \\alpha - \\epsilon} + v_{2}^{- \\alpha - \\epsilon}\\right) + v_{2}^{- \\alpha - \\epsilon} \\left(v_{1}^{\\alpha} + v_{2}^{\\alpha}\\right)\\right)\\right)}{v_{1}^{- \\alpha - \\epsilon} + v_{2}^{- \\alpha - \\epsilon}}\n"
     ]
    }
   ],
   "source": [
    "print_latex(out)"
   ]
  },
  {
   "cell_type": "code",
   "execution_count": 37,
   "metadata": {},
   "outputs": [
    {
     "data": {
      "text/latex": [
       "$\\displaystyle v_{1}^{\\alpha} \\left(v_{1}^{- \\alpha - \\epsilon} \\left(v_{1}^{\\alpha} + v_{2}^{\\alpha}\\right) - v_{2}^{\\alpha} \\left(v_{1}^{- \\alpha - \\epsilon} + v_{2}^{- \\alpha - \\epsilon}\\right)\\right)$"
      ],
      "text/plain": [
       "v_1**alpha*(v_1**(-alpha - epsilon)*(v_1**alpha + v_2**alpha) - v_2**alpha*(v_1**(-alpha - epsilon) + v_2**(-alpha - epsilon)))"
      ]
     },
     "execution_count": 37,
     "metadata": {},
     "output_type": "execute_result"
    }
   ],
   "source": [
    "expr1 = v1**a * (v1**(-a-e)*(v1**a + v2**a) - v2**a * (v1**(-a-e) + v2**(-a-e)))\n",
    "expr1"
   ]
  },
  {
   "cell_type": "code",
   "execution_count": 38,
   "metadata": {},
   "outputs": [
    {
     "data": {
      "text/latex": [
       "$\\displaystyle v_{1}^{\\alpha} \\left(- v_{2}^{- \\epsilon} + v_{1}^{- \\epsilon}\\right)$"
      ],
      "text/plain": [
       "v_1**alpha*(-1/v_2**epsilon + v_1**(-epsilon))"
      ]
     },
     "execution_count": 38,
     "metadata": {},
     "output_type": "execute_result"
    }
   ],
   "source": [
    "sp.simplify(expr1)"
   ]
  },
  {
   "cell_type": "code",
   "execution_count": 41,
   "metadata": {},
   "outputs": [
    {
     "data": {
      "text/latex": [
       "$\\displaystyle v_{2}^{\\alpha} \\left(- v_{1}^{\\alpha} \\left(v_{1}^{- \\alpha - \\epsilon} + v_{2}^{- \\alpha - \\epsilon}\\right) + v_{2}^{- \\alpha - \\epsilon} \\left(v_{1}^{\\alpha} + v_{2}^{\\alpha}\\right)\\right)$"
      ],
      "text/plain": [
       "v_2**alpha*(-v_1**alpha*(v_1**(-alpha - epsilon) + v_2**(-alpha - epsilon)) + v_2**(-alpha - epsilon)*(v_1**alpha + v_2**alpha))"
      ]
     },
     "execution_count": 41,
     "metadata": {},
     "output_type": "execute_result"
    }
   ],
   "source": [
    "expr2 = v2**a*(v2**(-a-e)*(v1**a+v2**a) - v1**a*(v1**(-a-e)+v2**(-a-e)))\n",
    "expr2"
   ]
  },
  {
   "cell_type": "code",
   "execution_count": 42,
   "metadata": {},
   "outputs": [
    {
     "data": {
      "text/latex": [
       "$\\displaystyle v_{2}^{\\alpha} \\left(v_{2}^{- \\epsilon} - v_{1}^{- \\epsilon}\\right)$"
      ],
      "text/plain": [
       "v_2**alpha*(v_2**(-epsilon) - 1/v_1**epsilon)"
      ]
     },
     "execution_count": 42,
     "metadata": {},
     "output_type": "execute_result"
    }
   ],
   "source": [
    "sp.simplify(expr2)"
   ]
  },
  {
   "cell_type": "code",
   "execution_count": 45,
   "metadata": {},
   "outputs": [
    {
     "data": {
      "text/latex": [
       "$\\displaystyle v_{1}^{\\alpha} \\left(- v_{2}^{- \\epsilon} + v_{1}^{- \\epsilon}\\right) + v_{2}^{\\alpha} \\left(v_{2}^{- \\epsilon} - v_{1}^{- \\epsilon}\\right)$"
      ],
      "text/plain": [
       "v_1**alpha*(-1/v_2**epsilon + v_1**(-epsilon)) + v_2**alpha*(v_2**(-epsilon) - 1/v_1**epsilon)"
      ]
     },
     "execution_count": 45,
     "metadata": {},
     "output_type": "execute_result"
    }
   ],
   "source": [
    "sp.simplify(expr1) + sp.simplify(expr2)"
   ]
  },
  {
   "cell_type": "code",
   "execution_count": 52,
   "metadata": {},
   "outputs": [
    {
     "data": {
      "text/plain": [
       "(-0.439026620395311, 0.0548783275494138)"
      ]
     },
     "execution_count": 52,
     "metadata": {},
     "output_type": "execute_result"
    }
   ],
   "source": [
    "expr1.evalf(subs={v1:4, v2:2, a:3, e:0.01}), expr2.evalf(subs={v1:4, v2:2, a:3, e:0.01})"
   ]
  },
  {
   "cell_type": "code",
   "execution_count": 53,
   "metadata": {},
   "outputs": [
    {
     "data": {
      "text/plain": [
       "(0.0548783275494138, -0.439026620395311)"
      ]
     },
     "execution_count": 53,
     "metadata": {},
     "output_type": "execute_result"
    }
   ],
   "source": [
    "expr1.evalf(subs={v1:2, v2:4, a:3, e:0.01}), expr2.evalf(subs={v1:2, v2:4, a:3, e:0.01})"
   ]
  },
  {
   "cell_type": "code",
   "execution_count": null,
   "metadata": {},
   "outputs": [],
   "source": []
  },
  {
   "cell_type": "code",
   "execution_count": null,
   "metadata": {},
   "outputs": [],
   "source": []
  },
  {
   "cell_type": "code",
   "execution_count": null,
   "metadata": {},
   "outputs": [],
   "source": []
  },
  {
   "cell_type": "code",
   "execution_count": null,
   "metadata": {},
   "outputs": [],
   "source": []
  },
  {
   "cell_type": "code",
   "execution_count": null,
   "metadata": {},
   "outputs": [],
   "source": []
  },
  {
   "cell_type": "code",
   "execution_count": null,
   "metadata": {},
   "outputs": [],
   "source": [
    "a     = 3\n",
    "gamma = 1/16\n",
    "\n",
    "kTs16, kEWs, kEPs = [], [], []\n",
    "for k in tqdm(range(1,21)):\n",
    "    valuations = [1.]\n",
    "    valuations.extend([1./gamma]*k)\n",
    "    bids = calcEquilBids(valuations, a)\n",
    "    kTs.append(calcTruthfulPayment(valuations, a))\n",
    "    kEWs.append(calcEquilWelfare(valuations, bids, a))\n",
    "    kEPs.append(calcEquilPayment(valuations, bids, a))\n",
    "kTs = np.asarray(kTs)\n",
    "kEWs = np.asarray(kEWs)\n",
    "kEPs = np.asarray(kEPs)"
   ]
  },
  {
   "cell_type": "code",
   "execution_count": null,
   "metadata": {},
   "outputs": [],
   "source": [
    "bids = calcEquilBids([4, 2], n=2, a=3, guess=[4,2])\n",
    "bids\n",
    "\n",
    "getAllocs(bids)\n",
    "\n",
    "(bids-np.array([4,2]))*getAllocs(bids)\n",
    "\n",
    "bids = calcEquilBids([10, 10, 2], n=3, a=3, guess=[4,4,2])\n",
    "bids\n",
    "\n",
    "getAllocs(bids)\n",
    "\n",
    "out = (bids-np.array([10,10,2]))*getAllocs(bids)\n",
    "out"
   ]
  },
  {
   "cell_type": "code",
   "execution_count": null,
   "metadata": {},
   "outputs": [],
   "source": []
  }
 ],
 "metadata": {
  "kernelspec": {
   "display_name": "Python 3",
   "language": "python",
   "name": "python3"
  },
  "language_info": {
   "codemirror_mode": {
    "name": "ipython",
    "version": 3
   },
   "file_extension": ".py",
   "mimetype": "text/x-python",
   "name": "python",
   "nbconvert_exporter": "python",
   "pygments_lexer": "ipython3",
   "version": "3.8.16"
  }
 },
 "nbformat": 4,
 "nbformat_minor": 4
}
