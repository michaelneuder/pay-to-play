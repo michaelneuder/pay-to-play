{
 "cells": [
  {
   "cell_type": "code",
   "execution_count": 1,
   "metadata": {},
   "outputs": [],
   "source": [
    "import matplotlib.pyplot as plt\n",
    "import matplotlib as mpl\n",
    "import matplotlib.patches as mpatches\n",
    "import numpy as np\n",
    "import pandas as pd\n",
    "import cvxpy as cp\n",
    "from scipy.stats import poisson, uniform, expon, pareto\n",
    "from scipy.optimize import minimize, fsolve\n",
    "from tqdm import tqdm\n",
    "from mdptoolbox import mdp, util\n",
    "import itertools\n",
    "from scipy.sparse import csr_matrix, lil_matrix\n",
    "from matplotlib.patches import Patch\n",
    "import math\n",
    "import random\n",
    "import sympy as sp\n",
    "from sympy.printing.latex import print_latex"
   ]
  },
  {
   "cell_type": "code",
   "execution_count": 16,
   "metadata": {},
   "outputs": [
    {
     "data": {
      "text/latex": [
       "$\\displaystyle \\frac{c_{M} c_{M}^{- a} \\left(n - 1\\right)}{c_{m}^{- a} + c_{M}^{- a} \\left(n - 1\\right)} + \\frac{c_{m} c_{m}^{- a}}{c_{m}^{- a} + c_{M}^{- a} \\left(n - 1\\right)}$"
      ],
      "text/plain": [
       "c_M*(n - 1)/(c_M**a*(c_m**(-a) + (n - 1)/c_M**a)) + c_m/(c_m**a*(c_m**(-a) + (n - 1)/c_M**a))"
      ]
     },
     "execution_count": 16,
     "metadata": {},
     "output_type": "execute_result"
    }
   ],
   "source": [
    "x1, xi, cm, cM = sp.symbols('x_1 x_i c_m c_M')\n",
    "a, n           = sp.symbols('a n')\n",
    "\n",
    "x1 = cm**(-a) / (cm**(-a) + (n-1)*cM**(-a))\n",
    "xi = cM**(-a) / (cm**(-a) + (n-1)*cM**(-a))\n",
    "\n",
    "C = x1 * cm + xi * (n-1) * cM\n",
    "C"
   ]
  },
  {
   "cell_type": "code",
   "execution_count": 20,
   "metadata": {},
   "outputs": [
    {
     "data": {
      "text/latex": [
       "$\\displaystyle \\frac{c_{m} c_{m}^{- a}}{c_{m}^{- a} + c_{M}^{- a} \\left(n - 1\\right)}$"
      ],
      "text/plain": [
       "c_m/(c_m**a*(c_m**(-a) + (n - 1)/c_M**a))"
      ]
     },
     "execution_count": 20,
     "metadata": {},
     "output_type": "execute_result"
    }
   ],
   "source": [
    "x1 * cm"
   ]
  },
  {
   "cell_type": "code",
   "execution_count": 19,
   "metadata": {},
   "outputs": [
    {
     "data": {
      "text/latex": [
       "$\\displaystyle \\frac{c_{M}^{a} c_{m}}{c_{M}^{a} + c_{m}^{a} \\left(n - 1\\right)}$"
      ],
      "text/plain": [
       "c_M**a*c_m/(c_M**a + c_m**a*(n - 1))"
      ]
     },
     "execution_count": 19,
     "metadata": {},
     "output_type": "execute_result"
    }
   ],
   "source": [
    "sp.simplify(x1 * cm)"
   ]
  },
  {
   "cell_type": "code",
   "execution_count": 21,
   "metadata": {},
   "outputs": [
    {
     "data": {
      "text/latex": [
       "$\\displaystyle \\frac{c_{M} c_{M}^{- a}}{c_{m}^{- a} + c_{M}^{- a} \\left(n - 1\\right)}$"
      ],
      "text/plain": [
       "c_M/(c_M**a*(c_m**(-a) + (n - 1)/c_M**a))"
      ]
     },
     "execution_count": 21,
     "metadata": {},
     "output_type": "execute_result"
    }
   ],
   "source": [
    "xi * cM"
   ]
  },
  {
   "cell_type": "code",
   "execution_count": 26,
   "metadata": {},
   "outputs": [
    {
     "data": {
      "text/latex": [
       "$\\displaystyle \\frac{c_{M} c_{m}^{a} \\left(n - 1\\right)}{c_{M}^{a} + c_{m}^{a} \\left(n - 1\\right)}$"
      ],
      "text/plain": [
       "c_M*c_m**a*(n - 1)/(c_M**a + c_m**a*(n - 1))"
      ]
     },
     "execution_count": 26,
     "metadata": {},
     "output_type": "execute_result"
    }
   ],
   "source": [
    "sp.simplify(xi * cM * (n-1))"
   ]
  },
  {
   "cell_type": "code",
   "execution_count": 28,
   "metadata": {},
   "outputs": [
    {
     "data": {
      "text/latex": [
       "$\\displaystyle \\frac{c_{M} c_{m}^{a} \\left(n - 1\\right) + c_{M}^{a} c_{m}}{c_{M}^{a} + c_{m}^{a} \\left(n - 1\\right)}$"
      ],
      "text/plain": [
       "(c_M*c_m**a*(n - 1) + c_M**a*c_m)/(c_M**a + c_m**a*(n - 1))"
      ]
     },
     "execution_count": 28,
     "metadata": {},
     "output_type": "execute_result"
    }
   ],
   "source": [
    "sp.simplify(sp.simplify(x1 * cm)+ sp.simplify((n-1)*xi * cM))"
   ]
  },
  {
   "cell_type": "code",
   "execution_count": 29,
   "metadata": {},
   "outputs": [
    {
     "data": {
      "text/latex": [
       "$\\displaystyle \\frac{c_{M} c_{m}^{a} \\left(n - 1\\right) + c_{M}^{a} c_{m}}{c_{M}^{a} + c_{m}^{a} \\left(n - 1\\right)}$"
      ],
      "text/plain": [
       "(c_M*c_m**a*(n - 1) + c_M**a*c_m)/(c_M**a + c_m**a*(n - 1))"
      ]
     },
     "execution_count": 29,
     "metadata": {},
     "output_type": "execute_result"
    }
   ],
   "source": [
    "sp.simplify(C)"
   ]
  },
  {
   "cell_type": "code",
   "execution_count": 35,
   "metadata": {},
   "outputs": [
    {
     "data": {
      "text/latex": [
       "$\\displaystyle c_{M} c_{m}^{a} \\left(n - 1\\right) + c_{M}^{a} c_{m}$"
      ],
      "text/plain": [
       "c_M*c_m**a*(n - 1) + c_M**a*c_m"
      ]
     },
     "execution_count": 35,
     "metadata": {},
     "output_type": "execute_result"
    }
   ],
   "source": [
    "num, den = sp.fraction(sp.simplify(C))\n",
    "num"
   ]
  },
  {
   "cell_type": "code",
   "execution_count": 37,
   "metadata": {},
   "outputs": [
    {
     "data": {
      "text/latex": [
       "$\\displaystyle c_{M} n - c_{M} + c_{M}^{a} c_{m} c_{m}^{- a}$"
      ],
      "text/plain": [
       "c_M*n - c_M + c_M**a*c_m/c_m**a"
      ]
     },
     "execution_count": 37,
     "metadata": {},
     "output_type": "execute_result"
    }
   ],
   "source": [
    "sp.simplify(num / (cm**a))"
   ]
  },
  {
   "cell_type": "code",
   "execution_count": 39,
   "metadata": {},
   "outputs": [
    {
     "data": {
      "text/latex": [
       "$\\displaystyle c_{M}^{a} c_{m}^{- a} + n - 1$"
      ],
      "text/plain": [
       "c_M**a/c_m**a + n - 1"
      ]
     },
     "execution_count": 39,
     "metadata": {},
     "output_type": "execute_result"
    }
   ],
   "source": [
    "sp.simplify(den / (cm**a))"
   ]
  },
  {
   "cell_type": "markdown",
   "metadata": {},
   "source": [
    "# total cost"
   ]
  },
  {
   "cell_type": "code",
   "execution_count": 64,
   "metadata": {},
   "outputs": [
    {
     "data": {
      "text/latex": [
       "$\\displaystyle \\frac{R \\left(R^{a - 1} + n - 1\\right)}{R^{a} + n - 1}$"
      ],
      "text/plain": [
       "R*(R**(a - 1) + n - 1)/(R**a + n - 1)"
      ]
     },
     "execution_count": 64,
     "metadata": {},
     "output_type": "execute_result"
    }
   ],
   "source": [
    "R, n, a = sp.symbols('R n a')\n",
    "\n",
    "C = R * (R**(a-1) + n - 1) / (R**a + n - 1)\n",
    "\n",
    "C"
   ]
  },
  {
   "cell_type": "code",
   "execution_count": 65,
   "metadata": {},
   "outputs": [
    {
     "data": {
      "text/latex": [
       "$\\displaystyle R$"
      ],
      "text/plain": [
       "R"
      ]
     },
     "execution_count": 65,
     "metadata": {},
     "output_type": "execute_result"
    }
   ],
   "source": [
    "sp.limit(C, n, sp.oo)"
   ]
  },
  {
   "cell_type": "markdown",
   "metadata": {},
   "source": [
    "# sanity check"
   ]
  },
  {
   "cell_type": "code",
   "execution_count": 42,
   "metadata": {},
   "outputs": [
    {
     "data": {
      "text/latex": [
       "$\\displaystyle \\frac{c_{M} c_{M}^{- a} \\left(n - 1\\right)}{c_{m}^{- a} + c_{M}^{- a} \\left(n - 1\\right)} + \\frac{c_{m} c_{m}^{- a}}{c_{m}^{- a} + c_{M}^{- a} \\left(n - 1\\right)}$"
      ],
      "text/plain": [
       "c_M*(n - 1)/(c_M**a*(c_m**(-a) + (n - 1)/c_M**a)) + c_m/(c_m**a*(c_m**(-a) + (n - 1)/c_M**a))"
      ]
     },
     "execution_count": 42,
     "metadata": {},
     "output_type": "execute_result"
    }
   ],
   "source": [
    "x1, xi, cm, cM = sp.symbols('x_1 x_i c_m c_M')\n",
    "a, n           = sp.symbols('a n')\n",
    "\n",
    "x1 = cm**(-a) / (cm**(-a) + (n-1)*cM**(-a))\n",
    "xi = cM**(-a) / (cm**(-a) + (n-1)*cM**(-a))\n",
    "\n",
    "C = x1 * cm + xi * (n-1) * cM\n",
    "C"
   ]
  },
  {
   "cell_type": "code",
   "execution_count": 44,
   "metadata": {},
   "outputs": [
    {
     "data": {
      "text/plain": [
       "<function _lambdifygenerated(c_m, c_M, a, n)>"
      ]
     },
     "execution_count": 44,
     "metadata": {},
     "output_type": "execute_result"
    }
   ],
   "source": [
    "cFast = sp.lambdify((cm, cM, a, n), C)\n",
    "cFast"
   ]
  },
  {
   "cell_type": "code",
   "execution_count": 86,
   "metadata": {},
   "outputs": [
    {
     "data": {
      "text/plain": [
       "1.0000000081"
      ]
     },
     "execution_count": 86,
     "metadata": {},
     "output_type": "execute_result"
    }
   ],
   "source": [
    "cFast(1, 10, 10, 10)"
   ]
  },
  {
   "cell_type": "markdown",
   "metadata": {},
   "source": [
    "# all bid max"
   ]
  },
  {
   "cell_type": "code",
   "execution_count": 88,
   "metadata": {},
   "outputs": [
    {
     "data": {
      "text/latex": [
       "$\\displaystyle c_{M}$"
      ],
      "text/plain": [
       "c_M"
      ]
     },
     "execution_count": 88,
     "metadata": {},
     "output_type": "execute_result"
    }
   ],
   "source": [
    "xi, cM = sp.symbols('x_i c_M')\n",
    "a, n   = sp.symbols('a n')\n",
    "\n",
    "xi = cM**(-a) / (n*cM**(-a))\n",
    "\n",
    "C = n* xi * cM\n",
    "C"
   ]
  },
  {
   "cell_type": "markdown",
   "metadata": {},
   "source": [
    "# system solver for multiple players"
   ]
  },
  {
   "cell_type": "code",
   "execution_count": 514,
   "metadata": {},
   "outputs": [
    {
     "data": {
      "text/latex": [
       "$\\displaystyle \\frac{c_{1} - v_{1}}{c_{1}^{3} \\left(\\frac{1}{c_{2}^{3}} + \\frac{1}{c_{1}^{3}}\\right)}$"
      ],
      "text/plain": [
       "(c_1 - v_1)/(c_1**3*(c_2**(-3) + c_1**(-3)))"
      ]
     },
     "execution_count": 514,
     "metadata": {},
     "output_type": "execute_result"
    }
   ],
   "source": [
    "# two player\n",
    "c1, c2, v1, v2 = sp.symbols('c_1 c_2 v_1 v_2')\n",
    "a = 3\n",
    "\n",
    "u1 = (c1-v1) * (1/c1)**a / ((1/c1)**a + (1/c2)**a)\n",
    "u2 = (c2-v2) * (1/c2)**a / ((1/c1)**a + (1/c2)**a)\n",
    "u1"
   ]
  },
  {
   "cell_type": "code",
   "execution_count": 515,
   "metadata": {},
   "outputs": [
    {
     "data": {
      "text/latex": [
       "$\\displaystyle \\frac{1}{c_{2}^{3} \\left(\\frac{1}{c_{2}^{3}} + \\frac{1}{c_{1}^{3}}\\right)} - \\frac{3 \\left(c_{2} - v_{2}\\right)}{c_{2}^{4} \\left(\\frac{1}{c_{2}^{3}} + \\frac{1}{c_{1}^{3}}\\right)} + \\frac{3 \\left(c_{2} - v_{2}\\right)}{c_{2}^{7} \\left(\\frac{1}{c_{2}^{3}} + \\frac{1}{c_{1}^{3}}\\right)^{2}} = 0$"
      ],
      "text/plain": [
       "Eq(1/(c_2**3*(c_2**(-3) + c_1**(-3))) - 3*(c_2 - v_2)/(c_2**4*(c_2**(-3) + c_1**(-3))) + 3*(c_2 - v_2)/(c_2**7*(c_2**(-3) + c_1**(-3))**2), 0)"
      ]
     },
     "execution_count": 515,
     "metadata": {},
     "output_type": "execute_result"
    }
   ],
   "source": [
    "part1 = sp.diff(u1, c1)\n",
    "part2 = sp.diff(u2, c2)\n",
    "foc1 = sp.Eq(part1, 0)\n",
    "foc2 = sp.Eq(part2, 0)\n",
    "foc2"
   ]
  },
  {
   "cell_type": "code",
   "execution_count": 517,
   "metadata": {},
   "outputs": [
    {
     "data": {
      "text/plain": [
       "array([3., 3.])"
      ]
     },
     "execution_count": 517,
     "metadata": {},
     "output_type": "execute_result"
    }
   ],
   "source": [
    "foc1sc = sp.lambdify((c1, c2), part1.evalf(subs={v1:1}))\n",
    "foc2sc = sp.lambdify((c1, c2), part2.evalf(subs={v2:1}))\n",
    "\n",
    "def eqs(cs):\n",
    "    c1, c2 = cs\n",
    "    return [foc1sc(c1,c2), foc2sc(c1,c2)]\n",
    "\n",
    "initial_guess = [0.4, 0.2]\n",
    "solution = fsolve(eqs, initial_guess)\n",
    "solution"
   ]
  },
  {
   "cell_type": "code",
   "execution_count": 98,
   "metadata": {},
   "outputs": [
    {
     "data": {
      "text/plain": [
       "(0.4312151766251178, 0.5687848233748822)"
      ]
     },
     "execution_count": 98,
     "metadata": {},
     "output_type": "execute_result"
    }
   ],
   "source": [
    "x1 = (1/solution[0])**(3) / ((1/solution[0])**(3) + (1/solution[1])**(3))\n",
    "x2 = (1/solution[1])**(3) / ((1/solution[0])**(3) + (1/solution[1])**(3))\n",
    "x1, x2"
   ]
  },
  {
   "cell_type": "code",
   "execution_count": 159,
   "metadata": {},
   "outputs": [
    {
     "data": {
      "text/latex": [
       "$\\displaystyle \\frac{c_{1} - v_{1}}{c_{1}^{9} \\left(\\frac{1}{c_{3}^{9}} + \\frac{1}{c_{2}^{9}} + \\frac{1}{c_{1}^{9}}\\right)}$"
      ],
      "text/plain": [
       "(c_1 - v_1)/(c_1**9*(c_3**(-9) + c_2**(-9) + c_1**(-9)))"
      ]
     },
     "execution_count": 159,
     "metadata": {},
     "output_type": "execute_result"
    }
   ],
   "source": [
    "# three player\n",
    "c1, c2, c3, v1, v2, v3 = sp.symbols('c_1 c_2 c_3 v_1 v_2 v_3')\n",
    "a = 9\n",
    "\n",
    "u1 = (c1-v1) * (1/c1)**a / ((1/c1)**a + (1/c2)**a + (1/c3)**a)\n",
    "u2 = (c2-v2) * (1/c2)**a / ((1/c1)**a + (1/c2)**a + (1/c3)**a)\n",
    "u3 = (c3-v3) * (1/c3)**a / ((1/c1)**a + (1/c2)**a + (1/c3)**a)\n",
    "u1"
   ]
  },
  {
   "cell_type": "code",
   "execution_count": 160,
   "metadata": {},
   "outputs": [
    {
     "data": {
      "text/latex": [
       "$\\displaystyle \\frac{1}{c_{2}^{9} \\left(\\frac{1}{c_{3}^{9}} + \\frac{1}{c_{2}^{9}} + \\frac{1}{c_{1}^{9}}\\right)} - \\frac{9 \\left(c_{2} - v_{2}\\right)}{c_{2}^{10} \\left(\\frac{1}{c_{3}^{9}} + \\frac{1}{c_{2}^{9}} + \\frac{1}{c_{1}^{9}}\\right)} + \\frac{9 \\left(c_{2} - v_{2}\\right)}{c_{2}^{19} \\left(\\frac{1}{c_{3}^{9}} + \\frac{1}{c_{2}^{9}} + \\frac{1}{c_{1}^{9}}\\right)^{2}} = 0$"
      ],
      "text/plain": [
       "Eq(1/(c_2**9*(c_3**(-9) + c_2**(-9) + c_1**(-9))) - 9*(c_2 - v_2)/(c_2**10*(c_3**(-9) + c_2**(-9) + c_1**(-9))) + 9*(c_2 - v_2)/(c_2**19*(c_3**(-9) + c_2**(-9) + c_1**(-9))**2), 0)"
      ]
     },
     "execution_count": 160,
     "metadata": {},
     "output_type": "execute_result"
    }
   ],
   "source": [
    "part1 = sp.diff(u1, c1)\n",
    "part2 = sp.diff(u2, c2)\n",
    "part3 = sp.diff(u3, c3)\n",
    "foc1 = sp.Eq(part1, 0)\n",
    "foc2 = sp.Eq(part2, 0)\n",
    "foc3 = sp.Eq(part3, 0)\n",
    "foc2"
   ]
  },
  {
   "cell_type": "code",
   "execution_count": 161,
   "metadata": {},
   "outputs": [
    {
     "data": {
      "text/plain": [
       "array([2.02462415, 2.33171154, 4.50033163])"
      ]
     },
     "execution_count": 161,
     "metadata": {},
     "output_type": "execute_result"
    }
   ],
   "source": [
    "foc1sc = sp.lambdify((c1, c2, c3), part1.evalf(subs={v1:1}))\n",
    "foc2sc = sp.lambdify((c1, c2, c3), part2.evalf(subs={v2:2}))\n",
    "foc3sc = sp.lambdify((c1, c2, c3), part3.evalf(subs={v3:4}))\n",
    "\n",
    "def eqs(cs):\n",
    "    c1, c2, c3 = cs\n",
    "    return [foc1sc(c1,c2,c3), foc2sc(c1,c2,c3), foc3sc(c1,c2,c3)]\n",
    "\n",
    "initial_guess = [1, 1, 1]\n",
    "solution = fsolve(eqs, initial_guess)\n",
    "solution"
   ]
  },
  {
   "cell_type": "code",
   "execution_count": 162,
   "metadata": {},
   "outputs": [
    {
     "data": {
      "text/plain": [
       "(0.7804480416310342, 0.2189627850780753, 0.0005891732908904957, 1.0)"
      ]
     },
     "execution_count": 162,
     "metadata": {},
     "output_type": "execute_result"
    }
   ],
   "source": [
    "x1 = (1/solution[0])**(a) / ((1/solution[0])**(a) + (1/solution[1])**(a) + (1/solution[2])**(a))\n",
    "x2 = (1/solution[1])**(a) / ((1/solution[0])**(a) + (1/solution[1])**(a) + (1/solution[2])**(a))\n",
    "x3 = (1/solution[2])**(a) / ((1/solution[0])**(a) + (1/solution[1])**(a) + (1/solution[2])**(a))\n",
    "x1, x2, x3, x1+x2+x3"
   ]
  },
  {
   "cell_type": "code",
   "execution_count": 335,
   "metadata": {},
   "outputs": [
    {
     "data": {
      "text/latex": [
       "$\\displaystyle \\frac{c_{1} - v_{1}}{c_{1}^{3} \\left(\\frac{1}{c_{5}^{3}} + \\frac{1}{c_{4}^{3}} + \\frac{1}{c_{3}^{3}} + \\frac{1}{c_{2}^{3}} + \\frac{1}{c_{1}^{3}}\\right)}$"
      ],
      "text/plain": [
       "(c_1 - v_1)/(c_1**3*(c_5**(-3) + c_4**(-3) + c_3**(-3) + c_2**(-3) + c_1**(-3)))"
      ]
     },
     "execution_count": 335,
     "metadata": {},
     "output_type": "execute_result"
    }
   ],
   "source": [
    "# n-player\n",
    "n = 5\n",
    "a = 3\n",
    "cs, vs, us = [], [], []\n",
    "for i in range(1,n+1):\n",
    "    c_i = sp.symbols('c_{}'.format(i))\n",
    "    v_i = sp.symbols('v_{}'.format(i))\n",
    "    cs.append(c_i)\n",
    "    vs.append(v_i)\n",
    "denom = sum([(1/c)**a for c in cs])\n",
    "for i in range(1,n+1):\n",
    "    u_i = (cs[i-1] - vs[i-1]) * (1/cs[i-1])**a / denom\n",
    "    us.append(u_i)\n",
    "us[0]"
   ]
  },
  {
   "cell_type": "code",
   "execution_count": 339,
   "metadata": {},
   "outputs": [
    {
     "data": {
      "text/plain": [
       "<function _lambdifygenerated(c_1, c_2, c_3, c_4, c_5)>"
      ]
     },
     "execution_count": 339,
     "metadata": {},
     "output_type": "execute_result"
    }
   ],
   "source": [
    "focs = []\n",
    "vals = np.arange(1.,n+1)**2\n",
    "for i in range(n):\n",
    "    parti = sp.diff(us[i], cs[i])\n",
    "    vi = vs[i]\n",
    "    focs.append(sp.lambdify(cs, parti.evalf(subs={vi: vals[i]})))\n",
    "focs[-1]"
   ]
  },
  {
   "cell_type": "code",
   "execution_count": 342,
   "metadata": {},
   "outputs": [
    {
     "data": {
      "text/plain": [
       "array([ 1.,  4.,  9., 16., 25.])"
      ]
     },
     "execution_count": 342,
     "metadata": {},
     "output_type": "execute_result"
    }
   ],
   "source": [
    "vals"
   ]
  },
  {
   "cell_type": "code",
   "execution_count": 343,
   "metadata": {},
   "outputs": [
    {
     "data": {
      "text/plain": [
       "array([ 7.46801654e+00,  8.73152668e+00,  2.08400439e+06,  1.52874658e+06,\n",
       "       -1.46985588e+07])"
      ]
     },
     "execution_count": 343,
     "metadata": {},
     "output_type": "execute_result"
    }
   ],
   "source": [
    "def eqs(cs):\n",
    "    return [f(*cs) for f in focs]\n",
    "\n",
    "initial_guess = vals\n",
    "solution = fsolve(eqs, initial_guess)\n",
    "solution"
   ]
  },
  {
   "cell_type": "code",
   "execution_count": 344,
   "metadata": {},
   "outputs": [
    {
     "data": {
      "text/plain": [
       "[0.6151310326499437,\n",
       " 0.38486896735005616,\n",
       " 2.83065905033675e-17,\n",
       " 7.17095428995606e-17,\n",
       " -8.06787557215077e-20]"
      ]
     },
     "execution_count": 344,
     "metadata": {},
     "output_type": "execute_result"
    }
   ],
   "source": [
    "allodenom = sum([1/(s**a) for s in solution])\n",
    "allocs = [1/(s**a) / allodenom for s in solution]\n",
    "allocs"
   ]
  },
  {
   "cell_type": "code",
   "execution_count": 345,
   "metadata": {},
   "outputs": [
    {
     "data": {
      "text/plain": [
       "7.954302385239493"
      ]
     },
     "execution_count": 345,
     "metadata": {},
     "output_type": "execute_result"
    }
   ],
   "source": [
    "np.dot(allocs, solution)"
   ]
  },
  {
   "cell_type": "code",
   "execution_count": 494,
   "metadata": {},
   "outputs": [],
   "source": [
    "# verify this one with empirics"
   ]
  },
  {
   "cell_type": "code",
   "execution_count": 20,
   "metadata": {},
   "outputs": [
    {
     "data": {
      "text/plain": [
       "[100, 100, 100, 100, 100, 100, 100, 1]"
      ]
     },
     "execution_count": 20,
     "metadata": {},
     "output_type": "execute_result"
    }
   ],
   "source": [
    "a    = 3\n",
    "n    = 8\n",
    "vals = [1.,4.,9.,16.,25.]\n",
    "vals = np.exp(np.arange(5))\n",
    "vals = [100,100,100,100,100,100,100,1]\n",
    "init = vals\n",
    "vals"
   ]
  },
  {
   "cell_type": "code",
   "execution_count": null,
   "metadata": {},
   "outputs": [],
   "source": [
    "cs = [sp.Symbol('c_{}'.format(i), positive=True) for i in range(1, n+1)]\n",
    "bids = [[init[i]] for i in range(n)]\n",
    "for turn in range(int(1000)):\n",
    "    i = turn % n\n",
    "    den = sum([1/(ci**a) for ci in cs])\n",
    "    xi = 1/(cs[i]**a) / den\n",
    "    ui = (cs[i]-vals[i])*xi\n",
    "    subs = {}\n",
    "    for j in range(n):\n",
    "        if j != i:\n",
    "            subs[cs[j]] = bids[j][-1]\n",
    "    funci = sp.lambdify([cs[i]], -ui.evalf(subs=subs))\n",
    "    bounds = ((0, 1000),)\n",
    "    sol = minimize(funci, (1.1), method='SLSQP', bounds=bounds).x[0]\n",
    "    curri = sol\n",
    "    bids[i].append(curri)"
   ]
  },
  {
   "cell_type": "code",
   "execution_count": 23,
   "metadata": {},
   "outputs": [
    {
     "data": {
      "text/plain": [
       "[<matplotlib.lines.Line2D at 0x1212abca0>]"
      ]
     },
     "execution_count": 23,
     "metadata": {},
     "output_type": "execute_result"
    },
    {
     "data": {
      "image/png": "[encoded data removed]",
      "text/plain": [
       "<Figure size 432x288 with 1 Axes>"
      ]
     },
     "metadata": {
      "needs_background": "light"
     },
     "output_type": "display_data"
    }
   ],
   "source": [
    "plt.plot(bids[0], marker='x', linestyle='none')\n",
    "plt.plot(bids[1], marker='x', linestyle='none')\n",
    "plt.plot(bids[2], marker='x', linestyle='none')\n",
    "plt.plot(bids[3], marker='x', linestyle='none')\n",
    "plt.plot(bids[4], marker='x', linestyle='none')\n",
    "plt.plot(bids[7], marker='x', linestyle='none')"
   ]
  },
  {
   "cell_type": "code",
   "execution_count": 24,
   "metadata": {},
   "outputs": [
    {
     "data": {
      "text/plain": [
       "(153.92385689689854,\n",
       " 153.92387113838546,\n",
       " 153.92391400035015,\n",
       " 153.923846554351,\n",
       " 153.92382299086603,\n",
       " 64.36926548325944)"
      ]
     },
     "execution_count": 24,
     "metadata": {},
     "output_type": "execute_result"
    }
   ],
   "source": [
    "bids[0][-1],bids[1][-1],bids[2][-1],bids[3][-1],bids[4][-1], bids[-1][-1]"
   ]
  },
  {
   "cell_type": "code",
   "execution_count": 579,
   "metadata": {},
   "outputs": [
    {
     "data": {
      "text/plain": [
       "[1.0, 4.0, 9.0, 16.0, 25.0]"
      ]
     },
     "execution_count": 579,
     "metadata": {},
     "output_type": "execute_result"
    }
   ],
   "source": [
    "vals"
   ]
  },
  {
   "cell_type": "code",
   "execution_count": 580,
   "metadata": {},
   "outputs": [
    {
     "data": {
      "text/latex": [
       "$\\displaystyle \\frac{c_{5} - v_{5}}{c_{5}^{3} \\left(\\frac{1}{c_{5}^{3}} + \\frac{1}{c_{4}^{3}} + \\frac{1}{c_{3}^{3}} + \\frac{1}{c_{2}^{3}} + \\frac{1}{c_{1}^{3}}\\right)}$"
      ],
      "text/plain": [
       "(c_5 - v_5)/(c_5**3*(c_5**(-3) + c_4**(-3) + c_3**(-3) + c_2**(-3) + c_1**(-3)))"
      ]
     },
     "execution_count": 580,
     "metadata": {},
     "output_type": "execute_result"
    }
   ],
   "source": [
    "cs, vs, us = [], [], []\n",
    "for i in range(1,n+1):\n",
    "    c_i = sp.symbols('c_{}'.format(i))\n",
    "    v_i = sp.symbols('v_{}'.format(i))\n",
    "    cs.append(c_i)\n",
    "    vs.append(v_i)\n",
    "denom = sum([(1/c)**a for c in cs])\n",
    "for i in range(1,n+1):\n",
    "    u_i = (cs[i-1] - vs[i-1]) * (1/cs[i-1])**a / denom\n",
    "    us.append(u_i)\n",
    "us[-1]"
   ]
  },
  {
   "cell_type": "code",
   "execution_count": 581,
   "metadata": {},
   "outputs": [
    {
     "data": {
      "text/plain": [
       "<function _lambdifygenerated(c_1, c_2, c_3, c_4, c_5)>"
      ]
     },
     "execution_count": 581,
     "metadata": {},
     "output_type": "execute_result"
    }
   ],
   "source": [
    "focs = []\n",
    "for i in range(n):\n",
    "    parti = sp.diff(us[i], cs[i])\n",
    "    vi = vs[i]\n",
    "    focs.append(sp.lambdify(cs, parti.evalf(subs={vi: vals[i]})))\n",
    "focs[-1]"
   ]
  },
  {
   "cell_type": "code",
   "execution_count": 582,
   "metadata": {},
   "outputs": [
    {
     "data": {
      "text/latex": [
       "$\\displaystyle \\frac{1}{c_{5}^{3} \\left(\\frac{1}{c_{5}^{3}} + \\frac{1}{c_{4}^{3}} + \\frac{1}{c_{3}^{3}} + \\frac{1}{c_{2}^{3}} + \\frac{1}{c_{1}^{3}}\\right)} - \\frac{3.0 \\left(c_{5} - 25.0\\right)}{c_{5}^{4} \\left(\\frac{1}{c_{5}^{3}} + \\frac{1}{c_{4}^{3}} + \\frac{1}{c_{3}^{3}} + \\frac{1}{c_{2}^{3}} + \\frac{1}{c_{1}^{3}}\\right)} + \\frac{3.0 \\left(c_{5} - 25.0\\right)}{c_{5}^{7} \\left(\\frac{1}{c_{5}^{3}} + \\frac{1}{c_{4}^{3}} + \\frac{1}{c_{3}^{3}} + \\frac{1}{c_{2}^{3}} + \\frac{1}{c_{1}^{3}}\\right)^{2}}$"
      ],
      "text/plain": [
       "1/(c_5**3*(c_5**(-3) + c_4**(-3) + c_3**(-3) + c_2**(-3) + c_1**(-3))) - 3.0*(c_5 - 25.0)/(c_5**4*(c_5**(-3) + c_4**(-3) + c_3**(-3) + c_2**(-3) + c_1**(-3))) + 3.0*(c_5 - 25.0)/(c_5**7*(c_5**(-3) + c_4**(-3) + c_3**(-3) + c_2**(-3) + c_1**(-3))**2)"
      ]
     },
     "execution_count": 582,
     "metadata": {},
     "output_type": "execute_result"
    }
   ],
   "source": [
    "parti.evalf(subs={vi: vals[i]})"
   ]
  },
  {
   "cell_type": "code",
   "execution_count": 605,
   "metadata": {},
   "outputs": [
    {
     "data": {
      "text/plain": [
       "(array([ 6.38821323,  7.87627169, 13.93135   , 24.13685419, 37.5560592 ]),\n",
       " array([ 7.46801654e+00,  8.73152668e+00,  2.08400439e+06,  1.52874658e+06,\n",
       "        -1.46985588e+07]))"
      ]
     },
     "execution_count": 605,
     "metadata": {},
     "output_type": "execute_result"
    }
   ],
   "source": [
    "def eqs(cs):\n",
    "    return [f(*cs) for f in focs]\n",
    "fsolve(eqs, [6., 7., 13., 24., 27.]), fsolve(eqs, vals)"
   ]
  },
  {
   "cell_type": "code",
   "execution_count": 608,
   "metadata": {},
   "outputs": [
    {
     "data": {
      "text/plain": [
       "-2.566491214928135e-05"
      ]
     },
     "execution_count": 608,
     "metadata": {},
     "output_type": "execute_result"
    }
   ],
   "source": [
    "focs[0](\n",
    "    6.38641653292105,\n",
    "    7.873363006311625,\n",
    "    13.93008972601651,\n",
    "    24.12967651253459,\n",
    "    37.50600131187707\n",
    ")"
   ]
  },
  {
   "cell_type": "markdown",
   "metadata": {},
   "source": [
    "# WELFARE"
   ]
  },
  {
   "cell_type": "code",
   "execution_count": 242,
   "metadata": {},
   "outputs": [
    {
     "data": {
      "text/plain": [
       "[v_1, v_2, v_3, v_4, v_5]"
      ]
     },
     "execution_count": 242,
     "metadata": {},
     "output_type": "execute_result"
    }
   ],
   "source": [
    "# two player\n",
    "a  = sp.symbols('a')\n",
    "vs = []\n",
    "n  = 5\n",
    "for i in range(1,n+1):\n",
    "    v_i = sp.symbols('v_{}'.format(i), positive=True)\n",
    "    vs.append(v_i)\n",
    "vs"
   ]
  },
  {
   "cell_type": "code",
   "execution_count": 247,
   "metadata": {},
   "outputs": [
    {
     "data": {
      "text/latex": [
       "$\\displaystyle - \\frac{v_{1}^{1 - a} + v_{2}^{1 - a} + v_{3}^{1 - a} + v_{4}^{1 - a} + v_{5}^{1 - a}}{v_{5}^{- a} + v_{4}^{- a} + v_{3}^{- a} + v_{2}^{- a} + v_{1}^{- a}}$"
      ],
      "text/plain": [
       "-(v_1**(1 - a) + v_2**(1 - a) + v_3**(1 - a) + v_4**(1 - a) + v_5**(1 - a))/(v_5**(-a) + v_4**(-a) + v_3**(-a) + v_2**(-a) + v_1**(-a))"
      ]
     },
     "execution_count": 247,
     "metadata": {},
     "output_type": "execute_result"
    }
   ],
   "source": [
    "W = - sum([(v)**(1-a) for v in vs]) / sum([(v)**(-a) for v in vs])\n",
    "W = sp.simplify(W)\n",
    "W"
   ]
  },
  {
   "cell_type": "code",
   "execution_count": 351,
   "metadata": {},
   "outputs": [
    {
     "data": {
      "text/plain": [
       "[array([1., 1., 1., 1., 1.]),\n",
       " array([1., 2., 3., 4., 5.]),\n",
       " array([1.        , 1.41421356, 1.73205081, 2.        , 2.23606798]),\n",
       " array([1., 1., 1., 1., 5.]),\n",
       " array([1., 5., 5., 5., 5.]),\n",
       " array([ 1.,  4.,  9., 16., 25.])]"
      ]
     },
     "execution_count": 351,
     "metadata": {},
     "output_type": "execute_result"
    }
   ],
   "source": [
    "n = 5\n",
    "a = 3\n",
    "cand1 = np.ones(n)\n",
    "cand2 = np.arange(1,n+1, dtype=np.float)\n",
    "cand3 = np.arange(1,n+1, dtype=np.float)**(1/2)\n",
    "cand4 = np.ones(n)\n",
    "cand4[-1] = n\n",
    "cand5 = np.ones(n) * n\n",
    "cand5[0] = 1\n",
    "cand6 = np.power(np.arange(1.,n+1), 2)\n",
    "cands = [cand1, cand2, cand3, cand4, cand5, cand6]\n",
    "cands"
   ]
  },
  {
   "cell_type": "code",
   "execution_count": 352,
   "metadata": {},
   "outputs": [],
   "source": [
    "def calcTruthfulCost(cand, a):\n",
    "    v1 = np.min(cand)\n",
    "    num = sum([np.power(vi,1-a)/v1 for vi in cand])\n",
    "    den = sum([np.power(vi,-a) for vi in cand])\n",
    "    return num/den"
   ]
  },
  {
   "cell_type": "code",
   "execution_count": 34,
   "metadata": {},
   "outputs": [],
   "source": [
    "def calcEquilBids(cand, n, a, guess=None):\n",
    "    cs, vs, us = [], [], []\n",
    "    for i in range(1,n+1):\n",
    "        c_i = sp.symbols('c_{}'.format(i))\n",
    "        v_i = sp.symbols('v_{}'.format(i))\n",
    "        cs.append(c_i)\n",
    "        vs.append(v_i)\n",
    "    denom = sum([(1/c)**a for c in cs])\n",
    "    for i in range(1,n+1):\n",
    "        u_i = (cs[i-1] - vs[i-1]) * (1/cs[i-1])**a / denom\n",
    "        us.append(u_i)\n",
    "\n",
    "    focs = []\n",
    "    for i in range(n):\n",
    "        parti = sp.diff(us[i], cs[i])\n",
    "        vi = vs[i]\n",
    "        focs.append(sp.lambdify(cs, parti.evalf(subs={vi: cand[i]})))\n",
    "\n",
    "    def eqs(cs):\n",
    "        return [f(*cs) for f in focs]\n",
    "\n",
    "    initial_guess = cand\n",
    "    if guess != None:\n",
    "        initial_guess = guess\n",
    "    return fsolve(eqs, initial_guess)\n",
    "\n",
    "def calcEquilCost(cand, bids, a):\n",
    "    v1 = np.min(cand)\n",
    "    num = 0\n",
    "    den = 0\n",
    "    for i in range(len(cand)):\n",
    "        ci, vi = bids[i], cand[i]\n",
    "        num += (vi*np.power(ci,-a)/v1)\n",
    "        den += (np.power(ci,-a))\n",
    "    return num / den"
   ]
  },
  {
   "cell_type": "code",
   "execution_count": 615,
   "metadata": {},
   "outputs": [
    {
     "data": {
      "image/png": "[encoded data removed]",
      "text/plain": [
       "<Figure size 936x504 with 6 Axes>"
      ]
     },
     "metadata": {
      "needs_background": "light"
     },
     "output_type": "display_data"
    }
   ],
   "source": [
    "f, axarr = plt.subplots(nrows=2, ncols=3, figsize=(13,7))\n",
    "\n",
    "candNames = ['ones', 'linear', 'sqrt', 'one-high', 'one-low', 'square']\n",
    "for i, c in enumerate(cands):\n",
    "    row, col = i // 3, i % 3\n",
    "    \n",
    "    truthCost = calcTruthfulCost(c, a=3)\n",
    "    if i == 5: # requires hand crafted init guess\n",
    "        bids = calcEquilBids(c, n=5, a=3, guess=[6., 7., 13., 24., 27.])\n",
    "    else:\n",
    "        bids = calcEquilBids(c, n=5, a=3)\n",
    "    for j in range(len(bids)):\n",
    "        if np.abs(bids[j]) > float(1e5):\n",
    "            bids[j] = 0\n",
    "    equilCost = calcEquilCost(c, bids, a=3)\n",
    "    \n",
    "    axarr[row,col].plot(np.arange(n), c, color='mediumvioletred', alpha=1, \n",
    "                        label=r'true bids: $W_t/W_m$={:0.3f}'.format(truthCost), marker='o', fillstyle='full', \n",
    "                        linestyle='--', markersize=5)\n",
    "    axarr[row,col].plot(np.arange(n), bids, color='coral', alpha=1, \n",
    "                        label='equil bids: $W_e/W_m$={:0.3f}'.format(equilCost), marker='o', fillstyle='full', \n",
    "                        linestyle='-', markersize=5)\n",
    "\n",
    "    axarr[row,col].set_title(candNames[i], size=14)\n",
    "    axarr[row,col].legend()\n",
    "    axarr[row,col].grid(alpha=0.2)\n",
    "\n",
    "\n",
    "    \n",
    "axarr[0,0].set_ylabel('bid value', size=13)\n",
    "axarr[1,0].set_ylabel('bid value', size=13)\n",
    "axarr[1,0].set_xlabel('player', size=13)\n",
    "axarr[1,1].set_xlabel('player', size=13)\n",
    "axarr[1,2].set_xlabel('player', size=13)\n",
    "\n",
    "axarr[1,2].set_ylim(0, 50)\n",
    "\n",
    "\n",
    "plt.subplots_adjust(hspace=0.3)\n",
    "plt.savefig('out.png', dpi=400, bbox_inches='tight', facecolor='white')\n",
    "plt.show()"
   ]
  },
  {
   "cell_type": "markdown",
   "metadata": {},
   "source": [
    "# payments"
   ]
  },
  {
   "cell_type": "code",
   "execution_count": 616,
   "metadata": {},
   "outputs": [
    {
     "data": {
      "text/plain": [
       "[array([1., 1., 1., 1., 1.]),\n",
       " array([1., 2., 3., 4., 5.]),\n",
       " array([1.        , 1.41421356, 1.73205081, 2.        , 2.23606798]),\n",
       " array([1., 1., 1., 1., 5.]),\n",
       " array([1., 5., 5., 5., 5.]),\n",
       " array([ 1.,  4.,  9., 16., 25.])]"
      ]
     },
     "execution_count": 616,
     "metadata": {},
     "output_type": "execute_result"
    }
   ],
   "source": [
    "n = 5\n",
    "a = 3\n",
    "cand1 = np.ones(n)\n",
    "cand2 = np.arange(1,n+1, dtype=np.float)\n",
    "cand3 = np.arange(1,n+1, dtype=np.float)**(1/2)\n",
    "cand4 = np.ones(n)\n",
    "cand4[-1] = n\n",
    "cand5 = np.ones(n) * n\n",
    "cand5[0] = 1\n",
    "cand6 = np.power(np.arange(1.,n+1), 2)\n",
    "cands = [cand1, cand2, cand3, cand4, cand5, cand6]\n",
    "cands"
   ]
  },
  {
   "cell_type": "code",
   "execution_count": 623,
   "metadata": {},
   "outputs": [],
   "source": [
    "def calcTruthfulPayment(cand, a): # SAME AS TRUTHFUL WELFARE\n",
    "    v1 = np.min(cand)\n",
    "    num = sum([np.power(vi,1-a)/v1 for vi in cand])\n",
    "    den = sum([np.power(vi,-a) for vi in cand])\n",
    "    return num/den"
   ]
  },
  {
   "cell_type": "code",
   "execution_count": 629,
   "metadata": {},
   "outputs": [],
   "source": [
    "def calcEquilPayment(cand, bids, a):\n",
    "    v1 = np.min(cand)\n",
    "    num = 0\n",
    "    den = 0\n",
    "    for i in range(len(cand)):\n",
    "        ci, vi = bids[i], cand[i]\n",
    "        num += (np.power(ci,1-a)/v1) # MAYBE V2 instead of V1?!\n",
    "        den += (np.power(ci,-a))\n",
    "    return num / den"
   ]
  },
  {
   "cell_type": "code",
   "execution_count": 630,
   "metadata": {},
   "outputs": [
    {
     "data": {
      "text/plain": [
       "(array([ 1.,  4.,  9., 16., 25.]),\n",
       " array([ 6.38821323,  7.87627169, 13.93135   , 24.13685419, 37.5560592 ]))"
      ]
     },
     "execution_count": 630,
     "metadata": {},
     "output_type": "execute_result"
    }
   ],
   "source": [
    "bids = calcEquilBids(cands[-1], n=5, a=3, guess=[6., 7., 13., 24., 27.])\n",
    "cands[-1], bids"
   ]
  },
  {
   "cell_type": "code",
   "execution_count": 631,
   "metadata": {},
   "outputs": [
    {
     "data": {
      "text/plain": [
       "7.600053122618369"
      ]
     },
     "execution_count": 631,
     "metadata": {},
     "output_type": "execute_result"
    }
   ],
   "source": [
    "calcEquilPayment(cands[-1], bids, a)"
   ]
  },
  {
   "cell_type": "code",
   "execution_count": 632,
   "metadata": {},
   "outputs": [
    {
     "data": {
      "image/png": "[encoded data removed]",
      "text/plain": [
       "<Figure size 936x504 with 6 Axes>"
      ]
     },
     "metadata": {
      "needs_background": "light"
     },
     "output_type": "display_data"
    }
   ],
   "source": [
    "f, axarr = plt.subplots(nrows=2, ncols=3, figsize=(13,7))\n",
    "\n",
    "candNames = ['ones', 'linear', 'sqrt', 'one-high', 'one-low', 'square']\n",
    "for i, c in enumerate(cands):\n",
    "    row, col = i // 3, i % 3\n",
    "    \n",
    "    truthCost = calcTruthfulPayment(c, a=3)\n",
    "    if i == 5: # requires hand crafted init guess\n",
    "        bids = calcEquilBids(c, n=5, a=3, guess=[6., 7., 13., 24., 27.])\n",
    "    else:\n",
    "        bids = calcEquilBids(c, n=5, a=3)\n",
    "    for j in range(len(bids)):\n",
    "        if np.abs(bids[j]) > float(1e5):\n",
    "            bids[j] = 0\n",
    "    equilCost = calcEquilPayment(c, bids, a=3)\n",
    "    \n",
    "    axarr[row,col].plot(np.arange(n), c, color='mediumvioletred', alpha=1, \n",
    "                        label=r'true bids: $P_t/P_m$={:0.3f}'.format(truthCost), marker='o', fillstyle='full', \n",
    "                        linestyle='--', markersize=5)\n",
    "    axarr[row,col].plot(np.arange(n), bids, color='coral', alpha=1, \n",
    "                        label='equil bids: $P_e/P_m$={:0.3f}'.format(equilCost), marker='o', fillstyle='full', \n",
    "                        linestyle='-', markersize=5)\n",
    "\n",
    "    axarr[row,col].set_title(candNames[i], size=14)\n",
    "    axarr[row,col].legend()\n",
    "    axarr[row,col].grid(alpha=0.2)\n",
    "\n",
    "\n",
    "    \n",
    "axarr[0,0].set_ylabel('bid value', size=13)\n",
    "axarr[1,0].set_ylabel('bid value', size=13)\n",
    "axarr[1,0].set_xlabel('player', size=13)\n",
    "axarr[1,1].set_xlabel('player', size=13)\n",
    "axarr[1,2].set_xlabel('player', size=13)\n",
    "\n",
    "axarr[1,2].set_ylim(0, 50)\n",
    "\n",
    "\n",
    "plt.subplots_adjust(hspace=0.3)\n",
    "plt.savefig('out.png', dpi=400, bbox_inches='tight', facecolor='white')\n",
    "plt.show()"
   ]
  },
  {
   "cell_type": "markdown",
   "metadata": {},
   "source": [
    "# SYBIL proofness"
   ]
  },
  {
   "cell_type": "code",
   "execution_count": 10,
   "metadata": {},
   "outputs": [],
   "source": [
    "def getAllocs(bids, a=3):\n",
    "    denom = sum([1/(b**a) for b in bids])\n",
    "    return np.array(1/(bids**a)) / denom"
   ]
  },
  {
   "cell_type": "code",
   "execution_count": 11,
   "metadata": {},
   "outputs": [
    {
     "data": {
      "text/plain": [
       "array([9.66287915, 8.8109329 ])"
      ]
     },
     "execution_count": 11,
     "metadata": {},
     "output_type": "execute_result"
    }
   ],
   "source": [
    "bids = calcEquilBids([4, 2], n=2, a=3, guess=[4,2])\n",
    "bids"
   ]
  },
  {
   "cell_type": "code",
   "execution_count": 12,
   "metadata": {},
   "outputs": [
    {
     "data": {
      "text/plain": [
       "array([0.43121518, 0.56878482])"
      ]
     },
     "execution_count": 12,
     "metadata": {},
     "output_type": "execute_result"
    }
   ],
   "source": [
    "getAllocs(bids)"
   ]
  },
  {
   "cell_type": "code",
   "execution_count": 13,
   "metadata": {},
   "outputs": [
    {
     "data": {
      "text/plain": [
       "array([2.44191943, 3.87395527])"
      ]
     },
     "execution_count": 13,
     "metadata": {},
     "output_type": "execute_result"
    }
   ],
   "source": [
    "(bids-np.array([4,2]))*getAllocs(bids)"
   ]
  },
  {
   "cell_type": "code",
   "execution_count": 14,
   "metadata": {},
   "outputs": [
    {
     "data": {
      "text/plain": [
       "array([17.14797398, 17.14797398, 11.90077619])"
      ]
     },
     "execution_count": 14,
     "metadata": {},
     "output_type": "execute_result"
    }
   ],
   "source": [
    "bids = calcEquilBids([10, 10, 2], n=3, a=3, guess=[4,4,2])\n",
    "bids"
   ]
  },
  {
   "cell_type": "code",
   "execution_count": 15,
   "metadata": {},
   "outputs": [
    {
     "data": {
      "text/plain": [
       "array([0.20033406, 0.20033406, 0.59933188])"
      ]
     },
     "execution_count": 15,
     "metadata": {},
     "output_type": "execute_result"
    }
   ],
   "source": [
    "getAllocs(bids)"
   ]
  },
  {
   "cell_type": "code",
   "execution_count": 16,
   "metadata": {},
   "outputs": [
    {
     "data": {
      "text/plain": [
       "array([1.43198265, 1.43198265, 5.93385079])"
      ]
     },
     "execution_count": 16,
     "metadata": {},
     "output_type": "execute_result"
    }
   ],
   "source": [
    "out = (bids-np.array([10,10,2]))*getAllocs(bids)\n",
    "out"
   ]
  },
  {
   "cell_type": "code",
   "execution_count": 17,
   "metadata": {},
   "outputs": [
    {
     "data": {
      "text/plain": [
       "2.8639653066137463"
      ]
     },
     "execution_count": 17,
     "metadata": {},
     "output_type": "execute_result"
    }
   ],
   "source": [
    "out[0]*2"
   ]
  },
  {
   "cell_type": "code",
   "execution_count": 18,
   "metadata": {},
   "outputs": [],
   "source": [
    "# multiple copies of same bid"
   ]
  },
  {
   "cell_type": "code",
   "execution_count": 59,
   "metadata": {},
   "outputs": [
    {
     "data": {
      "text/plain": [
       "array([0.02855503, 0.02855503, 0.02855503, 0.02855503, 0.02855503,\n",
       "       0.02855503, 0.02855503, 0.02855503, 0.02855503, 0.02855503,\n",
       "       0.02855503, 0.02855503, 0.02855503, 0.02855503, 0.02855503,\n",
       "       0.02855503, 0.02855503, 0.02855503, 0.02855503, 0.02855503,\n",
       "       0.02855503, 0.02855503, 0.02855503, 0.02855503, 0.02855503,\n",
       "       0.02855503, 0.02855503, 0.02855503, 0.02855503, 0.171904  ])"
      ]
     },
     "execution_count": 59,
     "metadata": {},
     "output_type": "execute_result"
    }
   ],
   "source": [
    "n     = 30\n",
    "v     = [4]*n\n",
    "v[-1] = 2\n",
    "a     = 3\n",
    "\n",
    "vals = np.array(v)\n",
    "bids = calcEquilBids(vals, n=n, a=a, guess=v)\n",
    "allocs = getAllocs(bids)\n",
    "allocs"
   ]
  },
  {
   "cell_type": "code",
   "execution_count": 55,
   "metadata": {},
   "outputs": [
    {
     "data": {
      "text/plain": [
       "0.6121108012572647"
      ]
     },
     "execution_count": 55,
     "metadata": {},
     "output_type": "execute_result"
    }
   ],
   "source": [
    "sum(allocs[:-1])"
   ]
  },
  {
   "cell_type": "code",
   "execution_count": 64,
   "metadata": {},
   "outputs": [
    {
     "name": "stderr",
     "output_type": "stream",
     "text": [
      "100%|██████████| 48/48 [00:54<00:00,  1.13s/it]\n"
     ]
    },
    {
     "data": {
      "text/plain": [
       "array([0.43121518, 0.50848905, 0.55300005, 0.58578644, 0.6121108 ,\n",
       "       0.63419923, 0.6532406 , 0.66996007, 0.68483958, 0.69821917,\n",
       "       0.71034961, 0.72142214, 0.73158653, 0.74096262, 0.74964799,\n",
       "       0.75772333, 0.76525615, 0.77230356, 0.77891436, 0.78513056,\n",
       "       0.79098862, 0.79652035, 0.80175371, 0.80671339, 0.81142127,\n",
       "       0.81589688, 0.82015767, 0.82421933, 0.828096  , 0.83180044,\n",
       "       0.83534425, 0.83873797, 0.84199119, 0.84511271, 0.84811055,\n",
       "       0.85099212, 0.85376419, 0.85643303, 0.85900442, 0.8614837 ,\n",
       "       0.86387584, 0.86618543, 0.86841675, 0.87057378, 0.87266022,\n",
       "       0.87467954, 0.87663497, 0.87852954])"
      ]
     },
     "execution_count": 64,
     "metadata": {},
     "output_type": "execute_result"
    }
   ],
   "source": [
    "allocs1, allocs2 = [], []\n",
    "for i in tqdm(range(2,50)):\n",
    "    n     = i\n",
    "    v     = [4]*n\n",
    "    v[-1] = 2\n",
    "    a     = 3\n",
    "\n",
    "    vals = np.array(v)\n",
    "    bids = calcEquilBids(vals, n=n, a=a, guess=v)\n",
    "    allocs = getAllocs(bids)\n",
    "    allocs1.append(sum(allocs[:-1]))\n",
    "    allocs2.append(allocs[-1])\n",
    "allocs1 = np.array(allocs1)\n",
    "allocs2 = np.array(allocs2)\n",
    "allocs1"
   ]
  },
  {
   "cell_type": "code",
   "execution_count": 79,
   "metadata": {},
   "outputs": [
    {
     "name": "stderr",
     "output_type": "stream",
     "text": [
      "100%|██████████| 48/48 [01:09<00:00,  1.45s/it]\n"
     ]
    },
    {
     "data": {
      "text/plain": [
       "array([0.40770643, 0.49700594, 0.55000874, 0.58816019, 0.61795782,\n",
       "       0.6423377 , 0.6628997 , 0.68061924, 0.69613787, 0.70990138,\n",
       "       0.7222327 , 0.73337357, 0.74350981, 0.75278742, 0.76132323,\n",
       "       0.76921218, 0.77653252, 0.78334945, 0.7897179 , 0.79568456,\n",
       "       0.80128941, 0.80656701, 0.81154736, 0.8162567 , 0.8207181 ,\n",
       "       0.82495192, 0.82897625, 0.83280721, 0.83645923, 0.83994527,\n",
       "       0.843277  , 0.84646498, 0.84951878, 0.85244712, 0.85525793,\n",
       "       0.85795846, 0.86055536, 0.86305475, 0.86546222, 0.86778297,\n",
       "       0.87002177, 0.87218304, 0.8742709 , 0.87628915, 0.87824133,\n",
       "       0.88013074, 0.88196046, 0.88373335])"
      ]
     },
     "execution_count": 79,
     "metadata": {},
     "output_type": "execute_result"
    }
   ],
   "source": [
    "allocs1a4, allocs2a4 = [], []\n",
    "for i in tqdm(range(2,50)):\n",
    "    n     = i\n",
    "    v     = [4]*n\n",
    "    v[-1] = 2\n",
    "    a     = 4\n",
    "\n",
    "    vals = np.array(v)\n",
    "    bids = calcEquilBids(vals, n=n, a=a, guess=v)\n",
    "    allocs = getAllocs(bids)\n",
    "    allocs1a4.append(sum(allocs[:-1]))\n",
    "    allocs2a4.append(allocs[-1])\n",
    "allocs1a4 = np.array(allocs1a4)\n",
    "allocs2a4 = np.array(allocs2a4)\n",
    "allocs1a4"
   ]
  },
  {
   "cell_type": "code",
   "execution_count": 81,
   "metadata": {},
   "outputs": [
    {
     "name": "stderr",
     "output_type": "stream",
     "text": [
      "100%|██████████| 48/48 [01:41<00:00,  2.12s/it]\n"
     ]
    },
    {
     "data": {
      "text/plain": [
       "array([0.5446675 , 0.47434939, 0.43603821, 0.40740615, 0.38390519,\n",
       "       0.36378544, 0.34614494, 0.33043654, 0.31629311, 0.30345132,\n",
       "       0.29171321, 0.28092476, 0.27096298, 0.26172765, 0.25313574,\n",
       "       0.24511755, 0.23761388, 0.230574  , 0.22395405, 0.21771588,\n",
       "       0.21182604, 0.20625507, 0.20097689, 0.19596829, 0.19120855,\n",
       "       0.18667909, 0.18236319, 0.17824575, 0.17431311, 0.17055285,\n",
       "       0.16695369, 0.1635053 , 0.16019826, 0.15702392, 0.15397434,\n",
       "       0.15104221, 0.14822078, 0.14550383, 0.1428856 , 0.14036074,\n",
       "       0.13792429, 0.13557165, 0.13329853, 0.13110092, 0.1289751 ,\n",
       "       0.12691757, 0.12492507, 0.12299455])"
      ]
     },
     "execution_count": 81,
     "metadata": {},
     "output_type": "execute_result"
    }
   ],
   "source": [
    "allocs1a25, allocs2a25 = [], []\n",
    "for i in tqdm(range(2,50)):\n",
    "    n     = i\n",
    "    v     = [4]*n\n",
    "    v[-1] = 2\n",
    "    a     = 2.5\n",
    "\n",
    "    vals = np.array(v)\n",
    "    bids = calcEquilBids(vals, n=n, a=a, guess=v)\n",
    "    allocs = getAllocs(bids)\n",
    "    allocs1a25.append(sum(allocs[:-1]))\n",
    "    allocs2a25.append(allocs[-1])\n",
    "allocs1a25 = np.array(allocs1a25)\n",
    "allocs2a25 = np.array(allocs2a25)\n",
    "allocs2a25"
   ]
  },
  {
   "cell_type": "code",
   "execution_count": 83,
   "metadata": {},
   "outputs": [
    {
     "data": {
      "image/png": "[encoded data removed]",
      "text/plain": [
       "<Figure size 648x432 with 1 Axes>"
      ]
     },
     "metadata": {
      "needs_background": "light"
     },
     "output_type": "display_data"
    }
   ],
   "source": [
    "f, ax = plt.subplots(figsize=(9,6))\n",
    "\n",
    "ax.plot(np.arange(1,49), allocs1a25, color='darkturquoise', linewidth=2, label=r'Player 1 allo. ($\\alpha=2.5$)',\n",
    "        linestyle='dotted')\n",
    "ax.plot(np.arange(1,49), allocs1, color='darkturquoise', linewidth=2, label=r'Player 1 allo. ($\\alpha=3$)')\n",
    "ax.plot(np.arange(1,49), allocs1a4, color='darkturquoise', linewidth=2, label=r'Player 1 allo. ($\\alpha=4$)',\n",
    "        linestyle='dashed')\n",
    "\n",
    "ax.plot(np.arange(1,49), allocs2a25, color='darkred', linewidth=2, label=r'Player 2 allo. ($\\alpha=2.5$)',\n",
    "        linestyle='dotted')\n",
    "ax.plot(np.arange(1,49), allocs2, color='darkred', linewidth=2, label=r'Player 2 allo. ($\\alpha=3$)')\n",
    "ax.plot(np.arange(1,49), allocs2a4, color='darkred', linewidth=2, label=r'Player 2 allo. ($\\alpha=4$)',\n",
    "        linestyle='dashed')\n",
    "\n",
    "\n",
    "ax.set_xlabel('number of sybils', size=14)\n",
    "ax.set_ylabel('allocation proportion', size=14)\n",
    "ax.legend()\n",
    "ax.grid(alpha=0.2)\n",
    "plt.savefig('out.png', dpi=400, bbox_inches='tight', facecolor='white')\n",
    "plt.show()"
   ]
  },
  {
   "cell_type": "code",
   "execution_count": 63,
   "metadata": {},
   "outputs": [
    {
     "data": {
      "text/plain": [
       "[<matplotlib.lines.Line2D at 0x12e78f310>]"
      ]
     },
     "execution_count": 63,
     "metadata": {},
     "output_type": "execute_result"
    },
    {
     "data": {
      "image/png": "[encoded data removed]",
      "text/plain": [
       "<Figure size 432x288 with 1 Axes>"
      ]
     },
     "metadata": {
      "needs_background": "light"
     },
     "output_type": "display_data"
    }
   ],
   "source": [
    "plt.plot(allocs1)\n",
    "plt.plot(allocs2)"
   ]
  },
  {
   "cell_type": "code",
   "execution_count": 636,
   "metadata": {},
   "outputs": [
    {
     "data": {
      "text/plain": [
       "array([0.43121518, 0.56878482])"
      ]
     },
     "execution_count": 636,
     "metadata": {},
     "output_type": "execute_result"
    }
   ],
   "source": []
  },
  {
   "cell_type": "code",
   "execution_count": 638,
   "metadata": {},
   "outputs": [
    {
     "data": {
      "text/plain": [
       "array([2.44191943, 3.87395527])"
      ]
     },
     "execution_count": 638,
     "metadata": {},
     "output_type": "execute_result"
    }
   ],
   "source": [
    "(bids-np.array([4,2]))*getAllocs(bids)"
   ]
  },
  {
   "cell_type": "code",
   "execution_count": 659,
   "metadata": {},
   "outputs": [
    {
     "data": {
      "text/plain": [
       "array([17.14797398, 17.14797398, 11.90077619])"
      ]
     },
     "execution_count": 659,
     "metadata": {},
     "output_type": "execute_result"
    }
   ],
   "source": [
    "bids = calcEquilBids([10, 10, 2], n=3, a=3, guess=[4,4,2])\n",
    "bids"
   ]
  },
  {
   "cell_type": "code",
   "execution_count": 660,
   "metadata": {},
   "outputs": [
    {
     "data": {
      "text/plain": [
       "array([0.20033406, 0.20033406, 0.59933188])"
      ]
     },
     "execution_count": 660,
     "metadata": {},
     "output_type": "execute_result"
    }
   ],
   "source": [
    "getAllocs(bids)"
   ]
  },
  {
   "cell_type": "code",
   "execution_count": 663,
   "metadata": {},
   "outputs": [
    {
     "data": {
      "text/plain": [
       "array([1.43198265, 1.43198265, 5.93385079])"
      ]
     },
     "execution_count": 663,
     "metadata": {},
     "output_type": "execute_result"
    }
   ],
   "source": [
    "out = (bids-np.array([10,10,2]))*getAllocs(bids)\n",
    "out"
   ]
  },
  {
   "cell_type": "markdown",
   "metadata": {},
   "source": [
    "# gamma k"
   ]
  },
  {
   "cell_type": "code",
   "execution_count": 592,
   "metadata": {},
   "outputs": [],
   "source": [
    "def calcTruthfulPayment(values, a): # SAME AS TRUTHFUL WELFARE\n",
    "    v1 = np.min(values)\n",
    "    num = sum([np.power(vi,1-a)/v1 for vi in values])\n",
    "    den = sum([np.power(vi,-a) for vi in values])\n",
    "    return num/den"
   ]
  },
  {
   "cell_type": "code",
   "execution_count": 593,
   "metadata": {},
   "outputs": [],
   "source": [
    "def calcEquilBids(values, a, guess=None):\n",
    "    cs, vs, us = [], [], []\n",
    "    n = len(values)\n",
    "    for i in range(1,n+1):\n",
    "        c_i = sp.symbols('c_{}'.format(i))\n",
    "        v_i = sp.symbols('v_{}'.format(i))\n",
    "        cs.append(c_i)\n",
    "        vs.append(v_i)\n",
    "    denom = sum([(1/c)**a for c in cs])\n",
    "    for i in range(n):\n",
    "        u_i = (cs[i] - vs[i]) * (1/cs[i])**a / denom\n",
    "        us.append(u_i)\n",
    "\n",
    "    focs = []\n",
    "    for i in range(n):\n",
    "        parti = sp.diff(us[i], cs[i])\n",
    "        vi = vs[i]\n",
    "        focs.append(sp.lambdify(cs, parti.evalf(subs={vi: values[i]})))\n",
    "\n",
    "    def eqs(cs):\n",
    "        return [f(*cs) for f in focs]\n",
    "\n",
    "    initial_guess = values\n",
    "    if guess != None:\n",
    "        initial_guess = guess\n",
    "    return fsolve(eqs, initial_guess)"
   ]
  },
  {
   "cell_type": "code",
   "execution_count": 594,
   "metadata": {},
   "outputs": [],
   "source": [
    "def calcEquilWelfare(values, bids, a):\n",
    "    v1 = np.min(values)\n",
    "    num = 0\n",
    "    den = 0\n",
    "    for i in range(len(values)):\n",
    "        ci, vi = bids[i], values[i]\n",
    "        num += (vi*np.power(ci,-a)/v1)\n",
    "        den += (np.power(ci,-a))\n",
    "    return num / den"
   ]
  },
  {
   "cell_type": "code",
   "execution_count": 595,
   "metadata": {},
   "outputs": [],
   "source": [
    "def calcEquilPayment(values, bids, a):\n",
    "    v1 = np.min(values)\n",
    "    num = 0\n",
    "    den = 0\n",
    "    for i in range(len(values)):\n",
    "        ci, vi = bids[i], values[i]\n",
    "        num += (np.power(ci,1-a)/v1) # MAYBE V2 instead of V1?!\n",
    "        den += (np.power(ci,-a))\n",
    "    return num / den"
   ]
  },
  {
   "cell_type": "code",
   "execution_count": 596,
   "metadata": {},
   "outputs": [],
   "source": [
    "def getAllocs(bids, a):\n",
    "    denom = sum([1/(b**a) for b in bids])\n",
    "    return np.array(1/(bids**a)) / denom"
   ]
  },
  {
   "cell_type": "code",
   "execution_count": 597,
   "metadata": {},
   "outputs": [
    {
     "data": {
      "text/plain": [
       "([1.0, 2.0], array([2.02534868, 2.33196552]))"
      ]
     },
     "execution_count": 597,
     "metadata": {},
     "output_type": "execute_result"
    }
   ],
   "source": [
    "a     = 9\n",
    "k     = 1\n",
    "gamma = 0.5\n",
    "\n",
    "valuations = [1.]\n",
    "valuations.extend([1/gamma]*k)\n",
    "\n",
    "bids = calcEquilBids(valuations, a)\n",
    "valuations, bids"
   ]
  },
  {
   "cell_type": "code",
   "execution_count": 598,
   "metadata": {},
   "outputs": [
    {
     "data": {
      "text/plain": [
       "(array([0.78052467, 0.21947533]), array([0.99805068, 0.00194932]))"
      ]
     },
     "execution_count": 598,
     "metadata": {},
     "output_type": "execute_result"
    }
   ],
   "source": [
    "getAllocs(bids, a), getAllocs(np.array(valuations), a)"
   ]
  },
  {
   "cell_type": "code",
   "execution_count": 599,
   "metadata": {},
   "outputs": [
    {
     "data": {
      "text/plain": [
       "(array([-1., -2.]),\n",
       " array([0.99805068, 0.00194932]),\n",
       " -1.0019493177387915,\n",
       " 1.0019493177387915)"
      ]
     },
     "execution_count": 599,
     "metadata": {},
     "output_type": "execute_result"
    }
   ],
   "source": [
    "(\n",
    "    -np.array(valuations), getAllocs(np.array(valuations), a),\n",
    "    np.dot(-np.array(valuations), getAllocs(np.array(valuations), a)),\n",
    "    calcTruthfulPayment(valuations, a)\n",
    ")"
   ]
  },
  {
   "cell_type": "code",
   "execution_count": 600,
   "metadata": {},
   "outputs": [
    {
     "data": {
      "text/plain": [
       "(1.625, 0.6153846153846154, 0.07692307692307693)"
      ]
     },
     "execution_count": 600,
     "metadata": {},
     "output_type": "execute_result"
    }
   ],
   "source": [
    "1/1 + 5*(1/2**3), 1/(1/1 + 5*(1/2**3)), (1/2**3)/(1/1 + 5*(1/2**3))"
   ]
  },
  {
   "cell_type": "code",
   "execution_count": 601,
   "metadata": {},
   "outputs": [
    {
     "data": {
      "text/plain": [
       "(1.0019493177387915, 1.2194753322494334, 2.0926435138520345)"
      ]
     },
     "execution_count": 601,
     "metadata": {},
     "output_type": "execute_result"
    }
   ],
   "source": [
    "(\n",
    "    calcTruthfulPayment(valuations, a), \n",
    "    calcEquilWelfare(valuations, bids, a),\n",
    "    calcEquilPayment(valuations, bids, a),\n",
    ")"
   ]
  },
  {
   "cell_type": "code",
   "execution_count": 602,
   "metadata": {},
   "outputs": [
    {
     "data": {
      "text/plain": [
       "([1.0, 2.0], array([4.40546645, 4.83143957]))"
      ]
     },
     "execution_count": 602,
     "metadata": {},
     "output_type": "execute_result"
    }
   ],
   "source": [
    "a     = 3\n",
    "k     = 1\n",
    "gamma = 0.5\n",
    "\n",
    "valuations = [1.]\n",
    "valuations.extend([1/gamma]*k)\n",
    "\n",
    "bids = calcEquilBids(valuations, a)\n",
    "valuations, bids"
   ]
  },
  {
   "cell_type": "code",
   "execution_count": 603,
   "metadata": {},
   "outputs": [
    {
     "data": {
      "text/plain": [
       "(1.1111111111111112, 1.4312151766295675, 4.589152525645548)"
      ]
     },
     "execution_count": 603,
     "metadata": {},
     "output_type": "execute_result"
    }
   ],
   "source": [
    "(\n",
    "    calcTruthfulPayment(valuations, a), \n",
    "    calcEquilWelfare(valuations, bids, a),\n",
    "    calcEquilPayment(valuations, bids, a),\n",
    ")"
   ]
  },
  {
   "cell_type": "markdown",
   "metadata": {},
   "source": [
    "## \"multiple k\" plot"
   ]
  },
  {
   "cell_type": "code",
   "execution_count": 604,
   "metadata": {},
   "outputs": [
    {
     "name": "stderr",
     "output_type": "stream",
     "text": [
      "100%|██████████| 20/20 [00:06<00:00,  3.28it/s]\n",
      "100%|██████████| 20/20 [00:03<00:00,  5.15it/s]\n",
      "100%|██████████| 20/20 [00:03<00:00,  5.24it/s]\n"
     ]
    }
   ],
   "source": [
    "a = 3\n",
    "kTs, kEWs, kEPs = [], [], []\n",
    "for gamma in [1/2., 1/3., 1/4.]:\n",
    "    temp1, temp2, temp3 = [], [], []\n",
    "    for k in tqdm(range(1,21)):\n",
    "        valuations = [1.]\n",
    "        valuations.extend([1./gamma]*k)\n",
    "        bids = calcEquilBids(valuations, a, guess=valuations)\n",
    "        temp1.append(calcTruthfulPayment(valuations, a))\n",
    "        temp2.append(calcEquilWelfare(valuations, bids, a))\n",
    "        temp3.append(calcEquilPayment(valuations, bids, a))\n",
    "    kTs.append(temp1)\n",
    "    kEWs.append(temp2)\n",
    "    kEPs.append(temp3)\n",
    "kTs = np.asarray(kTs)\n",
    "kEWs = np.asarray(kEWs)\n",
    "kEPs = np.asarray(kEPs)"
   ]
  },
  {
   "cell_type": "code",
   "execution_count": 605,
   "metadata": {},
   "outputs": [
    {
     "data": {
      "text/plain": [
       "((3, 20), (3, 20), (3, 20))"
      ]
     },
     "execution_count": 605,
     "metadata": {},
     "output_type": "execute_result"
    }
   ],
   "source": [
    "kTs.shape, kEWs.shape, kEPs.shape"
   ]
  },
  {
   "cell_type": "code",
   "execution_count": 606,
   "metadata": {},
   "outputs": [
    {
     "data": {
      "image/png": "[encoded data removed]",
      "text/plain": [
       "<Figure size 1008x288 with 3 Axes>"
      ]
     },
     "metadata": {
      "needs_background": "light"
     },
     "output_type": "display_data"
    }
   ],
   "source": [
    "f, axarr = plt.subplots(ncols=3, figsize=(14,4))\n",
    "\n",
    "for i in range(3):\n",
    "    axarr[i].plot(np.arange(1,21), kEPs[i], label='Equil. Payments', marker='x', color='sienna', linewidth=0.4)\n",
    "    axarr[i].plot(np.arange(1,21), kEWs[i], label='Equil. Welfare Cost', marker='x', color='deepskyblue', linewidth=0.4)\n",
    "    axarr[i].plot(np.arange(1,21), kTs[i], label='Truthful Welfare Cost/Payments', marker='x', color='darkolivegreen', linewidth=0.4)\n",
    "    \n",
    "\n",
    "for ax in axarr:\n",
    "    ax.grid(alpha=0.3)\n",
    "    ax.legend()\n",
    "    ax.set_xlabel(r'$k$', size=15)\n",
    "    ax.set_ylim(1, 8)\n",
    "    \n",
    "axarr[0].set_ylabel('cost', size=15)\n",
    "axarr[0].set_title(r'$\\gamma=1/2$', size=18)\n",
    "axarr[1].set_title(r'$\\gamma=1/3$', size=18)\n",
    "axarr[2].set_title(r'$\\gamma=1/4$', size=18)\n",
    "\n",
    "# plt.savefig('out.png', dpi=400, bbox_inches='tight', facecolor='white')\n",
    "plt.show()"
   ]
  },
  {
   "cell_type": "markdown",
   "metadata": {},
   "source": [
    "## \"multiple gamma\" plot"
   ]
  },
  {
   "cell_type": "code",
   "execution_count": 167,
   "metadata": {},
   "outputs": [
    {
     "name": "stderr",
     "output_type": "stream",
     "text": [
      "100%|██████████| 17/17 [00:00<00:00, 37.71it/s]\n",
      "100%|██████████| 17/17 [00:02<00:00,  8.10it/s]\n",
      "100%|██████████| 17/17 [01:12<00:00,  4.25s/it]\n"
     ]
    }
   ],
   "source": [
    "a = 3\n",
    "kTs, kEWs, kEPs = [], [], []\n",
    "gammas = np.arange(0.2, 1.01, 0.05)\n",
    "for k in [2, 8, 64]:\n",
    "    temp1, temp2, temp3 = [], [], []\n",
    "    for gamma in tqdm(gammas):\n",
    "        valuations = [1.]\n",
    "        valuations.extend([1./gamma]*k)\n",
    "        bids = calcEquilBids(valuations, a, guess=valuations)\n",
    "        temp1.append(calcTruthfulPayment(valuations, a))\n",
    "        temp2.append(calcEquilWelfare(valuations, bids, a))\n",
    "        temp3.append(calcEquilPayment(valuations, bids, a))\n",
    "    kTs.append(temp1)\n",
    "    kEWs.append(temp2)\n",
    "    kEPs.append(temp3)\n",
    "kTs = np.asarray(kTs)\n",
    "kEWs = np.asarray(kEWs)\n",
    "kEPs = np.asarray(kEPs)"
   ]
  },
  {
   "cell_type": "code",
   "execution_count": 168,
   "metadata": {},
   "outputs": [
    {
     "data": {
      "text/plain": [
       "((3, 17), (3, 17), (3, 17))"
      ]
     },
     "execution_count": 168,
     "metadata": {},
     "output_type": "execute_result"
    }
   ],
   "source": [
    "kTs.shape, kEWs.shape, kEPs.shape"
   ]
  },
  {
   "cell_type": "code",
   "execution_count": 169,
   "metadata": {},
   "outputs": [
    {
     "data": {
      "image/png": "[encoded data removed]",
      "text/plain": [
       "<Figure size 1008x288 with 3 Axes>"
      ]
     },
     "metadata": {
      "needs_background": "light"
     },
     "output_type": "display_data"
    }
   ],
   "source": [
    "f, axarr = plt.subplots(ncols=3, figsize=(14,4))\n",
    "\n",
    "for i in range(3):\n",
    "    axarr[i].plot(gammas, kEPs[i], label='Equil. Payments', marker='x', \n",
    "                  color='sienna', linewidth=0.4)\n",
    "    axarr[i].plot(gammas, kEWs[i], label='Equil. Welfare Cost', marker='x', \n",
    "                  color='deepskyblue', linewidth=0.4)\n",
    "    axarr[i].plot(gammas, kTs[i], label='Truthful Welfare Cost/Payments', \n",
    "                  marker='x', color='darkolivegreen', linewidth=0.4)\n",
    "    \n",
    "for ax in axarr:\n",
    "    ax.grid(alpha=0.3)\n",
    "    ax.legend()\n",
    "    ax.set_xlabel(r'$\\gamma$', size=15)\n",
    "    ax.set_ylim(1, 7.2)\n",
    "    \n",
    "axarr[0].set_ylabel('cost', size=15)\n",
    "axarr[0].set_title(r'$k=2$', size=18)\n",
    "axarr[1].set_title(r'$k=8$', size=18)\n",
    "axarr[2].set_title(r'$k=32$', size=18)\n",
    "\n",
    "# plt.savefig('out.png', dpi=400, bbox_inches='tight', facecolor='white')\n",
    "plt.show()"
   ]
  },
  {
   "cell_type": "markdown",
   "metadata": {},
   "source": [
    "# 3d plot"
   ]
  },
  {
   "cell_type": "code",
   "execution_count": 607,
   "metadata": {},
   "outputs": [
    {
     "data": {
      "text/plain": [
       "(array([0.2 , 0.25, 0.3 , 0.35, 0.4 , 0.45, 0.5 , 0.55, 0.6 , 0.65, 0.7 ,\n",
       "        0.75, 0.8 , 0.85, 0.9 , 0.95, 1.  ]),\n",
       " array([ 1,  2,  3,  4,  5,  6,  7,  8,  9, 10, 11, 12, 13, 14, 15, 16, 17,\n",
       "        18, 19, 20]))"
      ]
     },
     "execution_count": 607,
     "metadata": {},
     "output_type": "execute_result"
    }
   ],
   "source": [
    "gammas = np.arange(0.2, 1.01, 0.05)\n",
    "ks     = np.arange(1,21)\n",
    "gammas, ks"
   ]
  },
  {
   "cell_type": "code",
   "execution_count": 608,
   "metadata": {},
   "outputs": [
    {
     "name": "stderr",
     "output_type": "stream",
     "text": [
      "100%|██████████| 20/20 [00:03<00:00,  5.10it/s]\n",
      "100%|██████████| 20/20 [00:03<00:00,  5.02it/s]\n",
      "100%|██████████| 20/20 [00:04<00:00,  4.64it/s]\n",
      "100%|██████████| 20/20 [00:05<00:00,  3.82it/s]\n",
      "100%|██████████| 20/20 [00:04<00:00,  4.35it/s]\n",
      "100%|██████████| 20/20 [00:04<00:00,  4.36it/s]\n",
      "100%|██████████| 20/20 [00:04<00:00,  4.76it/s]\n",
      "100%|██████████| 20/20 [00:04<00:00,  4.87it/s]\n",
      "100%|██████████| 20/20 [00:04<00:00,  4.59it/s]\n",
      "100%|██████████| 20/20 [00:03<00:00,  5.03it/s]\n",
      "100%|██████████| 20/20 [00:04<00:00,  4.98it/s]\n",
      "100%|██████████| 20/20 [00:03<00:00,  5.03it/s]\n",
      "100%|██████████| 20/20 [00:03<00:00,  5.07it/s]\n",
      "100%|██████████| 20/20 [00:03<00:00,  5.25it/s]\n",
      "100%|██████████| 20/20 [00:03<00:00,  5.23it/s]\n",
      "100%|██████████| 20/20 [00:03<00:00,  5.26it/s]\n",
      "100%|██████████| 20/20 [00:03<00:00,  5.26it/s]\n"
     ]
    },
    {
     "data": {
      "text/plain": [
       "(17, 20)"
      ]
     },
     "execution_count": 608,
     "metadata": {},
     "output_type": "execute_result"
    }
   ],
   "source": [
    "a = 3\n",
    "kTs, kEWs, kEPs = [], [], []\n",
    "for gamma in gammas:\n",
    "    temp1, temp2, temp3 = [], [], []\n",
    "    for k in tqdm(ks):\n",
    "        valuations = [1.]\n",
    "        valuations.extend([1./gamma]*k)\n",
    "        bids = calcEquilBids(valuations, a, guess=valuations)\n",
    "        temp1.append(calcTruthfulPayment(valuations, a))\n",
    "        temp2.append(calcEquilWelfare(valuations, bids, a))\n",
    "        temp3.append(calcEquilPayment(valuations, bids, a))\n",
    "    kTs.append(temp1)\n",
    "    kEWs.append(temp2)\n",
    "    kEPs.append(temp3)\n",
    "kTs = np.asarray(kTs)\n",
    "kEWs = np.asarray(kEWs)\n",
    "kEPs = np.asarray(kEPs)\n",
    "kTs.shape"
   ]
  },
  {
   "cell_type": "code",
   "execution_count": 609,
   "metadata": {},
   "outputs": [
    {
     "data": {
      "text/plain": [
       "((20, 17), (20, 17))"
      ]
     },
     "execution_count": 609,
     "metadata": {},
     "output_type": "execute_result"
    }
   ],
   "source": [
    "gammas, ks = np.meshgrid(gammas, ks)\n",
    "gammas.shape, ks.shape"
   ]
  },
  {
   "cell_type": "code",
   "execution_count": 610,
   "metadata": {},
   "outputs": [
    {
     "data": {
      "text/plain": [
       "(20, 17)"
      ]
     },
     "execution_count": 610,
     "metadata": {},
     "output_type": "execute_result"
    }
   ],
   "source": [
    "np.swapaxes(kTs,0,1).shape"
   ]
  },
  {
   "cell_type": "code",
   "execution_count": 623,
   "metadata": {},
   "outputs": [
    {
     "data": {
      "image/png": "[encoded data removed]",
      "text/plain": [
       "<Figure size 1008x360 with 3 Axes>"
      ]
     },
     "metadata": {
      "needs_background": "light"
     },
     "output_type": "display_data"
    }
   ],
   "source": [
    "f, axarr = plt.subplots(ncols=3, figsize=(14,5), subplot_kw={\"projection\": \"3d\"})\n",
    "\n",
    "axarr[0].plot_surface(gammas, ks, np.swapaxes(kTs,0,1), cmap=mpl.cm.coolwarm)\n",
    "axarr[1].plot_surface(gammas, ks, np.swapaxes(kEWs,0,1), cmap=mpl.cm.coolwarm)\n",
    "axarr[2].plot_surface(gammas, ks, np.swapaxes(kEPs,0,1), cmap=mpl.cm.coolwarm)\n",
    "    \n",
    "for ax in axarr:\n",
    "    ax.set_xlabel(r'$\\gamma$', size=15)\n",
    "    ax.set_ylabel(r'$k$', size=15)\n",
    "    ax.view_init(elev=20, azim=40)\n",
    "    \n",
    "axarr[0].set_title(r'Truthful Welfare Cost', size=16)\n",
    "axarr[1].set_title(r'Equilibrium Welfare Cost', size=16)\n",
    "axarr[2].set_title(r'Equilibrium Payments', size=16)\n",
    "\n",
    "plt.savefig('out.png', dpi=400, bbox_inches='tight', facecolor='white')\n",
    "plt.show()"
   ]
  },
  {
   "cell_type": "markdown",
   "metadata": {},
   "source": [
    "### sanity check some of these values"
   ]
  },
  {
   "cell_type": "code",
   "execution_count": 133,
   "metadata": {},
   "outputs": [
    {
     "data": {
      "text/plain": [
       "([1.0, 4.0, 4.0, 4.0, 4.0, 4.0, 4.0, 4.0, 4.0, 4.0, 4.0],\n",
       " array([2.89659143, 6.16535304, 6.16535304, 6.16535304, 6.16535304,\n",
       "        6.16535304, 6.16535304, 6.16535304, 6.16535304, 6.16535304,\n",
       "        6.16535304]))"
      ]
     },
     "execution_count": 133,
     "metadata": {},
     "output_type": "execute_result"
    }
   ],
   "source": [
    "# k = 10, gamma = 1/4\n",
    "\n",
    "a     = 3\n",
    "k     = 10\n",
    "gamma = 1/4\n",
    "\n",
    "valuations = [1.]\n",
    "valuations.extend([1./gamma]*k)\n",
    "bids = calcEquilBids(valuations, a)\n",
    "valuations, bids"
   ]
  },
  {
   "cell_type": "code",
   "execution_count": 135,
   "metadata": {},
   "outputs": [
    {
     "data": {
      "text/plain": [
       "[1.0, 4.0, 4.0, 4.0, 4.0, 4.0, 4.0, 4.0, 4.0, 4.0, 4.0]"
      ]
     },
     "execution_count": 135,
     "metadata": {},
     "output_type": "execute_result"
    }
   ],
   "source": [
    "# confirm bids with empirics\n",
    "a    = 3\n",
    "n    = 11\n",
    "vals = valuations\n",
    "init = vals\n",
    "vals"
   ]
  },
  {
   "cell_type": "code",
   "execution_count": 136,
   "metadata": {},
   "outputs": [],
   "source": [
    "cs = [sp.Symbol('c_{}'.format(i), positive=True) for i in range(1, n+1)]\n",
    "bids = [[init[i]] for i in range(n)]\n",
    "for turn in range(int(1000)):\n",
    "    i = turn % n\n",
    "    den = sum([1/(ci**a) for ci in cs])\n",
    "    xi = 1/(cs[i]**a) / den\n",
    "    ui = (cs[i]-vals[i])*xi\n",
    "    subs = {}\n",
    "    for j in range(n):\n",
    "        if j != i:\n",
    "            subs[cs[j]] = bids[j][-1]\n",
    "    funci = sp.lambdify([cs[i]], -ui.evalf(subs=subs))\n",
    "    bounds = ((0, 1000),)\n",
    "    sol = minimize(funci, (1.1), method='SLSQP', bounds=bounds).x[0]\n",
    "    curri = sol\n",
    "    bids[i].append(curri)"
   ]
  },
  {
   "cell_type": "code",
   "execution_count": 137,
   "metadata": {},
   "outputs": [
    {
     "data": {
      "text/plain": [
       "(2.8958922378466414, 6.163853886207302)"
      ]
     },
     "execution_count": 137,
     "metadata": {},
     "output_type": "execute_result"
    }
   ],
   "source": [
    "bids[0][-1], bids[-1][-1]"
   ]
  },
  {
   "cell_type": "markdown",
   "metadata": {},
   "source": [
    "NICE"
   ]
  },
  {
   "cell_type": "code",
   "execution_count": 145,
   "metadata": {},
   "outputs": [
    {
     "data": {
      "text/plain": [
       "(array([1., 4., 4., 4., 4., 4., 4., 4., 4., 4., 4.]),\n",
       " array([2.89659143, 6.16535304, 6.16535304, 6.16535304, 6.16535304,\n",
       "        6.16535304, 6.16535304, 6.16535304, 6.16535304, 6.16535304,\n",
       "        6.16535304]))"
      ]
     },
     "execution_count": 145,
     "metadata": {},
     "output_type": "execute_result"
    }
   ],
   "source": [
    "# lets check the values now\n",
    "bids = calcEquilBids(valuations, a)\n",
    "valuations = np.array(valuations)\n",
    "valuations, bids"
   ]
  },
  {
   "cell_type": "code",
   "execution_count": 146,
   "metadata": {},
   "outputs": [
    {
     "data": {
      "text/plain": [
       "array([0.86486486, 0.01351351, 0.01351351, 0.01351351, 0.01351351,\n",
       "       0.01351351, 0.01351351, 0.01351351, 0.01351351, 0.01351351,\n",
       "       0.01351351])"
      ]
     },
     "execution_count": 146,
     "metadata": {},
     "output_type": "execute_result"
    }
   ],
   "source": [
    "getAllocs(valuations, a=3)"
   ]
  },
  {
   "cell_type": "code",
   "execution_count": 151,
   "metadata": {},
   "outputs": [
    {
     "data": {
      "text/plain": [
       "(-1.4054054054054048, 1.4054054054054055)"
      ]
     },
     "execution_count": 151,
     "metadata": {},
     "output_type": "execute_result"
    }
   ],
   "source": [
    "# truthful case = alloc depends on valuations\n",
    "np.dot(-valuations, getAllocs(valuations, a=3)), kTs[2][9]"
   ]
  },
  {
   "cell_type": "markdown",
   "metadata": {},
   "source": [
    "looks good"
   ]
  },
  {
   "cell_type": "code",
   "execution_count": 154,
   "metadata": {},
   "outputs": [
    {
     "data": {
      "text/plain": [
       "array([0.49091277, 0.05090872, 0.05090872, 0.05090872, 0.05090872,\n",
       "       0.05090872, 0.05090872, 0.05090872, 0.05090872, 0.05090872,\n",
       "       0.05090872])"
      ]
     },
     "execution_count": 154,
     "metadata": {},
     "output_type": "execute_result"
    }
   ],
   "source": [
    "getAllocs(bids, a=3)"
   ]
  },
  {
   "cell_type": "code",
   "execution_count": 152,
   "metadata": {},
   "outputs": [
    {
     "data": {
      "text/plain": [
       "(4.5606762200406035, 4.560676220040603)"
      ]
     },
     "execution_count": 152,
     "metadata": {},
     "output_type": "execute_result"
    }
   ],
   "source": [
    "# payments case = alloc depends on bids\n",
    "np.dot(bids, getAllocs(bids, a=3)), kEPs[2][9]"
   ]
  },
  {
   "cell_type": "code",
   "execution_count": 153,
   "metadata": {},
   "outputs": [
    {
     "data": {
      "text/plain": [
       "(2.5272616892294932, 2.5272616892294937)"
      ]
     },
     "execution_count": 153,
     "metadata": {},
     "output_type": "execute_result"
    }
   ],
   "source": [
    "# welfare case = alloc depends on bids\n",
    "np.dot(valuations, getAllocs(bids, a=3)), kEWs[2][9]"
   ]
  },
  {
   "cell_type": "markdown",
   "metadata": {},
   "source": [
    "# fairness"
   ]
  },
  {
   "cell_type": "code",
   "execution_count": 9,
   "metadata": {},
   "outputs": [
    {
     "data": {
      "text/latex": [
       "$\\displaystyle \\frac{v_{2}^{- \\alpha}}{v_{2}^{- \\alpha} + v_{1}^{- \\alpha}}$"
      ],
      "text/plain": [
       "1/(v_2**alpha*(v_2**(-alpha) + v_1**(-alpha)))"
      ]
     },
     "execution_count": 9,
     "metadata": {},
     "output_type": "execute_result"
    }
   ],
   "source": [
    "v1, v2, a, e = sp.symbols('v_1 v_2 alpha epsilon')\n",
    "\n",
    "y1 = v1**(-(a+e)) / (v1**(-(a+e)) + v2**(-(a+e)))\n",
    "x1 = v1**(-a) / (v1**(-a) + v2**(-a))\n",
    "\n",
    "y2 = v2**(-(a+e)) / (v1**(-(a+e)) + v2**(-(a+e)))\n",
    "x2 = v2**(-a) / (v1**(-a) + v2**(-a))\n",
    "x2"
   ]
  },
  {
   "cell_type": "code",
   "execution_count": 12,
   "metadata": {},
   "outputs": [
    {
     "data": {
      "text/latex": [
       "$\\displaystyle v_{1}^{\\alpha} \\left(v_{2}^{- \\alpha} + v_{1}^{- \\alpha}\\right) \\left(\\frac{v_{1}^{- \\alpha - \\epsilon}}{v_{1}^{- \\alpha - \\epsilon} + v_{2}^{- \\alpha - \\epsilon}} - \\frac{v_{1}^{- \\alpha}}{v_{2}^{- \\alpha} + v_{1}^{- \\alpha}}\\right)$"
      ],
      "text/plain": [
       "v_1**alpha*(v_2**(-alpha) + v_1**(-alpha))*(v_1**(-alpha - epsilon)/(v_1**(-alpha - epsilon) + v_2**(-alpha - epsilon)) - 1/(v_1**alpha*(v_2**(-alpha) + v_1**(-alpha))))"
      ]
     },
     "execution_count": 12,
     "metadata": {},
     "output_type": "execute_result"
    }
   ],
   "source": [
    "(y1-x1)/x1"
   ]
  },
  {
   "cell_type": "code",
   "execution_count": 11,
   "metadata": {},
   "outputs": [
    {
     "data": {
      "text/latex": [
       "$\\displaystyle \\frac{v_{2}^{- \\alpha} \\left(v_{1}^{- \\alpha - \\epsilon} \\left(v_{1}^{\\alpha} + v_{2}^{\\alpha}\\right) - v_{2}^{\\alpha} \\left(v_{1}^{- \\alpha - \\epsilon} + v_{2}^{- \\alpha - \\epsilon}\\right)\\right)}{v_{1}^{- \\alpha - \\epsilon} + v_{2}^{- \\alpha - \\epsilon}}$"
      ],
      "text/plain": [
       "(v_1**(-alpha - epsilon)*(v_1**alpha + v_2**alpha) - v_2**alpha*(v_1**(-alpha - epsilon) + v_2**(-alpha - epsilon)))/(v_2**alpha*(v_1**(-alpha - epsilon) + v_2**(-alpha - epsilon)))"
      ]
     },
     "execution_count": 11,
     "metadata": {},
     "output_type": "execute_result"
    }
   ],
   "source": [
    "sp.simplify((y1-x1)/x1)"
   ]
  },
  {
   "cell_type": "code",
   "execution_count": 13,
   "metadata": {},
   "outputs": [
    {
     "data": {
      "text/latex": [
       "$\\displaystyle \\frac{v_{1}^{- \\alpha} \\left(- v_{1}^{\\alpha} \\left(v_{1}^{- \\alpha - \\epsilon} + v_{2}^{- \\alpha - \\epsilon}\\right) + v_{2}^{- \\alpha - \\epsilon} \\left(v_{1}^{\\alpha} + v_{2}^{\\alpha}\\right)\\right)}{v_{1}^{- \\alpha - \\epsilon} + v_{2}^{- \\alpha - \\epsilon}}$"
      ],
      "text/plain": [
       "(-v_1**alpha*(v_1**(-alpha - epsilon) + v_2**(-alpha - epsilon)) + v_2**(-alpha - epsilon)*(v_1**alpha + v_2**alpha))/(v_1**alpha*(v_1**(-alpha - epsilon) + v_2**(-alpha - epsilon)))"
      ]
     },
     "execution_count": 13,
     "metadata": {},
     "output_type": "execute_result"
    }
   ],
   "source": [
    "sp.simplify((y2-x2)/x2)"
   ]
  },
  {
   "cell_type": "code",
   "execution_count": 16,
   "metadata": {},
   "outputs": [
    {
     "data": {
      "text/latex": [
       "$\\displaystyle \\frac{v_{1}^{- \\alpha} v_{2}^{- \\alpha} \\left(v_{1}^{\\alpha} \\left(v_{1}^{- \\alpha - \\epsilon} \\left(v_{1}^{\\alpha} + v_{2}^{\\alpha}\\right) - v_{2}^{\\alpha} \\left(v_{1}^{- \\alpha - \\epsilon} + v_{2}^{- \\alpha - \\epsilon}\\right)\\right) + v_{2}^{\\alpha} \\left(- v_{1}^{\\alpha} \\left(v_{1}^{- \\alpha - \\epsilon} + v_{2}^{- \\alpha - \\epsilon}\\right) + v_{2}^{- \\alpha - \\epsilon} \\left(v_{1}^{\\alpha} + v_{2}^{\\alpha}\\right)\\right)\\right)}{v_{1}^{- \\alpha - \\epsilon} + v_{2}^{- \\alpha - \\epsilon}}$"
      ],
      "text/plain": [
       "(v_1**alpha*(v_1**(-alpha - epsilon)*(v_1**alpha + v_2**alpha) - v_2**alpha*(v_1**(-alpha - epsilon) + v_2**(-alpha - epsilon))) + v_2**alpha*(-v_1**alpha*(v_1**(-alpha - epsilon) + v_2**(-alpha - epsilon)) + v_2**(-alpha - epsilon)*(v_1**alpha + v_2**alpha)))/(v_1**alpha*v_2**alpha*(v_1**(-alpha - epsilon) + v_2**(-alpha - epsilon)))"
      ]
     },
     "execution_count": 16,
     "metadata": {},
     "output_type": "execute_result"
    }
   ],
   "source": [
    "sp.simplify(sp.simplify((y1-x1)/x1)+sp.simplify((y2-x2)/x2))"
   ]
  },
  {
   "cell_type": "code",
   "execution_count": 33,
   "metadata": {},
   "outputs": [
    {
     "data": {
      "text/latex": [
       "$\\displaystyle -0.00415023629300472$"
      ],
      "text/plain": [
       "-0.00415023629300472"
      ]
     },
     "execution_count": 33,
     "metadata": {},
     "output_type": "execute_result"
    }
   ],
   "source": [
    "out = sp.simplify(sp.simplify((y1-x1)/x1)+sp.simplify((y2-x2)/x2))\n",
    "out.evalf(subs={a:2, e:0.01, v1:4, v2:2})"
   ]
  },
  {
   "cell_type": "code",
   "execution_count": 34,
   "metadata": {},
   "outputs": [
    {
     "name": "stdout",
     "output_type": "stream",
     "text": [
      "\\frac{v_{1}^{- \\alpha} v_{2}^{- \\alpha} \\left(v_{1}^{\\alpha} \\left(v_{1}^{- \\alpha - \\epsilon} \\left(v_{1}^{\\alpha} + v_{2}^{\\alpha}\\right) - v_{2}^{\\alpha} \\left(v_{1}^{- \\alpha - \\epsilon} + v_{2}^{- \\alpha - \\epsilon}\\right)\\right) + v_{2}^{\\alpha} \\left(- v_{1}^{\\alpha} \\left(v_{1}^{- \\alpha - \\epsilon} + v_{2}^{- \\alpha - \\epsilon}\\right) + v_{2}^{- \\alpha - \\epsilon} \\left(v_{1}^{\\alpha} + v_{2}^{\\alpha}\\right)\\right)\\right)}{v_{1}^{- \\alpha - \\epsilon} + v_{2}^{- \\alpha - \\epsilon}}\n"
     ]
    }
   ],
   "source": [
    "print_latex(out)"
   ]
  },
  {
   "cell_type": "code",
   "execution_count": 37,
   "metadata": {},
   "outputs": [
    {
     "data": {
      "text/latex": [
       "$\\displaystyle v_{1}^{\\alpha} \\left(v_{1}^{- \\alpha - \\epsilon} \\left(v_{1}^{\\alpha} + v_{2}^{\\alpha}\\right) - v_{2}^{\\alpha} \\left(v_{1}^{- \\alpha - \\epsilon} + v_{2}^{- \\alpha - \\epsilon}\\right)\\right)$"
      ],
      "text/plain": [
       "v_1**alpha*(v_1**(-alpha - epsilon)*(v_1**alpha + v_2**alpha) - v_2**alpha*(v_1**(-alpha - epsilon) + v_2**(-alpha - epsilon)))"
      ]
     },
     "execution_count": 37,
     "metadata": {},
     "output_type": "execute_result"
    }
   ],
   "source": [
    "expr1 = v1**a * (v1**(-a-e)*(v1**a + v2**a) - v2**a * (v1**(-a-e) + v2**(-a-e)))\n",
    "expr1"
   ]
  },
  {
   "cell_type": "code",
   "execution_count": 38,
   "metadata": {},
   "outputs": [
    {
     "data": {
      "text/latex": [
       "$\\displaystyle v_{1}^{\\alpha} \\left(- v_{2}^{- \\epsilon} + v_{1}^{- \\epsilon}\\right)$"
      ],
      "text/plain": [
       "v_1**alpha*(-1/v_2**epsilon + v_1**(-epsilon))"
      ]
     },
     "execution_count": 38,
     "metadata": {},
     "output_type": "execute_result"
    }
   ],
   "source": [
    "sp.simplify(expr1)"
   ]
  },
  {
   "cell_type": "code",
   "execution_count": 41,
   "metadata": {},
   "outputs": [
    {
     "data": {
      "text/latex": [
       "$\\displaystyle v_{2}^{\\alpha} \\left(- v_{1}^{\\alpha} \\left(v_{1}^{- \\alpha - \\epsilon} + v_{2}^{- \\alpha - \\epsilon}\\right) + v_{2}^{- \\alpha - \\epsilon} \\left(v_{1}^{\\alpha} + v_{2}^{\\alpha}\\right)\\right)$"
      ],
      "text/plain": [
       "v_2**alpha*(-v_1**alpha*(v_1**(-alpha - epsilon) + v_2**(-alpha - epsilon)) + v_2**(-alpha - epsilon)*(v_1**alpha + v_2**alpha))"
      ]
     },
     "execution_count": 41,
     "metadata": {},
     "output_type": "execute_result"
    }
   ],
   "source": [
    "expr2 = v2**a*(v2**(-a-e)*(v1**a+v2**a) - v1**a*(v1**(-a-e)+v2**(-a-e)))\n",
    "expr2"
   ]
  },
  {
   "cell_type": "code",
   "execution_count": 42,
   "metadata": {},
   "outputs": [
    {
     "data": {
      "text/latex": [
       "$\\displaystyle v_{2}^{\\alpha} \\left(v_{2}^{- \\epsilon} - v_{1}^{- \\epsilon}\\right)$"
      ],
      "text/plain": [
       "v_2**alpha*(v_2**(-epsilon) - 1/v_1**epsilon)"
      ]
     },
     "execution_count": 42,
     "metadata": {},
     "output_type": "execute_result"
    }
   ],
   "source": [
    "sp.simplify(expr2)"
   ]
  },
  {
   "cell_type": "code",
   "execution_count": 45,
   "metadata": {},
   "outputs": [
    {
     "data": {
      "text/latex": [
       "$\\displaystyle v_{1}^{\\alpha} \\left(- v_{2}^{- \\epsilon} + v_{1}^{- \\epsilon}\\right) + v_{2}^{\\alpha} \\left(v_{2}^{- \\epsilon} - v_{1}^{- \\epsilon}\\right)$"
      ],
      "text/plain": [
       "v_1**alpha*(-1/v_2**epsilon + v_1**(-epsilon)) + v_2**alpha*(v_2**(-epsilon) - 1/v_1**epsilon)"
      ]
     },
     "execution_count": 45,
     "metadata": {},
     "output_type": "execute_result"
    }
   ],
   "source": [
    "sp.simplify(expr1) + sp.simplify(expr2)"
   ]
  },
  {
   "cell_type": "code",
   "execution_count": 52,
   "metadata": {},
   "outputs": [
    {
     "data": {
      "text/plain": [
       "(-0.439026620395311, 0.0548783275494138)"
      ]
     },
     "execution_count": 52,
     "metadata": {},
     "output_type": "execute_result"
    }
   ],
   "source": [
    "expr1.evalf(subs={v1:4, v2:2, a:3, e:0.01}), expr2.evalf(subs={v1:4, v2:2, a:3, e:0.01})"
   ]
  },
  {
   "cell_type": "code",
   "execution_count": 53,
   "metadata": {},
   "outputs": [
    {
     "data": {
      "text/plain": [
       "(0.0548783275494138, -0.439026620395311)"
      ]
     },
     "execution_count": 53,
     "metadata": {},
     "output_type": "execute_result"
    }
   ],
   "source": [
    "expr1.evalf(subs={v1:2, v2:4, a:3, e:0.01}), expr2.evalf(subs={v1:2, v2:4, a:3, e:0.01})"
   ]
  },
  {
   "cell_type": "markdown",
   "metadata": {},
   "source": [
    "# playing around with getting explicit bounds"
   ]
  },
  {
   "cell_type": "code",
   "execution_count": 88,
   "metadata": {},
   "outputs": [
    {
     "data": {
      "text/plain": [
       "([1.0, 2.0], array([2.02534868, 2.33196552]))"
      ]
     },
     "execution_count": 88,
     "metadata": {},
     "output_type": "execute_result"
    }
   ],
   "source": [
    "# k = 10, gamma = 1/4\n",
    "a     = 3\n",
    "k     = 1\n",
    "gamma = 1/2\n",
    "\n",
    "valuations = [1.]\n",
    "valuations.extend([1./gamma]*k)\n",
    "bids = calcEquilBids(valuations, a)\n",
    "valuations, bids"
   ]
  },
  {
   "cell_type": "code",
   "execution_count": 145,
   "metadata": {},
   "outputs": [
    {
     "data": {
      "text/plain": [
       "[1.0, 2.0]"
      ]
     },
     "execution_count": 145,
     "metadata": {},
     "output_type": "execute_result"
    }
   ],
   "source": [
    "# confirm bids with empirics\n",
    "a    = 9\n",
    "n    = 2\n",
    "vals = valuations\n",
    "init = vals\n",
    "vals"
   ]
  },
  {
   "cell_type": "code",
   "execution_count": 151,
   "metadata": {},
   "outputs": [],
   "source": [
    "cs = [sp.Symbol('c_{}'.format(i), positive=True) for i in range(1, n+1)]\n",
    "bids = [[init[i]] for i in range(n)]\n",
    "for turn in range(int(500)):\n",
    "    i = turn % n\n",
    "    den = sum([1/(ci**a) for ci in cs])\n",
    "    xi = 1/(cs[i]**a) / den\n",
    "    ui = (cs[i]-vals[i])*xi\n",
    "    subs = {}\n",
    "    for j in range(n):\n",
    "        if j != i:\n",
    "            subs[cs[j]] = bids[j][-1]\n",
    "    funci = sp.lambdify([cs[i]], -ui.evalf(subs=subs))\n",
    "    bounds = ((0, 1000),)\n",
    "    sol = minimize(funci, (1.1), method='SLSQP', bounds=bounds).x[0]\n",
    "    curri = sol\n",
    "    bids[i].append(curri)"
   ]
  },
  {
   "cell_type": "code",
   "execution_count": 152,
   "metadata": {},
   "outputs": [
    {
     "data": {
      "text/plain": [
       "(2.0243178864702696, 2.3306213742231128, array([0.78042059, 0.21957941]))"
      ]
     },
     "execution_count": 152,
     "metadata": {},
     "output_type": "execute_result"
    }
   ],
   "source": [
    "bids[0][-1], bids[-1][-1], getAllocs(np.array([bids[0][-1], bids[-1][-1]]), a=a)"
   ]
  },
  {
   "cell_type": "code",
   "execution_count": 204,
   "metadata": {},
   "outputs": [
    {
     "data": {
      "text/latex": [
       "$\\displaystyle \\frac{c_{1}^{3} \\left(c_{1}^{3} - 2 c_{2}^{3} + 3 c_{2}^{2} v_{2}\\right)}{c_{1}^{6} + 2 c_{1}^{3} c_{2}^{3} + c_{2}^{6}}$"
      ],
      "text/plain": [
       "c_1**3*(c_1**3 - 2*c_2**3 + 3*c_2**2*v_2)/(c_1**6 + 2*c_1**3*c_2**3 + c_2**6)"
      ]
     },
     "execution_count": 204,
     "metadata": {},
     "output_type": "execute_result"
    }
   ],
   "source": [
    "c1, c2 = sp.symbols('c_1 c_2', positive=True)\n",
    "v1, v2 = sp.symbols('v_1 v_2', positive=True)\n",
    "a      = 3\n",
    "\n",
    "u1 = (c1-v1)*(c1**(-a)/(c1**(-a)+c2**(-a)))\n",
    "u2 = (c2-v2)*(c2**(-a)/(c1**(-a)+c2**(-a)))\n",
    "\n",
    "part1 = sp.diff(u1, c1)\n",
    "part2 = sp.diff(u2, c2)\n",
    "sp.simplify(part2)"
   ]
  },
  {
   "cell_type": "code",
   "execution_count": 205,
   "metadata": {},
   "outputs": [
    {
     "data": {
      "text/latex": [
       "$\\displaystyle c_{1}^{3} \\left(c_{1}^{3} - 2 c_{2}^{3} + 3 c_{2}^{2} v_{2}\\right)$"
      ],
      "text/plain": [
       "c_1**3*(c_1**3 - 2*c_2**3 + 3*c_2**2*v_2)"
      ]
     },
     "execution_count": 205,
     "metadata": {},
     "output_type": "execute_result"
    }
   ],
   "source": [
    "p1 = sp.fraction(sp.simplify(part1))[0]\n",
    "p2 = sp.fraction(sp.simplify(part2))[0]\n",
    "p2"
   ]
  },
  {
   "cell_type": "code",
   "execution_count": 206,
   "metadata": {},
   "outputs": [
    {
     "data": {
      "text/plain": [
       "(-0.000255709570348821, 0.000116207132571899)"
      ]
     },
     "execution_count": 206,
     "metadata": {},
     "output_type": "execute_result"
    }
   ],
   "source": [
    "p1.evalf(subs={c1:9.66287915, c2:8.8109329, v1:4}), p2.evalf(subs={c1:9.66287915, c2:8.8109329, v2:2})"
   ]
  },
  {
   "cell_type": "code",
   "execution_count": 212,
   "metadata": {},
   "outputs": [
    {
     "data": {
      "text/plain": [
       "[]"
      ]
     },
     "execution_count": 212,
     "metadata": {},
     "output_type": "execute_result"
    }
   ],
   "source": [
    "sp.solve([sp.Eq(p1, 0), sp.Eq(p2, 0)], (c1, c2))"
   ]
  },
  {
   "cell_type": "code",
   "execution_count": 182,
   "metadata": {},
   "outputs": [],
   "source": [
    "foc1 = part1.evalf(subs={v1:4})\n",
    "foc2 = part2.evalf(subs={v2:2})\n",
    "focs = [\n",
    "    sp.lambdify((c1,c2), foc1),\n",
    "    sp.lambdify((c1,c2), foc2)\n",
    "]"
   ]
  },
  {
   "cell_type": "code",
   "execution_count": 183,
   "metadata": {},
   "outputs": [],
   "source": [
    "def eqs(cs):\n",
    "    return [f(*cs) for f in focs]"
   ]
  },
  {
   "cell_type": "code",
   "execution_count": 184,
   "metadata": {},
   "outputs": [
    {
     "data": {
      "text/plain": [
       "array([9.66287915, 8.8109329 ])"
      ]
     },
     "execution_count": 184,
     "metadata": {},
     "output_type": "execute_result"
    }
   ],
   "source": [
    "fsolve(eqs, np.array([4,2]))"
   ]
  },
  {
   "cell_type": "code",
   "execution_count": 131,
   "metadata": {},
   "outputs": [
    {
     "data": {
      "text/latex": [
       "$\\displaystyle 0.296296296296296 v_{2} + 0.592592592592593$"
      ],
      "text/plain": [
       "0.296296296296296*v_2 + 0.592592592592593"
      ]
     },
     "execution_count": 131,
     "metadata": {},
     "output_type": "execute_result"
    }
   ],
   "source": [
    "# now invert it, sub the min and max bids and then find gamma\n",
    "cMax = 2\n",
    "cMin = 1\n",
    "inv1 = part1.evalf(subs={c1:cMax, c2: cMin})\n",
    "inv2 = part2.evalf(subs={c1:cMax, c2: cMin})\n",
    "inv2"
   ]
  },
  {
   "cell_type": "code",
   "execution_count": 142,
   "metadata": {},
   "outputs": [
    {
     "data": {
      "text/plain": [
       "[-2.00000000000000]"
      ]
     },
     "execution_count": 142,
     "metadata": {},
     "output_type": "execute_result"
    }
   ],
   "source": [
    "sp.solve(inv2)"
   ]
  },
  {
   "cell_type": "code",
   "execution_count": null,
   "metadata": {},
   "outputs": [],
   "source": [
    "# fix v1 based on the value at which their "
   ]
  },
  {
   "cell_type": "code",
   "execution_count": 133,
   "metadata": {},
   "outputs": [
    {
     "data": {
      "text/latex": [
       "$\\displaystyle 0.148148148148148 v_{1} - 0.185185185185185 = 0.296296296296296 v_{2} + 0.592592592592593$"
      ],
      "text/plain": [
       "Eq(0.148148148148148*v_1 - 0.185185185185185, 0.296296296296296*v_2 + 0.592592592592593)"
      ]
     },
     "execution_count": 133,
     "metadata": {},
     "output_type": "execute_result"
    }
   ],
   "source": [
    "ssp.Eq(inv1, inv2)"
   ]
  },
  {
   "cell_type": "markdown",
   "metadata": {},
   "source": [
    "# reservation bids"
   ]
  },
  {
   "cell_type": "code",
   "execution_count": 401,
   "metadata": {},
   "outputs": [
    {
     "data": {
      "text/plain": [
       "([4.0, 2.0], array([4.66393105, 4.05069736]), array([0.21947533, 0.78052467]))"
      ]
     },
     "execution_count": 401,
     "metadata": {},
     "output_type": "execute_result"
    }
   ],
   "source": [
    "a     = 9\n",
    "costs = [4., 2.]\n",
    "bids = calcEquilBids(costs, a)\n",
    "costs, bids, getAllocs(bids, a)"
   ]
  },
  {
   "cell_type": "code",
   "execution_count": 26,
   "metadata": {},
   "outputs": [
    {
     "data": {
      "text/plain": [
       "[4.0, 2.0]"
      ]
     },
     "execution_count": 26,
     "metadata": {},
     "output_type": "execute_result"
    }
   ],
   "source": [
    "# confirm bids with empirics\n",
    "a    = 3\n",
    "n    = 2\n",
    "vals = costs\n",
    "init = vals\n",
    "vals"
   ]
  },
  {
   "cell_type": "code",
   "execution_count": 55,
   "metadata": {},
   "outputs": [
    {
     "name": "stderr",
     "output_type": "stream",
     "text": [
      "100%|██████████| 70/70 [00:11<00:00,  6.35it/s]\n"
     ]
    }
   ],
   "source": [
    "c1, c2 = 4, 2\n",
    "curr1, curr2 = 1, 1\n",
    "a = 3\n",
    "\n",
    "b1 = sp.Symbol('b1')\n",
    "b2 = sp.Symbol('b2')\n",
    "\n",
    "p1Bids11, p2Bids11 = [curr1], [curr2]\n",
    "turn = 0\n",
    "for turn in tqdm(range(70)):\n",
    "    if turn % 2 == 0:\n",
    "        x1 = 1/(b1**a) / (1/(b1**a) + 1/(b2**a))\n",
    "        u1 = (b1-c1)*x1\n",
    "        partial = sp.diff(u1, b1)\n",
    "        best = sp.Eq(partial, 0).evalf(subs={b2:curr2})\n",
    "        sol = sp.solve(best)[0]\n",
    "        curr1 = sol\n",
    "        p1Bids11.append(curr1)\n",
    "    else:\n",
    "        x2 = 1/(b2**a) / (1/(b1**a) + 1/(b2**a))\n",
    "        u2 = (b2-c2)*x2\n",
    "        partial = sp.diff(u2, b2)\n",
    "        best = sp.Eq(partial, 0).evalf(subs={b1:curr1})\n",
    "        sol = sp.solve(best)[0]\n",
    "        curr2 = sol\n",
    "        p2Bids11.append(curr2)"
   ]
  },
  {
   "cell_type": "code",
   "execution_count": 56,
   "metadata": {},
   "outputs": [
    {
     "data": {
      "text/plain": [
       "(9.66287914270080, 8.81093289467926)"
      ]
     },
     "execution_count": 56,
     "metadata": {},
     "output_type": "execute_result"
    }
   ],
   "source": [
    "p1Bids11[-1], p2Bids11[-1]"
   ]
  },
  {
   "cell_type": "code",
   "execution_count": 135,
   "metadata": {},
   "outputs": [],
   "source": [
    "# set reservation bid at 9\n",
    "br = 9"
   ]
  },
  {
   "cell_type": "code",
   "execution_count": 136,
   "metadata": {},
   "outputs": [
    {
     "name": "stderr",
     "output_type": "stream",
     "text": [
      "100%|██████████| 100/100 [00:00<00:00, 138.04it/s]\n"
     ]
    },
    {
     "data": {
      "text/plain": [
       "(5.764333035784499, 5.233406955238755)"
      ]
     },
     "execution_count": 136,
     "metadata": {},
     "output_type": "execute_result"
    }
   ],
   "source": [
    "c1, c2 = 4, 2\n",
    "curr1, curr2 = 1, 1\n",
    "a = 3\n",
    "\n",
    "b1 = sp.Symbol('b1')\n",
    "b2 = sp.Symbol('b2')\n",
    "\n",
    "p1Bids11, p2Bids11 = [curr1], [curr2]\n",
    "turn = 0\n",
    "for turn in tqdm(range(100)):\n",
    "    if turn % 2 == 0:\n",
    "        expr1 = (1/(br-b1))**(-a)\n",
    "        expr2 = (1/(br-b2))**(-a)\n",
    "        x1 = expr1 / (expr1 + expr2)\n",
    "        u1 = (b1-c1)*x1\n",
    "        func1 = sp.lambdify([b1], -u1.evalf(subs={b2:curr2}))\n",
    "        bounds = ((0, 1000),)\n",
    "        sol = minimize(func1, (1.1), method='SLSQP', bounds=bounds).x[0]\n",
    "        curr1 = sol\n",
    "        p1Bids11.append(curr1)\n",
    "    else:\n",
    "        expr1 = (1/(br-b1))**(-a)\n",
    "        expr2 = (1/(br-b2))**(-a)\n",
    "        x2 = expr2 / (expr1 + expr2)\n",
    "        u2 = (b2-c2)*x2\n",
    "        func2 = sp.lambdify([b2], -u2.evalf(subs={b1:curr1}))\n",
    "        bounds = ((0, 1000),)\n",
    "        sol = minimize(func2, (1.1), method='SLSQP', bounds=bounds).x[0]\n",
    "        curr2 = sol\n",
    "        p2Bids11.append(curr2)\n",
    "p1Bids11[-1], p2Bids11[-1] "
   ]
  },
  {
   "cell_type": "code",
   "execution_count": 129,
   "metadata": {},
   "outputs": [
    {
     "data": {
      "text/plain": [
       "[<matplotlib.lines.Line2D at 0x12a8657c0>]"
      ]
     },
     "execution_count": 129,
     "metadata": {},
     "output_type": "execute_result"
    },
    {
     "data": {
      "image/png": "[encoded data removed]",
      "text/plain": [
       "<Figure size 432x288 with 1 Axes>"
      ]
     },
     "metadata": {
      "needs_background": "light"
     },
     "output_type": "display_data"
    }
   ],
   "source": [
    "plt.plot(p1Bids11, marker='x', linestyle='none')\n",
    "plt.plot(p2Bids11, marker='o', linestyle='none')"
   ]
  },
  {
   "cell_type": "code",
   "execution_count": 130,
   "metadata": {},
   "outputs": [
    {
     "name": "stderr",
     "output_type": "stream",
     "text": [
      "100%|██████████| 13/13 [00:09<00:00,  1.42it/s]\n"
     ]
    },
    {
     "data": {
      "text/plain": [
       "((13,), (13,))"
      ]
     },
     "execution_count": 130,
     "metadata": {},
     "output_type": "execute_result"
    }
   ],
   "source": [
    "c1, c2 = 4, 2\n",
    "curr1, curr2 = 1, 1\n",
    "a = 3\n",
    "\n",
    "b1 = sp.Symbol('b1')\n",
    "b2 = sp.Symbol('b2')\n",
    "\n",
    "equilBidsP1 = []\n",
    "equilBidsP2 = []\n",
    "brs = np.arange(8,21)\n",
    "for br in tqdm(brs):\n",
    "    p1Bids11, p2Bids11 = [curr1], [curr2]\n",
    "    turn = 0\n",
    "    for turn in range(100):\n",
    "        if turn % 2 == 0:\n",
    "            expr1 = (1/(br-b1))**(-a)\n",
    "            expr2 = (1/(br-b2))**(-a)\n",
    "            x1 = expr1 / (expr1 + expr2)\n",
    "            u1 = (b1-c1)*x1\n",
    "            func1 = sp.lambdify([b1], -u1.evalf(subs={b2:curr2}))\n",
    "            bounds = ((0, 1000),)\n",
    "            sol = minimize(func1, (1.1), method='SLSQP', bounds=bounds).x[0]\n",
    "            curr1 = sol\n",
    "            p1Bids11.append(curr1)\n",
    "        else:\n",
    "            expr1 = (1/(br-b1))**(-a)\n",
    "            expr2 = (1/(br-b2))**(-a)\n",
    "            x2 = expr2 / (expr1 + expr2)\n",
    "            u2 = (b2-c2)*x2\n",
    "            func2 = sp.lambdify([b2], -u2.evalf(subs={b1:curr1}))\n",
    "            bounds = ((0, 1000),)\n",
    "            sol = minimize(func2, (1.1), method='SLSQP', bounds=bounds).x[0]\n",
    "            curr2 = sol\n",
    "            p2Bids11.append(curr2)\n",
    "    equilBidsP1.append(p1Bids11[-1])\n",
    "    equilBidsP2.append(p2Bids11[-1])\n",
    "equilBidsP1 = np.array(equilBidsP1)\n",
    "equilBidsP2 = np.array(equilBidsP2)\n",
    "equilBidsP1.shape, equilBidsP2.shape "
   ]
  },
  {
   "cell_type": "code",
   "execution_count": 134,
   "metadata": {},
   "outputs": [
    {
     "data": {
      "image/png": "[encoded data removed]",
      "text/plain": [
       "<Figure size 648x432 with 1 Axes>"
      ]
     },
     "metadata": {
      "needs_background": "light"
     },
     "output_type": "display_data"
    }
   ],
   "source": [
    "f, ax = plt.subplots(figsize=(9,6))\n",
    "\n",
    "ax.plot(brs, equilBidsP1, color='darkturquoise', linewidth=1, label=r'P1 bid',linestyle='dotted', marker='x')\n",
    "ax.plot(brs, equilBidsP2, color='darkred', linewidth=1, label=r'P2 bid',linestyle='dotted', marker='o',\n",
    "        fillstyle='none')\n",
    "\n",
    "ax.axhline(9.66, color='darkturquoise', label='P1 non-reservation bid', alpha=0.3)\n",
    "ax.axhline(8.81, color='darkred', label='P2 non-reservation bid', alpha=0.3)\n",
    "\n",
    "ax.set_xlabel(r'reservation bid ($b_r$)', size=14)\n",
    "ax.set_ylabel(r'equilibrium bids ($\\tilde{b}$)', size=14)\n",
    "ax.legend()\n",
    "ax.grid(alpha=0.2)\n",
    "plt.savefig('out.png', dpi=400, bbox_inches='tight', facecolor='white')\n",
    "plt.show()"
   ]
  },
  {
   "cell_type": "markdown",
   "metadata": {},
   "source": [
    "# More specific reserve price stuff\n",
    "\n",
    "- limit range over best response for maximization."
   ]
  },
  {
   "cell_type": "code",
   "execution_count": 188,
   "metadata": {},
   "outputs": [],
   "source": [
    "c1, c2       = 4, 2\n",
    "curr1, curr2 = 1, 1\n",
    "br           = 9\n",
    "a            = 3"
   ]
  },
  {
   "cell_type": "code",
   "execution_count": 189,
   "metadata": {},
   "outputs": [],
   "source": [
    "b1 = sp.Symbol('b1')\n",
    "b2 = sp.Symbol('b2')"
   ]
  },
  {
   "cell_type": "code",
   "execution_count": 190,
   "metadata": {},
   "outputs": [
    {
     "data": {
      "text/latex": [
       "$\\displaystyle \\frac{b_{1} - 4}{b_{1}^{3} \\left(\\frac{1}{b_{2}^{3}} + \\frac{1}{b_{1}^{3}}\\right)}$"
      ],
      "text/plain": [
       "(b1 - 4)/(b1**3*(b2**(-3) + b1**(-3)))"
      ]
     },
     "execution_count": 190,
     "metadata": {},
     "output_type": "execute_result"
    }
   ],
   "source": [
    "x1 = b1**(-a) / (b1**(-a) + b2**(-a))\n",
    "u1 = ((b1-c1)*x1)\n",
    "u1"
   ]
  },
  {
   "cell_type": "code",
   "execution_count": 191,
   "metadata": {},
   "outputs": [],
   "source": [
    "func1 = sp.lambdify([b1], -u1.evalf(subs={b2:curr2}))"
   ]
  },
  {
   "cell_type": "code",
   "execution_count": 192,
   "metadata": {},
   "outputs": [
    {
     "data": {
      "text/plain": [
       "6.013824845941631"
      ]
     },
     "execution_count": 192,
     "metadata": {},
     "output_type": "execute_result"
    }
   ],
   "source": [
    "bounds = ((0, br),)\n",
    "sol = minimize(func1, (curr1), method='SLSQP', bounds=bounds, tol=(float(1e-16))).x[0]\n",
    "sol"
   ]
  },
  {
   "cell_type": "code",
   "execution_count": 193,
   "metadata": {},
   "outputs": [
    {
     "data": {
      "text/plain": [
       "(6.013824845941631, 1)"
      ]
     },
     "execution_count": 193,
     "metadata": {},
     "output_type": "execute_result"
    }
   ],
   "source": [
    "curr1 = sol\n",
    "curr1, curr2"
   ]
  },
  {
   "cell_type": "code",
   "execution_count": 194,
   "metadata": {},
   "outputs": [
    {
     "data": {
      "text/latex": [
       "$\\displaystyle \\frac{b_{2} - 2}{b_{2}^{3} \\left(\\frac{1}{b_{2}^{3}} + \\frac{1}{b_{1}^{3}}\\right)}$"
      ],
      "text/plain": [
       "(b2 - 2)/(b2**3*(b2**(-3) + b1**(-3)))"
      ]
     },
     "execution_count": 194,
     "metadata": {},
     "output_type": "execute_result"
    }
   ],
   "source": [
    "x2 = b2**(-a) / (b1**(-a) + b2**(-a))\n",
    "u2 = ((b2-c2)*x2)\n",
    "u2"
   ]
  },
  {
   "cell_type": "code",
   "execution_count": 195,
   "metadata": {},
   "outputs": [],
   "source": [
    "func2 = sp.lambdify([b2], -u2.evalf(subs={b1:curr1}))"
   ]
  },
  {
   "cell_type": "code",
   "execution_count": 196,
   "metadata": {},
   "outputs": [
    {
     "data": {
      "text/plain": [
       "6.010370133847507"
      ]
     },
     "execution_count": 196,
     "metadata": {},
     "output_type": "execute_result"
    }
   ],
   "source": [
    "bounds = ((0, br),)\n",
    "sol = minimize(func2, (curr2), method='SLSQP', bounds=bounds, tol=(float(1e-16))).x[0]\n",
    "sol"
   ]
  },
  {
   "cell_type": "code",
   "execution_count": 197,
   "metadata": {},
   "outputs": [
    {
     "data": {
      "text/plain": [
       "(6.013824845941631, 6.010370133847507)"
      ]
     },
     "execution_count": 197,
     "metadata": {},
     "output_type": "execute_result"
    }
   ],
   "source": [
    "curr2 = sol\n",
    "curr1, curr2"
   ]
  },
  {
   "cell_type": "code",
   "execution_count": 199,
   "metadata": {},
   "outputs": [
    {
     "data": {
      "text/latex": [
       "$\\displaystyle - \\frac{b_{1} - 4.0}{b_{1}^{3} \\cdot \\left(0.00460570742990483 + \\frac{1}{b_{1}^{3}}\\right)}$"
      ],
      "text/plain": [
       "-(b1 - 4.0)/(b1**3*(0.00460570742990483 + b1**(-3)))"
      ]
     },
     "execution_count": 199,
     "metadata": {},
     "output_type": "execute_result"
    }
   ],
   "source": [
    "func1 = sp.lambdify([b1], -u1.evalf(subs={b2:curr2}))\n",
    "-u1.evalf(subs={b2:curr2})"
   ]
  },
  {
   "cell_type": "code",
   "execution_count": 200,
   "metadata": {},
   "outputs": [
    {
     "data": {
      "text/plain": [
       "7.789282049212952"
      ]
     },
     "execution_count": 200,
     "metadata": {},
     "output_type": "execute_result"
    }
   ],
   "source": [
    "bounds = ((0, br),)\n",
    "sol = minimize(func1, (curr1), method='SLSQP', bounds=bounds, tol=(float(1e-16))).x[0]\n",
    "sol"
   ]
  },
  {
   "cell_type": "code",
   "execution_count": 201,
   "metadata": {},
   "outputs": [
    {
     "data": {
      "text/plain": [
       "(7.789282049212952, 6.010370133847507)"
      ]
     },
     "execution_count": 201,
     "metadata": {},
     "output_type": "execute_result"
    }
   ],
   "source": [
    "curr1 = sol\n",
    "curr1, curr2"
   ]
  },
  {
   "cell_type": "code",
   "execution_count": 202,
   "metadata": {},
   "outputs": [
    {
     "data": {
      "text/latex": [
       "$\\displaystyle - \\frac{b_{2} - 2.0}{b_{2}^{3} \\cdot \\left(0.00211596125104478 + \\frac{1}{b_{2}^{3}}\\right)}$"
      ],
      "text/plain": [
       "-(b2 - 2.0)/(b2**3*(0.00211596125104478 + b2**(-3)))"
      ]
     },
     "execution_count": 202,
     "metadata": {},
     "output_type": "execute_result"
    }
   ],
   "source": [
    "func2 = sp.lambdify([b2], -u2.evalf(subs={b1:curr1}))\n",
    "-u2.evalf(subs={b1:curr1})"
   ]
  },
  {
   "cell_type": "code",
   "execution_count": 203,
   "metadata": {},
   "outputs": [
    {
     "data": {
      "text/plain": [
       "7.361011830633081"
      ]
     },
     "execution_count": 203,
     "metadata": {},
     "output_type": "execute_result"
    }
   ],
   "source": [
    "bounds = ((0, br),)\n",
    "sol = minimize(func2, (curr2), method='SLSQP', bounds=bounds, tol=(float(1e-16))).x[0]\n",
    "sol"
   ]
  },
  {
   "cell_type": "code",
   "execution_count": 204,
   "metadata": {},
   "outputs": [
    {
     "data": {
      "text/plain": [
       "(7.789282049212952, 7.361011830633081)"
      ]
     },
     "execution_count": 204,
     "metadata": {},
     "output_type": "execute_result"
    }
   ],
   "source": [
    "curr2 = sol\n",
    "curr1, curr2"
   ]
  },
  {
   "cell_type": "code",
   "execution_count": 205,
   "metadata": {},
   "outputs": [
    {
     "data": {
      "text/latex": [
       "$\\displaystyle - \\frac{b_{1} - 4.0}{b_{1}^{3} \\cdot \\left(0.00250719118851844 + \\frac{1}{b_{1}^{3}}\\right)}$"
      ],
      "text/plain": [
       "-(b1 - 4.0)/(b1**3*(0.00250719118851844 + b1**(-3)))"
      ]
     },
     "execution_count": 205,
     "metadata": {},
     "output_type": "execute_result"
    }
   ],
   "source": [
    "func1 = sp.lambdify([b1], -u1.evalf(subs={b2:curr2}))\n",
    "-u1.evalf(subs={b2:curr2})"
   ]
  },
  {
   "cell_type": "code",
   "execution_count": 206,
   "metadata": {},
   "outputs": [
    {
     "data": {
      "text/plain": [
       "8.65948826877733"
      ]
     },
     "execution_count": 206,
     "metadata": {},
     "output_type": "execute_result"
    }
   ],
   "source": [
    "bounds = ((0, br),)\n",
    "sol = minimize(func1, (curr1), method='SLSQP', bounds=bounds, tol=(float(1e-16))).x[0]\n",
    "sol"
   ]
  },
  {
   "cell_type": "code",
   "execution_count": 207,
   "metadata": {},
   "outputs": [
    {
     "data": {
      "text/plain": [
       "(8.65948826877733, 7.361011830633081)"
      ]
     },
     "execution_count": 207,
     "metadata": {},
     "output_type": "execute_result"
    }
   ],
   "source": [
    "curr1 = sol\n",
    "curr1, curr2"
   ]
  },
  {
   "cell_type": "code",
   "execution_count": 209,
   "metadata": {},
   "outputs": [
    {
     "data": {
      "text/latex": [
       "$\\displaystyle - \\frac{b_{2} - 2.0}{b_{2}^{3} \\cdot \\left(0.00154000920024477 + \\frac{1}{b_{2}^{3}}\\right)}$"
      ],
      "text/plain": [
       "-(b2 - 2.0)/(b2**3*(0.00154000920024477 + b2**(-3)))"
      ]
     },
     "execution_count": 209,
     "metadata": {},
     "output_type": "execute_result"
    }
   ],
   "source": [
    "func2 = sp.lambdify([b2], -u2.evalf(subs={b1:curr1}))\n",
    "-u2.evalf(subs={b1:curr1})"
   ]
  },
  {
   "cell_type": "code",
   "execution_count": 210,
   "metadata": {},
   "outputs": [
    {
     "data": {
      "text/plain": [
       "8.032301613775912"
      ]
     },
     "execution_count": 210,
     "metadata": {},
     "output_type": "execute_result"
    }
   ],
   "source": [
    "bounds = ((0, br),)\n",
    "sol = minimize(func2, (curr2), method='SLSQP', bounds=bounds, tol=(float(1e-16))).x[0]\n",
    "sol"
   ]
  },
  {
   "cell_type": "code",
   "execution_count": 211,
   "metadata": {},
   "outputs": [
    {
     "data": {
      "text/plain": [
       "(8.65948826877733, 8.032301613775912)"
      ]
     },
     "execution_count": 211,
     "metadata": {},
     "output_type": "execute_result"
    }
   ],
   "source": [
    "curr2 = sol\n",
    "curr1, curr2"
   ]
  },
  {
   "cell_type": "code",
   "execution_count": 212,
   "metadata": {},
   "outputs": [
    {
     "data": {
      "text/latex": [
       "$\\displaystyle - \\frac{b_{1} - 4.0}{b_{1}^{3} \\cdot \\left(0.00192965636472987 + \\frac{1}{b_{1}^{3}}\\right)}$"
      ],
      "text/plain": [
       "-(b1 - 4.0)/(b1**3*(0.00192965636472987 + b1**(-3)))"
      ]
     },
     "execution_count": 212,
     "metadata": {},
     "output_type": "execute_result"
    }
   ],
   "source": [
    "func1 = sp.lambdify([b1], -u1.evalf(subs={b2:curr2}))\n",
    "-u1.evalf(subs={b2:curr2})"
   ]
  },
  {
   "cell_type": "code",
   "execution_count": 213,
   "metadata": {},
   "outputs": [
    {
     "data": {
      "text/plain": [
       "9.0"
      ]
     },
     "execution_count": 213,
     "metadata": {},
     "output_type": "execute_result"
    }
   ],
   "source": [
    "bounds = ((0, br),)\n",
    "sol = minimize(func1, (curr1), method='SLSQP', bounds=bounds, tol=(float(1e-16))).x[0]\n",
    "sol"
   ]
  },
  {
   "cell_type": "code",
   "execution_count": 214,
   "metadata": {},
   "outputs": [
    {
     "data": {
      "text/plain": [
       "(9.0, 8.032301613775912)"
      ]
     },
     "execution_count": 214,
     "metadata": {},
     "output_type": "execute_result"
    }
   ],
   "source": [
    "curr1 = sol\n",
    "curr1, curr2"
   ]
  },
  {
   "cell_type": "code",
   "execution_count": 215,
   "metadata": {},
   "outputs": [
    {
     "data": {
      "text/latex": [
       "$\\displaystyle - \\frac{b_{2} - 2.0}{b_{2}^{3} \\cdot \\left(0.00137174211248285 + \\frac{1}{b_{2}^{3}}\\right)}$"
      ],
      "text/plain": [
       "-(b2 - 2.0)/(b2**3*(0.00137174211248285 + b2**(-3)))"
      ]
     },
     "execution_count": 215,
     "metadata": {},
     "output_type": "execute_result"
    }
   ],
   "source": [
    "func2 = sp.lambdify([b2], -u2.evalf(subs={b1:curr1}))\n",
    "-u2.evalf(subs={b1:curr1})"
   ]
  },
  {
   "cell_type": "code",
   "execution_count": 216,
   "metadata": {},
   "outputs": [
    {
     "data": {
      "text/plain": [
       "8.296064769931684"
      ]
     },
     "execution_count": 216,
     "metadata": {},
     "output_type": "execute_result"
    }
   ],
   "source": [
    "bounds = ((0, br),)\n",
    "sol = minimize(func2, (curr2), method='SLSQP', bounds=bounds, tol=(float(1e-16))).x[0]\n",
    "sol"
   ]
  },
  {
   "cell_type": "code",
   "execution_count": 217,
   "metadata": {},
   "outputs": [
    {
     "data": {
      "text/plain": [
       "(9.0, 8.296064769931684)"
      ]
     },
     "execution_count": 217,
     "metadata": {},
     "output_type": "execute_result"
    }
   ],
   "source": [
    "curr2 = sol\n",
    "curr1, curr2"
   ]
  },
  {
   "cell_type": "code",
   "execution_count": 219,
   "metadata": {},
   "outputs": [
    {
     "data": {
      "text/latex": [
       "$\\displaystyle - \\frac{b_{1} - 4.0}{b_{1}^{3} \\cdot \\left(0.00175139295251975 + \\frac{1}{b_{1}^{3}}\\right)}$"
      ],
      "text/plain": [
       "-(b1 - 4.0)/(b1**3*(0.00175139295251975 + b1**(-3)))"
      ]
     },
     "execution_count": 219,
     "metadata": {},
     "output_type": "execute_result"
    }
   ],
   "source": [
    "func1 = sp.lambdify([b1], -u1.evalf(subs={b2:curr2}))\n",
    "-u1.evalf(subs={b2:curr2})"
   ]
  },
  {
   "cell_type": "code",
   "execution_count": 220,
   "metadata": {},
   "outputs": [
    {
     "data": {
      "text/plain": [
       "9.0"
      ]
     },
     "execution_count": 220,
     "metadata": {},
     "output_type": "execute_result"
    }
   ],
   "source": [
    "bounds = ((0, br),)\n",
    "sol = minimize(func1, (curr1), method='SLSQP', bounds=bounds, tol=(float(1e-16))).x[0]\n",
    "sol"
   ]
  },
  {
   "cell_type": "code",
   "execution_count": 221,
   "metadata": {},
   "outputs": [
    {
     "data": {
      "text/plain": [
       "(9.0, 8.296064769931684)"
      ]
     },
     "execution_count": 221,
     "metadata": {},
     "output_type": "execute_result"
    }
   ],
   "source": [
    "curr1 = sol\n",
    "curr1, curr2"
   ]
  },
  {
   "cell_type": "code",
   "execution_count": 222,
   "metadata": {},
   "outputs": [
    {
     "data": {
      "text/latex": [
       "$\\displaystyle - \\frac{b_{2} - 2.0}{b_{2}^{3} \\cdot \\left(0.00137174211248285 + \\frac{1}{b_{2}^{3}}\\right)}$"
      ],
      "text/plain": [
       "-(b2 - 2.0)/(b2**3*(0.00137174211248285 + b2**(-3)))"
      ]
     },
     "execution_count": 222,
     "metadata": {},
     "output_type": "execute_result"
    }
   ],
   "source": [
    "func2 = sp.lambdify([b2], -u2.evalf(subs={b1:curr1}))\n",
    "-u2.evalf(subs={b1:curr1})"
   ]
  },
  {
   "cell_type": "code",
   "execution_count": 223,
   "metadata": {},
   "outputs": [
    {
     "data": {
      "text/plain": [
       "8.296064657345132"
      ]
     },
     "execution_count": 223,
     "metadata": {},
     "output_type": "execute_result"
    }
   ],
   "source": [
    "bounds = ((0, br),)\n",
    "sol = minimize(func2, (curr2), method='SLSQP', bounds=bounds, tol=(float(1e-16))).x[0]\n",
    "sol"
   ]
  },
  {
   "cell_type": "code",
   "execution_count": 225,
   "metadata": {},
   "outputs": [
    {
     "data": {
      "text/plain": [
       "(9.0, 8.296064657345132)"
      ]
     },
     "execution_count": 225,
     "metadata": {},
     "output_type": "execute_result"
    }
   ],
   "source": [
    "curr2 = sol\n",
    "curr1, curr2"
   ]
  },
  {
   "cell_type": "code",
   "execution_count": 233,
   "metadata": {},
   "outputs": [],
   "source": [
    "# now in loop from\n",
    "c1, c2       = 4, 2\n",
    "curr1, curr2 = 1, 1\n",
    "br           = 9\n",
    "a            = 3\n",
    "\n",
    "b1 = sp.Symbol('b1')\n",
    "b2 = sp.Symbol('b2')\n",
    "\n",
    "x1 = b1**(-a) / (b1**(-a) + b2**(-a))\n",
    "x2 = b2**(-a) / (b1**(-a) + b2**(-a))\n",
    "\n",
    "u1 = ((b1-c1)*x1)\n",
    "u2 = ((b2-c2)*x2)\n",
    "\n",
    "bounds = ((0, br),)\n",
    "tol    = float(1e-16)"
   ]
  },
  {
   "cell_type": "code",
   "execution_count": 234,
   "metadata": {},
   "outputs": [
    {
     "name": "stderr",
     "output_type": "stream",
     "text": [
      "100%|██████████| 10/10 [00:00<00:00, 160.25it/s]\n"
     ]
    }
   ],
   "source": [
    "bids1, bids2 = [curr1], [curr2]\n",
    "for i in tqdm(range(10)):\n",
    "    if i % 2 == 0:\n",
    "        func1 = sp.lambdify([b1], -u1.evalf(subs={b2:curr2}))\n",
    "        sol = minimize(func1, (curr1), method='SLSQP', bounds=bounds, tol=tol).x[0]\n",
    "        curr1 = sol\n",
    "        bids1.append(curr1)\n",
    "    else:\n",
    "        func2 = sp.lambdify([b2], -u2.evalf(subs={b1:curr1}))\n",
    "        sol = minimize(func2, (curr2), method='SLSQP', bounds=bounds, tol=tol).x[0]\n",
    "        curr2 = sol\n",
    "        bids2.append(curr2)"
   ]
  },
  {
   "cell_type": "code",
   "execution_count": 236,
   "metadata": {},
   "outputs": [
    {
     "data": {
      "text/plain": [
       "([1, 6.013824845941631, 7.789282049212952, 8.65948826877733, 9.0, 9.0],\n",
       " [1,\n",
       "  6.010370133847507,\n",
       "  7.361011830633081,\n",
       "  8.032301613775912,\n",
       "  8.296064769931684,\n",
       "  8.296064657345132])"
      ]
     },
     "execution_count": 236,
     "metadata": {},
     "output_type": "execute_result"
    }
   ],
   "source": [
    "bids1, bids2"
   ]
  },
  {
   "cell_type": "code",
   "execution_count": 249,
   "metadata": {},
   "outputs": [],
   "source": [
    "def getAllocs(bids, a=3):\n",
    "    denom = sum([1/(b**a) for b in bids])\n",
    "    return np.array(1/(bids**a)) / denom\n",
    "\n",
    "def getProtocolCost(bids, a=3):\n",
    "    allocs = getAllocs(bids, a)\n",
    "    return np.dot(np.array(bids), np.array(allocs))"
   ]
  },
  {
   "cell_type": "code",
   "execution_count": 331,
   "metadata": {},
   "outputs": [
    {
     "data": {
      "text/plain": [
       "(array([0.43135654, 0.56864346]),\n",
       " array([0.43957004, 0.56042996]),\n",
       " 9.176653062690939,\n",
       " 8.60769903143251)"
      ]
     },
     "execution_count": 331,
     "metadata": {},
     "output_type": "execute_result"
    }
   ],
   "source": [
    "bids  = np.array([9.66, 8.81])\n",
    "bidsR = np.array([9., 8.30])\n",
    "getAllocs(bids), getAllocs(bidsR), getProtocolCost(bids), getProtocolCost(bidsR)"
   ]
  },
  {
   "cell_type": "code",
   "execution_count": 255,
   "metadata": {},
   "outputs": [
    {
     "data": {
      "text/plain": [
       "9.176653059"
      ]
     },
     "execution_count": 255,
     "metadata": {},
     "output_type": "execute_result"
    }
   ],
   "source": [
    "0.43135654 * 9.66 + 0.56864346 * 8.81"
   ]
  },
  {
   "cell_type": "code",
   "execution_count": 261,
   "metadata": {},
   "outputs": [
    {
     "data": {
      "image/png": "[encoded data removed]",
      "text/plain": [
       "<Figure size 648x432 with 1 Axes>"
      ]
     },
     "metadata": {
      "needs_background": "light"
     },
     "output_type": "display_data"
    }
   ],
   "source": [
    "f, ax = plt.subplots(figsize=(9,6))\n",
    "\n",
    "ax.plot(np.arange(1,12,2), bids1, color='darkturquoise', linewidth=1, label=r'P1 bid',\n",
    "        linestyle='dotted', marker='x')\n",
    "ax.plot(np.arange(2,14,2), bids2, color='darkred', linewidth=1, label=r'P2 bid',\n",
    "        linestyle='dotted', marker='o', fillstyle='none')\n",
    "\n",
    "ax.axhline(9.66, color='darkturquoise', label='P1 no reserve', alpha=0.3)\n",
    "ax.axhline(8.81, color='darkred', label='P2 no reserve', alpha=0.3)\n",
    "\n",
    "ax.set_xlabel(r'turn ($b_r$)', size=14)\n",
    "ax.set_ylabel(r'bid', size=14)\n",
    "\n",
    "ax.set_title('Protocol costs in equilibrium: no reserve={:0.3f}, reserve={:0.3f}'.format(\n",
    "             getProtocolCost(bids), getProtocolCost(bidsR)), size=15)\n",
    "ax.legend()\n",
    "ax.grid(alpha=0.2)\n",
    "plt.savefig('out.png', dpi=400, bbox_inches='tight', facecolor='white')\n",
    "plt.show()"
   ]
  },
  {
   "cell_type": "code",
   "execution_count": 310,
   "metadata": {},
   "outputs": [],
   "source": [
    "# now in loop from\n",
    "c1, c2       = 4, 2\n",
    "curr1, curr2 = 1, 1\n",
    "a            = 3\n",
    "\n",
    "b1 = sp.Symbol('b1')\n",
    "b2 = sp.Symbol('b2')\n",
    "\n",
    "x1 = b1**(-a) / (b1**(-a) + b2**(-a))\n",
    "x2 = b2**(-a) / (b1**(-a) + b2**(-a))\n",
    "\n",
    "u1 = ((b1-c1)*x1)\n",
    "u2 = ((b2-c2)*x2)\n",
    "\n",
    "tol    = float(1e-16)"
   ]
  },
  {
   "cell_type": "code",
   "execution_count": 327,
   "metadata": {},
   "outputs": [
    {
     "name": "stderr",
     "output_type": "stream",
     "text": [
      "100%|██████████| 41/41 [00:21<00:00,  1.95it/s]\n"
     ]
    }
   ],
   "source": [
    "brs    = np.arange(6, 10.1, 0.1)\n",
    "endB1s = []\n",
    "endB2s = []\n",
    "for br in tqdm(brs):\n",
    "    bounds = ((0, br),)\n",
    "    bids1, bids2 = [curr1], [curr2]\n",
    "    for i in range(200):\n",
    "        if i % 2 == 0:\n",
    "            func1 = sp.lambdify([b1], -u1.evalf(subs={b2:curr2}))\n",
    "            sol = minimize(func1, (curr1), method='SLSQP', bounds=bounds, tol=tol).x[0]\n",
    "            curr1 = sol\n",
    "            bids1.append(curr1)\n",
    "        else:\n",
    "            func2 = sp.lambdify([b2], -u2.evalf(subs={b1:curr1}))\n",
    "            sol = minimize(func2, (curr2), method='SLSQP', bounds=bounds, tol=tol).x[0]\n",
    "            curr2 = sol\n",
    "            bids2.append(curr2)\n",
    "    endB1s.append(bids1[-1])\n",
    "    endB2s.append(bids2[-1])"
   ]
  },
  {
   "cell_type": "code",
   "execution_count": 328,
   "metadata": {
    "scrolled": true
   },
   "outputs": [
    {
     "data": {
      "text/plain": [
       "([6.0,\n",
       "  6.1,\n",
       "  6.199999999999999,\n",
       "  6.299999999999999,\n",
       "  6.399999999999999,\n",
       "  6.499999999999998,\n",
       "  6.599999999999998,\n",
       "  6.6999999999999975,\n",
       "  6.799999999999997,\n",
       "  6.899999999999997,\n",
       "  6.9999999999999964,\n",
       "  7.099999999999996,\n",
       "  7.199999999999996,\n",
       "  7.299999999999995,\n",
       "  7.399999999999995,\n",
       "  7.499999999999995,\n",
       "  7.599999999999994,\n",
       "  7.699999999999994,\n",
       "  7.799999999999994,\n",
       "  7.899999999999993,\n",
       "  7.999999999999993,\n",
       "  8.099999999999993,\n",
       "  8.199999999999992,\n",
       "  8.299999999999992,\n",
       "  8.399999999999991,\n",
       "  8.499999999999991,\n",
       "  8.59999999999999,\n",
       "  8.69999999999999,\n",
       "  8.79999999999999,\n",
       "  8.89999999999999,\n",
       "  8.99999999999999,\n",
       "  9.099999999999989,\n",
       "  9.199999999999989,\n",
       "  9.299999999999988,\n",
       "  9.399999999999988,\n",
       "  9.499999999999988,\n",
       "  9.599999999999987,\n",
       "  9.662878350843796,\n",
       "  9.662878350843796,\n",
       "  9.662878350843796,\n",
       "  9.662878350843796],\n",
       " [6.0,\n",
       "  6.075076841248563,\n",
       "  6.150302042664384,\n",
       "  6.225668196048388,\n",
       "  6.301168707029003,\n",
       "  6.376796742609446,\n",
       "  6.452546560841353,\n",
       "  6.528412015743436,\n",
       "  6.6043881886009475,\n",
       "  6.680469838856023,\n",
       "  6.756652240360953,\n",
       "  6.832930968325381,\n",
       "  6.909301652769635,\n",
       "  6.985760540062198,\n",
       "  7.062303798602031,\n",
       "  7.138927498801445,\n",
       "  7.215629108821682,\n",
       "  7.292404720254243,\n",
       "  7.36925155688803,\n",
       "  7.446166868778753,\n",
       "  7.523147709086042,\n",
       "  7.600191958044072,\n",
       "  7.6772967995104615,\n",
       "  7.754459822453779,\n",
       "  7.831679187272142,\n",
       "  7.908952624248948,\n",
       "  7.986278151976884,\n",
       "  8.063653858474016,\n",
       "  8.141078058231004,\n",
       "  8.218548897974086,\n",
       "  8.296064846240153,\n",
       "  8.373624030286665,\n",
       "  8.451225343639226,\n",
       "  8.528867293881406,\n",
       "  8.60654820263867,\n",
       "  8.68426709296585,\n",
       "  8.762022666966148,\n",
       "  8.810932269847562,\n",
       "  8.810932269847562,\n",
       "  8.810932269847562,\n",
       "  8.810932269847562])"
      ]
     },
     "execution_count": 328,
     "metadata": {},
     "output_type": "execute_result"
    }
   ],
   "source": [
    "endB1s, endB2s"
   ]
  },
  {
   "cell_type": "code",
   "execution_count": 329,
   "metadata": {
    "scrolled": true
   },
   "outputs": [
    {
     "data": {
      "text/plain": [
       "[6.0,\n",
       " 6.087461892536316,\n",
       " 6.1748510553505955,\n",
       " 6.262172492810571,\n",
       " 6.349430989456216,\n",
       " 6.436630617433744,\n",
       " 6.523775478168764,\n",
       " 6.610868959588962,\n",
       " 6.69791464517578,\n",
       " 6.7849155229927325,\n",
       " 6.871874467212759,\n",
       " 6.958794155628276,\n",
       " 7.045676960062972,\n",
       " 7.13252528625039,\n",
       " 7.219341209441916,\n",
       " 7.306126478490412,\n",
       " 7.392883395409729,\n",
       " 7.479613241368838,\n",
       " 7.5663177342526495,\n",
       " 7.652998410134626,\n",
       " 7.739656502685546,\n",
       " 7.826293561182974,\n",
       " 7.912910560480901,\n",
       " 7.999508562729551,\n",
       " 8.086088833302014,\n",
       " 8.172652247239787,\n",
       " 8.25919972961394,\n",
       " 8.345732131919583,\n",
       " 8.432250336330942,\n",
       " 8.518755019904571,\n",
       " 8.605246962835881,\n",
       " 8.691726642622033,\n",
       " 8.778194930558843,\n",
       " 8.864652378615464,\n",
       " 8.951099345211016,\n",
       " 9.037536561258118,\n",
       " 9.123964489354663,\n",
       " 9.178304356605446,\n",
       " 9.178304356605446,\n",
       " 9.178304356605446,\n",
       " 9.178304356605446]"
      ]
     },
     "execution_count": 329,
     "metadata": {},
     "output_type": "execute_result"
    }
   ],
   "source": [
    "endCosts = []\n",
    "for i in range(len(endB1s)):\n",
    "    endCosts.append(getProtocolCost(np.array([endB1s[i], endB2s[i]])))\n",
    "endCosts"
   ]
  },
  {
   "cell_type": "code",
   "execution_count": 333,
   "metadata": {},
   "outputs": [
    {
     "data": {
      "image/png": "[encoded data removed]",
      "text/plain": [
       "<Figure size 648x432 with 1 Axes>"
      ]
     },
     "metadata": {
      "needs_background": "light"
     },
     "output_type": "display_data"
    }
   ],
   "source": [
    "f, ax = plt.subplots(figsize=(9,6))\n",
    "\n",
    "ax.plot(brs, endB1s, color='darkturquoise', linewidth=1, label=r'P1 bid',\n",
    "        linestyle='dotted', marker='x')\n",
    "ax.plot(brs, endB2s, color='darkred', linewidth=1, label=r'P2 bid',\n",
    "        linestyle='dotted', marker='o', fillstyle='none')\n",
    "ax.plot(brs, endCosts, color='goldenrod', linewidth=1, label=r'protocol cost',\n",
    "        linestyle='dotted', marker='*', fillstyle='none')\n",
    "\n",
    "\n",
    "# ax.axhline(9.66, color='darkturquoise', label='P1 no reserve', alpha=0.3)\n",
    "# ax.axhline(8.81, color='darkred', label='P2 no reserve', alpha=0.3)\n",
    "\n",
    "ax.set_xlabel(r'reserve bid ($b_r$)', size=14)\n",
    "ax.set_ylabel(r'cost', size=14)\n",
    "\n",
    "ax.set_title('Equilibrium bids and protocol costs under reserve bids', size=15)\n",
    "ax.legend()\n",
    "ax.grid(alpha=0.2)\n",
    "plt.savefig('out.png', dpi=400, bbox_inches='tight', facecolor='white')\n",
    "plt.show()"
   ]
  },
  {
   "cell_type": "markdown",
   "metadata": {},
   "source": [
    "# Symmetry to bound frugality"
   ]
  },
  {
   "cell_type": "code",
   "execution_count": 385,
   "metadata": {},
   "outputs": [
    {
     "data": {
      "text/latex": [
       "$\\displaystyle \\frac{b_{1} - c}{b_{1}^{10} \\left(\\frac{1}{b_{2}^{10}} + \\frac{1}{b_{1}^{10}}\\right)}$"
      ],
      "text/plain": [
       "(b1 - c)/(b1**10*(b2**(-10) + b1**(-10)))"
      ]
     },
     "execution_count": 385,
     "metadata": {},
     "output_type": "execute_result"
    }
   ],
   "source": [
    "a = 10\n",
    "\n",
    "b1 = sp.Symbol('b1')\n",
    "b2 = sp.Symbol('b2')\n",
    "c  = sp.Symbol('c')\n",
    "\n",
    "x1 = b1**(-a) / (b1**(-a) + b2**(-a))\n",
    "x2 = b2**(-a) / (b1**(-a) + b2**(-a))\n",
    "\n",
    "u1 = ((b1-c)*x1)\n",
    "u2 = ((b2-c)*x2)\n",
    "u1"
   ]
  },
  {
   "cell_type": "code",
   "execution_count": 386,
   "metadata": {},
   "outputs": [
    {
     "data": {
      "text/latex": [
       "$\\displaystyle \\frac{1}{b_{1}^{10} \\left(\\frac{1}{b_{2}^{10}} + \\frac{1}{b_{1}^{10}}\\right)} - \\frac{10 \\left(b_{1} - c\\right)}{b_{1}^{11} \\left(\\frac{1}{b_{2}^{10}} + \\frac{1}{b_{1}^{10}}\\right)} + \\frac{10 \\left(b_{1} - c\\right)}{b_{1}^{21} \\left(\\frac{1}{b_{2}^{10}} + \\frac{1}{b_{1}^{10}}\\right)^{2}}$"
      ],
      "text/plain": [
       "1/(b1**10*(b2**(-10) + b1**(-10))) - 10*(b1 - c)/(b1**11*(b2**(-10) + b1**(-10))) + 10*(b1 - c)/(b1**21*(b2**(-10) + b1**(-10))**2)"
      ]
     },
     "execution_count": 386,
     "metadata": {},
     "output_type": "execute_result"
    }
   ],
   "source": [
    "diff1 = sp.diff(u1, b1)\n",
    "diff2 = sp.diff(u2, b2)\n",
    "diff1"
   ]
  },
  {
   "cell_type": "code",
   "execution_count": 387,
   "metadata": {},
   "outputs": [
    {
     "data": {
      "text/plain": [
       "<function _lambdifygenerated(b1, b2)>"
      ]
     },
     "execution_count": 387,
     "metadata": {},
     "output_type": "execute_result"
    }
   ],
   "source": [
    "func1 = sp.lambdify([b1, b2], diff1.evalf(subs={c:1}))\n",
    "func2 = sp.lambdify([b1, b2], diff2.evalf(subs={c:1}))\n",
    "func1"
   ]
  },
  {
   "cell_type": "code",
   "execution_count": 388,
   "metadata": {},
   "outputs": [],
   "source": [
    "def eqs(p):\n",
    "    b1, b2 = p\n",
    "    return [func1(b1, b2), func2(b1, b2)]"
   ]
  },
  {
   "cell_type": "code",
   "execution_count": 389,
   "metadata": {},
   "outputs": [
    {
     "data": {
      "text/plain": [
       "array([1.25, 1.25])"
      ]
     },
     "execution_count": 389,
     "metadata": {},
     "output_type": "execute_result"
    }
   ],
   "source": [
    "sol = fsolve(eqs, (3., 3.))\n",
    "sol"
   ]
  },
  {
   "cell_type": "code",
   "execution_count": 391,
   "metadata": {},
   "outputs": [
    {
     "data": {
      "text/plain": [
       "1.25"
      ]
     },
     "execution_count": 391,
     "metadata": {},
     "output_type": "execute_result"
    }
   ],
   "source": [
    "10/8"
   ]
  },
  {
   "cell_type": "code",
   "execution_count": 492,
   "metadata": {},
   "outputs": [
    {
     "data": {
      "text/latex": [
       "$\\displaystyle \\frac{b_{1} - 1.0}{b_{1}^{10} \\left(\\frac{1}{b_{2}^{10}} + \\frac{1}{b_{1}^{10}}\\right)}$"
      ],
      "text/plain": [
       "(b1 - 1.0)/(b1**10*(b2**(-10) + b1**(-10)))"
      ]
     },
     "execution_count": 492,
     "metadata": {},
     "output_type": "execute_result"
    }
   ],
   "source": [
    "a = 10\n",
    "\n",
    "b1 = sp.Symbol('b1')\n",
    "b2 = sp.Symbol('b2')\n",
    "c1 = sp.Symbol('c1')\n",
    "c2 = sp.Symbol('c2')\n",
    "\n",
    "x1 = b1**(-a) / (b1**(-a) + b2**(-a))\n",
    "x2 = b2**(-a) / (b1**(-a) + b2**(-a))\n",
    "\n",
    "u1 = ((b1-c1)*x1).evalf(subs={c1:1})\n",
    "u2 = ((b2-c2)*x2).evalf(subs={c2:5})\n",
    "u1"
   ]
  },
  {
   "cell_type": "code",
   "execution_count": 493,
   "metadata": {},
   "outputs": [
    {
     "data": {
      "text/latex": [
       "$\\displaystyle \\frac{1}{b_{1}^{10} \\left(\\frac{1}{b_{2}^{10}} + \\frac{1}{b_{1}^{10}}\\right)} - \\frac{10 \\left(b_{1} - 1.0\\right)}{b_{1}^{11} \\left(\\frac{1}{b_{2}^{10}} + \\frac{1}{b_{1}^{10}}\\right)} + \\frac{10 \\left(b_{1} - 1.0\\right)}{b_{1}^{21} \\left(\\frac{1}{b_{2}^{10}} + \\frac{1}{b_{1}^{10}}\\right)^{2}}$"
      ],
      "text/plain": [
       "1/(b1**10*(b2**(-10) + b1**(-10))) - 10*(b1 - 1.0)/(b1**11*(b2**(-10) + b1**(-10))) + 10*(b1 - 1.0)/(b1**21*(b2**(-10) + b1**(-10))**2)"
      ]
     },
     "execution_count": 493,
     "metadata": {},
     "output_type": "execute_result"
    }
   ],
   "source": [
    "diff1 = sp.diff(u1, b1)\n",
    "diff2 = sp.diff(u2, b2)\n",
    "diff1"
   ]
  },
  {
   "cell_type": "code",
   "execution_count": 494,
   "metadata": {},
   "outputs": [
    {
     "data": {
      "text/plain": [
       "<function _lambdifygenerated(b1, b2)>"
      ]
     },
     "execution_count": 494,
     "metadata": {},
     "output_type": "execute_result"
    }
   ],
   "source": [
    "func1 = sp.lambdify([b1, b2], diff1)\n",
    "func2 = sp.lambdify([b1, b2], diff2)\n",
    "func1"
   ]
  },
  {
   "cell_type": "code",
   "execution_count": 495,
   "metadata": {},
   "outputs": [],
   "source": [
    "def eqs(p):\n",
    "    b1, b2 = p\n",
    "    return [func1(b1, b2), func2(b1, b2)]"
   ]
  },
  {
   "cell_type": "code",
   "execution_count": 496,
   "metadata": {},
   "outputs": [
    {
     "data": {
      "text/plain": [
       "array([4.65839249, 5.64711048])"
      ]
     },
     "execution_count": 496,
     "metadata": {},
     "output_type": "execute_result"
    }
   ],
   "source": [
    "sol = fsolve(eqs, (1.4, 1.4))\n",
    "sol"
   ]
  },
  {
   "cell_type": "code",
   "execution_count": 507,
   "metadata": {},
   "outputs": [],
   "source": [
    "def getEquilBids(costs, a):\n",
    "    b1 = sp.Symbol('b1')\n",
    "    b2 = sp.Symbol('b2')\n",
    "    c1 = costs[0]\n",
    "    c2 = costs[1]\n",
    "\n",
    "    x1 = b1**(-a) / (b1**(-a) + b2**(-a))\n",
    "    x2 = b2**(-a) / (b1**(-a) + b2**(-a))\n",
    "    u1 = ((b1-c1)*x1)\n",
    "    u2 = ((b2-c2)*x2)\n",
    "    diff1 = sp.diff(u1, b1)\n",
    "    diff2 = sp.diff(u2, b2)\n",
    "    func1 = sp.lambdify([b1, b2], diff1)\n",
    "    func2 = sp.lambdify([b1, b2], diff2)\n",
    "\n",
    "    def eqs(p):\n",
    "        b1, b2 = p\n",
    "        return [func1(b1, b2), func2(b1, b2)]\n",
    "\n",
    "    return fsolve(eqs, (1,1))"
   ]
  },
  {
   "cell_type": "code",
   "execution_count": 552,
   "metadata": {},
   "outputs": [
    {
     "data": {
      "text/plain": [
       "(array([1.96198227, 2.01130196]),\n",
       " array([0.98866933, 0.01133067]),\n",
       " 1.9625410973109998)"
      ]
     },
     "execution_count": 552,
     "metadata": {},
     "output_type": "execute_result"
    }
   ],
   "source": [
    "a = 180\n",
    "\n",
    "bids = getEquilBids(np.array([1,2]), a)\n",
    "bids, getAllocs(bids, a), getProtocolCost(bids, a)"
   ]
  },
  {
   "cell_type": "code",
   "execution_count": 531,
   "metadata": {},
   "outputs": [
    {
     "name": "stderr",
     "output_type": "stream",
     "text": [
      "100%|██████████| 54/54 [00:00<00:00, 78.81it/s]\n"
     ]
    }
   ],
   "source": [
    "alphas = np.arange(3, 30, 0.5)\n",
    "bidsP1, bidsP2, costs = [], [], []\n",
    "for a in tqdm(alphas):\n",
    "    bids = getEquilBids(np.array([1,2]), a)\n",
    "    bidsP1.append(bids[0])\n",
    "    bidsP2.append(bids[1])\n",
    "    costs.append(getProtocolCost(bids, a))"
   ]
  },
  {
   "cell_type": "code",
   "execution_count": 533,
   "metadata": {},
   "outputs": [
    {
     "data": {
      "image/png": "[encoded data removed]",
      "text/plain": [
       "<Figure size 648x432 with 1 Axes>"
      ]
     },
     "metadata": {
      "needs_background": "light"
     },
     "output_type": "display_data"
    }
   ],
   "source": [
    "f, ax = plt.subplots(figsize=(9,6))\n",
    "\n",
    "ax.plot(alphas, bidsP1, color='darkturquoise', linewidth=1, label=r'P1 bid',\n",
    "        linestyle='dotted', marker='x')\n",
    "ax.plot(alphas, bidsP2, color='darkred', linewidth=1, label=r'P2 bid',\n",
    "        linestyle='dotted', marker='o', fillstyle='none')\n",
    "ax.plot(alphas, costs, color='goldenrod', linewidth=1, label=r'protocol cost',\n",
    "        linestyle='dotted', marker='*', fillstyle='none')\n",
    "\n",
    "\n",
    "ax.set_xlabel(r'$\\alpha$', size=14)\n",
    "ax.set_ylabel(r'bid/cost', size=14)\n",
    "\n",
    "ax.set_title('Equilibrium bids and protocol costs with c1=1, c2=2', size=15)\n",
    "ax.legend()\n",
    "ax.grid(alpha=0.2)\n",
    "plt.savefig('out.png', dpi=400, bbox_inches='tight', facecolor='white')\n",
    "plt.show()"
   ]
  },
  {
   "cell_type": "code",
   "execution_count": 543,
   "metadata": {},
   "outputs": [
    {
     "name": "stderr",
     "output_type": "stream",
     "text": [
      "100%|██████████| 14/14 [00:00<00:00, 72.64it/s]\n",
      "100%|██████████| 14/14 [00:00<00:00, 71.06it/s]\n",
      "100%|██████████| 14/14 [00:00<00:00, 84.98it/s]\n"
     ]
    },
    {
     "data": {
      "text/plain": [
       "(3, 14)"
      ]
     },
     "execution_count": 543,
     "metadata": {},
     "output_type": "execute_result"
    }
   ],
   "source": [
    "alphas = np.arange(3, 10, 0.5)\n",
    "bidsP1, bidsP2, costs = [], [], []\n",
    "cs = [2, 4, 8]\n",
    "for c in cs:\n",
    "    temp1, temp2, temp3 = [], [], []\n",
    "    for a in tqdm(alphas):\n",
    "        bids = getEquilBids(np.array([1,c]), a)\n",
    "        temp1.append(bids[0])\n",
    "        temp2.append(bids[1])\n",
    "        temp3.append(getProtocolCost(bids, a))\n",
    "    bidsP1.append(temp1)\n",
    "    bidsP2.append(temp2)\n",
    "    costs.append(temp3)\n",
    "bidsP1 = np.array(bidsP1)\n",
    "bidsP2 = np.array(bidsP2)\n",
    "costs = np.array(costs)\n",
    "bidsP1.shape"
   ]
  },
  {
   "cell_type": "code",
   "execution_count": 545,
   "metadata": {},
   "outputs": [
    {
     "data": {
      "image/png": "[encoded data removed]",
      "text/plain": [
       "<Figure size 1008x288 with 3 Axes>"
      ]
     },
     "metadata": {
      "needs_background": "light"
     },
     "output_type": "display_data"
    }
   ],
   "source": [
    "f, axarr = plt.subplots(ncols=3, figsize=(14,4))\n",
    "\n",
    "for i in range(3):\n",
    "    ax = axarr[i]\n",
    "    ax.plot(alphas, bidsP1[i], color='darkturquoise', linewidth=1, label=r'P1 bid',\n",
    "            linestyle='dotted', marker='x')\n",
    "    ax.plot(alphas, bidsP2[i], color='darkred', linewidth=1, label=r'P2 bid',\n",
    "            linestyle='dotted', marker='o', fillstyle='none')\n",
    "    ax.plot(alphas, costs[i], color='goldenrod', linewidth=1, label=r'protocol cost',\n",
    "            linestyle='dotted', marker='*', fillstyle='none')\n",
    "\n",
    "    ax.set_xlabel(r'$\\alpha$', size=14)\n",
    "    ax.set_ylabel(r'bid/cost', size=14)\n",
    "\n",
    "    ax.set_title('c1=1, c2={}'.format(cs[i]), size=15)\n",
    "    ax.legend()\n",
    "    ax.grid(alpha=0.2)\n",
    "plt.savefig('out.png', dpi=400, bbox_inches='tight', facecolor='white')\n",
    "plt.show()"
   ]
  },
  {
   "cell_type": "code",
   "execution_count": 586,
   "metadata": {},
   "outputs": [
    {
     "data": {
      "text/plain": [
       "array([2.9527452 , 3.34417598])"
      ]
     },
     "execution_count": 586,
     "metadata": {},
     "output_type": "execute_result"
    }
   ],
   "source": [
    "# is there really no closed form for the two-player version of the game ?!? hmm \n",
    "b1 = sp.Symbol('b1')\n",
    "b2 = sp.Symbol('b2')\n",
    "c1 = sp.Symbol('c1')\n",
    "c2 = sp.Symbol('c2')\n",
    "c1 = 1\n",
    "c2 = 2\n",
    "a  = 4\n",
    "\n",
    "x1 = b1**(-a) / (b1**(-a) + b2**(-a))\n",
    "x2 = b2**(-a) / (b1**(-a) + b2**(-a))\n",
    "u1 = ((b1-c1)*x1)\n",
    "u2 = ((b2-c2)*x2)\n",
    "diff1 = sp.diff(u1, b1)\n",
    "diff2 = sp.diff(u2, b2)\n",
    "func1 = sp.lambdify([b1, b2], diff1)\n",
    "func2 = sp.lambdify([b1, b2], diff2)\n",
    "\n",
    "def eqs(p):\n",
    "    b1, b2 = p\n",
    "    return [func1(b1, b2), func2(b1, b2)]\n",
    "\n",
    "fsolve(eqs, (1,1))"
   ]
  },
  {
   "cell_type": "code",
   "execution_count": 587,
   "metadata": {},
   "outputs": [],
   "source": [
    "# solving a system of equations to find where the FoCs are zero."
   ]
  },
  {
   "cell_type": "code",
   "execution_count": 588,
   "metadata": {},
   "outputs": [],
   "source": [
    "x, y = sp.symbols('x y')"
   ]
  },
  {
   "cell_type": "code",
   "execution_count": 589,
   "metadata": {},
   "outputs": [
    {
     "name": "stdout",
     "output_type": "stream",
     "text": [
      "\\frac{1}{x^{4} \\left(\\frac{1}{y^{4}} + \\frac{1}{x^{4}}\\right)} - \\frac{4.0 \\left(x - 1.0\\right)}{x^{5} \\left(\\frac{1}{y^{4}} + \\frac{1}{x^{4}}\\right)} + \\frac{4.0 \\left(x - 1.0\\right)}{x^{9} \\left(\\frac{1}{y^{4}} + \\frac{1}{x^{4}}\\right)^{2}}\n"
     ]
    },
    {
     "data": {
      "text/latex": [
       "$\\displaystyle \\frac{1}{x^{4} \\left(\\frac{1}{y^{4}} + \\frac{1}{x^{4}}\\right)} - \\frac{4.0 \\left(x - 1.0\\right)}{x^{5} \\left(\\frac{1}{y^{4}} + \\frac{1}{x^{4}}\\right)} + \\frac{4.0 \\left(x - 1.0\\right)}{x^{9} \\left(\\frac{1}{y^{4}} + \\frac{1}{x^{4}}\\right)^{2}}$"
      ],
      "text/plain": [
       "1/(x**4*(y**(-4) + x**(-4))) - 4.0*(x - 1.0)/(x**5*(y**(-4) + x**(-4))) + 4.0*(x - 1.0)/(x**9*(y**(-4) + x**(-4))**2)"
      ]
     },
     "execution_count": 589,
     "metadata": {},
     "output_type": "execute_result"
    }
   ],
   "source": [
    "print_latex(diff1.evalf(subs={b1:x, b2: y}))\n",
    "diff1.evalf(subs={b1:x, b2: y})"
   ]
  },
  {
   "cell_type": "code",
   "execution_count": 590,
   "metadata": {},
   "outputs": [
    {
     "name": "stdout",
     "output_type": "stream",
     "text": [
      "\\frac{1}{y^{4} \\left(\\frac{1}{y^{4}} + \\frac{1}{x^{4}}\\right)} - \\frac{4.0 \\left(y - 2.0\\right)}{y^{5} \\left(\\frac{1}{y^{4}} + \\frac{1}{x^{4}}\\right)} + \\frac{4.0 \\left(y - 2.0\\right)}{y^{9} \\left(\\frac{1}{y^{4}} + \\frac{1}{x^{4}}\\right)^{2}}\n"
     ]
    },
    {
     "data": {
      "text/latex": [
       "$\\displaystyle \\frac{1}{y^{4} \\left(\\frac{1}{y^{4}} + \\frac{1}{x^{4}}\\right)} - \\frac{4.0 \\left(y - 2.0\\right)}{y^{5} \\left(\\frac{1}{y^{4}} + \\frac{1}{x^{4}}\\right)} + \\frac{4.0 \\left(y - 2.0\\right)}{y^{9} \\left(\\frac{1}{y^{4}} + \\frac{1}{x^{4}}\\right)^{2}}$"
      ],
      "text/plain": [
       "1/(y**4*(y**(-4) + x**(-4))) - 4.0*(y - 2.0)/(y**5*(y**(-4) + x**(-4))) + 4.0*(y - 2.0)/(y**9*(y**(-4) + x**(-4))**2)"
      ]
     },
     "execution_count": 590,
     "metadata": {},
     "output_type": "execute_result"
    }
   ],
   "source": [
    "print_latex(diff2.evalf(subs={b1:x, b2: y}))\n",
    "diff2.evalf(subs={b1:x, b2: y})"
   ]
  },
  {
   "cell_type": "markdown",
   "metadata": {},
   "source": [
    "is there really no solution to ^ in closed form ? \n",
    "\n",
    "from wolf\n",
    "x=-1/2 sqrt((9 u^2)/16 + (5 u)/(2^(2/3) (27 u^3 + sqrt(729 u^6 + 472 u^3 + 324) + 18)^(1/3)) + (27 u^3 + sqrt(729 u^6 + 472 u^3 + 324) + 18)^(1/3)/(2 2^(1/3))) - 1/2 sqrt((9 u^2)/8 - (5 u)/(2^(2/3) (27 u^3 + sqrt(729 u^6 + 472 u^3 + 324) + 18)^(1/3)) - (27 u^3 + sqrt(729 u^6 + 472 u^3 + 324) + 18)^(1/3)/(2 2^(1/3)) - ((27 u^3)/8 + 12)/(4 sqrt((9 u^2)/16 + (5 u)/(2^(2/3) (27 u^3 + sqrt(729 u^6 + 472 u^3 + 324) + 18)^(1/3)) + (27 u^3 + sqrt(729 u^6 + 472 u^3 + 324) + 18)^(1/3)/(2 2^(1/3))))) + (3 u)/8\n",
    "\n",
    "y= -1/2 sqrt((9 v^2)/16 + (5 v)/(2^(2/3) (27 v^3 + sqrt(729 v^6 + 472 v^3 + 324) + 18)^(1/3)) + (27 v^3 + sqrt(729 v^6 + 472 v^3 + 324) + 18)^(1/3)/(2 2^(1/3))) - 1/2 sqrt((9 v^2)/8 - (5 v)/(2^(2/3) (27 v^3 + sqrt(729 v^6 + 472 v^3 + 324) + 18)^(1/3)) - (27 v^3 + sqrt(729 v^6 + 472 v^3 + 324) + 18)^(1/3)/(2 2^(1/3)) - ((27 v^3)/8 + 12)/(4 sqrt((9 v^2)/16 + (5 v)/(2^(2/3) (27 v^3 + sqrt(729 v^6 + 472 v^3 + 324) + 18)^(1/3)) + (27 v^3 + sqrt(729 v^6 + 472 v^3 + 324) + 18)^(1/3)/(2 2^(1/3))))) + (3 v)/8 "
   ]
  },
  {
   "cell_type": "code",
   "execution_count": 582,
   "metadata": {},
   "outputs": [],
   "source": [
    "## FROM CHATGPT\n",
    "def x(u):\n",
    "    # Define the repeated components to simplify the expression\n",
    "    sqrt_expr = np.sqrt(729 * u**6 + 472 * u**3 + 324)\n",
    "    common_term = (27 * u**3 + sqrt_expr + 18)**(1/3)\n",
    "    two_to_third = 2**(2/3)\n",
    "    two_to_one_third = 2**(1/3)\n",
    "    \n",
    "    # First square root term\n",
    "    first_sqrt_term = (9 * u**2) / 16 + (5 * u) / (two_to_third * common_term) + common_term / (2 * two_to_one_third)\n",
    "    \n",
    "    # Second square root term\n",
    "    second_sqrt_term = (9 * u**2) / 8 - (5 * u) / (two_to_third * common_term) - common_term / (2 * two_to_one_third) - ((27 * u**3) / 8 + 12) / (4 * np.sqrt(first_sqrt_term))\n",
    "    \n",
    "    # Full expression\n",
    "    result = -0.5 * np.sqrt(first_sqrt_term) - 0.5 * np.sqrt(second_sqrt_term) + (3 * u) / 8\n",
    "    \n",
    "    return result\n"
   ]
  },
  {
   "cell_type": "code",
   "execution_count": 585,
   "metadata": {},
   "outputs": [
    {
     "name": "stderr",
     "output_type": "stream",
     "text": [
      "<ipython-input-582-b59a793f1095>:16: RuntimeWarning: invalid value encountered in sqrt\n",
      "  result = -0.5 * np.sqrt(first_sqrt_term) - 0.5 * np.sqrt(second_sqrt_term) + (3 * u) / 8\n"
     ]
    },
    {
     "data": {
      "text/plain": [
       "nan"
      ]
     },
     "execution_count": 585,
     "metadata": {},
     "output_type": "execute_result"
    }
   ],
   "source": [
    "x(12)"
   ]
  },
  {
   "cell_type": "code",
   "execution_count": 591,
   "metadata": {},
   "outputs": [],
   "source": [
    "# LOL"
   ]
  },
  {
   "cell_type": "code",
   "execution_count": null,
   "metadata": {},
   "outputs": [],
   "source": []
  },
  {
   "cell_type": "code",
   "execution_count": null,
   "metadata": {},
   "outputs": [],
   "source": []
  },
  {
   "cell_type": "code",
   "execution_count": null,
   "metadata": {},
   "outputs": [],
   "source": []
  },
  {
   "cell_type": "code",
   "execution_count": null,
   "metadata": {},
   "outputs": [],
   "source": []
  },
  {
   "cell_type": "code",
   "execution_count": null,
   "metadata": {},
   "outputs": [],
   "source": []
  },
  {
   "cell_type": "code",
   "execution_count": null,
   "metadata": {},
   "outputs": [],
   "source": []
  },
  {
   "cell_type": "code",
   "execution_count": null,
   "metadata": {},
   "outputs": [],
   "source": []
  },
  {
   "cell_type": "code",
   "execution_count": null,
   "metadata": {},
   "outputs": [],
   "source": []
  },
  {
   "cell_type": "code",
   "execution_count": null,
   "metadata": {},
   "outputs": [],
   "source": []
  },
  {
   "cell_type": "code",
   "execution_count": null,
   "metadata": {},
   "outputs": [],
   "source": []
  },
  {
   "cell_type": "code",
   "execution_count": null,
   "metadata": {},
   "outputs": [],
   "source": []
  },
  {
   "cell_type": "code",
   "execution_count": null,
   "metadata": {},
   "outputs": [],
   "source": []
  },
  {
   "cell_type": "code",
   "execution_count": null,
   "metadata": {},
   "outputs": [],
   "source": []
  },
  {
   "cell_type": "code",
   "execution_count": null,
   "metadata": {},
   "outputs": [],
   "source": []
  },
  {
   "cell_type": "code",
   "execution_count": 46,
   "metadata": {},
   "outputs": [
    {
     "ename": "TypeError",
     "evalue": "cannot determine truth value of Relational",
     "output_type": "error",
     "traceback": [
      "\u001b[0;31m---------------------------------------------------------------------------\u001b[0m",
      "\u001b[0;31mTypeError\u001b[0m                                 Traceback (most recent call last)",
      "\u001b[0;32m<ipython-input-46-e067a1efcd3d>\u001b[0m in \u001b[0;36m<module>\u001b[0;34m\u001b[0m\n\u001b[1;32m      6\u001b[0m     \u001b[0;31m# check that the bid exceeds the reserve\u001b[0m\u001b[0;34m\u001b[0m\u001b[0;34m\u001b[0m\u001b[0;34m\u001b[0m\u001b[0m\n\u001b[1;32m      7\u001b[0m     \u001b[0mxi\u001b[0m \u001b[0;34m=\u001b[0m \u001b[0;36m0\u001b[0m\u001b[0;34m\u001b[0m\u001b[0;34m\u001b[0m\u001b[0m\n\u001b[0;32m----> 8\u001b[0;31m     \u001b[0;32mif\u001b[0m \u001b[0mbs\u001b[0m\u001b[0;34m[\u001b[0m\u001b[0mi\u001b[0m\u001b[0;34m]\u001b[0m \u001b[0;34m<=\u001b[0m \u001b[0mbr\u001b[0m\u001b[0;34m:\u001b[0m\u001b[0;34m\u001b[0m\u001b[0;34m\u001b[0m\u001b[0m\n\u001b[0m\u001b[1;32m      9\u001b[0m         \u001b[0mxi\u001b[0m \u001b[0;34m=\u001b[0m \u001b[0;36m1\u001b[0m\u001b[0;34m/\u001b[0m\u001b[0;34m(\u001b[0m\u001b[0mbs\u001b[0m\u001b[0;34m[\u001b[0m\u001b[0mi\u001b[0m\u001b[0;34m]\u001b[0m\u001b[0;34m**\u001b[0m\u001b[0ma\u001b[0m\u001b[0;34m)\u001b[0m \u001b[0;34m/\u001b[0m \u001b[0mden\u001b[0m\u001b[0;34m\u001b[0m\u001b[0;34m\u001b[0m\u001b[0m\n\u001b[1;32m     10\u001b[0m     \u001b[0mui\u001b[0m \u001b[0;34m=\u001b[0m \u001b[0;34m(\u001b[0m\u001b[0mbs\u001b[0m\u001b[0;34m[\u001b[0m\u001b[0mi\u001b[0m\u001b[0;34m]\u001b[0m\u001b[0;34m-\u001b[0m\u001b[0mvals\u001b[0m\u001b[0;34m[\u001b[0m\u001b[0mi\u001b[0m\u001b[0;34m]\u001b[0m\u001b[0;34m)\u001b[0m\u001b[0;34m*\u001b[0m\u001b[0mxi\u001b[0m\u001b[0;34m\u001b[0m\u001b[0;34m\u001b[0m\u001b[0m\n",
      "\u001b[0;32m/usr/local/lib/python3.8/site-packages/sympy/core/relational.py\u001b[0m in \u001b[0;36m__bool__\u001b[0;34m(self)\u001b[0m\n\u001b[1;32m    508\u001b[0m \u001b[0;34m\u001b[0m\u001b[0m\n\u001b[1;32m    509\u001b[0m     \u001b[0;32mdef\u001b[0m \u001b[0m__bool__\u001b[0m\u001b[0;34m(\u001b[0m\u001b[0mself\u001b[0m\u001b[0;34m)\u001b[0m\u001b[0;34m:\u001b[0m\u001b[0;34m\u001b[0m\u001b[0;34m\u001b[0m\u001b[0m\n\u001b[0;32m--> 510\u001b[0;31m         \u001b[0;32mraise\u001b[0m \u001b[0mTypeError\u001b[0m\u001b[0;34m(\u001b[0m\u001b[0;34m\"cannot determine truth value of Relational\"\u001b[0m\u001b[0;34m)\u001b[0m\u001b[0;34m\u001b[0m\u001b[0;34m\u001b[0m\u001b[0m\n\u001b[0m\u001b[1;32m    511\u001b[0m \u001b[0;34m\u001b[0m\u001b[0m\n\u001b[1;32m    512\u001b[0m     \u001b[0;32mdef\u001b[0m \u001b[0m_eval_as_set\u001b[0m\u001b[0;34m(\u001b[0m\u001b[0mself\u001b[0m\u001b[0;34m)\u001b[0m\u001b[0;34m:\u001b[0m\u001b[0;34m\u001b[0m\u001b[0;34m\u001b[0m\u001b[0m\n",
      "\u001b[0;31mTypeError\u001b[0m: cannot determine truth value of Relational"
     ]
    }
   ],
   "source": [
    "bs = [sp.Symbol('b_1'), sp.Symbol('b_2')]\n",
    "bids = [[init[i]] for i in range(n)]\n",
    "for turn in range(int(100)):\n",
    "    i = turn % n\n",
    "    den = sum([1/(bi**a) for bi in bs])\n",
    "    xi = 1/(bs[i]**a) / den\n",
    "    ui = (bs[i]-vals[i])*xi\n",
    "    subs = {}\n",
    "    for j in range(n):\n",
    "        if j != i:\n",
    "            subs[bs[j]] = bids[j][-1]\n",
    "    funci = sp.lambdify([bs[i]], -ui.evalf(subs=subs))\n",
    "    \n",
    "    partial = sp.diff(u1, c1)\n",
    "    best = sp.Eq(partial, 0).evalf(subs={c2:curr2})\n",
    "    sol = sp.solve(best)[0]\n",
    "    curr1 = sol\n",
    "    bounds = ((0, 1000),)\n",
    "    sol = minimize(funci, (2), method='SLSQP', bounds=bounds).x[0]\n",
    "    curri = sol\n",
    "    bids[i].append(curri)"
   ]
  },
  {
   "cell_type": "code",
   "execution_count": 44,
   "metadata": {},
   "outputs": [
    {
     "data": {
      "text/plain": [
       "(9.662256499117785, 8.81027044683631)"
      ]
     },
     "execution_count": 44,
     "metadata": {},
     "output_type": "execute_result"
    }
   ],
   "source": [
    "bids[0][-1], bids[-1][-1]"
   ]
  },
  {
   "cell_type": "code",
   "execution_count": null,
   "metadata": {},
   "outputs": [],
   "source": []
  },
  {
   "cell_type": "code",
   "execution_count": null,
   "metadata": {},
   "outputs": [],
   "source": []
  },
  {
   "cell_type": "code",
   "execution_count": null,
   "metadata": {},
   "outputs": [],
   "source": []
  },
  {
   "cell_type": "code",
   "execution_count": null,
   "metadata": {},
   "outputs": [],
   "source": []
  },
  {
   "cell_type": "code",
   "execution_count": null,
   "metadata": {},
   "outputs": [],
   "source": []
  },
  {
   "cell_type": "code",
   "execution_count": null,
   "metadata": {},
   "outputs": [],
   "source": []
  },
  {
   "cell_type": "code",
   "execution_count": null,
   "metadata": {},
   "outputs": [],
   "source": []
  },
  {
   "cell_type": "code",
   "execution_count": null,
   "metadata": {},
   "outputs": [],
   "source": []
  },
  {
   "cell_type": "code",
   "execution_count": null,
   "metadata": {},
   "outputs": [],
   "source": []
  },
  {
   "cell_type": "markdown",
   "metadata": {},
   "source": [
    "----\n",
    "# SCRATCH\n",
    "---"
   ]
  },
  {
   "cell_type": "code",
   "execution_count": null,
   "metadata": {},
   "outputs": [],
   "source": [
    "a     = 3\n",
    "gamma = 1/16\n",
    "\n",
    "kTs16, kEWs, kEPs = [], [], []\n",
    "for k in tqdm(range(1,21)):\n",
    "    valuations = [1.]\n",
    "    valuations.extend([1./gamma]*k)\n",
    "    bids = calcEquilBids(valuations, a)\n",
    "    kTs.append(calcTruthfulPayment(valuations, a))\n",
    "    kEWs.append(calcEquilWelfare(valuations, bids, a))\n",
    "    kEPs.append(calcEquilPayment(valuations, bids, a))\n",
    "kTs = np.asarray(kTs)\n",
    "kEWs = np.asarray(kEWs)\n",
    "kEPs = np.asarray(kEPs)"
   ]
  },
  {
   "cell_type": "code",
   "execution_count": null,
   "metadata": {},
   "outputs": [],
   "source": [
    "bids = calcEquilBids([4, 2], n=2, a=3, guess=[4,2])\n",
    "bids\n",
    "\n",
    "getAllocs(bids)\n",
    "\n",
    "(bids-np.array([4,2]))*getAllocs(bids)\n",
    "\n",
    "bids = calcEquilBids([10, 10, 2], n=3, a=3, guess=[4,4,2])\n",
    "bids\n",
    "\n",
    "getAllocs(bids)\n",
    "\n",
    "out = (bids-np.array([10,10,2]))*getAllocs(bids)\n",
    "out"
   ]
  },
  {
   "cell_type": "code",
   "execution_count": null,
   "metadata": {},
   "outputs": [],
   "source": []
  }
 ],
 "metadata": {
  "kernelspec": {
   "display_name": "Python 3",
   "language": "python",
   "name": "python3"
  },
  "language_info": {
   "codemirror_mode": {
    "name": "ipython",
    "version": 3
   },
   "file_extension": ".py",
   "mimetype": "text/x-python",
   "name": "python",
   "nbconvert_exporter": "python",
   "pygments_lexer": "ipython3",
   "version": "3.8.16"
  }
 },
 "nbformat": 4,
 "nbformat_minor": 4
}
