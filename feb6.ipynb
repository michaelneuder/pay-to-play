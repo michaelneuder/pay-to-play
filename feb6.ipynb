{
 "cells": [
  {
   "cell_type": "code",
   "execution_count": 1,
   "metadata": {},
   "outputs": [],
   "source": [
    "import matplotlib.pyplot as plt\n",
    "import matplotlib as mpl\n",
    "import matplotlib.patches as mpatches\n",
    "import numpy as np\n",
    "import pandas as pd\n",
    "import cvxpy as cp\n",
    "from scipy.stats import poisson, uniform, expon, pareto\n",
    "from scipy.optimize import minimize, fsolve\n",
    "from tqdm import tqdm\n",
    "from mdptoolbox import mdp, util\n",
    "import itertools\n",
    "from scipy.sparse import csr_matrix, lil_matrix\n",
    "from matplotlib.patches import Patch\n",
    "import math\n",
    "import random\n",
    "import sympy as sp\n",
    "from sympy.printing.latex import print_latex\n",
    "from scipy.optimize import least_squares"
   ]
  },
  {
   "cell_type": "code",
   "execution_count": 2,
   "metadata": {},
   "outputs": [],
   "source": [
    "def getEquilBids(cs, a, guess=None):\n",
    "    n = len(cs)\n",
    "    bs = [sp.Symbol('b{}'.format(i)) for i in range(n)]\n",
    "    \n",
    "    denom = sum([bi**(-a) for bi in bs])\n",
    "    xs    = [bi**(-a)/denom for bi in bs]\n",
    "    us    = [(bs[i] - cs[i])*xs[i] for i in range(n)]\n",
    "    diffs = [sp.diff(us[i], bs[i]) for i in range(n)]\n",
    "    funcs = [sp.lambdify(bs, diffs[i]) for i in range(n)]\n",
    "    \n",
    "    def eqs(bs):\n",
    "        return [f(*bs) for f in funcs]\n",
    "    \n",
    "    initial_guess = cs\n",
    "    if guess != None:\n",
    "        initial_guess = guess\n",
    "    \n",
    "    return fsolve(eqs, initial_guess)\n",
    "\n",
    "def getAllos(bids, a):\n",
    "    denom = sum([b**(-a) for b in bids])\n",
    "    return np.array(bids**(-a)) / denom"
   ]
  },
  {
   "cell_type": "code",
   "execution_count": 16,
   "metadata": {},
   "outputs": [
    {
     "data": {
      "text/plain": [
       "array([1. , 1.1, 1.2, 1.3, 1.4, 1.5, 1.6, 1.7, 1.8, 1.9, 2. , 2.1, 2.2,\n",
       "       2.3, 2.4, 2.5, 2.6, 2.7, 2.8, 2.9, 3. , 3.1, 3.2, 3.3, 3.4, 3.5,\n",
       "       3.6, 3.7, 3.8, 3.9, 4. , 4.1, 4.2, 4.3, 4.4, 4.5, 4.6, 4.7, 4.8,\n",
       "       4.9, 5. ])"
      ]
     },
     "execution_count": 16,
     "metadata": {},
     "output_type": "execute_result"
    }
   ],
   "source": [
    "alpha = 5\n",
    "c1s   = np.arange(1, 5.01, 0.1)\n",
    "c1s"
   ]
  },
  {
   "cell_type": "code",
   "execution_count": 28,
   "metadata": {},
   "outputs": [
    {
     "data": {
      "text/plain": [
       "((41, 2), (41,), (41, 2))"
      ]
     },
     "execution_count": 28,
     "metadata": {},
     "output_type": "execute_result"
    }
   ],
   "source": [
    "guesses = c1s\n",
    "\n",
    "xTildes  = []\n",
    "welfares = [] \n",
    "bids     = []\n",
    "for i, c1 in enumerate(c1s):\n",
    "    costs   = [1, c1]\n",
    "    cBids   = getEquilBids(costs, a=alpha, guess=[guesses[i],guesses[i]])\n",
    "    xTilde  = getAllos(cBids, a=alpha)\n",
    "    xTildes.append(xTilde)\n",
    "    welfares.append(np.dot(costs, xTilde))\n",
    "    bids.append(cBids)\n",
    "xTildes = np.asarray(xTildes)\n",
    "welfares = np.asarray(welfares)\n",
    "bids     = np.asarray(bids)\n",
    "xTildes.shape, welfares.shape, bids.shape"
   ]
  },
  {
   "cell_type": "code",
   "execution_count": 18,
   "metadata": {},
   "outputs": [],
   "source": [
    "def explicitQuadraticRoot(c, a):\n",
    "    # Calculate coefficients\n",
    "    A = (1 - c) * a**2 - 2 * a\n",
    "    B = c * a * (a - 1) + 2 - a**2\n",
    "    C = a - 1\n",
    "    \n",
    "    # Compute discriminant\n",
    "    discriminant = B**2 - 4 * A * C\n",
    "    \n",
    "    # Compute square root of discriminant\n",
    "    sqrt_discriminant = math.sqrt(discriminant)\n",
    "    \n",
    "    # Compute the positive root using the quadratic formula\n",
    "    x_star = (-B - sqrt_discriminant) / (2 * A)\n",
    "    \n",
    "    return x_star"
   ]
  },
  {
   "cell_type": "code",
   "execution_count": 24,
   "metadata": {},
   "outputs": [
    {
     "data": {
      "text/plain": [
       "0.6239390754726843"
      ]
     },
     "execution_count": 24,
     "metadata": {},
     "output_type": "execute_result"
    }
   ],
   "source": [
    "explicitQuadraticRoot(c=5, a=3)"
   ]
  },
  {
   "cell_type": "markdown",
   "metadata": {},
   "source": [
    "1. bound low cost allo below and high cost allo above\n",
    "2. use 2 eq 2 unkowns to solve for equil bids (up to constant)\n",
    "3. find constant such that it equals the bid when cost is 1.\n",
    "4. check that bounds are negative in the SOC"
   ]
  },
  {
   "cell_type": "code",
   "execution_count": 25,
   "metadata": {},
   "outputs": [],
   "source": [
    "def invAllos(x, a):\n",
    "    return (x/(1-x))**(1/a)"
   ]
  },
  {
   "cell_type": "code",
   "execution_count": 44,
   "metadata": {},
   "outputs": [
    {
     "data": {
      "text/plain": [
       "1.1838444938556116"
      ]
     },
     "execution_count": 44,
     "metadata": {},
     "output_type": "execute_result"
    }
   ],
   "source": [
    "invAllos(0.6239390754726843, a=3)"
   ]
  },
  {
   "cell_type": "code",
   "execution_count": 33,
   "metadata": {},
   "outputs": [],
   "source": [
    "def socSign(a, b, c, o):\n",
    "    return (c+b+a*(b-c)) + o*b**a * (c+b+a*(c-b))"
   ]
  },
  {
   "cell_type": "code",
   "execution_count": 34,
   "metadata": {},
   "outputs": [
    {
     "data": {
      "text/plain": [
       "array([1. , 1.1, 1.2, 1.3, 1.4, 1.5, 1.6, 1.7, 1.8, 1.9, 2. , 2.1, 2.2,\n",
       "       2.3, 2.4, 2.5, 2.6, 2.7, 2.8, 2.9, 3. , 3.1, 3.2, 3.3, 3.4, 3.5,\n",
       "       3.6, 3.7, 3.8, 3.9, 4. , 4.1, 4.2, 4.3, 4.4, 4.5, 4.6, 4.7, 4.8,\n",
       "       4.9, 5. ])"
      ]
     },
     "execution_count": 34,
     "metadata": {},
     "output_type": "execute_result"
    }
   ],
   "source": [
    "c1s"
   ]
  },
  {
   "cell_type": "code",
   "execution_count": 41,
   "metadata": {},
   "outputs": [],
   "source": [
    "p1socs = []\n",
    "p2socs = []\n",
    "for i, c1 in enumerate(c1s):\n",
    "    p1socs.append(socSign(a=3, b=bids[i,0], c=1, o=bids[i,1]**(-3)))\n",
    "    p2socs.append(socSign(a=3, b=bids[i,1], c=c1, o=bids[i,0]**(-3)))"
   ]
  },
  {
   "cell_type": "code",
   "execution_count": 42,
   "metadata": {
    "scrolled": true
   },
   "outputs": [
    {
     "data": {
      "text/plain": [
       "[5.3333333333332344,\n",
       " 5.802215876041792,\n",
       " 6.3020472659860305,\n",
       " 6.826963707824916,\n",
       " 7.371975865987982,\n",
       " 7.933012694512142,\n",
       " 8.506833796633284,\n",
       " 9.090893467442232,\n",
       " 9.683202141040876,\n",
       " 10.282204918595397,\n",
       " 10.88668256919832,\n",
       " 11.49567390988246,\n",
       " 12.10841617298726,\n",
       " 12.724299647323065,\n",
       " 13.342833285010839,\n",
       " 13.963618607323486,\n",
       " 14.586329840789022,\n",
       " 15.210698721970019,\n",
       " 15.83650280522675,\n",
       " 16.463556407873156,\n",
       " 17.091703550589898,\n",
       " 17.720812415830522,\n",
       " 18.350770968285985,\n",
       " 18.981483470140297,\n",
       " 19.612867691428523,\n",
       " 20.244852660809798,\n",
       " 20.87737684280903,\n",
       " 21.51038665095773,\n",
       " 22.143835228433502,\n",
       " 22.777681440540896,\n",
       " 23.411889051691396,\n",
       " 24.046426010459413,\n",
       " 24.681263889646814,\n",
       " 25.316377387182733,\n",
       " 25.95174391600489,\n",
       " 26.587343254373675,\n",
       " 27.223157248214086,\n",
       " 27.859169556815555,\n",
       " 28.495365434677954,\n",
       " 29.131731543797148,\n",
       " 29.768255791556655]"
      ]
     },
     "execution_count": 42,
     "metadata": {},
     "output_type": "execute_result"
    }
   ],
   "source": [
    "p2socs"
   ]
  },
  {
   "cell_type": "code",
   "execution_count": 32,
   "metadata": {},
   "outputs": [
    {
     "data": {
      "image/png": "[encoded data removed]",
      "text/plain": [
       "<Figure size 864x360 with 2 Axes>"
      ]
     },
     "metadata": {
      "needs_background": "light"
     },
     "output_type": "display_data"
    }
   ],
   "source": [
    "f, axarr = plt.subplots(ncols=2, figsize=(12,5))\n",
    "\n",
    "axarr[0].plot(c1s, xTildes[:,0], linewidth=3, alpha=0.6, label=r'$\\tilde{x}_1$', color='mediumorchid',\n",
    "              linestyle='-.')\n",
    "axarr[0].plot(c1s, xTildes[:,1], linewidth=3, alpha=0.6, label=r'$\\tilde{x}_2$', color='goldenrod',\n",
    "              linestyle='-.')\n",
    "roots = np.array([explicitQuadraticRoot(c1, alpha) for c1 in c1s])\n",
    "axarr[0].plot(c1s, roots, linewidth=3, alpha=0.6, label=r'$\\tilde{x}_2$', color='mediumorchid',\n",
    "              linestyle='dotted')\n",
    "axarr[0].plot(c1s, 1-roots, linewidth=3, alpha=0.6, label=r'$\\tilde{x}_2$', color='goldenrod',\n",
    "              linestyle='dotted')\n",
    "\n",
    "\n",
    "\n",
    "axarr[1].plot(c1s, roots+c1s*(1-roots), linewidth=3, alpha=0.6,\n",
    "              label='root bound PoA', color='green')\n",
    "axarr[1].plot(c1s, welfares, linewidth=3, alpha=0.6, label='numerical PoA', color='mediumblue')\n",
    "axarr[1].plot(c1s, bids[:,0], linewidth=3, alpha=0.6, label='p1 bids', color='red')\n",
    "axarr[1].plot(c1s, bids[:,1], linewidth=3, alpha=0.6, label='p2 bids', color='black')\n",
    "# axarr[1].plot(c1s, welfares, linewidth=3, alpha=0.6, label='p1', color='mediumblue')\n",
    "# axarr[1].plot(c1s, invAllos(roots))\n",
    "\n",
    "\n",
    "for ax in axarr:\n",
    "    ax.grid(alpha=0.3)\n",
    "    ax.set_xlabel(r'$c_2$', size=15)\n",
    "    ax.legend(prop={'size': 12})\n",
    "#     ax.set_xlim(1,2)\n",
    "axarr[0].set_title(r'allocations $(c_1=1, \\alpha={})$'.format(alpha), size=17)\n",
    "axarr[1].set_title(r'PoA $(c_1=1, \\alpha={})$'.format(alpha), size=17)\n",
    "\n",
    "plt.savefig('out.png', dpi=150, bbox_inches='tight', facecolor='white')\n",
    "plt.show()"
   ]
  },
  {
   "cell_type": "code",
   "execution_count": null,
   "metadata": {},
   "outputs": [],
   "source": []
  }
 ],
 "metadata": {
  "kernelspec": {
   "display_name": "Python 3",
   "language": "python",
   "name": "python3"
  },
  "language_info": {
   "codemirror_mode": {
    "name": "ipython",
    "version": 3
   },
   "file_extension": ".py",
   "mimetype": "text/x-python",
   "name": "python",
   "nbconvert_exporter": "python",
   "pygments_lexer": "ipython3",
   "version": "3.8.16"
  }
 },
 "nbformat": 4,
 "nbformat_minor": 4
}
