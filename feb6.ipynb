{
 "cells": [
  {
   "cell_type": "code",
   "execution_count": 1,
   "metadata": {},
   "outputs": [],
   "source": [
    "import matplotlib.pyplot as plt\n",
    "import matplotlib as mpl\n",
    "import matplotlib.patches as mpatches\n",
    "import numpy as np\n",
    "import pandas as pd\n",
    "import cvxpy as cp\n",
    "from scipy.stats import poisson, uniform, expon, pareto\n",
    "from scipy.optimize import minimize, fsolve\n",
    "from tqdm import tqdm\n",
    "from mdptoolbox import mdp, util\n",
    "import itertools\n",
    "from scipy.sparse import csr_matrix, lil_matrix\n",
    "from matplotlib.patches import Patch\n",
    "import math\n",
    "import random\n",
    "import sympy as sp\n",
    "from sympy.printing.latex import print_latex\n",
    "from scipy.optimize import least_squares"
   ]
  },
  {
   "cell_type": "markdown",
   "metadata": {},
   "source": [
    "# simplify for bound"
   ]
  },
  {
   "cell_type": "code",
   "execution_count": 479,
   "metadata": {},
   "outputs": [
    {
     "data": {
      "text/latex": [
       "$\\displaystyle - \\frac{\\alpha \\left(1 - x\\right) - 1}{\\alpha \\left(- \\frac{1 - x}{n - 1} + 1\\right) - 1} + \\frac{x^{\\frac{1}{\\alpha}} \\left(\\frac{1 - x}{n - 1}\\right)^{- \\frac{1}{\\alpha}} \\left(1 - x\\right)}{C \\left(- \\frac{1 - x}{n - 1} + 1\\right)}$"
      ],
      "text/plain": [
       "-(alpha*(1 - x) - 1)/(alpha*(-(1 - x)/(n - 1) + 1) - 1) + x**(1/alpha)*(1 - x)/(C*((1 - x)/(n - 1))**(1/alpha)*(-(1 - x)/(n - 1) + 1))"
      ]
     },
     "execution_count": 479,
     "metadata": {},
     "output_type": "execute_result"
    }
   ],
   "source": [
    "# 1) Declare symbolic variables\n",
    "x = sp.Symbol('x', real=True)\n",
    "alpha = sp.Symbol('alpha', positive=True)\n",
    "n = sp.Symbol('n', positive=True)\n",
    "C = sp.Symbol('C', positive=True)\n",
    "\n",
    "# 2) Define the LHS:\n",
    "#    LHS = [ x^(1/alpha)*(1-x) ] / [ C*((1-x)/(n-1))^(1/alpha)*(1 - (1-x)/(n-1)) ]\n",
    "lhs_num = x**(1/alpha)*(1 - x)\n",
    "lhs_den = C * ((1 - x)/(n - 1))**(1/alpha) * (1 - (1 - x)/(n - 1))\n",
    "lhs = lhs_num / lhs_den\n",
    "\n",
    "# 3) Define the RHS:\n",
    "#    RHS = [alpha(1-x) - 1] / [alpha(1 - (1-x)/(n-1)) - 1]\n",
    "rhs_num = alpha*(1 - x) - 1\n",
    "rhs_den = alpha*(1 - (1 - x)/(n - 1)) - 1\n",
    "rhs = rhs_num / rhs_den\n",
    "\n",
    "# 4) Define the \"test\" theta = 1 / [1 + (n+2)^(-1/alpha)*(C-1)]\n",
    "theta = 1 / (1 + (n + 2)**(-1/alpha)*(C - 1))\n",
    "\n",
    "# 5) Define the test x:\n",
    "#    x_test = (1/n)*theta + (1 - 1/alpha)*(1 - theta)\n",
    "x_test = (1/n)*theta + (1 - 1/alpha)*(1 - theta)\n",
    "\n",
    "# 6) Define expr = LHS - RHS\n",
    "expr = lhs - rhs\n",
    "expr"
   ]
  },
  {
   "cell_type": "code",
   "execution_count": 480,
   "metadata": {},
   "outputs": [
    {
     "data": {
      "text/latex": [
       "$\\displaystyle - \\frac{\\alpha \\left(- \\left(1 - \\frac{1}{\\alpha}\\right) \\left(1 - \\frac{1}{\\left(C - 1\\right) \\left(n + 2\\right)^{- \\frac{1}{\\alpha}} + 1}\\right) + 1 - \\frac{1}{n \\left(\\left(C - 1\\right) \\left(n + 2\\right)^{- \\frac{1}{\\alpha}} + 1\\right)}\\right) - 1}{\\alpha \\left(1 - \\frac{- \\left(1 - \\frac{1}{\\alpha}\\right) \\left(1 - \\frac{1}{\\left(C - 1\\right) \\left(n + 2\\right)^{- \\frac{1}{\\alpha}} + 1}\\right) + 1 - \\frac{1}{n \\left(\\left(C - 1\\right) \\left(n + 2\\right)^{- \\frac{1}{\\alpha}} + 1\\right)}}{n - 1}\\right) - 1} + \\frac{\\left(\\frac{- \\left(1 - \\frac{1}{\\alpha}\\right) \\left(1 - \\frac{1}{\\left(C - 1\\right) \\left(n + 2\\right)^{- \\frac{1}{\\alpha}} + 1}\\right) + 1 - \\frac{1}{n \\left(\\left(C - 1\\right) \\left(n + 2\\right)^{- \\frac{1}{\\alpha}} + 1\\right)}}{n - 1}\\right)^{- \\frac{1}{\\alpha}} \\left(\\left(1 - \\frac{1}{\\alpha}\\right) \\left(1 - \\frac{1}{\\left(C - 1\\right) \\left(n + 2\\right)^{- \\frac{1}{\\alpha}} + 1}\\right) + \\frac{1}{n \\left(\\left(C - 1\\right) \\left(n + 2\\right)^{- \\frac{1}{\\alpha}} + 1\\right)}\\right)^{\\frac{1}{\\alpha}} \\left(- \\left(1 - \\frac{1}{\\alpha}\\right) \\left(1 - \\frac{1}{\\left(C - 1\\right) \\left(n + 2\\right)^{- \\frac{1}{\\alpha}} + 1}\\right) + 1 - \\frac{1}{n \\left(\\left(C - 1\\right) \\left(n + 2\\right)^{- \\frac{1}{\\alpha}} + 1\\right)}\\right)}{C \\left(1 - \\frac{- \\left(1 - \\frac{1}{\\alpha}\\right) \\left(1 - \\frac{1}{\\left(C - 1\\right) \\left(n + 2\\right)^{- \\frac{1}{\\alpha}} + 1}\\right) + 1 - \\frac{1}{n \\left(\\left(C - 1\\right) \\left(n + 2\\right)^{- \\frac{1}{\\alpha}} + 1\\right)}}{n - 1}\\right)}$"
      ],
      "text/plain": [
       "-(alpha*(-(1 - 1/alpha)*(1 - 1/((C - 1)/(n + 2)**(1/alpha) + 1)) + 1 - 1/(n*((C - 1)/(n + 2)**(1/alpha) + 1))) - 1)/(alpha*(1 - (-(1 - 1/alpha)*(1 - 1/((C - 1)/(n + 2)**(1/alpha) + 1)) + 1 - 1/(n*((C - 1)/(n + 2)**(1/alpha) + 1)))/(n - 1)) - 1) + ((1 - 1/alpha)*(1 - 1/((C - 1)/(n + 2)**(1/alpha) + 1)) + 1/(n*((C - 1)/(n + 2)**(1/alpha) + 1)))**(1/alpha)*(-(1 - 1/alpha)*(1 - 1/((C - 1)/(n + 2)**(1/alpha) + 1)) + 1 - 1/(n*((C - 1)/(n + 2)**(1/alpha) + 1)))/(C*((-(1 - 1/alpha)*(1 - 1/((C - 1)/(n + 2)**(1/alpha) + 1)) + 1 - 1/(n*((C - 1)/(n + 2)**(1/alpha) + 1)))/(n - 1))**(1/alpha)*(1 - (-(1 - 1/alpha)*(1 - 1/((C - 1)/(n + 2)**(1/alpha) + 1)) + 1 - 1/(n*((C - 1)/(n + 2)**(1/alpha) + 1)))/(n - 1)))"
      ]
     },
     "execution_count": 480,
     "metadata": {},
     "output_type": "execute_result"
    }
   ],
   "source": [
    "expr_test_sub = expr.subs(x, x_test)\n",
    "expr_test_sub"
   ]
  },
  {
   "cell_type": "code",
   "execution_count": 499,
   "metadata": {},
   "outputs": [
    {
     "data": {
      "text/latex": [
       "$\\displaystyle \\frac{0.333333333333333 \\cdot \\left(0.333333333333333 + \\frac{0.666666666666667}{\\frac{1.5874010519682}{\\left(0.5 n + 1\\right)^{0.333333333333333}} + 1.0} - \\frac{1}{n \\left(\\frac{1.5874010519682}{\\left(0.5 n + 1\\right)^{0.333333333333333}} + 1.0\\right)}\\right) \\left(0.666666666666667 - \\frac{0.666666666666667}{\\frac{1.5874010519682}{\\left(0.5 n + 1\\right)^{0.333333333333333}} + 1.0} + \\frac{1}{n \\left(\\frac{1.5874010519682}{\\left(0.5 n + 1\\right)^{0.333333333333333}} + 1.0\\right)}\\right)^{0.333333333333333}}{\\left(\\frac{0.333333333333333 + \\frac{0.666666666666667}{\\frac{1.5874010519682}{\\left(0.5 n + 1\\right)^{0.333333333333333}} + 1.0} - \\frac{1}{n \\left(\\frac{1.5874010519682}{\\left(0.5 n + 1\\right)^{0.333333333333333}} + 1.0\\right)}}{n - 1.0}\\right)^{0.333333333333333} \\cdot \\left(1.0 - \\frac{0.333333333333333 + \\frac{0.666666666666667}{\\frac{1.5874010519682}{\\left(0.5 n + 1\\right)^{0.333333333333333}} + 1.0} - \\frac{1}{n \\left(\\frac{1.5874010519682}{\\left(0.5 n + 1\\right)^{0.333333333333333}} + 1.0\\right)}}{n - 1.0}\\right)} - \\frac{\\frac{2.0}{\\frac{1.5874010519682}{\\left(0.5 n + 1\\right)^{0.333333333333333}} + 1.0} - \\frac{3.0}{n \\left(\\frac{1.5874010519682}{\\left(0.5 n + 1\\right)^{0.333333333333333}} + 1.0\\right)}}{2.0 - \\frac{3.0 \\cdot \\left(0.333333333333333 + \\frac{0.666666666666667}{\\frac{1.5874010519682}{\\left(0.5 n + 1\\right)^{0.333333333333333}} + 1.0} - \\frac{1}{n \\left(\\frac{1.5874010519682}{\\left(0.5 n + 1\\right)^{0.333333333333333}} + 1.0\\right)}\\right)}{n - 1.0}}$"
      ],
      "text/plain": [
       "0.333333333333333*(0.333333333333333 + 0.666666666666667/(1.5874010519682/(0.5*n + 1)**0.333333333333333 + 1.0) - 1/(n*(1.5874010519682/(0.5*n + 1)**0.333333333333333 + 1.0)))*(0.666666666666667 - 0.666666666666667/(1.5874010519682/(0.5*n + 1)**0.333333333333333 + 1.0) + 1/(n*(1.5874010519682/(0.5*n + 1)**0.333333333333333 + 1.0)))**0.333333333333333/(((0.333333333333333 + 0.666666666666667/(1.5874010519682/(0.5*n + 1)**0.333333333333333 + 1.0) - 1/(n*(1.5874010519682/(0.5*n + 1)**0.333333333333333 + 1.0)))/(n - 1.0))**0.333333333333333*(1.0 - (0.333333333333333 + 0.666666666666667/(1.5874010519682/(0.5*n + 1)**0.333333333333333 + 1.0) - 1/(n*(1.5874010519682/(0.5*n + 1)**0.333333333333333 + 1.0)))/(n - 1.0))) - (2.0/(1.5874010519682/(0.5*n + 1)**0.333333333333333 + 1.0) - 3.0/(n*(1.5874010519682/(0.5*n + 1)**0.333333333333333 + 1.0)))/(2.0 - 3.0*(0.333333333333333 + 0.666666666666667/(1.5874010519682/(0.5*n + 1)**0.333333333333333 + 1.0) - 1/(n*(1.5874010519682/(0.5*n + 1)**0.333333333333333 + 1.0)))/(n - 1.0))"
      ]
     },
     "execution_count": 499,
     "metadata": {},
     "output_type": "execute_result"
    }
   ],
   "source": [
    "sp.simplify(expr_test_sub.evalf(subs={C:3, alpha:3}))"
   ]
  },
  {
   "cell_type": "code",
   "execution_count": 502,
   "metadata": {},
   "outputs": [
    {
     "ename": "KeyboardInterrupt",
     "evalue": "",
     "output_type": "error",
     "traceback": [
      "\u001b[0;31m---------------------------------------------------------------------------\u001b[0m",
      "\u001b[0;31mKeyboardInterrupt\u001b[0m                         Traceback (most recent call last)",
      "\u001b[0;32m<ipython-input-502-1746f0ef9452>\u001b[0m in \u001b[0;36m<module>\u001b[0;34m\u001b[0m\n\u001b[1;32m      1\u001b[0m \u001b[0;32mfrom\u001b[0m \u001b[0msympy\u001b[0m\u001b[0;34m.\u001b[0m\u001b[0msolvers\u001b[0m\u001b[0;34m.\u001b[0m\u001b[0minequalities\u001b[0m \u001b[0;32mimport\u001b[0m \u001b[0msolve_univariate_inequality\u001b[0m\u001b[0;34m\u001b[0m\u001b[0;34m\u001b[0m\u001b[0m\n\u001b[0;32m----> 2\u001b[0;31m \u001b[0msolve_univariate_inequality\u001b[0m\u001b[0;34m(\u001b[0m\u001b[0mexpr_test_sub\u001b[0m\u001b[0;34m.\u001b[0m\u001b[0mevalf\u001b[0m\u001b[0;34m(\u001b[0m\u001b[0msubs\u001b[0m\u001b[0;34m=\u001b[0m\u001b[0;34m{\u001b[0m\u001b[0mC\u001b[0m\u001b[0;34m:\u001b[0m\u001b[0;36m3\u001b[0m\u001b[0;34m,\u001b[0m \u001b[0malpha\u001b[0m\u001b[0;34m:\u001b[0m\u001b[0;36m3\u001b[0m\u001b[0;34m}\u001b[0m\u001b[0;34m)\u001b[0m \u001b[0;34m<\u001b[0m \u001b[0;36m0\u001b[0m\u001b[0;34m,\u001b[0m \u001b[0mn\u001b[0m\u001b[0;34m)\u001b[0m\u001b[0;34m\u001b[0m\u001b[0;34m\u001b[0m\u001b[0m\n\u001b[0m",
      "\u001b[0;32m/usr/local/lib/python3.8/site-packages/sympy/solvers/inequalities.py\u001b[0m in \u001b[0;36msolve_univariate_inequality\u001b[0;34m(expr, gen, relational, domain, continuous)\u001b[0m\n\u001b[1;32m    516\u001b[0m                 \u001b[0;31m# this might raise ValueError on its own\u001b[0m\u001b[0;34m\u001b[0m\u001b[0;34m\u001b[0m\u001b[0;34m\u001b[0m\u001b[0m\n\u001b[1;32m    517\u001b[0m                 \u001b[0;31m# or it might give None...\u001b[0m\u001b[0;34m\u001b[0m\u001b[0;34m\u001b[0m\u001b[0;34m\u001b[0m\u001b[0m\n\u001b[0;32m--> 518\u001b[0;31m                 \u001b[0msolns\u001b[0m \u001b[0;34m=\u001b[0m \u001b[0msolvify\u001b[0m\u001b[0;34m(\u001b[0m\u001b[0me\u001b[0m\u001b[0;34m,\u001b[0m \u001b[0mgen\u001b[0m\u001b[0;34m,\u001b[0m \u001b[0mdomain\u001b[0m\u001b[0;34m)\u001b[0m\u001b[0;34m\u001b[0m\u001b[0;34m\u001b[0m\u001b[0m\n\u001b[0m\u001b[1;32m    519\u001b[0m                 \u001b[0;32mif\u001b[0m \u001b[0msolns\u001b[0m \u001b[0;32mis\u001b[0m \u001b[0;32mNone\u001b[0m\u001b[0;34m:\u001b[0m\u001b[0;34m\u001b[0m\u001b[0;34m\u001b[0m\u001b[0m\n\u001b[1;32m    520\u001b[0m                     \u001b[0;31m# in which case we raise ValueError\u001b[0m\u001b[0;34m\u001b[0m\u001b[0;34m\u001b[0m\u001b[0;34m\u001b[0m\u001b[0m\n",
      "\u001b[0;32m/usr/local/lib/python3.8/site-packages/sympy/solvers/solveset.py\u001b[0m in \u001b[0;36msolvify\u001b[0;34m(f, symbol, domain)\u001b[0m\n\u001b[1;32m   2382\u001b[0m \u001b[0;34m\u001b[0m\u001b[0m\n\u001b[1;32m   2383\u001b[0m     \"\"\"\n\u001b[0;32m-> 2384\u001b[0;31m     \u001b[0msolution_set\u001b[0m \u001b[0;34m=\u001b[0m \u001b[0msolveset\u001b[0m\u001b[0;34m(\u001b[0m\u001b[0mf\u001b[0m\u001b[0;34m,\u001b[0m \u001b[0msymbol\u001b[0m\u001b[0;34m,\u001b[0m \u001b[0mdomain\u001b[0m\u001b[0;34m)\u001b[0m\u001b[0;34m\u001b[0m\u001b[0;34m\u001b[0m\u001b[0m\n\u001b[0m\u001b[1;32m   2385\u001b[0m     \u001b[0mresult\u001b[0m \u001b[0;34m=\u001b[0m \u001b[0;32mNone\u001b[0m\u001b[0;34m\u001b[0m\u001b[0;34m\u001b[0m\u001b[0m\n\u001b[1;32m   2386\u001b[0m     \u001b[0;32mif\u001b[0m \u001b[0msolution_set\u001b[0m \u001b[0;32mis\u001b[0m \u001b[0mS\u001b[0m\u001b[0;34m.\u001b[0m\u001b[0mEmptySet\u001b[0m\u001b[0;34m:\u001b[0m\u001b[0;34m\u001b[0m\u001b[0;34m\u001b[0m\u001b[0m\n",
      "\u001b[0;32m/usr/local/lib/python3.8/site-packages/sympy/solvers/solveset.py\u001b[0m in \u001b[0;36msolveset\u001b[0;34m(f, symbol, domain)\u001b[0m\n\u001b[1;32m   2250\u001b[0m     \u001b[0;32mif\u001b[0m \u001b[0msymbol\u001b[0m \u001b[0;32mnot\u001b[0m \u001b[0;32min\u001b[0m \u001b[0m_rc\u001b[0m\u001b[0;34m:\u001b[0m\u001b[0;34m\u001b[0m\u001b[0;34m\u001b[0m\u001b[0m\n\u001b[1;32m   2251\u001b[0m         \u001b[0mx\u001b[0m \u001b[0;34m=\u001b[0m \u001b[0m_rc\u001b[0m\u001b[0;34m[\u001b[0m\u001b[0;36m0\u001b[0m\u001b[0;34m]\u001b[0m \u001b[0;32mif\u001b[0m \u001b[0mdomain\u001b[0m\u001b[0;34m.\u001b[0m\u001b[0mis_subset\u001b[0m\u001b[0;34m(\u001b[0m\u001b[0mS\u001b[0m\u001b[0;34m.\u001b[0m\u001b[0mReals\u001b[0m\u001b[0;34m)\u001b[0m \u001b[0;32melse\u001b[0m \u001b[0m_rc\u001b[0m\u001b[0;34m[\u001b[0m\u001b[0;36m1\u001b[0m\u001b[0;34m]\u001b[0m\u001b[0;34m\u001b[0m\u001b[0;34m\u001b[0m\u001b[0m\n\u001b[0;32m-> 2252\u001b[0;31m         \u001b[0mrv\u001b[0m \u001b[0;34m=\u001b[0m \u001b[0msolveset\u001b[0m\u001b[0;34m(\u001b[0m\u001b[0mf\u001b[0m\u001b[0;34m.\u001b[0m\u001b[0mxreplace\u001b[0m\u001b[0;34m(\u001b[0m\u001b[0;34m{\u001b[0m\u001b[0msymbol\u001b[0m\u001b[0;34m:\u001b[0m \u001b[0mx\u001b[0m\u001b[0;34m}\u001b[0m\u001b[0;34m)\u001b[0m\u001b[0;34m,\u001b[0m \u001b[0mx\u001b[0m\u001b[0;34m,\u001b[0m \u001b[0mdomain\u001b[0m\u001b[0;34m)\u001b[0m\u001b[0;34m\u001b[0m\u001b[0;34m\u001b[0m\u001b[0m\n\u001b[0m\u001b[1;32m   2253\u001b[0m         \u001b[0;31m# try to use the original symbol if possible\u001b[0m\u001b[0;34m\u001b[0m\u001b[0;34m\u001b[0m\u001b[0;34m\u001b[0m\u001b[0m\n\u001b[1;32m   2254\u001b[0m         \u001b[0;32mtry\u001b[0m\u001b[0;34m:\u001b[0m\u001b[0;34m\u001b[0m\u001b[0;34m\u001b[0m\u001b[0m\n",
      "\u001b[0;32m/usr/local/lib/python3.8/site-packages/sympy/solvers/solveset.py\u001b[0m in \u001b[0;36msolveset\u001b[0;34m(f, symbol, domain)\u001b[0m\n\u001b[1;32m   2274\u001b[0m     \u001b[0mf\u001b[0m \u001b[0;34m=\u001b[0m \u001b[0mpiecewise_fold\u001b[0m\u001b[0;34m(\u001b[0m\u001b[0mf\u001b[0m\u001b[0;34m)\u001b[0m\u001b[0;34m\u001b[0m\u001b[0;34m\u001b[0m\u001b[0m\n\u001b[1;32m   2275\u001b[0m \u001b[0;34m\u001b[0m\u001b[0m\n\u001b[0;32m-> 2276\u001b[0;31m     \u001b[0;32mreturn\u001b[0m \u001b[0m_solveset\u001b[0m\u001b[0;34m(\u001b[0m\u001b[0mf\u001b[0m\u001b[0;34m,\u001b[0m \u001b[0msymbol\u001b[0m\u001b[0;34m,\u001b[0m \u001b[0mdomain\u001b[0m\u001b[0;34m,\u001b[0m \u001b[0m_check\u001b[0m\u001b[0;34m=\u001b[0m\u001b[0;32mTrue\u001b[0m\u001b[0;34m)\u001b[0m\u001b[0;34m\u001b[0m\u001b[0;34m\u001b[0m\u001b[0m\n\u001b[0m\u001b[1;32m   2277\u001b[0m \u001b[0;34m\u001b[0m\u001b[0m\n\u001b[1;32m   2278\u001b[0m \u001b[0;34m\u001b[0m\u001b[0m\n",
      "\u001b[0;32m/usr/local/lib/python3.8/site-packages/sympy/solvers/solveset.py\u001b[0m in \u001b[0;36m_solveset\u001b[0;34m(f, symbol, domain, _check)\u001b[0m\n\u001b[1;32m   1110\u001b[0m                         \u001b[0mresult\u001b[0m \u001b[0;34m+=\u001b[0m \u001b[0m_solve_abs\u001b[0m\u001b[0;34m(\u001b[0m\u001b[0mf\u001b[0m\u001b[0;34m,\u001b[0m \u001b[0msymbol\u001b[0m\u001b[0;34m,\u001b[0m \u001b[0mdomain\u001b[0m\u001b[0;34m)\u001b[0m\u001b[0;34m\u001b[0m\u001b[0;34m\u001b[0m\u001b[0m\n\u001b[1;32m   1111\u001b[0m                     \u001b[0;32melse\u001b[0m\u001b[0;34m:\u001b[0m\u001b[0;34m\u001b[0m\u001b[0;34m\u001b[0m\u001b[0m\n\u001b[0;32m-> 1112\u001b[0;31m                         \u001b[0mresult_rational\u001b[0m \u001b[0;34m=\u001b[0m \u001b[0m_solve_as_rational\u001b[0m\u001b[0;34m(\u001b[0m\u001b[0mequation\u001b[0m\u001b[0;34m,\u001b[0m \u001b[0msymbol\u001b[0m\u001b[0;34m,\u001b[0m \u001b[0mdomain\u001b[0m\u001b[0;34m)\u001b[0m\u001b[0;34m\u001b[0m\u001b[0;34m\u001b[0m\u001b[0m\n\u001b[0m\u001b[1;32m   1113\u001b[0m                         \u001b[0;32mif\u001b[0m \u001b[0;32mnot\u001b[0m \u001b[0misinstance\u001b[0m\u001b[0;34m(\u001b[0m\u001b[0mresult_rational\u001b[0m\u001b[0;34m,\u001b[0m \u001b[0mConditionSet\u001b[0m\u001b[0;34m)\u001b[0m\u001b[0;34m:\u001b[0m\u001b[0;34m\u001b[0m\u001b[0;34m\u001b[0m\u001b[0m\n\u001b[1;32m   1114\u001b[0m                             \u001b[0mresult\u001b[0m \u001b[0;34m+=\u001b[0m \u001b[0mresult_rational\u001b[0m\u001b[0;34m\u001b[0m\u001b[0;34m\u001b[0m\u001b[0m\n",
      "\u001b[0;32m/usr/local/lib/python3.8/site-packages/sympy/solvers/solveset.py\u001b[0m in \u001b[0;36m_solve_as_rational\u001b[0;34m(f, symbol, domain)\u001b[0m\n\u001b[1;32m    598\u001b[0m             \u001b[0;32mreturn\u001b[0m \u001b[0mS\u001b[0m\u001b[0;34m.\u001b[0m\u001b[0mEmptySet\u001b[0m\u001b[0;34m\u001b[0m\u001b[0;34m\u001b[0m\u001b[0m\n\u001b[1;32m    599\u001b[0m     \u001b[0;32melse\u001b[0m\u001b[0;34m:\u001b[0m\u001b[0;34m\u001b[0m\u001b[0;34m\u001b[0m\u001b[0m\n\u001b[0;32m--> 600\u001b[0;31m         \u001b[0mvalid_solns\u001b[0m \u001b[0;34m=\u001b[0m \u001b[0m_solveset\u001b[0m\u001b[0;34m(\u001b[0m\u001b[0mg\u001b[0m\u001b[0;34m,\u001b[0m \u001b[0msymbol\u001b[0m\u001b[0;34m,\u001b[0m \u001b[0mdomain\u001b[0m\u001b[0;34m)\u001b[0m\u001b[0;34m\u001b[0m\u001b[0;34m\u001b[0m\u001b[0m\n\u001b[0m\u001b[1;32m    601\u001b[0m         \u001b[0minvalid_solns\u001b[0m \u001b[0;34m=\u001b[0m \u001b[0m_solveset\u001b[0m\u001b[0;34m(\u001b[0m\u001b[0mh\u001b[0m\u001b[0;34m,\u001b[0m \u001b[0msymbol\u001b[0m\u001b[0;34m,\u001b[0m \u001b[0mdomain\u001b[0m\u001b[0;34m)\u001b[0m\u001b[0;34m\u001b[0m\u001b[0;34m\u001b[0m\u001b[0m\n\u001b[1;32m    602\u001b[0m         \u001b[0;32mreturn\u001b[0m \u001b[0mvalid_solns\u001b[0m \u001b[0;34m-\u001b[0m \u001b[0minvalid_solns\u001b[0m\u001b[0;34m\u001b[0m\u001b[0;34m\u001b[0m\u001b[0m\n",
      "\u001b[0;32m/usr/local/lib/python3.8/site-packages/sympy/solvers/solveset.py\u001b[0m in \u001b[0;36m_solveset\u001b[0;34m(f, symbol, domain, _check)\u001b[0m\n\u001b[1;32m   1133\u001b[0m                                         \u001b[0;32mfor\u001b[0m \u001b[0mfac\u001b[0m \u001b[0;32min\u001b[0m \u001b[0mMul\u001b[0m\u001b[0;34m.\u001b[0m\u001b[0mmake_args\u001b[0m\u001b[0;34m(\u001b[0m\u001b[0mfactored\u001b[0m\u001b[0;34m)\u001b[0m\u001b[0;34m:\u001b[0m\u001b[0;34m\u001b[0m\u001b[0;34m\u001b[0m\u001b[0m\n\u001b[1;32m   1134\u001b[0m                                             \u001b[0;32mif\u001b[0m \u001b[0mfac\u001b[0m\u001b[0;34m.\u001b[0m\u001b[0mhas\u001b[0m\u001b[0;34m(\u001b[0m\u001b[0msymbol\u001b[0m\u001b[0;34m)\u001b[0m\u001b[0;34m:\u001b[0m\u001b[0;34m\u001b[0m\u001b[0;34m\u001b[0m\u001b[0m\n\u001b[0;32m-> 1135\u001b[0;31m                                                 \u001b[0mt_results\u001b[0m\u001b[0;34m.\u001b[0m\u001b[0mappend\u001b[0m\u001b[0;34m(\u001b[0m\u001b[0msolver\u001b[0m\u001b[0;34m(\u001b[0m\u001b[0mfac\u001b[0m\u001b[0;34m,\u001b[0m \u001b[0msymbol\u001b[0m\u001b[0;34m)\u001b[0m\u001b[0;34m)\u001b[0m\u001b[0;34m\u001b[0m\u001b[0;34m\u001b[0m\u001b[0m\n\u001b[0m\u001b[1;32m   1136\u001b[0m                                         \u001b[0mt_result\u001b[0m \u001b[0;34m=\u001b[0m \u001b[0mUnion\u001b[0m\u001b[0;34m(\u001b[0m\u001b[0;34m*\u001b[0m\u001b[0mt_results\u001b[0m\u001b[0;34m)\u001b[0m\u001b[0;34m\u001b[0m\u001b[0;34m\u001b[0m\u001b[0m\n\u001b[1;32m   1137\u001b[0m                             \u001b[0mresult\u001b[0m \u001b[0;34m+=\u001b[0m \u001b[0mt_result\u001b[0m\u001b[0;34m\u001b[0m\u001b[0;34m\u001b[0m\u001b[0m\n",
      "\u001b[0;32m/usr/local/lib/python3.8/site-packages/sympy/solvers/solveset.py\u001b[0m in \u001b[0;36m<lambda>\u001b[0;34m(f, x, domain)\u001b[0m\n\u001b[1;32m   1038\u001b[0m \u001b[0;34m\u001b[0m\u001b[0m\n\u001b[1;32m   1039\u001b[0m     \u001b[0;31m# assign the solvers to use\u001b[0m\u001b[0;34m\u001b[0m\u001b[0;34m\u001b[0m\u001b[0;34m\u001b[0m\u001b[0m\n\u001b[0;32m-> 1040\u001b[0;31m     \u001b[0msolver\u001b[0m \u001b[0;34m=\u001b[0m \u001b[0;32mlambda\u001b[0m \u001b[0mf\u001b[0m\u001b[0;34m,\u001b[0m \u001b[0mx\u001b[0m\u001b[0;34m,\u001b[0m \u001b[0mdomain\u001b[0m\u001b[0;34m=\u001b[0m\u001b[0mdomain\u001b[0m\u001b[0;34m:\u001b[0m \u001b[0m_solveset\u001b[0m\u001b[0;34m(\u001b[0m\u001b[0mf\u001b[0m\u001b[0;34m,\u001b[0m \u001b[0mx\u001b[0m\u001b[0;34m,\u001b[0m \u001b[0mdomain\u001b[0m\u001b[0;34m)\u001b[0m\u001b[0;34m\u001b[0m\u001b[0;34m\u001b[0m\u001b[0m\n\u001b[0m\u001b[1;32m   1041\u001b[0m     \u001b[0minverter\u001b[0m \u001b[0;34m=\u001b[0m \u001b[0;32mlambda\u001b[0m \u001b[0mf\u001b[0m\u001b[0;34m,\u001b[0m \u001b[0mrhs\u001b[0m\u001b[0;34m,\u001b[0m \u001b[0msymbol\u001b[0m\u001b[0;34m:\u001b[0m \u001b[0m_invert\u001b[0m\u001b[0;34m(\u001b[0m\u001b[0mf\u001b[0m\u001b[0;34m,\u001b[0m \u001b[0mrhs\u001b[0m\u001b[0;34m,\u001b[0m \u001b[0msymbol\u001b[0m\u001b[0;34m,\u001b[0m \u001b[0mdomain\u001b[0m\u001b[0;34m)\u001b[0m\u001b[0;34m\u001b[0m\u001b[0;34m\u001b[0m\u001b[0m\n\u001b[1;32m   1042\u001b[0m \u001b[0;34m\u001b[0m\u001b[0m\n",
      "\u001b[0;32m/usr/local/lib/python3.8/site-packages/sympy/solvers/solveset.py\u001b[0m in \u001b[0;36m_solveset\u001b[0;34m(f, symbol, domain, _check)\u001b[0m\n\u001b[1;32m   1123\u001b[0m                                 \u001b[0;31m# that something that factors as a Pow would\u001b[0m\u001b[0;34m\u001b[0m\u001b[0;34m\u001b[0m\u001b[0;34m\u001b[0m\u001b[0m\n\u001b[1;32m   1124\u001b[0m                                 \u001b[0;31m# have already been recognized by now.\u001b[0m\u001b[0;34m\u001b[0m\u001b[0;34m\u001b[0m\u001b[0;34m\u001b[0m\u001b[0m\n\u001b[0;32m-> 1125\u001b[0;31m                                 \u001b[0mfactored\u001b[0m \u001b[0;34m=\u001b[0m \u001b[0mequation\u001b[0m\u001b[0;34m.\u001b[0m\u001b[0mfactor\u001b[0m\u001b[0;34m(\u001b[0m\u001b[0;34m)\u001b[0m\u001b[0;34m\u001b[0m\u001b[0;34m\u001b[0m\u001b[0m\n\u001b[0m\u001b[1;32m   1126\u001b[0m                                 \u001b[0;32mif\u001b[0m \u001b[0mfactored\u001b[0m\u001b[0;34m.\u001b[0m\u001b[0mis_Mul\u001b[0m \u001b[0;32mand\u001b[0m \u001b[0mequation\u001b[0m \u001b[0;34m!=\u001b[0m \u001b[0mfactored\u001b[0m\u001b[0;34m:\u001b[0m\u001b[0;34m\u001b[0m\u001b[0;34m\u001b[0m\u001b[0m\n\u001b[1;32m   1127\u001b[0m                                     \u001b[0m_\u001b[0m\u001b[0;34m,\u001b[0m \u001b[0mdep\u001b[0m \u001b[0;34m=\u001b[0m \u001b[0mfactored\u001b[0m\u001b[0;34m.\u001b[0m\u001b[0mas_independent\u001b[0m\u001b[0;34m(\u001b[0m\u001b[0msymbol\u001b[0m\u001b[0;34m)\u001b[0m\u001b[0;34m\u001b[0m\u001b[0;34m\u001b[0m\u001b[0m\n",
      "\u001b[0;32m/usr/local/lib/python3.8/site-packages/sympy/core/expr.py\u001b[0m in \u001b[0;36mfactor\u001b[0;34m(self, *gens, **args)\u001b[0m\n\u001b[1;32m   3784\u001b[0m         \u001b[0;34m\"\"\"See the factor() function in sympy.polys.polytools\"\"\"\u001b[0m\u001b[0;34m\u001b[0m\u001b[0;34m\u001b[0m\u001b[0m\n\u001b[1;32m   3785\u001b[0m         \u001b[0;32mfrom\u001b[0m \u001b[0msympy\u001b[0m\u001b[0;34m.\u001b[0m\u001b[0mpolys\u001b[0m\u001b[0;34m.\u001b[0m\u001b[0mpolytools\u001b[0m \u001b[0;32mimport\u001b[0m \u001b[0mfactor\u001b[0m\u001b[0;34m\u001b[0m\u001b[0;34m\u001b[0m\u001b[0m\n\u001b[0;32m-> 3786\u001b[0;31m         \u001b[0;32mreturn\u001b[0m \u001b[0mfactor\u001b[0m\u001b[0;34m(\u001b[0m\u001b[0mself\u001b[0m\u001b[0;34m,\u001b[0m \u001b[0;34m*\u001b[0m\u001b[0mgens\u001b[0m\u001b[0;34m,\u001b[0m \u001b[0;34m**\u001b[0m\u001b[0margs\u001b[0m\u001b[0;34m)\u001b[0m\u001b[0;34m\u001b[0m\u001b[0;34m\u001b[0m\u001b[0m\n\u001b[0m\u001b[1;32m   3787\u001b[0m \u001b[0;34m\u001b[0m\u001b[0m\n\u001b[1;32m   3788\u001b[0m     \u001b[0;32mdef\u001b[0m \u001b[0mcancel\u001b[0m\u001b[0;34m(\u001b[0m\u001b[0mself\u001b[0m\u001b[0;34m,\u001b[0m \u001b[0;34m*\u001b[0m\u001b[0mgens\u001b[0m\u001b[0;34m,\u001b[0m \u001b[0;34m**\u001b[0m\u001b[0margs\u001b[0m\u001b[0;34m)\u001b[0m\u001b[0;34m:\u001b[0m\u001b[0;34m\u001b[0m\u001b[0;34m\u001b[0m\u001b[0m\n",
      "\u001b[0;32m/usr/local/lib/python3.8/site-packages/sympy/polys/polytools.py\u001b[0m in \u001b[0;36mfactor\u001b[0;34m(f, deep, *gens, **args)\u001b[0m\n\u001b[1;32m   6540\u001b[0m \u001b[0;34m\u001b[0m\u001b[0m\n\u001b[1;32m   6541\u001b[0m     \u001b[0;32mtry\u001b[0m\u001b[0;34m:\u001b[0m\u001b[0;34m\u001b[0m\u001b[0;34m\u001b[0m\u001b[0m\n\u001b[0;32m-> 6542\u001b[0;31m         \u001b[0;32mreturn\u001b[0m \u001b[0m_generic_factor\u001b[0m\u001b[0;34m(\u001b[0m\u001b[0mf\u001b[0m\u001b[0;34m,\u001b[0m \u001b[0mgens\u001b[0m\u001b[0;34m,\u001b[0m \u001b[0margs\u001b[0m\u001b[0;34m,\u001b[0m \u001b[0mmethod\u001b[0m\u001b[0;34m=\u001b[0m\u001b[0;34m'factor'\u001b[0m\u001b[0;34m)\u001b[0m\u001b[0;34m\u001b[0m\u001b[0;34m\u001b[0m\u001b[0m\n\u001b[0m\u001b[1;32m   6543\u001b[0m     \u001b[0;32mexcept\u001b[0m \u001b[0mPolynomialError\u001b[0m \u001b[0;32mas\u001b[0m \u001b[0mmsg\u001b[0m\u001b[0;34m:\u001b[0m\u001b[0;34m\u001b[0m\u001b[0;34m\u001b[0m\u001b[0m\n\u001b[1;32m   6544\u001b[0m         \u001b[0;32mif\u001b[0m \u001b[0;32mnot\u001b[0m \u001b[0mf\u001b[0m\u001b[0;34m.\u001b[0m\u001b[0mis_commutative\u001b[0m\u001b[0;34m:\u001b[0m\u001b[0;34m\u001b[0m\u001b[0;34m\u001b[0m\u001b[0m\n",
      "\u001b[0;32m/usr/local/lib/python3.8/site-packages/sympy/polys/polytools.py\u001b[0m in \u001b[0;36m_generic_factor\u001b[0;34m(expr, gens, args, method)\u001b[0m\n\u001b[1;32m   6221\u001b[0m     \u001b[0mopt\u001b[0m \u001b[0;34m=\u001b[0m \u001b[0moptions\u001b[0m\u001b[0;34m.\u001b[0m\u001b[0mbuild_options\u001b[0m\u001b[0;34m(\u001b[0m\u001b[0mgens\u001b[0m\u001b[0;34m,\u001b[0m \u001b[0margs\u001b[0m\u001b[0;34m)\u001b[0m\u001b[0;34m\u001b[0m\u001b[0;34m\u001b[0m\u001b[0m\n\u001b[1;32m   6222\u001b[0m     \u001b[0mopt\u001b[0m\u001b[0;34m[\u001b[0m\u001b[0;34m'fraction'\u001b[0m\u001b[0;34m]\u001b[0m \u001b[0;34m=\u001b[0m \u001b[0mfraction\u001b[0m\u001b[0;34m\u001b[0m\u001b[0;34m\u001b[0m\u001b[0m\n\u001b[0;32m-> 6223\u001b[0;31m     \u001b[0;32mreturn\u001b[0m \u001b[0m_symbolic_factor\u001b[0m\u001b[0;34m(\u001b[0m\u001b[0msympify\u001b[0m\u001b[0;34m(\u001b[0m\u001b[0mexpr\u001b[0m\u001b[0;34m)\u001b[0m\u001b[0;34m,\u001b[0m \u001b[0mopt\u001b[0m\u001b[0;34m,\u001b[0m \u001b[0mmethod\u001b[0m\u001b[0;34m)\u001b[0m\u001b[0;34m\u001b[0m\u001b[0;34m\u001b[0m\u001b[0m\n\u001b[0m\u001b[1;32m   6224\u001b[0m \u001b[0;34m\u001b[0m\u001b[0m\n\u001b[1;32m   6225\u001b[0m \u001b[0;34m\u001b[0m\u001b[0m\n",
      "\u001b[0;32m/usr/local/lib/python3.8/site-packages/sympy/polys/polytools.py\u001b[0m in \u001b[0;36m_symbolic_factor\u001b[0;34m(expr, opt, method)\u001b[0m\n\u001b[1;32m   6161\u001b[0m         \u001b[0;32mif\u001b[0m \u001b[0mhasattr\u001b[0m\u001b[0;34m(\u001b[0m\u001b[0mexpr\u001b[0m\u001b[0;34m,\u001b[0m\u001b[0;34m'_eval_factor'\u001b[0m\u001b[0;34m)\u001b[0m\u001b[0;34m:\u001b[0m\u001b[0;34m\u001b[0m\u001b[0;34m\u001b[0m\u001b[0m\n\u001b[1;32m   6162\u001b[0m             \u001b[0;32mreturn\u001b[0m \u001b[0mexpr\u001b[0m\u001b[0;34m.\u001b[0m\u001b[0m_eval_factor\u001b[0m\u001b[0;34m(\u001b[0m\u001b[0;34m)\u001b[0m\u001b[0;34m\u001b[0m\u001b[0;34m\u001b[0m\u001b[0m\n\u001b[0;32m-> 6163\u001b[0;31m         \u001b[0mcoeff\u001b[0m\u001b[0;34m,\u001b[0m \u001b[0mfactors\u001b[0m \u001b[0;34m=\u001b[0m \u001b[0m_symbolic_factor_list\u001b[0m\u001b[0;34m(\u001b[0m\u001b[0mtogether\u001b[0m\u001b[0;34m(\u001b[0m\u001b[0mexpr\u001b[0m\u001b[0;34m,\u001b[0m \u001b[0mfraction\u001b[0m\u001b[0;34m=\u001b[0m\u001b[0mopt\u001b[0m\u001b[0;34m[\u001b[0m\u001b[0;34m'fraction'\u001b[0m\u001b[0;34m]\u001b[0m\u001b[0;34m)\u001b[0m\u001b[0;34m,\u001b[0m \u001b[0mopt\u001b[0m\u001b[0;34m,\u001b[0m \u001b[0mmethod\u001b[0m\u001b[0;34m)\u001b[0m\u001b[0;34m\u001b[0m\u001b[0;34m\u001b[0m\u001b[0m\n\u001b[0m\u001b[1;32m   6164\u001b[0m         \u001b[0;32mreturn\u001b[0m \u001b[0m_keep_coeff\u001b[0m\u001b[0;34m(\u001b[0m\u001b[0mcoeff\u001b[0m\u001b[0;34m,\u001b[0m \u001b[0m_factors_product\u001b[0m\u001b[0;34m(\u001b[0m\u001b[0mfactors\u001b[0m\u001b[0;34m)\u001b[0m\u001b[0;34m)\u001b[0m\u001b[0;34m\u001b[0m\u001b[0;34m\u001b[0m\u001b[0m\n\u001b[1;32m   6165\u001b[0m     \u001b[0;32melif\u001b[0m \u001b[0mhasattr\u001b[0m\u001b[0;34m(\u001b[0m\u001b[0mexpr\u001b[0m\u001b[0;34m,\u001b[0m \u001b[0;34m'args'\u001b[0m\u001b[0;34m)\u001b[0m\u001b[0;34m:\u001b[0m\u001b[0;34m\u001b[0m\u001b[0;34m\u001b[0m\u001b[0m\n",
      "\u001b[0;32m/usr/local/lib/python3.8/site-packages/sympy/polys/polytools.py\u001b[0m in \u001b[0;36m_symbolic_factor_list\u001b[0;34m(expr, opt, method)\u001b[0m\n\u001b[1;32m   6126\u001b[0m             \u001b[0mfunc\u001b[0m \u001b[0;34m=\u001b[0m \u001b[0mgetattr\u001b[0m\u001b[0;34m(\u001b[0m\u001b[0mpoly\u001b[0m\u001b[0;34m,\u001b[0m \u001b[0mmethod\u001b[0m \u001b[0;34m+\u001b[0m \u001b[0;34m'_list'\u001b[0m\u001b[0;34m)\u001b[0m\u001b[0;34m\u001b[0m\u001b[0;34m\u001b[0m\u001b[0m\n\u001b[1;32m   6127\u001b[0m \u001b[0;34m\u001b[0m\u001b[0m\n\u001b[0;32m-> 6128\u001b[0;31m             \u001b[0m_coeff\u001b[0m\u001b[0;34m,\u001b[0m \u001b[0m_factors\u001b[0m \u001b[0;34m=\u001b[0m \u001b[0mfunc\u001b[0m\u001b[0;34m(\u001b[0m\u001b[0;34m)\u001b[0m\u001b[0;34m\u001b[0m\u001b[0;34m\u001b[0m\u001b[0m\n\u001b[0m\u001b[1;32m   6129\u001b[0m             \u001b[0;32mif\u001b[0m \u001b[0m_coeff\u001b[0m \u001b[0;32mis\u001b[0m \u001b[0;32mnot\u001b[0m \u001b[0mS\u001b[0m\u001b[0;34m.\u001b[0m\u001b[0mOne\u001b[0m\u001b[0;34m:\u001b[0m\u001b[0;34m\u001b[0m\u001b[0;34m\u001b[0m\u001b[0m\n\u001b[1;32m   6130\u001b[0m                 \u001b[0;32mif\u001b[0m \u001b[0mexp\u001b[0m\u001b[0;34m.\u001b[0m\u001b[0mis_Integer\u001b[0m\u001b[0;34m:\u001b[0m\u001b[0;34m\u001b[0m\u001b[0;34m\u001b[0m\u001b[0m\n",
      "\u001b[0;32m/usr/local/lib/python3.8/site-packages/sympy/polys/polytools.py\u001b[0m in \u001b[0;36mfactor_list\u001b[0;34m(f)\u001b[0m\n\u001b[1;32m   3348\u001b[0m         \u001b[0;32mif\u001b[0m \u001b[0mhasattr\u001b[0m\u001b[0;34m(\u001b[0m\u001b[0mf\u001b[0m\u001b[0;34m.\u001b[0m\u001b[0mrep\u001b[0m\u001b[0;34m,\u001b[0m \u001b[0;34m'factor_list'\u001b[0m\u001b[0;34m)\u001b[0m\u001b[0;34m:\u001b[0m\u001b[0;34m\u001b[0m\u001b[0;34m\u001b[0m\u001b[0m\n\u001b[1;32m   3349\u001b[0m             \u001b[0;32mtry\u001b[0m\u001b[0;34m:\u001b[0m\u001b[0;34m\u001b[0m\u001b[0;34m\u001b[0m\u001b[0m\n\u001b[0;32m-> 3350\u001b[0;31m                 \u001b[0mcoeff\u001b[0m\u001b[0;34m,\u001b[0m \u001b[0mfactors\u001b[0m \u001b[0;34m=\u001b[0m \u001b[0mf\u001b[0m\u001b[0;34m.\u001b[0m\u001b[0mrep\u001b[0m\u001b[0;34m.\u001b[0m\u001b[0mfactor_list\u001b[0m\u001b[0;34m(\u001b[0m\u001b[0;34m)\u001b[0m\u001b[0;34m\u001b[0m\u001b[0;34m\u001b[0m\u001b[0m\n\u001b[0m\u001b[1;32m   3351\u001b[0m             \u001b[0;32mexcept\u001b[0m \u001b[0mDomainError\u001b[0m\u001b[0;34m:\u001b[0m\u001b[0;34m\u001b[0m\u001b[0;34m\u001b[0m\u001b[0m\n\u001b[1;32m   3352\u001b[0m                 \u001b[0;32mreturn\u001b[0m \u001b[0mS\u001b[0m\u001b[0;34m.\u001b[0m\u001b[0mOne\u001b[0m\u001b[0;34m,\u001b[0m \u001b[0;34m[\u001b[0m\u001b[0;34m(\u001b[0m\u001b[0mf\u001b[0m\u001b[0;34m,\u001b[0m \u001b[0;36m1\u001b[0m\u001b[0;34m)\u001b[0m\u001b[0;34m]\u001b[0m\u001b[0;34m\u001b[0m\u001b[0;34m\u001b[0m\u001b[0m\n",
      "\u001b[0;32m/usr/local/lib/python3.8/site-packages/sympy/polys/polyclasses.py\u001b[0m in \u001b[0;36mfactor_list\u001b[0;34m(f)\u001b[0m\n\u001b[1;32m    821\u001b[0m     \u001b[0;32mdef\u001b[0m \u001b[0mfactor_list\u001b[0m\u001b[0;34m(\u001b[0m\u001b[0mf\u001b[0m\u001b[0;34m)\u001b[0m\u001b[0;34m:\u001b[0m\u001b[0;34m\u001b[0m\u001b[0;34m\u001b[0m\u001b[0m\n\u001b[1;32m    822\u001b[0m         \u001b[0;34m\"\"\"Returns a list of irreducible factors of ``f``. \"\"\"\u001b[0m\u001b[0;34m\u001b[0m\u001b[0;34m\u001b[0m\u001b[0m\n\u001b[0;32m--> 823\u001b[0;31m         \u001b[0mcoeff\u001b[0m\u001b[0;34m,\u001b[0m \u001b[0mfactors\u001b[0m \u001b[0;34m=\u001b[0m \u001b[0mdmp_factor_list\u001b[0m\u001b[0;34m(\u001b[0m\u001b[0mf\u001b[0m\u001b[0;34m.\u001b[0m\u001b[0mrep\u001b[0m\u001b[0;34m,\u001b[0m \u001b[0mf\u001b[0m\u001b[0;34m.\u001b[0m\u001b[0mlev\u001b[0m\u001b[0;34m,\u001b[0m \u001b[0mf\u001b[0m\u001b[0;34m.\u001b[0m\u001b[0mdom\u001b[0m\u001b[0;34m)\u001b[0m\u001b[0;34m\u001b[0m\u001b[0;34m\u001b[0m\u001b[0m\n\u001b[0m\u001b[1;32m    824\u001b[0m         \u001b[0;32mreturn\u001b[0m \u001b[0mcoeff\u001b[0m\u001b[0;34m,\u001b[0m \u001b[0;34m[\u001b[0m \u001b[0;34m(\u001b[0m\u001b[0mf\u001b[0m\u001b[0;34m.\u001b[0m\u001b[0mper\u001b[0m\u001b[0;34m(\u001b[0m\u001b[0mg\u001b[0m\u001b[0;34m)\u001b[0m\u001b[0;34m,\u001b[0m \u001b[0mk\u001b[0m\u001b[0;34m)\u001b[0m \u001b[0;32mfor\u001b[0m \u001b[0mg\u001b[0m\u001b[0;34m,\u001b[0m \u001b[0mk\u001b[0m \u001b[0;32min\u001b[0m \u001b[0mfactors\u001b[0m \u001b[0;34m]\u001b[0m\u001b[0;34m\u001b[0m\u001b[0;34m\u001b[0m\u001b[0m\n\u001b[1;32m    825\u001b[0m \u001b[0;34m\u001b[0m\u001b[0m\n",
      "\u001b[0;32m/usr/local/lib/python3.8/site-packages/sympy/polys/factortools.py\u001b[0m in \u001b[0;36mdmp_factor_list\u001b[0;34m(f, u, K0)\u001b[0m\n\u001b[1;32m   1421\u001b[0m         \u001b[0;32mif\u001b[0m \u001b[0mK\u001b[0m\u001b[0;34m.\u001b[0m\u001b[0mis_ZZ\u001b[0m\u001b[0;34m:\u001b[0m\u001b[0;34m\u001b[0m\u001b[0;34m\u001b[0m\u001b[0m\n\u001b[1;32m   1422\u001b[0m             \u001b[0mlevels\u001b[0m\u001b[0;34m,\u001b[0m \u001b[0mf\u001b[0m\u001b[0;34m,\u001b[0m \u001b[0mv\u001b[0m \u001b[0;34m=\u001b[0m \u001b[0mdmp_exclude\u001b[0m\u001b[0;34m(\u001b[0m\u001b[0mf\u001b[0m\u001b[0;34m,\u001b[0m \u001b[0mu\u001b[0m\u001b[0;34m,\u001b[0m \u001b[0mK\u001b[0m\u001b[0;34m)\u001b[0m\u001b[0;34m\u001b[0m\u001b[0;34m\u001b[0m\u001b[0m\n\u001b[0;32m-> 1423\u001b[0;31m             \u001b[0mcoeff\u001b[0m\u001b[0;34m,\u001b[0m \u001b[0mfactors\u001b[0m \u001b[0;34m=\u001b[0m \u001b[0mdmp_zz_factor\u001b[0m\u001b[0;34m(\u001b[0m\u001b[0mf\u001b[0m\u001b[0;34m,\u001b[0m \u001b[0mv\u001b[0m\u001b[0;34m,\u001b[0m \u001b[0mK\u001b[0m\u001b[0;34m)\u001b[0m\u001b[0;34m\u001b[0m\u001b[0;34m\u001b[0m\u001b[0m\n\u001b[0m\u001b[1;32m   1424\u001b[0m \u001b[0;34m\u001b[0m\u001b[0m\n\u001b[1;32m   1425\u001b[0m             \u001b[0;32mfor\u001b[0m \u001b[0mi\u001b[0m\u001b[0;34m,\u001b[0m \u001b[0;34m(\u001b[0m\u001b[0mf\u001b[0m\u001b[0;34m,\u001b[0m \u001b[0mk\u001b[0m\u001b[0;34m)\u001b[0m \u001b[0;32min\u001b[0m \u001b[0menumerate\u001b[0m\u001b[0;34m(\u001b[0m\u001b[0mfactors\u001b[0m\u001b[0;34m)\u001b[0m\u001b[0;34m:\u001b[0m\u001b[0;34m\u001b[0m\u001b[0;34m\u001b[0m\u001b[0m\n",
      "\u001b[0;32m/usr/local/lib/python3.8/site-packages/sympy/polys/factortools.py\u001b[0m in \u001b[0;36mdmp_zz_factor\u001b[0;34m(f, u, K)\u001b[0m\n\u001b[1;32m   1158\u001b[0m     \u001b[0;32mif\u001b[0m \u001b[0mdmp_degree\u001b[0m\u001b[0;34m(\u001b[0m\u001b[0mg\u001b[0m\u001b[0;34m,\u001b[0m \u001b[0mu\u001b[0m\u001b[0;34m)\u001b[0m \u001b[0;34m>\u001b[0m \u001b[0;36m0\u001b[0m\u001b[0;34m:\u001b[0m\u001b[0;34m\u001b[0m\u001b[0;34m\u001b[0m\u001b[0m\n\u001b[1;32m   1159\u001b[0m         \u001b[0mg\u001b[0m \u001b[0;34m=\u001b[0m \u001b[0mdmp_sqf_part\u001b[0m\u001b[0;34m(\u001b[0m\u001b[0mg\u001b[0m\u001b[0;34m,\u001b[0m \u001b[0mu\u001b[0m\u001b[0;34m,\u001b[0m \u001b[0mK\u001b[0m\u001b[0;34m)\u001b[0m\u001b[0;34m\u001b[0m\u001b[0;34m\u001b[0m\u001b[0m\n\u001b[0;32m-> 1160\u001b[0;31m         \u001b[0mH\u001b[0m \u001b[0;34m=\u001b[0m \u001b[0mdmp_zz_wang\u001b[0m\u001b[0;34m(\u001b[0m\u001b[0mg\u001b[0m\u001b[0;34m,\u001b[0m \u001b[0mu\u001b[0m\u001b[0;34m,\u001b[0m \u001b[0mK\u001b[0m\u001b[0;34m)\u001b[0m\u001b[0;34m\u001b[0m\u001b[0;34m\u001b[0m\u001b[0m\n\u001b[0m\u001b[1;32m   1161\u001b[0m         \u001b[0mfactors\u001b[0m \u001b[0;34m=\u001b[0m \u001b[0mdmp_trial_division\u001b[0m\u001b[0;34m(\u001b[0m\u001b[0mf\u001b[0m\u001b[0;34m,\u001b[0m \u001b[0mH\u001b[0m\u001b[0;34m,\u001b[0m \u001b[0mu\u001b[0m\u001b[0;34m,\u001b[0m \u001b[0mK\u001b[0m\u001b[0;34m)\u001b[0m\u001b[0;34m\u001b[0m\u001b[0;34m\u001b[0m\u001b[0m\n\u001b[1;32m   1162\u001b[0m \u001b[0;34m\u001b[0m\u001b[0m\n",
      "\u001b[0;32m/usr/local/lib/python3.8/site-packages/sympy/polys/factortools.py\u001b[0m in \u001b[0;36mdmp_zz_wang\u001b[0;34m(f, u, K, mod, seed)\u001b[0m\n\u001b[1;32m    997\u001b[0m \u001b[0;34m\u001b[0m\u001b[0m\n\u001b[1;32m    998\u001b[0m     \u001b[0mb\u001b[0m \u001b[0;34m=\u001b[0m \u001b[0mdmp_zz_mignotte_bound\u001b[0m\u001b[0;34m(\u001b[0m\u001b[0mf\u001b[0m\u001b[0;34m,\u001b[0m \u001b[0mu\u001b[0m\u001b[0;34m,\u001b[0m \u001b[0mK\u001b[0m\u001b[0;34m)\u001b[0m\u001b[0;34m\u001b[0m\u001b[0;34m\u001b[0m\u001b[0m\n\u001b[0;32m--> 999\u001b[0;31m     \u001b[0mp\u001b[0m \u001b[0;34m=\u001b[0m \u001b[0mK\u001b[0m\u001b[0;34m(\u001b[0m\u001b[0mnextprime\u001b[0m\u001b[0;34m(\u001b[0m\u001b[0mb\u001b[0m\u001b[0;34m)\u001b[0m\u001b[0;34m)\u001b[0m\u001b[0;34m\u001b[0m\u001b[0;34m\u001b[0m\u001b[0m\n\u001b[0m\u001b[1;32m   1000\u001b[0m \u001b[0;34m\u001b[0m\u001b[0m\n\u001b[1;32m   1001\u001b[0m     \u001b[0;32mif\u001b[0m \u001b[0mmod\u001b[0m \u001b[0;32mis\u001b[0m \u001b[0;32mNone\u001b[0m\u001b[0;34m:\u001b[0m\u001b[0;34m\u001b[0m\u001b[0;34m\u001b[0m\u001b[0m\n",
      "\u001b[0;32m/usr/local/lib/python3.8/site-packages/sympy/ntheory/generate.py\u001b[0m in \u001b[0;36mnextprime\u001b[0;34m(n, ith)\u001b[0m\n\u001b[1;32m    602\u001b[0m         \u001b[0mn\u001b[0m \u001b[0;34m=\u001b[0m \u001b[0mnn\u001b[0m \u001b[0;34m+\u001b[0m \u001b[0;36m5\u001b[0m\u001b[0;34m\u001b[0m\u001b[0;34m\u001b[0m\u001b[0m\n\u001b[1;32m    603\u001b[0m     \u001b[0;32mwhile\u001b[0m \u001b[0;36m1\u001b[0m\u001b[0;34m:\u001b[0m\u001b[0;34m\u001b[0m\u001b[0;34m\u001b[0m\u001b[0m\n\u001b[0;32m--> 604\u001b[0;31m         \u001b[0;32mif\u001b[0m \u001b[0misprime\u001b[0m\u001b[0;34m(\u001b[0m\u001b[0mn\u001b[0m\u001b[0;34m)\u001b[0m\u001b[0;34m:\u001b[0m\u001b[0;34m\u001b[0m\u001b[0;34m\u001b[0m\u001b[0m\n\u001b[0m\u001b[1;32m    605\u001b[0m             \u001b[0;32mreturn\u001b[0m \u001b[0mn\u001b[0m\u001b[0;34m\u001b[0m\u001b[0;34m\u001b[0m\u001b[0m\n\u001b[1;32m    606\u001b[0m         \u001b[0mn\u001b[0m \u001b[0;34m+=\u001b[0m \u001b[0;36m2\u001b[0m\u001b[0;34m\u001b[0m\u001b[0;34m\u001b[0m\u001b[0m\n",
      "\u001b[0;32m/usr/local/lib/python3.8/site-packages/sympy/ntheory/primetest.py\u001b[0m in \u001b[0;36misprime\u001b[0;34m(n)\u001b[0m\n\u001b[1;32m    665\u001b[0m \u001b[0;34m\u001b[0m\u001b[0m\n\u001b[1;32m    666\u001b[0m     \u001b[0;31m# Classic BPSW from page 1401 of the paper.  See alternate ideas below.\u001b[0m\u001b[0;34m\u001b[0m\u001b[0;34m\u001b[0m\u001b[0;34m\u001b[0m\u001b[0m\n\u001b[0;32m--> 667\u001b[0;31m     \u001b[0;32mreturn\u001b[0m \u001b[0mmr\u001b[0m\u001b[0;34m(\u001b[0m\u001b[0mn\u001b[0m\u001b[0;34m,\u001b[0m \u001b[0;34m[\u001b[0m\u001b[0;36m2\u001b[0m\u001b[0;34m]\u001b[0m\u001b[0;34m)\u001b[0m \u001b[0;32mand\u001b[0m \u001b[0mis_strong_lucas_prp\u001b[0m\u001b[0;34m(\u001b[0m\u001b[0mn\u001b[0m\u001b[0;34m)\u001b[0m\u001b[0;34m\u001b[0m\u001b[0;34m\u001b[0m\u001b[0m\n\u001b[0m\u001b[1;32m    668\u001b[0m \u001b[0;34m\u001b[0m\u001b[0m\n\u001b[1;32m    669\u001b[0m     \u001b[0;31m# Using extra strong test, which is somewhat faster\u001b[0m\u001b[0;34m\u001b[0m\u001b[0;34m\u001b[0m\u001b[0;34m\u001b[0m\u001b[0m\n",
      "\u001b[0;32m/usr/local/lib/python3.8/site-packages/sympy/ntheory/primetest.py\u001b[0m in \u001b[0;36mmr\u001b[0;34m(n, bases)\u001b[0m\n\u001b[1;32m    183\u001b[0m         \u001b[0;32mif\u001b[0m \u001b[0mbase\u001b[0m \u001b[0;34m>=\u001b[0m \u001b[0;36m2\u001b[0m\u001b[0;34m:\u001b[0m\u001b[0;34m\u001b[0m\u001b[0;34m\u001b[0m\u001b[0m\n\u001b[1;32m    184\u001b[0m             \u001b[0mbase\u001b[0m \u001b[0;34m=\u001b[0m \u001b[0mZZ\u001b[0m\u001b[0;34m(\u001b[0m\u001b[0mbase\u001b[0m\u001b[0;34m)\u001b[0m\u001b[0;34m\u001b[0m\u001b[0;34m\u001b[0m\u001b[0m\n\u001b[0;32m--> 185\u001b[0;31m             \u001b[0;32mif\u001b[0m \u001b[0;32mnot\u001b[0m \u001b[0m_test\u001b[0m\u001b[0;34m(\u001b[0m\u001b[0mn\u001b[0m\u001b[0;34m,\u001b[0m \u001b[0mbase\u001b[0m\u001b[0;34m,\u001b[0m \u001b[0ms\u001b[0m\u001b[0;34m,\u001b[0m \u001b[0mt\u001b[0m\u001b[0;34m)\u001b[0m\u001b[0;34m:\u001b[0m\u001b[0;34m\u001b[0m\u001b[0;34m\u001b[0m\u001b[0m\n\u001b[0m\u001b[1;32m    186\u001b[0m                 \u001b[0;32mreturn\u001b[0m \u001b[0;32mFalse\u001b[0m\u001b[0;34m\u001b[0m\u001b[0;34m\u001b[0m\u001b[0m\n\u001b[1;32m    187\u001b[0m     \u001b[0;32mreturn\u001b[0m \u001b[0;32mTrue\u001b[0m\u001b[0;34m\u001b[0m\u001b[0;34m\u001b[0m\u001b[0m\n",
      "\u001b[0;32m/usr/local/lib/python3.8/site-packages/sympy/ntheory/primetest.py\u001b[0m in \u001b[0;36m_test\u001b[0;34m(n, base, s, t)\u001b[0m\n\u001b[1;32m    131\u001b[0m     \"\"\"\n\u001b[1;32m    132\u001b[0m     \u001b[0;31m# do the Fermat test\u001b[0m\u001b[0;34m\u001b[0m\u001b[0;34m\u001b[0m\u001b[0;34m\u001b[0m\u001b[0m\n\u001b[0;32m--> 133\u001b[0;31m     \u001b[0mb\u001b[0m \u001b[0;34m=\u001b[0m \u001b[0mpow\u001b[0m\u001b[0;34m(\u001b[0m\u001b[0mbase\u001b[0m\u001b[0;34m,\u001b[0m \u001b[0mt\u001b[0m\u001b[0;34m,\u001b[0m \u001b[0mn\u001b[0m\u001b[0;34m)\u001b[0m\u001b[0;34m\u001b[0m\u001b[0;34m\u001b[0m\u001b[0m\n\u001b[0m\u001b[1;32m    134\u001b[0m     \u001b[0;32mif\u001b[0m \u001b[0mb\u001b[0m \u001b[0;34m==\u001b[0m \u001b[0;36m1\u001b[0m \u001b[0;32mor\u001b[0m \u001b[0mb\u001b[0m \u001b[0;34m==\u001b[0m \u001b[0mn\u001b[0m \u001b[0;34m-\u001b[0m \u001b[0;36m1\u001b[0m\u001b[0;34m:\u001b[0m\u001b[0;34m\u001b[0m\u001b[0;34m\u001b[0m\u001b[0m\n\u001b[1;32m    135\u001b[0m         \u001b[0;32mreturn\u001b[0m \u001b[0;32mTrue\u001b[0m\u001b[0;34m\u001b[0m\u001b[0;34m\u001b[0m\u001b[0m\n",
      "\u001b[0;31mKeyboardInterrupt\u001b[0m: "
     ]
    }
   ],
   "source": [
    "from sympy.solvers.inequalities import solve_univariate_inequality\n",
    "solve_univariate_inequality(expr_test_sub.evalf(subs={C:3, alpha:3}) < 0, n)"
   ]
  },
  {
   "cell_type": "code",
   "execution_count": 491,
   "metadata": {},
   "outputs": [
    {
     "name": "stdout",
     "output_type": "stream",
     "text": [
      "\n",
      "Numeric evaluation at alpha=3, n=2, C=1.11:\n",
      " -0.00295909550082867\n"
     ]
    }
   ],
   "source": [
    "alpha_val = 3\n",
    "n_val     = 2\n",
    "C_val     = 1.11\n",
    "\n",
    "expr_num = expr_test_sub.subs({alpha: alpha_val, n: n_val, C: C_val})\n",
    "print(f\"\\nNumeric evaluation at alpha={alpha_val}, n={n_val}, C={C_val}:\\n\", expr_num.evalf())"
   ]
  },
  {
   "cell_type": "code",
   "execution_count": null,
   "metadata": {},
   "outputs": [],
   "source": []
  },
  {
   "cell_type": "code",
   "execution_count": 441,
   "metadata": {},
   "outputs": [
    {
     "name": "stdout",
     "output_type": "stream",
     "text": [
      "LHS: (n - 1)**(1 + 1/alpha)*(alpha*(1 - x) + 2*x - 1)/(C*alpha*(n + x - 2))\n",
      "RHS: (alpha*(1 - x) - 1)/(alpha*(-(1 - x)/(n - 1) + 1) - 1)\n",
      "LHS - RHS = -(alpha*(1 - x) - 1)/(alpha*(-(1 - x)/(n - 1) + 1) - 1) + (n - 1)**(1 + 1/alpha)*(alpha*(1 - x) + 2*x - 1)/(C*alpha*(n + x - 2))\n",
      "Simplified difference = (-C*alpha*(n - 1)*(alpha*(x - 1) + 1)*(n + x - 2) - (n - 1)**((alpha + 1)/alpha)*(alpha*(x - 1) - 2*x + 1)*(alpha*(-n - x + 2) + n - 1))/(C*alpha*(n + x - 2)*(alpha*(-n - x + 2) + n - 1))\n"
     ]
    }
   ],
   "source": [
    "# 1) Declare your symbolic variables\n",
    "alpha, x, n, C = sp.symbols('alpha x n C', positive=True)\n",
    "\n",
    "# 2) Define the LHS\n",
    "lhs = ((n - 1)**(1 + 1/alpha)) / (C*(n - 2 + x)) * ((alpha*(1 - x) + 2*x - 1)/alpha)\n",
    "\n",
    "# 3) Define the RHS\n",
    "rhs = (alpha*(1 - x) - 1) / (alpha*(1 - (1 - x)/(n - 1)) - 1)\n",
    "\n",
    "# 4) Look at the difference LHS - RHS and try to simplify\n",
    "difference = lhs - rhs\n",
    "simpl_diff = sp.simplify(difference)\n",
    "\n",
    "print(\"LHS:\", lhs)\n",
    "print(\"RHS:\", rhs)\n",
    "print(\"LHS - RHS =\", difference)\n",
    "print(\"Simplified difference =\", simpl_diff)"
   ]
  },
  {
   "cell_type": "code",
   "execution_count": 442,
   "metadata": {},
   "outputs": [
    {
     "data": {
      "text/latex": [
       "$\\displaystyle \\frac{\\left(n - 1\\right)^{1 + \\frac{1}{\\alpha}} \\left(\\alpha \\left(1 - x\\right) + 2 x - 1\\right)}{C \\alpha \\left(n + x - 2\\right)}$"
      ],
      "text/plain": [
       "(n - 1)**(1 + 1/alpha)*(alpha*(1 - x) + 2*x - 1)/(C*alpha*(n + x - 2))"
      ]
     },
     "execution_count": 442,
     "metadata": {},
     "output_type": "execute_result"
    }
   ],
   "source": [
    "lhs"
   ]
  },
  {
   "cell_type": "code",
   "execution_count": 443,
   "metadata": {},
   "outputs": [
    {
     "data": {
      "text/latex": [
       "$\\displaystyle \\frac{\\alpha \\left(1 - x\\right) - 1}{\\alpha \\left(- \\frac{1 - x}{n - 1} + 1\\right) - 1}$"
      ],
      "text/plain": [
       "(alpha*(1 - x) - 1)/(alpha*(-(1 - x)/(n - 1) + 1) - 1)"
      ]
     },
     "execution_count": 443,
     "metadata": {},
     "output_type": "execute_result"
    }
   ],
   "source": [
    "rhs"
   ]
  },
  {
   "cell_type": "code",
   "execution_count": 444,
   "metadata": {},
   "outputs": [
    {
     "data": {
      "text/latex": [
       "$\\displaystyle - \\frac{\\alpha \\left(1 - x\\right) - 1}{\\alpha \\left(- \\frac{1 - x}{n - 1} + 1\\right) - 1} + \\frac{\\left(n - 1\\right)^{1 + \\frac{1}{\\alpha}} \\left(\\alpha \\left(1 - x\\right) + 2 x - 1\\right)}{C \\alpha \\left(n + x - 2\\right)}$"
      ],
      "text/plain": [
       "-(alpha*(1 - x) - 1)/(alpha*(-(1 - x)/(n - 1) + 1) - 1) + (n - 1)**(1 + 1/alpha)*(alpha*(1 - x) + 2*x - 1)/(C*alpha*(n + x - 2))"
      ]
     },
     "execution_count": 444,
     "metadata": {},
     "output_type": "execute_result"
    }
   ],
   "source": [
    "difference"
   ]
  },
  {
   "cell_type": "code",
   "execution_count": 445,
   "metadata": {},
   "outputs": [
    {
     "data": {
      "text/latex": [
       "$\\displaystyle \\frac{- C \\alpha \\left(n - 1\\right) \\left(\\alpha \\left(x - 1\\right) + 1\\right) \\left(n + x - 2\\right) - \\left(n - 1\\right)^{\\frac{\\alpha + 1}{\\alpha}} \\left(\\alpha \\left(x - 1\\right) - 2 x + 1\\right) \\left(\\alpha \\left(- n - x + 2\\right) + n - 1\\right)}{C \\alpha \\left(n + x - 2\\right) \\left(\\alpha \\left(- n - x + 2\\right) + n - 1\\right)}$"
      ],
      "text/plain": [
       "(-C*alpha*(n - 1)*(alpha*(x - 1) + 1)*(n + x - 2) - (n - 1)**((alpha + 1)/alpha)*(alpha*(x - 1) - 2*x + 1)*(alpha*(-n - x + 2) + n - 1))/(C*alpha*(n + x - 2)*(alpha*(-n - x + 2) + n - 1))"
      ]
     },
     "execution_count": 445,
     "metadata": {},
     "output_type": "execute_result"
    }
   ],
   "source": [
    "simpl_diff"
   ]
  },
  {
   "cell_type": "code",
   "execution_count": 446,
   "metadata": {},
   "outputs": [
    {
     "name": "stdout",
     "output_type": "stream",
     "text": [
      "\\frac{- C \\alpha \\left(n - 1\\right) \\left(\\alpha \\left(x - 1\\right) + 1\\right) \\left(n + x - 2\\right) - \\left(n - 1\\right)^{\\frac{\\alpha + 1}{\\alpha}} \\left(\\alpha \\left(x - 1\\right) - 2 x + 1\\right) \\left(\\alpha \\left(- n - x + 2\\right) + n - 1\\right)}{C \\alpha \\left(n + x - 2\\right) \\left(\\alpha \\left(- n - x + 2\\right) + n - 1\\right)}\n"
     ]
    }
   ],
   "source": [
    "print_latex(simpl_diff)"
   ]
  },
  {
   "cell_type": "code",
   "execution_count": 447,
   "metadata": {},
   "outputs": [
    {
     "data": {
      "text/latex": [
       "$\\displaystyle - \\frac{\\left(n - 1\\right) \\left(- C \\alpha^{2} n x + C \\alpha^{2} n - C \\alpha^{2} x^{2} + 3 C \\alpha^{2} x - 2 C \\alpha^{2} - C \\alpha n - C \\alpha x + 2 C \\alpha + \\alpha^{2} n x \\left(n - 1\\right)^{\\frac{1}{\\alpha}} - \\alpha^{2} n \\left(n - 1\\right)^{\\frac{1}{\\alpha}} + \\alpha^{2} x^{2} \\left(n - 1\\right)^{\\frac{1}{\\alpha}} - 3 \\alpha^{2} x \\left(n - 1\\right)^{\\frac{1}{\\alpha}} + 2 \\alpha^{2} \\left(n - 1\\right)^{\\frac{1}{\\alpha}} - 3 \\alpha n x \\left(n - 1\\right)^{\\frac{1}{\\alpha}} + 2 \\alpha n \\left(n - 1\\right)^{\\frac{1}{\\alpha}} - 2 \\alpha x^{2} \\left(n - 1\\right)^{\\frac{1}{\\alpha}} + 6 \\alpha x \\left(n - 1\\right)^{\\frac{1}{\\alpha}} - 3 \\alpha \\left(n - 1\\right)^{\\frac{1}{\\alpha}} + 2 n x \\left(n - 1\\right)^{\\frac{1}{\\alpha}} - n \\left(n - 1\\right)^{\\frac{1}{\\alpha}} - 2 x \\left(n - 1\\right)^{\\frac{1}{\\alpha}} + \\left(n - 1\\right)^{\\frac{1}{\\alpha}}\\right)}{C \\alpha \\left(n + x - 2\\right) \\left(\\alpha n + \\alpha x - 2 \\alpha - n + 1\\right)}$"
      ],
      "text/plain": [
       "-(n - 1)*(-C*alpha**2*n*x + C*alpha**2*n - C*alpha**2*x**2 + 3*C*alpha**2*x - 2*C*alpha**2 - C*alpha*n - C*alpha*x + 2*C*alpha + alpha**2*n*x*(n - 1)**(1/alpha) - alpha**2*n*(n - 1)**(1/alpha) + alpha**2*x**2*(n - 1)**(1/alpha) - 3*alpha**2*x*(n - 1)**(1/alpha) + 2*alpha**2*(n - 1)**(1/alpha) - 3*alpha*n*x*(n - 1)**(1/alpha) + 2*alpha*n*(n - 1)**(1/alpha) - 2*alpha*x**2*(n - 1)**(1/alpha) + 6*alpha*x*(n - 1)**(1/alpha) - 3*alpha*(n - 1)**(1/alpha) + 2*n*x*(n - 1)**(1/alpha) - n*(n - 1)**(1/alpha) - 2*x*(n - 1)**(1/alpha) + (n - 1)**(1/alpha))/(C*alpha*(n + x - 2)*(alpha*n + alpha*x - 2*alpha - n + 1))"
      ]
     },
     "execution_count": 447,
     "metadata": {},
     "output_type": "execute_result"
    }
   ],
   "source": [
    "sp.factor(simpl_diff)"
   ]
  },
  {
   "cell_type": "code",
   "execution_count": 448,
   "metadata": {},
   "outputs": [
    {
     "name": "stdout",
     "output_type": "stream",
     "text": [
      "Factored difference = -(n - 1)*(-C*alpha**2*n*x + C*alpha**2*n - C*alpha**2*x**2 + 3*C*alpha**2*x - 2*C*alpha**2 - C*alpha*n - C*alpha*x + 2*C*alpha + alpha**2*n*x*(n - 1)**(1/alpha) - alpha**2*n*(n - 1)**(1/alpha) + alpha**2*x**2*(n - 1)**(1/alpha) - 3*alpha**2*x*(n - 1)**(1/alpha) + 2*alpha**2*(n - 1)**(1/alpha) - 3*alpha*n*x*(n - 1)**(1/alpha) + 2*alpha*n*(n - 1)**(1/alpha) - 2*alpha*x**2*(n - 1)**(1/alpha) + 6*alpha*x*(n - 1)**(1/alpha) - 3*alpha*(n - 1)**(1/alpha) + 2*n*x*(n - 1)**(1/alpha) - n*(n - 1)**(1/alpha) - 2*x*(n - 1)**(1/alpha) + (n - 1)**(1/alpha))/(C*alpha*(n + x - 2)*(alpha*n + alpha*x - 2*alpha - n + 1))\n",
      "Solutions for x: [{x: (-C*alpha**2*n + 3*C*alpha**2 - C*alpha + alpha**2*n*(n - 1)**(1/alpha) - 3*alpha**2*(n - 1)**(1/alpha) - 3*alpha*n*(n - 1)**(1/alpha) + 6*alpha*(n - 1)**(1/alpha) + 2*n*(n - 1)**(1/alpha) - 2*(n - 1)**(1/alpha) - sqrt(C**2*alpha**4*n**2 - 2*C**2*alpha**4*n + C**2*alpha**4 - 2*C**2*alpha**3*n + 2*C**2*alpha**3 + C**2*alpha**2 - 2*C*alpha**4*n**2*(n - 1)**(1/alpha) + 4*C*alpha**4*n*(n - 1)**(1/alpha) - 2*C*alpha**4*(n - 1)**(1/alpha) + 6*C*alpha**3*n**2*(n - 1)**(1/alpha) - 12*C*alpha**3*n*(n - 1)**(1/alpha) + 6*C*alpha**3*(n - 1)**(1/alpha) - 4*C*alpha**2*n**2*(n - 1)**(1/alpha) + 10*C*alpha**2*n*(n - 1)**(1/alpha) - 4*C*alpha**2*(n - 1)**(1/alpha) - 4*C*alpha*n*(n - 1)**(1/alpha) + 4*C*alpha*(n - 1)**(1/alpha) + alpha**4*n**2*(n - 1)**(2/alpha) - 2*alpha**4*n*(n - 1)**(2/alpha) + alpha**4*(n - 1)**(2/alpha) - 6*alpha**3*n**2*(n - 1)**(2/alpha) + 14*alpha**3*n*(n - 1)**(2/alpha) - 8*alpha**3*(n - 1)**(2/alpha) + 13*alpha**2*n**2*(n - 1)**(2/alpha) - 32*alpha**2*n*(n - 1)**(2/alpha) + 20*alpha**2*(n - 1)**(2/alpha) - 12*alpha*n**2*(n - 1)**(2/alpha) + 28*alpha*n*(n - 1)**(2/alpha) - 16*alpha*(n - 1)**(2/alpha) + 4*n**2*(n - 1)**(2/alpha) - 8*n*(n - 1)**(2/alpha) + 4*(n - 1)**(2/alpha)))/(2*alpha*(C*alpha - alpha*(n - 1)**(1/alpha) + 2*(n - 1)**(1/alpha)))}, {x: (-C*alpha**2*n + 3*C*alpha**2 - C*alpha + alpha**2*n*(n - 1)**(1/alpha) - 3*alpha**2*(n - 1)**(1/alpha) - 3*alpha*n*(n - 1)**(1/alpha) + 6*alpha*(n - 1)**(1/alpha) + 2*n*(n - 1)**(1/alpha) - 2*(n - 1)**(1/alpha) + sqrt(C**2*alpha**4*n**2 - 2*C**2*alpha**4*n + C**2*alpha**4 - 2*C**2*alpha**3*n + 2*C**2*alpha**3 + C**2*alpha**2 - 2*C*alpha**4*n**2*(n - 1)**(1/alpha) + 4*C*alpha**4*n*(n - 1)**(1/alpha) - 2*C*alpha**4*(n - 1)**(1/alpha) + 6*C*alpha**3*n**2*(n - 1)**(1/alpha) - 12*C*alpha**3*n*(n - 1)**(1/alpha) + 6*C*alpha**3*(n - 1)**(1/alpha) - 4*C*alpha**2*n**2*(n - 1)**(1/alpha) + 10*C*alpha**2*n*(n - 1)**(1/alpha) - 4*C*alpha**2*(n - 1)**(1/alpha) - 4*C*alpha*n*(n - 1)**(1/alpha) + 4*C*alpha*(n - 1)**(1/alpha) + alpha**4*n**2*(n - 1)**(2/alpha) - 2*alpha**4*n*(n - 1)**(2/alpha) + alpha**4*(n - 1)**(2/alpha) - 6*alpha**3*n**2*(n - 1)**(2/alpha) + 14*alpha**3*n*(n - 1)**(2/alpha) - 8*alpha**3*(n - 1)**(2/alpha) + 13*alpha**2*n**2*(n - 1)**(2/alpha) - 32*alpha**2*n*(n - 1)**(2/alpha) + 20*alpha**2*(n - 1)**(2/alpha) - 12*alpha*n**2*(n - 1)**(2/alpha) + 28*alpha*n*(n - 1)**(2/alpha) - 16*alpha*(n - 1)**(2/alpha) + 4*n**2*(n - 1)**(2/alpha) - 8*n*(n - 1)**(2/alpha) + 4*(n - 1)**(2/alpha)))/(2*alpha*(C*alpha - alpha*(n - 1)**(1/alpha) + 2*(n - 1)**(1/alpha)))}]\n"
     ]
    }
   ],
   "source": [
    "# 5) (Optional) Factor the simplified expression\n",
    "factored_diff = sp.factor(simpl_diff)\n",
    "print(\"Factored difference =\", factored_diff)\n",
    "\n",
    "# 6) (Optional) Solve for x, if you want to see where LHS = RHS\n",
    "#    (Depending on your domain constraints, you may need to specify them.)\n",
    "solutions_for_x = sp.solve(sp.Eq(lhs, rhs), x, dict=True)\n",
    "print(\"Solutions for x:\", solutions_for_x)"
   ]
  },
  {
   "cell_type": "code",
   "execution_count": 449,
   "metadata": {},
   "outputs": [
    {
     "data": {
      "text/latex": [
       "$\\displaystyle \\frac{- C \\alpha^{2} n + 3 C \\alpha^{2} - C \\alpha + \\alpha^{2} n \\left(n - 1\\right)^{\\frac{1}{\\alpha}} - 3 \\alpha^{2} \\left(n - 1\\right)^{\\frac{1}{\\alpha}} - 3 \\alpha n \\left(n - 1\\right)^{\\frac{1}{\\alpha}} + 6 \\alpha \\left(n - 1\\right)^{\\frac{1}{\\alpha}} + 2 n \\left(n - 1\\right)^{\\frac{1}{\\alpha}} - 2 \\left(n - 1\\right)^{\\frac{1}{\\alpha}} - \\sqrt{C^{2} \\alpha^{4} n^{2} - 2 C^{2} \\alpha^{4} n + C^{2} \\alpha^{4} - 2 C^{2} \\alpha^{3} n + 2 C^{2} \\alpha^{3} + C^{2} \\alpha^{2} - 2 C \\alpha^{4} n^{2} \\left(n - 1\\right)^{\\frac{1}{\\alpha}} + 4 C \\alpha^{4} n \\left(n - 1\\right)^{\\frac{1}{\\alpha}} - 2 C \\alpha^{4} \\left(n - 1\\right)^{\\frac{1}{\\alpha}} + 6 C \\alpha^{3} n^{2} \\left(n - 1\\right)^{\\frac{1}{\\alpha}} - 12 C \\alpha^{3} n \\left(n - 1\\right)^{\\frac{1}{\\alpha}} + 6 C \\alpha^{3} \\left(n - 1\\right)^{\\frac{1}{\\alpha}} - 4 C \\alpha^{2} n^{2} \\left(n - 1\\right)^{\\frac{1}{\\alpha}} + 10 C \\alpha^{2} n \\left(n - 1\\right)^{\\frac{1}{\\alpha}} - 4 C \\alpha^{2} \\left(n - 1\\right)^{\\frac{1}{\\alpha}} - 4 C \\alpha n \\left(n - 1\\right)^{\\frac{1}{\\alpha}} + 4 C \\alpha \\left(n - 1\\right)^{\\frac{1}{\\alpha}} + \\alpha^{4} n^{2} \\left(n - 1\\right)^{\\frac{2}{\\alpha}} - 2 \\alpha^{4} n \\left(n - 1\\right)^{\\frac{2}{\\alpha}} + \\alpha^{4} \\left(n - 1\\right)^{\\frac{2}{\\alpha}} - 6 \\alpha^{3} n^{2} \\left(n - 1\\right)^{\\frac{2}{\\alpha}} + 14 \\alpha^{3} n \\left(n - 1\\right)^{\\frac{2}{\\alpha}} - 8 \\alpha^{3} \\left(n - 1\\right)^{\\frac{2}{\\alpha}} + 13 \\alpha^{2} n^{2} \\left(n - 1\\right)^{\\frac{2}{\\alpha}} - 32 \\alpha^{2} n \\left(n - 1\\right)^{\\frac{2}{\\alpha}} + 20 \\alpha^{2} \\left(n - 1\\right)^{\\frac{2}{\\alpha}} - 12 \\alpha n^{2} \\left(n - 1\\right)^{\\frac{2}{\\alpha}} + 28 \\alpha n \\left(n - 1\\right)^{\\frac{2}{\\alpha}} - 16 \\alpha \\left(n - 1\\right)^{\\frac{2}{\\alpha}} + 4 n^{2} \\left(n - 1\\right)^{\\frac{2}{\\alpha}} - 8 n \\left(n - 1\\right)^{\\frac{2}{\\alpha}} + 4 \\left(n - 1\\right)^{\\frac{2}{\\alpha}}}}{2 \\alpha \\left(C \\alpha - \\alpha \\left(n - 1\\right)^{\\frac{1}{\\alpha}} + 2 \\left(n - 1\\right)^{\\frac{1}{\\alpha}}\\right)}$"
      ],
      "text/plain": [
       "(-C*alpha**2*n + 3*C*alpha**2 - C*alpha + alpha**2*n*(n - 1)**(1/alpha) - 3*alpha**2*(n - 1)**(1/alpha) - 3*alpha*n*(n - 1)**(1/alpha) + 6*alpha*(n - 1)**(1/alpha) + 2*n*(n - 1)**(1/alpha) - 2*(n - 1)**(1/alpha) - sqrt(C**2*alpha**4*n**2 - 2*C**2*alpha**4*n + C**2*alpha**4 - 2*C**2*alpha**3*n + 2*C**2*alpha**3 + C**2*alpha**2 - 2*C*alpha**4*n**2*(n - 1)**(1/alpha) + 4*C*alpha**4*n*(n - 1)**(1/alpha) - 2*C*alpha**4*(n - 1)**(1/alpha) + 6*C*alpha**3*n**2*(n - 1)**(1/alpha) - 12*C*alpha**3*n*(n - 1)**(1/alpha) + 6*C*alpha**3*(n - 1)**(1/alpha) - 4*C*alpha**2*n**2*(n - 1)**(1/alpha) + 10*C*alpha**2*n*(n - 1)**(1/alpha) - 4*C*alpha**2*(n - 1)**(1/alpha) - 4*C*alpha*n*(n - 1)**(1/alpha) + 4*C*alpha*(n - 1)**(1/alpha) + alpha**4*n**2*(n - 1)**(2/alpha) - 2*alpha**4*n*(n - 1)**(2/alpha) + alpha**4*(n - 1)**(2/alpha) - 6*alpha**3*n**2*(n - 1)**(2/alpha) + 14*alpha**3*n*(n - 1)**(2/alpha) - 8*alpha**3*(n - 1)**(2/alpha) + 13*alpha**2*n**2*(n - 1)**(2/alpha) - 32*alpha**2*n*(n - 1)**(2/alpha) + 20*alpha**2*(n - 1)**(2/alpha) - 12*alpha*n**2*(n - 1)**(2/alpha) + 28*alpha*n*(n - 1)**(2/alpha) - 16*alpha*(n - 1)**(2/alpha) + 4*n**2*(n - 1)**(2/alpha) - 8*n*(n - 1)**(2/alpha) + 4*(n - 1)**(2/alpha)))/(2*alpha*(C*alpha - alpha*(n - 1)**(1/alpha) + 2*(n - 1)**(1/alpha)))"
      ]
     },
     "execution_count": 449,
     "metadata": {},
     "output_type": "execute_result"
    }
   ],
   "source": [
    "solutions_for_x[0][x]"
   ]
  },
  {
   "cell_type": "code",
   "execution_count": 454,
   "metadata": {},
   "outputs": [
    {
     "name": "stdout",
     "output_type": "stream",
     "text": [
      "\\frac{- C \\alpha^{2} n + 3 C \\alpha^{2} - C \\alpha + \\alpha^{2} n \\left(n - 1\\right)^{\\frac{1}{\\alpha}} - 3 \\alpha^{2} \\left(n - 1\\right)^{\\frac{1}{\\alpha}} - 3 \\alpha n \\left(n - 1\\right)^{\\frac{1}{\\alpha}} + 6 \\alpha \\left(n - 1\\right)^{\\frac{1}{\\alpha}} + 2 n \\left(n - 1\\right)^{\\frac{1}{\\alpha}} - 2 \\left(n - 1\\right)^{\\frac{1}{\\alpha}} + \\sqrt{C^{2} \\alpha^{4} n^{2} - 2 C^{2} \\alpha^{4} n + C^{2} \\alpha^{4} - 2 C^{2} \\alpha^{3} n + 2 C^{2} \\alpha^{3} + C^{2} \\alpha^{2} - 2 C \\alpha^{4} n^{2} \\left(n - 1\\right)^{\\frac{1}{\\alpha}} + 4 C \\alpha^{4} n \\left(n - 1\\right)^{\\frac{1}{\\alpha}} - 2 C \\alpha^{4} \\left(n - 1\\right)^{\\frac{1}{\\alpha}} + 6 C \\alpha^{3} n^{2} \\left(n - 1\\right)^{\\frac{1}{\\alpha}} - 12 C \\alpha^{3} n \\left(n - 1\\right)^{\\frac{1}{\\alpha}} + 6 C \\alpha^{3} \\left(n - 1\\right)^{\\frac{1}{\\alpha}} - 4 C \\alpha^{2} n^{2} \\left(n - 1\\right)^{\\frac{1}{\\alpha}} + 10 C \\alpha^{2} n \\left(n - 1\\right)^{\\frac{1}{\\alpha}} - 4 C \\alpha^{2} \\left(n - 1\\right)^{\\frac{1}{\\alpha}} - 4 C \\alpha n \\left(n - 1\\right)^{\\frac{1}{\\alpha}} + 4 C \\alpha \\left(n - 1\\right)^{\\frac{1}{\\alpha}} + \\alpha^{4} n^{2} \\left(n - 1\\right)^{\\frac{2}{\\alpha}} - 2 \\alpha^{4} n \\left(n - 1\\right)^{\\frac{2}{\\alpha}} + \\alpha^{4} \\left(n - 1\\right)^{\\frac{2}{\\alpha}} - 6 \\alpha^{3} n^{2} \\left(n - 1\\right)^{\\frac{2}{\\alpha}} + 14 \\alpha^{3} n \\left(n - 1\\right)^{\\frac{2}{\\alpha}} - 8 \\alpha^{3} \\left(n - 1\\right)^{\\frac{2}{\\alpha}} + 13 \\alpha^{2} n^{2} \\left(n - 1\\right)^{\\frac{2}{\\alpha}} - 32 \\alpha^{2} n \\left(n - 1\\right)^{\\frac{2}{\\alpha}} + 20 \\alpha^{2} \\left(n - 1\\right)^{\\frac{2}{\\alpha}} - 12 \\alpha n^{2} \\left(n - 1\\right)^{\\frac{2}{\\alpha}} + 28 \\alpha n \\left(n - 1\\right)^{\\frac{2}{\\alpha}} - 16 \\alpha \\left(n - 1\\right)^{\\frac{2}{\\alpha}} + 4 n^{2} \\left(n - 1\\right)^{\\frac{2}{\\alpha}} - 8 n \\left(n - 1\\right)^{\\frac{2}{\\alpha}} + 4 \\left(n - 1\\right)^{\\frac{2}{\\alpha}}}}{2 \\alpha \\left(C \\alpha - \\alpha \\left(n - 1\\right)^{\\frac{1}{\\alpha}} + 2 \\left(n - 1\\right)^{\\frac{1}{\\alpha}}\\right)}\n"
     ]
    }
   ],
   "source": [
    "print_latex(solutions_for_x[1][x])"
   ]
  },
  {
   "cell_type": "code",
   "execution_count": 464,
   "metadata": {},
   "outputs": [
    {
     "data": {
      "text/latex": [
       "$\\displaystyle 0.409585673359069$"
      ],
      "text/plain": [
       "0.409585673359069"
      ]
     },
     "execution_count": 464,
     "metadata": {},
     "output_type": "execute_result"
    }
   ],
   "source": [
    "solutions_for_x[1][x].evalf(subs={alpha:3, n:50, C:5})"
   ]
  },
  {
   "cell_type": "code",
   "execution_count": 465,
   "metadata": {},
   "outputs": [
    {
     "data": {
      "text/latex": [
       "$\\displaystyle \\frac{- C \\alpha^{2} n + 3 C \\alpha^{2} - C \\alpha + \\alpha^{2} n \\left(n - 1\\right)^{\\frac{1}{\\alpha}} - 3 \\alpha^{2} \\left(n - 1\\right)^{\\frac{1}{\\alpha}} - 3 \\alpha n \\left(n - 1\\right)^{\\frac{1}{\\alpha}} + 6 \\alpha \\left(n - 1\\right)^{\\frac{1}{\\alpha}} + 2 n \\left(n - 1\\right)^{\\frac{1}{\\alpha}} - 2 \\left(n - 1\\right)^{\\frac{1}{\\alpha}} + \\sqrt{C^{2} \\alpha^{4} n^{2} - 2 C^{2} \\alpha^{4} n + C^{2} \\alpha^{4} - 2 C^{2} \\alpha^{3} n + 2 C^{2} \\alpha^{3} + C^{2} \\alpha^{2} - 2 C \\alpha^{4} n^{2} \\left(n - 1\\right)^{\\frac{1}{\\alpha}} + 4 C \\alpha^{4} n \\left(n - 1\\right)^{\\frac{1}{\\alpha}} - 2 C \\alpha^{4} \\left(n - 1\\right)^{\\frac{1}{\\alpha}} + 6 C \\alpha^{3} n^{2} \\left(n - 1\\right)^{\\frac{1}{\\alpha}} - 12 C \\alpha^{3} n \\left(n - 1\\right)^{\\frac{1}{\\alpha}} + 6 C \\alpha^{3} \\left(n - 1\\right)^{\\frac{1}{\\alpha}} - 4 C \\alpha^{2} n^{2} \\left(n - 1\\right)^{\\frac{1}{\\alpha}} + 10 C \\alpha^{2} n \\left(n - 1\\right)^{\\frac{1}{\\alpha}} - 4 C \\alpha^{2} \\left(n - 1\\right)^{\\frac{1}{\\alpha}} - 4 C \\alpha n \\left(n - 1\\right)^{\\frac{1}{\\alpha}} + 4 C \\alpha \\left(n - 1\\right)^{\\frac{1}{\\alpha}} + \\alpha^{4} n^{2} \\left(n - 1\\right)^{\\frac{2}{\\alpha}} - 2 \\alpha^{4} n \\left(n - 1\\right)^{\\frac{2}{\\alpha}} + \\alpha^{4} \\left(n - 1\\right)^{\\frac{2}{\\alpha}} - 6 \\alpha^{3} n^{2} \\left(n - 1\\right)^{\\frac{2}{\\alpha}} + 14 \\alpha^{3} n \\left(n - 1\\right)^{\\frac{2}{\\alpha}} - 8 \\alpha^{3} \\left(n - 1\\right)^{\\frac{2}{\\alpha}} + 13 \\alpha^{2} n^{2} \\left(n - 1\\right)^{\\frac{2}{\\alpha}} - 32 \\alpha^{2} n \\left(n - 1\\right)^{\\frac{2}{\\alpha}} + 20 \\alpha^{2} \\left(n - 1\\right)^{\\frac{2}{\\alpha}} - 12 \\alpha n^{2} \\left(n - 1\\right)^{\\frac{2}{\\alpha}} + 28 \\alpha n \\left(n - 1\\right)^{\\frac{2}{\\alpha}} - 16 \\alpha \\left(n - 1\\right)^{\\frac{2}{\\alpha}} + 4 n^{2} \\left(n - 1\\right)^{\\frac{2}{\\alpha}} - 8 n \\left(n - 1\\right)^{\\frac{2}{\\alpha}} + 4 \\left(n - 1\\right)^{\\frac{2}{\\alpha}}}}{2 \\alpha \\left(C \\alpha - \\alpha \\left(n - 1\\right)^{\\frac{1}{\\alpha}} + 2 \\left(n - 1\\right)^{\\frac{1}{\\alpha}}\\right)}$"
      ],
      "text/plain": [
       "(-C*alpha**2*n + 3*C*alpha**2 - C*alpha + alpha**2*n*(n - 1)**(1/alpha) - 3*alpha**2*(n - 1)**(1/alpha) - 3*alpha*n*(n - 1)**(1/alpha) + 6*alpha*(n - 1)**(1/alpha) + 2*n*(n - 1)**(1/alpha) - 2*(n - 1)**(1/alpha) + sqrt(C**2*alpha**4*n**2 - 2*C**2*alpha**4*n + C**2*alpha**4 - 2*C**2*alpha**3*n + 2*C**2*alpha**3 + C**2*alpha**2 - 2*C*alpha**4*n**2*(n - 1)**(1/alpha) + 4*C*alpha**4*n*(n - 1)**(1/alpha) - 2*C*alpha**4*(n - 1)**(1/alpha) + 6*C*alpha**3*n**2*(n - 1)**(1/alpha) - 12*C*alpha**3*n*(n - 1)**(1/alpha) + 6*C*alpha**3*(n - 1)**(1/alpha) - 4*C*alpha**2*n**2*(n - 1)**(1/alpha) + 10*C*alpha**2*n*(n - 1)**(1/alpha) - 4*C*alpha**2*(n - 1)**(1/alpha) - 4*C*alpha*n*(n - 1)**(1/alpha) + 4*C*alpha*(n - 1)**(1/alpha) + alpha**4*n**2*(n - 1)**(2/alpha) - 2*alpha**4*n*(n - 1)**(2/alpha) + alpha**4*(n - 1)**(2/alpha) - 6*alpha**3*n**2*(n - 1)**(2/alpha) + 14*alpha**3*n*(n - 1)**(2/alpha) - 8*alpha**3*(n - 1)**(2/alpha) + 13*alpha**2*n**2*(n - 1)**(2/alpha) - 32*alpha**2*n*(n - 1)**(2/alpha) + 20*alpha**2*(n - 1)**(2/alpha) - 12*alpha*n**2*(n - 1)**(2/alpha) + 28*alpha*n*(n - 1)**(2/alpha) - 16*alpha*(n - 1)**(2/alpha) + 4*n**2*(n - 1)**(2/alpha) - 8*n*(n - 1)**(2/alpha) + 4*(n - 1)**(2/alpha)))/(2*alpha*(C*alpha - alpha*(n - 1)**(1/alpha) + 2*(n - 1)**(1/alpha)))"
      ]
     },
     "execution_count": 465,
     "metadata": {},
     "output_type": "execute_result"
    }
   ],
   "source": [
    "solutions_for_x[1][x]"
   ]
  },
  {
   "cell_type": "code",
   "execution_count": 467,
   "metadata": {},
   "outputs": [
    {
     "data": {
      "text/latex": [
       "$\\displaystyle \\theta$"
      ],
      "text/plain": [
       "theta"
      ]
     },
     "execution_count": 467,
     "metadata": {},
     "output_type": "execute_result"
    }
   ],
   "source": [
    "theta = sp.symbols('theta', positive=True)\n",
    "theta"
   ]
  },
  {
   "cell_type": "code",
   "execution_count": 469,
   "metadata": {},
   "outputs": [
    {
     "data": {
      "text/latex": [
       "$\\displaystyle \\frac{- C \\alpha^{2} n + 3 C \\alpha^{2} - C \\alpha + \\alpha^{2} n \\left(n - 1\\right)^{\\frac{1}{\\alpha}} - 3 \\alpha^{2} \\left(n - 1\\right)^{\\frac{1}{\\alpha}} - 3 \\alpha n \\left(n - 1\\right)^{\\frac{1}{\\alpha}} + 6 \\alpha \\left(n - 1\\right)^{\\frac{1}{\\alpha}} + 2 n \\left(n - 1\\right)^{\\frac{1}{\\alpha}} - 2 \\left(n - 1\\right)^{\\frac{1}{\\alpha}} + \\sqrt{C^{2} \\alpha^{4} n^{2} - 2 C^{2} \\alpha^{4} n + C^{2} \\alpha^{4} - 2 C^{2} \\alpha^{3} n + 2 C^{2} \\alpha^{3} + C^{2} \\alpha^{2} - 2 C \\alpha^{4} n^{2} \\left(n - 1\\right)^{\\frac{1}{\\alpha}} + 4 C \\alpha^{4} n \\left(n - 1\\right)^{\\frac{1}{\\alpha}} - 2 C \\alpha^{4} \\left(n - 1\\right)^{\\frac{1}{\\alpha}} + 6 C \\alpha^{3} n^{2} \\left(n - 1\\right)^{\\frac{1}{\\alpha}} - 12 C \\alpha^{3} n \\left(n - 1\\right)^{\\frac{1}{\\alpha}} + 6 C \\alpha^{3} \\left(n - 1\\right)^{\\frac{1}{\\alpha}} - 4 C \\alpha^{2} n^{2} \\left(n - 1\\right)^{\\frac{1}{\\alpha}} + 10 C \\alpha^{2} n \\left(n - 1\\right)^{\\frac{1}{\\alpha}} - 4 C \\alpha^{2} \\left(n - 1\\right)^{\\frac{1}{\\alpha}} - 4 C \\alpha n \\left(n - 1\\right)^{\\frac{1}{\\alpha}} + 4 C \\alpha \\left(n - 1\\right)^{\\frac{1}{\\alpha}} + \\alpha^{4} n^{2} \\left(n - 1\\right)^{\\frac{2}{\\alpha}} - 2 \\alpha^{4} n \\left(n - 1\\right)^{\\frac{2}{\\alpha}} + \\alpha^{4} \\left(n - 1\\right)^{\\frac{2}{\\alpha}} - 6 \\alpha^{3} n^{2} \\left(n - 1\\right)^{\\frac{2}{\\alpha}} + 14 \\alpha^{3} n \\left(n - 1\\right)^{\\frac{2}{\\alpha}} - 8 \\alpha^{3} \\left(n - 1\\right)^{\\frac{2}{\\alpha}} + 13 \\alpha^{2} n^{2} \\left(n - 1\\right)^{\\frac{2}{\\alpha}} - 32 \\alpha^{2} n \\left(n - 1\\right)^{\\frac{2}{\\alpha}} + 20 \\alpha^{2} \\left(n - 1\\right)^{\\frac{2}{\\alpha}} - 12 \\alpha n^{2} \\left(n - 1\\right)^{\\frac{2}{\\alpha}} + 28 \\alpha n \\left(n - 1\\right)^{\\frac{2}{\\alpha}} - 16 \\alpha \\left(n - 1\\right)^{\\frac{2}{\\alpha}} + 4 n^{2} \\left(n - 1\\right)^{\\frac{2}{\\alpha}} - 8 n \\left(n - 1\\right)^{\\frac{2}{\\alpha}} + 4 \\left(n - 1\\right)^{\\frac{2}{\\alpha}}}}{2 \\alpha \\left(C \\alpha - \\alpha \\left(n - 1\\right)^{\\frac{1}{\\alpha}} + 2 \\left(n - 1\\right)^{\\frac{1}{\\alpha}}\\right)} = \\left(1 - \\frac{1}{\\alpha}\\right) \\left(1 - \\theta\\right) + \\frac{\\theta}{n}$"
      ],
      "text/plain": [
       "Eq((-C*alpha**2*n + 3*C*alpha**2 - C*alpha + alpha**2*n*(n - 1)**(1/alpha) - 3*alpha**2*(n - 1)**(1/alpha) - 3*alpha*n*(n - 1)**(1/alpha) + 6*alpha*(n - 1)**(1/alpha) + 2*n*(n - 1)**(1/alpha) - 2*(n - 1)**(1/alpha) + sqrt(C**2*alpha**4*n**2 - 2*C**2*alpha**4*n + C**2*alpha**4 - 2*C**2*alpha**3*n + 2*C**2*alpha**3 + C**2*alpha**2 - 2*C*alpha**4*n**2*(n - 1)**(1/alpha) + 4*C*alpha**4*n*(n - 1)**(1/alpha) - 2*C*alpha**4*(n - 1)**(1/alpha) + 6*C*alpha**3*n**2*(n - 1)**(1/alpha) - 12*C*alpha**3*n*(n - 1)**(1/alpha) + 6*C*alpha**3*(n - 1)**(1/alpha) - 4*C*alpha**2*n**2*(n - 1)**(1/alpha) + 10*C*alpha**2*n*(n - 1)**(1/alpha) - 4*C*alpha**2*(n - 1)**(1/alpha) - 4*C*alpha*n*(n - 1)**(1/alpha) + 4*C*alpha*(n - 1)**(1/alpha) + alpha**4*n**2*(n - 1)**(2/alpha) - 2*alpha**4*n*(n - 1)**(2/alpha) + alpha**4*(n - 1)**(2/alpha) - 6*alpha**3*n**2*(n - 1)**(2/alpha) + 14*alpha**3*n*(n - 1)**(2/alpha) - 8*alpha**3*(n - 1)**(2/alpha) + 13*alpha**2*n**2*(n - 1)**(2/alpha) - 32*alpha**2*n*(n - 1)**(2/alpha) + 20*alpha**2*(n - 1)**(2/alpha) - 12*alpha*n**2*(n - 1)**(2/alpha) + 28*alpha*n*(n - 1)**(2/alpha) - 16*alpha*(n - 1)**(2/alpha) + 4*n**2*(n - 1)**(2/alpha) - 8*n*(n - 1)**(2/alpha) + 4*(n - 1)**(2/alpha)))/(2*alpha*(C*alpha - alpha*(n - 1)**(1/alpha) + 2*(n - 1)**(1/alpha))), (1 - 1/alpha)*(1 - theta) + theta/n)"
      ]
     },
     "execution_count": 469,
     "metadata": {},
     "output_type": "execute_result"
    }
   ],
   "source": [
    "eq = sp.Eq(solutions_for_x[1][x], 1/n*theta + (1-1/alpha)*(1-theta))\n",
    "eq"
   ]
  },
  {
   "cell_type": "code",
   "execution_count": 473,
   "metadata": {},
   "outputs": [],
   "source": [
    "thetas = sp.solve(eq, theta)[0]"
   ]
  },
  {
   "cell_type": "code",
   "execution_count": 477,
   "metadata": {},
   "outputs": [
    {
     "data": {
      "text/latex": [
       "$\\displaystyle \\frac{n \\left(- C \\alpha^{2} n + C \\alpha^{2} + C \\alpha + \\alpha^{2} n \\left(n - 1\\right)^{\\frac{1}{\\alpha}} - \\alpha^{2} \\left(n - 1\\right)^{\\frac{1}{\\alpha}} - 3 \\alpha n \\left(n - 1\\right)^{\\frac{1}{\\alpha}} + 2 n \\left(n - 1\\right)^{\\frac{1}{\\alpha}} + 2 \\left(n - 1\\right)^{\\frac{1}{\\alpha}} + \\sqrt{C^{2} \\alpha^{4} n^{2} - 2 C^{2} \\alpha^{4} n + C^{2} \\alpha^{4} - 2 C^{2} \\alpha^{3} n + 2 C^{2} \\alpha^{3} + C^{2} \\alpha^{2} - 2 C \\alpha^{4} n^{2} \\left(n - 1\\right)^{\\frac{1}{\\alpha}} + 4 C \\alpha^{4} n \\left(n - 1\\right)^{\\frac{1}{\\alpha}} - 2 C \\alpha^{4} \\left(n - 1\\right)^{\\frac{1}{\\alpha}} + 6 C \\alpha^{3} n^{2} \\left(n - 1\\right)^{\\frac{1}{\\alpha}} - 12 C \\alpha^{3} n \\left(n - 1\\right)^{\\frac{1}{\\alpha}} + 6 C \\alpha^{3} \\left(n - 1\\right)^{\\frac{1}{\\alpha}} - 4 C \\alpha^{2} n^{2} \\left(n - 1\\right)^{\\frac{1}{\\alpha}} + 10 C \\alpha^{2} n \\left(n - 1\\right)^{\\frac{1}{\\alpha}} - 4 C \\alpha^{2} \\left(n - 1\\right)^{\\frac{1}{\\alpha}} - 4 C \\alpha n \\left(n - 1\\right)^{\\frac{1}{\\alpha}} + 4 C \\alpha \\left(n - 1\\right)^{\\frac{1}{\\alpha}} + \\alpha^{4} n^{2} \\left(n - 1\\right)^{\\frac{2}{\\alpha}} - 2 \\alpha^{4} n \\left(n - 1\\right)^{\\frac{2}{\\alpha}} + \\alpha^{4} \\left(n - 1\\right)^{\\frac{2}{\\alpha}} - 6 \\alpha^{3} n^{2} \\left(n - 1\\right)^{\\frac{2}{\\alpha}} + 14 \\alpha^{3} n \\left(n - 1\\right)^{\\frac{2}{\\alpha}} - 8 \\alpha^{3} \\left(n - 1\\right)^{\\frac{2}{\\alpha}} + 13 \\alpha^{2} n^{2} \\left(n - 1\\right)^{\\frac{2}{\\alpha}} - 32 \\alpha^{2} n \\left(n - 1\\right)^{\\frac{2}{\\alpha}} + 20 \\alpha^{2} \\left(n - 1\\right)^{\\frac{2}{\\alpha}} - 12 \\alpha n^{2} \\left(n - 1\\right)^{\\frac{2}{\\alpha}} + 28 \\alpha n \\left(n - 1\\right)^{\\frac{2}{\\alpha}} - 16 \\alpha \\left(n - 1\\right)^{\\frac{2}{\\alpha}} + 4 n^{2} \\left(n - 1\\right)^{\\frac{2}{\\alpha}} - 8 n \\left(n - 1\\right)^{\\frac{2}{\\alpha}} + 4 \\left(n - 1\\right)^{\\frac{2}{\\alpha}}}\\right)}{2 \\left(- C \\alpha^{2} n + C \\alpha^{2} + C \\alpha n + \\alpha^{2} n \\left(n - 1\\right)^{\\frac{1}{\\alpha}} - \\alpha^{2} \\left(n - 1\\right)^{\\frac{1}{\\alpha}} - 3 \\alpha n \\left(n - 1\\right)^{\\frac{1}{\\alpha}} + 2 \\alpha \\left(n - 1\\right)^{\\frac{1}{\\alpha}} + 2 n \\left(n - 1\\right)^{\\frac{1}{\\alpha}}\\right)}$"
      ],
      "text/plain": [
       "n*(-C*alpha**2*n + C*alpha**2 + C*alpha + alpha**2*n*(n - 1)**(1/alpha) - alpha**2*(n - 1)**(1/alpha) - 3*alpha*n*(n - 1)**(1/alpha) + 2*n*(n - 1)**(1/alpha) + 2*(n - 1)**(1/alpha) + sqrt(C**2*alpha**4*n**2 - 2*C**2*alpha**4*n + C**2*alpha**4 - 2*C**2*alpha**3*n + 2*C**2*alpha**3 + C**2*alpha**2 - 2*C*alpha**4*n**2*(n - 1)**(1/alpha) + 4*C*alpha**4*n*(n - 1)**(1/alpha) - 2*C*alpha**4*(n - 1)**(1/alpha) + 6*C*alpha**3*n**2*(n - 1)**(1/alpha) - 12*C*alpha**3*n*(n - 1)**(1/alpha) + 6*C*alpha**3*(n - 1)**(1/alpha) - 4*C*alpha**2*n**2*(n - 1)**(1/alpha) + 10*C*alpha**2*n*(n - 1)**(1/alpha) - 4*C*alpha**2*(n - 1)**(1/alpha) - 4*C*alpha*n*(n - 1)**(1/alpha) + 4*C*alpha*(n - 1)**(1/alpha) + alpha**4*n**2*(n - 1)**(2/alpha) - 2*alpha**4*n*(n - 1)**(2/alpha) + alpha**4*(n - 1)**(2/alpha) - 6*alpha**3*n**2*(n - 1)**(2/alpha) + 14*alpha**3*n*(n - 1)**(2/alpha) - 8*alpha**3*(n - 1)**(2/alpha) + 13*alpha**2*n**2*(n - 1)**(2/alpha) - 32*alpha**2*n*(n - 1)**(2/alpha) + 20*alpha**2*(n - 1)**(2/alpha) - 12*alpha*n**2*(n - 1)**(2/alpha) + 28*alpha*n*(n - 1)**(2/alpha) - 16*alpha*(n - 1)**(2/alpha) + 4*n**2*(n - 1)**(2/alpha) - 8*n*(n - 1)**(2/alpha) + 4*(n - 1)**(2/alpha)))/(2*(-C*alpha**2*n + C*alpha**2 + C*alpha*n + alpha**2*n*(n - 1)**(1/alpha) - alpha**2*(n - 1)**(1/alpha) - 3*alpha*n*(n - 1)**(1/alpha) + 2*alpha*(n - 1)**(1/alpha) + 2*n*(n - 1)**(1/alpha)))"
      ]
     },
     "execution_count": 477,
     "metadata": {},
     "output_type": "execute_result"
    }
   ],
   "source": [
    "sp.simplify(thetas)"
   ]
  },
  {
   "cell_type": "code",
   "execution_count": 439,
   "metadata": {},
   "outputs": [
    {
     "data": {
      "image/png": "[encoded data removed]",
      "text/plain": [
       "<Figure size 576x360 with 1 Axes>"
      ]
     },
     "metadata": {
      "needs_background": "light"
     },
     "output_type": "display_data"
    },
    {
     "name": "stdout",
     "output_type": "stream",
     "text": [
      "Parameter values: alpha=2, n=5, C=3\n",
      "Proposed bound x_bound = 0.32915026221291815\n",
      "Real roots found: []\n"
     ]
    }
   ],
   "source": [
    "import sympy as sp\n",
    "import numpy as np\n",
    "import matplotlib.pyplot as plt\n",
    "\n",
    "# --------------------------------------\n",
    "# 1) Declare symbolic variables\n",
    "# --------------------------------------\n",
    "x = sp.Symbol('x', real=True)\n",
    "alpha, n, C = sp.symbols('alpha n C', positive=True)\n",
    "\n",
    "# --------------------------------------\n",
    "# 2) Define parameters (YOU CAN CHANGE THESE)\n",
    "# --------------------------------------\n",
    "alpha_val = 2     # e.g. alpha = 2\n",
    "n_val     = 5     # e.g. n = 5\n",
    "C_val     = 3     # e.g. C = 3\n",
    "\n",
    "# --------------------------------------\n",
    "# 3) Define the big rational expression\n",
    "#    We'll call it expr(x). We want to study expr(x) >= 0\n",
    "# --------------------------------------\n",
    "# Numerator:\n",
    "num = (\n",
    "    - C*alpha*(n - 1)*(alpha*(x - 1) + 1)*(n + x - 2)\n",
    "    - (n - 1)**((alpha + 1)/alpha)\n",
    "      * (alpha*(x - 1) - 2*x + 1)\n",
    "      * (alpha*(-n - x + 2) + (n - 1))\n",
    ")\n",
    "\n",
    "# Denominator:\n",
    "den = C*alpha*(n + x - 2)*(alpha*(-n - x + 2) + (n - 1))\n",
    "\n",
    "expr = num / den  # The rational function we want >= 0\n",
    "\n",
    "# --------------------------------------\n",
    "# 4) Solve expr(x) = 0 symbolically to find roots\n",
    "# --------------------------------------\n",
    "solutions = sp.solve(sp.Eq(expr, 0), x, dict=True)\n",
    "\n",
    "# Extract real solutions in a list\n",
    "real_roots = []\n",
    "for sol in solutions:\n",
    "    sol_x = sol[x]\n",
    "    if sol_x.is_real:\n",
    "        real_roots.append(sol_x)\n",
    "\n",
    "real_roots = list(set(real_roots))  # remove duplicates if any\n",
    "real_roots.sort()\n",
    "\n",
    "# --------------------------------------\n",
    "# 5) Define the proposed lower bound\n",
    "#    x_bound = (1/n)*theta + (1 - 1/alpha)*(1 - theta)\n",
    "#    where theta = 1 / (1 + (n+2)^(-1/alpha)*(C-1))\n",
    "# --------------------------------------\n",
    "theta = 1 / (1 + (n_val + 2)**(-1/alpha_val)*(C_val - 1))\n",
    "x_bound = (1/n_val)*theta + (1 - 1/alpha_val)*(1 - theta)\n",
    "\n",
    "# --------------------------------------\n",
    "# 6) Numeric/plotting setup\n",
    "# --------------------------------------\n",
    "# Turn expr(x) into a numpy-callable function\n",
    "f_expr = expr.subs({alpha: alpha_val, n: n_val, C: C_val})\n",
    "f_lam  = sp.lambdify(x, f_expr, 'numpy')\n",
    "\n",
    "# We'll pick a plotting range that includes the bound & the real roots\n",
    "left_limit  = min(0, float(x_bound) - 0.5)\n",
    "right_limit = max(float(x_bound) + 0.5, 3)  # adjust as needed\n",
    "\n",
    "# Construct a grid for plotting\n",
    "X_vals = np.linspace(left_limit, right_limit, 1000)\n",
    "Y_vals = f_lam(X_vals)\n",
    "\n",
    "# --------------------------------------\n",
    "# 7) Plot the function\n",
    "# --------------------------------------\n",
    "plt.figure(figsize=(8, 5))\n",
    "plt.axhline(0, color='gray', linestyle='--', label='y = 0')\n",
    "\n",
    "plt.plot(X_vals, Y_vals, label='expr(x)')\n",
    "\n",
    "# Vertical line for the bound\n",
    "plt.axvline(x_bound, color='green', linestyle='-', label=f\"x_bound = {x_bound:.4f}\")\n",
    "\n",
    "# Vertical lines for each real root\n",
    "for r in real_roots:\n",
    "    r_val = float(r)\n",
    "    plt.axvline(r_val, color='red', linestyle='--',\n",
    "                label=f\"root ~ {r_val:.4f}\")\n",
    "\n",
    "plt.xlim(left_limit, right_limit)\n",
    "plt.ylim(-2, 2)  # you can adjust based on expr's typical size\n",
    "\n",
    "plt.title(f\"Comparison of Proposed Bound & Roots\\n\"\n",
    "          f\"(alpha={alpha_val}, n={n_val}, C={C_val})\")\n",
    "plt.xlabel(\"x\")\n",
    "plt.ylabel(\"expr(x)\")\n",
    "plt.legend(loc='best')\n",
    "plt.grid(True)\n",
    "\n",
    "plt.show()\n",
    "\n",
    "# --------------------------------------\n",
    "# 8) Print results\n",
    "# --------------------------------------\n",
    "print(f\"Parameter values: alpha={alpha_val}, n={n_val}, C={C_val}\")\n",
    "print(f\"Proposed bound x_bound = {x_bound}\")\n",
    "print(f\"Real roots found: {real_roots}\")\n"
   ]
  },
  {
   "cell_type": "code",
   "execution_count": null,
   "metadata": {},
   "outputs": [],
   "source": []
  },
  {
   "cell_type": "code",
   "execution_count": null,
   "metadata": {},
   "outputs": [],
   "source": []
  },
  {
   "cell_type": "code",
   "execution_count": null,
   "metadata": {},
   "outputs": [],
   "source": []
  },
  {
   "cell_type": "code",
   "execution_count": null,
   "metadata": {},
   "outputs": [],
   "source": []
  },
  {
   "cell_type": "markdown",
   "metadata": {},
   "source": [
    "# POA maximization problem"
   ]
  },
  {
   "cell_type": "code",
   "execution_count": null,
   "metadata": {},
   "outputs": [],
   "source": []
  },
  {
   "cell_type": "code",
   "execution_count": null,
   "metadata": {},
   "outputs": [],
   "source": []
  },
  {
   "cell_type": "code",
   "execution_count": null,
   "metadata": {},
   "outputs": [],
   "source": []
  },
  {
   "cell_type": "code",
   "execution_count": 330,
   "metadata": {},
   "outputs": [],
   "source": [
    "def objective_function(costs, alpha):\n",
    "    guess = [5*c for c in costs]\n",
    "    bids = getEquilBids(costs, alpha, guess)\n",
    "    allos = getAllos(bids, alpha)\n",
    "    min_cost = np.min(costs)\n",
    "    poa = np.dot(costs, allos) / min_cost\n",
    "    return -poa  # Negative for maximization"
   ]
  },
  {
   "cell_type": "code",
   "execution_count": 338,
   "metadata": {},
   "outputs": [],
   "source": [
    "MAX_COST = 20\n",
    "alpha    = 3\n",
    "initial_costs = np.array([1, 2, 2, 2, 2])"
   ]
  },
  {
   "cell_type": "code",
   "execution_count": 339,
   "metadata": {},
   "outputs": [],
   "source": [
    "bounds = [(1, MAX_COST) for _ in initial_costs]\n",
    "result = minimize(\n",
    "    objective_function,\n",
    "    initial_costs,\n",
    "    args=(alpha),\n",
    "    method='L-BFGS-B',\n",
    "    bounds=bounds,\n",
    ")"
   ]
  },
  {
   "cell_type": "code",
   "execution_count": 340,
   "metadata": {},
   "outputs": [
    {
     "data": {
      "text/plain": [
       "      fun: -7.747699496334311\n",
       " hess_inv: <5x5 LbfgsInvHessProduct with dtype=float64>\n",
       "      jac: array([ 6.69382491, -0.10970344, -0.11751505, -0.09050697, -0.08007407])\n",
       "  message: b'CONVERGENCE: NORM_OF_PROJECTED_GRADIENT_<=_PGTOL'\n",
       "     nfev: 30\n",
       "      nit: 3\n",
       "     njev: 5\n",
       "   status: 0\n",
       "  success: True\n",
       "        x: array([ 1., 20., 20., 20., 20.])"
      ]
     },
     "execution_count": 340,
     "metadata": {},
     "output_type": "execute_result"
    }
   ],
   "source": [
    "result"
   ]
  },
  {
   "cell_type": "code",
   "execution_count": 380,
   "metadata": {},
   "outputs": [
    {
     "data": {
      "text/plain": [
       "(array([2., 2., 2.]), array([0.33333333, 0.33333333, 0.33333333]), 1.0)"
      ]
     },
     "execution_count": 380,
     "metadata": {},
     "output_type": "execute_result"
    }
   ],
   "source": [
    "# checking\n",
    "alpha = 3.\n",
    "costs = [1,1,1]\n",
    "bids = getEquilBids(costs, alpha, guess=[2,5,5])\n",
    "allos = getAllos(bids, alpha)\n",
    "poa = np.dot(costs, allos)\n",
    "bids, allos, poa"
   ]
  },
  {
   "cell_type": "code",
   "execution_count": 379,
   "metadata": {},
   "outputs": [
    {
     "data": {
      "text/plain": [
       "(array([3.63494688, 4.16581747, 6.35703569]),\n",
       " array([0.5401619 , 0.35885372, 0.10098438]),\n",
       " 1.6618068601146099)"
      ]
     },
     "execution_count": 379,
     "metadata": {},
     "output_type": "execute_result"
    }
   ],
   "source": [
    "alpha = 3.\n",
    "costs = [1,2,4]\n",
    "bids = getEquilBids(costs, alpha, guess=[2,4,5])\n",
    "allos = getAllos(bids, alpha)\n",
    "poa = np.dot(costs, allos)\n",
    "bids, allos, poa"
   ]
  },
  {
   "cell_type": "code",
   "execution_count": 367,
   "metadata": {},
   "outputs": [
    {
     "data": {
      "text/plain": [
       "(1.67367072, 2.0033406)"
      ]
     },
     "execution_count": 367,
     "metadata": {},
     "output_type": "execute_result"
    }
   ],
   "source": [
    "0.20920884*2*4, 0.20033406*2*5"
   ]
  },
  {
   "cell_type": "code",
   "execution_count": 377,
   "metadata": {},
   "outputs": [
    {
     "data": {
      "text/plain": [
       "0.32966987999999997"
      ]
     },
     "execution_count": 377,
     "metadata": {},
     "output_type": "execute_result"
    }
   ],
   "source": [
    "(0.20033406*2*5-0.20920884*2*4)"
   ]
  },
  {
   "cell_type": "code",
   "execution_count": 375,
   "metadata": {},
   "outputs": [
    {
     "data": {
      "text/plain": [
       "-0.017749560000000053"
      ]
     },
     "execution_count": 375,
     "metadata": {},
     "output_type": "execute_result"
    }
   ],
   "source": [
    "0.58158232 - 0.59933188"
   ]
  },
  {
   "cell_type": "markdown",
   "metadata": {},
   "source": [
    "# Jensen's"
   ]
  },
  {
   "cell_type": "code",
   "execution_count": 381,
   "metadata": {},
   "outputs": [
    {
     "data": {
      "text/plain": [
       "(a, x)"
      ]
     },
     "execution_count": 381,
     "metadata": {},
     "output_type": "execute_result"
    }
   ],
   "source": [
    "a, x = sp.symbols('a x')\n",
    "a, x"
   ]
  },
  {
   "cell_type": "code",
   "execution_count": 382,
   "metadata": {},
   "outputs": [
    {
     "data": {
      "text/latex": [
       "$\\displaystyle \\frac{x^{\\frac{1}{a}} \\left(1 - x\\right)}{- a x + a - 1}$"
      ],
      "text/plain": [
       "x**(1/a)*(1 - x)/(-a*x + a - 1)"
      ]
     },
     "execution_count": 382,
     "metadata": {},
     "output_type": "execute_result"
    }
   ],
   "source": [
    "F = (x**(1/a)*(1-x))/(a-a*x-1)\n",
    "F"
   ]
  },
  {
   "cell_type": "code",
   "execution_count": 383,
   "metadata": {},
   "outputs": [
    {
     "data": {
      "text/latex": [
       "$\\displaystyle - \\frac{x^{\\frac{1}{a}} \\left(1 - x\\right) \\left(\\frac{2 a^{2} x^{\\frac{1}{a}} \\left(1 - x\\right)}{\\left(- a x + a - 1\\right)^{3}} - \\frac{2 a x^{\\frac{1}{a}}}{\\left(- a x + a - 1\\right)^{2}} + \\frac{2 x^{\\frac{1}{a}} \\left(1 - x\\right)}{x \\left(- a x + a - 1\\right)^{2}} - \\frac{2 x^{\\frac{1}{a}}}{a x \\left(- a x + a - 1\\right)} - \\frac{x^{\\frac{1}{a}} \\left(1 - x\\right)}{a x^{2} \\left(- a x + a - 1\\right)} + \\frac{x^{\\frac{1}{a}} \\left(1 - x\\right)}{a^{2} x^{2} \\left(- a x + a - 1\\right)}\\right)}{- a x + a - 1} + 2 \\left(\\frac{a x^{\\frac{1}{a}} \\left(1 - x\\right)}{\\left(- a x + a - 1\\right)^{2}} - \\frac{x^{\\frac{1}{a}}}{- a x + a - 1} + \\frac{x^{\\frac{1}{a}} \\left(1 - x\\right)}{a x \\left(- a x + a - 1\\right)}\\right)^{2}$"
      ],
      "text/plain": [
       "-x**(1/a)*(1 - x)*(2*a**2*x**(1/a)*(1 - x)/(-a*x + a - 1)**3 - 2*a*x**(1/a)/(-a*x + a - 1)**2 + 2*x**(1/a)*(1 - x)/(x*(-a*x + a - 1)**2) - 2*x**(1/a)/(a*x*(-a*x + a - 1)) - x**(1/a)*(1 - x)/(a*x**2*(-a*x + a - 1)) + x**(1/a)*(1 - x)/(a**2*x**2*(-a*x + a - 1)))/(-a*x + a - 1) + 2*(a*x**(1/a)*(1 - x)/(-a*x + a - 1)**2 - x**(1/a)/(-a*x + a - 1) + x**(1/a)*(1 - x)/(a*x*(-a*x + a - 1)))**2"
      ]
     },
     "execution_count": 383,
     "metadata": {},
     "output_type": "execute_result"
    }
   ],
   "source": [
    "total = 2*(sp.diff(F, x)**2) - (F*sp.diff(sp.diff(F, x), x))\n",
    "total"
   ]
  },
  {
   "cell_type": "code",
   "execution_count": 384,
   "metadata": {},
   "outputs": [
    {
     "data": {
      "text/latex": [
       "$\\displaystyle \\frac{- x^{\\frac{2 a + 1}{a}} \\left(x - 1\\right) \\left(2 a^{4} x^{\\frac{6 a + 1}{a}} \\left(x - 1\\right) - 2 a^{3} x^{\\frac{6 a + 1}{a}} \\left(a x - a + 1\\right) + 2 a^{2} x^{\\frac{5 a + 1}{a}} \\left(1 - x\\right) \\left(a x - a + 1\\right) + a x^{\\frac{4 a + 1}{a}} \\left(1 - x\\right) \\left(a x - a + 1\\right)^{2} + 2 a x^{\\frac{5 a + 1}{a}} \\left(a x - a + 1\\right)^{2} + x^{\\frac{4 a + 1}{a}} \\left(x - 1\\right) \\left(a x - a + 1\\right)^{2}\\right) + 2 x^{6 + \\frac{2}{a}} \\left(- a^{2} x \\left(x - 1\\right) + a x \\left(a x - a + 1\\right) + \\left(x - 1\\right) \\left(a x - a + 1\\right)\\right)^{2}}{a^{2} x^{8} \\left(a x - a + 1\\right)^{4}}$"
      ],
      "text/plain": [
       "(-x**((2*a + 1)/a)*(x - 1)*(2*a**4*x**((6*a + 1)/a)*(x - 1) - 2*a**3*x**((6*a + 1)/a)*(a*x - a + 1) + 2*a**2*x**((5*a + 1)/a)*(1 - x)*(a*x - a + 1) + a*x**((4*a + 1)/a)*(1 - x)*(a*x - a + 1)**2 + 2*a*x**((5*a + 1)/a)*(a*x - a + 1)**2 + x**((4*a + 1)/a)*(x - 1)*(a*x - a + 1)**2) + 2*x**(6 + 2/a)*(-a**2*x*(x - 1) + a*x*(a*x - a + 1) + (x - 1)*(a*x - a + 1))**2)/(a**2*x**8*(a*x - a + 1)**4)"
      ]
     },
     "execution_count": 384,
     "metadata": {},
     "output_type": "execute_result"
    }
   ],
   "source": [
    "total = sp.simplify(total)\n",
    "total"
   ]
  },
  {
   "cell_type": "code",
   "execution_count": 420,
   "metadata": {},
   "outputs": [
    {
     "data": {
      "text/latex": [
       "$\\displaystyle 1280775.80108598$"
      ],
      "text/plain": [
       "1280775.80108598"
      ]
     },
     "execution_count": 420,
     "metadata": {},
     "output_type": "execute_result"
    }
   ],
   "source": [
    "total.evalf(subs={a:3, x:0.67})"
   ]
  },
  {
   "cell_type": "code",
   "execution_count": null,
   "metadata": {},
   "outputs": [],
   "source": [
    "a, x = sp.symbols('a x')\n",
    "a, x\n",
    "\n",
    "F = (a-a*x-1)/(x**(1/a)*(1-x))\n",
    "F\n",
    "\n",
    "total = 2*(sp.diff(F, x)**2) - (F*sp.diff(sp.diff(F, x), x))\n",
    "total\n",
    "\n",
    "total = sp.simplify(total)\n",
    "total\n",
    "\n",
    "total.evalf(subs={a:3, x:0.157})"
   ]
  },
  {
   "cell_type": "code",
   "execution_count": null,
   "metadata": {},
   "outputs": [],
   "source": []
  },
  {
   "cell_type": "code",
   "execution_count": null,
   "metadata": {},
   "outputs": [],
   "source": []
  },
  {
   "cell_type": "code",
   "execution_count": null,
   "metadata": {},
   "outputs": [],
   "source": []
  },
  {
   "cell_type": "code",
   "execution_count": null,
   "metadata": {},
   "outputs": [],
   "source": []
  },
  {
   "cell_type": "code",
   "execution_count": 271,
   "metadata": {},
   "outputs": [
    {
     "data": {
      "text/plain": [
       "(a, x)"
      ]
     },
     "execution_count": 271,
     "metadata": {},
     "output_type": "execute_result"
    }
   ],
   "source": [
    "a, x = sp.symbols('a x')\n",
    "a, x"
   ]
  },
  {
   "cell_type": "code",
   "execution_count": 274,
   "metadata": {},
   "outputs": [
    {
     "data": {
      "text/latex": [
       "$\\displaystyle \\frac{x^{- \\frac{1}{a}} \\left(- a x + a - 1\\right)}{1 - x}$"
      ],
      "text/plain": [
       "(-a*x + a - 1)/(x**(1/a)*(1 - x))"
      ]
     },
     "execution_count": 274,
     "metadata": {},
     "output_type": "execute_result"
    }
   ],
   "source": [
    "F = (a-a*x-1)/(x**(1/a)*(1-x))\n",
    "F"
   ]
  },
  {
   "cell_type": "code",
   "execution_count": 279,
   "metadata": {},
   "outputs": [
    {
     "data": {
      "text/latex": [
       "$\\displaystyle 2 \\left(- \\frac{a x^{- \\frac{1}{a}}}{1 - x} + \\frac{x^{- \\frac{1}{a}} \\left(- a x + a - 1\\right)}{\\left(1 - x\\right)^{2}} - \\frac{x^{- \\frac{1}{a}} \\left(- a x + a - 1\\right)}{a x \\left(1 - x\\right)}\\right)^{2} - \\frac{x^{- \\frac{1}{a}} \\left(- a x + a - 1\\right) \\left(- \\frac{2 a x^{- \\frac{1}{a}}}{\\left(1 - x\\right)^{2}} + \\frac{2 x^{- \\frac{1}{a}} \\left(- a x + a - 1\\right)}{\\left(1 - x\\right)^{3}} + \\frac{2 x^{- \\frac{1}{a}}}{x \\left(1 - x\\right)} - \\frac{2 x^{- \\frac{1}{a}} \\left(- a x + a - 1\\right)}{a x \\left(1 - x\\right)^{2}} + \\frac{x^{- \\frac{1}{a}} \\left(- a x + a - 1\\right)}{a x^{2} \\cdot \\left(1 - x\\right)} + \\frac{x^{- \\frac{1}{a}} \\left(- a x + a - 1\\right)}{a^{2} x^{2} \\cdot \\left(1 - x\\right)}\\right)}{1 - x}$"
      ],
      "text/plain": [
       "2*(-a/(x**(1/a)*(1 - x)) + (-a*x + a - 1)/(x**(1/a)*(1 - x)**2) - (-a*x + a - 1)/(a*x*x**(1/a)*(1 - x)))**2 - (-a*x + a - 1)*(-2*a/(x**(1/a)*(1 - x)**2) + 2*(-a*x + a - 1)/(x**(1/a)*(1 - x)**3) + 2/(x*x**(1/a)*(1 - x)) - 2*(-a*x + a - 1)/(a*x*x**(1/a)*(1 - x)**2) + (-a*x + a - 1)/(a*x**2*x**(1/a)*(1 - x)) + (-a*x + a - 1)/(a**2*x**2*x**(1/a)*(1 - x)))/(x**(1/a)*(1 - x))"
      ]
     },
     "execution_count": 279,
     "metadata": {},
     "output_type": "execute_result"
    }
   ],
   "source": [
    "total = 2*(sp.diff(F, x)**2) - (F*sp.diff(sp.diff(F, x), x))\n",
    "total"
   ]
  },
  {
   "cell_type": "code",
   "execution_count": 280,
   "metadata": {},
   "outputs": [
    {
     "data": {
      "text/latex": [
       "$\\displaystyle \\frac{x^{- \\frac{8 a + 13}{a}} \\left(- x^{\\frac{2 \\left(a + 3\\right)}{a}} \\left(a x - a + 1\\right) \\left(- 2 a^{3} x^{\\frac{6 a + 5}{a}} \\left(x - 1\\right) - 2 a^{2} x^{\\frac{5 \\left(a + 1\\right)}{a}} \\left(x - 1\\right)^{2} + 2 a^{2} x^{\\frac{6 a + 5}{a}} \\left(a x - a + 1\\right) + 2 a x^{\\frac{5 \\left(a + 1\\right)}{a}} \\left(x - 1\\right) \\left(a x - a + 1\\right) + a x^{\\frac{4 a + 5}{a}} \\left(x - 1\\right)^{2} \\left(a x - a + 1\\right) + x^{\\frac{4 a + 5}{a}} \\left(x - 1\\right)^{2} \\left(a x - a + 1\\right)\\right) + 2 x^{\\frac{6 a + 11}{a}} \\left(- a^{2} x \\left(x - 1\\right) + a x \\left(a x - a + 1\\right) + \\left(x - 1\\right) \\left(a x - a + 1\\right)\\right)^{2}\\right)}{a^{2} \\left(x - 1\\right)^{4}}$"
      ],
      "text/plain": [
       "(-x**(2*(a + 3)/a)*(a*x - a + 1)*(-2*a**3*x**((6*a + 5)/a)*(x - 1) - 2*a**2*x**(5*(a + 1)/a)*(x - 1)**2 + 2*a**2*x**((6*a + 5)/a)*(a*x - a + 1) + 2*a*x**(5*(a + 1)/a)*(x - 1)*(a*x - a + 1) + a*x**((4*a + 5)/a)*(x - 1)**2*(a*x - a + 1) + x**((4*a + 5)/a)*(x - 1)**2*(a*x - a + 1)) + 2*x**((6*a + 11)/a)*(-a**2*x*(x - 1) + a*x*(a*x - a + 1) + (x - 1)*(a*x - a + 1))**2)/(a**2*x**((8*a + 13)/a)*(x - 1)**4)"
      ]
     },
     "execution_count": 280,
     "metadata": {},
     "output_type": "execute_result"
    }
   ],
   "source": [
    "total = sp.simplify(total)\n",
    "total"
   ]
  },
  {
   "cell_type": "code",
   "execution_count": 291,
   "metadata": {},
   "outputs": [
    {
     "data": {
      "text/latex": [
       "$\\displaystyle -30.2562978621363$"
      ],
      "text/plain": [
       "-30.2562978621363"
      ]
     },
     "execution_count": 291,
     "metadata": {},
     "output_type": "execute_result"
    }
   ],
   "source": [
    "total.evalf(subs={a:3, x:0.157})"
   ]
  },
  {
   "cell_type": "code",
   "execution_count": 293,
   "metadata": {},
   "outputs": [
    {
     "name": "stdout",
     "output_type": "stream",
     "text": [
      "Expression for convexity condition:\n"
     ]
    },
    {
     "data": {
      "text/latex": [
       "$\\displaystyle \\frac{x^{-2 - \\frac{2}{a}} \\left(- a^{3} x^{3} + a^{3} x^{2} - 3 a^{3} x + a^{3} + a^{2} x^{3} - 3 a^{2} x^{2} + 5 a^{2} x - 3 a^{2} + 2 a x^{2} - 3 a x + 3 a + x - 1\\right)}{a^{2} \\left(x^{3} - 3 x^{2} + 3 x - 1\\right)}$"
      ],
      "text/plain": [
       "x**(-2 - 2/a)*(-a**3*x**3 + a**3*x**2 - 3*a**3*x + a**3 + a**2*x**3 - 3*a**2*x**2 + 5*a**2*x - 3*a**2 + 2*a*x**2 - 3*a*x + 3*a + x - 1)/(a**2*(x**3 - 3*x**2 + 3*x - 1))"
      ]
     },
     "execution_count": 293,
     "metadata": {},
     "output_type": "execute_result"
    }
   ],
   "source": [
    "x, a, x0 = sp.symbols('x a x0', positive=True, real=True)\n",
    "# F(x) as defined.\n",
    "F = (a - a*x - 1) / (x**(1/a)*(1-x))\n",
    "\n",
    "# Compute first and second derivatives.\n",
    "Fprime = sp.diff(F, x)\n",
    "Fdouble = sp.diff(Fprime, x)\n",
    "\n",
    "# Form the expression that must be nonnegative for convexity.\n",
    "expr = 2*Fprime**2 - F*Fdouble\n",
    "expr_simpl = sp.simplify(expr)\n",
    "print(\"Expression for convexity condition:\")\n",
    "expr_simpl"
   ]
  },
  {
   "cell_type": "code",
   "execution_count": 307,
   "metadata": {},
   "outputs": [
    {
     "data": {
      "text/latex": [
       "$\\displaystyle 50.78125$"
      ],
      "text/plain": [
       "50.7812500000000"
      ]
     },
     "execution_count": 307,
     "metadata": {},
     "output_type": "execute_result"
    }
   ],
   "source": [
    "expr_simpl.evalf(subs={a:2, x:0.2})"
   ]
  },
  {
   "cell_type": "code",
   "execution_count": 310,
   "metadata": {},
   "outputs": [
    {
     "data": {
      "text/latex": [
       "$\\displaystyle \\frac{x^{- \\frac{1}{a}} \\left(a x - a + 1\\right)}{x - 1}$"
      ],
      "text/plain": [
       "(a*x - a + 1)/(x**(1/a)*(x - 1))"
      ]
     },
     "execution_count": 310,
     "metadata": {},
     "output_type": "execute_result"
    }
   ],
   "source": [
    "F = (a - a*x - 1) / (x**(1/a)*(1-x))\n",
    "sp.simplify(F)"
   ]
  },
  {
   "cell_type": "code",
   "execution_count": 311,
   "metadata": {},
   "outputs": [],
   "source": [
    "a, x = sp.symbols('a x', positive=True, real=True)\n",
    "\n",
    "# Define F(x)\n",
    "F = (a - a*x - 1) / (x**(1/a)*(1-x))\n",
    "\n",
    "# Compute derivative F'(x)\n",
    "Fprime = sp.diff(F, x)\n",
    "\n",
    "# Expression that must be positive for G'(c) > 0:\n",
    "expr = x + F/Fprime\n",
    "expr_simpl = sp.simplify(expr)"
   ]
  },
  {
   "cell_type": "code",
   "execution_count": 319,
   "metadata": {},
   "outputs": [
    {
     "data": {
      "text/latex": [
       "$\\displaystyle -0.166666666666667$"
      ],
      "text/plain": [
       "-0.166666666666667"
      ]
     },
     "execution_count": 319,
     "metadata": {},
     "output_type": "execute_result"
    }
   ],
   "source": [
    "expr_simpl.evalf(subs={a:3, x:1/4})"
   ]
  },
  {
   "cell_type": "code",
   "execution_count": 329,
   "metadata": {},
   "outputs": [
    {
     "ename": "ValueError",
     "evalue": "Could not find root within given tolerance. (7.0 > 2.16840434497100886801e-19)\nTry another starting point or tweak arguments.",
     "output_type": "error",
     "traceback": [
      "\u001b[0;31m---------------------------------------------------------------------------\u001b[0m",
      "\u001b[0;31mValueError\u001b[0m                                Traceback (most recent call last)",
      "\u001b[0;32m<ipython-input-329-c83999779a17>\u001b[0m in \u001b[0;36m<module>\u001b[0;34m\u001b[0m\n\u001b[1;32m     31\u001b[0m \u001b[0;34m\u001b[0m\u001b[0m\n\u001b[1;32m     32\u001b[0m \u001b[0;31m# Solve h(x0) = c1 for x0.\u001b[0m\u001b[0;34m\u001b[0m\u001b[0;34m\u001b[0m\u001b[0;34m\u001b[0m\u001b[0m\n\u001b[0;32m---> 33\u001b[0;31m \u001b[0msol\u001b[0m \u001b[0;34m=\u001b[0m \u001b[0msp\u001b[0m\u001b[0;34m.\u001b[0m\u001b[0mnsolve\u001b[0m\u001b[0;34m(\u001b[0m\u001b[0mh_sub\u001b[0m \u001b[0;34m-\u001b[0m \u001b[0mc1_val\u001b[0m\u001b[0;34m,\u001b[0m \u001b[0;36m0.1\u001b[0m\u001b[0;34m)\u001b[0m  \u001b[0;31m# initial guess 0.5\u001b[0m\u001b[0;34m\u001b[0m\u001b[0;34m\u001b[0m\u001b[0m\n\u001b[0m\u001b[1;32m     34\u001b[0m \u001b[0mphi_val\u001b[0m \u001b[0;34m=\u001b[0m \u001b[0msol\u001b[0m\u001b[0;34m\u001b[0m\u001b[0;34m\u001b[0m\u001b[0m\n\u001b[1;32m     35\u001b[0m \u001b[0mprint\u001b[0m\u001b[0;34m(\u001b[0m\u001b[0;34m\"For a =\"\u001b[0m\u001b[0;34m,\u001b[0m \u001b[0ma_val\u001b[0m\u001b[0;34m,\u001b[0m \u001b[0;34m\"and c1 =\"\u001b[0m\u001b[0;34m,\u001b[0m \u001b[0mc1_val\u001b[0m\u001b[0;34m,\u001b[0m \u001b[0;34m\"the low cost allocation x0 is:\"\u001b[0m\u001b[0;34m,\u001b[0m \u001b[0mphi_val\u001b[0m\u001b[0;34m)\u001b[0m\u001b[0;34m\u001b[0m\u001b[0;34m\u001b[0m\u001b[0m\n",
      "\u001b[0;32m/usr/local/lib/python3.8/site-packages/sympy/utilities/decorator.py\u001b[0m in \u001b[0;36mfunc_wrapper\u001b[0;34m(*args, **kwargs)\u001b[0m\n\u001b[1;32m     85\u001b[0m         \u001b[0mdps\u001b[0m \u001b[0;34m=\u001b[0m \u001b[0mmpmath\u001b[0m\u001b[0;34m.\u001b[0m\u001b[0mmp\u001b[0m\u001b[0;34m.\u001b[0m\u001b[0mdps\u001b[0m\u001b[0;34m\u001b[0m\u001b[0;34m\u001b[0m\u001b[0m\n\u001b[1;32m     86\u001b[0m         \u001b[0;32mtry\u001b[0m\u001b[0;34m:\u001b[0m\u001b[0;34m\u001b[0m\u001b[0;34m\u001b[0m\u001b[0m\n\u001b[0;32m---> 87\u001b[0;31m             \u001b[0;32mreturn\u001b[0m \u001b[0mfunc\u001b[0m\u001b[0;34m(\u001b[0m\u001b[0;34m*\u001b[0m\u001b[0margs\u001b[0m\u001b[0;34m,\u001b[0m \u001b[0;34m**\u001b[0m\u001b[0mkwargs\u001b[0m\u001b[0;34m)\u001b[0m\u001b[0;34m\u001b[0m\u001b[0;34m\u001b[0m\u001b[0m\n\u001b[0m\u001b[1;32m     88\u001b[0m         \u001b[0;32mfinally\u001b[0m\u001b[0;34m:\u001b[0m\u001b[0;34m\u001b[0m\u001b[0;34m\u001b[0m\u001b[0m\n\u001b[1;32m     89\u001b[0m             \u001b[0mmpmath\u001b[0m\u001b[0;34m.\u001b[0m\u001b[0mmp\u001b[0m\u001b[0;34m.\u001b[0m\u001b[0mdps\u001b[0m \u001b[0;34m=\u001b[0m \u001b[0mdps\u001b[0m\u001b[0;34m\u001b[0m\u001b[0;34m\u001b[0m\u001b[0m\n",
      "\u001b[0;32m/usr/local/lib/python3.8/site-packages/sympy/solvers/solvers.py\u001b[0m in \u001b[0;36mnsolve\u001b[0;34m(dict, *args, **kwargs)\u001b[0m\n\u001b[1;32m   3042\u001b[0m \u001b[0;34m\u001b[0m\u001b[0m\n\u001b[1;32m   3043\u001b[0m         \u001b[0mf\u001b[0m \u001b[0;34m=\u001b[0m \u001b[0mlambdify\u001b[0m\u001b[0;34m(\u001b[0m\u001b[0mfargs\u001b[0m\u001b[0;34m,\u001b[0m \u001b[0mf\u001b[0m\u001b[0;34m,\u001b[0m \u001b[0mmodules\u001b[0m\u001b[0;34m)\u001b[0m\u001b[0;34m\u001b[0m\u001b[0;34m\u001b[0m\u001b[0m\n\u001b[0;32m-> 3044\u001b[0;31m         \u001b[0mx\u001b[0m \u001b[0;34m=\u001b[0m \u001b[0msympify\u001b[0m\u001b[0;34m(\u001b[0m\u001b[0mfindroot\u001b[0m\u001b[0;34m(\u001b[0m\u001b[0mf\u001b[0m\u001b[0;34m,\u001b[0m \u001b[0mx0\u001b[0m\u001b[0;34m,\u001b[0m \u001b[0;34m**\u001b[0m\u001b[0mkwargs\u001b[0m\u001b[0;34m)\u001b[0m\u001b[0;34m)\u001b[0m\u001b[0;34m\u001b[0m\u001b[0;34m\u001b[0m\u001b[0m\n\u001b[0m\u001b[1;32m   3045\u001b[0m         \u001b[0;32mif\u001b[0m \u001b[0mas_dict\u001b[0m\u001b[0;34m:\u001b[0m\u001b[0;34m\u001b[0m\u001b[0;34m\u001b[0m\u001b[0m\n\u001b[1;32m   3046\u001b[0m             \u001b[0;32mreturn\u001b[0m \u001b[0;34m[\u001b[0m\u001b[0;34m{\u001b[0m\u001b[0mfargs\u001b[0m\u001b[0;34m:\u001b[0m \u001b[0mx\u001b[0m\u001b[0;34m}\u001b[0m\u001b[0;34m]\u001b[0m\u001b[0;34m\u001b[0m\u001b[0;34m\u001b[0m\u001b[0m\n",
      "\u001b[0;32m/usr/local/lib/python3.8/site-packages/mpmath/calculus/optimization.py\u001b[0m in \u001b[0;36mfindroot\u001b[0;34m(ctx, f, x0, solver, tol, verbose, verify, **kwargs)\u001b[0m\n\u001b[1;32m    983\u001b[0m             \u001b[0mxl\u001b[0m \u001b[0;34m=\u001b[0m \u001b[0mx\u001b[0m\u001b[0;34m\u001b[0m\u001b[0;34m\u001b[0m\u001b[0m\n\u001b[1;32m    984\u001b[0m         \u001b[0;32mif\u001b[0m \u001b[0mverify\u001b[0m \u001b[0;32mand\u001b[0m \u001b[0mnorm\u001b[0m\u001b[0;34m(\u001b[0m\u001b[0mf\u001b[0m\u001b[0;34m(\u001b[0m\u001b[0;34m*\u001b[0m\u001b[0mxl\u001b[0m\u001b[0;34m)\u001b[0m\u001b[0;34m)\u001b[0m\u001b[0;34m**\u001b[0m\u001b[0;36m2\u001b[0m \u001b[0;34m>\u001b[0m \u001b[0mtol\u001b[0m\u001b[0;34m:\u001b[0m \u001b[0;31m# TODO: better condition?\u001b[0m\u001b[0;34m\u001b[0m\u001b[0;34m\u001b[0m\u001b[0m\n\u001b[0;32m--> 985\u001b[0;31m             raise ValueError('Could not find root within given tolerance. '\n\u001b[0m\u001b[1;32m    986\u001b[0m                              \u001b[0;34m'(%s > %s)\\n'\u001b[0m\u001b[0;34m\u001b[0m\u001b[0;34m\u001b[0m\u001b[0m\n\u001b[1;32m    987\u001b[0m                              \u001b[0;34m'Try another starting point or tweak arguments.'\u001b[0m\u001b[0;34m\u001b[0m\u001b[0;34m\u001b[0m\u001b[0m\n",
      "\u001b[0;31mValueError\u001b[0m: Could not find root within given tolerance. (7.0 > 2.16840434497100886801e-19)\nTry another starting point or tweak arguments."
     ]
    }
   ],
   "source": [
    "x0, c1, a = sp.symbols('x0 c1 a', positive=True, real=True)\n",
    "\n",
    "# Set parameter a=3\n",
    "a_val = 3\n",
    "\n",
    "# Define the function h(x0) so that c1 = h(x0) per the equilibrium condition.\n",
    "# Note: The equilibrium condition (after algebra) is\n",
    "#   c1 = ((a*x0 - 1)/(a - a*x0 - 1)) * ((1 - x0)/x0)**(1 - 1/a)\n",
    "h = ((a*x0 - 1)/(a - a*x0 - 1)) * (((1 - x0)/x0)**(1 - 1/a))\n",
    "\n",
    "# For a given a, we treat h as a function of x0.\n",
    "h_sub = h.subs(a, a_val)\n",
    "\n",
    "# Implicit differentiation: differentiate h(x0) with respect to x0.\n",
    "dh_dx0 = sp.diff(h_sub, x0)\n",
    "\n",
    "# Now, x0 is determined by c1 = h(x0). By implicit differentiation,\n",
    "# dx0/dc1 = 1 / (dh/dx0).\n",
    "dx0_dc1 = 1 / dh_dx0\n",
    "\n",
    "# Define phi(c1) = x0, where x0 solves c1 = h(x0).\n",
    "# Then POA = phi(c1) + c1*(1 - phi(c1)).\n",
    "x0_phi = sp.symbols('x0_phi', positive=True, real=True)\n",
    "# We represent POA in terms of phi, but we really want to differentiate with respect to c1.\n",
    "# Instead, note that by implicit differentiation, we have:\n",
    "# d(POA)/dc1 = (1 - phi(c1)) + (1 - c1)* (d phi(c1)/dc1).\n",
    "# For illustration, suppose we fix a value for c1 and compute d(POA)/dc1 numerically.\n",
    "\n",
    "# Let's choose a sample value for c1 (say, c1 = 2).\n",
    "c1_val = 3\n",
    "\n",
    "# Solve h(x0) = c1 for x0.\n",
    "sol = sp.nsolve(h_sub - c1_val, 0.1)  # initial guess 0.5\n",
    "phi_val = sol\n",
    "print(\"For a =\", a_val, \"and c1 =\", c1_val, \"the low cost allocation x0 is:\", phi_val)\n",
    "\n",
    "# Now, compute dx0/dc1 at this solution:\n",
    "dx0_dc1_val = dx0_dc1.subs(x0, phi_val)\n",
    "print(\"dx0/dc1 =\", dx0_dc1_val)\n",
    "\n",
    "# Compute the derivative of POA with respect to c1:\n",
    "POA = phi_val + c1_val*(1 - phi_val)\n",
    "# d(POA)/dc1 = (1 - phi_val) + (1 - c1_val)*dx0/dc1\n",
    "dPOA_dc1 = (1 - phi_val) + (1 - c1_val)*dx0_dc1_val\n",
    "print(\"d(POA)/dc1 =\", dPOA_dc1)"
   ]
  },
  {
   "cell_type": "code",
   "execution_count": null,
   "metadata": {},
   "outputs": [],
   "source": []
  },
  {
   "cell_type": "code",
   "execution_count": null,
   "metadata": {},
   "outputs": [],
   "source": []
  },
  {
   "cell_type": "code",
   "execution_count": 149,
   "metadata": {},
   "outputs": [],
   "source": [
    "def getEquilBids(cs, a, guess=None):\n",
    "    n = len(cs)\n",
    "    bs = [sp.Symbol('b{}'.format(i)) for i in range(n)]\n",
    "    \n",
    "    denom = sum([bi**(-a) for bi in bs])\n",
    "    xs    = [bi**(-a)/denom for bi in bs]\n",
    "    us    = [(bs[i] - cs[i])*xs[i] for i in range(n)]\n",
    "    diffs = [sp.diff(us[i], bs[i]) for i in range(n)]\n",
    "    funcs = [sp.lambdify(bs, diffs[i]) for i in range(n)]\n",
    "    \n",
    "    def eqs(bs):\n",
    "        return [f(*bs) for f in funcs]\n",
    "    \n",
    "    initial_guess = cs\n",
    "    if guess != None:\n",
    "        initial_guess = guess\n",
    "    \n",
    "    return fsolve(eqs, initial_guess)\n",
    "\n",
    "def getAllos(bids, a):\n",
    "    denom = sum([b**(-a) for b in bids])\n",
    "    return np.array(bids**(-a)) / denom"
   ]
  },
  {
   "cell_type": "code",
   "execution_count": 150,
   "metadata": {},
   "outputs": [],
   "source": [
    "def explicitQuadraticRoot(c, a):\n",
    "    # Calculate coefficients\n",
    "    A = (1 - c) * a**2 - 2 * a\n",
    "    B = c * a * (a - 1) + 2 - a**2\n",
    "    C = a - 1\n",
    "    \n",
    "    # Compute discriminant\n",
    "    discriminant = B**2 - 4 * A * C\n",
    "    \n",
    "    # Compute square root of discriminant\n",
    "    sqrt_discriminant = math.sqrt(discriminant)\n",
    "    \n",
    "    # Compute the positive root using the quadratic formula\n",
    "    x_star = (-B - sqrt_discriminant) / (2 * A)\n",
    "    \n",
    "    return x_star"
   ]
  },
  {
   "cell_type": "code",
   "execution_count": 195,
   "metadata": {},
   "outputs": [],
   "source": [
    "def getBoundedBids(c, a):\n",
    "    bigAllo = explicitQuadraticRoot(c=c, a=a)\n",
    "    b0 = sp.symbols('b0', positive=True, real=True)\n",
    "    eq = sp.Eq(b0**(-a) / (b0**(-a) + c**(-a)), bigAllo)\n",
    "    b0_sol = sp.nsolve(eq, c)\n",
    "    r = b0_sol / c\n",
    "    B = a / (r*(a-(r**(-a)+1)))\n",
    "    return B * r, B"
   ]
  },
  {
   "cell_type": "code",
   "execution_count": 183,
   "metadata": {},
   "outputs": [
    {
     "data": {
      "text/plain": [
       "array([1. , 1.1, 1.2, 1.3, 1.4, 1.5, 1.6, 1.7, 1.8, 1.9, 2. , 2.1, 2.2,\n",
       "       2.3, 2.4, 2.5, 2.6, 2.7, 2.8, 2.9, 3. ])"
      ]
     },
     "execution_count": 183,
     "metadata": {},
     "output_type": "execute_result"
    }
   ],
   "source": [
    "alpha = 5\n",
    "c1s   = np.arange(1, 3.01, 0.1)\n",
    "c1s"
   ]
  },
  {
   "cell_type": "code",
   "execution_count": 184,
   "metadata": {},
   "outputs": [
    {
     "data": {
      "text/plain": [
       "((21, 2), (21,), (21, 2))"
      ]
     },
     "execution_count": 184,
     "metadata": {},
     "output_type": "execute_result"
    }
   ],
   "source": [
    "guesses = c1s\n",
    "\n",
    "xTildes  = []\n",
    "welfares = [] \n",
    "bids     = []\n",
    "for i, c1 in enumerate(c1s):\n",
    "    costs   = [1, c1]\n",
    "    cBids   = getEquilBids(costs, a=alpha, guess=[guesses[i],guesses[i]])\n",
    "    xTilde  = getAllos(cBids, a=alpha)\n",
    "    xTildes.append(xTilde)\n",
    "    welfares.append(np.dot(costs, xTilde))\n",
    "    bids.append(cBids)\n",
    "xTildes = np.asarray(xTildes)\n",
    "welfares = np.asarray(welfares)\n",
    "bids     = np.asarray(bids)\n",
    "xTildes.shape, welfares.shape, bids.shape"
   ]
  },
  {
   "cell_type": "code",
   "execution_count": 185,
   "metadata": {},
   "outputs": [
    {
     "data": {
      "text/plain": [
       "(21, 2)"
      ]
     },
     "execution_count": 185,
     "metadata": {},
     "output_type": "execute_result"
    }
   ],
   "source": [
    "boundedBids = np.array([getBoundedBids(c1, alpha) for c1 in c1s]) \n",
    "boundedBids.shape"
   ]
  },
  {
   "cell_type": "code",
   "execution_count": 186,
   "metadata": {},
   "outputs": [
    {
     "data": {
      "text/latex": [
       "$\\displaystyle \\frac{a b_{1}^{a} \\left(2 a b_{1}^{2 a} \\left(b_{0} - c_{0}\\right) + 2 b_{0} b_{1}^{a} \\left(b_{0}^{a} + b_{1}^{a}\\right) - 2 b_{0} \\left(b_{0}^{a} + b_{1}^{a}\\right)^{2} + b_{1}^{a} \\left(b_{0}^{a} + b_{1}^{a}\\right) \\left(3 a \\left(- b_{0} + c_{0}\\right) - b_{0} + c_{0}\\right) + \\left(a + 1\\right) \\left(b_{0} - c_{0}\\right) \\left(b_{0}^{a} + b_{1}^{a}\\right)^{2}\\right)}{b_{0}^{2} \\left(b_{0}^{a} + b_{1}^{a}\\right)^{3}}$"
      ],
      "text/plain": [
       "a*b1**a*(2*a*b1**(2*a)*(b0 - c0) + 2*b0*b1**a*(b0**a + b1**a) - 2*b0*(b0**a + b1**a)**2 + b1**a*(b0**a + b1**a)*(3*a*(-b0 + c0) - b0 + c0) + (a + 1)*(b0 - c0)*(b0**a + b1**a)**2)/(b0**2*(b0**a + b1**a)**3)"
      ]
     },
     "execution_count": 186,
     "metadata": {},
     "output_type": "execute_result"
    }
   ],
   "source": [
    "n = 2\n",
    "a  = sp.Symbol('a', positive=True)\n",
    "bs = [sp.Symbol('b{}'.format(i)) for i in range(n)]\n",
    "cs = [sp.Symbol('c{}'.format(i)) for i in range(n)]\n",
    "    \n",
    "denom = sum([bi**(-a) for bi in bs])\n",
    "xs    = [bi**(-a)/denom for bi in bs]\n",
    "us    = [(bs[i] - cs[i])*xs[i] for i in range(n)]\n",
    "focs = [sp.diff(us[i], bs[i]) for i in range(n)]\n",
    "socs = [sp.diff(focs[i], bs[i]) for i in range(n)]\n",
    "sp.simplify(socs[0])"
   ]
  },
  {
   "cell_type": "code",
   "execution_count": 187,
   "metadata": {},
   "outputs": [
    {
     "data": {
      "text/plain": [
       "((21, 2), (21, 2))"
      ]
     },
     "execution_count": 187,
     "metadata": {},
     "output_type": "execute_result"
    }
   ],
   "source": [
    "socVals = []\n",
    "socBounds = []\n",
    "for i, c1 in enumerate(c1s):\n",
    "    subs = {\n",
    "        a:alpha,\n",
    "        bs[0]:boundedBids[i,0],\n",
    "        bs[1]:boundedBids[i,1],\n",
    "        cs[0]:1,\n",
    "        cs[1]:c1\n",
    "    }\n",
    "    soc1 = socs[0].evalf(subs=subs)\n",
    "    soc2 = socs[1].evalf(subs=subs)\n",
    "    socBounds.append([soc1, soc2])\n",
    "    \n",
    "    subs = {\n",
    "        a:alpha,\n",
    "        bs[0]:bids[i,0],\n",
    "        bs[1]:bids[i,1],\n",
    "        cs[0]:1,\n",
    "        cs[1]:c1\n",
    "    }\n",
    "    soc1 = socs[0].evalf(subs=subs)\n",
    "    soc2 = socs[1].evalf(subs=subs)\n",
    "    socVals.append([soc1, soc2])\n",
    "socVals = np.asarray(socVals)\n",
    "socBounds = np.asarray(socBounds)\n",
    "socVals.shape, socBounds.shape"
   ]
  },
  {
   "cell_type": "code",
   "execution_count": 188,
   "metadata": {},
   "outputs": [
    {
     "data": {
      "image/png": "[encoded data removed]",
      "text/plain": [
       "<Figure size 1008x216 with 4 Axes>"
      ]
     },
     "metadata": {
      "needs_background": "light"
     },
     "output_type": "display_data"
    }
   ],
   "source": [
    "f, axarr = plt.subplots(ncols=4, figsize=(14,3))\n",
    "\n",
    "axarr[0].plot(c1s, xTildes[:,0], linewidth=3, alpha=0.6, label=r'$\\tilde{x}_1$', color='mediumorchid',\n",
    "              linestyle='-.')\n",
    "axarr[0].plot(c1s, xTildes[:,1], linewidth=3, alpha=0.6, label=r'$\\tilde{x}_2$', color='goldenrod',\n",
    "              linestyle='-.')\n",
    "roots = np.array([explicitQuadraticRoot(c1, alpha) for c1 in c1s])\n",
    "axarr[0].plot(c1s, roots, linewidth=3, alpha=0.6, label=r'$\\tilde{x}_2$', color='mediumorchid',\n",
    "              linestyle='dotted')\n",
    "axarr[0].plot(c1s, 1-roots, linewidth=3, alpha=0.6, label=r'$\\tilde{x}_2$', color='goldenrod',\n",
    "              linestyle='dotted')\n",
    "\n",
    "\n",
    "\n",
    "axarr[1].plot(c1s, roots+c1s*(1-roots), linewidth=3, alpha=0.6,\n",
    "              label='root bound PoA', color='green')\n",
    "axarr[1].plot(c1s, welfares, linewidth=3, alpha=0.6, label='numerical PoA', color='mediumblue')\n",
    "\n",
    "axarr[2].plot(c1s, bids[:,0], linewidth=3, alpha=0.6, label='p1 bids', color='red')\n",
    "axarr[2].plot(c1s, bids[:,1], linewidth=3, alpha=0.6, label='p2 bids', color='black')\n",
    "axarr[2].plot(c1s, boundedBids[:,1], linewidth=3, alpha=0.6, label='p2 bid bounds', color='black',\n",
    "              linestyle='--')\n",
    "axarr[2].plot(c1s, boundedBids[:,0], linewidth=3, alpha=0.6, label='p1 bid bounds', color='red',\n",
    "              linestyle='--')\n",
    "\n",
    "axarr[3].plot(c1s, socBounds[:,0], linewidth=3, alpha=0.6, label='p1 SOC bounds', color='red',\n",
    "              linestyle='--')\n",
    "axarr[3].plot(c1s, socBounds[:,1], linewidth=3, alpha=0.6, label='p2 SOC bounds', color='black',\n",
    "              linestyle='--')\n",
    "axarr[3].plot(c1s, socVals[:,0], linewidth=3, alpha=0.6, label='p1 SOC vals', color='red',\n",
    "              linestyle='-')\n",
    "axarr[3].plot(c1s, socVals[:,1], linewidth=3, alpha=0.6, label='p2 SOC vals', color='black',\n",
    "              linestyle='-')\n",
    "\n",
    "\n",
    "\n",
    "for ax in axarr:\n",
    "    ax.grid(alpha=0.3)\n",
    "    ax.set_xlabel(r'$c_2$', size=15)\n",
    "    ax.legend(prop={'size': 12})\n",
    "#     ax.set_xlim(1,2)\n",
    "axarr[0].set_title(r'allocations $(c_1=1, \\alpha={})$'.format(alpha), size=17)\n",
    "axarr[1].set_title(r'PoA $(c_1=1, \\alpha={})$'.format(alpha), size=17)\n",
    "axarr[2].set_title(r'Bid bounds'.format(alpha), size=17)\n",
    "axarr[3].set_title(r'SoC bounds'.format(alpha), size=17)\n",
    "\n",
    "\n",
    "plt.savefig('out.png', dpi=150, bbox_inches='tight', facecolor='white')\n",
    "plt.show()"
   ]
  },
  {
   "cell_type": "code",
   "execution_count": 189,
   "metadata": {},
   "outputs": [],
   "source": [
    "def explicitRoot2(c, a):\n",
    "    A = a * ( c*(a-2) - a )\n",
    "    B = a*(a+1) - c*(a**2 - 4*a + 2)\n",
    "    C = - ( a + c*(a-1) )\n",
    "    \n",
    "    discriminant = B**2 - 4 * A * C\n",
    "    \n",
    "    if discriminant < 0:\n",
    "        sqrt_disc = complex(0, math.sqrt(-discriminant))\n",
    "    else:\n",
    "        sqrt_disc = math.sqrt(discriminant)\n",
    "    \n",
    "    root1 = (-B + sqrt_disc) / (2 * A)\n",
    "    root2 = (-B - sqrt_disc) / (2 * A)\n",
    "    return root1"
   ]
  },
  {
   "cell_type": "code",
   "execution_count": 193,
   "metadata": {},
   "outputs": [],
   "source": [
    "roots  = np.array([explicitQuadraticRoot(c1, alpha) for c1 in c1s])\n",
    "roots2 = np.array([explicitRoot2(c1, alpha) for c1 in c1s])"
   ]
  },
  {
   "cell_type": "code",
   "execution_count": 194,
   "metadata": {},
   "outputs": [
    {
     "data": {
      "text/plain": [
       "[<matplotlib.lines.Line2D at 0x154d938b0>]"
      ]
     },
     "execution_count": 194,
     "metadata": {},
     "output_type": "execute_result"
    },
    {
     "data": {
      "image/png": "[encoded data removed]",
      "text/plain": [
       "<Figure size 504x288 with 1 Axes>"
      ]
     },
     "metadata": {
      "needs_background": "light"
     },
     "output_type": "display_data"
    }
   ],
   "source": [
    "f, ax = plt.subplots(figsize=(7,4))\n",
    "\n",
    "ax.plot(c1s, xTildes[:,0], linewidth=3, alpha=0.6, label=r'$\\tilde{x}_1$', color='mediumorchid',\n",
    "        linestyle='-.')\n",
    "ax.plot(c1s, xTildes[:,1], linewidth=3, alpha=0.6, label=r'$\\tilde{x}_2$', color='goldenrod',\n",
    "        linestyle='-.')\n",
    "\n",
    "ax.plot(c1s, roots, linewidth=3, alpha=0.6, label=r'$\\tilde{x}_2$', color='mediumorchid',\n",
    "              linestyle='dotted')\n",
    "ax.plot(c1s, 1-roots, linewidth=3, alpha=0.6, label=r'$\\tilde{x}_2$', color='goldenrod',\n",
    "              linestyle='dotted')\n",
    "ax.plot(c1s, roots2, linewidth=3, alpha=0.6, label=r'$\\tilde{x}_2$', color='mediumorchid',\n",
    "              linestyle='-')\n",
    "ax.plot(c1s, 1-roots2, linewidth=3, alpha=0.6, label=r'$\\tilde{x}_2$', color='goldenrod',\n",
    "              linestyle='-')"
   ]
  },
  {
   "cell_type": "code",
   "execution_count": 196,
   "metadata": {},
   "outputs": [],
   "source": [
    "def getBoundedBids2(c, a):\n",
    "    bigAllo = explicitRoot2(c=c, a=a)\n",
    "    b0 = sp.symbols('b0', positive=True, real=True)\n",
    "    eq = sp.Eq(b0**(-a) / (b0**(-a) + c**(-a)), bigAllo)\n",
    "    b0_sol = sp.nsolve(eq, c)\n",
    "    r = b0_sol / c\n",
    "    B = a / (r*(a-(r**(-a)+1)))\n",
    "    return B * r, B"
   ]
  },
  {
   "cell_type": "code",
   "execution_count": 241,
   "metadata": {},
   "outputs": [
    {
     "data": {
      "text/plain": [
       "array([ 1. ,  1.1,  1.2,  1.3,  1.4,  1.5,  1.6,  1.7,  1.8,  1.9,  2. ,\n",
       "        2.1,  2.2,  2.3,  2.4,  2.5,  2.6,  2.7,  2.8,  2.9,  3. ,  3.1,\n",
       "        3.2,  3.3,  3.4,  3.5,  3.6,  3.7,  3.8,  3.9,  4. ,  4.1,  4.2,\n",
       "        4.3,  4.4,  4.5,  4.6,  4.7,  4.8,  4.9,  5. ,  5.1,  5.2,  5.3,\n",
       "        5.4,  5.5,  5.6,  5.7,  5.8,  5.9,  6. ,  6.1,  6.2,  6.3,  6.4,\n",
       "        6.5,  6.6,  6.7,  6.8,  6.9,  7. ,  7.1,  7.2,  7.3,  7.4,  7.5,\n",
       "        7.6,  7.7,  7.8,  7.9,  8. ,  8.1,  8.2,  8.3,  8.4,  8.5,  8.6,\n",
       "        8.7,  8.8,  8.9,  9. ,  9.1,  9.2,  9.3,  9.4,  9.5,  9.6,  9.7,\n",
       "        9.8,  9.9, 10. , 10.1, 10.2, 10.3, 10.4, 10.5, 10.6, 10.7, 10.8,\n",
       "       10.9, 11. , 11.1, 11.2, 11.3, 11.4, 11.5, 11.6, 11.7, 11.8, 11.9,\n",
       "       12. , 12.1, 12.2, 12.3, 12.4, 12.5, 12.6, 12.7, 12.8, 12.9, 13. ,\n",
       "       13.1, 13.2, 13.3, 13.4, 13.5, 13.6, 13.7, 13.8, 13.9, 14. , 14.1,\n",
       "       14.2, 14.3, 14.4, 14.5, 14.6, 14.7, 14.8, 14.9, 15. , 15.1, 15.2,\n",
       "       15.3, 15.4, 15.5, 15.6, 15.7, 15.8, 15.9, 16. , 16.1, 16.2, 16.3,\n",
       "       16.4, 16.5, 16.6, 16.7, 16.8, 16.9, 17. , 17.1, 17.2, 17.3, 17.4,\n",
       "       17.5, 17.6, 17.7, 17.8, 17.9, 18. , 18.1, 18.2, 18.3, 18.4, 18.5,\n",
       "       18.6, 18.7, 18.8, 18.9, 19. , 19.1, 19.2, 19.3, 19.4, 19.5, 19.6,\n",
       "       19.7, 19.8, 19.9, 20. ])"
      ]
     },
     "execution_count": 241,
     "metadata": {},
     "output_type": "execute_result"
    }
   ],
   "source": [
    "alpha = 5\n",
    "c1s   = np.arange(1, 20.01, 0.1)\n",
    "c1s"
   ]
  },
  {
   "cell_type": "code",
   "execution_count": 242,
   "metadata": {},
   "outputs": [
    {
     "data": {
      "text/plain": [
       "((191, 2), (191,), (191, 2))"
      ]
     },
     "execution_count": 242,
     "metadata": {},
     "output_type": "execute_result"
    }
   ],
   "source": [
    "guesses = c1s\n",
    "\n",
    "xTildes  = []\n",
    "welfares = [] \n",
    "bids     = []\n",
    "for i, c1 in enumerate(c1s):\n",
    "    costs   = [1, c1]\n",
    "    cBids   = getEquilBids(costs, a=alpha, guess=[guesses[i],guesses[i]])\n",
    "    xTilde  = getAllos(cBids, a=alpha)\n",
    "    xTildes.append(xTilde)\n",
    "    welfares.append(np.dot(costs, xTilde))\n",
    "    bids.append(cBids)\n",
    "xTildes = np.asarray(xTildes)\n",
    "welfares = np.asarray(welfares)\n",
    "bids     = np.asarray(bids)\n",
    "xTildes.shape, welfares.shape, bids.shape"
   ]
  },
  {
   "cell_type": "code",
   "execution_count": 243,
   "metadata": {},
   "outputs": [],
   "source": [
    "roots  = np.array([explicitQuadraticRoot(c1, alpha) for c1 in c1s])\n",
    "roots2 = np.array([explicitRoot2(c1, alpha) for c1 in c1s])"
   ]
  },
  {
   "cell_type": "code",
   "execution_count": 244,
   "metadata": {},
   "outputs": [
    {
     "data": {
      "text/plain": [
       "(191, 2)"
      ]
     },
     "execution_count": 244,
     "metadata": {},
     "output_type": "execute_result"
    }
   ],
   "source": [
    "boundedBids = np.array([getBoundedBids2(c1, alpha) for c1 in c1s]) \n",
    "boundedBids.shape"
   ]
  },
  {
   "cell_type": "code",
   "execution_count": 245,
   "metadata": {},
   "outputs": [
    {
     "data": {
      "text/latex": [
       "$\\displaystyle \\frac{a b_{1}^{a} \\left(2 a b_{1}^{2 a} \\left(b_{0} - c_{0}\\right) + 2 b_{0} b_{1}^{a} \\left(b_{0}^{a} + b_{1}^{a}\\right) - 2 b_{0} \\left(b_{0}^{a} + b_{1}^{a}\\right)^{2} + b_{1}^{a} \\left(b_{0}^{a} + b_{1}^{a}\\right) \\left(3 a \\left(- b_{0} + c_{0}\\right) - b_{0} + c_{0}\\right) + \\left(a + 1\\right) \\left(b_{0} - c_{0}\\right) \\left(b_{0}^{a} + b_{1}^{a}\\right)^{2}\\right)}{b_{0}^{2} \\left(b_{0}^{a} + b_{1}^{a}\\right)^{3}}$"
      ],
      "text/plain": [
       "a*b1**a*(2*a*b1**(2*a)*(b0 - c0) + 2*b0*b1**a*(b0**a + b1**a) - 2*b0*(b0**a + b1**a)**2 + b1**a*(b0**a + b1**a)*(3*a*(-b0 + c0) - b0 + c0) + (a + 1)*(b0 - c0)*(b0**a + b1**a)**2)/(b0**2*(b0**a + b1**a)**3)"
      ]
     },
     "execution_count": 245,
     "metadata": {},
     "output_type": "execute_result"
    }
   ],
   "source": [
    "n = 2\n",
    "a  = sp.Symbol('a', positive=True)\n",
    "bs = [sp.Symbol('b{}'.format(i)) for i in range(n)]\n",
    "cs = [sp.Symbol('c{}'.format(i)) for i in range(n)]\n",
    "    \n",
    "denom = sum([bi**(-a) for bi in bs])\n",
    "xs    = [bi**(-a)/denom for bi in bs]\n",
    "us    = [(bs[i] - cs[i])*xs[i] for i in range(n)]\n",
    "focs = [sp.diff(us[i], bs[i]) for i in range(n)]\n",
    "socs = [sp.diff(focs[i], bs[i]) for i in range(n)]\n",
    "sp.simplify(socs[0])"
   ]
  },
  {
   "cell_type": "code",
   "execution_count": 246,
   "metadata": {},
   "outputs": [
    {
     "data": {
      "text/plain": [
       "((191, 2), (191, 2))"
      ]
     },
     "execution_count": 246,
     "metadata": {},
     "output_type": "execute_result"
    }
   ],
   "source": [
    "socVals = []\n",
    "socBounds = []\n",
    "for i, c1 in enumerate(c1s):\n",
    "    subs = {\n",
    "        a:alpha,\n",
    "        bs[0]:boundedBids[i,0],\n",
    "        bs[1]:boundedBids[i,1],\n",
    "        cs[0]:1,\n",
    "        cs[1]:c1\n",
    "    }\n",
    "    soc1 = socs[0].evalf(subs=subs)\n",
    "    soc2 = socs[1].evalf(subs=subs)\n",
    "    socBounds.append([soc1, soc2])\n",
    "    \n",
    "    subs = {\n",
    "        a:alpha,\n",
    "        bs[0]:bids[i,0],\n",
    "        bs[1]:bids[i,1],\n",
    "        cs[0]:1,\n",
    "        cs[1]:c1\n",
    "    }\n",
    "    soc1 = socs[0].evalf(subs=subs)\n",
    "    soc2 = socs[1].evalf(subs=subs)\n",
    "    socVals.append([soc1, soc2])\n",
    "socVals = np.asarray(socVals)\n",
    "socBounds = np.asarray(socBounds)\n",
    "socVals.shape, socBounds.shape"
   ]
  },
  {
   "cell_type": "code",
   "execution_count": 247,
   "metadata": {},
   "outputs": [
    {
     "data": {
      "image/png": "[encoded data removed]",
      "text/plain": [
       "<Figure size 1008x216 with 4 Axes>"
      ]
     },
     "metadata": {
      "needs_background": "light"
     },
     "output_type": "display_data"
    }
   ],
   "source": [
    "f, axarr = plt.subplots(ncols=4, figsize=(14,3))\n",
    "\n",
    "axarr[0].plot(c1s, xTildes[:,0], linewidth=3, alpha=0.6, label=r'$\\tilde{x}_1$', color='mediumorchid',\n",
    "              linestyle='-.')\n",
    "axarr[0].plot(c1s, xTildes[:,1], linewidth=3, alpha=0.6, label=r'$\\tilde{x}_2$', color='goldenrod',\n",
    "              linestyle='-.')\n",
    "roots = np.array([explicitQuadraticRoot(c1, alpha) for c1 in c1s])\n",
    "axarr[0].plot(c1s, roots2, linewidth=3, alpha=0.6, label=r'$\\tilde{x}_2$', color='mediumorchid',\n",
    "              linestyle='dotted')\n",
    "axarr[0].plot(c1s, 1-roots2, linewidth=3, alpha=0.6, label=r'$\\tilde{x}_2$', color='goldenrod',\n",
    "              linestyle='dotted')\n",
    "\n",
    "\n",
    "axarr[1].plot(c1s, roots2+c1s*(1-roots2), linewidth=3, alpha=0.6,\n",
    "              label='root bound PoA', color='green')\n",
    "axarr[1].plot(c1s, welfares, linewidth=3, alpha=0.6, label='numerical PoA', color='mediumblue')\n",
    "\n",
    "axarr[2].plot(c1s, bids[:,0], linewidth=3, alpha=0.6, label='p1 bids', color='red')\n",
    "axarr[2].plot(c1s, bids[:,1], linewidth=3, alpha=0.6, label='p2 bids', color='black')\n",
    "axarr[2].plot(c1s, boundedBids[:,1], linewidth=3, alpha=0.6, label='p2 bid bounds', color='black',\n",
    "              linestyle='--')\n",
    "axarr[2].plot(c1s, boundedBids[:,0], linewidth=3, alpha=0.6, label='p1 bid bounds', color='red',\n",
    "              linestyle='--')\n",
    "\n",
    "axarr[3].plot(c1s, socBounds[:,0], linewidth=3, alpha=0.6, label='p1 SOC bounds', color='red',\n",
    "              linestyle='--')\n",
    "axarr[3].plot(c1s, socBounds[:,1], linewidth=3, alpha=0.6, label='p2 SOC bounds', color='black',\n",
    "              linestyle='--')\n",
    "axarr[3].plot(c1s, socVals[:,0], linewidth=3, alpha=0.6, label='p1 SOC vals', color='red',\n",
    "              linestyle='-')\n",
    "axarr[3].plot(c1s, socVals[:,1], linewidth=3, alpha=0.6, label='p2 SOC vals', color='black',\n",
    "              linestyle='-')\n",
    "\n",
    "\n",
    "\n",
    "for ax in axarr:\n",
    "    ax.grid(alpha=0.3)\n",
    "    ax.set_xlabel(r'$c_2$', size=15)\n",
    "    ax.legend(prop={'size': 12})\n",
    "#     ax.set_xlim(1,2)\n",
    "axarr[0].set_title(r'allocations $(c_1=1, \\alpha={})$'.format(alpha), size=17)\n",
    "axarr[1].set_title(r'PoA $(c_1=1, \\alpha={})$'.format(alpha), size=17)\n",
    "axarr[2].set_title(r'Bid bounds'.format(alpha), size=17)\n",
    "axarr[3].set_title(r'SoC bounds'.format(alpha), size=17)\n",
    "\n",
    "\n",
    "plt.savefig('out.png', dpi=150, bbox_inches='tight', facecolor='white')\n",
    "plt.show()"
   ]
  },
  {
   "cell_type": "code",
   "execution_count": 212,
   "metadata": {},
   "outputs": [],
   "source": [
    "# algebraically"
   ]
  },
  {
   "cell_type": "code",
   "execution_count": 249,
   "metadata": {},
   "outputs": [
    {
     "data": {
      "text/latex": [
       "$\\displaystyle \\frac{a \\left(a + 1\\right) - c \\left(a^{2} - 4 a + 2\\right) - \\sqrt{4 a \\left(- a + c \\left(a - 2\\right)\\right) \\left(a + c \\left(a - 1\\right)\\right) + \\left(a \\left(a + 1\\right) - c \\left(a^{2} - 4 a + 2\\right)\\right)^{2}}}{2 a \\left(a - c \\left(a - 2\\right)\\right)}$"
      ],
      "text/plain": [
       "(a*(a + 1) - c*(a**2 - 4*a + 2) - sqrt(4*a*(-a + c*(a - 2))*(a + c*(a - 1)) + (a*(a + 1) - c*(a**2 - 4*a + 2))**2))/(2*a*(a - c*(a - 2)))"
      ]
     },
     "execution_count": 249,
     "metadata": {},
     "output_type": "execute_result"
    }
   ],
   "source": [
    "a, c, x = sp.symbols('a c x', real=True)\n",
    "A = a * ( c*(a - 2) - a )\n",
    "B = a*(a + 1) - c*(a**2 - 4*a + 2)\n",
    "C = -( a + c*(a - 1) )\n",
    "discriminant = B**2 - 4 * A * C\n",
    "\n",
    "root1 = (-B + sp.sqrt(discriminant)) / (2 * A)\n",
    "\n",
    "root1_simplified = sp.simplify(root1)\n",
    "root1_simplified"
   ]
  },
  {
   "cell_type": "code",
   "execution_count": 250,
   "metadata": {},
   "outputs": [
    {
     "data": {
      "text/latex": [
       "$\\displaystyle \\frac{b_{0}^{- a}}{c^{- a} + b_{0}^{- a}} = \\frac{a \\left(a + 1\\right) - c \\left(a^{2} - 4 a + 2\\right) - \\sqrt{4 a \\left(- a + c \\left(a - 2\\right)\\right) \\left(a + c \\left(a - 1\\right)\\right) + \\left(a \\left(a + 1\\right) - c \\left(a^{2} - 4 a + 2\\right)\\right)^{2}}}{2 a \\left(a - c \\left(a - 2\\right)\\right)}$"
      ],
      "text/plain": [
       "Eq(1/(b0**a*(c**(-a) + b0**(-a))), (a*(a + 1) - c*(a**2 - 4*a + 2) - sqrt(4*a*(-a + c*(a - 2))*(a + c*(a - 1)) + (a*(a + 1) - c*(a**2 - 4*a + 2))**2))/(2*a*(a - c*(a - 2))))"
      ]
     },
     "execution_count": 250,
     "metadata": {},
     "output_type": "execute_result"
    }
   ],
   "source": [
    "b0 = sp.symbols('b0', positive=True, real=True)\n",
    "eq = sp.Eq(b0**(-a) / (b0**(-a) + c**(-a)), root1_simplified)\n",
    "eq"
   ]
  },
  {
   "cell_type": "code",
   "execution_count": 251,
   "metadata": {},
   "outputs": [],
   "source": [
    "sol = sp.solve(eq, (b0))"
   ]
  },
  {
   "cell_type": "code",
   "execution_count": 252,
   "metadata": {},
   "outputs": [
    {
     "data": {
      "text/latex": [
       "$\\displaystyle \\frac{\\left(\\frac{c^{a} \\left(a^{2} c - a^{2} + a - 2 c - \\sqrt{a^{4} c^{2} - 2 a^{4} c + a^{4} - 4 a^{3} c^{2} + 6 a^{3} c - 2 a^{3} + 8 a^{2} c^{2} + a^{2} - 8 a c^{2} - 4 a c + 4 c^{2}}\\right)}{a^{2} c - a^{2} - 4 a c - a + 2 c + \\sqrt{a^{4} c^{2} - 2 a^{4} c + a^{4} - 4 a^{3} c^{2} + 6 a^{3} c - 2 a^{3} + 8 a^{2} c^{2} + a^{2} - 8 a c^{2} - 4 a c + 4 c^{2}}}\\right)^{\\frac{1}{a}}}{c}$"
      ],
      "text/plain": [
       "(c**a*(a**2*c - a**2 + a - 2*c - sqrt(a**4*c**2 - 2*a**4*c + a**4 - 4*a**3*c**2 + 6*a**3*c - 2*a**3 + 8*a**2*c**2 + a**2 - 8*a*c**2 - 4*a*c + 4*c**2))/(a**2*c - a**2 - 4*a*c - a + 2*c + sqrt(a**4*c**2 - 2*a**4*c + a**4 - 4*a**3*c**2 + 6*a**3*c - 2*a**3 + 8*a**2*c**2 + a**2 - 8*a*c**2 - 4*a*c + 4*c**2)))**(1/a)/c"
      ]
     },
     "execution_count": 252,
     "metadata": {},
     "output_type": "execute_result"
    }
   ],
   "source": [
    "r = sp.simplify(sol[0] / c)\n",
    "r"
   ]
  },
  {
   "cell_type": "code",
   "execution_count": 253,
   "metadata": {},
   "outputs": [
    {
     "data": {
      "text/latex": [
       "$\\displaystyle \\frac{a c \\left(\\frac{\\left(- \\frac{c^{a} \\left(- a^{2} c + a^{2} - a + 2 c + \\sqrt{a^{4} c^{2} - 2 a^{4} c + a^{4} - 4 a^{3} c^{2} + 6 a^{3} c - 2 a^{3} + 8 a^{2} c^{2} + a^{2} - 8 a c^{2} - 4 a c + 4 c^{2}}\\right)}{a^{2} c - a^{2} - 4 a c - a + 2 c + \\sqrt{a^{4} c^{2} - 2 a^{4} c + a^{4} - 4 a^{3} c^{2} + 6 a^{3} c - 2 a^{3} + 8 a^{2} c^{2} + a^{2} - 8 a c^{2} - 4 a c + 4 c^{2}}}\\right)^{\\frac{1}{a}}}{c}\\right)^{a} \\left(- \\frac{c^{a} \\left(- a^{2} c + a^{2} - a + 2 c + \\sqrt{a^{4} c^{2} - 2 a^{4} c + a^{4} - 4 a^{3} c^{2} + 6 a^{3} c - 2 a^{3} + 8 a^{2} c^{2} + a^{2} - 8 a c^{2} - 4 a c + 4 c^{2}}\\right)}{a^{2} c - a^{2} - 4 a c - a + 2 c + \\sqrt{a^{4} c^{2} - 2 a^{4} c + a^{4} - 4 a^{3} c^{2} + 6 a^{3} c - 2 a^{3} + 8 a^{2} c^{2} + a^{2} - 8 a c^{2} - 4 a c + 4 c^{2}}}\\right)^{- \\frac{1}{a}}}{\\left(\\frac{\\left(- \\frac{c^{a} \\left(- a^{2} c + a^{2} - a + 2 c + \\sqrt{a^{4} c^{2} - 2 a^{4} c + a^{4} - 4 a^{3} c^{2} + 6 a^{3} c - 2 a^{3} + 8 a^{2} c^{2} + a^{2} - 8 a c^{2} - 4 a c + 4 c^{2}}\\right)}{a^{2} c - a^{2} - 4 a c - a + 2 c + \\sqrt{a^{4} c^{2} - 2 a^{4} c + a^{4} - 4 a^{3} c^{2} + 6 a^{3} c - 2 a^{3} + 8 a^{2} c^{2} + a^{2} - 8 a c^{2} - 4 a c + 4 c^{2}}}\\right)^{\\frac{1}{a}}}{c}\\right)^{a} \\left(a - 1\\right) - 1}$"
      ],
      "text/plain": [
       "a*c*((-c**a*(-a**2*c + a**2 - a + 2*c + sqrt(a**4*c**2 - 2*a**4*c + a**4 - 4*a**3*c**2 + 6*a**3*c - 2*a**3 + 8*a**2*c**2 + a**2 - 8*a*c**2 - 4*a*c + 4*c**2))/(a**2*c - a**2 - 4*a*c - a + 2*c + sqrt(a**4*c**2 - 2*a**4*c + a**4 - 4*a**3*c**2 + 6*a**3*c - 2*a**3 + 8*a**2*c**2 + a**2 - 8*a*c**2 - 4*a*c + 4*c**2)))**(1/a)/c)**a/((-c**a*(-a**2*c + a**2 - a + 2*c + sqrt(a**4*c**2 - 2*a**4*c + a**4 - 4*a**3*c**2 + 6*a**3*c - 2*a**3 + 8*a**2*c**2 + a**2 - 8*a*c**2 - 4*a*c + 4*c**2))/(a**2*c - a**2 - 4*a*c - a + 2*c + sqrt(a**4*c**2 - 2*a**4*c + a**4 - 4*a**3*c**2 + 6*a**3*c - 2*a**3 + 8*a**2*c**2 + a**2 - 8*a*c**2 - 4*a*c + 4*c**2)))**(1/a)*(((-c**a*(-a**2*c + a**2 - a + 2*c + sqrt(a**4*c**2 - 2*a**4*c + a**4 - 4*a**3*c**2 + 6*a**3*c - 2*a**3 + 8*a**2*c**2 + a**2 - 8*a*c**2 - 4*a*c + 4*c**2))/(a**2*c - a**2 - 4*a*c - a + 2*c + sqrt(a**4*c**2 - 2*a**4*c + a**4 - 4*a**3*c**2 + 6*a**3*c - 2*a**3 + 8*a**2*c**2 + a**2 - 8*a*c**2 - 4*a*c + 4*c**2)))**(1/a)/c)**a*(a - 1) - 1))"
      ]
     },
     "execution_count": 253,
     "metadata": {},
     "output_type": "execute_result"
    }
   ],
   "source": [
    "B = sp.simplify(a / (r*(a-(r**(-a)+1))))\n",
    "B"
   ]
  },
  {
   "cell_type": "code",
   "execution_count": 255,
   "metadata": {},
   "outputs": [
    {
     "data": {
      "text/plain": [
       "(5.86290781312630, 7.37390275192640)"
      ]
     },
     "execution_count": 255,
     "metadata": {},
     "output_type": "execute_result"
    }
   ],
   "source": [
    "(B*r).evalf(subs={a:5, c:5}), B.evalf(subs={a:5, c:5})"
   ]
  },
  {
   "cell_type": "code",
   "execution_count": null,
   "metadata": {},
   "outputs": [],
   "source": []
  },
  {
   "cell_type": "code",
   "execution_count": null,
   "metadata": {},
   "outputs": [],
   "source": []
  },
  {
   "cell_type": "code",
   "execution_count": null,
   "metadata": {},
   "outputs": [],
   "source": []
  },
  {
   "cell_type": "code",
   "execution_count": null,
   "metadata": {},
   "outputs": [],
   "source": []
  },
  {
   "cell_type": "code",
   "execution_count": 24,
   "metadata": {},
   "outputs": [
    {
     "data": {
      "text/plain": [
       "0.6239390754726843"
      ]
     },
     "execution_count": 24,
     "metadata": {},
     "output_type": "execute_result"
    }
   ],
   "source": [
    "explicitQuadraticRoot(c=5, a=3)"
   ]
  },
  {
   "cell_type": "code",
   "execution_count": 79,
   "metadata": {},
   "outputs": [
    {
     "data": {
      "text/plain": [
       "0.6239390754726843"
      ]
     },
     "execution_count": 79,
     "metadata": {},
     "output_type": "execute_result"
    }
   ],
   "source": [
    "c, a = 5, 3\n",
    "bigAllo = explicitQuadraticRoot(c=c, a=a)\n",
    "bigAllo"
   ]
  },
  {
   "cell_type": "code",
   "execution_count": 80,
   "metadata": {},
   "outputs": [
    {
     "data": {
      "text/latex": [
       "$\\displaystyle \\frac{1}{b_{0}^{3} \\cdot \\left(0.008 + \\frac{1}{b_{0}^{3}}\\right)} = 0.623939075472684$"
      ],
      "text/plain": [
       "Eq(1/(b0**3*(0.008 + b0**(-3))), 0.623939075472684)"
      ]
     },
     "execution_count": 80,
     "metadata": {},
     "output_type": "execute_result"
    }
   ],
   "source": [
    "b0 = sp.symbols('b0', positive=True, real=True)\n",
    "eq = sp.Eq(b0**(-a) / (b0**(-a) + c**(-a)), bigAllo)\n",
    "eq"
   ]
  },
  {
   "cell_type": "code",
   "execution_count": 83,
   "metadata": {},
   "outputs": [
    {
     "data": {
      "text/latex": [
       "$\\displaystyle 0.844705537923434$"
      ],
      "text/plain": [
       "0.844705537923434"
      ]
     },
     "execution_count": 83,
     "metadata": {},
     "output_type": "execute_result"
    }
   ],
   "source": [
    "b0_sol = sp.nsolve(eq, c)\n",
    "b0_sol /5"
   ]
  },
  {
   "cell_type": "code",
   "execution_count": null,
   "metadata": {},
   "outputs": [],
   "source": []
  },
  {
   "cell_type": "code",
   "execution_count": null,
   "metadata": {},
   "outputs": [],
   "source": []
  },
  {
   "cell_type": "code",
   "execution_count": 131,
   "metadata": {},
   "outputs": [],
   "source": [
    "def getBoundedBids(c, a):\n",
    "    bigAllo = explicitQuadraticRoot(c=c, a=a)\n",
    "    b0 = sp.symbols('b0', positive=True, real=True)\n",
    "    eq = sp.Eq(b0**(-a) / (b0**(-a) + c**(-a)), bigAllo)\n",
    "    b0_sol = sp.nsolve(eq, c)\n",
    "    r = b0_sol / c\n",
    "    B = a / (r*(a-(r**(-a)+1)))\n",
    "    return B * r, B"
   ]
  },
  {
   "cell_type": "code",
   "execution_count": 85,
   "metadata": {},
   "outputs": [
    {
     "name": "stdout",
     "output_type": "stream",
     "text": [
      "Eq(1/(b0**3*(0.008 + b0**(-3))), 0.623939075472684)\n"
     ]
    },
    {
     "data": {
      "text/plain": [
       "(8.80136029246319, 10.4194419206720)"
      ]
     },
     "execution_count": 85,
     "metadata": {},
     "output_type": "execute_result"
    }
   ],
   "source": [
    "getBoundedBids(c=5,a=3)"
   ]
  },
  {
   "cell_type": "code",
   "execution_count": 45,
   "metadata": {},
   "outputs": [],
   "source": [
    "# given an allo, find the bids that solve the system"
   ]
  },
  {
   "cell_type": "code",
   "execution_count": 47,
   "metadata": {},
   "outputs": [],
   "source": [
    "a=3"
   ]
  },
  {
   "cell_type": "code",
   "execution_count": 64,
   "metadata": {},
   "outputs": [
    {
     "name": "stdout",
     "output_type": "stream",
     "text": [
      "8.44705537923434\n"
     ]
    }
   ],
   "source": [
    "eq = sp.Eq(b0**(-a) / (b0**(-a) + 10**(-a)), 0.6239390754726843)\n",
    "\n",
    "# Solve the equation with an initial guess (say, 0.8)\n",
    "b0_sol = sp.nsolve(eq, 10)\n",
    "print(b0_sol)"
   ]
  },
  {
   "cell_type": "code",
   "execution_count": 61,
   "metadata": {},
   "outputs": [
    {
     "data": {
      "text/plain": [
       "(0.8432346438814531, 0.844705537923434)"
      ]
     },
     "execution_count": 61,
     "metadata": {},
     "output_type": "execute_result"
    }
   ],
   "source": [
    "9.03192/10.71104, 0.844705537923434"
   ]
  },
  {
   "cell_type": "code",
   "execution_count": 54,
   "metadata": {},
   "outputs": [
    {
     "data": {
      "text/latex": [
       "$\\displaystyle \\frac{1}{b_{1}^{3} \\left(\\frac{1}{b_{1}^{3}} + \\frac{1}{b_{0}^{3}}\\right)} = 0.376060924527316$"
      ],
      "text/plain": [
       "Eq(1/(b1**3*(b1**(-3) + b0**(-3))), 0.376060924527316)"
      ]
     },
     "execution_count": 54,
     "metadata": {},
     "output_type": "execute_result"
    }
   ],
   "source": [
    "b0, b1 = sp.Symbol('b0', positive=True), sp.Symbol('b1', positive=True),\n",
    "eq1 = sp.Eq(b0**(-a) / (b0**(-a) + b1**(-a)), 0.6239390754726843)\n",
    "eq2 = sp.Eq(b1**(-a) / (b0**(-a) + b1**(-a)), 1-0.6239390754726843)\n",
    "eq2"
   ]
  },
  {
   "cell_type": "code",
   "execution_count": 72,
   "metadata": {},
   "outputs": [
    {
     "data": {
      "text/latex": [
       "$\\displaystyle \\frac{a c_{0}}{a - 1 - r^{- a}}$"
      ],
      "text/plain": [
       "a*c0/(a - 1 - 1/r**a)"
      ]
     },
     "execution_count": 72,
     "metadata": {},
     "output_type": "execute_result"
    }
   ],
   "source": [
    "b0"
   ]
  },
  {
   "cell_type": "code",
   "execution_count": 66,
   "metadata": {},
   "outputs": [],
   "source": [
    "a, r, c0 = sp.symbols('a r c0', positive=True, real=True)\n",
    "B = a*c0 / ( r * ( a - (r**(-a) + 1) ) )\n",
    "b0 = r * B\n",
    "b1 = B"
   ]
  },
  {
   "cell_type": "code",
   "execution_count": 132,
   "metadata": {},
   "outputs": [
    {
     "data": {
      "text/plain": [
       "(b0, 1.18384449385561*a/(a - 1 - 1/0.844705537923434**a))"
      ]
     },
     "execution_count": 132,
     "metadata": {},
     "output_type": "execute_result"
    }
   ],
   "source": [
    "a_val = 3\n",
    "r_val = 0.844705537923434\n",
    "c0_val = 1.0 \n",
    "\n",
    "B_val = B.subs({a: a_val, r: r_val, c0: c0_val})\n",
    "b0_val = b0.subs({a: a_val, r: r_val, c0: c0_val})\n",
    "b1_val = b1.subs({a: a_val, r: r_val, c0: c0_val})\n",
    "b0_val, b1_val"
   ]
  },
  {
   "cell_type": "code",
   "execution_count": null,
   "metadata": {},
   "outputs": [],
   "source": []
  },
  {
   "cell_type": "code",
   "execution_count": null,
   "metadata": {},
   "outputs": [],
   "source": []
  },
  {
   "cell_type": "markdown",
   "metadata": {},
   "source": [
    "1. bound low cost allo below and high cost allo above\n",
    "2. use 2 eq 2 unkowns to solve for equil bids (up to constant)\n",
    "3. find constant such that it equals the bid when cost is 1.\n",
    "4. check that bounds are negative in the SOC"
   ]
  },
  {
   "cell_type": "code",
   "execution_count": 25,
   "metadata": {},
   "outputs": [],
   "source": [
    "def invAllos(x, a):\n",
    "    return (x/(1-x))**(1/a)"
   ]
  },
  {
   "cell_type": "code",
   "execution_count": 44,
   "metadata": {},
   "outputs": [
    {
     "data": {
      "text/plain": [
       "1.1838444938556116"
      ]
     },
     "execution_count": 44,
     "metadata": {},
     "output_type": "execute_result"
    }
   ],
   "source": [
    "invAllos(0.6239390754726843, a=3)"
   ]
  },
  {
   "cell_type": "code",
   "execution_count": 33,
   "metadata": {},
   "outputs": [],
   "source": [
    "def socSign(a, b, c, o):\n",
    "    return (c+b+a*(b-c)) + o*b**a * (c+b+a*(c-b))"
   ]
  },
  {
   "cell_type": "code",
   "execution_count": 133,
   "metadata": {},
   "outputs": [
    {
     "data": {
      "text/plain": [
       "array([ 1. ,  1.1,  1.2,  1.3,  1.4,  1.5,  1.6,  1.7,  1.8,  1.9,  2. ,\n",
       "        2.1,  2.2,  2.3,  2.4,  2.5,  2.6,  2.7,  2.8,  2.9,  3. ,  3.1,\n",
       "        3.2,  3.3,  3.4,  3.5,  3.6,  3.7,  3.8,  3.9,  4. ,  4.1,  4.2,\n",
       "        4.3,  4.4,  4.5,  4.6,  4.7,  4.8,  4.9,  5. ,  5.1,  5.2,  5.3,\n",
       "        5.4,  5.5,  5.6,  5.7,  5.8,  5.9,  6. ,  6.1,  6.2,  6.3,  6.4,\n",
       "        6.5,  6.6,  6.7,  6.8,  6.9,  7. ,  7.1,  7.2,  7.3,  7.4,  7.5,\n",
       "        7.6,  7.7,  7.8,  7.9,  8. ,  8.1,  8.2,  8.3,  8.4,  8.5,  8.6,\n",
       "        8.7,  8.8,  8.9,  9. ,  9.1,  9.2,  9.3,  9.4,  9.5,  9.6,  9.7,\n",
       "        9.8,  9.9, 10. ])"
      ]
     },
     "execution_count": 133,
     "metadata": {},
     "output_type": "execute_result"
    }
   ],
   "source": [
    "c1s"
   ]
  },
  {
   "cell_type": "code",
   "execution_count": 134,
   "metadata": {},
   "outputs": [],
   "source": [
    "p1socs = []\n",
    "p2socs = []\n",
    "for i, c1 in enumerate(c1s):\n",
    "    p1socs.append(socSign(a=3, b=bids[i,0], c=1, o=bids[i,1]**(-3)))\n",
    "    p2socs.append(socSign(a=3, b=bids[i,1], c=c1, o=bids[i,0]**(-3)))"
   ]
  },
  {
   "cell_type": "code",
   "execution_count": 42,
   "metadata": {
    "scrolled": true
   },
   "outputs": [
    {
     "data": {
      "text/plain": [
       "[5.3333333333332344,\n",
       " 5.802215876041792,\n",
       " 6.3020472659860305,\n",
       " 6.826963707824916,\n",
       " 7.371975865987982,\n",
       " 7.933012694512142,\n",
       " 8.506833796633284,\n",
       " 9.090893467442232,\n",
       " 9.683202141040876,\n",
       " 10.282204918595397,\n",
       " 10.88668256919832,\n",
       " 11.49567390988246,\n",
       " 12.10841617298726,\n",
       " 12.724299647323065,\n",
       " 13.342833285010839,\n",
       " 13.963618607323486,\n",
       " 14.586329840789022,\n",
       " 15.210698721970019,\n",
       " 15.83650280522675,\n",
       " 16.463556407873156,\n",
       " 17.091703550589898,\n",
       " 17.720812415830522,\n",
       " 18.350770968285985,\n",
       " 18.981483470140297,\n",
       " 19.612867691428523,\n",
       " 20.244852660809798,\n",
       " 20.87737684280903,\n",
       " 21.51038665095773,\n",
       " 22.143835228433502,\n",
       " 22.777681440540896,\n",
       " 23.411889051691396,\n",
       " 24.046426010459413,\n",
       " 24.681263889646814,\n",
       " 25.316377387182733,\n",
       " 25.95174391600489,\n",
       " 26.587343254373675,\n",
       " 27.223157248214086,\n",
       " 27.859169556815555,\n",
       " 28.495365434677954,\n",
       " 29.131731543797148,\n",
       " 29.768255791556655]"
      ]
     },
     "execution_count": 42,
     "metadata": {},
     "output_type": "execute_result"
    }
   ],
   "source": [
    "p2socs"
   ]
  },
  {
   "cell_type": "code",
   "execution_count": 135,
   "metadata": {},
   "outputs": [
    {
     "data": {
      "text/plain": [
       "(91, 2)"
      ]
     },
     "execution_count": 135,
     "metadata": {},
     "output_type": "execute_result"
    }
   ],
   "source": [
    "boundedBids = np.array([getBoundedBids(c1, a) for c1 in c1s]) \n",
    "boundedBids.shape"
   ]
  },
  {
   "cell_type": "code",
   "execution_count": 136,
   "metadata": {},
   "outputs": [
    {
     "data": {
      "text/plain": [
       "(array([16.2753800578079, 19.8553239895231], dtype=object),\n",
       " array([16.92147645, 20.67017497]))"
      ]
     },
     "execution_count": 136,
     "metadata": {},
     "output_type": "execute_result"
    }
   ],
   "source": [
    "boundedBids[-1], bids[-1]"
   ]
  },
  {
   "cell_type": "code",
   "execution_count": 137,
   "metadata": {},
   "outputs": [
    {
     "data": {
      "image/png": "[encoded data removed]",
      "text/plain": [
       "<Figure size 864x216 with 3 Axes>"
      ]
     },
     "metadata": {
      "needs_background": "light"
     },
     "output_type": "display_data"
    }
   ],
   "source": [
    "f, axarr = plt.subplots(ncols=3, figsize=(12,3))\n",
    "\n",
    "axarr[0].plot(c1s, xTildes[:,0], linewidth=3, alpha=0.6, label=r'$\\tilde{x}_1$', color='mediumorchid',\n",
    "              linestyle='-.')\n",
    "axarr[0].plot(c1s, xTildes[:,1], linewidth=3, alpha=0.6, label=r'$\\tilde{x}_2$', color='goldenrod',\n",
    "              linestyle='-.')\n",
    "roots = np.array([explicitQuadraticRoot(c1, alpha) for c1 in c1s])\n",
    "axarr[0].plot(c1s, roots, linewidth=3, alpha=0.6, label=r'$\\tilde{x}_2$', color='mediumorchid',\n",
    "              linestyle='dotted')\n",
    "axarr[0].plot(c1s, 1-roots, linewidth=3, alpha=0.6, label=r'$\\tilde{x}_2$', color='goldenrod',\n",
    "              linestyle='dotted')\n",
    "\n",
    "\n",
    "\n",
    "axarr[1].plot(c1s, roots+c1s*(1-roots), linewidth=3, alpha=0.6,\n",
    "              label='root bound PoA', color='green')\n",
    "axarr[1].plot(c1s, welfares, linewidth=3, alpha=0.6, label='numerical PoA', color='mediumblue')\n",
    "\n",
    "axarr[2].plot(c1s, bids[:,0], linewidth=3, alpha=0.6, label='p1 bids', color='red')\n",
    "axarr[2].plot(c1s, bids[:,1], linewidth=3, alpha=0.6, label='p2 bids', color='black')\n",
    "axarr[2].plot(c1s, boundedBids[:,1], linewidth=3, alpha=0.6, label='p2 bid bounds', color='black',\n",
    "              linestyle='--')\n",
    "axarr[2].plot(c1s, boundedBids[:,0], linewidth=3, alpha=0.6, label='p1 bid bounds', color='red',\n",
    "              linestyle='--')\n",
    "\n",
    "\n",
    "\n",
    "for ax in axarr:\n",
    "    ax.grid(alpha=0.3)\n",
    "    ax.set_xlabel(r'$c_2$', size=15)\n",
    "    ax.legend(prop={'size': 12})\n",
    "#     ax.set_xlim(1,2)\n",
    "axarr[0].set_title(r'allocations $(c_1=1, \\alpha={})$'.format(alpha), size=17)\n",
    "axarr[1].set_title(r'PoA $(c_1=1, \\alpha={})$'.format(alpha), size=17)\n",
    "axarr[2].set_title(r'Bid bounds $(c_1=1, \\alpha={})$'.format(alpha), size=17)\n",
    "\n",
    "plt.savefig('out.png', dpi=150, bbox_inches='tight', facecolor='white')\n",
    "plt.show()"
   ]
  },
  {
   "cell_type": "markdown",
   "metadata": {},
   "source": [
    "SOC at the bid bounds."
   ]
  },
  {
   "cell_type": "code",
   "execution_count": 138,
   "metadata": {},
   "outputs": [
    {
     "data": {
      "text/latex": [
       "$\\displaystyle - \\frac{6}{b_{0}^{4} \\left(\\frac{1}{b_{1}^{3}} + \\frac{1}{b_{0}^{3}}\\right)} + \\frac{12 \\left(b_{0} - 1\\right)}{b_{0}^{5} \\left(\\frac{1}{b_{1}^{3}} + \\frac{1}{b_{0}^{3}}\\right)} + \\frac{6}{b_{0}^{7} \\left(\\frac{1}{b_{1}^{3}} + \\frac{1}{b_{0}^{3}}\\right)^{2}} - \\frac{30 \\left(b_{0} - 1\\right)}{b_{0}^{8} \\left(\\frac{1}{b_{1}^{3}} + \\frac{1}{b_{0}^{3}}\\right)^{2}} + \\frac{18 \\left(b_{0} - 1\\right)}{b_{0}^{11} \\left(\\frac{1}{b_{1}^{3}} + \\frac{1}{b_{0}^{3}}\\right)^{3}}$"
      ],
      "text/plain": [
       "-6/(b0**4*(b1**(-3) + b0**(-3))) + 12*(b0 - 1)/(b0**5*(b1**(-3) + b0**(-3))) + 6/(b0**7*(b1**(-3) + b0**(-3))**2) - 30*(b0 - 1)/(b0**8*(b1**(-3) + b0**(-3))**2) + 18*(b0 - 1)/(b0**11*(b1**(-3) + b0**(-3))**3)"
      ]
     },
     "execution_count": 138,
     "metadata": {},
     "output_type": "execute_result"
    }
   ],
   "source": [
    "n = 2\n",
    "cs = [1,5]\n",
    "bs = [sp.Symbol('b{}'.format(i)) for i in range(n)]\n",
    "    \n",
    "denom = sum([bi**(-a) for bi in bs])\n",
    "xs    = [bi**(-a)/denom for bi in bs]\n",
    "us    = [(bs[i] - cs[i])*xs[i] for i in range(n)]\n",
    "focs = [sp.diff(us[i], bs[i]) for i in range(n)]\n",
    "socs = [sp.diff(focs[i], bs[i]) for i in range(n)]\n",
    "socs[0]"
   ]
  },
  {
   "cell_type": "code",
   "execution_count": 141,
   "metadata": {},
   "outputs": [
    {
     "data": {
      "text/latex": [
       "$\\displaystyle \\frac{1}{b_{0}^{3} \\left(\\frac{1}{b_{1}^{3}} + \\frac{1}{b_{0}^{3}}\\right)} - \\frac{3 \\left(b_{0} - 1\\right)}{b_{0}^{4} \\left(\\frac{1}{b_{1}^{3}} + \\frac{1}{b_{0}^{3}}\\right)} + \\frac{3 \\left(b_{0} - 1\\right)}{b_{0}^{7} \\left(\\frac{1}{b_{1}^{3}} + \\frac{1}{b_{0}^{3}}\\right)^{2}}$"
      ],
      "text/plain": [
       "1/(b0**3*(b1**(-3) + b0**(-3))) - 3*(b0 - 1)/(b0**4*(b1**(-3) + b0**(-3))) + 3*(b0 - 1)/(b0**7*(b1**(-3) + b0**(-3))**2)"
      ]
     },
     "execution_count": 141,
     "metadata": {},
     "output_type": "execute_result"
    }
   ],
   "source": [
    "focs[0]"
   ]
  },
  {
   "cell_type": "code",
   "execution_count": 118,
   "metadata": {},
   "outputs": [
    {
     "data": {
      "text/latex": [
       "$\\displaystyle -0.325985515047469$"
      ],
      "text/plain": [
       "-0.325985515047469"
      ]
     },
     "execution_count": 118,
     "metadata": {},
     "output_type": "execute_result"
    }
   ],
   "source": [
    "i=1\n",
    "socs[0].evalf(subs={bs[0]:boundedBids[i,0],bs[1]:boundedBids[i,1]})"
   ]
  },
  {
   "cell_type": "code",
   "execution_count": 139,
   "metadata": {},
   "outputs": [
    {
     "data": {
      "text/plain": [
       "((91, 2), (91, 2))"
      ]
     },
     "execution_count": 139,
     "metadata": {},
     "output_type": "execute_result"
    }
   ],
   "source": [
    "socVals = []\n",
    "socBounds = []\n",
    "for i in range(len(c1s)):\n",
    "    soc1 = socs[0].evalf(subs={bs[0]:boundedBids[i,0],bs[1]:boundedBids[i,1]})\n",
    "    soc2 = socs[1].evalf(subs={bs[0]:boundedBids[i,0],bs[1]:boundedBids[i,1]})\n",
    "    socBounds.append([soc1, soc2])\n",
    "    soc1 = socs[0].evalf(subs={bs[0]:bids[i,0],bs[1]:bids[i,1]})\n",
    "    soc2 = socs[1].evalf(subs={bs[0]:bids[i,0],bs[1]:bids[i,1]})\n",
    "    socVals.append([soc1, soc2])\n",
    "socVals = np.asarray(socVals)\n",
    "socBounds = np.asarray(socBounds)\n",
    "socVals.shape, socBounds.shape"
   ]
  },
  {
   "cell_type": "code",
   "execution_count": 140,
   "metadata": {},
   "outputs": [
    {
     "data": {
      "image/png": "[encoded data removed]",
      "text/plain": [
       "<Figure size 1008x216 with 4 Axes>"
      ]
     },
     "metadata": {
      "needs_background": "light"
     },
     "output_type": "display_data"
    }
   ],
   "source": [
    "f, axarr = plt.subplots(ncols=4, figsize=(14,3))\n",
    "\n",
    "axarr[0].plot(c1s, xTildes[:,0], linewidth=3, alpha=0.6, label=r'$\\tilde{x}_1$', color='mediumorchid',\n",
    "              linestyle='-.')\n",
    "axarr[0].plot(c1s, xTildes[:,1], linewidth=3, alpha=0.6, label=r'$\\tilde{x}_2$', color='goldenrod',\n",
    "              linestyle='-.')\n",
    "roots = np.array([explicitQuadraticRoot(c1, alpha) for c1 in c1s])\n",
    "axarr[0].plot(c1s, roots, linewidth=3, alpha=0.6, label=r'$\\tilde{x}_2$', color='mediumorchid',\n",
    "              linestyle='dotted')\n",
    "axarr[0].plot(c1s, 1-roots, linewidth=3, alpha=0.6, label=r'$\\tilde{x}_2$', color='goldenrod',\n",
    "              linestyle='dotted')\n",
    "\n",
    "\n",
    "\n",
    "axarr[1].plot(c1s, roots+c1s*(1-roots), linewidth=3, alpha=0.6,\n",
    "              label='root bound PoA', color='green')\n",
    "axarr[1].plot(c1s, welfares, linewidth=3, alpha=0.6, label='numerical PoA', color='mediumblue')\n",
    "\n",
    "axarr[2].plot(c1s, bids[:,0], linewidth=3, alpha=0.6, label='p1 bids', color='red')\n",
    "axarr[2].plot(c1s, bids[:,1], linewidth=3, alpha=0.6, label='p2 bids', color='black')\n",
    "axarr[2].plot(c1s, boundedBids[:,1], linewidth=3, alpha=0.6, label='p2 bid bounds', color='black',\n",
    "              linestyle='--')\n",
    "axarr[2].plot(c1s, boundedBids[:,0], linewidth=3, alpha=0.6, label='p1 bid bounds', color='red',\n",
    "              linestyle='--')\n",
    "\n",
    "axarr[3].plot(c1s, socBounds[:,0], linewidth=3, alpha=0.6, label='p1 SOC bounds', color='red',\n",
    "              linestyle='--')\n",
    "axarr[3].plot(c1s, socBounds[:,1], linewidth=3, alpha=0.6, label='p2 SOC bounds', color='black',\n",
    "              linestyle='--')\n",
    "axarr[3].plot(c1s, socVals[:,0], linewidth=3, alpha=0.6, label='p1 SOC vals', color='red',\n",
    "              linestyle='-')\n",
    "axarr[3].plot(c1s, socVals[:,1], linewidth=3, alpha=0.6, label='p2 SOC vals', color='black',\n",
    "              linestyle='-')\n",
    "\n",
    "\n",
    "\n",
    "for ax in axarr:\n",
    "    ax.grid(alpha=0.3)\n",
    "    ax.set_xlabel(r'$c_2$', size=15)\n",
    "    ax.legend(prop={'size': 12})\n",
    "#     ax.set_xlim(1,2)\n",
    "axarr[0].set_title(r'allocations $(c_1=1, \\alpha={})$'.format(alpha), size=17)\n",
    "axarr[1].set_title(r'PoA $(c_1=1, \\alpha={})$'.format(alpha), size=17)\n",
    "axarr[2].set_title(r'Bid bounds'.format(alpha), size=17)\n",
    "axarr[3].set_title(r'SoC bounds'.format(alpha), size=17)\n",
    "\n",
    "\n",
    "plt.savefig('out.png', dpi=150, bbox_inches='tight', facecolor='white')\n",
    "plt.show()"
   ]
  },
  {
   "cell_type": "code",
   "execution_count": null,
   "metadata": {},
   "outputs": [],
   "source": []
  },
  {
   "cell_type": "code",
   "execution_count": null,
   "metadata": {},
   "outputs": [],
   "source": []
  },
  {
   "cell_type": "code",
   "execution_count": null,
   "metadata": {},
   "outputs": [],
   "source": []
  },
  {
   "cell_type": "code",
   "execution_count": null,
   "metadata": {},
   "outputs": [],
   "source": []
  }
 ],
 "metadata": {
  "kernelspec": {
   "display_name": "Python 3",
   "language": "python",
   "name": "python3"
  },
  "language_info": {
   "codemirror_mode": {
    "name": "ipython",
    "version": 3
   },
   "file_extension": ".py",
   "mimetype": "text/x-python",
   "name": "python",
   "nbconvert_exporter": "python",
   "pygments_lexer": "ipython3",
   "version": "3.8.16"
  }
 },
 "nbformat": 4,
 "nbformat_minor": 4
}
