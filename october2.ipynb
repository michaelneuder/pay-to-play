{
 "cells": [
  {
   "cell_type": "code",
   "execution_count": 1,
   "metadata": {},
   "outputs": [],
   "source": [
    "import matplotlib.pyplot as plt\n",
    "import matplotlib as mpl\n",
    "import matplotlib.patches as mpatches\n",
    "import numpy as np\n",
    "import pandas as pd\n",
    "import cvxpy as cp\n",
    "from scipy.stats import poisson, uniform, expon, pareto\n",
    "from scipy.optimize import minimize, fsolve\n",
    "from tqdm import tqdm\n",
    "from mdptoolbox import mdp, util\n",
    "import itertools\n",
    "from scipy.sparse import csr_matrix, lil_matrix\n",
    "from matplotlib.patches import Patch\n",
    "import math\n",
    "import random\n",
    "import sympy as sp\n",
    "from sympy.printing.latex import print_latex"
   ]
  },
  {
   "cell_type": "code",
   "execution_count": 24,
   "metadata": {},
   "outputs": [],
   "source": [
    "b1, b2 = sp.symbols('b_1 b_2')\n",
    "c1, c2 = sp.symbols('c_1 c_2')\n",
    "W      = sp.Symbol('w', positive=True)\n",
    "# a      = sp.Symbol('a')\n",
    "a = 4"
   ]
  },
  {
   "cell_type": "code",
   "execution_count": 25,
   "metadata": {},
   "outputs": [
    {
     "data": {
      "text/latex": [
       "$\\displaystyle \\frac{1}{b_{1}^{4} \\left(\\frac{1}{b_{2}^{4}} + \\frac{1}{b_{1}^{4}}\\right)}$"
      ],
      "text/plain": [
       "1/(b_1**4*(b_2**(-4) + b_1**(-4)))"
      ]
     },
     "execution_count": 25,
     "metadata": {},
     "output_type": "execute_result"
    }
   ],
   "source": [
    "x1 = b1**(-a) / (b1**(-a)+b2**(-a))\n",
    "x2 = b2**(-a) / (b1**(-a)+b2**(-a))\n",
    "x1"
   ]
  },
  {
   "cell_type": "code",
   "execution_count": 26,
   "metadata": {},
   "outputs": [
    {
     "data": {
      "text/latex": [
       "$\\displaystyle \\frac{b_{1} - c_{1}}{b_{1}^{4} \\left(\\frac{1}{b_{2}^{4}} + \\frac{1}{b_{1}^{4}}\\right)}$"
      ],
      "text/plain": [
       "(b_1 - c_1)/(b_1**4*(b_2**(-4) + b_1**(-4)))"
      ]
     },
     "execution_count": 26,
     "metadata": {},
     "output_type": "execute_result"
    }
   ],
   "source": [
    "u1 = (b1-c1)*x1\n",
    "u2 = (b2-c2)*x2\n",
    "u1"
   ]
  },
  {
   "cell_type": "code",
   "execution_count": 27,
   "metadata": {},
   "outputs": [
    {
     "data": {
      "text/latex": [
       "$\\displaystyle \\frac{1}{b_{2}^{4} \\left(\\frac{1}{b_{2}^{4}} + \\frac{1}{b_{1}^{4}}\\right)} - \\frac{4 \\left(b_{2} - c_{2}\\right)}{b_{2}^{5} \\left(\\frac{1}{b_{2}^{4}} + \\frac{1}{b_{1}^{4}}\\right)} + \\frac{4 \\left(b_{2} - c_{2}\\right)}{b_{2}^{9} \\left(\\frac{1}{b_{2}^{4}} + \\frac{1}{b_{1}^{4}}\\right)^{2}}$"
      ],
      "text/plain": [
       "1/(b_2**4*(b_2**(-4) + b_1**(-4))) - 4*(b_2 - c_2)/(b_2**5*(b_2**(-4) + b_1**(-4))) + 4*(b_2 - c_2)/(b_2**9*(b_2**(-4) + b_1**(-4))**2)"
      ]
     },
     "execution_count": 27,
     "metadata": {},
     "output_type": "execute_result"
    }
   ],
   "source": [
    "part1 = sp.diff(u1, b1)\n",
    "part2 = sp.diff(u2, b2)\n",
    "part2"
   ]
  },
  {
   "cell_type": "code",
   "execution_count": 35,
   "metadata": {},
   "outputs": [
    {
     "data": {
      "text/latex": [
       "$\\displaystyle \\frac{0.0625}{0.0625 + \\frac{1}{b_{1}^{4}}} = 0$"
      ],
      "text/plain": [
       "Eq(0.0625/(0.0625 + b_1**(-4)), 0)"
      ]
     },
     "execution_count": 35,
     "metadata": {},
     "output_type": "execute_result"
    }
   ],
   "source": [
    "eq1 = sp.Eq(part1.evalf(subs={c1:c1, b2:2}), 0)\n",
    "eq2 = sp.Eq(part2.evalf(subs={b2:2, c2:2}), 0) # works with alpha fixed\n",
    "eq2"
   ]
  },
  {
   "cell_type": "code",
   "execution_count": 36,
   "metadata": {},
   "outputs": [
    {
     "data": {
      "text/plain": [
       "[]"
      ]
     },
     "execution_count": 36,
     "metadata": {},
     "output_type": "execute_result"
    }
   ],
   "source": [
    "solution = sp.solve([eq1, eq2], [b1, b2])\n",
    "solution"
   ]
  },
  {
   "cell_type": "code",
   "execution_count": null,
   "metadata": {},
   "outputs": [],
   "source": []
  }
 ],
 "metadata": {
  "kernelspec": {
   "display_name": "Python 3",
   "language": "python",
   "name": "python3"
  },
  "language_info": {
   "codemirror_mode": {
    "name": "ipython",
    "version": 3
   },
   "file_extension": ".py",
   "mimetype": "text/x-python",
   "name": "python",
   "nbconvert_exporter": "python",
   "pygments_lexer": "ipython3",
   "version": "3.8.16"
  }
 },
 "nbformat": 4,
 "nbformat_minor": 4
}
