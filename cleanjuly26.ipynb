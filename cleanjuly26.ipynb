{
 "cells": [
  {
   "cell_type": "code",
   "execution_count": 40,
   "metadata": {},
   "outputs": [],
   "source": [
    "import matplotlib.pyplot as plt\n",
    "import matplotlib as mpl\n",
    "import matplotlib.patches as mpatches\n",
    "import numpy as np\n",
    "import pandas as pd\n",
    "import cvxpy as cp\n",
    "from scipy.stats import poisson, uniform, expon, pareto\n",
    "from scipy.optimize import minimize, fsolve\n",
    "from tqdm import tqdm\n",
    "from mdptoolbox import mdp, util\n",
    "import itertools\n",
    "from scipy.sparse import csr_matrix, lil_matrix\n",
    "from matplotlib.patches import Patch\n",
    "import math\n",
    "import random\n",
    "import sympy as sp\n",
    "from sympy.printing.latex import print_latex"
   ]
  },
  {
   "cell_type": "markdown",
   "metadata": {},
   "source": [
    "# a \\in [1,2)"
   ]
  },
  {
   "cell_type": "code",
   "execution_count": 66,
   "metadata": {},
   "outputs": [
    {
     "data": {
      "text/latex": [
       "$\\displaystyle \\frac{1.1 b_{1}^{0.1} b_{2}^{1.1} v_{1}}{\\left(b_{1}^{1.1} + b_{2}^{1.1}\\right)^{2}} - 1 = 0$"
      ],
      "text/plain": [
       "Eq(1.1*b_1**0.1*b_2**1.1*v_1/(b_1**1.1 + b_2**1.1)**2 - 1, 0)"
      ]
     },
     "execution_count": 66,
     "metadata": {},
     "output_type": "execute_result"
    }
   ],
   "source": [
    "v1, v2, b1, b2 = sp.symbols('v_1 v_2 b_1 b_2')\n",
    "a = 1.1\n",
    "x1 = b1**(a)/(b1**(a)+b2**(a))\n",
    "x2 = b2**(a)/(b1**(a)+b2**(a))\n",
    "u1 = x1*v1-b1\n",
    "u2 = x2*v2-b2\n",
    "\n",
    "part1 = sp.simplify(sp.diff(u1, b1))\n",
    "part2 = sp.simplify(sp.diff(u2, b2))\n",
    "\n",
    "foc1 = sp.Eq(part1, 0)\n",
    "foc2 = sp.Eq(part2, 0)\n",
    "foc1"
   ]
  },
  {
   "cell_type": "code",
   "execution_count": 67,
   "metadata": {},
   "outputs": [
    {
     "data": {
      "text/latex": [
       "$\\displaystyle \\frac{b_{1}^{1.1} v_{2} \\cdot \\left(0.11 b_{1}^{1.1} - 2.31 b_{2}^{1.1}\\right)}{b_{2}^{0.9} \\left(b_{1}^{1.1} + b_{2}^{1.1}\\right)^{3}}$"
      ],
      "text/plain": [
       "b_1**1.1*v_2*(0.11*b_1**1.1 - 2.31*b_2**1.1)/(b_2**0.9*(b_1**1.1 + b_2**1.1)**3)"
      ]
     },
     "execution_count": 67,
     "metadata": {},
     "output_type": "execute_result"
    }
   ],
   "source": [
    "# double partial\n",
    "sp.simplify(sp.diff(part2, b2))"
   ]
  },
  {
   "cell_type": "markdown",
   "metadata": {},
   "source": [
    "# system solver"
   ]
  },
  {
   "cell_type": "code",
   "execution_count": 68,
   "metadata": {},
   "outputs": [
    {
     "data": {
      "text/plain": [
       "(0.3750000000000002, -0.3124999999999999)"
      ]
     },
     "execution_count": 68,
     "metadata": {},
     "output_type": "execute_result"
    }
   ],
   "source": [
    "foc1sc = sp.lambdify((b1, b2), part1.evalf(subs={v1:4}))\n",
    "foc2sc = sp.lambdify((b1, b2), part2.evalf(subs={v2:2}))\n",
    "foc1sc(0.8, 0.8), foc2sc(0.8, 0.8)"
   ]
  },
  {
   "cell_type": "code",
   "execution_count": 69,
   "metadata": {},
   "outputs": [
    {
     "data": {
      "text/plain": [
       "array([0.95443372, 0.47721686])"
      ]
     },
     "execution_count": 69,
     "metadata": {},
     "output_type": "execute_result"
    }
   ],
   "source": [
    "def eqs(bs):\n",
    "    b1, b2 = bs\n",
    "    return [foc1sc(b1,b2), foc2sc(b1,b2)]\n",
    "\n",
    "initial_guess = [0.5, 0.5]\n",
    "solution = fsolve(eqs, initial_guess)\n",
    "solution"
   ]
  },
  {
   "cell_type": "markdown",
   "metadata": {},
   "source": [
    "# a = 1/2"
   ]
  },
  {
   "cell_type": "code",
   "execution_count": 70,
   "metadata": {},
   "outputs": [
    {
     "data": {
      "text/latex": [
       "$\\displaystyle \\frac{0.5 b_{2}^{0.5} v_{1}}{b_{1}^{0.5} \\left(b_{1}^{0.5} + b_{2}^{0.5}\\right)^{2}} - 1 = 0$"
      ],
      "text/plain": [
       "Eq(0.5*b_2**0.5*v_1/(b_1**0.5*(b_1**0.5 + b_2**0.5)**2) - 1, 0)"
      ]
     },
     "execution_count": 70,
     "metadata": {},
     "output_type": "execute_result"
    }
   ],
   "source": [
    "v1, v2, b1, b2 = sp.symbols('v_1 v_2 b_1 b_2')\n",
    "a = 1/2\n",
    "x1 = b1**(a)/(b1**(a)+b2**(a))\n",
    "x2 = b2**(a)/(b1**(a)+b2**(a))\n",
    "u1 = x1*v1-b1\n",
    "u2 = x2*v2-b2\n",
    "\n",
    "part1 = sp.simplify(sp.diff(u1, b1))\n",
    "part2 = sp.simplify(sp.diff(u2, b2))\n",
    "\n",
    "foc1 = sp.Eq(part1, 0)\n",
    "foc2 = sp.Eq(part2, 0)\n",
    "foc1"
   ]
  },
  {
   "cell_type": "code",
   "execution_count": 78,
   "metadata": {},
   "outputs": [
    {
     "data": {
      "text/latex": [
       "$\\displaystyle \\frac{0.5 b_{1}^{0.5} v_{2}}{b_{2}^{0.5} \\left(b_{1}^{0.5} + b_{2}^{0.5}\\right)^{2}} - 1$"
      ],
      "text/plain": [
       "0.5*b_1**0.5*v_2/(b_2**0.5*(b_1**0.5 + b_2**0.5)**2) - 1"
      ]
     },
     "execution_count": 78,
     "metadata": {},
     "output_type": "execute_result"
    }
   ],
   "source": [
    "part2"
   ]
  },
  {
   "cell_type": "code",
   "execution_count": 87,
   "metadata": {},
   "outputs": [
    {
     "data": {
      "text/plain": [
       "2.831846707795904e-06"
      ]
     },
     "execution_count": 87,
     "metadata": {},
     "output_type": "execute_result"
    }
   ],
   "source": [
    "foc1sc = sp.lambdify((b1, b2), part1.evalf(subs={v1:4}))\n",
    "foc2sc = sp.lambdify((b1, b2), part2.evalf(subs={v2:2}))\n",
    "foc1sc(0.48528,0.24264)"
   ]
  },
  {
   "cell_type": "code",
   "execution_count": 88,
   "metadata": {},
   "outputs": [
    {
     "data": {
      "text/plain": [
       "array([0.48528137, 0.24264069])"
      ]
     },
     "execution_count": 88,
     "metadata": {},
     "output_type": "execute_result"
    }
   ],
   "source": [
    "def eqs(bs):\n",
    "    b1, b2 = bs\n",
    "    return [foc1sc(b1,b2), foc2sc(b1,b2)]\n",
    "\n",
    "initial_guess = [0.4, 0.2]\n",
    "solution = fsolve(eqs, initial_guess)\n",
    "solution"
   ]
  },
  {
   "cell_type": "markdown",
   "metadata": {},
   "source": [
    "# Potential tullock"
   ]
  },
  {
   "cell_type": "code",
   "execution_count": 89,
   "metadata": {},
   "outputs": [
    {
     "data": {
      "text/latex": [
       "$\\displaystyle a v_{i} x_{i} \\left(x_{i}^{1 - \\frac{1}{a}} - x_{i}^{2 - \\frac{1}{a}}\\right) - \\begin{cases} v_{i} \\left(\\frac{\\log{\\left(x_{i} \\right)}}{3} + \\frac{2}{3 x_{i}}\\right) - \\infty \\operatorname{sign}{\\left(v_{i} \\right)} & \\text{for}\\: a = \\frac{1}{3} \\\\- \\frac{v_{i} \\log{\\left(x_{i} \\right)}}{2} - \\infty \\operatorname{sign}{\\left(v_{i} \\right)} & \\text{for}\\: a = \\frac{1}{2} \\\\v_{i} \\left(- \\frac{4 a^{3} x_{i}^{2} x_{i}^{\\frac{1}{a}} x_{i}^{1 - \\frac{1}{a}}}{6 a^{2} x_{i}^{\\frac{1}{a}} - 5 a x_{i}^{\\frac{1}{a}} + x_{i}^{\\frac{1}{a}}} + \\frac{3 a^{3} x_{i}^{2}}{6 a^{2} x_{i}^{\\frac{1}{a}} - 5 a x_{i}^{\\frac{1}{a}} + x_{i}^{\\frac{1}{a}}} + \\frac{4 a^{2} x_{i}^{2} x_{i}^{\\frac{1}{a}} x_{i}^{1 - \\frac{1}{a}}}{6 a^{2} x_{i}^{\\frac{1}{a}} - 5 a x_{i}^{\\frac{1}{a}} + x_{i}^{\\frac{1}{a}}} - \\frac{4 a^{2} x_{i}^{2}}{6 a^{2} x_{i}^{\\frac{1}{a}} - 5 a x_{i}^{\\frac{1}{a}} + x_{i}^{\\frac{1}{a}}} - \\frac{a x_{i}^{2} x_{i}^{\\frac{1}{a}} x_{i}^{1 - \\frac{1}{a}}}{6 a^{2} x_{i}^{\\frac{1}{a}} - 5 a x_{i}^{\\frac{1}{a}} + x_{i}^{\\frac{1}{a}}} + \\frac{a x_{i}^{2}}{6 a^{2} x_{i}^{\\frac{1}{a}} - 5 a x_{i}^{\\frac{1}{a}} + x_{i}^{\\frac{1}{a}}}\\right) & \\text{otherwise} \\end{cases}$"
      ],
      "text/plain": [
       "a*v_i*x_i*(x_i**(1 - 1/a) - x_i**(2 - 1/a)) - Piecewise((v_i*(log(x_i)/3 + 2/(3*x_i)) - oo*sign(v_i), Eq(a, 1/3)), (-v_i*log(x_i)/2 - oo*sign(v_i), Eq(a, 1/2)), (v_i*(-4*a**3*x_i**2*x_i**(1/a)*x_i**(1 - 1/a)/(6*a**2*x_i**(1/a) - 5*a*x_i**(1/a) + x_i**(1/a)) + 3*a**3*x_i**2/(6*a**2*x_i**(1/a) - 5*a*x_i**(1/a) + x_i**(1/a)) + 4*a**2*x_i**2*x_i**(1/a)*x_i**(1 - 1/a)/(6*a**2*x_i**(1/a) - 5*a*x_i**(1/a) + x_i**(1/a)) - 4*a**2*x_i**2/(6*a**2*x_i**(1/a) - 5*a*x_i**(1/a) + x_i**(1/a)) - a*x_i**2*x_i**(1/a)*x_i**(1 - 1/a)/(6*a**2*x_i**(1/a) - 5*a*x_i**(1/a) + x_i**(1/a)) + a*x_i**2/(6*a**2*x_i**(1/a) - 5*a*x_i**(1/a) + x_i**(1/a))), True))"
      ]
     },
     "execution_count": 89,
     "metadata": {},
     "output_type": "execute_result"
    }
   ],
   "source": [
    "# 1/2 case.\n",
    "vi, xi = sp.symbols('v_i x_i')\n",
    "y,  a  = sp.symbols('y a')\n",
    "\n",
    "t1 = vi*xi*a * (xi**(1-1/a) - xi**(2-1/a))\n",
    "t2 = sp.integrate(vi*y*((a-1)*y**(-1/a)-(2*a-1)*y**(1-1/a)), (y, 0, xi))\n",
    "uhat = t1 - t2\n",
    "uhat"
   ]
  },
  {
   "cell_type": "code",
   "execution_count": 132,
   "metadata": {},
   "outputs": [
    {
     "data": {
      "text/latex": [
       "$\\displaystyle v_{i} \\left(\\frac{1.84166666666667}{x_{i}^{0.307692307692307}} + 0.192592592592592 x_{i}^{0.692307692307693}\\right) - \\infty \\operatorname{sign}{\\left(v_{i} \\right)}$"
      ],
      "text/plain": [
       "v_i*(1.84166666666667/x_i**0.307692307692307 + 0.192592592592592*x_i**0.692307692307693) - oo*sign(v_i)"
      ]
     },
     "execution_count": 132,
     "metadata": {},
     "output_type": "execute_result"
    }
   ],
   "source": [
    "y,  a  = sp.symbols('y a')\n",
    "integrand = vi*y*((a-1)*y**(-1/a)-(2*a-1)*y**(1-1/a))\n",
    "t2 = sp.integrate(integrand.evalf(subs={a:1/3+0.1}), (y, 0, xi))\n",
    "t2.evalf(subs={a:1/3+0.1})"
   ]
  },
  {
   "cell_type": "code",
   "execution_count": 133,
   "metadata": {},
   "outputs": [
    {
     "data": {
      "text/latex": [
       "$\\displaystyle v_{i} \\left(\\frac{1.84166666666665}{x_{i}^{0.307692307692307}} + 0.192592592592593 x_{i}^{0.692307692307693}\\right)$"
      ],
      "text/plain": [
       "v_i*(1.84166666666665/x_i**0.307692307692307 + 0.192592592592593*x_i**0.692307692307693)"
      ]
     },
     "execution_count": 133,
     "metadata": {},
     "output_type": "execute_result"
    }
   ],
   "source": [
    "y,  a  = sp.symbols('y a')\n",
    "t2 = sp.integrate(vi*y*((a-1)*y**(-1/a)-(2*a-1)*y**(1-1/a)), (y, 0, xi))\n",
    "t2.evalf(subs={a:1/3+0.1})"
   ]
  },
  {
   "cell_type": "code",
   "execution_count": 134,
   "metadata": {},
   "outputs": [
    {
     "data": {
      "text/latex": [
       "$\\displaystyle - \\frac{0.566666666666667 v_{i}}{y^{1.30769230769231}} + \\frac{0.133333333333333 v_{i}}{y^{0.307692307692307}}$"
      ],
      "text/plain": [
       "-0.566666666666667*v_i/y**1.30769230769231 + 0.133333333333333*v_i/y**0.307692307692307"
      ]
     },
     "execution_count": 134,
     "metadata": {},
     "output_type": "execute_result"
    }
   ],
   "source": [
    "integrand = vi*y*((a-1)*y**(-1/a)-(2*a-1)*y**(1-1/a))\n",
    "sp.simplify(integrand.evalf(subs={a:1/3+0.1}))"
   ]
  },
  {
   "cell_type": "code",
   "execution_count": 135,
   "metadata": {},
   "outputs": [
    {
     "data": {
      "text/latex": [
       "$\\displaystyle \\frac{1.84166666666667}{x_{i}^{0.307692307692307}} + 0.192592592592592 x_{i}^{0.692307692307693} - \\infty$"
      ],
      "text/plain": [
       "1.84166666666667/x_i**0.307692307692307 + 0.192592592592592*x_i**0.692307692307693 - oo"
      ]
     },
     "execution_count": 135,
     "metadata": {},
     "output_type": "execute_result"
    }
   ],
   "source": [
    "sp.integrate(integrand.evalf(subs={vi:1, a:1/3+0.1}), (y, 0, xi))#.evalf(subs={xi:1/2})"
   ]
  },
  {
   "cell_type": "code",
   "execution_count": 150,
   "metadata": {},
   "outputs": [
    {
     "data": {
      "text/latex": [
       "$\\displaystyle - \\frac{0.666666666666667}{y^{2.0}} + \\frac{0.333333333333333}{y^{1.0}}$"
      ],
      "text/plain": [
       "-0.666666666666667/y**2.0 + 0.333333333333333/y**1.0"
      ]
     },
     "execution_count": 150,
     "metadata": {},
     "output_type": "execute_result"
    }
   ],
   "source": [
    "sp.simplify(integrand.evalf(subs={vi:1, a:1/3}))"
   ]
  },
  {
   "cell_type": "code",
   "execution_count": 151,
   "metadata": {},
   "outputs": [
    {
     "data": {
      "text/latex": [
       "$\\displaystyle - \\frac{0.75}{y^{3.0}} + \\frac{0.5}{y^{2.0}}$"
      ],
      "text/plain": [
       "-0.75/y**3.0 + 0.5/y**2.0"
      ]
     },
     "execution_count": 151,
     "metadata": {},
     "output_type": "execute_result"
    }
   ],
   "source": [
    "sp.simplify(integrand.evalf(subs={vi:1, a:1/4}))"
   ]
  },
  {
   "cell_type": "code",
   "execution_count": 152,
   "metadata": {},
   "outputs": [
    {
     "data": {
      "text/latex": [
       "$\\displaystyle - \\frac{0.8}{y^{4.0}} + \\frac{0.6}{y^{3.0}}$"
      ],
      "text/plain": [
       "-0.8/y**4.0 + 0.6/y**3.0"
      ]
     },
     "execution_count": 152,
     "metadata": {},
     "output_type": "execute_result"
    }
   ],
   "source": [
    "sp.simplify(integrand.evalf(subs={vi:1, a:1/5}))"
   ]
  },
  {
   "cell_type": "code",
   "execution_count": 153,
   "metadata": {},
   "outputs": [
    {
     "data": {
      "text/latex": [
       "$\\displaystyle - \\frac{0.833333333333333}{y^{5.0}} + \\frac{0.666666666666667}{y^{4.0}}$"
      ],
      "text/plain": [
       "-0.833333333333333/y**5.0 + 0.666666666666667/y**4.0"
      ]
     },
     "execution_count": 153,
     "metadata": {},
     "output_type": "execute_result"
    }
   ],
   "source": [
    "sp.simplify(integrand.evalf(subs={vi:1, a:1/6}))"
   ]
  },
  {
   "cell_type": "code",
   "execution_count": 157,
   "metadata": {},
   "outputs": [
    {
     "data": {
      "text/latex": [
       "$\\displaystyle - \\frac{0.5}{y^{1.0}}$"
      ],
      "text/plain": [
       "-0.5/y**1.0"
      ]
     },
     "execution_count": 157,
     "metadata": {},
     "output_type": "execute_result"
    }
   ],
   "source": [
    "sp.simplify(integrand.evalf(subs={vi:1, a:1/2}))"
   ]
  },
  {
   "cell_type": "code",
   "execution_count": 156,
   "metadata": {},
   "outputs": [
    {
     "data": {
      "text/latex": [
       "$\\displaystyle - 0.5 \\log{\\left(x_{i} \\right)} - \\infty$"
      ],
      "text/plain": [
       "-0.5*log(x_i) - oo"
      ]
     },
     "execution_count": 156,
     "metadata": {},
     "output_type": "execute_result"
    }
   ],
   "source": [
    "sp.integrate(integrand.evalf(subs={vi:1, a:1/2}), (y, 0, xi))#.evalf(subs={xi:1/2})"
   ]
  },
  {
   "cell_type": "code",
   "execution_count": 163,
   "metadata": {},
   "outputs": [
    {
     "data": {
      "text/latex": [
       "$\\displaystyle 0.5 v_{i} x_{i} \\left(x_{i}^{-1.0} - 1.0\\right) + 0.5 v_{i} \\log{\\left(x_{i} \\right)} + \\infty \\operatorname{sign}{\\left(v_{i} \\right)}$"
      ],
      "text/plain": [
       "0.5*v_i*x_i*(x_i**(-1.0) - 1.0) + 0.5*v_i*log(x_i) + oo*sign(v_i)"
      ]
     },
     "execution_count": 163,
     "metadata": {},
     "output_type": "execute_result"
    }
   ],
   "source": [
    "uhat.evalf(subs={a:1/2})"
   ]
  },
  {
   "cell_type": "markdown",
   "metadata": {},
   "source": [
    "# procurement direct"
   ]
  },
  {
   "cell_type": "code",
   "execution_count": 167,
   "metadata": {},
   "outputs": [
    {
     "data": {
      "text/latex": [
       "$\\displaystyle \\frac{c_{1} - v_{1}}{c_{1}^{3} \\left(\\frac{1}{c_{2}^{3}} + \\frac{1}{c_{1}^{3}}\\right)}$"
      ],
      "text/plain": [
       "(c_1 - v_1)/(c_1**3*(c_2**(-3) + c_1**(-3)))"
      ]
     },
     "execution_count": 167,
     "metadata": {},
     "output_type": "execute_result"
    }
   ],
   "source": [
    "# derive normal way\n",
    "c1, c2, v1, v2 = sp.symbols('c_1 c_2 v_1 v_2')\n",
    "\n",
    "u1 = (c1-v1) * (1/c1)**3 / ((1/c1)**3 + (1/c2)**3)\n",
    "u2 = (c2-v2) * (1/c2)**3 / ((1/c1)**3 + (1/c2)**3)\n",
    "u1"
   ]
  },
  {
   "cell_type": "code",
   "execution_count": 168,
   "metadata": {},
   "outputs": [
    {
     "data": {
      "text/latex": [
       "$\\displaystyle \\frac{1}{c_{2}^{3} \\left(\\frac{1}{c_{2}^{3}} + \\frac{1}{c_{1}^{3}}\\right)} - \\frac{3 \\left(c_{2} - v_{2}\\right)}{c_{2}^{4} \\left(\\frac{1}{c_{2}^{3}} + \\frac{1}{c_{1}^{3}}\\right)} + \\frac{3 \\left(c_{2} - v_{2}\\right)}{c_{2}^{7} \\left(\\frac{1}{c_{2}^{3}} + \\frac{1}{c_{1}^{3}}\\right)^{2}}$"
      ],
      "text/plain": [
       "1/(c_2**3*(c_2**(-3) + c_1**(-3))) - 3*(c_2 - v_2)/(c_2**4*(c_2**(-3) + c_1**(-3))) + 3*(c_2 - v_2)/(c_2**7*(c_2**(-3) + c_1**(-3))**2)"
      ]
     },
     "execution_count": 168,
     "metadata": {},
     "output_type": "execute_result"
    }
   ],
   "source": [
    "sp.simplify(sp.diff(u1, c1))\n",
    "sp.diff(u2, c2)"
   ]
  },
  {
   "cell_type": "code",
   "execution_count": 169,
   "metadata": {},
   "outputs": [
    {
     "data": {
      "text/latex": [
       "$\\displaystyle \\frac{1}{c_{1}^{3} \\left(\\frac{1}{c_{2}^{3}} + \\frac{1}{c_{1}^{3}}\\right)} - \\frac{3 \\left(c_{1} - v_{1}\\right)}{c_{1}^{4} \\left(\\frac{1}{c_{2}^{3}} + \\frac{1}{c_{1}^{3}}\\right)} + \\frac{3 \\left(c_{1} - v_{1}\\right)}{c_{1}^{7} \\left(\\frac{1}{c_{2}^{3}} + \\frac{1}{c_{1}^{3}}\\right)^{2}} = 0$"
      ],
      "text/plain": [
       "Eq(1/(c_1**3*(c_2**(-3) + c_1**(-3))) - 3*(c_1 - v_1)/(c_1**4*(c_2**(-3) + c_1**(-3))) + 3*(c_1 - v_1)/(c_1**7*(c_2**(-3) + c_1**(-3))**2), 0)"
      ]
     },
     "execution_count": 169,
     "metadata": {},
     "output_type": "execute_result"
    }
   ],
   "source": [
    "part1 = sp.diff(u1, c1)\n",
    "part2 = sp.diff(u2, c2)\n",
    "foc1 = sp.Eq(part1, 0)\n",
    "foc2 = sp.Eq(part2, 0)\n",
    "foc1"
   ]
  },
  {
   "cell_type": "code",
   "execution_count": 171,
   "metadata": {},
   "outputs": [],
   "source": [
    "foc1sc = sp.lambdify((c1, c2), part1.evalf(subs={v1:4}))\n",
    "foc2sc = sp.lambdify((c1, c2), part2.evalf(subs={v2:2}))"
   ]
  },
  {
   "cell_type": "code",
   "execution_count": 172,
   "metadata": {},
   "outputs": [
    {
     "data": {
      "text/plain": [
       "array([9.66287915, 8.8109329 ])"
      ]
     },
     "execution_count": 172,
     "metadata": {},
     "output_type": "execute_result"
    }
   ],
   "source": [
    "def eqs(cs):\n",
    "    c1, c2 = cs\n",
    "    return [foc1sc(c1,c2), foc2sc(c1,c2)]\n",
    "\n",
    "initial_guess = [0.4, 0.2]\n",
    "solution = fsolve(eqs, initial_guess)\n",
    "solution"
   ]
  },
  {
   "cell_type": "code",
   "execution_count": 173,
   "metadata": {},
   "outputs": [
    {
     "data": {
      "text/plain": [
       "(0.4312151766251178, 0.5687848233748822)"
      ]
     },
     "execution_count": 173,
     "metadata": {},
     "output_type": "execute_result"
    }
   ],
   "source": [
    "x1 = (1/solution[0])**(3) / ((1/solution[0])**(3) + (1/solution[1])**(3))\n",
    "x2 = (1/solution[1])**(3) / ((1/solution[0])**(3) + (1/solution[1])**(3))\n",
    "x1, x2"
   ]
  },
  {
   "cell_type": "markdown",
   "metadata": {},
   "source": [
    "# procurement best response"
   ]
  },
  {
   "cell_type": "code",
   "execution_count": 175,
   "metadata": {},
   "outputs": [
    {
     "name": "stderr",
     "output_type": "stream",
     "text": [
      "100%|██████████| 200/200 [00:38<00:00,  5.18it/s]\n"
     ]
    },
    {
     "data": {
      "text/plain": [
       "(9.66287914802542, 8.81093289882157)"
      ]
     },
     "execution_count": 175,
     "metadata": {},
     "output_type": "execute_result"
    }
   ],
   "source": [
    "# true values\n",
    "v1, v2 = 4, 2\n",
    "\n",
    "# init conditions\n",
    "curr1, curr2 = 1, 1\n",
    "a = 3\n",
    "\n",
    "# symbols\n",
    "c1 = sp.Symbol('c1', positive=True)\n",
    "c2 = sp.Symbol('c2', positive=True)\n",
    "\n",
    "p1Bids24, p2Bids24 = [curr1], [curr2]\n",
    "turn = 0\n",
    "for turn in tqdm(range(200)):\n",
    "    if turn % 2 == 0:\n",
    "        x1 = 1/(c1**a) / (1/(c1**a) + 1/(c2**a))\n",
    "        u1 = (c1-v1)*x1\n",
    "        partial = sp.diff(u1, c1)\n",
    "        best = sp.Eq(partial, 0).evalf(subs={c2:curr2})\n",
    "        sol = sp.solve(best)[0]\n",
    "        curr1 = sol\n",
    "        p1Bids24.append(curr1)\n",
    "    else:\n",
    "        x2 = 1/(c2**a) / (1/(c1**a) + 1/(c2**a))\n",
    "        u2 = (c2-v2)*x2\n",
    "        partial = sp.diff(u2, c2)\n",
    "        best = sp.Eq(partial, 0).evalf(subs={c1:curr1})\n",
    "        sol = sp.solve(best)[0]\n",
    "        curr2 = sol\n",
    "        p2Bids24.append(curr2)\n",
    "p1Bids24[-1], p2Bids24[-1]"
   ]
  },
  {
   "cell_type": "markdown",
   "metadata": {},
   "source": [
    "# procurement potential function"
   ]
  },
  {
   "cell_type": "code",
   "execution_count": 210,
   "metadata": {},
   "outputs": [
    {
     "data": {
      "text/latex": [
       "$\\displaystyle \\frac{a y^{\\frac{1}{a}} \\left(1 - y\\right)}{- a y + a - 1}$"
      ],
      "text/plain": [
       "a*y**(1/a)*(1 - y)/(-a*y + a - 1)"
      ]
     },
     "execution_count": 210,
     "metadata": {},
     "output_type": "execute_result"
    }
   ],
   "source": [
    "a, xi = sp.symbols('a x_i')\n",
    "y     = sp.symbols('y')\n",
    "\n",
    "expr = a*y**(1/a)*(1-y) / (a-a*y-1)\n",
    "expr"
   ]
  },
  {
   "cell_type": "code",
   "execution_count": 211,
   "metadata": {},
   "outputs": [
    {
     "name": "stdout",
     "output_type": "stream",
     "text": [
      "\\frac{a^{2} y^{\\frac{1}{a}} \\left(1 - y\\right)}{\\left(- a y + a - 1\\right)^{2}} - \\frac{a y^{\\frac{1}{a}}}{- a y + a - 1} + \\frac{y^{\\frac{1}{a}} \\left(1 - y\\right)}{y \\left(- a y + a - 1\\right)}\n"
     ]
    },
    {
     "data": {
      "text/latex": [
       "$\\displaystyle \\frac{a^{2} y^{\\frac{a + 1}{a}} \\left(1 - y\\right) + a y^{\\frac{a + 1}{a}} \\left(a y - a + 1\\right) + y^{\\frac{1}{a}} \\left(y - 1\\right) \\left(a y - a + 1\\right)}{y \\left(a y - a + 1\\right)^{2}}$"
      ],
      "text/plain": [
       "(a**2*y**((a + 1)/a)*(1 - y) + a*y**((a + 1)/a)*(a*y - a + 1) + y**(1/a)*(y - 1)*(a*y - a + 1))/(y*(a*y - a + 1)**2)"
      ]
     },
     "execution_count": 211,
     "metadata": {},
     "output_type": "execute_result"
    }
   ],
   "source": [
    "print_latex(sp.diff(expr, y))\n",
    "integrand = sp.diff(expr, y)\n",
    "# -y*sp.simplify(integrand.evalf(subs={a:3}))\n",
    "sp.simplify(integrand)"
   ]
  },
  {
   "cell_type": "code",
   "execution_count": 204,
   "metadata": {},
   "outputs": [
    {
     "data": {
      "text/latex": [
       "$\\displaystyle - v_{i} \\left(\\int\\limits_{0}^{x_{i}} \\left(- \\frac{y^{\\frac{1}{a}}}{a^{2} y^{2} - 2 a^{2} y + a^{2} + 2 a y - 2 a + 1}\\right)\\, dy + \\int\\limits_{0}^{x_{i}} \\frac{a y^{\\frac{1}{a}}}{a^{2} y^{2} - 2 a^{2} y + a^{2} + 2 a y - 2 a + 1}\\, dy + \\int\\limits_{0}^{x_{i}} \\frac{a y^{1 + \\frac{1}{a}}}{a^{2} y^{2} - 2 a^{2} y + a^{2} + 2 a y - 2 a + 1}\\, dy + \\int\\limits_{0}^{x_{i}} \\frac{y y^{\\frac{1}{a}}}{a^{2} y^{2} - 2 a^{2} y + a^{2} + 2 a y - 2 a + 1}\\, dy + \\int\\limits_{0}^{x_{i}} \\left(- \\frac{2 a y y^{\\frac{1}{a}}}{a^{2} y^{2} - 2 a^{2} y + a^{2} + 2 a y - 2 a + 1}\\right)\\, dy + \\int\\limits_{0}^{x_{i}} \\frac{a y^{2} y^{\\frac{1}{a}}}{a^{2} y^{2} - 2 a^{2} y + a^{2} + 2 a y - 2 a + 1}\\, dy\\right)$"
      ],
      "text/plain": [
       "-v_i*(Integral(-y**(1/a)/(a**2*y**2 - 2*a**2*y + a**2 + 2*a*y - 2*a + 1), (y, 0, x_i)) + Integral(a*y**(1/a)/(a**2*y**2 - 2*a**2*y + a**2 + 2*a*y - 2*a + 1), (y, 0, x_i)) + Integral(a*y**(1 + 1/a)/(a**2*y**2 - 2*a**2*y + a**2 + 2*a*y - 2*a + 1), (y, 0, x_i)) + Integral(y*y**(1/a)/(a**2*y**2 - 2*a**2*y + a**2 + 2*a*y - 2*a + 1), (y, 0, x_i)) + Integral(-2*a*y*y**(1/a)/(a**2*y**2 - 2*a**2*y + a**2 + 2*a*y - 2*a + 1), (y, 0, x_i)) + Integral(a*y**2*y**(1/a)/(a**2*y**2 - 2*a**2*y + a**2 + 2*a*y - 2*a + 1), (y, 0, x_i)))"
      ]
     },
     "execution_count": 204,
     "metadata": {},
     "output_type": "execute_result"
    }
   ],
   "source": [
    "t1 = -vi*xi*a*(xi**(1/a) *(1-xi)) / (a-a*xi-1)\n",
    "t2 = sp.integrate(-vi*y*(sp.simplify(integrand)), (y, 0, xi))\n",
    "t2"
   ]
  },
  {
   "cell_type": "code",
   "execution_count": 205,
   "metadata": {},
   "outputs": [
    {
     "data": {
      "text/latex": [
       "$\\displaystyle - \\frac{a v_{i} x_{i} x_{i}^{\\frac{1}{a}} \\left(1 - x_{i}\\right)}{- a x_{i} + a - 1} + v_{i} \\left(\\int\\limits_{0}^{x_{i}} \\left(- \\frac{y^{\\frac{1}{a}}}{a^{2} y^{2} - 2 a^{2} y + a^{2} + 2 a y - 2 a + 1}\\right)\\, dy + \\int\\limits_{0}^{x_{i}} \\frac{a y^{\\frac{1}{a}}}{a^{2} y^{2} - 2 a^{2} y + a^{2} + 2 a y - 2 a + 1}\\, dy + \\int\\limits_{0}^{x_{i}} \\frac{a y^{1 + \\frac{1}{a}}}{a^{2} y^{2} - 2 a^{2} y + a^{2} + 2 a y - 2 a + 1}\\, dy + \\int\\limits_{0}^{x_{i}} \\frac{y y^{\\frac{1}{a}}}{a^{2} y^{2} - 2 a^{2} y + a^{2} + 2 a y - 2 a + 1}\\, dy + \\int\\limits_{0}^{x_{i}} \\left(- \\frac{2 a y y^{\\frac{1}{a}}}{a^{2} y^{2} - 2 a^{2} y + a^{2} + 2 a y - 2 a + 1}\\right)\\, dy + \\int\\limits_{0}^{x_{i}} \\frac{a y^{2} y^{\\frac{1}{a}}}{a^{2} y^{2} - 2 a^{2} y + a^{2} + 2 a y - 2 a + 1}\\, dy\\right)$"
      ],
      "text/plain": [
       "-a*v_i*x_i*x_i**(1/a)*(1 - x_i)/(-a*x_i + a - 1) + v_i*(Integral(-y**(1/a)/(a**2*y**2 - 2*a**2*y + a**2 + 2*a*y - 2*a + 1), (y, 0, x_i)) + Integral(a*y**(1/a)/(a**2*y**2 - 2*a**2*y + a**2 + 2*a*y - 2*a + 1), (y, 0, x_i)) + Integral(a*y**(1 + 1/a)/(a**2*y**2 - 2*a**2*y + a**2 + 2*a*y - 2*a + 1), (y, 0, x_i)) + Integral(y*y**(1/a)/(a**2*y**2 - 2*a**2*y + a**2 + 2*a*y - 2*a + 1), (y, 0, x_i)) + Integral(-2*a*y*y**(1/a)/(a**2*y**2 - 2*a**2*y + a**2 + 2*a*y - 2*a + 1), (y, 0, x_i)) + Integral(a*y**2*y**(1/a)/(a**2*y**2 - 2*a**2*y + a**2 + 2*a*y - 2*a + 1), (y, 0, x_i)))"
      ]
     },
     "execution_count": 205,
     "metadata": {},
     "output_type": "execute_result"
    }
   ],
   "source": [
    "uhat = t1 - t2\n",
    "uhat"
   ]
  },
  {
   "cell_type": "code",
   "execution_count": 206,
   "metadata": {},
   "outputs": [
    {
     "data": {
      "text/latex": [
       "$\\displaystyle - \\frac{6.0 x_{i}^{1.33333333333333} \\cdot \\left(1.0 - x_{i}\\right)}{2.0 - 3.0 x_{i}} + 2.0 \\int\\limits_{0}^{x_{i}} \\left(- \\frac{y^{0.333333333333333}}{9.0 y^{2} - 12.0 y + 4.0}\\right)\\, dy + 2.0 \\int\\limits_{0}^{x_{i}} \\frac{3.0 y^{0.333333333333333}}{9.0 y^{2} - 12.0 y + 4.0}\\, dy + 2.0 \\int\\limits_{0}^{x_{i}} \\left(- \\frac{6.0 y^{1.33333333333333}}{9.0 y^{2} - 12.0 y + 4.0}\\right)\\, dy + 2.0 \\int\\limits_{0}^{x_{i}} \\frac{y^{1.33333333333333}}{9.0 y^{2} - 12.0 y + 4.0}\\, dy + 2.0 \\int\\limits_{0}^{x_{i}} \\frac{3.0 y^{1.33333333333333}}{9.0 y^{2} - 12.0 y + 4.0}\\, dy + 2.0 \\int\\limits_{0}^{x_{i}} \\frac{3.0 y^{2.33333333333333}}{9.0 y^{2} - 12.0 y + 4.0}\\, dy$"
      ],
      "text/plain": [
       "-6.0*x_i**1.33333333333333*(1.0 - x_i)/(2.0 - 3.0*x_i) + 2.0*Integral(-y**0.333333333333333/(9.0*y**2 - 12.0*y + 4.0), (y, 0, x_i)) + 2.0*Integral(3.0*y**0.333333333333333/(9.0*y**2 - 12.0*y + 4.0), (y, 0, x_i)) + 2.0*Integral(-6.0*y**1.33333333333333/(9.0*y**2 - 12.0*y + 4.0), (y, 0, x_i)) + 2.0*Integral(y**1.33333333333333/(9.0*y**2 - 12.0*y + 4.0), (y, 0, x_i)) + 2.0*Integral(3.0*y**1.33333333333333/(9.0*y**2 - 12.0*y + 4.0), (y, 0, x_i)) + 2.0*Integral(3.0*y**2.33333333333333/(9.0*y**2 - 12.0*y + 4.0), (y, 0, x_i))"
      ]
     },
     "execution_count": 206,
     "metadata": {},
     "output_type": "execute_result"
    }
   ],
   "source": [
    "# two player, v1=4, v2=2, a=3\n",
    "uhat1 = uhat.evalf(subs={a:2.9999999999999999, vi:4})\n",
    "uhat2 = uhat.evalf(subs={a:2.9999999999999999, vi:2})\n",
    "uhat2"
   ]
  },
  {
   "cell_type": "code",
   "execution_count": 207,
   "metadata": {},
   "outputs": [
    {
     "data": {
      "text/latex": [
       "$\\displaystyle -3.46106416126206$"
      ],
      "text/plain": [
       "-3.46106416126206"
      ]
     },
     "execution_count": 207,
     "metadata": {},
     "output_type": "execute_result"
    }
   ],
   "source": [
    "testX = 0.4\n",
    "sumhats = uhat1.evalf(subs={xi:testX}) + uhat2.evalf(subs={xi:1-testX})\n",
    "sumhats"
   ]
  },
  {
   "cell_type": "code",
   "execution_count": 182,
   "metadata": {},
   "outputs": [
    {
     "name": "stderr",
     "output_type": "stream",
     "text": [
      "100%|██████████| 21/21 [00:55<00:00,  2.65s/it]\n"
     ]
    }
   ],
   "source": [
    "res = []\n",
    "candidates = np.arange(0.43, 0.432, 0.0001)\n",
    "for testX in tqdm(candidates):\n",
    "    res.append(uhat1.evalf(subs={xi:testX}) + uhat2.evalf(subs={xi:1-testX}))\n",
    "res = np.array(res)"
   ]
  },
  {
   "cell_type": "code",
   "execution_count": 183,
   "metadata": {},
   "outputs": [
    {
     "data": {
      "text/plain": [
       "(array([-3.41183194590359, -3.41182188158227, -3.41181268686075,\n",
       "        -3.41180436062831, -3.41179690177839, -3.41179030920866,\n",
       "        -3.41178458182091, -3.41177971852111, -3.41177571821933,\n",
       "        -3.41177257982977, -3.41177030227075, -3.41176888446464,\n",
       "        -3.41176832533790, -3.41176862382105, -3.41176977884862,\n",
       "        -3.41177178935919, -3.41177465429535, -3.41177837260366,\n",
       "        -3.41178294323468, -3.41178836514293, -3.41179463728688],\n",
       "       dtype=object),\n",
       " 0.43119999999999986)"
      ]
     },
     "execution_count": 183,
     "metadata": {},
     "output_type": "execute_result"
    }
   ],
   "source": [
    "res, candidates[np.argmax(res)]"
   ]
  },
  {
   "cell_type": "code",
   "execution_count": 185,
   "metadata": {},
   "outputs": [
    {
     "data": {
      "text/plain": [
       "[<matplotlib.lines.Line2D at 0x12737e4f0>]"
      ]
     },
     "execution_count": 185,
     "metadata": {},
     "output_type": "execute_result"
    },
    {
     "data": {
      "image/png": "[encoded data removed]",
      "text/plain": [
       "<Figure size 432x288 with 1 Axes>"
      ]
     },
     "metadata": {
      "needs_background": "light"
     },
     "output_type": "display_data"
    }
   ],
   "source": [
    "plt.plot(candidates, res)"
   ]
  },
  {
   "cell_type": "markdown",
   "metadata": {},
   "source": [
    "# potential with diff eval"
   ]
  },
  {
   "cell_type": "code",
   "execution_count": 248,
   "metadata": {},
   "outputs": [],
   "source": [
    "test  = sp.simplify(-vi*y*integrand)\n",
    "test2 = -vi * y**(1/a) * (a*y**2 - a*y + y + a - 1) / ((a*y-a+1)**2)"
   ]
  },
  {
   "cell_type": "code",
   "execution_count": 249,
   "metadata": {},
   "outputs": [
    {
     "data": {
      "text/plain": [
       "(-0.796713039901842*v_i, -0.796713039901842*v_i)"
      ]
     },
     "execution_count": 249,
     "metadata": {},
     "output_type": "execute_result"
    }
   ],
   "source": [
    "testA, testY = 5, 0.43123\n",
    "test.evalf(subs={a:testA, y:testY}), test2.evalf(subs={a:testA, y:testY})"
   ]
  },
  {
   "cell_type": "code",
   "execution_count": 250,
   "metadata": {},
   "outputs": [
    {
     "data": {
      "text/latex": [
       "$\\displaystyle - \\frac{v_{i} y^{\\frac{1}{a}} \\left(a y^{2} - a y + a + y - 1\\right)}{\\left(a y - a + 1\\right)^{2}}$"
      ],
      "text/plain": [
       "-v_i*y**(1/a)*(a*y**2 - a*y + a + y - 1)/(a*y - a + 1)**2"
      ]
     },
     "execution_count": 250,
     "metadata": {},
     "output_type": "execute_result"
    }
   ],
   "source": [
    "-vi * y**(1/a) * (a*y**2 - a*y + y + a - 1) / ((a*y-a+1)**2)"
   ]
  },
  {
   "cell_type": "code",
   "execution_count": 253,
   "metadata": {},
   "outputs": [],
   "source": [
    "t2 = sp.integrate(-vi * y**(1/a) * (a*y**2 - a*y + y + a - 1) / ((a*y-a+1)**2), (y, 0, xi))"
   ]
  },
  {
   "cell_type": "code",
   "execution_count": 254,
   "metadata": {},
   "outputs": [
    {
     "data": {
      "text/latex": [
       "$\\displaystyle - 1.13787294825801 v_{i}$"
      ],
      "text/plain": [
       "-1.13787294825801*v_i"
      ]
     },
     "execution_count": 254,
     "metadata": {},
     "output_type": "execute_result"
    }
   ],
   "source": [
    "t2.evalf(subs={a:3, xi:0.56})"
   ]
  },
  {
   "cell_type": "code",
   "execution_count": 256,
   "metadata": {},
   "outputs": [],
   "source": [
    "t1 = -vi*xi*a*(xi**(1/a) *(1-xi)) / (a-a*xi-1)\n",
    "uhat = t1 - t2"
   ]
  },
  {
   "cell_type": "code",
   "execution_count": 257,
   "metadata": {},
   "outputs": [
    {
     "data": {
      "text/latex": [
       "$\\displaystyle - 0.766160860253549 v_{i}$"
      ],
      "text/plain": [
       "-0.766160860253549*v_i"
      ]
     },
     "execution_count": 257,
     "metadata": {},
     "output_type": "execute_result"
    }
   ],
   "source": [
    "uhat.evalf(subs={a:3, xi:0.56})"
   ]
  },
  {
   "cell_type": "code",
   "execution_count": 258,
   "metadata": {},
   "outputs": [
    {
     "data": {
      "text/latex": [
       "$\\displaystyle - \\frac{6.0 x_{i}^{1.33333333333333} \\cdot \\left(1.0 - x_{i}\\right)}{2.0 - 3.0 x_{i}} + \\frac{28.575344370216 x_{i}^{1.33333333333333} \\Phi\\left(\\frac{3 x_{i}}{2}, 1, \\frac{4}{3}\\right)}{128.589049665972 x_{i} - 85.7260331106479} - \\frac{85.7260331106479 x_{i}^{1.33333333333333}}{128.589049665972 x_{i} - 85.7260331106479} - \\frac{266.703214122016 x_{i}^{2.33333333333333} \\Phi\\left(\\frac{3 x_{i}}{2}, 1, \\frac{7}{3}\\right)}{300.041115887268 x_{i} - 200.027410591512} + \\frac{200.027410591512 x_{i}^{2.33333333333333}}{300.041115887268 x_{i} - 200.027410591512} - \\frac{42.863016555324 x_{i}^{2.33333333333333} \\Phi\\left(\\frac{3 x_{i}}{2}, 1, \\frac{4}{3}\\right)}{128.589049665972 x_{i} - 85.7260331106479} + \\frac{2333.65312356764 x_{i}^{3.33333333333333} \\Phi\\left(\\frac{3 x_{i}}{2}, 1, \\frac{10}{3}\\right)}{1000.13705295756 x_{i} - 666.758035305039} - \\frac{1000.13705295756 x_{i}^{3.33333333333333}}{1000.13705295756 x_{i} - 666.758035305039} + \\frac{400.054821183024 x_{i}^{3.33333333333333} \\Phi\\left(\\frac{3 x_{i}}{2}, 1, \\frac{7}{3}\\right)}{300.041115887268 x_{i} - 200.027410591512} - \\frac{3500.47968535146 x_{i}^{4.33333333333333} \\Phi\\left(\\frac{3 x_{i}}{2}, 1, \\frac{10}{3}\\right)}{1000.13705295756 x_{i} - 666.758035305039}$"
      ],
      "text/plain": [
       "-6.0*x_i**1.33333333333333*(1.0 - x_i)/(2.0 - 3.0*x_i) + 28.575344370216*x_i**1.33333333333333*lerchphi(3*x_i/2, 1, 4/3)/(128.589049665972*x_i - 85.7260331106479) - 85.7260331106479*x_i**1.33333333333333/(128.589049665972*x_i - 85.7260331106479) - 266.703214122016*x_i**2.33333333333333*lerchphi(3*x_i/2, 1, 7/3)/(300.041115887268*x_i - 200.027410591512) + 200.027410591512*x_i**2.33333333333333/(300.041115887268*x_i - 200.027410591512) - 42.863016555324*x_i**2.33333333333333*lerchphi(3*x_i/2, 1, 4/3)/(128.589049665972*x_i - 85.7260331106479) + 2333.65312356764*x_i**3.33333333333333*lerchphi(3*x_i/2, 1, 10/3)/(1000.13705295756*x_i - 666.758035305039) - 1000.13705295756*x_i**3.33333333333333/(1000.13705295756*x_i - 666.758035305039) + 400.054821183024*x_i**3.33333333333333*lerchphi(3*x_i/2, 1, 7/3)/(300.041115887268*x_i - 200.027410591512) - 3500.47968535146*x_i**4.33333333333333*lerchphi(3*x_i/2, 1, 10/3)/(1000.13705295756*x_i - 666.758035305039)"
      ]
     },
     "execution_count": 258,
     "metadata": {},
     "output_type": "execute_result"
    }
   ],
   "source": [
    "# two player, v1=4, v2=2, a=3\n",
    "uhat1 = uhat.evalf(subs={a:3, vi:4})\n",
    "uhat2 = uhat.evalf(subs={a:3, vi:2})\n",
    "uhat2"
   ]
  },
  {
   "cell_type": "code",
   "execution_count": 361,
   "metadata": {},
   "outputs": [
    {
     "data": {
      "text/plain": [
       "(-1.83309029149437, -1.57886871821790)"
      ]
     },
     "execution_count": 361,
     "metadata": {},
     "output_type": "execute_result"
    }
   ],
   "source": [
    "testX = 1/3+0.1\n",
    "uhat1.evalf(subs={xi:testX}), uhat2.evalf(subs={xi:1-testX})"
   ]
  },
  {
   "cell_type": "code",
   "execution_count": 311,
   "metadata": {},
   "outputs": [
    {
     "data": {
      "text/latex": [
       "$\\displaystyle -4.52047615741814$"
      ],
      "text/plain": [
       "-4.52047615741814"
      ]
     },
     "execution_count": 311,
     "metadata": {},
     "output_type": "execute_result"
    }
   ],
   "source": [
    "testX = 0.3\n",
    "sumhats = uhat1.evalf(subs={xi:testX}) + uhat2.evalf(subs={xi:1-testX})\n",
    "sumhats"
   ]
  },
  {
   "cell_type": "code",
   "execution_count": 286,
   "metadata": {},
   "outputs": [
    {
     "data": {
      "text/latex": [
       "$\\displaystyle -7.99876112798254 + 3.65924529378014 i$"
      ],
      "text/plain": [
       "-7.99876112798254 + 3.65924529378014*I"
      ]
     },
     "execution_count": 286,
     "metadata": {},
     "output_type": "execute_result"
    }
   ],
   "source": [
    "testX = 0.67\n",
    "sumhats = uhat1.evalf(subs={xi:testX}) + uhat2.evalf(subs={xi:1-testX})\n",
    "sumhats"
   ]
  },
  {
   "cell_type": "code",
   "execution_count": 312,
   "metadata": {},
   "outputs": [
    {
     "name": "stderr",
     "output_type": "stream",
     "text": [
      "100%|██████████| 32/32 [00:20<00:00,  1.59it/s]\n"
     ]
    },
    {
     "data": {
      "text/plain": [
       "(array([-4.52047615741814, -4.02952918536321, -3.80008654336344,\n",
       "        -3.66056870664201, -3.56780851280273, -3.50425724536941,\n",
       "        -3.46106416126206, -3.43316981363628, -3.41744073455220,\n",
       "        -3.41183194590358, -3.41496576770579, -3.42590212142793,\n",
       "        -3.44400586627457, -3.46886736331361, -3.50025441542787,\n",
       "        -3.53808413618646, -3.58240865908752, -3.63341163122551,\n",
       "        -3.69141439969404, -3.75689236189990, -3.83050356626602,\n",
       "        -3.91313377201888, -4.00596546461354, -4.11058396950261,\n",
       "        -4.22914424354833, -4.36464254265949, -4.52138093789138,\n",
       "        -4.70581387278327, -4.92822656825997, -5.20646849006365,\n",
       "        -5.57576905935352, -6.12258056851960], dtype=object),\n",
       " 0.4300000000000001)"
      ]
     },
     "execution_count": 312,
     "metadata": {},
     "output_type": "execute_result"
    }
   ],
   "source": [
    "res = []\n",
    "candidates = np.arange(0.34, 0.66, 0.01)\n",
    "for testX in tqdm(candidates):\n",
    "    res.append(uhat1.evalf(subs={xi:testX}) + uhat2.evalf(subs={xi:1-testX}))\n",
    "res = np.array(res)\n",
    "res, candidates[np.argmax(res)]"
   ]
  },
  {
   "cell_type": "code",
   "execution_count": 313,
   "metadata": {},
   "outputs": [
    {
     "data": {
      "text/plain": [
       "[<matplotlib.lines.Line2D at 0x128ff42b0>]"
      ]
     },
     "execution_count": 313,
     "metadata": {},
     "output_type": "execute_result"
    },
    {
     "data": {
      "image/png": "[encoded data removed]",
      "text/plain": [
       "<Figure size 432x288 with 1 Axes>"
      ]
     },
     "metadata": {
      "needs_background": "light"
     },
     "output_type": "display_data"
    }
   ],
   "source": [
    "plt.plot(candidates, res)"
   ]
  },
  {
   "cell_type": "code",
   "execution_count": 314,
   "metadata": {},
   "outputs": [
    {
     "name": "stderr",
     "output_type": "stream",
     "text": [
      "100%|██████████| 201/201 [02:11<00:00,  1.53it/s]\n"
     ]
    },
    {
     "data": {
      "text/plain": [
       "(array([-3.41744073455220, -3.41733730148383, -3.41723487344328,\n",
       "        -3.41713344880243, -3.41703302593951, -3.41693360323904,\n",
       "        -3.41683517909182, -3.41673775189489, -3.41664132005151,\n",
       "        -3.41654588197113, -3.41645143606937, -3.41635798076797,\n",
       "        -3.41626551449480, -3.41617403568381, -3.41608354277500,\n",
       "        -3.41599403421440, -3.41590550845406, -3.41581796395198,\n",
       "        -3.41573139917215, -3.41564581258446, -3.41556120266471,\n",
       "        -3.41547756789458, -3.41539490676159, -3.41531321775910,\n",
       "        -3.41523249938626, -3.41515275014801, -3.41507396855502,\n",
       "        -3.41499615312370, -3.41491930237616, -3.41484341484020,\n",
       "        -3.41476848904926, -3.41469452354241, -3.41462151686433,\n",
       "        -3.41454946756529, -3.41447837420110, -3.41440823533313,\n",
       "        -3.41433904952823, -3.41427081535878, -3.41420353140259,\n",
       "        -3.41413719624293, -3.41407180846849, -3.41400736667336,\n",
       "        -3.41394386945698, -3.41388131542418, -3.41381970318510,\n",
       "        -3.41375903135519, -3.41369929855518, -3.41364050341108,\n",
       "        -3.41358264455413, -3.41352572062079, -3.41346973025272,\n",
       "        -3.41341467209677, -3.41336054480494, -3.41330734703434,\n",
       "        -3.41325507744724, -3.41320373471097, -3.41315331749794,\n",
       "        -3.41310382448561, -3.41305525435648, -3.41300760579805,\n",
       "        -3.41296087750282, -3.41291506816825, -3.41287017649675,\n",
       "        -3.41282620119567, -3.41278314097725, -3.41274099455865,\n",
       "        -3.41269976066186, -3.41265943801377, -3.41262002534605,\n",
       "        -3.41258152139522, -3.41254392490256, -3.41250723461416,\n",
       "        -3.41247144928083, -3.41243656765814, -3.41240258850635,\n",
       "        -3.41236951059045, -3.41233733268007, -3.41230605354954,\n",
       "        -3.41227567197780, -3.41224618674844, -3.41221759664962,\n",
       "        -3.41218990047412, -3.41216309701927, -3.41213718508696,\n",
       "        -3.41211216348361, -3.41208803102016, -3.41206478651202,\n",
       "        -3.41204242877913, -3.41202095664584, -3.41200036894098,\n",
       "        -3.41198066449779, -3.41196184215393, -3.41194390075146,\n",
       "        -3.41192683913678, -3.41191065616070, -3.41189535067834,\n",
       "        -3.41188092154914, -3.41186736763688, -3.41185468780960,\n",
       "        -3.41184288093964, -3.41183194590359, -3.41182188158227,\n",
       "        -3.41181268686075, -3.41180436062831, -3.41179690177839,\n",
       "        -3.41179030920866, -3.41178458182091, -3.41177971852111,\n",
       "        -3.41177571821933, -3.41177257982977, -3.41177030227075,\n",
       "        -3.41176888446464, -3.41176832533790, -3.41176862382105,\n",
       "        -3.41176977884862, -3.41177178935919, -3.41177465429535,\n",
       "        -3.41177837260366, -3.41178294323468, -3.41178836514293,\n",
       "        -3.41179463728688, -3.41180175862892, -3.41180972813537,\n",
       "        -3.41181854477646, -3.41182820752631, -3.41183871536291,\n",
       "        -3.41185006726812, -3.41186226222764, -3.41187529923101,\n",
       "        -3.41188917727159, -3.41190389534653, -3.41191945245680,\n",
       "        -3.41193584760713, -3.41195307980602, -3.41197114806571,\n",
       "        -3.41199005140219, -3.41200978883517, -3.41203035938806,\n",
       "        -3.41205176208799, -3.41207399596575, -3.41209706005581,\n",
       "        -3.41212095339630, -3.41214567502898, -3.41217122399925,\n",
       "        -3.41219759935612, -3.41222480015223, -3.41225282544377,\n",
       "        -3.41228167429055, -3.41231134575592, -3.41234183890678,\n",
       "        -3.41237315281359, -3.41240528655034, -3.41243823919451,\n",
       "        -3.41247200982710, -3.41250659753261, -3.41254200139899,\n",
       "        -3.41257822051769, -3.41261525398360, -3.41265310089503,\n",
       "        -3.41269176035377, -3.41273123146498, -3.41277151333725,\n",
       "        -3.41281260508256, -3.41285450581627, -3.41289721465711,\n",
       "        -3.41294073072719, -3.41298505315193, -3.41303018106011,\n",
       "        -3.41307611358384, -3.41312284985852, -3.41317038902288,\n",
       "        -3.41321873021891, -3.41326787259190, -3.41331781529041,\n",
       "        -3.41336855746624, -3.41342009827445, -3.41347243687332,\n",
       "        -3.41352557242437, -3.41357950409233, -3.41363423104512,\n",
       "        -3.41368975245386, -3.41374606749284, -3.41380317533954,\n",
       "        -3.41386107517458, -3.41391976618175, -3.41397924754794,\n",
       "        -3.41403951846320, -3.41410057812069, -3.41416242571666,\n",
       "        -3.41422506045049, -3.41428848152461, -3.41435268814454,\n",
       "        -3.41441767951887, -3.41448345485924, -3.41455001338034,\n",
       "        -3.41461735429989, -3.41468547683863, -3.41475438022033,\n",
       "        -3.41482406367175, -3.41489452642265, -3.41496576770579],\n",
       "       dtype=object),\n",
       " 0.43119999999999875)"
      ]
     },
     "execution_count": 314,
     "metadata": {},
     "output_type": "execute_result"
    }
   ],
   "source": [
    "res1 = []\n",
    "candidates1 = np.arange(0.42, 0.44, 0.0001)\n",
    "for testX in tqdm(candidates1):\n",
    "    res1.append(uhat1.evalf(subs={xi:testX}) + uhat2.evalf(subs={xi:1-testX}))\n",
    "res1 = np.array(res1)\n",
    "res1, candidates1[np.argmax(res1)]"
   ]
  },
  {
   "cell_type": "code",
   "execution_count": 318,
   "metadata": {},
   "outputs": [
    {
     "data": {
      "text/plain": [
       "[<matplotlib.lines.Line2D at 0x129250b20>]"
      ]
     },
     "execution_count": 318,
     "metadata": {},
     "output_type": "execute_result"
    },
    {
     "data": {
      "image/png": "[encoded data removed]",
      "text/plain": [
       "<Figure size 432x288 with 1 Axes>"
      ]
     },
     "metadata": {
      "needs_background": "light"
     },
     "output_type": "display_data"
    }
   ],
   "source": [
    "plt.plot(candidates1, res1)"
   ]
  },
  {
   "cell_type": "code",
   "execution_count": 349,
   "metadata": {},
   "outputs": [
    {
     "data": {
      "image/png": "[encoded data removed]",
      "text/plain": [
       "<Figure size 648x432 with 1 Axes>"
      ]
     },
     "metadata": {
      "needs_background": "light"
     },
     "output_type": "display_data"
    }
   ],
   "source": [
    "f, ax = plt.subplots(figsize=(9,6))\n",
    "\n",
    "x1, x2, y1, y2 = 0.42, 0.44, -3.416, -3.411\n",
    "axins = ax.inset_axes(\n",
    "    [1.1, 0.35, 0.47, 0.47],\n",
    "    xlim=(x1, x2), ylim=(y1, y2))\n",
    "\n",
    "ax.indicate_inset_zoom(axins, edgecolor=\"black\", label=None, alpha=0.25)\n",
    "axins.plot(candidates1, res1, linewidth=3, alpha=0.7, color='darkred')\n",
    "ax.plot(candidates, res, linewidth=3, alpha=0.7, color='darkred')\n",
    "ax.grid(alpha=0.3)\n",
    "ax.set_xlabel('$x_1$', size=16)\n",
    "ax.set_ylabel(r'$\\hat{U}_1(x_1) + \\hat{U}_2(x_2)$', size=16)\n",
    "ax.set_xlim(0.33, 0.67)\n",
    "ax.set_ylim(-6.2, -3.3)\n",
    "maxX, maxXVal = [candidates1[np.argmax(res1)]], [np.max(res1)]\n",
    "axins.plot(maxX, maxXVal, marker='o',\n",
    "           markersize=10, color='goldenrod', label='({:.4f},{:.2f})'.format(maxX[0], maxXVal[0]))\n",
    "axins.legend(loc=4)\n",
    "\n",
    "plt.savefig('out.png', dpi=400, bbox_inches='tight', facecolor='white')\n",
    "plt.show()"
   ]
  },
  {
   "cell_type": "code",
   "execution_count": 345,
   "metadata": {},
   "outputs": [
    {
     "data": {
      "text/plain": [
       "[0.43119999999999875]"
      ]
     },
     "execution_count": 345,
     "metadata": {},
     "output_type": "execute_result"
    }
   ],
   "source": [
    "maxX"
   ]
  },
  {
   "cell_type": "code",
   "execution_count": null,
   "metadata": {},
   "outputs": [],
   "source": []
  }
 ],
 "metadata": {
  "kernelspec": {
   "display_name": "Python 3",
   "language": "python",
   "name": "python3"
  },
  "language_info": {
   "codemirror_mode": {
    "name": "ipython",
    "version": 3
   },
   "file_extension": ".py",
   "mimetype": "text/x-python",
   "name": "python",
   "nbconvert_exporter": "python",
   "pygments_lexer": "ipython3",
   "version": "3.8.16"
  }
 },
 "nbformat": 4,
 "nbformat_minor": 4
}
