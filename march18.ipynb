{
 "cells": [
  {
   "cell_type": "code",
   "execution_count": 76,
   "metadata": {},
   "outputs": [],
   "source": [
    "import matplotlib.pyplot as plt\n",
    "import matplotlib as mpl\n",
    "import matplotlib.patches as mpatches\n",
    "import numpy as np\n",
    "import pandas as pd\n",
    "import cvxpy as cp\n",
    "from scipy.stats import poisson, uniform, expon, pareto\n",
    "from scipy.optimize import minimize, fsolve\n",
    "import scipy.optimize as opt\n",
    "import scipy.integrate as integrate\n",
    "from tqdm import tqdm\n",
    "from mdptoolbox import mdp, util\n",
    "import itertools\n",
    "from scipy.sparse import csr_matrix, lil_matrix\n",
    "from matplotlib.patches import Patch\n",
    "import math\n",
    "import random\n",
    "import sympy as sp\n",
    "from sympy.printing.latex import print_latex\n",
    "from scipy.optimize import least_squares"
   ]
  },
  {
   "cell_type": "markdown",
   "metadata": {},
   "source": [
    "# tullock"
   ]
  },
  {
   "cell_type": "code",
   "execution_count": 67,
   "metadata": {},
   "outputs": [],
   "source": [
    "n = 2"
   ]
  },
  {
   "cell_type": "code",
   "execution_count": 68,
   "metadata": {},
   "outputs": [],
   "source": [
    "bs = [sp.Symbol('b{}'.format(i), positive=True, real=True) for i in range(n)]\n",
    "vs = [sp.Symbol('v{}'.format(i), positive=True, real=True) for i in range(n)]\n",
    "\n",
    "den = sum(bs)\n",
    "xs  = [b/den for b in bs]\n",
    "us  = [xs[i]*vs[i] - bs[i] for i in range(n)] "
   ]
  },
  {
   "cell_type": "code",
   "execution_count": 69,
   "metadata": {},
   "outputs": [
    {
     "data": {
      "text/latex": [
       "$\\displaystyle \\frac{b_{0} v_{0}}{b_{0} + b_{1}} - b_{0}$"
      ],
      "text/plain": [
       "b0*v0/(b0 + b1) - b0"
      ]
     },
     "execution_count": 69,
     "metadata": {},
     "output_type": "execute_result"
    }
   ],
   "source": [
    "us[0]"
   ]
  },
  {
   "cell_type": "code",
   "execution_count": 70,
   "metadata": {},
   "outputs": [
    {
     "data": {
      "text/latex": [
       "$\\displaystyle - \\frac{b_{0} v_{0}}{\\left(b_{0} + b_{1}\\right)^{2}} + \\frac{v_{0}}{b_{0} + b_{1}} - 1 = 0$"
      ],
      "text/plain": [
       "Eq(-b0*v0/(b0 + b1)**2 + v0/(b0 + b1) - 1, 0)"
      ]
     },
     "execution_count": 70,
     "metadata": {},
     "output_type": "execute_result"
    }
   ],
   "source": [
    "focs = [sp.Eq(sp.diff(us[i], bs[i]),0) for i in range(n)]\n",
    "focs[0]"
   ]
  },
  {
   "cell_type": "code",
   "execution_count": 71,
   "metadata": {},
   "outputs": [
    {
     "data": {
      "text/latex": [
       "$\\displaystyle - \\frac{b_{1} v_{1}}{\\left(b_{0} + b_{1}\\right)^{2}} + \\frac{v_{1}}{b_{0} + b_{1}} - 1 = 0$"
      ],
      "text/plain": [
       "Eq(-b1*v1/(b0 + b1)**2 + v1/(b0 + b1) - 1, 0)"
      ]
     },
     "execution_count": 71,
     "metadata": {},
     "output_type": "execute_result"
    }
   ],
   "source": [
    "focs[1]"
   ]
  },
  {
   "cell_type": "code",
   "execution_count": 72,
   "metadata": {},
   "outputs": [],
   "source": [
    "solutions = sp.solve(focs, bs, dict=True)"
   ]
  },
  {
   "cell_type": "code",
   "execution_count": 73,
   "metadata": {},
   "outputs": [
    {
     "data": {
      "text/plain": [
       "{b0: v0*v1*(v0**2 + 2*v0*v1 + v1**2 - v1*sqrt(v0**2 + 2*v0*v1 + v1**2))/(v0**2 + 2*v0*v1 + v1**2)**(3/2),\n",
       " b1: v0*v1**2/(v0**2 + 2*v0*v1 + v1**2)}"
      ]
     },
     "execution_count": 73,
     "metadata": {},
     "output_type": "execute_result"
    }
   ],
   "source": [
    "solutions[0]"
   ]
  },
  {
   "cell_type": "code",
   "execution_count": 75,
   "metadata": {},
   "outputs": [
    {
     "data": {
      "text/latex": [
       "$\\displaystyle \\frac{v_{1}}{\\sqrt{v_{0}^{2} + 2 v_{0} v_{1} + v_{1}^{2}}}$"
      ],
      "text/plain": [
       "v1/sqrt(v0**2 + 2*v0*v1 + v1**2)"
      ]
     },
     "execution_count": 75,
     "metadata": {},
     "output_type": "execute_result"
    }
   ],
   "source": [
    "xhat = [x.subs(solutions[0]) for x in xs]\n",
    "sp.simplify(xhat[1])"
   ]
  },
  {
   "cell_type": "markdown",
   "metadata": {},
   "source": [
    "$$\n",
    "    x_0 = \\frac{v_0}{v_0+v_1}, \\quad x_1 = \\frac{v_1}{v_0+v_1}\n",
    "$$"
   ]
  },
  {
   "cell_type": "code",
   "execution_count": 83,
   "metadata": {},
   "outputs": [
    {
     "data": {
      "text/plain": [
       "[3/7, 4/7]"
      ]
     },
     "execution_count": 83,
     "metadata": {},
     "output_type": "execute_result"
    }
   ],
   "source": [
    "[xhat[i].subs({vs[0]: 3, vs[1]: 4}) for i in range(n)]"
   ]
  },
  {
   "cell_type": "code",
   "execution_count": 100,
   "metadata": {},
   "outputs": [],
   "source": [
    "values = [3, 400]\n",
    "\n",
    "def U_i(x, i):\n",
    "    return values[i] * x\n",
    "\n",
    "def U_tilde(x):\n",
    "    \"\"\"\n",
    "    Compute the total modified utility:\n",
    "      sum_i [(1-x_i)*U_i(x_i) + \\int_0^{x_i} U_i(y) dy]\n",
    "    where x is a vector of allocations.\n",
    "    \"\"\"\n",
    "    total = 0\n",
    "    for i in range(n):\n",
    "        xi = x[i]\n",
    "        term1 = (1 - xi) * U_i(xi, i)\n",
    "        term2, err = integrate.quad(lambda y: U_i(y, i), 0, xi)\n",
    "        total += term1 + term2\n",
    "    return total\n",
    "\n",
    "def objective(x):\n",
    "    return -U_tilde(x)\n",
    "\n",
    "constraints = [{'type': 'eq', 'fun': lambda x: np.sum(x) - 1}]\n",
    "bounds = [(0, 1) for _ in range(n)]\n",
    "x0 = np.array([1.0/n] * n)\n",
    "\n",
    "result = opt.minimize(objective, x0, bounds=bounds, constraints=constraints)"
   ]
  },
  {
   "cell_type": "code",
   "execution_count": 101,
   "metadata": {},
   "outputs": [
    {
     "data": {
      "text/plain": [
       "(0.007444168734491315, 0.9925558312655087)"
      ]
     },
     "execution_count": 101,
     "metadata": {},
     "output_type": "execute_result"
    }
   ],
   "source": [
    "3/403, 400/403"
   ]
  },
  {
   "cell_type": "code",
   "execution_count": 102,
   "metadata": {},
   "outputs": [
    {
     "name": "stdout",
     "output_type": "stream",
     "text": [
      "Optimal allocations: [0.00744416 0.99255584]\n",
      "Maximized total modified utility: 200.0111662531017\n"
     ]
    }
   ],
   "source": [
    "# Print the results.\n",
    "print(\"Optimal allocations:\", result.x)\n",
    "print(\"Maximized total modified utility:\", -result.fun)"
   ]
  },
  {
   "cell_type": "code",
   "execution_count": 103,
   "metadata": {},
   "outputs": [
    {
     "data": {
      "text/plain": [
       "(0.022332493782350967, 397.0223341623532)"
      ]
     },
     "execution_count": 103,
     "metadata": {},
     "output_type": "execute_result"
    }
   ],
   "source": [
    "U_i(result.x[0], 0), U_i(result.x[1], 1)"
   ]
  }
 ],
 "metadata": {
  "kernelspec": {
   "display_name": "Python 3",
   "language": "python",
   "name": "python3"
  },
  "language_info": {
   "codemirror_mode": {
    "name": "ipython",
    "version": 3
   },
   "file_extension": ".py",
   "mimetype": "text/x-python",
   "name": "python",
   "nbconvert_exporter": "python",
   "pygments_lexer": "ipython3",
   "version": "3.8.16"
  }
 },
 "nbformat": 4,
 "nbformat_minor": 4
}
