{
 "cells": [
  {
   "cell_type": "code",
   "execution_count": 511,
   "metadata": {},
   "outputs": [],
   "source": [
    "import matplotlib.pyplot as plt\n",
    "import matplotlib as mpl\n",
    "import matplotlib.patches as mpatches\n",
    "import numpy as np\n",
    "import pandas as pd\n",
    "from scipy.stats import poisson, uniform, expon, pareto\n",
    "from scipy.optimize import minimize\n",
    "from tqdm import tqdm\n",
    "from mdptoolbox import mdp, util\n",
    "import itertools\n",
    "from scipy.sparse import csr_matrix, lil_matrix\n",
    "from matplotlib.patches import Patch\n",
    "import math\n",
    "import random\n",
    "import sympy as sp\n",
    "from sympy.printing.latex import print_latex"
   ]
  },
  {
   "cell_type": "code",
   "execution_count": 117,
   "metadata": {},
   "outputs": [],
   "source": [
    "# LFG\n",
    "c1, c2 = sp.symbols('c1 c2')\n",
    "v1, v2 = sp.symbols('v1 v2')\n",
    "a      = sp.symbols('alpha')\n",
    "\n",
    "x1 = 1/(c1**a) / (1/(c1**a) + 1/(c2**a))\n",
    "u1 = sp.simplify((c1-v1)*x1)\n",
    "x2 = 1/(c2**a) / (1/(c1**a) + 1/(c2**a))\n",
    "u2 = sp.simplify((c2-v2)*x2)"
   ]
  },
  {
   "cell_type": "code",
   "execution_count": 153,
   "metadata": {},
   "outputs": [
    {
     "data": {
      "text/latex": [
       "$\\displaystyle \\frac{c_{2}^{0.1} \\left(- 0.1 c_{1}^{0.1} \\left(c_{1} - 1.0\\right) + c_{1} \\left(c_{1}^{0.1} + c_{2}^{0.1}\\right)\\right)}{c_{1} \\left(c_{1}^{0.1} + c_{2}^{0.1}\\right)^{2}}$"
      ],
      "text/plain": [
       "c2**0.1*(-0.1*c1**0.1*(c1 - 1.0) + c1*(c1**0.1 + c2**0.1))/(c1*(c1**0.1 + c2**0.1)**2)"
      ]
     },
     "execution_count": 153,
     "metadata": {},
     "output_type": "execute_result"
    }
   ],
   "source": [
    "foc1 = sp.simplify(sp.diff(u1, c1)).evalf(subs={a:0.1, v1:1})\n",
    "foc2 = sp.simplify(sp.diff(u2, c2)).evalf(subs={a:0.1, v2:1})\n",
    "foc1"
   ]
  },
  {
   "cell_type": "code",
   "execution_count": 154,
   "metadata": {},
   "outputs": [
    {
     "data": {
      "text/latex": [
       "$\\displaystyle \\frac{c_{1}^{0.1} \\left(- 0.1 c_{2}^{0.1} \\left(c_{2} - 1.0\\right) + c_{2} \\left(c_{1}^{0.1} + c_{2}^{0.1}\\right)\\right)}{c_{2} \\left(c_{1}^{0.1} + c_{2}^{0.1}\\right)^{2}}$"
      ],
      "text/plain": [
       "c1**0.1*(-0.1*c2**0.1*(c2 - 1.0) + c2*(c1**0.1 + c2**0.1))/(c2*(c1**0.1 + c2**0.1)**2)"
      ]
     },
     "execution_count": 154,
     "metadata": {},
     "output_type": "execute_result"
    }
   ],
   "source": [
    "foc2"
   ]
  },
  {
   "cell_type": "code",
   "execution_count": 155,
   "metadata": {},
   "outputs": [
    {
     "name": "stdout",
     "output_type": "stream",
     "text": [
      "\\frac{c_{2}^{0.1} \\left(- 0.1 c_{1}^{0.1} \\left(c_{1} - 1.0\\right) + c_{1} \\left(c_{1}^{0.1} + c_{2}^{0.1}\\right)\\right)}{c_{1} \\left(c_{1}^{0.1} + c_{2}^{0.1}\\right)^{2}}\n"
     ]
    }
   ],
   "source": [
    "print_latex(foc1)"
   ]
  },
  {
   "cell_type": "code",
   "execution_count": null,
   "metadata": {
    "scrolled": true
   },
   "outputs": [],
   "source": [
    "sol = sp.solve((sp.Eq(foc1, 0), sp.Eq(foc2, 0)), (c1, c2), dict=True)"
   ]
  },
  {
   "cell_type": "code",
   "execution_count": null,
   "metadata": {},
   "outputs": [],
   "source": [
    "sol"
   ]
  },
  {
   "cell_type": "code",
   "execution_count": 179,
   "metadata": {},
   "outputs": [
    {
     "data": {
      "text/latex": [
       "$\\displaystyle \\frac{c_{2}^{\\alpha} c_{3}^{\\alpha} \\left(c_{1} - v_{1}\\right)}{c_{1}^{\\alpha} c_{2}^{\\alpha} + c_{1}^{\\alpha} c_{3}^{\\alpha} + c_{2}^{\\alpha} c_{3}^{\\alpha}}$"
      ],
      "text/plain": [
       "c2**alpha*c3**alpha*(c1 - v1)/(c1**alpha*c2**alpha + c1**alpha*c3**alpha + c2**alpha*c3**alpha)"
      ]
     },
     "execution_count": 179,
     "metadata": {},
     "output_type": "execute_result"
    }
   ],
   "source": [
    "# 3 player\n",
    "c1, c2, c3 = sp.symbols('c1 c2 c3')\n",
    "v1, v2, v3 = sp.symbols('v1 v2 v3')\n",
    "a      = sp.symbols('alpha')\n",
    "\n",
    "x1 = 1/(c1**a) / (1/(c1**a) + 1/(c2**a) + 1/(c3**a))\n",
    "x2 = 1/(c2**a) / (1/(c1**a) + 1/(c2**a) + 1/(c3**a))\n",
    "x3 = 1/(c3**a) / (1/(c1**a) + 1/(c2**a) + 1/(c3**a))\n",
    "u1 = sp.simplify((c1-v1)*x1)\n",
    "u2 = sp.simplify((c2-v2)*x2)\n",
    "u3 = sp.simplify((c3-v3)*x3)\n",
    "u1"
   ]
  },
  {
   "cell_type": "code",
   "execution_count": 212,
   "metadata": {},
   "outputs": [
    {
     "data": {
      "text/latex": [
       "$\\displaystyle \\frac{c_{2} c_{3} \\left(- c_{1} \\left(c_{1} - v_{1}\\right) \\left(c_{2} + c_{3}\\right) + c_{1} \\left(c_{1} c_{2} + c_{1} c_{3} + c_{2} c_{3}\\right)\\right)}{c_{1} \\left(c_{1} c_{2} + c_{1} c_{3} + c_{2} c_{3}\\right)^{2}} = 0$"
      ],
      "text/plain": [
       "Eq(c2*c3*(-c1*(c1 - v1)*(c2 + c3) + c1*(c1*c2 + c1*c3 + c2*c3))/(c1*(c1*c2 + c1*c3 + c2*c3)**2), 0)"
      ]
     },
     "execution_count": 212,
     "metadata": {},
     "output_type": "execute_result"
    }
   ],
   "source": [
    "foc1 = sp.Eq(sp.simplify(sp.diff(u1, c1)), 0)\n",
    "foc2 = sp.Eq(sp.simplify(sp.diff(u2, c2)), 0)\n",
    "foc3 = sp.Eq(sp.simplify(sp.diff(u3, c3)), 0)\n",
    "foc1 = foc1.evalf(subs={a:1})\n",
    "foc2 = foc2.evalf(subs={a:1})\n",
    "foc3 = foc3.evalf(subs={a:1})\n",
    "foc1"
   ]
  },
  {
   "cell_type": "code",
   "execution_count": 213,
   "metadata": {},
   "outputs": [],
   "source": [
    "sol = sp.solve((foc1, foc2, foc3), (c1, c2, c3), dict=True)"
   ]
  },
  {
   "cell_type": "code",
   "execution_count": 214,
   "metadata": {},
   "outputs": [
    {
     "name": "stdout",
     "output_type": "stream",
     "text": [
      "\\left[ \\left\\{ c_{1} : - \\frac{2 v_{1} v_{2} v_{3}}{v_{1} v_{2} + v_{1} v_{3} - v_{2} v_{3}}, \\  c_{2} : - \\frac{2 v_{1} v_{2} v_{3}}{v_{1} v_{2} - v_{1} v_{3} + v_{2} v_{3}}, \\  c_{3} : \\frac{2 v_{1} v_{2} v_{3}}{v_{1} v_{2} - v_{1} v_{3} - v_{2} v_{3}}\\right\\}\\right]\n"
     ]
    }
   ],
   "source": [
    "print_latex(sol)"
   ]
  },
  {
   "cell_type": "markdown",
   "metadata": {},
   "source": [
    "### MYERSONS"
   ]
  },
  {
   "cell_type": "code",
   "execution_count": 323,
   "metadata": {},
   "outputs": [],
   "source": [
    "## MYSERSONS, forward direction\n",
    "# prop allo\n",
    "b1, b2 = sp.symbols('b1 b2')\n",
    "v1, v2 = sp.symbols('v1 v2')\n",
    "x1, x2 = sp.symbols('x1 x2')\n",
    "z      = sp.symbols('z')"
   ]
  },
  {
   "cell_type": "code",
   "execution_count": 324,
   "metadata": {},
   "outputs": [
    {
     "data": {
      "text/latex": [
       "$\\displaystyle \\frac{b_{1} v_{1} + b_{2} \\left(b_{1} + b_{2}\\right) \\left(\\log{\\left(b_{2} \\right)} + 1\\right) - b_{2} \\left(b_{2} + \\left(b_{1} + b_{2}\\right) \\log{\\left(b_{1} + b_{2} \\right)}\\right)}{b_{1} + b_{2}}$"
      ],
      "text/plain": [
       "(b1*v1 + b2*(b1 + b2)*(log(b2) + 1) - b2*(b2 + (b1 + b2)*log(b1 + b2)))/(b1 + b2)"
      ]
     },
     "execution_count": 324,
     "metadata": {},
     "output_type": "execute_result"
    }
   ],
   "source": [
    "expr1 = z/(z+b2)\n",
    "diff1 = sp.diff(expr1, z)\n",
    "pay1 = sp.integrate(z*diff1, (z, 0, b1))\n",
    "utility1 = sp.simplify(v1*(b1/(b1+b2)) - pay1)\n",
    "utility1"
   ]
  },
  {
   "cell_type": "code",
   "execution_count": 325,
   "metadata": {},
   "outputs": [
    {
     "data": {
      "text/latex": [
       "$\\displaystyle \\frac{b_{1} \\left(b_{1} + b_{2}\\right) \\left(\\log{\\left(b_{1} \\right)} + 1\\right) - b_{1} \\left(b_{1} + \\left(b_{1} + b_{2}\\right) \\log{\\left(b_{1} + b_{2} \\right)}\\right) + b_{2} v_{2}}{b_{1} + b_{2}}$"
      ],
      "text/plain": [
       "(b1*(b1 + b2)*(log(b1) + 1) - b1*(b1 + (b1 + b2)*log(b1 + b2)) + b2*v2)/(b1 + b2)"
      ]
     },
     "execution_count": 325,
     "metadata": {},
     "output_type": "execute_result"
    }
   ],
   "source": [
    "expr2 = z/(z+b1)\n",
    "diff2 = sp.diff(expr2, z)\n",
    "pay2 = sp.integrate(z*diff2, (z, 0, b2))\n",
    "utility2 = sp.simplify(v2*(b2/(b1+b2)) - pay2)\n",
    "utility2"
   ]
  },
  {
   "cell_type": "code",
   "execution_count": 326,
   "metadata": {},
   "outputs": [
    {
     "data": {
      "text/plain": [
       "[{b1: v1, b2: v2}]"
      ]
     },
     "execution_count": 326,
     "metadata": {},
     "output_type": "execute_result"
    }
   ],
   "source": [
    "foc1 = sp.Eq(sp.diff(utility1, b1), 0)\n",
    "foc2 = sp.Eq(sp.diff(utility2, b2), 0)\n",
    "sol = sp.solve((foc1, foc2), (b1, b2), dict=True)\n",
    "sol"
   ]
  },
  {
   "cell_type": "code",
   "execution_count": 369,
   "metadata": {},
   "outputs": [],
   "source": [
    "## MYSERSONS, backward direction\n",
    "# prop allo\n",
    "c1, c2 = sp.symbols('c1 c2')\n",
    "cm     = sp.symbols('c_m')\n",
    "v1, v2 = sp.symbols('v1 v2')\n",
    "x1, x2 = sp.symbols('x1 x2')\n",
    "z      = sp.symbols('z')"
   ]
  },
  {
   "cell_type": "code",
   "execution_count": 370,
   "metadata": {},
   "outputs": [
    {
     "name": "stdout",
     "output_type": "stream",
     "text": [
      "c_{2} \\left(\\frac{c_{2}}{c_{1} + c_{2}} + \\log{\\left(c_{1} + c_{2} \\right)}\\right) - c_{2} \\left(\\frac{c_{2}}{c_{2} + c_{m}} + \\log{\\left(c_{2} + c_{m} \\right)}\\right) - \\frac{1}{\\frac{1}{c_{m}} + \\frac{1}{c_{2}}}\n"
     ]
    },
    {
     "data": {
      "text/latex": [
       "$\\displaystyle c_{2} \\left(\\frac{c_{2}}{c_{1} + c_{2}} + \\log{\\left(c_{1} + c_{2} \\right)}\\right) - c_{2} \\left(\\frac{c_{2}}{c_{2} + c_{m}} + \\log{\\left(c_{2} + c_{m} \\right)}\\right) - \\frac{1}{\\frac{1}{c_{m}} + \\frac{1}{c_{2}}}$"
      ],
      "text/plain": [
       "c2*(c2/(c1 + c2) + log(c1 + c2)) - c2*(c2/(c2 + c_m) + log(c2 + c_m)) - 1/(1/c_m + 1/c2)"
      ]
     },
     "execution_count": 370,
     "metadata": {},
     "output_type": "execute_result"
    }
   ],
   "source": [
    "expr1 = (1/z)/((1/z)+(1/c2))\n",
    "diff1 = sp.diff(expr1, z)\n",
    "pay1 = sp.integrate(z*sp.simplify(diff1), (z, c1, cm)) - 1/((1/cm) + (1/c2))\n",
    "print_latex(pay1)\n",
    "pay1"
   ]
  },
  {
   "cell_type": "code",
   "execution_count": 371,
   "metadata": {},
   "outputs": [
    {
     "name": "stdout",
     "output_type": "stream",
     "text": [
      "c_{1} \\left(\\frac{c_{1}}{c_{1} + c_{2}} + \\log{\\left(c_{1} + c_{2} \\right)}\\right) - c_{1} \\left(\\frac{c_{1}}{c_{1} + c_{m}} + \\log{\\left(c_{1} + c_{m} \\right)}\\right) - \\frac{1}{\\frac{1}{c_{m}} + \\frac{1}{c_{1}}}\n"
     ]
    },
    {
     "data": {
      "text/latex": [
       "$\\displaystyle c_{1} \\left(\\frac{c_{1}}{c_{1} + c_{2}} + \\log{\\left(c_{1} + c_{2} \\right)}\\right) - c_{1} \\left(\\frac{c_{1}}{c_{1} + c_{m}} + \\log{\\left(c_{1} + c_{m} \\right)}\\right) - \\frac{1}{\\frac{1}{c_{m}} + \\frac{1}{c_{1}}}$"
      ],
      "text/plain": [
       "c1*(c1/(c1 + c2) + log(c1 + c2)) - c1*(c1/(c1 + c_m) + log(c1 + c_m)) - 1/(1/c_m + 1/c1)"
      ]
     },
     "execution_count": 371,
     "metadata": {},
     "output_type": "execute_result"
    }
   ],
   "source": [
    "expr2 = (1/z)/((1/z)+(1/c1))\n",
    "diff2 = sp.diff(expr2, z)\n",
    "pay2 = sp.integrate(z*sp.simplify(diff2), (z, c2, cm)) - 1/((1/cm) + (1/c1))\n",
    "print_latex(pay2)\n",
    "pay2"
   ]
  },
  {
   "cell_type": "code",
   "execution_count": 374,
   "metadata": {},
   "outputs": [
    {
     "data": {
      "text/plain": [
       "[{c1: v1, c2: v2}]"
      ]
     },
     "execution_count": 374,
     "metadata": {},
     "output_type": "execute_result"
    }
   ],
   "source": [
    "# check utilities\n",
    "x1 = (1/c1) / ((1/c1)+(1/c2))\n",
    "x2 = (1/c2) / ((1/c1)+(1/c2))\n",
    "u1 = -pay1 - v1 * x1\n",
    "u2 = -pay2 - v2 * x2\n",
    "\n",
    "foc1 = sp.Eq(sp.diff(u1, c1), 0)\n",
    "foc2 = sp.Eq(sp.diff(u2, c2), 0)\n",
    "sol = sp.solve((foc1, foc2), (c1, c2), dict=True)\n",
    "sol"
   ]
  },
  {
   "cell_type": "code",
   "execution_count": 375,
   "metadata": {},
   "outputs": [
    {
     "data": {
      "text/latex": [
       "$\\displaystyle \\log{\\left(c_{1} + 1 \\right)} - 2.79175946922805 + \\frac{1}{c_{1} + 1.0}$"
      ],
      "text/plain": [
       "log(c1 + 1) - 2.79175946922805 + 1/(c1 + 1.0)"
      ]
     },
     "execution_count": 375,
     "metadata": {},
     "output_type": "execute_result"
    }
   ],
   "source": [
    "pay1.evalf(subs={cm:5, c2:1})"
   ]
  },
  {
   "cell_type": "code",
   "execution_count": 332,
   "metadata": {},
   "outputs": [
    {
     "data": {
      "text/latex": [
       "$\\displaystyle \\frac{1}{c_{1} \\cdot \\left(\\frac{1}{c_{2}} + \\frac{1}{c_{1}}\\right)}$"
      ],
      "text/plain": [
       "1/(c1*(1/c2 + 1/c1))"
      ]
     },
     "execution_count": 332,
     "metadata": {},
     "output_type": "execute_result"
    }
   ],
   "source": [
    "allo1 = (1/c1)/((1/c1)+(1/c2))\n",
    "allo1"
   ]
  },
  {
   "cell_type": "code",
   "execution_count": 376,
   "metadata": {},
   "outputs": [],
   "source": [
    "c1s = np.arange(0.001, 5, 0.001)\n",
    "payfunc = sp.lambdify((c1), pay1.evalf(subs={cm:8, c2:1}))\n",
    "allofunc = sp.lambdify((c1), allo1.evalf(subs={c2:1}))\n",
    "pays1 = payfunc(c1s)\n",
    "allos1 = allofunc(c1s)"
   ]
  },
  {
   "cell_type": "code",
   "execution_count": 377,
   "metadata": {},
   "outputs": [
    {
     "data": {
      "image/png": "[encoded data removed]",
      "text/plain": [
       "<Figure size 648x360 with 1 Axes>"
      ]
     },
     "metadata": {
      "needs_background": "light"
     },
     "output_type": "display_data"
    }
   ],
   "source": [
    "f, ax = plt.subplots(figsize=(9,5))\n",
    "\n",
    "ax.plot(c1s, pays1, color='brown', linewidth=2, alpha=0.7, label=r'$p_1$')\n",
    "ax.plot(c1s, allos1, color='darkviolet', linewidth=2, alpha=0.7, label=r'$x_1$')\n",
    "\n",
    "ax.legend(loc=4)\n",
    "ax.grid(alpha=0.3)\n",
    "ax.set_title(r'$c_2=1, c_m=8$', size=16)\n",
    "ax.set_xlabel(r'$c_1$', size=14)\n",
    "\n",
    "plt.show()"
   ]
  },
  {
   "cell_type": "code",
   "execution_count": 378,
   "metadata": {},
   "outputs": [
    {
     "data": {
      "text/latex": [
       "$\\displaystyle c_{2} \\left(\\frac{c_{2}}{c_{2} + 1.0} + \\log{\\left(c_{2} + 1 \\right)}\\right) - c_{2} \\left(\\frac{c_{2}}{c_{2} + 8.0} + \\log{\\left(c_{2} + 8 \\right)}\\right) - \\frac{1}{0.125 + \\frac{1}{c_{2}}}$"
      ],
      "text/plain": [
       "c2*(c2/(c2 + 1.0) + log(c2 + 1)) - c2*(c2/(c2 + 8.0) + log(c2 + 8)) - 1/(0.125 + 1/c2)"
      ]
     },
     "execution_count": 378,
     "metadata": {},
     "output_type": "execute_result"
    }
   ],
   "source": [
    "pay1.evalf(subs={c1:1,cm:8})"
   ]
  },
  {
   "cell_type": "code",
   "execution_count": 379,
   "metadata": {},
   "outputs": [
    {
     "data": {
      "text/latex": [
       "$\\displaystyle -2.00407739677627$"
      ],
      "text/plain": [
       "-2.00407739677627"
      ]
     },
     "execution_count": 379,
     "metadata": {},
     "output_type": "execute_result"
    }
   ],
   "source": [
    "pay1.evalf(subs={c1:1,c2:1,cm:8})"
   ]
  },
  {
   "cell_type": "code",
   "execution_count": 380,
   "metadata": {},
   "outputs": [],
   "source": [
    "c2s = [1, 2, 4]\n",
    "c1s = np.arange(0.001, 8, 0.001)\n",
    "payments, allos, payments2 = [], [], []\n",
    "for _c2 in c2s:\n",
    "    payfunc = sp.lambdify((c1), pay1.evalf(subs={cm:8, c2:_c2}))\n",
    "    allofunc = sp.lambdify((c1), allo1.evalf(subs={c2:_c2}))\n",
    "    pay2func = sp.lambdify((c1), pay2.evalf(subs={cm:8, c2:_c2}))\n",
    "    payments.append(payfunc(c1s))\n",
    "    allos.append(allofunc(c1s))\n",
    "    payments2.append(pay2func(c1s))\n",
    "payments = np.asarray(payments)\n",
    "allos = np.asarray(allos)\n",
    "payments2 = np.asarray(payments2)"
   ]
  },
  {
   "cell_type": "code",
   "execution_count": 381,
   "metadata": {},
   "outputs": [
    {
     "data": {
      "text/plain": [
       "((3, 7999), (3, 7999))"
      ]
     },
     "execution_count": 381,
     "metadata": {},
     "output_type": "execute_result"
    }
   ],
   "source": [
    "payments.shape, allos.shape"
   ]
  },
  {
   "cell_type": "code",
   "execution_count": 382,
   "metadata": {},
   "outputs": [
    {
     "data": {
      "image/png": "[encoded data removed]",
      "text/plain": [
       "<Figure size 936x288 with 3 Axes>"
      ]
     },
     "metadata": {
      "needs_background": "light"
     },
     "output_type": "display_data"
    }
   ],
   "source": [
    "f, axarr = plt.subplots(ncols=3, figsize=(13,4))\n",
    "\n",
    "for i in range(3):\n",
    "    axarr[i].plot(c1s, allos[i], color='darkviolet', linewidth=2, alpha=0.7, label=r'$x_1$')\n",
    "    axarr[i].plot(c1s, 1-allos[i], color='darkviolet', linewidth=2, alpha=0.7, label=r'$x_2$', \n",
    "                  linestyle='--')\n",
    "    axarr[i].plot(c1s, payments[i], color='brown', linewidth=2, alpha=0.7, label=r'$p_1$')\n",
    "    axarr[i].plot(c1s, payments2[i], color='brown', linewidth=2, alpha=0.7, label=r'$p_2$',\n",
    "                  linestyle='--')\n",
    "    \n",
    "for ax in axarr:\n",
    "    ax.legend(loc=4)\n",
    "    ax.grid(alpha=0.3)\n",
    "    ax.set_xlabel(r'$c_1$', size=14)\n",
    "\n",
    "axarr[0].set_title(r'$c_2=1, c_m=8$', size=16)\n",
    "axarr[1].set_title(r'$c_2=2, c_m=8$', size=16)\n",
    "axarr[2].set_title(r'$c_2=4, c_m=8$', size=16)\n",
    "plt.savefig('out.png', dpi=400, bbox_inches='tight', facecolor='white')\n",
    "\n",
    "plt.show()"
   ]
  },
  {
   "cell_type": "code",
   "execution_count": 383,
   "metadata": {},
   "outputs": [],
   "source": [
    "## MYSERSONS, backward direction \\alpha>1\n",
    "c1, c2 = sp.symbols('c1 c2')\n",
    "cm     = sp.symbols('c_m')\n",
    "v1, v2 = sp.symbols('v1 v2')\n",
    "x1, x2 = sp.symbols('x1 x2')\n",
    "z      = sp.symbols('z')\n",
    "a      = sp.symbols('alpha')"
   ]
  },
  {
   "cell_type": "code",
   "execution_count": 384,
   "metadata": {},
   "outputs": [
    {
     "name": "stdout",
     "output_type": "stream",
     "text": [
      "- \\alpha \\left(\\frac{1}{c_{2}}\\right)^{\\alpha} \\int\\limits_{c_{1}}^{c_{m}} \\frac{\\left(\\frac{1}{z}\\right)^{\\alpha}}{\\left(\\frac{1}{c_{2}}\\right)^{2 \\alpha} + 2 \\left(\\frac{1}{c_{2}}\\right)^{\\alpha} \\left(\\frac{1}{z}\\right)^{\\alpha} + \\left(\\frac{1}{z}\\right)^{2 \\alpha}}\\, dz - \\frac{1}{\\frac{1}{c_{m}} + \\frac{1}{c_{2}}}\n"
     ]
    },
    {
     "data": {
      "text/latex": [
       "$\\displaystyle - \\alpha \\left(\\frac{1}{c_{2}}\\right)^{\\alpha} \\int\\limits_{c_{1}}^{c_{m}} \\frac{\\left(\\frac{1}{z}\\right)^{\\alpha}}{\\left(\\frac{1}{c_{2}}\\right)^{2 \\alpha} + 2 \\left(\\frac{1}{c_{2}}\\right)^{\\alpha} \\left(\\frac{1}{z}\\right)^{\\alpha} + \\left(\\frac{1}{z}\\right)^{2 \\alpha}}\\, dz - \\frac{1}{\\frac{1}{c_{m}} + \\frac{1}{c_{2}}}$"
      ],
      "text/plain": [
       "-alpha*(1/c2)**alpha*Integral((1/z)**alpha/((1/c2)**(2*alpha) + 2*(1/c2)**alpha*(1/z)**alpha + (1/z)**(2*alpha)), (z, c1, c_m)) - 1/(1/c_m + 1/c2)"
      ]
     },
     "execution_count": 384,
     "metadata": {},
     "output_type": "execute_result"
    }
   ],
   "source": [
    "expr1 = (1/z)**a/((1/z)**a+(1/c2)**a)\n",
    "diff1 = sp.diff(expr1, z)\n",
    "pay1 = sp.integrate(z*sp.simplify(diff1), (z, c1, cm)) - 1/((1/cm) + (1/c2)) \n",
    "print_latex(pay1)\n",
    "pay1"
   ]
  },
  {
   "cell_type": "code",
   "execution_count": 385,
   "metadata": {},
   "outputs": [
    {
     "name": "stdout",
     "output_type": "stream",
     "text": [
      "- \\alpha \\left(\\frac{1}{c_{1}}\\right)^{\\alpha} \\int\\limits_{c_{2}}^{c_{m}} \\frac{\\left(\\frac{1}{z}\\right)^{\\alpha}}{\\left(\\frac{1}{c_{1}}\\right)^{2 \\alpha} + 2 \\left(\\frac{1}{c_{1}}\\right)^{\\alpha} \\left(\\frac{1}{z}\\right)^{\\alpha} + \\left(\\frac{1}{z}\\right)^{2 \\alpha}}\\, dz - \\frac{1}{\\frac{1}{c_{m}} + \\frac{1}{c_{1}}}\n"
     ]
    },
    {
     "data": {
      "text/latex": [
       "$\\displaystyle - \\alpha \\left(\\frac{1}{c_{1}}\\right)^{\\alpha} \\int\\limits_{c_{2}}^{c_{m}} \\frac{\\left(\\frac{1}{z}\\right)^{\\alpha}}{\\left(\\frac{1}{c_{1}}\\right)^{2 \\alpha} + 2 \\left(\\frac{1}{c_{1}}\\right)^{\\alpha} \\left(\\frac{1}{z}\\right)^{\\alpha} + \\left(\\frac{1}{z}\\right)^{2 \\alpha}}\\, dz - \\frac{1}{\\frac{1}{c_{m}} + \\frac{1}{c_{1}}}$"
      ],
      "text/plain": [
       "-alpha*(1/c1)**alpha*Integral((1/z)**alpha/((1/c1)**(2*alpha) + 2*(1/c1)**alpha*(1/z)**alpha + (1/z)**(2*alpha)), (z, c2, c_m)) - 1/(1/c_m + 1/c1)"
      ]
     },
     "execution_count": 385,
     "metadata": {},
     "output_type": "execute_result"
    }
   ],
   "source": [
    "expr2 = (1/z)**a/((1/z)**a+(1/c1)**a)\n",
    "diff2 = sp.diff(expr2, z)\n",
    "pay2 = sp.integrate(z*sp.simplify(diff2), (z, c2, cm)) - 1/((1/cm) + (1/c1))\n",
    "print_latex(pay2)\n",
    "pay2"
   ]
  },
  {
   "cell_type": "code",
   "execution_count": 386,
   "metadata": {},
   "outputs": [
    {
     "data": {
      "text/latex": [
       "$\\displaystyle \\frac{\\left(\\frac{1}{c_{1}}\\right)^{\\alpha}}{\\left(\\frac{1}{c_{1}}\\right)^{\\alpha} + \\left(\\frac{1}{c_{2}}\\right)^{\\alpha}}$"
      ],
      "text/plain": [
       "(1/c1)**alpha/((1/c1)**alpha + (1/c2)**alpha)"
      ]
     },
     "execution_count": 386,
     "metadata": {},
     "output_type": "execute_result"
    }
   ],
   "source": [
    "allo1 = (1/c1)**a/((1/c1)**a+(1/c2)**a)\n",
    "allo1"
   ]
  },
  {
   "cell_type": "code",
   "execution_count": 389,
   "metadata": {},
   "outputs": [
    {
     "data": {
      "text/latex": [
       "$\\displaystyle - \\frac{c_{2} \\left(c_{m} + \\left(c_{2} + c_{m}\\right) \\left(\\frac{c_{2}}{c_{2} + c_{m}} - \\frac{c_{2}}{c_{1} + c_{2}} - \\log{\\left(c_{1} + c_{2} \\right)} + \\log{\\left(c_{2} + c_{m} \\right)}\\right)\\right)}{c_{2} + c_{m}}$"
      ],
      "text/plain": [
       "-c2*(c_m + (c2 + c_m)*(c2/(c2 + c_m) - c2/(c1 + c2) - log(c1 + c2) + log(c2 + c_m)))/(c2 + c_m)"
      ]
     },
     "execution_count": 389,
     "metadata": {},
     "output_type": "execute_result"
    }
   ],
   "source": [
    "sp.simplify(pay1.evalf(subs={a:1}))"
   ]
  },
  {
   "cell_type": "code",
   "execution_count": 183,
   "metadata": {},
   "outputs": [],
   "source": [
    "c1s = np.arange(0.001, 5, 0.001)\n",
    "alpha=3\n",
    "payfunc = sp.lambdify((c1), sp.simplify(pay1.evalf(subs={cm:5, c2:1, a:alpha})))\n",
    "allofunc = sp.lambdify((c1), allo1.evalf(subs={c2:1, a:alpha}))\n",
    "pays1 = payfunc(c1s)\n",
    "allos1 = allofunc(c1s)"
   ]
  },
  {
   "cell_type": "code",
   "execution_count": 390,
   "metadata": {},
   "outputs": [],
   "source": [
    "alphas = [1, 2, 3]\n",
    "c1s = np.arange(0.001, 8, 0.001)\n",
    "payments, allos, payments2 = [], [], []\n",
    "for _alpha in alphas:\n",
    "    payfunc = sp.lambdify((c1), sp.simplify(pay1.evalf(subs={cm:8, c2:4, a:_alpha})))\n",
    "    allofunc = sp.lambdify((c1), allo1.evalf(subs={c2:4, a:_alpha}))\n",
    "    pay2func = sp.lambdify((c1), sp.simplify(pay2.evalf(subs={cm:8, c2:4, a:_alpha})))\n",
    "    payments.append(payfunc(c1s))\n",
    "    allos.append(allofunc(c1s))\n",
    "    payments2.append(pay2func(c1s))\n",
    "payments = np.asarray(payments)\n",
    "allos = np.asarray(allos)\n",
    "payments2 = np.asarray(payments2)"
   ]
  },
  {
   "cell_type": "code",
   "execution_count": 391,
   "metadata": {},
   "outputs": [
    {
     "data": {
      "text/plain": [
       "((3, 7999), (3, 7999))"
      ]
     },
     "execution_count": 391,
     "metadata": {},
     "output_type": "execute_result"
    }
   ],
   "source": [
    "payments.shape, allos.shape"
   ]
  },
  {
   "cell_type": "code",
   "execution_count": 393,
   "metadata": {},
   "outputs": [
    {
     "name": "stderr",
     "output_type": "stream",
     "text": [
      "/usr/local/lib/python3.8/site-packages/numpy/core/_asarray.py:83: ComplexWarning: Casting complex values to real discards the imaginary part\n",
      "  return array(a, dtype, copy=False, order=order)\n",
      "/usr/local/lib/python3.8/site-packages/numpy/core/_asarray.py:83: ComplexWarning: Casting complex values to real discards the imaginary part\n",
      "  return array(a, dtype, copy=False, order=order)\n",
      "/usr/local/lib/python3.8/site-packages/numpy/core/_asarray.py:83: ComplexWarning: Casting complex values to real discards the imaginary part\n",
      "  return array(a, dtype, copy=False, order=order)\n"
     ]
    },
    {
     "data": {
      "image/png": "[encoded data removed]",
      "text/plain": [
       "<Figure size 936x288 with 3 Axes>"
      ]
     },
     "metadata": {
      "needs_background": "light"
     },
     "output_type": "display_data"
    }
   ],
   "source": [
    "f, axarr = plt.subplots(ncols=3, figsize=(13,4))\n",
    "\n",
    "for i in range(3):\n",
    "    axarr[i].plot(c1s, allos[i], color='darkviolet', linewidth=2, alpha=0.7, label=r'$x_1$')\n",
    "    axarr[i].plot(c1s, 1-allos[i], color='darkviolet', linewidth=2, alpha=0.7, label=r'$x_2$', \n",
    "                  linestyle='--')\n",
    "    axarr[i].plot(c1s, payments[i], color='brown', linewidth=2, alpha=0.7, label=r'$p_1$')\n",
    "    axarr[i].plot(c1s, payments2[i], color='brown', linewidth=2, alpha=0.7, label=r'$p_2$',\n",
    "                  linestyle='--')\n",
    "    \n",
    "for ax in axarr:\n",
    "    ax.legend()\n",
    "    ax.grid(alpha=0.3)\n",
    "    ax.set_xlabel(r'$c_1$', size=14)\n",
    "\n",
    "axarr[0].set_title(r'$\\alpha=1, c_2=4, c_m=8$', size=16)\n",
    "axarr[1].set_title(r'$\\alpha=2, c_2=4, c_m=8$', size=16)\n",
    "axarr[2].set_title(r'$\\alpha=3, c_2=4, c_m=8$', size=16)\n",
    "plt.savefig('out.png', dpi=400, bbox_inches='tight', facecolor='white')\n",
    "\n",
    "plt.show()"
   ]
  },
  {
   "cell_type": "code",
   "execution_count": 196,
   "metadata": {},
   "outputs": [],
   "source": [
    "# bounding total payment, alpha=1"
   ]
  },
  {
   "cell_type": "code",
   "execution_count": 394,
   "metadata": {},
   "outputs": [],
   "source": [
    "c1, c2 = sp.symbols('c1 c2')\n",
    "cm     = sp.symbols('c_m')\n",
    "v1, v2 = sp.symbols('v1 v2')\n",
    "x1, x2 = sp.symbols('x1 x2')\n",
    "z      = sp.symbols('z')"
   ]
  },
  {
   "cell_type": "code",
   "execution_count": 395,
   "metadata": {},
   "outputs": [
    {
     "name": "stdout",
     "output_type": "stream",
     "text": [
      "c_{2} \\left(\\frac{c_{2}}{c_{1} + c_{2}} + \\log{\\left(c_{1} + c_{2} \\right)}\\right) - c_{2} \\left(\\frac{c_{2}}{c_{2} + c_{m}} + \\log{\\left(c_{2} + c_{m} \\right)}\\right) - \\frac{1}{\\frac{1}{c_{m}} + \\frac{1}{c_{2}}}\n"
     ]
    },
    {
     "data": {
      "text/latex": [
       "$\\displaystyle c_{2} \\left(\\frac{c_{2}}{c_{1} + c_{2}} + \\log{\\left(c_{1} + c_{2} \\right)}\\right) - c_{2} \\left(\\frac{c_{2}}{c_{2} + c_{m}} + \\log{\\left(c_{2} + c_{m} \\right)}\\right) - \\frac{1}{\\frac{1}{c_{m}} + \\frac{1}{c_{2}}}$"
      ],
      "text/plain": [
       "c2*(c2/(c1 + c2) + log(c1 + c2)) - c2*(c2/(c2 + c_m) + log(c2 + c_m)) - 1/(1/c_m + 1/c2)"
      ]
     },
     "execution_count": 395,
     "metadata": {},
     "output_type": "execute_result"
    }
   ],
   "source": [
    "expr1 = (1/z)/((1/z)+(1/c2))\n",
    "diff1 = sp.diff(expr1, z)\n",
    "pay1 = sp.integrate(z*sp.simplify(diff1), (z, c1, cm)) - 1/((1/cm) + (1/c2))\n",
    "print_latex(pay1)\n",
    "pay1"
   ]
  },
  {
   "cell_type": "code",
   "execution_count": 396,
   "metadata": {},
   "outputs": [
    {
     "name": "stdout",
     "output_type": "stream",
     "text": [
      "c_{1} \\left(\\frac{c_{1}}{c_{1} + c_{2}} + \\log{\\left(c_{1} + c_{2} \\right)}\\right) - c_{1} \\left(\\frac{c_{1}}{c_{1} + c_{m}} + \\log{\\left(c_{1} + c_{m} \\right)}\\right) - \\frac{1}{\\frac{1}{c_{m}} + \\frac{1}{c_{1}}}\n"
     ]
    },
    {
     "data": {
      "text/latex": [
       "$\\displaystyle c_{1} \\left(\\frac{c_{1}}{c_{1} + c_{2}} + \\log{\\left(c_{1} + c_{2} \\right)}\\right) - c_{1} \\left(\\frac{c_{1}}{c_{1} + c_{m}} + \\log{\\left(c_{1} + c_{m} \\right)}\\right) - \\frac{1}{\\frac{1}{c_{m}} + \\frac{1}{c_{1}}}$"
      ],
      "text/plain": [
       "c1*(c1/(c1 + c2) + log(c1 + c2)) - c1*(c1/(c1 + c_m) + log(c1 + c_m)) - 1/(1/c_m + 1/c1)"
      ]
     },
     "execution_count": 396,
     "metadata": {},
     "output_type": "execute_result"
    }
   ],
   "source": [
    "expr2 = (1/z)/((1/z)+(1/c1))\n",
    "diff2 = sp.diff(expr2, z)\n",
    "pay2 = sp.integrate(z*sp.simplify(diff2), (z, c2, cm)) - 1/((1/cm) + (1/c1))\n",
    "print_latex(pay2)\n",
    "pay2"
   ]
  },
  {
   "cell_type": "code",
   "execution_count": 415,
   "metadata": {},
   "outputs": [
    {
     "name": "stdout",
     "output_type": "stream",
     "text": [
      "c_{1} \\left(\\frac{c_{1}}{c_{1} + c_{2}} + \\log{\\left(c_{1} + c_{2} \\right)}\\right) - c_{1} \\left(\\frac{c_{1}}{c_{1} + c_{m}} + \\log{\\left(c_{1} + c_{m} \\right)}\\right) + c_{2} \\left(\\frac{c_{2}}{c_{1} + c_{2}} + \\log{\\left(c_{1} + c_{2} \\right)}\\right) - c_{2} \\left(\\frac{c_{2}}{c_{2} + c_{m}} + \\log{\\left(c_{2} + c_{m} \\right)}\\right) - \\frac{1}{\\frac{1}{c_{m}} + \\frac{1}{c_{2}}} - \\frac{1}{\\frac{1}{c_{m}} + \\frac{1}{c_{1}}}\n"
     ]
    }
   ],
   "source": [
    "Pt = pay1 + pay2\n",
    "print_latex(Pt)"
   ]
  },
  {
   "cell_type": "code",
   "execution_count": 420,
   "metadata": {},
   "outputs": [
    {
     "data": {
      "text/plain": [
       "     fun: -1.999999985990768\n",
       "     jac: array([-4.18424606e-05, -4.18424606e-05])\n",
       " message: 'Optimization terminated successfully'\n",
       "    nfev: 21\n",
       "     nit: 7\n",
       "    njev: 7\n",
       "  status: 0\n",
       " success: True\n",
       "       x: array([1.99966524, 1.99966525])"
      ]
     },
     "execution_count": 420,
     "metadata": {},
     "output_type": "execute_result"
    }
   ],
   "source": [
    "_cm = 2\n",
    "func = sp.lambdify([(c1, c2)], Pt.evalf(subs={cm:_cm}))\n",
    "bounds = ((0, _cm),(0, _cm))\n",
    "minimize(func, (0.5,0.5), method='SLSQP', bounds=bounds)"
   ]
  },
  {
   "cell_type": "code",
   "execution_count": 421,
   "metadata": {},
   "outputs": [
    {
     "data": {
      "text/latex": [
       "$\\displaystyle - c_{1} \\left(\\frac{c_{1}}{c_{1} + c_{m}} + \\log{\\left(c_{1} + c_{m} \\right)}\\right) + c_{1} \\left(\\log{\\left(2 c_{1} \\right)} + 0.5\\right) - \\frac{1}{\\frac{1}{c_{m}} + \\frac{1}{c_{1}}}$"
      ],
      "text/plain": [
       "-c1*(c1/(c1 + c_m) + log(c1 + c_m)) + c1*(log(2*c1) + 0.5) - 1/(1/c_m + 1/c1)"
      ]
     },
     "execution_count": 421,
     "metadata": {},
     "output_type": "execute_result"
    }
   ],
   "source": [
    "pay1.evalf(subs={c2:c1})"
   ]
  },
  {
   "cell_type": "code",
   "execution_count": 423,
   "metadata": {},
   "outputs": [
    {
     "data": {
      "text/plain": [
       "(9.99971790444955, -4.99999999900525)"
      ]
     },
     "execution_count": 423,
     "metadata": {},
     "output_type": "execute_result"
    }
   ],
   "source": [
    "_cm = 10\n",
    "func = sp.lambdify((c1), pay1.evalf(subs={cm:_cm, c2:c1}))\n",
    "bounds = ((0, _cm),)\n",
    "out = minimize(func, 0.1, method='SLSQP', bounds=bounds)\n",
    "out.x[0], out.fun[0]"
   ]
  },
  {
   "cell_type": "code",
   "execution_count": 414,
   "metadata": {},
   "outputs": [
    {
     "data": {
      "text/plain": [
       "     fun: array([-5.])\n",
       "     jac: array([-7.56978989e-06])\n",
       " message: 'Optimization terminated successfully'\n",
       "    nfev: 18\n",
       "     nit: 9\n",
       "    njev: 9\n",
       "  status: 0\n",
       " success: True\n",
       "       x: array([9.9997179])"
      ]
     },
     "execution_count": 414,
     "metadata": {},
     "output_type": "execute_result"
    }
   ],
   "source": [
    "out"
   ]
  },
  {
   "cell_type": "code",
   "execution_count": 302,
   "metadata": {},
   "outputs": [
    {
     "name": "stderr",
     "output_type": "stream",
     "text": [
      "100%|██████████| 990/990 [00:08<00:00, 110.88it/s]\n"
     ]
    }
   ],
   "source": [
    "optC1s, minPays = [], []\n",
    "cms = np.arange(1, 100, 0.1)\n",
    "for _cm in tqdm(cms):\n",
    "    func = sp.lambdify((c1), pay1.evalf(subs={cm:_cm, c2:c1}))\n",
    "    bounds = ((0, _cm),)\n",
    "    out = minimize(func, 0.1, method='SLSQP', bounds=bounds)\n",
    "    optC1s.append(out.x[0])\n",
    "    minPays.append(out.fun[0])\n",
    "optC1s, minPays = np.asarray(optC1s), np.asarray(minPays)"
   ]
  },
  {
   "cell_type": "code",
   "execution_count": 313,
   "metadata": {},
   "outputs": [
    {
     "data": {
      "image/png": "[encoded data removed]",
      "text/plain": [
       "<Figure size 648x360 with 1 Axes>"
      ]
     },
     "metadata": {
      "needs_background": "light"
     },
     "output_type": "display_data"
    }
   ],
   "source": [
    "f, ax = plt.subplots(figsize=(9,5))\n",
    "\n",
    "ax.plot(cms, optC1s, linewidth=3, alpha=0.7, color='crimson', label=r'optimal $c_1,c_2$')\n",
    "ax.plot(cms, minPays, linewidth=3, alpha=0.7, color='lightskyblue', label=r'$\\min P_t$')\n",
    "\n",
    "\n",
    "ax.set_xlabel(r'$c_m$', size=15)\n",
    "ax.set_title(r'Payment bound, $\\alpha=1$', size=17)\n",
    "\n",
    "ax.grid(alpha=0.3)\n",
    "ax.legend()\n",
    "plt.savefig('out.png', dpi=400, bbox_inches='tight', facecolor='white')\n",
    "plt.show()"
   ]
  },
  {
   "cell_type": "code",
   "execution_count": 410,
   "metadata": {},
   "outputs": [
    {
     "data": {
      "text/latex": [
       "$\\displaystyle c_{1} \\left(\\frac{c_{1}}{c_{1} + c_{2}} + \\log{\\left(c_{1} + c_{2} \\right)}\\right) - c_{1} \\left(\\frac{c_{1}}{c_{1} + c_{m}} + \\log{\\left(c_{1} + c_{m} \\right)}\\right) + c_{2} \\left(\\frac{c_{2}}{c_{1} + c_{2}} + \\log{\\left(c_{1} + c_{2} \\right)}\\right) - c_{2} \\left(\\frac{c_{2}}{c_{2} + c_{m}} + \\log{\\left(c_{2} + c_{m} \\right)}\\right) - \\frac{1}{\\frac{1}{c_{m}} + \\frac{1}{c_{2}}} - \\frac{1}{\\frac{1}{c_{m}} + \\frac{1}{c_{1}}}$"
      ],
      "text/plain": [
       "c1*(c1/(c1 + c2) + log(c1 + c2)) - c1*(c1/(c1 + c_m) + log(c1 + c_m)) + c2*(c2/(c1 + c2) + log(c1 + c2)) - c2*(c2/(c2 + c_m) + log(c2 + c_m)) - 1/(1/c_m + 1/c2) - 1/(1/c_m + 1/c1)"
      ]
     },
     "execution_count": 410,
     "metadata": {},
     "output_type": "execute_result"
    }
   ],
   "source": [
    "Pt"
   ]
  },
  {
   "cell_type": "code",
   "execution_count": 411,
   "metadata": {},
   "outputs": [
    {
     "data": {
      "text/latex": [
       "$\\displaystyle - c_{m}$"
      ],
      "text/plain": [
       "-c_m"
      ]
     },
     "execution_count": 411,
     "metadata": {},
     "output_type": "execute_result"
    }
   ],
   "source": [
    "Pt.evalf(subs={c2:cm, c1:cm})"
   ]
  },
  {
   "cell_type": "code",
   "execution_count": 427,
   "metadata": {},
   "outputs": [],
   "source": [
    "# bounding total payment, alpha>1"
   ]
  },
  {
   "cell_type": "code",
   "execution_count": 428,
   "metadata": {},
   "outputs": [],
   "source": [
    "c1, c2 = sp.symbols('c1 c2')\n",
    "cm     = sp.symbols('c_m')\n",
    "v1, v2 = sp.symbols('v1 v2')\n",
    "x1, x2 = sp.symbols('x1 x2')\n",
    "a      = sp.symbols('a')\n",
    "z      = sp.symbols('z')"
   ]
  },
  {
   "cell_type": "code",
   "execution_count": 441,
   "metadata": {},
   "outputs": [
    {
     "name": "stdout",
     "output_type": "stream",
     "text": [
      "- a \\left(\\frac{1}{c_{2}}\\right)^{a} \\int\\limits_{c_{1}}^{c_{m}} \\frac{\\left(\\frac{1}{z}\\right)^{a}}{\\left(\\frac{1}{c_{2}}\\right)^{2 a} + 2 \\left(\\frac{1}{c_{2}}\\right)^{a} \\left(\\frac{1}{z}\\right)^{a} + \\left(\\frac{1}{z}\\right)^{2 a}}\\, dz - \\frac{c_{m}^{1 - a}}{\\left(\\frac{1}{c_{2}}\\right)^{a} + \\left(\\frac{1}{c_{m}}\\right)^{a}}\n"
     ]
    },
    {
     "data": {
      "text/latex": [
       "$\\displaystyle - a \\left(\\frac{1}{c_{2}}\\right)^{a} \\int\\limits_{c_{1}}^{c_{m}} \\frac{\\left(\\frac{1}{z}\\right)^{a}}{\\left(\\frac{1}{c_{2}}\\right)^{2 a} + 2 \\left(\\frac{1}{c_{2}}\\right)^{a} \\left(\\frac{1}{z}\\right)^{a} + \\left(\\frac{1}{z}\\right)^{2 a}}\\, dz - \\frac{c_{m}^{1 - a}}{\\left(\\frac{1}{c_{2}}\\right)^{a} + \\left(\\frac{1}{c_{m}}\\right)^{a}}$"
      ],
      "text/plain": [
       "-a*(1/c2)**a*Integral((1/z)**a/((1/c2)**(2*a) + 2*(1/c2)**a*(1/z)**a + (1/z)**(2*a)), (z, c1, c_m)) - c_m**(1 - a)/((1/c2)**a + (1/c_m)**a)"
      ]
     },
     "execution_count": 441,
     "metadata": {},
     "output_type": "execute_result"
    }
   ],
   "source": [
    "expr1 = (1/z)**a/((1/z)**a+(1/c2)**a)\n",
    "diff1 = sp.diff(expr1, z)\n",
    "pay1 = sp.integrate(z*sp.simplify(diff1), (z, c1, cm)) - (1/cm**(a-1))/((1/cm)**a + (1/c2)**a)\n",
    "print_latex(pay1)\n",
    "pay1"
   ]
  },
  {
   "cell_type": "code",
   "execution_count": 442,
   "metadata": {},
   "outputs": [
    {
     "name": "stdout",
     "output_type": "stream",
     "text": [
      "- a \\left(\\frac{1}{c_{1}}\\right)^{a} \\int\\limits_{c_{2}}^{c_{m}} \\frac{\\left(\\frac{1}{z}\\right)^{a}}{\\left(\\frac{1}{c_{1}}\\right)^{2 a} + 2 \\left(\\frac{1}{c_{1}}\\right)^{a} \\left(\\frac{1}{z}\\right)^{a} + \\left(\\frac{1}{z}\\right)^{2 a}}\\, dz - \\frac{c_{m}^{1 - a}}{\\left(\\frac{1}{c_{1}}\\right)^{a} + \\left(\\frac{1}{c_{m}}\\right)^{a}}\n"
     ]
    },
    {
     "data": {
      "text/latex": [
       "$\\displaystyle - a \\left(\\frac{1}{c_{1}}\\right)^{a} \\int\\limits_{c_{2}}^{c_{m}} \\frac{\\left(\\frac{1}{z}\\right)^{a}}{\\left(\\frac{1}{c_{1}}\\right)^{2 a} + 2 \\left(\\frac{1}{c_{1}}\\right)^{a} \\left(\\frac{1}{z}\\right)^{a} + \\left(\\frac{1}{z}\\right)^{2 a}}\\, dz - \\frac{c_{m}^{1 - a}}{\\left(\\frac{1}{c_{1}}\\right)^{a} + \\left(\\frac{1}{c_{m}}\\right)^{a}}$"
      ],
      "text/plain": [
       "-a*(1/c1)**a*Integral((1/z)**a/((1/c1)**(2*a) + 2*(1/c1)**a*(1/z)**a + (1/z)**(2*a)), (z, c2, c_m)) - c_m**(1 - a)/((1/c1)**a + (1/c_m)**a)"
      ]
     },
     "execution_count": 442,
     "metadata": {},
     "output_type": "execute_result"
    }
   ],
   "source": [
    "expr2 = (1/z)**a/((1/z)**a+(1/c1)**a)\n",
    "diff2 = sp.diff(expr2, z)\n",
    "pay2 = sp.integrate(z*sp.simplify(diff2), (z, c2, cm)) - (1/cm**(a-1))/((1/cm)**a + (1/c1)**a)\n",
    "print_latex(pay2)\n",
    "pay2"
   ]
  },
  {
   "cell_type": "code",
   "execution_count": 443,
   "metadata": {},
   "outputs": [
    {
     "data": {
      "text/latex": [
       "$\\displaystyle - \\frac{c_{1} c_{m} \\left(c_{2} + c_{m}\\right) + c_{1} \\left(c_{1} + c_{m}\\right) \\left(c_{2} + c_{m}\\right) \\left(\\frac{c_{1}}{c_{1} + c_{m}} - \\frac{c_{1}}{c_{1} + c_{2}} - \\log{\\left(c_{1} + c_{2} \\right)} + \\log{\\left(c_{1} + c_{m} \\right)}\\right) + c_{2} c_{m} \\left(c_{1} + c_{m}\\right) + c_{2} \\left(c_{1} + c_{m}\\right) \\left(c_{2} + c_{m}\\right) \\left(\\frac{c_{2}}{c_{2} + c_{m}} - \\frac{c_{2}}{c_{1} + c_{2}} - \\log{\\left(c_{1} + c_{2} \\right)} + \\log{\\left(c_{2} + c_{m} \\right)}\\right)}{\\left(c_{1} + c_{m}\\right) \\left(c_{2} + c_{m}\\right)}$"
      ],
      "text/plain": [
       "-(c1*c_m*(c2 + c_m) + c1*(c1 + c_m)*(c2 + c_m)*(c1/(c1 + c_m) - c1/(c1 + c2) - log(c1 + c2) + log(c1 + c_m)) + c2*c_m*(c1 + c_m) + c2*(c1 + c_m)*(c2 + c_m)*(c2/(c2 + c_m) - c2/(c1 + c2) - log(c1 + c2) + log(c2 + c_m)))/((c1 + c_m)*(c2 + c_m))"
      ]
     },
     "execution_count": 443,
     "metadata": {},
     "output_type": "execute_result"
    }
   ],
   "source": [
    "Pt = pay1 + pay2\n",
    "# print_latex(Pt)\n",
    "sp.simplify(Pt.evalf(subs={a:1}))"
   ]
  },
  {
   "cell_type": "code",
   "execution_count": 470,
   "metadata": {},
   "outputs": [
    {
     "data": {
      "text/plain": [
       "-6.852674014801991"
      ]
     },
     "execution_count": 470,
     "metadata": {},
     "output_type": "execute_result"
    }
   ],
   "source": [
    "func1 = sp.lambdify([(c1, c2)], sp.simplify(Pt.evalf(subs={cm:_cm, a:1/2})))\n",
    "func2 = lambda c1, c2: func1([c1,c2]).real\n",
    "func2(1,6)"
   ]
  },
  {
   "cell_type": "code",
   "execution_count": 472,
   "metadata": {},
   "outputs": [
    {
     "data": {
      "text/plain": [
       "     fun: -7.9999953487492865\n",
       "     jac: array([ 1.78813934e-07, -7.28547573e-04])\n",
       " message: 'Optimization terminated successfully'\n",
       "    nfev: 25\n",
       "     nit: 8\n",
       "    njev: 8\n",
       "  status: 0\n",
       " success: True\n",
       "       x: array([8.        , 7.98592091])"
      ]
     },
     "execution_count": 472,
     "metadata": {},
     "output_type": "execute_result"
    }
   ],
   "source": [
    "_cm = 8\n",
    "func1 = sp.lambdify([(c1, c2)], sp.simplify(Pt.evalf(subs={cm:_cm, a:3/2})))\n",
    "func2 = lambda c: func1([c[0],c[1]]).real\n",
    "bounds = ((0, _cm),(0, _cm))\n",
    "minimize(func2, (0.4,0.5), method='SLSQP', bounds=bounds)"
   ]
  },
  {
   "cell_type": "markdown",
   "metadata": {},
   "source": [
    "## WELFARE tradeoff"
   ]
  },
  {
   "cell_type": "code",
   "execution_count": 504,
   "metadata": {},
   "outputs": [],
   "source": [
    "## welfare\n",
    "v1 = sp.Symbol('v1', positive=True)\n",
    "v2 = sp.Symbol('v2', positive=True)\n",
    "a  = sp.Symbol('alpha', positive=True)"
   ]
  },
  {
   "cell_type": "code",
   "execution_count": 505,
   "metadata": {},
   "outputs": [
    {
     "data": {
      "text/latex": [
       "$\\displaystyle - \\frac{v_{1}^{1 - \\alpha}}{v_{2}^{- \\alpha} + v_{1}^{- \\alpha}}$"
      ],
      "text/plain": [
       "-v1**(1 - alpha)/(v2**(-alpha) + v1**(-alpha))"
      ]
     },
     "execution_count": 505,
     "metadata": {},
     "output_type": "execute_result"
    }
   ],
   "source": [
    "u1 = -((1/v1)**(a-1)/((1/v1)**a+(1/v2)**a))\n",
    "u2 = -((1/v2)**(a-1)/((1/v1)**a+(1/v2)**a))\n",
    "u1"
   ]
  },
  {
   "cell_type": "code",
   "execution_count": 506,
   "metadata": {},
   "outputs": [
    {
     "data": {
      "text/latex": [
       "$\\displaystyle - \\frac{v_{1}^{1 - \\alpha}}{v_{2}^{- \\alpha} + v_{1}^{- \\alpha}} - \\frac{v_{2}^{1 - \\alpha}}{v_{2}^{- \\alpha} + v_{1}^{- \\alpha}}$"
      ],
      "text/plain": [
       "-v1**(1 - alpha)/(v2**(-alpha) + v1**(-alpha)) - v2**(1 - alpha)/(v2**(-alpha) + v1**(-alpha))"
      ]
     },
     "execution_count": 506,
     "metadata": {},
     "output_type": "execute_result"
    }
   ],
   "source": [
    "disutility = u1 + u2\n",
    "disutility"
   ]
  },
  {
   "cell_type": "code",
   "execution_count": 507,
   "metadata": {},
   "outputs": [
    {
     "data": {
      "text/latex": [
       "$\\displaystyle - \\frac{v_{2}^{1.0 - \\alpha}}{1.0 + v_{2}^{- \\alpha}} - \\frac{1}{1.0 + v_{2}^{- \\alpha}}$"
      ],
      "text/plain": [
       "-v2**(1.0 - alpha)/(1.0 + v2**(-alpha)) - 1/(1.0 + v2**(-alpha))"
      ]
     },
     "execution_count": 507,
     "metadata": {},
     "output_type": "execute_result"
    }
   ],
   "source": [
    "disutility.evalf(subs={v1:1})"
   ]
  },
  {
   "cell_type": "code",
   "execution_count": 522,
   "metadata": {},
   "outputs": [
    {
     "data": {
      "text/plain": [
       "(8, 400)"
      ]
     },
     "execution_count": 522,
     "metadata": {},
     "output_type": "execute_result"
    }
   ],
   "source": [
    "func = sp.lambdify((a,v2), disutility.evalf(subs={v1:1}))\n",
    "alphas = np.arange(1,5,0.01)\n",
    "\n",
    "disutils = []\n",
    "v2s = np.arange(2,10)\n",
    "for _v2 in v2s:\n",
    "    disutils.append(func(alphas, _v2))\n",
    "disutils = np.asarray(disutils)\n",
    "disutils.shape"
   ]
  },
  {
   "cell_type": "code",
   "execution_count": 528,
   "metadata": {},
   "outputs": [
    {
     "data": {
      "image/png": "[encoded data removed]",
      "text/plain": [
       "<Figure size 648x360 with 2 Axes>"
      ]
     },
     "metadata": {
      "needs_background": "light"
     },
     "output_type": "display_data"
    }
   ],
   "source": [
    "f, ax = plt.subplots(figsize=(9,5))\n",
    "\n",
    "c = np.arange(1, len(v2s)+1)\n",
    "norm = mpl.colors.Normalize(vmin=c.min(), vmax=c.max())\n",
    "cmap = mpl.cm.ScalarMappable(norm=norm, cmap=mpl.cm.copper)\n",
    "cmap.set_array([])\n",
    "\n",
    "for i, du in enumerate(disutils):\n",
    "    ax.plot(alphas, disutils[i], c=cmap.to_rgba(i + 1), linewidth=3, alpha=1)\n",
    "    \n",
    "bar = f.colorbar(cmap)\n",
    "# bar.set_ticks(c[::2])\n",
    "bar.set_label(r'$v_2$', size=15)\n",
    "ax.set_xlabel(r'$\\alpha$', size=15)\n",
    "ax.set_ylabel(r'$U_1+U_2$', size=15)\n",
    "ax.set_title(r'Social cost as a function of $\\alpha$ ($v_1=1$)', size=15)\n",
    "ax.grid(alpha=0.3)\n",
    "plt.savefig('out.png', dpi=400, bbox_inches='tight', facecolor='white')\n",
    "plt.show()"
   ]
  },
  {
   "cell_type": "code",
   "execution_count": 560,
   "metadata": {},
   "outputs": [
    {
     "name": "stdout",
     "output_type": "stream",
     "text": [
      "\\frac{v_{1} \\left(v_{1} v_{2}^{\\alpha} - v_{1}^{\\alpha} v_{2}\\right) + v_{2} \\left(- v_{1} v_{2}^{\\alpha} + v_{1}^{\\alpha} v_{2}\\right)}{v_{1} v_{2} \\left(v_{1}^{\\alpha} + v_{2}^{\\alpha}\\right)}\n"
     ]
    }
   ],
   "source": [
    "prop1 = sp.simplify((u1 - u1.evalf(subs={a:1})) / u1.evalf(subs={a:1}))\n",
    "prop2 = sp.simplify((u2 - u2.evalf(subs={a:1})) / u2.evalf(subs={a:1}))\n",
    "print_latex(sp.simplify(prop1 + prop2))"
   ]
  },
  {
   "cell_type": "code",
   "execution_count": 558,
   "metadata": {},
   "outputs": [
    {
     "name": "stdout",
     "output_type": "stream",
     "text": [
      "v_{1} \\left(v_{1} v_{2}^{\\alpha} - v_{1}^{\\alpha} v_{2}\\right) + v_{2} \\left(- v_{1} v_{2}^{\\alpha} + v_{1}^{\\alpha} v_{2}\\right)\n"
     ]
    }
   ],
   "source": [
    "print_latex(v1*(v1*v2**a-v1**a*v2) + v2*(-v1*v2**a + v1**a*v2))"
   ]
  },
  {
   "cell_type": "code",
   "execution_count": 559,
   "metadata": {},
   "outputs": [
    {
     "name": "stdout",
     "output_type": "stream",
     "text": [
      "\\left(v_{1} - v_{2}\\right) \\left(v_{1} v_{2}^{\\alpha} - v_{1}^{\\alpha} v_{2}\\right)\n"
     ]
    }
   ],
   "source": [
    "print_latex(sp.simplify(v1*(v1*v2**a-v1**a*v2) + v2*(-v1*v2**a + v1**a*v2)))"
   ]
  },
  {
   "cell_type": "code",
   "execution_count": null,
   "metadata": {},
   "outputs": [],
   "source": [
    "sp.simplify(sp.expand(v1*(v1*v2**a-v1**a*v2) + v2*(-v1*v2**a + v1**a*v2)))"
   ]
  },
  {
   "cell_type": "markdown",
   "metadata": {},
   "source": [
    "# PNE"
   ]
  },
  {
   "cell_type": "code",
   "execution_count": 592,
   "metadata": {},
   "outputs": [],
   "source": [
    "# two play\n",
    "v1 = sp.Symbol('v1', positive=True)\n",
    "v2 = sp.Symbol('v2', positive=True)\n",
    "c1 = sp.Symbol('c1', positive=True)\n",
    "c2 = sp.Symbol('c2', positive=True)\n",
    "a  = sp.Symbol('alpha', positive=True)\n",
    "\n",
    "x1 = 1/(c1**a) / (1/(c1**a) + 1/(c2**a))\n",
    "u1 = sp.simplify((c1-v1)*x1)\n",
    "x2 = 1/(c2**a) / (1/(c1**a) + 1/(c2**a))\n",
    "u2 = sp.simplify((c2-v2)*x2)"
   ]
  },
  {
   "cell_type": "code",
   "execution_count": 633,
   "metadata": {},
   "outputs": [
    {
     "data": {
      "text/latex": [
       "$\\displaystyle \\frac{- 0.5 c_{1}^{0.5} c_{2}^{0.5} \\left(c_{1} - 1.0\\right) + c_{1} c_{2}^{0.5} \\left(c_{1}^{0.5} + c_{2}^{0.5}\\right)}{c_{1} \\left(c_{1}^{0.5} + c_{2}^{0.5}\\right)^{2}}$"
      ],
      "text/plain": [
       "(-0.5*c1**0.5*c2**0.5*(c1 - 1.0) + c1*c2**0.5*(c1**0.5 + c2**0.5))/(c1*(c1**0.5 + c2**0.5)**2)"
      ]
     },
     "execution_count": 633,
     "metadata": {},
     "output_type": "execute_result"
    }
   ],
   "source": [
    "foc1 = sp.simplify(sp.diff(u1, c1)).evalf(subs={a:1/2, v1:1})\n",
    "foc2 = sp.simplify(sp.diff(u2, c2)).evalf(subs={a:1/2, v2:1})\n",
    "foc1"
   ]
  },
  {
   "cell_type": "code",
   "execution_count": 634,
   "metadata": {},
   "outputs": [
    {
     "data": {
      "text/latex": [
       "$\\displaystyle \\frac{- 0.5 c_{1}^{0.5} c_{2}^{0.5} \\left(c_{2} - 1.0\\right) + c_{1}^{0.5} c_{2} \\left(c_{1}^{0.5} + c_{2}^{0.5}\\right)}{c_{2} \\left(c_{1}^{0.5} + c_{2}^{0.5}\\right)^{2}}$"
      ],
      "text/plain": [
       "(-0.5*c1**0.5*c2**0.5*(c2 - 1.0) + c1**0.5*c2*(c1**0.5 + c2**0.5))/(c2*(c1**0.5 + c2**0.5)**2)"
      ]
     },
     "execution_count": 634,
     "metadata": {},
     "output_type": "execute_result"
    }
   ],
   "source": [
    "foc2"
   ]
  },
  {
   "cell_type": "code",
   "execution_count": 635,
   "metadata": {
    "scrolled": true
   },
   "outputs": [
    {
     "data": {
      "text/plain": [
       "[]"
      ]
     },
     "execution_count": 635,
     "metadata": {},
     "output_type": "execute_result"
    }
   ],
   "source": [
    "sol = sp.solve((sp.Eq(foc1, 0), sp.Eq(foc2, 0)), (c1, c2), dict=True)\n",
    "sol"
   ]
  },
  {
   "cell_type": "code",
   "execution_count": 636,
   "metadata": {},
   "outputs": [],
   "source": [
    "# three play\n",
    "v1 = sp.Symbol('v1', positive=True)\n",
    "v2 = sp.Symbol('v2', positive=True)\n",
    "v3 = sp.Symbol('v3', positive=True)\n",
    "c1 = sp.Symbol('c1', positive=True)\n",
    "c2 = sp.Symbol('c2', positive=True)\n",
    "c3 = sp.Symbol('c3', positive=True)\n",
    "a  = sp.Symbol('alpha', positive=True)\n",
    "\n",
    "x1 = 1/(c1**a) / (1/(c1**a) + 1/(c2**a) + 1/(c3**a))\n",
    "x2 = 1/(c2**a) / (1/(c1**a) + 1/(c2**a) + 1/(c3**a))\n",
    "x3 = 1/(c3**a) / (1/(c1**a) + 1/(c2**a) + 1/(c3**a))\n",
    "u1 = sp.simplify((c1-v1)*x1)\n",
    "u2 = sp.simplify((c2-v2)*x2)\n",
    "u3 = sp.simplify((c3-v3)*x3)"
   ]
  },
  {
   "cell_type": "code",
   "execution_count": 652,
   "metadata": {},
   "outputs": [
    {
     "data": {
      "text/latex": [
       "$\\displaystyle \\frac{c_{2} c_{3} \\left(c_{1} \\left(c_{1} c_{2} + c_{1} c_{3} + c_{2} c_{3}\\right)^{2} - \\left(c_{1} - 1.0\\right) \\left(c_{1} c_{2} + c_{1} c_{3}\\right) \\left(c_{1} c_{2} + c_{1} c_{3} + c_{2} c_{3}\\right)\\right)}{c_{1} \\left(c_{1} c_{2} + c_{1} c_{3} + c_{2} c_{3}\\right)^{3}}$"
      ],
      "text/plain": [
       "c2*c3*(c1*(c1*c2 + c1*c3 + c2*c3)**2 - (c1 - 1.0)*(c1*c2 + c1*c3)*(c1*c2 + c1*c3 + c2*c3))/(c1*(c1*c2 + c1*c3 + c2*c3)**3)"
      ]
     },
     "execution_count": 652,
     "metadata": {},
     "output_type": "execute_result"
    }
   ],
   "source": [
    "_a = 1\n",
    "foc1 = sp.simplify(sp.diff(u1, c1)).evalf(subs={a:_a, v1:1})\n",
    "foc2 = sp.simplify(sp.diff(u2, c2)).evalf(subs={a:_a, v2:1})\n",
    "foc3 = sp.simplify(sp.diff(u3, c3)).evalf(subs={a:_a, v3:1})\n",
    "foc1"
   ]
  },
  {
   "cell_type": "code",
   "execution_count": 653,
   "metadata": {},
   "outputs": [
    {
     "data": {
      "text/latex": [
       "$\\displaystyle \\frac{c_{2} c_{3} \\left(c_{1} \\left(c_{1} c_{2} + c_{1} c_{3} + c_{2} c_{3}\\right)^{2} - \\left(c_{1} - 1.0\\right) \\left(c_{1} c_{2} + c_{1} c_{3}\\right) \\left(c_{1} c_{2} + c_{1} c_{3} + c_{2} c_{3}\\right)\\right)}{c_{1} \\left(c_{1} c_{2} + c_{1} c_{3} + c_{2} c_{3}\\right)^{3}}$"
      ],
      "text/plain": [
       "c2*c3*(c1*(c1*c2 + c1*c3 + c2*c3)**2 - (c1 - 1.0)*(c1*c2 + c1*c3)*(c1*c2 + c1*c3 + c2*c3))/(c1*(c1*c2 + c1*c3 + c2*c3)**3)"
      ]
     },
     "execution_count": 653,
     "metadata": {},
     "output_type": "execute_result"
    }
   ],
   "source": [
    "foc1"
   ]
  },
  {
   "cell_type": "code",
   "execution_count": 654,
   "metadata": {
    "scrolled": true
   },
   "outputs": [
    {
     "data": {
      "text/plain": [
       "[]"
      ]
     },
     "execution_count": 654,
     "metadata": {},
     "output_type": "execute_result"
    }
   ],
   "source": [
    "sol = sp.solve((\n",
    "     sp.Eq(foc1, 0), \n",
    "     sp.Eq(foc2, 0),\n",
    "     sp.Eq(foc3, 0),\n",
    "    ), (c1, c2, c3), dict=True)\n",
    "sol"
   ]
  },
  {
   "cell_type": "code",
   "execution_count": null,
   "metadata": {},
   "outputs": [],
   "source": []
  },
  {
   "cell_type": "code",
   "execution_count": null,
   "metadata": {},
   "outputs": [],
   "source": []
  },
  {
   "cell_type": "code",
   "execution_count": 163,
   "metadata": {},
   "outputs": [
    {
     "data": {
      "text/plain": [
       "[<matplotlib.lines.Line2D at 0x12dbff370>]"
      ]
     },
     "execution_count": 163,
     "metadata": {},
     "output_type": "execute_result"
    },
    {
     "data": {
      "image/png": "[encoded data removed]",
      "text/plain": [
       "<Figure size 432x288 with 1 Axes>"
      ]
     },
     "metadata": {
      "needs_background": "light"
     },
     "output_type": "display_data"
    }
   ],
   "source": [
    "plt.plot(pays1)\n",
    "plt.plot(allos1)"
   ]
  },
  {
   "cell_type": "code",
   "execution_count": null,
   "metadata": {},
   "outputs": [],
   "source": []
  },
  {
   "cell_type": "code",
   "execution_count": null,
   "metadata": {},
   "outputs": [],
   "source": []
  },
  {
   "cell_type": "code",
   "execution_count": null,
   "metadata": {},
   "outputs": [],
   "source": []
  },
  {
   "cell_type": "code",
   "execution_count": null,
   "metadata": {},
   "outputs": [],
   "source": []
  },
  {
   "cell_type": "code",
   "execution_count": 20,
   "metadata": {},
   "outputs": [
    {
     "data": {
      "text/latex": [
       "$\\displaystyle \\frac{1}{z \\left(\\frac{1}{z} + \\frac{1}{c_{2}}\\right)}$"
      ],
      "text/plain": [
       "1/(z*(1/z + 1/c2))"
      ]
     },
     "execution_count": 20,
     "metadata": {},
     "output_type": "execute_result"
    }
   ],
   "source": [
    "expr1"
   ]
  },
  {
   "cell_type": "code",
   "execution_count": 14,
   "metadata": {},
   "outputs": [
    {
     "data": {
      "text/latex": [
       "$\\displaystyle \\frac{b_{1} \\left(b_{1} + b_{2}\\right) \\left(\\log{\\left(b_{1} \\right)} + 1\\right) - b_{1} \\left(b_{1} + \\left(b_{1} + b_{2}\\right) \\log{\\left(b_{1} + b_{2} \\right)}\\right) + b_{2} v_{2}}{b_{1} + b_{2}}$"
      ],
      "text/plain": [
       "(b1*(b1 + b2)*(log(b1) + 1) - b1*(b1 + (b1 + b2)*log(b1 + b2)) + b2*v2)/(b1 + b2)"
      ]
     },
     "execution_count": 14,
     "metadata": {},
     "output_type": "execute_result"
    }
   ],
   "source": [
    "expr2 = z/(z+b1)\n",
    "diff2 = sp.diff(expr2, z)\n",
    "pay2 = sp.integrate(z*diff2, (z, 0, b2))\n",
    "utility2 = sp.simplify(v2*(b2/(b1+b2)) - pay2)\n",
    "utility2"
   ]
  },
  {
   "cell_type": "code",
   "execution_count": 15,
   "metadata": {},
   "outputs": [
    {
     "data": {
      "text/plain": [
       "[{b1: v1, b2: v2}]"
      ]
     },
     "execution_count": 15,
     "metadata": {},
     "output_type": "execute_result"
    }
   ],
   "source": [
    "foc1 = sp.Eq(sp.diff(utility1, b1), 0)\n",
    "foc2 = sp.Eq(sp.diff(utility2, b2), 0)\n",
    "sol = sp.solve((foc1, foc2), (b1, b2), dict=True)\n",
    "sol"
   ]
  },
  {
   "cell_type": "code",
   "execution_count": null,
   "metadata": {},
   "outputs": [],
   "source": []
  },
  {
   "cell_type": "code",
   "execution_count": null,
   "metadata": {},
   "outputs": [],
   "source": []
  },
  {
   "cell_type": "code",
   "execution_count": null,
   "metadata": {},
   "outputs": [],
   "source": []
  },
  {
   "cell_type": "code",
   "execution_count": null,
   "metadata": {},
   "outputs": [],
   "source": []
  },
  {
   "cell_type": "code",
   "execution_count": null,
   "metadata": {},
   "outputs": [],
   "source": []
  },
  {
   "cell_type": "code",
   "execution_count": null,
   "metadata": {},
   "outputs": [],
   "source": []
  },
  {
   "cell_type": "code",
   "execution_count": null,
   "metadata": {},
   "outputs": [],
   "source": []
  },
  {
   "cell_type": "code",
   "execution_count": null,
   "metadata": {},
   "outputs": [],
   "source": []
  },
  {
   "cell_type": "code",
   "execution_count": 10,
   "metadata": {},
   "outputs": [],
   "source": [
    "b1 = sp.Symbol('b1')\n",
    "f1 = sp.Function('f1')\n",
    "b2 = sp.Symbol('b2')\n",
    "f2 = sp.Function('f2')\n",
    "v1, v2 = sp.symbols('v1 v2')\n",
    "\n",
    "u1 = v1 * f1(b1) / (f1(b1) + f2(b2)) - b1\n",
    "u2 = v2 * f2(b2) / (f1(b1) + f2(b2)) - b2"
   ]
  },
  {
   "cell_type": "code",
   "execution_count": 12,
   "metadata": {},
   "outputs": [
    {
     "data": {
      "text/latex": [
       "$\\displaystyle - b_{2} + \\frac{v_{2} f_{2}{\\left(b_{2} \\right)}}{f_{1}{\\left(b_{1} \\right)} + f_{2}{\\left(b_{2} \\right)}}$"
      ],
      "text/plain": [
       "-b2 + v2*f2(b2)/(f1(b1) + f2(b2))"
      ]
     },
     "execution_count": 12,
     "metadata": {},
     "output_type": "execute_result"
    }
   ],
   "source": [
    "u2"
   ]
  },
  {
   "cell_type": "code",
   "execution_count": 21,
   "metadata": {},
   "outputs": [
    {
     "data": {
      "text/latex": [
       "$\\displaystyle \\frac{v_{1} f_{2}{\\left(b_{2} \\right)} \\frac{d}{d b_{1}} f_{1}{\\left(b_{1} \\right)}}{\\left(f_{1}{\\left(b_{1} \\right)} + f_{2}{\\left(b_{2} \\right)}\\right)^{2}} - 1$"
      ],
      "text/plain": [
       "v1*f2(b2)*Derivative(f1(b1), b1)/(f1(b1) + f2(b2))**2 - 1"
      ]
     },
     "execution_count": 21,
     "metadata": {},
     "output_type": "execute_result"
    }
   ],
   "source": [
    "sp.simplify(sp.diff(u1, b1))"
   ]
  },
  {
   "cell_type": "code",
   "execution_count": 19,
   "metadata": {},
   "outputs": [
    {
     "data": {
      "text/latex": [
       "$\\displaystyle \\frac{v_{1} \\frac{d}{d b_{1}} f_{1}{\\left(b_{1} \\right)}}{f_{1}{\\left(b_{1} \\right)} + f_{2}{\\left(b_{2} \\right)}} - \\frac{v_{1} f_{1}{\\left(b_{1} \\right)} \\frac{d}{d b_{1}} f_{1}{\\left(b_{1} \\right)}}{\\left(f_{1}{\\left(b_{1} \\right)} + f_{2}{\\left(b_{2} \\right)}\\right)^{2}} - 1 = 0$"
      ],
      "text/plain": [
       "Eq(v1*Derivative(f1(b1), b1)/(f1(b1) + f2(b2)) - v1*f1(b1)*Derivative(f1(b1), b1)/(f1(b1) + f2(b2))**2 - 1, 0)"
      ]
     },
     "execution_count": 19,
     "metadata": {},
     "output_type": "execute_result"
    }
   ],
   "source": [
    "foc1 = sp.Eq(sp.diff(u1, b1), 0)\n",
    "foc2 = sp.Eq(sp.diff(u2, b2), 0)\n",
    "foc1"
   ]
  },
  {
   "cell_type": "code",
   "execution_count": 20,
   "metadata": {},
   "outputs": [
    {
     "ename": "NotImplementedError",
     "evalue": "could not solve _Dummy_36*v2*(f1(b1) + f2(b2))**2 - _Dummy_36*v2*(f1(b1) + f2(b2))*f2(b2) - (f1(b1) + f2(b2))**3",
     "output_type": "error",
     "traceback": [
      "\u001b[0;31m---------------------------------------------------------------------------\u001b[0m",
      "\u001b[0;31mNotImplementedError\u001b[0m                       Traceback (most recent call last)",
      "\u001b[0;32m<ipython-input-20-5b88841029f5>\u001b[0m in \u001b[0;36m<module>\u001b[0;34m\u001b[0m\n\u001b[0;32m----> 1\u001b[0;31m \u001b[0msol\u001b[0m \u001b[0;34m=\u001b[0m \u001b[0msp\u001b[0m\u001b[0;34m.\u001b[0m\u001b[0msolve\u001b[0m\u001b[0;34m(\u001b[0m\u001b[0;34m(\u001b[0m\u001b[0mfoc1\u001b[0m\u001b[0;34m,\u001b[0m \u001b[0mfoc2\u001b[0m\u001b[0;34m)\u001b[0m\u001b[0;34m,\u001b[0m \u001b[0;34m(\u001b[0m\u001b[0mb1\u001b[0m\u001b[0;34m,\u001b[0m \u001b[0mb2\u001b[0m\u001b[0;34m)\u001b[0m\u001b[0;34m,\u001b[0m \u001b[0mdict\u001b[0m\u001b[0;34m=\u001b[0m\u001b[0;32mTrue\u001b[0m\u001b[0;34m)\u001b[0m\u001b[0;34m\u001b[0m\u001b[0;34m\u001b[0m\u001b[0m\n\u001b[0m",
      "\u001b[0;32m/usr/local/lib/python3.8/site-packages/sympy/solvers/solvers.py\u001b[0m in \u001b[0;36msolve\u001b[0;34m(f, *symbols, **flags)\u001b[0m\n\u001b[1;32m   1145\u001b[0m             \u001b[0msolution\u001b[0m \u001b[0;34m=\u001b[0m \u001b[0m_solve\u001b[0m\u001b[0;34m(\u001b[0m\u001b[0mf\u001b[0m\u001b[0;34m[\u001b[0m\u001b[0;36m0\u001b[0m\u001b[0;34m]\u001b[0m\u001b[0;34m,\u001b[0m \u001b[0;34m*\u001b[0m\u001b[0msymbols\u001b[0m\u001b[0;34m,\u001b[0m \u001b[0;34m**\u001b[0m\u001b[0mflags\u001b[0m\u001b[0;34m)\u001b[0m\u001b[0;34m\u001b[0m\u001b[0;34m\u001b[0m\u001b[0m\n\u001b[1;32m   1146\u001b[0m     \u001b[0;32melse\u001b[0m\u001b[0;34m:\u001b[0m\u001b[0;34m\u001b[0m\u001b[0;34m\u001b[0m\u001b[0m\n\u001b[0;32m-> 1147\u001b[0;31m         \u001b[0mlinear\u001b[0m\u001b[0;34m,\u001b[0m \u001b[0msolution\u001b[0m \u001b[0;34m=\u001b[0m \u001b[0m_solve_system\u001b[0m\u001b[0;34m(\u001b[0m\u001b[0mf\u001b[0m\u001b[0;34m,\u001b[0m \u001b[0msymbols\u001b[0m\u001b[0;34m,\u001b[0m \u001b[0;34m**\u001b[0m\u001b[0mflags\u001b[0m\u001b[0;34m)\u001b[0m\u001b[0;34m\u001b[0m\u001b[0;34m\u001b[0m\u001b[0m\n\u001b[0m\u001b[1;32m   1148\u001b[0m     \u001b[0;32massert\u001b[0m \u001b[0mtype\u001b[0m\u001b[0;34m(\u001b[0m\u001b[0msolution\u001b[0m\u001b[0;34m)\u001b[0m \u001b[0;32mis\u001b[0m \u001b[0mlist\u001b[0m\u001b[0;34m\u001b[0m\u001b[0;34m\u001b[0m\u001b[0m\n\u001b[1;32m   1149\u001b[0m     \u001b[0;32massert\u001b[0m \u001b[0;32mnot\u001b[0m \u001b[0msolution\u001b[0m \u001b[0;32mor\u001b[0m \u001b[0mtype\u001b[0m\u001b[0;34m(\u001b[0m\u001b[0msolution\u001b[0m\u001b[0;34m[\u001b[0m\u001b[0;36m0\u001b[0m\u001b[0;34m]\u001b[0m\u001b[0;34m)\u001b[0m \u001b[0;32mis\u001b[0m \u001b[0mdict\u001b[0m\u001b[0;34m,\u001b[0m \u001b[0msolution\u001b[0m\u001b[0;34m\u001b[0m\u001b[0;34m\u001b[0m\u001b[0m\n",
      "\u001b[0;32m/usr/local/lib/python3.8/site-packages/sympy/solvers/solvers.py\u001b[0m in \u001b[0;36m_solve_system\u001b[0;34m(exprs, symbols, **flags)\u001b[0m\n\u001b[1;32m   1960\u001b[0m                     \u001b[0mgot_s\u001b[0m\u001b[0;34m.\u001b[0m\u001b[0madd\u001b[0m\u001b[0;34m(\u001b[0m\u001b[0ms\u001b[0m\u001b[0;34m)\u001b[0m\u001b[0;34m\u001b[0m\u001b[0;34m\u001b[0m\u001b[0m\n\u001b[1;32m   1961\u001b[0m                 \u001b[0;32mif\u001b[0m \u001b[0;32mnot\u001b[0m \u001b[0mhit\u001b[0m\u001b[0;34m:\u001b[0m\u001b[0;34m\u001b[0m\u001b[0;34m\u001b[0m\u001b[0m\n\u001b[0;32m-> 1962\u001b[0;31m                     \u001b[0;32mraise\u001b[0m \u001b[0mNotImplementedError\u001b[0m\u001b[0;34m(\u001b[0m\u001b[0;34m'could not solve %s'\u001b[0m \u001b[0;34m%\u001b[0m \u001b[0meq2\u001b[0m\u001b[0;34m)\u001b[0m\u001b[0;34m\u001b[0m\u001b[0;34m\u001b[0m\u001b[0m\n\u001b[0m\u001b[1;32m   1963\u001b[0m             \u001b[0;32melse\u001b[0m\u001b[0;34m:\u001b[0m\u001b[0;34m\u001b[0m\u001b[0;34m\u001b[0m\u001b[0m\n\u001b[1;32m   1964\u001b[0m                 \u001b[0mresult\u001b[0m \u001b[0;34m=\u001b[0m \u001b[0mnewresult\u001b[0m\u001b[0;34m\u001b[0m\u001b[0;34m\u001b[0m\u001b[0m\n",
      "\u001b[0;31mNotImplementedError\u001b[0m: could not solve _Dummy_36*v2*(f1(b1) + f2(b2))**2 - _Dummy_36*v2*(f1(b1) + f2(b2))*f2(b2) - (f1(b1) + f2(b2))**3"
     ]
    }
   ],
   "source": [
    "sol = sp.solve((foc1, foc2), (b1, b2), dict=True)"
   ]
  }
 ],
 "metadata": {
  "kernelspec": {
   "display_name": "Python 3",
   "language": "python",
   "name": "python3"
  },
  "language_info": {
   "codemirror_mode": {
    "name": "ipython",
    "version": 3
   },
   "file_extension": ".py",
   "mimetype": "text/x-python",
   "name": "python",
   "nbconvert_exporter": "python",
   "pygments_lexer": "ipython3",
   "version": "3.8.16"
  }
 },
 "nbformat": 4,
 "nbformat_minor": 4
}
