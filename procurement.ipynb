{
 "cells": [
  {
   "cell_type": "code",
   "execution_count": 2,
   "metadata": {},
   "outputs": [],
   "source": [
    "import matplotlib.pyplot as plt\n",
    "import matplotlib.patches as mpatches\n",
    "import numpy as np\n",
    "import pandas as pd\n",
    "from scipy.stats import poisson, uniform, expon, pareto\n",
    "from tqdm import tqdm\n",
    "from mdptoolbox import mdp, util\n",
    "import itertools\n",
    "from scipy.sparse import csr_matrix, lil_matrix\n",
    "from matplotlib.patches import Patch\n",
    "import math\n",
    "import random\n",
    "import sympy as sp\n",
    "from sympy.printing.latex import print_latex"
   ]
  },
  {
   "cell_type": "code",
   "execution_count": 117,
   "metadata": {},
   "outputs": [],
   "source": [
    "# LFG\n",
    "c1, c2 = sp.symbols('c1 c2')\n",
    "v1, v2 = sp.symbols('v1 v2')\n",
    "a      = sp.symbols('alpha')\n",
    "\n",
    "x1 = 1/(c1**a) / (1/(c1**a) + 1/(c2**a))\n",
    "u1 = sp.simplify((c1-v1)*x1)\n",
    "x2 = 1/(c2**a) / (1/(c1**a) + 1/(c2**a))\n",
    "u2 = sp.simplify((c2-v2)*x2)"
   ]
  },
  {
   "cell_type": "code",
   "execution_count": 153,
   "metadata": {},
   "outputs": [
    {
     "data": {
      "text/latex": [
       "$\\displaystyle \\frac{c_{2}^{0.1} \\left(- 0.1 c_{1}^{0.1} \\left(c_{1} - 1.0\\right) + c_{1} \\left(c_{1}^{0.1} + c_{2}^{0.1}\\right)\\right)}{c_{1} \\left(c_{1}^{0.1} + c_{2}^{0.1}\\right)^{2}}$"
      ],
      "text/plain": [
       "c2**0.1*(-0.1*c1**0.1*(c1 - 1.0) + c1*(c1**0.1 + c2**0.1))/(c1*(c1**0.1 + c2**0.1)**2)"
      ]
     },
     "execution_count": 153,
     "metadata": {},
     "output_type": "execute_result"
    }
   ],
   "source": [
    "foc1 = sp.simplify(sp.diff(u1, c1)).evalf(subs={a:0.1, v1:1})\n",
    "foc2 = sp.simplify(sp.diff(u2, c2)).evalf(subs={a:0.1, v2:1})\n",
    "foc1"
   ]
  },
  {
   "cell_type": "code",
   "execution_count": 154,
   "metadata": {},
   "outputs": [
    {
     "data": {
      "text/latex": [
       "$\\displaystyle \\frac{c_{1}^{0.1} \\left(- 0.1 c_{2}^{0.1} \\left(c_{2} - 1.0\\right) + c_{2} \\left(c_{1}^{0.1} + c_{2}^{0.1}\\right)\\right)}{c_{2} \\left(c_{1}^{0.1} + c_{2}^{0.1}\\right)^{2}}$"
      ],
      "text/plain": [
       "c1**0.1*(-0.1*c2**0.1*(c2 - 1.0) + c2*(c1**0.1 + c2**0.1))/(c2*(c1**0.1 + c2**0.1)**2)"
      ]
     },
     "execution_count": 154,
     "metadata": {},
     "output_type": "execute_result"
    }
   ],
   "source": [
    "foc2"
   ]
  },
  {
   "cell_type": "code",
   "execution_count": 155,
   "metadata": {},
   "outputs": [
    {
     "name": "stdout",
     "output_type": "stream",
     "text": [
      "\\frac{c_{2}^{0.1} \\left(- 0.1 c_{1}^{0.1} \\left(c_{1} - 1.0\\right) + c_{1} \\left(c_{1}^{0.1} + c_{2}^{0.1}\\right)\\right)}{c_{1} \\left(c_{1}^{0.1} + c_{2}^{0.1}\\right)^{2}}\n"
     ]
    }
   ],
   "source": [
    "print_latex(foc1)"
   ]
  },
  {
   "cell_type": "code",
   "execution_count": null,
   "metadata": {
    "scrolled": true
   },
   "outputs": [],
   "source": [
    "sol = sp.solve((sp.Eq(foc1, 0), sp.Eq(foc2, 0)), (c1, c2), dict=True)"
   ]
  },
  {
   "cell_type": "code",
   "execution_count": null,
   "metadata": {},
   "outputs": [],
   "source": [
    "sol"
   ]
  },
  {
   "cell_type": "code",
   "execution_count": 179,
   "metadata": {},
   "outputs": [
    {
     "data": {
      "text/latex": [
       "$\\displaystyle \\frac{c_{2}^{\\alpha} c_{3}^{\\alpha} \\left(c_{1} - v_{1}\\right)}{c_{1}^{\\alpha} c_{2}^{\\alpha} + c_{1}^{\\alpha} c_{3}^{\\alpha} + c_{2}^{\\alpha} c_{3}^{\\alpha}}$"
      ],
      "text/plain": [
       "c2**alpha*c3**alpha*(c1 - v1)/(c1**alpha*c2**alpha + c1**alpha*c3**alpha + c2**alpha*c3**alpha)"
      ]
     },
     "execution_count": 179,
     "metadata": {},
     "output_type": "execute_result"
    }
   ],
   "source": [
    "# 3 player\n",
    "c1, c2, c3 = sp.symbols('c1 c2 c3')\n",
    "v1, v2, v3 = sp.symbols('v1 v2 v3')\n",
    "a      = sp.symbols('alpha')\n",
    "\n",
    "x1 = 1/(c1**a) / (1/(c1**a) + 1/(c2**a) + 1/(c3**a))\n",
    "x2 = 1/(c2**a) / (1/(c1**a) + 1/(c2**a) + 1/(c3**a))\n",
    "x3 = 1/(c3**a) / (1/(c1**a) + 1/(c2**a) + 1/(c3**a))\n",
    "u1 = sp.simplify((c1-v1)*x1)\n",
    "u2 = sp.simplify((c2-v2)*x2)\n",
    "u3 = sp.simplify((c3-v3)*x3)\n",
    "u1"
   ]
  },
  {
   "cell_type": "code",
   "execution_count": 212,
   "metadata": {},
   "outputs": [
    {
     "data": {
      "text/latex": [
       "$\\displaystyle \\frac{c_{2} c_{3} \\left(- c_{1} \\left(c_{1} - v_{1}\\right) \\left(c_{2} + c_{3}\\right) + c_{1} \\left(c_{1} c_{2} + c_{1} c_{3} + c_{2} c_{3}\\right)\\right)}{c_{1} \\left(c_{1} c_{2} + c_{1} c_{3} + c_{2} c_{3}\\right)^{2}} = 0$"
      ],
      "text/plain": [
       "Eq(c2*c3*(-c1*(c1 - v1)*(c2 + c3) + c1*(c1*c2 + c1*c3 + c2*c3))/(c1*(c1*c2 + c1*c3 + c2*c3)**2), 0)"
      ]
     },
     "execution_count": 212,
     "metadata": {},
     "output_type": "execute_result"
    }
   ],
   "source": [
    "foc1 = sp.Eq(sp.simplify(sp.diff(u1, c1)), 0)\n",
    "foc2 = sp.Eq(sp.simplify(sp.diff(u2, c2)), 0)\n",
    "foc3 = sp.Eq(sp.simplify(sp.diff(u3, c3)), 0)\n",
    "foc1 = foc1.evalf(subs={a:1})\n",
    "foc2 = foc2.evalf(subs={a:1})\n",
    "foc3 = foc3.evalf(subs={a:1})\n",
    "foc1"
   ]
  },
  {
   "cell_type": "code",
   "execution_count": 213,
   "metadata": {},
   "outputs": [],
   "source": [
    "sol = sp.solve((foc1, foc2, foc3), (c1, c2, c3), dict=True)"
   ]
  },
  {
   "cell_type": "code",
   "execution_count": 214,
   "metadata": {},
   "outputs": [
    {
     "name": "stdout",
     "output_type": "stream",
     "text": [
      "\\left[ \\left\\{ c_{1} : - \\frac{2 v_{1} v_{2} v_{3}}{v_{1} v_{2} + v_{1} v_{3} - v_{2} v_{3}}, \\  c_{2} : - \\frac{2 v_{1} v_{2} v_{3}}{v_{1} v_{2} - v_{1} v_{3} + v_{2} v_{3}}, \\  c_{3} : \\frac{2 v_{1} v_{2} v_{3}}{v_{1} v_{2} - v_{1} v_{3} - v_{2} v_{3}}\\right\\}\\right]\n"
     ]
    }
   ],
   "source": [
    "print_latex(sol)"
   ]
  },
  {
   "cell_type": "code",
   "execution_count": 12,
   "metadata": {},
   "outputs": [],
   "source": [
    "## MYSERSONS, forward direction\n",
    "# prop allo\n",
    "b1, b2 = sp.symbols('b1 b2')\n",
    "v1, v2 = sp.symbols('v1 v2')\n",
    "x1, x2 = sp.symbols('x1 x2')\n",
    "z      = sp.symbols('z')"
   ]
  },
  {
   "cell_type": "code",
   "execution_count": 13,
   "metadata": {},
   "outputs": [
    {
     "data": {
      "text/latex": [
       "$\\displaystyle \\frac{b_{1} v_{1} + b_{2} \\left(b_{1} + b_{2}\\right) \\left(\\log{\\left(b_{2} \\right)} + 1\\right) - b_{2} \\left(b_{2} + \\left(b_{1} + b_{2}\\right) \\log{\\left(b_{1} + b_{2} \\right)}\\right)}{b_{1} + b_{2}}$"
      ],
      "text/plain": [
       "(b1*v1 + b2*(b1 + b2)*(log(b2) + 1) - b2*(b2 + (b1 + b2)*log(b1 + b2)))/(b1 + b2)"
      ]
     },
     "execution_count": 13,
     "metadata": {},
     "output_type": "execute_result"
    }
   ],
   "source": [
    "expr1 = z/(z+b2)\n",
    "diff1 = sp.diff(expr1, z)\n",
    "pay1 = sp.integrate(z*diff1, (z, 0, b1))\n",
    "utility1 = sp.simplify(v1*(b1/(b1+b2)) - pay1)\n",
    "utility1"
   ]
  },
  {
   "cell_type": "code",
   "execution_count": 14,
   "metadata": {},
   "outputs": [
    {
     "data": {
      "text/latex": [
       "$\\displaystyle \\frac{b_{1} \\left(b_{1} + b_{2}\\right) \\left(\\log{\\left(b_{1} \\right)} + 1\\right) - b_{1} \\left(b_{1} + \\left(b_{1} + b_{2}\\right) \\log{\\left(b_{1} + b_{2} \\right)}\\right) + b_{2} v_{2}}{b_{1} + b_{2}}$"
      ],
      "text/plain": [
       "(b1*(b1 + b2)*(log(b1) + 1) - b1*(b1 + (b1 + b2)*log(b1 + b2)) + b2*v2)/(b1 + b2)"
      ]
     },
     "execution_count": 14,
     "metadata": {},
     "output_type": "execute_result"
    }
   ],
   "source": [
    "expr2 = z/(z+b1)\n",
    "diff2 = sp.diff(expr2, z)\n",
    "pay2 = sp.integrate(z*diff2, (z, 0, b2))\n",
    "utility2 = sp.simplify(v2*(b2/(b1+b2)) - pay2)\n",
    "utility2"
   ]
  },
  {
   "cell_type": "code",
   "execution_count": 15,
   "metadata": {},
   "outputs": [
    {
     "data": {
      "text/plain": [
       "[{b1: v1, b2: v2}]"
      ]
     },
     "execution_count": 15,
     "metadata": {},
     "output_type": "execute_result"
    }
   ],
   "source": [
    "foc1 = sp.Eq(sp.diff(utility1, b1), 0)\n",
    "foc2 = sp.Eq(sp.diff(utility2, b2), 0)\n",
    "sol = sp.solve((foc1, foc2), (b1, b2), dict=True)\n",
    "sol"
   ]
  },
  {
   "cell_type": "code",
   "execution_count": 38,
   "metadata": {},
   "outputs": [],
   "source": [
    "## MYSERSONS, backward direction\n",
    "# prop allo\n",
    "c1, c2 = sp.symbols('c1 c2')\n",
    "cm     = sp.symbols('c_m')\n",
    "v1, v2 = sp.symbols('v1 v2')\n",
    "x1, x2 = sp.symbols('x1 x2')\n",
    "z      = sp.symbols('z')"
   ]
  },
  {
   "cell_type": "code",
   "execution_count": 53,
   "metadata": {},
   "outputs": [
    {
     "name": "stdout",
     "output_type": "stream",
     "text": [
      "c_{2} \\left(\\frac{c_{2}}{c_{1} + c_{2}} + \\log{\\left(c_{1} + c_{2} \\right)}\\right) - c_{2} \\left(\\frac{c_{2}}{c_{2} + c_{m}} + \\log{\\left(c_{2} + c_{m} \\right)}\\right)\n"
     ]
    },
    {
     "data": {
      "text/latex": [
       "$\\displaystyle c_{2} \\left(\\frac{c_{2}}{c_{1} + c_{2}} + \\log{\\left(c_{1} + c_{2} \\right)}\\right) - c_{2} \\left(\\frac{c_{2}}{c_{2} + c_{m}} + \\log{\\left(c_{2} + c_{m} \\right)}\\right)$"
      ],
      "text/plain": [
       "c2*(c2/(c1 + c2) + log(c1 + c2)) - c2*(c2/(c2 + c_m) + log(c2 + c_m))"
      ]
     },
     "execution_count": 53,
     "metadata": {},
     "output_type": "execute_result"
    }
   ],
   "source": [
    "expr1 = (1/z)/((1/z)+(1/c2))\n",
    "diff1 = sp.diff(expr1, z)\n",
    "pay1 = sp.integrate(z*sp.simplify(diff1), (z, c1, cm))\n",
    "print_latex(pay1)\n",
    "pay1"
   ]
  },
  {
   "cell_type": "code",
   "execution_count": 107,
   "metadata": {},
   "outputs": [
    {
     "name": "stdout",
     "output_type": "stream",
     "text": [
      "c_{1} \\left(\\frac{c_{1}}{c_{1} + c_{2}} + \\log{\\left(c_{1} + c_{2} \\right)}\\right) - c_{1} \\left(\\frac{c_{1}}{c_{1} + c_{m}} + \\log{\\left(c_{1} + c_{m} \\right)}\\right)\n"
     ]
    },
    {
     "data": {
      "text/latex": [
       "$\\displaystyle c_{1} \\left(\\frac{c_{1}}{c_{1} + c_{2}} + \\log{\\left(c_{1} + c_{2} \\right)}\\right) - c_{1} \\left(\\frac{c_{1}}{c_{1} + c_{m}} + \\log{\\left(c_{1} + c_{m} \\right)}\\right)$"
      ],
      "text/plain": [
       "c1*(c1/(c1 + c2) + log(c1 + c2)) - c1*(c1/(c1 + c_m) + log(c1 + c_m))"
      ]
     },
     "execution_count": 107,
     "metadata": {},
     "output_type": "execute_result"
    }
   ],
   "source": [
    "expr2 = (1/z)/((1/z)+(1/c1))\n",
    "diff2 = sp.diff(expr2, z)\n",
    "pay2 = sp.integrate(z*sp.simplify(diff2), (z, c2, cm))\n",
    "print_latex(pay2)\n",
    "pay2"
   ]
  },
  {
   "cell_type": "code",
   "execution_count": 73,
   "metadata": {},
   "outputs": [
    {
     "data": {
      "text/latex": [
       "$\\displaystyle \\log{\\left(c_{1} + 1 \\right)} - 1.95842613589472 + \\frac{1}{c_{1} + 1.0}$"
      ],
      "text/plain": [
       "log(c1 + 1) - 1.95842613589472 + 1/(c1 + 1.0)"
      ]
     },
     "execution_count": 73,
     "metadata": {},
     "output_type": "execute_result"
    }
   ],
   "source": [
    "pay1.evalf(subs={cm:5, c2:1})"
   ]
  },
  {
   "cell_type": "code",
   "execution_count": 78,
   "metadata": {},
   "outputs": [
    {
     "data": {
      "text/latex": [
       "$\\displaystyle \\frac{1}{c_{1} \\cdot \\left(\\frac{1}{c_{2}} + \\frac{1}{c_{1}}\\right)}$"
      ],
      "text/plain": [
       "1/(c1*(1/c2 + 1/c1))"
      ]
     },
     "execution_count": 78,
     "metadata": {},
     "output_type": "execute_result"
    }
   ],
   "source": [
    "allo1 = (1/c1)/((1/c1)+(1/c2))\n",
    "allo1"
   ]
  },
  {
   "cell_type": "code",
   "execution_count": 81,
   "metadata": {},
   "outputs": [],
   "source": [
    "c1s = np.arange(0.001, 5, 0.001)\n",
    "payfunc = sp.lambdify((c1), pay1.evalf(subs={cm:5, c2:1}))\n",
    "allofunc = sp.lambdify((c1), allo1.evalf(subs={c2:1}))\n",
    "pays1 = payfunc(c1s)\n",
    "allos1 = allofunc(c1s)"
   ]
  },
  {
   "cell_type": "code",
   "execution_count": 117,
   "metadata": {},
   "outputs": [],
   "source": [
    "c2s = [1, 2, 4]\n",
    "c1s = np.arange(0.001, 8, 0.001)\n",
    "payments, allos, payments2 = [], [], []\n",
    "for _c2 in c2s:\n",
    "    payfunc = sp.lambdify((c1), pay1.evalf(subs={cm:8, c2:_c2}))\n",
    "    allofunc = sp.lambdify((c1), allo1.evalf(subs={c2:_c2}))\n",
    "    pay2func = sp.lambdify((c1), pay2.evalf(subs={cm:8, c2:_c2}))\n",
    "    payments.append(payfunc(c1s))\n",
    "    allos.append(allofunc(c1s))\n",
    "    payments2.append(pay2func(c1s))\n",
    "payments = np.asarray(payments)\n",
    "allos = np.asarray(allos)\n",
    "payments2 = np.asarray(payments2)"
   ]
  },
  {
   "cell_type": "code",
   "execution_count": 118,
   "metadata": {},
   "outputs": [
    {
     "data": {
      "text/plain": [
       "((3, 7999), (3, 7999))"
      ]
     },
     "execution_count": 118,
     "metadata": {},
     "output_type": "execute_result"
    }
   ],
   "source": [
    "payments.shape, allos.shape"
   ]
  },
  {
   "cell_type": "code",
   "execution_count": 132,
   "metadata": {},
   "outputs": [
    {
     "data": {
      "image/png": "[encoded data removed]",
      "text/plain": [
       "<Figure size 936x288 with 3 Axes>"
      ]
     },
     "metadata": {
      "needs_background": "light"
     },
     "output_type": "display_data"
    }
   ],
   "source": [
    "f, axarr = plt.subplots(ncols=3, figsize=(13,4))\n",
    "\n",
    "for i in range(3):\n",
    "    axarr[i].plot(c1s, allos[i], color='darkviolet', linewidth=2, alpha=0.7, label=r'$x_1$')\n",
    "    axarr[i].plot(c1s, 1-allos[i], color='darkviolet', linewidth=2, alpha=0.7, label=r'$x_2$', \n",
    "                  linestyle='--')\n",
    "    axarr[i].plot(c1s, payments[i], color='brown', linewidth=2, alpha=0.7, label=r'$p_1$')\n",
    "    axarr[i].plot(c1s, payments2[i], color='brown', linewidth=2, alpha=0.7, label=r'$p_2$',\n",
    "                  linestyle='--')\n",
    "    \n",
    "for ax in axarr:\n",
    "    ax.legend(loc=4)\n",
    "    ax.grid(alpha=0.3)\n",
    "    ax.set_xlabel(r'$c_1$', size=14)\n",
    "\n",
    "axarr[0].set_title(r'$c_2=1, c_m=8$', size=16)\n",
    "axarr[1].set_title(r'$c_2=2, c_m=8$', size=16)\n",
    "axarr[2].set_title(r'$c_2=4, c_m=8$', size=16)\n",
    "plt.savefig('out.png', dpi=400, bbox_inches='tight', facecolor='white')\n",
    "\n",
    "plt.show()"
   ]
  },
  {
   "cell_type": "code",
   "execution_count": null,
   "metadata": {},
   "outputs": [],
   "source": []
  },
  {
   "cell_type": "code",
   "execution_count": null,
   "metadata": {},
   "outputs": [],
   "source": []
  },
  {
   "cell_type": "code",
   "execution_count": 83,
   "metadata": {},
   "outputs": [
    {
     "data": {
      "text/plain": [
       "[<matplotlib.lines.Line2D at 0x12b73cb50>]"
      ]
     },
     "execution_count": 83,
     "metadata": {},
     "output_type": "execute_result"
    },
    {
     "data": {
      "image/png": "[encoded data removed]",
      "text/plain": [
       "<Figure size 432x288 with 1 Axes>"
      ]
     },
     "metadata": {
      "needs_background": "light"
     },
     "output_type": "display_data"
    }
   ],
   "source": [
    "plt.plot(pays1)\n",
    "plt.plot(allos1)"
   ]
  },
  {
   "cell_type": "code",
   "execution_count": null,
   "metadata": {},
   "outputs": [],
   "source": []
  },
  {
   "cell_type": "code",
   "execution_count": null,
   "metadata": {},
   "outputs": [],
   "source": []
  },
  {
   "cell_type": "code",
   "execution_count": null,
   "metadata": {},
   "outputs": [],
   "source": []
  },
  {
   "cell_type": "code",
   "execution_count": null,
   "metadata": {},
   "outputs": [],
   "source": []
  },
  {
   "cell_type": "code",
   "execution_count": 20,
   "metadata": {},
   "outputs": [
    {
     "data": {
      "text/latex": [
       "$\\displaystyle \\frac{1}{z \\left(\\frac{1}{z} + \\frac{1}{c_{2}}\\right)}$"
      ],
      "text/plain": [
       "1/(z*(1/z + 1/c2))"
      ]
     },
     "execution_count": 20,
     "metadata": {},
     "output_type": "execute_result"
    }
   ],
   "source": [
    "expr1"
   ]
  },
  {
   "cell_type": "code",
   "execution_count": 14,
   "metadata": {},
   "outputs": [
    {
     "data": {
      "text/latex": [
       "$\\displaystyle \\frac{b_{1} \\left(b_{1} + b_{2}\\right) \\left(\\log{\\left(b_{1} \\right)} + 1\\right) - b_{1} \\left(b_{1} + \\left(b_{1} + b_{2}\\right) \\log{\\left(b_{1} + b_{2} \\right)}\\right) + b_{2} v_{2}}{b_{1} + b_{2}}$"
      ],
      "text/plain": [
       "(b1*(b1 + b2)*(log(b1) + 1) - b1*(b1 + (b1 + b2)*log(b1 + b2)) + b2*v2)/(b1 + b2)"
      ]
     },
     "execution_count": 14,
     "metadata": {},
     "output_type": "execute_result"
    }
   ],
   "source": [
    "expr2 = z/(z+b1)\n",
    "diff2 = sp.diff(expr2, z)\n",
    "pay2 = sp.integrate(z*diff2, (z, 0, b2))\n",
    "utility2 = sp.simplify(v2*(b2/(b1+b2)) - pay2)\n",
    "utility2"
   ]
  },
  {
   "cell_type": "code",
   "execution_count": 15,
   "metadata": {},
   "outputs": [
    {
     "data": {
      "text/plain": [
       "[{b1: v1, b2: v2}]"
      ]
     },
     "execution_count": 15,
     "metadata": {},
     "output_type": "execute_result"
    }
   ],
   "source": [
    "foc1 = sp.Eq(sp.diff(utility1, b1), 0)\n",
    "foc2 = sp.Eq(sp.diff(utility2, b2), 0)\n",
    "sol = sp.solve((foc1, foc2), (b1, b2), dict=True)\n",
    "sol"
   ]
  },
  {
   "cell_type": "code",
   "execution_count": null,
   "metadata": {},
   "outputs": [],
   "source": []
  },
  {
   "cell_type": "code",
   "execution_count": null,
   "metadata": {},
   "outputs": [],
   "source": []
  },
  {
   "cell_type": "code",
   "execution_count": null,
   "metadata": {},
   "outputs": [],
   "source": []
  },
  {
   "cell_type": "code",
   "execution_count": null,
   "metadata": {},
   "outputs": [],
   "source": []
  },
  {
   "cell_type": "code",
   "execution_count": null,
   "metadata": {},
   "outputs": [],
   "source": []
  },
  {
   "cell_type": "code",
   "execution_count": null,
   "metadata": {},
   "outputs": [],
   "source": []
  },
  {
   "cell_type": "code",
   "execution_count": null,
   "metadata": {},
   "outputs": [],
   "source": []
  },
  {
   "cell_type": "code",
   "execution_count": null,
   "metadata": {},
   "outputs": [],
   "source": []
  },
  {
   "cell_type": "code",
   "execution_count": 10,
   "metadata": {},
   "outputs": [],
   "source": [
    "b1 = sp.Symbol('b1')\n",
    "f1 = sp.Function('f1')\n",
    "b2 = sp.Symbol('b2')\n",
    "f2 = sp.Function('f2')\n",
    "v1, v2 = sp.symbols('v1 v2')\n",
    "\n",
    "u1 = v1 * f1(b1) / (f1(b1) + f2(b2)) - b1\n",
    "u2 = v2 * f2(b2) / (f1(b1) + f2(b2)) - b2"
   ]
  },
  {
   "cell_type": "code",
   "execution_count": 12,
   "metadata": {},
   "outputs": [
    {
     "data": {
      "text/latex": [
       "$\\displaystyle - b_{2} + \\frac{v_{2} f_{2}{\\left(b_{2} \\right)}}{f_{1}{\\left(b_{1} \\right)} + f_{2}{\\left(b_{2} \\right)}}$"
      ],
      "text/plain": [
       "-b2 + v2*f2(b2)/(f1(b1) + f2(b2))"
      ]
     },
     "execution_count": 12,
     "metadata": {},
     "output_type": "execute_result"
    }
   ],
   "source": [
    "u2"
   ]
  },
  {
   "cell_type": "code",
   "execution_count": 21,
   "metadata": {},
   "outputs": [
    {
     "data": {
      "text/latex": [
       "$\\displaystyle \\frac{v_{1} f_{2}{\\left(b_{2} \\right)} \\frac{d}{d b_{1}} f_{1}{\\left(b_{1} \\right)}}{\\left(f_{1}{\\left(b_{1} \\right)} + f_{2}{\\left(b_{2} \\right)}\\right)^{2}} - 1$"
      ],
      "text/plain": [
       "v1*f2(b2)*Derivative(f1(b1), b1)/(f1(b1) + f2(b2))**2 - 1"
      ]
     },
     "execution_count": 21,
     "metadata": {},
     "output_type": "execute_result"
    }
   ],
   "source": [
    "sp.simplify(sp.diff(u1, b1))"
   ]
  },
  {
   "cell_type": "code",
   "execution_count": 19,
   "metadata": {},
   "outputs": [
    {
     "data": {
      "text/latex": [
       "$\\displaystyle \\frac{v_{1} \\frac{d}{d b_{1}} f_{1}{\\left(b_{1} \\right)}}{f_{1}{\\left(b_{1} \\right)} + f_{2}{\\left(b_{2} \\right)}} - \\frac{v_{1} f_{1}{\\left(b_{1} \\right)} \\frac{d}{d b_{1}} f_{1}{\\left(b_{1} \\right)}}{\\left(f_{1}{\\left(b_{1} \\right)} + f_{2}{\\left(b_{2} \\right)}\\right)^{2}} - 1 = 0$"
      ],
      "text/plain": [
       "Eq(v1*Derivative(f1(b1), b1)/(f1(b1) + f2(b2)) - v1*f1(b1)*Derivative(f1(b1), b1)/(f1(b1) + f2(b2))**2 - 1, 0)"
      ]
     },
     "execution_count": 19,
     "metadata": {},
     "output_type": "execute_result"
    }
   ],
   "source": [
    "foc1 = sp.Eq(sp.diff(u1, b1), 0)\n",
    "foc2 = sp.Eq(sp.diff(u2, b2), 0)\n",
    "foc1"
   ]
  },
  {
   "cell_type": "code",
   "execution_count": 20,
   "metadata": {},
   "outputs": [
    {
     "ename": "NotImplementedError",
     "evalue": "could not solve _Dummy_36*v2*(f1(b1) + f2(b2))**2 - _Dummy_36*v2*(f1(b1) + f2(b2))*f2(b2) - (f1(b1) + f2(b2))**3",
     "output_type": "error",
     "traceback": [
      "\u001b[0;31m---------------------------------------------------------------------------\u001b[0m",
      "\u001b[0;31mNotImplementedError\u001b[0m                       Traceback (most recent call last)",
      "\u001b[0;32m<ipython-input-20-5b88841029f5>\u001b[0m in \u001b[0;36m<module>\u001b[0;34m\u001b[0m\n\u001b[0;32m----> 1\u001b[0;31m \u001b[0msol\u001b[0m \u001b[0;34m=\u001b[0m \u001b[0msp\u001b[0m\u001b[0;34m.\u001b[0m\u001b[0msolve\u001b[0m\u001b[0;34m(\u001b[0m\u001b[0;34m(\u001b[0m\u001b[0mfoc1\u001b[0m\u001b[0;34m,\u001b[0m \u001b[0mfoc2\u001b[0m\u001b[0;34m)\u001b[0m\u001b[0;34m,\u001b[0m \u001b[0;34m(\u001b[0m\u001b[0mb1\u001b[0m\u001b[0;34m,\u001b[0m \u001b[0mb2\u001b[0m\u001b[0;34m)\u001b[0m\u001b[0;34m,\u001b[0m \u001b[0mdict\u001b[0m\u001b[0;34m=\u001b[0m\u001b[0;32mTrue\u001b[0m\u001b[0;34m)\u001b[0m\u001b[0;34m\u001b[0m\u001b[0;34m\u001b[0m\u001b[0m\n\u001b[0m",
      "\u001b[0;32m/usr/local/lib/python3.8/site-packages/sympy/solvers/solvers.py\u001b[0m in \u001b[0;36msolve\u001b[0;34m(f, *symbols, **flags)\u001b[0m\n\u001b[1;32m   1145\u001b[0m             \u001b[0msolution\u001b[0m \u001b[0;34m=\u001b[0m \u001b[0m_solve\u001b[0m\u001b[0;34m(\u001b[0m\u001b[0mf\u001b[0m\u001b[0;34m[\u001b[0m\u001b[0;36m0\u001b[0m\u001b[0;34m]\u001b[0m\u001b[0;34m,\u001b[0m \u001b[0;34m*\u001b[0m\u001b[0msymbols\u001b[0m\u001b[0;34m,\u001b[0m \u001b[0;34m**\u001b[0m\u001b[0mflags\u001b[0m\u001b[0;34m)\u001b[0m\u001b[0;34m\u001b[0m\u001b[0;34m\u001b[0m\u001b[0m\n\u001b[1;32m   1146\u001b[0m     \u001b[0;32melse\u001b[0m\u001b[0;34m:\u001b[0m\u001b[0;34m\u001b[0m\u001b[0;34m\u001b[0m\u001b[0m\n\u001b[0;32m-> 1147\u001b[0;31m         \u001b[0mlinear\u001b[0m\u001b[0;34m,\u001b[0m \u001b[0msolution\u001b[0m \u001b[0;34m=\u001b[0m \u001b[0m_solve_system\u001b[0m\u001b[0;34m(\u001b[0m\u001b[0mf\u001b[0m\u001b[0;34m,\u001b[0m \u001b[0msymbols\u001b[0m\u001b[0;34m,\u001b[0m \u001b[0;34m**\u001b[0m\u001b[0mflags\u001b[0m\u001b[0;34m)\u001b[0m\u001b[0;34m\u001b[0m\u001b[0;34m\u001b[0m\u001b[0m\n\u001b[0m\u001b[1;32m   1148\u001b[0m     \u001b[0;32massert\u001b[0m \u001b[0mtype\u001b[0m\u001b[0;34m(\u001b[0m\u001b[0msolution\u001b[0m\u001b[0;34m)\u001b[0m \u001b[0;32mis\u001b[0m \u001b[0mlist\u001b[0m\u001b[0;34m\u001b[0m\u001b[0;34m\u001b[0m\u001b[0m\n\u001b[1;32m   1149\u001b[0m     \u001b[0;32massert\u001b[0m \u001b[0;32mnot\u001b[0m \u001b[0msolution\u001b[0m \u001b[0;32mor\u001b[0m \u001b[0mtype\u001b[0m\u001b[0;34m(\u001b[0m\u001b[0msolution\u001b[0m\u001b[0;34m[\u001b[0m\u001b[0;36m0\u001b[0m\u001b[0;34m]\u001b[0m\u001b[0;34m)\u001b[0m \u001b[0;32mis\u001b[0m \u001b[0mdict\u001b[0m\u001b[0;34m,\u001b[0m \u001b[0msolution\u001b[0m\u001b[0;34m\u001b[0m\u001b[0;34m\u001b[0m\u001b[0m\n",
      "\u001b[0;32m/usr/local/lib/python3.8/site-packages/sympy/solvers/solvers.py\u001b[0m in \u001b[0;36m_solve_system\u001b[0;34m(exprs, symbols, **flags)\u001b[0m\n\u001b[1;32m   1960\u001b[0m                     \u001b[0mgot_s\u001b[0m\u001b[0;34m.\u001b[0m\u001b[0madd\u001b[0m\u001b[0;34m(\u001b[0m\u001b[0ms\u001b[0m\u001b[0;34m)\u001b[0m\u001b[0;34m\u001b[0m\u001b[0;34m\u001b[0m\u001b[0m\n\u001b[1;32m   1961\u001b[0m                 \u001b[0;32mif\u001b[0m \u001b[0;32mnot\u001b[0m \u001b[0mhit\u001b[0m\u001b[0;34m:\u001b[0m\u001b[0;34m\u001b[0m\u001b[0;34m\u001b[0m\u001b[0m\n\u001b[0;32m-> 1962\u001b[0;31m                     \u001b[0;32mraise\u001b[0m \u001b[0mNotImplementedError\u001b[0m\u001b[0;34m(\u001b[0m\u001b[0;34m'could not solve %s'\u001b[0m \u001b[0;34m%\u001b[0m \u001b[0meq2\u001b[0m\u001b[0;34m)\u001b[0m\u001b[0;34m\u001b[0m\u001b[0;34m\u001b[0m\u001b[0m\n\u001b[0m\u001b[1;32m   1963\u001b[0m             \u001b[0;32melse\u001b[0m\u001b[0;34m:\u001b[0m\u001b[0;34m\u001b[0m\u001b[0;34m\u001b[0m\u001b[0m\n\u001b[1;32m   1964\u001b[0m                 \u001b[0mresult\u001b[0m \u001b[0;34m=\u001b[0m \u001b[0mnewresult\u001b[0m\u001b[0;34m\u001b[0m\u001b[0;34m\u001b[0m\u001b[0m\n",
      "\u001b[0;31mNotImplementedError\u001b[0m: could not solve _Dummy_36*v2*(f1(b1) + f2(b2))**2 - _Dummy_36*v2*(f1(b1) + f2(b2))*f2(b2) - (f1(b1) + f2(b2))**3"
     ]
    }
   ],
   "source": [
    "sol = sp.solve((foc1, foc2), (b1, b2), dict=True)"
   ]
  }
 ],
 "metadata": {
  "kernelspec": {
   "display_name": "Python 3",
   "language": "python",
   "name": "python3"
  },
  "language_info": {
   "codemirror_mode": {
    "name": "ipython",
    "version": 3
   },
   "file_extension": ".py",
   "mimetype": "text/x-python",
   "name": "python",
   "nbconvert_exporter": "python",
   "pygments_lexer": "ipython3",
   "version": "3.8.16"
  }
 },
 "nbformat": 4,
 "nbformat_minor": 4
}
