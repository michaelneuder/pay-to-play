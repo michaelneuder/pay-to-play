{
 "cells": [
  {
   "cell_type": "code",
   "execution_count": 1,
   "metadata": {},
   "outputs": [],
   "source": [
    "import matplotlib.pyplot as plt\n",
    "import matplotlib as mpl\n",
    "import matplotlib.patches as mpatches\n",
    "import numpy as np\n",
    "import pandas as pd\n",
    "import cvxpy as cp\n",
    "from scipy.stats import poisson, uniform, expon, pareto\n",
    "from scipy.optimize import minimize, fsolve\n",
    "from tqdm import tqdm\n",
    "from mdptoolbox import mdp, util\n",
    "import itertools\n",
    "from scipy.sparse import csr_matrix, lil_matrix\n",
    "from matplotlib.patches import Patch\n",
    "import math\n",
    "import random\n",
    "import sympy as sp\n",
    "from sympy.printing.latex import print_latex\n",
    "from scipy.optimize import least_squares"
   ]
  },
  {
   "cell_type": "code",
   "execution_count": 343,
   "metadata": {},
   "outputs": [],
   "source": [
    "def getEquilBids(cs, a, guess=None):\n",
    "    n = len(cs)\n",
    "    bs = [sp.Symbol('b{}'.format(i)) for i in range(n)]\n",
    "    \n",
    "    denom = sum([bi**(-a) for bi in bs])\n",
    "    xs    = [bi**(-a)/denom for bi in bs]\n",
    "    us    = [(bs[i] - cs[i])*xs[i] for i in range(n)]\n",
    "    diffs = [sp.diff(us[i], bs[i]) for i in range(n)]\n",
    "    funcs = [sp.lambdify(bs, diffs[i]) for i in range(n)]\n",
    "    \n",
    "    def eqs(bs):\n",
    "        return [f(*bs) for f in funcs]\n",
    "    \n",
    "    initial_guess = cs\n",
    "    if guess != None:\n",
    "        initial_guess = guess\n",
    "    \n",
    "    return fsolve(eqs, initial_guess)\n",
    "\n",
    "def getAllos(bids, a):\n",
    "    denom = sum([b**(-a) for b in bids])\n",
    "    return np.array(bids**(-a)) / denom"
   ]
  },
  {
   "cell_type": "code",
   "execution_count": 2,
   "metadata": {},
   "outputs": [],
   "source": [
    "def getBoundedEquilBids(cs, a, R, guess=None):\n",
    "    n = len(cs)\n",
    "    bs_syms = [sp.Symbol(f'b{i}', positive=True) for i in range(n)]\n",
    "    denom_sym = sum(b_sy**(-a) for b_sy in bs_syms)\n",
    "    xs_sym = [b_sy**(-a)/denom_sym for b_sy in bs_syms]\n",
    "    us_sym = [(bs_syms[i] - cs[i])* xs_sym[i] for i in range(n)]\n",
    "    # partial derivatives\n",
    "    diffs_sym = [sp.diff(us_sym[i], bs_syms[i]) for i in range(n)]\n",
    "    \n",
    "    # lambdify => numeric residual function\n",
    "    diffs_funcs = [sp.lambdify(bs_syms, diffs_sym[i], 'numpy') for i in range(n)]\n",
    "    \n",
    "    def residual(b):  # R^n -> R^n\n",
    "        return [diffs_funcs[i](*b) for i in range(n)]\n",
    "    \n",
    "    # bounds: we want 1 <= b_i <= R, or 0 < b_i <= R, up to you\n",
    "    lb = np.ones(n)*1.0   # or zeros\n",
    "    ub = np.ones(n)*R\n",
    "    \n",
    "    if guess is None:\n",
    "        guess = np.ones(n)*(R+1)/2  # or something\n",
    "    \n",
    "    # call least_squares with method that supports bounds\n",
    "    sol = least_squares(\n",
    "        fun=residual, \n",
    "        x0=guess,\n",
    "        bounds=(lb, ub),\n",
    "        method='trf'  # or 'dogbox'\n",
    "    )\n",
    "    return sol.x"
   ]
  },
  {
   "cell_type": "code",
   "execution_count": 22,
   "metadata": {},
   "outputs": [],
   "source": [
    "def getAllos(bids, a):\n",
    "    denom = sum([b**(-a) for b in bids])\n",
    "    return np.array(bids**(-a)) / denom"
   ]
  },
  {
   "cell_type": "code",
   "execution_count": 73,
   "metadata": {},
   "outputs": [
    {
     "data": {
      "text/plain": [
       "(array([8.46776857, 9.99740358]), array([ 8.48342433, 10.01721363]))"
      ]
     },
     "execution_count": 73,
     "metadata": {},
     "output_type": "execute_result"
    }
   ],
   "source": [
    "alpha = 3\n",
    "R     = 20\n",
    "\n",
    "getBoundedEquilBids([1,4.64], alpha, R), getBoundedEquilBids([1,4.65], alpha, R)"
   ]
  },
  {
   "cell_type": "code",
   "execution_count": 74,
   "metadata": {},
   "outputs": [
    {
     "data": {
      "text/plain": [
       "(array([8.46776857, 9.99740358]), array([ 8.48342433, 10.01721363]))"
      ]
     },
     "execution_count": 74,
     "metadata": {},
     "output_type": "execute_result"
    }
   ],
   "source": [
    "getBoundedEquilBids([1,4.64], alpha, R), getBoundedEquilBids([1,4.65], alpha, R)"
   ]
  },
  {
   "cell_type": "code",
   "execution_count": 75,
   "metadata": {},
   "outputs": [
    {
     "data": {
      "text/plain": [
       "(array([12.17964997, 14.68764643]), array([13.75856405, 16.68035444]))"
      ]
     },
     "execution_count": 75,
     "metadata": {},
     "output_type": "execute_result"
    }
   ],
   "source": [
    "getBoundedEquilBids([1,7], alpha, R), getBoundedEquilBids([1,8], alpha, R)"
   ]
  },
  {
   "cell_type": "code",
   "execution_count": 76,
   "metadata": {},
   "outputs": [
    {
     "data": {
      "text/plain": [
       "array([ 1. ,  1.1,  1.2,  1.3,  1.4,  1.5,  1.6,  1.7,  1.8,  1.9,  2. ,\n",
       "        2.1,  2.2,  2.3,  2.4,  2.5,  2.6,  2.7,  2.8,  2.9,  3. ,  3.1,\n",
       "        3.2,  3.3,  3.4,  3.5,  3.6,  3.7,  3.8,  3.9,  4. ,  4.1,  4.2,\n",
       "        4.3,  4.4,  4.5,  4.6,  4.7,  4.8,  4.9,  5. ,  5.1,  5.2,  5.3,\n",
       "        5.4,  5.5,  5.6,  5.7,  5.8,  5.9,  6. ,  6.1,  6.2,  6.3,  6.4,\n",
       "        6.5,  6.6,  6.7,  6.8,  6.9,  7. ,  7.1,  7.2,  7.3,  7.4,  7.5,\n",
       "        7.6,  7.7,  7.8,  7.9,  8. ,  8.1,  8.2,  8.3,  8.4,  8.5,  8.6,\n",
       "        8.7,  8.8,  8.9,  9. ,  9.1,  9.2,  9.3,  9.4,  9.5,  9.6,  9.7,\n",
       "        9.8,  9.9, 10. , 10.1, 10.2, 10.3, 10.4, 10.5, 10.6, 10.7, 10.8,\n",
       "       10.9, 11. , 11.1, 11.2, 11.3, 11.4, 11.5, 11.6, 11.7, 11.8, 11.9,\n",
       "       12. , 12.1, 12.2, 12.3, 12.4, 12.5, 12.6, 12.7, 12.8, 12.9, 13. ,\n",
       "       13.1, 13.2, 13.3, 13.4, 13.5, 13.6, 13.7, 13.8, 13.9, 14. , 14.1,\n",
       "       14.2, 14.3, 14.4, 14.5, 14.6, 14.7, 14.8, 14.9, 15. , 15.1, 15.2,\n",
       "       15.3, 15.4, 15.5, 15.6, 15.7, 15.8, 15.9, 16. , 16.1, 16.2, 16.3,\n",
       "       16.4, 16.5, 16.6, 16.7, 16.8, 16.9, 17. , 17.1, 17.2, 17.3, 17.4,\n",
       "       17.5, 17.6, 17.7, 17.8, 17.9, 18. , 18.1, 18.2, 18.3, 18.4, 18.5,\n",
       "       18.6, 18.7, 18.8, 18.9, 19. , 19.1, 19.2, 19.3, 19.4, 19.5, 19.6,\n",
       "       19.7, 19.8, 19.9])"
      ]
     },
     "execution_count": 76,
     "metadata": {},
     "output_type": "execute_result"
    }
   ],
   "source": [
    "c1s     = np.arange(1, 20, 0.1)\n",
    "guesses = c1s\n",
    "c1s"
   ]
  },
  {
   "cell_type": "code",
   "execution_count": 77,
   "metadata": {},
   "outputs": [
    {
     "data": {
      "text/plain": [
       "((190, 2), (190, 2), (190,))"
      ]
     },
     "execution_count": 77,
     "metadata": {},
     "output_type": "execute_result"
    }
   ],
   "source": [
    "bb          = []\n",
    "xTildes_bb  = []\n",
    "welfares_bb = []\n",
    "for i, c1 in enumerate(c1s):\n",
    "    costs  = [1, c1]\n",
    "    bids   = getBoundedEquilBids(costs, a=alpha, R=R, guess=[guesses[i],guesses[i]])\n",
    "    xTilde = getAllos(bids, a=alpha)\n",
    "    bb.append(bids)\n",
    "    xTildes_bb.append(xTilde)\n",
    "    welfares_bb.append(np.dot(costs, xTilde))\n",
    "bb          = np.asarray(bb)\n",
    "xTildes_bb  = np.asarray(xTildes_bb)\n",
    "welfares_bb = np.asarray(welfares_bb)\n",
    "bb.shape, xTildes_bb.shape, welfares_bb.shape"
   ]
  },
  {
   "cell_type": "code",
   "execution_count": 79,
   "metadata": {},
   "outputs": [
    {
     "data": {
      "image/png": "[encoded data removed]",
      "text/plain": [
       "<Figure size 1008x288 with 3 Axes>"
      ]
     },
     "metadata": {
      "needs_background": "light"
     },
     "output_type": "display_data"
    }
   ],
   "source": [
    "f, axarr = plt.subplots(ncols=3, figsize=(14,4))\n",
    "\n",
    "colors = ['darkorange', 'seagreen', 'darkslateblue']\n",
    "  \n",
    "axarr[0].plot(c1s, bb[:,0], color='darkorange', linewidth=3, alpha=0.7, label=r'$b_0$')\n",
    "axarr[0].plot(c1s, bb[:,1], color='seagreen', linewidth=3, alpha=0.7, label=r'$b_1$')\n",
    "axarr[0].set_title(r'bids: $R={},\\alpha={}$'.format(R,alpha), size=15)\n",
    "\n",
    "axarr[1].plot(c1s, xTildes_bb[:,0], color='darkorange', linewidth=3, alpha=0.7, label=r'$x_0$')\n",
    "axarr[1].plot(c1s, xTildes_bb[:,1], color='seagreen', linewidth=3, alpha=0.7, label=r'$x_1$')\n",
    "axarr[1].set_title(r'allos: $R={},\\alpha={}$'.format(R,alpha), size=15)\n",
    "\n",
    "axarr[2].plot(c1s, welfares_bb, color='darkslateblue', linewidth=3, alpha=0.7, label=r'$c_0x_0+c_1x_1$')\n",
    "axarr[2].set_title(r'social cost: $R={},\\alpha={}$'.format(R,alpha), size=15)\n",
    "\n",
    "\n",
    "for i, ax in enumerate(axarr):\n",
    "    ax.legend()\n",
    "    ax.grid(alpha=0.3)\n",
    "    ax.set_xlabel(r'$c_1$', size=14)\n",
    "\n",
    "plt.savefig('out.png', dpi=400, bbox_inches='tight', facecolor='white')\n",
    "plt.show()"
   ]
  },
  {
   "cell_type": "markdown",
   "metadata": {},
   "source": [
    "# using bounded threshold"
   ]
  },
  {
   "cell_type": "code",
   "execution_count": 106,
   "metadata": {},
   "outputs": [],
   "source": [
    "b0 = sp.Symbol('b0', positive=True)\n",
    "R = sp.Symbol('R', positive=True)\n",
    "alpha = sp.Symbol('alpha', positive=True)\n",
    "N = sp.Symbol('N', positive=True)"
   ]
  },
  {
   "cell_type": "code",
   "execution_count": 107,
   "metadata": {},
   "outputs": [
    {
     "data": {
      "text/latex": [
       "$\\displaystyle \\frac{b_{0}^{- \\alpha} \\left(b_{0} - 1\\right)}{b_{0}^{- \\alpha} + R^{- \\alpha}}$"
      ],
      "text/plain": [
       "(b0 - 1)/(b0**alpha*(b0**(-alpha) + R**(-alpha)))"
      ]
     },
     "execution_count": 107,
     "metadata": {},
     "output_type": "execute_result"
    }
   ],
   "source": [
    "u0 = ( (b0 - 1)*b0**(-alpha) ) / ( b0**(-alpha) + R**(-alpha) )\n",
    "u0"
   ]
  },
  {
   "cell_type": "code",
   "execution_count": 119,
   "metadata": {},
   "outputs": [],
   "source": [
    "from scipy.optimize import minimize_scalar\n",
    "\n",
    "def maximize_u0(R, alpha):    \n",
    "    # Define the u0 function\n",
    "    def u0(b0):\n",
    "        return ((b0 - 1) * b0**(-alpha)) / (b0**(-alpha) + R**(-alpha))\n",
    "        # Alternatively: return (b0 - 1) / (1 + (b0 / R)**alpha)\n",
    "    \n",
    "    # Define the negative of u0 for minimization\n",
    "    def neg_u0(b0):\n",
    "        return -u0(b0)\n",
    "\n",
    "    lower_bound = 1.01  # slightly above 1 to avoid division by zero or negative u0\n",
    "    upper_bound = R * 10 if R * 10 > lower_bound else lower_bound + 10\n",
    "\n",
    "    result = minimize_scalar(neg_u0, bounds=(lower_bound, upper_bound), method='bounded')\n",
    "    \n",
    "    if result.success:\n",
    "        optimal_b0 = result.x\n",
    "        max_u0 = u0(optimal_b0)\n",
    "        print(f\"Optimization successful: b0 = {optimal_b0}, u0 = {max_u0}\")\n",
    "        return optimal_b0\n",
    "    else:\n",
    "        raise RuntimeError(\"Optimization failed. Try different bounds or check the function.\")\n"
   ]
  },
  {
   "cell_type": "code",
   "execution_count": 163,
   "metadata": {},
   "outputs": [
    {
     "name": "stdout",
     "output_type": "stream",
     "text": [
      "Optimization successful: b0 = 16.3900899672449, u0 = 9.926726600810817\n"
     ]
    },
    {
     "data": {
      "text/plain": [
       "16.3900899672449"
      ]
     },
     "execution_count": 163,
     "metadata": {},
     "output_type": "execute_result"
    }
   ],
   "source": [
    "maximize_u0(R=20, alpha=3)"
   ]
  },
  {
   "cell_type": "code",
   "execution_count": 123,
   "metadata": {},
   "outputs": [],
   "source": [
    "b0 = sp.Symbol('b0', positive=True)\n",
    "R = sp.Symbol('R', positive=True)\n",
    "alpha = sp.Symbol('alpha', positive=True)\n",
    "N = sp.Symbol('N', positive=True)"
   ]
  },
  {
   "cell_type": "code",
   "execution_count": 126,
   "metadata": {},
   "outputs": [
    {
     "data": {
      "text/plain": [
       "(14.00000000000001, array([15.82948018, 20.        ]))"
      ]
     },
     "execution_count": 126,
     "metadata": {},
     "output_type": "execute_result"
    }
   ],
   "source": [
    "alpha=3\n",
    "ind = 130\n",
    "c1s[ind], bb[ind]"
   ]
  },
  {
   "cell_type": "code",
   "execution_count": 127,
   "metadata": {},
   "outputs": [
    {
     "data": {
      "text/plain": [
       "(0.6685368138804081, 9.914053431656496)"
      ]
     },
     "execution_count": 127,
     "metadata": {},
     "output_type": "execute_result"
    }
   ],
   "source": [
    "# player 0 util\n",
    "x0 = getAllos(bb[ind], alpha)[0]\n",
    "x0, (bb[ind][0]-1)*x0"
   ]
  },
  {
   "cell_type": "code",
   "execution_count": 129,
   "metadata": {},
   "outputs": [
    {
     "data": {
      "text/plain": [
       "(0.6475484834733384, 9.926581643590875)"
      ]
     },
     "execution_count": 129,
     "metadata": {},
     "output_type": "execute_result"
    }
   ],
   "source": [
    "newbids = np.array([bb[ind][0]+0.5, bb[ind][1]])\n",
    "x0 = getAllos(newbids, alpha)[0]\n",
    "x0, (newbids[0]-1)*x0"
   ]
  },
  {
   "cell_type": "code",
   "execution_count": 98,
   "metadata": {},
   "outputs": [
    {
     "data": {
      "text/plain": [
       "(0.3314631861195919, 1.9887791167175468)"
      ]
     },
     "execution_count": 98,
     "metadata": {},
     "output_type": "execute_result"
    }
   ],
   "source": [
    "# player 1 util\n",
    "x1 = getAllos(bb[ind], alpha)[1]\n",
    "x1, (bb[ind][1]-c1s[ind])*x1"
   ]
  },
  {
   "cell_type": "code",
   "execution_count": 105,
   "metadata": {},
   "outputs": [
    {
     "data": {
      "text/plain": [
       "(0.33817812258464125, 1.9614331109909147)"
      ]
     },
     "execution_count": 105,
     "metadata": {},
     "output_type": "execute_result"
    }
   ],
   "source": [
    "newbids = np.array([bb[ind][0], bb[ind][1]-0.2])\n",
    "x1 = getAllos(newbids, alpha)[1]\n",
    "x1, (newbids[1]-c1s[ind])*x1"
   ]
  },
  {
   "cell_type": "code",
   "execution_count": 148,
   "metadata": {},
   "outputs": [
    {
     "data": {
      "text/plain": [
       "(9.926665647588925, 2.1398573907126175)"
      ]
     },
     "execution_count": 148,
     "metadata": {},
     "output_type": "execute_result"
    }
   ],
   "source": [
    "# both \n",
    "newbids = np.array([bb[ind][0]+0.6, bb[ind][1]])\n",
    "allos = getAllos(newbids, alpha)\n",
    "(newbids[0]-1)*allos[0], (newbids[1]-c1s[ind])*allos[1]"
   ]
  },
  {
   "cell_type": "markdown",
   "metadata": {},
   "source": [
    "# bounding b* as a function of R,a"
   ]
  },
  {
   "cell_type": "code",
   "execution_count": 197,
   "metadata": {},
   "outputs": [
    {
     "data": {
      "text/latex": [
       "$\\displaystyle \\frac{b_{0}^{- \\alpha} \\left(b_{0} - 1\\right)}{b_{0}^{- \\alpha} + R^{- \\alpha}}$"
      ],
      "text/plain": [
       "(b0 - 1)/(b0**alpha*(b0**(-alpha) + R**(-alpha)))"
      ]
     },
     "execution_count": 197,
     "metadata": {},
     "output_type": "execute_result"
    }
   ],
   "source": [
    "b0 = sp.Symbol('b0', positive=True)\n",
    "R = sp.Symbol('R', positive=True)\n",
    "alpha = sp.Symbol('alpha', positive=True)\n",
    "N = sp.Symbol('N', positive=True)\n",
    "\n",
    "u0 = ( (b0 - 1)*b0**(-alpha) ) / ( b0**(-alpha) + R**(-alpha) )\n",
    "u0"
   ]
  },
  {
   "cell_type": "code",
   "execution_count": 198,
   "metadata": {},
   "outputs": [
    {
     "data": {
      "text/latex": [
       "$\\displaystyle \\frac{R^{\\alpha} \\left(R^{\\alpha} \\alpha \\left(b_{0} - 1\\right) - \\alpha \\left(R^{\\alpha} + b_{0}^{\\alpha}\\right) \\left(b_{0} - 1\\right) + b_{0} \\left(R^{\\alpha} + b_{0}^{\\alpha}\\right)\\right)}{b_{0} \\left(R^{\\alpha} + b_{0}^{\\alpha}\\right)^{2}} = 0$"
      ],
      "text/plain": [
       "Eq(R**alpha*(R**alpha*alpha*(b0 - 1) - alpha*(R**alpha + b0**alpha)*(b0 - 1) + b0*(R**alpha + b0**alpha))/(b0*(R**alpha + b0**alpha)**2), 0)"
      ]
     },
     "execution_count": 198,
     "metadata": {},
     "output_type": "execute_result"
    }
   ],
   "source": [
    "foc = sp.Eq(sp.simplify(sp.diff(u0, b0)),0)\n",
    "foc"
   ]
  },
  {
   "cell_type": "markdown",
   "metadata": {},
   "source": [
    "$$\n",
    "(1-\\alpha)b_0^{\\alpha+1}+\\alpha b_0^\\alpha + b_0 R^\\alpha \n",
    "$$"
   ]
  },
  {
   "cell_type": "code",
   "execution_count": 159,
   "metadata": {},
   "outputs": [
    {
     "name": "stdout",
     "output_type": "stream",
     "text": [
      "\\frac{R^{\\alpha} \\left(R^{\\alpha} \\alpha \\left(b_{0} - 1\\right) - \\alpha \\left(R^{\\alpha} + b_{0}^{\\alpha}\\right) \\left(b_{0} - 1\\right) + b_{0} \\left(R^{\\alpha} + b_{0}^{\\alpha}\\right)\\right)}{b_{0} \\left(R^{\\alpha} + b_{0}^{\\alpha}\\right)^{2}} = 0\n"
     ]
    }
   ],
   "source": [
    "sp.print_latex(foc)"
   ]
  },
  {
   "cell_type": "code",
   "execution_count": 194,
   "metadata": {},
   "outputs": [
    {
     "data": {
      "text/latex": [
       "$\\displaystyle 40.1913788093$"
      ],
      "text/plain": [
       "40.1913788093000"
      ]
     },
     "execution_count": 194,
     "metadata": {},
     "output_type": "execute_result"
    }
   ],
   "source": [
    "r_ = 50\n",
    "sp.nsolve(foc.evalf(subs={R:r_, alpha:3}), r_*0.9)"
   ]
  },
  {
   "cell_type": "code",
   "execution_count": 192,
   "metadata": {},
   "outputs": [
    {
     "name": "stdout",
     "output_type": "stream",
     "text": [
      "49\r"
     ]
    }
   ],
   "source": [
    "rs = np.arange(5,50,1)\n",
    "res = []\n",
    "for r_ in rs:\n",
    "    print(r_, end='\\r')\n",
    "    res.append(sp.nsolve(foc.evalf(subs={R:r_, alpha:3}), r_*0.9))\n",
    "res = np.array(res)"
   ]
  },
  {
   "cell_type": "code",
   "execution_count": 193,
   "metadata": {},
   "outputs": [
    {
     "data": {
      "text/plain": [
       "[<matplotlib.lines.Line2D at 0x1583926d0>]"
      ]
     },
     "execution_count": 193,
     "metadata": {},
     "output_type": "execute_result"
    },
    {
     "data": {
      "image/png": "[encoded data removed]",
      "text/plain": [
       "<Figure size 432x288 with 1 Axes>"
      ]
     },
     "metadata": {
      "needs_background": "light"
     },
     "output_type": "display_data"
    }
   ],
   "source": [
    "plt.plot(rs, res)"
   ]
  },
  {
   "cell_type": "markdown",
   "metadata": {},
   "source": [
    "# numerical for diff for PoA"
   ]
  },
  {
   "cell_type": "code",
   "execution_count": 215,
   "metadata": {},
   "outputs": [
    {
     "data": {
      "text/latex": [
       "$\\displaystyle \\frac{b_{0}^{- \\alpha} \\left(b_{0} - 1\\right)}{N R^{- \\alpha} + b_{0}^{- \\alpha}}$"
      ],
      "text/plain": [
       "(b0 - 1)/(b0**alpha*(N/R**alpha + b0**(-alpha)))"
      ]
     },
     "execution_count": 215,
     "metadata": {},
     "output_type": "execute_result"
    }
   ],
   "source": [
    "b0 = sp.Symbol('b0', positive=True)\n",
    "R = sp.Symbol('R', positive=True)\n",
    "alpha = sp.Symbol('alpha', positive=True)\n",
    "N = sp.Symbol('N', positive=True)\n",
    "\n",
    "u0 = ( (b0 - 1)*b0**(-alpha) ) / ( b0**(-alpha) + N*R**(-alpha) )\n",
    "u0"
   ]
  },
  {
   "cell_type": "code",
   "execution_count": 216,
   "metadata": {},
   "outputs": [
    {
     "data": {
      "text/latex": [
       "$\\displaystyle \\frac{R^{\\alpha} \\left(R^{\\alpha} \\alpha \\left(b_{0} - 1\\right) - \\alpha \\left(b_{0} - 1\\right) \\left(N b_{0}^{\\alpha} + R^{\\alpha}\\right) + b_{0} \\left(N b_{0}^{\\alpha} + R^{\\alpha}\\right)\\right)}{b_{0} \\left(N b_{0}^{\\alpha} + R^{\\alpha}\\right)^{2}} = 0$"
      ],
      "text/plain": [
       "Eq(R**alpha*(R**alpha*alpha*(b0 - 1) - alpha*(b0 - 1)*(N*b0**alpha + R**alpha) + b0*(N*b0**alpha + R**alpha))/(b0*(N*b0**alpha + R**alpha)**2), 0)"
      ]
     },
     "execution_count": 216,
     "metadata": {},
     "output_type": "execute_result"
    }
   ],
   "source": [
    "foc = sp.Eq(sp.simplify(sp.diff(u0, b0)),0)\n",
    "foc"
   ]
  },
  {
   "cell_type": "code",
   "execution_count": 249,
   "metadata": {},
   "outputs": [
    {
     "name": "stdout",
     "output_type": "stream",
     "text": [
      "\\frac{R^{\\alpha} \\left(R^{\\alpha} \\alpha \\left(b_{0} - 1\\right) - \\alpha \\left(b_{0} - 1\\right) \\left(N b_{0}^{\\alpha} + R^{\\alpha}\\right) + b_{0} \\left(N b_{0}^{\\alpha} + R^{\\alpha}\\right)\\right)}{b_{0} \\left(N b_{0}^{\\alpha} + R^{\\alpha}\\right)^{2}} = 0\n"
     ]
    }
   ],
   "source": [
    "print_latex(foc)"
   ]
  },
  {
   "cell_type": "code",
   "execution_count": 258,
   "metadata": {},
   "outputs": [
    {
     "data": {
      "text/latex": [
       "$\\displaystyle R^{\\alpha} \\left(R^{\\alpha} \\alpha \\left(b_{0} - 1\\right) - \\alpha \\left(b_{0} - 1\\right) \\left(N b_{0}^{\\alpha} + R^{\\alpha}\\right) + b_{0} \\left(N b_{0}^{\\alpha} + R^{\\alpha}\\right)\\right)$"
      ],
      "text/plain": [
       "R**alpha*(R**alpha*alpha*(b0 - 1) - alpha*(b0 - 1)*(N*b0**alpha + R**alpha) + b0*(N*b0**alpha + R**alpha))"
      ]
     },
     "execution_count": 258,
     "metadata": {},
     "output_type": "execute_result"
    }
   ],
   "source": [
    "sp.fraction(foc.lhs)[0]"
   ]
  },
  {
   "cell_type": "code",
   "execution_count": 262,
   "metadata": {},
   "outputs": [
    {
     "data": {
      "text/latex": [
       "$\\displaystyle R^{\\alpha} \\left(N \\alpha b_{0}^{\\alpha} - N \\alpha b_{0}^{\\alpha + 1} + N b_{0}^{\\alpha + 1} + R^{\\alpha} b_{0}\\right)$"
      ],
      "text/plain": [
       "R**alpha*(N*alpha*b0**alpha - N*alpha*b0**(alpha + 1) + N*b0**(alpha + 1) + R**alpha*b0)"
      ]
     },
     "execution_count": 262,
     "metadata": {},
     "output_type": "execute_result"
    }
   ],
   "source": [
    "sp.simplify(sp.fraction(foc.lhs)[0])"
   ]
  },
  {
   "cell_type": "code",
   "execution_count": 273,
   "metadata": {},
   "outputs": [
    {
     "data": {
      "text/latex": [
       "$\\displaystyle R^{\\alpha} \\left(- N \\alpha b_{0}^{\\alpha} + N \\alpha b_{0}^{\\alpha - 1} + N b_{0}^{\\alpha} + R^{\\alpha}\\right)$"
      ],
      "text/plain": [
       "R**alpha*(-N*alpha*b0**alpha + N*alpha*b0**(alpha - 1) + N*b0**alpha + R**alpha)"
      ]
     },
     "execution_count": 273,
     "metadata": {},
     "output_type": "execute_result"
    }
   ],
   "source": [
    "new = R**alpha * (N*alpha*b0**(alpha-1) - N*alpha*b0**alpha + N*b0**alpha + R**alpha)\n",
    "new"
   ]
  },
  {
   "cell_type": "code",
   "execution_count": 218,
   "metadata": {},
   "outputs": [],
   "source": [
    "def getAllo(b0, N_, R_, alpha_):\n",
    "    return b0**(-alpha_) / (b0**(-alpha_) + N_*R_**(-alpha_))"
   ]
  },
  {
   "cell_type": "code",
   "execution_count": 234,
   "metadata": {},
   "outputs": [
    {
     "data": {
      "text/latex": [
       "$\\displaystyle 4.99192326810187$"
      ],
      "text/plain": [
       "4.99192326810187"
      ]
     },
     "execution_count": 234,
     "metadata": {},
     "output_type": "execute_result"
    }
   ],
   "source": [
    "N_ = 3\n",
    "R_ = 8\n",
    "alpha_ = 4\n",
    "guess = 6\n",
    "eq_numeric = foc.evalf(subs={N:N_, R:R_, alpha:alpha_})\n",
    "b0_star = sp.nsolve(eq_numeric, b0, guess)\n",
    "b0_star"
   ]
  },
  {
   "cell_type": "code",
   "execution_count": 235,
   "metadata": {},
   "outputs": [
    {
     "data": {
      "text/plain": [
       "(0.687373545729782, 0.312626454270218)"
      ]
     },
     "execution_count": 235,
     "metadata": {},
     "output_type": "execute_result"
    }
   ],
   "source": [
    "x0 = getAllo(b0_star, N_, R_, alpha_)\n",
    "xm1 = 1-x0\n",
    "x0, xm1"
   ]
  },
  {
   "cell_type": "code",
   "execution_count": 236,
   "metadata": {},
   "outputs": [
    {
     "data": {
      "text/latex": [
       "$\\displaystyle 8.19040844821501$"
      ],
      "text/plain": [
       "8.19040844821501"
      ]
     },
     "execution_count": 236,
     "metadata": {},
     "output_type": "execute_result"
    }
   ],
   "source": [
    "PoA = x0 + N_*R_*xm1\n",
    "PoA"
   ]
  },
  {
   "cell_type": "code",
   "execution_count": 239,
   "metadata": {},
   "outputs": [],
   "source": [
    "def getPoA(N_, R_, alpha_, guess):\n",
    "    eq_numeric = foc.evalf(subs={N:N_, R:R_, alpha:alpha_})\n",
    "    b0_star = sp.nsolve(eq_numeric, b0, guess)\n",
    "    x0 = getAllo(b0_star, N_, R_, alpha_)\n",
    "    xm1 = 1-x0\n",
    "    return x0 + N_*R_*xm1"
   ]
  },
  {
   "cell_type": "code",
   "execution_count": 240,
   "metadata": {},
   "outputs": [
    {
     "data": {
      "text/latex": [
       "$\\displaystyle 8.19040844821501$"
      ],
      "text/plain": [
       "8.19040844821501"
      ]
     },
     "execution_count": 240,
     "metadata": {},
     "output_type": "execute_result"
    }
   ],
   "source": [
    "getPoA(3., 8., 4., guess=4.)"
   ]
  },
  {
   "cell_type": "code",
   "execution_count": 324,
   "metadata": {},
   "outputs": [
    {
     "data": {
      "text/plain": [
       "(3, 19, 3)"
      ]
     },
     "execution_count": 324,
     "metadata": {},
     "output_type": "execute_result"
    }
   ],
   "source": [
    "rs = [2, 4, 8]\n",
    "ns = np.arange(1, 20)\n",
    "alphas = [3, 4, 5]\n",
    "guesses = [1.5, 2, 4]\n",
    "\n",
    "poas = []\n",
    "for i, R_ in enumerate(rs):\n",
    "    temp = []\n",
    "    for N_ in ns:\n",
    "        temp2 = []\n",
    "        for alpha_ in alphas:\n",
    "            # print(N_, R_, alpha_)\n",
    "            temp2.append(getPoA(N_, R_, alpha_, guesses[i]))\n",
    "        temp.append(temp2)\n",
    "    poas.append(temp)\n",
    "poas = np.array(poas)\n",
    "poas.shape"
   ]
  },
  {
   "cell_type": "code",
   "execution_count": 325,
   "metadata": {},
   "outputs": [],
   "source": [
    "def getHonestAllos(N_, R_, alpha_):\n",
    "    costs = [R_]*N_\n",
    "    costs.append(1.)\n",
    "    costs = np.array(costs)\n",
    "    return costs, costs**(-alpha_) / sum(costs**(-alpha_))"
   ]
  },
  {
   "cell_type": "code",
   "execution_count": 326,
   "metadata": {},
   "outputs": [
    {
     "data": {
      "text/plain": [
       "(array([5., 5., 5., 5., 5., 1.]),\n",
       " array([0.00769231, 0.00769231, 0.00769231, 0.00769231, 0.00769231,\n",
       "        0.96153846]))"
      ]
     },
     "execution_count": 326,
     "metadata": {},
     "output_type": "execute_result"
    }
   ],
   "source": [
    "getHonestAllos(5,5,3)"
   ]
  },
  {
   "cell_type": "code",
   "execution_count": 327,
   "metadata": {},
   "outputs": [
    {
     "data": {
      "text/plain": [
       "(3, 19, 3)"
      ]
     },
     "execution_count": 327,
     "metadata": {},
     "output_type": "execute_result"
    }
   ],
   "source": [
    "welfares = [] \n",
    "for i, R_ in enumerate(rs):\n",
    "    temp = []\n",
    "    for N_ in ns:\n",
    "        temp2 = []\n",
    "        for alpha_ in alphas:\n",
    "            costs, allos = getHonestAllos(N_, R_, alpha_)\n",
    "            social_cost = np.dot(costs, allos)\n",
    "            temp2.append(social_cost)\n",
    "        temp.append(temp2)\n",
    "    welfares.append(temp)\n",
    "welfares = np.array(welfares)\n",
    "welfares.shape"
   ]
  },
  {
   "cell_type": "code",
   "execution_count": 328,
   "metadata": {},
   "outputs": [
    {
     "data": {
      "text/plain": [
       "(array([5., 5., 5., 5., 5., 1.]),\n",
       " array([0.00769231, 0.00769231, 0.00769231, 0.00769231, 0.00769231,\n",
       "        0.96153846]),\n",
       " 1.1538461538461537)"
      ]
     },
     "execution_count": 328,
     "metadata": {},
     "output_type": "execute_result"
    }
   ],
   "source": [
    "costs, allos = getHonestAllos(5, 5, 3)\n",
    "costs, allos, np.dot(costs, allos)"
   ]
  },
  {
   "cell_type": "code",
   "execution_count": 329,
   "metadata": {},
   "outputs": [
    {
     "data": {
      "image/png": "[encoded data removed]",
      "text/plain": [
       "<Figure size 1008x288 with 3 Axes>"
      ]
     },
     "metadata": {
      "needs_background": "light"
     },
     "output_type": "display_data"
    }
   ],
   "source": [
    "f, axarr = plt.subplots(ncols=3, figsize=(14,4))\n",
    "\n",
    "colors = ['darkorange', 'seagreen', 'darkslateblue']\n",
    "for i in range(3):\n",
    "#     axarr[i].plot(ns, 1+ns*rs[i], color='black')\n",
    "    for j in range(3):\n",
    "        axarr[i].plot(ns, poas[i,:,j], label=r'PoA: $\\alpha=${}'.format(alphas[j]), color=colors[j])\n",
    "\n",
    "    \n",
    "for i, ax in enumerate(axarr):\n",
    "    ax.legend()\n",
    "    ax.grid(alpha=0.3)\n",
    "    ax.set_xticks(np.arange(0,21,5))\n",
    "    ax.set_xlabel(r'$N$', size=14)\n",
    "    ax.set_title(r'$R={}$'.format(rs[i], size=14))\n",
    "\n",
    "# plt.savefig('out.png', dpi=400, bbox_inches='tight', facecolor='white')\n",
    "plt.show()"
   ]
  },
  {
   "cell_type": "code",
   "execution_count": 330,
   "metadata": {},
   "outputs": [
    {
     "data": {
      "text/latex": [
       "$\\displaystyle \\frac{c \\left(- a x + a - 1\\right)}{-1 + \\frac{a x}{N} + \\frac{a \\left(N - 1\\right)}{N}} = \\frac{N^{1 + \\frac{1}{a}} \\left(a \\left(1 - x\\right) + 2 x - 1\\right)}{a \\left(N + x - 1\\right)}$"
      ],
      "text/plain": [
       "Eq(c*(-a*x + a - 1)/(-1 + a*x/N + a*(N - 1)/N), N**(1 + 1/a)*(a*(1 - x) + 2*x - 1)/(a*(N + x - 1)))"
      ]
     },
     "execution_count": 330,
     "metadata": {},
     "output_type": "execute_result"
    }
   ],
   "source": [
    "# Define symbols\n",
    "x, c, a, N = sp.symbols('x c a N')\n",
    "\n",
    "# Define the original equation\n",
    "lhs = c * (a - a*x - 1) / ((a*(N - 1))/N + (a*x)/N - 1)\n",
    "rhs = (N**(1 + 1/a) * (a*(1 - x) + 2*x -1)) / (a*(N + x -1))\n",
    "\n",
    "# Form the equation\n",
    "equation = sp.Eq(lhs, rhs)\n",
    "equation"
   ]
  },
  {
   "cell_type": "code",
   "execution_count": 331,
   "metadata": {},
   "outputs": [
    {
     "data": {
      "text/latex": [
       "$\\displaystyle \\frac{- N a c \\left(N + x - 1\\right) \\left(a x - a + 1\\right) + N^{\\frac{a + 1}{a}} \\left(- N + a x + a \\left(N - 1\\right)\\right) \\left(a \\left(x - 1\\right) - 2 x + 1\\right)}{a \\left(- N + a x + a \\left(N - 1\\right)\\right) \\left(N + x - 1\\right)}$"
      ],
      "text/plain": [
       "(-N*a*c*(N + x - 1)*(a*x - a + 1) + N**((a + 1)/a)*(-N + a*x + a*(N - 1))*(a*(x - 1) - 2*x + 1))/(a*(-N + a*x + a*(N - 1))*(N + x - 1))"
      ]
     },
     "execution_count": 331,
     "metadata": {},
     "output_type": "execute_result"
    }
   ],
   "source": [
    "quadratic_eq = sp.simplify(equation.lhs - equation.rhs)\n",
    "quadratic_eq"
   ]
  },
  {
   "cell_type": "code",
   "execution_count": 332,
   "metadata": {},
   "outputs": [
    {
     "data": {
      "text/latex": [
       "$\\displaystyle \\frac{- N^{2} a^{2} c + 2 N a^{2} c - N a c - 2 N^{1 + \\frac{1}{a}} a^{2} + 3 N^{1 + \\frac{1}{a}} a + N^{2 + \\frac{1}{a}} a^{2} - 3 N^{2 + \\frac{1}{a}} a + 2 N^{2 + \\frac{1}{a}} + \\sqrt{N^{4} a^{4} c^{2} - 2 N^{3} a^{3} c^{2} + N^{2} a^{2} c^{2} + 2 N^{2 + \\frac{1}{a}} a^{2} c + N^{2 + \\frac{2}{a}} a^{2} + 2 N^{3 + \\frac{1}{a}} a^{2} c - 4 N^{3 + \\frac{1}{a}} a c + 2 N^{3 + \\frac{2}{a}} a^{3} - 6 N^{3 + \\frac{2}{a}} a^{2} + 4 N^{3 + \\frac{2}{a}} a - 2 N^{4 + \\frac{1}{a}} a^{4} c + 6 N^{4 + \\frac{1}{a}} a^{3} c - 4 N^{4 + \\frac{1}{a}} a^{2} c + N^{4 + \\frac{2}{a}} a^{4} - 6 N^{4 + \\frac{2}{a}} a^{3} + 13 N^{4 + \\frac{2}{a}} a^{2} - 12 N^{4 + \\frac{2}{a}} a + 4 N^{4 + \\frac{2}{a}}}}{2 a \\left(N a c - N^{1 + \\frac{1}{a}} a + 2 N^{1 + \\frac{1}{a}}\\right)}$"
      ],
      "text/plain": [
       "(-N**2*a**2*c + 2*N*a**2*c - N*a*c - 2*N**(1 + 1/a)*a**2 + 3*N**(1 + 1/a)*a + N**(2 + 1/a)*a**2 - 3*N**(2 + 1/a)*a + 2*N**(2 + 1/a) + sqrt(N**4*a**4*c**2 - 2*N**3*a**3*c**2 + N**2*a**2*c**2 + 2*N**(2 + 1/a)*a**2*c + N**(2 + 2/a)*a**2 + 2*N**(3 + 1/a)*a**2*c - 4*N**(3 + 1/a)*a*c + 2*N**(3 + 2/a)*a**3 - 6*N**(3 + 2/a)*a**2 + 4*N**(3 + 2/a)*a - 2*N**(4 + 1/a)*a**4*c + 6*N**(4 + 1/a)*a**3*c - 4*N**(4 + 1/a)*a**2*c + N**(4 + 2/a)*a**4 - 6*N**(4 + 2/a)*a**3 + 13*N**(4 + 2/a)*a**2 - 12*N**(4 + 2/a)*a + 4*N**(4 + 2/a)))/(2*a*(N*a*c - N**(1 + 1/a)*a + 2*N**(1 + 1/a)))"
      ]
     },
     "execution_count": 332,
     "metadata": {},
     "output_type": "execute_result"
    }
   ],
   "source": [
    "# Solve for x\n",
    "roots_sym = sp.solve(quadratic_eq, x)\n",
    "roots_sym[1]"
   ]
  },
  {
   "cell_type": "code",
   "execution_count": 333,
   "metadata": {},
   "outputs": [
    {
     "name": "stdout",
     "output_type": "stream",
     "text": [
      "\\frac{- N^{2} a^{2} c + 2 N a^{2} c - N a c - 2 N^{1 + \\frac{1}{a}} a^{2} + 3 N^{1 + \\frac{1}{a}} a + N^{2 + \\frac{1}{a}} a^{2} - 3 N^{2 + \\frac{1}{a}} a + 2 N^{2 + \\frac{1}{a}} + \\sqrt{N^{4} a^{4} c^{2} - 2 N^{3} a^{3} c^{2} + N^{2} a^{2} c^{2} + 2 N^{2 + \\frac{1}{a}} a^{2} c + N^{2 + \\frac{2}{a}} a^{2} + 2 N^{3 + \\frac{1}{a}} a^{2} c - 4 N^{3 + \\frac{1}{a}} a c + 2 N^{3 + \\frac{2}{a}} a^{3} - 6 N^{3 + \\frac{2}{a}} a^{2} + 4 N^{3 + \\frac{2}{a}} a - 2 N^{4 + \\frac{1}{a}} a^{4} c + 6 N^{4 + \\frac{1}{a}} a^{3} c - 4 N^{4 + \\frac{1}{a}} a^{2} c + N^{4 + \\frac{2}{a}} a^{4} - 6 N^{4 + \\frac{2}{a}} a^{3} + 13 N^{4 + \\frac{2}{a}} a^{2} - 12 N^{4 + \\frac{2}{a}} a + 4 N^{4 + \\frac{2}{a}}}}{2 a \\left(N a c - N^{1 + \\frac{1}{a}} a + 2 N^{1 + \\frac{1}{a}}\\right)}\n"
     ]
    }
   ],
   "source": [
    "sp.print_latex(roots_sym[1])"
   ]
  },
  {
   "cell_type": "code",
   "execution_count": 29,
   "metadata": {},
   "outputs": [],
   "source": [
    "roots = np.array([roots_sym[1].evalf(subs={N:N_, a:alpha, c:c1}) for c1 in c1s])"
   ]
  },
  {
   "cell_type": "code",
   "execution_count": 340,
   "metadata": {},
   "outputs": [
    {
     "data": {
      "text/plain": [
       "(3, 19, 3)"
      ]
     },
     "execution_count": 340,
     "metadata": {},
     "output_type": "execute_result"
    }
   ],
   "source": [
    "roots = [] \n",
    "for i, R_ in enumerate(rs):\n",
    "    temp = []\n",
    "    for N_ in ns:\n",
    "        temp2 = []\n",
    "        for alpha_ in alphas:\n",
    "            root = roots_sym[1].evalf(subs={N:N_, a:alpha_, c:R_})\n",
    "            val = root + R_*(1-root)\n",
    "            temp2.append(val)\n",
    "        temp.append(temp2)\n",
    "    roots.append(temp)\n",
    "roots = np.array(roots)\n",
    "roots.shape"
   ]
  },
  {
   "cell_type": "code",
   "execution_count": 364,
   "metadata": {},
   "outputs": [
    {
     "data": {
      "text/plain": [
       "(19, 3)"
      ]
     },
     "execution_count": 364,
     "metadata": {},
     "output_type": "execute_result"
    }
   ],
   "source": [
    "R_     = 2.\n",
    "welfares = []\n",
    "for N_ in ns:\n",
    "    temp = []\n",
    "    for alpha_ in alphas:\n",
    "        costs   = [1]\n",
    "        costs.extend([R_]*N_)\n",
    "        bids    = getEquilBids(costs, a=alpha_, guess=costs)\n",
    "        xTilde  = getAllos(bids, a=alpha_)\n",
    "        temp.append(np.dot(costs, xTilde))\n",
    "    welfares.append(temp)\n",
    "welfares = np.array(welfares)\n",
    "welfares.shape"
   ]
  },
  {
   "cell_type": "code",
   "execution_count": 372,
   "metadata": {},
   "outputs": [
    {
     "data": {
      "text/plain": [
       "(19, 3)"
      ]
     },
     "execution_count": 372,
     "metadata": {},
     "output_type": "execute_result"
    }
   ],
   "source": [
    "R_     = 4.\n",
    "welfares4 = []\n",
    "for N_ in ns:\n",
    "    temp = []\n",
    "    for alpha_ in alphas:\n",
    "        costs   = [1]\n",
    "        costs.extend([R_]*N_)\n",
    "        guesses   = [2]\n",
    "        guesses.extend([R_]*N_)\n",
    "        bids    = getEquilBids(costs, a=alpha_, guess=guesses)\n",
    "        xTilde  = getAllos(bids, a=alpha_)\n",
    "        temp.append(np.dot(costs, xTilde))\n",
    "    welfares4.append(temp)\n",
    "welfares4 = np.array(welfares4)\n",
    "welfares4.shape"
   ]
  },
  {
   "cell_type": "code",
   "execution_count": 385,
   "metadata": {},
   "outputs": [
    {
     "data": {
      "text/plain": [
       "(19, 3)"
      ]
     },
     "execution_count": 385,
     "metadata": {},
     "output_type": "execute_result"
    }
   ],
   "source": [
    "R_     = 8.\n",
    "welfares8 = []\n",
    "for N_ in ns:\n",
    "    temp = []\n",
    "    for alpha_ in alphas:\n",
    "        costs   = [1]\n",
    "        costs.extend([R_]*N_)\n",
    "        guesses   = [3]\n",
    "        guesses.extend([R_]*N_)\n",
    "        bids    = getEquilBids(costs, a=alpha_, guess=guesses)\n",
    "        xTilde  = getAllos(bids, a=alpha_)\n",
    "        temp.append(np.dot(costs, xTilde))\n",
    "    welfares8.append(temp)\n",
    "welfares8 = np.array(welfares8)\n",
    "welfares8.shape"
   ]
  },
  {
   "cell_type": "code",
   "execution_count": 392,
   "metadata": {},
   "outputs": [
    {
     "data": {
      "text/plain": [
       "array([ 4.48874627, 12.17923862, 12.17923862, 12.17923862, 12.17923862,\n",
       "       12.17923862, 12.17923862, 12.17923862, 12.17923862, 12.17923862,\n",
       "       12.17923862, 12.17923862, 12.17923862, 12.17923862, 12.17923862,\n",
       "       12.17923862])"
      ]
     },
     "execution_count": 392,
     "metadata": {},
     "output_type": "execute_result"
    }
   ],
   "source": [
    "# EXAMPLE\n",
    "N_     = 15\n",
    "R_     = 8\n",
    "alpha_ = 3\n",
    "costs   = [1]\n",
    "costs.extend([R_]*N_)\n",
    "guesses   = [3]\n",
    "guesses.extend([R_]*N_)\n",
    "bids= getEquilBids(costs, a=alpha_, guess=guesses)\n",
    "bids"
   ]
  },
  {
   "cell_type": "code",
   "execution_count": 393,
   "metadata": {},
   "outputs": [
    {
     "data": {
      "text/plain": [
       "array([0.57112136, 0.02859191, 0.02859191, 0.02859191, 0.02859191,\n",
       "       0.02859191, 0.02859191, 0.02859191, 0.02859191, 0.02859191,\n",
       "       0.02859191, 0.02859191, 0.02859191, 0.02859191, 0.02859191,\n",
       "       0.02859191])"
      ]
     },
     "execution_count": 393,
     "metadata": {},
     "output_type": "execute_result"
    }
   ],
   "source": [
    "xTilde  = getAllos(bids, a=alpha_)\n",
    "xTilde"
   ]
  },
  {
   "cell_type": "code",
   "execution_count": 395,
   "metadata": {},
   "outputs": [
    {
     "data": {
      "text/plain": [
       "[1, 8, 8, 8, 8, 8, 8, 8, 8, 8, 8, 8, 8, 8, 8, 8]"
      ]
     },
     "execution_count": 395,
     "metadata": {},
     "output_type": "execute_result"
    }
   ],
   "source": [
    "costs"
   ]
  },
  {
   "cell_type": "code",
   "execution_count": 394,
   "metadata": {},
   "outputs": [
    {
     "data": {
      "text/plain": [
       "4.002150481227024"
      ]
     },
     "execution_count": 394,
     "metadata": {},
     "output_type": "execute_result"
    }
   ],
   "source": [
    "np.dot(costs, xTilde)"
   ]
  },
  {
   "cell_type": "code",
   "execution_count": 391,
   "metadata": {},
   "outputs": [
    {
     "data": {
      "image/png": "[encoded data removed]",
      "text/plain": [
       "<Figure size 1008x360 with 3 Axes>"
      ]
     },
     "metadata": {
      "needs_background": "light"
     },
     "output_type": "display_data"
    }
   ],
   "source": [
    "f, axarr = plt.subplots(ncols=3, figsize=(14,5))\n",
    "\n",
    "colors = ['darkorange', 'seagreen', 'darkslateblue']\n",
    "for i in range(3):\n",
    "    for j in range(3):\n",
    "        axarr[i].plot(ns, roots[i,:,j], label=r'PoA bound: $\\alpha=${}'.format(alphas[j]),\n",
    "                      color=colors[j], linestyle='--')\n",
    "\n",
    "for i in range(3):\n",
    "    axarr[0].plot(ns, welfares[:,i], color=colors[i], label=r'PoA actual: $\\alpha=${}'.format(alphas[j]))\n",
    "    axarr[1].plot(ns, welfares4[:,i], color=colors[i], label=r'PoA actual: $\\alpha=${}'.format(alphas[j]))\n",
    "    axarr[2].plot(ns, welfares8[:,i], color=colors[i], label=r'PoA actual: $\\alpha=${}'.format(alphas[j]))\n",
    "    \n",
    "for i, ax in enumerate(axarr):\n",
    "    ax.grid(alpha=0.3)\n",
    "    ax.set_xticks(np.arange(0,21,5))\n",
    "    ax.set_xlabel(r'$N$', size=14)\n",
    "    ax.set_title(r'$R={}$'.format(rs[i], size=20))\n",
    "\n",
    "handles, labels = axarr[0].get_legend_handles_labels()\n",
    "f.legend(\n",
    "    handles, \n",
    "    labels, \n",
    "    loc='lower center', \n",
    "    ncol=2, \n",
    "    bbox_to_anchor=(0.5, -0.05),  # Adjust the position as needed\n",
    "    fontsize='medium'\n",
    ")\n",
    "axarr[0].set_ylabel('PoA', size=14)\n",
    "plt.subplots_adjust(bottom=0.24)\n",
    "\n",
    "plt.savefig('out.png', dpi=400, bbox_inches='tight', facecolor='white')\n",
    "plt.show()"
   ]
  },
  {
   "cell_type": "markdown",
   "metadata": {},
   "source": [
    "# Bounding b_0"
   ]
  },
  {
   "cell_type": "code",
   "execution_count": 277,
   "metadata": {},
   "outputs": [
    {
     "data": {
      "text/latex": [
       "$\\displaystyle \\frac{R^{\\alpha} \\left(R^{\\alpha} \\alpha \\left(b_{0} - 1\\right) - \\alpha \\left(b_{0} - 1\\right) \\left(N b_{0}^{\\alpha} + R^{\\alpha}\\right) + b_{0} \\left(N b_{0}^{\\alpha} + R^{\\alpha}\\right)\\right)}{b_{0} \\left(N b_{0}^{\\alpha} + R^{\\alpha}\\right)^{2}} = 0$"
      ],
      "text/plain": [
       "Eq(R**alpha*(R**alpha*alpha*(b0 - 1) - alpha*(b0 - 1)*(N*b0**alpha + R**alpha) + b0*(N*b0**alpha + R**alpha))/(b0*(N*b0**alpha + R**alpha)**2), 0)"
      ]
     },
     "execution_count": 277,
     "metadata": {},
     "output_type": "execute_result"
    }
   ],
   "source": [
    "foc"
   ]
  },
  {
   "cell_type": "code",
   "execution_count": 276,
   "metadata": {},
   "outputs": [],
   "source": [
    "def getbstar(N_, R_, alpha_, guess):\n",
    "    eq_numeric = foc.evalf(subs={N:N_, R:R_, alpha:alpha_})\n",
    "    return sp.nsolve(eq_numeric, b0, guess)"
   ]
  },
  {
   "cell_type": "code",
   "execution_count": 295,
   "metadata": {},
   "outputs": [
    {
     "data": {
      "text/latex": [
       "$\\displaystyle 2.10297606448782$"
      ],
      "text/plain": [
       "2.10297606448782"
      ]
     },
     "execution_count": 295,
     "metadata": {},
     "output_type": "execute_result"
    }
   ],
   "source": [
    "getbstar(12., 4., 3., 2.)"
   ]
  },
  {
   "cell_type": "code",
   "execution_count": 283,
   "metadata": {},
   "outputs": [],
   "source": [
    "alpha_ = 3\n",
    "R_     = 4\n",
    "ns     = np.arange(1, 20)"
   ]
  },
  {
   "cell_type": "code",
   "execution_count": 296,
   "metadata": {},
   "outputs": [
    {
     "name": "stdout",
     "output_type": "stream",
     "text": [
      "19 4 3\r"
     ]
    },
    {
     "data": {
      "text/plain": [
       "(19,)"
      ]
     },
     "execution_count": 296,
     "metadata": {},
     "output_type": "execute_result"
    }
   ],
   "source": [
    "bstars = []\n",
    "for N_ in ns:\n",
    "    print(N_,R_,alpha_, end='\\r')\n",
    "    bstars.append(getbstar(N_, R_, alpha_, 0.5*R_))\n",
    "bstars = np.array(bstars)\n",
    "bstars.shape"
   ]
  },
  {
   "cell_type": "code",
   "execution_count": 300,
   "metadata": {},
   "outputs": [],
   "source": [
    "def bstarbound(N_, R_, alpha_):\n",
    "    return (R_**alpha_ / N_ + (alpha_-1)**2)/((alpha_ - 1)*alpha_)"
   ]
  },
  {
   "cell_type": "code",
   "execution_count": 304,
   "metadata": {},
   "outputs": [],
   "source": [
    "def bstarbound(N_, R_, alpha_):\n",
    "    return (R_**alpha_/(N_*(alpha_-1)))**(1/alpha_)"
   ]
  },
  {
   "cell_type": "code",
   "execution_count": 305,
   "metadata": {},
   "outputs": [
    {
     "data": {
      "text/plain": [
       "[<matplotlib.lines.Line2D at 0x15a4d9580>]"
      ]
     },
     "execution_count": 305,
     "metadata": {},
     "output_type": "execute_result"
    },
    {
     "data": {
      "image/png": "[encoded data removed]",
      "text/plain": [
       "<Figure size 432x288 with 1 Axes>"
      ]
     },
     "metadata": {
      "needs_background": "light"
     },
     "output_type": "display_data"
    }
   ],
   "source": [
    "plt.plot(ns, bstars)\n",
    "plt.plot(ns, bstarbound(ns, R_, alpha_))"
   ]
  },
  {
   "cell_type": "code",
   "execution_count": 309,
   "metadata": {},
   "outputs": [
    {
     "data": {
      "text/plain": [
       "(alpha, b0, N, R)"
      ]
     },
     "execution_count": 309,
     "metadata": {},
     "output_type": "execute_result"
    }
   ],
   "source": [
    "alpha, b0, N, R"
   ]
  },
  {
   "cell_type": "code",
   "execution_count": 313,
   "metadata": {},
   "outputs": [
    {
     "data": {
      "text/latex": [
       "$\\displaystyle - \\alpha \\left(\\left(\\alpha - 1\\right) \\left(b_{0} - 1\\right) + 1\\right) + \\left(\\alpha - 1\\right) \\left(\\alpha \\left(b_{0} - 1\\right) + 1\\right) = \\frac{R^{\\alpha}}{N}$"
      ],
      "text/plain": [
       "Eq(-alpha*((alpha - 1)*(b0 - 1) + 1) + (alpha - 1)*(alpha*(b0 - 1) + 1), R**alpha/N)"
      ]
     },
     "execution_count": 313,
     "metadata": {},
     "output_type": "execute_result"
    }
   ],
   "source": [
    "eq = sp.Eq((alpha-1)*(1+alpha*(b0-1))-alpha*(1+(alpha-1)*(b0-1)), R**alpha/N)\n",
    "eq"
   ]
  },
  {
   "cell_type": "code",
   "execution_count": 314,
   "metadata": {},
   "outputs": [
    {
     "data": {
      "text/plain": [
       "[]"
      ]
     },
     "execution_count": 314,
     "metadata": {},
     "output_type": "execute_result"
    }
   ],
   "source": [
    "sp.solve(eq, b0)"
   ]
  },
  {
   "cell_type": "code",
   "execution_count": 320,
   "metadata": {},
   "outputs": [
    {
     "name": "stdout",
     "output_type": "stream",
     "text": [
      "1 4 3\r",
      "2 4 3\r",
      "3 4 3\r",
      "4 4 3\r",
      "5 4 3\r",
      "6 4 3\r",
      "7 4 3\r",
      "8 4 3\r",
      "9 4 3\r",
      "10 4 3\r",
      "11 4 3\r",
      "12 4 3\r",
      "13 4 3\r",
      "14 4 3\r",
      "15 4 3\r",
      "16 4 3\r",
      "17 4 3\r",
      "18 4 3\r",
      "19 4 3\r"
     ]
    },
    {
     "data": {
      "text/plain": [
       "(19,)"
      ]
     },
     "execution_count": 320,
     "metadata": {},
     "output_type": "execute_result"
    }
   ],
   "source": [
    "poas = []\n",
    "poas2 = []\n",
    "for i, N_ in enumerate(ns):\n",
    "    print(N_,R_,alpha_, end='\\r')\n",
    "    x0 = getAllo(bstars[i], N_, R_, alpha_)\n",
    "    xm1 = 1-x0\n",
    "    poas.append(x0 + N_*R_*xm1)\n",
    "    \n",
    "    xb = bstarbound(N_, R_, alpha_)\n",
    "    xm1 = 1-xb\n",
    "    poas2.append(xb + N_*R_*xm1)\n",
    "poas = np.array(poas)\n",
    "poas.shape"
   ]
  },
  {
   "cell_type": "code",
   "execution_count": 322,
   "metadata": {},
   "outputs": [
    {
     "data": {
      "text/plain": [
       "[<matplotlib.lines.Line2D at 0x15a6c92e0>]"
      ]
     },
     "execution_count": 322,
     "metadata": {},
     "output_type": "execute_result"
    },
    {
     "data": {
      "image/png": "[encoded data removed]",
      "text/plain": [
       "<Figure size 432x288 with 1 Axes>"
      ]
     },
     "metadata": {
      "needs_background": "light"
     },
     "output_type": "display_data"
    }
   ],
   "source": [
    "plt.plot(ns, poas)\n",
    "plt.plot(ns, poas2)"
   ]
  }
 ],
 "metadata": {
  "kernelspec": {
   "display_name": "Python 3",
   "language": "python",
   "name": "python3"
  },
  "language_info": {
   "codemirror_mode": {
    "name": "ipython",
    "version": 3
   },
   "file_extension": ".py",
   "mimetype": "text/x-python",
   "name": "python",
   "nbconvert_exporter": "python",
   "pygments_lexer": "ipython3",
   "version": "3.8.16"
  }
 },
 "nbformat": 4,
 "nbformat_minor": 4
}
