{
 "cells": [
  {
   "cell_type": "code",
   "execution_count": 60,
   "metadata": {},
   "outputs": [],
   "source": [
    "import matplotlib.pyplot as plt\n",
    "import matplotlib as mpl\n",
    "import matplotlib.patches as mpatches\n",
    "import numpy as np\n",
    "import pandas as pd\n",
    "import cvxpy as cp\n",
    "from scipy.stats import poisson, uniform, expon, pareto\n",
    "from scipy.optimize import minimize, fsolve\n",
    "from tqdm import tqdm\n",
    "from mdptoolbox import mdp, util\n",
    "import itertools\n",
    "from scipy.sparse import csr_matrix, lil_matrix\n",
    "from matplotlib.patches import Patch\n",
    "import math\n",
    "import random\n",
    "import sympy as sp\n",
    "from sympy.printing.latex import print_latex"
   ]
  },
  {
   "cell_type": "code",
   "execution_count": 19,
   "metadata": {},
   "outputs": [],
   "source": [
    "import mpmath as mp\n",
    "import numpy as np\n",
    "import matplotlib.pyplot as plt\n",
    "\n",
    "# Parameters\n",
    "alpha = 3\n",
    "C = 1\n",
    "\n",
    "# Exponents for the Beta functions\n",
    "p = (alpha - 1)/alpha  # = 2/3\n",
    "q = (alpha + 1)/alpha  # = 4/3\n",
    "\n",
    "# Complete Beta function B(p,q)\n",
    "B_pq = mp.betainc(p, q, 0, 1)  # This is the full Beta integral from 0 to 1\n",
    "\n",
    "def I(b):\n",
    "    \"\"\"\n",
    "    I(b) = ∫[z=b..∞] [z^(-alpha) / (z^(-alpha) + C)^2] dz.\n",
    "    For alpha=3, C=1, it becomes (1/3)[B(2/3,4/3) - B_x(2/3,4/3)].\n",
    "    \"\"\"\n",
    "    # x = C / (b^(-alpha) + C) = 1 / (b^(-3) + 1)\n",
    "    x = C/(b**(-alpha) + C)\n",
    "    \n",
    "    # Lower incomplete Beta function B_x(p,q) = ∫[t=0..x] t^(p-1)*(1-t)^(q-1) dt\n",
    "    Bx_pq = mp.betainc(p, q, 0, x)  # lower incomplete Beta from 0 to x\n",
    "    \n",
    "    return (C**(1/alpha - 1)/alpha)*(B_pq - Bx_pq)\n",
    "\n",
    "# We'll sample b on a log-spaced or linear-spaced grid:\n",
    "b_vals = np.linspace(0.01, 10, 200)  # from b=0.01 to b=10\n",
    "I_vals = [I(b) for b in b_vals]"
   ]
  },
  {
   "cell_type": "code",
   "execution_count": 20,
   "metadata": {},
   "outputs": [],
   "source": [
    "def allo(b):\n",
    "    return b**(-alpha) / (C + b**(-alpha))"
   ]
  },
  {
   "cell_type": "code",
   "execution_count": 21,
   "metadata": {},
   "outputs": [],
   "source": [
    "allos = [allo(b) for b in b_vals]"
   ]
  },
  {
   "cell_type": "code",
   "execution_count": 18,
   "metadata": {},
   "outputs": [
    {
     "data": {
      "image/png": "[encoded data removed]",
      "text/plain": [
       "<Figure size 648x432 with 1 Axes>"
      ]
     },
     "metadata": {
      "needs_background": "light"
     },
     "output_type": "display_data"
    }
   ],
   "source": [
    "f, ax = plt.subplots(figsize=(9,6))\n",
    "\n",
    "ax.plot(b_vals, I_vals, label=r'payment')\n",
    "ax.plot(b_vals, allos, label=r'allocation')\n",
    "\n",
    "\n",
    "ax.set_xlabel(r'bid', size=15)\n",
    "ax.legend(fontsize=14)\n",
    "ax.grid(alpha=0.3)\n",
    "\n",
    "plt.show()"
   ]
  },
  {
   "cell_type": "code",
   "execution_count": 43,
   "metadata": {},
   "outputs": [],
   "source": [
    "def integral_z_alpha(alpha, C, b):\n",
    "    \"\"\"\n",
    "    Computes the definite integral:\n",
    "    I(alpha, C, b) = ∫[z=b..∞] z^(-alpha) / (z^(-alpha) + C)^2 dz\n",
    "    \n",
    "    Parameters:\n",
    "    -----------\n",
    "    alpha : float > 0\n",
    "    C     : float > 0\n",
    "    b     : float > 0\n",
    "    \n",
    "    Returns:\n",
    "    --------\n",
    "    Value of the integral as a float.\n",
    "    \"\"\"\n",
    "    # Define p and q for the Beta functions\n",
    "    p = (alpha - 1) / alpha\n",
    "    q = (alpha + 1) / alpha\n",
    "    \n",
    "    # Complete Beta function B(p,q)\n",
    "    # mpmath.betainc(p, q, 0, 1) gives the integral from 0 to 1\n",
    "    B_pq = mp.betainc(p, q, 0, 1)\n",
    "    \n",
    "    # Lower incomplete Beta function:\n",
    "    # betainc(p, q, 0, x) corresponds to ∫[0..x] t^(p-1)*(1-t)^(q-1) dt\n",
    "    x = C / (b**(-alpha) + C)\n",
    "    Bx_pq = mp.betainc(p, q, 0, x)\n",
    "    \n",
    "    # Combine everything according to the closed-form expression\n",
    "    factor = -C**(1/alpha) \n",
    "    return factor * (B_pq - Bx_pq)\n",
    "\n",
    "def allo(alpha, C, b):\n",
    "    return b**(-alpha) / (C + b**(-alpha))"
   ]
  },
  {
   "cell_type": "code",
   "execution_count": 44,
   "metadata": {},
   "outputs": [
    {
     "data": {
      "text/plain": [
       "((3, 200), (3, 200))"
      ]
     },
     "execution_count": 44,
     "metadata": {},
     "output_type": "execute_result"
    }
   ],
   "source": [
    "b_vals = np.linspace(0.01, 10, 200)  \n",
    "Cs     = [0.1, 1, 10]\n",
    "alpha  = 3\n",
    "\n",
    "payments = []\n",
    "allos    = []\n",
    "for C in Cs:\n",
    "    payments.append([integral_z_alpha(alpha, C, b) for b in b_vals])\n",
    "    allos.append([allo(alpha, C, b) for b in b_vals])\n",
    "payments = np.array(payments)\n",
    "allos    = np.array(allos)\n",
    "payments.shape, allos.shape"
   ]
  },
  {
   "cell_type": "code",
   "execution_count": 46,
   "metadata": {},
   "outputs": [
    {
     "data": {
      "image/png": "[encoded data removed]",
      "text/plain": [
       "<Figure size 1008x216 with 3 Axes>"
      ]
     },
     "metadata": {
      "needs_background": "light"
     },
     "output_type": "display_data"
    }
   ],
   "source": [
    "f, axarr = plt.subplots(ncols=3, figsize=(14,3))\n",
    "\n",
    "\n",
    "for i, ax in enumerate(axarr):\n",
    "    ax.plot(b_vals, payments[i], label=r'payment')\n",
    "    ax.plot(b_vals, allos[i], label=r'allocation')\n",
    "\n",
    "    ax.set_xlabel(r'bid', size=14)\n",
    "    ax.legend(fontsize=12)\n",
    "    ax.grid(alpha=0.3)\n",
    "    ax.set_title(r'$C={}, \\alpha=3$'.format(Cs[i]), size=14)\n",
    "\n",
    "plt.savefig('out.png', dpi=150, bbox_inches='tight', facecolor='white')\n",
    "plt.show()"
   ]
  },
  {
   "cell_type": "markdown",
   "metadata": {},
   "source": [
    "# optimization"
   ]
  },
  {
   "cell_type": "code",
   "execution_count": 56,
   "metadata": {},
   "outputs": [],
   "source": [
    "def F(x, c, alpha):\n",
    "    vals  = np.array([c[i]*np.power(x[i], 1+1/alpha) for i in range(len(c))])\n",
    "    return np.sum(vals)"
   ]
  },
  {
   "cell_type": "code",
   "execution_count": 62,
   "metadata": {},
   "outputs": [],
   "source": [
    "def Theos(c, alpha):\n",
    "    den = sum(np.power(c, -alpha))\n",
    "    return np.power(c, -alpha)/den"
   ]
  },
  {
   "cell_type": "code",
   "execution_count": 77,
   "metadata": {},
   "outputs": [],
   "source": [
    "c = np.array([1,10,4,3])\n",
    "alpha = 3."
   ]
  },
  {
   "cell_type": "code",
   "execution_count": 78,
   "metadata": {},
   "outputs": [
    {
     "data": {
      "text/plain": [
       "     fun: 0.9827270017283498\n",
       "     jac: array([1.31030267, 1.31030309, 1.31030267, 1.31030268])\n",
       " message: 'Optimization terminated successfully'\n",
       "    nfev: 153\n",
       "     nit: 20\n",
       "    njev: 20\n",
       "  status: 0\n",
       " success: True\n",
       "       x: array([9.49070941e-01, 9.49064375e-04, 1.48292259e-02, 3.51507689e-02])"
      ]
     },
     "execution_count": 78,
     "metadata": {},
     "output_type": "execute_result"
    }
   ],
   "source": [
    "start_pos = [1/len(c) for i in range(len(c))]\n",
    "cons = ({'type': 'eq', 'fun': lambda x:  1 - sum(x)})\n",
    "bnds = tuple((0,1) for x in start_pos)\n",
    "\n",
    "res = minimize(\n",
    "    F, \n",
    "    start_pos, \n",
    "    method      = 'SLSQP',\n",
    "    args        = (c, alpha),\n",
    "    bounds      = bnds, \n",
    "    constraints = cons, \n",
    "    tol=1e-16\n",
    ")\n",
    "res"
   ]
  },
  {
   "cell_type": "code",
   "execution_count": 79,
   "metadata": {},
   "outputs": [
    {
     "data": {
      "text/plain": [
       "array([0.94907092, 0.00094907, 0.01482923, 0.03515077])"
      ]
     },
     "execution_count": 79,
     "metadata": {},
     "output_type": "execute_result"
    }
   ],
   "source": [
    "Theos(c, alpha=3.)"
   ]
  },
  {
   "cell_type": "markdown",
   "metadata": {},
   "source": [
    "# optimization with a capped constraint."
   ]
  },
  {
   "cell_type": "code",
   "execution_count": 80,
   "metadata": {},
   "outputs": [],
   "source": [
    "def F(x, c, alpha):\n",
    "    vals  = np.array([c[i]*np.power(x[i], 1+1/alpha) for i in range(len(c))])\n",
    "    return np.sum(vals)"
   ]
  },
  {
   "cell_type": "code",
   "execution_count": 104,
   "metadata": {},
   "outputs": [],
   "source": [
    "def solve_constrained(c, alpha):\n",
    "    \"\"\"\n",
    "    Solve:\n",
    "        min sum_j c[j]* (x[j])^(1+1/alpha)\n",
    "        s.t. sum_j x[j] = 1,  0 <= x[j] <= 1 - 1/alpha.\n",
    "    Returns: x (array)\n",
    "    \"\"\"\n",
    "    n = len(c)\n",
    "    c = np.array(c, dtype=float)  # ensure floats\n",
    "    \n",
    "    # Quick feasibility check\n",
    "    if n * (1 - 1/alpha) < 1.0:\n",
    "        raise ValueError(\"Infeasible: not enough 'room' to sum to 1.\")\n",
    "    \n",
    "    # We'll store the final x in x_sol\n",
    "    x_sol = np.zeros(n, dtype=float)\n",
    "    \n",
    "    # Set of indices not yet clamped:\n",
    "    active = list(range(n))\n",
    "    \n",
    "    # How much \"mass\" is left to allocate\n",
    "    mass_left = 1.0\n",
    "    \n",
    "    # While we still have variables to solve for:\n",
    "    while len(active) > 0:\n",
    "        \n",
    "        # Among the active set, compute denominators\n",
    "        c_inv_alpha = np.power(c[active], -alpha)\n",
    "        denom = np.sum(c_inv_alpha)\n",
    "        \n",
    "        # Proposed unconstrained solution for each j in active\n",
    "        x_u = (c_inv_alpha / denom) * mass_left\n",
    "        \n",
    "        # Check if we need to clamp any x_u[j]\n",
    "        too_big = [j for (j, val) in zip(active, x_u) if val > (1 - 1/alpha)]\n",
    "        \n",
    "        if len(too_big) == 0:\n",
    "            # None of them violate the upper bound => we are done\n",
    "            for (j, val) in zip(active, x_u):\n",
    "                x_sol[j] = val\n",
    "            break\n",
    "        else:\n",
    "            # At least one violates => clamp them\n",
    "            for j in too_big:\n",
    "                x_sol[j] = 1 - 1/alpha\n",
    "            # So we remove those from the active set\n",
    "            # and reduce the mass_left accordingly\n",
    "            for j in too_big:\n",
    "                active.remove(j)\n",
    "                mass_left -= (1 - 1/alpha)\n",
    "                \n",
    "            # If mass_left < 1e-15 or so, we might be effectively done\n",
    "            # but let's continue if needed\n",
    "\n",
    "    return x_sol"
   ]
  },
  {
   "cell_type": "code",
   "execution_count": 126,
   "metadata": {},
   "outputs": [],
   "source": [
    "c = np.array([1,2,3,4,5])\n",
    "alpha = 4/3"
   ]
  },
  {
   "cell_type": "code",
   "execution_count": 127,
   "metadata": {},
   "outputs": [
    {
     "data": {
      "text/plain": [
       "     fun: 0.761026920667263\n",
       "     jac: array([0.61871842, 1.23743684, 1.73551665, 1.73551662, 1.73551662])\n",
       " message: 'Optimization terminated successfully'\n",
       "    nfev: 168\n",
       "     nit: 17\n",
       "    njev: 17\n",
       "  status: 0\n",
       " success: True\n",
       "       x: array([0.25      , 0.25      , 0.22857354, 0.15575463, 0.11567183])"
      ]
     },
     "execution_count": 127,
     "metadata": {},
     "output_type": "execute_result"
    }
   ],
   "source": [
    "start_pos = [1/len(c) for i in range(len(c))]\n",
    "cons = ({'type': 'eq', 'fun': lambda x:  1 - sum(x)})\n",
    "\n",
    "# MODIFY THE BNDS\n",
    "bnds = tuple((0,1-1/alpha) for x in start_pos)\n",
    "\n",
    "res = minimize(\n",
    "    F, \n",
    "    start_pos, \n",
    "    method      = 'SLSQP',\n",
    "    args        = (c, alpha),\n",
    "    bounds      = bnds, \n",
    "    constraints = cons, \n",
    "    tol=1e-16\n",
    ")\n",
    "res"
   ]
  },
  {
   "cell_type": "code",
   "execution_count": 128,
   "metadata": {},
   "outputs": [
    {
     "data": {
      "text/plain": [
       "array([0.25      , 0.25      , 0.22857354, 0.15575463, 0.11567183])"
      ]
     },
     "execution_count": 128,
     "metadata": {},
     "output_type": "execute_result"
    }
   ],
   "source": [
    "solve_constrained(c, alpha=alpha)"
   ]
  },
  {
   "cell_type": "code",
   "execution_count": 129,
   "metadata": {},
   "outputs": [
    {
     "data": {
      "text/plain": [
       "array([0.52564586, 0.2086027 , 0.12148749, 0.08278404, 0.06147991])"
      ]
     },
     "execution_count": 129,
     "metadata": {},
     "output_type": "execute_result"
    }
   ],
   "source": [
    "Theos(c, alpha)"
   ]
  },
  {
   "cell_type": "code",
   "execution_count": 132,
   "metadata": {},
   "outputs": [
    {
     "data": {
      "text/plain": [
       "array([0.32982114, 0.19208354, 0.13088961, 0.09720572])"
      ]
     },
     "execution_count": 132,
     "metadata": {},
     "output_type": "execute_result"
    }
   ],
   "source": [
    "Theos(c[1:], alpha) * 0.75"
   ]
  },
  {
   "cell_type": "code",
   "execution_count": 133,
   "metadata": {},
   "outputs": [
    {
     "data": {
      "text/plain": [
       "array([0.22857354, 0.15575463, 0.11567183])"
      ]
     },
     "execution_count": 133,
     "metadata": {},
     "output_type": "execute_result"
    }
   ],
   "source": [
    "Theos(c[2:], alpha) * 0.5"
   ]
  }
 ],
 "metadata": {
  "kernelspec": {
   "display_name": "Python 3",
   "language": "python",
   "name": "python3"
  },
  "language_info": {
   "codemirror_mode": {
    "name": "ipython",
    "version": 3
   },
   "file_extension": ".py",
   "mimetype": "text/x-python",
   "name": "python",
   "nbconvert_exporter": "python",
   "pygments_lexer": "ipython3",
   "version": "3.8.16"
  }
 },
 "nbformat": 4,
 "nbformat_minor": 4
}
