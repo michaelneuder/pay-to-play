{
 "cells": [
  {
   "cell_type": "code",
   "execution_count": 1,
   "metadata": {},
   "outputs": [],
   "source": [
    "import matplotlib.pyplot as plt\n",
    "import matplotlib as mpl\n",
    "import matplotlib.patches as mpatches\n",
    "import numpy as np\n",
    "import pandas as pd\n",
    "import cvxpy as cp\n",
    "from scipy.stats import poisson, uniform, expon, pareto\n",
    "from scipy.optimize import minimize, fsolve\n",
    "from tqdm import tqdm\n",
    "from mdptoolbox import mdp, util\n",
    "import itertools\n",
    "from scipy.sparse import csr_matrix, lil_matrix\n",
    "from matplotlib.patches import Patch\n",
    "import math\n",
    "import random\n",
    "import sympy as sp\n",
    "from sympy.printing.latex import print_latex"
   ]
  },
  {
   "cell_type": "markdown",
   "metadata": {},
   "source": [
    "# payments"
   ]
  },
  {
   "cell_type": "code",
   "execution_count": 19,
   "metadata": {},
   "outputs": [],
   "source": [
    "import mpmath as mp\n",
    "import numpy as np\n",
    "import matplotlib.pyplot as plt\n",
    "\n",
    "# Parameters\n",
    "alpha = 3\n",
    "C = 1\n",
    "\n",
    "# Exponents for the Beta functions\n",
    "p = (alpha - 1)/alpha  # = 2/3\n",
    "q = (alpha + 1)/alpha  # = 4/3\n",
    "\n",
    "# Complete Beta function B(p,q)\n",
    "B_pq = mp.betainc(p, q, 0, 1)  # This is the full Beta integral from 0 to 1\n",
    "\n",
    "def I(b):\n",
    "    \"\"\"\n",
    "    I(b) = ∫[z=b..∞] [z^(-alpha) / (z^(-alpha) + C)^2] dz.\n",
    "    For alpha=3, C=1, it becomes (1/3)[B(2/3,4/3) - B_x(2/3,4/3)].\n",
    "    \"\"\"\n",
    "    # x = C / (b^(-alpha) + C) = 1 / (b^(-3) + 1)\n",
    "    x = C/(b**(-alpha) + C)\n",
    "    \n",
    "    # Lower incomplete Beta function B_x(p,q) = ∫[t=0..x] t^(p-1)*(1-t)^(q-1) dt\n",
    "    Bx_pq = mp.betainc(p, q, 0, x)  # lower incomplete Beta from 0 to x\n",
    "    \n",
    "    return (C**(1/alpha - 1)/alpha)*(B_pq - Bx_pq)\n",
    "\n",
    "# We'll sample b on a log-spaced or linear-spaced grid:\n",
    "b_vals = np.linspace(0.01, 10, 200)  # from b=0.01 to b=10\n",
    "I_vals = [I(b) for b in b_vals]"
   ]
  },
  {
   "cell_type": "code",
   "execution_count": 20,
   "metadata": {},
   "outputs": [],
   "source": [
    "def allo(b):\n",
    "    return b**(-alpha) / (C + b**(-alpha))"
   ]
  },
  {
   "cell_type": "code",
   "execution_count": 21,
   "metadata": {},
   "outputs": [],
   "source": [
    "allos = [allo(b) for b in b_vals]"
   ]
  },
  {
   "cell_type": "code",
   "execution_count": 18,
   "metadata": {},
   "outputs": [
    {
     "data": {
      "image/png": "[encoded data removed]",
      "text/plain": [
       "<Figure size 648x432 with 1 Axes>"
      ]
     },
     "metadata": {
      "needs_background": "light"
     },
     "output_type": "display_data"
    }
   ],
   "source": [
    "f, ax = plt.subplots(figsize=(9,6))\n",
    "\n",
    "ax.plot(b_vals, I_vals, label=r'payment')\n",
    "ax.plot(b_vals, allos, label=r'allocation')\n",
    "\n",
    "\n",
    "ax.set_xlabel(r'bid', size=15)\n",
    "ax.legend(fontsize=14)\n",
    "ax.grid(alpha=0.3)\n",
    "\n",
    "plt.show()"
   ]
  },
  {
   "cell_type": "code",
   "execution_count": 43,
   "metadata": {},
   "outputs": [],
   "source": [
    "def integral_z_alpha(alpha, C, b):\n",
    "    \"\"\"\n",
    "    Computes the definite integral:\n",
    "    I(alpha, C, b) = ∫[z=b..∞] z^(-alpha) / (z^(-alpha) + C)^2 dz\n",
    "    \n",
    "    Parameters:\n",
    "    -----------\n",
    "    alpha : float > 0\n",
    "    C     : float > 0\n",
    "    b     : float > 0\n",
    "    \n",
    "    Returns:\n",
    "    --------\n",
    "    Value of the integral as a float.\n",
    "    \"\"\"\n",
    "    # Define p and q for the Beta functions\n",
    "    p = (alpha - 1) / alpha\n",
    "    q = (alpha + 1) / alpha\n",
    "    \n",
    "    # Complete Beta function B(p,q)\n",
    "    # mpmath.betainc(p, q, 0, 1) gives the integral from 0 to 1\n",
    "    B_pq = mp.betainc(p, q, 0, 1)\n",
    "    \n",
    "    # Lower incomplete Beta function:\n",
    "    # betainc(p, q, 0, x) corresponds to ∫[0..x] t^(p-1)*(1-t)^(q-1) dt\n",
    "    x = C / (b**(-alpha) + C)\n",
    "    Bx_pq = mp.betainc(p, q, 0, x)\n",
    "    \n",
    "    # Combine everything according to the closed-form expression\n",
    "    factor = -C**(1/alpha) \n",
    "    return factor * (B_pq - Bx_pq)\n",
    "\n",
    "def allo(alpha, C, b):\n",
    "    return b**(-alpha) / (C + b**(-alpha))"
   ]
  },
  {
   "cell_type": "code",
   "execution_count": 44,
   "metadata": {},
   "outputs": [
    {
     "data": {
      "text/plain": [
       "((3, 200), (3, 200))"
      ]
     },
     "execution_count": 44,
     "metadata": {},
     "output_type": "execute_result"
    }
   ],
   "source": [
    "b_vals = np.linspace(0.01, 10, 200)  \n",
    "Cs     = [0.1, 1, 10]\n",
    "alpha  = 3\n",
    "\n",
    "payments = []\n",
    "allos    = []\n",
    "for C in Cs:\n",
    "    payments.append([integral_z_alpha(alpha, C, b) for b in b_vals])\n",
    "    allos.append([allo(alpha, C, b) for b in b_vals])\n",
    "payments = np.array(payments)\n",
    "allos    = np.array(allos)\n",
    "payments.shape, allos.shape"
   ]
  },
  {
   "cell_type": "code",
   "execution_count": 46,
   "metadata": {},
   "outputs": [
    {
     "data": {
      "image/png": "[encoded data removed]",
      "text/plain": [
       "<Figure size 1008x216 with 3 Axes>"
      ]
     },
     "metadata": {
      "needs_background": "light"
     },
     "output_type": "display_data"
    }
   ],
   "source": [
    "f, axarr = plt.subplots(ncols=3, figsize=(14,3))\n",
    "\n",
    "\n",
    "for i, ax in enumerate(axarr):\n",
    "    ax.plot(b_vals, payments[i], label=r'payment')\n",
    "    ax.plot(b_vals, allos[i], label=r'allocation')\n",
    "\n",
    "    ax.set_xlabel(r'bid', size=14)\n",
    "    ax.legend(fontsize=12)\n",
    "    ax.grid(alpha=0.3)\n",
    "    ax.set_title(r'$C={}, \\alpha=3$'.format(Cs[i]), size=14)\n",
    "\n",
    "plt.savefig('out.png', dpi=150, bbox_inches='tight', facecolor='white')\n",
    "plt.show()"
   ]
  },
  {
   "cell_type": "markdown",
   "metadata": {},
   "source": [
    "# optimization"
   ]
  },
  {
   "cell_type": "code",
   "execution_count": 2,
   "metadata": {},
   "outputs": [],
   "source": [
    "def F(x, c, alpha):\n",
    "    vals  = np.array([c[i]*np.power(x[i], 1+1/alpha) for i in range(len(c))])\n",
    "    return np.sum(vals)"
   ]
  },
  {
   "cell_type": "code",
   "execution_count": 3,
   "metadata": {},
   "outputs": [],
   "source": [
    "def Theos(c, alpha):\n",
    "    den = sum(np.power(c, -alpha))\n",
    "    return np.power(c, -alpha)/den"
   ]
  },
  {
   "cell_type": "code",
   "execution_count": 4,
   "metadata": {},
   "outputs": [],
   "source": [
    "c = np.array([1,10,4,3])\n",
    "alpha = 3."
   ]
  },
  {
   "cell_type": "code",
   "execution_count": 5,
   "metadata": {},
   "outputs": [
    {
     "data": {
      "text/plain": [
       "     fun: 0.9827270017283498\n",
       "     jac: array([1.31030267, 1.31030309, 1.31030267, 1.31030268])\n",
       " message: 'Optimization terminated successfully'\n",
       "    nfev: 153\n",
       "     nit: 20\n",
       "    njev: 20\n",
       "  status: 0\n",
       " success: True\n",
       "       x: array([9.49070941e-01, 9.49064375e-04, 1.48292259e-02, 3.51507689e-02])"
      ]
     },
     "execution_count": 5,
     "metadata": {},
     "output_type": "execute_result"
    }
   ],
   "source": [
    "start_pos = [1/len(c) for i in range(len(c))]\n",
    "cons = ({'type': 'eq', 'fun': lambda x:  1 - sum(x)})\n",
    "bnds = tuple((0,1) for x in start_pos)\n",
    "\n",
    "res = minimize(\n",
    "    F, \n",
    "    start_pos, \n",
    "    method      = 'SLSQP',\n",
    "    args        = (c, alpha),\n",
    "    bounds      = bnds, \n",
    "    constraints = cons, \n",
    "    tol=1e-16\n",
    ")\n",
    "res"
   ]
  },
  {
   "cell_type": "code",
   "execution_count": 6,
   "metadata": {},
   "outputs": [
    {
     "data": {
      "text/plain": [
       "array([0.94907092, 0.00094907, 0.01482923, 0.03515077])"
      ]
     },
     "execution_count": 6,
     "metadata": {},
     "output_type": "execute_result"
    }
   ],
   "source": [
    "Theos(c, alpha=3.)"
   ]
  },
  {
   "cell_type": "markdown",
   "metadata": {},
   "source": [
    "# optimization with a capped constraint."
   ]
  },
  {
   "cell_type": "code",
   "execution_count": 80,
   "metadata": {},
   "outputs": [],
   "source": [
    "def F(x, c, alpha):\n",
    "    vals  = np.array([c[i]*np.power(x[i], 1+1/alpha) for i in range(len(c))])\n",
    "    return np.sum(vals)"
   ]
  },
  {
   "cell_type": "code",
   "execution_count": 104,
   "metadata": {},
   "outputs": [],
   "source": [
    "def solve_constrained(c, alpha):\n",
    "    \"\"\"\n",
    "    Solve:\n",
    "        min sum_j c[j]* (x[j])^(1+1/alpha)\n",
    "        s.t. sum_j x[j] = 1,  0 <= x[j] <= 1 - 1/alpha.\n",
    "    Returns: x (array)\n",
    "    \"\"\"\n",
    "    n = len(c)\n",
    "    c = np.array(c, dtype=float)  # ensure floats\n",
    "    \n",
    "    # Quick feasibility check\n",
    "    if n * (1 - 1/alpha) < 1.0:\n",
    "        raise ValueError(\"Infeasible: not enough 'room' to sum to 1.\")\n",
    "    \n",
    "    # We'll store the final x in x_sol\n",
    "    x_sol = np.zeros(n, dtype=float)\n",
    "    \n",
    "    # Set of indices not yet clamped:\n",
    "    active = list(range(n))\n",
    "    \n",
    "    # How much \"mass\" is left to allocate\n",
    "    mass_left = 1.0\n",
    "    \n",
    "    # While we still have variables to solve for:\n",
    "    while len(active) > 0:\n",
    "        \n",
    "        # Among the active set, compute denominators\n",
    "        c_inv_alpha = np.power(c[active], -alpha)\n",
    "        denom = np.sum(c_inv_alpha)\n",
    "        \n",
    "        # Proposed unconstrained solution for each j in active\n",
    "        x_u = (c_inv_alpha / denom) * mass_left\n",
    "        \n",
    "        # Check if we need to clamp any x_u[j]\n",
    "        too_big = [j for (j, val) in zip(active, x_u) if val > (1 - 1/alpha)]\n",
    "        \n",
    "        if len(too_big) == 0:\n",
    "            # None of them violate the upper bound => we are done\n",
    "            for (j, val) in zip(active, x_u):\n",
    "                x_sol[j] = val\n",
    "            break\n",
    "        else:\n",
    "            # At least one violates => clamp them\n",
    "            for j in too_big:\n",
    "                x_sol[j] = 1 - 1/alpha\n",
    "            # So we remove those from the active set\n",
    "            # and reduce the mass_left accordingly\n",
    "            for j in too_big:\n",
    "                active.remove(j)\n",
    "                mass_left -= (1 - 1/alpha)\n",
    "                \n",
    "            # If mass_left < 1e-15 or so, we might be effectively done\n",
    "            # but let's continue if needed\n",
    "\n",
    "    return x_sol"
   ]
  },
  {
   "cell_type": "code",
   "execution_count": 126,
   "metadata": {},
   "outputs": [],
   "source": [
    "c = np.array([1,2,3,4,5])\n",
    "alpha = 4/3"
   ]
  },
  {
   "cell_type": "code",
   "execution_count": 127,
   "metadata": {},
   "outputs": [
    {
     "data": {
      "text/plain": [
       "     fun: 0.761026920667263\n",
       "     jac: array([0.61871842, 1.23743684, 1.73551665, 1.73551662, 1.73551662])\n",
       " message: 'Optimization terminated successfully'\n",
       "    nfev: 168\n",
       "     nit: 17\n",
       "    njev: 17\n",
       "  status: 0\n",
       " success: True\n",
       "       x: array([0.25      , 0.25      , 0.22857354, 0.15575463, 0.11567183])"
      ]
     },
     "execution_count": 127,
     "metadata": {},
     "output_type": "execute_result"
    }
   ],
   "source": [
    "start_pos = [1/len(c) for i in range(len(c))]\n",
    "cons = ({'type': 'eq', 'fun': lambda x:  1 - sum(x)})\n",
    "\n",
    "# MODIFY THE BNDS\n",
    "bnds = tuple((0,1-1/alpha) for x in start_pos)\n",
    "\n",
    "res = minimize(\n",
    "    F, \n",
    "    start_pos, \n",
    "    method      = 'SLSQP',\n",
    "    args        = (c, alpha),\n",
    "    bounds      = bnds, \n",
    "    constraints = cons, \n",
    "    tol=1e-16\n",
    ")\n",
    "res"
   ]
  },
  {
   "cell_type": "code",
   "execution_count": 128,
   "metadata": {},
   "outputs": [
    {
     "data": {
      "text/plain": [
       "array([0.25      , 0.25      , 0.22857354, 0.15575463, 0.11567183])"
      ]
     },
     "execution_count": 128,
     "metadata": {},
     "output_type": "execute_result"
    }
   ],
   "source": [
    "solve_constrained(c, alpha=alpha)"
   ]
  },
  {
   "cell_type": "code",
   "execution_count": 129,
   "metadata": {},
   "outputs": [
    {
     "data": {
      "text/plain": [
       "array([0.52564586, 0.2086027 , 0.12148749, 0.08278404, 0.06147991])"
      ]
     },
     "execution_count": 129,
     "metadata": {},
     "output_type": "execute_result"
    }
   ],
   "source": [
    "Theos(c, alpha)"
   ]
  },
  {
   "cell_type": "code",
   "execution_count": 132,
   "metadata": {},
   "outputs": [
    {
     "data": {
      "text/plain": [
       "array([0.32982114, 0.19208354, 0.13088961, 0.09720572])"
      ]
     },
     "execution_count": 132,
     "metadata": {},
     "output_type": "execute_result"
    }
   ],
   "source": [
    "Theos(c[1:], alpha) * 0.75"
   ]
  },
  {
   "cell_type": "code",
   "execution_count": 133,
   "metadata": {},
   "outputs": [
    {
     "data": {
      "text/plain": [
       "array([0.22857354, 0.15575463, 0.11567183])"
      ]
     },
     "execution_count": 133,
     "metadata": {},
     "output_type": "execute_result"
    }
   ],
   "source": [
    "Theos(c[2:], alpha) * 0.5"
   ]
  },
  {
   "cell_type": "markdown",
   "metadata": {},
   "source": [
    "# Two player optimal capped. \n",
    "\n",
    "##  c0 = 1, c1 = cs\n",
    "### plot the allocations and the ratio of the optimal to the equilibrium."
   ]
  },
  {
   "cell_type": "code",
   "execution_count": 139,
   "metadata": {},
   "outputs": [],
   "source": [
    "def getEquilBids(cs, a, guess=None):\n",
    "    n = len(cs)\n",
    "    bs = [sp.Symbol('b{}'.format(i)) for i in range(n)]\n",
    "    \n",
    "    denom = sum([bi**(-a) for bi in bs])\n",
    "    xs    = [bi**(-a)/denom for bi in bs]\n",
    "    us    = [(bs[i] - cs[i])*xs[i] for i in range(n)]\n",
    "    diffs = [sp.diff(us[i], bs[i]) for i in range(n)]\n",
    "    funcs = [sp.lambdify(bs, diffs[i]) for i in range(n)]\n",
    "    \n",
    "    def eqs(bs):\n",
    "        return [f(*bs) for f in funcs]\n",
    "    \n",
    "    initial_guess = cs\n",
    "    if guess != None:\n",
    "        initial_guess = guess\n",
    "    \n",
    "    return fsolve(eqs, initial_guess)\n",
    "\n",
    "def getAllos(bids, a):\n",
    "    denom = sum([b**(-a) for b in bids])\n",
    "    return np.array(bids**(-a)) / denom"
   ]
  },
  {
   "cell_type": "code",
   "execution_count": 140,
   "metadata": {},
   "outputs": [],
   "source": [
    "def F(x, c, alpha):\n",
    "    vals  = np.array([c[i]*np.power(x[i], 1+1/alpha) for i in range(len(c))])\n",
    "    return np.sum(vals)"
   ]
  },
  {
   "cell_type": "code",
   "execution_count": 156,
   "metadata": {},
   "outputs": [],
   "source": [
    "def getOptimalAllos(cs, a):\n",
    "    start_pos = [1/len(cs) for i in range(len(cs))]\n",
    "    cons = ({'type': 'eq', 'fun': lambda x:  1 - sum(x)})\n",
    "    bnds = tuple((0,1-1/alpha) for x in start_pos)\n",
    "    res = minimize(\n",
    "        F, \n",
    "        start_pos, \n",
    "        method      = 'SLSQP',\n",
    "        args        = (cs, alpha),\n",
    "        bounds      = bnds, \n",
    "        constraints = cons, \n",
    "        tol=1e-16\n",
    "    )\n",
    "    return res.x"
   ]
  },
  {
   "cell_type": "code",
   "execution_count": 146,
   "metadata": {},
   "outputs": [
    {
     "data": {
      "text/plain": [
       "array([1. , 1.1, 1.2, 1.3, 1.4, 1.5, 1.6, 1.7, 1.8, 1.9, 2. , 2.1, 2.2,\n",
       "       2.3, 2.4, 2.5, 2.6, 2.7, 2.8, 2.9, 3. , 3.1, 3.2, 3.3, 3.4, 3.5,\n",
       "       3.6, 3.7, 3.8, 3.9, 4. , 4.1, 4.2, 4.3, 4.4, 4.5, 4.6, 4.7, 4.8,\n",
       "       4.9, 5. , 5.1, 5.2, 5.3, 5.4, 5.5, 5.6, 5.7, 5.8, 5.9, 6. , 6.1,\n",
       "       6.2, 6.3, 6.4, 6.5, 6.6, 6.7, 6.8, 6.9, 7. ])"
      ]
     },
     "execution_count": 146,
     "metadata": {},
     "output_type": "execute_result"
    }
   ],
   "source": [
    "alpha = 3.\n",
    "c1s   = np.arange(1, 7.01, 0.1)\n",
    "c1s"
   ]
  },
  {
   "cell_type": "code",
   "execution_count": 147,
   "metadata": {},
   "outputs": [],
   "source": [
    "guesses = c1s"
   ]
  },
  {
   "cell_type": "code",
   "execution_count": 172,
   "metadata": {},
   "outputs": [
    {
     "data": {
      "text/plain": [
       "((61, 2), (61, 2), (61,), (61,))"
      ]
     },
     "execution_count": 172,
     "metadata": {},
     "output_type": "execute_result"
    }
   ],
   "source": [
    "xTildes = []\n",
    "xStars  = []\n",
    "\n",
    "scrs    = []\n",
    "fratios = []\n",
    "\n",
    "for i, c1 in enumerate(c1s):\n",
    "    costs   = [1, c1]\n",
    "    bids    = getEquilBids(costs, a=alpha, guess=[guesses[i],guesses[i]])\n",
    "    xTilde  = getAllos(bids, a=alpha)\n",
    "    xTildes.append(xTilde)\n",
    "    \n",
    "    xStar = getOptimalAllos(costs, alpha)\n",
    "    xStars.append(xStar)\n",
    "\n",
    "    scrs.append(np.dot(xTilde, costs)/np.dot(xStar, costs))\n",
    "    fratios.append(F(xTilde, costs, alpha)/F(xStar, costs, alpha))\n",
    "\n",
    "xStars  = np.asarray(xStars)\n",
    "xTildes = np.asarray(xTildes)\n",
    "scrs    = np.asarray(scrs)\n",
    "fratios = np.asarray(fratios)\n",
    "xTildes.shape, xStars.shape, scrs.shape, fratios.shape"
   ]
  },
  {
   "cell_type": "code",
   "execution_count": 178,
   "metadata": {},
   "outputs": [
    {
     "data": {
      "image/png": "[encoded data removed]",
      "text/plain": [
       "<Figure size 864x360 with 2 Axes>"
      ]
     },
     "metadata": {
      "needs_background": "light"
     },
     "output_type": "display_data"
    }
   ],
   "source": [
    "f, axarr = plt.subplots(ncols=2, figsize=(12,5))\n",
    "\n",
    "axarr[0].plot(c1s, xStars[:,0], linewidth=3, alpha=0.6, label=r'$x^*_1$', color='mediumorchid',\n",
    "              linestyle='-')\n",
    "axarr[0].plot(c1s, xTildes[:,0], linewidth=3, alpha=0.6, label=r'$\\tilde{x}_1$', color='mediumorchid',\n",
    "              linestyle='-.')\n",
    "axarr[0].plot(c1s, xTildes[:,1], linewidth=3, alpha=0.6, label=r'$\\tilde{x}_2$', color='goldenrod',\n",
    "              linestyle='-.')\n",
    "axarr[0].plot(c1s, xStars[:,1], linewidth=3, alpha=0.6, label=r'$x^*_2$', color='goldenrod',\n",
    "              linestyle='-')\n",
    "\n",
    "axarr[1].plot(c1s, scrs, linewidth=3, alpha=0.6, label=r'social cost ratio = $c\\cdot\\tilde{x}/c\\cdot x^*$')\n",
    "axarr[1].plot(c1s, fratios, linewidth=3, alpha=0.6, label=r'F ratio = $c\\cdot\\tilde{x}^{1+1/\\alpha}/c\\cdot x^{*1+1/\\alpha}$')\n",
    "\n",
    "for ax in axarr:\n",
    "    ax.legend(prop={'size': 12})\n",
    "    ax.grid(alpha=0.3)\n",
    "    ax.set_xlabel(r'$c_2$', size=15)\n",
    "axarr[0].set_title(r'allocations $(c_1=1, \\alpha=3)$', size=17)\n",
    "axarr[1].set_title(r'ratios (equil / optimal capped)', size=17)\n",
    "\n",
    "plt.savefig('out.png', dpi=150, bbox_inches='tight', facecolor='white')\n",
    "plt.show()"
   ]
  },
  {
   "cell_type": "markdown",
   "metadata": {},
   "source": [
    "# alpha objective vs social cost tradeoff"
   ]
  },
  {
   "cell_type": "code",
   "execution_count": 2,
   "metadata": {},
   "outputs": [],
   "source": [
    "def F(x, c, alpha):\n",
    "    vals  = np.array([c[i]*np.power(x[i], 1+1/alpha) for i in range(len(c))])\n",
    "    return np.sum(vals)"
   ]
  },
  {
   "cell_type": "code",
   "execution_count": 42,
   "metadata": {},
   "outputs": [
    {
     "data": {
      "text/plain": [
       "(array([0.88888889, 0.11111111]), 0.9614997135382722)"
      ]
     },
     "execution_count": 42,
     "metadata": {},
     "output_type": "execute_result"
    }
   ],
   "source": [
    "c = np.array([1, 2])\n",
    "theos = Theos(c, alpha=3.)\n",
    "theos, F(theos, c, alpha=3.)"
   ]
  },
  {
   "cell_type": "code",
   "execution_count": 28,
   "metadata": {},
   "outputs": [
    {
     "data": {
      "text/plain": [
       "(0.9614997135382722, 1.0, 1.1111111111111112, 1)"
      ]
     },
     "execution_count": 28,
     "metadata": {},
     "output_type": "execute_result"
    }
   ],
   "source": [
    "F(theos, c, alpha=3.), F(np.array([1,0]), c, alpha=3.), np.dot(theos, c), np.dot(np.array([1,0]), c)"
   ]
  },
  {
   "cell_type": "code",
   "execution_count": 44,
   "metadata": {},
   "outputs": [],
   "source": [
    "# Q: the worst-case social cost is [1,R] is that true of the objective function\n",
    "# - yes"
   ]
  },
  {
   "cell_type": "code",
   "execution_count": 46,
   "metadata": {},
   "outputs": [],
   "source": [
    "# can we add social cost to the optimization function?"
   ]
  },
  {
   "cell_type": "code",
   "execution_count": 47,
   "metadata": {},
   "outputs": [],
   "source": [
    "def F(x, c, alpha):\n",
    "    vals  = np.array([c[i]*np.power(x[i], 1+1/alpha) for i in range(len(c))])\n",
    "    alpha_obj   = np.sum(vals)\n",
    "    social_cost = np.dot(x, c)\n",
    "    return alpha_obj + social_cost"
   ]
  },
  {
   "cell_type": "code",
   "execution_count": 52,
   "metadata": {},
   "outputs": [],
   "source": [
    "c = np.array([1,1.4])\n",
    "alpha = 3."
   ]
  },
  {
   "cell_type": "code",
   "execution_count": 53,
   "metadata": {},
   "outputs": [
    {
     "data": {
      "text/plain": [
       "     fun: 1.9738570959030513\n",
       "     jac: array([2.28430064, 2.28430066])\n",
       " message: 'Optimization terminated successfully'\n",
       "    nfev: 44\n",
       "     nit: 9\n",
       "    njev: 9\n",
       "  status: 0\n",
       " success: True\n",
       "       x: array([0.89368378, 0.10631622])"
      ]
     },
     "execution_count": 53,
     "metadata": {},
     "output_type": "execute_result"
    }
   ],
   "source": [
    "start_pos = [1/len(c) for i in range(len(c))]\n",
    "cons = ({'type': 'eq', 'fun': lambda x:  1 - sum(x)})\n",
    "bnds = tuple((0,1) for x in start_pos)\n",
    "\n",
    "res = minimize(\n",
    "    F, \n",
    "    start_pos, \n",
    "    method      = 'SLSQP',\n",
    "    args        = (c, alpha),\n",
    "    bounds      = bnds, \n",
    "    constraints = cons, \n",
    "    tol=1e-16\n",
    ")\n",
    "res"
   ]
  },
  {
   "cell_type": "code",
   "execution_count": 54,
   "metadata": {},
   "outputs": [
    {
     "data": {
      "text/plain": [
       "array([0.73290598, 0.26709402])"
      ]
     },
     "execution_count": 54,
     "metadata": {},
     "output_type": "execute_result"
    }
   ],
   "source": [
    "Theos(c, alpha=3.)"
   ]
  },
  {
   "cell_type": "code",
   "execution_count": null,
   "metadata": {},
   "outputs": [],
   "source": [
    "def F(x, c, alpha):\n",
    "    vals  = np.array([c[i]*np.power(x[i], 1+1/alpha) for i in range(len(c))])\n",
    "    alpha_obj   = np.sum(vals)\n",
    "    social_cost = np.dot(x, c)\n",
    "    return alpha_obj + social_cost"
   ]
  },
  {
   "cell_type": "code",
   "execution_count": null,
   "metadata": {},
   "outputs": [],
   "source": [
    "c = np.array([1,1.4])\n",
    "alpha = 3."
   ]
  },
  {
   "cell_type": "code",
   "execution_count": 56,
   "metadata": {},
   "outputs": [],
   "source": [
    "# max social cost"
   ]
  },
  {
   "cell_type": "code",
   "execution_count": 57,
   "metadata": {},
   "outputs": [],
   "source": [
    "def Theos(c, alpha):\n",
    "    den = sum(np.power(c, -alpha))\n",
    "    return np.power(c, -alpha)/den\n",
    "\n",
    "def Cost(c, x):\n",
    "    return np.dot(c, x)"
   ]
  },
  {
   "cell_type": "code",
   "execution_count": 60,
   "metadata": {},
   "outputs": [
    {
     "data": {
      "text/plain": [
       "1.0461538461538462"
      ]
     },
     "execution_count": 60,
     "metadata": {},
     "output_type": "execute_result"
    }
   ],
   "source": [
    "c = np.array([1,4])\n",
    "x = Theos(c, 3.)\n",
    "Cost(c, x)"
   ]
  },
  {
   "cell_type": "code",
   "execution_count": 72,
   "metadata": {},
   "outputs": [
    {
     "data": {
      "text/plain": [
       "1.0461538461538462"
      ]
     },
     "execution_count": 72,
     "metadata": {},
     "output_type": "execute_result"
    }
   ],
   "source": [
    "c = np.array([1,4])\n",
    "x = Theos(c, 3.)\n",
    "Cost(c, x)"
   ]
  },
  {
   "cell_type": "markdown",
   "metadata": {},
   "source": [
    "# maximizing the function"
   ]
  },
  {
   "cell_type": "code",
   "execution_count": 128,
   "metadata": {},
   "outputs": [],
   "source": [
    "# NEGATIVE to maximize\n",
    "def F(c, alpha):\n",
    "    x_is  = np.power(c, -alpha) / np.sum(np.array([np.power(c[i], -alpha) for i in range(len(c))]))\n",
    "    vals  = np.array([c[i]*np.power(x_is[i], 1+1/alpha) for i in range(len(c))])\n",
    "    alpha_obj = np.sum(vals)\n",
    "    return -alpha_obj"
   ]
  },
  {
   "cell_type": "code",
   "execution_count": 132,
   "metadata": {},
   "outputs": [],
   "source": [
    "c = np.array([1,2])\n",
    "alpha = 3."
   ]
  },
  {
   "cell_type": "code",
   "execution_count": 135,
   "metadata": {},
   "outputs": [],
   "source": [
    "start_pos = [1/len(c) for i in range(len(c))]\n",
    "cons = ({'type': 'eq', 'fun': lambda x:  1 - sum(x)})\n",
    "bnds = tuple((1,2) for x in start_pos)"
   ]
  },
  {
   "cell_type": "code",
   "execution_count": 136,
   "metadata": {},
   "outputs": [
    {
     "data": {
      "text/plain": [
       "     fun: -1.5874010519681996\n",
       "     jac: array([-0.39685027, -0.39685027])\n",
       " message: 'Optimization terminated successfully'\n",
       "    nfev: 9\n",
       "     nit: 4\n",
       "    njev: 3\n",
       "  status: 0\n",
       " success: True\n",
       "       x: array([2., 2.])"
      ]
     },
     "execution_count": 136,
     "metadata": {},
     "output_type": "execute_result"
    }
   ],
   "source": [
    "res = minimize(\n",
    "    F, \n",
    "    start_pos, \n",
    "    method      = 'SLSQP',\n",
    "    args        = (alpha),\n",
    "    bounds      = bnds, \n",
    "    tol=1e-16\n",
    ")\n",
    "res"
   ]
  },
  {
   "cell_type": "markdown",
   "metadata": {},
   "source": [
    "# maximizing the function"
   ]
  },
  {
   "cell_type": "code",
   "execution_count": 341,
   "metadata": {},
   "outputs": [],
   "source": [
    "# NEGATIVE to maximize\n",
    "def F(c, alpha, N):\n",
    "    sorted_c = np.sort(c)\n",
    "    subCs    = sorted_c[:N]\n",
    "    x1s    = np.power(subCs, -alpha) / np.sum(np.array([np.power(subCs[i], -alpha) for i in range(len(subCs))]))\n",
    "    val1s  = np.array([subCs[i]*np.power(x1s[i], 1+1/alpha) for i in range(len(subCs))])\n",
    "    \n",
    "    x2s    = np.power(c, -alpha) / np.sum(np.array([np.power(c[i], -alpha) for i in range(len(c))]))\n",
    "    val2s  = np.array([c[i]*np.power(x2s[i], 1+1/alpha) for i in range(len(c))])\n",
    "    \n",
    "    num = np.sum(val1s)\n",
    "    den = np.sum(val2s)\n",
    "    \n",
    "    return -num/den"
   ]
  },
  {
   "cell_type": "code",
   "execution_count": 348,
   "metadata": {},
   "outputs": [
    {
     "data": {
      "text/plain": [
       "-1.2247448713915892"
      ]
     },
     "execution_count": 348,
     "metadata": {},
     "output_type": "execute_result"
    }
   ],
   "source": [
    "F(np.array([1,1,1]), alpha=2.0, N=2)"
   ]
  },
  {
   "cell_type": "code",
   "execution_count": 405,
   "metadata": {},
   "outputs": [
    {
     "data": {
      "text/plain": [
       "1.4142135623730951"
      ]
     },
     "execution_count": 405,
     "metadata": {},
     "output_type": "execute_result"
    }
   ],
   "source": [
    "(2)**(1/2.)"
   ]
  },
  {
   "cell_type": "code",
   "execution_count": 1,
   "metadata": {},
   "outputs": [
    {
     "ename": "NameError",
     "evalue": "name 'np' is not defined",
     "output_type": "error",
     "traceback": [
      "\u001b[0;31m---------------------------------------------------------------------------\u001b[0m",
      "\u001b[0;31mNameError\u001b[0m                                 Traceback (most recent call last)",
      "\u001b[0;32m<ipython-input-1-c9be7737bbd5>\u001b[0m in \u001b[0;36m<module>\u001b[0;34m\u001b[0m\n\u001b[1;32m      4\u001b[0m \u001b[0mn\u001b[0m \u001b[0;34m=\u001b[0m \u001b[0;36m5\u001b[0m\u001b[0;34m\u001b[0m\u001b[0;34m\u001b[0m\u001b[0m\n\u001b[1;32m      5\u001b[0m \u001b[0mN\u001b[0m \u001b[0;34m=\u001b[0m \u001b[0;36m2\u001b[0m\u001b[0;34m\u001b[0m\u001b[0;34m\u001b[0m\u001b[0m\n\u001b[0;32m----> 6\u001b[0;31m \u001b[0mstart_pos\u001b[0m \u001b[0;34m=\u001b[0m \u001b[0mnp\u001b[0m\u001b[0;34m.\u001b[0m\u001b[0marray\u001b[0m\u001b[0;34m(\u001b[0m\u001b[0;34m[\u001b[0m\u001b[0;36m1\u001b[0m\u001b[0;34m,\u001b[0m \u001b[0;36m1\u001b[0m\u001b[0;34m]\u001b[0m\u001b[0;34m)\u001b[0m\u001b[0;34m\u001b[0m\u001b[0;34m\u001b[0m\u001b[0m\n\u001b[0m\u001b[1;32m      7\u001b[0m \u001b[0mbnds\u001b[0m \u001b[0;34m=\u001b[0m \u001b[0mtuple\u001b[0m\u001b[0;34m(\u001b[0m\u001b[0;34m(\u001b[0m\u001b[0;36m1\u001b[0m\u001b[0;34m,\u001b[0m\u001b[0;36m10\u001b[0m\u001b[0;34m)\u001b[0m \u001b[0;32mfor\u001b[0m \u001b[0mx\u001b[0m \u001b[0;32min\u001b[0m \u001b[0mstart_pos\u001b[0m\u001b[0;34m)\u001b[0m\u001b[0;34m\u001b[0m\u001b[0;34m\u001b[0m\u001b[0m\n\u001b[1;32m      8\u001b[0m \u001b[0;34m\u001b[0m\u001b[0m\n",
      "\u001b[0;31mNameError\u001b[0m: name 'np' is not defined"
     ]
    }
   ],
   "source": [
    "alpha = 2.\n",
    "R = 10\n",
    "# N < R^{alpha-1}\n",
    "n = 5\n",
    "N = 2\n",
    "start_pos = np.array([1, 1])\n",
    "bnds = tuple((1,10) for x in start_pos)\n",
    "\n",
    "res = minimize(\n",
    "    F, \n",
    "    start_pos, \n",
    "    method      = 'SLSQP',\n",
    "    args        = (alpha, N),\n",
    "    bounds      = bnds, \n",
    "    tol=1e-16,\n",
    "    options={'ftol':1e-16, 'maxiter':1000}\n",
    ")\n",
    "res.x, res.fun, (n/N)**(1/alpha)"
   ]
  },
  {
   "cell_type": "code",
   "execution_count": 337,
   "metadata": {},
   "outputs": [],
   "source": [
    "def TheoMax(n,N,alpha,R):\n",
    "    return np.power(N,-1/alpha) * np.power(N + (n-N)*np.power(R, -alpha), 1/alpha)"
   ]
  },
  {
   "cell_type": "code",
   "execution_count": 231,
   "metadata": {},
   "outputs": [
    {
     "data": {
      "text/plain": [
       "1.0013315594956687"
      ]
     },
     "execution_count": 231,
     "metadata": {},
     "output_type": "execute_result"
    }
   ],
   "source": [
    "TheoMax(n=n,N=N,alpha=alpha,R=R)"
   ]
  },
  {
   "cell_type": "code",
   "execution_count": 364,
   "metadata": {},
   "outputs": [
    {
     "data": {
      "text/plain": [
       "2"
      ]
     },
     "execution_count": 364,
     "metadata": {},
     "output_type": "execute_result"
    }
   ],
   "source": [
    "N"
   ]
  },
  {
   "cell_type": "code",
   "execution_count": 363,
   "metadata": {},
   "outputs": [
    {
     "data": {
      "text/plain": [
       "-1.7099759466766966"
      ]
     },
     "execution_count": 363,
     "metadata": {},
     "output_type": "execute_result"
    }
   ],
   "source": [
    "F(np.array([1., 1., 1., 1., 1., 1., 1., 1., 1., 1.]), alpha=3., N=N)"
   ]
  },
  {
   "cell_type": "code",
   "execution_count": 365,
   "metadata": {},
   "outputs": [
    {
     "data": {
      "text/plain": [
       "1.7099759466766968"
      ]
     },
     "execution_count": 365,
     "metadata": {},
     "output_type": "execute_result"
    }
   ],
   "source": [
    "5**(1/3.)"
   ]
  },
  {
   "cell_type": "code",
   "execution_count": 253,
   "metadata": {},
   "outputs": [],
   "source": [
    "### GENERATED \n",
    "\n",
    "\n",
    "def alpha_objective_ratio(c, alpha, N):\n",
    "    \"\"\"\n",
    "    Compute the ratio:\n",
    "\n",
    "        num = sum_{i in top-subset} c_i * [ (c_i^-alpha) / sum_{j in top-subset} c_j^-alpha ]^(1+1/alpha)\n",
    "        den = sum_{i in full-set} c_i * [ (c_i^-alpha) / sum_{j in full-set} c_j^-alpha ]^(1+1/alpha)\n",
    "\n",
    "    Here, we interpret \"top-subset\" as the first N items in c[:N]\n",
    "    (or whichever subset logic you want).\n",
    "    \"\"\"\n",
    "    # Ensure c is a numpy array:\n",
    "    c = np.array(c)\n",
    "    m = len(c)\n",
    "    \n",
    "    # --- Numerator: using c[:N] ---\n",
    "    # subCs = c[:N]  # if you truly want the first N in the array to form the subset\n",
    "    # Alternatively, if you want the N smallest in c, do:\n",
    "    subCs = np.sort(c)[:N]\n",
    "    \n",
    "    # 1) negative-power sums for the subset\n",
    "    subPow = np.power(subCs, -alpha)\n",
    "    sumSubPow = np.sum(subPow)\n",
    "    # allocations in top-subset\n",
    "    xSub = subPow / sumSubPow\n",
    "    \n",
    "    # each term = c_i * (x_i)^(1+1/alpha)\n",
    "    valSub = subCs * np.power(xSub, 1.0 + 1.0/alpha)\n",
    "    num = np.sum(valSub)\n",
    "    \n",
    "    # --- Denominator: using full c ---\n",
    "    fullPow = np.power(c, -alpha)\n",
    "    sumFullPow = np.sum(fullPow)\n",
    "    # allocations in full-set\n",
    "    xFull = fullPow / sumFullPow\n",
    "    \n",
    "    # each term = c_i * (x_i)^(1+1/alpha)\n",
    "    valFull = c * np.power(xFull, 1.0 + 1.0/alpha)\n",
    "    den = np.sum(valFull)\n",
    "    \n",
    "    # ratio = num / den\n",
    "    return num / den\n",
    "\n",
    "def alpha_objective_negative(c, alpha, N):\n",
    "    \"\"\"\n",
    "    Return the *negative* of the ratio, to use with 'minimize'.\n",
    "    \"\"\"\n",
    "    return - alpha_objective_ratio(c, alpha, N)\n"
   ]
  },
  {
   "cell_type": "code",
   "execution_count": 358,
   "metadata": {},
   "outputs": [
    {
     "name": "stdout",
     "output_type": "stream",
     "text": [
      "Optimization result:      fun: -1.2247448711318485\n",
      "     jac: array([0.04408123, 0.02423275, 0.06030333])\n",
      " message: 'Iteration limit reached'\n",
      "    nfev: 1119\n",
      "     nit: 100\n",
      "    njev: 100\n",
      "  status: 9\n",
      " success: False\n",
      "       x: array([6.76991473, 6.76991472, 6.76991473])\n",
      "Optimal c: [6.76991473 6.76991472 6.76991473]\n",
      "Max ratio = 1.2247448711318485\n"
     ]
    }
   ],
   "source": [
    "alpha = 2.0         # exponent\n",
    "N = 2               # size of \"top\" subset\n",
    "m = 3               # total dimension (len(c))\n",
    "R = 10.0            # upper bound\n",
    "\n",
    "# We'll define an initial guess. Must be in (1,R) for all c_i:\n",
    "# e.g. pick the midpoint (1+R)/2 = 5.5\n",
    "start_c = np.array([9,2.,3.])\n",
    "\n",
    "# Define bounds: each c_i in (1,R). We'll use (1+1e-6, R-1e-6) to avoid endpoints\n",
    "bnds = [(1+1e-6, R-1e-6) for _ in range(m)]\n",
    "\n",
    "# Call scipy minimize\n",
    "res = minimize(\n",
    "    alpha_objective_negative,     # objective\n",
    "    start_c,                      # initial guess\n",
    "    args=(alpha, N),             # extra arguments for the objective\n",
    "    method='SLSQP',\n",
    "    bounds=bnds,\n",
    "    options={'ftol':1e-16}\n",
    ")\n",
    "\n",
    "print(\"Optimization result:\", res)\n",
    "print(\"Optimal c:\", res.x)\n",
    "print(\"Max ratio =\", -res.fun)"
   ]
  },
  {
   "cell_type": "code",
   "execution_count": 379,
   "metadata": {},
   "outputs": [
    {
     "data": {
      "text/latex": [
       "$\\displaystyle \\left(\\frac{n}{N}\\right)^{\\frac{1}{\\alpha}} = 1 + \\frac{\\left(\\frac{\\alpha}{\\alpha - 1}\\right)^{1 - \\alpha} \\left(N - 1\\right)}{\\alpha}$"
      ],
      "text/plain": [
       "Eq((n/N)**(1/alpha), 1 + (alpha/(alpha - 1))**(1 - alpha)*(N - 1)/alpha)"
      ]
     },
     "execution_count": 379,
     "metadata": {},
     "output_type": "execute_result"
    }
   ],
   "source": [
    "# find solution with algebra\n",
    "# Define symbols\n",
    "N, n, a, R = sp.symbols('N n alpha R', real=True, positive=True)\n",
    "\n",
    "# Define the equation\n",
    "equation = sp.Eq((n / N)**(1 / alpha), 1+(N-1)/a * (a/(a-1))**(1-a))\n",
    "equation"
   ]
  },
  {
   "cell_type": "code",
   "execution_count": 382,
   "metadata": {},
   "outputs": [
    {
     "data": {
      "text/latex": [
       "$\\displaystyle \\left(\\frac{n}{N}\\right)^{\\frac{1}{\\alpha}} = \\frac{\\alpha + \\left(\\frac{\\alpha}{\\alpha - 1}\\right)^{1 - \\alpha} \\left(N - 1\\right)}{\\alpha}$"
      ],
      "text/plain": [
       "Eq((n/N)**(1/alpha), (alpha + (alpha/(alpha - 1))**(1 - alpha)*(N - 1))/alpha)"
      ]
     },
     "execution_count": 382,
     "metadata": {},
     "output_type": "execute_result"
    }
   ],
   "source": [
    "sp.simplify(equation)"
   ]
  },
  {
   "cell_type": "code",
   "execution_count": 400,
   "metadata": {},
   "outputs": [],
   "source": [
    "alpha_val = 2\n",
    "\n",
    "# Substitute alpha = 1 into the equation\n",
    "eq_alpha1 = equation.subs({alpha: alpha_val})"
   ]
  },
  {
   "cell_type": "code",
   "execution_count": 401,
   "metadata": {},
   "outputs": [
    {
     "data": {
      "text/latex": [
       "$\\displaystyle \\frac{10}{\\sqrt{N}} = \\frac{N}{4} + \\frac{3}{4}$"
      ],
      "text/plain": [
       "Eq(10/sqrt(N), N/4 + 3/4)"
      ]
     },
     "execution_count": 401,
     "metadata": {},
     "output_type": "execute_result"
    }
   ],
   "source": [
    "sp.simplify(eq_alpha1)"
   ]
  },
  {
   "cell_type": "code",
   "execution_count": 402,
   "metadata": {},
   "outputs": [
    {
     "data": {
      "text/plain": [
       "[]"
      ]
     },
     "execution_count": 402,
     "metadata": {},
     "output_type": "execute_result"
    }
   ],
   "source": [
    "solution_alpha2 = sp.solve(eq_alpha1, N)\n",
    "solution"
   ]
  },
  {
   "cell_type": "code",
   "execution_count": 394,
   "metadata": {},
   "outputs": [
    {
     "data": {
      "text/plain": [
       "[]"
      ]
     },
     "execution_count": 394,
     "metadata": {},
     "output_type": "execute_result"
    }
   ],
   "source": [
    "solution = sp.solve(eq_alpha1, N)\n",
    "solution"
   ]
  }
 ],
 "metadata": {
  "kernelspec": {
   "display_name": "Python 3",
   "language": "python",
   "name": "python3"
  },
  "language_info": {
   "codemirror_mode": {
    "name": "ipython",
    "version": 3
   },
   "file_extension": ".py",
   "mimetype": "text/x-python",
   "name": "python",
   "nbconvert_exporter": "python",
   "pygments_lexer": "ipython3",
   "version": "3.8.16"
  }
 },
 "nbformat": 4,
 "nbformat_minor": 4
}
