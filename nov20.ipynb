{
 "cells": [
  {
   "cell_type": "code",
   "execution_count": 1,
   "metadata": {},
   "outputs": [],
   "source": [
    "import matplotlib.pyplot as plt\n",
    "import matplotlib as mpl\n",
    "import matplotlib.patches as mpatches\n",
    "import numpy as np\n",
    "import pandas as pd\n",
    "import cvxpy as cp\n",
    "from scipy.stats import poisson, uniform, expon, pareto\n",
    "from scipy.optimize import minimize, fsolve\n",
    "from tqdm import tqdm\n",
    "from mdptoolbox import mdp, util\n",
    "import itertools\n",
    "from scipy.sparse import csr_matrix, lil_matrix\n",
    "from matplotlib.patches import Patch\n",
    "import math\n",
    "import random\n",
    "import sympy as sp\n",
    "from sympy.printing.latex import print_latex"
   ]
  },
  {
   "cell_type": "code",
   "execution_count": 32,
   "metadata": {},
   "outputs": [],
   "source": [
    "def NSW(xs):\n",
    "    return -np.prod(xs*np.array([1,2,400]))"
   ]
  },
  {
   "cell_type": "code",
   "execution_count": 33,
   "metadata": {},
   "outputs": [
    {
     "data": {
      "text/plain": [
       "-29.629629629629623"
      ]
     },
     "execution_count": 33,
     "metadata": {},
     "output_type": "execute_result"
    }
   ],
   "source": [
    "xs = np.array([1/3, 1/3, 1/3])\n",
    "NSW(xs)"
   ]
  },
  {
   "cell_type": "code",
   "execution_count": 34,
   "metadata": {},
   "outputs": [],
   "source": [
    "start_pos = [0.8, 0.1, 0.1]\n",
    "cons = ({'type': 'eq', 'fun': lambda x:  1 - sum(x)})\n",
    "bnds = tuple((0,1) for x in start_pos)"
   ]
  },
  {
   "cell_type": "code",
   "execution_count": 35,
   "metadata": {},
   "outputs": [
    {
     "data": {
      "text/plain": [
       "     fun: -29.629629627978957\n",
       "     jac: array([-88.8881228 , -88.88927197, -88.88927197])\n",
       " message: 'Optimization terminated successfully'\n",
       "    nfev: 26\n",
       "     nit: 6\n",
       "    njev: 6\n",
       "  status: 0\n",
       " success: True\n",
       "       x: array([0.33333621, 0.3333319 , 0.3333319 ])"
      ]
     },
     "execution_count": 35,
     "metadata": {},
     "output_type": "execute_result"
    }
   ],
   "source": [
    "res = minimize(NSW, start_pos, method='SLSQP', bounds=bnds ,constraints=cons)\n",
    "res"
   ]
  },
  {
   "cell_type": "code",
   "execution_count": 7,
   "metadata": {},
   "outputs": [],
   "source": [
    "alpha = 2\n",
    "def F(x):\n",
    "    costs = [1., 2., 3.]\n",
    "    vals  = np.array([costs[i]*np.power(x[i], 1+1/alpha) for i in range(len(costs))])\n",
    "    return np.sum(vals/(1+1/alpha))"
   ]
  },
  {
   "cell_type": "code",
   "execution_count": 8,
   "metadata": {
    "scrolled": true
   },
   "outputs": [
    {
     "data": {
      "text/plain": [
       "     fun: 0.5714285714285716\n",
       "     jac: array([0.85714287, 0.85714287, 0.85714287])\n",
       " message: 'Optimization terminated successfully'\n",
       "    nfev: 30\n",
       "     nit: 7\n",
       "    njev: 7\n",
       "  status: 0\n",
       " success: True\n",
       "       x: array([0.73469389, 0.18367347, 0.08163265])"
      ]
     },
     "execution_count": 8,
     "metadata": {},
     "output_type": "execute_result"
    }
   ],
   "source": [
    "start_pos = [0.8, 0.1, 0.1]\n",
    "cons = ({'type': 'eq', 'fun': lambda x:  1 - sum(x)})\n",
    "bnds = tuple((0,1) for x in start_pos)\n",
    "\n",
    "res = minimize(F, start_pos, method='SLSQP', bounds=bnds ,constraints=cons, tol=1e-16)\n",
    "res"
   ]
  },
  {
   "cell_type": "code",
   "execution_count": 9,
   "metadata": {},
   "outputs": [],
   "source": [
    "def theos(costs):\n",
    "    den = np.sum([np.power(costs[i], -alpha) for i in range(len(costs))])\n",
    "    return [np.power(costs[i], -alpha) / den for i in range(len(costs))]"
   ]
  },
  {
   "cell_type": "code",
   "execution_count": 10,
   "metadata": {},
   "outputs": [
    {
     "data": {
      "text/plain": [
       "[0.7346938775510203, 0.18367346938775508, 0.08163265306122448]"
      ]
     },
     "execution_count": 10,
     "metadata": {},
     "output_type": "execute_result"
    }
   ],
   "source": [
    "theos([1.,2.,3.])"
   ]
  },
  {
   "cell_type": "markdown",
   "metadata": {},
   "source": [
    "# normal tullock"
   ]
  },
  {
   "cell_type": "code",
   "execution_count": 15,
   "metadata": {},
   "outputs": [],
   "source": [
    "alpha = 2\n",
    "def F(x):\n",
    "    vs    = [1., 2., 3.]\n",
    "    vals  = np.array([np.power(x[i], 1+1/alpha)/vs[i] for i in range(len(vs))])\n",
    "    return np.sum(vals)"
   ]
  },
  {
   "cell_type": "code",
   "execution_count": 16,
   "metadata": {
    "scrolled": true
   },
   "outputs": [
    {
     "data": {
      "text/plain": [
       "     fun: 0.2672612419124245\n",
       "     jac: array([0.40089187, 0.40089186, 0.40089187])\n",
       " message: 'Optimization terminated successfully'\n",
       "    nfev: 32\n",
       "     nit: 8\n",
       "    njev: 8\n",
       "  status: 0\n",
       " success: True\n",
       "       x: array([0.07142856, 0.28571428, 0.64285716])"
      ]
     },
     "execution_count": 16,
     "metadata": {},
     "output_type": "execute_result"
    }
   ],
   "source": [
    "start_pos = [0.8, 0.1, 0.1]\n",
    "cons = ({'type': 'eq', 'fun': lambda x:  1 - sum(x)})\n",
    "bnds = tuple((0,1) for x in start_pos)\n",
    "\n",
    "res = minimize(F, start_pos, method='SLSQP', bounds=bnds ,constraints=cons, tol=1e-16)\n",
    "res"
   ]
  },
  {
   "cell_type": "code",
   "execution_count": 17,
   "metadata": {},
   "outputs": [],
   "source": [
    "def theos(vals):\n",
    "    den = np.sum([np.power(vals[i], alpha) for i in range(len(vals))])\n",
    "    return [np.power(vals[i], alpha) / den for i in range(len(vals))]"
   ]
  },
  {
   "cell_type": "code",
   "execution_count": 18,
   "metadata": {},
   "outputs": [
    {
     "data": {
      "text/plain": [
       "[0.07142857142857142, 0.2857142857142857, 0.6428571428571429]"
      ]
     },
     "execution_count": 18,
     "metadata": {},
     "output_type": "execute_result"
    }
   ],
   "source": [
    "theos([1.,2.,3.])"
   ]
  },
  {
   "cell_type": "code",
   "execution_count": 158,
   "metadata": {},
   "outputs": [],
   "source": [
    "# other direction"
   ]
  },
  {
   "cell_type": "code",
   "execution_count": 19,
   "metadata": {},
   "outputs": [],
   "source": [
    "alpha = 2\n",
    "def F(x):\n",
    "    vs    = [1., 2., 3.]\n",
    "    vals  = np.array([np.power(x[i], 1-1/alpha)*vs[i] for i in range(len(vs))])\n",
    "    return -np.sum(vals)"
   ]
  },
  {
   "cell_type": "code",
   "execution_count": 20,
   "metadata": {
    "scrolled": true
   },
   "outputs": [
    {
     "data": {
      "text/plain": [
       "     fun: -3.7416573867739413\n",
       "     jac: array([-1.87082866, -1.87082866, -1.87082866])\n",
       " message: 'Optimization terminated successfully'\n",
       "    nfev: 176\n",
       "     nit: 39\n",
       "    njev: 39\n",
       "  status: 0\n",
       " success: True\n",
       "       x: array([0.07142857, 0.28571428, 0.64285715])"
      ]
     },
     "execution_count": 20,
     "metadata": {},
     "output_type": "execute_result"
    }
   ],
   "source": [
    "start_pos = [0.8, 0.1, 0.1]\n",
    "cons = ({'type': 'eq', 'fun': lambda x:  1 - sum(x)})\n",
    "bnds = tuple((0,1) for x in start_pos)\n",
    "\n",
    "res = minimize(F, start_pos, method='SLSQP', bounds=bnds ,constraints=cons, tol=1e-16)\n",
    "res"
   ]
  },
  {
   "cell_type": "code",
   "execution_count": 21,
   "metadata": {},
   "outputs": [],
   "source": [
    "def theos(vals):\n",
    "    den = np.sum([np.power(vals[i], alpha) for i in range(len(vals))])\n",
    "    return [np.power(vals[i], alpha) / den for i in range(len(vals))]"
   ]
  },
  {
   "cell_type": "code",
   "execution_count": 22,
   "metadata": {},
   "outputs": [
    {
     "data": {
      "text/plain": [
       "[0.07142857142857142, 0.2857142857142857, 0.6428571428571429]"
      ]
     },
     "execution_count": 22,
     "metadata": {},
     "output_type": "execute_result"
    }
   ],
   "source": [
    "theos([1.,2.,3.])"
   ]
  },
  {
   "cell_type": "code",
   "execution_count": 158,
   "metadata": {},
   "outputs": [],
   "source": [
    "# v_i^a"
   ]
  },
  {
   "cell_type": "code",
   "execution_count": 182,
   "metadata": {},
   "outputs": [],
   "source": [
    "alpha = 2\n",
    "def F(x):\n",
    "    vs    = [1., 2., 3.]\n",
    "    vals  = np.array([np.power(vs[i], alpha)*x[i] for i in range(len(vs))])\n",
    "    return -np.sum(vals)"
   ]
  },
  {
   "cell_type": "code",
   "execution_count": 183,
   "metadata": {
    "scrolled": true
   },
   "outputs": [
    {
     "data": {
      "text/plain": [
       "     fun: 1.000000000000015\n",
       "     jac: array([0.99999999, 4.        , 9.        ])\n",
       " message: 'Positive directional derivative for linesearch'\n",
       "    nfev: 64\n",
       "     nit: 10\n",
       "    njev: 6\n",
       "  status: 8\n",
       " success: False\n",
       "       x: array([1.00000000e+00, 3.78882784e-15, 0.00000000e+00])"
      ]
     },
     "execution_count": 183,
     "metadata": {},
     "output_type": "execute_result"
    }
   ],
   "source": [
    "start_pos = [0.8, 0.1, 0.1]\n",
    "cons = ({'type': 'eq', 'fun': lambda x:  1 - sum(x)})\n",
    "bnds = tuple((0,1) for x in start_pos)\n",
    "\n",
    "res = minimize(F, start_pos, method='SLSQP', bounds=bnds ,constraints=cons, tol=1e-16)\n",
    "res"
   ]
  },
  {
   "cell_type": "code",
   "execution_count": 177,
   "metadata": {},
   "outputs": [],
   "source": [
    "def theos(vals):\n",
    "    den = np.sum([np.power(vals[i], alpha) for i in range(len(vals))])\n",
    "    return [np.power(vals[i], alpha) / den for i in range(len(vals))]"
   ]
  },
  {
   "cell_type": "code",
   "execution_count": 178,
   "metadata": {},
   "outputs": [
    {
     "data": {
      "text/plain": [
       "[0.16653664532144477, 0.33330423948674176, 0.5001591151918134]"
      ]
     },
     "execution_count": 178,
     "metadata": {},
     "output_type": "execute_result"
    }
   ],
   "source": [
    "theos([1.,2.,3.])"
   ]
  },
  {
   "cell_type": "markdown",
   "metadata": {},
   "source": [
    "# Proportional"
   ]
  },
  {
   "cell_type": "code",
   "execution_count": 28,
   "metadata": {},
   "outputs": [],
   "source": [
    "def F(x):\n",
    "    vs    = [1., 2., 4.]\n",
    "    vals  = np.array([np.log(x[i])*vs[i] for i in range(len(vs))])\n",
    "    return -np.sum(vals)"
   ]
  },
  {
   "cell_type": "code",
   "execution_count": 29,
   "metadata": {},
   "outputs": [
    {
     "data": {
      "text/plain": [
       "     fun: 6.68989923778774\n",
       "     jac: array([-6.99999988, -6.99999976, -6.99999988])\n",
       " message: 'Optimization terminated successfully'\n",
       "    nfev: 73\n",
       "     nit: 15\n",
       "    njev: 15\n",
       "  status: 0\n",
       " success: True\n",
       "       x: array([0.14285714, 0.28571429, 0.57142857])"
      ]
     },
     "execution_count": 29,
     "metadata": {},
     "output_type": "execute_result"
    }
   ],
   "source": [
    "start_pos = [0.8, 0.1, 0.1]\n",
    "cons = ({'type': 'eq', 'fun': lambda x:  1 - sum(x)})\n",
    "bnds = tuple((0,1) for x in start_pos)\n",
    "\n",
    "res = minimize(F, start_pos, method='SLSQP', bounds=bnds, constraints=cons, tol=1e-16)\n",
    "res"
   ]
  },
  {
   "cell_type": "code",
   "execution_count": 30,
   "metadata": {},
   "outputs": [
    {
     "data": {
      "text/plain": [
       "(0.14285714285714285, 0.2857142857142857, 0.5714285714285714)"
      ]
     },
     "execution_count": 30,
     "metadata": {},
     "output_type": "execute_result"
    }
   ],
   "source": [
    "1/7, 2/7, 4/7"
   ]
  },
  {
   "cell_type": "markdown",
   "metadata": {},
   "source": [
    "# WTA"
   ]
  },
  {
   "cell_type": "code",
   "execution_count": 36,
   "metadata": {},
   "outputs": [],
   "source": [
    "def F(x):\n",
    "    vs    = [1., 2., 4.]\n",
    "    return -np.dot(x,vs)"
   ]
  },
  {
   "cell_type": "code",
   "execution_count": 37,
   "metadata": {},
   "outputs": [
    {
     "data": {
      "text/plain": [
       "     fun: -4.0\n",
       "     jac: array([-1., -2., -4.])\n",
       " message: 'Optimization terminated successfully'\n",
       "    nfev: 8\n",
       "     nit: 6\n",
       "    njev: 2\n",
       "  status: 0\n",
       " success: True\n",
       "       x: array([0., 0., 1.])"
      ]
     },
     "execution_count": 37,
     "metadata": {},
     "output_type": "execute_result"
    }
   ],
   "source": [
    "start_pos = [0.8, 0.1, 0.1]\n",
    "cons = ({'type': 'eq', 'fun': lambda x:  1 - sum(x)})\n",
    "bnds = tuple((0,1) for x in start_pos)\n",
    "\n",
    "res = minimize(F, start_pos, method='SLSQP', bounds=bnds, constraints=cons, tol=1e-16)\n",
    "res"
   ]
  },
  {
   "cell_type": "markdown",
   "metadata": {},
   "source": [
    "# reverse tullock n=2"
   ]
  },
  {
   "cell_type": "code",
   "execution_count": 38,
   "metadata": {},
   "outputs": [],
   "source": [
    "alpha = 2\n",
    "def F(x):\n",
    "    costs = [1., 2.]\n",
    "    vals  = np.array([costs[i]*np.power(x[i], 1+1/alpha) for i in range(len(costs))])\n",
    "    return np.sum(vals/(1+1/alpha))"
   ]
  },
  {
   "cell_type": "code",
   "execution_count": 39,
   "metadata": {
    "scrolled": true
   },
   "outputs": [
    {
     "data": {
      "text/plain": [
       "     fun: 0.5962847939999439\n",
       "     jac: array([0.8944272, 0.8944272])\n",
       " message: 'Optimization terminated successfully'\n",
       "    nfev: 7\n",
       "     nit: 2\n",
       "    njev: 2\n",
       "  status: 0\n",
       " success: True\n",
       "       x: array([0.80000001, 0.19999999])"
      ]
     },
     "execution_count": 39,
     "metadata": {},
     "output_type": "execute_result"
    }
   ],
   "source": [
    "start_pos = [0.8, 0.2]\n",
    "cons = ({'type': 'eq', 'fun': lambda x:  1 - sum(x)})\n",
    "bnds = tuple((0,1) for x in start_pos)\n",
    "\n",
    "res = minimize(F, start_pos, method='SLSQP', bounds=bnds ,constraints=cons, tol=1e-16)\n",
    "res"
   ]
  },
  {
   "cell_type": "code",
   "execution_count": 40,
   "metadata": {},
   "outputs": [],
   "source": [
    "def theos(costs):\n",
    "    den = np.sum([np.power(costs[i], -alpha) for i in range(len(costs))])\n",
    "    return [np.power(costs[i], -alpha) / den for i in range(len(costs))]"
   ]
  },
  {
   "cell_type": "code",
   "execution_count": 42,
   "metadata": {},
   "outputs": [
    {
     "data": {
      "text/plain": [
       "[0.8, 0.2]"
      ]
     },
     "execution_count": 42,
     "metadata": {},
     "output_type": "execute_result"
    }
   ],
   "source": [
    "theos([1.,2.])"
   ]
  },
  {
   "cell_type": "markdown",
   "metadata": {},
   "source": [
    "# new benchmark, n=2, c0 = 1, c1 = VAR, a=3"
   ]
  },
  {
   "cell_type": "code",
   "execution_count": 109,
   "metadata": {},
   "outputs": [
    {
     "data": {
      "text/plain": [
       "array([1. , 1.1, 1.2, 1.3, 1.4, 1.5, 1.6, 1.7, 1.8, 1.9, 2. , 2.1, 2.2,\n",
       "       2.3, 2.4, 2.5, 2.6, 2.7, 2.8, 2.9, 3. , 3.1, 3.2, 3.3, 3.4, 3.5,\n",
       "       3.6, 3.7, 3.8, 3.9, 4. , 4.1, 4.2, 4.3, 4.4, 4.5, 4.6, 4.7, 4.8,\n",
       "       4.9])"
      ]
     },
     "execution_count": 109,
     "metadata": {},
     "output_type": "execute_result"
    }
   ],
   "source": [
    "alpha = 3.\n",
    "c1s   = np.arange(1, 5, 0.1)\n",
    "c1s"
   ]
  },
  {
   "cell_type": "code",
   "execution_count": 110,
   "metadata": {},
   "outputs": [],
   "source": [
    "def F(c, x):\n",
    "    vals  = np.array([c[i]*np.power(x[i], 1+1/alpha) for i in range(len(costs))])\n",
    "    return np.sum(vals)"
   ]
  },
  {
   "cell_type": "code",
   "execution_count": 101,
   "metadata": {},
   "outputs": [],
   "source": [
    "def theos(costs):\n",
    "    den = np.sum([np.power(costs[i], -alpha) for i in range(len(costs))])\n",
    "    return [np.power(costs[i], -alpha) / den for i in range(len(costs))]"
   ]
  },
  {
   "cell_type": "code",
   "execution_count": 102,
   "metadata": {},
   "outputs": [
    {
     "data": {
      "text/plain": [
       "(40,)"
      ]
     },
     "execution_count": 102,
     "metadata": {},
     "output_type": "execute_result"
    }
   ],
   "source": [
    "fStars = []\n",
    "for c1 in c1s:\n",
    "    costs  = [1, c1]\n",
    "    xStars = theos(costs)\n",
    "    fStars.append(F(costs, xStars))\n",
    "fStars = np.asarray(fStars)\n",
    "fStars.shape"
   ]
  },
  {
   "cell_type": "code",
   "execution_count": 103,
   "metadata": {},
   "outputs": [],
   "source": [
    "def getEquilBids(cs, a, guess=None):\n",
    "    n = len(cs)\n",
    "    bs = [sp.Symbol('b{}'.format(i)) for i in range(n)]\n",
    "    \n",
    "    denom = sum([bi**(-a) for bi in bs])\n",
    "    xs    = [bi**(-a)/denom for bi in bs]\n",
    "    us    = [(bs[i] - cs[i])*xs[i] for i in range(n)]\n",
    "    diffs = [sp.diff(us[i], bs[i]) for i in range(n)]\n",
    "    funcs = [sp.lambdify(bs, diffs[i]) for i in range(n)]\n",
    "    \n",
    "    def eqs(bs):\n",
    "        return [f(*bs) for f in funcs]\n",
    "    \n",
    "    initial_guess = cs\n",
    "    if guess != None:\n",
    "        initial_guess = guess\n",
    "    \n",
    "    return fsolve(eqs, initial_guess)\n",
    "\n",
    "def getAllos(bids, a):\n",
    "    denom = sum([b**(-a) for b in bids])\n",
    "    return np.array(bids**(-a)) / denom"
   ]
  },
  {
   "cell_type": "code",
   "execution_count": 104,
   "metadata": {},
   "outputs": [
    {
     "data": {
      "text/plain": [
       "array([1. , 1.1, 1.2, 1.3, 1.4, 1.5, 1.6, 1.7, 1.8, 1.9, 2. , 2.1, 2.2,\n",
       "       2.3, 2.4, 2.5, 2.6, 2.7, 2.8, 2.9, 3. , 3.1, 3.2, 3.3, 3.4, 3.5,\n",
       "       3.6, 3.7, 3.8, 3.9, 4. , 4.1, 4.2, 4.3, 4.4, 4.5, 4.6, 4.7, 4.8,\n",
       "       4.9])"
      ]
     },
     "execution_count": 104,
     "metadata": {},
     "output_type": "execute_result"
    }
   ],
   "source": [
    "c1s"
   ]
  },
  {
   "cell_type": "code",
   "execution_count": 105,
   "metadata": {},
   "outputs": [],
   "source": [
    "guesses = c1s"
   ]
  },
  {
   "cell_type": "code",
   "execution_count": 98,
   "metadata": {},
   "outputs": [
    {
     "data": {
      "text/plain": [
       "(40,)"
      ]
     },
     "execution_count": 98,
     "metadata": {},
     "output_type": "execute_result"
    }
   ],
   "source": [
    "# f tildes\n",
    "fTildes = []\n",
    "for i in range(len(c1s)):\n",
    "    curCost = [1,c1s[i]]\n",
    "    bids  = getEquilBids(curCost, a=alpha, guess=[guesses[i],guesses[i]])\n",
    "    allos = getAllos(bids, a=alpha)\n",
    "    fTildes.append(F(curCost, allos))\n",
    "fTildes = np.asarray(fTildes)\n",
    "fTildes.shape"
   ]
  },
  {
   "cell_type": "code",
   "execution_count": 126,
   "metadata": {},
   "outputs": [
    {
     "data": {
      "image/png": "[encoded data removed]",
      "text/plain": [
       "<Figure size 648x432 with 1 Axes>"
      ]
     },
     "metadata": {
      "needs_background": "light"
     },
     "output_type": "display_data"
    }
   ],
   "source": [
    "f, ax = plt.subplots(figsize=(9,6))\n",
    "\n",
    "ax.plot(c1s, fTildes/fStars, linewidth=3, alpha=0.6, label=r'$\\frac{F(\\tilde{x})}{F(x^*)}$')\n",
    "ax.plot(c1s, fTildes, linewidth=3, alpha=0.6, label=r'$F(\\tilde{x})$')\n",
    "ax.plot(c1s, fStars, linewidth=3, alpha=0.6, label=r'$F(x^*)$')\n",
    "\n",
    "\n",
    "ax.set_xlabel(r'$c_2$', size=15)\n",
    "ax.set_title(r'$c_1=1, \\alpha=3$', size=17)\n",
    "ax.legend(prop={'size': 14})\n",
    "ax.grid(alpha=0.3)\n",
    "plt.savefig('out.png', dpi=150, bbox_inches='tight', facecolor='white')\n",
    "plt.show()"
   ]
  },
  {
   "cell_type": "code",
   "execution_count": 138,
   "metadata": {},
   "outputs": [],
   "source": [
    "PoAs    = []\n",
    "xTildes = [] \n",
    "xStars  = []\n",
    "alpha = 3.\n",
    "\n",
    "for c1 in c1s:\n",
    "    costs   = [1, c1]\n",
    "    xStar   = theos(costs)\n",
    "    bids    = getEquilBids(costs, a=alpha, guess=[guesses[i],guesses[i]])\n",
    "    xTilde  = getAllos(bids, a=alpha)\n",
    "    \n",
    "    xTildes.append(xTilde)\n",
    "    xStars.append(xStar)\n",
    "    PoAs.append(np.dot(xTilde, costs)/np.dot(xStar, costs))\n",
    "xTildes = np.asarray(xTildes)\n",
    "xStars = np.asarray(xStars)\n",
    "PoAs = np.asarray(PoAs)"
   ]
  },
  {
   "cell_type": "code",
   "execution_count": 157,
   "metadata": {},
   "outputs": [
    {
     "data": {
      "image/png": "[encoded data removed]",
      "text/plain": [
       "<Figure size 864x360 with 2 Axes>"
      ]
     },
     "metadata": {
      "needs_background": "light"
     },
     "output_type": "display_data"
    }
   ],
   "source": [
    "f, axarr = plt.subplots(ncols=2, figsize=(12,5))\n",
    "\n",
    "axarr[0].plot(c1s, xStars[:,0], linewidth=3, alpha=0.6, label=r'$x_1^*$', color='mediumorchid',\n",
    "              linestyle='-')\n",
    "axarr[0].plot(c1s, xTildes[:,0], linewidth=3, alpha=0.6, label=r'$\\tilde{x}_1$', color='mediumorchid',\n",
    "              linestyle='--')\n",
    "axarr[0].plot(c1s, xTildes[:,1], linewidth=3, alpha=0.6, label=r'$\\tilde{x}_2$', color='goldenrod',\n",
    "              linestyle='--')\n",
    "axarr[0].plot(c1s, xStars[:,1], linewidth=3, alpha=0.6, label=r'$x_2^*$', color='goldenrod',\n",
    "              linestyle='-')\n",
    "\n",
    "\n",
    "axarr[1].plot(c1s, PoAs, linewidth=3, alpha=0.6, label=r'$PoA$')\n",
    "\n",
    "\n",
    "axarr[0].legend(prop={'size': 12})\n",
    "for ax in axarr:\n",
    "    ax.grid(alpha=0.3)\n",
    "    ax.set_xlabel(r'$c_2$', size=15)\n",
    "axarr[0].set_title(r'allocations $(c_1=1, \\alpha=3)$', size=17)\n",
    "axarr[1].set_title(r'PoA $(c_1=1, \\alpha=3)$', size=17)\n",
    "\n",
    "plt.savefig('out.png', dpi=150, bbox_inches='tight', facecolor='white')\n",
    "plt.show()"
   ]
  },
  {
   "cell_type": "markdown",
   "metadata": {},
   "source": [
    "# F stars"
   ]
  },
  {
   "cell_type": "code",
   "execution_count": 159,
   "metadata": {},
   "outputs": [
    {
     "data": {
      "text/plain": [
       "array([1. , 1.1, 1.2, 1.3, 1.4, 1.5, 1.6, 1.7, 1.8, 1.9, 2. , 2.1, 2.2,\n",
       "       2.3, 2.4, 2.5, 2.6, 2.7, 2.8, 2.9, 3. , 3.1, 3.2, 3.3, 3.4, 3.5,\n",
       "       3.6, 3.7, 3.8, 3.9, 4. , 4.1, 4.2, 4.3, 4.4, 4.5, 4.6, 4.7, 4.8,\n",
       "       4.9])"
      ]
     },
     "execution_count": 159,
     "metadata": {},
     "output_type": "execute_result"
    }
   ],
   "source": [
    "alpha = 3.\n",
    "c1s   = np.arange(1, 5, 0.1)\n",
    "c1s"
   ]
  },
  {
   "cell_type": "code",
   "execution_count": 160,
   "metadata": {},
   "outputs": [],
   "source": [
    "def F(c, x):\n",
    "    vals  = np.array([c[i]*np.power(x[i], 1+1/alpha) for i in range(len(costs))])\n",
    "    return np.sum(vals)"
   ]
  },
  {
   "cell_type": "code",
   "execution_count": 164,
   "metadata": {},
   "outputs": [],
   "source": [
    "def F1(c, x):\n",
    "    return c * np.power(x, 1+1/alpha)"
   ]
  },
  {
   "cell_type": "code",
   "execution_count": 101,
   "metadata": {},
   "outputs": [],
   "source": [
    "def theos(costs):\n",
    "    den = np.sum([np.power(costs[i], -alpha) for i in range(len(costs))])\n",
    "    return [np.power(costs[i], -alpha) / den for i in range(len(costs))]"
   ]
  },
  {
   "cell_type": "code",
   "execution_count": 167,
   "metadata": {},
   "outputs": [
    {
     "data": {
      "text/plain": [
       "((40,), (40, 2))"
      ]
     },
     "execution_count": 167,
     "metadata": {},
     "output_type": "execute_result"
    }
   ],
   "source": [
    "xStars = []\n",
    "fStars = []\n",
    "f1s    = []\n",
    "f2s    = []\n",
    "for c1 in c1s:\n",
    "    costs  = [1, c1]\n",
    "    xStar = theos(costs)\n",
    "    xStars.append(xStar)\n",
    "    fStars.append(F(costs, xStar))\n",
    "    f1s.append(F1(costs[0], xStar[0]))\n",
    "    f2s.append(F1(costs[1], xStar[1]))\n",
    "fStars = np.asarray(fStars)\n",
    "xStars = np.asarray(xStars)\n",
    "f1s, f2s = np.asarray(f1s), np.asarray(f2s)\n",
    "fStars.shape, xStars.shape"
   ]
  },
  {
   "cell_type": "code",
   "execution_count": 174,
   "metadata": {},
   "outputs": [
    {
     "data": {
      "image/png": "[encoded data removed]",
      "text/plain": [
       "<Figure size 864x360 with 2 Axes>"
      ]
     },
     "metadata": {
      "needs_background": "light"
     },
     "output_type": "display_data"
    }
   ],
   "source": [
    "f, axarr = plt.subplots(ncols=2, figsize=(12,5))\n",
    "\n",
    "axarr[0].plot(c1s, xStars[:,0], linewidth=3, alpha=0.6, label=r'$x^*_1$')\n",
    "axarr[0].plot(c1s, xStars[:,1], linewidth=3, alpha=0.6, label=r'$x^*_1$')\n",
    "axarr[1].plot(c1s, fStars, linewidth=3, alpha=0.6, label=r'$F(x^*)$')\n",
    "axarr[1].plot(c1s, f1s, linewidth=3, alpha=0.6, label=r'$c_1x_1^{*1+1/a}$')\n",
    "axarr[1].plot(c1s, f2s, linewidth=3, alpha=0.6, label=r'$c_2x_2^{*1+1/a}$')\n",
    "\n",
    "for ax in axarr:\n",
    "    ax.legend(prop={'size': 12})\n",
    "    ax.grid(alpha=0.3)\n",
    "    ax.set_xlabel(r'$c_2$', size=15)\n",
    "axarr[0].set_title(r'allocations $(c_1=1, \\alpha=3)$', size=17)\n",
    "axarr[1].set_title(r'F values $(c_1=1, \\alpha=3)$', size=17)\n",
    "\n",
    "plt.savefig('out.png', dpi=150, bbox_inches='tight', facecolor='white')\n",
    "plt.show()"
   ]
  },
  {
   "cell_type": "markdown",
   "metadata": {},
   "source": [
    "# F tildes"
   ]
  },
  {
   "cell_type": "code",
   "execution_count": 182,
   "metadata": {},
   "outputs": [
    {
     "data": {
      "text/plain": [
       "array([1. , 1.1, 1.2, 1.3, 1.4, 1.5, 1.6, 1.7, 1.8, 1.9, 2. , 2.1, 2.2,\n",
       "       2.3, 2.4, 2.5, 2.6, 2.7, 2.8, 2.9, 3. , 3.1, 3.2, 3.3, 3.4, 3.5,\n",
       "       3.6, 3.7, 3.8, 3.9, 4. , 4.1, 4.2, 4.3, 4.4, 4.5, 4.6, 4.7, 4.8,\n",
       "       4.9, 5. , 5.1, 5.2, 5.3, 5.4, 5.5, 5.6, 5.7, 5.8, 5.9, 6. , 6.1,\n",
       "       6.2, 6.3, 6.4, 6.5, 6.6, 6.7, 6.8, 6.9, 7. , 7.1, 7.2, 7.3, 7.4,\n",
       "       7.5, 7.6, 7.7, 7.8, 7.9, 8. , 8.1, 8.2, 8.3, 8.4, 8.5, 8.6, 8.7,\n",
       "       8.8, 8.9, 9. , 9.1, 9.2, 9.3, 9.4, 9.5, 9.6, 9.7, 9.8, 9.9])"
      ]
     },
     "execution_count": 182,
     "metadata": {},
     "output_type": "execute_result"
    }
   ],
   "source": [
    "alpha = 3.\n",
    "c1s   = np.arange(1, 10, 0.1)\n",
    "c1s"
   ]
  },
  {
   "cell_type": "code",
   "execution_count": 183,
   "metadata": {},
   "outputs": [],
   "source": [
    "def F(c, x):\n",
    "    vals  = np.array([c[i]*np.power(x[i], 1+1/alpha) for i in range(len(costs))])\n",
    "    return np.sum(vals)"
   ]
  },
  {
   "cell_type": "code",
   "execution_count": 184,
   "metadata": {},
   "outputs": [],
   "source": [
    "def F1(c, x):\n",
    "    return c * np.power(x, 1+1/alpha)"
   ]
  },
  {
   "cell_type": "code",
   "execution_count": 186,
   "metadata": {},
   "outputs": [
    {
     "data": {
      "text/plain": [
       "((90,), (90, 2))"
      ]
     },
     "execution_count": 186,
     "metadata": {},
     "output_type": "execute_result"
    }
   ],
   "source": [
    "xTildes = []\n",
    "fTildes = []\n",
    "f1s     = []\n",
    "f2s     = []\n",
    "for c1 in c1s:\n",
    "    costs   = [1, c1]\n",
    "    bids    = getEquilBids(costs, a=alpha, guess=[guesses[i],guesses[i]])\n",
    "    xTilde  = getAllos(bids, a=alpha)\n",
    "\n",
    "    xTildes.append(xTilde)\n",
    "    fTildes.append(F(costs, xTilde))\n",
    "    f1s.append(F1(costs[0], xTilde[0]))\n",
    "    f2s.append(F1(costs[1], xTilde[1]))\n",
    "fTildes = np.asarray(fTildes)\n",
    "xTildes = np.asarray(xTildes)\n",
    "f1s, f2s = np.asarray(f1s), np.asarray(f2s)\n",
    "fTildes.shape, xTildes.shape"
   ]
  },
  {
   "cell_type": "code",
   "execution_count": 190,
   "metadata": {},
   "outputs": [
    {
     "data": {
      "image/png": "[encoded data removed]",
      "text/plain": [
       "<Figure size 864x360 with 2 Axes>"
      ]
     },
     "metadata": {
      "needs_background": "light"
     },
     "output_type": "display_data"
    }
   ],
   "source": [
    "f, axarr = plt.subplots(ncols=2, figsize=(12,5))\n",
    "\n",
    "axarr[0].plot(c1s, xTildes[:,0], linewidth=3, alpha=0.6, label=r'$\\tilde{x}_1$')\n",
    "axarr[0].plot(c1s, xTildes[:,1], linewidth=3, alpha=0.6, label=r'$\\tilde{x}_2$')\n",
    "axarr[1].plot(c1s, fTildes, linewidth=3, alpha=0.6, label=r'$F(\\tilde{x})$')\n",
    "axarr[1].plot(c1s, f1s, linewidth=3, alpha=0.6, label=r'$c_1\\tilde{x}_1^{1+1/a}$')\n",
    "axarr[1].plot(c1s, f2s, linewidth=3, alpha=0.6, label=r'$c_2\\tilde{x}_2^{1+1/a}$')\n",
    "\n",
    "for ax in axarr:\n",
    "    ax.legend(prop={'size': 12})\n",
    "    ax.grid(alpha=0.3)\n",
    "    ax.set_xlabel(r'$c_2$', size=15)\n",
    "axarr[0].set_title(r'allocations $(c_1=1, \\alpha=3)$', size=17)\n",
    "axarr[1].set_title(r'F values $(c_1=1, \\alpha=3)$', size=17)\n",
    "\n",
    "plt.savefig('out.png', dpi=150, bbox_inches='tight', facecolor='white')\n",
    "plt.show()"
   ]
  },
  {
   "cell_type": "code",
   "execution_count": null,
   "metadata": {},
   "outputs": [],
   "source": []
  }
 ],
 "metadata": {
  "kernelspec": {
   "display_name": "Python 3",
   "language": "python",
   "name": "python3"
  },
  "language_info": {
   "codemirror_mode": {
    "name": "ipython",
    "version": 3
   },
   "file_extension": ".py",
   "mimetype": "text/x-python",
   "name": "python",
   "nbconvert_exporter": "python",
   "pygments_lexer": "ipython3",
   "version": "3.8.16"
  }
 },
 "nbformat": 4,
 "nbformat_minor": 4
}
