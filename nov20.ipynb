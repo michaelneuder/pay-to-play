{
 "cells": [
  {
   "cell_type": "code",
   "execution_count": 1,
   "metadata": {},
   "outputs": [],
   "source": [
    "import matplotlib.pyplot as plt\n",
    "import matplotlib as mpl\n",
    "import matplotlib.patches as mpatches\n",
    "import numpy as np\n",
    "import pandas as pd\n",
    "import cvxpy as cp\n",
    "from scipy.stats import poisson, uniform, expon, pareto\n",
    "from scipy.optimize import minimize, fsolve\n",
    "from tqdm import tqdm\n",
    "from mdptoolbox import mdp, util\n",
    "import itertools\n",
    "from scipy.sparse import csr_matrix, lil_matrix\n",
    "from matplotlib.patches import Patch\n",
    "import math\n",
    "import random\n",
    "import sympy as sp\n",
    "from sympy.printing.latex import print_latex"
   ]
  },
  {
   "cell_type": "code",
   "execution_count": 32,
   "metadata": {},
   "outputs": [],
   "source": [
    "def NSW(xs):\n",
    "    return -np.prod(xs*np.array([1,2,400]))"
   ]
  },
  {
   "cell_type": "code",
   "execution_count": 33,
   "metadata": {},
   "outputs": [
    {
     "data": {
      "text/plain": [
       "-29.629629629629623"
      ]
     },
     "execution_count": 33,
     "metadata": {},
     "output_type": "execute_result"
    }
   ],
   "source": [
    "xs = np.array([1/3, 1/3, 1/3])\n",
    "NSW(xs)"
   ]
  },
  {
   "cell_type": "code",
   "execution_count": 34,
   "metadata": {},
   "outputs": [],
   "source": [
    "start_pos = [0.8, 0.1, 0.1]\n",
    "cons = ({'type': 'eq', 'fun': lambda x:  1 - sum(x)})\n",
    "bnds = tuple((0,1) for x in start_pos)"
   ]
  },
  {
   "cell_type": "code",
   "execution_count": 35,
   "metadata": {},
   "outputs": [
    {
     "data": {
      "text/plain": [
       "     fun: -29.629629627978957\n",
       "     jac: array([-88.8881228 , -88.88927197, -88.88927197])\n",
       " message: 'Optimization terminated successfully'\n",
       "    nfev: 26\n",
       "     nit: 6\n",
       "    njev: 6\n",
       "  status: 0\n",
       " success: True\n",
       "       x: array([0.33333621, 0.3333319 , 0.3333319 ])"
      ]
     },
     "execution_count": 35,
     "metadata": {},
     "output_type": "execute_result"
    }
   ],
   "source": [
    "res = minimize(NSW, start_pos, method='SLSQP', bounds=bnds ,constraints=cons)\n",
    "res"
   ]
  },
  {
   "cell_type": "code",
   "execution_count": 7,
   "metadata": {},
   "outputs": [],
   "source": [
    "alpha = 2\n",
    "def F(x):\n",
    "    costs = [1., 2., 3.]\n",
    "    vals  = np.array([costs[i]*np.power(x[i], 1+1/alpha) for i in range(len(costs))])\n",
    "    return np.sum(vals/(1+1/alpha))"
   ]
  },
  {
   "cell_type": "code",
   "execution_count": 8,
   "metadata": {
    "scrolled": true
   },
   "outputs": [
    {
     "data": {
      "text/plain": [
       "     fun: 0.5714285714285716\n",
       "     jac: array([0.85714287, 0.85714287, 0.85714287])\n",
       " message: 'Optimization terminated successfully'\n",
       "    nfev: 30\n",
       "     nit: 7\n",
       "    njev: 7\n",
       "  status: 0\n",
       " success: True\n",
       "       x: array([0.73469389, 0.18367347, 0.08163265])"
      ]
     },
     "execution_count": 8,
     "metadata": {},
     "output_type": "execute_result"
    }
   ],
   "source": [
    "start_pos = [0.8, 0.1, 0.1]\n",
    "cons = ({'type': 'eq', 'fun': lambda x:  1 - sum(x)})\n",
    "bnds = tuple((0,1) for x in start_pos)\n",
    "\n",
    "res = minimize(F, start_pos, method='SLSQP', bounds=bnds ,constraints=cons, tol=1e-16)\n",
    "res"
   ]
  },
  {
   "cell_type": "code",
   "execution_count": 9,
   "metadata": {},
   "outputs": [],
   "source": [
    "def theos(costs):\n",
    "    den = np.sum([np.power(costs[i], -alpha) for i in range(len(costs))])\n",
    "    return [np.power(costs[i], -alpha) / den for i in range(len(costs))]"
   ]
  },
  {
   "cell_type": "code",
   "execution_count": 10,
   "metadata": {},
   "outputs": [
    {
     "data": {
      "text/plain": [
       "[0.7346938775510203, 0.18367346938775508, 0.08163265306122448]"
      ]
     },
     "execution_count": 10,
     "metadata": {},
     "output_type": "execute_result"
    }
   ],
   "source": [
    "theos([1.,2.,3.])"
   ]
  },
  {
   "cell_type": "markdown",
   "metadata": {},
   "source": [
    "# normal tullock"
   ]
  },
  {
   "cell_type": "code",
   "execution_count": 15,
   "metadata": {},
   "outputs": [],
   "source": [
    "alpha = 2\n",
    "def F(x):\n",
    "    vs    = [1., 2., 3.]\n",
    "    vals  = np.array([np.power(x[i], 1+1/alpha)/vs[i] for i in range(len(vs))])\n",
    "    return np.sum(vals)"
   ]
  },
  {
   "cell_type": "code",
   "execution_count": 16,
   "metadata": {
    "scrolled": true
   },
   "outputs": [
    {
     "data": {
      "text/plain": [
       "     fun: 0.2672612419124245\n",
       "     jac: array([0.40089187, 0.40089186, 0.40089187])\n",
       " message: 'Optimization terminated successfully'\n",
       "    nfev: 32\n",
       "     nit: 8\n",
       "    njev: 8\n",
       "  status: 0\n",
       " success: True\n",
       "       x: array([0.07142856, 0.28571428, 0.64285716])"
      ]
     },
     "execution_count": 16,
     "metadata": {},
     "output_type": "execute_result"
    }
   ],
   "source": [
    "start_pos = [0.8, 0.1, 0.1]\n",
    "cons = ({'type': 'eq', 'fun': lambda x:  1 - sum(x)})\n",
    "bnds = tuple((0,1) for x in start_pos)\n",
    "\n",
    "res = minimize(F, start_pos, method='SLSQP', bounds=bnds ,constraints=cons, tol=1e-16)\n",
    "res"
   ]
  },
  {
   "cell_type": "code",
   "execution_count": 17,
   "metadata": {},
   "outputs": [],
   "source": [
    "def theos(vals):\n",
    "    den = np.sum([np.power(vals[i], alpha) for i in range(len(vals))])\n",
    "    return [np.power(vals[i], alpha) / den for i in range(len(vals))]"
   ]
  },
  {
   "cell_type": "code",
   "execution_count": 18,
   "metadata": {},
   "outputs": [
    {
     "data": {
      "text/plain": [
       "[0.07142857142857142, 0.2857142857142857, 0.6428571428571429]"
      ]
     },
     "execution_count": 18,
     "metadata": {},
     "output_type": "execute_result"
    }
   ],
   "source": [
    "theos([1.,2.,3.])"
   ]
  },
  {
   "cell_type": "code",
   "execution_count": 158,
   "metadata": {},
   "outputs": [],
   "source": [
    "# other direction"
   ]
  },
  {
   "cell_type": "code",
   "execution_count": 19,
   "metadata": {},
   "outputs": [],
   "source": [
    "alpha = 2\n",
    "def F(x):\n",
    "    vs    = [1., 2., 3.]\n",
    "    vals  = np.array([np.power(x[i], 1-1/alpha)*vs[i] for i in range(len(vs))])\n",
    "    return -np.sum(vals)"
   ]
  },
  {
   "cell_type": "code",
   "execution_count": 20,
   "metadata": {
    "scrolled": true
   },
   "outputs": [
    {
     "data": {
      "text/plain": [
       "     fun: -3.7416573867739413\n",
       "     jac: array([-1.87082866, -1.87082866, -1.87082866])\n",
       " message: 'Optimization terminated successfully'\n",
       "    nfev: 176\n",
       "     nit: 39\n",
       "    njev: 39\n",
       "  status: 0\n",
       " success: True\n",
       "       x: array([0.07142857, 0.28571428, 0.64285715])"
      ]
     },
     "execution_count": 20,
     "metadata": {},
     "output_type": "execute_result"
    }
   ],
   "source": [
    "start_pos = [0.8, 0.1, 0.1]\n",
    "cons = ({'type': 'eq', 'fun': lambda x:  1 - sum(x)})\n",
    "bnds = tuple((0,1) for x in start_pos)\n",
    "\n",
    "res = minimize(F, start_pos, method='SLSQP', bounds=bnds ,constraints=cons, tol=1e-16)\n",
    "res"
   ]
  },
  {
   "cell_type": "code",
   "execution_count": 21,
   "metadata": {},
   "outputs": [],
   "source": [
    "def theos(vals):\n",
    "    den = np.sum([np.power(vals[i], alpha) for i in range(len(vals))])\n",
    "    return [np.power(vals[i], alpha) / den for i in range(len(vals))]"
   ]
  },
  {
   "cell_type": "code",
   "execution_count": 22,
   "metadata": {},
   "outputs": [
    {
     "data": {
      "text/plain": [
       "[0.07142857142857142, 0.2857142857142857, 0.6428571428571429]"
      ]
     },
     "execution_count": 22,
     "metadata": {},
     "output_type": "execute_result"
    }
   ],
   "source": [
    "theos([1.,2.,3.])"
   ]
  },
  {
   "cell_type": "code",
   "execution_count": 158,
   "metadata": {},
   "outputs": [],
   "source": [
    "# v_i^a"
   ]
  },
  {
   "cell_type": "code",
   "execution_count": 182,
   "metadata": {},
   "outputs": [],
   "source": [
    "alpha = 2\n",
    "def F(x):\n",
    "    vs    = [1., 2., 3.]\n",
    "    vals  = np.array([np.power(vs[i], alpha)*x[i] for i in range(len(vs))])\n",
    "    return -np.sum(vals)"
   ]
  },
  {
   "cell_type": "code",
   "execution_count": 183,
   "metadata": {
    "scrolled": true
   },
   "outputs": [
    {
     "data": {
      "text/plain": [
       "     fun: 1.000000000000015\n",
       "     jac: array([0.99999999, 4.        , 9.        ])\n",
       " message: 'Positive directional derivative for linesearch'\n",
       "    nfev: 64\n",
       "     nit: 10\n",
       "    njev: 6\n",
       "  status: 8\n",
       " success: False\n",
       "       x: array([1.00000000e+00, 3.78882784e-15, 0.00000000e+00])"
      ]
     },
     "execution_count": 183,
     "metadata": {},
     "output_type": "execute_result"
    }
   ],
   "source": [
    "start_pos = [0.8, 0.1, 0.1]\n",
    "cons = ({'type': 'eq', 'fun': lambda x:  1 - sum(x)})\n",
    "bnds = tuple((0,1) for x in start_pos)\n",
    "\n",
    "res = minimize(F, start_pos, method='SLSQP', bounds=bnds ,constraints=cons, tol=1e-16)\n",
    "res"
   ]
  },
  {
   "cell_type": "code",
   "execution_count": 177,
   "metadata": {},
   "outputs": [],
   "source": [
    "def theos(vals):\n",
    "    den = np.sum([np.power(vals[i], alpha) for i in range(len(vals))])\n",
    "    return [np.power(vals[i], alpha) / den for i in range(len(vals))]"
   ]
  },
  {
   "cell_type": "code",
   "execution_count": 178,
   "metadata": {},
   "outputs": [
    {
     "data": {
      "text/plain": [
       "[0.16653664532144477, 0.33330423948674176, 0.5001591151918134]"
      ]
     },
     "execution_count": 178,
     "metadata": {},
     "output_type": "execute_result"
    }
   ],
   "source": [
    "theos([1.,2.,3.])"
   ]
  },
  {
   "cell_type": "markdown",
   "metadata": {},
   "source": [
    "# Proportional"
   ]
  },
  {
   "cell_type": "code",
   "execution_count": 28,
   "metadata": {},
   "outputs": [],
   "source": [
    "def F(x):\n",
    "    vs    = [1., 2., 4.]\n",
    "    vals  = np.array([np.log(x[i])*vs[i] for i in range(len(vs))])\n",
    "    return -np.sum(vals)"
   ]
  },
  {
   "cell_type": "code",
   "execution_count": 29,
   "metadata": {},
   "outputs": [
    {
     "data": {
      "text/plain": [
       "     fun: 6.68989923778774\n",
       "     jac: array([-6.99999988, -6.99999976, -6.99999988])\n",
       " message: 'Optimization terminated successfully'\n",
       "    nfev: 73\n",
       "     nit: 15\n",
       "    njev: 15\n",
       "  status: 0\n",
       " success: True\n",
       "       x: array([0.14285714, 0.28571429, 0.57142857])"
      ]
     },
     "execution_count": 29,
     "metadata": {},
     "output_type": "execute_result"
    }
   ],
   "source": [
    "start_pos = [0.8, 0.1, 0.1]\n",
    "cons = ({'type': 'eq', 'fun': lambda x:  1 - sum(x)})\n",
    "bnds = tuple((0,1) for x in start_pos)\n",
    "\n",
    "res = minimize(F, start_pos, method='SLSQP', bounds=bnds, constraints=cons, tol=1e-16)\n",
    "res"
   ]
  },
  {
   "cell_type": "code",
   "execution_count": 30,
   "metadata": {},
   "outputs": [
    {
     "data": {
      "text/plain": [
       "(0.14285714285714285, 0.2857142857142857, 0.5714285714285714)"
      ]
     },
     "execution_count": 30,
     "metadata": {},
     "output_type": "execute_result"
    }
   ],
   "source": [
    "1/7, 2/7, 4/7"
   ]
  },
  {
   "cell_type": "markdown",
   "metadata": {},
   "source": [
    "# WTA"
   ]
  },
  {
   "cell_type": "code",
   "execution_count": 36,
   "metadata": {},
   "outputs": [],
   "source": [
    "def F(x):\n",
    "    vs    = [1., 2., 4.]\n",
    "    return -np.dot(x,vs)"
   ]
  },
  {
   "cell_type": "code",
   "execution_count": 37,
   "metadata": {},
   "outputs": [
    {
     "data": {
      "text/plain": [
       "     fun: -4.0\n",
       "     jac: array([-1., -2., -4.])\n",
       " message: 'Optimization terminated successfully'\n",
       "    nfev: 8\n",
       "     nit: 6\n",
       "    njev: 2\n",
       "  status: 0\n",
       " success: True\n",
       "       x: array([0., 0., 1.])"
      ]
     },
     "execution_count": 37,
     "metadata": {},
     "output_type": "execute_result"
    }
   ],
   "source": [
    "start_pos = [0.8, 0.1, 0.1]\n",
    "cons = ({'type': 'eq', 'fun': lambda x:  1 - sum(x)})\n",
    "bnds = tuple((0,1) for x in start_pos)\n",
    "\n",
    "res = minimize(F, start_pos, method='SLSQP', bounds=bnds, constraints=cons, tol=1e-16)\n",
    "res"
   ]
  }
 ],
 "metadata": {
  "kernelspec": {
   "display_name": "Python 3",
   "language": "python",
   "name": "python3"
  },
  "language_info": {
   "codemirror_mode": {
    "name": "ipython",
    "version": 3
   },
   "file_extension": ".py",
   "mimetype": "text/x-python",
   "name": "python",
   "nbconvert_exporter": "python",
   "pygments_lexer": "ipython3",
   "version": "3.8.16"
  }
 },
 "nbformat": 4,
 "nbformat_minor": 4
}
