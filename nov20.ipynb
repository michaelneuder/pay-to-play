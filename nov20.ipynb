{
 "cells": [
  {
   "cell_type": "code",
   "execution_count": 1,
   "metadata": {},
   "outputs": [],
   "source": [
    "import matplotlib.pyplot as plt\n",
    "import matplotlib as mpl\n",
    "import matplotlib.patches as mpatches\n",
    "import numpy as np\n",
    "import pandas as pd\n",
    "import cvxpy as cp\n",
    "from scipy.stats import poisson, uniform, expon, pareto\n",
    "from scipy.optimize import minimize, fsolve\n",
    "from tqdm import tqdm\n",
    "from mdptoolbox import mdp, util\n",
    "import itertools\n",
    "from scipy.sparse import csr_matrix, lil_matrix\n",
    "from matplotlib.patches import Patch\n",
    "import math\n",
    "import random\n",
    "import sympy as sp\n",
    "from sympy.printing.latex import print_latex"
   ]
  },
  {
   "cell_type": "code",
   "execution_count": 58,
   "metadata": {},
   "outputs": [],
   "source": [
    "def NSW(xs):\n",
    "    return -np.prod(xs*np.array([1,2,40]))"
   ]
  },
  {
   "cell_type": "code",
   "execution_count": 53,
   "metadata": {},
   "outputs": [
    {
     "data": {
      "text/plain": [
       "-0.2962962962962963"
      ]
     },
     "execution_count": 53,
     "metadata": {},
     "output_type": "execute_result"
    }
   ],
   "source": [
    "xs = np.array([1/3, 1/3, 1/3])\n",
    "xs = np.array([1/3, 1/3, 1/3])\n",
    "NSW(xs)"
   ]
  },
  {
   "cell_type": "code",
   "execution_count": 56,
   "metadata": {},
   "outputs": [],
   "source": [
    "start_pos = [0.8, 0.1, 0.1]\n",
    "cons = ({'type': 'eq', 'fun': lambda x:  1 - sum(x)})\n",
    "bnds = tuple((0,1) for x in start_pos)"
   ]
  },
  {
   "cell_type": "code",
   "execution_count": 59,
   "metadata": {},
   "outputs": [
    {
     "data": {
      "text/plain": [
       "     fun: -2.962962870208538\n",
       "     jac: array([-8.88880694, -8.88536593, -8.89249241])\n",
       " message: 'Optimization terminated successfully'\n",
       "    nfev: 29\n",
       "     nit: 6\n",
       "    njev: 6\n",
       "  status: 0\n",
       " success: True\n",
       "       x: array([0.33327282, 0.33339064, 0.33333654])"
      ]
     },
     "execution_count": 59,
     "metadata": {},
     "output_type": "execute_result"
    }
   ],
   "source": [
    "res = minimize(NSW, start_pos, method='SLSQP', bounds=bnds ,constraints=cons)\n",
    "res"
   ]
  },
  {
   "cell_type": "code",
   "execution_count": 107,
   "metadata": {},
   "outputs": [],
   "source": [
    "alpha = 2\n",
    "def F(x):\n",
    "    costs = [1., 2., 3.]\n",
    "    vals  = np.array([costs[i]*np.power(x[i], 1+1/alpha) for i in range(len(costs))])\n",
    "    return np.sum(vals/(1+1/alpha))"
   ]
  },
  {
   "cell_type": "code",
   "execution_count": 108,
   "metadata": {
    "scrolled": true
   },
   "outputs": [
    {
     "data": {
      "text/plain": [
       "     fun: 0.5714285714285716\n",
       "     jac: array([0.85714287, 0.85714287, 0.85714287])\n",
       " message: 'Optimization terminated successfully'\n",
       "    nfev: 30\n",
       "     nit: 7\n",
       "    njev: 7\n",
       "  status: 0\n",
       " success: True\n",
       "       x: array([0.73469389, 0.18367347, 0.08163265])"
      ]
     },
     "execution_count": 108,
     "metadata": {},
     "output_type": "execute_result"
    }
   ],
   "source": [
    "start_pos = [0.8, 0.1, 0.1]\n",
    "cons = ({'type': 'eq', 'fun': lambda x:  1 - sum(x)})\n",
    "bnds = tuple((0,1) for x in start_pos)\n",
    "\n",
    "res = minimize(F, start_pos, method='SLSQP', bounds=bnds ,constraints=cons, tol=1e-16)\n",
    "res"
   ]
  },
  {
   "cell_type": "code",
   "execution_count": 109,
   "metadata": {},
   "outputs": [],
   "source": [
    "def theos(costs):\n",
    "    den = np.sum([np.power(costs[i], -alpha) for i in range(len(costs))])\n",
    "    return [np.power(costs[i], -alpha) / den for i in range(len(costs))]"
   ]
  },
  {
   "cell_type": "code",
   "execution_count": 110,
   "metadata": {},
   "outputs": [
    {
     "data": {
      "text/plain": [
       "[0.7346938775510203, 0.18367346938775508, 0.08163265306122448]"
      ]
     },
     "execution_count": 110,
     "metadata": {},
     "output_type": "execute_result"
    }
   ],
   "source": [
    "theos([1.,2.,3.])"
   ]
  },
  {
   "cell_type": "markdown",
   "metadata": {},
   "source": [
    "# normal tullock"
   ]
  },
  {
   "cell_type": "code",
   "execution_count": 154,
   "metadata": {},
   "outputs": [],
   "source": [
    "alpha = 1\n",
    "def F(x):\n",
    "    vs    = [1., 2., 3.]\n",
    "    vals  = np.array([np.power(x[i], 1+1/alpha)/vs[i] for i in range(len(vs))])\n",
    "    return np.sum(vals)"
   ]
  },
  {
   "cell_type": "code",
   "execution_count": 155,
   "metadata": {
    "scrolled": true
   },
   "outputs": [
    {
     "data": {
      "text/plain": [
       "     fun: 0.16666666666666669\n",
       "     jac: array([0.33333334, 0.33333334, 0.33333334])\n",
       " message: 'Optimization terminated successfully'\n",
       "    nfev: 29\n",
       "     nit: 7\n",
       "    njev: 7\n",
       "  status: 0\n",
       " success: True\n",
       "       x: array([0.16666666, 0.33333333, 0.5       ])"
      ]
     },
     "execution_count": 155,
     "metadata": {},
     "output_type": "execute_result"
    }
   ],
   "source": [
    "start_pos = [0.8, 0.1, 0.1]\n",
    "cons = ({'type': 'eq', 'fun': lambda x:  1 - sum(x)})\n",
    "bnds = tuple((0,1) for x in start_pos)\n",
    "\n",
    "res = minimize(F, start_pos, method='SLSQP', bounds=bnds ,constraints=cons, tol=1e-16)\n",
    "res"
   ]
  },
  {
   "cell_type": "code",
   "execution_count": 156,
   "metadata": {},
   "outputs": [],
   "source": [
    "def theos(vals):\n",
    "    den = np.sum([np.power(vals[i], alpha) for i in range(len(vals))])\n",
    "    return [np.power(vals[i], alpha) / den for i in range(len(vals))]"
   ]
  },
  {
   "cell_type": "code",
   "execution_count": 157,
   "metadata": {},
   "outputs": [
    {
     "data": {
      "text/plain": [
       "[0.16666666666666666, 0.3333333333333333, 0.5]"
      ]
     },
     "execution_count": 157,
     "metadata": {},
     "output_type": "execute_result"
    }
   ],
   "source": [
    "theos([1.,2.,3.])"
   ]
  },
  {
   "cell_type": "code",
   "execution_count": 158,
   "metadata": {},
   "outputs": [],
   "source": [
    "# other direction"
   ]
  },
  {
   "cell_type": "code",
   "execution_count": 175,
   "metadata": {},
   "outputs": [],
   "source": [
    "alpha = 1.001\n",
    "def F(x):\n",
    "    vs    = [1., 2., 3.]\n",
    "    vals  = np.array([np.power(x[i], 1-1/alpha)*vs[i] for i in range(len(vs))])\n",
    "    return -np.sum(vals)"
   ]
  },
  {
   "cell_type": "code",
   "execution_count": 176,
   "metadata": {
    "scrolled": true
   },
   "outputs": [
    {
     "data": {
      "text/plain": [
       "     fun: -5.993941161449936\n",
       "     jac: array([-0.00598794, -0.00598794, -0.00598794])\n",
       " message: 'Optimization terminated successfully'\n",
       "    nfev: 76\n",
       "     nit: 19\n",
       "    njev: 19\n",
       "  status: 0\n",
       " success: True\n",
       "       x: array([0.16653668, 0.33330401, 0.50015931])"
      ]
     },
     "execution_count": 176,
     "metadata": {},
     "output_type": "execute_result"
    }
   ],
   "source": [
    "start_pos = [0.8, 0.1, 0.1]\n",
    "cons = ({'type': 'eq', 'fun': lambda x:  1 - sum(x)})\n",
    "bnds = tuple((0,1) for x in start_pos)\n",
    "\n",
    "res = minimize(F, start_pos, method='SLSQP', bounds=bnds ,constraints=cons, tol=1e-16)\n",
    "res"
   ]
  },
  {
   "cell_type": "code",
   "execution_count": 177,
   "metadata": {},
   "outputs": [],
   "source": [
    "def theos(vals):\n",
    "    den = np.sum([np.power(vals[i], alpha) for i in range(len(vals))])\n",
    "    return [np.power(vals[i], alpha) / den for i in range(len(vals))]"
   ]
  },
  {
   "cell_type": "code",
   "execution_count": 178,
   "metadata": {},
   "outputs": [
    {
     "data": {
      "text/plain": [
       "[0.16653664532144477, 0.33330423948674176, 0.5001591151918134]"
      ]
     },
     "execution_count": 178,
     "metadata": {},
     "output_type": "execute_result"
    }
   ],
   "source": [
    "theos([1.,2.,3.])"
   ]
  },
  {
   "cell_type": "code",
   "execution_count": 158,
   "metadata": {},
   "outputs": [],
   "source": [
    "# v_i^a"
   ]
  },
  {
   "cell_type": "code",
   "execution_count": 182,
   "metadata": {},
   "outputs": [],
   "source": [
    "alpha = 2\n",
    "def F(x):\n",
    "    vs    = [1., 2., 3.]\n",
    "    vals  = np.array([np.power(vs[i], alpha)*x[i] for i in range(len(vs))])\n",
    "    return -np.sum(vals)"
   ]
  },
  {
   "cell_type": "code",
   "execution_count": 183,
   "metadata": {
    "scrolled": true
   },
   "outputs": [
    {
     "data": {
      "text/plain": [
       "     fun: 1.000000000000015\n",
       "     jac: array([0.99999999, 4.        , 9.        ])\n",
       " message: 'Positive directional derivative for linesearch'\n",
       "    nfev: 64\n",
       "     nit: 10\n",
       "    njev: 6\n",
       "  status: 8\n",
       " success: False\n",
       "       x: array([1.00000000e+00, 3.78882784e-15, 0.00000000e+00])"
      ]
     },
     "execution_count": 183,
     "metadata": {},
     "output_type": "execute_result"
    }
   ],
   "source": [
    "start_pos = [0.8, 0.1, 0.1]\n",
    "cons = ({'type': 'eq', 'fun': lambda x:  1 - sum(x)})\n",
    "bnds = tuple((0,1) for x in start_pos)\n",
    "\n",
    "res = minimize(F, start_pos, method='SLSQP', bounds=bnds ,constraints=cons, tol=1e-16)\n",
    "res"
   ]
  },
  {
   "cell_type": "code",
   "execution_count": 177,
   "metadata": {},
   "outputs": [],
   "source": [
    "def theos(vals):\n",
    "    den = np.sum([np.power(vals[i], alpha) for i in range(len(vals))])\n",
    "    return [np.power(vals[i], alpha) / den for i in range(len(vals))]"
   ]
  },
  {
   "cell_type": "code",
   "execution_count": 178,
   "metadata": {},
   "outputs": [
    {
     "data": {
      "text/plain": [
       "[0.16653664532144477, 0.33330423948674176, 0.5001591151918134]"
      ]
     },
     "execution_count": 178,
     "metadata": {},
     "output_type": "execute_result"
    }
   ],
   "source": [
    "theos([1.,2.,3.])"
   ]
  },
  {
   "cell_type": "code",
   "execution_count": null,
   "metadata": {},
   "outputs": [],
   "source": []
  }
 ],
 "metadata": {
  "kernelspec": {
   "display_name": "Python 3",
   "language": "python",
   "name": "python3"
  },
  "language_info": {
   "codemirror_mode": {
    "name": "ipython",
    "version": 3
   },
   "file_extension": ".py",
   "mimetype": "text/x-python",
   "name": "python",
   "nbconvert_exporter": "python",
   "pygments_lexer": "ipython3",
   "version": "3.8.16"
  }
 },
 "nbformat": 4,
 "nbformat_minor": 4
}
