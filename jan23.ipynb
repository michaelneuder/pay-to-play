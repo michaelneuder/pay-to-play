{
 "cells": [
  {
   "cell_type": "code",
   "execution_count": 2,
   "metadata": {},
   "outputs": [],
   "source": [
    "import matplotlib.pyplot as plt\n",
    "import matplotlib as mpl\n",
    "import matplotlib.patches as mpatches\n",
    "import numpy as np\n",
    "import pandas as pd\n",
    "import cvxpy as cp\n",
    "from scipy.stats import poisson, uniform, expon, pareto\n",
    "from scipy.optimize import minimize, fsolve\n",
    "from tqdm import tqdm\n",
    "from mdptoolbox import mdp, util\n",
    "import itertools\n",
    "from scipy.sparse import csr_matrix, lil_matrix\n",
    "from matplotlib.patches import Patch\n",
    "import math\n",
    "import random\n",
    "import sympy as sp\n",
    "from sympy.printing.latex import print_latex\n",
    "from scipy.optimize import least_squares"
   ]
  },
  {
   "cell_type": "code",
   "execution_count": 22,
   "metadata": {},
   "outputs": [],
   "source": [
    "def getEquilBids(cs, a, guess=None):\n",
    "    n = len(cs)\n",
    "    bs = [sp.Symbol('b{}'.format(i)) for i in range(n)]\n",
    "    \n",
    "    denom = sum([bi**(-a) for bi in bs])\n",
    "    xs    = [bi**(-a)/denom for bi in bs]\n",
    "    us    = [(bs[i] - cs[i])*xs[i] for i in range(n)]\n",
    "    diffs = [sp.diff(us[i], bs[i]) for i in range(n)]\n",
    "    funcs = [sp.lambdify(bs, diffs[i]) for i in range(n)]\n",
    "    \n",
    "    def eqs(bs):\n",
    "        return [f(*bs) for f in funcs]\n",
    "    \n",
    "    initial_guess = cs\n",
    "    if guess != None:\n",
    "        initial_guess = guess\n",
    "    \n",
    "    return fsolve(eqs, initial_guess)\n",
    "\n",
    "def getAllos(bids, a):\n",
    "    denom = sum([b**(-a) for b in bids])\n",
    "    return np.array(bids**(-a)) / denom"
   ]
  },
  {
   "cell_type": "code",
   "execution_count": 341,
   "metadata": {},
   "outputs": [
    {
     "data": {
      "text/plain": [
       "array([ 1. ,  1.1,  1.2,  1.3,  1.4,  1.5,  1.6,  1.7,  1.8,  1.9,  2. ,\n",
       "        2.1,  2.2,  2.3,  2.4,  2.5,  2.6,  2.7,  2.8,  2.9,  3. ,  3.1,\n",
       "        3.2,  3.3,  3.4,  3.5,  3.6,  3.7,  3.8,  3.9,  4. ,  4.1,  4.2,\n",
       "        4.3,  4.4,  4.5,  4.6,  4.7,  4.8,  4.9,  5. ,  5.1,  5.2,  5.3,\n",
       "        5.4,  5.5,  5.6,  5.7,  5.8,  5.9,  6. ,  6.1,  6.2,  6.3,  6.4,\n",
       "        6.5,  6.6,  6.7,  6.8,  6.9,  7. ,  7.1,  7.2,  7.3,  7.4,  7.5,\n",
       "        7.6,  7.7,  7.8,  7.9,  8. ,  8.1,  8.2,  8.3,  8.4,  8.5,  8.6,\n",
       "        8.7,  8.8,  8.9,  9. ,  9.1,  9.2,  9.3,  9.4,  9.5,  9.6,  9.7,\n",
       "        9.8,  9.9, 10. , 10.1, 10.2, 10.3, 10.4, 10.5, 10.6, 10.7, 10.8,\n",
       "       10.9, 11. , 11.1, 11.2, 11.3, 11.4, 11.5, 11.6, 11.7, 11.8, 11.9,\n",
       "       12. , 12.1, 12.2, 12.3, 12.4, 12.5, 12.6, 12.7, 12.8, 12.9, 13. ,\n",
       "       13.1, 13.2, 13.3, 13.4, 13.5, 13.6, 13.7, 13.8, 13.9, 14. , 14.1,\n",
       "       14.2, 14.3, 14.4, 14.5, 14.6, 14.7, 14.8, 14.9, 15. , 15.1, 15.2,\n",
       "       15.3, 15.4, 15.5, 15.6, 15.7, 15.8, 15.9, 16. , 16.1, 16.2, 16.3,\n",
       "       16.4, 16.5, 16.6, 16.7, 16.8, 16.9, 17. , 17.1, 17.2, 17.3, 17.4,\n",
       "       17.5, 17.6, 17.7, 17.8, 17.9, 18. , 18.1, 18.2, 18.3, 18.4, 18.5,\n",
       "       18.6, 18.7, 18.8, 18.9, 19. , 19.1, 19.2, 19.3, 19.4, 19.5, 19.6,\n",
       "       19.7, 19.8, 19.9, 20. ])"
      ]
     },
     "execution_count": 341,
     "metadata": {},
     "output_type": "execute_result"
    }
   ],
   "source": [
    "alpha = 3.\n",
    "c1s   = np.arange(1, 20.01, 0.1)\n",
    "c1s"
   ]
  },
  {
   "cell_type": "code",
   "execution_count": 342,
   "metadata": {},
   "outputs": [
    {
     "data": {
      "text/plain": [
       "((191, 2), (191,))"
      ]
     },
     "execution_count": 342,
     "metadata": {},
     "output_type": "execute_result"
    }
   ],
   "source": [
    "guesses = c1s\n",
    "\n",
    "xTildes  = []\n",
    "welfares = [] \n",
    "for i, c1 in enumerate(c1s):\n",
    "    costs   = [1, c1]\n",
    "    bids    = getEquilBids(costs, a=alpha, guess=[guesses[i],guesses[i]])\n",
    "    xTilde  = getAllos(bids, a=alpha)\n",
    "    xTildes.append(xTilde)\n",
    "    welfares.append(np.dot(costs, xTilde))\n",
    "xTildes = np.asarray(xTildes)\n",
    "welfares = np.asarray(welfares)\n",
    "xTildes.shape, welfares.shape"
   ]
  },
  {
   "cell_type": "code",
   "execution_count": 343,
   "metadata": {},
   "outputs": [
    {
     "data": {
      "image/png": "[encoded data removed]",
      "text/plain": [
       "<Figure size 864x360 with 2 Axes>"
      ]
     },
     "metadata": {
      "needs_background": "light"
     },
     "output_type": "display_data"
    }
   ],
   "source": [
    "f, axarr = plt.subplots(ncols=2, figsize=(12,5))\n",
    "\n",
    "axarr[0].plot(c1s, xTildes[:,0], linewidth=3, alpha=0.6, label=r'$\\tilde{x}_1$', color='mediumorchid',\n",
    "              linestyle='-.')\n",
    "axarr[0].plot(c1s, xTildes[:,1], linewidth=3, alpha=0.6, label=r'$\\tilde{x}_2$', color='goldenrod',\n",
    "              linestyle='-.')\n",
    "\n",
    "axarr[1].plot(c1s, welfares, linewidth=3, alpha=0.6)\n",
    "\n",
    "for ax in axarr:\n",
    "    ax.grid(alpha=0.3)\n",
    "    ax.set_xlabel(r'$c_2$', size=15)\n",
    "axarr[0].legend(prop={'size': 12})\n",
    "axarr[0].set_title(r'allocations $(c_1=1, \\alpha=3)$', size=17)\n",
    "axarr[1].set_title(r'PoA $(c_1=1, \\alpha=3)$', size=17)\n",
    "\n",
    "plt.savefig('out.png', dpi=150, bbox_inches='tight', facecolor='white')\n",
    "plt.show()"
   ]
  },
  {
   "cell_type": "code",
   "execution_count": 25,
   "metadata": {},
   "outputs": [],
   "source": [
    "costs = [1, 5]"
   ]
  },
  {
   "cell_type": "code",
   "execution_count": 26,
   "metadata": {},
   "outputs": [
    {
     "data": {
      "text/plain": [
       "array([ 9.03191683, 10.71104368])"
      ]
     },
     "execution_count": 26,
     "metadata": {},
     "output_type": "execute_result"
    }
   ],
   "source": [
    "bids = getEquilBids(costs, a=alpha, guess=costs)\n",
    "bids"
   ]
  },
  {
   "cell_type": "code",
   "execution_count": 27,
   "metadata": {},
   "outputs": [
    {
     "data": {
      "text/plain": [
       "array([0.62516557, 0.37483443])"
      ]
     },
     "execution_count": 27,
     "metadata": {},
     "output_type": "execute_result"
    }
   ],
   "source": [
    "allos = getAllos(bids, a=alpha)\n",
    "allos"
   ]
  },
  {
   "cell_type": "code",
   "execution_count": 31,
   "metadata": {},
   "outputs": [
    {
     "data": {
      "text/plain": [
       "2.4993377083378556"
      ]
     },
     "execution_count": 31,
     "metadata": {},
     "output_type": "execute_result"
    }
   ],
   "source": [
    "sc = np.dot(costs, allos)\n",
    "sc"
   ]
  },
  {
   "cell_type": "markdown",
   "metadata": {},
   "source": [
    "# sympy for diff for PoA"
   ]
  },
  {
   "cell_type": "code",
   "execution_count": 3,
   "metadata": {},
   "outputs": [],
   "source": [
    "b0 = sp.Symbol('b0', positive=True)\n",
    "R = sp.Symbol('R', positive=True)\n",
    "alpha = sp.Symbol('alpha', positive=True)\n",
    "N = sp.Symbol('N', positive=True)"
   ]
  },
  {
   "cell_type": "code",
   "execution_count": 11,
   "metadata": {},
   "outputs": [],
   "source": [
    "alpha=2\n",
    "N = 4"
   ]
  },
  {
   "cell_type": "code",
   "execution_count": 12,
   "metadata": {},
   "outputs": [
    {
     "data": {
      "text/latex": [
       "$\\displaystyle \\frac{b_{0} - 1}{b_{0}^{2} \\left(\\frac{1}{b_{0}^{2}} + \\frac{4}{R^{2}}\\right)}$"
      ],
      "text/plain": [
       "(b0 - 1)/(b0**2*(b0**(-2) + 4/R**2))"
      ]
     },
     "execution_count": 12,
     "metadata": {},
     "output_type": "execute_result"
    }
   ],
   "source": [
    "u0 = ( (b0 - 1)*b0**(-alpha) ) / ( b0**(-alpha) + N*R**(-alpha) )\n",
    "u0"
   ]
  },
  {
   "cell_type": "code",
   "execution_count": 13,
   "metadata": {},
   "outputs": [
    {
     "data": {
      "text/latex": [
       "$\\displaystyle \\frac{1}{b_{0}^{2} \\left(\\frac{1}{b_{0}^{2}} + \\frac{4}{R^{2}}\\right)} - \\frac{2 \\left(b_{0} - 1\\right)}{b_{0}^{3} \\left(\\frac{1}{b_{0}^{2}} + \\frac{4}{R^{2}}\\right)} + \\frac{2 \\left(b_{0} - 1\\right)}{b_{0}^{5} \\left(\\frac{1}{b_{0}^{2}} + \\frac{4}{R^{2}}\\right)^{2}}$"
      ],
      "text/plain": [
       "1/(b0**2*(b0**(-2) + 4/R**2)) - 2*(b0 - 1)/(b0**3*(b0**(-2) + 4/R**2)) + 2*(b0 - 1)/(b0**5*(b0**(-2) + 4/R**2)**2)"
      ]
     },
     "execution_count": 13,
     "metadata": {},
     "output_type": "execute_result"
    }
   ],
   "source": [
    "du0_db0 = sp.diff(u0, b0)\n",
    "du0_db0"
   ]
  },
  {
   "cell_type": "code",
   "execution_count": 14,
   "metadata": {},
   "outputs": [
    {
     "data": {
      "text/latex": [
       "$\\displaystyle \\frac{R^{2} \\left(R^{2} - 4 b_{0}^{2} + 8 b_{0}\\right)}{R^{4} + 8 R^{2} b_{0}^{2} + 16 b_{0}^{4}} = 0$"
      ],
      "text/plain": [
       "Eq(R**2*(R**2 - 4*b0**2 + 8*b0)/(R**4 + 8*R**2*b0**2 + 16*b0**4), 0)"
      ]
     },
     "execution_count": 14,
     "metadata": {},
     "output_type": "execute_result"
    }
   ],
   "source": [
    "foc = sp.Eq(sp.simplify(du0_db0),0)\n",
    "foc"
   ]
  },
  {
   "cell_type": "code",
   "execution_count": 15,
   "metadata": {},
   "outputs": [],
   "source": [
    "sols = sp.solve(foc, b0)"
   ]
  },
  {
   "cell_type": "code",
   "execution_count": 19,
   "metadata": {},
   "outputs": [
    {
     "ename": "IndexError",
     "evalue": "list index out of range",
     "output_type": "error",
     "traceback": [
      "\u001b[0;31m---------------------------------------------------------------------------\u001b[0m",
      "\u001b[0;31mIndexError\u001b[0m                                Traceback (most recent call last)",
      "\u001b[0;32m<ipython-input-19-f88ec02b5c01>\u001b[0m in \u001b[0;36m<module>\u001b[0;34m\u001b[0m\n\u001b[0;32m----> 1\u001b[0;31m \u001b[0msols\u001b[0m\u001b[0;34m[\u001b[0m\u001b[0;36m2\u001b[0m\u001b[0;34m]\u001b[0m\u001b[0;34m\u001b[0m\u001b[0;34m\u001b[0m\u001b[0m\n\u001b[0m",
      "\u001b[0;31mIndexError\u001b[0m: list index out of range"
     ]
    }
   ],
   "source": [
    "sols[2]"
   ]
  },
  {
   "cell_type": "code",
   "execution_count": 533,
   "metadata": {},
   "outputs": [
    {
     "data": {
      "text/latex": [
       "$\\displaystyle 8.71256618731619$"
      ],
      "text/plain": [
       "8.71256618731619"
      ]
     },
     "execution_count": 533,
     "metadata": {},
     "output_type": "execute_result"
    }
   ],
   "source": [
    "sols[3].evalf(subs={R:11})"
   ]
  },
  {
   "cell_type": "code",
   "execution_count": 210,
   "metadata": {},
   "outputs": [
    {
     "data": {
      "text/latex": [
       "$\\displaystyle - \\frac{\\alpha b_{0}^{- \\alpha} \\left(b_{0} - 1\\right)}{b_{0} \\left(N R^{- \\alpha} + b_{0}^{- \\alpha}\\right)} + \\frac{\\alpha b_{0}^{- 2 \\alpha} \\left(b_{0} - 1\\right)}{b_{0} \\left(N R^{- \\alpha} + b_{0}^{- \\alpha}\\right)^{2}} + \\frac{b_{0}^{- \\alpha}}{N R^{- \\alpha} + b_{0}^{- \\alpha}}$"
      ],
      "text/plain": [
       "-alpha*(b0 - 1)/(b0*b0**alpha*(N/R**alpha + b0**(-alpha))) + alpha*(b0 - 1)/(b0*b0**(2*alpha)*(N/R**alpha + b0**(-alpha))**2) + 1/(b0**alpha*(N/R**alpha + b0**(-alpha)))"
      ]
     },
     "execution_count": 210,
     "metadata": {},
     "output_type": "execute_result"
    }
   ],
   "source": [
    "du0_db0"
   ]
  },
  {
   "cell_type": "code",
   "execution_count": 211,
   "metadata": {},
   "outputs": [
    {
     "data": {
      "text/latex": [
       "$\\displaystyle \\frac{4.0 \\left(b_{0} - 1.0\\right)}{b_{0}^{9.0} \\left(b_{0}^{-4.0} + 0.0625\\right)^{2}} - \\frac{4.0 \\left(b_{0} - 1.0\\right)}{b_{0}^{5.0} \\left(b_{0}^{-4.0} + 0.0625\\right)} + \\frac{1}{b_{0}^{4.0} \\left(b_{0}^{-4.0} + 0.0625\\right)}$"
      ],
      "text/plain": [
       "4.0*(b0 - 1.0)/(b0**9.0*(b0**(-4.0) + 0.0625)**2) - 4.0*(b0 - 1.0)/(b0**5.0*(b0**(-4.0) + 0.0625)) + 1/(b0**4.0*(b0**(-4.0) + 0.0625))"
      ]
     },
     "execution_count": 211,
     "metadata": {},
     "output_type": "execute_result"
    }
   ],
   "source": [
    "eq_numeric = du0_db0.evalf(subs={alpha:4., N:1., R:2.})\n",
    "eq_numeric"
   ]
  },
  {
   "cell_type": "code",
   "execution_count": 212,
   "metadata": {},
   "outputs": [
    {
     "data": {
      "text/latex": [
       "$\\displaystyle - \\frac{\\alpha b_{0}^{- \\alpha} \\left(b_{0} - 1\\right)}{b_{0} \\left(N R^{- \\alpha} + b_{0}^{- \\alpha}\\right)} + \\frac{\\alpha b_{0}^{- 2 \\alpha} \\left(b_{0} - 1\\right)}{b_{0} \\left(N R^{- \\alpha} + b_{0}^{- \\alpha}\\right)^{2}} + \\frac{b_{0}^{- \\alpha}}{N R^{- \\alpha} + b_{0}^{- \\alpha}}$"
      ],
      "text/plain": [
       "-alpha*(b0 - 1)/(b0*b0**alpha*(N/R**alpha + b0**(-alpha))) + alpha*(b0 - 1)/(b0*b0**(2*alpha)*(N/R**alpha + b0**(-alpha))**2) + 1/(b0**alpha*(N/R**alpha + b0**(-alpha)))"
      ]
     },
     "execution_count": 212,
     "metadata": {},
     "output_type": "execute_result"
    }
   ],
   "source": [
    "du0_db0"
   ]
  },
  {
   "cell_type": "code",
   "execution_count": 213,
   "metadata": {},
   "outputs": [
    {
     "data": {
      "text/latex": [
       "$\\displaystyle 2.0$"
      ],
      "text/plain": [
       "2.00000000000000"
      ]
     },
     "execution_count": 213,
     "metadata": {},
     "output_type": "execute_result"
    }
   ],
   "source": [
    "b0_sol = sp.nsolve(sp.Eq(eq_numeric, 0), b0, guess)\n",
    "b0_sol"
   ]
  },
  {
   "cell_type": "markdown",
   "metadata": {},
   "source": [
    "# numerical for diff for PoA"
   ]
  },
  {
   "cell_type": "code",
   "execution_count": 93,
   "metadata": {},
   "outputs": [],
   "source": [
    "from scipy.optimize import brentq, newton\n",
    "\n",
    "def u0_derivative(b0, N_, R_, alpha_):\n",
    "    guess = 1\n",
    "    eq_numeric = du0_db0.evalf(subs={N:1., R:2., alpha_})\n",
    "    b0_sol = sp.nsolve(sp.Eq(eq_numeric, 0), b0, guess)\n",
    "    return derivative_value"
   ]
  },
  {
   "cell_type": "code",
   "execution_count": 214,
   "metadata": {},
   "outputs": [],
   "source": [
    "def getAllo(b0, N_, R_, alpha_):\n",
    "    return b0**(-alpha_) / (b0**(-alpha_) + N_*R_**(-alpha_))"
   ]
  },
  {
   "cell_type": "code",
   "execution_count": 266,
   "metadata": {},
   "outputs": [
    {
     "data": {
      "text/latex": [
       "$\\displaystyle 6.44154386309126$"
      ],
      "text/plain": [
       "6.44154386309126"
      ]
     },
     "execution_count": 266,
     "metadata": {},
     "output_type": "execute_result"
    }
   ],
   "source": [
    "N_ = 1\n",
    "R_ = 8\n",
    "alpha_ = 4\n",
    "guess = 4\n",
    "eq_numeric = du0_db0.evalf(subs={N:N_, R:R_, alpha:alpha_})\n",
    "b0_star = sp.nsolve(sp.Eq(eq_numeric, 0), b0, guess)\n",
    "b0_star"
   ]
  },
  {
   "cell_type": "code",
   "execution_count": 231,
   "metadata": {},
   "outputs": [
    {
     "data": {
      "text/latex": [
       "$\\displaystyle \\frac{1}{b_{0}^{6} \\cdot \\left(0.015625 + \\frac{1}{b_{0}^{6}}\\right)} - \\frac{6.0 \\left(b_{0} - 1.0\\right)}{b_{0}^{7} \\cdot \\left(0.015625 + \\frac{1}{b_{0}^{6}}\\right)} + \\frac{6.0 \\left(b_{0} - 1.0\\right)}{b_{0}^{13} \\left(0.015625 + \\frac{1}{b_{0}^{6}}\\right)^{2}}$"
      ],
      "text/plain": [
       "1/(b0**6*(0.015625 + b0**(-6))) - 6.0*(b0 - 1.0)/(b0**7*(0.015625 + b0**(-6))) + 6.0*(b0 - 1.0)/(b0**13*(0.015625 + b0**(-6))**2)"
      ]
     },
     "execution_count": 231,
     "metadata": {},
     "output_type": "execute_result"
    }
   ],
   "source": [
    "eq_numeric"
   ]
  },
  {
   "cell_type": "code",
   "execution_count": 216,
   "metadata": {},
   "outputs": [
    {
     "data": {
      "text/plain": [
       "(0.500000000000000, 0.500000000000000)"
      ]
     },
     "execution_count": 216,
     "metadata": {},
     "output_type": "execute_result"
    }
   ],
   "source": [
    "x0 = getAllo(b0_star, N_, R_, alpha_)\n",
    "xm1 = 1-x0\n",
    "x0, xm1"
   ]
  },
  {
   "cell_type": "code",
   "execution_count": 217,
   "metadata": {},
   "outputs": [
    {
     "data": {
      "text/latex": [
       "$\\displaystyle 1.5$"
      ],
      "text/plain": [
       "1.50000000000000"
      ]
     },
     "execution_count": 217,
     "metadata": {},
     "output_type": "execute_result"
    }
   ],
   "source": [
    "PoA = x0 + N_*R_*xm1\n",
    "PoA"
   ]
  },
  {
   "cell_type": "code",
   "execution_count": 241,
   "metadata": {},
   "outputs": [],
   "source": [
    "def getPoA(N_, R_, alpha_, guess):\n",
    "    eq_numeric = du0_db0.evalf(subs={N:N_, R:R_, alpha:alpha_})\n",
    "    b0_star = sp.nsolve(sp.Eq(eq_numeric, 0), b0, guess)\n",
    "    x0 = getAllo(b0_star, N_, R_, alpha_)\n",
    "    xm1 = 1-x0\n",
    "    return x0 + N_*R_*xm1"
   ]
  },
  {
   "cell_type": "code",
   "execution_count": 249,
   "metadata": {},
   "outputs": [
    {
     "data": {
      "text/latex": [
       "$\\displaystyle 17.1162088903224$"
      ],
      "text/plain": [
       "17.1162088903224"
      ]
     },
     "execution_count": 249,
     "metadata": {},
     "output_type": "execute_result"
    }
   ],
   "source": [
    "getPoA(10., 2., 3., guess=1.5)"
   ]
  },
  {
   "cell_type": "code",
   "execution_count": 268,
   "metadata": {},
   "outputs": [
    {
     "data": {
      "text/plain": [
       "(3, 19, 3)"
      ]
     },
     "execution_count": 268,
     "metadata": {},
     "output_type": "execute_result"
    }
   ],
   "source": [
    "rs = [2, 4, 8]\n",
    "ns = np.arange(1, 20)\n",
    "alphas = [3, 4, 5]\n",
    "guesses = [1.5, 2, 4]\n",
    "\n",
    "poas = []\n",
    "for i, R_ in enumerate(rs):\n",
    "    temp = []\n",
    "    for N_ in ns:\n",
    "        temp2 = []\n",
    "        for alpha_ in alphas:\n",
    "            # print(N_, R_, alpha_)\n",
    "            temp2.append(getPoA(N_, R_, alpha_, guesses[i]))\n",
    "        temp.append(temp2)\n",
    "    poas.append(temp)\n",
    "poas = np.array(poas)\n",
    "poas.shape"
   ]
  },
  {
   "cell_type": "code",
   "execution_count": 286,
   "metadata": {},
   "outputs": [],
   "source": [
    "def getHonestAllos(N_, R_, alpha_):\n",
    "    costs = [R_]*N_\n",
    "    costs.append(1.)\n",
    "    costs = np.array(costs)\n",
    "    return costs, costs**(-alpha_) / sum(costs**(-alpha_))"
   ]
  },
  {
   "cell_type": "code",
   "execution_count": 285,
   "metadata": {},
   "outputs": [
    {
     "data": {
      "text/plain": [
       "array([0.00769231, 0.00769231, 0.00769231, 0.00769231, 0.00769231,\n",
       "       0.96153846])"
      ]
     },
     "execution_count": 285,
     "metadata": {},
     "output_type": "execute_result"
    }
   ],
   "source": [
    "getHonestAllos(5,5,3)"
   ]
  },
  {
   "cell_type": "code",
   "execution_count": 288,
   "metadata": {},
   "outputs": [
    {
     "data": {
      "text/plain": [
       "(3, 19, 3)"
      ]
     },
     "execution_count": 288,
     "metadata": {},
     "output_type": "execute_result"
    }
   ],
   "source": [
    "welfares = [] \n",
    "for i, R_ in enumerate(rs):\n",
    "    temp = []\n",
    "    for N_ in ns:\n",
    "        temp2 = []\n",
    "        for alpha_ in alphas:\n",
    "            costs, allos = getHonestAllos(N_, R_, alpha_)\n",
    "            social_cost = np.dot(costs, allos)\n",
    "            temp2.append(social_cost)\n",
    "        temp.append(temp2)\n",
    "    welfares.append(temp)\n",
    "welfares = np.array(welfares)\n",
    "welfares.shape"
   ]
  },
  {
   "cell_type": "code",
   "execution_count": 293,
   "metadata": {},
   "outputs": [
    {
     "data": {
      "text/plain": [
       "(array([5., 5., 5., 5., 5., 1.]),\n",
       " array([0.00769231, 0.00769231, 0.00769231, 0.00769231, 0.00769231,\n",
       "        0.96153846]),\n",
       " 1.1538461538461537)"
      ]
     },
     "execution_count": 293,
     "metadata": {},
     "output_type": "execute_result"
    }
   ],
   "source": [
    "costs, allos = getHonestAllos(5, 5, 3)\n",
    "costs, allos, np.dot(costs, allos)"
   ]
  },
  {
   "cell_type": "code",
   "execution_count": 339,
   "metadata": {},
   "outputs": [
    {
     "data": {
      "image/png": "[encoded data removed]",
      "text/plain": [
       "<Figure size 1008x288 with 3 Axes>"
      ]
     },
     "metadata": {
      "needs_background": "light"
     },
     "output_type": "display_data"
    }
   ],
   "source": [
    "f, axarr = plt.subplots(ncols=3, figsize=(14,4))\n",
    "\n",
    "colors = ['darkorange', 'seagreen', 'darkslateblue']\n",
    "for i in range(3):\n",
    "    axarr[i].plot(ns, 1+ns*rs[i], color='black')\n",
    "    for j in range(3):\n",
    "        axarr[i].plot(ns, poas[i,:,j], label=r'PoA: $\\alpha=${}'.format(alphas[j]), color=colors[j])\n",
    "        axarr[i].plot(ns, ns*(rs[i]**((alphas[j]+1)/alphas[j])), color=colors[j], linestyle='--')\n",
    "#         axarr[i].plot(ns, welfares[i,:,j], label=r'Welfare loss: $\\alpha=${}'.format(alphas[j]), \n",
    "#                       color=colors[j], linestyle='--')\n",
    "    \n",
    "for i, ax in enumerate(axarr):\n",
    "    ax.legend()\n",
    "    ax.grid(alpha=0.3)\n",
    "    ax.set_xticks(np.arange(0,21,5))\n",
    "    ax.set_xlabel(r'$N$', size=14)\n",
    "    ax.set_title(r'$R={}$'.format(rs[i], size=14))\n",
    "\n",
    "# plt.savefig('out.png', dpi=400, bbox_inches='tight', facecolor='white')\n",
    "plt.show()"
   ]
  },
  {
   "cell_type": "markdown",
   "metadata": {},
   "source": [
    "# equilibrium under R reserve bidding."
   ]
  },
  {
   "cell_type": "code",
   "execution_count": 437,
   "metadata": {},
   "outputs": [],
   "source": [
    "def getBoundedEquilBids(cs, a, R, guess=None):\n",
    "    n = len(cs)\n",
    "    bs_syms = [sp.Symbol(f'b{i}', positive=True) for i in range(n)]\n",
    "    denom_sym = sum(b_sy**(-a) for b_sy in bs_syms)\n",
    "    xs_sym = [b_sy**(-a)/denom_sym for b_sy in bs_syms]\n",
    "    us_sym = [(bs_syms[i] - cs[i])* xs_sym[i] for i in range(n)]\n",
    "    # partial derivatives\n",
    "    diffs_sym = [sp.diff(us_sym[i], bs_syms[i]) for i in range(n)]\n",
    "    \n",
    "    # lambdify => numeric residual function\n",
    "    diffs_funcs = [sp.lambdify(bs_syms, diffs_sym[i], 'numpy') for i in range(n)]\n",
    "    \n",
    "    def residual(b):  # R^n -> R^n\n",
    "        return [diffs_funcs[i](*b) for i in range(n)]\n",
    "    \n",
    "    # bounds: we want 1 <= b_i <= R, or 0 < b_i <= R, up to you\n",
    "    lb = np.ones(n)*1.0   # or zeros\n",
    "    ub = np.ones(n)*R\n",
    "    \n",
    "    if guess is None:\n",
    "        guess = np.ones(n)*(R+1)/2  # or something\n",
    "    \n",
    "    # call least_squares with method that supports bounds\n",
    "    sol = least_squares(\n",
    "        fun=residual, \n",
    "        x0=guess,\n",
    "        bounds=(lb, ub),\n",
    "        method='trf'  # or 'dogbox'\n",
    "    )\n",
    "    return sol.x"
   ]
  },
  {
   "cell_type": "code",
   "execution_count": 438,
   "metadata": {},
   "outputs": [],
   "source": [
    "def getEquilBids(cs, a, guess=None):\n",
    "    n = len(cs)\n",
    "    bs = [sp.Symbol('b{}'.format(i)) for i in range(n)]\n",
    "    \n",
    "    denom = sum([bi**(-a) for bi in bs])\n",
    "    xs    = [bi**(-a)/denom for bi in bs]\n",
    "    us    = [(bs[i] - cs[i])*xs[i] for i in range(n)]\n",
    "    diffs = [sp.diff(us[i], bs[i]) for i in range(n)]\n",
    "    funcs = [sp.lambdify(bs, diffs[i]) for i in range(n)]\n",
    "    \n",
    "    def eqs(bs):\n",
    "        return [f(*bs) for f in funcs]\n",
    "    \n",
    "    initial_guess = cs\n",
    "    if guess != None:\n",
    "        initial_guess = guess\n",
    "    \n",
    "    return fsolve(eqs, initial_guess)\n",
    "\n",
    "def getAllos(bids, a):\n",
    "    denom = sum([b**(-a) for b in bids])\n",
    "    return np.array(bids**(-a)) / denom"
   ]
  },
  {
   "cell_type": "code",
   "execution_count": 439,
   "metadata": {},
   "outputs": [],
   "source": [
    "alpha = 3.\n",
    "costs = [1, 2]"
   ]
  },
  {
   "cell_type": "code",
   "execution_count": 440,
   "metadata": {},
   "outputs": [
    {
     "data": {
      "text/plain": [
       "(array([4.40546645, 4.83143957]), array([2.74046997, 3.        ]))"
      ]
     },
     "execution_count": 440,
     "metadata": {},
     "output_type": "execute_result"
    }
   ],
   "source": [
    "unbounded, bounded = getEquilBids(costs, alpha), getBoundedEquilBids(costs, alpha, R=3)\n",
    "unbounded, bounded"
   ]
  },
  {
   "cell_type": "code",
   "execution_count": 441,
   "metadata": {},
   "outputs": [
    {
     "data": {
      "text/plain": [
       "(array([0.56878482, 0.43121518]), array([0.5674485, 0.4325515]))"
      ]
     },
     "execution_count": 441,
     "metadata": {},
     "output_type": "execute_result"
    }
   ],
   "source": [
    "getAllos(unbounded, alpha), getAllos(bounded, alpha)"
   ]
  },
  {
   "cell_type": "code",
   "execution_count": 442,
   "metadata": {},
   "outputs": [
    {
     "data": {
      "text/plain": [
       "array([ 1. ,  1.1,  1.2,  1.3,  1.4,  1.5,  1.6,  1.7,  1.8,  1.9,  2. ,\n",
       "        2.1,  2.2,  2.3,  2.4,  2.5,  2.6,  2.7,  2.8,  2.9,  3. ,  3.1,\n",
       "        3.2,  3.3,  3.4,  3.5,  3.6,  3.7,  3.8,  3.9,  4. ,  4.1,  4.2,\n",
       "        4.3,  4.4,  4.5,  4.6,  4.7,  4.8,  4.9,  5. ,  5.1,  5.2,  5.3,\n",
       "        5.4,  5.5,  5.6,  5.7,  5.8,  5.9,  6. ,  6.1,  6.2,  6.3,  6.4,\n",
       "        6.5,  6.6,  6.7,  6.8,  6.9,  7. ,  7.1,  7.2,  7.3,  7.4,  7.5,\n",
       "        7.6,  7.7,  7.8,  7.9,  8. ,  8.1,  8.2,  8.3,  8.4,  8.5,  8.6,\n",
       "        8.7,  8.8,  8.9,  9. ,  9.1,  9.2,  9.3,  9.4,  9.5,  9.6,  9.7,\n",
       "        9.8,  9.9, 10. , 10.1, 10.2, 10.3, 10.4, 10.5, 10.6, 10.7, 10.8,\n",
       "       10.9, 11. , 11.1, 11.2, 11.3, 11.4, 11.5, 11.6, 11.7, 11.8, 11.9,\n",
       "       12. , 12.1, 12.2, 12.3, 12.4, 12.5, 12.6, 12.7, 12.8, 12.9, 13. ,\n",
       "       13.1, 13.2, 13.3, 13.4, 13.5, 13.6, 13.7, 13.8, 13.9, 14. , 14.1,\n",
       "       14.2, 14.3, 14.4, 14.5, 14.6, 14.7, 14.8, 14.9, 15. , 15.1, 15.2,\n",
       "       15.3, 15.4, 15.5, 15.6, 15.7, 15.8, 15.9, 16. , 16.1, 16.2, 16.3,\n",
       "       16.4, 16.5, 16.6, 16.7, 16.8, 16.9, 17. , 17.1, 17.2, 17.3, 17.4,\n",
       "       17.5, 17.6, 17.7, 17.8, 17.9, 18. , 18.1, 18.2, 18.3, 18.4, 18.5,\n",
       "       18.6, 18.7, 18.8, 18.9, 19. , 19.1, 19.2, 19.3, 19.4, 19.5, 19.6,\n",
       "       19.7, 19.8, 19.9, 20. , 20.1, 20.2, 20.3, 20.4, 20.5, 20.6, 20.7,\n",
       "       20.8, 20.9, 21. , 21.1, 21.2, 21.3, 21.4, 21.5, 21.6, 21.7, 21.8,\n",
       "       21.9, 22. , 22.1, 22.2, 22.3, 22.4, 22.5, 22.6, 22.7, 22.8, 22.9,\n",
       "       23. , 23.1, 23.2, 23.3, 23.4, 23.5, 23.6, 23.7, 23.8, 23.9, 24. ,\n",
       "       24.1, 24.2, 24.3, 24.4, 24.5, 24.6, 24.7, 24.8, 24.9, 25. , 25.1,\n",
       "       25.2, 25.3, 25.4, 25.5, 25.6, 25.7, 25.8, 25.9, 26. , 26.1, 26.2,\n",
       "       26.3, 26.4, 26.5, 26.6, 26.7, 26.8, 26.9, 27. , 27.1, 27.2, 27.3,\n",
       "       27.4, 27.5, 27.6, 27.7, 27.8, 27.9, 28. , 28.1, 28.2, 28.3, 28.4,\n",
       "       28.5, 28.6, 28.7, 28.8, 28.9, 29. , 29.1, 29.2, 29.3, 29.4, 29.5,\n",
       "       29.6, 29.7, 29.8, 29.9, 30. , 30.1, 30.2, 30.3, 30.4, 30.5, 30.6,\n",
       "       30.7, 30.8, 30.9, 31. , 31.1, 31.2, 31.3, 31.4, 31.5, 31.6, 31.7,\n",
       "       31.8, 31.9, 32. , 32.1, 32.2, 32.3, 32.4, 32.5, 32.6, 32.7, 32.8,\n",
       "       32.9, 33. , 33.1, 33.2, 33.3, 33.4, 33.5, 33.6, 33.7, 33.8, 33.9,\n",
       "       34. , 34.1, 34.2, 34.3, 34.4, 34.5, 34.6, 34.7, 34.8, 34.9, 35. ,\n",
       "       35.1, 35.2, 35.3, 35.4, 35.5, 35.6, 35.7, 35.8, 35.9, 36. , 36.1,\n",
       "       36.2, 36.3, 36.4, 36.5, 36.6, 36.7, 36.8, 36.9, 37. , 37.1, 37.2,\n",
       "       37.3, 37.4, 37.5, 37.6, 37.7, 37.8, 37.9, 38. , 38.1, 38.2, 38.3,\n",
       "       38.4, 38.5, 38.6, 38.7, 38.8, 38.9, 39. , 39.1, 39.2, 39.3, 39.4,\n",
       "       39.5, 39.6, 39.7, 39.8, 39.9, 40. , 40.1, 40.2, 40.3, 40.4, 40.5,\n",
       "       40.6, 40.7, 40.8, 40.9, 41. , 41.1, 41.2, 41.3, 41.4, 41.5, 41.6,\n",
       "       41.7, 41.8, 41.9, 42. , 42.1, 42.2, 42.3, 42.4, 42.5, 42.6, 42.7,\n",
       "       42.8, 42.9, 43. , 43.1, 43.2, 43.3, 43.4, 43.5, 43.6, 43.7, 43.8,\n",
       "       43.9, 44. , 44.1, 44.2, 44.3, 44.4, 44.5, 44.6, 44.7, 44.8, 44.9,\n",
       "       45. , 45.1, 45.2, 45.3, 45.4, 45.5, 45.6, 45.7, 45.8, 45.9, 46. ,\n",
       "       46.1, 46.2, 46.3, 46.4, 46.5, 46.6, 46.7, 46.8, 46.9, 47. , 47.1,\n",
       "       47.2, 47.3, 47.4, 47.5, 47.6, 47.7, 47.8, 47.9, 48. , 48.1, 48.2,\n",
       "       48.3, 48.4, 48.5, 48.6, 48.7, 48.8, 48.9, 49. , 49.1, 49.2, 49.3,\n",
       "       49.4, 49.5, 49.6, 49.7, 49.8, 49.9, 50. ])"
      ]
     },
     "execution_count": 442,
     "metadata": {},
     "output_type": "execute_result"
    }
   ],
   "source": [
    "alpha = 3.\n",
    "c1s   = np.arange(1, 50.01, 0.1)\n",
    "c1s"
   ]
  },
  {
   "cell_type": "code",
   "execution_count": 443,
   "metadata": {},
   "outputs": [
    {
     "data": {
      "text/plain": [
       "((491, 2), (191, 2), (191,))"
      ]
     },
     "execution_count": 443,
     "metadata": {},
     "output_type": "execute_result"
    }
   ],
   "source": [
    "guesses = c1s\n",
    "\n",
    "ubb         = []\n",
    "xTildes_ub  = []\n",
    "welfares_ub = []  \n",
    "for i, c1 in enumerate(c1s):\n",
    "    costs  = [1, c1]\n",
    "    bids   = getEquilBids(costs, a=alpha, guess=[guesses[i],guesses[i]])\n",
    "    xTilde = getAllos(bids, a=alpha)\n",
    "    ubb.append(bids)\n",
    "    xTildes_ub.append(xTilde)\n",
    "    welfares_ub.append(np.dot(costs, xTilde))\n",
    "ubb         = np.asarray(ubb)\n",
    "xTildes_ub  = np.asarray(xTildes_ub)\n",
    "welfares_ub = np.asarray(welfares_ub)\n",
    "ubb.shape, xTildes.shape, welfares.shape"
   ]
  },
  {
   "cell_type": "code",
   "execution_count": 444,
   "metadata": {},
   "outputs": [
    {
     "data": {
      "text/plain": [
       "((491, 2), (491, 2), (491,))"
      ]
     },
     "execution_count": 444,
     "metadata": {},
     "output_type": "execute_result"
    }
   ],
   "source": [
    "bb          = []\n",
    "xTildes_bb  = []\n",
    "welfares_bb = []\n",
    "for i, c1 in enumerate(c1s):\n",
    "    costs  = [1, c1]\n",
    "    bids   = getBoundedEquilBids(costs, a=alpha, R=c1+0.001, guess=[guesses[i],guesses[i]])\n",
    "    xTilde = getAllos(bids, a=alpha)\n",
    "    bb.append(bids)\n",
    "    xTildes_bb.append(xTilde)\n",
    "    welfares_bb.append(np.dot(costs, xTilde))\n",
    "bb          = np.asarray(bb)\n",
    "xTildes_bb  = np.asarray(xTildes_bb)\n",
    "welfares_bb = np.asarray(welfares_bb)\n",
    "bb.shape, xTildes_bb.shape, welfares_bb.shape"
   ]
  },
  {
   "cell_type": "code",
   "execution_count": 445,
   "metadata": {},
   "outputs": [
    {
     "data": {
      "image/png": "[encoded data removed]",
      "text/plain": [
       "<Figure size 864x360 with 2 Axes>"
      ]
     },
     "metadata": {
      "needs_background": "light"
     },
     "output_type": "display_data"
    }
   ],
   "source": [
    "f, axarr = plt.subplots(ncols=2, figsize=(12,5))\n",
    "\n",
    "axarr[0].plot(c1s, xTildes_ub[:,0], linewidth=3, alpha=0.6, label=r'$\\tilde{x}_1$ (unbounded)', color='mediumorchid',\n",
    "              linestyle='-')\n",
    "axarr[0].plot(c1s, xTildes_ub[:,1], linewidth=3, alpha=0.6, label=r'$\\tilde{x}_2$ (unbounded)', color='goldenrod',\n",
    "              linestyle='-')\n",
    "\n",
    "axarr[0].plot(c1s, xTildes_bb[:,0], linewidth=3, alpha=0.6, label=r'$\\tilde{x}_1$ (bounded)', color='mediumorchid',\n",
    "              linestyle='--')\n",
    "axarr[0].plot(c1s, xTildes_bb[:,1], linewidth=3, alpha=0.6, label=r'$\\tilde{x}_2$ (bounded)', color='goldenrod',\n",
    "              linestyle='--')\n",
    "\n",
    "axarr[1].plot(c1s, welfares_ub, linewidth=3, alpha=0.6, color='maroon', \n",
    "              label=r'cost = $\\mathbf{c} \\cdot \\mathbf{\\tilde{x}}$')\n",
    "# axarr[1].plot(c1s, ubb[:,0], linewidth=3, alpha=0.6, color='slateblue', label=r'$b_1$')\n",
    "# axarr[1].plot(c1s, ubb[:,1], linewidth=3, alpha=0.6, color='forestgreen', label=r'$b_2$')\n",
    "\n",
    "axarr[1].plot(c1s, welfares_bb, linewidth=3, alpha=0.6, color='maroon', \n",
    "              label=r'cost = $\\mathbf{c} \\cdot \\mathbf{\\tilde{x}}$ (bounded)', linestyle='--')\n",
    "# axarr[1].plot(c1s, bb[:,0], linewidth=3, alpha=0.6, color='slateblue', label=r'$b_1$ (bounded)',\n",
    "#               linestyle='--')\n",
    "# axarr[1].plot(c1s, bb[:,1], linewidth=3, alpha=0.6, color='forestgreen', label=r'$b_2$ (bounded)',\n",
    "#               linestyle='--')\n",
    "# axarr[1].plot(c1s, c1s+0.1, linewidth=3, alpha=0.6, color='black', label=r'$y=x$',\n",
    "#               linestyle='--')\n",
    "\n",
    "\n",
    "for ax in axarr:\n",
    "    ax.grid(alpha=0.3)\n",
    "    ax.set_xlabel(r'$c_2$', size=15)\n",
    "    ax.legend(prop={'size': 12})\n",
    "axarr[0].set_title(r'allocations $(c_1=1, \\alpha=3)$', size=17)\n",
    "axarr[1].set_title(r'Costs $(c_1=1, \\alpha=3)$', size=17)\n",
    "\n",
    "plt.savefig('out.png', dpi=150, bbox_inches='tight', facecolor='white')\n",
    "plt.show()"
   ]
  },
  {
   "cell_type": "markdown",
   "metadata": {},
   "source": [
    "# sympy for potential function"
   ]
  },
  {
   "cell_type": "code",
   "execution_count": 465,
   "metadata": {},
   "outputs": [],
   "source": [
    "bi = sp.Symbol('b_i', positive=True)\n",
    "ci = sp.Symbol('c_i', positive=True)\n",
    "alpha = sp.Symbol('alpha', positive=True)\n",
    "o = sp.Symbol('o', positive=True)"
   ]
  },
  {
   "cell_type": "code",
   "execution_count": 466,
   "metadata": {},
   "outputs": [
    {
     "data": {
      "text/latex": [
       "$\\displaystyle \\frac{b_{i}^{- \\alpha} \\left(b_{i} - c_{i}\\right)}{o + b_{i}^{- \\alpha}}$"
      ],
      "text/plain": [
       "(b_i - c_i)/(b_i**alpha*(o + b_i**(-alpha)))"
      ]
     },
     "execution_count": 466,
     "metadata": {},
     "output_type": "execute_result"
    }
   ],
   "source": [
    "ui = (bi-ci)*bi**(-alpha) / (bi**(-alpha) + o)\n",
    "ui"
   ]
  },
  {
   "cell_type": "code",
   "execution_count": 467,
   "metadata": {},
   "outputs": [
    {
     "data": {
      "text/latex": [
       "$\\displaystyle - \\frac{\\alpha b_{i}^{- \\alpha} \\left(b_{i} - c_{i}\\right)}{b_{i} \\left(o + b_{i}^{- \\alpha}\\right)} + \\frac{\\alpha b_{i}^{- 2 \\alpha} \\left(b_{i} - c_{i}\\right)}{b_{i} \\left(o + b_{i}^{- \\alpha}\\right)^{2}} + \\frac{b_{i}^{- \\alpha}}{o + b_{i}^{- \\alpha}}$"
      ],
      "text/plain": [
       "-alpha*(b_i - c_i)/(b_i*b_i**alpha*(o + b_i**(-alpha))) + alpha*(b_i - c_i)/(b_i*b_i**(2*alpha)*(o + b_i**(-alpha))**2) + 1/(b_i**alpha*(o + b_i**(-alpha)))"
      ]
     },
     "execution_count": 467,
     "metadata": {},
     "output_type": "execute_result"
    }
   ],
   "source": [
    "sp.diff(ui, bi)"
   ]
  },
  {
   "cell_type": "code",
   "execution_count": 468,
   "metadata": {},
   "outputs": [],
   "source": [
    "xi = sp.Symbol('x_i', positive=True)"
   ]
  },
  {
   "cell_type": "code",
   "execution_count": 481,
   "metadata": {},
   "outputs": [
    {
     "data": {
      "text/latex": [
       "$\\displaystyle \\frac{\\alpha x_{i}^{2} \\left(b_{i} - c_{i}\\right)}{b_{i}} - \\frac{\\alpha x_{i} \\left(b_{i} - c_{i}\\right)}{b_{i}} + x_{i}$"
      ],
      "text/plain": [
       "alpha*x_i**2*(b_i - c_i)/b_i - alpha*x_i*(b_i - c_i)/b_i + x_i"
      ]
     },
     "execution_count": 481,
     "metadata": {},
     "output_type": "execute_result"
    }
   ],
   "source": [
    "-alpha*xi*(bi-ci)/bi + alpha * xi**2 * (bi-ci)/bi + xi"
   ]
  },
  {
   "cell_type": "code",
   "execution_count": 488,
   "metadata": {},
   "outputs": [
    {
     "data": {
      "text/latex": [
       "$\\displaystyle \\alpha x_{i}^{2} - \\alpha x_{i} - \\frac{\\alpha c_{i} x_{i}^{2}}{b_{i}} + \\frac{\\alpha c_{i} x_{i}}{b_{i}} + x_{i}$"
      ],
      "text/plain": [
       "alpha*x_i**2 - alpha*x_i - alpha*c_i*x_i**2/b_i + alpha*c_i*x_i/b_i + x_i"
      ]
     },
     "execution_count": 488,
     "metadata": {},
     "output_type": "execute_result"
    }
   ],
   "source": [
    "alpha*xi**2 - alpha*xi**2 * (ci/bi) - alpha*xi +  alpha*xi *(ci/bi)+xi"
   ]
  },
  {
   "cell_type": "code",
   "execution_count": 490,
   "metadata": {},
   "outputs": [
    {
     "data": {
      "text/latex": [
       "$\\displaystyle x_{i} \\left(\\alpha x_{i} - \\alpha + 1\\right) = \\frac{\\alpha c_{i} x_{i} \\left(x_{i} - 1\\right)}{b_{i}}$"
      ],
      "text/plain": [
       "Eq(x_i*(alpha*x_i - alpha + 1), alpha*c_i*x_i*(x_i - 1)/b_i)"
      ]
     },
     "execution_count": 490,
     "metadata": {},
     "output_type": "execute_result"
    }
   ],
   "source": [
    "sp.Eq(xi*(alpha*xi-alpha+1), alpha*xi*ci/bi*(xi-1))"
   ]
  },
  {
   "cell_type": "markdown",
   "metadata": {},
   "source": [
    "# Pranavs bound"
   ]
  },
  {
   "cell_type": "code",
   "execution_count": 677,
   "metadata": {},
   "outputs": [],
   "source": [
    "def pranavbound(c, alpha):\n",
    "    return 1/2 + (alpha - 2)/(2*alpha)*(1-1/(1+(alpha**2)/(2*(3*alpha-2))*c-1))\n",
    "\n",
    "def pranavbound2(c, alpha):\n",
    "    return 1/2+(.5-1/alpha)*(1-1/(1+alpha**2*(c-1)/(6*alpha-4)))\n",
    "\n",
    "def pranavbound3(c, alpha):\n",
    "    return 1/2 +(1/2-1/alpha)*(1-1/(1+(alpha**2/(2*(3*alpha-2)))*(c-1)))"
   ]
  },
  {
   "cell_type": "code",
   "execution_count": 678,
   "metadata": {},
   "outputs": [
    {
     "data": {
      "text/plain": [
       "(0.7687999999999999, 0.7689243027888446, 0.7689243027888446)"
      ]
     },
     "execution_count": 678,
     "metadata": {},
     "output_type": "execute_result"
    }
   ],
   "source": [
    "pranavbound(10, 5), pranavbound2(10, 5), pranavbound3(10, 5)"
   ]
  },
  {
   "cell_type": "code",
   "execution_count": 679,
   "metadata": {},
   "outputs": [],
   "source": [
    "def getEquilBids(cs, a, guess=None):\n",
    "    n = len(cs)\n",
    "    bs = [sp.Symbol('b{}'.format(i)) for i in range(n)]\n",
    "    \n",
    "    denom = sum([bi**(-a) for bi in bs])\n",
    "    xs    = [bi**(-a)/denom for bi in bs]\n",
    "    us    = [(bs[i] - cs[i])*xs[i] for i in range(n)]\n",
    "    diffs = [sp.diff(us[i], bs[i]) for i in range(n)]\n",
    "    funcs = [sp.lambdify(bs, diffs[i]) for i in range(n)]\n",
    "    \n",
    "    def eqs(bs):\n",
    "        return [f(*bs) for f in funcs]\n",
    "    \n",
    "    initial_guess = cs\n",
    "    if guess != None:\n",
    "        initial_guess = guess\n",
    "    \n",
    "    return fsolve(eqs, initial_guess)\n",
    "\n",
    "def getAllos(bids, a):\n",
    "    denom = sum([b**(-a) for b in bids])\n",
    "    return np.array(bids**(-a)) / denom"
   ]
  },
  {
   "cell_type": "code",
   "execution_count": 680,
   "metadata": {},
   "outputs": [
    {
     "data": {
      "text/plain": [
       "array([1. , 1.1, 1.2, 1.3, 1.4, 1.5, 1.6, 1.7, 1.8, 1.9, 2. , 2.1, 2.2,\n",
       "       2.3, 2.4, 2.5, 2.6, 2.7, 2.8, 2.9, 3. , 3.1, 3.2, 3.3, 3.4, 3.5,\n",
       "       3.6, 3.7, 3.8, 3.9, 4. , 4.1, 4.2, 4.3, 4.4, 4.5, 4.6, 4.7, 4.8,\n",
       "       4.9, 5. ])"
      ]
     },
     "execution_count": 680,
     "metadata": {},
     "output_type": "execute_result"
    }
   ],
   "source": [
    "alpha = 5\n",
    "c1s   = np.arange(1, 5.01, 0.1)\n",
    "c1s"
   ]
  },
  {
   "cell_type": "code",
   "execution_count": 673,
   "metadata": {},
   "outputs": [
    {
     "data": {
      "text/plain": [
       "((41, 2), (41,))"
      ]
     },
     "execution_count": 673,
     "metadata": {},
     "output_type": "execute_result"
    }
   ],
   "source": [
    "guesses = c1s\n",
    "\n",
    "xTildes  = []\n",
    "welfares = [] \n",
    "for i, c1 in enumerate(c1s):\n",
    "    costs   = [1, c1]\n",
    "    bids    = getEquilBids(costs, a=alpha, guess=[guesses[i],guesses[i]])\n",
    "    xTilde  = getAllos(bids, a=alpha)\n",
    "    xTildes.append(xTilde)\n",
    "    welfares.append(np.dot(costs, xTilde))\n",
    "xTildes = np.asarray(xTildes)\n",
    "welfares = np.asarray(welfares)\n",
    "xTildes.shape, welfares.shape"
   ]
  },
  {
   "cell_type": "code",
   "execution_count": 674,
   "metadata": {},
   "outputs": [],
   "source": [
    "def explicitQuadraticRoot(c, a):\n",
    "    # Calculate coefficients\n",
    "    A = (1 - c) * a**2 - 2 * a\n",
    "    B = c * a * (a - 1) + 2 - a**2\n",
    "    C = a - 1\n",
    "    \n",
    "    # Compute discriminant\n",
    "    discriminant = B**2 - 4 * A * C\n",
    "    \n",
    "    # Compute square root of discriminant\n",
    "    sqrt_discriminant = math.sqrt(discriminant)\n",
    "    \n",
    "    # Compute the positive root using the quadratic formula\n",
    "    x_star = (-B - sqrt_discriminant) / (2 * A)\n",
    "    \n",
    "    return x_star"
   ]
  },
  {
   "cell_type": "code",
   "execution_count": 675,
   "metadata": {},
   "outputs": [
    {
     "data": {
      "text/plain": [
       "0.516090215170903"
      ]
     },
     "execution_count": 675,
     "metadata": {},
     "output_type": "execute_result"
    }
   ],
   "source": [
    "explicitQuadraticRoot(c=5, a=2.1)"
   ]
  },
  {
   "cell_type": "code",
   "execution_count": 676,
   "metadata": {},
   "outputs": [
    {
     "data": {
      "image/png": "[encoded data removed]",
      "text/plain": [
       "<Figure size 864x360 with 2 Axes>"
      ]
     },
     "metadata": {
      "needs_background": "light"
     },
     "output_type": "display_data"
    }
   ],
   "source": [
    "f, axarr = plt.subplots(ncols=2, figsize=(12,5))\n",
    "\n",
    "axarr[0].plot(c1s, xTildes[:,0], linewidth=3, alpha=0.6, label=r'$\\tilde{x}_1$', color='mediumorchid',\n",
    "              linestyle='-.')\n",
    "axarr[0].plot(c1s, xTildes[:,1], linewidth=3, alpha=0.6, label=r'$\\tilde{x}_2$', color='goldenrod',\n",
    "              linestyle='-.')\n",
    "\n",
    "\n",
    "# axarr[1].plot(c1s, pranavbound(c1s, alpha)+c1s*(1-pranavbound(c1s, alpha)), linewidth=3, alpha=0.6,\n",
    "#               label='analytical bound PoA #1', color='green')\n",
    "# axarr[1].plot(c1s, pranavbound2(c1s, alpha)+c1s*(1-pranavbound2(c1s, alpha)), linewidth=3, alpha=0.6,\n",
    "#               label='analytical bound PoA #2', color='tan')\n",
    "\n",
    "axarr[1].plot(c1s, pranavbound3(c1s, alpha)+c1s*(1-pranavbound3(c1s, alpha)), linewidth=3, alpha=0.6,\n",
    "              label='analytical bound PoA', color='tan')\n",
    "roots = np.array([explicitQuadraticRoot(c1, alpha) for c1 in c1s])\n",
    "\n",
    "axarr[1].plot(c1s, roots+c1s*(1-roots), linewidth=3, alpha=0.6,\n",
    "              label='root bound PoA', color='green')\n",
    "axarr[1].plot(c1s, welfares, linewidth=3, alpha=0.6, label='numerical PoA', color='mediumblue')\n",
    "\n",
    "\n",
    "for ax in axarr:\n",
    "    ax.grid(alpha=0.3)\n",
    "    ax.set_xlabel(r'$c_2$', size=15)\n",
    "    ax.legend(prop={'size': 12})\n",
    "#     ax.set_xlim(1,2)\n",
    "axarr[0].set_title(r'allocations $(c_1=1, \\alpha={})$'.format(alpha), size=17)\n",
    "axarr[1].set_title(r'PoA $(c_1=1, \\alpha={})$'.format(alpha), size=17)\n",
    "\n",
    "plt.savefig('out.png', dpi=150, bbox_inches='tight', facecolor='white')\n",
    "plt.show()"
   ]
  },
  {
   "cell_type": "markdown",
   "metadata": {},
   "source": [
    "# 3 player"
   ]
  },
  {
   "cell_type": "code",
   "execution_count": 690,
   "metadata": {},
   "outputs": [
    {
     "data": {
      "text/plain": [
       "array([1. , 1.1, 1.2, 1.3, 1.4, 1.5, 1.6, 1.7, 1.8, 1.9, 2. , 2.1, 2.2,\n",
       "       2.3, 2.4, 2.5, 2.6, 2.7, 2.8, 2.9, 3. , 3.1, 3.2, 3.3, 3.4, 3.5,\n",
       "       3.6, 3.7, 3.8, 3.9, 4. , 4.1, 4.2, 4.3, 4.4, 4.5, 4.6, 4.7, 4.8,\n",
       "       4.9, 5. ])"
      ]
     },
     "execution_count": 690,
     "metadata": {},
     "output_type": "execute_result"
    }
   ],
   "source": [
    "alpha = 5\n",
    "c1s   = np.arange(1, 5.01, 0.1)\n",
    "c1s"
   ]
  },
  {
   "cell_type": "code",
   "execution_count": 691,
   "metadata": {},
   "outputs": [
    {
     "data": {
      "text/plain": [
       "((41, 3), (41,))"
      ]
     },
     "execution_count": 691,
     "metadata": {},
     "output_type": "execute_result"
    }
   ],
   "source": [
    "guesses = c1s*0.5\n",
    "\n",
    "xTildes  = []\n",
    "welfares = [] \n",
    "for i, c1 in enumerate(c1s):\n",
    "    costs   = [1, c1, c1]\n",
    "    bids    = getEquilBids(costs, a=alpha, guess=[guesses[i],guesses[i],guesses[i]])\n",
    "    xTilde  = getAllos(bids, a=alpha)\n",
    "    xTildes.append(xTilde)\n",
    "    welfares.append(np.dot(costs, xTilde))\n",
    "xTildes = np.asarray(xTildes)\n",
    "welfares = np.asarray(welfares)\n",
    "xTildes.shape, welfares.shape"
   ]
  },
  {
   "cell_type": "code",
   "execution_count": 696,
   "metadata": {},
   "outputs": [],
   "source": [
    "def explicit3player(c, a):\n",
    "    A = -2 * c * a**2 - (2 ** (1 + 1/a)) * (2 * a - a**2)\n",
    "    B = -2 * c * a - (2 ** (1 + 1/a)) * (3 * a - 4)\n",
    "    C = 2 * c * a * (a - 1) - (2 ** (1 + 1/a)) * (a**2 - 3 * a + 2)\n",
    "    \n",
    "    discriminant = B**2 - 4 * A * C    \n",
    "    sqrt_discriminant = math.sqrt(discriminant)\n",
    "    x1 = (-B + sqrt_discriminant) / (2 * A)\n",
    "    x2 = (-B - sqrt_discriminant) / (2 * A)\n",
    "    \n",
    "    return x2"
   ]
  },
  {
   "cell_type": "code",
   "execution_count": 736,
   "metadata": {},
   "outputs": [
    {
     "data": {
      "text/plain": [
       "0.6497709950957203"
      ]
     },
     "execution_count": 736,
     "metadata": {},
     "output_type": "execute_result"
    }
   ],
   "source": [
    "explicit3player(20, 3)"
   ]
  },
  {
   "cell_type": "code",
   "execution_count": 698,
   "metadata": {},
   "outputs": [
    {
     "data": {
      "image/png": "[encoded data removed]",
      "text/plain": [
       "<Figure size 864x360 with 2 Axes>"
      ]
     },
     "metadata": {
      "needs_background": "light"
     },
     "output_type": "display_data"
    }
   ],
   "source": [
    "f, axarr = plt.subplots(ncols=2, figsize=(12,5))\n",
    "\n",
    "axarr[0].plot(c1s, xTildes[:,0], linewidth=3, alpha=0.6, label=r'$\\tilde{x}_1$', color='mediumorchid',\n",
    "              linestyle='-.')\n",
    "axarr[0].plot(c1s, xTildes[:,1], linewidth=3, alpha=0.6, label=r'$\\tilde{x}_2=\\tilde{x}_3$', color='goldenrod',\n",
    "              linestyle='-.')\n",
    "\n",
    "roots = np.array([explicit3player(c1, alpha) for c1 in c1s])\n",
    "axarr[1].plot(c1s, roots+c1s*(1-roots), linewidth=3, alpha=0.6,\n",
    "              label='root bound PoA', color='green')\n",
    "axarr[1].plot(c1s, welfares, linewidth=3, alpha=0.6, label='numerical PoA', color='mediumblue')\n",
    "\n",
    "\n",
    "for ax in axarr:\n",
    "    ax.grid(alpha=0.3)\n",
    "    ax.set_xlabel(r'$c_2$', size=15)\n",
    "    ax.legend(prop={'size': 12})\n",
    "#     ax.set_xlim(1,2)\n",
    "axarr[0].set_title(r'allocations $(c_1=1, \\alpha={})$'.format(alpha), size=17)\n",
    "axarr[1].set_title(r'PoA $(c_1=1, \\alpha={})$'.format(alpha), size=17)\n",
    "\n",
    "plt.savefig('out.png', dpi=150, bbox_inches='tight', facecolor='white')\n",
    "plt.show()"
   ]
  },
  {
   "cell_type": "markdown",
   "metadata": {},
   "source": [
    "# N+1 player"
   ]
  },
  {
   "cell_type": "code",
   "execution_count": 20,
   "metadata": {},
   "outputs": [
    {
     "data": {
      "text/plain": [
       "array([1. , 1.1, 1.2, 1.3, 1.4, 1.5, 1.6, 1.7, 1.8, 1.9, 2. , 2.1, 2.2,\n",
       "       2.3, 2.4, 2.5, 2.6, 2.7, 2.8, 2.9, 3. , 3.1, 3.2, 3.3, 3.4, 3.5,\n",
       "       3.6, 3.7, 3.8, 3.9, 4. , 4.1, 4.2, 4.3, 4.4, 4.5, 4.6, 4.7, 4.8,\n",
       "       4.9, 5. ])"
      ]
     },
     "execution_count": 20,
     "metadata": {},
     "output_type": "execute_result"
    }
   ],
   "source": [
    "alpha = 5\n",
    "c1s   = np.arange(1, 5.01, 0.1)\n",
    "c1s"
   ]
  },
  {
   "cell_type": "code",
   "execution_count": 23,
   "metadata": {},
   "outputs": [
    {
     "data": {
      "text/plain": [
       "((41, 6), (41,))"
      ]
     },
     "execution_count": 23,
     "metadata": {},
     "output_type": "execute_result"
    }
   ],
   "source": [
    "N_ = 5\n",
    "guesses = c1s / N_\n",
    "\n",
    "xTildes  = []\n",
    "welfares = [] \n",
    "for i, c1 in enumerate(c1s):\n",
    "    costs   = [1]\n",
    "    costs.extend([c1]*N_)\n",
    "    bids    = getEquilBids(costs, a=alpha, guess=[guesses[i]]*(N_+1))\n",
    "    xTilde  = getAllos(bids, a=alpha)\n",
    "    xTildes.append(xTilde)\n",
    "    welfares.append(np.dot(costs, xTilde))\n",
    "xTildes = np.asarray(xTildes)\n",
    "welfares = np.asarray(welfares)\n",
    "xTildes.shape, welfares.shape"
   ]
  },
  {
   "cell_type": "code",
   "execution_count": 25,
   "metadata": {},
   "outputs": [
    {
     "data": {
      "text/latex": [
       "$\\displaystyle \\frac{c \\left(- a x + a - 1\\right)}{-1 + \\frac{a x}{N} + \\frac{a \\left(N - 1\\right)}{N}} = \\frac{N^{1 + \\frac{1}{a}} \\left(a \\left(1 - x\\right) + 2 x - 1\\right)}{a \\left(N + x - 1\\right)}$"
      ],
      "text/plain": [
       "Eq(c*(-a*x + a - 1)/(-1 + a*x/N + a*(N - 1)/N), N**(1 + 1/a)*(a*(1 - x) + 2*x - 1)/(a*(N + x - 1)))"
      ]
     },
     "execution_count": 25,
     "metadata": {},
     "output_type": "execute_result"
    }
   ],
   "source": [
    "# Define symbols\n",
    "x, c, a, N = sp.symbols('x c a N')\n",
    "\n",
    "# Define the original equation\n",
    "lhs = c * (a - a*x - 1) / ((a*(N - 1))/N + (a*x)/N - 1)\n",
    "rhs = (N**(1 + 1/a) * (a*(1 - x) + 2*x -1)) / (a*(N + x -1))\n",
    "\n",
    "# Form the equation\n",
    "equation = sp.Eq(lhs, rhs)\n",
    "equation"
   ]
  },
  {
   "cell_type": "code",
   "execution_count": 26,
   "metadata": {},
   "outputs": [
    {
     "data": {
      "text/latex": [
       "$\\displaystyle \\frac{- N a c \\left(N + x - 1\\right) \\left(a x - a + 1\\right) + N^{\\frac{a + 1}{a}} \\left(- N + a x + a \\left(N - 1\\right)\\right) \\left(a \\left(x - 1\\right) - 2 x + 1\\right)}{a \\left(- N + a x + a \\left(N - 1\\right)\\right) \\left(N + x - 1\\right)}$"
      ],
      "text/plain": [
       "(-N*a*c*(N + x - 1)*(a*x - a + 1) + N**((a + 1)/a)*(-N + a*x + a*(N - 1))*(a*(x - 1) - 2*x + 1))/(a*(-N + a*x + a*(N - 1))*(N + x - 1))"
      ]
     },
     "execution_count": 26,
     "metadata": {},
     "output_type": "execute_result"
    }
   ],
   "source": [
    "quadratic_eq = sp.simplify(equation.lhs - equation.rhs)\n",
    "quadratic_eq"
   ]
  },
  {
   "cell_type": "code",
   "execution_count": 27,
   "metadata": {},
   "outputs": [
    {
     "data": {
      "text/latex": [
       "$\\displaystyle \\frac{- N^{2} a^{2} c + 2 N a^{2} c - N a c - 2 N^{1 + \\frac{1}{a}} a^{2} + 3 N^{1 + \\frac{1}{a}} a + N^{2 + \\frac{1}{a}} a^{2} - 3 N^{2 + \\frac{1}{a}} a + 2 N^{2 + \\frac{1}{a}} + \\sqrt{N^{4} a^{4} c^{2} - 2 N^{3} a^{3} c^{2} + N^{2} a^{2} c^{2} + 2 N^{2 + \\frac{1}{a}} a^{2} c + N^{2 + \\frac{2}{a}} a^{2} + 2 N^{3 + \\frac{1}{a}} a^{2} c - 4 N^{3 + \\frac{1}{a}} a c + 2 N^{3 + \\frac{2}{a}} a^{3} - 6 N^{3 + \\frac{2}{a}} a^{2} + 4 N^{3 + \\frac{2}{a}} a - 2 N^{4 + \\frac{1}{a}} a^{4} c + 6 N^{4 + \\frac{1}{a}} a^{3} c - 4 N^{4 + \\frac{1}{a}} a^{2} c + N^{4 + \\frac{2}{a}} a^{4} - 6 N^{4 + \\frac{2}{a}} a^{3} + 13 N^{4 + \\frac{2}{a}} a^{2} - 12 N^{4 + \\frac{2}{a}} a + 4 N^{4 + \\frac{2}{a}}}}{2 a \\left(N a c - N^{1 + \\frac{1}{a}} a + 2 N^{1 + \\frac{1}{a}}\\right)}$"
      ],
      "text/plain": [
       "(-N**2*a**2*c + 2*N*a**2*c - N*a*c - 2*N**(1 + 1/a)*a**2 + 3*N**(1 + 1/a)*a + N**(2 + 1/a)*a**2 - 3*N**(2 + 1/a)*a + 2*N**(2 + 1/a) + sqrt(N**4*a**4*c**2 - 2*N**3*a**3*c**2 + N**2*a**2*c**2 + 2*N**(2 + 1/a)*a**2*c + N**(2 + 2/a)*a**2 + 2*N**(3 + 1/a)*a**2*c - 4*N**(3 + 1/a)*a*c + 2*N**(3 + 2/a)*a**3 - 6*N**(3 + 2/a)*a**2 + 4*N**(3 + 2/a)*a - 2*N**(4 + 1/a)*a**4*c + 6*N**(4 + 1/a)*a**3*c - 4*N**(4 + 1/a)*a**2*c + N**(4 + 2/a)*a**4 - 6*N**(4 + 2/a)*a**3 + 13*N**(4 + 2/a)*a**2 - 12*N**(4 + 2/a)*a + 4*N**(4 + 2/a)))/(2*a*(N*a*c - N**(1 + 1/a)*a + 2*N**(1 + 1/a)))"
      ]
     },
     "execution_count": 27,
     "metadata": {},
     "output_type": "execute_result"
    }
   ],
   "source": [
    "# Solve for x\n",
    "roots_sym = sp.solve(quadratic_eq, x)\n",
    "roots_sym[1]"
   ]
  },
  {
   "cell_type": "code",
   "execution_count": 28,
   "metadata": {},
   "outputs": [
    {
     "name": "stdout",
     "output_type": "stream",
     "text": [
      "\\frac{- N^{2} a^{2} c + 2 N a^{2} c - N a c - 2 N^{1 + \\frac{1}{a}} a^{2} + 3 N^{1 + \\frac{1}{a}} a + N^{2 + \\frac{1}{a}} a^{2} - 3 N^{2 + \\frac{1}{a}} a + 2 N^{2 + \\frac{1}{a}} + \\sqrt{N^{4} a^{4} c^{2} - 2 N^{3} a^{3} c^{2} + N^{2} a^{2} c^{2} + 2 N^{2 + \\frac{1}{a}} a^{2} c + N^{2 + \\frac{2}{a}} a^{2} + 2 N^{3 + \\frac{1}{a}} a^{2} c - 4 N^{3 + \\frac{1}{a}} a c + 2 N^{3 + \\frac{2}{a}} a^{3} - 6 N^{3 + \\frac{2}{a}} a^{2} + 4 N^{3 + \\frac{2}{a}} a - 2 N^{4 + \\frac{1}{a}} a^{4} c + 6 N^{4 + \\frac{1}{a}} a^{3} c - 4 N^{4 + \\frac{1}{a}} a^{2} c + N^{4 + \\frac{2}{a}} a^{4} - 6 N^{4 + \\frac{2}{a}} a^{3} + 13 N^{4 + \\frac{2}{a}} a^{2} - 12 N^{4 + \\frac{2}{a}} a + 4 N^{4 + \\frac{2}{a}}}}{2 a \\left(N a c - N^{1 + \\frac{1}{a}} a + 2 N^{1 + \\frac{1}{a}}\\right)}\n"
     ]
    }
   ],
   "source": [
    "sp.print_latex(roots_sym[1])"
   ]
  },
  {
   "cell_type": "code",
   "execution_count": 29,
   "metadata": {},
   "outputs": [],
   "source": [
    "roots = np.array([roots_sym[1].evalf(subs={N:N_, a:alpha, c:c1}) for c1 in c1s])"
   ]
  },
  {
   "cell_type": "code",
   "execution_count": 30,
   "metadata": {},
   "outputs": [
    {
     "data": {
      "image/png": "[encoded data removed]",
      "text/plain": [
       "<Figure size 864x360 with 2 Axes>"
      ]
     },
     "metadata": {
      "needs_background": "light"
     },
     "output_type": "display_data"
    }
   ],
   "source": [
    "f, axarr = plt.subplots(ncols=2, figsize=(12,5))\n",
    "\n",
    "axarr[0].plot(c1s, xTildes[:,0], linewidth=3, alpha=0.6, label=r'$\\tilde{x}_1$', color='mediumorchid',\n",
    "              linestyle='-.')\n",
    "axarr[0].plot(c1s, xTildes[:,1], linewidth=3, alpha=0.6, label=r'$\\tilde{x}_{2,\\ldots}$', color='goldenrod',\n",
    "              linestyle='-.')\n",
    "\n",
    "axarr[1].plot(c1s, roots+c1s*(1-roots), linewidth=3, alpha=0.6,\n",
    "              label='root bound PoA', color='green')\n",
    "axarr[1].plot(c1s, welfares, linewidth=3, alpha=0.6, label='numerical PoA', color='mediumblue')\n",
    "\n",
    "\n",
    "for ax in axarr:\n",
    "    ax.grid(alpha=0.3)\n",
    "    ax.set_xlabel(r'$c_2$', size=15)\n",
    "    ax.legend(prop={'size': 12})\n",
    "#     ax.set_xlim(1,2)\n",
    "axarr[0].set_title(r'allocations $(N={}, c_1=1, \\alpha={})$'.format(N_, alpha), size=17)\n",
    "axarr[1].set_title(r'PoA $(N={}, c_1=1, \\alpha={})$'.format(N_, alpha), size=17)\n",
    "\n",
    "plt.savefig('out.png', dpi=150, bbox_inches='tight', facecolor='white')\n",
    "plt.show()"
   ]
  },
  {
   "cell_type": "markdown",
   "metadata": {},
   "source": [
    "# sympy"
   ]
  },
  {
   "cell_type": "code",
   "execution_count": 824,
   "metadata": {},
   "outputs": [
    {
     "data": {
      "text/latex": [
       "$\\displaystyle \\frac{c \\left(- a x + a - 1\\right)}{-1 + \\frac{a x}{N} + \\frac{a \\left(N - 1\\right)}{N}} = \\frac{N^{1 + \\frac{1}{a}} \\left(a \\left(1 - x\\right) + 2 x - 1\\right)}{a \\left(N + x - 1\\right)}$"
      ],
      "text/plain": [
       "Eq(c*(-a*x + a - 1)/(-1 + a*x/N + a*(N - 1)/N), N**(1 + 1/a)*(a*(1 - x) + 2*x - 1)/(a*(N + x - 1)))"
      ]
     },
     "execution_count": 824,
     "metadata": {},
     "output_type": "execute_result"
    }
   ],
   "source": [
    "# Define symbols\n",
    "x, c, a, N = sp.symbols('x c a N')\n",
    "\n",
    "# Define the original equation\n",
    "lhs = c * (a - a*x - 1) / ((a*(N - 1))/N + (a*x)/N - 1)\n",
    "rhs = (N**(1 + 1/a) * (a*(1 - x) + 2*x -1)) / (a*(N + x -1))\n",
    "\n",
    "# Form the equation\n",
    "equation = sp.Eq(lhs, rhs)\n",
    "equation"
   ]
  },
  {
   "cell_type": "code",
   "execution_count": 825,
   "metadata": {},
   "outputs": [
    {
     "data": {
      "text/latex": [
       "$\\displaystyle \\frac{- N a c \\left(N + x - 1\\right) \\left(a x - a + 1\\right) + N^{\\frac{a + 1}{a}} \\left(- N + a x + a \\left(N - 1\\right)\\right) \\left(a \\left(x - 1\\right) - 2 x + 1\\right)}{a \\left(- N + a x + a \\left(N - 1\\right)\\right) \\left(N + x - 1\\right)}$"
      ],
      "text/plain": [
       "(-N*a*c*(N + x - 1)*(a*x - a + 1) + N**((a + 1)/a)*(-N + a*x + a*(N - 1))*(a*(x - 1) - 2*x + 1))/(a*(-N + a*x + a*(N - 1))*(N + x - 1))"
      ]
     },
     "execution_count": 825,
     "metadata": {},
     "output_type": "execute_result"
    }
   ],
   "source": [
    "quadratic_eq = sp.simplify(equation.lhs - equation.rhs)\n",
    "quadratic_eq"
   ]
  },
  {
   "cell_type": "code",
   "execution_count": 827,
   "metadata": {},
   "outputs": [
    {
     "data": {
      "text/latex": [
       "$\\displaystyle \\frac{- N^{2} a^{2} c + 2 N a^{2} c - N a c - 2 N^{1 + \\frac{1}{a}} a^{2} + 3 N^{1 + \\frac{1}{a}} a + N^{2 + \\frac{1}{a}} a^{2} - 3 N^{2 + \\frac{1}{a}} a + 2 N^{2 + \\frac{1}{a}} + \\sqrt{N^{4} a^{4} c^{2} - 2 N^{3} a^{3} c^{2} + N^{2} a^{2} c^{2} + 2 N^{2 + \\frac{1}{a}} a^{2} c + N^{2 + \\frac{2}{a}} a^{2} + 2 N^{3 + \\frac{1}{a}} a^{2} c - 4 N^{3 + \\frac{1}{a}} a c + 2 N^{3 + \\frac{2}{a}} a^{3} - 6 N^{3 + \\frac{2}{a}} a^{2} + 4 N^{3 + \\frac{2}{a}} a - 2 N^{4 + \\frac{1}{a}} a^{4} c + 6 N^{4 + \\frac{1}{a}} a^{3} c - 4 N^{4 + \\frac{1}{a}} a^{2} c + N^{4 + \\frac{2}{a}} a^{4} - 6 N^{4 + \\frac{2}{a}} a^{3} + 13 N^{4 + \\frac{2}{a}} a^{2} - 12 N^{4 + \\frac{2}{a}} a + 4 N^{4 + \\frac{2}{a}}}}{2 a \\left(N a c - N^{1 + \\frac{1}{a}} a + 2 N^{1 + \\frac{1}{a}}\\right)}$"
      ],
      "text/plain": [
       "(-N**2*a**2*c + 2*N*a**2*c - N*a*c - 2*N**(1 + 1/a)*a**2 + 3*N**(1 + 1/a)*a + N**(2 + 1/a)*a**2 - 3*N**(2 + 1/a)*a + 2*N**(2 + 1/a) + sqrt(N**4*a**4*c**2 - 2*N**3*a**3*c**2 + N**2*a**2*c**2 + 2*N**(2 + 1/a)*a**2*c + N**(2 + 2/a)*a**2 + 2*N**(3 + 1/a)*a**2*c - 4*N**(3 + 1/a)*a*c + 2*N**(3 + 2/a)*a**3 - 6*N**(3 + 2/a)*a**2 + 4*N**(3 + 2/a)*a - 2*N**(4 + 1/a)*a**4*c + 6*N**(4 + 1/a)*a**3*c - 4*N**(4 + 1/a)*a**2*c + N**(4 + 2/a)*a**4 - 6*N**(4 + 2/a)*a**3 + 13*N**(4 + 2/a)*a**2 - 12*N**(4 + 2/a)*a + 4*N**(4 + 2/a)))/(2*a*(N*a*c - N**(1 + 1/a)*a + 2*N**(1 + 1/a)))"
      ]
     },
     "execution_count": 827,
     "metadata": {},
     "output_type": "execute_result"
    }
   ],
   "source": [
    "# Solve for x\n",
    "roots_sym = sp.solve(quadratic_eq, x)\n",
    "roots_sym[1]"
   ]
  },
  {
   "cell_type": "code",
   "execution_count": 828,
   "metadata": {},
   "outputs": [
    {
     "name": "stdout",
     "output_type": "stream",
     "text": [
      "\\frac{- N^{2} a^{2} c + 2 N a^{2} c - N a c - 2 N^{1 + \\frac{1}{a}} a^{2} + 3 N^{1 + \\frac{1}{a}} a + N^{2 + \\frac{1}{a}} a^{2} - 3 N^{2 + \\frac{1}{a}} a + 2 N^{2 + \\frac{1}{a}} + \\sqrt{N^{4} a^{4} c^{2} - 2 N^{3} a^{3} c^{2} + N^{2} a^{2} c^{2} + 2 N^{2 + \\frac{1}{a}} a^{2} c + N^{2 + \\frac{2}{a}} a^{2} + 2 N^{3 + \\frac{1}{a}} a^{2} c - 4 N^{3 + \\frac{1}{a}} a c + 2 N^{3 + \\frac{2}{a}} a^{3} - 6 N^{3 + \\frac{2}{a}} a^{2} + 4 N^{3 + \\frac{2}{a}} a - 2 N^{4 + \\frac{1}{a}} a^{4} c + 6 N^{4 + \\frac{1}{a}} a^{3} c - 4 N^{4 + \\frac{1}{a}} a^{2} c + N^{4 + \\frac{2}{a}} a^{4} - 6 N^{4 + \\frac{2}{a}} a^{3} + 13 N^{4 + \\frac{2}{a}} a^{2} - 12 N^{4 + \\frac{2}{a}} a + 4 N^{4 + \\frac{2}{a}}}}{2 a \\left(N a c - N^{1 + \\frac{1}{a}} a + 2 N^{1 + \\frac{1}{a}}\\right)}\n"
     ]
    }
   ],
   "source": [
    "sp.print_latex(roots_sym[1])"
   ]
  },
  {
   "cell_type": "code",
   "execution_count": 831,
   "metadata": {},
   "outputs": [
    {
     "data": {
      "text/latex": [
       "$\\displaystyle 0.66298665563608$"
      ],
      "text/plain": [
       "0.662986655636080"
      ]
     },
     "execution_count": 831,
     "metadata": {},
     "output_type": "execute_result"
    }
   ],
   "source": [
    "roots_sym[1].evalf(subs={N:2, a:4, c:4})"
   ]
  },
  {
   "cell_type": "code",
   "execution_count": 830,
   "metadata": {},
   "outputs": [
    {
     "data": {
      "text/plain": [
       "0.6629866556360797"
      ]
     },
     "execution_count": 830,
     "metadata": {},
     "output_type": "execute_result"
    }
   ],
   "source": [
    "explicit3player(c=4, a=4)"
   ]
  },
  {
   "cell_type": "code",
   "execution_count": 867,
   "metadata": {},
   "outputs": [
    {
     "name": "stdout",
     "output_type": "stream",
     "text": [
      "Quadratic Equation:\n",
      "                 2                                          \n",
      "K⋅(a - 1) + cᵢ⋅xᵢ  - cᵢ⋅(a - 1) + xᵢ⋅(-K⋅a + cᵢ⋅(a - 2)) = 0\n"
     ]
    }
   ],
   "source": [
    "from sympy import symbols, Eq, solve, simplify, pprint\n",
    "\n",
    "# Define the symbols used in the equation\n",
    "c_i, a, K, x_i = symbols('c_i a K x_i')\n",
    "\n",
    "# Define the quadratic equation\n",
    "quadratic_eq = Eq(\n",
    "    c_i * x_i**2 + (c_i * (a - 2) - K * a) * x_i + (K * (a - 1) - c_i * (a - 1)),\n",
    "    0\n",
    ")\n",
    "\n",
    "# Display the equation\n",
    "print(\"Quadratic Equation:\")\n",
    "pprint(quadratic_eq)\n",
    "\n",
    "# Solve the quadratic equation for x_i\n",
    "solutions = solve(quadratic_eq, x_i)\n",
    "\n",
    "# Simplify the solutions if possible\n",
    "simplified_solutions = [simplify(sol) for sol in solutions]"
   ]
  },
  {
   "cell_type": "code",
   "execution_count": 870,
   "metadata": {},
   "outputs": [
    {
     "data": {
      "text/latex": [
       "$\\displaystyle \\frac{K a - a c_{i} + 2 c_{i} + \\sqrt{K^{2} a^{2} - 2 K a^{2} c_{i} + 4 K c_{i} + a^{2} c_{i}^{2}}}{2 c_{i}}$"
      ],
      "text/plain": [
       "(K*a - a*c_i + 2*c_i + sqrt(K**2*a**2 - 2*K*a**2*c_i + 4*K*c_i + a**2*c_i**2))/(2*c_i)"
      ]
     },
     "execution_count": 870,
     "metadata": {},
     "output_type": "execute_result"
    }
   ],
   "source": [
    "simplified_solutions[1]"
   ]
  },
  {
   "cell_type": "code",
   "execution_count": 893,
   "metadata": {},
   "outputs": [
    {
     "data": {
      "text/latex": [
       "$\\displaystyle K \\left(a - 1\\right) + c_{1} x_{1}^{2} - c_{1} \\left(a - 1\\right) + x_{1} \\left(- K a + c_{1} \\left(a - 2\\right)\\right) = 0$"
      ],
      "text/plain": [
       "Eq(K*(a - 1) + c1*x1**2 - c1*(a - 1) + x1*(-K*a + c1*(a - 2)), 0)"
      ]
     },
     "execution_count": 893,
     "metadata": {},
     "output_type": "execute_result"
    }
   ],
   "source": [
    "a, x1, x2, c1, c2, K = symbols('a x1 x2 c1 c2 K')\n",
    "eq1 = Eq(c1 * x1**2 + (c1 * (a - 2) - K * a) * x1 + (K * (a - 1) - c1 * (a - 1)), 0)\n",
    "eq1"
   ]
  },
  {
   "cell_type": "code",
   "execution_count": 894,
   "metadata": {},
   "outputs": [],
   "source": [
    "sols = solve([eq1], (x1))"
   ]
  },
  {
   "cell_type": "code",
   "execution_count": 896,
   "metadata": {},
   "outputs": [
    {
     "data": {
      "text/latex": [
       "$\\displaystyle - \\frac{- K a + a c_{1} - 2 c_{1}}{2 c_{1}} - \\frac{\\sqrt{K^{2} a^{2} - 2 K a^{2} c_{1} + 4 K c_{1} + a^{2} c_{1}^{2}}}{2 c_{1}}$"
      ],
      "text/plain": [
       "-(-K*a + a*c1 - 2*c1)/(2*c1) - sqrt(K**2*a**2 - 2*K*a**2*c1 + 4*K*c1 + a**2*c1**2)/(2*c1)"
      ]
     },
     "execution_count": 896,
     "metadata": {},
     "output_type": "execute_result"
    }
   ],
   "source": [
    "sols[0][0]"
   ]
  },
  {
   "cell_type": "code",
   "execution_count": 880,
   "metadata": {},
   "outputs": [
    {
     "ename": "KeyboardInterrupt",
     "evalue": "",
     "output_type": "error",
     "traceback": [
      "\u001b[0;31m---------------------------------------------------------------------------\u001b[0m",
      "\u001b[0;31mKeyboardInterrupt\u001b[0m                         Traceback (most recent call last)",
      "\u001b[0;32m<ipython-input-880-a589b8e52979>\u001b[0m in \u001b[0;36m<module>\u001b[0;34m\u001b[0m\n\u001b[1;32m     13\u001b[0m \u001b[0;34m\u001b[0m\u001b[0m\n\u001b[1;32m     14\u001b[0m \u001b[0;31m# Solve the system\u001b[0m\u001b[0;34m\u001b[0m\u001b[0;34m\u001b[0m\u001b[0;34m\u001b[0m\u001b[0m\n\u001b[0;32m---> 15\u001b[0;31m \u001b[0msolutions\u001b[0m \u001b[0;34m=\u001b[0m \u001b[0msolve\u001b[0m\u001b[0;34m(\u001b[0m\u001b[0;34m[\u001b[0m\u001b[0meq1\u001b[0m\u001b[0;34m,\u001b[0m \u001b[0meq2\u001b[0m\u001b[0;34m,\u001b[0m \u001b[0meq3\u001b[0m\u001b[0;34m]\u001b[0m\u001b[0;34m,\u001b[0m \u001b[0;34m(\u001b[0m\u001b[0mx1\u001b[0m\u001b[0;34m,\u001b[0m \u001b[0mx2\u001b[0m\u001b[0;34m,\u001b[0m \u001b[0mK\u001b[0m\u001b[0;34m)\u001b[0m\u001b[0;34m,\u001b[0m \u001b[0mdict\u001b[0m\u001b[0;34m=\u001b[0m\u001b[0;32mTrue\u001b[0m\u001b[0;34m)\u001b[0m\u001b[0;34m\u001b[0m\u001b[0;34m\u001b[0m\u001b[0m\n\u001b[0m",
      "\u001b[0;32m/usr/local/lib/python3.8/site-packages/sympy/solvers/solvers.py\u001b[0m in \u001b[0;36msolve\u001b[0;34m(f, *symbols, **flags)\u001b[0m\n\u001b[1;32m   1145\u001b[0m             \u001b[0msolution\u001b[0m \u001b[0;34m=\u001b[0m \u001b[0m_solve\u001b[0m\u001b[0;34m(\u001b[0m\u001b[0mf\u001b[0m\u001b[0;34m[\u001b[0m\u001b[0;36m0\u001b[0m\u001b[0;34m]\u001b[0m\u001b[0;34m,\u001b[0m \u001b[0;34m*\u001b[0m\u001b[0msymbols\u001b[0m\u001b[0;34m,\u001b[0m \u001b[0;34m**\u001b[0m\u001b[0mflags\u001b[0m\u001b[0;34m)\u001b[0m\u001b[0;34m\u001b[0m\u001b[0;34m\u001b[0m\u001b[0m\n\u001b[1;32m   1146\u001b[0m     \u001b[0;32melse\u001b[0m\u001b[0;34m:\u001b[0m\u001b[0;34m\u001b[0m\u001b[0;34m\u001b[0m\u001b[0m\n\u001b[0;32m-> 1147\u001b[0;31m         \u001b[0mlinear\u001b[0m\u001b[0;34m,\u001b[0m \u001b[0msolution\u001b[0m \u001b[0;34m=\u001b[0m \u001b[0m_solve_system\u001b[0m\u001b[0;34m(\u001b[0m\u001b[0mf\u001b[0m\u001b[0;34m,\u001b[0m \u001b[0msymbols\u001b[0m\u001b[0;34m,\u001b[0m \u001b[0;34m**\u001b[0m\u001b[0mflags\u001b[0m\u001b[0;34m)\u001b[0m\u001b[0;34m\u001b[0m\u001b[0;34m\u001b[0m\u001b[0m\n\u001b[0m\u001b[1;32m   1148\u001b[0m     \u001b[0;32massert\u001b[0m \u001b[0mtype\u001b[0m\u001b[0;34m(\u001b[0m\u001b[0msolution\u001b[0m\u001b[0;34m)\u001b[0m \u001b[0;32mis\u001b[0m \u001b[0mlist\u001b[0m\u001b[0;34m\u001b[0m\u001b[0;34m\u001b[0m\u001b[0m\n\u001b[1;32m   1149\u001b[0m     \u001b[0;32massert\u001b[0m \u001b[0;32mnot\u001b[0m \u001b[0msolution\u001b[0m \u001b[0;32mor\u001b[0m \u001b[0mtype\u001b[0m\u001b[0;34m(\u001b[0m\u001b[0msolution\u001b[0m\u001b[0;34m[\u001b[0m\u001b[0;36m0\u001b[0m\u001b[0;34m]\u001b[0m\u001b[0;34m)\u001b[0m \u001b[0;32mis\u001b[0m \u001b[0mdict\u001b[0m\u001b[0;34m,\u001b[0m \u001b[0msolution\u001b[0m\u001b[0;34m\u001b[0m\u001b[0;34m\u001b[0m\u001b[0m\n",
      "\u001b[0;32m/usr/local/lib/python3.8/site-packages/sympy/solvers/solvers.py\u001b[0m in \u001b[0;36m_solve_system\u001b[0;34m(exprs, symbols, **flags)\u001b[0m\n\u001b[1;32m   1861\u001b[0m             \u001b[0;32melse\u001b[0m\u001b[0;34m:\u001b[0m\u001b[0;34m\u001b[0m\u001b[0;34m\u001b[0m\u001b[0m\n\u001b[1;32m   1862\u001b[0m                 \u001b[0;32mtry\u001b[0m\u001b[0;34m:\u001b[0m\u001b[0;34m\u001b[0m\u001b[0;34m\u001b[0m\u001b[0m\n\u001b[0;32m-> 1863\u001b[0;31m                     \u001b[0mresult\u001b[0m \u001b[0;34m=\u001b[0m \u001b[0msolve_poly_system\u001b[0m\u001b[0;34m(\u001b[0m\u001b[0mpolys\u001b[0m\u001b[0;34m,\u001b[0m \u001b[0;34m*\u001b[0m\u001b[0msymbols\u001b[0m\u001b[0;34m)\u001b[0m\u001b[0;34m\u001b[0m\u001b[0;34m\u001b[0m\u001b[0m\n\u001b[0m\u001b[1;32m   1864\u001b[0m                     \u001b[0;32mif\u001b[0m \u001b[0mresult\u001b[0m\u001b[0;34m:\u001b[0m\u001b[0;34m\u001b[0m\u001b[0;34m\u001b[0m\u001b[0m\n\u001b[1;32m   1865\u001b[0m                         \u001b[0msolved_syms\u001b[0m \u001b[0;34m=\u001b[0m \u001b[0msymbols\u001b[0m\u001b[0;34m\u001b[0m\u001b[0;34m\u001b[0m\u001b[0m\n",
      "\u001b[0;32m/usr/local/lib/python3.8/site-packages/sympy/solvers/polysys.py\u001b[0m in \u001b[0;36msolve_poly_system\u001b[0;34m(seq, strict, *gens, **args)\u001b[0m\n\u001b[1;32m     76\u001b[0m                 \u001b[0;32mpass\u001b[0m\u001b[0;34m\u001b[0m\u001b[0;34m\u001b[0m\u001b[0m\n\u001b[1;32m     77\u001b[0m \u001b[0;34m\u001b[0m\u001b[0m\n\u001b[0;32m---> 78\u001b[0;31m     \u001b[0;32mreturn\u001b[0m \u001b[0msolve_generic\u001b[0m\u001b[0;34m(\u001b[0m\u001b[0mpolys\u001b[0m\u001b[0;34m,\u001b[0m \u001b[0mopt\u001b[0m\u001b[0;34m,\u001b[0m \u001b[0mstrict\u001b[0m\u001b[0;34m=\u001b[0m\u001b[0mstrict\u001b[0m\u001b[0;34m)\u001b[0m\u001b[0;34m\u001b[0m\u001b[0;34m\u001b[0m\u001b[0m\n\u001b[0m\u001b[1;32m     79\u001b[0m \u001b[0;34m\u001b[0m\u001b[0m\n\u001b[1;32m     80\u001b[0m \u001b[0;34m\u001b[0m\u001b[0m\n",
      "\u001b[0;32m/usr/local/lib/python3.8/site-packages/sympy/solvers/polysys.py\u001b[0m in \u001b[0;36msolve_generic\u001b[0;34m(polys, opt, strict)\u001b[0m\n\u001b[1;32m    331\u001b[0m \u001b[0;34m\u001b[0m\u001b[0m\n\u001b[1;32m    332\u001b[0m     \u001b[0;32mtry\u001b[0m\u001b[0;34m:\u001b[0m\u001b[0;34m\u001b[0m\u001b[0;34m\u001b[0m\u001b[0m\n\u001b[0;32m--> 333\u001b[0;31m         \u001b[0mresult\u001b[0m \u001b[0;34m=\u001b[0m \u001b[0m_solve_reduced_system\u001b[0m\u001b[0;34m(\u001b[0m\u001b[0mpolys\u001b[0m\u001b[0;34m,\u001b[0m \u001b[0mopt\u001b[0m\u001b[0;34m.\u001b[0m\u001b[0mgens\u001b[0m\u001b[0;34m,\u001b[0m \u001b[0mentry\u001b[0m\u001b[0;34m=\u001b[0m\u001b[0;32mTrue\u001b[0m\u001b[0;34m)\u001b[0m\u001b[0;34m\u001b[0m\u001b[0;34m\u001b[0m\u001b[0m\n\u001b[0m\u001b[1;32m    334\u001b[0m     \u001b[0;32mexcept\u001b[0m \u001b[0mCoercionFailed\u001b[0m\u001b[0;34m:\u001b[0m\u001b[0;34m\u001b[0m\u001b[0;34m\u001b[0m\u001b[0m\n\u001b[1;32m    335\u001b[0m         \u001b[0;32mraise\u001b[0m \u001b[0mNotImplementedError\u001b[0m\u001b[0;34m\u001b[0m\u001b[0;34m\u001b[0m\u001b[0m\n",
      "\u001b[0;32m/usr/local/lib/python3.8/site-packages/sympy/solvers/polysys.py\u001b[0m in \u001b[0;36m_solve_reduced_system\u001b[0;34m(system, gens, entry)\u001b[0m\n\u001b[1;32m    320\u001b[0m                     \u001b[0mnew_system\u001b[0m\u001b[0;34m.\u001b[0m\u001b[0mappend\u001b[0m\u001b[0;34m(\u001b[0m\u001b[0meq\u001b[0m\u001b[0;34m)\u001b[0m\u001b[0;34m\u001b[0m\u001b[0;34m\u001b[0m\u001b[0m\n\u001b[1;32m    321\u001b[0m \u001b[0;34m\u001b[0m\u001b[0m\n\u001b[0;32m--> 322\u001b[0;31m             \u001b[0;32mfor\u001b[0m \u001b[0msolution\u001b[0m \u001b[0;32min\u001b[0m \u001b[0m_solve_reduced_system\u001b[0m\u001b[0;34m(\u001b[0m\u001b[0mnew_system\u001b[0m\u001b[0;34m,\u001b[0m \u001b[0mnew_gens\u001b[0m\u001b[0;34m)\u001b[0m\u001b[0;34m:\u001b[0m\u001b[0;34m\u001b[0m\u001b[0;34m\u001b[0m\u001b[0m\n\u001b[0m\u001b[1;32m    323\u001b[0m                 \u001b[0msolutions\u001b[0m\u001b[0;34m.\u001b[0m\u001b[0mappend\u001b[0m\u001b[0;34m(\u001b[0m\u001b[0msolution\u001b[0m \u001b[0;34m+\u001b[0m \u001b[0;34m(\u001b[0m\u001b[0mzero\u001b[0m\u001b[0;34m,\u001b[0m\u001b[0;34m)\u001b[0m\u001b[0;34m)\u001b[0m\u001b[0;34m\u001b[0m\u001b[0;34m\u001b[0m\u001b[0m\n\u001b[1;32m    324\u001b[0m \u001b[0;34m\u001b[0m\u001b[0m\n",
      "\u001b[0;32m/usr/local/lib/python3.8/site-packages/sympy/solvers/polysys.py\u001b[0m in \u001b[0;36m_solve_reduced_system\u001b[0;34m(system, gens, entry)\u001b[0m\n\u001b[1;32m    271\u001b[0m             \u001b[0;32mreturn\u001b[0m \u001b[0;34m[\u001b[0m\u001b[0;34m(\u001b[0m\u001b[0mzero\u001b[0m\u001b[0;34m,\u001b[0m\u001b[0;34m)\u001b[0m \u001b[0;32mfor\u001b[0m \u001b[0mzero\u001b[0m \u001b[0;32min\u001b[0m \u001b[0mzeros\u001b[0m\u001b[0;34m]\u001b[0m\u001b[0;34m\u001b[0m\u001b[0;34m\u001b[0m\u001b[0m\n\u001b[1;32m    272\u001b[0m \u001b[0;34m\u001b[0m\u001b[0m\n\u001b[0;32m--> 273\u001b[0;31m         \u001b[0mbasis\u001b[0m \u001b[0;34m=\u001b[0m \u001b[0mgroebner\u001b[0m\u001b[0;34m(\u001b[0m\u001b[0msystem\u001b[0m\u001b[0;34m,\u001b[0m \u001b[0mgens\u001b[0m\u001b[0;34m,\u001b[0m \u001b[0mpolys\u001b[0m\u001b[0;34m=\u001b[0m\u001b[0;32mTrue\u001b[0m\u001b[0;34m)\u001b[0m\u001b[0;34m\u001b[0m\u001b[0;34m\u001b[0m\u001b[0m\n\u001b[0m\u001b[1;32m    274\u001b[0m \u001b[0;34m\u001b[0m\u001b[0m\n\u001b[1;32m    275\u001b[0m         \u001b[0;32mif\u001b[0m \u001b[0mlen\u001b[0m\u001b[0;34m(\u001b[0m\u001b[0mbasis\u001b[0m\u001b[0;34m)\u001b[0m \u001b[0;34m==\u001b[0m \u001b[0;36m1\u001b[0m \u001b[0;32mand\u001b[0m \u001b[0mbasis\u001b[0m\u001b[0;34m[\u001b[0m\u001b[0;36m0\u001b[0m\u001b[0;34m]\u001b[0m\u001b[0;34m.\u001b[0m\u001b[0mis_ground\u001b[0m\u001b[0;34m:\u001b[0m\u001b[0;34m\u001b[0m\u001b[0;34m\u001b[0m\u001b[0m\n",
      "\u001b[0;32m/usr/local/lib/python3.8/site-packages/sympy/polys/polytools.py\u001b[0m in \u001b[0;36mgroebner\u001b[0;34m(F, *gens, **args)\u001b[0m\n\u001b[1;32m   7013\u001b[0m \u001b[0;34m\u001b[0m\u001b[0m\n\u001b[1;32m   7014\u001b[0m     \"\"\"\n\u001b[0;32m-> 7015\u001b[0;31m     \u001b[0;32mreturn\u001b[0m \u001b[0mGroebnerBasis\u001b[0m\u001b[0;34m(\u001b[0m\u001b[0mF\u001b[0m\u001b[0;34m,\u001b[0m \u001b[0;34m*\u001b[0m\u001b[0mgens\u001b[0m\u001b[0;34m,\u001b[0m \u001b[0;34m**\u001b[0m\u001b[0margs\u001b[0m\u001b[0;34m)\u001b[0m\u001b[0;34m\u001b[0m\u001b[0;34m\u001b[0m\u001b[0m\n\u001b[0m\u001b[1;32m   7016\u001b[0m \u001b[0;34m\u001b[0m\u001b[0m\n\u001b[1;32m   7017\u001b[0m \u001b[0;34m\u001b[0m\u001b[0m\n",
      "\u001b[0;32m/usr/local/lib/python3.8/site-packages/sympy/polys/polytools.py\u001b[0m in \u001b[0;36m__new__\u001b[0;34m(cls, F, *gens, **args)\u001b[0m\n\u001b[1;32m   7052\u001b[0m         \u001b[0mpolys\u001b[0m \u001b[0;34m=\u001b[0m \u001b[0;34m[\u001b[0m\u001b[0mring\u001b[0m\u001b[0;34m.\u001b[0m\u001b[0mfrom_dict\u001b[0m\u001b[0;34m(\u001b[0m\u001b[0mpoly\u001b[0m\u001b[0;34m.\u001b[0m\u001b[0mrep\u001b[0m\u001b[0;34m.\u001b[0m\u001b[0mto_dict\u001b[0m\u001b[0;34m(\u001b[0m\u001b[0;34m)\u001b[0m\u001b[0;34m)\u001b[0m \u001b[0;32mfor\u001b[0m \u001b[0mpoly\u001b[0m \u001b[0;32min\u001b[0m \u001b[0mpolys\u001b[0m \u001b[0;32mif\u001b[0m \u001b[0mpoly\u001b[0m\u001b[0;34m]\u001b[0m\u001b[0;34m\u001b[0m\u001b[0;34m\u001b[0m\u001b[0m\n\u001b[1;32m   7053\u001b[0m \u001b[0;34m\u001b[0m\u001b[0m\n\u001b[0;32m-> 7054\u001b[0;31m         \u001b[0mG\u001b[0m \u001b[0;34m=\u001b[0m \u001b[0m_groebner\u001b[0m\u001b[0;34m(\u001b[0m\u001b[0mpolys\u001b[0m\u001b[0;34m,\u001b[0m \u001b[0mring\u001b[0m\u001b[0;34m,\u001b[0m \u001b[0mmethod\u001b[0m\u001b[0;34m=\u001b[0m\u001b[0mopt\u001b[0m\u001b[0;34m.\u001b[0m\u001b[0mmethod\u001b[0m\u001b[0;34m)\u001b[0m\u001b[0;34m\u001b[0m\u001b[0;34m\u001b[0m\u001b[0m\n\u001b[0m\u001b[1;32m   7055\u001b[0m         \u001b[0mG\u001b[0m \u001b[0;34m=\u001b[0m \u001b[0;34m[\u001b[0m\u001b[0mPoly\u001b[0m\u001b[0;34m.\u001b[0m\u001b[0m_from_dict\u001b[0m\u001b[0;34m(\u001b[0m\u001b[0mg\u001b[0m\u001b[0;34m,\u001b[0m \u001b[0mopt\u001b[0m\u001b[0;34m)\u001b[0m \u001b[0;32mfor\u001b[0m \u001b[0mg\u001b[0m \u001b[0;32min\u001b[0m \u001b[0mG\u001b[0m\u001b[0;34m]\u001b[0m\u001b[0;34m\u001b[0m\u001b[0;34m\u001b[0m\u001b[0m\n\u001b[1;32m   7056\u001b[0m \u001b[0;34m\u001b[0m\u001b[0m\n",
      "\u001b[0;32m/usr/local/lib/python3.8/site-packages/sympy/polys/groebnertools.py\u001b[0m in \u001b[0;36mgroebner\u001b[0;34m(seq, ring, method)\u001b[0m\n\u001b[1;32m     41\u001b[0m             \u001b[0mseq\u001b[0m \u001b[0;34m=\u001b[0m \u001b[0;34m[\u001b[0m \u001b[0ms\u001b[0m\u001b[0;34m.\u001b[0m\u001b[0mset_ring\u001b[0m\u001b[0;34m(\u001b[0m\u001b[0mring\u001b[0m\u001b[0;34m)\u001b[0m \u001b[0;32mfor\u001b[0m \u001b[0ms\u001b[0m \u001b[0;32min\u001b[0m \u001b[0mseq\u001b[0m \u001b[0;34m]\u001b[0m\u001b[0;34m\u001b[0m\u001b[0;34m\u001b[0m\u001b[0m\n\u001b[1;32m     42\u001b[0m \u001b[0;34m\u001b[0m\u001b[0m\n\u001b[0;32m---> 43\u001b[0;31m     \u001b[0mG\u001b[0m \u001b[0;34m=\u001b[0m \u001b[0m_groebner\u001b[0m\u001b[0;34m(\u001b[0m\u001b[0mseq\u001b[0m\u001b[0;34m,\u001b[0m \u001b[0mring\u001b[0m\u001b[0;34m)\u001b[0m\u001b[0;34m\u001b[0m\u001b[0;34m\u001b[0m\u001b[0m\n\u001b[0m\u001b[1;32m     44\u001b[0m \u001b[0;34m\u001b[0m\u001b[0m\n\u001b[1;32m     45\u001b[0m     \u001b[0;32mif\u001b[0m \u001b[0morig\u001b[0m \u001b[0;32mis\u001b[0m \u001b[0;32mnot\u001b[0m \u001b[0;32mNone\u001b[0m\u001b[0;34m:\u001b[0m\u001b[0;34m\u001b[0m\u001b[0;34m\u001b[0m\u001b[0m\n",
      "\u001b[0;32m/usr/local/lib/python3.8/site-packages/sympy/polys/groebnertools.py\u001b[0m in \u001b[0;36m_buchberger\u001b[0;34m(f, ring)\u001b[0m\n\u001b[1;32m    202\u001b[0m \u001b[0;34m\u001b[0m\u001b[0m\n\u001b[1;32m    203\u001b[0m             \u001b[0;32mif\u001b[0m \u001b[0mr\u001b[0m\u001b[0;34m:\u001b[0m\u001b[0;34m\u001b[0m\u001b[0;34m\u001b[0m\u001b[0m\n\u001b[0;32m--> 204\u001b[0;31m                 \u001b[0mf1\u001b[0m\u001b[0;34m.\u001b[0m\u001b[0mappend\u001b[0m\u001b[0;34m(\u001b[0m\u001b[0mr\u001b[0m\u001b[0;34m.\u001b[0m\u001b[0mmonic\u001b[0m\u001b[0;34m(\u001b[0m\u001b[0;34m)\u001b[0m\u001b[0;34m)\u001b[0m\u001b[0;34m\u001b[0m\u001b[0;34m\u001b[0m\u001b[0m\n\u001b[0m\u001b[1;32m    205\u001b[0m \u001b[0;34m\u001b[0m\u001b[0m\n\u001b[1;32m    206\u001b[0m         \u001b[0;32mif\u001b[0m \u001b[0mf\u001b[0m \u001b[0;34m==\u001b[0m \u001b[0mf1\u001b[0m\u001b[0;34m:\u001b[0m\u001b[0;34m\u001b[0m\u001b[0;34m\u001b[0m\u001b[0m\n",
      "\u001b[0;32m/usr/local/lib/python3.8/site-packages/sympy/polys/rings.py\u001b[0m in \u001b[0;36mmonic\u001b[0;34m(f)\u001b[0m\n\u001b[1;32m   1975\u001b[0m             \u001b[0;32mreturn\u001b[0m \u001b[0mf\u001b[0m\u001b[0;34m\u001b[0m\u001b[0;34m\u001b[0m\u001b[0m\n\u001b[1;32m   1976\u001b[0m         \u001b[0;32melse\u001b[0m\u001b[0;34m:\u001b[0m\u001b[0;34m\u001b[0m\u001b[0;34m\u001b[0m\u001b[0m\n\u001b[0;32m-> 1977\u001b[0;31m             \u001b[0;32mreturn\u001b[0m \u001b[0mf\u001b[0m\u001b[0;34m.\u001b[0m\u001b[0mquo_ground\u001b[0m\u001b[0;34m(\u001b[0m\u001b[0mf\u001b[0m\u001b[0;34m.\u001b[0m\u001b[0mLC\u001b[0m\u001b[0;34m)\u001b[0m\u001b[0;34m\u001b[0m\u001b[0;34m\u001b[0m\u001b[0m\n\u001b[0m\u001b[1;32m   1978\u001b[0m \u001b[0;34m\u001b[0m\u001b[0m\n\u001b[1;32m   1979\u001b[0m     \u001b[0;32mdef\u001b[0m \u001b[0mmul_ground\u001b[0m\u001b[0;34m(\u001b[0m\u001b[0mf\u001b[0m\u001b[0;34m,\u001b[0m \u001b[0mx\u001b[0m\u001b[0;34m)\u001b[0m\u001b[0;34m:\u001b[0m\u001b[0;34m\u001b[0m\u001b[0;34m\u001b[0m\u001b[0m\n",
      "\u001b[0;32m/usr/local/lib/python3.8/site-packages/sympy/polys/rings.py\u001b[0m in \u001b[0;36mquo_ground\u001b[0;34m(f, x)\u001b[0m\n\u001b[1;32m   2011\u001b[0m         \u001b[0;32mif\u001b[0m \u001b[0mdomain\u001b[0m\u001b[0;34m.\u001b[0m\u001b[0mis_Field\u001b[0m\u001b[0;34m:\u001b[0m\u001b[0;34m\u001b[0m\u001b[0;34m\u001b[0m\u001b[0m\n\u001b[1;32m   2012\u001b[0m             \u001b[0mquo\u001b[0m \u001b[0;34m=\u001b[0m \u001b[0mdomain\u001b[0m\u001b[0;34m.\u001b[0m\u001b[0mquo\u001b[0m\u001b[0;34m\u001b[0m\u001b[0;34m\u001b[0m\u001b[0m\n\u001b[0;32m-> 2013\u001b[0;31m             \u001b[0mterms\u001b[0m \u001b[0;34m=\u001b[0m \u001b[0;34m[\u001b[0m \u001b[0;34m(\u001b[0m\u001b[0mmonom\u001b[0m\u001b[0;34m,\u001b[0m \u001b[0mquo\u001b[0m\u001b[0;34m(\u001b[0m\u001b[0mcoeff\u001b[0m\u001b[0;34m,\u001b[0m \u001b[0mx\u001b[0m\u001b[0;34m)\u001b[0m\u001b[0;34m)\u001b[0m \u001b[0;32mfor\u001b[0m \u001b[0mmonom\u001b[0m\u001b[0;34m,\u001b[0m \u001b[0mcoeff\u001b[0m \u001b[0;32min\u001b[0m \u001b[0mf\u001b[0m\u001b[0;34m.\u001b[0m\u001b[0miterterms\u001b[0m\u001b[0;34m(\u001b[0m\u001b[0;34m)\u001b[0m \u001b[0;34m]\u001b[0m\u001b[0;34m\u001b[0m\u001b[0;34m\u001b[0m\u001b[0m\n\u001b[0m\u001b[1;32m   2014\u001b[0m         \u001b[0;32melse\u001b[0m\u001b[0;34m:\u001b[0m\u001b[0;34m\u001b[0m\u001b[0;34m\u001b[0m\u001b[0m\n\u001b[1;32m   2015\u001b[0m             \u001b[0mterms\u001b[0m \u001b[0;34m=\u001b[0m \u001b[0;34m[\u001b[0m \u001b[0;34m(\u001b[0m\u001b[0mmonom\u001b[0m\u001b[0;34m,\u001b[0m \u001b[0mcoeff\u001b[0m \u001b[0;34m//\u001b[0m \u001b[0mx\u001b[0m\u001b[0;34m)\u001b[0m \u001b[0;32mfor\u001b[0m \u001b[0mmonom\u001b[0m\u001b[0;34m,\u001b[0m \u001b[0mcoeff\u001b[0m \u001b[0;32min\u001b[0m \u001b[0mf\u001b[0m\u001b[0;34m.\u001b[0m\u001b[0miterterms\u001b[0m\u001b[0;34m(\u001b[0m\u001b[0;34m)\u001b[0m \u001b[0;32mif\u001b[0m \u001b[0;32mnot\u001b[0m \u001b[0;34m(\u001b[0m\u001b[0mcoeff\u001b[0m \u001b[0;34m%\u001b[0m \u001b[0mx\u001b[0m\u001b[0;34m)\u001b[0m \u001b[0;34m]\u001b[0m\u001b[0;34m\u001b[0m\u001b[0;34m\u001b[0m\u001b[0m\n",
      "\u001b[0;32m/usr/local/lib/python3.8/site-packages/sympy/polys/rings.py\u001b[0m in \u001b[0;36m<listcomp>\u001b[0;34m(.0)\u001b[0m\n\u001b[1;32m   2011\u001b[0m         \u001b[0;32mif\u001b[0m \u001b[0mdomain\u001b[0m\u001b[0;34m.\u001b[0m\u001b[0mis_Field\u001b[0m\u001b[0;34m:\u001b[0m\u001b[0;34m\u001b[0m\u001b[0;34m\u001b[0m\u001b[0m\n\u001b[1;32m   2012\u001b[0m             \u001b[0mquo\u001b[0m \u001b[0;34m=\u001b[0m \u001b[0mdomain\u001b[0m\u001b[0;34m.\u001b[0m\u001b[0mquo\u001b[0m\u001b[0;34m\u001b[0m\u001b[0;34m\u001b[0m\u001b[0m\n\u001b[0;32m-> 2013\u001b[0;31m             \u001b[0mterms\u001b[0m \u001b[0;34m=\u001b[0m \u001b[0;34m[\u001b[0m \u001b[0;34m(\u001b[0m\u001b[0mmonom\u001b[0m\u001b[0;34m,\u001b[0m \u001b[0mquo\u001b[0m\u001b[0;34m(\u001b[0m\u001b[0mcoeff\u001b[0m\u001b[0;34m,\u001b[0m \u001b[0mx\u001b[0m\u001b[0;34m)\u001b[0m\u001b[0;34m)\u001b[0m \u001b[0;32mfor\u001b[0m \u001b[0mmonom\u001b[0m\u001b[0;34m,\u001b[0m \u001b[0mcoeff\u001b[0m \u001b[0;32min\u001b[0m \u001b[0mf\u001b[0m\u001b[0;34m.\u001b[0m\u001b[0miterterms\u001b[0m\u001b[0;34m(\u001b[0m\u001b[0;34m)\u001b[0m \u001b[0;34m]\u001b[0m\u001b[0;34m\u001b[0m\u001b[0;34m\u001b[0m\u001b[0m\n\u001b[0m\u001b[1;32m   2014\u001b[0m         \u001b[0;32melse\u001b[0m\u001b[0;34m:\u001b[0m\u001b[0;34m\u001b[0m\u001b[0;34m\u001b[0m\u001b[0m\n\u001b[1;32m   2015\u001b[0m             \u001b[0mterms\u001b[0m \u001b[0;34m=\u001b[0m \u001b[0;34m[\u001b[0m \u001b[0;34m(\u001b[0m\u001b[0mmonom\u001b[0m\u001b[0;34m,\u001b[0m \u001b[0mcoeff\u001b[0m \u001b[0;34m//\u001b[0m \u001b[0mx\u001b[0m\u001b[0;34m)\u001b[0m \u001b[0;32mfor\u001b[0m \u001b[0mmonom\u001b[0m\u001b[0;34m,\u001b[0m \u001b[0mcoeff\u001b[0m \u001b[0;32min\u001b[0m \u001b[0mf\u001b[0m\u001b[0;34m.\u001b[0m\u001b[0miterterms\u001b[0m\u001b[0;34m(\u001b[0m\u001b[0;34m)\u001b[0m \u001b[0;32mif\u001b[0m \u001b[0;32mnot\u001b[0m \u001b[0;34m(\u001b[0m\u001b[0mcoeff\u001b[0m \u001b[0;34m%\u001b[0m \u001b[0mx\u001b[0m\u001b[0;34m)\u001b[0m \u001b[0;34m]\u001b[0m\u001b[0;34m\u001b[0m\u001b[0;34m\u001b[0m\u001b[0m\n",
      "\u001b[0;32m/usr/local/lib/python3.8/site-packages/sympy/polys/domains/field.py\u001b[0m in \u001b[0;36mquo\u001b[0;34m(self, a, b)\u001b[0m\n\u001b[1;32m     27\u001b[0m     \u001b[0;32mdef\u001b[0m \u001b[0mquo\u001b[0m\u001b[0;34m(\u001b[0m\u001b[0mself\u001b[0m\u001b[0;34m,\u001b[0m \u001b[0ma\u001b[0m\u001b[0;34m,\u001b[0m \u001b[0mb\u001b[0m\u001b[0;34m)\u001b[0m\u001b[0;34m:\u001b[0m\u001b[0;34m\u001b[0m\u001b[0;34m\u001b[0m\u001b[0m\n\u001b[1;32m     28\u001b[0m         \u001b[0;34m\"\"\"Quotient of ``a`` and ``b``, implies ``__truediv__``. \"\"\"\u001b[0m\u001b[0;34m\u001b[0m\u001b[0;34m\u001b[0m\u001b[0m\n\u001b[0;32m---> 29\u001b[0;31m         \u001b[0;32mreturn\u001b[0m \u001b[0ma\u001b[0m \u001b[0;34m/\u001b[0m \u001b[0mb\u001b[0m\u001b[0;34m\u001b[0m\u001b[0;34m\u001b[0m\u001b[0m\n\u001b[0m\u001b[1;32m     30\u001b[0m \u001b[0;34m\u001b[0m\u001b[0m\n\u001b[1;32m     31\u001b[0m     \u001b[0;32mdef\u001b[0m \u001b[0mrem\u001b[0m\u001b[0;34m(\u001b[0m\u001b[0mself\u001b[0m\u001b[0;34m,\u001b[0m \u001b[0ma\u001b[0m\u001b[0;34m,\u001b[0m \u001b[0mb\u001b[0m\u001b[0;34m)\u001b[0m\u001b[0;34m:\u001b[0m\u001b[0;34m\u001b[0m\u001b[0;34m\u001b[0m\u001b[0m\n",
      "\u001b[0;32m/usr/local/lib/python3.8/site-packages/sympy/polys/domains/expressiondomain.py\u001b[0m in \u001b[0;36m__truediv__\u001b[0;34m(f, g)\u001b[0m\n\u001b[1;32m    120\u001b[0m \u001b[0;34m\u001b[0m\u001b[0m\n\u001b[1;32m    121\u001b[0m             \u001b[0;32mif\u001b[0m \u001b[0mg\u001b[0m \u001b[0;32mis\u001b[0m \u001b[0;32mnot\u001b[0m \u001b[0;32mNone\u001b[0m\u001b[0;34m:\u001b[0m\u001b[0;34m\u001b[0m\u001b[0;34m\u001b[0m\u001b[0m\n\u001b[0;32m--> 122\u001b[0;31m                 \u001b[0;32mreturn\u001b[0m \u001b[0mf\u001b[0m\u001b[0;34m.\u001b[0m\u001b[0msimplify\u001b[0m\u001b[0;34m(\u001b[0m\u001b[0mf\u001b[0m\u001b[0;34m.\u001b[0m\u001b[0mex\u001b[0m\u001b[0;34m/\u001b[0m\u001b[0mg\u001b[0m\u001b[0;34m.\u001b[0m\u001b[0mex\u001b[0m\u001b[0;34m)\u001b[0m\u001b[0;34m\u001b[0m\u001b[0;34m\u001b[0m\u001b[0m\n\u001b[0m\u001b[1;32m    123\u001b[0m             \u001b[0;32melse\u001b[0m\u001b[0;34m:\u001b[0m\u001b[0;34m\u001b[0m\u001b[0;34m\u001b[0m\u001b[0m\n\u001b[1;32m    124\u001b[0m                 \u001b[0;32mreturn\u001b[0m \u001b[0mNotImplemented\u001b[0m\u001b[0;34m\u001b[0m\u001b[0;34m\u001b[0m\u001b[0m\n",
      "\u001b[0;32m/usr/local/lib/python3.8/site-packages/sympy/polys/domains/expressiondomain.py\u001b[0m in \u001b[0;36msimplify\u001b[0;34m(f, ex)\u001b[0m\n\u001b[1;32m     48\u001b[0m \u001b[0;34m\u001b[0m\u001b[0m\n\u001b[1;32m     49\u001b[0m         \u001b[0;32mdef\u001b[0m \u001b[0msimplify\u001b[0m\u001b[0;34m(\u001b[0m\u001b[0mf\u001b[0m\u001b[0;34m,\u001b[0m \u001b[0mex\u001b[0m\u001b[0;34m)\u001b[0m\u001b[0;34m:\u001b[0m\u001b[0;34m\u001b[0m\u001b[0;34m\u001b[0m\u001b[0m\n\u001b[0;32m---> 50\u001b[0;31m             \u001b[0;32mreturn\u001b[0m \u001b[0mf\u001b[0m\u001b[0;34m.\u001b[0m\u001b[0m__class__\u001b[0m\u001b[0;34m(\u001b[0m\u001b[0mex\u001b[0m\u001b[0;34m.\u001b[0m\u001b[0mcancel\u001b[0m\u001b[0;34m(\u001b[0m\u001b[0;34m)\u001b[0m\u001b[0;34m.\u001b[0m\u001b[0mexpand\u001b[0m\u001b[0;34m(\u001b[0m\u001b[0;34m**\u001b[0m\u001b[0meflags\u001b[0m\u001b[0;34m)\u001b[0m\u001b[0;34m)\u001b[0m\u001b[0;34m\u001b[0m\u001b[0;34m\u001b[0m\u001b[0m\n\u001b[0m\u001b[1;32m     51\u001b[0m \u001b[0;34m\u001b[0m\u001b[0m\n\u001b[1;32m     52\u001b[0m         \u001b[0;32mdef\u001b[0m \u001b[0m__abs__\u001b[0m\u001b[0;34m(\u001b[0m\u001b[0mf\u001b[0m\u001b[0;34m)\u001b[0m\u001b[0;34m:\u001b[0m\u001b[0;34m\u001b[0m\u001b[0;34m\u001b[0m\u001b[0m\n",
      "\u001b[0;32m/usr/local/lib/python3.8/site-packages/sympy/core/expr.py\u001b[0m in \u001b[0;36mcancel\u001b[0;34m(self, *gens, **args)\u001b[0m\n\u001b[1;32m   3789\u001b[0m         \u001b[0;34m\"\"\"See the cancel function in sympy.polys\"\"\"\u001b[0m\u001b[0;34m\u001b[0m\u001b[0;34m\u001b[0m\u001b[0m\n\u001b[1;32m   3790\u001b[0m         \u001b[0;32mfrom\u001b[0m \u001b[0msympy\u001b[0m\u001b[0;34m.\u001b[0m\u001b[0mpolys\u001b[0m\u001b[0;34m.\u001b[0m\u001b[0mpolytools\u001b[0m \u001b[0;32mimport\u001b[0m \u001b[0mcancel\u001b[0m\u001b[0;34m\u001b[0m\u001b[0;34m\u001b[0m\u001b[0m\n\u001b[0;32m-> 3791\u001b[0;31m         \u001b[0;32mreturn\u001b[0m \u001b[0mcancel\u001b[0m\u001b[0;34m(\u001b[0m\u001b[0mself\u001b[0m\u001b[0;34m,\u001b[0m \u001b[0;34m*\u001b[0m\u001b[0mgens\u001b[0m\u001b[0;34m,\u001b[0m \u001b[0;34m**\u001b[0m\u001b[0margs\u001b[0m\u001b[0;34m)\u001b[0m\u001b[0;34m\u001b[0m\u001b[0;34m\u001b[0m\u001b[0m\n\u001b[0m\u001b[1;32m   3792\u001b[0m \u001b[0;34m\u001b[0m\u001b[0m\n\u001b[1;32m   3793\u001b[0m     \u001b[0;32mdef\u001b[0m \u001b[0minvert\u001b[0m\u001b[0;34m(\u001b[0m\u001b[0mself\u001b[0m\u001b[0;34m,\u001b[0m \u001b[0mg\u001b[0m\u001b[0;34m,\u001b[0m \u001b[0;34m*\u001b[0m\u001b[0mgens\u001b[0m\u001b[0;34m,\u001b[0m \u001b[0;34m**\u001b[0m\u001b[0margs\u001b[0m\u001b[0;34m)\u001b[0m\u001b[0;34m:\u001b[0m\u001b[0;34m\u001b[0m\u001b[0;34m\u001b[0m\u001b[0m\n",
      "\u001b[0;32m/usr/local/lib/python3.8/site-packages/sympy/polys/polytools.py\u001b[0m in \u001b[0;36mcancel\u001b[0;34m(f, _signsimp, *gens, **args)\u001b[0m\n\u001b[1;32m   6857\u001b[0m         \u001b[0;32mif\u001b[0m \u001b[0mf\u001b[0m\u001b[0;34m.\u001b[0m\u001b[0mhas\u001b[0m\u001b[0;34m(\u001b[0m\u001b[0mPiecewise\u001b[0m\u001b[0;34m)\u001b[0m\u001b[0;34m:\u001b[0m\u001b[0;34m\u001b[0m\u001b[0;34m\u001b[0m\u001b[0m\n\u001b[1;32m   6858\u001b[0m             \u001b[0;32mraise\u001b[0m \u001b[0mPolynomialError\u001b[0m\u001b[0;34m(\u001b[0m\u001b[0;34m)\u001b[0m\u001b[0;34m\u001b[0m\u001b[0;34m\u001b[0m\u001b[0m\n\u001b[0;32m-> 6859\u001b[0;31m         \u001b[0mR\u001b[0m\u001b[0;34m,\u001b[0m \u001b[0;34m(\u001b[0m\u001b[0mF\u001b[0m\u001b[0;34m,\u001b[0m \u001b[0mG\u001b[0m\u001b[0;34m)\u001b[0m \u001b[0;34m=\u001b[0m \u001b[0msring\u001b[0m\u001b[0;34m(\u001b[0m\u001b[0;34m(\u001b[0m\u001b[0mp\u001b[0m\u001b[0;34m,\u001b[0m \u001b[0mq\u001b[0m\u001b[0;34m)\u001b[0m\u001b[0;34m,\u001b[0m \u001b[0;34m*\u001b[0m\u001b[0mgens\u001b[0m\u001b[0;34m,\u001b[0m \u001b[0;34m**\u001b[0m\u001b[0margs\u001b[0m\u001b[0;34m)\u001b[0m\u001b[0;34m\u001b[0m\u001b[0;34m\u001b[0m\u001b[0m\n\u001b[0m\u001b[1;32m   6860\u001b[0m         \u001b[0;32mif\u001b[0m \u001b[0;32mnot\u001b[0m \u001b[0mR\u001b[0m\u001b[0;34m.\u001b[0m\u001b[0mngens\u001b[0m\u001b[0;34m:\u001b[0m\u001b[0;34m\u001b[0m\u001b[0;34m\u001b[0m\u001b[0m\n\u001b[1;32m   6861\u001b[0m             \u001b[0;32mif\u001b[0m \u001b[0;32mnot\u001b[0m \u001b[0misinstance\u001b[0m\u001b[0;34m(\u001b[0m\u001b[0mf\u001b[0m\u001b[0;34m,\u001b[0m \u001b[0;34m(\u001b[0m\u001b[0mtuple\u001b[0m\u001b[0;34m,\u001b[0m \u001b[0mTuple\u001b[0m\u001b[0;34m)\u001b[0m\u001b[0;34m)\u001b[0m\u001b[0;34m:\u001b[0m\u001b[0;34m\u001b[0m\u001b[0;34m\u001b[0m\u001b[0m\n",
      "\u001b[0;32m/usr/local/lib/python3.8/site-packages/sympy/polys/rings.py\u001b[0m in \u001b[0;36msring\u001b[0;34m(exprs, *symbols, **options)\u001b[0m\n\u001b[1;32m    161\u001b[0m \u001b[0;34m\u001b[0m\u001b[0m\n\u001b[1;32m    162\u001b[0m     \u001b[0;31m# TODO: rewrite this so that it doesn't use expand() (see poly()).\u001b[0m\u001b[0;34m\u001b[0m\u001b[0;34m\u001b[0m\u001b[0;34m\u001b[0m\u001b[0m\n\u001b[0;32m--> 163\u001b[0;31m     \u001b[0mreps\u001b[0m\u001b[0;34m,\u001b[0m \u001b[0mopt\u001b[0m \u001b[0;34m=\u001b[0m \u001b[0m_parallel_dict_from_expr\u001b[0m\u001b[0;34m(\u001b[0m\u001b[0mexprs\u001b[0m\u001b[0;34m,\u001b[0m \u001b[0mopt\u001b[0m\u001b[0;34m)\u001b[0m\u001b[0;34m\u001b[0m\u001b[0;34m\u001b[0m\u001b[0m\n\u001b[0m\u001b[1;32m    164\u001b[0m \u001b[0;34m\u001b[0m\u001b[0m\n\u001b[1;32m    165\u001b[0m     \u001b[0;32mif\u001b[0m \u001b[0mopt\u001b[0m\u001b[0;34m.\u001b[0m\u001b[0mdomain\u001b[0m \u001b[0;32mis\u001b[0m \u001b[0;32mNone\u001b[0m\u001b[0;34m:\u001b[0m\u001b[0;34m\u001b[0m\u001b[0;34m\u001b[0m\u001b[0m\n",
      "\u001b[0;32m/usr/local/lib/python3.8/site-packages/sympy/polys/polyutils.py\u001b[0m in \u001b[0;36m_parallel_dict_from_expr\u001b[0;34m(exprs, opt)\u001b[0m\n\u001b[1;32m    324\u001b[0m     \u001b[0;34m\"\"\"Transform expressions into a multinomial form. \"\"\"\u001b[0m\u001b[0;34m\u001b[0m\u001b[0;34m\u001b[0m\u001b[0m\n\u001b[1;32m    325\u001b[0m     \u001b[0;32mif\u001b[0m \u001b[0mopt\u001b[0m\u001b[0;34m.\u001b[0m\u001b[0mexpand\u001b[0m \u001b[0;32mis\u001b[0m \u001b[0;32mnot\u001b[0m \u001b[0;32mFalse\u001b[0m\u001b[0;34m:\u001b[0m\u001b[0;34m\u001b[0m\u001b[0;34m\u001b[0m\u001b[0m\n\u001b[0;32m--> 326\u001b[0;31m         \u001b[0mexprs\u001b[0m \u001b[0;34m=\u001b[0m \u001b[0;34m[\u001b[0m \u001b[0mexpr\u001b[0m\u001b[0;34m.\u001b[0m\u001b[0mexpand\u001b[0m\u001b[0;34m(\u001b[0m\u001b[0;34m)\u001b[0m \u001b[0;32mfor\u001b[0m \u001b[0mexpr\u001b[0m \u001b[0;32min\u001b[0m \u001b[0mexprs\u001b[0m \u001b[0;34m]\u001b[0m\u001b[0;34m\u001b[0m\u001b[0;34m\u001b[0m\u001b[0m\n\u001b[0m\u001b[1;32m    327\u001b[0m \u001b[0;34m\u001b[0m\u001b[0m\n\u001b[1;32m    328\u001b[0m     \u001b[0;32mif\u001b[0m \u001b[0many\u001b[0m\u001b[0;34m(\u001b[0m\u001b[0mexpr\u001b[0m\u001b[0;34m.\u001b[0m\u001b[0mis_commutative\u001b[0m \u001b[0;32mis\u001b[0m \u001b[0;32mFalse\u001b[0m \u001b[0;32mfor\u001b[0m \u001b[0mexpr\u001b[0m \u001b[0;32min\u001b[0m \u001b[0mexprs\u001b[0m\u001b[0;34m)\u001b[0m\u001b[0;34m:\u001b[0m\u001b[0;34m\u001b[0m\u001b[0;34m\u001b[0m\u001b[0m\n",
      "\u001b[0;32m/usr/local/lib/python3.8/site-packages/sympy/polys/polyutils.py\u001b[0m in \u001b[0;36m<listcomp>\u001b[0;34m(.0)\u001b[0m\n\u001b[1;32m    324\u001b[0m     \u001b[0;34m\"\"\"Transform expressions into a multinomial form. \"\"\"\u001b[0m\u001b[0;34m\u001b[0m\u001b[0;34m\u001b[0m\u001b[0m\n\u001b[1;32m    325\u001b[0m     \u001b[0;32mif\u001b[0m \u001b[0mopt\u001b[0m\u001b[0;34m.\u001b[0m\u001b[0mexpand\u001b[0m \u001b[0;32mis\u001b[0m \u001b[0;32mnot\u001b[0m \u001b[0;32mFalse\u001b[0m\u001b[0;34m:\u001b[0m\u001b[0;34m\u001b[0m\u001b[0;34m\u001b[0m\u001b[0m\n\u001b[0;32m--> 326\u001b[0;31m         \u001b[0mexprs\u001b[0m \u001b[0;34m=\u001b[0m \u001b[0;34m[\u001b[0m \u001b[0mexpr\u001b[0m\u001b[0;34m.\u001b[0m\u001b[0mexpand\u001b[0m\u001b[0;34m(\u001b[0m\u001b[0;34m)\u001b[0m \u001b[0;32mfor\u001b[0m \u001b[0mexpr\u001b[0m \u001b[0;32min\u001b[0m \u001b[0mexprs\u001b[0m \u001b[0;34m]\u001b[0m\u001b[0;34m\u001b[0m\u001b[0;34m\u001b[0m\u001b[0m\n\u001b[0m\u001b[1;32m    327\u001b[0m \u001b[0;34m\u001b[0m\u001b[0m\n\u001b[1;32m    328\u001b[0m     \u001b[0;32mif\u001b[0m \u001b[0many\u001b[0m\u001b[0;34m(\u001b[0m\u001b[0mexpr\u001b[0m\u001b[0;34m.\u001b[0m\u001b[0mis_commutative\u001b[0m \u001b[0;32mis\u001b[0m \u001b[0;32mFalse\u001b[0m \u001b[0;32mfor\u001b[0m \u001b[0mexpr\u001b[0m \u001b[0;32min\u001b[0m \u001b[0mexprs\u001b[0m\u001b[0;34m)\u001b[0m\u001b[0;34m:\u001b[0m\u001b[0;34m\u001b[0m\u001b[0;34m\u001b[0m\u001b[0m\n",
      "\u001b[0;32m/usr/local/lib/python3.8/site-packages/sympy/core/cache.py\u001b[0m in \u001b[0;36mwrapper\u001b[0;34m(*args, **kwargs)\u001b[0m\n\u001b[1;32m     70\u001b[0m         \u001b[0;32mdef\u001b[0m \u001b[0mwrapper\u001b[0m\u001b[0;34m(\u001b[0m\u001b[0;34m*\u001b[0m\u001b[0margs\u001b[0m\u001b[0;34m,\u001b[0m \u001b[0;34m**\u001b[0m\u001b[0mkwargs\u001b[0m\u001b[0;34m)\u001b[0m\u001b[0;34m:\u001b[0m\u001b[0;34m\u001b[0m\u001b[0;34m\u001b[0m\u001b[0m\n\u001b[1;32m     71\u001b[0m             \u001b[0;32mtry\u001b[0m\u001b[0;34m:\u001b[0m\u001b[0;34m\u001b[0m\u001b[0;34m\u001b[0m\u001b[0m\n\u001b[0;32m---> 72\u001b[0;31m                 \u001b[0mretval\u001b[0m \u001b[0;34m=\u001b[0m \u001b[0mcfunc\u001b[0m\u001b[0;34m(\u001b[0m\u001b[0;34m*\u001b[0m\u001b[0margs\u001b[0m\u001b[0;34m,\u001b[0m \u001b[0;34m**\u001b[0m\u001b[0mkwargs\u001b[0m\u001b[0;34m)\u001b[0m\u001b[0;34m\u001b[0m\u001b[0;34m\u001b[0m\u001b[0m\n\u001b[0m\u001b[1;32m     73\u001b[0m             \u001b[0;32mexcept\u001b[0m \u001b[0mTypeError\u001b[0m \u001b[0;32mas\u001b[0m \u001b[0me\u001b[0m\u001b[0;34m:\u001b[0m\u001b[0;34m\u001b[0m\u001b[0;34m\u001b[0m\u001b[0m\n\u001b[1;32m     74\u001b[0m                 \u001b[0;32mif\u001b[0m \u001b[0;32mnot\u001b[0m \u001b[0me\u001b[0m\u001b[0;34m.\u001b[0m\u001b[0margs\u001b[0m \u001b[0;32mor\u001b[0m \u001b[0;32mnot\u001b[0m \u001b[0me\u001b[0m\u001b[0;34m.\u001b[0m\u001b[0margs\u001b[0m\u001b[0;34m[\u001b[0m\u001b[0;36m0\u001b[0m\u001b[0;34m]\u001b[0m\u001b[0;34m.\u001b[0m\u001b[0mstartswith\u001b[0m\u001b[0;34m(\u001b[0m\u001b[0;34m'unhashable type:'\u001b[0m\u001b[0;34m)\u001b[0m\u001b[0;34m:\u001b[0m\u001b[0;34m\u001b[0m\u001b[0;34m\u001b[0m\u001b[0m\n",
      "\u001b[0;32m/usr/local/lib/python3.8/site-packages/sympy/core/expr.py\u001b[0m in \u001b[0;36mexpand\u001b[0;34m(self, deep, modulus, power_base, power_exp, mul, log, multinomial, basic, **hints)\u001b[0m\n\u001b[1;32m   3685\u001b[0m             \u001b[0mwas\u001b[0m \u001b[0;34m=\u001b[0m \u001b[0mexpr\u001b[0m\u001b[0;34m\u001b[0m\u001b[0;34m\u001b[0m\u001b[0m\n\u001b[1;32m   3686\u001b[0m             \u001b[0;32mif\u001b[0m \u001b[0mhints\u001b[0m\u001b[0;34m.\u001b[0m\u001b[0mget\u001b[0m\u001b[0;34m(\u001b[0m\u001b[0;34m'multinomial'\u001b[0m\u001b[0;34m,\u001b[0m \u001b[0;32mFalse\u001b[0m\u001b[0;34m)\u001b[0m\u001b[0;34m:\u001b[0m\u001b[0;34m\u001b[0m\u001b[0;34m\u001b[0m\u001b[0m\n\u001b[0;32m-> 3687\u001b[0;31m                 expr, _ = Expr._expand_hint(\n\u001b[0m\u001b[1;32m   3688\u001b[0m                     expr, '_eval_expand_multinomial', deep=deep, **hints)\n\u001b[1;32m   3689\u001b[0m             \u001b[0;32mif\u001b[0m \u001b[0mhints\u001b[0m\u001b[0;34m.\u001b[0m\u001b[0mget\u001b[0m\u001b[0;34m(\u001b[0m\u001b[0;34m'mul'\u001b[0m\u001b[0;34m,\u001b[0m \u001b[0;32mFalse\u001b[0m\u001b[0;34m)\u001b[0m\u001b[0;34m:\u001b[0m\u001b[0;34m\u001b[0m\u001b[0;34m\u001b[0m\u001b[0m\n",
      "\u001b[0;32m/usr/local/lib/python3.8/site-packages/sympy/core/expr.py\u001b[0m in \u001b[0;36m_expand_hint\u001b[0;34m(expr, hint, deep, **hints)\u001b[0m\n\u001b[1;32m   3613\u001b[0m             \u001b[0msargs\u001b[0m \u001b[0;34m=\u001b[0m \u001b[0;34m[\u001b[0m\u001b[0;34m]\u001b[0m\u001b[0;34m\u001b[0m\u001b[0;34m\u001b[0m\u001b[0m\n\u001b[1;32m   3614\u001b[0m             \u001b[0;32mfor\u001b[0m \u001b[0marg\u001b[0m \u001b[0;32min\u001b[0m \u001b[0mexpr\u001b[0m\u001b[0;34m.\u001b[0m\u001b[0margs\u001b[0m\u001b[0;34m:\u001b[0m\u001b[0;34m\u001b[0m\u001b[0;34m\u001b[0m\u001b[0m\n\u001b[0;32m-> 3615\u001b[0;31m                 \u001b[0marg\u001b[0m\u001b[0;34m,\u001b[0m \u001b[0marghit\u001b[0m \u001b[0;34m=\u001b[0m \u001b[0mExpr\u001b[0m\u001b[0;34m.\u001b[0m\u001b[0m_expand_hint\u001b[0m\u001b[0;34m(\u001b[0m\u001b[0marg\u001b[0m\u001b[0;34m,\u001b[0m \u001b[0mhint\u001b[0m\u001b[0;34m,\u001b[0m \u001b[0;34m**\u001b[0m\u001b[0mhints\u001b[0m\u001b[0;34m)\u001b[0m\u001b[0;34m\u001b[0m\u001b[0;34m\u001b[0m\u001b[0m\n\u001b[0m\u001b[1;32m   3616\u001b[0m                 \u001b[0mhit\u001b[0m \u001b[0;34m|=\u001b[0m \u001b[0marghit\u001b[0m\u001b[0;34m\u001b[0m\u001b[0;34m\u001b[0m\u001b[0m\n\u001b[1;32m   3617\u001b[0m                 \u001b[0msargs\u001b[0m\u001b[0;34m.\u001b[0m\u001b[0mappend\u001b[0m\u001b[0;34m(\u001b[0m\u001b[0marg\u001b[0m\u001b[0;34m)\u001b[0m\u001b[0;34m\u001b[0m\u001b[0;34m\u001b[0m\u001b[0m\n",
      "\u001b[0;32m/usr/local/lib/python3.8/site-packages/sympy/core/expr.py\u001b[0m in \u001b[0;36m_expand_hint\u001b[0;34m(expr, hint, deep, **hints)\u001b[0m\n\u001b[1;32m   3613\u001b[0m             \u001b[0msargs\u001b[0m \u001b[0;34m=\u001b[0m \u001b[0;34m[\u001b[0m\u001b[0;34m]\u001b[0m\u001b[0;34m\u001b[0m\u001b[0;34m\u001b[0m\u001b[0m\n\u001b[1;32m   3614\u001b[0m             \u001b[0;32mfor\u001b[0m \u001b[0marg\u001b[0m \u001b[0;32min\u001b[0m \u001b[0mexpr\u001b[0m\u001b[0;34m.\u001b[0m\u001b[0margs\u001b[0m\u001b[0;34m:\u001b[0m\u001b[0;34m\u001b[0m\u001b[0;34m\u001b[0m\u001b[0m\n\u001b[0;32m-> 3615\u001b[0;31m                 \u001b[0marg\u001b[0m\u001b[0;34m,\u001b[0m \u001b[0marghit\u001b[0m \u001b[0;34m=\u001b[0m \u001b[0mExpr\u001b[0m\u001b[0;34m.\u001b[0m\u001b[0m_expand_hint\u001b[0m\u001b[0;34m(\u001b[0m\u001b[0marg\u001b[0m\u001b[0;34m,\u001b[0m \u001b[0mhint\u001b[0m\u001b[0;34m,\u001b[0m \u001b[0;34m**\u001b[0m\u001b[0mhints\u001b[0m\u001b[0;34m)\u001b[0m\u001b[0;34m\u001b[0m\u001b[0;34m\u001b[0m\u001b[0m\n\u001b[0m\u001b[1;32m   3616\u001b[0m                 \u001b[0mhit\u001b[0m \u001b[0;34m|=\u001b[0m \u001b[0marghit\u001b[0m\u001b[0;34m\u001b[0m\u001b[0;34m\u001b[0m\u001b[0m\n\u001b[1;32m   3617\u001b[0m                 \u001b[0msargs\u001b[0m\u001b[0;34m.\u001b[0m\u001b[0mappend\u001b[0m\u001b[0;34m(\u001b[0m\u001b[0marg\u001b[0m\u001b[0;34m)\u001b[0m\u001b[0;34m\u001b[0m\u001b[0;34m\u001b[0m\u001b[0m\n",
      "\u001b[0;32m/usr/local/lib/python3.8/site-packages/sympy/core/expr.py\u001b[0m in \u001b[0;36m_expand_hint\u001b[0;34m(expr, hint, deep, **hints)\u001b[0m\n\u001b[1;32m   3613\u001b[0m             \u001b[0msargs\u001b[0m \u001b[0;34m=\u001b[0m \u001b[0;34m[\u001b[0m\u001b[0;34m]\u001b[0m\u001b[0;34m\u001b[0m\u001b[0;34m\u001b[0m\u001b[0m\n\u001b[1;32m   3614\u001b[0m             \u001b[0;32mfor\u001b[0m \u001b[0marg\u001b[0m \u001b[0;32min\u001b[0m \u001b[0mexpr\u001b[0m\u001b[0;34m.\u001b[0m\u001b[0margs\u001b[0m\u001b[0;34m:\u001b[0m\u001b[0;34m\u001b[0m\u001b[0;34m\u001b[0m\u001b[0m\n\u001b[0;32m-> 3615\u001b[0;31m                 \u001b[0marg\u001b[0m\u001b[0;34m,\u001b[0m \u001b[0marghit\u001b[0m \u001b[0;34m=\u001b[0m \u001b[0mExpr\u001b[0m\u001b[0;34m.\u001b[0m\u001b[0m_expand_hint\u001b[0m\u001b[0;34m(\u001b[0m\u001b[0marg\u001b[0m\u001b[0;34m,\u001b[0m \u001b[0mhint\u001b[0m\u001b[0;34m,\u001b[0m \u001b[0;34m**\u001b[0m\u001b[0mhints\u001b[0m\u001b[0;34m)\u001b[0m\u001b[0;34m\u001b[0m\u001b[0;34m\u001b[0m\u001b[0m\n\u001b[0m\u001b[1;32m   3616\u001b[0m                 \u001b[0mhit\u001b[0m \u001b[0;34m|=\u001b[0m \u001b[0marghit\u001b[0m\u001b[0;34m\u001b[0m\u001b[0;34m\u001b[0m\u001b[0m\n\u001b[1;32m   3617\u001b[0m                 \u001b[0msargs\u001b[0m\u001b[0;34m.\u001b[0m\u001b[0mappend\u001b[0m\u001b[0;34m(\u001b[0m\u001b[0marg\u001b[0m\u001b[0;34m)\u001b[0m\u001b[0;34m\u001b[0m\u001b[0;34m\u001b[0m\u001b[0m\n",
      "\u001b[0;32m/usr/local/lib/python3.8/site-packages/sympy/core/expr.py\u001b[0m in \u001b[0;36m_expand_hint\u001b[0;34m(expr, hint, deep, **hints)\u001b[0m\n\u001b[1;32m   3613\u001b[0m             \u001b[0msargs\u001b[0m \u001b[0;34m=\u001b[0m \u001b[0;34m[\u001b[0m\u001b[0;34m]\u001b[0m\u001b[0;34m\u001b[0m\u001b[0;34m\u001b[0m\u001b[0m\n\u001b[1;32m   3614\u001b[0m             \u001b[0;32mfor\u001b[0m \u001b[0marg\u001b[0m \u001b[0;32min\u001b[0m \u001b[0mexpr\u001b[0m\u001b[0;34m.\u001b[0m\u001b[0margs\u001b[0m\u001b[0;34m:\u001b[0m\u001b[0;34m\u001b[0m\u001b[0;34m\u001b[0m\u001b[0m\n\u001b[0;32m-> 3615\u001b[0;31m                 \u001b[0marg\u001b[0m\u001b[0;34m,\u001b[0m \u001b[0marghit\u001b[0m \u001b[0;34m=\u001b[0m \u001b[0mExpr\u001b[0m\u001b[0;34m.\u001b[0m\u001b[0m_expand_hint\u001b[0m\u001b[0;34m(\u001b[0m\u001b[0marg\u001b[0m\u001b[0;34m,\u001b[0m \u001b[0mhint\u001b[0m\u001b[0;34m,\u001b[0m \u001b[0;34m**\u001b[0m\u001b[0mhints\u001b[0m\u001b[0;34m)\u001b[0m\u001b[0;34m\u001b[0m\u001b[0;34m\u001b[0m\u001b[0m\n\u001b[0m\u001b[1;32m   3616\u001b[0m                 \u001b[0mhit\u001b[0m \u001b[0;34m|=\u001b[0m \u001b[0marghit\u001b[0m\u001b[0;34m\u001b[0m\u001b[0;34m\u001b[0m\u001b[0m\n\u001b[1;32m   3617\u001b[0m                 \u001b[0msargs\u001b[0m\u001b[0;34m.\u001b[0m\u001b[0mappend\u001b[0m\u001b[0;34m(\u001b[0m\u001b[0marg\u001b[0m\u001b[0;34m)\u001b[0m\u001b[0;34m\u001b[0m\u001b[0;34m\u001b[0m\u001b[0m\n",
      "\u001b[0;32m/usr/local/lib/python3.8/site-packages/sympy/core/expr.py\u001b[0m in \u001b[0;36m_expand_hint\u001b[0;34m(expr, hint, deep, **hints)\u001b[0m\n\u001b[1;32m   3613\u001b[0m             \u001b[0msargs\u001b[0m \u001b[0;34m=\u001b[0m \u001b[0;34m[\u001b[0m\u001b[0;34m]\u001b[0m\u001b[0;34m\u001b[0m\u001b[0;34m\u001b[0m\u001b[0m\n\u001b[1;32m   3614\u001b[0m             \u001b[0;32mfor\u001b[0m \u001b[0marg\u001b[0m \u001b[0;32min\u001b[0m \u001b[0mexpr\u001b[0m\u001b[0;34m.\u001b[0m\u001b[0margs\u001b[0m\u001b[0;34m:\u001b[0m\u001b[0;34m\u001b[0m\u001b[0;34m\u001b[0m\u001b[0m\n\u001b[0;32m-> 3615\u001b[0;31m                 \u001b[0marg\u001b[0m\u001b[0;34m,\u001b[0m \u001b[0marghit\u001b[0m \u001b[0;34m=\u001b[0m \u001b[0mExpr\u001b[0m\u001b[0;34m.\u001b[0m\u001b[0m_expand_hint\u001b[0m\u001b[0;34m(\u001b[0m\u001b[0marg\u001b[0m\u001b[0;34m,\u001b[0m \u001b[0mhint\u001b[0m\u001b[0;34m,\u001b[0m \u001b[0;34m**\u001b[0m\u001b[0mhints\u001b[0m\u001b[0;34m)\u001b[0m\u001b[0;34m\u001b[0m\u001b[0;34m\u001b[0m\u001b[0m\n\u001b[0m\u001b[1;32m   3616\u001b[0m                 \u001b[0mhit\u001b[0m \u001b[0;34m|=\u001b[0m \u001b[0marghit\u001b[0m\u001b[0;34m\u001b[0m\u001b[0;34m\u001b[0m\u001b[0m\n\u001b[1;32m   3617\u001b[0m                 \u001b[0msargs\u001b[0m\u001b[0;34m.\u001b[0m\u001b[0mappend\u001b[0m\u001b[0;34m(\u001b[0m\u001b[0marg\u001b[0m\u001b[0;34m)\u001b[0m\u001b[0;34m\u001b[0m\u001b[0;34m\u001b[0m\u001b[0m\n",
      "\u001b[0;32m/usr/local/lib/python3.8/site-packages/sympy/core/expr.py\u001b[0m in \u001b[0;36m_expand_hint\u001b[0;34m(expr, hint, deep, **hints)\u001b[0m\n\u001b[1;32m   3613\u001b[0m             \u001b[0msargs\u001b[0m \u001b[0;34m=\u001b[0m \u001b[0;34m[\u001b[0m\u001b[0;34m]\u001b[0m\u001b[0;34m\u001b[0m\u001b[0;34m\u001b[0m\u001b[0m\n\u001b[1;32m   3614\u001b[0m             \u001b[0;32mfor\u001b[0m \u001b[0marg\u001b[0m \u001b[0;32min\u001b[0m \u001b[0mexpr\u001b[0m\u001b[0;34m.\u001b[0m\u001b[0margs\u001b[0m\u001b[0;34m:\u001b[0m\u001b[0;34m\u001b[0m\u001b[0;34m\u001b[0m\u001b[0m\n\u001b[0;32m-> 3615\u001b[0;31m                 \u001b[0marg\u001b[0m\u001b[0;34m,\u001b[0m \u001b[0marghit\u001b[0m \u001b[0;34m=\u001b[0m \u001b[0mExpr\u001b[0m\u001b[0;34m.\u001b[0m\u001b[0m_expand_hint\u001b[0m\u001b[0;34m(\u001b[0m\u001b[0marg\u001b[0m\u001b[0;34m,\u001b[0m \u001b[0mhint\u001b[0m\u001b[0;34m,\u001b[0m \u001b[0;34m**\u001b[0m\u001b[0mhints\u001b[0m\u001b[0;34m)\u001b[0m\u001b[0;34m\u001b[0m\u001b[0;34m\u001b[0m\u001b[0m\n\u001b[0m\u001b[1;32m   3616\u001b[0m                 \u001b[0mhit\u001b[0m \u001b[0;34m|=\u001b[0m \u001b[0marghit\u001b[0m\u001b[0;34m\u001b[0m\u001b[0;34m\u001b[0m\u001b[0m\n\u001b[1;32m   3617\u001b[0m                 \u001b[0msargs\u001b[0m\u001b[0;34m.\u001b[0m\u001b[0mappend\u001b[0m\u001b[0;34m(\u001b[0m\u001b[0marg\u001b[0m\u001b[0;34m)\u001b[0m\u001b[0;34m\u001b[0m\u001b[0;34m\u001b[0m\u001b[0m\n",
      "\u001b[0;32m/usr/local/lib/python3.8/site-packages/sympy/core/expr.py\u001b[0m in \u001b[0;36m_expand_hint\u001b[0;34m(expr, hint, deep, **hints)\u001b[0m\n\u001b[1;32m   3613\u001b[0m             \u001b[0msargs\u001b[0m \u001b[0;34m=\u001b[0m \u001b[0;34m[\u001b[0m\u001b[0;34m]\u001b[0m\u001b[0;34m\u001b[0m\u001b[0;34m\u001b[0m\u001b[0m\n\u001b[1;32m   3614\u001b[0m             \u001b[0;32mfor\u001b[0m \u001b[0marg\u001b[0m \u001b[0;32min\u001b[0m \u001b[0mexpr\u001b[0m\u001b[0;34m.\u001b[0m\u001b[0margs\u001b[0m\u001b[0;34m:\u001b[0m\u001b[0;34m\u001b[0m\u001b[0;34m\u001b[0m\u001b[0m\n\u001b[0;32m-> 3615\u001b[0;31m                 \u001b[0marg\u001b[0m\u001b[0;34m,\u001b[0m \u001b[0marghit\u001b[0m \u001b[0;34m=\u001b[0m \u001b[0mExpr\u001b[0m\u001b[0;34m.\u001b[0m\u001b[0m_expand_hint\u001b[0m\u001b[0;34m(\u001b[0m\u001b[0marg\u001b[0m\u001b[0;34m,\u001b[0m \u001b[0mhint\u001b[0m\u001b[0;34m,\u001b[0m \u001b[0;34m**\u001b[0m\u001b[0mhints\u001b[0m\u001b[0;34m)\u001b[0m\u001b[0;34m\u001b[0m\u001b[0;34m\u001b[0m\u001b[0m\n\u001b[0m\u001b[1;32m   3616\u001b[0m                 \u001b[0mhit\u001b[0m \u001b[0;34m|=\u001b[0m \u001b[0marghit\u001b[0m\u001b[0;34m\u001b[0m\u001b[0;34m\u001b[0m\u001b[0m\n\u001b[1;32m   3617\u001b[0m                 \u001b[0msargs\u001b[0m\u001b[0;34m.\u001b[0m\u001b[0mappend\u001b[0m\u001b[0;34m(\u001b[0m\u001b[0marg\u001b[0m\u001b[0;34m)\u001b[0m\u001b[0;34m\u001b[0m\u001b[0;34m\u001b[0m\u001b[0m\n",
      "\u001b[0;32m/usr/local/lib/python3.8/site-packages/sympy/core/expr.py\u001b[0m in \u001b[0;36m_expand_hint\u001b[0;34m(expr, hint, deep, **hints)\u001b[0m\n\u001b[1;32m   3613\u001b[0m             \u001b[0msargs\u001b[0m \u001b[0;34m=\u001b[0m \u001b[0;34m[\u001b[0m\u001b[0;34m]\u001b[0m\u001b[0;34m\u001b[0m\u001b[0;34m\u001b[0m\u001b[0m\n\u001b[1;32m   3614\u001b[0m             \u001b[0;32mfor\u001b[0m \u001b[0marg\u001b[0m \u001b[0;32min\u001b[0m \u001b[0mexpr\u001b[0m\u001b[0;34m.\u001b[0m\u001b[0margs\u001b[0m\u001b[0;34m:\u001b[0m\u001b[0;34m\u001b[0m\u001b[0;34m\u001b[0m\u001b[0m\n\u001b[0;32m-> 3615\u001b[0;31m                 \u001b[0marg\u001b[0m\u001b[0;34m,\u001b[0m \u001b[0marghit\u001b[0m \u001b[0;34m=\u001b[0m \u001b[0mExpr\u001b[0m\u001b[0;34m.\u001b[0m\u001b[0m_expand_hint\u001b[0m\u001b[0;34m(\u001b[0m\u001b[0marg\u001b[0m\u001b[0;34m,\u001b[0m \u001b[0mhint\u001b[0m\u001b[0;34m,\u001b[0m \u001b[0;34m**\u001b[0m\u001b[0mhints\u001b[0m\u001b[0;34m)\u001b[0m\u001b[0;34m\u001b[0m\u001b[0;34m\u001b[0m\u001b[0m\n\u001b[0m\u001b[1;32m   3616\u001b[0m                 \u001b[0mhit\u001b[0m \u001b[0;34m|=\u001b[0m \u001b[0marghit\u001b[0m\u001b[0;34m\u001b[0m\u001b[0;34m\u001b[0m\u001b[0m\n\u001b[1;32m   3617\u001b[0m                 \u001b[0msargs\u001b[0m\u001b[0;34m.\u001b[0m\u001b[0mappend\u001b[0m\u001b[0;34m(\u001b[0m\u001b[0marg\u001b[0m\u001b[0;34m)\u001b[0m\u001b[0;34m\u001b[0m\u001b[0;34m\u001b[0m\u001b[0m\n",
      "\u001b[0;32m/usr/local/lib/python3.8/site-packages/sympy/core/expr.py\u001b[0m in \u001b[0;36m_expand_hint\u001b[0;34m(expr, hint, deep, **hints)\u001b[0m\n\u001b[1;32m   3610\u001b[0m         \u001b[0;31m#              |\u001b[0m\u001b[0;34m\u001b[0m\u001b[0;34m\u001b[0m\u001b[0;34m\u001b[0m\u001b[0m\n\u001b[1;32m   3611\u001b[0m         \u001b[0;31m#              V\u001b[0m\u001b[0;34m\u001b[0m\u001b[0;34m\u001b[0m\u001b[0;34m\u001b[0m\u001b[0m\n\u001b[0;32m-> 3612\u001b[0;31m         \u001b[0;32mif\u001b[0m \u001b[0mdeep\u001b[0m \u001b[0;32mand\u001b[0m \u001b[0mgetattr\u001b[0m\u001b[0;34m(\u001b[0m\u001b[0mexpr\u001b[0m\u001b[0;34m,\u001b[0m \u001b[0;34m'args'\u001b[0m\u001b[0;34m,\u001b[0m \u001b[0;34m(\u001b[0m\u001b[0;34m)\u001b[0m\u001b[0;34m)\u001b[0m \u001b[0;32mand\u001b[0m \u001b[0;32mnot\u001b[0m \u001b[0mexpr\u001b[0m\u001b[0;34m.\u001b[0m\u001b[0mis_Atom\u001b[0m\u001b[0;34m:\u001b[0m\u001b[0;34m\u001b[0m\u001b[0;34m\u001b[0m\u001b[0m\n\u001b[0m\u001b[1;32m   3613\u001b[0m             \u001b[0msargs\u001b[0m \u001b[0;34m=\u001b[0m \u001b[0;34m[\u001b[0m\u001b[0;34m]\u001b[0m\u001b[0;34m\u001b[0m\u001b[0;34m\u001b[0m\u001b[0m\n\u001b[1;32m   3614\u001b[0m             \u001b[0;32mfor\u001b[0m \u001b[0marg\u001b[0m \u001b[0;32min\u001b[0m \u001b[0mexpr\u001b[0m\u001b[0;34m.\u001b[0m\u001b[0margs\u001b[0m\u001b[0;34m:\u001b[0m\u001b[0;34m\u001b[0m\u001b[0;34m\u001b[0m\u001b[0m\n",
      "\u001b[0;32m/usr/local/lib/python3.8/site-packages/sympy/core/basic.py\u001b[0m in \u001b[0;36margs\u001b[0;34m(self)\u001b[0m\n\u001b[1;32m    784\u001b[0m         \u001b[0;32mreturn\u001b[0m \u001b[0mself\u001b[0m\u001b[0;34m.\u001b[0m\u001b[0m__class__\u001b[0m\u001b[0;34m\u001b[0m\u001b[0;34m\u001b[0m\u001b[0m\n\u001b[1;32m    785\u001b[0m \u001b[0;34m\u001b[0m\u001b[0m\n\u001b[0;32m--> 786\u001b[0;31m     \u001b[0;34m@\u001b[0m\u001b[0mproperty\u001b[0m\u001b[0;34m\u001b[0m\u001b[0;34m\u001b[0m\u001b[0m\n\u001b[0m\u001b[1;32m    787\u001b[0m     \u001b[0;32mdef\u001b[0m \u001b[0margs\u001b[0m\u001b[0;34m(\u001b[0m\u001b[0mself\u001b[0m\u001b[0;34m)\u001b[0m \u001b[0;34m->\u001b[0m \u001b[0mtuple\u001b[0m\u001b[0;34m[\u001b[0m\u001b[0mBasic\u001b[0m\u001b[0;34m,\u001b[0m \u001b[0;34m...\u001b[0m\u001b[0;34m]\u001b[0m\u001b[0;34m:\u001b[0m\u001b[0;34m\u001b[0m\u001b[0;34m\u001b[0m\u001b[0m\n\u001b[1;32m    788\u001b[0m         \"\"\"Returns a tuple of arguments of 'self'.\n",
      "\u001b[0;31mKeyboardInterrupt\u001b[0m: "
     ]
    }
   ],
   "source": [
    "from sympy import symbols, Eq, solve, simplify, pprint, sqrt\n",
    "\n",
    "# Define symbols\n",
    "x1, x2, c1, c2, K = symbols('x1 x2 c1 c2 K')\n",
    "\n",
    "# Define parameters\n",
    "a = 3\n",
    "\n",
    "# Define equations\n",
    "eq1 = Eq(c1 * x1**2 + (c1 * (a - 2) - K * a) * x1 + (K * (a - 1) - c1 * (a - 1)), 0)\n",
    "eq2 = Eq(c2 * x2**2 + (c2 * (a - 2) - K * a) * x2 + (K * (a - 1) - c2 * (a - 1)), 0)\n",
    "eq3 = Eq(x1 + x2, 1)\n",
    "\n",
    "# Solve the system\n",
    "solutions = solve([eq1, eq2, eq3], (x1, x2, K), dict=True)"
   ]
  },
  {
   "cell_type": "code",
   "execution_count": 878,
   "metadata": {},
   "outputs": [
    {
     "data": {
      "text/plain": [
       "{K: 354/125 - 6*sqrt(481)/125,\n",
       " x1: 9/50 - sqrt(481)/50,\n",
       " x2: sqrt(481)/50 + 41/50}"
      ]
     },
     "execution_count": 878,
     "metadata": {},
     "output_type": "execute_result"
    }
   ],
   "source": [
    "solutions[1]"
   ]
  },
  {
   "cell_type": "code",
   "execution_count": null,
   "metadata": {},
   "outputs": [],
   "source": []
  },
  {
   "cell_type": "code",
   "execution_count": null,
   "metadata": {},
   "outputs": [],
   "source": []
  },
  {
   "cell_type": "code",
   "execution_count": null,
   "metadata": {},
   "outputs": [],
   "source": []
  },
  {
   "cell_type": "code",
   "execution_count": null,
   "metadata": {},
   "outputs": [],
   "source": []
  },
  {
   "cell_type": "code",
   "execution_count": 436,
   "metadata": {},
   "outputs": [],
   "source": [
    "# SOFTMAX ALLO"
   ]
  },
  {
   "cell_type": "code",
   "execution_count": 536,
   "metadata": {},
   "outputs": [],
   "source": [
    "def getEquilBidsSoftmax(cs, a, guess=None):\n",
    "    n = len(cs)\n",
    "    bs = [sp.Symbol('b{}'.format(i)) for i in range(n)]\n",
    "    \n",
    "    denom = sum([sp.exp(-bi) for bi in bs])\n",
    "    xs    = [sp.exp(-bi)/denom for bi in bs]\n",
    "    us    = [(bs[i] - cs[i])*xs[i] for i in range(n)]\n",
    "    diffs = [sp.diff(us[i], bs[i]) for i in range(n)]\n",
    "    funcs = [sp.lambdify(bs, diffs[i]) for i in range(n)]\n",
    "    \n",
    "    def eqs(bs):\n",
    "        return [f(*bs) for f in funcs]\n",
    "    \n",
    "    initial_guess = cs\n",
    "    if guess != None:\n",
    "        initial_guess = guess\n",
    "    \n",
    "    return fsolve(eqs, initial_guess)\n",
    "\n",
    "def getAllos(bids, a):\n",
    "    denom = sum([b**(-a) for b in bids])\n",
    "    return np.array(bids**(-a)) / denom"
   ]
  },
  {
   "cell_type": "code",
   "execution_count": 568,
   "metadata": {},
   "outputs": [
    {
     "data": {
      "text/latex": [
       "$\\displaystyle \\frac{\\left(b_{0} - 1\\right) e^{- b_{0}}}{e^{- b_{1}} + e^{- b_{0}}}$"
      ],
      "text/plain": [
       "(b0 - 1)*exp(-b0)/(exp(-b1) + exp(-b0))"
      ]
     },
     "execution_count": 568,
     "metadata": {},
     "output_type": "execute_result"
    }
   ],
   "source": [
    "costs = [1, 100]\n",
    "\n",
    "n = 2\n",
    "bs = [sp.Symbol('b{}'.format(i)) for i in range(n)]\n",
    "\n",
    "denom = sum([sp.exp(-bi) for bi in bs])\n",
    "xs    = [sp.exp(-bi)/denom for bi in bs]\n",
    "us    = [(bs[i] - costs[i])*xs[i] for i in range(n)]\n",
    "diffs = [sp.diff(us[i], bs[i]) for i in range(n)]\n",
    "funcs = [sp.lambdify(bs, diffs[i]) for i in range(n)]\n",
    "us[0]"
   ]
  },
  {
   "cell_type": "code",
   "execution_count": 571,
   "metadata": {},
   "outputs": [
    {
     "ename": "NotImplementedError",
     "evalue": "could not solve (b1 - 100)*(exp(b1) + exp(LambertW(exp(b1 - 2)) + 2))*exp(3*b1)*exp(2*LambertW(exp(b1 - 2)) + 4) + (-(b1 - 100)*exp(b1)*exp(LambertW(exp(b1 - 2)) + 2) + exp(b1)*exp(LambertW(exp(b1 - 2)) + 2))*(exp(b1) + exp(LambertW(exp(b1 - 2)) + 2))**2*exp(2*b1)",
     "output_type": "error",
     "traceback": [
      "\u001b[0;31m---------------------------------------------------------------------------\u001b[0m",
      "\u001b[0;31mNotImplementedError\u001b[0m                       Traceback (most recent call last)",
      "\u001b[0;32m<ipython-input-571-b785bcc7e061>\u001b[0m in \u001b[0;36m<module>\u001b[0;34m\u001b[0m\n\u001b[0;32m----> 1\u001b[0;31m \u001b[0msp\u001b[0m\u001b[0;34m.\u001b[0m\u001b[0msolve\u001b[0m\u001b[0;34m(\u001b[0m\u001b[0mdiffs\u001b[0m\u001b[0;34m,\u001b[0m \u001b[0mbs\u001b[0m\u001b[0;34m)\u001b[0m\u001b[0;34m\u001b[0m\u001b[0;34m\u001b[0m\u001b[0m\n\u001b[0m",
      "\u001b[0;32m/usr/local/lib/python3.8/site-packages/sympy/solvers/solvers.py\u001b[0m in \u001b[0;36msolve\u001b[0;34m(f, *symbols, **flags)\u001b[0m\n\u001b[1;32m   1145\u001b[0m             \u001b[0msolution\u001b[0m \u001b[0;34m=\u001b[0m \u001b[0m_solve\u001b[0m\u001b[0;34m(\u001b[0m\u001b[0mf\u001b[0m\u001b[0;34m[\u001b[0m\u001b[0;36m0\u001b[0m\u001b[0;34m]\u001b[0m\u001b[0;34m,\u001b[0m \u001b[0;34m*\u001b[0m\u001b[0msymbols\u001b[0m\u001b[0;34m,\u001b[0m \u001b[0;34m**\u001b[0m\u001b[0mflags\u001b[0m\u001b[0;34m)\u001b[0m\u001b[0;34m\u001b[0m\u001b[0;34m\u001b[0m\u001b[0m\n\u001b[1;32m   1146\u001b[0m     \u001b[0;32melse\u001b[0m\u001b[0;34m:\u001b[0m\u001b[0;34m\u001b[0m\u001b[0;34m\u001b[0m\u001b[0m\n\u001b[0;32m-> 1147\u001b[0;31m         \u001b[0mlinear\u001b[0m\u001b[0;34m,\u001b[0m \u001b[0msolution\u001b[0m \u001b[0;34m=\u001b[0m \u001b[0m_solve_system\u001b[0m\u001b[0;34m(\u001b[0m\u001b[0mf\u001b[0m\u001b[0;34m,\u001b[0m \u001b[0msymbols\u001b[0m\u001b[0;34m,\u001b[0m \u001b[0;34m**\u001b[0m\u001b[0mflags\u001b[0m\u001b[0;34m)\u001b[0m\u001b[0;34m\u001b[0m\u001b[0;34m\u001b[0m\u001b[0m\n\u001b[0m\u001b[1;32m   1148\u001b[0m     \u001b[0;32massert\u001b[0m \u001b[0mtype\u001b[0m\u001b[0;34m(\u001b[0m\u001b[0msolution\u001b[0m\u001b[0;34m)\u001b[0m \u001b[0;32mis\u001b[0m \u001b[0mlist\u001b[0m\u001b[0;34m\u001b[0m\u001b[0;34m\u001b[0m\u001b[0m\n\u001b[1;32m   1149\u001b[0m     \u001b[0;32massert\u001b[0m \u001b[0;32mnot\u001b[0m \u001b[0msolution\u001b[0m \u001b[0;32mor\u001b[0m \u001b[0mtype\u001b[0m\u001b[0;34m(\u001b[0m\u001b[0msolution\u001b[0m\u001b[0;34m[\u001b[0m\u001b[0;36m0\u001b[0m\u001b[0;34m]\u001b[0m\u001b[0;34m)\u001b[0m \u001b[0;32mis\u001b[0m \u001b[0mdict\u001b[0m\u001b[0;34m,\u001b[0m \u001b[0msolution\u001b[0m\u001b[0;34m\u001b[0m\u001b[0;34m\u001b[0m\u001b[0m\n",
      "\u001b[0;32m/usr/local/lib/python3.8/site-packages/sympy/solvers/solvers.py\u001b[0m in \u001b[0;36m_solve_system\u001b[0;34m(exprs, symbols, **flags)\u001b[0m\n\u001b[1;32m   1960\u001b[0m                     \u001b[0mgot_s\u001b[0m\u001b[0;34m.\u001b[0m\u001b[0madd\u001b[0m\u001b[0;34m(\u001b[0m\u001b[0ms\u001b[0m\u001b[0;34m)\u001b[0m\u001b[0;34m\u001b[0m\u001b[0;34m\u001b[0m\u001b[0m\n\u001b[1;32m   1961\u001b[0m                 \u001b[0;32mif\u001b[0m \u001b[0;32mnot\u001b[0m \u001b[0mhit\u001b[0m\u001b[0;34m:\u001b[0m\u001b[0;34m\u001b[0m\u001b[0;34m\u001b[0m\u001b[0m\n\u001b[0;32m-> 1962\u001b[0;31m                     \u001b[0;32mraise\u001b[0m \u001b[0mNotImplementedError\u001b[0m\u001b[0;34m(\u001b[0m\u001b[0;34m'could not solve %s'\u001b[0m \u001b[0;34m%\u001b[0m \u001b[0meq2\u001b[0m\u001b[0;34m)\u001b[0m\u001b[0;34m\u001b[0m\u001b[0;34m\u001b[0m\u001b[0m\n\u001b[0m\u001b[1;32m   1963\u001b[0m             \u001b[0;32melse\u001b[0m\u001b[0;34m:\u001b[0m\u001b[0;34m\u001b[0m\u001b[0;34m\u001b[0m\u001b[0m\n\u001b[1;32m   1964\u001b[0m                 \u001b[0mresult\u001b[0m \u001b[0;34m=\u001b[0m \u001b[0mnewresult\u001b[0m\u001b[0;34m\u001b[0m\u001b[0;34m\u001b[0m\u001b[0m\n",
      "\u001b[0;31mNotImplementedError\u001b[0m: could not solve (b1 - 100)*(exp(b1) + exp(LambertW(exp(b1 - 2)) + 2))*exp(3*b1)*exp(2*LambertW(exp(b1 - 2)) + 4) + (-(b1 - 100)*exp(b1)*exp(LambertW(exp(b1 - 2)) + 2) + exp(b1)*exp(LambertW(exp(b1 - 2)) + 2))*(exp(b1) + exp(LambertW(exp(b1 - 2)) + 2))**2*exp(2*b1)"
     ]
    }
   ],
   "source": [
    "sp.solve(diffs, bs)"
   ]
  },
  {
   "cell_type": "code",
   "execution_count": 567,
   "metadata": {},
   "outputs": [
    {
     "data": {
      "text/plain": [
       "array([  3., 101., 101.,   3.])"
      ]
     },
     "execution_count": 567,
     "metadata": {},
     "output_type": "execute_result"
    }
   ],
   "source": [
    "def eqs(bs):\n",
    "    return [f(*bs) for f in funcs]\n",
    "\n",
    "fsolve(eqs, [10,10,10,10])"
   ]
  },
  {
   "cell_type": "code",
   "execution_count": 565,
   "metadata": {},
   "outputs": [
    {
     "data": {
      "text/plain": [
       "array([4.02964575, 4.7964842 ])"
      ]
     },
     "execution_count": 565,
     "metadata": {},
     "output_type": "execute_result"
    }
   ],
   "source": [
    "costs = [1, 3]\n",
    "\n",
    "unbounded = getEquilBids(costs, alpha)\n",
    "unbounded"
   ]
  },
  {
   "cell_type": "code",
   "execution_count": null,
   "metadata": {},
   "outputs": [],
   "source": []
  },
  {
   "cell_type": "code",
   "execution_count": null,
   "metadata": {},
   "outputs": [],
   "source": []
  },
  {
   "cell_type": "code",
   "execution_count": null,
   "metadata": {},
   "outputs": [],
   "source": []
  },
  {
   "cell_type": "code",
   "execution_count": null,
   "metadata": {},
   "outputs": [],
   "source": []
  },
  {
   "cell_type": "code",
   "execution_count": null,
   "metadata": {},
   "outputs": [],
   "source": []
  },
  {
   "cell_type": "code",
   "execution_count": null,
   "metadata": {},
   "outputs": [],
   "source": [
    "alpha = 3.\n",
    "c1s   = np.arange(1, 20.01, 0.1)\n",
    "c1s\n",
    "\n",
    "guesses = c1s\n",
    "\n",
    "xTildes  = []\n",
    "welfares = [] \n",
    "for i, c1 in enumerate(c1s):\n",
    "    costs   = [1, c1]\n",
    "    bids    = getEquilBids(costs, a=alpha, guess=[guesses[i],guesses[i]])\n",
    "    xTilde  = getAllos(bids, a=alpha)\n",
    "    xTildes.append(xTilde)\n",
    "    welfares.append(np.dot(costs, xTilde))\n",
    "xTildes = np.asarray(xTildes)\n",
    "welfares = np.asarray(welfares)\n",
    "xTildes.shape, welfares.shape"
   ]
  },
  {
   "cell_type": "code",
   "execution_count": null,
   "metadata": {},
   "outputs": [],
   "source": []
  },
  {
   "cell_type": "code",
   "execution_count": null,
   "metadata": {},
   "outputs": [],
   "source": []
  },
  {
   "cell_type": "code",
   "execution_count": null,
   "metadata": {},
   "outputs": [],
   "source": []
  },
  {
   "cell_type": "code",
   "execution_count": null,
   "metadata": {},
   "outputs": [],
   "source": []
  },
  {
   "cell_type": "code",
   "execution_count": null,
   "metadata": {},
   "outputs": [],
   "source": []
  },
  {
   "cell_type": "code",
   "execution_count": 303,
   "metadata": {},
   "outputs": [
    {
     "data": {
      "text/latex": [
       "$\\displaystyle \\left(\\frac{y}{R}\\right)^{\\alpha} \\left(N \\alpha y - N \\alpha + N + \\left(R y\\right)^{\\alpha}\\right)$"
      ],
      "text/plain": [
       "(y/R)**alpha*(N*alpha*y - N*alpha + N + (R*y)**alpha)"
      ]
     },
     "execution_count": 303,
     "metadata": {},
     "output_type": "execute_result"
    }
   ],
   "source": [
    "import sympy as sp\n",
    "\n",
    "# Define symbols\n",
    "b0 = sp.Symbol('b0', positive=True)\n",
    "alpha = sp.Symbol('alpha', positive=True)\n",
    "N = sp.Symbol('N', positive=True)\n",
    "R = sp.Symbol('R', positive=True)\n",
    "\n",
    "# For short-hand: M = N*R^(-alpha)\n",
    "M = N * R**(-alpha)\n",
    "\n",
    "# Define f(b0) = (b0 -1)* b0^(-alpha)\n",
    "f_b0 = (b0 - 1)* b0**(-alpha)\n",
    "\n",
    "# Define g(b0) = b0^(-alpha) + N R^(-alpha) = b0^(-alpha)+ M\n",
    "g_b0 = b0**(-alpha) + M\n",
    "\n",
    "# f'(b0), g'(b0)\n",
    "fprime_b0 = sp.diff(f_b0, b0)\n",
    "gprime_b0 = sp.diff(g_b0, b0)\n",
    "\n",
    "# Derivative numerator => zero => FOC\n",
    "# numerator = f'(b0)*g(b0) - f(b0)*g'(b0)\n",
    "numerator = fprime_b0*g_b0 - f_b0*gprime_b0\n",
    "\n",
    "# We want numerator=0\n",
    "\n",
    "# -----------------------------\n",
    "#  Substitutions:\n",
    "#   1) x = b0^(-alpha)\n",
    "#   2) y = x^(1/alpha) = b0^(-alpha * 1/alpha)= b0^-1 => b0=1/y\n",
    "#\n",
    "# We'll do it in two steps to avoid expressions with x^(1/alpha).\n",
    "\n",
    "x = sp.Symbol('x', positive=True)\n",
    "y = sp.Symbol('y', positive=True)\n",
    "\n",
    "# Step A: Replace b0^(-alpha) with x in the numerator\n",
    "eq_in_x = numerator.subs( b0**(-alpha), x )\n",
    "\n",
    "# But eq_in_x still has b0 in terms like (b0-1). We must also rewrite b0 => (x^(-1/alpha)).\n",
    "# Instead let's do: b0 = 1/y, so b0^(-alpha) = (1/y)^(-alpha)= y^alpha => x => y^alpha\n",
    "#   => x= y^alpha,   b0=1/y\n",
    "\n",
    "# So we want b0^(-alpha)-> x => that means x= y^alpha\n",
    "# Also b0-> 1/y => we must do a final step eq_in_y= eq_in_x.subs({ b0:(1/y), x:y^alpha })\n",
    "\n",
    "eq_in_x2 = eq_in_x.subs({ b0: 1/y })\n",
    "\n",
    "# Now eq_in_x2 has x and y, but we want x= y^alpha => last substitution\n",
    "eq_in_y = eq_in_x2.subs(x, y**alpha)\n",
    "\n",
    "# eq_in_y is an expression purely in y, alpha, N, R, no b0 left.\n",
    "# We'll solve eq_in_y=0 for y\n",
    "\n",
    "# Let's simplify a bit:\n",
    "eq_in_y_simpl = sp.simplify(eq_in_y)\n",
    "eq_in_y_simpl"
   ]
  },
  {
   "cell_type": "code",
   "execution_count": 304,
   "metadata": {},
   "outputs": [
    {
     "data": {
      "text/latex": [
       "$\\displaystyle \\alpha$"
      ],
      "text/plain": [
       "alpha"
      ]
     },
     "execution_count": 304,
     "metadata": {},
     "output_type": "execute_result"
    }
   ],
   "source": [
    "alpha"
   ]
  },
  {
   "cell_type": "code",
   "execution_count": 320,
   "metadata": {},
   "outputs": [
    {
     "data": {
      "text/latex": [
       "$\\displaystyle -3.97477821943946$"
      ],
      "text/plain": [
       "-3.97477821943946"
      ]
     },
     "execution_count": 320,
     "metadata": {},
     "output_type": "execute_result"
    }
   ],
   "source": [
    "solutions_y = sp.solve(sp.Eq(eq_in_y_simpl.evalf(subs={alpha:4}), 0), y, dict=False)\n",
    "1/solutions_y[0].evalf(subs={N:10, R: 10})"
   ]
  },
  {
   "cell_type": "code",
   "execution_count": 322,
   "metadata": {},
   "outputs": [
    {
     "ename": "NotImplementedError",
     "evalue": "multiple generators [b0, b0**alpha]\nNo algorithms are implemented to solve equation -alpha*(b0 - 1)/(b0*b0**alpha*(N/R**alpha + b0**(-alpha))) + alpha*(b0 - 1)/(b0*b0**(2*alpha)*(N/R**alpha + b0**(-alpha))**2) + 1/(b0**alpha*(N/R**alpha + b0**(-alpha)))",
     "output_type": "error",
     "traceback": [
      "\u001b[0;31m---------------------------------------------------------------------------\u001b[0m",
      "\u001b[0;31mNotImplementedError\u001b[0m                       Traceback (most recent call last)",
      "\u001b[0;32m<ipython-input-322-2a41543febde>\u001b[0m in \u001b[0;36m<module>\u001b[0;34m\u001b[0m\n\u001b[1;32m     15\u001b[0m \u001b[0;34m\u001b[0m\u001b[0m\n\u001b[1;32m     16\u001b[0m \u001b[0;31m# Solve derivative=0 => best response ignoring constraints\u001b[0m\u001b[0;34m\u001b[0m\u001b[0;34m\u001b[0m\u001b[0;34m\u001b[0m\u001b[0m\n\u001b[0;32m---> 17\u001b[0;31m \u001b[0msolution_unconstrained\u001b[0m \u001b[0;34m=\u001b[0m \u001b[0msp\u001b[0m\u001b[0;34m.\u001b[0m\u001b[0msolve\u001b[0m\u001b[0;34m(\u001b[0m\u001b[0msp\u001b[0m\u001b[0;34m.\u001b[0m\u001b[0mEq\u001b[0m\u001b[0;34m(\u001b[0m\u001b[0mdu0_db0\u001b[0m\u001b[0;34m,\u001b[0m \u001b[0;36m0\u001b[0m\u001b[0;34m)\u001b[0m\u001b[0;34m,\u001b[0m \u001b[0mb0\u001b[0m\u001b[0;34m,\u001b[0m \u001b[0mdict\u001b[0m\u001b[0;34m=\u001b[0m\u001b[0;32mFalse\u001b[0m\u001b[0;34m)\u001b[0m\u001b[0;34m\u001b[0m\u001b[0;34m\u001b[0m\u001b[0m\n\u001b[0m\u001b[1;32m     18\u001b[0m \u001b[0;34m\u001b[0m\u001b[0m\n\u001b[1;32m     19\u001b[0m \u001b[0mprint\u001b[0m\u001b[0;34m(\u001b[0m\u001b[0;34m\"Unconstrained symbolic solution(s) for b0^* with LambertW:\\n\"\u001b[0m\u001b[0;34m)\u001b[0m\u001b[0;34m\u001b[0m\u001b[0;34m\u001b[0m\u001b[0m\n",
      "\u001b[0;32m/usr/local/lib/python3.8/site-packages/sympy/solvers/solvers.py\u001b[0m in \u001b[0;36msolve\u001b[0;34m(f, *symbols, **flags)\u001b[0m\n\u001b[1;32m   1143\u001b[0m             \u001b[0msolution\u001b[0m \u001b[0;34m=\u001b[0m \u001b[0m_solve_undetermined\u001b[0m\u001b[0;34m(\u001b[0m\u001b[0mf\u001b[0m\u001b[0;34m[\u001b[0m\u001b[0;36m0\u001b[0m\u001b[0;34m]\u001b[0m\u001b[0;34m,\u001b[0m \u001b[0msymbols\u001b[0m\u001b[0;34m,\u001b[0m \u001b[0mflags\u001b[0m\u001b[0;34m)\u001b[0m\u001b[0;34m\u001b[0m\u001b[0;34m\u001b[0m\u001b[0m\n\u001b[1;32m   1144\u001b[0m         \u001b[0;32mif\u001b[0m \u001b[0;32mnot\u001b[0m \u001b[0msolution\u001b[0m\u001b[0;34m:\u001b[0m\u001b[0;34m\u001b[0m\u001b[0;34m\u001b[0m\u001b[0m\n\u001b[0;32m-> 1145\u001b[0;31m             \u001b[0msolution\u001b[0m \u001b[0;34m=\u001b[0m \u001b[0m_solve\u001b[0m\u001b[0;34m(\u001b[0m\u001b[0mf\u001b[0m\u001b[0;34m[\u001b[0m\u001b[0;36m0\u001b[0m\u001b[0;34m]\u001b[0m\u001b[0;34m,\u001b[0m \u001b[0;34m*\u001b[0m\u001b[0msymbols\u001b[0m\u001b[0;34m,\u001b[0m \u001b[0;34m**\u001b[0m\u001b[0mflags\u001b[0m\u001b[0;34m)\u001b[0m\u001b[0;34m\u001b[0m\u001b[0;34m\u001b[0m\u001b[0m\n\u001b[0m\u001b[1;32m   1146\u001b[0m     \u001b[0;32melse\u001b[0m\u001b[0;34m:\u001b[0m\u001b[0;34m\u001b[0m\u001b[0;34m\u001b[0m\u001b[0m\n\u001b[1;32m   1147\u001b[0m         \u001b[0mlinear\u001b[0m\u001b[0;34m,\u001b[0m \u001b[0msolution\u001b[0m \u001b[0;34m=\u001b[0m \u001b[0m_solve_system\u001b[0m\u001b[0;34m(\u001b[0m\u001b[0mf\u001b[0m\u001b[0;34m,\u001b[0m \u001b[0msymbols\u001b[0m\u001b[0;34m,\u001b[0m \u001b[0;34m**\u001b[0m\u001b[0mflags\u001b[0m\u001b[0;34m)\u001b[0m\u001b[0;34m\u001b[0m\u001b[0;34m\u001b[0m\u001b[0m\n",
      "\u001b[0;32m/usr/local/lib/python3.8/site-packages/sympy/solvers/solvers.py\u001b[0m in \u001b[0;36m_solve\u001b[0;34m(f, *symbols, **flags)\u001b[0m\n\u001b[1;32m   1691\u001b[0m \u001b[0;34m\u001b[0m\u001b[0m\n\u001b[1;32m   1692\u001b[0m     \u001b[0;32mif\u001b[0m \u001b[0mresult\u001b[0m \u001b[0;32mis\u001b[0m \u001b[0;32mFalse\u001b[0m\u001b[0;34m:\u001b[0m\u001b[0;34m\u001b[0m\u001b[0;34m\u001b[0m\u001b[0m\n\u001b[0;32m-> 1693\u001b[0;31m         \u001b[0;32mraise\u001b[0m \u001b[0mNotImplementedError\u001b[0m\u001b[0;34m(\u001b[0m\u001b[0;34m'\\n'\u001b[0m\u001b[0;34m.\u001b[0m\u001b[0mjoin\u001b[0m\u001b[0;34m(\u001b[0m\u001b[0;34m[\u001b[0m\u001b[0mmsg\u001b[0m\u001b[0;34m,\u001b[0m \u001b[0mnot_impl_msg\u001b[0m \u001b[0;34m%\u001b[0m \u001b[0mf\u001b[0m\u001b[0;34m]\u001b[0m\u001b[0;34m)\u001b[0m\u001b[0;34m)\u001b[0m\u001b[0;34m\u001b[0m\u001b[0;34m\u001b[0m\u001b[0m\n\u001b[0m\u001b[1;32m   1694\u001b[0m \u001b[0;34m\u001b[0m\u001b[0m\n\u001b[1;32m   1695\u001b[0m     \u001b[0mresult\u001b[0m \u001b[0;34m=\u001b[0m \u001b[0m_remove_duplicate_solutions\u001b[0m\u001b[0;34m(\u001b[0m\u001b[0mresult\u001b[0m\u001b[0;34m)\u001b[0m\u001b[0;34m\u001b[0m\u001b[0;34m\u001b[0m\u001b[0m\n",
      "\u001b[0;31mNotImplementedError\u001b[0m: multiple generators [b0, b0**alpha]\nNo algorithms are implemented to solve equation -alpha*(b0 - 1)/(b0*b0**alpha*(N/R**alpha + b0**(-alpha))) + alpha*(b0 - 1)/(b0*b0**(2*alpha)*(N/R**alpha + b0**(-alpha))**2) + 1/(b0**alpha*(N/R**alpha + b0**(-alpha)))"
     ]
    }
   ],
   "source": [
    "import sympy as sp\n",
    "\n",
    "# Symbolic variables\n",
    "b0 = sp.Symbol('b0', positive=True)   # The best-response bid we want\n",
    "N  = sp.Symbol('N',  positive=True)   # Number of high-cost players\n",
    "R  = sp.Symbol('R',  positive=True)   # Reserve or cost\n",
    "alpha = sp.Symbol('alpha', positive=True)  # Exponent alpha>1\n",
    "\n",
    "# Define the payoff function for cost=1 player:\n",
    "# u0(b0) = ((b0 -1)* b0^(-alpha)) / ( b0^(-alpha) + N * R^(-alpha) )\n",
    "u0 = ((b0 - 1)* b0**(-alpha)) / (b0**(-alpha) + N*(R**(-alpha)))\n",
    "\n",
    "# Derivative wrt b0\n",
    "du0_db0 = sp.diff(u0, b0)\n",
    "\n",
    "# Solve derivative=0 => best response ignoring constraints\n",
    "solution_unconstrained = sp.solve(sp.Eq(du0_db0, 0), b0, dict=False)\n",
    "\n",
    "print(\"Unconstrained symbolic solution(s) for b0^* with LambertW:\\n\")\n",
    "for sol in solution_unconstrained:\n",
    "    print(\" b0^* =\", sol)\n",
    "    print(\"-----\")\n"
   ]
  }
 ],
 "metadata": {
  "kernelspec": {
   "display_name": "Python 3",
   "language": "python",
   "name": "python3"
  },
  "language_info": {
   "codemirror_mode": {
    "name": "ipython",
    "version": 3
   },
   "file_extension": ".py",
   "mimetype": "text/x-python",
   "name": "python",
   "nbconvert_exporter": "python",
   "pygments_lexer": "ipython3",
   "version": "3.8.16"
  }
 },
 "nbformat": 4,
 "nbformat_minor": 4
}
