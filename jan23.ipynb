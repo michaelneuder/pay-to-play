{
 "cells": [
  {
   "cell_type": "code",
   "execution_count": 1,
   "metadata": {},
   "outputs": [],
   "source": [
    "import matplotlib.pyplot as plt\n",
    "import matplotlib as mpl\n",
    "import matplotlib.patches as mpatches\n",
    "import numpy as np\n",
    "import pandas as pd\n",
    "import cvxpy as cp\n",
    "from scipy.stats import poisson, uniform, expon, pareto\n",
    "from scipy.optimize import minimize, fsolve\n",
    "from tqdm import tqdm\n",
    "from mdptoolbox import mdp, util\n",
    "import itertools\n",
    "from scipy.sparse import csr_matrix, lil_matrix\n",
    "from matplotlib.patches import Patch\n",
    "import math\n",
    "import random\n",
    "import sympy as sp\n",
    "from sympy.printing.latex import print_latex"
   ]
  },
  {
   "cell_type": "code",
   "execution_count": 2,
   "metadata": {},
   "outputs": [],
   "source": [
    "def getEquilBids(cs, a, guess=None):\n",
    "    n = len(cs)\n",
    "    bs = [sp.Symbol('b{}'.format(i)) for i in range(n)]\n",
    "    \n",
    "    denom = sum([bi**(-a) for bi in bs])\n",
    "    xs    = [bi**(-a)/denom for bi in bs]\n",
    "    us    = [(bs[i] - cs[i])*xs[i] for i in range(n)]\n",
    "    diffs = [sp.diff(us[i], bs[i]) for i in range(n)]\n",
    "    funcs = [sp.lambdify(bs, diffs[i]) for i in range(n)]\n",
    "    \n",
    "    def eqs(bs):\n",
    "        return [f(*bs) for f in funcs]\n",
    "    \n",
    "    initial_guess = cs\n",
    "    if guess != None:\n",
    "        initial_guess = guess\n",
    "    \n",
    "    return fsolve(eqs, initial_guess)\n",
    "\n",
    "def getAllos(bids, a):\n",
    "    denom = sum([b**(-a) for b in bids])\n",
    "    return np.array(bids**(-a)) / denom"
   ]
  },
  {
   "cell_type": "code",
   "execution_count": 12,
   "metadata": {},
   "outputs": [
    {
     "data": {
      "text/plain": [
       "array([ 1. ,  1.1,  1.2,  1.3,  1.4,  1.5,  1.6,  1.7,  1.8,  1.9,  2. ,\n",
       "        2.1,  2.2,  2.3,  2.4,  2.5,  2.6,  2.7,  2.8,  2.9,  3. ,  3.1,\n",
       "        3.2,  3.3,  3.4,  3.5,  3.6,  3.7,  3.8,  3.9,  4. ,  4.1,  4.2,\n",
       "        4.3,  4.4,  4.5,  4.6,  4.7,  4.8,  4.9,  5. ,  5.1,  5.2,  5.3,\n",
       "        5.4,  5.5,  5.6,  5.7,  5.8,  5.9,  6. ,  6.1,  6.2,  6.3,  6.4,\n",
       "        6.5,  6.6,  6.7,  6.8,  6.9,  7. ,  7.1,  7.2,  7.3,  7.4,  7.5,\n",
       "        7.6,  7.7,  7.8,  7.9,  8. ,  8.1,  8.2,  8.3,  8.4,  8.5,  8.6,\n",
       "        8.7,  8.8,  8.9,  9. ,  9.1,  9.2,  9.3,  9.4,  9.5,  9.6,  9.7,\n",
       "        9.8,  9.9, 10. ])"
      ]
     },
     "execution_count": 12,
     "metadata": {},
     "output_type": "execute_result"
    }
   ],
   "source": [
    "alpha = 3.\n",
    "c1s   = np.arange(1, 10.01, 0.1)\n",
    "c1s"
   ]
  },
  {
   "cell_type": "code",
   "execution_count": 15,
   "metadata": {},
   "outputs": [
    {
     "data": {
      "text/plain": [
       "((91, 2), (91,))"
      ]
     },
     "execution_count": 15,
     "metadata": {},
     "output_type": "execute_result"
    }
   ],
   "source": [
    "guesses = c1s\n",
    "\n",
    "xTildes  = []\n",
    "welfares = [] \n",
    "for i, c1 in enumerate(c1s):\n",
    "    costs   = [1, c1]\n",
    "    bids    = getEquilBids(costs, a=alpha, guess=[guesses[i],guesses[i]])\n",
    "    xTilde  = getAllos(bids, a=alpha)\n",
    "    xTildes.append(xTilde)\n",
    "    welfares.append(np.dot(costs, xTilde))\n",
    "xTildes = np.asarray(xTildes)\n",
    "welfares = np.asarray(welfares)\n",
    "xTildes.shape, welfares.shape"
   ]
  },
  {
   "cell_type": "code",
   "execution_count": 18,
   "metadata": {},
   "outputs": [
    {
     "data": {
      "image/png": "[encoded data removed]",
      "text/plain": [
       "<Figure size 864x360 with 2 Axes>"
      ]
     },
     "metadata": {
      "needs_background": "light"
     },
     "output_type": "display_data"
    }
   ],
   "source": [
    "f, axarr = plt.subplots(ncols=2, figsize=(12,5))\n",
    "\n",
    "axarr[0].plot(c1s, xTildes[:,0], linewidth=3, alpha=0.6, label=r'$\\tilde{x}_1$', color='mediumorchid',\n",
    "              linestyle='-.')\n",
    "axarr[0].plot(c1s, xTildes[:,1], linewidth=3, alpha=0.6, label=r'$\\tilde{x}_2$', color='goldenrod',\n",
    "              linestyle='-.')\n",
    "\n",
    "axarr[1].plot(c1s, welfares, linewidth=3, alpha=0.6)\n",
    "\n",
    "for ax in axarr:\n",
    "    ax.grid(alpha=0.3)\n",
    "    ax.set_xlabel(r'$c_2$', size=15)\n",
    "axarr[0].legend(prop={'size': 12})\n",
    "axarr[0].set_title(r'allocations $(c_1=1, \\alpha=3)$', size=17)\n",
    "axarr[1].set_title(r'PoA $(c_1=1, \\alpha=3)$', size=17)\n",
    "\n",
    "plt.savefig('out.png', dpi=150, bbox_inches='tight', facecolor='white')\n",
    "plt.show()"
   ]
  },
  {
   "cell_type": "code",
   "execution_count": 25,
   "metadata": {},
   "outputs": [],
   "source": [
    "costs = [1, 5]"
   ]
  },
  {
   "cell_type": "code",
   "execution_count": 26,
   "metadata": {},
   "outputs": [
    {
     "data": {
      "text/plain": [
       "array([ 9.03191683, 10.71104368])"
      ]
     },
     "execution_count": 26,
     "metadata": {},
     "output_type": "execute_result"
    }
   ],
   "source": [
    "bids = getEquilBids(costs, a=alpha, guess=costs)\n",
    "bids"
   ]
  },
  {
   "cell_type": "code",
   "execution_count": 27,
   "metadata": {},
   "outputs": [
    {
     "data": {
      "text/plain": [
       "array([0.62516557, 0.37483443])"
      ]
     },
     "execution_count": 27,
     "metadata": {},
     "output_type": "execute_result"
    }
   ],
   "source": [
    "allos = getAllos(bids, a=alpha)\n",
    "allos"
   ]
  },
  {
   "cell_type": "code",
   "execution_count": 31,
   "metadata": {},
   "outputs": [
    {
     "data": {
      "text/plain": [
       "2.4993377083378556"
      ]
     },
     "execution_count": 31,
     "metadata": {},
     "output_type": "execute_result"
    }
   ],
   "source": [
    "sc = np.dot(costs, allos)\n",
    "sc"
   ]
  },
  {
   "cell_type": "markdown",
   "metadata": {},
   "source": [
    "# sympy for diff for PoA"
   ]
  },
  {
   "cell_type": "code",
   "execution_count": 206,
   "metadata": {},
   "outputs": [],
   "source": [
    "b0 = sp.Symbol('b0', positive=True)\n",
    "R = sp.Symbol('R', positive=True)\n",
    "alpha = sp.Symbol('alpha', positive=True)\n",
    "N = sp.Symbol('N', positive=True)"
   ]
  },
  {
   "cell_type": "code",
   "execution_count": 207,
   "metadata": {},
   "outputs": [
    {
     "data": {
      "text/latex": [
       "$\\displaystyle \\frac{b_{0}^{- \\alpha} \\left(b_{0} - 1\\right)}{N R^{- \\alpha} + b_{0}^{- \\alpha}}$"
      ],
      "text/plain": [
       "(b0 - 1)/(b0**alpha*(N/R**alpha + b0**(-alpha)))"
      ]
     },
     "execution_count": 207,
     "metadata": {},
     "output_type": "execute_result"
    }
   ],
   "source": [
    "u0 = ( (b0 - 1)*b0**(-alpha) ) / ( b0**(-alpha) + N*R**(-alpha) )\n",
    "u0"
   ]
  },
  {
   "cell_type": "code",
   "execution_count": 208,
   "metadata": {},
   "outputs": [
    {
     "data": {
      "text/latex": [
       "$\\displaystyle - \\frac{\\alpha b_{0}^{- \\alpha} \\left(b_{0} - 1\\right)}{b_{0} \\left(N R^{- \\alpha} + b_{0}^{- \\alpha}\\right)} + \\frac{\\alpha b_{0}^{- 2 \\alpha} \\left(b_{0} - 1\\right)}{b_{0} \\left(N R^{- \\alpha} + b_{0}^{- \\alpha}\\right)^{2}} + \\frac{b_{0}^{- \\alpha}}{N R^{- \\alpha} + b_{0}^{- \\alpha}}$"
      ],
      "text/plain": [
       "-alpha*(b0 - 1)/(b0*b0**alpha*(N/R**alpha + b0**(-alpha))) + alpha*(b0 - 1)/(b0*b0**(2*alpha)*(N/R**alpha + b0**(-alpha))**2) + 1/(b0**alpha*(N/R**alpha + b0**(-alpha)))"
      ]
     },
     "execution_count": 208,
     "metadata": {},
     "output_type": "execute_result"
    }
   ],
   "source": [
    "du0_db0 = sp.diff(u0, b0)\n",
    "du0_db0"
   ]
  },
  {
   "cell_type": "code",
   "execution_count": 209,
   "metadata": {},
   "outputs": [
    {
     "data": {
      "text/latex": [
       "$\\displaystyle \\frac{R^{\\alpha} \\left(R^{\\alpha} \\alpha \\left(b_{0} - 1\\right) - \\alpha \\left(b_{0} - 1\\right) \\left(N b_{0}^{\\alpha} + R^{\\alpha}\\right) + b_{0} \\left(N b_{0}^{\\alpha} + R^{\\alpha}\\right)\\right)}{b_{0} \\left(N b_{0}^{\\alpha} + R^{\\alpha}\\right)^{2}} = 0$"
      ],
      "text/plain": [
       "Eq(R**alpha*(R**alpha*alpha*(b0 - 1) - alpha*(b0 - 1)*(N*b0**alpha + R**alpha) + b0*(N*b0**alpha + R**alpha))/(b0*(N*b0**alpha + R**alpha)**2), 0)"
      ]
     },
     "execution_count": 209,
     "metadata": {},
     "output_type": "execute_result"
    }
   ],
   "source": [
    "foc = sp.Eq(sp.simplify(du0_db0),0)\n",
    "foc"
   ]
  },
  {
   "cell_type": "code",
   "execution_count": 179,
   "metadata": {},
   "outputs": [
    {
     "ename": "NotImplementedError",
     "evalue": "multiple generators [b0, b0**alpha]\nNo algorithms are implemented to solve equation R**alpha*alpha*(b0 - 1) - alpha*(b0 - 1)*(N*b0**alpha + R**alpha) + b0*(N*b0**alpha + R**alpha)",
     "output_type": "error",
     "traceback": [
      "\u001b[0;31m---------------------------------------------------------------------------\u001b[0m",
      "\u001b[0;31mNotImplementedError\u001b[0m                       Traceback (most recent call last)",
      "\u001b[0;32m<ipython-input-179-731ea7836ad9>\u001b[0m in \u001b[0;36m<module>\u001b[0;34m\u001b[0m\n\u001b[0;32m----> 1\u001b[0;31m \u001b[0msp\u001b[0m\u001b[0;34m.\u001b[0m\u001b[0msolve\u001b[0m\u001b[0;34m(\u001b[0m\u001b[0mfoc\u001b[0m\u001b[0;34m,\u001b[0m \u001b[0mb0\u001b[0m\u001b[0;34m)\u001b[0m\u001b[0;34m\u001b[0m\u001b[0;34m\u001b[0m\u001b[0m\n\u001b[0m",
      "\u001b[0;32m/usr/local/lib/python3.8/site-packages/sympy/solvers/solvers.py\u001b[0m in \u001b[0;36msolve\u001b[0;34m(f, *symbols, **flags)\u001b[0m\n\u001b[1;32m   1143\u001b[0m             \u001b[0msolution\u001b[0m \u001b[0;34m=\u001b[0m \u001b[0m_solve_undetermined\u001b[0m\u001b[0;34m(\u001b[0m\u001b[0mf\u001b[0m\u001b[0;34m[\u001b[0m\u001b[0;36m0\u001b[0m\u001b[0;34m]\u001b[0m\u001b[0;34m,\u001b[0m \u001b[0msymbols\u001b[0m\u001b[0;34m,\u001b[0m \u001b[0mflags\u001b[0m\u001b[0;34m)\u001b[0m\u001b[0;34m\u001b[0m\u001b[0;34m\u001b[0m\u001b[0m\n\u001b[1;32m   1144\u001b[0m         \u001b[0;32mif\u001b[0m \u001b[0;32mnot\u001b[0m \u001b[0msolution\u001b[0m\u001b[0;34m:\u001b[0m\u001b[0;34m\u001b[0m\u001b[0;34m\u001b[0m\u001b[0m\n\u001b[0;32m-> 1145\u001b[0;31m             \u001b[0msolution\u001b[0m \u001b[0;34m=\u001b[0m \u001b[0m_solve\u001b[0m\u001b[0;34m(\u001b[0m\u001b[0mf\u001b[0m\u001b[0;34m[\u001b[0m\u001b[0;36m0\u001b[0m\u001b[0;34m]\u001b[0m\u001b[0;34m,\u001b[0m \u001b[0;34m*\u001b[0m\u001b[0msymbols\u001b[0m\u001b[0;34m,\u001b[0m \u001b[0;34m**\u001b[0m\u001b[0mflags\u001b[0m\u001b[0;34m)\u001b[0m\u001b[0;34m\u001b[0m\u001b[0;34m\u001b[0m\u001b[0m\n\u001b[0m\u001b[1;32m   1146\u001b[0m     \u001b[0;32melse\u001b[0m\u001b[0;34m:\u001b[0m\u001b[0;34m\u001b[0m\u001b[0;34m\u001b[0m\u001b[0m\n\u001b[1;32m   1147\u001b[0m         \u001b[0mlinear\u001b[0m\u001b[0;34m,\u001b[0m \u001b[0msolution\u001b[0m \u001b[0;34m=\u001b[0m \u001b[0m_solve_system\u001b[0m\u001b[0;34m(\u001b[0m\u001b[0mf\u001b[0m\u001b[0;34m,\u001b[0m \u001b[0msymbols\u001b[0m\u001b[0;34m,\u001b[0m \u001b[0;34m**\u001b[0m\u001b[0mflags\u001b[0m\u001b[0;34m)\u001b[0m\u001b[0;34m\u001b[0m\u001b[0;34m\u001b[0m\u001b[0m\n",
      "\u001b[0;32m/usr/local/lib/python3.8/site-packages/sympy/solvers/solvers.py\u001b[0m in \u001b[0;36m_solve\u001b[0;34m(f, *symbols, **flags)\u001b[0m\n\u001b[1;32m   1372\u001b[0m                 \u001b[0mresult\u001b[0m \u001b[0;34m=\u001b[0m \u001b[0mset\u001b[0m\u001b[0;34m(\u001b[0m\u001b[0;34m)\u001b[0m\u001b[0;34m\u001b[0m\u001b[0;34m\u001b[0m\u001b[0m\n\u001b[1;32m   1373\u001b[0m                 \u001b[0;32mbreak\u001b[0m\u001b[0;34m\u001b[0m\u001b[0;34m\u001b[0m\u001b[0m\n\u001b[0;32m-> 1374\u001b[0;31m             \u001b[0msoln\u001b[0m \u001b[0;34m=\u001b[0m \u001b[0m_vsolve\u001b[0m\u001b[0;34m(\u001b[0m\u001b[0mm\u001b[0m\u001b[0;34m,\u001b[0m \u001b[0msymbol\u001b[0m\u001b[0;34m,\u001b[0m \u001b[0;34m**\u001b[0m\u001b[0mflags\u001b[0m\u001b[0;34m)\u001b[0m\u001b[0;34m\u001b[0m\u001b[0;34m\u001b[0m\u001b[0m\n\u001b[0m\u001b[1;32m   1375\u001b[0m             \u001b[0mresult\u001b[0m\u001b[0;34m.\u001b[0m\u001b[0mupdate\u001b[0m\u001b[0;34m(\u001b[0m\u001b[0mset\u001b[0m\u001b[0;34m(\u001b[0m\u001b[0msoln\u001b[0m\u001b[0;34m)\u001b[0m\u001b[0;34m)\u001b[0m\u001b[0;34m\u001b[0m\u001b[0;34m\u001b[0m\u001b[0m\n\u001b[1;32m   1376\u001b[0m         \u001b[0mresult\u001b[0m \u001b[0;34m=\u001b[0m \u001b[0;34m[\u001b[0m\u001b[0;34m{\u001b[0m\u001b[0msymbol\u001b[0m\u001b[0;34m:\u001b[0m \u001b[0mv\u001b[0m\u001b[0;34m}\u001b[0m \u001b[0;32mfor\u001b[0m \u001b[0mv\u001b[0m \u001b[0;32min\u001b[0m \u001b[0mresult\u001b[0m\u001b[0;34m]\u001b[0m\u001b[0;34m\u001b[0m\u001b[0;34m\u001b[0m\u001b[0m\n",
      "\u001b[0;32m/usr/local/lib/python3.8/site-packages/sympy/solvers/solvers.py\u001b[0m in \u001b[0;36m_vsolve\u001b[0;34m(e, s, **flags)\u001b[0m\n\u001b[1;32m   2604\u001b[0m \u001b[0;32mdef\u001b[0m \u001b[0m_vsolve\u001b[0m\u001b[0;34m(\u001b[0m\u001b[0me\u001b[0m\u001b[0;34m,\u001b[0m \u001b[0ms\u001b[0m\u001b[0;34m,\u001b[0m \u001b[0;34m**\u001b[0m\u001b[0mflags\u001b[0m\u001b[0;34m)\u001b[0m\u001b[0;34m:\u001b[0m\u001b[0;34m\u001b[0m\u001b[0;34m\u001b[0m\u001b[0m\n\u001b[1;32m   2605\u001b[0m     \u001b[0;34m\"\"\"return list of scalar values for the solution of e for symbol s\"\"\"\u001b[0m\u001b[0;34m\u001b[0m\u001b[0;34m\u001b[0m\u001b[0m\n\u001b[0;32m-> 2606\u001b[0;31m     \u001b[0;32mreturn\u001b[0m \u001b[0;34m[\u001b[0m\u001b[0mi\u001b[0m\u001b[0;34m[\u001b[0m\u001b[0ms\u001b[0m\u001b[0;34m]\u001b[0m \u001b[0;32mfor\u001b[0m \u001b[0mi\u001b[0m \u001b[0;32min\u001b[0m \u001b[0m_solve\u001b[0m\u001b[0;34m(\u001b[0m\u001b[0me\u001b[0m\u001b[0;34m,\u001b[0m \u001b[0ms\u001b[0m\u001b[0;34m,\u001b[0m \u001b[0;34m**\u001b[0m\u001b[0mflags\u001b[0m\u001b[0;34m)\u001b[0m\u001b[0;34m]\u001b[0m\u001b[0;34m\u001b[0m\u001b[0;34m\u001b[0m\u001b[0m\n\u001b[0m\u001b[1;32m   2607\u001b[0m \u001b[0;34m\u001b[0m\u001b[0m\n\u001b[1;32m   2608\u001b[0m \u001b[0;34m\u001b[0m\u001b[0m\n",
      "\u001b[0;32m/usr/local/lib/python3.8/site-packages/sympy/solvers/solvers.py\u001b[0m in \u001b[0;36m_solve\u001b[0;34m(f, *symbols, **flags)\u001b[0m\n\u001b[1;32m   1691\u001b[0m \u001b[0;34m\u001b[0m\u001b[0m\n\u001b[1;32m   1692\u001b[0m     \u001b[0;32mif\u001b[0m \u001b[0mresult\u001b[0m \u001b[0;32mis\u001b[0m \u001b[0;32mFalse\u001b[0m\u001b[0;34m:\u001b[0m\u001b[0;34m\u001b[0m\u001b[0;34m\u001b[0m\u001b[0m\n\u001b[0;32m-> 1693\u001b[0;31m         \u001b[0;32mraise\u001b[0m \u001b[0mNotImplementedError\u001b[0m\u001b[0;34m(\u001b[0m\u001b[0;34m'\\n'\u001b[0m\u001b[0;34m.\u001b[0m\u001b[0mjoin\u001b[0m\u001b[0;34m(\u001b[0m\u001b[0;34m[\u001b[0m\u001b[0mmsg\u001b[0m\u001b[0;34m,\u001b[0m \u001b[0mnot_impl_msg\u001b[0m \u001b[0;34m%\u001b[0m \u001b[0mf\u001b[0m\u001b[0;34m]\u001b[0m\u001b[0;34m)\u001b[0m\u001b[0;34m)\u001b[0m\u001b[0;34m\u001b[0m\u001b[0;34m\u001b[0m\u001b[0m\n\u001b[0m\u001b[1;32m   1694\u001b[0m \u001b[0;34m\u001b[0m\u001b[0m\n\u001b[1;32m   1695\u001b[0m     \u001b[0mresult\u001b[0m \u001b[0;34m=\u001b[0m \u001b[0m_remove_duplicate_solutions\u001b[0m\u001b[0;34m(\u001b[0m\u001b[0mresult\u001b[0m\u001b[0;34m)\u001b[0m\u001b[0;34m\u001b[0m\u001b[0;34m\u001b[0m\u001b[0m\n",
      "\u001b[0;31mNotImplementedError\u001b[0m: multiple generators [b0, b0**alpha]\nNo algorithms are implemented to solve equation R**alpha*alpha*(b0 - 1) - alpha*(b0 - 1)*(N*b0**alpha + R**alpha) + b0*(N*b0**alpha + R**alpha)"
     ]
    }
   ],
   "source": [
    "sp.solve(foc, b0)"
   ]
  },
  {
   "cell_type": "code",
   "execution_count": 210,
   "metadata": {},
   "outputs": [
    {
     "data": {
      "text/latex": [
       "$\\displaystyle - \\frac{\\alpha b_{0}^{- \\alpha} \\left(b_{0} - 1\\right)}{b_{0} \\left(N R^{- \\alpha} + b_{0}^{- \\alpha}\\right)} + \\frac{\\alpha b_{0}^{- 2 \\alpha} \\left(b_{0} - 1\\right)}{b_{0} \\left(N R^{- \\alpha} + b_{0}^{- \\alpha}\\right)^{2}} + \\frac{b_{0}^{- \\alpha}}{N R^{- \\alpha} + b_{0}^{- \\alpha}}$"
      ],
      "text/plain": [
       "-alpha*(b0 - 1)/(b0*b0**alpha*(N/R**alpha + b0**(-alpha))) + alpha*(b0 - 1)/(b0*b0**(2*alpha)*(N/R**alpha + b0**(-alpha))**2) + 1/(b0**alpha*(N/R**alpha + b0**(-alpha)))"
      ]
     },
     "execution_count": 210,
     "metadata": {},
     "output_type": "execute_result"
    }
   ],
   "source": [
    "du0_db0"
   ]
  },
  {
   "cell_type": "code",
   "execution_count": 211,
   "metadata": {},
   "outputs": [
    {
     "data": {
      "text/latex": [
       "$\\displaystyle \\frac{4.0 \\left(b_{0} - 1.0\\right)}{b_{0}^{9.0} \\left(b_{0}^{-4.0} + 0.0625\\right)^{2}} - \\frac{4.0 \\left(b_{0} - 1.0\\right)}{b_{0}^{5.0} \\left(b_{0}^{-4.0} + 0.0625\\right)} + \\frac{1}{b_{0}^{4.0} \\left(b_{0}^{-4.0} + 0.0625\\right)}$"
      ],
      "text/plain": [
       "4.0*(b0 - 1.0)/(b0**9.0*(b0**(-4.0) + 0.0625)**2) - 4.0*(b0 - 1.0)/(b0**5.0*(b0**(-4.0) + 0.0625)) + 1/(b0**4.0*(b0**(-4.0) + 0.0625))"
      ]
     },
     "execution_count": 211,
     "metadata": {},
     "output_type": "execute_result"
    }
   ],
   "source": [
    "eq_numeric = du0_db0.evalf(subs={alpha:4., N:1., R:2.})\n",
    "eq_numeric"
   ]
  },
  {
   "cell_type": "code",
   "execution_count": 212,
   "metadata": {},
   "outputs": [
    {
     "data": {
      "text/latex": [
       "$\\displaystyle - \\frac{\\alpha b_{0}^{- \\alpha} \\left(b_{0} - 1\\right)}{b_{0} \\left(N R^{- \\alpha} + b_{0}^{- \\alpha}\\right)} + \\frac{\\alpha b_{0}^{- 2 \\alpha} \\left(b_{0} - 1\\right)}{b_{0} \\left(N R^{- \\alpha} + b_{0}^{- \\alpha}\\right)^{2}} + \\frac{b_{0}^{- \\alpha}}{N R^{- \\alpha} + b_{0}^{- \\alpha}}$"
      ],
      "text/plain": [
       "-alpha*(b0 - 1)/(b0*b0**alpha*(N/R**alpha + b0**(-alpha))) + alpha*(b0 - 1)/(b0*b0**(2*alpha)*(N/R**alpha + b0**(-alpha))**2) + 1/(b0**alpha*(N/R**alpha + b0**(-alpha)))"
      ]
     },
     "execution_count": 212,
     "metadata": {},
     "output_type": "execute_result"
    }
   ],
   "source": [
    "du0_db0"
   ]
  },
  {
   "cell_type": "code",
   "execution_count": 213,
   "metadata": {},
   "outputs": [
    {
     "data": {
      "text/latex": [
       "$\\displaystyle 2.0$"
      ],
      "text/plain": [
       "2.00000000000000"
      ]
     },
     "execution_count": 213,
     "metadata": {},
     "output_type": "execute_result"
    }
   ],
   "source": [
    "b0_sol = sp.nsolve(sp.Eq(eq_numeric, 0), b0, guess)\n",
    "b0_sol"
   ]
  },
  {
   "cell_type": "markdown",
   "metadata": {},
   "source": [
    "# numerical for diff for PoA"
   ]
  },
  {
   "cell_type": "code",
   "execution_count": 93,
   "metadata": {},
   "outputs": [],
   "source": [
    "from scipy.optimize import brentq, newton\n",
    "\n",
    "def u0_derivative(b0, N_, R_, alpha_):\n",
    "    guess = 1\n",
    "    eq_numeric = du0_db0.evalf(subs={N:1., R:2., alpha_})\n",
    "    b0_sol = sp.nsolve(sp.Eq(eq_numeric, 0), b0, guess)\n",
    "    return derivative_value"
   ]
  },
  {
   "cell_type": "code",
   "execution_count": 214,
   "metadata": {},
   "outputs": [],
   "source": [
    "def getAllo(b0, N_, R_, alpha_):\n",
    "    return b0**(-alpha_) / (b0**(-alpha_) + N_*R_**(-alpha_))"
   ]
  },
  {
   "cell_type": "code",
   "execution_count": 266,
   "metadata": {},
   "outputs": [
    {
     "data": {
      "text/latex": [
       "$\\displaystyle 6.44154386309126$"
      ],
      "text/plain": [
       "6.44154386309126"
      ]
     },
     "execution_count": 266,
     "metadata": {},
     "output_type": "execute_result"
    }
   ],
   "source": [
    "N_ = 1\n",
    "R_ = 8\n",
    "alpha_ = 4\n",
    "guess = 4\n",
    "eq_numeric = du0_db0.evalf(subs={N:N_, R:R_, alpha:alpha_})\n",
    "b0_star = sp.nsolve(sp.Eq(eq_numeric, 0), b0, guess)\n",
    "b0_star"
   ]
  },
  {
   "cell_type": "code",
   "execution_count": 231,
   "metadata": {},
   "outputs": [
    {
     "data": {
      "text/latex": [
       "$\\displaystyle \\frac{1}{b_{0}^{6} \\cdot \\left(0.015625 + \\frac{1}{b_{0}^{6}}\\right)} - \\frac{6.0 \\left(b_{0} - 1.0\\right)}{b_{0}^{7} \\cdot \\left(0.015625 + \\frac{1}{b_{0}^{6}}\\right)} + \\frac{6.0 \\left(b_{0} - 1.0\\right)}{b_{0}^{13} \\left(0.015625 + \\frac{1}{b_{0}^{6}}\\right)^{2}}$"
      ],
      "text/plain": [
       "1/(b0**6*(0.015625 + b0**(-6))) - 6.0*(b0 - 1.0)/(b0**7*(0.015625 + b0**(-6))) + 6.0*(b0 - 1.0)/(b0**13*(0.015625 + b0**(-6))**2)"
      ]
     },
     "execution_count": 231,
     "metadata": {},
     "output_type": "execute_result"
    }
   ],
   "source": [
    "eq_numeric"
   ]
  },
  {
   "cell_type": "code",
   "execution_count": 216,
   "metadata": {},
   "outputs": [
    {
     "data": {
      "text/plain": [
       "(0.500000000000000, 0.500000000000000)"
      ]
     },
     "execution_count": 216,
     "metadata": {},
     "output_type": "execute_result"
    }
   ],
   "source": [
    "x0 = getAllo(b0_star, N_, R_, alpha_)\n",
    "xm1 = 1-x0\n",
    "x0, xm1"
   ]
  },
  {
   "cell_type": "code",
   "execution_count": 217,
   "metadata": {},
   "outputs": [
    {
     "data": {
      "text/latex": [
       "$\\displaystyle 1.5$"
      ],
      "text/plain": [
       "1.50000000000000"
      ]
     },
     "execution_count": 217,
     "metadata": {},
     "output_type": "execute_result"
    }
   ],
   "source": [
    "PoA = x0 + N_*R_*xm1\n",
    "PoA"
   ]
  },
  {
   "cell_type": "code",
   "execution_count": 241,
   "metadata": {},
   "outputs": [],
   "source": [
    "def getPoA(N_, R_, alpha_, guess):\n",
    "    eq_numeric = du0_db0.evalf(subs={N:N_, R:R_, alpha:alpha_})\n",
    "    b0_star = sp.nsolve(sp.Eq(eq_numeric, 0), b0, guess)\n",
    "    x0 = getAllo(b0_star, N_, R_, alpha_)\n",
    "    xm1 = 1-x0\n",
    "    return x0 + N_*R_*xm1"
   ]
  },
  {
   "cell_type": "code",
   "execution_count": 249,
   "metadata": {},
   "outputs": [
    {
     "data": {
      "text/latex": [
       "$\\displaystyle 17.1162088903224$"
      ],
      "text/plain": [
       "17.1162088903224"
      ]
     },
     "execution_count": 249,
     "metadata": {},
     "output_type": "execute_result"
    }
   ],
   "source": [
    "getPoA(10., 2., 3., guess=1.5)"
   ]
  },
  {
   "cell_type": "code",
   "execution_count": 268,
   "metadata": {},
   "outputs": [
    {
     "data": {
      "text/plain": [
       "(3, 19, 3)"
      ]
     },
     "execution_count": 268,
     "metadata": {},
     "output_type": "execute_result"
    }
   ],
   "source": [
    "rs = [2, 4, 8]\n",
    "ns = np.arange(1, 20)\n",
    "alphas = [3, 4, 5]\n",
    "guesses = [1.5, 2, 4]\n",
    "\n",
    "poas = []\n",
    "for i, R_ in enumerate(rs):\n",
    "    temp = []\n",
    "    for N_ in ns:\n",
    "        temp2 = []\n",
    "        for alpha_ in alphas:\n",
    "            # print(N_, R_, alpha_)\n",
    "            temp2.append(getPoA(N_, R_, alpha_, guesses[i]))\n",
    "        temp.append(temp2)\n",
    "    poas.append(temp)\n",
    "poas = np.array(poas)\n",
    "poas.shape"
   ]
  },
  {
   "cell_type": "code",
   "execution_count": 286,
   "metadata": {},
   "outputs": [],
   "source": [
    "def getHonestAllos(N_, R_, alpha_):\n",
    "    costs = [R_]*N_\n",
    "    costs.append(1.)\n",
    "    costs = np.array(costs)\n",
    "    return costs, costs**(-alpha_) / sum(costs**(-alpha_))"
   ]
  },
  {
   "cell_type": "code",
   "execution_count": 285,
   "metadata": {},
   "outputs": [
    {
     "data": {
      "text/plain": [
       "array([0.00769231, 0.00769231, 0.00769231, 0.00769231, 0.00769231,\n",
       "       0.96153846])"
      ]
     },
     "execution_count": 285,
     "metadata": {},
     "output_type": "execute_result"
    }
   ],
   "source": [
    "getHonestAllos(5,5,3)"
   ]
  },
  {
   "cell_type": "code",
   "execution_count": 288,
   "metadata": {},
   "outputs": [
    {
     "data": {
      "text/plain": [
       "(3, 19, 3)"
      ]
     },
     "execution_count": 288,
     "metadata": {},
     "output_type": "execute_result"
    }
   ],
   "source": [
    "welfares = [] \n",
    "for i, R_ in enumerate(rs):\n",
    "    temp = []\n",
    "    for N_ in ns:\n",
    "        temp2 = []\n",
    "        for alpha_ in alphas:\n",
    "            costs, allos = getHonestAllos(N_, R_, alpha_)\n",
    "            social_cost = np.dot(costs, allos)\n",
    "            temp2.append(social_cost)\n",
    "        temp.append(temp2)\n",
    "    welfares.append(temp)\n",
    "welfares = np.array(welfares)\n",
    "welfares.shape"
   ]
  },
  {
   "cell_type": "code",
   "execution_count": 293,
   "metadata": {},
   "outputs": [
    {
     "data": {
      "text/plain": [
       "(array([5., 5., 5., 5., 5., 1.]),\n",
       " array([0.00769231, 0.00769231, 0.00769231, 0.00769231, 0.00769231,\n",
       "        0.96153846]),\n",
       " 1.1538461538461537)"
      ]
     },
     "execution_count": 293,
     "metadata": {},
     "output_type": "execute_result"
    }
   ],
   "source": [
    "costs, allos = getHonestAllos(5, 5, 3)\n",
    "costs, allos, np.dot(costs, allos)"
   ]
  },
  {
   "cell_type": "code",
   "execution_count": 295,
   "metadata": {},
   "outputs": [
    {
     "data": {
      "image/png": "[encoded data removed]",
      "text/plain": [
       "<Figure size 1008x288 with 3 Axes>"
      ]
     },
     "metadata": {
      "needs_background": "light"
     },
     "output_type": "display_data"
    }
   ],
   "source": [
    "f, axarr = plt.subplots(ncols=3, figsize=(14,4))\n",
    "\n",
    "colors = ['darkorange', 'seagreen', 'darkslateblue']\n",
    "for i in range(3):\n",
    "    for j in range(3):\n",
    "        axarr[i].plot(ns, poas[i,:,j], label=r'PoA: $\\alpha=${}'.format(alphas[j]), color=colors[j])\n",
    "#         axarr[i].plot(ns, welfares[i,:,j], label=r'Welfare loss: $\\alpha=${}'.format(alphas[j]), \n",
    "#                       color=colors[j], linestyle='--')\n",
    "    \n",
    "for i, ax in enumerate(axarr):\n",
    "    ax.legend()\n",
    "    ax.grid(alpha=0.3)\n",
    "    ax.set_xticks(np.arange(0,21,5))\n",
    "    ax.set_xlabel(r'$N$', size=14)\n",
    "    ax.set_title(r'$R={}$'.format(rs[i], size=14))\n",
    "\n",
    "plt.savefig('out.png', dpi=400, bbox_inches='tight', facecolor='white')"
   ]
  }
 ],
 "metadata": {
  "kernelspec": {
   "display_name": "Python 3",
   "language": "python",
   "name": "python3"
  },
  "language_info": {
   "codemirror_mode": {
    "name": "ipython",
    "version": 3
   },
   "file_extension": ".py",
   "mimetype": "text/x-python",
   "name": "python",
   "nbconvert_exporter": "python",
   "pygments_lexer": "ipython3",
   "version": "3.8.16"
  }
 },
 "nbformat": 4,
 "nbformat_minor": 4
}
