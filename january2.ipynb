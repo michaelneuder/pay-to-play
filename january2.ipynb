{
 "cells": [
  {
   "cell_type": "code",
   "execution_count": 1,
   "metadata": {},
   "outputs": [],
   "source": [
    "import matplotlib.pyplot as plt\n",
    "import matplotlib as mpl\n",
    "import matplotlib.patches as mpatches\n",
    "import numpy as np\n",
    "import pandas as pd\n",
    "import cvxpy as cp\n",
    "from scipy.stats import poisson, uniform, expon, pareto\n",
    "from scipy.optimize import minimize, fsolve\n",
    "from tqdm import tqdm\n",
    "from mdptoolbox import mdp, util\n",
    "import itertools\n",
    "from scipy.sparse import csr_matrix, lil_matrix\n",
    "from matplotlib.patches import Patch\n",
    "import math\n",
    "import random\n",
    "import sympy as sp\n",
    "from sympy.printing.latex import print_latex"
   ]
  },
  {
   "cell_type": "markdown",
   "metadata": {},
   "source": [
    "# OLD OBJECTIVE"
   ]
  },
  {
   "cell_type": "code",
   "execution_count": 2,
   "metadata": {},
   "outputs": [],
   "source": [
    "# NEGATIVE to maximize\n",
    "def F(c, alpha, N):\n",
    "    sorted_c = np.sort(c)\n",
    "    subCs    = sorted_c[:N]\n",
    "    x1s    = np.power(subCs, -alpha) / np.sum(np.array([np.power(subCs[i], -alpha) for i in range(len(subCs))]))\n",
    "    val1s  = np.array([subCs[i]*np.power(x1s[i], 1+1/alpha) for i in range(len(subCs))])\n",
    "    \n",
    "    x2s    = np.power(c, -alpha) / np.sum(np.array([np.power(c[i], -alpha) for i in range(len(c))]))\n",
    "    val2s  = np.array([c[i]*np.power(x2s[i], 1+1/alpha) for i in range(len(c))])\n",
    "    \n",
    "    num = np.sum(val1s)\n",
    "    den = np.sum(val2s)\n",
    "    \n",
    "    return -num/den"
   ]
  },
  {
   "cell_type": "code",
   "execution_count": 6,
   "metadata": {},
   "outputs": [
    {
     "data": {
      "text/plain": [
       "(array([1., 1.]), -1.259921049894873, 1.2599210498948732)"
      ]
     },
     "execution_count": 6,
     "metadata": {},
     "output_type": "execute_result"
    }
   ],
   "source": [
    "alpha = 3.\n",
    "R = 10\n",
    "# N < R^{alpha-1}\n",
    "n = 2\n",
    "N = 1\n",
    "start_pos = np.array([1, 1])\n",
    "bnds = tuple((1,10) for x in start_pos)\n",
    "\n",
    "res = minimize(\n",
    "    F, \n",
    "    start_pos, \n",
    "    method      = 'SLSQP',\n",
    "    args        = (alpha, N),\n",
    "    bounds      = bnds, \n",
    "    tol=1e-16,\n",
    "    options={'ftol':1e-16, 'maxiter':1000}\n",
    ")\n",
    "res.x, res.fun, (n/N)**(1/alpha)"
   ]
  },
  {
   "cell_type": "markdown",
   "metadata": {},
   "source": [
    "# NEW OBJECTIVE"
   ]
  },
  {
   "cell_type": "code",
   "execution_count": 58,
   "metadata": {},
   "outputs": [],
   "source": [
    "# NEGATIVE to maximize\n",
    "def F(c, alpha, N):\n",
    "    sorted_c = np.sort(c)\n",
    "    subCs    = sorted_c[:N]\n",
    "    x1s    = np.power(subCs, -alpha) / np.sum(np.array([np.power(subCs[i], -alpha) for i in range(len(subCs))]))\n",
    "    val1s  = np.array([alpha * np.log(subCs[i])*x1s[i] + x1s[i] * np.log(x1s[i]) for i in range(len(subCs))])\n",
    "    \n",
    "    x2s    = np.power(c, -alpha) / np.sum(np.array([np.power(c[i], -alpha) for i in range(len(c))]))\n",
    "    val2s  = np.array([alpha * np.log(c[i])*x2s[i] + x2s[i] * np.log(x2s[i]) for i in range(len(c))])\n",
    "    \n",
    "    num = np.sum(val1s)\n",
    "    den = np.sum(val2s)\n",
    "    \n",
    "    return -num/den"
   ]
  },
  {
   "cell_type": "code",
   "execution_count": 54,
   "metadata": {},
   "outputs": [
    {
     "data": {
      "text/plain": [
       "-5.4740312186774e-05"
      ]
     },
     "execution_count": 54,
     "metadata": {},
     "output_type": "execute_result"
    }
   ],
   "source": [
    "0.5 * np.log(0.5) + np.log(1.41413615)"
   ]
  },
  {
   "cell_type": "code",
   "execution_count": 56,
   "metadata": {},
   "outputs": [
    {
     "data": {
      "text/plain": [
       "(-0.34657359027997264, 0.34651884996778587)"
      ]
     },
     "execution_count": 56,
     "metadata": {},
     "output_type": "execute_result"
    }
   ],
   "source": [
    "0.5 * np.log(0.5), np.log(1.41413615)"
   ]
  },
  {
   "cell_type": "code",
   "execution_count": null,
   "metadata": {},
   "outputs": [],
   "source": [
    "find a cost such that the allocation matches the log of cost"
   ]
  },
  {
   "cell_type": "code",
   "execution_count": 43,
   "metadata": {},
   "outputs": [
    {
     "data": {
      "text/plain": [
       "0.0"
      ]
     },
     "execution_count": 43,
     "metadata": {},
     "output_type": "execute_result"
    }
   ],
   "source": [
    "np.log(1)"
   ]
  },
  {
   "cell_type": "code",
   "execution_count": 61,
   "metadata": {},
   "outputs": [
    {
     "data": {
      "text/plain": [
       "(array([2.10591685, 2.10591687, 2.10591687, 2.10591686, 3.20664703]),\n",
       " -483.33878969977815,\n",
       " 1.2909944487358056)"
      ]
     },
     "execution_count": 61,
     "metadata": {},
     "output_type": "execute_result"
    }
   ],
   "source": [
    "alpha = 2.\n",
    "R = 10\n",
    "# N < R^{alpha-1}\n",
    "n = 5\n",
    "N = 3\n",
    "start_pos = np.array([8, 8, 8, 8, 8])\n",
    "bnds = tuple((1,10) for x in start_pos)\n",
    "\n",
    "res = minimize(\n",
    "    F, \n",
    "    start_pos, \n",
    "    method      = 'SLSQP',\n",
    "    args        = (alpha, N),\n",
    "    bounds      = bnds, \n",
    "    tol=1e-16,\n",
    "    options={'ftol':1e-16, 'maxiter':1000}\n",
    ")\n",
    "res.x, res.fun, (n/N)**(1/alpha)"
   ]
  },
  {
   "cell_type": "code",
   "execution_count": 68,
   "metadata": {},
   "outputs": [
    {
     "data": {
      "text/plain": [
       "-483.33881139759245"
      ]
     },
     "execution_count": 68,
     "metadata": {},
     "output_type": "execute_result"
    }
   ],
   "source": [
    "F([2.10591685, 2.10591687, 2.10591687, 2.10591686, 3.20664703], alpha=2, N=3)"
   ]
  }
 ],
 "metadata": {
  "kernelspec": {
   "display_name": "Python 3",
   "language": "python",
   "name": "python3"
  },
  "language_info": {
   "codemirror_mode": {
    "name": "ipython",
    "version": 3
   },
   "file_extension": ".py",
   "mimetype": "text/x-python",
   "name": "python",
   "nbconvert_exporter": "python",
   "pygments_lexer": "ipython3",
   "version": "3.8.16"
  }
 },
 "nbformat": 4,
 "nbformat_minor": 4
}
