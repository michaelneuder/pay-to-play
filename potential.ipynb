{
 "cells": [
  {
   "cell_type": "code",
   "execution_count": 5,
   "metadata": {},
   "outputs": [],
   "source": [
    "import matplotlib.pyplot as plt\n",
    "import matplotlib as mpl\n",
    "import matplotlib.patches as mpatches\n",
    "import numpy as np\n",
    "import pandas as pd\n",
    "import cvxpy as cp\n",
    "from scipy.stats import poisson, uniform, expon, pareto\n",
    "from scipy.optimize import minimize\n",
    "from tqdm import tqdm\n",
    "from mdptoolbox import mdp, util\n",
    "import itertools\n",
    "from scipy.sparse import csr_matrix, lil_matrix\n",
    "from matplotlib.patches import Patch\n",
    "import math\n",
    "import random\n",
    "import sympy as sp\n",
    "from sympy.printing.latex import print_latex"
   ]
  },
  {
   "cell_type": "markdown",
   "metadata": {},
   "source": [
    "# Symbolic for derivatives"
   ]
  },
  {
   "cell_type": "code",
   "execution_count": 6,
   "metadata": {},
   "outputs": [],
   "source": [
    "vi, xi = sp.symbols('v_i x_i')\n",
    "a      = sp.symbols('a')\n",
    "y      = sp.symbols('y')\n",
    "\n",
    "\n",
    "t1 = vi*xi*a * (xi**(1-1/a) - xi**(2-1/a))\n",
    "t2 = sp.integrate(vi*y*((a-1)*y**(-1/a)-(2*a-1)*y**(1-1/a)), (y, 0, xi))\n",
    "uhat = t1 - t2"
   ]
  },
  {
   "cell_type": "code",
   "execution_count": 9,
   "metadata": {},
   "outputs": [
    {
     "data": {
      "text/latex": [
       "$\\displaystyle a v_{i} x_{i} \\left(x_{i}^{1 - \\frac{1}{a}} - x_{i}^{2 - \\frac{1}{a}}\\right) - \\begin{cases} v_{i} \\left(\\frac{\\log{\\left(x_{i} \\right)}}{3} + \\frac{2}{3 x_{i}}\\right) - \\infty \\operatorname{sign}{\\left(v_{i} \\right)} & \\text{for}\\: a = \\frac{1}{3} \\\\- \\frac{v_{i} \\log{\\left(x_{i} \\right)}}{2} - \\infty \\operatorname{sign}{\\left(v_{i} \\right)} & \\text{for}\\: a = \\frac{1}{2} \\\\v_{i} \\left(- \\frac{4 a^{3} x_{i}^{2} x_{i}^{\\frac{1}{a}} x_{i}^{1 - \\frac{1}{a}}}{6 a^{2} x_{i}^{\\frac{1}{a}} - 5 a x_{i}^{\\frac{1}{a}} + x_{i}^{\\frac{1}{a}}} + \\frac{3 a^{3} x_{i}^{2}}{6 a^{2} x_{i}^{\\frac{1}{a}} - 5 a x_{i}^{\\frac{1}{a}} + x_{i}^{\\frac{1}{a}}} + \\frac{4 a^{2} x_{i}^{2} x_{i}^{\\frac{1}{a}} x_{i}^{1 - \\frac{1}{a}}}{6 a^{2} x_{i}^{\\frac{1}{a}} - 5 a x_{i}^{\\frac{1}{a}} + x_{i}^{\\frac{1}{a}}} - \\frac{4 a^{2} x_{i}^{2}}{6 a^{2} x_{i}^{\\frac{1}{a}} - 5 a x_{i}^{\\frac{1}{a}} + x_{i}^{\\frac{1}{a}}} - \\frac{a x_{i}^{2} x_{i}^{\\frac{1}{a}} x_{i}^{1 - \\frac{1}{a}}}{6 a^{2} x_{i}^{\\frac{1}{a}} - 5 a x_{i}^{\\frac{1}{a}} + x_{i}^{\\frac{1}{a}}} + \\frac{a x_{i}^{2}}{6 a^{2} x_{i}^{\\frac{1}{a}} - 5 a x_{i}^{\\frac{1}{a}} + x_{i}^{\\frac{1}{a}}}\\right) & \\text{otherwise} \\end{cases}$"
      ],
      "text/plain": [
       "a*v_i*x_i*(x_i**(1 - 1/a) - x_i**(2 - 1/a)) - Piecewise((v_i*(log(x_i)/3 + 2/(3*x_i)) - oo*sign(v_i), Eq(a, 1/3)), (-v_i*log(x_i)/2 - oo*sign(v_i), Eq(a, 1/2)), (v_i*(-4*a**3*x_i**2*x_i**(1/a)*x_i**(1 - 1/a)/(6*a**2*x_i**(1/a) - 5*a*x_i**(1/a) + x_i**(1/a)) + 3*a**3*x_i**2/(6*a**2*x_i**(1/a) - 5*a*x_i**(1/a) + x_i**(1/a)) + 4*a**2*x_i**2*x_i**(1/a)*x_i**(1 - 1/a)/(6*a**2*x_i**(1/a) - 5*a*x_i**(1/a) + x_i**(1/a)) - 4*a**2*x_i**2/(6*a**2*x_i**(1/a) - 5*a*x_i**(1/a) + x_i**(1/a)) - a*x_i**2*x_i**(1/a)*x_i**(1 - 1/a)/(6*a**2*x_i**(1/a) - 5*a*x_i**(1/a) + x_i**(1/a)) + a*x_i**2/(6*a**2*x_i**(1/a) - 5*a*x_i**(1/a) + x_i**(1/a))), True))"
      ]
     },
     "execution_count": 9,
     "metadata": {},
     "output_type": "execute_result"
    }
   ],
   "source": [
    "uhat.evalf(subs={a:1/2+0.1})\n",
    "uhat"
   ]
  },
  {
   "cell_type": "code",
   "execution_count": 10,
   "metadata": {},
   "outputs": [
    {
     "data": {
      "text/latex": [
       "$\\displaystyle v_{i} x_{i} \\left(1.0 - 0.5 x_{i}\\right)$"
      ],
      "text/plain": [
       "v_i*x_i*(1.0 - 0.5*x_i)"
      ]
     },
     "execution_count": 10,
     "metadata": {},
     "output_type": "execute_result"
    }
   ],
   "source": [
    "sp.simplify(uhat.evalf(subs={a:1}))"
   ]
  },
  {
   "cell_type": "code",
   "execution_count": 11,
   "metadata": {},
   "outputs": [
    {
     "data": {
      "text/latex": [
       "$\\displaystyle v_{i} \\left(1.33333333333333 x_{i}^{0.5} - 0.444444444444445 x_{i}^{1.5}\\right)$"
      ],
      "text/plain": [
       "v_i*(1.33333333333333*x_i**0.5 - 0.444444444444445*x_i**1.5)"
      ]
     },
     "execution_count": 11,
     "metadata": {},
     "output_type": "execute_result"
    }
   ],
   "source": [
    "sp.simplify(uhat.evalf(subs={a:2/3}))"
   ]
  },
  {
   "cell_type": "code",
   "execution_count": 166,
   "metadata": {},
   "outputs": [
    {
     "name": "stdout",
     "output_type": "stream",
     "text": [
      "2.66666666666667 x_{i}^{0.5} - 0.88888888888889 x_{i}^{1.5}\n"
     ]
    }
   ],
   "source": [
    "print_latex(sp.simplify(uhat.evalf(subs={a:2/3, vi:2})))"
   ]
  },
  {
   "cell_type": "code",
   "execution_count": 172,
   "metadata": {},
   "outputs": [
    {
     "data": {
      "text/latex": [
       "$\\displaystyle 8.0 x_{i}^{0.5} - 2.66666666666667 x_{i}^{1.5}$"
      ],
      "text/plain": [
       "8.0*x_i**0.5 - 2.66666666666667*x_i**1.5"
      ]
     },
     "execution_count": 172,
     "metadata": {},
     "output_type": "execute_result"
    }
   ],
   "source": [
    "sp.simplify(uhat.evalf(subs={a:2/3, vi:4})+uhat.evalf(subs={a:2/3, vi:2}))"
   ]
  },
  {
   "cell_type": "code",
   "execution_count": 167,
   "metadata": {},
   "outputs": [
    {
     "data": {
      "text/plain": [
       "2.6666666666666665"
      ]
     },
     "execution_count": 167,
     "metadata": {},
     "output_type": "execute_result"
    }
   ],
   "source": [
    "8/3"
   ]
  },
  {
   "cell_type": "code",
   "execution_count": 146,
   "metadata": {},
   "outputs": [
    {
     "data": {
      "text/latex": [
       "$\\displaystyle - b_{1} + \\frac{b_{1}^{a} v_{1}}{b_{1}^{a} + b_{2}^{a}}$"
      ],
      "text/plain": [
       "-b_1 + b_1**a*v_1/(b_1**a + b_2**a)"
      ]
     },
     "execution_count": 146,
     "metadata": {},
     "output_type": "execute_result"
    }
   ],
   "source": [
    "# verify sol'n with standard FOC\n",
    "v1, v2 = sp.symbols('v_1 v_2')\n",
    "b1, b2 = sp.symbols('b_1 b_2')\n",
    "a      = sp.symbols('a')\n",
    "\n",
    "u1 = v1*b1**a / (b1**a + b2**a) - b1\n",
    "u2 = v2*b2**a / (b1**a + b2**a) - b2\n",
    "u1"
   ]
  },
  {
   "cell_type": "code",
   "execution_count": 158,
   "metadata": {},
   "outputs": [
    {
     "data": {
      "text/latex": [
       "$\\displaystyle \\frac{4.0 b_{1}^{0.666666666666667}}{b_{1}^{0.666666666666667} + b_{2}^{0.666666666666667}} - b_{1}$"
      ],
      "text/plain": [
       "4.0*b_1**0.666666666666667/(b_1**0.666666666666667 + b_2**0.666666666666667) - b_1"
      ]
     },
     "execution_count": 158,
     "metadata": {},
     "output_type": "execute_result"
    }
   ],
   "source": [
    "u1.evalf(subs={a:2/3, v1:4})"
   ]
  },
  {
   "cell_type": "code",
   "execution_count": 174,
   "metadata": {},
   "outputs": [
    {
     "data": {
      "text/latex": [
       "$\\displaystyle - \\frac{4.0 b_{1}}{\\left(b_{1} + b_{2}\\right)^{2}} - 1 + \\frac{4.0}{b_{1} + b_{2}}$"
      ],
      "text/plain": [
       "-4.0*b_1/(b_1 + b_2)**2 - 1 + 4.0/(b_1 + b_2)"
      ]
     },
     "execution_count": 174,
     "metadata": {},
     "output_type": "execute_result"
    }
   ],
   "source": [
    "sp.diff(u1.evalf(subs={a:1, v1:4}), b1)"
   ]
  },
  {
   "cell_type": "code",
   "execution_count": 179,
   "metadata": {},
   "outputs": [
    {
     "data": {
      "text/latex": [
       "$\\displaystyle \\frac{0.666666666666667 b_{2}^{0.666666666666667} v_{1}}{b_{1}^{0.333333333333333} \\left(b_{1}^{0.666666666666667} + b_{2}^{0.666666666666667}\\right)^{2}} - 1 = 0$"
      ],
      "text/plain": [
       "Eq(0.666666666666667*b_2**0.666666666666667*v_1/(b_1**0.333333333333333*(b_1**0.666666666666667 + b_2**0.666666666666667)**2) - 1, 0)"
      ]
     },
     "execution_count": 179,
     "metadata": {},
     "output_type": "execute_result"
    }
   ],
   "source": [
    "foc1 = sp.simplify(sp.Eq(sp.diff(u1.evalf(subs={a:2/3}), b1), 0))\n",
    "foc2 = sp.simplify(sp.Eq(sp.diff(u2.evalf(subs={a:2/3}), b2), 0))\n",
    "foc1"
   ]
  },
  {
   "cell_type": "code",
   "execution_count": 180,
   "metadata": {},
   "outputs": [
    {
     "data": {
      "text/latex": [
       "$\\displaystyle \\frac{0.666666666666667 b_{1}^{0.666666666666667} v_{2}}{b_{2}^{0.333333333333333} \\left(b_{1}^{0.666666666666667} + b_{2}^{0.666666666666667}\\right)^{2}} - 1 = 0$"
      ],
      "text/plain": [
       "Eq(0.666666666666667*b_1**0.666666666666667*v_2/(b_2**0.333333333333333*(b_1**0.666666666666667 + b_2**0.666666666666667)**2) - 1, 0)"
      ]
     },
     "execution_count": 180,
     "metadata": {},
     "output_type": "execute_result"
    }
   ],
   "source": [
    "foc2"
   ]
  },
  {
   "cell_type": "code",
   "execution_count": 181,
   "metadata": {},
   "outputs": [
    {
     "data": {
      "text/plain": [
       "[]"
      ]
     },
     "execution_count": 181,
     "metadata": {},
     "output_type": "execute_result"
    }
   ],
   "source": [
    "sol = sp.solve((foc1, foc2), (b1, b2), dict=True)\n",
    "sol"
   ]
  },
  {
   "cell_type": "code",
   "execution_count": null,
   "metadata": {},
   "outputs": [],
   "source": []
  },
  {
   "cell_type": "code",
   "execution_count": null,
   "metadata": {},
   "outputs": [],
   "source": []
  },
  {
   "cell_type": "code",
   "execution_count": null,
   "metadata": {},
   "outputs": [],
   "source": []
  },
  {
   "cell_type": "code",
   "execution_count": 3,
   "metadata": {},
   "outputs": [],
   "source": [
    "# alpha = 1\n",
    "# best response formulation\n",
    "vi = sp.symbols('v_i')\n",
    "bi = sp.symbols('b_i')\n",
    "o  = sp.symbols('o')\n",
    "\n",
    "qi = vi*bi/(bi+o) - bi"
   ]
  },
  {
   "cell_type": "code",
   "execution_count": 4,
   "metadata": {},
   "outputs": [
    {
     "data": {
      "text/latex": [
       "$\\displaystyle \\frac{b_{i} v_{i}}{b_{i} + o} - b_{i}$"
      ],
      "text/plain": [
       "b_i*v_i/(b_i + o) - b_i"
      ]
     },
     "execution_count": 4,
     "metadata": {},
     "output_type": "execute_result"
    }
   ],
   "source": [
    "qi"
   ]
  },
  {
   "cell_type": "code",
   "execution_count": 39,
   "metadata": {},
   "outputs": [
    {
     "data": {
      "text/latex": [
       "$\\displaystyle \\frac{o v_{i}}{\\left(b_{i} + o\\right)^{2}} - 1$"
      ],
      "text/plain": [
       "o*v_i/(b_i + o)**2 - 1"
      ]
     },
     "execution_count": 39,
     "metadata": {},
     "output_type": "execute_result"
    }
   ],
   "source": [
    "sp.diff(qi, bi)"
   ]
  },
  {
   "cell_type": "code",
   "execution_count": 48,
   "metadata": {},
   "outputs": [],
   "source": [
    "# alpha != 1\n",
    "# best response formulation\n",
    "vi = sp.symbols('v_i')\n",
    "bi = sp.symbols('b_i')\n",
    "o  = sp.symbols('o')\n",
    "a  = sp.symbols('alpha')\n",
    "\n",
    "qi = vi*bi**a/(bi**a+o) - bi"
   ]
  },
  {
   "cell_type": "code",
   "execution_count": 49,
   "metadata": {},
   "outputs": [
    {
     "name": "stdout",
     "output_type": "stream",
     "text": [
      "- b_{i} + \\frac{b_{i}^{\\alpha} v_{i}}{b_{i}^{\\alpha} + o}\n"
     ]
    },
    {
     "data": {
      "text/latex": [
       "$\\displaystyle - b_{i} + \\frac{b_{i}^{\\alpha} v_{i}}{b_{i}^{\\alpha} + o}$"
      ],
      "text/plain": [
       "-b_i + b_i**alpha*v_i/(b_i**alpha + o)"
      ]
     },
     "execution_count": 49,
     "metadata": {},
     "output_type": "execute_result"
    }
   ],
   "source": [
    "sp.print_latex(qi)\n",
    "qi"
   ]
  },
  {
   "cell_type": "code",
   "execution_count": 50,
   "metadata": {},
   "outputs": [
    {
     "name": "stdout",
     "output_type": "stream",
     "text": [
      "- \\frac{\\alpha b_{i}^{2 \\alpha} v_{i}}{b_{i} \\left(b_{i}^{\\alpha} + o\\right)^{2}} + \\frac{\\alpha b_{i}^{\\alpha} v_{i}}{b_{i} \\left(b_{i}^{\\alpha} + o\\right)} - 1\n"
     ]
    },
    {
     "data": {
      "text/latex": [
       "$\\displaystyle - \\frac{\\alpha b_{i}^{2 \\alpha} v_{i}}{b_{i} \\left(b_{i}^{\\alpha} + o\\right)^{2}} + \\frac{\\alpha b_{i}^{\\alpha} v_{i}}{b_{i} \\left(b_{i}^{\\alpha} + o\\right)} - 1$"
      ],
      "text/plain": [
       "-alpha*b_i**(2*alpha)*v_i/(b_i*(b_i**alpha + o)**2) + alpha*b_i**alpha*v_i/(b_i*(b_i**alpha + o)) - 1"
      ]
     },
     "execution_count": 50,
     "metadata": {},
     "output_type": "execute_result"
    }
   ],
   "source": [
    "sp.print_latex(sp.diff(qi, bi))\n",
    "sp.diff(qi, bi)"
   ]
  },
  {
   "cell_type": "code",
   "execution_count": null,
   "metadata": {},
   "outputs": [],
   "source": [
    "vi = sp.symbols('v_i')\n",
    "bi = sp.symbols('b_i')\n",
    "o  = sp.symbols('o')\n",
    "a  = sp.symbols('alpha')\n",
    "\n",
    "qi = vi*bi**a/(bi**a+o) - bi"
   ]
  },
  {
   "cell_type": "code",
   "execution_count": 112,
   "metadata": {},
   "outputs": [
    {
     "data": {
      "text/latex": [
       "$\\displaystyle - 2 \\alpha x_{i}^{1 - \\frac{1}{\\alpha}} + \\alpha x_{i}^{- \\frac{1}{\\alpha}} + x_{i}^{1 - \\frac{1}{\\alpha}} - x_{i}^{- \\frac{1}{\\alpha}}$"
      ],
      "text/plain": [
       "-2*alpha*x_i**(1 - 1/alpha) + alpha/x_i**(1/alpha) + x_i**(1 - 1/alpha) - 1/x_i**(1/alpha)"
      ]
     },
     "execution_count": 112,
     "metadata": {},
     "output_type": "execute_result"
    }
   ],
   "source": [
    "sp.expand((a-1)*xi**(-1/a) - (2*a-1)*xi**(1-1/a))"
   ]
  },
  {
   "cell_type": "code",
   "execution_count": 109,
   "metadata": {},
   "outputs": [
    {
     "data": {
      "text/latex": [
       "$\\displaystyle - \\frac{2 \\alpha x_{i}^{1 - \\frac{1}{\\alpha}} \\left(1 - \\frac{1}{\\alpha}\\right)}{x_{i}} + \\frac{x_{i}^{1 - \\frac{1}{\\alpha}} \\left(1 - \\frac{1}{\\alpha}\\right)}{x_{i}} - \\frac{x_{i}^{- \\frac{1}{\\alpha}}}{x_{i}} + \\frac{x_{i}^{- \\frac{1}{\\alpha}}}{\\alpha x_{i}}$"
      ],
      "text/plain": [
       "-2*alpha*x_i**(1 - 1/alpha)*(1 - 1/alpha)/x_i + x_i**(1 - 1/alpha)*(1 - 1/alpha)/x_i - 1/(x_i*x_i**(1/alpha)) + 1/(alpha*x_i*x_i**(1/alpha))"
      ]
     },
     "execution_count": 109,
     "metadata": {},
     "output_type": "execute_result"
    }
   ],
   "source": [
    "sp.diff(sp.expand((a-1)*xi**(-1/a) - (2*a-1)*xi**(1-1/a)), xi)"
   ]
  },
  {
   "cell_type": "code",
   "execution_count": 94,
   "metadata": {},
   "outputs": [
    {
     "name": "stdout",
     "output_type": "stream",
     "text": [
      "\\frac{x_{i}^{1 - \\frac{1}{\\alpha}} \\left(1 - \\frac{1}{\\alpha}\\right)}{x_{i}} - \\frac{x_{i}^{2 - \\frac{1}{\\alpha}} \\left(2 - \\frac{1}{\\alpha}\\right)}{x_{i}}\n"
     ]
    },
    {
     "data": {
      "text/latex": [
       "$\\displaystyle \\frac{\\alpha x_{i}^{1 - \\frac{1}{\\alpha}} \\left(1 - \\frac{1}{\\alpha}\\right)}{x_{i}} - \\frac{\\alpha x_{i}^{2 - \\frac{1}{\\alpha}} \\left(2 - \\frac{1}{\\alpha}\\right)}{x_{i}}$"
      ],
      "text/plain": [
       "alpha*x_i**(1 - 1/alpha)*(1 - 1/alpha)/x_i - alpha*x_i**(2 - 1/alpha)*(2 - 1/alpha)/x_i"
      ]
     },
     "execution_count": 94,
     "metadata": {},
     "output_type": "execute_result"
    }
   ],
   "source": [
    "print_latex(sp.diff(xi**(1-1/a)-xi**(2-1/a),xi))\n",
    "sp.diff(a*xi**(1-1/a)-a*xi**(2-1/a),xi)"
   ]
  },
  {
   "cell_type": "code",
   "execution_count": 96,
   "metadata": {},
   "outputs": [
    {
     "data": {
      "text/latex": [
       "$\\displaystyle \\alpha \\left(\\begin{cases} \\frac{x_{i}^{2 - \\frac{1}{\\alpha}}}{2 - \\frac{1}{\\alpha}} & \\text{for}\\: \\frac{1}{\\alpha} \\neq 2 \\\\\\log{\\left(x_{i} \\right)} & \\text{otherwise} \\end{cases}\\right) - \\alpha \\left(\\begin{cases} \\frac{x_{i}^{3 - \\frac{1}{\\alpha}}}{3 - \\frac{1}{\\alpha}} & \\text{for}\\: \\frac{1}{\\alpha} \\neq 3 \\\\\\log{\\left(x_{i} \\right)} & \\text{otherwise} \\end{cases}\\right)$"
      ],
      "text/plain": [
       "alpha*Piecewise((x_i**(2 - 1/alpha)/(2 - 1/alpha), Ne(1/alpha, 2)), (log(x_i), True)) - alpha*Piecewise((x_i**(3 - 1/alpha)/(3 - 1/alpha), Ne(1/alpha, 3)), (log(x_i), True))"
      ]
     },
     "execution_count": 96,
     "metadata": {},
     "output_type": "execute_result"
    }
   ],
   "source": [
    "sp.integrate(a*xi**(1-1/a)-a*xi**(2-1/a), xi)"
   ]
  },
  {
   "cell_type": "code",
   "execution_count": 81,
   "metadata": {},
   "outputs": [
    {
     "data": {
      "text/latex": [
       "$\\displaystyle - x_{i}^{1 - \\frac{1}{\\alpha}} + \\frac{x_{i}^{1 - \\frac{1}{\\alpha}} \\left(1 - \\frac{1}{\\alpha}\\right) \\left(1 - x_{i}\\right)}{x_{i}}$"
      ],
      "text/plain": [
       "-x_i**(1 - 1/alpha) + x_i**(1 - 1/alpha)*(1 - 1/alpha)*(1 - x_i)/x_i"
      ]
     },
     "execution_count": 81,
     "metadata": {},
     "output_type": "execute_result"
    }
   ],
   "source": [
    "xi, a = sp.symbols('x_i alpha')\n",
    "u     = sp.Function(x1)\n",
    "sp.diff(xi**(1-1/a)*(1-xi), xi)"
   ]
  },
  {
   "cell_type": "code",
   "execution_count": null,
   "metadata": {},
   "outputs": [],
   "source": []
  },
  {
   "cell_type": "markdown",
   "metadata": {},
   "source": [
    "# Solving tullock as optimization problem with alpha=1 using potentials"
   ]
  },
  {
   "cell_type": "code",
   "execution_count": null,
   "metadata": {},
   "outputs": [],
   "source": [
    "# max sum_i v_i*x_i (1-x_i/2). subj to. sum_i x_i = 1, x_i >= 0"
   ]
  },
  {
   "cell_type": "code",
   "execution_count": 20,
   "metadata": {},
   "outputs": [
    {
     "data": {
      "text/plain": [
       "Expression(UNKNOWN, UNKNOWN, ())"
      ]
     },
     "execution_count": 20,
     "metadata": {},
     "output_type": "execute_result"
    }
   ],
   "source": [
    "p1+p2"
   ]
  },
  {
   "cell_type": "code",
   "execution_count": 25,
   "metadata": {},
   "outputs": [
    {
     "ename": "DCPError",
     "evalue": "Problem does not follow DCP rules. Specifically:\nThe objective is not DCP. Its following subexpressions are not:\n4.0 @ var371 @ (1.0 + -var371 / 2.0)\n2.0 @ var372 @ (1.0 + -var372 / 2.0)",
     "output_type": "error",
     "traceback": [
      "\u001b[0;31m---------------------------------------------------------------------------\u001b[0m",
      "\u001b[0;31mDCPError\u001b[0m                                  Traceback (most recent call last)",
      "\u001b[0;32m<ipython-input-25-0d9b69507437>\u001b[0m in \u001b[0;36m<module>\u001b[0;34m\u001b[0m\n\u001b[1;32m      6\u001b[0m \u001b[0mconstraints\u001b[0m \u001b[0;34m=\u001b[0m \u001b[0;34m[\u001b[0m\u001b[0mx1\u001b[0m\u001b[0;34m+\u001b[0m\u001b[0mx2\u001b[0m\u001b[0;34m==\u001b[0m\u001b[0;36m1\u001b[0m\u001b[0;34m,\u001b[0m \u001b[0mx1\u001b[0m\u001b[0;34m>=\u001b[0m\u001b[0;36m0\u001b[0m\u001b[0;34m,\u001b[0m \u001b[0mx2\u001b[0m\u001b[0;34m>=\u001b[0m\u001b[0;36m0\u001b[0m\u001b[0;34m]\u001b[0m\u001b[0;34m\u001b[0m\u001b[0;34m\u001b[0m\u001b[0m\n\u001b[1;32m      7\u001b[0m \u001b[0mprob\u001b[0m \u001b[0;34m=\u001b[0m \u001b[0mcp\u001b[0m\u001b[0;34m.\u001b[0m\u001b[0mProblem\u001b[0m\u001b[0;34m(\u001b[0m\u001b[0mobjective\u001b[0m\u001b[0;34m,\u001b[0m \u001b[0mconstraints\u001b[0m\u001b[0;34m)\u001b[0m\u001b[0;34m\u001b[0m\u001b[0;34m\u001b[0m\u001b[0m\n\u001b[0;32m----> 8\u001b[0;31m \u001b[0mprob\u001b[0m\u001b[0;34m.\u001b[0m\u001b[0msolve\u001b[0m\u001b[0;34m(\u001b[0m\u001b[0;34m)\u001b[0m\u001b[0;34m\u001b[0m\u001b[0;34m\u001b[0m\u001b[0m\n\u001b[0m",
      "\u001b[0;32m/usr/local/lib/python3.8/site-packages/cvxpy/problems/problem.py\u001b[0m in \u001b[0;36msolve\u001b[0;34m(self, *args, **kwargs)\u001b[0m\n\u001b[1;32m    501\u001b[0m         \u001b[0;32melse\u001b[0m\u001b[0;34m:\u001b[0m\u001b[0;34m\u001b[0m\u001b[0;34m\u001b[0m\u001b[0m\n\u001b[1;32m    502\u001b[0m             \u001b[0msolve_func\u001b[0m \u001b[0;34m=\u001b[0m \u001b[0mProblem\u001b[0m\u001b[0;34m.\u001b[0m\u001b[0m_solve\u001b[0m\u001b[0;34m\u001b[0m\u001b[0;34m\u001b[0m\u001b[0m\n\u001b[0;32m--> 503\u001b[0;31m         \u001b[0;32mreturn\u001b[0m \u001b[0msolve_func\u001b[0m\u001b[0;34m(\u001b[0m\u001b[0mself\u001b[0m\u001b[0;34m,\u001b[0m \u001b[0;34m*\u001b[0m\u001b[0margs\u001b[0m\u001b[0;34m,\u001b[0m \u001b[0;34m**\u001b[0m\u001b[0mkwargs\u001b[0m\u001b[0;34m)\u001b[0m\u001b[0;34m\u001b[0m\u001b[0;34m\u001b[0m\u001b[0m\n\u001b[0m\u001b[1;32m    504\u001b[0m \u001b[0;34m\u001b[0m\u001b[0m\n\u001b[1;32m    505\u001b[0m     \u001b[0;34m@\u001b[0m\u001b[0mclassmethod\u001b[0m\u001b[0;34m\u001b[0m\u001b[0;34m\u001b[0m\u001b[0m\n",
      "\u001b[0;32m/usr/local/lib/python3.8/site-packages/cvxpy/problems/problem.py\u001b[0m in \u001b[0;36m_solve\u001b[0;34m(self, solver, warm_start, verbose, gp, qcp, requires_grad, enforce_dpp, ignore_dpp, canon_backend, **kwargs)\u001b[0m\n\u001b[1;32m   1071\u001b[0m                 \u001b[0;32mreturn\u001b[0m \u001b[0mself\u001b[0m\u001b[0;34m.\u001b[0m\u001b[0mvalue\u001b[0m\u001b[0;34m\u001b[0m\u001b[0;34m\u001b[0m\u001b[0m\n\u001b[1;32m   1072\u001b[0m \u001b[0;34m\u001b[0m\u001b[0m\n\u001b[0;32m-> 1073\u001b[0;31m         data, solving_chain, inverse_data = self.get_problem_data(\n\u001b[0m\u001b[1;32m   1074\u001b[0m             \u001b[0msolver\u001b[0m\u001b[0;34m,\u001b[0m \u001b[0mgp\u001b[0m\u001b[0;34m,\u001b[0m \u001b[0menforce_dpp\u001b[0m\u001b[0;34m,\u001b[0m \u001b[0mignore_dpp\u001b[0m\u001b[0;34m,\u001b[0m \u001b[0mverbose\u001b[0m\u001b[0;34m,\u001b[0m \u001b[0mcanon_backend\u001b[0m\u001b[0;34m,\u001b[0m \u001b[0mkwargs\u001b[0m\u001b[0;34m\u001b[0m\u001b[0;34m\u001b[0m\u001b[0m\n\u001b[1;32m   1075\u001b[0m         )\n",
      "\u001b[0;32m/usr/local/lib/python3.8/site-packages/cvxpy/problems/problem.py\u001b[0m in \u001b[0;36mget_problem_data\u001b[0;34m(self, solver, gp, enforce_dpp, ignore_dpp, verbose, canon_backend, solver_opts)\u001b[0m\n\u001b[1;32m    644\u001b[0m         \u001b[0;32mif\u001b[0m \u001b[0mkey\u001b[0m \u001b[0;34m!=\u001b[0m \u001b[0mself\u001b[0m\u001b[0;34m.\u001b[0m\u001b[0m_cache\u001b[0m\u001b[0;34m.\u001b[0m\u001b[0mkey\u001b[0m\u001b[0;34m:\u001b[0m\u001b[0;34m\u001b[0m\u001b[0;34m\u001b[0m\u001b[0m\n\u001b[1;32m    645\u001b[0m             \u001b[0mself\u001b[0m\u001b[0;34m.\u001b[0m\u001b[0m_cache\u001b[0m\u001b[0;34m.\u001b[0m\u001b[0minvalidate\u001b[0m\u001b[0;34m(\u001b[0m\u001b[0;34m)\u001b[0m\u001b[0;34m\u001b[0m\u001b[0;34m\u001b[0m\u001b[0m\n\u001b[0;32m--> 646\u001b[0;31m             solving_chain = self._construct_chain(\n\u001b[0m\u001b[1;32m    647\u001b[0m                 \u001b[0msolver\u001b[0m\u001b[0;34m=\u001b[0m\u001b[0msolver\u001b[0m\u001b[0;34m,\u001b[0m \u001b[0mgp\u001b[0m\u001b[0;34m=\u001b[0m\u001b[0mgp\u001b[0m\u001b[0;34m,\u001b[0m\u001b[0;34m\u001b[0m\u001b[0;34m\u001b[0m\u001b[0m\n\u001b[1;32m    648\u001b[0m                 \u001b[0menforce_dpp\u001b[0m\u001b[0;34m=\u001b[0m\u001b[0menforce_dpp\u001b[0m\u001b[0;34m,\u001b[0m\u001b[0;34m\u001b[0m\u001b[0;34m\u001b[0m\u001b[0m\n",
      "\u001b[0;32m/usr/local/lib/python3.8/site-packages/cvxpy/problems/problem.py\u001b[0m in \u001b[0;36m_construct_chain\u001b[0;34m(self, solver, gp, enforce_dpp, ignore_dpp, canon_backend, solver_opts)\u001b[0m\n\u001b[1;32m    896\u001b[0m         \u001b[0mcandidate_solvers\u001b[0m \u001b[0;34m=\u001b[0m \u001b[0mself\u001b[0m\u001b[0;34m.\u001b[0m\u001b[0m_find_candidate_solvers\u001b[0m\u001b[0;34m(\u001b[0m\u001b[0msolver\u001b[0m\u001b[0;34m=\u001b[0m\u001b[0msolver\u001b[0m\u001b[0;34m,\u001b[0m \u001b[0mgp\u001b[0m\u001b[0;34m=\u001b[0m\u001b[0mgp\u001b[0m\u001b[0;34m)\u001b[0m\u001b[0;34m\u001b[0m\u001b[0;34m\u001b[0m\u001b[0m\n\u001b[1;32m    897\u001b[0m         \u001b[0mself\u001b[0m\u001b[0;34m.\u001b[0m\u001b[0m_sort_candidate_solvers\u001b[0m\u001b[0;34m(\u001b[0m\u001b[0mcandidate_solvers\u001b[0m\u001b[0;34m)\u001b[0m\u001b[0;34m\u001b[0m\u001b[0;34m\u001b[0m\u001b[0m\n\u001b[0;32m--> 898\u001b[0;31m         return construct_solving_chain(self, candidate_solvers, gp=gp,\n\u001b[0m\u001b[1;32m    899\u001b[0m                                        \u001b[0menforce_dpp\u001b[0m\u001b[0;34m=\u001b[0m\u001b[0menforce_dpp\u001b[0m\u001b[0;34m,\u001b[0m\u001b[0;34m\u001b[0m\u001b[0;34m\u001b[0m\u001b[0m\n\u001b[1;32m    900\u001b[0m                                        \u001b[0mignore_dpp\u001b[0m\u001b[0;34m=\u001b[0m\u001b[0mignore_dpp\u001b[0m\u001b[0;34m,\u001b[0m\u001b[0;34m\u001b[0m\u001b[0;34m\u001b[0m\u001b[0m\n",
      "\u001b[0;32m/usr/local/lib/python3.8/site-packages/cvxpy/reductions/solvers/solving_chain.py\u001b[0m in \u001b[0;36mconstruct_solving_chain\u001b[0;34m(problem, candidates, gp, enforce_dpp, ignore_dpp, canon_backend, solver_opts, specified_solver)\u001b[0m\n\u001b[1;32m    224\u001b[0m     \u001b[0;32mif\u001b[0m \u001b[0mlen\u001b[0m\u001b[0;34m(\u001b[0m\u001b[0mproblem\u001b[0m\u001b[0;34m.\u001b[0m\u001b[0mvariables\u001b[0m\u001b[0;34m(\u001b[0m\u001b[0;34m)\u001b[0m\u001b[0;34m)\u001b[0m \u001b[0;34m==\u001b[0m \u001b[0;36m0\u001b[0m\u001b[0;34m:\u001b[0m\u001b[0;34m\u001b[0m\u001b[0;34m\u001b[0m\u001b[0m\n\u001b[1;32m    225\u001b[0m         \u001b[0;32mreturn\u001b[0m \u001b[0mSolvingChain\u001b[0m\u001b[0;34m(\u001b[0m\u001b[0mreductions\u001b[0m\u001b[0;34m=\u001b[0m\u001b[0;34m[\u001b[0m\u001b[0mConstantSolver\u001b[0m\u001b[0;34m(\u001b[0m\u001b[0;34m)\u001b[0m\u001b[0;34m]\u001b[0m\u001b[0;34m)\u001b[0m\u001b[0;34m\u001b[0m\u001b[0;34m\u001b[0m\u001b[0m\n\u001b[0;32m--> 226\u001b[0;31m     \u001b[0mreductions\u001b[0m \u001b[0;34m=\u001b[0m \u001b[0m_reductions_for_problem_class\u001b[0m\u001b[0;34m(\u001b[0m\u001b[0mproblem\u001b[0m\u001b[0;34m,\u001b[0m \u001b[0mcandidates\u001b[0m\u001b[0;34m,\u001b[0m \u001b[0mgp\u001b[0m\u001b[0;34m,\u001b[0m \u001b[0msolver_opts\u001b[0m\u001b[0;34m)\u001b[0m\u001b[0;34m\u001b[0m\u001b[0;34m\u001b[0m\u001b[0m\n\u001b[0m\u001b[1;32m    227\u001b[0m \u001b[0;34m\u001b[0m\u001b[0m\n\u001b[1;32m    228\u001b[0m     \u001b[0;31m# Process DPP status of the problem.\u001b[0m\u001b[0;34m\u001b[0m\u001b[0;34m\u001b[0m\u001b[0;34m\u001b[0m\u001b[0m\n",
      "\u001b[0;32m/usr/local/lib/python3.8/site-packages/cvxpy/reductions/solvers/solving_chain.py\u001b[0m in \u001b[0;36m_reductions_for_problem_class\u001b[0;34m(problem, candidates, gp, solver_opts)\u001b[0m\n\u001b[1;32m    139\u001b[0m             append += (\"\\nHowever, the problem does follow DQCP rules. \"\n\u001b[1;32m    140\u001b[0m                        \"Consider calling solve() with `qcp=True`.\")\n\u001b[0;32m--> 141\u001b[0;31m         raise DCPError(\n\u001b[0m\u001b[1;32m    142\u001b[0m             \"Problem does not follow DCP rules. Specifically:\\n\" + append)\n\u001b[1;32m    143\u001b[0m     \u001b[0;32melif\u001b[0m \u001b[0mgp\u001b[0m \u001b[0;32mand\u001b[0m \u001b[0;32mnot\u001b[0m \u001b[0mproblem\u001b[0m\u001b[0;34m.\u001b[0m\u001b[0mis_dgp\u001b[0m\u001b[0;34m(\u001b[0m\u001b[0;34m)\u001b[0m\u001b[0;34m:\u001b[0m\u001b[0;34m\u001b[0m\u001b[0;34m\u001b[0m\u001b[0m\n",
      "\u001b[0;31mDCPError\u001b[0m: Problem does not follow DCP rules. Specifically:\nThe objective is not DCP. Its following subexpressions are not:\n4.0 @ var371 @ (1.0 + -var371 / 2.0)\n2.0 @ var372 @ (1.0 + -var372 / 2.0)"
     ]
    }
   ],
   "source": [
    "x1, x2 = cp.Variable(), cp.Variable()\n",
    "v1, v2 = 4, 2\n",
    "p1 = v1*x1 * (1 - x1/2)\n",
    "p2 = v2*x2 * (1 - x2/2)\n",
    "objective = cp.Maximize(p1+p2)\n",
    "constraints = [x1+x2==1, x1>=0, x2>=0]\n",
    "prob = cp.Problem(objective, constraints)\n",
    "prob.solve()"
   ]
  },
  {
   "cell_type": "code",
   "execution_count": 33,
   "metadata": {},
   "outputs": [
    {
     "ename": "DCPError",
     "evalue": "Problem does not follow DCP rules. Specifically:\nThe objective is not DCP. Its following subexpressions are not:\n4.0 @ var563 @ (1.0 + -var563 / 2.0)\n2.0 @ (1.0 + -var563) @ (1.0 + -(1.0 + -var563) / 2.0)",
     "output_type": "error",
     "traceback": [
      "\u001b[0;31m---------------------------------------------------------------------------\u001b[0m",
      "\u001b[0;31mDCPError\u001b[0m                                  Traceback (most recent call last)",
      "\u001b[0;32m<ipython-input-33-99cf94338dc0>\u001b[0m in \u001b[0;36m<module>\u001b[0;34m\u001b[0m\n\u001b[1;32m      6\u001b[0m \u001b[0mconstraints\u001b[0m \u001b[0;34m=\u001b[0m \u001b[0;34m[\u001b[0m\u001b[0mx1\u001b[0m \u001b[0;34m>=\u001b[0m \u001b[0;36m0\u001b[0m\u001b[0;34m]\u001b[0m\u001b[0;34m\u001b[0m\u001b[0;34m\u001b[0m\u001b[0m\n\u001b[1;32m      7\u001b[0m \u001b[0mprob\u001b[0m \u001b[0;34m=\u001b[0m \u001b[0mcp\u001b[0m\u001b[0;34m.\u001b[0m\u001b[0mProblem\u001b[0m\u001b[0;34m(\u001b[0m\u001b[0mobjective\u001b[0m\u001b[0;34m,\u001b[0m \u001b[0mconstraints\u001b[0m\u001b[0;34m)\u001b[0m\u001b[0;34m\u001b[0m\u001b[0;34m\u001b[0m\u001b[0m\n\u001b[0;32m----> 8\u001b[0;31m \u001b[0mprob\u001b[0m\u001b[0;34m.\u001b[0m\u001b[0msolve\u001b[0m\u001b[0;34m(\u001b[0m\u001b[0;34m)\u001b[0m\u001b[0;34m\u001b[0m\u001b[0;34m\u001b[0m\u001b[0m\n\u001b[0m\u001b[1;32m      9\u001b[0m \u001b[0;34m\u001b[0m\u001b[0m\n\u001b[1;32m     10\u001b[0m \u001b[0mprint\u001b[0m\u001b[0;34m(\u001b[0m\u001b[0;34m\"x1:\"\u001b[0m\u001b[0;34m,\u001b[0m \u001b[0mx1\u001b[0m\u001b[0;34m.\u001b[0m\u001b[0mvalue\u001b[0m\u001b[0;34m)\u001b[0m\u001b[0;34m\u001b[0m\u001b[0;34m\u001b[0m\u001b[0m\n",
      "\u001b[0;32m/usr/local/lib/python3.8/site-packages/cvxpy/problems/problem.py\u001b[0m in \u001b[0;36msolve\u001b[0;34m(self, *args, **kwargs)\u001b[0m\n\u001b[1;32m    501\u001b[0m         \u001b[0;32melse\u001b[0m\u001b[0;34m:\u001b[0m\u001b[0;34m\u001b[0m\u001b[0;34m\u001b[0m\u001b[0m\n\u001b[1;32m    502\u001b[0m             \u001b[0msolve_func\u001b[0m \u001b[0;34m=\u001b[0m \u001b[0mProblem\u001b[0m\u001b[0;34m.\u001b[0m\u001b[0m_solve\u001b[0m\u001b[0;34m\u001b[0m\u001b[0;34m\u001b[0m\u001b[0m\n\u001b[0;32m--> 503\u001b[0;31m         \u001b[0;32mreturn\u001b[0m \u001b[0msolve_func\u001b[0m\u001b[0;34m(\u001b[0m\u001b[0mself\u001b[0m\u001b[0;34m,\u001b[0m \u001b[0;34m*\u001b[0m\u001b[0margs\u001b[0m\u001b[0;34m,\u001b[0m \u001b[0;34m**\u001b[0m\u001b[0mkwargs\u001b[0m\u001b[0;34m)\u001b[0m\u001b[0;34m\u001b[0m\u001b[0;34m\u001b[0m\u001b[0m\n\u001b[0m\u001b[1;32m    504\u001b[0m \u001b[0;34m\u001b[0m\u001b[0m\n\u001b[1;32m    505\u001b[0m     \u001b[0;34m@\u001b[0m\u001b[0mclassmethod\u001b[0m\u001b[0;34m\u001b[0m\u001b[0;34m\u001b[0m\u001b[0m\n",
      "\u001b[0;32m/usr/local/lib/python3.8/site-packages/cvxpy/problems/problem.py\u001b[0m in \u001b[0;36m_solve\u001b[0;34m(self, solver, warm_start, verbose, gp, qcp, requires_grad, enforce_dpp, ignore_dpp, canon_backend, **kwargs)\u001b[0m\n\u001b[1;32m   1071\u001b[0m                 \u001b[0;32mreturn\u001b[0m \u001b[0mself\u001b[0m\u001b[0;34m.\u001b[0m\u001b[0mvalue\u001b[0m\u001b[0;34m\u001b[0m\u001b[0;34m\u001b[0m\u001b[0m\n\u001b[1;32m   1072\u001b[0m \u001b[0;34m\u001b[0m\u001b[0m\n\u001b[0;32m-> 1073\u001b[0;31m         data, solving_chain, inverse_data = self.get_problem_data(\n\u001b[0m\u001b[1;32m   1074\u001b[0m             \u001b[0msolver\u001b[0m\u001b[0;34m,\u001b[0m \u001b[0mgp\u001b[0m\u001b[0;34m,\u001b[0m \u001b[0menforce_dpp\u001b[0m\u001b[0;34m,\u001b[0m \u001b[0mignore_dpp\u001b[0m\u001b[0;34m,\u001b[0m \u001b[0mverbose\u001b[0m\u001b[0;34m,\u001b[0m \u001b[0mcanon_backend\u001b[0m\u001b[0;34m,\u001b[0m \u001b[0mkwargs\u001b[0m\u001b[0;34m\u001b[0m\u001b[0;34m\u001b[0m\u001b[0m\n\u001b[1;32m   1075\u001b[0m         )\n",
      "\u001b[0;32m/usr/local/lib/python3.8/site-packages/cvxpy/problems/problem.py\u001b[0m in \u001b[0;36mget_problem_data\u001b[0;34m(self, solver, gp, enforce_dpp, ignore_dpp, verbose, canon_backend, solver_opts)\u001b[0m\n\u001b[1;32m    644\u001b[0m         \u001b[0;32mif\u001b[0m \u001b[0mkey\u001b[0m \u001b[0;34m!=\u001b[0m \u001b[0mself\u001b[0m\u001b[0;34m.\u001b[0m\u001b[0m_cache\u001b[0m\u001b[0;34m.\u001b[0m\u001b[0mkey\u001b[0m\u001b[0;34m:\u001b[0m\u001b[0;34m\u001b[0m\u001b[0;34m\u001b[0m\u001b[0m\n\u001b[1;32m    645\u001b[0m             \u001b[0mself\u001b[0m\u001b[0;34m.\u001b[0m\u001b[0m_cache\u001b[0m\u001b[0;34m.\u001b[0m\u001b[0minvalidate\u001b[0m\u001b[0;34m(\u001b[0m\u001b[0;34m)\u001b[0m\u001b[0;34m\u001b[0m\u001b[0;34m\u001b[0m\u001b[0m\n\u001b[0;32m--> 646\u001b[0;31m             solving_chain = self._construct_chain(\n\u001b[0m\u001b[1;32m    647\u001b[0m                 \u001b[0msolver\u001b[0m\u001b[0;34m=\u001b[0m\u001b[0msolver\u001b[0m\u001b[0;34m,\u001b[0m \u001b[0mgp\u001b[0m\u001b[0;34m=\u001b[0m\u001b[0mgp\u001b[0m\u001b[0;34m,\u001b[0m\u001b[0;34m\u001b[0m\u001b[0;34m\u001b[0m\u001b[0m\n\u001b[1;32m    648\u001b[0m                 \u001b[0menforce_dpp\u001b[0m\u001b[0;34m=\u001b[0m\u001b[0menforce_dpp\u001b[0m\u001b[0;34m,\u001b[0m\u001b[0;34m\u001b[0m\u001b[0;34m\u001b[0m\u001b[0m\n",
      "\u001b[0;32m/usr/local/lib/python3.8/site-packages/cvxpy/problems/problem.py\u001b[0m in \u001b[0;36m_construct_chain\u001b[0;34m(self, solver, gp, enforce_dpp, ignore_dpp, canon_backend, solver_opts)\u001b[0m\n\u001b[1;32m    896\u001b[0m         \u001b[0mcandidate_solvers\u001b[0m \u001b[0;34m=\u001b[0m \u001b[0mself\u001b[0m\u001b[0;34m.\u001b[0m\u001b[0m_find_candidate_solvers\u001b[0m\u001b[0;34m(\u001b[0m\u001b[0msolver\u001b[0m\u001b[0;34m=\u001b[0m\u001b[0msolver\u001b[0m\u001b[0;34m,\u001b[0m \u001b[0mgp\u001b[0m\u001b[0;34m=\u001b[0m\u001b[0mgp\u001b[0m\u001b[0;34m)\u001b[0m\u001b[0;34m\u001b[0m\u001b[0;34m\u001b[0m\u001b[0m\n\u001b[1;32m    897\u001b[0m         \u001b[0mself\u001b[0m\u001b[0;34m.\u001b[0m\u001b[0m_sort_candidate_solvers\u001b[0m\u001b[0;34m(\u001b[0m\u001b[0mcandidate_solvers\u001b[0m\u001b[0;34m)\u001b[0m\u001b[0;34m\u001b[0m\u001b[0;34m\u001b[0m\u001b[0m\n\u001b[0;32m--> 898\u001b[0;31m         return construct_solving_chain(self, candidate_solvers, gp=gp,\n\u001b[0m\u001b[1;32m    899\u001b[0m                                        \u001b[0menforce_dpp\u001b[0m\u001b[0;34m=\u001b[0m\u001b[0menforce_dpp\u001b[0m\u001b[0;34m,\u001b[0m\u001b[0;34m\u001b[0m\u001b[0;34m\u001b[0m\u001b[0m\n\u001b[1;32m    900\u001b[0m                                        \u001b[0mignore_dpp\u001b[0m\u001b[0;34m=\u001b[0m\u001b[0mignore_dpp\u001b[0m\u001b[0;34m,\u001b[0m\u001b[0;34m\u001b[0m\u001b[0;34m\u001b[0m\u001b[0m\n",
      "\u001b[0;32m/usr/local/lib/python3.8/site-packages/cvxpy/reductions/solvers/solving_chain.py\u001b[0m in \u001b[0;36mconstruct_solving_chain\u001b[0;34m(problem, candidates, gp, enforce_dpp, ignore_dpp, canon_backend, solver_opts, specified_solver)\u001b[0m\n\u001b[1;32m    224\u001b[0m     \u001b[0;32mif\u001b[0m \u001b[0mlen\u001b[0m\u001b[0;34m(\u001b[0m\u001b[0mproblem\u001b[0m\u001b[0;34m.\u001b[0m\u001b[0mvariables\u001b[0m\u001b[0;34m(\u001b[0m\u001b[0;34m)\u001b[0m\u001b[0;34m)\u001b[0m \u001b[0;34m==\u001b[0m \u001b[0;36m0\u001b[0m\u001b[0;34m:\u001b[0m\u001b[0;34m\u001b[0m\u001b[0;34m\u001b[0m\u001b[0m\n\u001b[1;32m    225\u001b[0m         \u001b[0;32mreturn\u001b[0m \u001b[0mSolvingChain\u001b[0m\u001b[0;34m(\u001b[0m\u001b[0mreductions\u001b[0m\u001b[0;34m=\u001b[0m\u001b[0;34m[\u001b[0m\u001b[0mConstantSolver\u001b[0m\u001b[0;34m(\u001b[0m\u001b[0;34m)\u001b[0m\u001b[0;34m]\u001b[0m\u001b[0;34m)\u001b[0m\u001b[0;34m\u001b[0m\u001b[0;34m\u001b[0m\u001b[0m\n\u001b[0;32m--> 226\u001b[0;31m     \u001b[0mreductions\u001b[0m \u001b[0;34m=\u001b[0m \u001b[0m_reductions_for_problem_class\u001b[0m\u001b[0;34m(\u001b[0m\u001b[0mproblem\u001b[0m\u001b[0;34m,\u001b[0m \u001b[0mcandidates\u001b[0m\u001b[0;34m,\u001b[0m \u001b[0mgp\u001b[0m\u001b[0;34m,\u001b[0m \u001b[0msolver_opts\u001b[0m\u001b[0;34m)\u001b[0m\u001b[0;34m\u001b[0m\u001b[0;34m\u001b[0m\u001b[0m\n\u001b[0m\u001b[1;32m    227\u001b[0m \u001b[0;34m\u001b[0m\u001b[0m\n\u001b[1;32m    228\u001b[0m     \u001b[0;31m# Process DPP status of the problem.\u001b[0m\u001b[0;34m\u001b[0m\u001b[0;34m\u001b[0m\u001b[0;34m\u001b[0m\u001b[0m\n",
      "\u001b[0;32m/usr/local/lib/python3.8/site-packages/cvxpy/reductions/solvers/solving_chain.py\u001b[0m in \u001b[0;36m_reductions_for_problem_class\u001b[0;34m(problem, candidates, gp, solver_opts)\u001b[0m\n\u001b[1;32m    139\u001b[0m             append += (\"\\nHowever, the problem does follow DQCP rules. \"\n\u001b[1;32m    140\u001b[0m                        \"Consider calling solve() with `qcp=True`.\")\n\u001b[0;32m--> 141\u001b[0;31m         raise DCPError(\n\u001b[0m\u001b[1;32m    142\u001b[0m             \"Problem does not follow DCP rules. Specifically:\\n\" + append)\n\u001b[1;32m    143\u001b[0m     \u001b[0;32melif\u001b[0m \u001b[0mgp\u001b[0m \u001b[0;32mand\u001b[0m \u001b[0;32mnot\u001b[0m \u001b[0mproblem\u001b[0m\u001b[0;34m.\u001b[0m\u001b[0mis_dgp\u001b[0m\u001b[0;34m(\u001b[0m\u001b[0;34m)\u001b[0m\u001b[0;34m:\u001b[0m\u001b[0;34m\u001b[0m\u001b[0;34m\u001b[0m\u001b[0m\n",
      "\u001b[0;31mDCPError\u001b[0m: Problem does not follow DCP rules. Specifically:\nThe objective is not DCP. Its following subexpressions are not:\n4.0 @ var563 @ (1.0 + -var563 / 2.0)\n2.0 @ (1.0 + -var563) @ (1.0 + -(1.0 + -var563) / 2.0)"
     ]
    }
   ],
   "source": [
    "x1, x2 = cp.Variable(), cp.Variable()\n",
    "v1, v2 = 4, 2\n",
    "p1 = v1 * x1 * (1 - x1 / 2)\n",
    "p2 = v2 * (1-x1) * (1 - (1-x1) / 2)\n",
    "objective = cp.Minimize(-p1 - p2)  # Minimize the negative of the original objective\n",
    "constraints = [x1 >= 0]\n",
    "prob = cp.Problem(objective, constraints)\n",
    "prob.solve()\n",
    "\n",
    "print(\"x1:\", x1.value)\n",
    "print(\"x2:\", x2.value)\n",
    "print(\"Maximum Profit:\", p1.value + p2.value)"
   ]
  },
  {
   "cell_type": "code",
   "execution_count": 13,
   "metadata": {},
   "outputs": [
    {
     "ename": "NameError",
     "evalue": "name 'A' is not defined",
     "output_type": "error",
     "traceback": [
      "\u001b[0;31m---------------------------------------------------------------------------\u001b[0m",
      "\u001b[0;31mNameError\u001b[0m                                 Traceback (most recent call last)",
      "\u001b[0;32m<ipython-input-13-a3f534957d47>\u001b[0m in \u001b[0;36m<module>\u001b[0;34m\u001b[0m\n\u001b[1;32m      1\u001b[0m \u001b[0mx\u001b[0m \u001b[0;34m=\u001b[0m \u001b[0mcp\u001b[0m\u001b[0;34m.\u001b[0m\u001b[0mVariable\u001b[0m\u001b[0;34m(\u001b[0m\u001b[0;34m)\u001b[0m\u001b[0;34m\u001b[0m\u001b[0;34m\u001b[0m\u001b[0m\n\u001b[0;32m----> 2\u001b[0;31m \u001b[0mobjective\u001b[0m \u001b[0;34m=\u001b[0m \u001b[0mcp\u001b[0m\u001b[0;34m.\u001b[0m\u001b[0mMaximize\u001b[0m\u001b[0;34m(\u001b[0m\u001b[0mcp\u001b[0m\u001b[0;34m.\u001b[0m\u001b[0msum_squares\u001b[0m\u001b[0;34m(\u001b[0m\u001b[0mA\u001b[0m \u001b[0;34m@\u001b[0m \u001b[0mx\u001b[0m \u001b[0;34m-\u001b[0m \u001b[0mb\u001b[0m\u001b[0;34m)\u001b[0m\u001b[0;34m)\u001b[0m\u001b[0;34m\u001b[0m\u001b[0;34m\u001b[0m\u001b[0m\n\u001b[0m\u001b[1;32m      3\u001b[0m \u001b[0mconstraints\u001b[0m \u001b[0;34m=\u001b[0m \u001b[0;34m[\u001b[0m\u001b[0;36m0\u001b[0m \u001b[0;34m<=\u001b[0m \u001b[0mx\u001b[0m\u001b[0;34m,\u001b[0m \u001b[0mx\u001b[0m \u001b[0;34m<=\u001b[0m \u001b[0;36m1\u001b[0m\u001b[0;34m]\u001b[0m\u001b[0;34m\u001b[0m\u001b[0;34m\u001b[0m\u001b[0m\n\u001b[1;32m      4\u001b[0m \u001b[0mprob\u001b[0m \u001b[0;34m=\u001b[0m \u001b[0mcp\u001b[0m\u001b[0;34m.\u001b[0m\u001b[0mProblem\u001b[0m\u001b[0;34m(\u001b[0m\u001b[0mobjective\u001b[0m\u001b[0;34m,\u001b[0m \u001b[0mconstraints\u001b[0m\u001b[0;34m)\u001b[0m\u001b[0;34m\u001b[0m\u001b[0;34m\u001b[0m\u001b[0m\n",
      "\u001b[0;31mNameError\u001b[0m: name 'A' is not defined"
     ]
    }
   ],
   "source": [
    "x = cp.Variable()\n",
    "objective = cp.Maximize(cp.sum_squares(A @ x - b))\n",
    "constraints = [0 <= x, x <= 1]\n",
    "prob = cp.Problem(objective, constraints)"
   ]
  }
 ],
 "metadata": {
  "kernelspec": {
   "display_name": "Python 3",
   "language": "python",
   "name": "python3"
  },
  "language_info": {
   "codemirror_mode": {
    "name": "ipython",
    "version": 3
   },
   "file_extension": ".py",
   "mimetype": "text/x-python",
   "name": "python",
   "nbconvert_exporter": "python",
   "pygments_lexer": "ipython3",
   "version": "3.8.16"
  }
 },
 "nbformat": 4,
 "nbformat_minor": 4
}
